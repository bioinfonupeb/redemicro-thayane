{
 "cells": [
  {
   "cell_type": "code",
   "execution_count": 1,
   "id": "424cd8ed",
   "metadata": {
    "ExecuteTime": {
     "end_time": "2023-09-05T19:25:20.177626Z",
     "start_time": "2023-09-05T19:25:20.150339Z"
    }
   },
   "outputs": [],
   "source": [
    "import os\n",
    "from pathlib import Path\n",
    "import yaml"
   ]
  },
  {
   "cell_type": "code",
   "execution_count": 2,
   "id": "b4e8fd9c",
   "metadata": {
    "ExecuteTime": {
     "end_time": "2023-09-05T19:25:20.181656Z",
     "start_time": "2023-09-05T19:25:20.179129Z"
    }
   },
   "outputs": [],
   "source": [
    "overlap_values = list(range(4, 5))"
   ]
  },
  {
   "cell_type": "code",
   "execution_count": 3,
   "id": "924615eb",
   "metadata": {
    "ExecuteTime": {
     "end_time": "2023-09-05T19:25:20.194325Z",
     "start_time": "2023-09-05T19:25:20.183349Z"
    }
   },
   "outputs": [],
   "source": [
    "root_path = os.getcwd()\n",
    "param_folder = os.path.join(root_path, 'params')\n",
    "base_param_path = os.path.join(param_folder, 'thayane-PM-paired-end-trim.yaml')"
   ]
  },
  {
   "cell_type": "code",
   "execution_count": 4,
   "id": "bdb6512b",
   "metadata": {
    "ExecuteTime": {
     "end_time": "2023-09-05T19:25:20.218254Z",
     "start_time": "2023-09-05T19:25:20.196266Z"
    }
   },
   "outputs": [
    {
     "data": {
      "text/plain": [
       "{'base_dir': '/home/lauro/nupeb/rede-micro/redemicro-thayane',\n",
       " 'class_col': 'above_10',\n",
       " 'classifier_file': '/home/lauro/nupeb/16S_classifiers_qiime2/silva-138-99-nb-classifier.qza',\n",
       " 'experiment_name': 'thayane-PM-paired-end-trim-overlap-04',\n",
       " 'manifest_file': '/home/lauro/nupeb/rede-micro/redemicro-thayane/data/manifest-paired.csv',\n",
       " 'metadata_file': '/home/lauro/nupeb/rede-micro/redemicro-thayane/data/paired-end-metadata.tsv',\n",
       " 'overlap': 4,\n",
       " 'phred': 20,\n",
       " 'replace_files': False,\n",
       " 'threads': 6,\n",
       " 'trim': {'forward_primer': 'CCTACGGGRSGCAGCAG',\n",
       "  'overlap': 8,\n",
       "  'reverse_primer': 'GGACTACHVGGGTWTCTAAT'},\n",
       " 'trunc_f': 0,\n",
       " 'trunc_r': 0}"
      ]
     },
     "execution_count": 4,
     "metadata": {},
     "output_type": "execute_result"
    }
   ],
   "source": [
    "# Open YAML file and get dict\n",
    "with open(base_param_path) as f:\n",
    "    base_param = yaml.load(f, Loader=yaml.SafeLoader)\n",
    "base_param"
   ]
  },
  {
   "cell_type": "code",
   "execution_count": 5,
   "id": "83d5746e",
   "metadata": {
    "ExecuteTime": {
     "end_time": "2023-09-05T19:25:20.229299Z",
     "start_time": "2023-09-05T19:25:20.220049Z"
    }
   },
   "outputs": [],
   "source": [
    "def get_new_param(model_param, overlap_val):\n",
    "    new_param = dict(model_param)\n",
    "    new_param['experiment_name'] = model_param['experiment_name'] + f\"-overlap-{overlap_val:02}\"\n",
    "    new_param['overlap'] = overlap_val\n",
    "    return new_param\n",
    "\n",
    "def get_new_file_name(model_path, overlap_val):\n",
    "    base = os.path.dirname(model_path)\n",
    "    fname = os.path.basename(model_path).split('.')[0]\n",
    "    fname += f\"-overlap-{overlap_val:02}.yaml\"\n",
    "    new_name = os.path.join(base, fname)\n",
    "    return new_name"
   ]
  },
  {
   "cell_type": "code",
   "execution_count": 6,
   "id": "9b303d78",
   "metadata": {
    "ExecuteTime": {
     "end_time": "2023-09-05T19:25:52.748667Z",
     "start_time": "2023-09-05T19:25:20.231216Z"
    },
    "scrolled": false
   },
   "outputs": [
    {
     "name": "stdout",
     "output_type": "stream",
     "text": [
      "Creating directory for experiment artifacts: /home/lauro/nupeb/rede-micro/redemicro-thayane/experiments/thayane-PM-paired-end-trim-overlap-04-overlap-04\n",
      "Creating directory for executed notebooks: /home/lauro/nupeb/rede-micro/redemicro-thayane/experiments/thayane-PM-paired-end-trim-overlap-04-overlap-04/nb-executed-steps\n",
      "Processing parameters from: /home/lauro/nupeb/rede-micro/redemicro-thayane/params/thayane-PM-paired-end-trim-overlap-04-overlap-04.yaml\n",
      "\u001b[33mQIIME is caching your current deployment for improved performance. This may take a few moments and should only happen once per deployment.\u001b[0m\n",
      "\u001b[0m====== Executing Pipeline STEP 1: step-metataxonomy ======\n",
      ">>> Executing STEP file: nb-templates/step-metataxonomy.ipynb <<<\n",
      "Input Notebook:  nb-templates/step-metataxonomy.ipynb\n",
      "Output Notebook: /home/lauro/nupeb/rede-micro/redemicro-thayane/experiments/thayane-PM-paired-end-trim-overlap-04-overlap-04/nb-executed-steps/step-metataxonomy-thayane-PM-paired-end-trim-overlap-04-overlap-04.ipynb\n",
      "Generating grammar tables from /home/lauro/anaconda3/envs/qiime2-2022.2/lib/python3.8/site-packages/blib2to3/Grammar.txt\n",
      "Writing grammar tables to /home/lauro/.cache/black/19.10b0/Grammar3.8.12.final.0.pickle\n",
      "Writing failed: [Errno 2] No such file or directory: '/home/lauro/.cache/black/19.10b0/tmporrut3aj'\n",
      "Generating grammar tables from /home/lauro/anaconda3/envs/qiime2-2022.2/lib/python3.8/site-packages/blib2to3/PatternGrammar.txt\n",
      "Writing grammar tables to /home/lauro/.cache/black/19.10b0/PatternGrammar3.8.12.final.0.pickle\n",
      "Writing failed: [Errno 2] No such file or directory: '/home/lauro/.cache/black/19.10b0/tmpjfd1cczp'\n",
      "Executing:   0%|                                       | 0/31 [00:00<?, ?cell/s]Executing notebook with kernel: python3\n",
      "Executing:  52%|███████████████▍              | 16/31 [00:16<00:15,  1.00s/cell]\n",
      "Traceback (most recent call last):\n",
      "  File \"/home/lauro/anaconda3/envs/qiime2-2022.2/bin/papermill\", line 10, in <module>\n",
      "    sys.exit(papermill())\n",
      "  File \"/home/lauro/anaconda3/envs/qiime2-2022.2/lib/python3.8/site-packages/click/core.py\", line 829, in __call__\n",
      "    return self.main(*args, **kwargs)\n",
      "  File \"/home/lauro/anaconda3/envs/qiime2-2022.2/lib/python3.8/site-packages/click/core.py\", line 782, in main\n",
      "    rv = self.invoke(ctx)\n",
      "  File \"/home/lauro/anaconda3/envs/qiime2-2022.2/lib/python3.8/site-packages/click/core.py\", line 1066, in invoke\n",
      "    return ctx.invoke(self.callback, **ctx.params)\n",
      "  File \"/home/lauro/anaconda3/envs/qiime2-2022.2/lib/python3.8/site-packages/click/core.py\", line 610, in invoke\n",
      "    return callback(*args, **kwargs)\n",
      "  File \"/home/lauro/anaconda3/envs/qiime2-2022.2/lib/python3.8/site-packages/click/decorators.py\", line 21, in new_func\n",
      "    return f(get_current_context(), *args, **kwargs)\n",
      "  File \"/home/lauro/anaconda3/envs/qiime2-2022.2/lib/python3.8/site-packages/papermill/cli.py\", line 250, in papermill\n",
      "    execute_notebook(\n",
      "  File \"/home/lauro/anaconda3/envs/qiime2-2022.2/lib/python3.8/site-packages/papermill/execute.py\", line 122, in execute_notebook\n",
      "    raise_for_execution_errors(nb, output_path)\n",
      "  File \"/home/lauro/anaconda3/envs/qiime2-2022.2/lib/python3.8/site-packages/papermill/execute.py\", line 234, in raise_for_execution_errors\n",
      "    raise error\n",
      "papermill.exceptions.PapermillExecutionError: \n",
      "---------------------------------------------------------------------------\n",
      "Exception encountered at \"In [11]\":\n",
      "---------------------------------------------------------------------------\n",
      "ValueError                                Traceback (most recent call last)\n",
      "Input In [11], in <module>\n",
      "      1 # Load FeatureData[Sequence] Artifact\n",
      "----> 2 reps = Artifact.load(dada2_reps_path)\n",
      "      4 # Load FeatureTable[Frequency] Artifact\n",
      "      5 tabs = Artifact.load(dada2_tabs_path)\n",
      "\n",
      "File ~/anaconda3/envs/qiime2-2022.2/lib/python3.8/site-packages/qiime2/sdk/result.py:66, in Result.load(cls, filepath)\n",
      "     63 @classmethod\n",
      "     64 def load(cls, filepath):\n",
      "     65     \"\"\"Factory for loading Artifacts and Visualizations.\"\"\"\n",
      "---> 66     archiver = archive.Archiver.load(filepath)\n",
      "     68     if Artifact._is_valid_type(archiver.type):\n",
      "     69         result = Artifact.__new__(Artifact)\n",
      "\n",
      "File ~/anaconda3/envs/qiime2-2022.2/lib/python3.8/site-packages/qiime2/core/archive/archiver.py:299, in Archiver.load(cls, filepath)\n",
      "    297 @classmethod\n",
      "    298 def load(cls, filepath):\n",
      "--> 299     archive = cls.get_archive(filepath)\n",
      "    300     Format = cls.get_format_class(archive.version)\n",
      "    301     if Format is None:\n",
      "\n",
      "File ~/anaconda3/envs/qiime2-2022.2/lib/python3.8/site-packages/qiime2/core/archive/archiver.py:259, in Archiver.get_archive(cls, filepath)\n",
      "    257 filepath = pathlib.Path(filepath)\n",
      "    258 if not filepath.exists():\n",
      "--> 259     raise ValueError(\"%s does not exist.\" % filepath)\n",
      "    261 if _ZipArchive.is_archive_type(filepath):\n",
      "    262     archive = _ZipArchive(filepath)\n",
      "\n",
      "ValueError: /home/lauro/nupeb/rede-micro/redemicro-thayane/experiments/thayane-PM-paired-end-trim-overlap-04-overlap-04/qiime-artifacts/dada2-reps.qza does not exist.\n",
      "\n",
      "====== Executing Pipeline STEP 2: step-diversity-analysis ======\n",
      ">>> Executing STEP file: nb-templates/step-diversity-analysis.ipynb <<<\n",
      "Input Notebook:  nb-templates/step-diversity-analysis.ipynb\n",
      "Output Notebook: /home/lauro/nupeb/rede-micro/redemicro-thayane/experiments/thayane-PM-paired-end-trim-overlap-04-overlap-04/nb-executed-steps/step-diversity-analysis-thayane-PM-paired-end-trim-overlap-04-overlap-04.ipynb\n",
      "Generating grammar tables from /home/lauro/anaconda3/envs/qiime2-2022.2/lib/python3.8/site-packages/blib2to3/Grammar.txt\n",
      "Writing grammar tables to /home/lauro/.cache/black/19.10b0/Grammar3.8.12.final.0.pickle\n",
      "Writing failed: [Errno 2] No such file or directory: '/home/lauro/.cache/black/19.10b0/tmps7x5otxz'\n",
      "Generating grammar tables from /home/lauro/anaconda3/envs/qiime2-2022.2/lib/python3.8/site-packages/blib2to3/PatternGrammar.txt\n",
      "Writing grammar tables to /home/lauro/.cache/black/19.10b0/PatternGrammar3.8.12.final.0.pickle\n",
      "Writing failed: [Errno 2] No such file or directory: '/home/lauro/.cache/black/19.10b0/tmps0qtqiom'\n",
      "Executing:   0%|                                       | 0/34 [00:00<?, ?cell/s]Executing notebook with kernel: python3\n",
      "Executing:   6%|█▊                             | 2/34 [00:01<00:20,  1.53cell/s]^C\n",
      "Executing:  12%|███▋                           | 4/34 [00:03<00:24,  1.21cell/s]"
     ]
    }
   ],
   "source": [
    "for val in overlap_values:\n",
    "    n_param = get_new_param(base_param, overlap_val=val)\n",
    "    new_fname = get_new_file_name(base_param_path, overlap_val=val)\n",
    "    with open(new_fname, 'w') as f:\n",
    "        data = yaml.dump(n_param, indent=4, default_flow_style=False)\n",
    "        f.write(data)\n",
    "    !./pipeline.sh {new_fname} qiime2-2022.2"
   ]
  }
 ],
 "metadata": {
  "kernelspec": {
   "display_name": "Python 3",
   "language": "python",
   "name": "python3"
  },
  "language_info": {
   "codemirror_mode": {
    "name": "ipython",
    "version": 3
   },
   "file_extension": ".py",
   "mimetype": "text/x-python",
   "name": "python",
   "nbconvert_exporter": "python",
   "pygments_lexer": "ipython3",
   "version": "3.8.12"
  }
 },
 "nbformat": 4,
 "nbformat_minor": 5
}
