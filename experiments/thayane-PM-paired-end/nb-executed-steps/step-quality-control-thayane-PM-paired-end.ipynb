{
 "cells": [
  {
   "cell_type": "markdown",
   "id": "64fd4133",
   "metadata": {
    "tags": [
     "papermill-error-cell-tag"
    ]
   },
   "source": [
    "<span style=\"color:red; font-family:Helvetica Neue, Helvetica, Arial, sans-serif; font-size:2em;\">An Exception was encountered at '<a href=\"#papermill-error-cell\">In [12]</a>'.</span>"
   ]
  },
  {
   "cell_type": "markdown",
   "id": "31599d86",
   "metadata": {
    "papermill": {
     "duration": 0.023983,
     "end_time": "2023-06-02T19:06:42.782990",
     "exception": false,
     "start_time": "2023-06-02T19:06:42.759007",
     "status": "completed"
    },
    "tags": []
   },
   "source": [
    "# Quality Control and ASV table construction with DADA2"
   ]
  },
  {
   "cell_type": "markdown",
   "id": "d8b61bb7",
   "metadata": {
    "papermill": {
     "duration": 0.01494,
     "end_time": "2023-06-02T19:06:42.818751",
     "exception": false,
     "start_time": "2023-06-02T19:06:42.803811",
     "status": "completed"
    },
    "tags": []
   },
   "source": [
    "## Setup and settings"
   ]
  },
  {
   "cell_type": "code",
   "execution_count": 27,
   "id": "d5c559bc",
   "metadata": {
    "ExecuteTime": {
     "end_time": "2023-06-06T18:32:24.202921Z",
     "start_time": "2023-06-06T18:32:24.138924Z"
    },
    "execution": {
     "iopub.execute_input": "2023-06-02T19:06:42.850848Z",
     "iopub.status.busy": "2023-06-02T19:06:42.850401Z",
     "iopub.status.idle": "2023-06-02T19:06:49.640384Z",
     "shell.execute_reply": "2023-06-02T19:06:49.639662Z"
    },
    "papermill": {
     "duration": 6.809819,
     "end_time": "2023-06-02T19:06:49.643918",
     "exception": false,
     "start_time": "2023-06-02T19:06:42.834099",
     "status": "completed"
    },
    "tags": []
   },
   "outputs": [],
   "source": [
    "# Importing packages\n",
    "import os\n",
    "import yaml\n",
    "import logging\n",
    "import pandas as pd\n",
    "from qiime2 import Artifact\n",
    "from qiime2 import Visualization\n",
    "from qiime2 import Metadata\n",
    "import qiime2.plugins.dada2.actions as dada2_actions\n",
    "import qiime2.plugins.metadata.actions as metadata_actions\n",
    "from qiime2.plugins.feature_table.visualizers import tabulate_seqs\n",
    "from qiime2.plugins.feature_table.visualizers import summarize\n",
    "from qiime2.plugins.feature_table.visualizers import core_features\n",
    "from qiime2.plugins.feature_table.methods import filter_samples\n",
    "from qiime2.plugins.feature_table.methods import filter_seqs\n",
    "\n",
    "import matplotlib.pyplot as plt\n",
    "\n",
    "%matplotlib inline"
   ]
  },
  {
   "cell_type": "markdown",
   "id": "a10e2d57",
   "metadata": {
    "papermill": {
     "duration": 0.014635,
     "end_time": "2023-06-02T19:06:49.680758",
     "exception": false,
     "start_time": "2023-06-02T19:06:49.666123",
     "status": "completed"
    },
    "tags": []
   },
   "source": [
    "### Receiving the parameters\n",
    "\n",
    "The following cell can receive parameters using the [papermill](https://papermill.readthedocs.io/en/latest/) tool."
   ]
  },
  {
   "cell_type": "code",
   "execution_count": 2,
   "id": "747f6fdb",
   "metadata": {
    "ExecuteTime": {
     "end_time": "2023-06-06T18:18:15.772317Z",
     "start_time": "2023-06-06T18:18:15.766307Z"
    },
    "execution": {
     "iopub.execute_input": "2023-06-02T19:06:49.728386Z",
     "iopub.status.busy": "2023-06-02T19:06:49.728199Z",
     "iopub.status.idle": "2023-06-02T19:06:49.732679Z",
     "shell.execute_reply": "2023-06-02T19:06:49.732198Z"
    },
    "papermill": {
     "duration": 0.023841,
     "end_time": "2023-06-02T19:06:49.736154",
     "exception": false,
     "start_time": "2023-06-02T19:06:49.712313",
     "status": "completed"
    },
    "tags": [
     "parameters"
    ]
   },
   "outputs": [],
   "source": [
    "experiment_name = 'ana-flavia-superlactacao'\n",
    "base_dir = os.path.join('/', 'home', 'lauro', 'nupeb', 'redemicro')\n",
    "metadata_file = os.path.join(base_dir, 'data', 'raw', 'metadata', 'sample-metadata.tsv')\n",
    "manifest_file = os.path.join(base_dir, 'data', 'raw', 'manifest', 'sample-manifest.csv')\n",
    "replace_files = False\n",
    "phred = 20\n",
    "trunc_f = 0\n",
    "trunc_r = 0\n",
    "overlap = 12\n",
    "threads = 6\n",
    "trim = None"
   ]
  },
  {
   "cell_type": "code",
   "execution_count": 3,
   "id": "7e2edaa5",
   "metadata": {
    "ExecuteTime": {
     "end_time": "2023-06-06T18:18:15.778322Z",
     "start_time": "2023-06-06T18:18:15.774302Z"
    },
    "execution": {
     "iopub.execute_input": "2023-06-02T19:06:49.794538Z",
     "iopub.status.busy": "2023-06-02T19:06:49.794322Z",
     "iopub.status.idle": "2023-06-02T19:06:49.798409Z",
     "shell.execute_reply": "2023-06-02T19:06:49.797769Z"
    },
    "papermill": {
     "duration": 0.021717,
     "end_time": "2023-06-02T19:06:49.799958",
     "exception": false,
     "start_time": "2023-06-02T19:06:49.778241",
     "status": "completed"
    },
    "tags": [
     "injected-parameters"
    ]
   },
   "outputs": [],
   "source": [
    "# Parameters\n",
    "experiment_name = \"thayane-PM-paired-end\"\n",
    "base_dir = \"/home/lauro/nupeb/rede-micro/redemicro-thayane\"\n",
    "manifest_file = (\n",
    "    \"/home/lauro/nupeb/rede-micro/redemicro-thayane/data/manifest-paired.csv\"\n",
    ")\n",
    "metadata_file = (\n",
    "    \"/home/lauro/nupeb/rede-micro/redemicro-thayane/data/paired-end-metadata.tsv\"\n",
    ")\n",
    "class_col = \"above_10\"\n",
    "classifier_file = (\n",
    "    \"/home/lauro/nupeb/16S_classifiers_qiime2/silva-138-99-nb-classifier.qza\"\n",
    ")\n",
    "replace_files = False\n",
    "phred = 20\n",
    "trunc_f = 0\n",
    "trunc_r = 0\n",
    "overlap = 12\n",
    "threads = 6\n"
   ]
  },
  {
   "cell_type": "code",
   "execution_count": 4,
   "id": "aacf6bb1",
   "metadata": {
    "ExecuteTime": {
     "end_time": "2023-06-06T18:18:15.802310Z",
     "start_time": "2023-06-06T18:18:15.778322Z"
    },
    "execution": {
     "iopub.execute_input": "2023-06-02T19:06:49.832294Z",
     "iopub.status.busy": "2023-06-02T19:06:49.832070Z",
     "iopub.status.idle": "2023-06-02T19:06:49.838088Z",
     "shell.execute_reply": "2023-06-02T19:06:49.837354Z"
    },
    "papermill": {
     "duration": 0.024937,
     "end_time": "2023-06-02T19:06:49.840445",
     "exception": false,
     "start_time": "2023-06-02T19:06:49.815508",
     "status": "completed"
    },
    "tags": []
   },
   "outputs": [],
   "source": [
    "# Setting hardcoded parameters for development and debbuging\n",
    "production = True\n",
    "if not production:\n",
    "    params_path = os.path.join('..', 'params', 'ana-flavia-superlactacao.yaml')\n",
    "    with open(params_path, 'r') as stream:\n",
    "        params = yaml.safe_load(stream)\n",
    "        experiment_name = params['experiment_name']\n",
    "        base_dir = params['base_dir']\n",
    "        replace_files = params['replace_files']\n",
    "        experiment_folder = os.path.abspath(os.path.join(os.getcwd(), '..', 'experiments', 'thayane-feces-01'))\n",
    "        img_folder = os.path.abspath(os.path.join(experiment_folder, 'imgs'))\n",
    "        replace_files = False\n",
    "        phred = 20\n",
    "        trunc_f = 0\n",
    "        trunc_r = 0\n",
    "        overlap = 12\n",
    "        threads = 6"
   ]
  },
  {
   "cell_type": "code",
   "execution_count": 5,
   "id": "d093ae87",
   "metadata": {
    "ExecuteTime": {
     "end_time": "2023-06-06T18:18:15.856339Z",
     "start_time": "2023-06-06T18:18:15.817303Z"
    },
    "execution": {
     "iopub.execute_input": "2023-06-02T19:06:49.875681Z",
     "iopub.status.busy": "2023-06-02T19:06:49.875021Z",
     "iopub.status.idle": "2023-06-02T19:06:49.880209Z",
     "shell.execute_reply": "2023-06-02T19:06:49.879430Z"
    },
    "papermill": {
     "duration": 0.023186,
     "end_time": "2023-06-02T19:06:49.881931",
     "exception": false,
     "start_time": "2023-06-02T19:06:49.858745",
     "status": "completed"
    },
    "tags": []
   },
   "outputs": [],
   "source": [
    "experiment_folder = os.path.abspath(os.path.join(base_dir, 'experiments', experiment_name))\n",
    "img_folder = os.path.abspath(os.path.join(experiment_folder, 'imgs'))"
   ]
  },
  {
   "cell_type": "markdown",
   "id": "1abac4cc",
   "metadata": {
    "papermill": {
     "duration": 0.015246,
     "end_time": "2023-06-02T19:06:49.914096",
     "exception": false,
     "start_time": "2023-06-02T19:06:49.898850",
     "status": "completed"
    },
    "tags": []
   },
   "source": [
    "### Defining names and paths"
   ]
  },
  {
   "cell_type": "code",
   "execution_count": 6,
   "id": "4e7d8f81",
   "metadata": {
    "ExecuteTime": {
     "end_time": "2023-06-06T18:18:18.058175Z",
     "start_time": "2023-06-06T18:18:18.017140Z"
    },
    "execution": {
     "iopub.execute_input": "2023-06-02T19:06:49.944347Z",
     "iopub.status.busy": "2023-06-02T19:06:49.944076Z",
     "iopub.status.idle": "2023-06-02T19:06:49.949880Z",
     "shell.execute_reply": "2023-06-02T19:06:49.949303Z"
    },
    "papermill": {
     "duration": 0.022891,
     "end_time": "2023-06-02T19:06:49.951501",
     "exception": false,
     "start_time": "2023-06-02T19:06:49.928610",
     "status": "completed"
    },
    "tags": []
   },
   "outputs": [],
   "source": [
    "qiime_folder = os.path.join(experiment_folder, 'qiime-artifacts')\n",
    "\n",
    "if trim:\n",
    "    demux_file = os.path.join(qiime_folder, 'demux-paired-trim.qza')\n",
    "else:\n",
    "    demux_file = os.path.join(qiime_folder, 'demux-paired.qza')\n",
    "\n",
    "dada2_tabs = os.path.join(qiime_folder, 'dada2-tabs.qza')\n",
    "dada2_reps = os.path.join(qiime_folder, 'dada2-reps.qza')\n",
    "dada2_stat = os.path.join(qiime_folder, 'dada2-stat.qza')\n",
    "\n",
    "\n",
    "dada2_tabs_view = dada2_tabs[:-1] + 'v'\n",
    "dada2_reps_view = dada2_reps[:-1] + 'v'\n",
    "dada2_stat_view = dada2_stat[:-1] + 'v'\n",
    "dada2_core_view = os.path.join(qiime_folder, 'dada2-core.qzv')"
   ]
  },
  {
   "cell_type": "markdown",
   "id": "f04ef11c",
   "metadata": {
    "papermill": {
     "duration": 0.014881,
     "end_time": "2023-06-02T19:06:49.982660",
     "exception": false,
     "start_time": "2023-06-02T19:06:49.967779",
     "status": "completed"
    },
    "tags": []
   },
   "source": [
    "## Step execution\n",
    "\n",
    "### Load input files\n",
    "\n",
    "This Step import the QIIME2 `SampleData[PairedEndSequencesWithQuality]` Artifact with all demultiplexed sequences and the `Metadata` file."
   ]
  },
  {
   "cell_type": "code",
   "execution_count": 7,
   "id": "cc7e00db",
   "metadata": {
    "ExecuteTime": {
     "end_time": "2023-06-06T18:18:20.712952Z",
     "start_time": "2023-06-06T18:18:20.676895Z"
    },
    "execution": {
     "iopub.execute_input": "2023-06-02T19:06:50.022985Z",
     "iopub.status.busy": "2023-06-02T19:06:50.022714Z",
     "iopub.status.idle": "2023-06-02T19:06:50.027039Z",
     "shell.execute_reply": "2023-06-02T19:06:50.026308Z"
    },
    "papermill": {
     "duration": 0.031284,
     "end_time": "2023-06-02T19:06:50.028656",
     "exception": false,
     "start_time": "2023-06-02T19:06:49.997372",
     "status": "completed"
    },
    "tags": []
   },
   "outputs": [],
   "source": [
    "need_dada2 = not (os.path.isfile(dada2_tabs) and os.path.isfile(dada2_reps) and os.path.isfile(dada2_stat)) or replace_files\n",
    "need_view = not (os.path.isfile(dada2_tabs_view) and os.path.isfile(dada2_reps_view) and os.path.isfile(dada2_stat_view)) or replace_files"
   ]
  },
  {
   "cell_type": "code",
   "execution_count": 8,
   "id": "6b02c244",
   "metadata": {
    "ExecuteTime": {
     "end_time": "2023-06-06T18:18:21.435251Z",
     "start_time": "2023-06-06T18:18:21.396271Z"
    },
    "execution": {
     "iopub.execute_input": "2023-06-02T19:06:50.059779Z",
     "iopub.status.busy": "2023-06-02T19:06:50.059430Z",
     "iopub.status.idle": "2023-06-02T19:06:59.813782Z",
     "shell.execute_reply": "2023-06-02T19:06:59.812946Z"
    },
    "papermill": {
     "duration": 9.773149,
     "end_time": "2023-06-02T19:06:59.816811",
     "exception": false,
     "start_time": "2023-06-02T19:06:50.043662",
     "status": "completed"
    },
    "tags": []
   },
   "outputs": [],
   "source": [
    "if need_dada2:\n",
    "    demux = Artifact.load(demux_file)"
   ]
  },
  {
   "cell_type": "code",
   "execution_count": 9,
   "id": "21e3af43",
   "metadata": {
    "ExecuteTime": {
     "end_time": "2023-06-06T18:18:22.390939Z",
     "start_time": "2023-06-06T18:18:22.330942Z"
    },
    "execution": {
     "iopub.execute_input": "2023-06-02T19:06:59.852782Z",
     "iopub.status.busy": "2023-06-02T19:06:59.852486Z",
     "iopub.status.idle": "2023-06-02T19:06:59.871758Z",
     "shell.execute_reply": "2023-06-02T19:06:59.870988Z"
    },
    "papermill": {
     "duration": 0.036345,
     "end_time": "2023-06-02T19:06:59.873616",
     "exception": false,
     "start_time": "2023-06-02T19:06:59.837271",
     "status": "completed"
    },
    "tags": []
   },
   "outputs": [],
   "source": [
    "metadata = Metadata.load(metadata_file)"
   ]
  },
  {
   "cell_type": "code",
   "execution_count": 19,
   "id": "9f02a592",
   "metadata": {
    "ExecuteTime": {
     "end_time": "2023-06-06T18:21:57.120428Z",
     "start_time": "2023-06-06T18:21:57.051430Z"
    },
    "collapsed": false
   },
   "outputs": [
    {
     "data": {
      "text/plain": [
       "38"
      ]
     },
     "execution_count": 19,
     "metadata": {},
     "output_type": "execute_result"
    }
   ],
   "source": []
  },
  {
   "cell_type": "code",
   "execution_count": 18,
   "id": "064c3e8a",
   "metadata": {
    "ExecuteTime": {
     "end_time": "2023-06-06T18:21:48.651836Z",
     "start_time": "2023-06-06T18:21:48.559147Z"
    },
    "collapsed": false
   },
   "outputs": [
    {
     "data": {
      "text/plain": [
       "76"
      ]
     },
     "execution_count": 18,
     "metadata": {},
     "output_type": "execute_result"
    }
   ],
   "source": [
    "len(tabs.view(pd.DataFrame).index)"
   ]
  },
  {
   "cell_type": "code",
   "execution_count": 33,
   "id": "ce9ffc69",
   "metadata": {
    "ExecuteTime": {
     "end_time": "2023-06-06T18:34:10.621052Z",
     "start_time": "2023-06-06T18:34:10.526847Z"
    },
    "execution": {
     "iopub.execute_input": "2023-06-02T19:06:59.909090Z",
     "iopub.status.busy": "2023-06-02T19:06:59.908856Z",
     "iopub.status.idle": "2023-06-02T19:06:59.914405Z",
     "shell.execute_reply": "2023-06-02T19:06:59.913960Z"
    },
    "papermill": {
     "duration": 0.021972,
     "end_time": "2023-06-02T19:06:59.915770",
     "exception": false,
     "start_time": "2023-06-02T19:06:59.893798",
     "status": "completed"
    },
    "tags": []
   },
   "outputs": [],
   "source": [
    "# Determine if is SingleEnd or PairedEnd\n",
    "manifest_df = pd.read_csv(manifest_file)\n",
    "n_directions = len(manifest_df['direction'].unique())"
   ]
  },
  {
   "cell_type": "markdown",
   "id": "e161500d",
   "metadata": {
    "papermill": {
     "duration": 0.204783,
     "end_time": "2023-06-02T19:07:00.135166",
     "exception": false,
     "start_time": "2023-06-02T19:06:59.930383",
     "status": "completed"
    },
    "tags": []
   },
   "source": [
    "### Execute DADA2 plugin and create Artifacts\n",
    "\n",
    "The DADA2 plugin perform tha quality control and create the ASV table. It will be produced three Artifacts:\n",
    "\n",
    "- tabs (`FeatureTable[Frequency]`) : \n",
    "    The resulting feature table.\n",
    "- reps (`FeatureData[Sequence]`) :\n",
    "    The resulting feature sequences. Each feature in the feature table will\n",
    "    be represented by exactly one sequence, and these sequences will be the\n",
    "    joined paired-end sequences.\n",
    "- denoising_stats (`SampleData[DADA2Stats]`) : the resulting stats. Shows the number and the proportion of filtered reads in each phase of the plugin execution."
   ]
  },
  {
   "cell_type": "code",
   "execution_count": 34,
   "id": "f54dd2c7",
   "metadata": {
    "ExecuteTime": {
     "end_time": "2023-06-06T18:34:21.824302Z",
     "start_time": "2023-06-06T18:34:21.794279Z"
    },
    "execution": {
     "iopub.execute_input": "2023-06-02T19:07:00.170704Z",
     "iopub.status.busy": "2023-06-02T19:07:00.170432Z",
     "iopub.status.idle": "2023-06-03T00:20:46.480237Z",
     "shell.execute_reply": "2023-06-03T00:20:46.479595Z"
    },
    "papermill": {
     "duration": 18826.330697,
     "end_time": "2023-06-03T00:20:46.483273",
     "exception": false,
     "start_time": "2023-06-02T19:07:00.152576",
     "status": "completed"
    },
    "scrolled": true,
    "tags": []
   },
   "outputs": [],
   "source": [
    "# If some of the DADA2 outputs artifacts do not exist or if the old files will be replaced\n",
    "if need_dada2:\n",
    "    \n",
    "    # Excute the DADA2 plugin\n",
    "    if n_directions == 1: # SingleEnd\n",
    "        tabs, reps, stat = dada2_actions.denoise_single(\n",
    "            demultiplexed_seqs=demux,\n",
    "            trunc_q = phred,\n",
    "            n_threads = threads,\n",
    "            trunc_len = trunc_f,\n",
    "        )\n",
    "    elif n_directions == 2: # PairedEnd\n",
    "        tabs, reps, stat = dada2_actions.denoise_paired(\n",
    "            demultiplexed_seqs=demux,\n",
    "            trunc_q = phred,\n",
    "            min_overlap = overlap,\n",
    "            n_threads = threads,\n",
    "            trunc_len_f = trunc_f,\n",
    "            trunc_len_r = trunc_r,\n",
    "        )\n",
    "    \n",
    "    # Save the artifacts objects\n",
    "    tabs.save(dada2_tabs)\n",
    "    reps.save(dada2_reps)\n",
    "    stat.save(dada2_stat)\n",
    "\n",
    "else:\n",
    "    tabs = Artifact.load(dada2_tabs)\n",
    "    reps = Artifact.load(dada2_reps) # FeatureData[Sequence]\n",
    "    stat = Artifact.load(dada2_stat)"
   ]
  },
  {
   "cell_type": "markdown",
   "id": "cf274896",
   "metadata": {
    "collapsed": false
   },
   "source": [
    "### Filter samples"
   ]
  },
  {
   "cell_type": "code",
   "execution_count": 35,
   "id": "773fd9e9",
   "metadata": {
    "ExecuteTime": {
     "end_time": "2023-06-06T18:34:26.055529Z",
     "start_time": "2023-06-06T18:34:24.780240Z"
    },
    "collapsed": false
   },
   "outputs": [],
   "source": [
    "# Filter FeatureTable[Frequency | RelativeFrequency | PresenceAbsence | Composition] based on Metadata sample ID values\n",
    "tabs = filter_samples(\n",
    "    table=tabs,\n",
    "    metadata=metadata,\n",
    ").filtered_table\n",
    "# Filter SampleData[SequencesWithQuality | PairedEndSequencesWithQuality | JoinedSequencesWithQuality] based on Metadata sample ID values; returns FeatureData[Sequence | AlignedSequence]\n",
    "reps = filter_seqs(\n",
    "    data=reps,\n",
    "    table=tabs,\n",
    ").filtered_data"
   ]
  },
  {
   "cell_type": "markdown",
   "id": "7733c6c5",
   "metadata": {
    "papermill": {
     "duration": 0.059655,
     "end_time": "2023-06-03T00:20:46.606805",
     "exception": false,
     "start_time": "2023-06-03T00:20:46.547150",
     "status": "completed"
    },
    "tags": []
   },
   "source": [
    "### Define Visualizations Artifacts"
   ]
  },
  {
   "cell_type": "markdown",
   "id": "864222ea",
   "metadata": {
    "tags": [
     "papermill-error-cell-tag"
    ]
   },
   "source": [
    "<span id=\"papermill-error-cell\" style=\"color:red; font-family:Helvetica Neue, Helvetica, Arial, sans-serif; font-size:2em;\">Execution using papermill encountered an exception here and stopped:</span>"
   ]
  },
  {
   "cell_type": "code",
   "execution_count": 36,
   "id": "de60263e",
   "metadata": {
    "ExecuteTime": {
     "end_time": "2023-06-06T18:34:34.282297Z",
     "start_time": "2023-06-06T18:34:28.881732Z"
    },
    "execution": {
     "iopub.execute_input": "2023-06-03T00:20:46.712080Z",
     "iopub.status.busy": "2023-06-03T00:20:46.711770Z",
     "iopub.status.idle": "2023-06-03T00:20:52.947313Z",
     "shell.execute_reply": "2023-06-03T00:20:52.946497Z"
    },
    "papermill": {
     "duration": 6.291849,
     "end_time": "2023-06-03T00:20:52.951470",
     "exception": true,
     "start_time": "2023-06-03T00:20:46.659621",
     "status": "failed"
    },
    "tags": []
   },
   "outputs": [
    {
     "data": {
      "image/png": "[encoded data removed]",
      "text/plain": [
       "<Figure size 432x288 with 1 Axes>"
      ]
     },
     "metadata": {
      "needs_background": "light"
     },
     "output_type": "display_data"
    }
   ],
   "source": [
    "# If some of the DADA2 Visualization artifacts do not exist or if the old files will be replaced\n",
    "if need_view:\n",
    "    \n",
    "    tabs_view, = metadata_actions.tabulate(input=tabs.view(Metadata))\n",
    "    reps_view, = metadata_actions.tabulate(input=reps.view(Metadata))\n",
    "    stat_view, = metadata_actions.tabulate(input=stat.view(Metadata))\n",
    "    \n",
    "    tabs_view = summarize(table=tabs, sample_metadata=metadata).visualization\n",
    "    reps_view = tabulate_seqs(data=reps).visualization\n",
    "    core_view = core_features(table=tabs, min_fraction=.1, steps=10).visualization\n",
    "    \n",
    "    \n",
    "    # Save the artifacts objects\n",
    "    tabs_view.save(dada2_tabs_view)\n",
    "    reps_view.save(dada2_reps_view)\n",
    "    stat_view.save(dada2_stat_view)\n",
    "    core_view.save(dada2_core_view)\n",
    "\n",
    "else:\n",
    "    tabs_view = Visualization.load(dada2_tabs_view)\n",
    "    reps_view = Visualization.load(dada2_reps_view)\n",
    "    stat_view = Visualization.load(dada2_stat_view)\n",
    "    core_view = Visualization.load(dada2_core_view)\n",
    "\n"
   ]
  },
  {
   "cell_type": "code",
   "execution_count": 37,
   "id": "312a47bd",
   "metadata": {
    "ExecuteTime": {
     "end_time": "2023-06-06T18:34:37.163072Z",
     "start_time": "2023-06-06T18:34:37.104866Z"
    },
    "papermill": {
     "duration": null,
     "end_time": null,
     "exception": null,
     "start_time": null,
     "status": "pending"
    },
    "tags": []
   },
   "outputs": [],
   "source": [
    "def plot_stats_box(artifact, fname, total_reads_phases, percent_phases, cols):\n",
    "    import matplotlib.pyplot as plt\n",
    "    from qiime2 import Metadata\n",
    "    \n",
    "    df = artifact.view(Metadata).to_dataframe()\n",
    "    df_vals = df[total_reads_phases]\n",
    "    df_perc = df[percent_phases]\n",
    "    df_perc.columns = cols\n",
    "    \n",
    "    \n",
    "    plt.figure(figsize=(15,5))\n",
    "    plt.subplot(1, 2, 1)\n",
    "    df_vals.boxplot()\n",
    "    plt.xlabel('Fases')\n",
    "    plt.ylabel('# of reads')\n",
    "    \n",
    "    plt.subplot(1, 2, 2)\n",
    "    df_perc.boxplot()\n",
    "    plt.xlabel('Fases')\n",
    "    plt.ylabel('% of input')\n",
    "    \n",
    "    plt.savefig(fname, bbox_inches='tight')\n",
    "\n",
    "    plt.show()"
   ]
  },
  {
   "cell_type": "code",
   "execution_count": 38,
   "id": "2506f3c8",
   "metadata": {
    "ExecuteTime": {
     "end_time": "2023-06-06T18:34:40.152096Z",
     "start_time": "2023-06-06T18:34:40.093091Z"
    },
    "papermill": {
     "duration": null,
     "end_time": null,
     "exception": null,
     "start_time": null,
     "status": "pending"
    },
    "tags": []
   },
   "outputs": [],
   "source": [
    "if n_directions == 1: # SingleEnd\n",
    "    total_reads_phases = ['input', 'filtered', 'denoised', 'non-chimeric']\n",
    "    percent_phases = ['percentage of input passed filter', 'percentage of input non-chimeric']\n",
    "    cols = ['filtered', 'non-chimeric']\n",
    "elif n_directions == 2: # PairedEnd\n",
    "    total_reads_phases = ['input', 'filtered', 'denoised', 'merged', 'non-chimeric']\n",
    "    percent_phases = ['percentage of input passed filter', 'percentage of input merged', 'percentage of input non-chimeric']\n",
    "    cols = ['filtered', 'merged', 'non-chimeric']"
   ]
  },
  {
   "cell_type": "code",
   "execution_count": 39,
   "id": "25af6d4e",
   "metadata": {
    "ExecuteTime": {
     "end_time": "2023-06-06T18:34:45.817769Z",
     "start_time": "2023-06-06T18:34:44.747387Z"
    },
    "papermill": {
     "duration": null,
     "end_time": null,
     "exception": null,
     "start_time": null,
     "status": "pending"
    },
    "scrolled": true,
    "tags": []
   },
   "outputs": [
    {
     "data": {
      "image/png": "[encoded data removed]",
      "text/plain": [
       "<Figure size 1080x360 with 2 Axes>"
      ]
     },
     "metadata": {
      "needs_background": "light"
     },
     "output_type": "display_data"
    }
   ],
   "source": [
    "plot_stats_box(stat, os.path.join(img_folder, 'step02-stats-boxplot.pdf'), total_reads_phases, percent_phases, cols)"
   ]
  },
  {
   "cell_type": "code",
   "execution_count": 40,
   "id": "13804e38",
   "metadata": {
    "ExecuteTime": {
     "end_time": "2023-06-06T18:34:49.368445Z",
     "start_time": "2023-06-06T18:34:49.237237Z"
    },
    "papermill": {
     "duration": null,
     "end_time": null,
     "exception": null,
     "start_time": null,
     "status": "pending"
    },
    "tags": []
   },
   "outputs": [
    {
     "data": {
      "text/html": [
       "<div>\n",
       "<style scoped>\n",
       "    .dataframe tbody tr th:only-of-type {\n",
       "        vertical-align: middle;\n",
       "    }\n",
       "\n",
       "    .dataframe tbody tr th {\n",
       "        vertical-align: top;\n",
       "    }\n",
       "\n",
       "    .dataframe thead th {\n",
       "        text-align: right;\n",
       "    }\n",
       "</style>\n",
       "<table border=\"1\" class=\"dataframe\">\n",
       "  <thead>\n",
       "    <tr style=\"text-align: right;\">\n",
       "      <th></th>\n",
       "      <th>percentage of input passed filter</th>\n",
       "      <th>percentage of input merged</th>\n",
       "      <th>percentage of input non-chimeric</th>\n",
       "    </tr>\n",
       "  </thead>\n",
       "  <tbody>\n",
       "    <tr>\n",
       "      <th>count</th>\n",
       "      <td>76.000000</td>\n",
       "      <td>76.000000</td>\n",
       "      <td>76.000000</td>\n",
       "    </tr>\n",
       "    <tr>\n",
       "      <th>mean</th>\n",
       "      <td>78.620526</td>\n",
       "      <td>47.148553</td>\n",
       "      <td>23.975921</td>\n",
       "    </tr>\n",
       "    <tr>\n",
       "      <th>std</th>\n",
       "      <td>1.585938</td>\n",
       "      <td>8.418669</td>\n",
       "      <td>8.326228</td>\n",
       "    </tr>\n",
       "    <tr>\n",
       "      <th>min</th>\n",
       "      <td>71.370000</td>\n",
       "      <td>28.620000</td>\n",
       "      <td>8.750000</td>\n",
       "    </tr>\n",
       "    <tr>\n",
       "      <th>25%</th>\n",
       "      <td>78.357500</td>\n",
       "      <td>42.147500</td>\n",
       "      <td>18.497500</td>\n",
       "    </tr>\n",
       "    <tr>\n",
       "      <th>50%</th>\n",
       "      <td>78.890000</td>\n",
       "      <td>46.990000</td>\n",
       "      <td>23.710000</td>\n",
       "    </tr>\n",
       "    <tr>\n",
       "      <th>75%</th>\n",
       "      <td>79.435000</td>\n",
       "      <td>53.930000</td>\n",
       "      <td>28.490000</td>\n",
       "    </tr>\n",
       "    <tr>\n",
       "      <th>max</th>\n",
       "      <td>80.280000</td>\n",
       "      <td>65.880000</td>\n",
       "      <td>63.250000</td>\n",
       "    </tr>\n",
       "  </tbody>\n",
       "</table>\n",
       "</div>"
      ],
      "text/plain": [
       "       percentage of input passed filter  percentage of input merged  \\\n",
       "count                          76.000000                   76.000000   \n",
       "mean                           78.620526                   47.148553   \n",
       "std                             1.585938                    8.418669   \n",
       "min                            71.370000                   28.620000   \n",
       "25%                            78.357500                   42.147500   \n",
       "50%                            78.890000                   46.990000   \n",
       "75%                            79.435000                   53.930000   \n",
       "max                            80.280000                   65.880000   \n",
       "\n",
       "       percentage of input non-chimeric  \n",
       "count                         76.000000  \n",
       "mean                          23.975921  \n",
       "std                            8.326228  \n",
       "min                            8.750000  \n",
       "25%                           18.497500  \n",
       "50%                           23.710000  \n",
       "75%                           28.490000  \n",
       "max                           63.250000  "
      ]
     },
     "execution_count": 40,
     "metadata": {},
     "output_type": "execute_result"
    }
   ],
   "source": [
    "stat.view(Metadata).to_dataframe().describe()[percent_phases]"
   ]
  },
  {
   "cell_type": "code",
   "execution_count": 41,
   "id": "f67a97ea",
   "metadata": {
    "ExecuteTime": {
     "end_time": "2023-06-06T18:34:51.055423Z",
     "start_time": "2023-06-06T18:34:50.987635Z"
    },
    "papermill": {
     "duration": null,
     "end_time": null,
     "exception": null,
     "start_time": null,
     "status": "pending"
    },
    "tags": []
   },
   "outputs": [
    {
     "data": {
      "text/html": [
       "<div><img onload=\"(function(div, url){\n",
       "if (typeof require !== 'undefined') {\n",
       "    var baseURL = require.toUrl('').split('/').slice(0, -2).join('/');\n",
       "} else {\n",
       "    var baseURL = JSON.parse(\n",
       "        document.getElementById('jupyter-config-data').innerHTML\n",
       "    ).baseUrl.slice(0, -1);\n",
       "}\n",
       "url = baseURL + url;\n",
       "fetch(url).then(function(res) {\n",
       "    if (res.status === 404) {\n",
       "        div.innerHTML = 'Install QIIME 2 Jupyter extension with:<br />' +\n",
       "                        '<code>jupyter serverextension enable --py qiime2' +\n",
       "                        ' --sys-prefix</code><br />then restart your server.' +\n",
       "                        '<br /><br />(Interactive output not available on ' +\n",
       "                        'static notebook viewer services like nbviewer.)';\n",
       "    } else if (res.status === 409) {\n",
       "        div.innerHTML = 'Visualization no longer in scope. Re-run this cell' +\n",
       "                        ' to see the visualization.';\n",
       "    } else if (res.ok) {\n",
       "        url = res.url;\n",
       "        div.innerHTML = '<iframe src=\\'' + url + '\\' style=\\'' +\n",
       "                        'width: 100%; height: 700px; border: 0;\\'>' +\n",
       "                        '</iframe><hr />Open in a: <a href=\\'' + url + '\\'' +\n",
       "                        ' target=\\'_blank\\'>new window</a>'\n",
       "    } else {\n",
       "        div.innerHTML = 'Something has gone wrong. Check notebook server for' +\n",
       "                        ' errors.';\n",
       "    }\n",
       "});\n",
       "})(this.parentElement, '/qiime2/redirect?location=/tmp/qiime2-archive-dhtybi5w')\" src=\"data:image/gif;base64,R0lGODlhAQABAIAAAP///wAAACH5BAEAAAAALAAAAAABAAEAAAICRAEAOw==\" /></div>"
      ],
      "text/plain": [
       "<visualization: Visualization uuid: 303ebb10-38f2-4547-9e76-80aa6fbf0f6e>"
      ]
     },
     "execution_count": 41,
     "metadata": {},
     "output_type": "execute_result"
    }
   ],
   "source": [
    "stat_view"
   ]
  },
  {
   "cell_type": "code",
   "execution_count": null,
   "id": "82c22f3f",
   "metadata": {
    "ExecuteTime": {
     "end_time": "2022-05-30T19:57:39.967918Z",
     "start_time": "2022-05-30T19:57:39.958955Z"
    },
    "papermill": {
     "duration": null,
     "end_time": null,
     "exception": null,
     "start_time": null,
     "status": "pending"
    },
    "tags": []
   },
   "outputs": [],
   "source": [
    "# new_stat = Artifact.load('/home/lauro/nupeb/redemicro/experiments/thayane-feces-01/qiime-artifacts/dada2-stat.qza')\n",
    "# # new_view, = metadata_actions.tabulate(input=new_stat.view(Metadata))\n",
    "# # plot_stats_box(old_stat)\n",
    "\n",
    "# old_stat = Artifact.load('/home/lauro/nupeb/dados_brutos_rede_genoma/experiments/fezes-phred_20-tf_0-tr_0-lap_4/fezes_dada2_stat.qza')\n",
    "# # old_view, = metadata_actions.tabulate(input=old_stat.view(Metadata))\n",
    "# # plot_stats_box(old_stat)\n",
    "\n",
    "# plot_stats_box_pairs(old_stat, new_stat)"
   ]
  }
 ],
 "metadata": {
  "celltoolbar": "Edit Metadata",
  "kernelspec": {
   "display_name": "Python 3 (ipykernel)",
   "language": "python",
   "name": "python3"
  },
  "language_info": {
   "codemirror_mode": {
    "name": "ipython",
    "version": 3
   },
   "file_extension": ".py",
   "mimetype": "text/x-python",
   "name": "python",
   "nbconvert_exporter": "python",
   "pygments_lexer": "ipython3",
   "version": "3.8.12"
  },
  "papermill": {
   "default_parameters": {},
   "duration": 18852.962117,
   "end_time": "2023-06-03T00:20:54.267565",
   "environment_variables": {},
   "exception": true,
   "input_path": "nb-templates/step-quality-control.ipynb",
   "output_path": "/home/lauro/nupeb/rede-micro/redemicro-thayane/experiments/thayane-PM-paired-end/nb-executed-steps/step-quality-control-thayane-PM-paired-end.ipynb",
   "parameters": {
    "base_dir": "/home/lauro/nupeb/rede-micro/redemicro-thayane",
    "class_col": "above_10",
    "classifier_file": "/home/lauro/nupeb/16S_classifiers_qiime2/silva-138-99-nb-classifier.qza",
    "experiment_name": "thayane-PM-paired-end",
    "manifest_file": "/home/lauro/nupeb/rede-micro/redemicro-thayane/data/manifest-paired.csv",
    "metadata_file": "/home/lauro/nupeb/rede-micro/redemicro-thayane/data/paired-end-metadata.tsv",
    "overlap": 12,
    "phred": 20,
    "replace_files": false,
    "threads": 6,
    "trunc_f": 0,
    "trunc_r": 0
   },
   "start_time": "2023-06-02T19:06:41.305448",
   "version": "2.3.4"
  },
  "toc-autonumbering": false,
  "toc-showcode": false,
  "toc-showmarkdowntxt": false
 },
 "nbformat": 4,
 "nbformat_minor": 5
}
