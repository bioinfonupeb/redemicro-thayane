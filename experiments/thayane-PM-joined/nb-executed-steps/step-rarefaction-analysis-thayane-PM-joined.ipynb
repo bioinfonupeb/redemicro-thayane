{
 "cells": [
  {
   "cell_type": "markdown",
   "id": "f62fe573",
   "metadata": {
    "papermill": {
     "duration": 0.018557,
     "end_time": "2023-06-05T16:39:35.144046",
     "exception": false,
     "start_time": "2023-06-05T16:39:35.125489",
     "status": "completed"
    },
    "tags": []
   },
   "source": [
    "# STEP : Rarefaction Analysis\n",
    "\n",
    "Using QIIME2 to create rarefaction graphs.\n",
    "\n",
    "\n",
    "## Methods\n",
    "[qiime alpha_rarefaction](https://docs.qiime2.org/2023.2/plugins/available/diversity/alpha-rarefaction/)\n",
    "```\n",
    "Generate interactive alpha rarefaction curves by computing rarefactions\n",
    "between `min_depth` and `max_depth`. The number of intermediate depths to\n",
    "compute is controlled by the `steps` parameter, with n `iterations` being\n",
    "computed at each rarefaction depth. If sample metadata is provided, samples\n",
    "may be grouped based on distinct values within a metadata column.\n",
    "```\n"
   ]
  },
  {
   "cell_type": "markdown",
   "id": "94344746",
   "metadata": {
    "papermill": {
     "duration": 0.032485,
     "end_time": "2023-06-05T16:39:35.188332",
     "exception": false,
     "start_time": "2023-06-05T16:39:35.155847",
     "status": "completed"
    },
    "tags": []
   },
   "source": [
    "## Setup and settings"
   ]
  },
  {
   "cell_type": "code",
   "execution_count": 1,
   "id": "353d61da",
   "metadata": {
    "ExecuteTime": {
     "end_time": "2022-09-22T21:43:54.326002Z",
     "start_time": "2022-09-22T21:43:47.911891Z"
    },
    "execution": {
     "iopub.execute_input": "2023-06-05T16:39:35.213256Z",
     "iopub.status.busy": "2023-06-05T16:39:35.212839Z",
     "iopub.status.idle": "2023-06-05T16:39:41.981424Z",
     "shell.execute_reply": "2023-06-05T16:39:41.980668Z"
    },
    "papermill": {
     "duration": 6.783289,
     "end_time": "2023-06-05T16:39:41.983229",
     "exception": false,
     "start_time": "2023-06-05T16:39:35.199940",
     "status": "completed"
    },
    "tags": []
   },
   "outputs": [],
   "source": [
    "# Importing packages\n",
    "import os\n",
    "import pandas as pd\n",
    "from qiime2 import Artifact\n",
    "from qiime2 import Visualization\n",
    "from qiime2 import Metadata\n",
    "from qiime2.plugins.diversity.visualizers import alpha_rarefaction\n",
    "from qiime2.plugins.diversity.visualizers import beta_rarefaction\n",
    "\n",
    "import matplotlib.pyplot as plt\n",
    "\n",
    "%matplotlib inline"
   ]
  },
  {
   "cell_type": "code",
   "execution_count": 2,
   "id": "7b5e4005",
   "metadata": {
    "ExecuteTime": {
     "end_time": "2022-09-22T21:43:54.330790Z",
     "start_time": "2022-09-22T21:43:54.328358Z"
    },
    "execution": {
     "iopub.execute_input": "2023-06-05T16:39:42.007276Z",
     "iopub.status.busy": "2023-06-05T16:39:42.007110Z",
     "iopub.status.idle": "2023-06-05T16:39:42.010166Z",
     "shell.execute_reply": "2023-06-05T16:39:42.009701Z"
    },
    "papermill": {
     "duration": 0.015908,
     "end_time": "2023-06-05T16:39:42.011443",
     "exception": false,
     "start_time": "2023-06-05T16:39:41.995535",
     "status": "completed"
    },
    "tags": []
   },
   "outputs": [],
   "source": [
    "# from qiime2.plugins import demux, deblur, quality_filter, \\\n",
    "#                            metadata, feature_table, alignment, \\\n",
    "#                            phylogeny, diversity, emperor, feature_classifier, \\\n",
    "#                            taxa, composition"
   ]
  },
  {
   "cell_type": "markdown",
   "id": "5c72dcf1",
   "metadata": {
    "papermill": {
     "duration": 0.010381,
     "end_time": "2023-06-05T16:39:42.032451",
     "exception": false,
     "start_time": "2023-06-05T16:39:42.022070",
     "status": "completed"
    },
    "tags": []
   },
   "source": [
    "### Receiving the parameters\n",
    "\n",
    "The following cell can receive parameters using the [papermill](https://papermill.readthedocs.io/en/latest/) tool."
   ]
  },
  {
   "cell_type": "code",
   "execution_count": 3,
   "id": "f00150bc",
   "metadata": {
    "ExecuteTime": {
     "end_time": "2022-09-22T21:43:54.344271Z",
     "start_time": "2022-09-22T21:43:54.332262Z"
    },
    "execution": {
     "iopub.execute_input": "2023-06-05T16:39:42.065408Z",
     "iopub.status.busy": "2023-06-05T16:39:42.065244Z",
     "iopub.status.idle": "2023-06-05T16:39:42.068563Z",
     "shell.execute_reply": "2023-06-05T16:39:42.068088Z"
    },
    "papermill": {
     "duration": 0.015921,
     "end_time": "2023-06-05T16:39:42.069848",
     "exception": false,
     "start_time": "2023-06-05T16:39:42.053927",
     "status": "completed"
    },
    "tags": [
     "parameters"
    ]
   },
   "outputs": [],
   "source": [
    "metadata_file = '/home/lauro/nupeb/rede-micro/redemicro-miliane-nutri/data/raw/metadata/miliane-metadata-CxAC.tsv'\n",
    "base_dir = os.path.join('/', 'home', 'lauro', 'nupeb', 'rede-micro', 'redemicro-miliane-nutri')\n",
    "experiment_name = 'miliane-CxAC-trim'\n",
    "replace_files = False"
   ]
  },
  {
   "cell_type": "code",
   "execution_count": 4,
   "id": "a753816d",
   "metadata": {
    "execution": {
     "iopub.execute_input": "2023-06-05T16:39:42.109584Z",
     "iopub.status.busy": "2023-06-05T16:39:42.109421Z",
     "iopub.status.idle": "2023-06-05T16:39:42.113183Z",
     "shell.execute_reply": "2023-06-05T16:39:42.112766Z"
    },
    "papermill": {
     "duration": 0.016432,
     "end_time": "2023-06-05T16:39:42.114493",
     "exception": false,
     "start_time": "2023-06-05T16:39:42.098061",
     "status": "completed"
    },
    "tags": [
     "injected-parameters"
    ]
   },
   "outputs": [],
   "source": [
    "# Parameters\n",
    "experiment_name = \"thayane-PM-joined\"\n",
    "base_dir = \"/home/lauro/nupeb/rede-micro/redemicro-thayane\"\n",
    "manifest_file = (\n",
    "    \"/home/lauro/nupeb/rede-micro/redemicro-thayane/data/manifest-single.csv\"\n",
    ")\n",
    "metadata_file = \"/home/lauro/nupeb/rede-micro/redemicro-thayane/data/metadata.tsv\"\n",
    "class_col = \"above_10\"\n",
    "classifier_file = (\n",
    "    \"/home/lauro/nupeb/16S_classifiers_qiime2/silva-138-99-nb-classifier.qza\"\n",
    ")\n",
    "replace_files = False\n",
    "phred = 20\n",
    "trunc_f = 0\n",
    "trunc_r = 0\n",
    "overlap = 12\n",
    "threads = 6\n"
   ]
  },
  {
   "cell_type": "code",
   "execution_count": 5,
   "id": "3cd7cdb7",
   "metadata": {
    "ExecuteTime": {
     "end_time": "2022-09-22T21:43:54.362004Z",
     "start_time": "2022-09-22T21:43:54.346365Z"
    },
    "execution": {
     "iopub.execute_input": "2023-06-05T16:39:42.136480Z",
     "iopub.status.busy": "2023-06-05T16:39:42.136315Z",
     "iopub.status.idle": "2023-06-05T16:39:42.139532Z",
     "shell.execute_reply": "2023-06-05T16:39:42.139086Z"
    },
    "papermill": {
     "duration": 0.015724,
     "end_time": "2023-06-05T16:39:42.140799",
     "exception": false,
     "start_time": "2023-06-05T16:39:42.125075",
     "status": "completed"
    },
    "tags": []
   },
   "outputs": [],
   "source": [
    "experiment_folder = os.path.abspath(os.path.join(base_dir, 'experiments', experiment_name))\n",
    "img_folder = os.path.abspath(os.path.join(experiment_folder, 'imgs'))"
   ]
  },
  {
   "cell_type": "markdown",
   "id": "db57f60a",
   "metadata": {
    "papermill": {
     "duration": 0.010591,
     "end_time": "2023-06-05T16:39:42.162035",
     "exception": false,
     "start_time": "2023-06-05T16:39:42.151444",
     "status": "completed"
    },
    "tags": []
   },
   "source": [
    "### Defining names, paths and flags"
   ]
  },
  {
   "cell_type": "code",
   "execution_count": 6,
   "id": "df24ab79",
   "metadata": {
    "ExecuteTime": {
     "end_time": "2022-09-22T21:43:54.373657Z",
     "start_time": "2022-09-22T21:43:54.363586Z"
    },
    "execution": {
     "iopub.execute_input": "2023-06-05T16:39:42.184090Z",
     "iopub.status.busy": "2023-06-05T16:39:42.183928Z",
     "iopub.status.idle": "2023-06-05T16:39:42.188134Z",
     "shell.execute_reply": "2023-06-05T16:39:42.187689Z"
    },
    "papermill": {
     "duration": 0.016749,
     "end_time": "2023-06-05T16:39:42.189403",
     "exception": false,
     "start_time": "2023-06-05T16:39:42.172654",
     "status": "completed"
    },
    "tags": []
   },
   "outputs": [],
   "source": [
    "# QIIME2 Artifacts folder\n",
    "qiime_folder = os.path.join(experiment_folder, 'qiime-artifacts')\n",
    "\n",
    "# Input - DADA2 Artifacts\n",
    "dada2_tabs_path = os.path.join(qiime_folder, 'dada2-tabs.qza')\n",
    "dada2_reps_path = os.path.join(qiime_folder, 'dada2-reps.qza')\n",
    "dada2_stat_path = os.path.join(qiime_folder, 'dada2-stat.qza')\n",
    "\n",
    "# Output -Rarefaction Artifacts\n",
    "alpha_rarefaction_path = os.path.join(qiime_folder, 'alpha-rarefaction.qza')\n",
    "alpha_rarefaction_view_path = os.path.join(qiime_folder, 'alpha-rarefaction.qzv')\n",
    "\n",
    "# Flag - Load or create files\n",
    "need_tax = not (os.path.isfile(alpha_rarefaction_path)) or replace_files\n",
    "need_view = not (os.path.isfile(alpha_rarefaction_view_path)) or replace_files"
   ]
  },
  {
   "cell_type": "markdown",
   "id": "a0a78c96",
   "metadata": {
    "papermill": {
     "duration": 0.0108,
     "end_time": "2023-06-05T16:39:42.211042",
     "exception": false,
     "start_time": "2023-06-05T16:39:42.200242",
     "status": "completed"
    },
    "tags": []
   },
   "source": [
    "## Step execution\n",
    "\n",
    "### Load input files\n",
    "\n",
    "This Step import the QIIME2 `SampleData[PairedEndSequencesWithQuality]` Artifact with all demultiplexed sequences and the `Metadata` file."
   ]
  },
  {
   "cell_type": "code",
   "execution_count": 7,
   "id": "04267116",
   "metadata": {
    "ExecuteTime": {
     "end_time": "2022-09-22T21:43:54.398034Z",
     "start_time": "2022-09-22T21:43:54.375240Z"
    },
    "execution": {
     "iopub.execute_input": "2023-06-05T16:39:42.233286Z",
     "iopub.status.busy": "2023-06-05T16:39:42.233120Z",
     "iopub.status.idle": "2023-06-05T16:39:42.250500Z",
     "shell.execute_reply": "2023-06-05T16:39:42.249702Z"
    },
    "papermill": {
     "duration": 0.030176,
     "end_time": "2023-06-05T16:39:42.251853",
     "exception": false,
     "start_time": "2023-06-05T16:39:42.221677",
     "status": "completed"
    },
    "tags": []
   },
   "outputs": [],
   "source": [
    "#Load Metadata\n",
    "metadata_qa = Metadata.load(metadata_file)"
   ]
  },
  {
   "cell_type": "code",
   "execution_count": 8,
   "id": "31ab275f",
   "metadata": {
    "ExecuteTime": {
     "end_time": "2022-09-22T21:43:54.827295Z",
     "start_time": "2022-09-22T21:43:54.399431Z"
    },
    "execution": {
     "iopub.execute_input": "2023-06-05T16:39:42.275377Z",
     "iopub.status.busy": "2023-06-05T16:39:42.275217Z",
     "iopub.status.idle": "2023-06-05T16:39:42.963922Z",
     "shell.execute_reply": "2023-06-05T16:39:42.963287Z"
    },
    "papermill": {
     "duration": 0.702955,
     "end_time": "2023-06-05T16:39:42.965667",
     "exception": false,
     "start_time": "2023-06-05T16:39:42.262712",
     "status": "completed"
    },
    "tags": []
   },
   "outputs": [],
   "source": [
    "tabs = Artifact.load(dada2_tabs_path)\n",
    "tabs_df = tabs.view(Metadata).to_dataframe().T"
   ]
  },
  {
   "cell_type": "markdown",
   "id": "977570e4",
   "metadata": {
    "papermill": {
     "duration": 0.010862,
     "end_time": "2023-06-05T16:39:42.987775",
     "exception": false,
     "start_time": "2023-06-05T16:39:42.976913",
     "status": "completed"
    },
    "tags": []
   },
   "source": [
    "## Alpha Rarefaction"
   ]
  },
  {
   "cell_type": "code",
   "execution_count": 9,
   "id": "7b95a121",
   "metadata": {
    "ExecuteTime": {
     "end_time": "2022-09-22T21:55:53.328300Z",
     "start_time": "2022-09-22T21:55:53.318166Z"
    },
    "execution": {
     "iopub.execute_input": "2023-06-05T16:39:43.010888Z",
     "iopub.status.busy": "2023-06-05T16:39:43.010605Z",
     "iopub.status.idle": "2023-06-05T16:39:43.016334Z",
     "shell.execute_reply": "2023-06-05T16:39:43.015785Z"
    },
    "papermill": {
     "duration": 0.018978,
     "end_time": "2023-06-05T16:39:43.017699",
     "exception": false,
     "start_time": "2023-06-05T16:39:42.998721",
     "status": "completed"
    },
    "tags": []
   },
   "outputs": [],
   "source": [
    "# Get min and maximum feature counts to set sampling depth\n",
    "rank_df = tabs_df.sum().sort_values()\n",
    "min_feature_count = int(rank_df.min())\n",
    "max_feature_count = int(rank_df.max())"
   ]
  },
  {
   "cell_type": "code",
   "execution_count": 10,
   "id": "15e1b6c4",
   "metadata": {
    "execution": {
     "iopub.execute_input": "2023-06-05T16:39:43.043164Z",
     "iopub.status.busy": "2023-06-05T16:39:43.043002Z",
     "iopub.status.idle": "2023-06-05T16:39:43.053162Z",
     "shell.execute_reply": "2023-06-05T16:39:43.052494Z"
    },
    "papermill": {
     "duration": 0.025713,
     "end_time": "2023-06-05T16:39:43.055007",
     "exception": false,
     "start_time": "2023-06-05T16:39:43.029294",
     "status": "completed"
    },
    "tags": []
   },
   "outputs": [],
   "source": [
    "# Add new columns with samples IDs to rarefaction\n",
    "meta_df = metadata_qa.to_dataframe()\n",
    "meta_df['samples'] = meta_df.index.to_list()\n",
    "metadata_qa = Metadata(meta_df)"
   ]
  },
  {
   "cell_type": "code",
   "execution_count": 11,
   "id": "9c5654fe",
   "metadata": {
    "ExecuteTime": {
     "end_time": "2022-09-22T21:56:13.586159Z",
     "start_time": "2022-09-22T21:55:55.117935Z"
    },
    "execution": {
     "iopub.execute_input": "2023-06-05T16:39:43.081534Z",
     "iopub.status.busy": "2023-06-05T16:39:43.081334Z",
     "iopub.status.idle": "2023-06-05T16:40:05.946924Z",
     "shell.execute_reply": "2023-06-05T16:40:05.946287Z"
    },
    "papermill": {
     "duration": 22.880749,
     "end_time": "2023-06-05T16:40:05.949997",
     "exception": false,
     "start_time": "2023-06-05T16:39:43.069248",
     "status": "completed"
    },
    "tags": []
   },
   "outputs": [],
   "source": [
    "alpha_rar = alpha_rarefaction(\n",
    "    table = tabs,\n",
    "    max_depth = max_feature_count,\n",
    "    min_depth = 1,\n",
    "    metadata = metadata_qa,\n",
    ")"
   ]
  },
  {
   "cell_type": "code",
   "execution_count": 12,
   "id": "7ef9f0dc",
   "metadata": {
    "ExecuteTime": {
     "end_time": "2022-09-22T21:56:13.632468Z",
     "start_time": "2022-09-22T21:56:13.589032Z"
    },
    "execution": {
     "iopub.execute_input": "2023-06-05T16:40:05.985398Z",
     "iopub.status.busy": "2023-06-05T16:40:05.985162Z",
     "iopub.status.idle": "2023-06-05T16:40:06.037706Z",
     "shell.execute_reply": "2023-06-05T16:40:06.037144Z"
    },
    "papermill": {
     "duration": 0.069317,
     "end_time": "2023-06-05T16:40:06.040796",
     "exception": false,
     "start_time": "2023-06-05T16:40:05.971479",
     "status": "completed"
    },
    "scrolled": true,
    "tags": []
   },
   "outputs": [
    {
     "data": {
      "text/html": [
       "<div><img onload=\"(function(div, url){\n",
       "if (typeof require !== 'undefined') {\n",
       "    var baseURL = require.toUrl('').split('/').slice(0, -2).join('/');\n",
       "} else {\n",
       "    var baseURL = JSON.parse(\n",
       "        document.getElementById('jupyter-config-data').innerHTML\n",
       "    ).baseUrl.slice(0, -1);\n",
       "}\n",
       "url = baseURL + url;\n",
       "fetch(url).then(function(res) {\n",
       "    if (res.status === 404) {\n",
       "        div.innerHTML = 'Install QIIME 2 Jupyter extension with:<br />' +\n",
       "                        '<code>jupyter serverextension enable --py qiime2' +\n",
       "                        ' --sys-prefix</code><br />then restart your server.' +\n",
       "                        '<br /><br />(Interactive output not available on ' +\n",
       "                        'static notebook viewer services like nbviewer.)';\n",
       "    } else if (res.status === 409) {\n",
       "        div.innerHTML = 'Visualization no longer in scope. Re-run this cell' +\n",
       "                        ' to see the visualization.';\n",
       "    } else if (res.ok) {\n",
       "        url = res.url;\n",
       "        div.innerHTML = '<iframe src=\\'' + url + '\\' style=\\'' +\n",
       "                        'width: 100%; height: 700px; border: 0;\\'>' +\n",
       "                        '</iframe><hr />Open in a: <a href=\\'' + url + '\\'' +\n",
       "                        ' target=\\'_blank\\'>new window</a>'\n",
       "    } else {\n",
       "        div.innerHTML = 'Something has gone wrong. Check notebook server for' +\n",
       "                        ' errors.';\n",
       "    }\n",
       "});\n",
       "})(this.parentElement, '/qiime2/redirect?location=/tmp/qiime2-archive-euz6satj')\" src=\"data:image/gif;base64,R0lGODlhAQABAIAAAP///wAAACH5BAEAAAAALAAAAAABAAEAAAICRAEAOw==\" /></div>"
      ],
      "text/plain": [
       "<visualization: Visualization uuid: 1ec1bd16-db82-4062-aa99-cc8dc33115e5>"
      ]
     },
     "execution_count": 12,
     "metadata": {},
     "output_type": "execute_result"
    }
   ],
   "source": [
    "alpha_rar.visualization.save(alpha_rarefaction_view_path)\n",
    "alpha_rar.visualization"
   ]
  },
  {
   "cell_type": "markdown",
   "id": "063dbb6e",
   "metadata": {
    "papermill": {
     "duration": 0.016263,
     "end_time": "2023-06-05T16:40:06.076322",
     "exception": false,
     "start_time": "2023-06-05T16:40:06.060059",
     "status": "completed"
    },
    "tags": []
   },
   "source": [
    "## Beta Rarefaction"
   ]
  },
  {
   "cell_type": "code",
   "execution_count": 13,
   "id": "5ecb701a",
   "metadata": {
    "ExecuteTime": {
     "end_time": "2022-09-22T21:56:19.645438Z",
     "start_time": "2022-09-22T21:56:17.687848Z"
    },
    "execution": {
     "iopub.execute_input": "2023-06-05T16:40:06.104552Z",
     "iopub.status.busy": "2023-06-05T16:40:06.104295Z",
     "iopub.status.idle": "2023-06-05T16:40:08.411576Z",
     "shell.execute_reply": "2023-06-05T16:40:08.411105Z"
    },
    "papermill": {
     "duration": 2.324781,
     "end_time": "2023-06-05T16:40:08.414692",
     "exception": false,
     "start_time": "2023-06-05T16:40:06.089911",
     "status": "completed"
    },
    "tags": []
   },
   "outputs": [
    {
     "data": {
      "image/png": "[encoded data removed]",
      "text/plain": [
       "<Figure size 432x288 with 2 Axes>"
      ]
     },
     "metadata": {
      "needs_background": "light"
     },
     "output_type": "display_data"
    }
   ],
   "source": [
    "choices = ('matching', 'aitchison', 'euclidean', 'generalized_unifrac', 'canberra', 'russellrao', 'braycurtis', 'cosine', 'jensenshannon', 'yule', 'weighted_normalized_unifrac', 'unweighted_unifrac', 'hamming', 'weighted_unifrac', 'cityblock', 'sokalmichener', 'seuclidean', 'rogerstanimoto', 'correlation', 'minkowski', 'kulsinski', 'chebyshev', 'sqeuclidean', 'sokalsneath', 'jaccard', 'dice', 'canberra_adkins')\n",
    "clustering_methods = ('nj', 'upgma')\n",
    "correlation_methods = ('pearson', 'spearman')\n",
    "\n",
    "sampling_depth = max(min_feature_count, 1)\n",
    "metric = 'braycurtis'\n",
    "clustering_method = clustering_methods[0]\n",
    "correlation_method = correlation_methods[1]\n",
    "\n",
    "beta_rar = beta_rarefaction(\n",
    "    table = tabs,\n",
    "    sampling_depth  = sampling_depth,\n",
    "    metadata = metadata_qa,\n",
    "    metric = metric,\n",
    "    clustering_method = clustering_method,\n",
    "    correlation_method = correlation_method,\n",
    ")"
   ]
  },
  {
   "cell_type": "markdown",
   "id": "eb0088de",
   "metadata": {
    "papermill": {
     "duration": 0.01263,
     "end_time": "2023-06-05T16:40:08.452696",
     "exception": false,
     "start_time": "2023-06-05T16:40:08.440066",
     "status": "completed"
    },
    "tags": []
   },
   "source": [
    " ## Beta diversity PCoA\n",
    " Ellipses represent 95% confidence intervals."
   ]
  },
  {
   "cell_type": "code",
   "execution_count": 14,
   "id": "7ee9bdd0",
   "metadata": {
    "ExecuteTime": {
     "end_time": "2022-09-22T21:56:22.170995Z",
     "start_time": "2022-09-22T21:56:22.048827Z"
    },
    "execution": {
     "iopub.execute_input": "2023-06-05T16:40:08.479046Z",
     "iopub.status.busy": "2023-06-05T16:40:08.478896Z",
     "iopub.status.idle": "2023-06-05T16:40:08.574143Z",
     "shell.execute_reply": "2023-06-05T16:40:08.573563Z"
    },
    "papermill": {
     "duration": 0.110014,
     "end_time": "2023-06-05T16:40:08.575496",
     "exception": false,
     "start_time": "2023-06-05T16:40:08.465482",
     "status": "completed"
    },
    "tags": []
   },
   "outputs": [
    {
     "data": {
      "text/html": [
       "<div><img onload=\"(function(div, url){\n",
       "if (typeof require !== 'undefined') {\n",
       "    var baseURL = require.toUrl('').split('/').slice(0, -2).join('/');\n",
       "} else {\n",
       "    var baseURL = JSON.parse(\n",
       "        document.getElementById('jupyter-config-data').innerHTML\n",
       "    ).baseUrl.slice(0, -1);\n",
       "}\n",
       "url = baseURL + url;\n",
       "fetch(url).then(function(res) {\n",
       "    if (res.status === 404) {\n",
       "        div.innerHTML = 'Install QIIME 2 Jupyter extension with:<br />' +\n",
       "                        '<code>jupyter serverextension enable --py qiime2' +\n",
       "                        ' --sys-prefix</code><br />then restart your server.' +\n",
       "                        '<br /><br />(Interactive output not available on ' +\n",
       "                        'static notebook viewer services like nbviewer.)';\n",
       "    } else if (res.status === 409) {\n",
       "        div.innerHTML = 'Visualization no longer in scope. Re-run this cell' +\n",
       "                        ' to see the visualization.';\n",
       "    } else if (res.ok) {\n",
       "        url = res.url;\n",
       "        div.innerHTML = '<iframe src=\\'' + url + '\\' style=\\'' +\n",
       "                        'width: 100%; height: 700px; border: 0;\\'>' +\n",
       "                        '</iframe><hr />Open in a: <a href=\\'' + url + '\\'' +\n",
       "                        ' target=\\'_blank\\'>new window</a>'\n",
       "    } else {\n",
       "        div.innerHTML = 'Something has gone wrong. Check notebook server for' +\n",
       "                        ' errors.';\n",
       "    }\n",
       "});\n",
       "})(this.parentElement, '/qiime2/redirect?location=/tmp/qiime2-archive-dwkh4be5')\" src=\"data:image/gif;base64,R0lGODlhAQABAIAAAP///wAAACH5BAEAAAAALAAAAAABAAEAAAICRAEAOw==\" /></div>"
      ],
      "text/plain": [
       "<visualization: Visualization uuid: bf59fe67-3087-4c12-bc78-0f9d4a71e415>"
      ]
     },
     "execution_count": 14,
     "metadata": {},
     "output_type": "execute_result"
    }
   ],
   "source": [
    "plot_tmp = f'{metric}-{clustering_method}-{correlation_method}-{sampling_depth}'\n",
    "beta_rarefaction_view_path = os.path.join(qiime_folder, f'beta-rarefaction-{plot_tmp}.qzv')\n",
    "beta_rar.visualization.save(beta_rarefaction_view_path)\n",
    "\n",
    "beta_rar.visualization"
   ]
  }
 ],
 "metadata": {
  "celltoolbar": "Edit Metadata",
  "kernelspec": {
   "display_name": "Python 3 (ipykernel)",
   "language": "python",
   "name": "python3"
  },
  "language_info": {
   "codemirror_mode": {
    "name": "ipython",
    "version": 3
   },
   "file_extension": ".py",
   "mimetype": "text/x-python",
   "name": "python",
   "nbconvert_exporter": "python",
   "pygments_lexer": "ipython3",
   "version": "3.8.12"
  },
  "papermill": {
   "default_parameters": {},
   "duration": 35.484262,
   "end_time": "2023-06-05T16:40:09.306251",
   "environment_variables": {},
   "exception": null,
   "input_path": "nb-templates/step-rarefaction-analysis.ipynb",
   "output_path": "/home/lauro/nupeb/rede-micro/redemicro-thayane/experiments/thayane-PM-joined/nb-executed-steps/step-rarefaction-analysis-thayane-PM-joined.ipynb",
   "parameters": {
    "base_dir": "/home/lauro/nupeb/rede-micro/redemicro-thayane",
    "class_col": "above_10",
    "classifier_file": "/home/lauro/nupeb/16S_classifiers_qiime2/silva-138-99-nb-classifier.qza",
    "experiment_name": "thayane-PM-joined",
    "manifest_file": "/home/lauro/nupeb/rede-micro/redemicro-thayane/data/manifest-single.csv",
    "metadata_file": "/home/lauro/nupeb/rede-micro/redemicro-thayane/data/metadata.tsv",
    "overlap": 12,
    "phred": 20,
    "replace_files": false,
    "threads": 6,
    "trunc_f": 0,
    "trunc_r": 0
   },
   "start_time": "2023-06-05T16:39:33.821989",
   "version": "2.3.4"
  },
  "toc-autonumbering": false,
  "toc-showcode": false,
  "toc-showmarkdowntxt": false
 },
 "nbformat": 4,
 "nbformat_minor": 5
}
