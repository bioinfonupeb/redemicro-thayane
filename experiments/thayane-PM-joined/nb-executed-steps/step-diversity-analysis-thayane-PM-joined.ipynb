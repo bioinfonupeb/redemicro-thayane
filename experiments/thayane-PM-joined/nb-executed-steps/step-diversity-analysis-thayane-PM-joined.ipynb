{
 "cells": [
  {
   "cell_type": "markdown",
   "id": "15bcfa06",
   "metadata": {
    "papermill": {
     "duration": 0.022854,
     "end_time": "2023-06-06T20:11:16.291720",
     "exception": false,
     "start_time": "2023-06-06T20:11:16.268866",
     "status": "completed"
    },
    "tags": []
   },
   "source": [
    " \n",
    "# Alpha and Beta Diversity\n",
    "\n",
    "Different higher-level measures are often used to describe the microbiome in a sample. These do not provide information on changes in the abundance of specific taxa but allow us to access a broader change or difference in the composition of microorganisms. Alpha and beta diversity are examples of such measures.\n",
    "\n",
    "Different measures exist to estimate diversity within a single sample, jointly called alpha diversity. The different measures reflect the richness (number) or distribution (evenness) of a microbial sample or aim to reflect a combination of both properties.\n",
    "\n",
    "Rarefaction curves are often used when calculating alpha diversity indices because increasing numbers of sequenced taxa allow increasingly accurate estimates of total population diversity. Rarefaction curves can therefore be used to estimate the full sample richness, as compared to the observed sample richness.\n",
    "\n",
    "While alpha diversity is a measure of microbiome diversity applicable to a single sample, beta diversity is a measure of the similarity or dissimilarity of two communities. As for alpha diversity, many indices exist, each reflecting different aspects of community heterogeneity. Key differences relate to how the indices value variation in rare species if they consider presence/absence only or incorporate abundance, and how they interpret shared absence. Bray-Curtis dissimilarity is a popular measure that considers both size (overall abundance per sample) and shape (abundance of each taxon) of the communities (Bray, 1957). Beta diversity is an essential measure for many popular statistical methods in ecology, such as ordination-based methods, and is widely used for studying the association between environmental variables and microbial composition.\n",
    "\n",
    "In summary, alpha diversity measures can be seen as a summary statistic of a single population (within-sample diversity), while beta diversity measures are estimates of similarity or dissimilarity between populations (between samples).\n",
    "\n",
    "**Source**: (https://biomcare.com/info/key-terms-in-microbiome-projects/)"
   ]
  },
  {
   "cell_type": "markdown",
   "id": "0e7f2330",
   "metadata": {
    "ExecuteTime": {
     "end_time": "2022-09-22T19:36:33.828188Z",
     "start_time": "2022-09-22T19:36:33.817323Z"
    },
    "papermill": {
     "duration": 0.015597,
     "end_time": "2023-06-06T20:11:16.390594",
     "exception": false,
     "start_time": "2023-06-06T20:11:16.374997",
     "status": "completed"
    },
    "tags": []
   },
   "source": [
    "### STEP : Diversity Analysis\n",
    "\n",
    "Using QIIME2 to create diversity analisys graphs and calculations.\n",
    "\n",
    "- [QIIME2 Workflow Overview](https://docs.qiime2.org/2022.8/tutorials/overview/)\n",
    "\n",
    "\n",
    "#### Methods\n",
    "- [diversity](https://docs.qiime2.org/2022.8/plugins/available/diversity/)\n",
    "- [diversity alpha](https://docs.qiime2.org/2022.8/plugins/available/diversity/alpha/)\n",
    "- [diversity alpha_phylogenetic](https://docs.qiime2.org/2022.8/plugins/available/diversity/alpha-phylogenetic/)\n",
    "- [diversity beta](https://docs.qiime2.org/2022.8/plugins/available/diversity/beta/)\n",
    "- [diversity core_metrics](https://docs.qiime2.org/2022.8/plugins/available/diversity/core-metrics/)\n",
    "- [diversity alpha_group_significance](https://docs.qiime2.org/2022.8/plugins/available/diversity/alpha-group-significance/)\n",
    "- [diversity beta_group_significance](https://docs.qiime2.org/2022.8/plugins/available/diversity/beta-group-significance/)\n",
    "- [feature_table core_features](https://docs.qiime2.org/2022.8/plugins/available/feature-table/core-features/)\n",
    "- [feature_table summarize](https://docs.qiime2.org/2022.8/plugins/available/feature-table/summarize/)\n",
    "- [taxa filter-table](https://docs.qiime2.org/2022.8/plugins/available/taxa/filter-table/)\n",
    "- [taxa collapse](https://docs.qiime2.org/2022.8/plugins/available/taxa/collapse/)"
   ]
  },
  {
   "cell_type": "markdown",
   "id": "843debbf",
   "metadata": {
    "papermill": {
     "duration": 0.014791,
     "end_time": "2023-06-06T20:11:16.420657",
     "exception": false,
     "start_time": "2023-06-06T20:11:16.405866",
     "status": "completed"
    },
    "tags": []
   },
   "source": [
    "## Setup and settings"
   ]
  },
  {
   "cell_type": "code",
   "execution_count": 1,
   "id": "965e28e5",
   "metadata": {
    "ExecuteTime": {
     "end_time": "2022-11-03T20:35:26.198671Z",
     "start_time": "2022-11-03T20:35:06.473173Z"
    },
    "execution": {
     "iopub.execute_input": "2023-06-06T20:11:16.450887Z",
     "iopub.status.busy": "2023-06-06T20:11:16.450661Z",
     "iopub.status.idle": "2023-06-06T20:11:23.506125Z",
     "shell.execute_reply": "2023-06-06T20:11:23.505232Z"
    },
    "papermill": {
     "duration": 7.074196,
     "end_time": "2023-06-06T20:11:23.509487",
     "exception": false,
     "start_time": "2023-06-06T20:11:16.435291",
     "status": "completed"
    },
    "tags": []
   },
   "outputs": [],
   "source": [
    "# Importing packages\n",
    "import os\n",
    "import pandas as pd\n",
    "from qiime2 import Artifact\n",
    "from qiime2 import Visualization\n",
    "from qiime2 import Metadata\n",
    "\n",
    "from qiime2.plugins.phylogeny.pipelines import align_to_tree_mafft_fasttree\n",
    "\n",
    "from qiime2.plugins.diversity.pipelines import alpha\n",
    "from qiime2.plugins.diversity.pipelines import beta\n",
    "from qiime2.plugins.diversity.pipelines import core_metrics\n",
    "from qiime2.plugins.diversity.pipelines import alpha_phylogenetic\n",
    "\n",
    "from qiime2.plugins.diversity.visualizers import alpha_group_significance\n",
    "from qiime2.plugins.diversity.visualizers import beta_group_significance\n",
    "from qiime2.plugins.diversity.visualizers import alpha_correlation\n",
    "from qiime2.plugins.diversity.visualizers import beta_rarefaction\n",
    "\n",
    "from qiime2.plugins.taxa.methods import filter_table\n",
    "from qiime2.plugins.taxa.methods import collapse\n",
    "\n",
    "from qiime2.plugins.feature_table.visualizers import tabulate_seqs\n",
    "from qiime2.plugins.feature_table.visualizers import summarize\n",
    "from qiime2.plugins.feature_table.visualizers import core_features\n",
    "\n",
    "from qiime2.plugins.alignment.methods import mafft\n",
    "\n",
    "\n",
    "import matplotlib.pyplot as plt\n",
    "\n",
    "%matplotlib inline"
   ]
  },
  {
   "cell_type": "markdown",
   "id": "530ceb60",
   "metadata": {
    "papermill": {
     "duration": 0.081576,
     "end_time": "2023-06-06T20:11:23.611591",
     "exception": false,
     "start_time": "2023-06-06T20:11:23.530015",
     "status": "completed"
    },
    "tags": []
   },
   "source": [
    "### Receiving the parameters\n",
    "\n",
    "The following cell can receive parameters using the [papermill](https://papermill.readthedocs.io/en/latest/) tool."
   ]
  },
  {
   "cell_type": "code",
   "execution_count": 2,
   "id": "18d874ea",
   "metadata": {
    "ExecuteTime": {
     "end_time": "2022-09-29T20:54:14.793270Z",
     "start_time": "2022-09-29T20:54:14.789367Z"
    },
    "execution": {
     "iopub.execute_input": "2023-06-06T20:11:23.667149Z",
     "iopub.status.busy": "2023-06-06T20:11:23.666833Z",
     "iopub.status.idle": "2023-06-06T20:11:23.673130Z",
     "shell.execute_reply": "2023-06-06T20:11:23.671734Z"
    },
    "papermill": {
     "duration": 0.024793,
     "end_time": "2023-06-06T20:11:23.675949",
     "exception": false,
     "start_time": "2023-06-06T20:11:23.651156",
     "status": "completed"
    },
    "tags": [
     "parameters"
    ]
   },
   "outputs": [],
   "source": [
    "base_dir = os.path.join('/', 'home')\n",
    "metadata_file = os.path.abspath(os.path.join(base_dir, 'data', 'metadatada.tsv'))\n",
    "experiment_name = ''\n",
    "class_col = ''\n",
    "replace_files = False"
   ]
  },
  {
   "cell_type": "code",
   "execution_count": 3,
   "id": "b4665144",
   "metadata": {
    "execution": {
     "iopub.execute_input": "2023-06-06T20:11:23.707990Z",
     "iopub.status.busy": "2023-06-06T20:11:23.707814Z",
     "iopub.status.idle": "2023-06-06T20:11:23.712036Z",
     "shell.execute_reply": "2023-06-06T20:11:23.711282Z"
    },
    "papermill": {
     "duration": 0.020189,
     "end_time": "2023-06-06T20:11:23.713581",
     "exception": false,
     "start_time": "2023-06-06T20:11:23.693392",
     "status": "completed"
    },
    "tags": [
     "injected-parameters"
    ]
   },
   "outputs": [],
   "source": [
    "# Parameters\n",
    "experiment_name = \"thayane-PM-joined\"\n",
    "base_dir = \"/home/lauro/nupeb/rede-micro/redemicro-thayane\"\n",
    "manifest_file = (\n",
    "    \"/home/lauro/nupeb/rede-micro/redemicro-thayane/data/manifest-single.csv\"\n",
    ")\n",
    "metadata_file = \"/home/lauro/nupeb/rede-micro/redemicro-thayane/data/metadata.tsv\"\n",
    "class_col = \"above_10\"\n",
    "classifier_file = (\n",
    "    \"/home/lauro/nupeb/16S_classifiers_qiime2/silva-138-99-nb-classifier.qza\"\n",
    ")\n",
    "replace_files = False\n",
    "phred = 20\n",
    "trunc_f = 0\n",
    "trunc_r = 0\n",
    "overlap = 12\n",
    "threads = 6\n"
   ]
  },
  {
   "cell_type": "code",
   "execution_count": 4,
   "id": "f38617d9",
   "metadata": {
    "ExecuteTime": {
     "end_time": "2022-09-29T20:54:14.804575Z",
     "start_time": "2022-09-29T20:54:14.794927Z"
    },
    "execution": {
     "iopub.execute_input": "2023-06-06T20:11:23.742924Z",
     "iopub.status.busy": "2023-06-06T20:11:23.742566Z",
     "iopub.status.idle": "2023-06-06T20:11:23.747643Z",
     "shell.execute_reply": "2023-06-06T20:11:23.746687Z"
    },
    "papermill": {
     "duration": 0.022013,
     "end_time": "2023-06-06T20:11:23.749652",
     "exception": false,
     "start_time": "2023-06-06T20:11:23.727639",
     "status": "completed"
    },
    "tags": []
   },
   "outputs": [],
   "source": [
    "experiment_folder = os.path.abspath(os.path.join(base_dir, 'experiments', experiment_name))\n",
    "img_folder = os.path.abspath(os.path.join(experiment_folder, 'imgs'))"
   ]
  },
  {
   "cell_type": "markdown",
   "id": "ea9b90fb",
   "metadata": {
    "papermill": {
     "duration": 0.013143,
     "end_time": "2023-06-06T20:11:23.777635",
     "exception": false,
     "start_time": "2023-06-06T20:11:23.764492",
     "status": "completed"
    },
    "tags": []
   },
   "source": [
    "### Defining names, paths and flags"
   ]
  },
  {
   "cell_type": "code",
   "execution_count": 5,
   "id": "45727eef",
   "metadata": {
    "ExecuteTime": {
     "end_time": "2022-09-29T20:54:14.816686Z",
     "start_time": "2022-09-29T20:54:14.806238Z"
    },
    "execution": {
     "iopub.execute_input": "2023-06-06T20:11:23.805358Z",
     "iopub.status.busy": "2023-06-06T20:11:23.805059Z",
     "iopub.status.idle": "2023-06-06T20:11:23.815881Z",
     "shell.execute_reply": "2023-06-06T20:11:23.814808Z"
    },
    "papermill": {
     "duration": 0.027017,
     "end_time": "2023-06-06T20:11:23.817832",
     "exception": false,
     "start_time": "2023-06-06T20:11:23.790815",
     "status": "completed"
    },
    "tags": []
   },
   "outputs": [],
   "source": [
    "# QIIME2 Artifacts folder\n",
    "qiime_folder = os.path.join(experiment_folder, 'qiime-artifacts')\n",
    "\n",
    "# Input - DADA2 Artifacts\n",
    "dada2_tabs_path = os.path.join(qiime_folder, 'dada2-tabs.qza')\n",
    "dada2_reps_path = os.path.join(qiime_folder, 'dada2-reps.qza')\n",
    "dada2_stat_path = os.path.join(qiime_folder, 'dada2-stat.qza')\n",
    "\n",
    "# Input - Taxonaomic Artifacts\n",
    "taxonomy_path = os.path.join(qiime_folder, 'metatax.qza')\n",
    "\n",
    "# Create folder to store Alpha files\n",
    "alpha_path = os.path.join(qiime_folder, 'alpha-analysis')\n",
    "if not os.path.exists(alpha_path):\n",
    "    os.makedirs(alpha_path)\n",
    "    print(f'The new directory is created in {alpha_path}')\n",
    "    \n",
    "# Create folder to store Beta files\n",
    "beta_path = os.path.join(qiime_folder, 'beta-analysis')\n",
    "if not os.path.exists(beta_path):\n",
    "    os.makedirs(beta_path)\n",
    "    print(f'The new directory is created in {beta_path}')\n",
    "\n",
    "# Output -Diversity Artifacts\n",
    "alpha_diversity_path = os.path.join(alpha_path, 'alpha-diversity.qza')\n",
    "alpha_diversity_view_path = os.path.join(alpha_path, 'alpha-diversity.qzv')\n",
    "beta_diversity_path = os.path.join(beta_path, 'beta-diversity.qza')\n",
    "beta_diversity_view_path = os.path.join(beta_path, 'beta-diversity.qzv')"
   ]
  },
  {
   "cell_type": "code",
   "execution_count": 6,
   "id": "601ae263",
   "metadata": {
    "ExecuteTime": {
     "end_time": "2022-09-29T20:54:14.829117Z",
     "start_time": "2022-09-29T20:54:14.818272Z"
    },
    "execution": {
     "iopub.execute_input": "2023-06-06T20:11:23.850921Z",
     "iopub.status.busy": "2023-06-06T20:11:23.850525Z",
     "iopub.status.idle": "2023-06-06T20:11:23.860942Z",
     "shell.execute_reply": "2023-06-06T20:11:23.859842Z"
    },
    "papermill": {
     "duration": 0.027066,
     "end_time": "2023-06-06T20:11:23.862739",
     "exception": false,
     "start_time": "2023-06-06T20:11:23.835673",
     "status": "completed"
    },
    "tags": []
   },
   "outputs": [],
   "source": [
    "def filter_and_collapse(tab, seqs, tax, meta, lvl, exclude=True, exclude_list='uncultured,unidentified,metagenome'):\n",
    "    from qiime2.plugins.taxa.methods import collapse\n",
    "    from qiime2.plugins.taxa.methods import filter_table\n",
    "    from qiime2.plugins.feature_table.methods import filter_seqs\n",
    "    from qiime2.plugins.feature_table.visualizers import summarize\n",
    "    \n",
    "    to_include = ('d', 'p', 'c', 'o', 'f', 'g', 's')[lvl-1]\n",
    "    to_include += '__'\n",
    "    to_exclude = exclude_list if exclude else None\n",
    "    \n",
    "    filtered_tabs = filter_table(\n",
    "        table=tab, \n",
    "        taxonomy=tax,\n",
    "        include=to_include,\n",
    "        exclude=to_exclude,\n",
    "        mode='contains').filtered_table\n",
    "    \n",
    "    filtered_seqs = filter_seqs(\n",
    "        data = seqs,\n",
    "        table = filtered_tabs,\n",
    "    ).filtered_data\n",
    "    \n",
    "    collapsed_table = collapse(table=filtered_tabs, taxonomy=tax, level=lvl).collapsed_table\n",
    "    collapsed_table_view = summarize(table=collapsed_table, sample_metadata=meta).visualization\n",
    "    \n",
    "    return collapsed_table, collapsed_table_view, filtered_seqs"
   ]
  },
  {
   "cell_type": "markdown",
   "id": "0999a1b2",
   "metadata": {
    "papermill": {
     "duration": 0.013197,
     "end_time": "2023-06-06T20:11:23.893510",
     "exception": false,
     "start_time": "2023-06-06T20:11:23.880313",
     "status": "completed"
    },
    "tags": []
   },
   "source": [
    "## Step execution\n",
    "\n",
    "### Load input files\n",
    "\n",
    "This Step import the QIIME2 `FeatureTable[Frequency]` Artifact and the `Metadata` file."
   ]
  },
  {
   "cell_type": "code",
   "execution_count": 7,
   "id": "8f299d1a",
   "metadata": {
    "ExecuteTime": {
     "end_time": "2022-09-29T20:54:15.559837Z",
     "start_time": "2022-09-29T20:54:14.830405Z"
    },
    "execution": {
     "iopub.execute_input": "2023-06-06T20:11:23.920902Z",
     "iopub.status.busy": "2023-06-06T20:11:23.920742Z",
     "iopub.status.idle": "2023-06-06T20:11:24.842432Z",
     "shell.execute_reply": "2023-06-06T20:11:24.841834Z"
    },
    "papermill": {
     "duration": 0.938657,
     "end_time": "2023-06-06T20:11:24.845339",
     "exception": false,
     "start_time": "2023-06-06T20:11:23.906682",
     "status": "completed"
    },
    "tags": []
   },
   "outputs": [],
   "source": [
    "#Load Metadata\n",
    "metadata_qa = Metadata.load(metadata_file)\n",
    "\n",
    "#Load FeatureTable[Frequency]\n",
    "tabs = Artifact.load(dada2_tabs_path)\n",
    "tabs_df = tabs.view(Metadata).to_dataframe().T\n",
    "\n",
    "# FeatureData[Sequence]\n",
    "reps = Artifact.load(dada2_reps_path)\n",
    "\n",
    "# FeatureData[Taxonomy]\n",
    "tax = Artifact.load(taxonomy_path)"
   ]
  },
  {
   "cell_type": "code",
   "execution_count": 8,
   "id": "c8dfe530",
   "metadata": {
    "ExecuteTime": {
     "end_time": "2022-09-29T20:54:15.564968Z",
     "start_time": "2022-09-29T20:54:15.561875Z"
    },
    "execution": {
     "iopub.execute_input": "2023-06-06T20:11:24.880574Z",
     "iopub.status.busy": "2023-06-06T20:11:24.880305Z",
     "iopub.status.idle": "2023-06-06T20:11:24.884112Z",
     "shell.execute_reply": "2023-06-06T20:11:24.883171Z"
    },
    "papermill": {
     "duration": 0.020335,
     "end_time": "2023-06-06T20:11:24.885789",
     "exception": false,
     "start_time": "2023-06-06T20:11:24.865454",
     "status": "completed"
    },
    "tags": []
   },
   "outputs": [],
   "source": [
    "# lvl = 7\n",
    "# exclude = True\n",
    "# tabs, collapsed_table_view, reps = filter_and_collapse(\n",
    "#                     tabs, reps, tax, metadata_qa, \n",
    "#                     lvl=lvl,\n",
    "#                     exclude=exclude, \n",
    "#                     exclude_list='uncultured,unidentified,metagenome')\n",
    "# collapsed_table_view"
   ]
  },
  {
   "cell_type": "markdown",
   "id": "9f43843a",
   "metadata": {
    "ExecuteTime": {
     "end_time": "2022-09-22T22:48:07.523952Z",
     "start_time": "2022-09-22T22:48:07.517565Z"
    },
    "papermill": {
     "duration": 0.014596,
     "end_time": "2023-06-06T20:11:24.915373",
     "exception": false,
     "start_time": "2023-06-06T20:11:24.900777",
     "status": "completed"
    },
    "tags": []
   },
   "source": [
    "## Alpha diversity analysis\n",
    "\n",
    "#### Reference\n",
    "- [The Use and Types of Alpha-Diversity Metrics in Microbial NGS](https://www.cd-genomics.com/microbioseq/the-use-and-types-of-alpha-diversity-metrics-in-microbial-ngs.html)\n",
    "- [Alpha diversity metrics](http://scikit-bio.org/docs/0.2.0/generated/skbio.diversity.alpha.html)\n",
    "\n",
    "#### Methods\n",
    "- [diversity alpha](https://docs.qiime2.org/2022.8/plugins/available/diversity/alpha/): Computes a user-specified alpha diversity metric for all samples in a\n",
    "feature table.\n",
    "- [diversity alpha_phylogenetic](https://docs.qiime2.org/2022.8/plugins/available/diversity/alpha-phylogenetic/): Computes a user-specified phylogenetic alpha diversity metric for all\n",
    "samples in a feature table.\n",
    "- [diversity alpha_correlation](https://docs.qiime2.org/2022.8/plugins/available/diversity/alpha-correlation/): Determine whether numeric sample metadata columns are correlated with alpha diversity.\n",
    "- [diversity alpha_group_significance](https://docs.qiime2.org/2022.8/plugins/available/diversity/alpha-group-significance/): Visually and statistically compare groups of alpha diversity values."
   ]
  },
  {
   "cell_type": "markdown",
   "id": "606b9c75",
   "metadata": {
    "papermill": {
     "duration": 0.01459,
     "end_time": "2023-06-06T20:11:24.944149",
     "exception": false,
     "start_time": "2023-06-06T20:11:24.929559",
     "status": "completed"
    },
    "tags": []
   },
   "source": [
    "### Compute Alpha Diversity vectors\n",
    "- [diversity alpha](https://docs.qiime2.org/2022.8/plugins/available/diversity/alpha/): Computes a user-specified alpha diversity metric for all samples in a feature table.\n",
    "- [Alpha diversity metrics](http://scikit-bio.org/docs/0.2.0/generated/skbio.diversity.alpha.html)\n",
    " - Choices: ('ace', 'berger_parker_d', 'brillouin_d', 'chao1', 'chao1_ci', 'dominance', 'doubles', 'enspie', 'esty_ci', 'fisher_alpha', 'gini_index', 'goods_coverage', 'heip_e', 'kempton_taylor_q', 'lladser_pe', 'margalef', 'mcintosh_d', 'mcintosh_e', 'menhinick', 'michaelis_menten_fit', 'observed_features', 'osd', 'pielou_e', 'robbins', 'shannon', 'simpson', 'simpson_e', 'singles', 'strong')"
   ]
  },
  {
   "cell_type": "code",
   "execution_count": 9,
   "id": "556e5264",
   "metadata": {
    "ExecuteTime": {
     "end_time": "2022-09-29T20:54:20.790166Z",
     "start_time": "2022-09-29T20:54:20.451134Z"
    },
    "execution": {
     "iopub.execute_input": "2023-06-06T20:11:24.973915Z",
     "iopub.status.busy": "2023-06-06T20:11:24.973618Z",
     "iopub.status.idle": "2023-06-06T20:34:50.752546Z",
     "shell.execute_reply": "2023-06-06T20:34:50.752062Z"
    },
    "papermill": {
     "duration": 1405.79714,
     "end_time": "2023-06-06T20:34:50.755590",
     "exception": false,
     "start_time": "2023-06-06T20:11:24.958450",
     "status": "completed"
    },
    "tags": []
   },
   "outputs": [
    {
     "name": "stdout",
     "output_type": "stream",
     "text": [
      "Calculating alpha diversity: ace\n",
      "DONE: Calculating alpha diversity: ace\n",
      "Calculating alpha diversity: berger_parker_d\n",
      "DONE: Calculating alpha diversity: berger_parker_d\n",
      "Calculating alpha diversity: brillouin_d\n",
      "DONE: Calculating alpha diversity: brillouin_d\n",
      "Calculating alpha diversity: chao1\n"
     ]
    },
    {
     "name": "stdout",
     "output_type": "stream",
     "text": [
      "DONE: Calculating alpha diversity: chao1\n",
      "Calculating alpha diversity: chao1_ci\n",
      "DONE: Calculating alpha diversity: chao1_ci\n",
      "Calculating alpha diversity: dominance\n",
      "DONE: Calculating alpha diversity: dominance\n",
      "Calculating alpha diversity: doubles\n",
      "DONE: Calculating alpha diversity: doubles\n",
      "Calculating alpha diversity: enspie\n"
     ]
    },
    {
     "name": "stdout",
     "output_type": "stream",
     "text": [
      "DONE: Calculating alpha diversity: enspie\n",
      "Calculating alpha diversity: esty_ci\n",
      "DONE: Calculating alpha diversity: esty_ci\n",
      "Calculating alpha diversity: fisher_alpha\n",
      "DONE: Calculating alpha diversity: fisher_alpha\n",
      "Calculating alpha diversity: gini_index\n",
      "DONE: Calculating alpha diversity: gini_index\n",
      "Calculating alpha diversity: goods_coverage\n"
     ]
    },
    {
     "name": "stdout",
     "output_type": "stream",
     "text": [
      "DONE: Calculating alpha diversity: goods_coverage\n",
      "Calculating alpha diversity: heip_e\n",
      "DONE: Calculating alpha diversity: heip_e\n",
      "Calculating alpha diversity: kempton_taylor_q\n",
      "DONE: Calculating alpha diversity: kempton_taylor_q\n",
      "Calculating alpha diversity: lladser_pe\n"
     ]
    },
    {
     "name": "stderr",
     "output_type": "stream",
     "text": [
      "/home/lauro/anaconda3/envs/qiime2-2022.2/lib/python3.8/site-packages/skbio/diversity/alpha/_base.py:389: RuntimeWarning: invalid value encountered in double_scalars\n",
      "  return ((np.exp(shannon(counts, base=np.e)) - 1) /\n",
      "/home/lauro/anaconda3/envs/qiime2-2022.2/lib/python3.8/site-packages/skbio/diversity/alpha/_base.py:440: RuntimeWarning: invalid value encountered in long_scalars\n",
      "  return (upper - lower) / np.log(sorted_counts[upper] /\n"
     ]
    },
    {
     "name": "stdout",
     "output_type": "stream",
     "text": [
      "DONE: Calculating alpha diversity: lladser_pe\n",
      "Calculating alpha diversity: margalef\n",
      "DONE: Calculating alpha diversity: margalef\n",
      "Calculating alpha diversity: mcintosh_d\n",
      "DONE: Calculating alpha diversity: mcintosh_d\n",
      "Calculating alpha diversity: mcintosh_e\n",
      "DONE: Calculating alpha diversity: mcintosh_e\n",
      "Calculating alpha diversity: menhinick\n"
     ]
    },
    {
     "name": "stdout",
     "output_type": "stream",
     "text": [
      "DONE: Calculating alpha diversity: menhinick\n",
      "Calculating alpha diversity: michaelis_menten_fit\n"
     ]
    },
    {
     "name": "stdout",
     "output_type": "stream",
     "text": [
      "DONE: Calculating alpha diversity: michaelis_menten_fit\n",
      "Calculating alpha diversity: observed_features\n",
      "DONE: Calculating alpha diversity: observed_features\n",
      "Calculating alpha diversity: osd\n",
      "DONE: Calculating alpha diversity: osd\n",
      "Calculating alpha diversity: pielou_e\n",
      "DONE: Calculating alpha diversity: pielou_e\n",
      "Calculating alpha diversity: robbins\n"
     ]
    },
    {
     "name": "stderr",
     "output_type": "stream",
     "text": [
      "/home/lauro/anaconda3/envs/qiime2-2022.2/lib/python3.8/site-packages/skbio/diversity/alpha/_base.py:793: RuntimeWarning: invalid value encountered in double_scalars\n",
      "  return shannon(counts, base=np.e) / np.log(observed_otus(counts))\n"
     ]
    },
    {
     "name": "stdout",
     "output_type": "stream",
     "text": [
      "DONE: Calculating alpha diversity: robbins\n",
      "Calculating alpha diversity: shannon\n",
      "DONE: Calculating alpha diversity: shannon\n",
      "Calculating alpha diversity: simpson\n",
      "DONE: Calculating alpha diversity: simpson\n",
      "Calculating alpha diversity: simpson_e\n",
      "DONE: Calculating alpha diversity: simpson_e\n",
      "Calculating alpha diversity: singles\n"
     ]
    },
    {
     "name": "stdout",
     "output_type": "stream",
     "text": [
      "DONE: Calculating alpha diversity: singles\n",
      "Calculating alpha diversity: strong\n",
      "DONE: Calculating alpha diversity: strong\n"
     ]
    }
   ],
   "source": [
    "metrics = ('ace', 'berger_parker_d', 'brillouin_d', 'chao1', 'chao1_ci', 'dominance', 'doubles', 'enspie', 'esty_ci', 'fisher_alpha', 'gini_index', 'goods_coverage', 'heip_e', 'kempton_taylor_q', 'lladser_pe', 'margalef', 'mcintosh_d', 'mcintosh_e', 'menhinick', 'michaelis_menten_fit', 'observed_features', 'osd', 'pielou_e', 'robbins', 'shannon', 'simpson', 'simpson_e', 'singles', 'strong')\n",
    "alpha_diversities = dict()\n",
    "for metric in metrics:\n",
    "    print(f\"Calculating alpha diversity: {metric}\")\n",
    "    try:\n",
    "        alpha_diversity = alpha(table=tabs, metric=metric).alpha_diversity\n",
    "        alpha_diversities[metric] = alpha_diversity\n",
    "        # Save SampleData[AlphaDiversity] Artifact\n",
    "        file_path = os.path.join(alpha_path, f'alpha-values-{metric}.qza')\n",
    "        alpha_diversity.save(file_path)\n",
    "        print(f\"DONE: Calculating alpha diversity: {metric}\")\n",
    "    except Exception as e:\n",
    "        print(f\"ERROR: Calculating alpha diversity: {metric}\")\n",
    "        print(e)"
   ]
  },
  {
   "cell_type": "markdown",
   "id": "184bcb7b",
   "metadata": {
    "papermill": {
     "duration": 0.018132,
     "end_time": "2023-06-06T20:34:50.799498",
     "exception": false,
     "start_time": "2023-06-06T20:34:50.781366",
     "status": "completed"
    },
    "tags": []
   },
   "source": [
    "### Create Phylogenetic inference\n",
    "\n",
    "- [alignment align_to_tree_mafft_fasttree](https://docs.qiime2.org/2022.8/plugins/available/phylogeny/align-to-tree-mafft-fasttree/): Build a phylogenetic tree using fasttree and mafft alignment\n",
    "\n",
    "This pipeline will start by creating a sequence alignment using MAFFT,\n",
    "after which any alignment columns that are phylogenetically uninformative\n",
    "or ambiguously aligned will be removed (masked). The resulting masked\n",
    "alignment will be used to infer a phylogenetic tree and then subsequently\n",
    "rooted at its midpoint. Output files from each step of the pipeline will be\n",
    "saved. This includes both the unmasked and masked MAFFT alignment from\n",
    "q2-alignment methods, and both the rooted and unrooted phylogenies from\n",
    "q2-phylogeny methods.\n",
    "\n",
    "\n",
    "Returns\n",
    "- alignment : FeatureData[AlignedSequence] : The aligned sequences.\n",
    "- masked_alignment : FeatureData[AlignedSequence] : The masked alignment.\n",
    "- tree : Phylogeny[Unrooted] : The unrooted phylogenetic tree.\n",
    "- rooted_tree : Phylogeny[Rooted] : The rooted phylogenetic tree."
   ]
  },
  {
   "cell_type": "code",
   "execution_count": 10,
   "id": "9c8cfe47",
   "metadata": {
    "ExecuteTime": {
     "end_time": "2022-09-29T20:54:35.139531Z",
     "start_time": "2022-09-29T20:54:20.792130Z"
    },
    "execution": {
     "iopub.execute_input": "2023-06-06T20:34:50.837040Z",
     "iopub.status.busy": "2023-06-06T20:34:50.836830Z",
     "iopub.status.idle": "2023-06-06T20:35:24.613607Z",
     "shell.execute_reply": "2023-06-06T20:35:24.612981Z"
    },
    "papermill": {
     "duration": 33.797345,
     "end_time": "2023-06-06T20:35:24.615243",
     "exception": false,
     "start_time": "2023-06-06T20:34:50.817898",
     "status": "completed"
    },
    "tags": []
   },
   "outputs": [
    {
     "name": "stdout",
     "output_type": "stream",
     "text": [
      "Running external command line application. This may print messages to stdout and/or stderr.\n",
      "The command being run is below. This command cannot be manually re-run as it will depend on temporary files that no longer exist.\n",
      "\n",
      "Command: mafft --preservecase --inputorder --thread 6 /tmp/qiime2-archive-8v70yvaj/67703277-ebb1-427d-8b9a-370e36accdd5/data/dna-sequences.fasta\n",
      "\n"
     ]
    },
    {
     "name": "stderr",
     "output_type": "stream",
     "text": [
      "inputfile = orig\n",
      "1736 x 472 - 24 d\n",
      "nthread = 6\n",
      "nthreadpair = 6\n",
      "nthreadtb = 6\n",
      "ppenalty_ex = 0\n",
      "stacksize: 8192 kb\n",
      "generating a scoring matrix for nucleotide (dist=200) ... done\n",
      "Gap Penalty = -1.53, +0.00, +0.00\n",
      "\n",
      "\n",
      "\n",
      "Making a distance matrix ..\n",
      "\r",
      "    1 / 1736 (thread    1)\r",
      "  101 / 1736 (thread    3)\r",
      "  201 / 1736 (thread    3)"
     ]
    },
    {
     "name": "stderr",
     "output_type": "stream",
     "text": [
      "\r",
      "  301 / 1736 (thread    4)\r",
      "  401 / 1736 (thread    5)\r",
      "  501 / 1736 (thread    0)\r",
      "  601 / 1736 (thread    0)\r",
      "  701 / 1736 (thread    4)\r",
      "  801 / 1736 (thread    1)\r",
      "  901 / 1736 (thread    2)"
     ]
    },
    {
     "name": "stderr",
     "output_type": "stream",
     "text": [
      "\r",
      " 1001 / 1736 (thread    5)\r",
      " 1101 / 1736 (thread    5)\r",
      " 1201 / 1736 (thread    3)\r",
      " 1301 / 1736 (thread    4)\r",
      " 1401 / 1736 (thread    0)\r",
      " 1501 / 1736 (thread    5)\r",
      " 1601 / 1736 (thread    3)\r",
      " 1701 / 1736 (thread    3)\n",
      "done.\n",
      "\n",
      "Constructing a UPGMA tree (efffree=0) ... \n",
      "\r",
      "    0 / 1736\r",
      "   10 / 1736\r",
      "   20 / 1736\r",
      "   30 / 1736\r",
      "   40 / 1736\r",
      "   50 / 1736\r",
      "   60 / 1736\r",
      "   70 / 1736\r",
      "   80 / 1736\r",
      "   90 / 1736\r",
      "  100 / 1736\r",
      "  110 / 1736\r",
      "  120 / 1736\r",
      "  130 / 1736\r",
      "  140 / 1736\r",
      "  150 / 1736\r",
      "  160 / 1736\r",
      "  170 / 1736\r",
      "  180 / 1736\r",
      "  190 / 1736\r",
      "  200 / 1736\r",
      "  210 / 1736\r",
      "  220 / 1736\r",
      "  230 / 1736\r",
      "  240 / 1736\r",
      "  250 / 1736\r",
      "  260 / 1736\r",
      "  270 / 1736\r",
      "  280 / 1736\r",
      "  290 / 1736\r",
      "  300 / 1736\r",
      "  310 / 1736\r",
      "  320 / 1736\r",
      "  330 / 1736\r",
      "  340 / 1736\r",
      "  350 / 1736\r",
      "  360 / 1736\r",
      "  370 / 1736\r",
      "  380 / 1736\r",
      "  390 / 1736\r",
      "  400 / 1736\r",
      "  410 / 1736\r",
      "  420 / 1736\r",
      "  430 / 1736\r",
      "  440 / 1736\r",
      "  450 / 1736\r",
      "  460 / 1736\r",
      "  470 / 1736\r",
      "  480 / 1736\r",
      "  490 / 1736\r",
      "  500 / 1736\r",
      "  510 / 1736\r",
      "  520 / 1736\r",
      "  530 / 1736\r",
      "  540 / 1736\r",
      "  550 / 1736\r",
      "  560 / 1736\r",
      "  570 / 1736\r",
      "  580 / 1736\r",
      "  590 / 1736\r",
      "  600 / 1736\r",
      "  610 / 1736\r",
      "  620 / 1736\r",
      "  630 / 1736\r",
      "  640 / 1736\r",
      "  650 / 1736\r",
      "  660 / 1736\r",
      "  670 / 1736\r",
      "  680 / 1736\r",
      "  690 / 1736\r",
      "  700 / 1736\r",
      "  710 / 1736\r",
      "  720 / 1736\r",
      "  730 / 1736\r",
      "  740 / 1736\r",
      "  750 / 1736\r",
      "  760 / 1736\r",
      "  770 / 1736\r",
      "  780 / 1736\r",
      "  790 / 1736\r",
      "  800 / 1736\r",
      "  810 / 1736\r",
      "  820 / 1736\r",
      "  830 / 1736\r",
      "  840 / 1736\r",
      "  850 / 1736\r",
      "  860 / 1736\r",
      "  870 / 1736\r",
      "  880 / 1736\r",
      "  890 / 1736\r",
      "  900 / 1736\r",
      "  910 / 1736\r",
      "  920 / 1736\r",
      "  930 / 1736\r",
      "  940 / 1736\r",
      "  950 / 1736\r",
      "  960 / 1736\r",
      "  970 / 1736\r",
      "  980 / 1736\r",
      "  990 / 1736\r",
      " 1000 / 1736\r",
      " 1010 / 1736\r",
      " 1020 / 1736\r",
      " 1030 / 1736\r",
      " 1040 / 1736\r",
      " 1050 / 1736\r",
      " 1060 / 1736\r",
      " 1070 / 1736\r",
      " 1080 / 1736\r",
      " 1090 / 1736\r",
      " 1100 / 1736\r",
      " 1110 / 1736\r",
      " 1120 / 1736\r",
      " 1130 / 1736\r",
      " 1140 / 1736\r",
      " 1150 / 1736\r",
      " 1160 / 1736\r",
      " 1170 / 1736\r",
      " 1180 / 1736\r",
      " 1190 / 1736\r",
      " 1200 / 1736\r",
      " 1210 / 1736\r",
      " 1220 / 1736\r",
      " 1230 / 1736\r",
      " 1240 / 1736\r",
      " 1250 / 1736\r",
      " 1260 / 1736\r",
      " 1270 / 1736\r",
      " 1280 / 1736\r",
      " 1290 / 1736\r",
      " 1300 / 1736\r",
      " 1310 / 1736\r",
      " 1320 / 1736\r",
      " 1330 / 1736\r",
      " 1340 / 1736\r",
      " 1350 / 1736\r",
      " 1360 / 1736\r",
      " 1370 / 1736\r",
      " 1380 / 1736\r",
      " 1390 / 1736\r",
      " 1400 / 1736\r",
      " 1410 / 1736\r",
      " 1420 / 1736\r",
      " 1430 / 1736\r",
      " 1440 / 1736\r",
      " 1450 / 1736\r",
      " 1460 / 1736\r",
      " 1470 / 1736\r",
      " 1480 / 1736\r",
      " 1490 / 1736\r",
      " 1500 / 1736\r",
      " 1510 / 1736\r",
      " 1520 / 1736\r",
      " 1530 / 1736\r",
      " 1540 / 1736\r",
      " 1550 / 1736\r",
      " 1560 / 1736\r",
      " 1570 / 1736\r",
      " 1580 / 1736\r",
      " 1590 / 1736\r",
      " 1600 / 1736\r",
      " 1610 / 1736\r",
      " 1620 / 1736\r",
      " 1630 / 1736\r",
      " 1640 / 1736\r",
      " 1650 / 1736\r",
      " 1660 / 1736\r",
      " 1670 / 1736\r",
      " 1680 / 1736\r",
      " 1690 / 1736\r",
      " 1700 / 1736\r",
      " 1710 / 1736\r",
      " 1720 / 1736\r",
      " 1730 / 1736\n",
      "done.\n",
      "\n",
      "Progressive alignment 1/2... \n",
      "\r",
      "STEP     1 / 1735 (thread    0) f\b\b\r",
      "STEP     2 / 1735 (thread    4)\r",
      "STEP     5 / 1735 (thread    3) f\b\b f\b\b\r",
      "STEP     3 / 1735 (thread    1) f\b\b\r",
      "STEP     8 / 1735 (thread    0) f\b\b\r",
      "STEP     9 / 1735 (thread    3) f\b\b\r",
      "STEP     6 / 1735 (thread    5) f\b\b\r",
      "STEP    10 / 1735 (thread    0) f\b\b\r",
      "STEP    11 / 1735 (thread    0) f\b\b\r",
      "STEP    12 / 1735 (thread    0) f\b\b\r",
      "STEP    13 / 1735 (thread    5) f\b\b\r",
      "STEP     7 / 1735 (thread    4) f\b\b\r",
      "STEP    14 / 1735 (thread    1) f\b\b\r",
      "STEP     4 / 1735 (thread    2) f\b\b\r",
      "STEP    16 / 1735 (thread    0) f\b\b\r",
      "STEP    17 / 1735 (thread    4) f\b\b\r",
      "STEP    18 / 1735 (thread    4) f\b\b\r",
      "STEP    19 / 1735 (thread    5) f\b\b"
     ]
    },
    {
     "name": "stderr",
     "output_type": "stream",
     "text": [
      "\r",
      "STEP    15 / 1735 (thread    3) f\b\b\r",
      "STEP    22 / 1735 (thread    5) f\b\b\r",
      "STEP    20 / 1735 (thread    4) f\b\b\r",
      "STEP    24 / 1735 (thread    5) f\b\b\r",
      "STEP    23 / 1735 (thread    0) f\b\b\r",
      "STEP    25 / 1735 (thread    3) f\b\b\r",
      "STEP    26 / 1735 (thread    3) f\b\b\r",
      "STEP    27 / 1735 (thread    5) f\b\b\r",
      "STEP    28 / 1735 (thread    2)\r",
      "STEP    29 / 1735 (thread    5) f\b\b f\b\b\r",
      "STEP    30 / 1735 (thread    3) f\b\b\r",
      "STEP    31 / 1735 (thread    3) f\b\b\r",
      "STEP    32 / 1735 (thread    5) f\b\b\r",
      "STEP    34 / 1735 (thread    3) f\b\b\r",
      "STEP    33 / 1735 (thread    0) f\b\b\r",
      "STEP    35 / 1735 (thread    5) f\b\b\r",
      "STEP    37 / 1735 (thread    2) f\b\b\r",
      "STEP    39 / 1735 (thread    4) f\b\b\r",
      "STEP    21 / 1735 (thread    1) f\b\b\r",
      "STEP    40 / 1735 (thread    4) f\b\b\r",
      "STEP    41 / 1735 (thread    2) f\b\b\r",
      "STEP    38 / 1735 (thread    0) f\b\b\r",
      "STEP    42 / 1735 (thread    5)\r",
      "STEP    36 / 1735 (thread    3) f\b\b f\b\b\r",
      "STEP    43 / 1735 (thread    5) f\b\b\r",
      "STEP    44 / 1735 (thread    2) f\b\b\r",
      "STEP    47 / 1735 (thread    0) f\b\b\r",
      "STEP    48 / 1735 (thread    0) f\b\b\r",
      "STEP    49 / 1735 (thread    5) f\b\b\r",
      "STEP    45 / 1735 (thread    4) f\b\b\r",
      "STEP    50 / 1735 (thread    2) f\b\b\r",
      "STEP    51 / 1735 (thread    0) f\b\b\r",
      "STEP    53 / 1735 (thread    5) f\b\b\r",
      "STEP    52 / 1735 (thread    2) f\b\b\r",
      "STEP    55 / 1735 (thread    5) f\b\b\r",
      "STEP    54 / 1735 (thread    0) f\b\b\r",
      "STEP    46 / 1735 (thread    1) f\b\b\r",
      "STEP    57 / 1735 (thread    3) f\b\b\r",
      "STEP    58 / 1735 (thread    0) f\b\b\r",
      "STEP    56 / 1735 (thread    4) f\b\b\r",
      "STEP    60 / 1735 (thread    1) f\b\b\r",
      "STEP    61 / 1735 (thread    3) f\b\b\r",
      "STEP    62 / 1735 (thread    0) f\b\b\r",
      "STEP    59 / 1735 (thread    5) f\b\b\r",
      "STEP    63 / 1735 (thread    2) f\b\b\r",
      "STEP    64 / 1735 (thread    3) f\b\b\r",
      "STEP    66 / 1735 (thread    4) f\b\b\r",
      "STEP    68 / 1735 (thread    1) f\b\b\r",
      "STEP    69 / 1735 (thread    4) f\b\b\r",
      "STEP    67 / 1735 (thread    0) f\b\b\r",
      "STEP    65 / 1735 (thread    2) f\b\b\r",
      "STEP    73 / 1735 (thread    1) f\b\b\r",
      "STEP    70 / 1735 (thread    5) f\b\b\r",
      "STEP    75 / 1735 (thread    2) f\b\b\r",
      "STEP    74 / 1735 (thread    4) f\b\b\r",
      "STEP    76 / 1735 (thread    2) f\b\b\r",
      "STEP    78 / 1735 (thread    4) f\b\b\r",
      "STEP    79 / 1735 (thread    4) f\b\b\r",
      "STEP    71 / 1735 (thread    3) f\b\b\r",
      "STEP    81 / 1735 (thread    4)\r",
      "STEP    80 / 1735 (thread    5) f\b\b f\b\b\r",
      "STEP    82 / 1735 (thread    4) f\b\b\r",
      "STEP    83 / 1735 (thread    4) f\b\b\r",
      "STEP    84 / 1735 (thread    3) f\b\b\r",
      "STEP    72 / 1735 (thread    0) f\b\b\r",
      "STEP    85 / 1735 (thread    5) f\b\b\r",
      "STEP    86 / 1735 (thread    4) f\b\b\r",
      "STEP    87 / 1735 (thread    3) f\b\b\r",
      "STEP    88 / 1735 (thread    4) f\b\b\r",
      "STEP    89 / 1735 (thread    0) f\b\b\r",
      "STEP    90 / 1735 (thread    5) f\b\b\r",
      "STEP    91 / 1735 (thread    3) f\b\b\r",
      "STEP    93 / 1735 (thread    2) f\b\b\r",
      "STEP    77 / 1735 (thread    1) f\b\b\r",
      "STEP    96 / 1735 (thread    2) f\b\b\r",
      "STEP    94 / 1735 (thread    5) f\b\b\r",
      "STEP    97 / 1735 (thread    3) f\b\b\r",
      "STEP    92 / 1735 (thread    4) f\b\b\r",
      "STEP    98 / 1735 (thread    3) f\b\b\r",
      "STEP    99 / 1735 (thread    2) f\b\b\r",
      "STEP   101 / 1735 (thread    3) f\b\b\r",
      "STEP   100 / 1735 (thread    1) f\b\b\r",
      "STEP   102 / 1735 (thread    2) f\b\b\r",
      "STEP   103 / 1735 (thread    5) f\b\b\r",
      "STEP    95 / 1735 (thread    0) f\b\b\r",
      "STEP   106 / 1735 (thread    2) f\b\b\r",
      "STEP   107 / 1735 (thread    0) f\b\b\r",
      "STEP   108 / 1735 (thread    5) f\b\b\r",
      "STEP   104 / 1735 (thread    4) f\b\b\r",
      "STEP   109 / 1735 (thread    2) f\b\b\r",
      "STEP   111 / 1735 (thread    5) f\b\b\r",
      "STEP   105 / 1735 (thread    3) f\b\b\r",
      "STEP   110 / 1735 (thread    0) f\b\b\r",
      "STEP   114 / 1735 (thread    5) f\b\b\r",
      "STEP   112 / 1735 (thread    4) f\b\b\r",
      "STEP   115 / 1735 (thread    5) f\b\b\r",
      "STEP   116 / 1735 (thread    3) f\b\b\r",
      "STEP   117 / 1735 (thread    0) f\b\b\r",
      "STEP   119 / 1735 (thread    5) f\b\b\r",
      "STEP   120 / 1735 (thread    4) f\b\b\r",
      "STEP   113 / 1735 (thread    2) f\b\b\r",
      "STEP   121 / 1735 (thread    3) f\b\b\r",
      "STEP   118 / 1735 (thread    1) f\b\b\r",
      "STEP   123 / 1735 (thread    5) f\b\b\r",
      "STEP   124 / 1735 (thread    4) f\b\b\r",
      "STEP   125 / 1735 (thread    5) f\b\b\r",
      "STEP   122 / 1735 (thread    0) f\b\b\r",
      "STEP   127 / 1735 (thread    4) f\b\b\r",
      "STEP   128 / 1735 (thread    4) f\b\b\r",
      "STEP   126 / 1735 (thread    3) f\b\b\r",
      "STEP   132 / 1735 (thread    4) f\b\b\r",
      "STEP   129 / 1735 (thread    2) f\b\b\r",
      "STEP   133 / 1735 (thread    3) f\b\b\r",
      "STEP   134 / 1735 (thread    2) f\b\b\r",
      "STEP   130 / 1735 (thread    5) f\b\b\r",
      "STEP   135 / 1735 (thread    4) f\b\b\r",
      "STEP   136 / 1735 (thread    0) f\b\b\r",
      "STEP   138 / 1735 (thread    4) f\b\b\r",
      "STEP   131 / 1735 (thread    1) f\b\b\r",
      "STEP   140 / 1735 (thread    2) f\b\b\r",
      "STEP   137 / 1735 (thread    3) f\b\b\r",
      "STEP   141 / 1735 (thread    0) f\b\b\r",
      "STEP   143 / 1735 (thread    4) f\b\b\r",
      "STEP   139 / 1735 (thread    5) f\b\b\r",
      "STEP   144 / 1735 (thread    0) f\b\b\r",
      "STEP   142 / 1735 (thread    2) f\b\b\r",
      "STEP   145 / 1735 (thread    4) f\b\b\r",
      "STEP   148 / 1735 (thread    4) f\b\b\r",
      "STEP   146 / 1735 (thread    0) f\b\b\r",
      "STEP   149 / 1735 (thread    4) f\b\b\r",
      "STEP   150 / 1735 (thread    4) f\b\b\r",
      "STEP   151 / 1735 (thread    1) f\b\b\r",
      "STEP   152 / 1735 (thread    0) f\b\b\r",
      "STEP   147 / 1735 (thread    3) f\b\b\r",
      "STEP   153 / 1735 (thread    2) f\b\b\r",
      "STEP   154 / 1735 (thread    4) f\b\b\r",
      "STEP   155 / 1735 (thread    1) f\b\b\r",
      "STEP   156 / 1735 (thread    1) f\b\b\r",
      "STEP   158 / 1735 (thread    3) f\b\b\r",
      "STEP   159 / 1735 (thread    4) f\b\b\r",
      "STEP   161 / 1735 (thread    1) f\b\b\r",
      "STEP   157 / 1735 (thread    0) f\b\b\r",
      "STEP   162 / 1735 (thread    5) f\b\b\r",
      "STEP   164 / 1735 (thread    3) f\b\b\r",
      "STEP   165 / 1735 (thread    4) f\b\b\r",
      "STEP   160 / 1735 (thread    2) f\b\b\r",
      "STEP   166 / 1735 (thread    5) f\b\b\r",
      "STEP   163 / 1735 (thread    1) f\b\b\r",
      "STEP   168 / 1735 (thread    4) f\b\b\r",
      "STEP   169 / 1735 (thread    3) f\b\b\r",
      "STEP   170 / 1735 (thread    1) f\b\b\r",
      "STEP   171 / 1735 (thread    5) f\b\b\r",
      "STEP   167 / 1735 (thread    0) f\b\b\r",
      "STEP   172 / 1735 (thread    1) f\b\b\r",
      "STEP   173 / 1735 (thread    4) f\b\b\r",
      "STEP   174 / 1735 (thread    3) f\b\b\r",
      "STEP   175 / 1735 (thread    2) f\b\b\r",
      "STEP   177 / 1735 (thread    1) f\b\b\r",
      "STEP   178 / 1735 (thread    2)\r",
      "STEP   176 / 1735 (thread    5) f\b\b f\b\b\r",
      "STEP   179 / 1735 (thread    0) f\b\b\r",
      "STEP   180 / 1735 (thread    4) f\b\b\r",
      "STEP   181 / 1735 (thread    1) f\b\b\r",
      "STEP   182 / 1735 (thread    3) f\b\b\r",
      "STEP   183 / 1735 (thread    0) f\b\b\r",
      "STEP   184 / 1735 (thread    0) f\b\b\r",
      "STEP   185 / 1735 (thread    2) f\b\b\r",
      "STEP   186 / 1735 (thread    1) f\b\b\r",
      "STEP   187 / 1735 (thread    4) f\b\b\r",
      "STEP   188 / 1735 (thread    3) f\b\b\r",
      "STEP   189 / 1735 (thread    0) f\b\b\r",
      "STEP   190 / 1735 (thread    5) f\b\b\r",
      "STEP   191 / 1735 (thread    1) f\b\b\r",
      "STEP   192 / 1735 (thread    0) f\b\b\r",
      "STEP   193 / 1735 (thread    2) f\b\b\r",
      "STEP   194 / 1735 (thread    4) f\b\b\r",
      "STEP   195 / 1735 (thread    5) f\b\b\r",
      "STEP   196 / 1735 (thread    3) f\b\b\r",
      "STEP   197 / 1735 (thread    1) f\b\b\r",
      "STEP   198 / 1735 (thread    0) f\b\b\r",
      "STEP   199 / 1735 (thread    1) f\b\b\r",
      "STEP   200 / 1735 (thread    0) f\b\b\r",
      "STEP   201 / 1735 (thread    4) f\b\b\r",
      "STEP   202 / 1735 (thread    5) f\b\b\r",
      "STEP   203 / 1735 (thread    2) f\b\b\r",
      "STEP   204 / 1735 (thread    1) f\b\b\r",
      "STEP   205 / 1735 (thread    3) f\b\b\r",
      "STEP   206 / 1735 (thread    0) f\b\b\r",
      "STEP   207 / 1735 (thread    1) f\b\b\r",
      "STEP   208 / 1735 (thread    5) f\b\b\r",
      "STEP   209 / 1735 (thread    0) f\b\b\r",
      "STEP   210 / 1735 (thread    2) f\b\b\r",
      "STEP   211 / 1735 (thread    4) f\b\b\r",
      "STEP   212 / 1735 (thread    3) f\b\b\r",
      "STEP   213 / 1735 (thread    1) f\b\b\r",
      "STEP   214 / 1735 (thread    0) f\b\b\r",
      "STEP   215 / 1735 (thread    4) f\b\b\r",
      "STEP   216 / 1735 (thread    2) f\b\b\r",
      "STEP   217 / 1735 (thread    5) f\b\b\r",
      "STEP   218 / 1735 (thread    1) f\b\b\r",
      "STEP   219 / 1735 (thread    0) f\b\b\r",
      "STEP   220 / 1735 (thread    3) f\b\b\r",
      "STEP   221 / 1735 (thread    1) f\b\b\r",
      "STEP   222 / 1735 (thread    0) f\b\b\r",
      "STEP   223 / 1735 (thread    4) f\b\b\r",
      "STEP   224 / 1735 (thread    1) f\b\b\r",
      "STEP   225 / 1735 (thread    2) f\b\b\r",
      "STEP   226 / 1735 (thread    5) f\b\b\r",
      "STEP   227 / 1735 (thread    3) f\b\b\r",
      "STEP   228 / 1735 (thread    1) f\b\b\r",
      "STEP   229 / 1735 (thread    0) f\b\b\r",
      "STEP   230 / 1735 (thread    1) f\b\b\r",
      "STEP   231 / 1735 (thread    4) f\b\b\r",
      "STEP   232 / 1735 (thread    0) f\b\b\r",
      "STEP   233 / 1735 (thread    3) f\b\b\r",
      "STEP   234 / 1735 (thread    2) f\b\b\r",
      "STEP   235 / 1735 (thread    5) f\b\b\r",
      "STEP   236 / 1735 (thread    1) f\b\b\r",
      "STEP   237 / 1735 (thread    0) f\b\b\r",
      "STEP   238 / 1735 (thread    1) f\b\b\r",
      "STEP   239 / 1735 (thread    4) f\b\b\r",
      "STEP   240 / 1735 (thread    3) f\b\b\r",
      "STEP   241 / 1735 (thread    2) f\b\b\r",
      "STEP   242 / 1735 (thread    0) f\b\b\r",
      "STEP   243 / 1735 (thread    5) f\b\b\r",
      "STEP   244 / 1735 (thread    1) f\b\b\r",
      "STEP   245 / 1735 (thread    0) f\b\b\r",
      "STEP   246 / 1735 (thread    3) f\b\b\r",
      "STEP   247 / 1735 (thread    1) f\b\b\r",
      "STEP   248 / 1735 (thread    0) f\b\b\r",
      "STEP   249 / 1735 (thread    2) f\b\b\r",
      "STEP   250 / 1735 (thread    4) f\b\b\r",
      "STEP   251 / 1735 (thread    1) f\b\b\r",
      "STEP   252 / 1735 (thread    3) f\b\b\r",
      "STEP   253 / 1735 (thread    0) f\b\b\r",
      "STEP   254 / 1735 (thread    5) f\b\b\r",
      "STEP   255 / 1735 (thread    1) f\b\b\r",
      "STEP   256 / 1735 (thread    0) f\b\b\r",
      "STEP   257 / 1735 (thread    4) f\b\b\r",
      "STEP   258 / 1735 (thread    2) f\b\b\r",
      "STEP   259 / 1735 (thread    1) f\b\b\r",
      "STEP   260 / 1735 (thread    3) f\b\b\r",
      "STEP   261 / 1735 (thread    0) f\b\b\r",
      "STEP   262 / 1735 (thread    5) f\b\b\r",
      "STEP   263 / 1735 (thread    0) f\b\b\r",
      "STEP   264 / 1735 (thread    1) f\b\b\r",
      "STEP   265 / 1735 (thread    4) f\b\b\r",
      "STEP   266 / 1735 (thread    2) f\b\b\r",
      "STEP   267 / 1735 (thread    0) f\b\b\r",
      "STEP   268 / 1735 (thread    1) f\b\b\r",
      "STEP   269 / 1735 (thread    3) f\b\b\r",
      "STEP   270 / 1735 (thread    5) f\b\b\r",
      "STEP   271 / 1735 (thread    4) f\b\b\r",
      "STEP   272 / 1735 (thread    0) f\b\b\r",
      "STEP   273 / 1735 (thread    1) f\b\b\r",
      "STEP   274 / 1735 (thread    2) f\b\b\r",
      "STEP   275 / 1735 (thread    5) f\b\b\r",
      "STEP   276 / 1735 (thread    4) f\b\b\r",
      "STEP   277 / 1735 (thread    0) f\b\b\r",
      "STEP   278 / 1735 (thread    2) f\b\b\r",
      "STEP   279 / 1735 (thread    3) f\b\b\r",
      "STEP   280 / 1735 (thread    1) f\b\b\r",
      "STEP   281 / 1735 (thread    0) f\b\b\r",
      "STEP   282 / 1735 (thread    1) f\b\b\r",
      "STEP   283 / 1735 (thread    5) f\b\b\r",
      "STEP   284 / 1735 (thread    4) f\b\b\r",
      "STEP   285 / 1735 (thread    0) f\b\b\r",
      "STEP   286 / 1735 (thread    2) f\b\b\r",
      "STEP   287 / 1735 (thread    5) f\b\b\r",
      "STEP   288 / 1735 (thread    4) f\b\b\r",
      "STEP   289 / 1735 (thread    3) f\b\b\r",
      "STEP   290 / 1735 (thread    1) f\b\b\r",
      "STEP   291 / 1735 (thread    0) f\b\b\r",
      "STEP   292 / 1735 (thread    0) f\b\b\r",
      "STEP   293 / 1735 (thread    1) f\b\b\r",
      "STEP   294 / 1735 (thread    5) f\b\b\r",
      "STEP   295 / 1735 (thread    2) f\b\b\r",
      "STEP   296 / 1735 (thread    0) f\b\b\r",
      "STEP   297 / 1735 (thread    4) f\b\b\r",
      "STEP   298 / 1735 (thread    1) f\b\b\r",
      "STEP   299 / 1735 (thread    3) f\b\b\r",
      "STEP   300 / 1735 (thread    0) f\b\b\r",
      "STEP   301 / 1735 (thread    2) f\b\b\r",
      "STEP   302 / 1735 (thread    1) f\b\b\r",
      "STEP   303 / 1735 (thread    5) f\b\b\r",
      "STEP   305 / 1735 (thread    4) f\b\b\r",
      "STEP   306 / 1735 (thread    0) f\b\b\r",
      "STEP   307 / 1735 (thread    1) f\b\b\r",
      "STEP   308 / 1735 (thread    0) f\b\b\r",
      "STEP   309 / 1735 (thread    4) f\b\b\r",
      "STEP   310 / 1735 (thread    1) f\b\b\r",
      "STEP   311 / 1735 (thread    2) f\b\b\r",
      "STEP   304 / 1735 (thread    3) f\b\b\r",
      "STEP   312 / 1735 (thread    5) f\b\b\r",
      "STEP   313 / 1735 (thread    0) f\b\b\r",
      "STEP   314 / 1735 (thread    4) f\b\b\r",
      "STEP   315 / 1735 (thread    1) f\b\b\r",
      "STEP   316 / 1735 (thread    0) f\b\b\r",
      "STEP   317 / 1735 (thread    2) f\b\b\r",
      "STEP   318 / 1735 (thread    0) f\b\b\r",
      "STEP   319 / 1735 (thread    1) f\b\b\r",
      "STEP   320 / 1735 (thread    3) f\b\b\r",
      "STEP   321 / 1735 (thread    5) f\b\b\r",
      "STEP   322 / 1735 (thread    2) f\b\b\r",
      "STEP   323 / 1735 (thread    4) f\b\b\r",
      "STEP   324 / 1735 (thread    1) f\b\b\r",
      "STEP   325 / 1735 (thread    0) f\b\b\r",
      "STEP   326 / 1735 (thread    1) f\b\b\r",
      "STEP   327 / 1735 (thread    0) f\b\b\r",
      "STEP   328 / 1735 (thread    2) f\b\b\r",
      "STEP   329 / 1735 (thread    0) f\b\b\r",
      "STEP   330 / 1735 (thread    0) f\b\b\r",
      "STEP   331 / 1735 (thread    2) f\b\b\r",
      "STEP   332 / 1735 (thread    5) f\b\b\r",
      "STEP   333 / 1735 (thread    3) f\b\b\r",
      "STEP   334 / 1735 (thread    1) f\b\b\r",
      "STEP   335 / 1735 (thread    4) f\b\b\r",
      "STEP   336 / 1735 (thread    2) f\b\b\r",
      "STEP   337 / 1735 (thread    5) f\b\b\r",
      "STEP   338 / 1735 (thread    0) f\b\b\r",
      "STEP   339 / 1735 (thread    3) f\b\b\r",
      "STEP   340 / 1735 (thread    1) f\b\b\r",
      "STEP   341 / 1735 (thread    4) f\b\b\r",
      "STEP   342 / 1735 (thread    0) f\b\b\r",
      "STEP   343 / 1735 (thread    2) f\b\b\r",
      "STEP   344 / 1735 (thread    5) f\b\b\r",
      "STEP   345 / 1735 (thread    4) f\b\b\r",
      "STEP   346 / 1735 (thread    2) f\b\b\r",
      "STEP   347 / 1735 (thread    1) f\b\b\r",
      "STEP   348 / 1735 (thread    0) f\b\b\r",
      "STEP   349 / 1735 (thread    1) f\b\b\r",
      "STEP   350 / 1735 (thread    0) f\b\b\r",
      "STEP   351 / 1735 (thread    1) f\b\b\r",
      "STEP   352 / 1735 (thread    4) f\b\b\r",
      "STEP   353 / 1735 (thread    0) f\b\b\r",
      "STEP   354 / 1735 (thread    1) f\b\b\r",
      "STEP   355 / 1735 (thread    3) f\b\b\r",
      "STEP   356 / 1735 (thread    0) f\b\b\r",
      "STEP   357 / 1735 (thread    5) f\b\b\r",
      "STEP   358 / 1735 (thread    4) f\b\b\r",
      "STEP   359 / 1735 (thread    1) f\b\b\r",
      "STEP   360 / 1735 (thread    0) f\b\b\r",
      "STEP   361 / 1735 (thread    1) f\b\b\r",
      "STEP   362 / 1735 (thread    3) f\b\b\r",
      "STEP   363 / 1735 (thread    5) f\b\b\r",
      "STEP   364 / 1735 (thread    4) f\b\b\r",
      "STEP   365 / 1735 (thread    0) f\b\b\r",
      "STEP   366 / 1735 (thread    1) f\b\b\r",
      "STEP   367 / 1735 (thread    2) f\b\b\r",
      "STEP   368 / 1735 (thread    5) f\b\b\r",
      "STEP   369 / 1735 (thread    4) f\b\b\r",
      "STEP   370 / 1735 (thread    3) f\b\b\r",
      "STEP   371 / 1735 (thread    0) f\b\b\r",
      "STEP   372 / 1735 (thread    2) f\b\b\r",
      "STEP   373 / 1735 (thread    1) f\b\b\r",
      "STEP   374 / 1735 (thread    4) f\b\b\r",
      "STEP   375 / 1735 (thread    1) f\b\b\r",
      "STEP   376 / 1735 (thread    5) f\b\b\r",
      "STEP   377 / 1735 (thread    0) f\b\b\r",
      "STEP   378 / 1735 (thread    4) f\b\b\r",
      "STEP   379 / 1735 (thread    2) f\b\b\r",
      "STEP   380 / 1735 (thread    1) f\b\b\r",
      "STEP   381 / 1735 (thread    0) f\b\b\r",
      "STEP   382 / 1735 (thread    3) f\b\b\r",
      "STEP   383 / 1735 (thread    5) f\b\b\r",
      "STEP   384 / 1735 (thread    4) f\b\b\r",
      "STEP   385 / 1735 (thread    1) f\b\b\r",
      "STEP   386 / 1735 (thread    2) f\b\b\r",
      "STEP   387 / 1735 (thread    0) f\b\b\r",
      "STEP   388 / 1735 (thread    4) f\b\b\r",
      "STEP   389 / 1735 (thread    5) f\b\b\r",
      "STEP   390 / 1735 (thread    1) f\b\b\r",
      "STEP   391 / 1735 (thread    3) f\b\b\r",
      "STEP   392 / 1735 (thread    5) f\b\b\r",
      "STEP   393 / 1735 (thread    0) f\b\b\r",
      "STEP   394 / 1735 (thread    4) f\b\b\r",
      "STEP   395 / 1735 (thread    3) f\b\b\r",
      "STEP   396 / 1735 (thread    2) f\b\b\r",
      "STEP   397 / 1735 (thread    5) f\b\b\r",
      "STEP   398 / 1735 (thread    1) f\b\b\r",
      "STEP   399 / 1735 (thread    0) f\b\b\r",
      "STEP   400 / 1735 (thread    2) f\b\b\r",
      "STEP   401 / 1735 (thread    4) f\b\b\r",
      "STEP   402 / 1735 (thread    0) f\b\b\r",
      "STEP   403 / 1735 (thread    1) f\b\b\r",
      "STEP   404 / 1735 (thread    2) f\b\b\r",
      "STEP   405 / 1735 (thread    3) f\b\b\r",
      "STEP   406 / 1735 (thread    5) f\b\b\r",
      "STEP   407 / 1735 (thread    0) f\b\b\r",
      "STEP   408 / 1735 (thread    1) f\b\b\r",
      "STEP   409 / 1735 (thread    0) f\b\b\r",
      "STEP   410 / 1735 (thread    4) f\b\b\r",
      "STEP   411 / 1735 (thread    2) f\b\b\r",
      "STEP   412 / 1735 (thread    4) f\b\b\r",
      "STEP   413 / 1735 (thread    0) f\b\b\r",
      "STEP   414 / 1735 (thread    1) f\b\b\r",
      "STEP   415 / 1735 (thread    3) f\b\b\r",
      "STEP   416 / 1735 (thread    5) f\b\b\r",
      "STEP   417 / 1735 (thread    0) f\b\b\r",
      "STEP   418 / 1735 (thread    1) f\b\b\r",
      "STEP   419 / 1735 (thread    4) f\b\b\r",
      "STEP   420 / 1735 (thread    2) f\b\b\r",
      "STEP   421 / 1735 (thread    5) f\b\b\r",
      "STEP   422 / 1735 (thread    3) f\b\b\r",
      "STEP   423 / 1735 (thread    1) f\b\b\r",
      "STEP   424 / 1735 (thread    4) f\b\b\r",
      "STEP   425 / 1735 (thread    0) f\b\b\r",
      "STEP   426 / 1735 (thread    2) f\b\b\r",
      "STEP   427 / 1735 (thread    5) f\b\b\r",
      "STEP   428 / 1735 (thread    3) f\b\b\r",
      "STEP   429 / 1735 (thread    4) f\b\b\r",
      "STEP   430 / 1735 (thread    1) f\b\b\r",
      "STEP   431 / 1735 (thread    2) f\b\b\r",
      "STEP   432 / 1735 (thread    0) f\b\b\r",
      "STEP   433 / 1735 (thread    3) f\b\b\r",
      "STEP   434 / 1735 (thread    4) f\b\b\r",
      "STEP   435 / 1735 (thread    5) f\b\b\r",
      "STEP   436 / 1735 (thread    1) f\b\b\r",
      "STEP   437 / 1735 (thread    0) f\b\b\r",
      "STEP   438 / 1735 (thread    3) f\b\b\r",
      "STEP   439 / 1735 (thread    4) f\b\b\r",
      "STEP   440 / 1735 (thread    1) f\b\b\r",
      "STEP   441 / 1735 (thread    5) f\b\b\r",
      "STEP   442 / 1735 (thread    2) f\b\b\r",
      "STEP   443 / 1735 (thread    0) f\b\b\r",
      "STEP   444 / 1735 (thread    0) f\b\b\r",
      "STEP   445 / 1735 (thread    5) f\b\b\r",
      "STEP   446 / 1735 (thread    1) f\b\b\r",
      "STEP   447 / 1735 (thread    2) f\b\b\r",
      "STEP   448 / 1735 (thread    4) f\b\b\r",
      "STEP   449 / 1735 (thread    3) f\b\b\r",
      "STEP   450 / 1735 (thread    5) f\b\b\r",
      "STEP   451 / 1735 (thread    2) f\b\b\r",
      "STEP   452 / 1735 (thread    0) f\b\b\r",
      "STEP   453 / 1735 (thread    1) f\b\b\r",
      "STEP   454 / 1735 (thread    4) f\b\b\r",
      "STEP   455 / 1735 (thread    0) f\b\b\r",
      "STEP   456 / 1735 (thread    5) f\b\b\r",
      "STEP   457 / 1735 (thread    3) f\b\b\r",
      "STEP   458 / 1735 (thread    1) f\b\b\r",
      "STEP   459 / 1735 (thread    0) f\b\b\r",
      "STEP   460 / 1735 (thread    2) f\b\b\r",
      "STEP   461 / 1735 (thread    1) f\b\b\r",
      "STEP   462 / 1735 (thread    3) f\b\b\r",
      "STEP   463 / 1735 (thread    2) f\b\b\r",
      "STEP   464 / 1735 (thread    1) f\b\b\r",
      "STEP   465 / 1735 (thread    0) f\b\b\r",
      "STEP   466 / 1735 (thread    5) f\b\b\r",
      "STEP   467 / 1735 (thread    1) f\b\b\r",
      "STEP   468 / 1735 (thread    0) f\b\b\r",
      "STEP   469 / 1735 (thread    1) f\b\b\r",
      "STEP   470 / 1735 (thread    5) f\b\b\r",
      "STEP   471 / 1735 (thread    0) f\b\b\r",
      "STEP   472 / 1735 (thread    1) f\b\b\r",
      "STEP   473 / 1735 (thread    3) f\b\b\r",
      "STEP   474 / 1735 (thread    0) f\b\b\r",
      "STEP   475 / 1735 (thread    4) f\b\b\r",
      "STEP   476 / 1735 (thread    5) f\b\b\r",
      "STEP   477 / 1735 (thread    1) f\b\b\r",
      "STEP   478 / 1735 (thread    0) f\b\b\r",
      "STEP   479 / 1735 (thread    2) f\b\b\r",
      "STEP   480 / 1735 (thread    3) f\b\b\r",
      "STEP   481 / 1735 (thread    4) f\b\b\r",
      "STEP   482 / 1735 (thread    5) f\b\b\r",
      "STEP   483 / 1735 (thread    1) f\b\b\r",
      "STEP   484 / 1735 (thread    0) f\b\b\r",
      "STEP   485 / 1735 (thread    2) f\b\b\r",
      "STEP   486 / 1735 (thread    3) f\b\b\r",
      "STEP   487 / 1735 (thread    5) f\b\b\r",
      "STEP   488 / 1735 (thread    1) f\b\b\r",
      "STEP   489 / 1735 (thread    4) f\b\b\r",
      "STEP   490 / 1735 (thread    0) f\b\b\r",
      "STEP   491 / 1735 (thread    1) f\b\b\r",
      "STEP   492 / 1735 (thread    0) f\b\b\r",
      "STEP   493 / 1735 (thread    2) f\b\b\r",
      "STEP   494 / 1735 (thread    4) f\b\b\r",
      "STEP   495 / 1735 (thread    3) f\b\b\r",
      "STEP   496 / 1735 (thread    0) f\b\b\r",
      "STEP   497 / 1735 (thread    1) f\b\b\r",
      "STEP   498 / 1735 (thread    2) f\b\b\r",
      "STEP   499 / 1735 (thread    0) f\b\b\r",
      "STEP   500 / 1735 (thread    4) f\b\b\r",
      "STEP   501 / 1735 (thread    5) f\b\b"
     ]
    },
    {
     "name": "stderr",
     "output_type": "stream",
     "text": [
      "\n",
      "Reallocating..done. *alloclen = 1982\n",
      "\r",
      "STEP   601 / 1735 (thread    4) f\b\b\r",
      "STEP   701 / 1735 (thread    5) f\b\b\r",
      "STEP   801 / 1735 (thread    0) f\b\b\r",
      "STEP   901 / 1735 (thread    5) f\b\b\r",
      "STEP  1001 / 1735 (thread    0) f\b\b\r",
      "STEP  1101 / 1735 (thread    1) f\b\b\r",
      "STEP  1201 / 1735 (thread    3) f\b\b"
     ]
    },
    {
     "name": "stderr",
     "output_type": "stream",
     "text": [
      "\r",
      "STEP  1301 / 1735 (thread    2) f\b\b\r",
      "STEP  1401 / 1735 (thread    1) f\b\b\r",
      "STEP  1501 / 1735 (thread    5) f\b\b\r",
      "STEP  1601 / 1735 (thread    4) f\b\b"
     ]
    },
    {
     "name": "stderr",
     "output_type": "stream",
     "text": [
      "\r",
      "STEP  1701 / 1735 (thread    0) f\b\b\n",
      "done.\n",
      "\n",
      "Making a distance matrix from msa.. \n",
      "\r",
      "    0 / 1736 (thread    0)"
     ]
    },
    {
     "name": "stderr",
     "output_type": "stream",
     "text": [
      "\r",
      "  100 / 1736 (thread    5)\r",
      "  200 / 1736 (thread    0)\r",
      "  300 / 1736 (thread    1)\r",
      "  400 / 1736 (thread    5)"
     ]
    },
    {
     "name": "stderr",
     "output_type": "stream",
     "text": [
      "\r",
      "  500 / 1736 (thread    1)\r",
      "  600 / 1736 (thread    5)\r",
      "  700 / 1736 (thread    1)\r",
      "  800 / 1736 (thread    5)\r",
      "  900 / 1736 (thread    1)"
     ]
    },
    {
     "name": "stderr",
     "output_type": "stream",
     "text": [
      "\r",
      " 1000 / 1736 (thread    4)\r",
      " 1100 / 1736 (thread    3)\r",
      " 1200 / 1736 (thread    5)\r",
      " 1300 / 1736 (thread    5)\r",
      " 1400 / 1736 (thread    4)\r",
      " 1500 / 1736 (thread    5)\r",
      " 1600 / 1736 (thread    2)\r",
      " 1700 / 1736 (thread    1)\n",
      "done.\n",
      "\n",
      "Constructing a UPGMA tree (efffree=1) ... \n",
      "\r",
      "    0 / 1736\r",
      "   10 / 1736\r",
      "   20 / 1736\r",
      "   30 / 1736\r",
      "   40 / 1736\r",
      "   50 / 1736\r",
      "   60 / 1736\r",
      "   70 / 1736\r",
      "   80 / 1736\r",
      "   90 / 1736\r",
      "  100 / 1736\r",
      "  110 / 1736\r",
      "  120 / 1736\r",
      "  130 / 1736\r",
      "  140 / 1736\r",
      "  150 / 1736\r",
      "  160 / 1736\r",
      "  170 / 1736\r",
      "  180 / 1736\r",
      "  190 / 1736\r",
      "  200 / 1736\r",
      "  210 / 1736\r",
      "  220 / 1736\r",
      "  230 / 1736\r",
      "  240 / 1736\r",
      "  250 / 1736\r",
      "  260 / 1736\r",
      "  270 / 1736\r",
      "  280 / 1736\r",
      "  290 / 1736\r",
      "  300 / 1736\r",
      "  310 / 1736\r",
      "  320 / 1736\r",
      "  330 / 1736\r",
      "  340 / 1736\r",
      "  350 / 1736\r",
      "  360 / 1736\r",
      "  370 / 1736\r",
      "  380 / 1736\r",
      "  390 / 1736\r",
      "  400 / 1736\r",
      "  410 / 1736\r",
      "  420 / 1736\r",
      "  430 / 1736\r",
      "  440 / 1736\r",
      "  450 / 1736\r",
      "  460 / 1736\r",
      "  470 / 1736\r",
      "  480 / 1736\r",
      "  490 / 1736\r",
      "  500 / 1736\r",
      "  510 / 1736\r",
      "  520 / 1736\r",
      "  530 / 1736\r",
      "  540 / 1736\r",
      "  550 / 1736\r",
      "  560 / 1736\r",
      "  570 / 1736\r",
      "  580 / 1736\r",
      "  590 / 1736\r",
      "  600 / 1736\r",
      "  610 / 1736\r",
      "  620 / 1736\r",
      "  630 / 1736\r",
      "  640 / 1736\r",
      "  650 / 1736\r",
      "  660 / 1736\r",
      "  670 / 1736\r",
      "  680 / 1736\r",
      "  690 / 1736\r",
      "  700 / 1736\r",
      "  710 / 1736\r",
      "  720 / 1736\r",
      "  730 / 1736\r",
      "  740 / 1736\r",
      "  750 / 1736\r",
      "  760 / 1736\r",
      "  770 / 1736\r",
      "  780 / 1736\r",
      "  790 / 1736\r",
      "  800 / 1736\r",
      "  810 / 1736\r",
      "  820 / 1736\r",
      "  830 / 1736\r",
      "  840 / 1736\r",
      "  850 / 1736\r",
      "  860 / 1736\r",
      "  870 / 1736\r",
      "  880 / 1736\r",
      "  890 / 1736\r",
      "  900 / 1736\r",
      "  910 / 1736\r",
      "  920 / 1736\r",
      "  930 / 1736\r",
      "  940 / 1736\r",
      "  950 / 1736\r",
      "  960 / 1736\r",
      "  970 / 1736\r",
      "  980 / 1736\r",
      "  990 / 1736\r",
      " 1000 / 1736\r",
      " 1010 / 1736\r",
      " 1020 / 1736\r",
      " 1030 / 1736\r",
      " 1040 / 1736\r",
      " 1050 / 1736\r",
      " 1060 / 1736\r",
      " 1070 / 1736\r",
      " 1080 / 1736\r",
      " 1090 / 1736\r",
      " 1100 / 1736\r",
      " 1110 / 1736\r",
      " 1120 / 1736\r",
      " 1130 / 1736\r",
      " 1140 / 1736\r",
      " 1150 / 1736\r",
      " 1160 / 1736\r",
      " 1170 / 1736\r",
      " 1180 / 1736\r",
      " 1190 / 1736\r",
      " 1200 / 1736\r",
      " 1210 / 1736\r",
      " 1220 / 1736\r",
      " 1230 / 1736\r",
      " 1240 / 1736\r",
      " 1250 / 1736\r",
      " 1260 / 1736\r",
      " 1270 / 1736\r",
      " 1280 / 1736\r",
      " 1290 / 1736\r",
      " 1300 / 1736\r",
      " 1310 / 1736\r",
      " 1320 / 1736\r",
      " 1330 / 1736\r",
      " 1340 / 1736\r",
      " 1350 / 1736\r",
      " 1360 / 1736\r",
      " 1370 / 1736\r",
      " 1380 / 1736\r",
      " 1390 / 1736\r",
      " 1400 / 1736\r",
      " 1410 / 1736\r",
      " 1420 / 1736\r",
      " 1430 / 1736\r",
      " 1440 / 1736\r",
      " 1450 / 1736\r",
      " 1460 / 1736\r",
      " 1470 / 1736\r",
      " 1480 / 1736\r",
      " 1490 / 1736\r",
      " 1500 / 1736\r",
      " 1510 / 1736\r",
      " 1520 / 1736\r",
      " 1530 / 1736\r",
      " 1540 / 1736\r",
      " 1550 / 1736\r",
      " 1560 / 1736\r",
      " 1570 / 1736\r",
      " 1580 / 1736\r",
      " 1590 / 1736\r",
      " 1600 / 1736\r",
      " 1610 / 1736\r",
      " 1620 / 1736\r",
      " 1630 / 1736\r",
      " 1640 / 1736\r",
      " 1650 / 1736\r",
      " 1660 / 1736\r",
      " 1670 / 1736\r",
      " 1680 / 1736\r",
      " 1690 / 1736\r",
      " 1700 / 1736\r",
      " 1710 / 1736\r",
      " 1720 / 1736\r",
      " 1730 / 1736\n",
      "done.\n",
      "\n",
      "Progressive alignment 2/2... \n",
      "\r",
      "STEP     1 / 1735 (thread    0) f\b\b\r",
      "STEP     2 / 1735 (thread    1) f\b\b\r",
      "STEP     3 / 1735 (thread    3) f\b\b\r",
      "STEP     4 / 1735 (thread    2) f\b\b\r",
      "STEP     5 / 1735 (thread    4) f\b\b\r",
      "STEP     6 / 1735 (thread    5) f\b\b\r",
      "STEP     7 / 1735 (thread    5) f\b\b\r",
      "STEP     8 / 1735 (thread    5) f\b\b\r",
      "STEP     9 / 1735 (thread    5) f\b\b\r",
      "STEP    10 / 1735 (thread    5) f\b\b\r",
      "STEP    11 / 1735 (thread    5) f\b\b\r",
      "STEP    12 / 1735 (thread    5) f\b\b\r",
      "STEP    13 / 1735 (thread    5)"
     ]
    },
    {
     "name": "stderr",
     "output_type": "stream",
     "text": [
      " f\b\b\r",
      "STEP    14 / 1735 (thread    0) f\b\b\r",
      "STEP    15 / 1735 (thread    5) f\b\b\r",
      "STEP    16 / 1735 (thread    0) f\b\b\r",
      "STEP    17 / 1735 (thread    0) f\b\b\r",
      "STEP    18 / 1735 (thread    5) f\b\b\r",
      "STEP    19 / 1735 (thread    0) f\b\b\r",
      "STEP    20 / 1735 (thread    5) f\b\b\r",
      "STEP    21 / 1735 (thread    2) f\b\b\r",
      "STEP    22 / 1735 (thread    3) f\b\b\r",
      "STEP    23 / 1735 (thread    1) f\b\b\r",
      "STEP    24 / 1735 (thread    4) f\b\b\r",
      "STEP    25 / 1735 (thread    0) f\b\b\r",
      "STEP    26 / 1735 (thread    5) f\b\b\r",
      "STEP    27 / 1735 (thread    1) f\b\b\r",
      "STEP    28 / 1735 (thread    2) f\b\b\r",
      "STEP    29 / 1735 (thread    0) f\b\b\r",
      "STEP    30 / 1735 (thread    4) f\b\b\r",
      "STEP    31 / 1735 (thread    5) f\b\b\r",
      "STEP    32 / 1735 (thread    3) f\b\b\r",
      "STEP    33 / 1735 (thread    0) f\b\b\r",
      "STEP    34 / 1735 (thread    5) f\b\b\r",
      "STEP    35 / 1735 (thread    1) f\b\b\r",
      "STEP    36 / 1735 (thread    2) f\b\b\r",
      "STEP    37 / 1735 (thread    4) f\b\b\r",
      "STEP    38 / 1735 (thread    3) f\b\b\r",
      "STEP    39 / 1735 (thread    5) f\b\b\r",
      "STEP    40 / 1735 (thread    5) f\b\b\r",
      "STEP    41 / 1735 (thread    1) f\b\b\r",
      "STEP    42 / 1735 (thread    4) f\b\b\r",
      "STEP    43 / 1735 (thread    2) f\b\b\r",
      "STEP    44 / 1735 (thread    3) f\b\b\r",
      "STEP    45 / 1735 (thread    0) f\b\b\r",
      "STEP    46 / 1735 (thread    5) f\b\b\r",
      "STEP    47 / 1735 (thread    0) f\b\b\r",
      "STEP    48 / 1735 (thread    4) f\b\b\r",
      "STEP    49 / 1735 (thread    1) f\b\b\r",
      "STEP    50 / 1735 (thread    2) f\b\b\r",
      "STEP    51 / 1735 (thread    3) f\b\b\r",
      "STEP    52 / 1735 (thread    5) f\b\b\r",
      "STEP    53 / 1735 (thread    0) f\b\b\r",
      "STEP    54 / 1735 (thread    5) f\b\b\r",
      "STEP    55 / 1735 (thread    4) f\b\b\r",
      "STEP    56 / 1735 (thread    1) f\b\b\r",
      "STEP    57 / 1735 (thread    2) f\b\b\r",
      "STEP    58 / 1735 (thread    3) f\b\b\r",
      "STEP    59 / 1735 (thread    0) f\b\b\r",
      "STEP    60 / 1735 (thread    5) f\b\b\r",
      "STEP    61 / 1735 (thread    0) f\b\b\r",
      "STEP    62 / 1735 (thread    1) f\b\b\r",
      "STEP    63 / 1735 (thread    4) f\b\b\r",
      "STEP    64 / 1735 (thread    2) f\b\b\r",
      "STEP    65 / 1735 (thread    3) f\b\b\r",
      "STEP    66 / 1735 (thread    5) f\b\b\r",
      "STEP    67 / 1735 (thread    0) f\b\b\r",
      "STEP    68 / 1735 (thread    5) f\b\b\r",
      "STEP    69 / 1735 (thread    2) f\b\b\r",
      "STEP    70 / 1735 (thread    1) f\b\b\r",
      "STEP    71 / 1735 (thread    3) f\b\b\r",
      "STEP    72 / 1735 (thread    0) f\b\b\r",
      "STEP    73 / 1735 (thread    5) f\b\b\r",
      "STEP    74 / 1735 (thread    0) f\b\b\r",
      "STEP    75 / 1735 (thread    1) f\b\b\r",
      "STEP    76 / 1735 (thread    3) f\b\b\r",
      "STEP    77 / 1735 (thread    2) f\b\b\r",
      "STEP    78 / 1735 (thread    5) f\b\b\r",
      "STEP    79 / 1735 (thread    4) f\b\b\r",
      "STEP    80 / 1735 (thread    0) f\b\b\r",
      "STEP    81 / 1735 (thread    1) f\b\b\r",
      "STEP    82 / 1735 (thread    3) f\b\b\r",
      "STEP    83 / 1735 (thread    5) f\b\b\r",
      "STEP    84 / 1735 (thread    0) f\b\b\r",
      "STEP    85 / 1735 (thread    1) f\b\b\r",
      "STEP    86 / 1735 (thread    3) f\b\b\r",
      "STEP    87 / 1735 (thread    2) f\b\b\r",
      "STEP    88 / 1735 (thread    4) f\b\b\r",
      "STEP    89 / 1735 (thread    5) f\b\b\r",
      "STEP    90 / 1735 (thread    1) f\b\b\r",
      "STEP    91 / 1735 (thread    3) f\b\b\r",
      "STEP    92 / 1735 (thread    0) f\b\b\r",
      "STEP    93 / 1735 (thread    2) f\b\b\r",
      "STEP    94 / 1735 (thread    4) f\b\b\r",
      "STEP    95 / 1735 (thread    5) f\b\b\r",
      "STEP    96 / 1735 (thread    1) f\b\b\r",
      "STEP    97 / 1735 (thread    0) f\b\b\r",
      "STEP    98 / 1735 (thread    3) f\b\b\r",
      "STEP    99 / 1735 (thread    2) f\b\b\r",
      "STEP   100 / 1735 (thread    4) f\b\b\r",
      "STEP   101 / 1735 (thread    5) f\b\b\r",
      "STEP   102 / 1735 (thread    0) f\b\b\r",
      "STEP   103 / 1735 (thread    1) f\b\b\r",
      "STEP   104 / 1735 (thread    3) f\b\b\r",
      "STEP   105 / 1735 (thread    5) f\b\b\r",
      "STEP   106 / 1735 (thread    2) f\b\b\r",
      "STEP   107 / 1735 (thread    4) f\b\b\r",
      "STEP   108 / 1735 (thread    0) f\b\b\r",
      "STEP   109 / 1735 (thread    5) f\b\b\r",
      "STEP   110 / 1735 (thread    1) f\b\b\r",
      "STEP   111 / 1735 (thread    0) f\b\b\r",
      "STEP   112 / 1735 (thread    3) f\b\b\r",
      "STEP   113 / 1735 (thread    2) f\b\b\r",
      "STEP   114 / 1735 (thread    4) f\b\b\r",
      "STEP   115 / 1735 (thread    5) f\b\b\r",
      "STEP   116 / 1735 (thread    0) f\b\b\r",
      "STEP   117 / 1735 (thread    1) f\b\b\r",
      "STEP   118 / 1735 (thread    4) f\b\b\r",
      "STEP   119 / 1735 (thread    2) f\b\b\r",
      "STEP   120 / 1735 (thread    3) f\b\b\r",
      "STEP   121 / 1735 (thread    5) f\b\b\r",
      "STEP   122 / 1735 (thread    0) f\b\b\r",
      "STEP   123 / 1735 (thread    5) f\b\b\r",
      "STEP   124 / 1735 (thread    0) f\b\b\r",
      "STEP   125 / 1735 (thread    1) f\b\b\r",
      "STEP   126 / 1735 (thread    4) f\b\b\r",
      "STEP   127 / 1735 (thread    3) f\b\b\r",
      "STEP   128 / 1735 (thread    2) f\b\b\r",
      "STEP   129 / 1735 (thread    5) f\b\b\r",
      "STEP   130 / 1735 (thread    0) f\b\b\r",
      "STEP   131 / 1735 (thread    1) f\b\b\r",
      "STEP   132 / 1735 (thread    4) f\b\b\r",
      "STEP   133 / 1735 (thread    5) f\b\b\r",
      "STEP   134 / 1735 (thread    3) f\b\b\r",
      "STEP   135 / 1735 (thread    2) f\b\b\r",
      "STEP   136 / 1735 (thread    0) f\b\b\r",
      "STEP   137 / 1735 (thread    5) f\b\b\r",
      "STEP   138 / 1735 (thread    0) f\b\b\r",
      "STEP   139 / 1735 (thread    1) f\b\b\r",
      "STEP   140 / 1735 (thread    4) f\b\b\r",
      "STEP   141 / 1735 (thread    3) f\b\b\r",
      "STEP   142 / 1735 (thread    2) f\b\b\r",
      "STEP   143 / 1735 (thread    5) f\b\b\r",
      "STEP   144 / 1735 (thread    1) f\b\b\r",
      "STEP   145 / 1735 (thread    0) f\b\b\r",
      "STEP   146 / 1735 (thread    4) f\b\b\r",
      "STEP   147 / 1735 (thread    3) f\b\b\r",
      "STEP   148 / 1735 (thread    3) f\b\b\r",
      "STEP   149 / 1735 (thread    5) f\b\b\r",
      "STEP   150 / 1735 (thread    0) f\b\b\r",
      "STEP   151 / 1735 (thread    2) f\b\b\r",
      "STEP   152 / 1735 (thread    1) f\b\b\r",
      "STEP   153 / 1735 (thread    4) f\b\b\r",
      "STEP   154 / 1735 (thread    5) f\b\b\r",
      "STEP   155 / 1735 (thread    0) f\b\b\r",
      "STEP   156 / 1735 (thread    3) f\b\b\r",
      "STEP   157 / 1735 (thread    2) f\b\b\r",
      "STEP   158 / 1735 (thread    5) f\b\b\r",
      "STEP   160 / 1735 (thread    0) f\b\b\r",
      "STEP   161 / 1735 (thread    4) f\b\b\r",
      "STEP   162 / 1735 (thread    0) f\b\b\r",
      "STEP   163 / 1735 (thread    4) f\b\b\r",
      "STEP   164 / 1735 (thread    3) f\b\b\r",
      "STEP   165 / 1735 (thread    5) f\b\b\r",
      "STEP   166 / 1735 (thread    4) f\b\b\r",
      "STEP   167 / 1735 (thread    0) f\b\b\r",
      "STEP   168 / 1735 (thread    2) f\b\b\r",
      "STEP   159 / 1735 (thread    1) f\b\b\r",
      "STEP   169 / 1735 (thread    3) f\b\b\r",
      "STEP   170 / 1735 (thread    5) f\b\b\r",
      "STEP   171 / 1735 (thread    0) f\b\b\r",
      "STEP   172 / 1735 (thread    4) f\b\b\r",
      "STEP   173 / 1735 (thread    5) f\b\b\r",
      "STEP   174 / 1735 (thread    2) f\b\b\r",
      "STEP   175 / 1735 (thread    0) f\b\b\r",
      "STEP   176 / 1735 (thread    3) f\b\b\r",
      "STEP   177 / 1735 (thread    4) f\b\b\r",
      "STEP   178 / 1735 (thread    5) f\b\b\r",
      "STEP   179 / 1735 (thread    0) f\b\b\r",
      "STEP   180 / 1735 (thread    1) f\b\b\r",
      "STEP   181 / 1735 (thread    2) f\b\b\r",
      "STEP   182 / 1735 (thread    3) f\b\b\r",
      "STEP   183 / 1735 (thread    0) f\b\b\r",
      "STEP   184 / 1735 (thread    1) f\b\b\r",
      "STEP   185 / 1735 (thread    5) f\b\b\r",
      "STEP   186 / 1735 (thread    2) f\b\b\r",
      "STEP   187 / 1735 (thread    3) f\b\b\r",
      "STEP   188 / 1735 (thread    0) f\b\b\r",
      "STEP   189 / 1735 (thread    4) f\b\b\r",
      "STEP   190 / 1735 (thread    5) f\b\b\r",
      "STEP   191 / 1735 (thread    1) f\b\b\r",
      "STEP   192 / 1735 (thread    0) f\b\b\r",
      "STEP   193 / 1735 (thread    2) f\b\b\r",
      "STEP   194 / 1735 (thread    3) f\b\b\r",
      "STEP   195 / 1735 (thread    5) f\b\b\r",
      "STEP   196 / 1735 (thread    4) f\b\b\r",
      "STEP   197 / 1735 (thread    1) f\b\b\r",
      "STEP   198 / 1735 (thread    2) f\b\b\r",
      "STEP   199 / 1735 (thread    3) f\b\b\r",
      "STEP   200 / 1735 (thread    0) f\b\b\r",
      "STEP   201 / 1735 (thread    5) f\b\b\r",
      "STEP   202 / 1735 (thread    3) f\b\b\r",
      "STEP   203 / 1735 (thread    0) f\b\b\r",
      "STEP   204 / 1735 (thread    4) f\b\b\r",
      "STEP   205 / 1735 (thread    1) f\b\b\r",
      "STEP   206 / 1735 (thread    2) f\b\b\r",
      "STEP   207 / 1735 (thread    3) f\b\b\r",
      "STEP   208 / 1735 (thread    5) f\b\b\r",
      "STEP   209 / 1735 (thread    0) f\b\b\r",
      "STEP   210 / 1735 (thread    4) f\b\b\r",
      "STEP   211 / 1735 (thread    5) f\b\b\r",
      "STEP   212 / 1735 (thread    1) f\b\b\r",
      "STEP   213 / 1735 (thread    3) f\b\b\r",
      "STEP   214 / 1735 (thread    2) f\b\b\r",
      "STEP   215 / 1735 (thread    5) f\b\b\r",
      "STEP   216 / 1735 (thread    4) f\b\b\r",
      "STEP   217 / 1735 (thread    0) f\b\b\r",
      "STEP   218 / 1735 (thread    1) f\b\b\r",
      "STEP   219 / 1735 (thread    3) f\b\b\r",
      "STEP   220 / 1735 (thread    2) f\b\b\r",
      "STEP   221 / 1735 (thread    5) f\b\b\r",
      "STEP   222 / 1735 (thread    0) f\b\b\r",
      "STEP   223 / 1735 (thread    4) f\b\b\r",
      "STEP   224 / 1735 (thread    1) f\b\b\r",
      "STEP   225 / 1735 (thread    5) f\b\b\r",
      "STEP   226 / 1735 (thread    2) f\b\b\r",
      "STEP   227 / 1735 (thread    0) f\b\b\r",
      "STEP   228 / 1735 (thread    4) f\b\b\r",
      "STEP   229 / 1735 (thread    0) f\b\b\r",
      "STEP   230 / 1735 (thread    1) f\b\b\r",
      "STEP   231 / 1735 (thread    3) f\b\b\r",
      "STEP   232 / 1735 (thread    2) f\b\b\r",
      "STEP   233 / 1735 (thread    5) f\b\b\r",
      "STEP   234 / 1735 (thread    0) f\b\b\r",
      "STEP   235 / 1735 (thread    4) f\b\b\r",
      "STEP   236 / 1735 (thread    1) f\b\b\r",
      "STEP   237 / 1735 (thread    5) f\b\b\r",
      "STEP   238 / 1735 (thread    2) f\b\b\r",
      "STEP   239 / 1735 (thread    0) f\b\b\r",
      "STEP   240 / 1735 (thread    4) f\b\b\r",
      "STEP   241 / 1735 (thread    5) f\b\b\r",
      "STEP   242 / 1735 (thread    1) f\b\b\r",
      "STEP   243 / 1735 (thread    0) f\b\b\r",
      "STEP   244 / 1735 (thread    2) f\b\b\r",
      "STEP   245 / 1735 (thread    3) f\b\b\r",
      "STEP   246 / 1735 (thread    5) f\b\b\r",
      "STEP   247 / 1735 (thread    0) f\b\b\r",
      "STEP   248 / 1735 (thread    4) f\b\b\r",
      "STEP   249 / 1735 (thread    1) f\b\b\r",
      "STEP   250 / 1735 (thread    3) f\b\b\r",
      "STEP   251 / 1735 (thread    2) f\b\b\r",
      "STEP   252 / 1735 (thread    5) f\b\b\r",
      "STEP   253 / 1735 (thread    0) f\b\b\r",
      "STEP   254 / 1735 (thread    4) f\b\b\r",
      "STEP   255 / 1735 (thread    1) f\b\b\r",
      "STEP   256 / 1735 (thread    5) f\b\b\r",
      "STEP   257 / 1735 (thread    0) f\b\b\r",
      "STEP   258 / 1735 (thread    2) f\b\b\r",
      "STEP   259 / 1735 (thread    3) f\b\b\r",
      "STEP   260 / 1735 (thread    0) f\b\b\r",
      "STEP   261 / 1735 (thread    5) f\b\b\r",
      "STEP   262 / 1735 (thread    4) f\b\b\r",
      "STEP   263 / 1735 (thread    1) f\b\b\r",
      "STEP   264 / 1735 (thread    3) f\b\b\r",
      "STEP   265 / 1735 (thread    2) f\b\b\r",
      "STEP   266 / 1735 (thread    0) f\b\b\r",
      "STEP   267 / 1735 (thread    5) f\b\b\r",
      "STEP   268 / 1735 (thread    4) f\b\b\r",
      "STEP   269 / 1735 (thread    5) f\b\b\r",
      "STEP   270 / 1735 (thread    0) f\b\b\r",
      "STEP   271 / 1735 (thread    3) f\b\b\r",
      "STEP   272 / 1735 (thread    2) f\b\b\r",
      "STEP   273 / 1735 (thread    1) f\b\b\r",
      "STEP   274 / 1735 (thread    0) f\b\b\r",
      "STEP   275 / 1735 (thread    5) f\b\b\r",
      "STEP   276 / 1735 (thread    4) f\b\b\r",
      "STEP   277 / 1735 (thread    0) f\b\b\r",
      "STEP   278 / 1735 (thread    3) f\b\b\r",
      "STEP   279 / 1735 (thread    1) f\b\b\r",
      "STEP   280 / 1735 (thread    2) f\b\b\r",
      "STEP   281 / 1735 (thread    5) f\b\b\r",
      "STEP   282 / 1735 (thread    0) f\b\b\r",
      "STEP   283 / 1735 (thread    5) f\b\b\r",
      "STEP   284 / 1735 (thread    4) f\b\b\r",
      "STEP   286 / 1735 (thread    1) f\b\b\r",
      "STEP   287 / 1735 (thread    3) f\b\b\r",
      "STEP   288 / 1735 (thread    2) f\b\b\r",
      "STEP   289 / 1735 (thread    5) f\b\b\r",
      "STEP   285 / 1735 (thread    0) f\b\b\r",
      "STEP   290 / 1735 (thread    4) f\b\b\r",
      "STEP   291 / 1735 (thread    5) f\b\b\r",
      "STEP   293 / 1735 (thread    1) f\b\b\r",
      "STEP   294 / 1735 (thread    3) f\b\b\r",
      "STEP   295 / 1735 (thread    2) f\b\b\r",
      "STEP   296 / 1735 (thread    5) f\b\b\r",
      "STEP   297 / 1735 (thread    3) f\b\b\r",
      "STEP   298 / 1735 (thread    4) f\b\b\r",
      "STEP   292 / 1735 (thread    0) f\b\b\r",
      "STEP   299 / 1735 (thread    2) f\b\b\r",
      "STEP   300 / 1735 (thread    1) f\b\b\r",
      "STEP   301 / 1735 (thread    5) f\b\b\r",
      "STEP   302 / 1735 (thread    0) f\b\b\r",
      "STEP   303 / 1735 (thread    5) f\b\b\r",
      "STEP   304 / 1735 (thread    3) f\b\b\r",
      "STEP   305 / 1735 (thread    4) f\b\b\r",
      "STEP   306 / 1735 (thread    2) f\b\b\r",
      "STEP   307 / 1735 (thread    1) f\b\b\r",
      "STEP   308 / 1735 (thread    0) f\b\b\r",
      "STEP   309 / 1735 (thread    5) f\b\b\r",
      "STEP   310 / 1735 (thread    0) f\b\b\r",
      "STEP   311 / 1735 (thread    4) f\b\b\r",
      "STEP   313 / 1735 (thread    2) f\b\b\r",
      "STEP   314 / 1735 (thread    1) f\b\b\r",
      "STEP   312 / 1735 (thread    3) f\b\b\r",
      "STEP   315 / 1735 (thread    2) f\b\b\r",
      "STEP   316 / 1735 (thread    5) f\b\b\r",
      "STEP   317 / 1735 (thread    5) f\b\b\r",
      "STEP   318 / 1735 (thread    1) f\b\b\r",
      "STEP   319 / 1735 (thread    0) f\b\b\r",
      "STEP   320 / 1735 (thread    5) f\b\b\r",
      "STEP   321 / 1735 (thread    4) f\b\b\r",
      "STEP   322 / 1735 (thread    0) f\b\b\r",
      "STEP   323 / 1735 (thread    3) f\b\b\r",
      "STEP   324 / 1735 (thread    1) f\b\b\r",
      "STEP   325 / 1735 (thread    5) f\b\b\r",
      "STEP   326 / 1735 (thread    2) f\b\b\r",
      "STEP   327 / 1735 (thread    0) f\b\b\r",
      "STEP   328 / 1735 (thread    4) f\b\b\r",
      "STEP   329 / 1735 (thread    3) f\b\b\r",
      "STEP   330 / 1735 (thread    0) f\b\b\r",
      "STEP   331 / 1735 (thread    2) f\b\b\r",
      "STEP   332 / 1735 (thread    5) f\b\b\r",
      "STEP   333 / 1735 (thread    4) f\b\b\r",
      "STEP   334 / 1735 (thread    0) f\b\b\r",
      "STEP   335 / 1735 (thread    3) f\b\b\r",
      "STEP   336 / 1735 (thread    1) f\b\b\r",
      "STEP   337 / 1735 (thread    5) f\b\b\r",
      "STEP   338 / 1735 (thread    0) f\b\b\r",
      "STEP   339 / 1735 (thread    4) f\b\b\r",
      "STEP   340 / 1735 (thread    5) f\b\b\r",
      "STEP   341 / 1735 (thread    3) f\b\b\r",
      "STEP   342 / 1735 (thread    1) f\b\b\r",
      "STEP   343 / 1735 (thread    2) f\b\b\r",
      "STEP   344 / 1735 (thread    0) f\b\b\r",
      "STEP   345 / 1735 (thread    4) f\b\b\r",
      "STEP   346 / 1735 (thread    0) f\b\b\r",
      "STEP   347 / 1735 (thread    5) f\b\b\r",
      "STEP   348 / 1735 (thread    0) f\b\b\r",
      "STEP   349 / 1735 (thread    4) f\b\b\r",
      "STEP   350 / 1735 (thread    5) f\b\b\r",
      "STEP   351 / 1735 (thread    1) f\b\b\r",
      "STEP   352 / 1735 (thread    3) f\b\b\r",
      "STEP   353 / 1735 (thread    0) f\b\b\r",
      "STEP   354 / 1735 (thread    2) f\b\b\r",
      "STEP   355 / 1735 (thread    5) f\b\b\r",
      "STEP   356 / 1735 (thread    4) f\b\b\r",
      "STEP   357 / 1735 (thread    0) f\b\b\r",
      "STEP   358 / 1735 (thread    0) f\b\b\r",
      "STEP   359 / 1735 (thread    5) f\b\b\r",
      "STEP   360 / 1735 (thread    1) f\b\b\r",
      "STEP   361 / 1735 (thread    3) f\b\b\r",
      "STEP   362 / 1735 (thread    2) f\b\b\r",
      "STEP   363 / 1735 (thread    4) f\b\b\r",
      "STEP   364 / 1735 (thread    0) f\b\b\r",
      "STEP   365 / 1735 (thread    5) f\b\b\r",
      "STEP   366 / 1735 (thread    0) f\b\b\r",
      "STEP   367 / 1735 (thread    4) f\b\b\r",
      "STEP   368 / 1735 (thread    0) f\b\b\r",
      "STEP   369 / 1735 (thread    1) f\b\b\r",
      "STEP   370 / 1735 (thread    3) f\b\b\r",
      "STEP   371 / 1735 (thread    5) f\b\b\r",
      "STEP   372 / 1735 (thread    4) f\b\b\r",
      "STEP   373 / 1735 (thread    0) f\b\b\r",
      "STEP   374 / 1735 (thread    2) f\b\b\r",
      "STEP   375 / 1735 (thread    5) f\b\b\r",
      "STEP   376 / 1735 (thread    0) f\b\b\r",
      "STEP   377 / 1735 (thread    1) f\b\b\r",
      "STEP   378 / 1735 (thread    5) f\b\b\r",
      "STEP   379 / 1735 (thread    4) f\b\b\r",
      "STEP   380 / 1735 (thread    3) f\b\b\r",
      "STEP   381 / 1735 (thread    0) f\b\b\r",
      "STEP   382 / 1735 (thread    2) f\b\b\r",
      "STEP   383 / 1735 (thread    0) f\b\b\r",
      "STEP   384 / 1735 (thread    1) f\b\b\r",
      "STEP   385 / 1735 (thread    0) f\b\b\r",
      "STEP   386 / 1735 (thread    4) f\b\b\r",
      "STEP   387 / 1735 (thread    3) f\b\b\r",
      "STEP   388 / 1735 (thread    5) f\b\b\r",
      "STEP   389 / 1735 (thread    2) f\b\b\r",
      "STEP   390 / 1735 (thread    0) f\b\b\r",
      "STEP   391 / 1735 (thread    1) f\b\b\r",
      "STEP   392 / 1735 (thread    5) f\b\b\r",
      "STEP   393 / 1735 (thread    4) f\b\b\r",
      "STEP   394 / 1735 (thread    3) f\b\b\r",
      "STEP   395 / 1735 (thread    0) f\b\b\r",
      "STEP   396 / 1735 (thread    5) f\b\b\r",
      "STEP   397 / 1735 (thread    2) f\b\b\r",
      "STEP   398 / 1735 (thread    1) f\b\b\r",
      "STEP   399 / 1735 (thread    4) f\b\b\r",
      "STEP   400 / 1735 (thread    3) f\b\b\r",
      "STEP   401 / 1735 (thread    0) f\b\b\r",
      "STEP   402 / 1735 (thread    2) f\b\b\r",
      "STEP   403 / 1735 (thread    4) f\b\b\r",
      "STEP   404 / 1735 (thread    1) f\b\b\r",
      "STEP   405 / 1735 (thread    5) f\b\b\r",
      "STEP   406 / 1735 (thread    5) f\b\b\r",
      "STEP   407 / 1735 (thread    4) f\b\b\r",
      "STEP   408 / 1735 (thread    0) f\b\b\r",
      "STEP   409 / 1735 (thread    1) f\b\b\r",
      "STEP   410 / 1735 (thread    5) f\b\b\r",
      "STEP   411 / 1735 (thread    3) f\b\b\r",
      "STEP   412 / 1735 (thread    4) f\b\b\r",
      "STEP   413 / 1735 (thread    2) f\b\b\r",
      "STEP   414 / 1735 (thread    0) f\b\b\r",
      "STEP   415 / 1735 (thread    5) f\b\b\r",
      "STEP   416 / 1735 (thread    4) f\b\b\r",
      "STEP   417 / 1735 (thread    2) f\b\b\r",
      "STEP   418 / 1735 (thread    0) f\b\b\r",
      "STEP   419 / 1735 (thread    1) f\b\b\r",
      "STEP   420 / 1735 (thread    5) f\b\b\r",
      "STEP   421 / 1735 (thread    3) f\b\b\r",
      "STEP   422 / 1735 (thread    4) f\b\b\r",
      "STEP   423 / 1735 (thread    0) f\b\b\r",
      "STEP   424 / 1735 (thread    2) f\b\b\r",
      "STEP   425 / 1735 (thread    5) f\b\b\r",
      "STEP   426 / 1735 (thread    0) f\b\b\r",
      "STEP   427 / 1735 (thread    1) f\b\b\r",
      "STEP   428 / 1735 (thread    3) f\b\b\r",
      "STEP   429 / 1735 (thread    4) f\b\b\r",
      "STEP   430 / 1735 (thread    5) f\b\b\r",
      "STEP   431 / 1735 (thread    0) f\b\b\r",
      "STEP   432 / 1735 (thread    2) f\b\b\r",
      "STEP   433 / 1735 (thread    5) f\b\b\r",
      "STEP   434 / 1735 (thread    0) f\b\b\r",
      "STEP   435 / 1735 (thread    4) f\b\b\r",
      "STEP   436 / 1735 (thread    1) f\b\b\r",
      "STEP   437 / 1735 (thread    3) f\b\b\r",
      "STEP   438 / 1735 (thread    5) f\b\b\r",
      "STEP   439 / 1735 (thread    2) f\b\b\r",
      "STEP   440 / 1735 (thread    0) f\b\b\r",
      "STEP   441 / 1735 (thread    5) f\b\b\r",
      "STEP   442 / 1735 (thread    4) f\b\b\r",
      "STEP   443 / 1735 (thread    1) f\b\b\r",
      "STEP   444 / 1735 (thread    3) f\b\b\r",
      "STEP   445 / 1735 (thread    0) f\b\b\r",
      "STEP   446 / 1735 (thread    2) f\b\b\r",
      "STEP   447 / 1735 (thread    5) f\b\b\r",
      "STEP   448 / 1735 (thread    0) f\b\b\r",
      "STEP   449 / 1735 (thread    4) f\b\b\r",
      "STEP   450 / 1735 (thread    1) f\b\b\r",
      "STEP   451 / 1735 (thread    3) f\b\b\r",
      "STEP   452 / 1735 (thread    5) f\b\b\r",
      "STEP   453 / 1735 (thread    0) f\b\b\r",
      "STEP   454 / 1735 (thread    2) f\b\b\r",
      "STEP   455 / 1735 (thread    5) f\b\b\r",
      "STEP   456 / 1735 (thread    4) f\b\b\r",
      "STEP   457 / 1735 (thread    3) f\b\b\r",
      "STEP   458 / 1735 (thread    0) f\b\b\r",
      "STEP   459 / 1735 (thread    1) f\b\b\r",
      "STEP   460 / 1735 (thread    5) f\b\b\r",
      "STEP   461 / 1735 (thread    2) f\b\b\r",
      "STEP   462 / 1735 (thread    0) f\b\b\r",
      "STEP   463 / 1735 (thread    3) f\b\b\r",
      "STEP   464 / 1735 (thread    5) f\b\b\r",
      "STEP   465 / 1735 (thread    4) f\b\b\r",
      "STEP   466 / 1735 (thread    1) f\b\b\r",
      "STEP   467 / 1735 (thread    0) f\b\b\r",
      "STEP   468 / 1735 (thread    2) f\b\b\r",
      "STEP   469 / 1735 (thread    5) f\b\b\r",
      "STEP   470 / 1735 (thread    0) f\b\b\r",
      "STEP   471 / 1735 (thread    3) f\b\b\r",
      "STEP   472 / 1735 (thread    4) f\b\b\r",
      "STEP   473 / 1735 (thread    1) f\b\b\r",
      "STEP   474 / 1735 (thread    5) f\b\b\r",
      "STEP   475 / 1735 (thread    0) f\b\b\r",
      "STEP   476 / 1735 (thread    2) f\b\b\r",
      "STEP   477 / 1735 (thread    5) f\b\b\r",
      "STEP   478 / 1735 (thread    3) f\b\b\r",
      "STEP   479 / 1735 (thread    0) f\b\b\r",
      "STEP   480 / 1735 (thread    1) f\b\b\r",
      "STEP   481 / 1735 (thread    4) f\b\b\r",
      "STEP   482 / 1735 (thread    5) f\b\b\r",
      "STEP   483 / 1735 (thread    2) f\b\b\r",
      "STEP   484 / 1735 (thread    0) f\b\b\r",
      "STEP   485 / 1735 (thread    3) f\b\b\r",
      "STEP   487 / 1735 (thread    0) f\b\b\r",
      "STEP   488 / 1735 (thread    4) f\b\b\r",
      "STEP   489 / 1735 (thread    1) f\b\b\r",
      "STEP   486 / 1735 (thread    5) f\b\b\r",
      "STEP   490 / 1735 (thread    2) f\b\b\r",
      "STEP   491 / 1735 (thread    3) f\b\b\r",
      "STEP   492 / 1735 (thread    2) f\b\b\r",
      "STEP   493 / 1735 (thread    0) f\b\b\r",
      "STEP   494 / 1735 (thread    4) f\b\b\r",
      "STEP   495 / 1735 (thread    1) f\b\b\r",
      "STEP   496 / 1735 (thread    5) f\b\b\r",
      "STEP   497 / 1735 (thread    3) f\b\b\r",
      "STEP   498 / 1735 (thread    1) f\b\b\r",
      "STEP   499 / 1735 (thread    4) f\b\b\r",
      "STEP   500 / 1735 (thread    2) f\b\b\r",
      "STEP   501 / 1735 (thread    0) f\b\b\r",
      "STEP   601 / 1735 (thread    2) f\b\b\r",
      "STEP   701 / 1735 (thread    2) f\b\b"
     ]
    },
    {
     "name": "stderr",
     "output_type": "stream",
     "text": [
      "\r",
      "STEP   801 / 1735 (thread    1) f\b\b\r",
      "STEP   901 / 1735 (thread    4) f\b\b\r",
      "STEP  1001 / 1735 (thread    0) f\b\b\r",
      "STEP  1101 / 1735 (thread    2) f\b\b\r",
      "STEP  1201 / 1735 (thread    3) f\b\b\r",
      "STEP  1301 / 1735 (thread    4) f\b\b\r",
      "STEP  1401 / 1735 (thread    5) f\b\b"
     ]
    },
    {
     "name": "stderr",
     "output_type": "stream",
     "text": [
      "\n",
      "Reallocating..done. *alloclen = 1984\n",
      "\r",
      "STEP  1501 / 1735 (thread    1) f\b\b\r",
      "STEP  1601 / 1735 (thread    3) f\b\b"
     ]
    },
    {
     "name": "stderr",
     "output_type": "stream",
     "text": [
      "\r",
      "STEP  1701 / 1735 (thread    3) f\b\b\n",
      "done.\n",
      "\n"
     ]
    },
    {
     "name": "stderr",
     "output_type": "stream",
     "text": [
      "disttbfast (nuc) Version 7.490\n",
      "alg=A, model=DNA200 (2), 1.53 (4.59), -0.00 (-0.00), noshift, amax=0.0\n",
      "6 thread(s)\n",
      "\n",
      "\n",
      "Strategy:\n",
      " FFT-NS-2 (Fast but rough)\n",
      " Progressive method (guide trees were built 2 times.)\n",
      "\n",
      "If unsure which option to use, try 'mafft --auto input > output'.\n",
      "For more information, see 'mafft --help', 'mafft --man' and the mafft page.\n",
      "\n",
      "The default gap scoring scheme has been changed in version 7.110 (2013 Oct).\n",
      "It tends to insert more gaps into gap-rich regions than previous versions.\n",
      "To disable this change, add the --leavegappyregion option.\n",
      "\n"
     ]
    },
    {
     "name": "stdout",
     "output_type": "stream",
     "text": [
      "Running external command line application. This may print messages to stdout and/or stderr.\n",
      "The command being run is below. This command cannot be manually re-run as it will depend on temporary files that no longer exist.\n",
      "\n",
      "Command: FastTreeMP -quote -nt /tmp/qiime2-archive-yij9n7y4/d9e20ab1-6006-49b8-92f6-fc5ee3695b5b/data/aligned-dna-sequences.fasta\n",
      "\n"
     ]
    },
    {
     "name": "stderr",
     "output_type": "stream",
     "text": [
      "FastTree Version 2.1.10 Double precision (No SSE3), OpenMP (6 threads)\n",
      "Alignment: /tmp/qiime2-archive-yij9n7y4/d9e20ab1-6006-49b8-92f6-fc5ee3695b5b/data/aligned-dna-sequences.fasta\n",
      "Nucleotide distances: Jukes-Cantor Joins: balanced Support: SH-like 1000\n",
      "Search: Normal +NNI +SPR (2 rounds range 10) +ML-NNI opt-each=1\n",
      "TopHits: 1.00*sqrtN close=default refresh=0.80\n",
      "ML Model: Jukes-Cantor, CAT approximation with 20 rate categories\n",
      "      0.10 seconds: Checking top hits for      1 of   1731 seqs\n"
     ]
    },
    {
     "name": "stderr",
     "output_type": "stream",
     "text": [
      "      0.26 seconds: Joined    200 of   1728\n"
     ]
    },
    {
     "name": "stderr",
     "output_type": "stream",
     "text": [
      "      0.48 seconds: Joined    400 of   1728\n",
      "      0.58 seconds: Joined    500 of   1728\n"
     ]
    },
    {
     "name": "stderr",
     "output_type": "stream",
     "text": [
      "      0.73 seconds: Joined    600 of   1728\n"
     ]
    },
    {
     "name": "stderr",
     "output_type": "stream",
     "text": [
      "      0.93 seconds: Joined    800 of   1728\n",
      "      1.11 seconds: Joined   1000 of   1728\n"
     ]
    },
    {
     "name": "stderr",
     "output_type": "stream",
     "text": [
      "      1.23 seconds: Joined   1100 of   1728\n"
     ]
    },
    {
     "name": "stderr",
     "output_type": "stream",
     "text": [
      "      1.45 seconds: Joined   1300 of   1728\n",
      "      1.56 seconds: Joined   1400 of   1728\n"
     ]
    },
    {
     "name": "stderr",
     "output_type": "stream",
     "text": [
      "      1.72 seconds: Joined   1600 of   1728\n",
      "Initial topology in 1.82 seconds\n",
      "Refining topology: 43 rounds ME-NNIs, 2 rounds ME-SPRs, 22 rounds ML-NNIs\n",
      "      1.82 seconds: ME NNI round 1 of 43, 101 of 1729 splits, 18 changes (max delta 0.004)\n"
     ]
    },
    {
     "name": "stderr",
     "output_type": "stream",
     "text": [
      "      1.92 seconds: ME NNI round 2 of 43, 1001 of 1729 splits, 152 changes (max delta 0.047)\n",
      "      2.02 seconds: ME NNI round 4 of 43, 501 of 1729 splits, 32 changes (max delta 0.010)\n"
     ]
    },
    {
     "name": "stderr",
     "output_type": "stream",
     "text": [
      "      2.16 seconds: SPR round   1 of   2, 101 of 3460 nodes\n",
      "      2.29 seconds: SPR round   1 of   2, 301 of 3460 nodes\n"
     ]
    },
    {
     "name": "stderr",
     "output_type": "stream",
     "text": [
      "      2.40 seconds: SPR round   1 of   2, 501 of 3460 nodes\n",
      "      2.56 seconds: SPR round   1 of   2, 701 of 3460 nodes\n"
     ]
    },
    {
     "name": "stderr",
     "output_type": "stream",
     "text": [
      "      2.69 seconds: SPR round   1 of   2, 901 of 3460 nodes\n",
      "      2.82 seconds: SPR round   1 of   2, 1101 of 3460 nodes\n"
     ]
    },
    {
     "name": "stderr",
     "output_type": "stream",
     "text": [
      "      2.96 seconds: SPR round   1 of   2, 1301 of 3460 nodes\n",
      "      3.09 seconds: SPR round   1 of   2, 1501 of 3460 nodes\n"
     ]
    },
    {
     "name": "stderr",
     "output_type": "stream",
     "text": [
      "      3.24 seconds: SPR round   1 of   2, 1701 of 3460 nodes\n",
      "      3.38 seconds: SPR round   1 of   2, 1901 of 3460 nodes\n"
     ]
    },
    {
     "name": "stderr",
     "output_type": "stream",
     "text": [
      "      3.52 seconds: SPR round   1 of   2, 2101 of 3460 nodes\n",
      "      3.66 seconds: SPR round   1 of   2, 2301 of 3460 nodes\n"
     ]
    },
    {
     "name": "stderr",
     "output_type": "stream",
     "text": [
      "      3.77 seconds: SPR round   1 of   2, 2501 of 3460 nodes\n",
      "      3.88 seconds: SPR round   1 of   2, 2701 of 3460 nodes\n"
     ]
    },
    {
     "name": "stderr",
     "output_type": "stream",
     "text": [
      "      4.00 seconds: SPR round   1 of   2, 2901 of 3460 nodes\n",
      "      4.12 seconds: SPR round   1 of   2, 3101 of 3460 nodes\n"
     ]
    },
    {
     "name": "stderr",
     "output_type": "stream",
     "text": [
      "      4.24 seconds: SPR round   1 of   2, 3301 of 3460 nodes\n",
      "      4.34 seconds: ME NNI round 15 of 43, 301 of 1729 splits, 7 changes (max delta 0.010)\n"
     ]
    },
    {
     "name": "stderr",
     "output_type": "stream",
     "text": [
      "      4.44 seconds: ME NNI round 17 of 43, 101 of 1729 splits, 1 changes (max delta 0.003)\n",
      "      4.57 seconds: SPR round   2 of   2, 201 of 3460 nodes\n"
     ]
    },
    {
     "name": "stderr",
     "output_type": "stream",
     "text": [
      "      4.68 seconds: SPR round   2 of   2, 401 of 3460 nodes\n",
      "      4.80 seconds: SPR round   2 of   2, 601 of 3460 nodes\n"
     ]
    },
    {
     "name": "stderr",
     "output_type": "stream",
     "text": [
      "      4.90 seconds: SPR round   2 of   2, 801 of 3460 nodes\n",
      "      5.03 seconds: SPR round   2 of   2, 1001 of 3460 nodes\n"
     ]
    },
    {
     "name": "stderr",
     "output_type": "stream",
     "text": [
      "      5.13 seconds: SPR round   2 of   2, 1201 of 3460 nodes\n",
      "      5.25 seconds: SPR round   2 of   2, 1401 of 3460 nodes\n"
     ]
    },
    {
     "name": "stderr",
     "output_type": "stream",
     "text": [
      "      5.35 seconds: SPR round   2 of   2, 1601 of 3460 nodes\n",
      "      5.47 seconds: SPR round   2 of   2, 1801 of 3460 nodes\n"
     ]
    },
    {
     "name": "stderr",
     "output_type": "stream",
     "text": [
      "      5.59 seconds: SPR round   2 of   2, 2001 of 3460 nodes\n",
      "      5.69 seconds: SPR round   2 of   2, 2201 of 3460 nodes\n"
     ]
    },
    {
     "name": "stderr",
     "output_type": "stream",
     "text": [
      "      5.81 seconds: SPR round   2 of   2, 2401 of 3460 nodes\n",
      "      5.92 seconds: SPR round   2 of   2, 2601 of 3460 nodes\n"
     ]
    },
    {
     "name": "stderr",
     "output_type": "stream",
     "text": [
      "      6.04 seconds: SPR round   2 of   2, 2801 of 3460 nodes\n",
      "      6.14 seconds: SPR round   2 of   2, 3001 of 3460 nodes\n"
     ]
    },
    {
     "name": "stderr",
     "output_type": "stream",
     "text": [
      "      6.26 seconds: SPR round   2 of   2, 3201 of 3460 nodes\n",
      "      6.36 seconds: SPR round   2 of   2, 3401 of 3460 nodes\n"
     ]
    },
    {
     "name": "stderr",
     "output_type": "stream",
     "text": [
      "      6.46 seconds: ME NNI round 30 of 43, 401 of 1729 splits, 4 changes (max delta 0.006)\n",
      "Total branch-length 27.180 after 6.59 sec\n",
      "      6.59 seconds: ML Lengths 1 of 1729 splits\n"
     ]
    },
    {
     "name": "stderr",
     "output_type": "stream",
     "text": [
      "      6.72 seconds: ML Lengths 401 of 1729 splits\n",
      "      6.84 seconds: ML Lengths 801 of 1729 splits\n"
     ]
    },
    {
     "name": "stderr",
     "output_type": "stream",
     "text": [
      "      6.97 seconds: ML Lengths 1201 of 1729 splits\n",
      "      7.09 seconds: ML Lengths 1601 of 1729 splits\n"
     ]
    },
    {
     "name": "stderr",
     "output_type": "stream",
     "text": [
      "      7.24 seconds: ML NNI round 1 of 22, 101 of 1729 splits, 24 changes (max delta 4.004)\n",
      "      7.35 seconds: ML NNI round 1 of 22, 201 of 1729 splits, 51 changes (max delta 6.132)\n"
     ]
    },
    {
     "name": "stderr",
     "output_type": "stream",
     "text": [
      "      7.47 seconds: ML NNI round 1 of 22, 301 of 1729 splits, 78 changes (max delta 6.132)\n",
      "      7.59 seconds: ML NNI round 1 of 22, 401 of 1729 splits, 110 changes (max delta 6.132)\n"
     ]
    },
    {
     "name": "stderr",
     "output_type": "stream",
     "text": [
      "      7.70 seconds: ML NNI round 1 of 22, 501 of 1729 splits, 139 changes (max delta 6.132)\n",
      "      7.80 seconds: ML NNI round 1 of 22, 601 of 1729 splits, 155 changes (max delta 6.205)\n"
     ]
    },
    {
     "name": "stderr",
     "output_type": "stream",
     "text": [
      "      7.99 seconds: ML NNI round 1 of 22, 801 of 1729 splits, 213 changes (max delta 11.600)\n",
      "      8.18 seconds: ML NNI round 1 of 22, 1001 of 1729 splits, 269 changes (max delta 13.465)\n"
     ]
    },
    {
     "name": "stderr",
     "output_type": "stream",
     "text": [
      "      8.37 seconds: ML NNI round 1 of 22, 1201 of 1729 splits, 334 changes (max delta 25.866)\n",
      "      8.56 seconds: ML NNI round 1 of 22, 1401 of 1729 splits, 395 changes (max delta 25.866)\n"
     ]
    },
    {
     "name": "stderr",
     "output_type": "stream",
     "text": [
      "      8.76 seconds: ML NNI round 1 of 22, 1601 of 1729 splits, 457 changes (max delta 25.866)\n",
      "ML-NNI round 1: LogLk = -69268.177 NNIs 496 max delta 25.87 Time 8.90\n",
      "      8.92 seconds: Site likelihoods with rate category 1 of 20\n"
     ]
    },
    {
     "name": "stderr",
     "output_type": "stream",
     "text": [
      "      9.03 seconds: Site likelihoods with rate category 5 of 20\n",
      "      9.15 seconds: Site likelihoods with rate category 9 of 20\n"
     ]
    },
    {
     "name": "stderr",
     "output_type": "stream",
     "text": [
      "      9.26 seconds: Site likelihoods with rate category 13 of 20\n",
      "      9.38 seconds: Site likelihoods with rate category 17 of 20\n"
     ]
    },
    {
     "name": "stderr",
     "output_type": "stream",
     "text": [
      "Switched to using 20 rate categories (CAT approximation)\n",
      "Rate categories were divided by 1.059 so that average rate = 1.0\n",
      "CAT-based log-likelihoods may not be comparable across runs\n",
      "Use -gamma for approximate but comparable Gamma(20) log-likelihoods\n",
      "      9.49 seconds: ML NNI round 2 of 22, 1 of 1729 splits\n",
      "      9.60 seconds: ML NNI round 2 of 22, 101 of 1729 splits, 15 changes (max delta 2.030)\n"
     ]
    },
    {
     "name": "stderr",
     "output_type": "stream",
     "text": [
      "      9.81 seconds: ML NNI round 2 of 22, 301 of 1729 splits, 53 changes (max delta 8.385)\n",
      "      9.91 seconds: ML NNI round 2 of 22, 401 of 1729 splits, 73 changes (max delta 8.385)\n"
     ]
    },
    {
     "name": "stderr",
     "output_type": "stream",
     "text": [
      "     10.03 seconds: ML NNI round 2 of 22, 501 of 1729 splits, 87 changes (max delta 8.385)\n",
      "     10.14 seconds: ML NNI round 2 of 22, 601 of 1729 splits, 101 changes (max delta 8.385)\n"
     ]
    },
    {
     "name": "stderr",
     "output_type": "stream",
     "text": [
      "     10.24 seconds: ML NNI round 2 of 22, 701 of 1729 splits, 116 changes (max delta 8.385)\n",
      "     10.35 seconds: ML NNI round 2 of 22, 801 of 1729 splits, 131 changes (max delta 8.385)\n"
     ]
    },
    {
     "name": "stderr",
     "output_type": "stream",
     "text": [
      "     10.46 seconds: ML NNI round 2 of 22, 901 of 1729 splits, 151 changes (max delta 8.385)\n",
      "     10.57 seconds: ML NNI round 2 of 22, 1001 of 1729 splits, 176 changes (max delta 8.385)\n"
     ]
    },
    {
     "name": "stderr",
     "output_type": "stream",
     "text": [
      "     10.67 seconds: ML NNI round 2 of 22, 1101 of 1729 splits, 193 changes (max delta 8.385)\n",
      "     10.86 seconds: ML NNI round 2 of 22, 1301 of 1729 splits, 220 changes (max delta 8.385)\n"
     ]
    },
    {
     "name": "stderr",
     "output_type": "stream",
     "text": [
      "     11.06 seconds: ML NNI round 2 of 22, 1501 of 1729 splits, 258 changes (max delta 13.307)\n",
      "     11.24 seconds: ML NNI round 2 of 22, 1701 of 1729 splits, 290 changes (max delta 13.307)\n"
     ]
    },
    {
     "name": "stderr",
     "output_type": "stream",
     "text": [
      "ML-NNI round 2: LogLk = -53827.578 NNIs 296 max delta 13.31 Time 11.29\n",
      "     11.38 seconds: ML NNI round 3 of 22, 101 of 1729 splits, 16 changes (max delta 3.576)\n"
     ]
    },
    {
     "name": "stderr",
     "output_type": "stream",
     "text": [
      "     11.55 seconds: ML NNI round 3 of 22, 301 of 1729 splits, 41 changes (max delta 3.576)\n",
      "     11.74 seconds: ML NNI round 3 of 22, 501 of 1729 splits, 53 changes (max delta 3.576)\n"
     ]
    },
    {
     "name": "stderr",
     "output_type": "stream",
     "text": [
      "     11.93 seconds: ML NNI round 3 of 22, 701 of 1729 splits, 78 changes (max delta 7.768)\n",
      "     12.10 seconds: ML NNI round 3 of 22, 901 of 1729 splits, 100 changes (max delta 7.768)\n"
     ]
    },
    {
     "name": "stderr",
     "output_type": "stream",
     "text": [
      "     12.29 seconds: ML NNI round 3 of 22, 1101 of 1729 splits, 111 changes (max delta 7.768)\n",
      "     12.47 seconds: ML NNI round 3 of 22, 1301 of 1729 splits, 134 changes (max delta 7.768)\n"
     ]
    },
    {
     "name": "stderr",
     "output_type": "stream",
     "text": [
      "ML-NNI round 3: LogLk = -53743.080 NNIs 140 max delta 7.77 Time 12.58\n",
      "     12.58 seconds: ML NNI round 4 of 22, 1 of 1729 splits\n",
      "     12.76 seconds: ML NNI round 4 of 22, 201 of 1729 splits, 10 changes (max delta 2.401)\n"
     ]
    },
    {
     "name": "stderr",
     "output_type": "stream",
     "text": [
      "     12.94 seconds: ML NNI round 4 of 22, 401 of 1729 splits, 27 changes (max delta 2.401)\n",
      "     13.12 seconds: ML NNI round 4 of 22, 601 of 1729 splits, 38 changes (max delta 2.401)\n"
     ]
    },
    {
     "name": "stderr",
     "output_type": "stream",
     "text": [
      "     13.29 seconds: ML NNI round 4 of 22, 801 of 1729 splits, 54 changes (max delta 2.401)\n",
      "ML-NNI round 4: LogLk = -53730.735 NNIs 54 max delta 2.40 Time 13.33\n",
      "     13.41 seconds: ML NNI round 5 of 22, 101 of 1729 splits, 4 changes (max delta 1.642)\n"
     ]
    },
    {
     "name": "stderr",
     "output_type": "stream",
     "text": [
      "     13.59 seconds: ML NNI round 5 of 22, 301 of 1729 splits, 15 changes (max delta 1.642)\n",
      "ML-NNI round 5: LogLk = -53725.555 NNIs 22 max delta 1.64 Time 13.70\n",
      "     13.70 seconds: ML NNI round 6 of 22, 1 of 1729 splits\n"
     ]
    },
    {
     "name": "stderr",
     "output_type": "stream",
     "text": [
      "ML-NNI round 6: LogLk = -53723.521 NNIs 7 max delta 0.84 Time 13.86\n",
      "     13.85 seconds: ML NNI round 7 of 22, 1 of 1729 splits\n",
      "ML-NNI round 7: LogLk = -53721.613 NNIs 3 max delta 1.84 Time 13.96\n",
      "ML-NNI round 8: LogLk = -53721.538 NNIs 0 max delta 0.00 Time 14.04\n",
      "Turning off heuristics for final round of ML NNIs (converged)\n",
      "     14.03 seconds: ML NNI round 9 of 22, 1 of 1729 splits\n"
     ]
    },
    {
     "name": "stderr",
     "output_type": "stream",
     "text": [
      "     14.21 seconds: ML NNI round 9 of 22, 201 of 1729 splits, 14 changes (max delta 0.114)\n",
      "     14.32 seconds: ML NNI round 9 of 22, 301 of 1729 splits, 19 changes (max delta 0.114)\n"
     ]
    },
    {
     "name": "stderr",
     "output_type": "stream",
     "text": [
      "     14.43 seconds: ML NNI round 9 of 22, 401 of 1729 splits, 21 changes (max delta 0.114)\n",
      "     14.53 seconds: ML NNI round 9 of 22, 501 of 1729 splits, 21 changes (max delta 0.114)\n"
     ]
    },
    {
     "name": "stderr",
     "output_type": "stream",
     "text": [
      "     14.72 seconds: ML NNI round 9 of 22, 701 of 1729 splits, 24 changes (max delta 0.114)\n",
      "     14.92 seconds: ML NNI round 9 of 22, 901 of 1729 splits, 31 changes (max delta 4.143)\n"
     ]
    },
    {
     "name": "stderr",
     "output_type": "stream",
     "text": [
      "     15.03 seconds: ML NNI round 9 of 22, 1001 of 1729 splits, 40 changes (max delta 4.143)\n",
      "     15.22 seconds: ML NNI round 9 of 22, 1201 of 1729 splits, 48 changes (max delta 4.143)\n"
     ]
    },
    {
     "name": "stderr",
     "output_type": "stream",
     "text": [
      "     15.42 seconds: ML NNI round 9 of 22, 1401 of 1729 splits, 55 changes (max delta 4.143)\n",
      "     15.61 seconds: ML NNI round 9 of 22, 1601 of 1729 splits, 60 changes (max delta 4.143)\n"
     ]
    },
    {
     "name": "stderr",
     "output_type": "stream",
     "text": [
      "ML-NNI round 9: LogLk = -53707.096 NNIs 62 max delta 4.14 Time 15.74 (final)\n",
      "     15.73 seconds: ML Lengths 1 of 1729 splits\n",
      "     15.85 seconds: ML Lengths 501 of 1729 splits\n"
     ]
    },
    {
     "name": "stderr",
     "output_type": "stream",
     "text": [
      "     15.97 seconds: ML Lengths 1001 of 1729 splits\n",
      "     16.09 seconds: ML Lengths 1501 of 1729 splits\n",
      "Optimize all lengths: LogLk = -53703.188 Time 16.17\n"
     ]
    },
    {
     "name": "stderr",
     "output_type": "stream",
     "text": [
      "     16.31 seconds: ML split tests for    100 of   1728 internal splits\n",
      "     16.46 seconds: ML split tests for    200 of   1728 internal splits\n"
     ]
    },
    {
     "name": "stderr",
     "output_type": "stream",
     "text": [
      "     16.61 seconds: ML split tests for    300 of   1728 internal splits\n",
      "     16.76 seconds: ML split tests for    400 of   1728 internal splits\n"
     ]
    },
    {
     "name": "stderr",
     "output_type": "stream",
     "text": [
      "     16.92 seconds: ML split tests for    500 of   1728 internal splits\n",
      "     17.08 seconds: ML split tests for    600 of   1728 internal splits\n"
     ]
    },
    {
     "name": "stderr",
     "output_type": "stream",
     "text": [
      "     17.23 seconds: ML split tests for    700 of   1728 internal splits\n",
      "     17.38 seconds: ML split tests for    800 of   1728 internal splits\n"
     ]
    },
    {
     "name": "stderr",
     "output_type": "stream",
     "text": [
      "     17.53 seconds: ML split tests for    900 of   1728 internal splits\n",
      "     17.68 seconds: ML split tests for   1000 of   1728 internal splits\n"
     ]
    },
    {
     "name": "stderr",
     "output_type": "stream",
     "text": [
      "     17.83 seconds: ML split tests for   1100 of   1728 internal splits\n",
      "     17.97 seconds: ML split tests for   1200 of   1728 internal splits\n"
     ]
    },
    {
     "name": "stderr",
     "output_type": "stream",
     "text": [
      "     18.12 seconds: ML split tests for   1300 of   1728 internal splits\n",
      "     18.27 seconds: ML split tests for   1400 of   1728 internal splits\n"
     ]
    },
    {
     "name": "stderr",
     "output_type": "stream",
     "text": [
      "     18.42 seconds: ML split tests for   1500 of   1728 internal splits\n",
      "     18.56 seconds: ML split tests for   1600 of   1728 internal splits\n"
     ]
    },
    {
     "name": "stderr",
     "output_type": "stream",
     "text": [
      "     18.70 seconds: ML split tests for   1700 of   1728 internal splits\n",
      "Total time: 18.75 seconds Unique: 1731/1736 Bad splits: 2/1728 Worst delta-LogLk 5.407\n"
     ]
    }
   ],
   "source": [
    "mafft_alignment, mafft_masked_alignment, mafft_tree, mafft_rooted_tree = align_to_tree_mafft_fasttree(\n",
    "    sequences=reps, n_threads=6, )"
   ]
  },
  {
   "cell_type": "markdown",
   "id": "0768d598",
   "metadata": {
    "papermill": {
     "duration": 0.035973,
     "end_time": "2023-06-06T20:35:24.691650",
     "exception": false,
     "start_time": "2023-06-06T20:35:24.655677",
     "status": "completed"
    },
    "tags": []
   },
   "source": [
    "### Compute Alpha Diversity (Phylogeny)\n",
    "- [diversity alpha_phylogenetic](https://docs.qiime2.org/2022.8/plugins/available/diversity/alpha-phylogenetic/): Computes a user-specified phylogenetic alpha diversity metric for all samples in a feature table.\n",
    "- Metrics: Choices ('faith_pd')"
   ]
  },
  {
   "cell_type": "code",
   "execution_count": 11,
   "id": "0383aa19",
   "metadata": {
    "ExecuteTime": {
     "end_time": "2022-09-29T20:54:35.310009Z",
     "start_time": "2022-09-29T20:54:35.141333Z"
    },
    "execution": {
     "iopub.execute_input": "2023-06-06T20:35:24.765402Z",
     "iopub.status.busy": "2023-06-06T20:35:24.765087Z",
     "iopub.status.idle": "2023-06-06T20:35:24.939740Z",
     "shell.execute_reply": "2023-06-06T20:35:24.939085Z"
    },
    "papermill": {
     "duration": 0.213763,
     "end_time": "2023-06-06T20:35:24.941316",
     "exception": false,
     "start_time": "2023-06-06T20:35:24.727553",
     "status": "completed"
    },
    "tags": []
   },
   "outputs": [
    {
     "name": "stdout",
     "output_type": "stream",
     "text": [
      "Calculating alpha diversity: faith_pd\n",
      "DONE: Calculating alpha phylogeny: faith_pd\n"
     ]
    }
   ],
   "source": [
    "metrics = ('faith_pd', )\n",
    "alpha_diversities_phylogenetic = dict()\n",
    "for metric in metrics:\n",
    "    print(f\"Calculating alpha diversity: {metric}\")\n",
    "    try:\n",
    "        alpha_diversity = alpha_phylogenetic(table=tabs, phylogeny=mafft_rooted_tree, metric=metric).alpha_diversity\n",
    "        alpha_diversities_phylogenetic[metric] = alpha_diversity\n",
    "        # Save Artifact\n",
    "        file_path = os.path.join(alpha_path, f'alpha-phylogeny-{metric}.qza')\n",
    "        alpha_diversity.save(file_path)\n",
    "        print(f\"DONE: Calculating alpha phylogeny: {metric}\")\n",
    "    except Exception as e:\n",
    "        print(f\"ERROR: Calculating alpha phylogeny: {metric}\")"
   ]
  },
  {
   "cell_type": "markdown",
   "id": "c7752cfd",
   "metadata": {
    "papermill": {
     "duration": 0.036484,
     "end_time": "2023-06-06T20:35:25.016055",
     "exception": false,
     "start_time": "2023-06-06T20:35:24.979571",
     "status": "completed"
    },
    "tags": []
   },
   "source": [
    "### Alpha diversity correlation\n",
    "\n",
    "This method only process `numeric` columns.\n"
   ]
  },
  {
   "cell_type": "code",
   "execution_count": 12,
   "id": "2814f613",
   "metadata": {
    "ExecuteTime": {
     "end_time": "2022-09-29T20:54:35.317618Z",
     "start_time": "2022-09-29T20:54:35.312094Z"
    },
    "execution": {
     "iopub.execute_input": "2023-06-06T20:35:25.091672Z",
     "iopub.status.busy": "2023-06-06T20:35:25.091289Z",
     "iopub.status.idle": "2023-06-06T20:35:31.057293Z",
     "shell.execute_reply": "2023-06-06T20:35:31.056616Z"
    },
    "papermill": {
     "duration": 6.007551,
     "end_time": "2023-06-06T20:35:31.060234",
     "exception": false,
     "start_time": "2023-06-06T20:35:25.052683",
     "status": "completed"
    },
    "tags": []
   },
   "outputs": [
    {
     "name": "stdout",
     "output_type": "stream",
     "text": [
      "DONE: Calculating alpha correlation: ace spearman\n",
      "DONE: Calculating alpha correlation: ace pearson\n"
     ]
    },
    {
     "name": "stdout",
     "output_type": "stream",
     "text": [
      "DONE: Calculating alpha correlation: berger_parker_d spearman\n",
      "DONE: Calculating alpha correlation: berger_parker_d pearson\n"
     ]
    },
    {
     "name": "stdout",
     "output_type": "stream",
     "text": [
      "DONE: Calculating alpha correlation: brillouin_d spearman\n",
      "DONE: Calculating alpha correlation: brillouin_d pearson\n"
     ]
    },
    {
     "name": "stdout",
     "output_type": "stream",
     "text": [
      "DONE: Calculating alpha correlation: chao1 spearman\n"
     ]
    },
    {
     "name": "stdout",
     "output_type": "stream",
     "text": [
      "DONE: Calculating alpha correlation: chao1 pearson\n",
      "ERROR: Calculating alpha correlation: chao1_ci spearman\n",
      "ERROR: Calculating alpha correlation: chao1_ci pearson\n"
     ]
    },
    {
     "name": "stdout",
     "output_type": "stream",
     "text": [
      "DONE: Calculating alpha correlation: dominance spearman\n",
      "DONE: Calculating alpha correlation: dominance pearson\n"
     ]
    },
    {
     "name": "stdout",
     "output_type": "stream",
     "text": [
      "DONE: Calculating alpha correlation: doubles spearman\n",
      "DONE: Calculating alpha correlation: doubles pearson\n"
     ]
    },
    {
     "name": "stdout",
     "output_type": "stream",
     "text": [
      "DONE: Calculating alpha correlation: enspie spearman\n",
      "DONE: Calculating alpha correlation: enspie pearson\n",
      "ERROR: Calculating alpha correlation: esty_ci spearman\n",
      "ERROR: Calculating alpha correlation: esty_ci pearson\n"
     ]
    },
    {
     "name": "stdout",
     "output_type": "stream",
     "text": [
      "DONE: Calculating alpha correlation: fisher_alpha spearman\n",
      "DONE: Calculating alpha correlation: fisher_alpha pearson\n"
     ]
    },
    {
     "name": "stdout",
     "output_type": "stream",
     "text": [
      "DONE: Calculating alpha correlation: gini_index spearman\n",
      "DONE: Calculating alpha correlation: gini_index pearson\n"
     ]
    },
    {
     "name": "stdout",
     "output_type": "stream",
     "text": [
      "DONE: Calculating alpha correlation: goods_coverage spearman\n",
      "DONE: Calculating alpha correlation: goods_coverage pearson\n"
     ]
    },
    {
     "name": "stdout",
     "output_type": "stream",
     "text": [
      "DONE: Calculating alpha correlation: heip_e spearman\n",
      "ERROR: Calculating alpha correlation: heip_e pearson\n",
      "DONE: Calculating alpha correlation: kempton_taylor_q spearman\n",
      "ERROR: Calculating alpha correlation: kempton_taylor_q pearson\n"
     ]
    },
    {
     "name": "stdout",
     "output_type": "stream",
     "text": [
      "DONE: Calculating alpha correlation: lladser_pe spearman\n",
      "ERROR: Calculating alpha correlation: lladser_pe pearson\n",
      "DONE: Calculating alpha correlation: margalef spearman\n"
     ]
    },
    {
     "name": "stdout",
     "output_type": "stream",
     "text": [
      "DONE: Calculating alpha correlation: margalef pearson\n",
      "DONE: Calculating alpha correlation: mcintosh_d spearman\n",
      "DONE: Calculating alpha correlation: mcintosh_d pearson\n"
     ]
    },
    {
     "name": "stdout",
     "output_type": "stream",
     "text": [
      "DONE: Calculating alpha correlation: mcintosh_e spearman\n",
      "DONE: Calculating alpha correlation: mcintosh_e pearson\n",
      "DONE: Calculating alpha correlation: menhinick spearman\n"
     ]
    },
    {
     "name": "stdout",
     "output_type": "stream",
     "text": [
      "DONE: Calculating alpha correlation: menhinick pearson\n",
      "DONE: Calculating alpha correlation: michaelis_menten_fit spearman\n",
      "DONE: Calculating alpha correlation: michaelis_menten_fit pearson\n"
     ]
    },
    {
     "name": "stdout",
     "output_type": "stream",
     "text": [
      "DONE: Calculating alpha correlation: observed_features spearman\n",
      "DONE: Calculating alpha correlation: observed_features pearson\n",
      "ERROR: Calculating alpha correlation: osd spearman\n",
      "ERROR: Calculating alpha correlation: osd pearson\n"
     ]
    },
    {
     "name": "stdout",
     "output_type": "stream",
     "text": [
      "DONE: Calculating alpha correlation: pielou_e spearman\n",
      "ERROR: Calculating alpha correlation: pielou_e pearson\n",
      "DONE: Calculating alpha correlation: robbins spearman\n"
     ]
    },
    {
     "name": "stdout",
     "output_type": "stream",
     "text": [
      "DONE: Calculating alpha correlation: robbins pearson\n",
      "DONE: Calculating alpha correlation: shannon spearman\n",
      "DONE: Calculating alpha correlation: shannon pearson\n"
     ]
    },
    {
     "name": "stdout",
     "output_type": "stream",
     "text": [
      "DONE: Calculating alpha correlation: simpson spearman\n",
      "DONE: Calculating alpha correlation: simpson pearson\n",
      "DONE: Calculating alpha correlation: simpson_e spearman\n"
     ]
    },
    {
     "name": "stdout",
     "output_type": "stream",
     "text": [
      "DONE: Calculating alpha correlation: simpson_e pearson\n",
      "DONE: Calculating alpha correlation: singles spearman\n",
      "DONE: Calculating alpha correlation: singles pearson\n"
     ]
    },
    {
     "name": "stdout",
     "output_type": "stream",
     "text": [
      "DONE: Calculating alpha correlation: strong spearman\n",
      "DONE: Calculating alpha correlation: strong pearson\n"
     ]
    }
   ],
   "source": [
    "methods = ('spearman', 'pearson')\n",
    "numerics_cols = metadata_qa.filter_columns(column_type='numeric')\n",
    "if numerics_cols.column_count > 0:\n",
    "    for metric, alpha_values in alpha_diversities.items():\n",
    "        for method in methods:\n",
    "            try:\n",
    "                corr_view = alpha_correlation(alpha_diversity=alpha_values, metadata=numerics_cols, \n",
    "                                          method=method, intersect_ids=True).visualization\n",
    "                view_path = os.path.join(alpha_path, f'alpha-correlation-{metric}-{method}.qzv')\n",
    "                corr_view.save(view_path)\n",
    "                corr_view\n",
    "                print(f\"DONE: Calculating alpha correlation: {metric} {method}\")\n",
    "            except Exception as e:\n",
    "                print(f\"ERROR: Calculating alpha correlation: {metric} {method}\")"
   ]
  },
  {
   "cell_type": "markdown",
   "id": "8ea83c8a",
   "metadata": {
    "papermill": {
     "duration": 0.059868,
     "end_time": "2023-06-06T20:35:31.174240",
     "exception": false,
     "start_time": "2023-06-06T20:35:31.114372",
     "status": "completed"
    },
    "tags": []
   },
   "source": [
    "## Alpha diversity comparisons\n",
    "\n",
    "Visually and statistically compare groups of alpha diversity values.\n",
    "\n",
    "[diversity alpha_group_significance](https://docs.qiime2.org/2022.8/plugins/available/diversity/alpha-group-significance/)"
   ]
  },
  {
   "cell_type": "code",
   "execution_count": 13,
   "id": "276d1c18",
   "metadata": {
    "ExecuteTime": {
     "end_time": "2022-09-29T20:54:36.089290Z",
     "start_time": "2022-09-29T20:54:35.318963Z"
    },
    "execution": {
     "iopub.execute_input": "2023-06-06T20:35:31.402559Z",
     "iopub.status.busy": "2023-06-06T20:35:31.402304Z",
     "iopub.status.idle": "2023-06-06T20:35:36.381682Z",
     "shell.execute_reply": "2023-06-06T20:35:36.381090Z"
    },
    "papermill": {
     "duration": 5.101677,
     "end_time": "2023-06-06T20:35:36.384724",
     "exception": false,
     "start_time": "2023-06-06T20:35:31.283047",
     "status": "completed"
    },
    "tags": []
   },
   "outputs": [
    {
     "name": "stdout",
     "output_type": "stream",
     "text": [
      "Processing alpha_group_significance: ace\n"
     ]
    },
    {
     "name": "stdout",
     "output_type": "stream",
     "text": [
      "DONE: Calculating alpha group significance: ace\n",
      "Processing alpha_group_significance: berger_parker_d\n"
     ]
    },
    {
     "name": "stdout",
     "output_type": "stream",
     "text": [
      "DONE: Calculating alpha group significance: berger_parker_d\n",
      "Processing alpha_group_significance: brillouin_d\n"
     ]
    },
    {
     "name": "stdout",
     "output_type": "stream",
     "text": [
      "DONE: Calculating alpha group significance: brillouin_d\n",
      "Processing alpha_group_significance: chao1\n"
     ]
    },
    {
     "name": "stdout",
     "output_type": "stream",
     "text": [
      "DONE: Calculating alpha group significance: chao1\n",
      "Processing alpha_group_significance: chao1_ci\n",
      "ERROR: Calculating alpha group significance: chao1_ci\n",
      "Processing alpha_group_significance: dominance\n"
     ]
    },
    {
     "name": "stdout",
     "output_type": "stream",
     "text": [
      "DONE: Calculating alpha group significance: dominance\n",
      "Processing alpha_group_significance: doubles\n"
     ]
    },
    {
     "name": "stdout",
     "output_type": "stream",
     "text": [
      "DONE: Calculating alpha group significance: doubles\n",
      "Processing alpha_group_significance: enspie\n"
     ]
    },
    {
     "name": "stdout",
     "output_type": "stream",
     "text": [
      "DONE: Calculating alpha group significance: enspie\n",
      "Processing alpha_group_significance: esty_ci\n",
      "ERROR: Calculating alpha group significance: esty_ci\n",
      "Processing alpha_group_significance: fisher_alpha\n"
     ]
    },
    {
     "name": "stdout",
     "output_type": "stream",
     "text": [
      "DONE: Calculating alpha group significance: fisher_alpha\n",
      "Processing alpha_group_significance: gini_index\n",
      "DONE: Calculating alpha group significance: gini_index\n",
      "Processing alpha_group_significance: goods_coverage\n"
     ]
    },
    {
     "name": "stdout",
     "output_type": "stream",
     "text": [
      "DONE: Calculating alpha group significance: goods_coverage\n",
      "Processing alpha_group_significance: heip_e\n",
      "DONE: Calculating alpha group significance: heip_e\n",
      "Processing alpha_group_significance: kempton_taylor_q\n"
     ]
    },
    {
     "name": "stdout",
     "output_type": "stream",
     "text": [
      "ERROR: Calculating alpha group significance: kempton_taylor_q\n",
      "Processing alpha_group_significance: lladser_pe\n",
      "DONE: Calculating alpha group significance: lladser_pe\n",
      "Processing alpha_group_significance: margalef\n"
     ]
    },
    {
     "name": "stdout",
     "output_type": "stream",
     "text": [
      "DONE: Calculating alpha group significance: margalef\n",
      "Processing alpha_group_significance: mcintosh_d\n",
      "DONE: Calculating alpha group significance: mcintosh_d\n",
      "Processing alpha_group_significance: mcintosh_e\n"
     ]
    },
    {
     "name": "stdout",
     "output_type": "stream",
     "text": [
      "DONE: Calculating alpha group significance: mcintosh_e\n",
      "Processing alpha_group_significance: menhinick\n",
      "DONE: Calculating alpha group significance: menhinick\n",
      "Processing alpha_group_significance: michaelis_menten_fit\n"
     ]
    },
    {
     "name": "stdout",
     "output_type": "stream",
     "text": [
      "DONE: Calculating alpha group significance: michaelis_menten_fit\n",
      "Processing alpha_group_significance: observed_features\n",
      "DONE: Calculating alpha group significance: observed_features\n",
      "Processing alpha_group_significance: osd\n",
      "ERROR: Calculating alpha group significance: osd\n",
      "Processing alpha_group_significance: pielou_e\n"
     ]
    },
    {
     "name": "stdout",
     "output_type": "stream",
     "text": [
      "DONE: Calculating alpha group significance: pielou_e\n",
      "Processing alpha_group_significance: robbins\n",
      "DONE: Calculating alpha group significance: robbins\n",
      "Processing alpha_group_significance: shannon\n"
     ]
    },
    {
     "name": "stdout",
     "output_type": "stream",
     "text": [
      "DONE: Calculating alpha group significance: shannon\n",
      "Processing alpha_group_significance: simpson\n",
      "DONE: Calculating alpha group significance: simpson\n",
      "Processing alpha_group_significance: simpson_e\n"
     ]
    },
    {
     "name": "stdout",
     "output_type": "stream",
     "text": [
      "DONE: Calculating alpha group significance: simpson_e\n",
      "Processing alpha_group_significance: singles\n",
      "DONE: Calculating alpha group significance: singles\n",
      "Processing alpha_group_significance: strong\n"
     ]
    },
    {
     "name": "stdout",
     "output_type": "stream",
     "text": [
      "DONE: Calculating alpha group significance: strong\n"
     ]
    }
   ],
   "source": [
    "for metric, alpha_values in alpha_diversities.items():\n",
    "    print(f\"Processing alpha_group_significance: {metric}\")\n",
    "    try:\n",
    "        significance_view = alpha_group_significance(alpha_diversity=alpha_values, metadata=metadata_qa).visualization\n",
    "        view_path = os.path.join(alpha_path, f'alpha-group-significance-{metric}.qzv')\n",
    "        significance_view.save(view_path)\n",
    "        significance_view\n",
    "        print(f\"DONE: Calculating alpha group significance: {metric}\")\n",
    "    except Exception as e:\n",
    "        print(f\"ERROR: Calculating alpha group significance: {metric}\")"
   ]
  },
  {
   "cell_type": "markdown",
   "id": "4349d357",
   "metadata": {
    "papermill": {
     "duration": 0.053203,
     "end_time": "2023-06-06T20:35:36.496339",
     "exception": false,
     "start_time": "2023-06-06T20:35:36.443136",
     "status": "completed"
    },
    "tags": []
   },
   "source": [
    "## Beta diversity analysis\n",
    "\n",
    "#### Reference\n",
    "- [diversity beta](https://docs.qiime2.org/2022.8/plugins/available/diversity/beta/): Computes a user-specified beta diversity metric for all pairs of samples in a feature table.\n",
    "- [Beta diversity metrics](http://scikit-bio.org/docs/0.2.0/generated/skbio.diversity.beta.html)\n",
    "\n",
    "- Metric Choices('aitchison', 'braycurtis', 'canberra', 'canberra_adkins', 'chebyshev', 'cityblock', 'correlation', 'cosine', 'dice', 'euclidean', 'hamming', 'jaccard', 'jensenshannon', 'kulsinski', 'matching', 'minkowski', 'rogerstanimoto', 'russellrao', 'seuclidean', 'sokalmichener', 'sokalsneath', 'sqeuclidean', 'yule')"
   ]
  },
  {
   "cell_type": "code",
   "execution_count": 14,
   "id": "f6f358dd",
   "metadata": {
    "ExecuteTime": {
     "end_time": "2022-09-29T20:54:36.335038Z",
     "start_time": "2022-09-29T20:54:36.091288Z"
    },
    "execution": {
     "iopub.execute_input": "2023-06-06T20:35:36.595989Z",
     "iopub.status.busy": "2023-06-06T20:35:36.595753Z",
     "iopub.status.idle": "2023-06-06T20:35:38.682062Z",
     "shell.execute_reply": "2023-06-06T20:35:38.681017Z"
    },
    "papermill": {
     "duration": 2.137034,
     "end_time": "2023-06-06T20:35:38.685649",
     "exception": false,
     "start_time": "2023-06-06T20:35:36.548615",
     "status": "completed"
    },
    "tags": []
   },
   "outputs": [
    {
     "name": "stdout",
     "output_type": "stream",
     "text": [
      "Calculating beta diversity: aitchison\n"
     ]
    },
    {
     "name": "stdout",
     "output_type": "stream",
     "text": [
      "DONE: Calculating beta diversity: aitchison\n",
      "Calculating beta diversity: braycurtis\n",
      "DONE: Calculating beta diversity: braycurtis\n",
      "Calculating beta diversity: canberra\n",
      "DONE: Calculating beta diversity: canberra\n",
      "Calculating beta diversity: canberra_adkins\n"
     ]
    },
    {
     "name": "stdout",
     "output_type": "stream",
     "text": [
      "DONE: Calculating beta diversity: canberra_adkins\n",
      "Calculating beta diversity: chebyshev\n",
      "DONE: Calculating beta diversity: chebyshev\n",
      "Calculating beta diversity: cityblock\n",
      "DONE: Calculating beta diversity: cityblock\n",
      "Calculating beta diversity: correlation\n",
      "ERROR: Calculating beta diversity: correlation\n",
      "Calculating beta diversity: cosine\n"
     ]
    },
    {
     "name": "stdout",
     "output_type": "stream",
     "text": [
      "ERROR: Calculating beta diversity: cosine\n",
      "Calculating beta diversity: dice\n",
      "DONE: Calculating beta diversity: dice\n",
      "Calculating beta diversity: euclidean\n"
     ]
    },
    {
     "name": "stderr",
     "output_type": "stream",
     "text": [
      "/home/lauro/anaconda3/envs/qiime2-2022.2/lib/python3.8/site-packages/sklearn/metrics/pairwise.py:1761: DataConversionWarning: Data was converted to boolean for metric dice\n",
      "  warnings.warn(msg, DataConversionWarning)\n"
     ]
    },
    {
     "name": "stdout",
     "output_type": "stream",
     "text": [
      "DONE: Calculating beta diversity: euclidean\n",
      "Calculating beta diversity: hamming\n",
      "DONE: Calculating beta diversity: hamming\n",
      "Calculating beta diversity: jaccard\n",
      "DONE: Calculating beta diversity: jaccard\n",
      "Calculating beta diversity: jensenshannon\n"
     ]
    },
    {
     "name": "stderr",
     "output_type": "stream",
     "text": [
      "/home/lauro/anaconda3/envs/qiime2-2022.2/lib/python3.8/site-packages/sklearn/metrics/pairwise.py:1761: DataConversionWarning: Data was converted to boolean for metric jaccard\n",
      "  warnings.warn(msg, DataConversionWarning)\n"
     ]
    },
    {
     "name": "stdout",
     "output_type": "stream",
     "text": [
      "DONE: Calculating beta diversity: jensenshannon\n",
      "Calculating beta diversity: kulsinski\n",
      "ERROR: Calculating beta diversity: kulsinski\n",
      "Calculating beta diversity: matching\n",
      "DONE: Calculating beta diversity: matching\n",
      "Calculating beta diversity: minkowski\n",
      "DONE: Calculating beta diversity: minkowski\n",
      "Calculating beta diversity: rogerstanimoto\n"
     ]
    },
    {
     "name": "stderr",
     "output_type": "stream",
     "text": [
      "/home/lauro/anaconda3/envs/qiime2-2022.2/lib/python3.8/site-packages/sklearn/metrics/pairwise.py:1761: DataConversionWarning: Data was converted to boolean for metric kulsinski\n",
      "  warnings.warn(msg, DataConversionWarning)\n",
      "/home/lauro/anaconda3/envs/qiime2-2022.2/lib/python3.8/site-packages/sklearn/metrics/pairwise.py:1761: DataConversionWarning: Data was converted to boolean for metric matching\n",
      "  warnings.warn(msg, DataConversionWarning)\n",
      "/home/lauro/anaconda3/envs/qiime2-2022.2/lib/python3.8/site-packages/sklearn/metrics/pairwise.py:1761: DataConversionWarning: Data was converted to boolean for metric rogerstanimoto\n",
      "  warnings.warn(msg, DataConversionWarning)\n"
     ]
    },
    {
     "name": "stdout",
     "output_type": "stream",
     "text": [
      "DONE: Calculating beta diversity: rogerstanimoto\n",
      "Calculating beta diversity: russellrao\n",
      "ERROR: Calculating beta diversity: russellrao\n",
      "Calculating beta diversity: seuclidean\n",
      "DONE: Calculating beta diversity: seuclidean\n",
      "Calculating beta diversity: sokalmichener\n",
      "DONE: Calculating beta diversity: sokalmichener\n",
      "Calculating beta diversity: sokalsneath\n"
     ]
    },
    {
     "name": "stderr",
     "output_type": "stream",
     "text": [
      "/home/lauro/anaconda3/envs/qiime2-2022.2/lib/python3.8/site-packages/sklearn/metrics/pairwise.py:1761: DataConversionWarning: Data was converted to boolean for metric russellrao\n",
      "  warnings.warn(msg, DataConversionWarning)\n",
      "/home/lauro/anaconda3/envs/qiime2-2022.2/lib/python3.8/site-packages/sklearn/metrics/pairwise.py:1761: DataConversionWarning: Data was converted to boolean for metric sokalmichener\n",
      "  warnings.warn(msg, DataConversionWarning)\n",
      "/home/lauro/anaconda3/envs/qiime2-2022.2/lib/python3.8/site-packages/sklearn/metrics/pairwise.py:1761: DataConversionWarning: Data was converted to boolean for metric sokalsneath\n",
      "  warnings.warn(msg, DataConversionWarning)\n"
     ]
    },
    {
     "name": "stdout",
     "output_type": "stream",
     "text": [
      "DONE: Calculating beta diversity: sokalsneath\n",
      "Calculating beta diversity: sqeuclidean\n",
      "DONE: Calculating beta diversity: sqeuclidean\n",
      "Calculating beta diversity: yule\n",
      "DONE: Calculating beta diversity: yule\n"
     ]
    },
    {
     "name": "stderr",
     "output_type": "stream",
     "text": [
      "/home/lauro/anaconda3/envs/qiime2-2022.2/lib/python3.8/site-packages/sklearn/metrics/pairwise.py:1761: DataConversionWarning: Data was converted to boolean for metric yule\n",
      "  warnings.warn(msg, DataConversionWarning)\n"
     ]
    }
   ],
   "source": [
    "metrics = ('aitchison', 'braycurtis', 'canberra', 'canberra_adkins', 'chebyshev', 'cityblock', 'correlation', 'cosine', 'dice', 'euclidean', 'hamming', 'jaccard', 'jensenshannon', 'kulsinski', 'matching', 'minkowski', 'rogerstanimoto', 'russellrao', 'seuclidean', 'sokalmichener', 'sokalsneath', 'sqeuclidean', 'yule')\n",
    "beta_diversities = dict()\n",
    "for metric in metrics:\n",
    "    print(f\"Calculating beta diversity: {metric}\")\n",
    "    try:\n",
    "        beta_diversity = beta(table=tabs, metric=metric, n_jobs=6, pseudocount=1).distance_matrix\n",
    "        beta_diversities[metric] = beta_diversity\n",
    "        # Save SampleData[BetaDiversity] Artifact\n",
    "        file_path = os.path.join(beta_path, f'beta-values-{metric}.qza')\n",
    "        beta_diversity.save(file_path)\n",
    "        print(f\"DONE: Calculating beta diversity: {metric}\")\n",
    "    except Exception as e:\n",
    "        print(f\"ERROR: Calculating beta diversity: {metric}\")"
   ]
  },
  {
   "cell_type": "markdown",
   "id": "200a2fa7",
   "metadata": {
    "papermill": {
     "duration": 0.1382,
     "end_time": "2023-06-06T20:35:38.959277",
     "exception": false,
     "start_time": "2023-06-06T20:35:38.821077",
     "status": "completed"
    },
    "tags": []
   },
   "source": [
    "### Beta group significance\n",
    "\n",
    "- [diversity beta_group_significance](https://docs.qiime2.org/2022.8/plugins/available/diversity/beta-group-significance/): Determine whether groups of samples are significantly different from one another using a permutation-based statistical test.\n",
    "- Marti J Anderson. A new method for non-parametric multivariate analysis of variance. Austral ecology, 26(1):32–46, 2001. doi:https://doi.org/10.1111/j.1442-9993.2001.01070.pp.x."
   ]
  },
  {
   "cell_type": "code",
   "execution_count": 15,
   "id": "b8dd42b6",
   "metadata": {
    "ExecuteTime": {
     "end_time": "2022-09-29T20:55:08.313860Z",
     "start_time": "2022-09-29T20:54:36.336993Z"
    },
    "execution": {
     "iopub.execute_input": "2023-06-06T20:35:39.183162Z",
     "iopub.status.busy": "2023-06-06T20:35:39.182628Z",
     "iopub.status.idle": "2023-06-06T20:38:17.760322Z",
     "shell.execute_reply": "2023-06-06T20:38:17.759850Z"
    },
    "papermill": {
     "duration": 158.693788,
     "end_time": "2023-06-06T20:38:17.765168",
     "exception": false,
     "start_time": "2023-06-06T20:35:39.071380",
     "status": "completed"
    },
    "tags": []
   },
   "outputs": [
    {
     "name": "stdout",
     "output_type": "stream",
     "text": [
      "Calculating beta group significance with method permanova and metric aitchison\n"
     ]
    },
    {
     "name": "stdout",
     "output_type": "stream",
     "text": [
      "DONE: Calculating beta group significance: permanova aitchison\n",
      "Calculating beta group significance with method permanova and metric braycurtis\n"
     ]
    },
    {
     "name": "stdout",
     "output_type": "stream",
     "text": [
      "DONE: Calculating beta group significance: permanova braycurtis\n",
      "Calculating beta group significance with method permanova and metric canberra\n"
     ]
    },
    {
     "name": "stdout",
     "output_type": "stream",
     "text": [
      "DONE: Calculating beta group significance: permanova canberra\n",
      "Calculating beta group significance with method permanova and metric canberra_adkins\n"
     ]
    },
    {
     "name": "stdout",
     "output_type": "stream",
     "text": [
      "DONE: Calculating beta group significance: permanova canberra_adkins\n",
      "Calculating beta group significance with method permanova and metric chebyshev\n"
     ]
    },
    {
     "name": "stdout",
     "output_type": "stream",
     "text": [
      "DONE: Calculating beta group significance: permanova chebyshev\n",
      "Calculating beta group significance with method permanova and metric cityblock\n"
     ]
    },
    {
     "name": "stdout",
     "output_type": "stream",
     "text": [
      "DONE: Calculating beta group significance: permanova cityblock\n",
      "Calculating beta group significance with method permanova and metric dice\n"
     ]
    },
    {
     "name": "stdout",
     "output_type": "stream",
     "text": [
      "DONE: Calculating beta group significance: permanova dice\n",
      "Calculating beta group significance with method permanova and metric euclidean\n"
     ]
    },
    {
     "name": "stdout",
     "output_type": "stream",
     "text": [
      "DONE: Calculating beta group significance: permanova euclidean\n",
      "Calculating beta group significance with method permanova and metric hamming\n"
     ]
    },
    {
     "name": "stdout",
     "output_type": "stream",
     "text": [
      "DONE: Calculating beta group significance: permanova hamming\n",
      "Calculating beta group significance with method permanova and metric jaccard\n"
     ]
    },
    {
     "name": "stdout",
     "output_type": "stream",
     "text": [
      "DONE: Calculating beta group significance: permanova jaccard\n",
      "Calculating beta group significance with method permanova and metric jensenshannon\n"
     ]
    },
    {
     "name": "stdout",
     "output_type": "stream",
     "text": [
      "DONE: Calculating beta group significance: permanova jensenshannon\n",
      "Calculating beta group significance with method permanova and metric matching\n"
     ]
    },
    {
     "name": "stdout",
     "output_type": "stream",
     "text": [
      "DONE: Calculating beta group significance: permanova matching\n",
      "Calculating beta group significance with method permanova and metric minkowski\n"
     ]
    },
    {
     "name": "stdout",
     "output_type": "stream",
     "text": [
      "DONE: Calculating beta group significance: permanova minkowski\n",
      "Calculating beta group significance with method permanova and metric rogerstanimoto\n"
     ]
    },
    {
     "name": "stdout",
     "output_type": "stream",
     "text": [
      "DONE: Calculating beta group significance: permanova rogerstanimoto\n",
      "Calculating beta group significance with method permanova and metric seuclidean\n"
     ]
    },
    {
     "name": "stdout",
     "output_type": "stream",
     "text": [
      "DONE: Calculating beta group significance: permanova seuclidean\n",
      "Calculating beta group significance with method permanova and metric sokalmichener\n"
     ]
    },
    {
     "name": "stdout",
     "output_type": "stream",
     "text": [
      "DONE: Calculating beta group significance: permanova sokalmichener\n",
      "Calculating beta group significance with method permanova and metric sokalsneath\n"
     ]
    },
    {
     "name": "stdout",
     "output_type": "stream",
     "text": [
      "DONE: Calculating beta group significance: permanova sokalsneath\n",
      "Calculating beta group significance with method permanova and metric sqeuclidean\n"
     ]
    },
    {
     "name": "stdout",
     "output_type": "stream",
     "text": [
      "DONE: Calculating beta group significance: permanova sqeuclidean\n",
      "Calculating beta group significance with method permanova and metric yule\n"
     ]
    },
    {
     "name": "stdout",
     "output_type": "stream",
     "text": [
      "DONE: Calculating beta group significance: permanova yule\n",
      "Calculating beta group significance with method anosim and metric aitchison\n"
     ]
    },
    {
     "name": "stdout",
     "output_type": "stream",
     "text": [
      "DONE: Calculating beta group significance: anosim aitchison\n",
      "Calculating beta group significance with method anosim and metric braycurtis\n"
     ]
    },
    {
     "name": "stdout",
     "output_type": "stream",
     "text": [
      "DONE: Calculating beta group significance: anosim braycurtis\n",
      "Calculating beta group significance with method anosim and metric canberra\n"
     ]
    },
    {
     "name": "stdout",
     "output_type": "stream",
     "text": [
      "DONE: Calculating beta group significance: anosim canberra\n",
      "Calculating beta group significance with method anosim and metric canberra_adkins\n"
     ]
    },
    {
     "name": "stdout",
     "output_type": "stream",
     "text": [
      "DONE: Calculating beta group significance: anosim canberra_adkins\n",
      "Calculating beta group significance with method anosim and metric chebyshev\n"
     ]
    },
    {
     "name": "stdout",
     "output_type": "stream",
     "text": [
      "DONE: Calculating beta group significance: anosim chebyshev\n",
      "Calculating beta group significance with method anosim and metric cityblock\n"
     ]
    },
    {
     "name": "stdout",
     "output_type": "stream",
     "text": [
      "DONE: Calculating beta group significance: anosim cityblock\n",
      "Calculating beta group significance with method anosim and metric dice\n"
     ]
    },
    {
     "name": "stdout",
     "output_type": "stream",
     "text": [
      "DONE: Calculating beta group significance: anosim dice\n",
      "Calculating beta group significance with method anosim and metric euclidean\n"
     ]
    },
    {
     "name": "stdout",
     "output_type": "stream",
     "text": [
      "DONE: Calculating beta group significance: anosim euclidean\n",
      "Calculating beta group significance with method anosim and metric hamming\n"
     ]
    },
    {
     "name": "stdout",
     "output_type": "stream",
     "text": [
      "DONE: Calculating beta group significance: anosim hamming\n",
      "Calculating beta group significance with method anosim and metric jaccard\n"
     ]
    },
    {
     "name": "stdout",
     "output_type": "stream",
     "text": [
      "DONE: Calculating beta group significance: anosim jaccard\n",
      "Calculating beta group significance with method anosim and metric jensenshannon\n"
     ]
    },
    {
     "name": "stdout",
     "output_type": "stream",
     "text": [
      "DONE: Calculating beta group significance: anosim jensenshannon\n",
      "Calculating beta group significance with method anosim and metric matching\n"
     ]
    },
    {
     "name": "stdout",
     "output_type": "stream",
     "text": [
      "DONE: Calculating beta group significance: anosim matching\n",
      "Calculating beta group significance with method anosim and metric minkowski\n"
     ]
    },
    {
     "name": "stdout",
     "output_type": "stream",
     "text": [
      "DONE: Calculating beta group significance: anosim minkowski\n",
      "Calculating beta group significance with method anosim and metric rogerstanimoto\n"
     ]
    },
    {
     "name": "stdout",
     "output_type": "stream",
     "text": [
      "DONE: Calculating beta group significance: anosim rogerstanimoto\n",
      "Calculating beta group significance with method anosim and metric seuclidean\n"
     ]
    },
    {
     "name": "stdout",
     "output_type": "stream",
     "text": [
      "DONE: Calculating beta group significance: anosim seuclidean\n",
      "Calculating beta group significance with method anosim and metric sokalmichener\n"
     ]
    },
    {
     "name": "stdout",
     "output_type": "stream",
     "text": [
      "DONE: Calculating beta group significance: anosim sokalmichener\n",
      "Calculating beta group significance with method anosim and metric sokalsneath\n"
     ]
    },
    {
     "name": "stdout",
     "output_type": "stream",
     "text": [
      "DONE: Calculating beta group significance: anosim sokalsneath\n",
      "Calculating beta group significance with method anosim and metric sqeuclidean\n"
     ]
    },
    {
     "name": "stdout",
     "output_type": "stream",
     "text": [
      "DONE: Calculating beta group significance: anosim sqeuclidean\n",
      "Calculating beta group significance with method anosim and metric yule\n"
     ]
    },
    {
     "name": "stdout",
     "output_type": "stream",
     "text": [
      "DONE: Calculating beta group significance: anosim yule\n",
      "Calculating beta group significance with method permdisp and metric aitchison\n"
     ]
    },
    {
     "name": "stdout",
     "output_type": "stream",
     "text": [
      "DONE: Calculating beta group significance: permdisp aitchison\n",
      "Calculating beta group significance with method permdisp and metric braycurtis\n"
     ]
    },
    {
     "name": "stdout",
     "output_type": "stream",
     "text": [
      "DONE: Calculating beta group significance: permdisp braycurtis\n",
      "Calculating beta group significance with method permdisp and metric canberra\n"
     ]
    },
    {
     "name": "stderr",
     "output_type": "stream",
     "text": [
      "/home/lauro/anaconda3/envs/qiime2-2022.2/lib/python3.8/site-packages/skbio/stats/ordination/_principal_coordinate_analysis.py:143: RuntimeWarning: The result contains negative eigenvalues. Please compare their magnitude with the magnitude of some of the largest positive eigenvalues. If the negative ones are smaller, it's probably safe to ignore them, but if they are large in magnitude, the results won't be useful. See the Notes section for more details. The smallest eigenvalue is -16720.170258450522 and the largest is 24402.063071341167.\n",
      "  warn(\n"
     ]
    },
    {
     "name": "stderr",
     "output_type": "stream",
     "text": [
      "/home/lauro/anaconda3/envs/qiime2-2022.2/lib/python3.8/site-packages/skbio/stats/ordination/_principal_coordinate_analysis.py:143: RuntimeWarning: The result contains negative eigenvalues. Please compare their magnitude with the magnitude of some of the largest positive eigenvalues. If the negative ones are smaller, it's probably safe to ignore them, but if they are large in magnitude, the results won't be useful. See the Notes section for more details. The smallest eigenvalue is -16720.17025845053 and the largest is 24402.063071341167.\n",
      "  warn(\n"
     ]
    },
    {
     "name": "stdout",
     "output_type": "stream",
     "text": [
      "DONE: Calculating beta group significance: permdisp canberra\n",
      "Calculating beta group significance with method permdisp and metric canberra_adkins\n"
     ]
    },
    {
     "name": "stdout",
     "output_type": "stream",
     "text": [
      "DONE: Calculating beta group significance: permdisp canberra_adkins\n",
      "Calculating beta group significance with method permdisp and metric chebyshev\n"
     ]
    },
    {
     "name": "stderr",
     "output_type": "stream",
     "text": [
      "/home/lauro/anaconda3/envs/qiime2-2022.2/lib/python3.8/site-packages/skbio/stats/ordination/_principal_coordinate_analysis.py:143: RuntimeWarning: The result contains negative eigenvalues. Please compare their magnitude with the magnitude of some of the largest positive eigenvalues. If the negative ones are smaller, it's probably safe to ignore them, but if they are large in magnitude, the results won't be useful. See the Notes section for more details. The smallest eigenvalue is -55941381.760282084 and the largest is 1055691087.4280657.\n",
      "  warn(\n"
     ]
    },
    {
     "name": "stderr",
     "output_type": "stream",
     "text": [
      "/home/lauro/anaconda3/envs/qiime2-2022.2/lib/python3.8/site-packages/skbio/stats/ordination/_principal_coordinate_analysis.py:143: RuntimeWarning: The result contains negative eigenvalues. Please compare their magnitude with the magnitude of some of the largest positive eigenvalues. If the negative ones are smaller, it's probably safe to ignore them, but if they are large in magnitude, the results won't be useful. See the Notes section for more details. The smallest eigenvalue is -55941381.76028211 and the largest is 1055691087.4280655.\n",
      "  warn(\n"
     ]
    },
    {
     "name": "stdout",
     "output_type": "stream",
     "text": [
      "DONE: Calculating beta group significance: permdisp chebyshev\n",
      "Calculating beta group significance with method permdisp and metric cityblock\n"
     ]
    },
    {
     "name": "stderr",
     "output_type": "stream",
     "text": [
      "/home/lauro/anaconda3/envs/qiime2-2022.2/lib/python3.8/site-packages/skbio/stats/ordination/_principal_coordinate_analysis.py:143: RuntimeWarning: The result contains negative eigenvalues. Please compare their magnitude with the magnitude of some of the largest positive eigenvalues. If the negative ones are smaller, it's probably safe to ignore them, but if they are large in magnitude, the results won't be useful. See the Notes section for more details. The smallest eigenvalue is -13792345096.218071 and the largest is 25353821157.626827.\n",
      "  warn(\n"
     ]
    },
    {
     "name": "stderr",
     "output_type": "stream",
     "text": [
      "/home/lauro/anaconda3/envs/qiime2-2022.2/lib/python3.8/site-packages/skbio/stats/ordination/_principal_coordinate_analysis.py:143: RuntimeWarning: The result contains negative eigenvalues. Please compare their magnitude with the magnitude of some of the largest positive eigenvalues. If the negative ones are smaller, it's probably safe to ignore them, but if they are large in magnitude, the results won't be useful. See the Notes section for more details. The smallest eigenvalue is -13792345096.218071 and the largest is 25353821157.626827.\n",
      "  warn(\n"
     ]
    },
    {
     "name": "stdout",
     "output_type": "stream",
     "text": [
      "DONE: Calculating beta group significance: permdisp cityblock\n",
      "Calculating beta group significance with method permdisp and metric dice\n"
     ]
    },
    {
     "name": "stdout",
     "output_type": "stream",
     "text": [
      "DONE: Calculating beta group significance: permdisp dice\n",
      "Calculating beta group significance with method permdisp and metric euclidean\n"
     ]
    },
    {
     "name": "stdout",
     "output_type": "stream",
     "text": [
      "DONE: Calculating beta group significance: permdisp euclidean\n",
      "Calculating beta group significance with method permdisp and metric hamming\n"
     ]
    },
    {
     "name": "stderr",
     "output_type": "stream",
     "text": [
      "/home/lauro/anaconda3/envs/qiime2-2022.2/lib/python3.8/site-packages/skbio/stats/ordination/_principal_coordinate_analysis.py:143: RuntimeWarning: The result contains negative eigenvalues. Please compare their magnitude with the magnitude of some of the largest positive eigenvalues. If the negative ones are smaller, it's probably safe to ignore them, but if they are large in magnitude, the results won't be useful. See the Notes section for more details. The smallest eigenvalue is -0.005983574203420047 and the largest is 0.00792226957383885.\n",
      "  warn(\n"
     ]
    },
    {
     "name": "stderr",
     "output_type": "stream",
     "text": [
      "/home/lauro/anaconda3/envs/qiime2-2022.2/lib/python3.8/site-packages/skbio/stats/ordination/_principal_coordinate_analysis.py:143: RuntimeWarning: The result contains negative eigenvalues. Please compare their magnitude with the magnitude of some of the largest positive eigenvalues. If the negative ones are smaller, it's probably safe to ignore them, but if they are large in magnitude, the results won't be useful. See the Notes section for more details. The smallest eigenvalue is -0.00598357420342004 and the largest is 0.007922269573838847.\n",
      "  warn(\n"
     ]
    },
    {
     "name": "stdout",
     "output_type": "stream",
     "text": [
      "DONE: Calculating beta group significance: permdisp hamming\n",
      "Calculating beta group significance with method permdisp and metric jaccard\n"
     ]
    },
    {
     "name": "stdout",
     "output_type": "stream",
     "text": [
      "DONE: Calculating beta group significance: permdisp jaccard\n",
      "Calculating beta group significance with method permdisp and metric jensenshannon\n"
     ]
    },
    {
     "name": "stdout",
     "output_type": "stream",
     "text": [
      "DONE: Calculating beta group significance: permdisp jensenshannon\n",
      "Calculating beta group significance with method permdisp and metric matching\n"
     ]
    },
    {
     "name": "stderr",
     "output_type": "stream",
     "text": [
      "/home/lauro/anaconda3/envs/qiime2-2022.2/lib/python3.8/site-packages/skbio/stats/ordination/_principal_coordinate_analysis.py:143: RuntimeWarning: The result contains negative eigenvalues. Please compare their magnitude with the magnitude of some of the largest positive eigenvalues. If the negative ones are smaller, it's probably safe to ignore them, but if they are large in magnitude, the results won't be useful. See the Notes section for more details. The smallest eigenvalue is -0.005196147951801637 and the largest is 0.008643980958239265.\n",
      "  warn(\n"
     ]
    },
    {
     "name": "stderr",
     "output_type": "stream",
     "text": [
      "/home/lauro/anaconda3/envs/qiime2-2022.2/lib/python3.8/site-packages/skbio/stats/ordination/_principal_coordinate_analysis.py:143: RuntimeWarning: The result contains negative eigenvalues. Please compare their magnitude with the magnitude of some of the largest positive eigenvalues. If the negative ones are smaller, it's probably safe to ignore them, but if they are large in magnitude, the results won't be useful. See the Notes section for more details. The smallest eigenvalue is -0.005196147951801641 and the largest is 0.008643980958239263.\n",
      "  warn(\n"
     ]
    },
    {
     "name": "stdout",
     "output_type": "stream",
     "text": [
      "DONE: Calculating beta group significance: permdisp matching\n",
      "Calculating beta group significance with method permdisp and metric minkowski\n"
     ]
    },
    {
     "name": "stdout",
     "output_type": "stream",
     "text": [
      "DONE: Calculating beta group significance: permdisp minkowski\n",
      "Calculating beta group significance with method permdisp and metric rogerstanimoto\n"
     ]
    },
    {
     "name": "stderr",
     "output_type": "stream",
     "text": [
      "/home/lauro/anaconda3/envs/qiime2-2022.2/lib/python3.8/site-packages/skbio/stats/ordination/_principal_coordinate_analysis.py:143: RuntimeWarning: The result contains negative eigenvalues. Please compare their magnitude with the magnitude of some of the largest positive eigenvalues. If the negative ones are smaller, it's probably safe to ignore them, but if they are large in magnitude, the results won't be useful. See the Notes section for more details. The smallest eigenvalue is -0.01388952015927775 and the largest is 0.02821124117567983.\n",
      "  warn(\n"
     ]
    },
    {
     "name": "stderr",
     "output_type": "stream",
     "text": [
      "/home/lauro/anaconda3/envs/qiime2-2022.2/lib/python3.8/site-packages/skbio/stats/ordination/_principal_coordinate_analysis.py:143: RuntimeWarning: The result contains negative eigenvalues. Please compare their magnitude with the magnitude of some of the largest positive eigenvalues. If the negative ones are smaller, it's probably safe to ignore them, but if they are large in magnitude, the results won't be useful. See the Notes section for more details. The smallest eigenvalue is -0.013889520159277743 and the largest is 0.02821124117567983.\n",
      "  warn(\n"
     ]
    },
    {
     "name": "stdout",
     "output_type": "stream",
     "text": [
      "DONE: Calculating beta group significance: permdisp rogerstanimoto\n",
      "Calculating beta group significance with method permdisp and metric seuclidean\n"
     ]
    },
    {
     "name": "stdout",
     "output_type": "stream",
     "text": [
      "DONE: Calculating beta group significance: permdisp seuclidean\n",
      "Calculating beta group significance with method permdisp and metric sokalmichener\n"
     ]
    },
    {
     "name": "stderr",
     "output_type": "stream",
     "text": [
      "/home/lauro/anaconda3/envs/qiime2-2022.2/lib/python3.8/site-packages/skbio/stats/ordination/_principal_coordinate_analysis.py:143: RuntimeWarning: The result contains negative eigenvalues. Please compare their magnitude with the magnitude of some of the largest positive eigenvalues. If the negative ones are smaller, it's probably safe to ignore them, but if they are large in magnitude, the results won't be useful. See the Notes section for more details. The smallest eigenvalue is -0.01388952015927775 and the largest is 0.02821124117567983.\n",
      "  warn(\n"
     ]
    },
    {
     "name": "stderr",
     "output_type": "stream",
     "text": [
      "/home/lauro/anaconda3/envs/qiime2-2022.2/lib/python3.8/site-packages/skbio/stats/ordination/_principal_coordinate_analysis.py:143: RuntimeWarning: The result contains negative eigenvalues. Please compare their magnitude with the magnitude of some of the largest positive eigenvalues. If the negative ones are smaller, it's probably safe to ignore them, but if they are large in magnitude, the results won't be useful. See the Notes section for more details. The smallest eigenvalue is -0.013889520159277743 and the largest is 0.02821124117567983.\n",
      "  warn(\n"
     ]
    },
    {
     "name": "stdout",
     "output_type": "stream",
     "text": [
      "DONE: Calculating beta group significance: permdisp sokalmichener\n",
      "Calculating beta group significance with method permdisp and metric sokalsneath\n"
     ]
    },
    {
     "name": "stdout",
     "output_type": "stream",
     "text": [
      "DONE: Calculating beta group significance: permdisp sokalsneath\n",
      "Calculating beta group significance with method permdisp and metric sqeuclidean\n"
     ]
    },
    {
     "name": "stderr",
     "output_type": "stream",
     "text": [
      "/home/lauro/anaconda3/envs/qiime2-2022.2/lib/python3.8/site-packages/skbio/stats/ordination/_principal_coordinate_analysis.py:143: RuntimeWarning: The result contains negative eigenvalues. Please compare their magnitude with the magnitude of some of the largest positive eigenvalues. If the negative ones are smaller, it's probably safe to ignore them, but if they are large in magnitude, the results won't be useful. See the Notes section for more details. The smallest eigenvalue is -1.9778807440468566e+17 and the largest is 1.382849864477353e+18.\n",
      "  warn(\n"
     ]
    },
    {
     "name": "stderr",
     "output_type": "stream",
     "text": [
      "/home/lauro/anaconda3/envs/qiime2-2022.2/lib/python3.8/site-packages/skbio/stats/ordination/_principal_coordinate_analysis.py:143: RuntimeWarning: The result contains negative eigenvalues. Please compare their magnitude with the magnitude of some of the largest positive eigenvalues. If the negative ones are smaller, it's probably safe to ignore them, but if they are large in magnitude, the results won't be useful. See the Notes section for more details. The smallest eigenvalue is -1.9778807440468547e+17 and the largest is 1.3828498644773535e+18.\n",
      "  warn(\n"
     ]
    },
    {
     "name": "stdout",
     "output_type": "stream",
     "text": [
      "DONE: Calculating beta group significance: permdisp sqeuclidean\n",
      "Calculating beta group significance with method permdisp and metric yule\n"
     ]
    },
    {
     "name": "stderr",
     "output_type": "stream",
     "text": [
      "/home/lauro/anaconda3/envs/qiime2-2022.2/lib/python3.8/site-packages/skbio/stats/ordination/_principal_coordinate_analysis.py:143: RuntimeWarning: The result contains negative eigenvalues. Please compare their magnitude with the magnitude of some of the largest positive eigenvalues. If the negative ones are smaller, it's probably safe to ignore them, but if they are large in magnitude, the results won't be useful. See the Notes section for more details. The smallest eigenvalue is -4.216998952136967 and the largest is 16.900904257938702.\n",
      "  warn(\n"
     ]
    },
    {
     "name": "stderr",
     "output_type": "stream",
     "text": [
      "/home/lauro/anaconda3/envs/qiime2-2022.2/lib/python3.8/site-packages/skbio/stats/ordination/_principal_coordinate_analysis.py:143: RuntimeWarning: The result contains negative eigenvalues. Please compare their magnitude with the magnitude of some of the largest positive eigenvalues. If the negative ones are smaller, it's probably safe to ignore them, but if they are large in magnitude, the results won't be useful. See the Notes section for more details. The smallest eigenvalue is -4.216998952136967 and the largest is 16.90090425793871.\n",
      "  warn(\n"
     ]
    },
    {
     "name": "stdout",
     "output_type": "stream",
     "text": [
      "DONE: Calculating beta group significance: permdisp yule\n"
     ]
    },
    {
     "data": {
      "text/plain": [
       "<Figure size 432x288 with 0 Axes>"
      ]
     },
     "metadata": {},
     "output_type": "display_data"
    }
   ],
   "source": [
    "methods = ('permanova', 'anosim', 'permdisp')\n",
    "for method in methods:\n",
    "    for metric, beta_diversity in beta_diversities.items():\n",
    "        print(f'Calculating beta group significance with method {method} and metric {metric}')\n",
    "        try:\n",
    "            beta_view = beta_group_significance(distance_matrix=beta_diversity, \n",
    "                                                metadata=metadata_qa.get_column(class_col), \n",
    "                                                pairwise=True, method=method).visualization\n",
    "            view_name = os.path.join(beta_path, f'beta-group-significance-{metric}-{method}.qzv')\n",
    "            beta_view.save(view_name)\n",
    "            print(f\"DONE: Calculating beta group significance: {method} {metric}\")\n",
    "        except Exception as e:\n",
    "            print(f\"ERROR: Calculating beta group significance: {method} {metric}\")"
   ]
  },
  {
   "cell_type": "markdown",
   "id": "c0de85cf",
   "metadata": {
    "papermill": {
     "duration": 0.072136,
     "end_time": "2023-06-06T20:38:17.916110",
     "exception": false,
     "start_time": "2023-06-06T20:38:17.843974",
     "status": "completed"
    },
    "tags": []
   },
   "source": [
    "### Beta group Rarefaction\n",
    "\n",
    "- [diversity beta_rarefaction](https://docs.qiime2.org/2022.8/plugins/available/diversity/beta-rarefaction/): Repeatedly rarefy a feature table to compare beta diversity results within a given rarefaction depth.  For a given beta diversity metric, this visualizer will provide: an Emperor jackknifed PCoA plot, samples clustered by UPGMA or neighbor joining with support calculation, and a heatmap showing the correlation between rarefaction trials of that beta diversity metric."
   ]
  }
 ],
 "metadata": {
  "celltoolbar": "Edit Metadata",
  "kernelspec": {
   "display_name": "Python 3 (ipykernel)",
   "language": "python",
   "name": "python3"
  },
  "language_info": {
   "codemirror_mode": {
    "name": "ipython",
    "version": 3
   },
   "file_extension": ".py",
   "mimetype": "text/x-python",
   "name": "python",
   "nbconvert_exporter": "python",
   "pygments_lexer": "ipython3",
   "version": "3.8.12"
  },
  "papermill": {
   "default_parameters": {},
   "duration": 1623.975758,
   "end_time": "2023-06-06T20:38:19.008605",
   "environment_variables": {},
   "exception": null,
   "input_path": "nb-templates/step-diversity-analysis.ipynb",
   "output_path": "/home/lauro/nupeb/rede-micro/redemicro-thayane/experiments/thayane-PM-joined/nb-executed-steps/step-diversity-analysis-thayane-PM-joined.ipynb",
   "parameters": {
    "base_dir": "/home/lauro/nupeb/rede-micro/redemicro-thayane",
    "class_col": "above_10",
    "classifier_file": "/home/lauro/nupeb/16S_classifiers_qiime2/silva-138-99-nb-classifier.qza",
    "experiment_name": "thayane-PM-joined",
    "manifest_file": "/home/lauro/nupeb/rede-micro/redemicro-thayane/data/manifest-single.csv",
    "metadata_file": "/home/lauro/nupeb/rede-micro/redemicro-thayane/data/metadata.tsv",
    "overlap": 12,
    "phred": 20,
    "replace_files": false,
    "threads": 6,
    "trunc_f": 0,
    "trunc_r": 0
   },
   "start_time": "2023-06-06T20:11:15.032847",
   "version": "2.3.4"
  }
 },
 "nbformat": 4,
 "nbformat_minor": 5
}