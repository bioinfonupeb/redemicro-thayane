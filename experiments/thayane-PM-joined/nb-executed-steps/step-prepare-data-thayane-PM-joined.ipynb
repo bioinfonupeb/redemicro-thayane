{
 "cells": [
  {
   "cell_type": "markdown",
   "id": "ba45848f",
   "metadata": {
    "papermill": {
     "duration": 0.012164,
     "end_time": "2024-02-17T00:08:10.071366",
     "exception": false,
     "start_time": "2024-02-17T00:08:10.059202",
     "status": "completed"
    },
    "tags": []
   },
   "source": [
    "# Prepare data for Pipeline"
   ]
  },
  {
   "cell_type": "markdown",
   "id": "5d9857ba",
   "metadata": {
    "papermill": {
     "duration": 0.009563,
     "end_time": "2024-02-17T00:08:10.091410",
     "exception": false,
     "start_time": "2024-02-17T00:08:10.081847",
     "status": "completed"
    },
    "tags": []
   },
   "source": [
    "## Setup and settings"
   ]
  },
  {
   "cell_type": "code",
   "execution_count": 1,
   "id": "8fd2575a",
   "metadata": {
    "ExecuteTime": {
     "end_time": "2022-10-14T14:33:37.863523Z",
     "start_time": "2022-10-14T14:33:14.145712Z"
    },
    "execution": {
     "iopub.execute_input": "2024-02-17T00:08:10.105515Z",
     "iopub.status.busy": "2024-02-17T00:08:10.105216Z",
     "iopub.status.idle": "2024-02-17T00:08:14.673566Z",
     "shell.execute_reply": "2024-02-17T00:08:14.673078Z"
    },
    "papermill": {
     "duration": 4.575813,
     "end_time": "2024-02-17T00:08:14.674801",
     "exception": false,
     "start_time": "2024-02-17T00:08:10.098988",
     "status": "completed"
    },
    "tags": []
   },
   "outputs": [],
   "source": [
    "# Importing packages\n",
    "import os\n",
    "import yaml\n",
    "import logging\n",
    "import pandas as pd\n",
    "from Bio.Seq import Seq\n",
    "from qiime2 import Artifact, Visualization, Metadata\n",
    "from qiime2.plugins import demux\n",
    "from qiime2.plugins.cutadapt.methods import trim_paired, trim_single\n",
    "from qiime2.plugins.demux.methods import filter_samples"
   ]
  },
  {
   "cell_type": "markdown",
   "id": "13bbbaa8",
   "metadata": {
    "papermill": {
     "duration": 0.004792,
     "end_time": "2024-02-17T00:08:14.681426",
     "exception": false,
     "start_time": "2024-02-17T00:08:14.676634",
     "status": "completed"
    },
    "tags": []
   },
   "source": [
    "### Receiving the parameters\n",
    "\n",
    "The following cell can receive parameters using the [papermill](https://papermill.readthedocs.io/en/latest/) tool."
   ]
  },
  {
   "cell_type": "code",
   "execution_count": 2,
   "id": "af6cffa1",
   "metadata": {
    "ExecuteTime": {
     "end_time": "2022-06-28T18:50:41.594341Z",
     "start_time": "2022-06-28T18:50:41.591544Z"
    },
    "execution": {
     "iopub.execute_input": "2024-02-17T00:08:14.689271Z",
     "iopub.status.busy": "2024-02-17T00:08:14.689028Z",
     "iopub.status.idle": "2024-02-17T00:08:14.692106Z",
     "shell.execute_reply": "2024-02-17T00:08:14.691673Z"
    },
    "papermill": {
     "duration": 0.00998,
     "end_time": "2024-02-17T00:08:14.693029",
     "exception": false,
     "start_time": "2024-02-17T00:08:14.683049",
     "status": "completed"
    },
    "tags": [
     "parameters"
    ]
   },
   "outputs": [],
   "source": [
    "params_path = os.path.join('..', 'params', 'parameter-set-01.yaml')\n",
    "experiment_name = 'exp-01'\n",
    "base_dir = os.path.join('/', 'home', 'username', 'pipeline-dir')\n",
    "manifest_file = os.path.join(base_dir, 'data', 'raw', 'manifest', 'manifest.csv')\n",
    "replace_files = False\n",
    "trim = None\n",
    "metadata_file = None\n",
    "threads = 1\n",
    "demux_file = None"
   ]
  },
  {
   "cell_type": "code",
   "execution_count": 3,
   "id": "57148216",
   "metadata": {
    "execution": {
     "iopub.execute_input": "2024-02-17T00:08:14.696787Z",
     "iopub.status.busy": "2024-02-17T00:08:14.696667Z",
     "iopub.status.idle": "2024-02-17T00:08:14.699412Z",
     "shell.execute_reply": "2024-02-17T00:08:14.699010Z"
    },
    "papermill": {
     "duration": 0.005633,
     "end_time": "2024-02-17T00:08:14.700286",
     "exception": false,
     "start_time": "2024-02-17T00:08:14.694653",
     "status": "completed"
    },
    "tags": [
     "injected-parameters"
    ]
   },
   "outputs": [],
   "source": [
    "# Parameters\n",
    "experiment_name = \"thayane-PM-joined\"\n",
    "base_dir = \"/mnt/nupeb/rede-micro/redemicro-thayane\"\n",
    "manifest_file = \"/mnt/nupeb/rede-micro/redemicro-thayane/data/manifest-single.csv\"\n",
    "metadata_file = \"/mnt/nupeb/rede-micro/redemicro-thayane/data/metadata.tsv\"\n",
    "class_col = \"above_10\"\n",
    "classifier_file = \"/mnt/nupeb/rede-micro/datasets/16S_classifiers_qiime2/silva-138-99-nb-classifier.qza\"\n",
    "replace_files = False\n",
    "phred = 20\n",
    "trunc_f = 0\n",
    "trunc_r = 0\n",
    "overlap = 12\n",
    "threads = 6\n"
   ]
  },
  {
   "cell_type": "code",
   "execution_count": 4,
   "id": "83cf7258",
   "metadata": {
    "ExecuteTime": {
     "end_time": "2023-08-18T15:40:31.070885Z",
     "start_time": "2023-08-18T15:40:30.611671Z"
    },
    "execution": {
     "iopub.execute_input": "2024-02-17T00:08:14.704097Z",
     "iopub.status.busy": "2024-02-17T00:08:14.703977Z",
     "iopub.status.idle": "2024-02-17T00:08:14.706704Z",
     "shell.execute_reply": "2024-02-17T00:08:14.706309Z"
    },
    "papermill": {
     "duration": 0.005685,
     "end_time": "2024-02-17T00:08:14.707593",
     "exception": false,
     "start_time": "2024-02-17T00:08:14.701908",
     "status": "completed"
    },
    "tags": []
   },
   "outputs": [],
   "source": [
    "out_dir = os.path.join(base_dir, 'experiments', experiment_name, 'qiime-artifacts')\n",
    "img_folder = os.path.abspath(os.path.join(base_dir, 'experiments', experiment_name, 'imgs'))\n",
    "data_dir =  os.path.abspath(os.path.join(base_dir, 'data'))\n",
    "raw_data_dir =  os.path.abspath(os.path.join(data_dir, 'raw'))\n",
    "interim_data_dir =  os.path.abspath(os.path.join(data_dir, 'interim'))"
   ]
  },
  {
   "cell_type": "markdown",
   "id": "55dba658",
   "metadata": {
    "papermill": {
     "duration": 0.001657,
     "end_time": "2024-02-17T00:08:14.710865",
     "exception": false,
     "start_time": "2024-02-17T00:08:14.709208",
     "status": "completed"
    },
    "tags": []
   },
   "source": [
    "### Defining names and paths"
   ]
  },
  {
   "cell_type": "code",
   "execution_count": 5,
   "id": "4da89634",
   "metadata": {
    "ExecuteTime": {
     "end_time": "2022-06-28T18:50:41.632125Z",
     "start_time": "2022-06-28T18:50:41.619710Z"
    },
    "execution": {
     "iopub.execute_input": "2024-02-17T00:08:14.714827Z",
     "iopub.status.busy": "2024-02-17T00:08:14.714648Z",
     "iopub.status.idle": "2024-02-17T00:08:14.717614Z",
     "shell.execute_reply": "2024-02-17T00:08:14.717211Z"
    },
    "papermill": {
     "duration": 0.006006,
     "end_time": "2024-02-17T00:08:14.718524",
     "exception": false,
     "start_time": "2024-02-17T00:08:14.712518",
     "status": "completed"
    },
    "tags": []
   },
   "outputs": [],
   "source": [
    "# Create path if it not exists\n",
    "if not os.path.isdir(out_dir):\n",
    "    os.makedirs(out_dir)\n",
    "    print(f'New qiime-artifacts folder path created: {out_dir}')\n",
    "\n",
    "# Create path if it not exists\n",
    "if not os.path.isdir(img_folder):\n",
    "    os.makedirs(img_folder)\n",
    "    print(f'New img folder path created: {img_folder}')\n",
    "\n",
    "# Define the output artifact full path\n",
    "if demux_file is None:\n",
    "    demux_file = os.path.join(out_dir, 'demux-paired.qza')\n",
    "demux_view = os.path.join(out_dir, 'demux-paired.qzv')\n",
    "demux_file_trim = os.path.join(out_dir, 'demux-paired-trim.qza')\n",
    "demux_view_trim = os.path.join(out_dir, 'demux-paired-trim.qzv')"
   ]
  },
  {
   "cell_type": "markdown",
   "id": "0bf4625e",
   "metadata": {
    "papermill": {
     "duration": 0.001615,
     "end_time": "2024-02-17T00:08:14.721747",
     "exception": false,
     "start_time": "2024-02-17T00:08:14.720132",
     "status": "completed"
    },
    "tags": []
   },
   "source": [
    "## Step execution\n",
    "\n",
    "This Step import all `fastq` files in a **QIIME2 Artifact** object and save it to a new `qza` file of `SampleData[PairedEndSequencesWithQuality]`"
   ]
  },
  {
   "cell_type": "code",
   "execution_count": 6,
   "id": "09cd8188",
   "metadata": {
    "execution": {
     "iopub.execute_input": "2024-02-17T00:08:14.725617Z",
     "iopub.status.busy": "2024-02-17T00:08:14.725443Z",
     "iopub.status.idle": "2024-02-17T00:08:14.734790Z",
     "shell.execute_reply": "2024-02-17T00:08:14.734381Z"
    },
    "papermill": {
     "duration": 0.012235,
     "end_time": "2024-02-17T00:08:14.735638",
     "exception": false,
     "start_time": "2024-02-17T00:08:14.723403",
     "status": "completed"
    },
    "tags": []
   },
   "outputs": [],
   "source": [
    "manifest_df = pd.read_csv(manifest_file)\n",
    "n_directions = len(manifest_df['direction'].unique())\n",
    "if n_directions == 1:\n",
    "    d_type = 'SampleData[SequencesWithQuality]'\n",
    "    v_type = 'SingleEndFastqManifestPhred33'\n",
    "elif n_directions == 2:\n",
    "    d_type = 'SampleData[PairedEndSequencesWithQuality]'\n",
    "    v_type = 'PairedEndFastqManifestPhred33'\n",
    "else:\n",
    "    print(f'ERROR: invalid number of directions {n_directions}')"
   ]
  },
  {
   "cell_type": "code",
   "execution_count": 7,
   "id": "4b16c9fa",
   "metadata": {
    "execution": {
     "iopub.execute_input": "2024-02-17T00:08:14.739506Z",
     "iopub.status.busy": "2024-02-17T00:08:14.739386Z",
     "iopub.status.idle": "2024-02-17T00:08:14.750542Z",
     "shell.execute_reply": "2024-02-17T00:08:14.750137Z"
    },
    "papermill": {
     "duration": 0.01418,
     "end_time": "2024-02-17T00:08:14.751453",
     "exception": false,
     "start_time": "2024-02-17T00:08:14.737273",
     "status": "completed"
    },
    "tags": []
   },
   "outputs": [],
   "source": [
    "# If the metadata file is not defined, use the default metadata file\n",
    "metadata_qa = Metadata.load(metadata_file)"
   ]
  },
  {
   "cell_type": "code",
   "execution_count": 8,
   "id": "f992eb7e",
   "metadata": {
    "ExecuteTime": {
     "end_time": "2022-06-28T19:44:58.640338Z",
     "start_time": "2022-06-28T18:50:41.633657Z"
    },
    "execution": {
     "iopub.execute_input": "2024-02-17T00:08:14.755442Z",
     "iopub.status.busy": "2024-02-17T00:08:14.755266Z"
    },
    "papermill": {
     "duration": 51.449454,
     "end_time": "2024-02-17T00:09:06.202564",
     "exception": false,
     "start_time": "2024-02-17T00:08:14.753110",
     "status": "completed"
    },
    "tags": []
   },
   "outputs": [],
   "source": [
    "# If the demux file does not exist or if the old file will be replaced\n",
    "if not os.path.isfile(demux_file) or replace_files:\n",
    "    interim_demux_path = os.path.join(interim_data_dir, \"demux-paired.qza\")\n",
    "    # Load Artifact from interim folder\n",
    "    if os.path.isfile(interim_demux_path):\n",
    "        artifact = Artifact.load(interim_demux_path)\n",
    "    # Create new Artifact using Manifest\n",
    "    else:\n",
    "        artifact = Artifact.import_data(d_type, manifest_file, view_type=v_type)\n",
    "        if not os.path.isfile(interim_demux_path):\n",
    "            artifact.save(interim_demux_path)\n",
    "    # Filter and Save Artifact\n",
    "    artifact = filter_samples(demux=artifact, metadata=metadata_qa).filtered_demux\n",
    "    artifact.save(demux_file)\n",
    "    # Visualization\n",
    "    if os.path.isfile(demux_view):\n",
    "        demux_view_obj = Visualization.load(demux_view)\n",
    "    else:\n",
    "        demux_view_obj = demux.visualizers.summarize(artifact).visualization\n",
    "        Visualization.save(demux_view_obj, filepath=demux_view)\n",
    "elif os.path.isfile(demux_file):\n",
    "    # Load Artifact\n",
    "    artifact = Artifact.load(demux_file)\n",
    "    artifact = filter_samples(demux=artifact, metadata=metadata_qa).filtered_demux\n",
    "    # Visualization\n",
    "    if os.path.isfile(demux_view):\n",
    "        demux_view_obj = Visualization.load(demux_view)\n",
    "    else:\n",
    "        demux_view_obj = demux.visualizers.summarize(artifact).visualization\n",
    "        Visualization.save(demux_view_obj, filepath=demux_view)"
   ]
  },
  {
   "cell_type": "markdown",
   "id": "5c6e8a2b",
   "metadata": {
    "papermill": {
     "duration": null,
     "end_time": null,
     "exception": null,
     "start_time": null,
     "status": "completed"
    },
    "tags": []
   },
   "source": [
    "## Step report\n"
   ]
  },
  {
   "cell_type": "code",
   "execution_count": null,
   "id": "4414fb4f",
   "metadata": {
    "ExecuteTime": {
     "end_time": "2022-06-28T19:47:56.609737Z",
     "start_time": "2022-06-28T19:47:56.604820Z"
    },
    "papermill": {
     "duration": null,
     "end_time": null,
     "exception": null,
     "start_time": null,
     "status": "completed"
    },
    "tags": []
   },
   "outputs": [],
   "source": [
    "print(demux_view_obj)"
   ]
  },
  {
   "cell_type": "code",
   "execution_count": null,
   "id": "5d9146d0",
   "metadata": {
    "ExecuteTime": {
     "end_time": "2022-06-28T19:47:56.704841Z",
     "start_time": "2022-06-28T19:47:56.611846Z"
    },
    "papermill": {
     "duration": null,
     "end_time": null,
     "exception": null,
     "start_time": null,
     "status": "completed"
    },
    "tags": []
   },
   "outputs": [],
   "source": [
    "# Render Visualization\n",
    "demux_view_obj"
   ]
  },
  {
   "cell_type": "markdown",
   "id": "e8306b30",
   "metadata": {
    "papermill": {
     "duration": null,
     "end_time": null,
     "exception": null,
     "start_time": null,
     "status": "completed"
    },
    "tags": []
   },
   "source": [
    "[cutadapt](https://docs.qiime2.org/2022.2/plugins/available/cutadapt/trim-paired/)\n",
    "\n",
    "We trim the forward primer and the reverse complement of the reverse primer from the forward reads. We trim the reverse primer and reverse complement of the forward primer from the reverse reads."
   ]
  },
  {
   "cell_type": "code",
   "execution_count": null,
   "id": "fd5ee674",
   "metadata": {
    "papermill": {
     "duration": null,
     "end_time": null,
     "exception": null,
     "start_time": null,
     "status": "completed"
    },
    "tags": []
   },
   "outputs": [],
   "source": [
    "demux_file_trim = os.path.join(out_dir, 'demux-paired-trim.qza')\n",
    "demux_view_trim = os.path.join(out_dir, 'demux-paired-trim.qzv')\n",
    "\n",
    "if trim and (not os.path.isfile(demux_file_trim) or replace_files):\n",
    "    forward_primer = [trim['forward_primer']] # ['CCTACGGGRSGCAGCAG']\n",
    "    reverse_primer = [trim['reverse_primer']] # ['GGACTACHVGGGTWTCTAAT']\n",
    "    forward_reverse_complement = [str(Seq(forward_primer[0]).reverse_complement())]\n",
    "    reverse_reverse_complement = [str(Seq(reverse_primer[0]).reverse_complement())]\n",
    "\n",
    "    res = None\n",
    "    \n",
    "    if n_directions == 1:\n",
    "        res = trim_single(\n",
    "            demultiplexed_sequences=artifact,\n",
    "            front=forward_primer,\n",
    "            adapter=reverse_reverse_complement,\n",
    "            cores=threads,\n",
    "            indels=False,\n",
    "            match_read_wildcards=True,\n",
    "            match_adapter_wildcards=True,\n",
    "            error_rate=0.01,\n",
    "            discard_untrimmed=True,\n",
    "        ).trimmed_sequences\n",
    "    elif n_directions == 2:\n",
    "        res = trim_paired(\n",
    "            demultiplexed_sequences=artifact,\n",
    "            front_f=forward_primer,\n",
    "            front_r=reverse_primer,\n",
    "            # adapter_f=reverse_reverse_complement,\n",
    "            # adapter_r=forward_reverse_complement,\n",
    "            cores=threads,\n",
    "            overlap=trim['overlap'],\n",
    "            indels=False,\n",
    "            match_read_wildcards=True,\n",
    "            match_adapter_wildcards=True,\n",
    "            error_rate=0.01,\n",
    "            discard_untrimmed=True,\n",
    "        ).trimmed_sequences\n",
    "    else:\n",
    "        print(f'ERROR: invalid number of directions {n_directions}')\n",
    "\n",
    "    if res is not None:\n",
    "        res.save(demux_file_trim)\n",
    "        Visualization.save(demux.visualizers.summarize(res).visualization, filepath=demux_view_trim)"
   ]
  }
 ],
 "metadata": {
  "celltoolbar": "Edit Metadata",
  "kernelspec": {
   "display_name": "Python 3 (ipykernel)",
   "language": "python",
   "name": "python3"
  },
  "language_info": {
   "codemirror_mode": {
    "name": "ipython",
    "version": 3
   },
   "file_extension": ".py",
   "mimetype": "text/x-python",
   "name": "python",
   "nbconvert_exporter": "python",
   "pygments_lexer": "ipython3",
   "version": "3.8.16"
  },
  "papermill": {
   "default_parameters": {},
   "duration": 57.533095,
   "end_time": "2024-02-17T00:09:06.577774",
   "environment_variables": {},
   "exception": null,
   "input_path": "nb-templates/step-prepare-data.ipynb",
   "output_path": "/mnt/nupeb/rede-micro/redemicro-thayane/experiments/thayane-PM-joined/nb-executed-steps/step-prepare-data-thayane-PM-joined.ipynb",
   "parameters": {
    "base_dir": "/mnt/nupeb/rede-micro/redemicro-thayane",
    "class_col": "above_10",
    "classifier_file": "/mnt/nupeb/rede-micro/datasets/16S_classifiers_qiime2/silva-138-99-nb-classifier.qza",
    "experiment_name": "thayane-PM-joined",
    "manifest_file": "/mnt/nupeb/rede-micro/redemicro-thayane/data/manifest-single.csv",
    "metadata_file": "/mnt/nupeb/rede-micro/redemicro-thayane/data/metadata.tsv",
    "overlap": 12,
    "phred": 20,
    "replace_files": false,
    "threads": 6,
    "trunc_f": 0,
    "trunc_r": 0
   },
   "start_time": "2024-02-17T00:08:09.044679",
   "version": "2.4.0"
  },
  "toc-autonumbering": false,
  "toc-showcode": false,
  "toc-showmarkdowntxt": false
 },
 "nbformat": 4,
 "nbformat_minor": 5
}