{
 "cells": [
  {
   "cell_type": "code",
   "execution_count": 1,
   "id": "0e9b7610",
   "metadata": {
    "ExecuteTime": {
     "end_time": "2023-09-04T16:38:29.551814Z",
     "start_time": "2023-09-04T16:38:19.216454Z"
    }
   },
   "outputs": [],
   "source": [
    "# Importing packages\n",
    "import os\n",
    "import pandas as pd\n",
    "import numpy as np\n",
    "from qiime2 import Artifact\n",
    "from qiime2 import Visualization\n",
    "from qiime2 import Metadata\n",
    "import qiime2.plugins.metadata.actions as metadata_actions\n",
    "from qiime2.plugins.metadata.visualizers import tabulate\n",
    "\n",
    "from qiime2.plugins import feature_classifier\n",
    "from qiime2.plugins import metadata\n",
    "from qiime2.plugins import taxa\n",
    "\n",
    "from qiime2.plugins.taxa.methods import collapse\n",
    "from qiime2.plugins.taxa.methods import filter_table\n",
    "from qiime2.plugins.feature_table.methods import filter_samples\n",
    "from qiime2.plugins.feature_table.visualizers import summarize\n",
    "from qiime2.plugins.feature_table.methods import relative_frequency\n",
    "\n",
    "import matplotlib.pyplot as plt\n",
    "import seaborn as sns\n",
    "\n",
    "from  statannot  import  add_stat_annotation\n",
    "\n",
    "%matplotlib inline\n",
    "%config InlineBackend.figure_format = 'svg'\n",
    "sns.set_theme(style=\"ticks\", palette=\"pastel\")"
   ]
  },
  {
   "cell_type": "code",
   "execution_count": 2,
   "id": "17cd554b",
   "metadata": {
    "ExecuteTime": {
     "end_time": "2023-09-04T16:38:34.199058Z",
     "start_time": "2023-09-04T16:38:29.554634Z"
    },
    "scrolled": false
   },
   "outputs": [
    {
     "name": "stdout",
     "output_type": "stream",
     "text": [
      "Collecting scikit-learn==0.23.1\n",
      "  Using cached scikit_learn-0.23.1-cp38-cp38-manylinux1_x86_64.whl (6.7 MB)\n",
      "Requirement already satisfied: numpy>=1.13.3 in /home/lauro/anaconda3/envs/qiime2-2022.2/lib/python3.8/site-packages (from scikit-learn==0.23.1) (1.22.2)\n",
      "Requirement already satisfied: scipy>=0.19.1 in /home/lauro/anaconda3/envs/qiime2-2022.2/lib/python3.8/site-packages (from scikit-learn==0.23.1) (1.8.0)\n",
      "Requirement already satisfied: threadpoolctl>=2.0.0 in /home/lauro/anaconda3/envs/qiime2-2022.2/lib/python3.8/site-packages (from scikit-learn==0.23.1) (3.1.0)\n",
      "Requirement already satisfied: joblib>=0.11 in /home/lauro/anaconda3/envs/qiime2-2022.2/lib/python3.8/site-packages (from scikit-learn==0.23.1) (1.3.2)\n",
      "Installing collected packages: scikit-learn\n",
      "Successfully installed scikit-learn-0.23.1\n",
      "Note: you may need to restart the kernel to use updated packages.\n"
     ]
    }
   ],
   "source": [
    "# install scikit-learn specific version to use trained classifier\n",
    "%pip install --user 'scikit-learn==0.23.1'\n",
    "#%pip install -U scikit-learn"
   ]
  },
  {
   "cell_type": "code",
   "execution_count": 3,
   "id": "0f54b9c1",
   "metadata": {
    "ExecuteTime": {
     "end_time": "2023-09-04T16:38:34.209727Z",
     "start_time": "2023-09-04T16:38:34.201647Z"
    }
   },
   "outputs": [],
   "source": [
    "# Parameters\n",
    "experiment_name = \"thayane-PM-joined\"\n",
    "base_dir = \"/home/lauro/nupeb/rede-micro/redemicro-thayane\"\n",
    "manifest_file = (\n",
    "    \"/home/lauro/nupeb/rede-micro/redemicro-thayane/data/manifest-single.csv\"\n",
    ")\n",
    "metadata_file = \"/home/lauro/nupeb/rede-micro/redemicro-thayane/data/metadata.tsv\"\n",
    "class_col = \"above_10\"\n",
    "classifier_file = (\n",
    "    \"/home/lauro/nupeb/rede-micro/models/16S_classifiers_qiime2/silva-138-99-nb-classifier.qza\"\n",
    ")\n",
    "replace_files = False\n",
    "phred = 20\n",
    "trunc_f = 0\n",
    "trunc_r = 0\n",
    "overlap = 12\n",
    "threads = 6"
   ]
  },
  {
   "cell_type": "code",
   "execution_count": 4,
   "id": "2192c2b4",
   "metadata": {
    "ExecuteTime": {
     "end_time": "2023-09-04T16:38:34.391273Z",
     "start_time": "2023-09-04T16:38:34.212577Z"
    }
   },
   "outputs": [],
   "source": [
    "experiment_folder = os.path.abspath(os.path.join(base_dir, 'experiments', experiment_name))\n",
    "img_folder = os.path.abspath(os.path.join(experiment_folder, 'imgs'))\n",
    "sheet_folder = os.path.abspath(os.path.join(experiment_folder, 'sheets'))\n",
    "!mkdir -p {sheet_folder}"
   ]
  },
  {
   "cell_type": "code",
   "execution_count": 5,
   "id": "622770fe",
   "metadata": {
    "ExecuteTime": {
     "end_time": "2023-09-04T16:38:34.403568Z",
     "start_time": "2023-09-04T16:38:34.393792Z"
    }
   },
   "outputs": [],
   "source": [
    "tax_level = ['Kingdom', 'Phylum', 'Class', 'Order', 'Family', 'Genus', 'Species']\n",
    "\n",
    "# QIIME2 Artifacts folder\n",
    "qiime_folder = os.path.join(experiment_folder, 'qiime-artifacts')\n",
    "\n",
    "# Input - DADA2 Artifacts\n",
    "dada2_tabs_path = os.path.join(qiime_folder, 'dada2-tabs.qza')\n",
    "dada2_reps_path = os.path.join(qiime_folder, 'dada2-reps.qza')\n",
    "dada2_stat_path = os.path.join(qiime_folder, 'dada2-stat.qza')\n",
    "\n",
    "# Input - Taxonomy Classifier - SILVA 138-99\n",
    "classifier_path = classifier_file\n",
    "# classifier_path = os.path.abspath(os.path.join(os.getcwd(), '..', 'models', 'silva-138-99-nb-classifier.qza'))\n",
    "\n",
    "# Output - Excel file\n",
    "excel_path = os.path.join(sheet_folder, 'abundances.xlsx')\n",
    "\n",
    "# Output - Metataxonomy Artifact\n",
    "metatax_path = os.path.join(qiime_folder, 'metatax.qza')\n",
    "metatax_view_path = os.path.join(qiime_folder, 'metatax.qzv')\n",
    "metatax_bar_path = os.path.join(qiime_folder, 'metatax-bar.qzv')\n",
    "\n",
    "# Flag - Load or create files\n",
    "need_tax = not (os.path.isfile(metatax_path)) or replace_files\n",
    "need_view = not (os.path.isfile(metatax_view_path) or os.path.isfile(metatax_bar_path)) or replace_files"
   ]
  },
  {
   "cell_type": "code",
   "execution_count": 6,
   "id": "847813d8",
   "metadata": {
    "ExecuteTime": {
     "end_time": "2023-09-04T16:38:34.428224Z",
     "start_time": "2023-09-04T16:38:34.405669Z"
    }
   },
   "outputs": [],
   "source": [
    "metadata_qa = Metadata.load(metadata_file)\n",
    "metadata_df = metadata_qa.to_dataframe()\n",
    "groups_values = list(metadata_qa.get_column(class_col).to_series().unique())\n",
    "# tabulate(metadata_qa).visualization"
   ]
  },
  {
   "cell_type": "code",
   "execution_count": 7,
   "id": "f8721bbf",
   "metadata": {
    "ExecuteTime": {
     "end_time": "2023-09-04T16:38:34.447544Z",
     "start_time": "2023-09-04T16:38:34.429932Z"
    },
    "scrolled": true
   },
   "outputs": [],
   "source": [
    "readytowear_path = os.path.abspath(os.path.join(base_dir, '..', 'readytowear'))\n",
    "dataset_path = os.path.join(readytowear_path, 'data', 'silva_138', '515f-806r')\n",
    "dataset_ref_seqs_path = os.path.join(dataset_path, 'ref-seqs.qza')\n",
    "dataset_ref_tax_path = os.path.join(dataset_path, 'ref-tax.qza')\n",
    "dataset_ref_weight_path = os.path.join(dataset_path, 'human-stool.qza')\n",
    "\n",
    "custom_classifier_path = os.path.join(os.path.dirname(classifier_path), 'silva_138_human-stool_classifier.qza')"
   ]
  },
  {
   "cell_type": "code",
   "execution_count": 8,
   "id": "9789508c",
   "metadata": {
    "ExecuteTime": {
     "end_time": "2023-09-04T16:38:35.054011Z",
     "start_time": "2023-09-04T16:38:34.449712Z"
    }
   },
   "outputs": [
    {
     "name": "stdout",
     "output_type": "stream",
     "text": [
      "-rw-rw-r-- 1 lauro lauro 14M Aug 22 18:02 /home/lauro/nupeb/rede-micro/readytowear/data/silva_138/515f-806r/ref-seqs.qza\n",
      "-rw-rw-r-- 1 lauro lauro 5.4M Aug 22 18:02 /home/lauro/nupeb/rede-micro/readytowear/data/silva_138/515f-806r/ref-tax.qza\n",
      "-rw-rw-r-- 1 lauro lauro 2.1M Aug 22 18:02 /home/lauro/nupeb/rede-micro/readytowear/data/silva_138/515f-806r/human-stool.qza\n",
      "-rw-rw-r-- 1 lauro lauro 147M Aug 30 23:58 /home/lauro/nupeb/rede-micro/models/16S_classifiers_qiime2/silva_138_human-stool_classifier.qza\n"
     ]
    }
   ],
   "source": [
    "bash_args = [dataset_ref_seqs_path, dataset_ref_tax_path, dataset_ref_weight_path, custom_classifier_path]\n",
    "for a in bash_args:\n",
    "    !ls -lah {a}"
   ]
  },
  {
   "cell_type": "code",
   "execution_count": 9,
   "id": "ada5d7e1",
   "metadata": {
    "ExecuteTime": {
     "end_time": "2023-09-04T16:38:35.061336Z",
     "start_time": "2023-09-04T16:38:35.056497Z"
    }
   },
   "outputs": [],
   "source": [
    "# %%bash -s \"$dataset_ref_seqs_path\" \"$dataset_ref_tax_path\" \"$dataset_ref_weight_path\" \"$custom_classifier_path\"\n",
    "\n",
    "# # ls -lah ${1}\n",
    "# # ls -lah ${2}\n",
    "# # ls -lah ${3}\n",
    "# # ls -lah ${4}\n",
    "\n",
    "# qiime feature-classifier fit-classifier-naive-bayes \\\n",
    "#   --i-reference-reads ${1} \\\n",
    "#   --i-reference-taxonomy ${2} \\\n",
    "#   --i-class-weight ${3} \\\n",
    "#   --o-classifier ${4}\n",
    "#   --verbose"
   ]
  },
  {
   "cell_type": "code",
   "execution_count": 10,
   "id": "62850537",
   "metadata": {
    "ExecuteTime": {
     "end_time": "2023-09-04T16:39:16.392614Z",
     "start_time": "2023-09-04T16:38:35.064847Z"
    }
   },
   "outputs": [
    {
     "name": "stdout",
     "output_type": "stream",
     "text": [
      "(313734, 1) - (313734, 1) - (1, 67689)\n"
     ]
    }
   ],
   "source": [
    "from qiime2.plugins.feature_classifier.methods import fit_classifier_naive_bayes\n",
    "\n",
    "full_lenght = False\n",
    "dataset_type = ('silva_138', 'gg_13_8')[0]\n",
    "size_type = 'full_length' if full_lenght else'515f-806r'\n",
    "weight_type = ('human-stool', )[0]\n",
    "\n",
    "\n",
    "# Define paths\n",
    "readytowear_path = os.path.join(base_dir, '..', 'readytowear')\n",
    "dataset_path = os.path.join(readytowear_path, 'data', dataset_type, size_type)\n",
    "dataset_ref_seqs_path = os.path.join(dataset_path, 'ref-seqs.qza')\n",
    "#dataset_ref_seqs_path = \"/home/lauro/nupeb/rede-micro/models/silva-138-99-seqs.qza\"\n",
    "dataset_ref_tax_path = os.path.join(dataset_path, 'ref-tax.qza')\n",
    "#dataset_ref_tax_path = \"/home/lauro/nupeb/rede-micro/models/silva-138-99-tax.qza\"\n",
    "dataset_ref_weight_path = os.path.join(dataset_path, f'{weight_type}.qza')\n",
    "\n",
    "custom_classifier_path = os.path.join(os.path.dirname(classifier_path), f'{dataset_type}_{weight_type}_classifier.qza')\n",
    "\n",
    "\n",
    "# Load data\n",
    "dataset_ref_seqs = Artifact.load(dataset_ref_seqs_path)\n",
    "dataset_ref_tax = Artifact.load(dataset_ref_tax_path)\n",
    "dataset_ref_weight = Artifact.load(dataset_ref_weight_path)\n",
    "\n",
    "\n",
    "# Set DataFrames\n",
    "dataset_ref_tax_df = dataset_ref_tax.view(Metadata).to_dataframe()\n",
    "dataset_ref_seqs_df = dataset_ref_seqs.view(Metadata).to_dataframe()\n",
    "dataset_ref_weight_df = dataset_ref_weight.view(Metadata).to_dataframe()\n",
    "print(f'{dataset_ref_seqs_df.shape} - {dataset_ref_tax_df.shape} - {dataset_ref_weight_df.shape}')"
   ]
  },
  {
   "cell_type": "code",
   "execution_count": 11,
   "id": "ff013b6b",
   "metadata": {
    "ExecuteTime": {
     "end_time": "2023-09-04T16:39:37.268462Z",
     "start_time": "2023-09-04T16:39:16.394150Z"
    }
   },
   "outputs": [],
   "source": [
    "try:\n",
    "    # Loading a trained probabilistic Naive Bayes model \n",
    "    classifier_naive_bayes = Artifact.load(custom_classifier_path)\n",
    "except:\n",
    "    # Traning probabilistic Naive Bayes model \n",
    "    classifier_naive_bayes \t= fit_classifier_naive_bayes(\n",
    "        reference_reads \t= dataset_ref_seqs, # FeatureData[Sequence]\n",
    "        reference_taxonomy\t= dataset_ref_tax, # FeatureData[Taxonomy]\n",
    "        class_weight\t\t= dataset_ref_weight, # FeatureTable[RelativeFrequency], optional\n",
    "        verbose = True,\n",
    "    ).classifier\n",
    "    classifier_naive_bayes.save(custom_classifier_path)"
   ]
  },
  {
   "cell_type": "code",
   "execution_count": 12,
   "id": "9e5b10cb",
   "metadata": {
    "ExecuteTime": {
     "end_time": "2023-09-04T16:39:37.298596Z",
     "start_time": "2023-09-04T16:39:37.270279Z"
    }
   },
   "outputs": [],
   "source": [
    "# Load FeatureData[Sequence] Artifact\n",
    "reps = Artifact.load(dada2_reps_path)\n",
    "\n",
    "# Load FeatureTable[Frequency] Artifact\n",
    "tabs = Artifact.load(dada2_tabs_path)\n",
    "asv_df = tabs.view(pd.DataFrame)"
   ]
  },
  {
   "cell_type": "code",
   "execution_count": 13,
   "id": "df0ed735",
   "metadata": {
    "ExecuteTime": {
     "end_time": "2023-09-04T16:39:39.246414Z",
     "start_time": "2023-09-04T16:39:37.300376Z"
    }
   },
   "outputs": [],
   "source": [
    "if not need_tax:\n",
    "    \n",
    "    # Load FeatureData[Taxonomy]\n",
    "    metatax_qa = Artifact.load(metatax_path)\n",
    "    \n",
    "else:\n",
    "    \n",
    "    # Load TaxonomicClassifier Artifact\n",
    "    classifier = Artifact.load(classifier_path)\n",
    "    \n",
    "    # Classify ASV features and create a new FeatureData[Taxonomy]\n",
    "    metatax_qa = feature_classifier.methods.classify_sklearn(reads=reps, classifier=classifier_naive_bayes, n_jobs=threads).classification\n",
    "\n",
    "    # Save FeatureData[Taxonomy] Artifact\n",
    "    metatax_qa.save(metatax_path)\n",
    "\n",
    "metatax_df = metatax_qa.view(pd.DataFrame)"
   ]
  },
  {
   "cell_type": "code",
   "execution_count": 14,
   "id": "39f411ce",
   "metadata": {
    "ExecuteTime": {
     "end_time": "2023-09-04T16:48:18.604344Z",
     "start_time": "2023-09-04T16:39:39.248288Z"
    }
   },
   "outputs": [
    {
     "name": "stdout",
     "output_type": "stream",
     "text": [
      "{'reads_per_batch': 'auto', 'n_jobs': 6, 'pre_dispatch': '2*n_jobs', 'confidence': 0.7, 'read_orientation': 'auto', 'reads': <q2_types.feature_data._format.DNAFASTAFormat object at 0x7f767f03da00>, 'classifier': Pipeline(steps=[('feat_ext',\n",
      "                 HashingVectorizer(alternate_sign=False, analyzer='char_wb',\n",
      "                                   n_features=8192, ngram_range=(7, 7))),\n",
      "                ['classify',\n",
      "                 LowMemoryMultinomialNB(alpha=0.001,\n",
      "                                        class_prior=(1.4773449157174732e-11,\n",
      "                                                     1.4773449157174732e-11,\n",
      "                                                     7.313934443004958e-08,\n",
      "                                                     1.4773449157174732e-11,\n",
      "                                                     1.4773449157174732e-11,\n",
      "                                                     1.4773449157174732e-11,\n",
      "                                                     1.4773449157174732e-11,\n",
      "                                                     1.477344...\n",
      "                                                     1.4773449157174732e-11,\n",
      "                                                     1.4773449157174732e-11,\n",
      "                                                     1.4773449157174732e-11,\n",
      "                                                     1.4773449157174732e-11,\n",
      "                                                     1.4773449157174732e-11,\n",
      "                                                     1.4773449157174732e-11,\n",
      "                                                     1.4773449157174732e-11,\n",
      "                                                     4.253879013266879e-09,\n",
      "                                                     1.4773449157174732e-11,\n",
      "                                                     1.0745498401846007e-09,\n",
      "                                                     1.4773449157174732e-11,\n",
      "                                                     1.4773449157174732e-11,\n",
      "                                                     2.1343262312120268e-09,\n",
      "                                                     1.4773449157174732e-11, ...),\n",
      "                                        fit_prior=False)]],\n",
      "         verbose=True)}\n",
      "{'reads_per_batch': 'auto', 'n_jobs': 6, 'pre_dispatch': '2*n_jobs', 'confidence': 0.7, 'read_orientation': 'auto', 'reads': <q2_types.feature_data._format.DNAFASTAFormat object at 0x7f767f03da00>, 'classifier': Pipeline(steps=[('feat_ext',\n",
      "                 HashingVectorizer(alternate_sign=False, analyzer='char_wb',\n",
      "                                   n_features=8192, ngram_range=(7, 7))),\n",
      "                ['classify',\n",
      "                 LowMemoryMultinomialNB(alpha=0.001,\n",
      "                                        class_prior=(1.4773449157174732e-11,\n",
      "                                                     1.4773449157174732e-11,\n",
      "                                                     7.313934443004958e-08,\n",
      "                                                     1.4773449157174732e-11,\n",
      "                                                     1.4773449157174732e-11,\n",
      "                                                     1.4773449157174732e-11,\n",
      "                                                     1.4773449157174732e-11,\n",
      "                                                     1.477344...\n",
      "                                                     1.4773449157174732e-11,\n",
      "                                                     1.4773449157174732e-11,\n",
      "                                                     1.4773449157174732e-11,\n",
      "                                                     1.4773449157174732e-11,\n",
      "                                                     1.4773449157174732e-11,\n",
      "                                                     1.4773449157174732e-11,\n",
      "                                                     1.4773449157174732e-11,\n",
      "                                                     4.253879013266879e-09,\n",
      "                                                     1.4773449157174732e-11,\n",
      "                                                     1.0745498401846007e-09,\n",
      "                                                     1.4773449157174732e-11,\n",
      "                                                     1.4773449157174732e-11,\n",
      "                                                     2.1343262312120268e-09,\n",
      "                                                     1.4773449157174732e-11, ...),\n",
      "                                        fit_prior=False)]],\n",
      "         verbose=True)}\n"
     ]
    },
    {
     "data": {
      "text/plain": [
       "<artifact: FeatureData[Taxonomy] uuid: cbf75a41-6003-481e-a082-945eed71fadb>"
      ]
     },
     "execution_count": 14,
     "metadata": {},
     "output_type": "execute_result"
    }
   ],
   "source": [
    "metatax_naive_qa_path = os.path.join(qiime_folder, f'{dataset_type}_{weight_type}_metatax.qza')\n",
    "if not os.path.exists(metatax_naive_qa_path):\n",
    "    metatax_naive_qa = feature_classifier.methods.classify_sklearn(reads=reps, classifier=classifier_naive_bayes, n_jobs=threads).classification\n",
    "    metatax_naive_qa.save(metatax_naive_qa_path)\n",
    "else:\n",
    "    metatax_naive_qa = Artifact.load(metatax_naive_qa_path)\n",
    "metatax_naive_qa"
   ]
  },
  {
   "cell_type": "code",
   "execution_count": 15,
   "id": "3282b0ec",
   "metadata": {
    "ExecuteTime": {
     "end_time": "2023-09-04T16:48:25.115466Z",
     "start_time": "2023-09-04T16:48:18.631052Z"
    }
   },
   "outputs": [
    {
     "name": "stdout",
     "output_type": "stream",
     "text": [
      "{'input': Metadata\n",
      "--------\n",
      "1736 IDs x 2 columns\n",
      "Taxon:      ColumnProperties(type='categorical')\n",
      "Confidence: ColumnProperties(type='categorical')\n",
      "\n",
      "Call to_dataframe() for a tabular representation., 'page_size': 100}\n",
      "{'metadata': Metadata\n",
      "--------\n",
      "44 IDs x 8 columns\n",
      "class-straw:        ColumnProperties(type='categorical')\n",
      "local-coleta:       ColumnProperties(type='categorical')\n",
      "idade:              ColumnProperties(type='numeric')\n",
      "idade-menarca:      ColumnProperties(type='numeric')\n",
      "tempo-menopausa:    ColumnProperties(type='numeric')\n",
      "above_10:           ColumnProperties(type='categorical')\n",
      "menopausa-age-qcut: ColumnProperties(type='categorical')\n",
      "menopausa-age-bins: ColumnProperties(type='categorical')\n",
      "\n",
      "Call to_dataframe() for a tabular representation., 'table': 1736 x 44 <class 'biom.table.Table'> with 2090 nonzero entries (2% dense), 'taxonomy': Feature ID\n",
      "00051a78b3e1ecd27314247dff25a208    d__Bacteria; p__Firmicutes; c__Clostridia; o__...\n",
      "000f8bfd8a4b2441d868821eef660ecc    d__Bacteria; p__Firmicutes; c__Clostridia; o__...\n",
      "0053504a75cbad644658d68e0d32aa7e                                          d__Bacteria\n",
      "00d94a1863ec0f2c06c4ad049604e60e    d__Bacteria; p__Bacteroidota; c__Bacteroidia; ...\n",
      "010045ee9c16bba62338fd5d55530b6a    d__Bacteria; p__Firmicutes; c__Clostridia; o__...\n",
      "                                                          ...                        \n",
      "ffc62661b58a6f59ad20e7ad34405896    d__Bacteria; p__Firmicutes; c__Clostridia; o__...\n",
      "ffc9b5e055dca60dab5f464147875e3a    d__Bacteria; p__Firmicutes; c__Clostridia; o__...\n",
      "ffca45f65366280127b61f681a7b9d7f    d__Bacteria; p__Firmicutes; c__Clostridia; o__...\n",
      "ffcebd381e84cfe83cdacd5f6a6c25b4                                          d__Bacteria\n",
      "fff0ea2bfed7ded0d6e2d0b6db49329e                                          d__Bacteria\n",
      "Name: Taxon, Length: 1736, dtype: object}\n"
     ]
    },
    {
     "data": {
      "text/plain": [
       "'/home/lauro/nupeb/rede-micro/redemicro-thayane/experiments/thayane-PM-joined/qiime-artifacts/silva_138_human-stool_metatax_bar.qzv'"
      ]
     },
     "execution_count": 15,
     "metadata": {},
     "output_type": "execute_result"
    }
   ],
   "source": [
    "metatax_naive_qv = metadata.visualizers.tabulate(metatax_naive_qa.view(Metadata))\n",
    "metatax_naive_qv.visualization.save(os.path.join(qiime_folder, f'{dataset_type}_{weight_type}_metatax.qzv'))\n",
    "\n",
    "# Barplot Visualization\n",
    "# Next, we can view the taxonomic composition of our samples with interactive bar plots. \n",
    "# Generate those plots with the following command and then open the visualization.\n",
    "metatax_naive_bar_qv = taxa.visualizers.barplot(tabs, metatax_naive_qa, metadata_qa)\n",
    "metatax_naive_bar_qv.visualization.save(os.path.join(qiime_folder, f'{dataset_type}_{weight_type}_metatax_bar.qzv'))"
   ]
  },
  {
   "cell_type": "code",
   "execution_count": 16,
   "id": "6262a129",
   "metadata": {
    "ExecuteTime": {
     "end_time": "2023-09-04T16:48:25.191863Z",
     "start_time": "2023-09-04T16:48:25.117051Z"
    }
   },
   "outputs": [
    {
     "data": {
      "text/html": [
       "<div>\n",
       "<style scoped>\n",
       "    .dataframe tbody tr th:only-of-type {\n",
       "        vertical-align: middle;\n",
       "    }\n",
       "\n",
       "    .dataframe tbody tr th {\n",
       "        vertical-align: top;\n",
       "    }\n",
       "\n",
       "    .dataframe thead th {\n",
       "        text-align: right;\n",
       "    }\n",
       "</style>\n",
       "<table border=\"1\" class=\"dataframe\">\n",
       "  <thead>\n",
       "    <tr style=\"text-align: right;\">\n",
       "      <th></th>\n",
       "      <th>Taxon</th>\n",
       "      <th>Confidence</th>\n",
       "    </tr>\n",
       "    <tr>\n",
       "      <th>Feature ID</th>\n",
       "      <th></th>\n",
       "      <th></th>\n",
       "    </tr>\n",
       "  </thead>\n",
       "  <tbody>\n",
       "    <tr>\n",
       "      <th>00051a78b3e1ecd27314247dff25a208</th>\n",
       "      <td>d__Bacteria; p__Firmicutes; c__Clostridia; o__...</td>\n",
       "      <td>0.9488269323665718</td>\n",
       "    </tr>\n",
       "    <tr>\n",
       "      <th>000f8bfd8a4b2441d868821eef660ecc</th>\n",
       "      <td>d__Bacteria; p__Firmicutes; c__Clostridia; o__...</td>\n",
       "      <td>0.8661924544634567</td>\n",
       "    </tr>\n",
       "    <tr>\n",
       "      <th>0053504a75cbad644658d68e0d32aa7e</th>\n",
       "      <td>d__Bacteria</td>\n",
       "      <td>0.9987023990949311</td>\n",
       "    </tr>\n",
       "    <tr>\n",
       "      <th>00d94a1863ec0f2c06c4ad049604e60e</th>\n",
       "      <td>d__Bacteria; p__Bacteroidota; c__Bacteroidia; ...</td>\n",
       "      <td>0.9468840020912782</td>\n",
       "    </tr>\n",
       "    <tr>\n",
       "      <th>010045ee9c16bba62338fd5d55530b6a</th>\n",
       "      <td>d__Bacteria; p__Firmicutes; c__Clostridia; o__...</td>\n",
       "      <td>0.9998942428574114</td>\n",
       "    </tr>\n",
       "    <tr>\n",
       "      <th>...</th>\n",
       "      <td>...</td>\n",
       "      <td>...</td>\n",
       "    </tr>\n",
       "    <tr>\n",
       "      <th>ffc62661b58a6f59ad20e7ad34405896</th>\n",
       "      <td>d__Bacteria; p__Firmicutes; c__Clostridia; o__...</td>\n",
       "      <td>0.9938381044094249</td>\n",
       "    </tr>\n",
       "    <tr>\n",
       "      <th>ffc9b5e055dca60dab5f464147875e3a</th>\n",
       "      <td>d__Bacteria; p__Firmicutes; c__Clostridia; o__...</td>\n",
       "      <td>0.9971181754570829</td>\n",
       "    </tr>\n",
       "    <tr>\n",
       "      <th>ffca45f65366280127b61f681a7b9d7f</th>\n",
       "      <td>d__Bacteria; p__Firmicutes; c__Clostridia; o__...</td>\n",
       "      <td>0.9816544470032202</td>\n",
       "    </tr>\n",
       "    <tr>\n",
       "      <th>ffcebd381e84cfe83cdacd5f6a6c25b4</th>\n",
       "      <td>d__Archaea; p__Euryarchaeota; c__Methanobacter...</td>\n",
       "      <td>0.9588285063292007</td>\n",
       "    </tr>\n",
       "    <tr>\n",
       "      <th>fff0ea2bfed7ded0d6e2d0b6db49329e</th>\n",
       "      <td>d__Bacteria; p__Firmicutes; c__Negativicutes; ...</td>\n",
       "      <td>0.9999804010837067</td>\n",
       "    </tr>\n",
       "  </tbody>\n",
       "</table>\n",
       "<p>1736 rows × 2 columns</p>\n",
       "</div>"
      ],
      "text/plain": [
       "                                                                              Taxon  \\\n",
       "Feature ID                                                                            \n",
       "00051a78b3e1ecd27314247dff25a208  d__Bacteria; p__Firmicutes; c__Clostridia; o__...   \n",
       "000f8bfd8a4b2441d868821eef660ecc  d__Bacteria; p__Firmicutes; c__Clostridia; o__...   \n",
       "0053504a75cbad644658d68e0d32aa7e                                        d__Bacteria   \n",
       "00d94a1863ec0f2c06c4ad049604e60e  d__Bacteria; p__Bacteroidota; c__Bacteroidia; ...   \n",
       "010045ee9c16bba62338fd5d55530b6a  d__Bacteria; p__Firmicutes; c__Clostridia; o__...   \n",
       "...                                                                             ...   \n",
       "ffc62661b58a6f59ad20e7ad34405896  d__Bacteria; p__Firmicutes; c__Clostridia; o__...   \n",
       "ffc9b5e055dca60dab5f464147875e3a  d__Bacteria; p__Firmicutes; c__Clostridia; o__...   \n",
       "ffca45f65366280127b61f681a7b9d7f  d__Bacteria; p__Firmicutes; c__Clostridia; o__...   \n",
       "ffcebd381e84cfe83cdacd5f6a6c25b4  d__Archaea; p__Euryarchaeota; c__Methanobacter...   \n",
       "fff0ea2bfed7ded0d6e2d0b6db49329e  d__Bacteria; p__Firmicutes; c__Negativicutes; ...   \n",
       "\n",
       "                                          Confidence  \n",
       "Feature ID                                            \n",
       "00051a78b3e1ecd27314247dff25a208  0.9488269323665718  \n",
       "000f8bfd8a4b2441d868821eef660ecc  0.8661924544634567  \n",
       "0053504a75cbad644658d68e0d32aa7e  0.9987023990949311  \n",
       "00d94a1863ec0f2c06c4ad049604e60e  0.9468840020912782  \n",
       "010045ee9c16bba62338fd5d55530b6a  0.9998942428574114  \n",
       "...                                              ...  \n",
       "ffc62661b58a6f59ad20e7ad34405896  0.9938381044094249  \n",
       "ffc9b5e055dca60dab5f464147875e3a  0.9971181754570829  \n",
       "ffca45f65366280127b61f681a7b9d7f  0.9816544470032202  \n",
       "ffcebd381e84cfe83cdacd5f6a6c25b4  0.9588285063292007  \n",
       "fff0ea2bfed7ded0d6e2d0b6db49329e  0.9999804010837067  \n",
       "\n",
       "[1736 rows x 2 columns]"
      ]
     },
     "execution_count": 16,
     "metadata": {},
     "output_type": "execute_result"
    }
   ],
   "source": [
    "metatax_df = metatax_qa.view(pd.DataFrame)\n",
    "metatax_df"
   ]
  }
 ],
 "metadata": {
  "kernelspec": {
   "display_name": "Python 3 (ipykernel)",
   "language": "python",
   "name": "python3"
  },
  "language_info": {
   "codemirror_mode": {
    "name": "ipython",
    "version": 3
   },
   "file_extension": ".py",
   "mimetype": "text/x-python",
   "name": "python",
   "nbconvert_exporter": "python",
   "pygments_lexer": "ipython3",
   "version": "3.8.12"
  }
 },
 "nbformat": 4,
 "nbformat_minor": 5
}
