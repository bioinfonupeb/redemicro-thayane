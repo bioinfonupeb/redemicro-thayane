{
 "cells": [
  {
   "cell_type": "markdown",
   "id": "3e605c37",
   "metadata": {
    "papermill": {
     "duration": 0.021892,
     "end_time": "2023-08-16T08:40:58.056917",
     "exception": false,
     "start_time": "2023-08-16T08:40:58.035025",
     "status": "completed"
    },
    "tags": []
   },
   "source": [
    "# Quality Control and ASV table construction with DADA2"
   ]
  },
  {
   "cell_type": "markdown",
   "id": "23784b30",
   "metadata": {
    "papermill": {
     "duration": 0.085205,
     "end_time": "2023-08-16T08:40:58.213502",
     "exception": false,
     "start_time": "2023-08-16T08:40:58.128297",
     "status": "completed"
    },
    "tags": []
   },
   "source": [
    "## Setup and settings"
   ]
  },
  {
   "cell_type": "code",
   "execution_count": 1,
   "id": "c0ffdeb9",
   "metadata": {
    "ExecuteTime": {
     "end_time": "2022-06-29T18:49:49.974644Z",
     "start_time": "2022-06-29T18:49:30.876897Z"
    },
    "execution": {
     "iopub.execute_input": "2023-08-16T08:40:58.243160Z",
     "iopub.status.busy": "2023-08-16T08:40:58.242618Z",
     "iopub.status.idle": "2023-08-16T08:41:04.773556Z",
     "shell.execute_reply": "2023-08-16T08:41:04.772794Z"
    },
    "papermill": {
     "duration": 6.549155,
     "end_time": "2023-08-16T08:41:04.776819",
     "exception": false,
     "start_time": "2023-08-16T08:40:58.227664",
     "status": "completed"
    },
    "tags": []
   },
   "outputs": [],
   "source": [
    "# Importing packages\n",
    "import os\n",
    "import yaml\n",
    "import logging\n",
    "import pandas as pd\n",
    "from qiime2 import Artifact\n",
    "from qiime2 import Visualization\n",
    "from qiime2 import Metadata\n",
    "import qiime2.plugins.dada2.actions as dada2_actions\n",
    "import qiime2.plugins.metadata.actions as metadata_actions\n",
    "from qiime2.plugins.feature_table.visualizers import tabulate_seqs\n",
    "from qiime2.plugins.feature_table.visualizers import summarize\n",
    "from qiime2.plugins.feature_table.visualizers import core_features\n",
    "from qiime2.plugins.feature_table.methods import filter_samples\n",
    "from qiime2.plugins.feature_table.methods import filter_seqs\n",
    "\n",
    "import matplotlib.pyplot as plt\n",
    "\n",
    "%matplotlib inline"
   ]
  },
  {
   "cell_type": "markdown",
   "id": "0aad2f47",
   "metadata": {
    "papermill": {
     "duration": 0.014266,
     "end_time": "2023-08-16T08:41:04.813429",
     "exception": false,
     "start_time": "2023-08-16T08:41:04.799163",
     "status": "completed"
    },
    "tags": []
   },
   "source": [
    "### Receiving the parameters\n",
    "\n",
    "The following cell can receive parameters using the [papermill](https://papermill.readthedocs.io/en/latest/) tool."
   ]
  },
  {
   "cell_type": "code",
   "execution_count": 2,
   "id": "79894bdc",
   "metadata": {
    "ExecuteTime": {
     "end_time": "2022-06-29T18:54:01.035034Z",
     "start_time": "2022-06-29T18:54:01.028724Z"
    },
    "execution": {
     "iopub.execute_input": "2023-08-16T08:41:04.844287Z",
     "iopub.status.busy": "2023-08-16T08:41:04.843760Z",
     "iopub.status.idle": "2023-08-16T08:41:04.850052Z",
     "shell.execute_reply": "2023-08-16T08:41:04.849337Z"
    },
    "papermill": {
     "duration": 0.023419,
     "end_time": "2023-08-16T08:41:04.851644",
     "exception": false,
     "start_time": "2023-08-16T08:41:04.828225",
     "status": "completed"
    },
    "tags": [
     "parameters"
    ]
   },
   "outputs": [],
   "source": [
    "experiment_name = 'ana-flavia-superlactacao'\n",
    "base_dir = os.path.join('/', 'home', 'lauro', 'nupeb', 'redemicro')\n",
    "metadata_file = os.path.join(base_dir, 'data', 'raw', 'metadata', 'sample-metadata.tsv')\n",
    "manifest_file = os.path.join(base_dir, 'data', 'raw', 'manifest', 'sample-manifest.csv')\n",
    "replace_files = False\n",
    "phred = 20\n",
    "trunc_f = 0\n",
    "trunc_r = 0\n",
    "overlap = 12\n",
    "threads = 6\n",
    "trim = None"
   ]
  },
  {
   "cell_type": "code",
   "execution_count": 3,
   "id": "7d77d0c6",
   "metadata": {
    "execution": {
     "iopub.execute_input": "2023-08-16T08:41:04.883042Z",
     "iopub.status.busy": "2023-08-16T08:41:04.882629Z",
     "iopub.status.idle": "2023-08-16T08:41:04.888889Z",
     "shell.execute_reply": "2023-08-16T08:41:04.888139Z"
    },
    "papermill": {
     "duration": 0.023248,
     "end_time": "2023-08-16T08:41:04.890361",
     "exception": false,
     "start_time": "2023-08-16T08:41:04.867113",
     "status": "completed"
    },
    "tags": [
     "injected-parameters"
    ]
   },
   "outputs": [],
   "source": [
    "# Parameters\n",
    "base_dir = \"/home/lauro/nupeb/rede-micro/redemicro-thayane\"\n",
    "class_col = \"above_10\"\n",
    "classifier_file = (\n",
    "    \"/home/lauro/nupeb/16S_classifiers_qiime2/silva-138-99-nb-classifier.qza\"\n",
    ")\n",
    "experiment_name = \"thayane-PM-paired-end-trim-overlap-09\"\n",
    "manifest_file = (\n",
    "    \"/home/lauro/nupeb/rede-micro/redemicro-thayane/data/manifest-paired.csv\"\n",
    ")\n",
    "metadata_file = (\n",
    "    \"/home/lauro/nupeb/rede-micro/redemicro-thayane/data/paired-end-metadata.tsv\"\n",
    ")\n",
    "overlap = 9\n",
    "phred = 20\n",
    "replace_files = False\n",
    "threads = 6\n",
    "trim = {\n",
    "    \"forward_primer\": \"CCTACGGGRSGCAGCAG\",\n",
    "    \"overlap\": 8,\n",
    "    \"reverse_primer\": \"GGACTACHVGGGTWTCTAAT\",\n",
    "}\n",
    "trunc_f = 0\n",
    "trunc_r = 0\n"
   ]
  },
  {
   "cell_type": "code",
   "execution_count": 4,
   "id": "f97b39fd",
   "metadata": {
    "execution": {
     "iopub.execute_input": "2023-08-16T08:41:04.920888Z",
     "iopub.status.busy": "2023-08-16T08:41:04.920389Z",
     "iopub.status.idle": "2023-08-16T08:41:04.929403Z",
     "shell.execute_reply": "2023-08-16T08:41:04.928468Z"
    },
    "papermill": {
     "duration": 0.02617,
     "end_time": "2023-08-16T08:41:04.931044",
     "exception": false,
     "start_time": "2023-08-16T08:41:04.904874",
     "status": "completed"
    },
    "tags": []
   },
   "outputs": [],
   "source": [
    "# Setting hardcoded parameters for development and debbuging\n",
    "production = True\n",
    "if not production:\n",
    "    params_path = os.path.join('..', 'params', 'ana-flavia-superlactacao.yaml')\n",
    "    with open(params_path, 'r') as stream:\n",
    "        params = yaml.safe_load(stream)\n",
    "        experiment_name = params['experiment_name']\n",
    "        base_dir = params['base_dir']\n",
    "        replace_files = params['replace_files']\n",
    "        experiment_folder = os.path.abspath(os.path.join(os.getcwd(), '..', 'experiments', 'thayane-feces-01'))\n",
    "        img_folder = os.path.abspath(os.path.join(experiment_folder, 'imgs'))\n",
    "        replace_files = False\n",
    "        phred = 20\n",
    "        trunc_f = 0\n",
    "        trunc_r = 0\n",
    "        overlap = 12\n",
    "        threads = 6"
   ]
  },
  {
   "cell_type": "code",
   "execution_count": 5,
   "id": "9bca3416",
   "metadata": {
    "ExecuteTime": {
     "end_time": "2022-06-29T18:51:02.089300Z",
     "start_time": "2022-06-29T18:51:02.084922Z"
    },
    "execution": {
     "iopub.execute_input": "2023-08-16T08:41:04.964554Z",
     "iopub.status.busy": "2023-08-16T08:41:04.964023Z",
     "iopub.status.idle": "2023-08-16T08:41:04.970150Z",
     "shell.execute_reply": "2023-08-16T08:41:04.969147Z"
    },
    "papermill": {
     "duration": 0.023236,
     "end_time": "2023-08-16T08:41:04.972038",
     "exception": false,
     "start_time": "2023-08-16T08:41:04.948802",
     "status": "completed"
    },
    "tags": []
   },
   "outputs": [],
   "source": [
    "experiment_folder = os.path.abspath(os.path.join(base_dir, 'experiments', experiment_name))\n",
    "img_folder = os.path.abspath(os.path.join(experiment_folder, 'imgs'))"
   ]
  },
  {
   "cell_type": "markdown",
   "id": "2ed112ad",
   "metadata": {
    "papermill": {
     "duration": 0.01458,
     "end_time": "2023-08-16T08:41:05.002282",
     "exception": false,
     "start_time": "2023-08-16T08:41:04.987702",
     "status": "completed"
    },
    "tags": []
   },
   "source": [
    "### Defining names and paths"
   ]
  },
  {
   "cell_type": "code",
   "execution_count": 6,
   "id": "83f533a2",
   "metadata": {
    "ExecuteTime": {
     "end_time": "2022-05-30T19:57:39.064490Z",
     "start_time": "2022-05-30T19:57:39.007809Z"
    },
    "execution": {
     "iopub.execute_input": "2023-08-16T08:41:05.033909Z",
     "iopub.status.busy": "2023-08-16T08:41:05.033318Z",
     "iopub.status.idle": "2023-08-16T08:41:05.042790Z",
     "shell.execute_reply": "2023-08-16T08:41:05.041753Z"
    },
    "papermill": {
     "duration": 0.027821,
     "end_time": "2023-08-16T08:41:05.044772",
     "exception": false,
     "start_time": "2023-08-16T08:41:05.016951",
     "status": "completed"
    },
    "tags": []
   },
   "outputs": [],
   "source": [
    "qiime_folder = os.path.join(experiment_folder, 'qiime-artifacts')\n",
    "\n",
    "if trim:\n",
    "    demux_file = os.path.join(qiime_folder, 'demux-paired-trim.qza')\n",
    "else:\n",
    "    demux_file = os.path.join(qiime_folder, 'demux-paired.qza')\n",
    "\n",
    "dada2_tabs = os.path.join(qiime_folder, 'dada2-tabs.qza')\n",
    "dada2_reps = os.path.join(qiime_folder, 'dada2-reps.qza')\n",
    "dada2_stat = os.path.join(qiime_folder, 'dada2-stat.qza')\n",
    "\n",
    "\n",
    "dada2_tabs_view = dada2_tabs[:-1] + 'v'\n",
    "dada2_reps_view = dada2_reps[:-1] + 'v'\n",
    "dada2_stat_view = dada2_stat[:-1] + 'v'\n",
    "dada2_core_view = os.path.join(qiime_folder, 'dada2-core.qzv')"
   ]
  },
  {
   "cell_type": "markdown",
   "id": "12835a6e",
   "metadata": {
    "papermill": {
     "duration": 0.014747,
     "end_time": "2023-08-16T08:41:05.076769",
     "exception": false,
     "start_time": "2023-08-16T08:41:05.062022",
     "status": "completed"
    },
    "tags": []
   },
   "source": [
    "## Step execution\n",
    "\n",
    "### Load input files\n",
    "\n",
    "This Step import the QIIME2 `SampleData[PairedEndSequencesWithQuality]` Artifact with all demultiplexed sequences and the `Metadata` file."
   ]
  },
  {
   "cell_type": "code",
   "execution_count": 7,
   "id": "2a1b474c",
   "metadata": {
    "ExecuteTime": {
     "end_time": "2022-05-30T19:57:39.077380Z",
     "start_time": "2022-05-30T19:57:39.066746Z"
    },
    "execution": {
     "iopub.execute_input": "2023-08-16T08:41:05.106941Z",
     "iopub.status.busy": "2023-08-16T08:41:05.106706Z",
     "iopub.status.idle": "2023-08-16T08:41:05.110683Z",
     "shell.execute_reply": "2023-08-16T08:41:05.109985Z"
    },
    "papermill": {
     "duration": 0.020736,
     "end_time": "2023-08-16T08:41:05.112137",
     "exception": false,
     "start_time": "2023-08-16T08:41:05.091401",
     "status": "completed"
    },
    "tags": []
   },
   "outputs": [],
   "source": [
    "need_dada2 = not (os.path.isfile(dada2_tabs) and os.path.isfile(dada2_reps) and os.path.isfile(dada2_stat)) or replace_files\n",
    "need_view = not (os.path.isfile(dada2_tabs_view) and os.path.isfile(dada2_reps_view) and os.path.isfile(dada2_stat_view)) or replace_files"
   ]
  },
  {
   "cell_type": "code",
   "execution_count": 8,
   "id": "754d7a66",
   "metadata": {
    "ExecuteTime": {
     "end_time": "2022-05-30T19:57:39.089632Z",
     "start_time": "2022-05-30T19:57:39.079347Z"
    },
    "execution": {
     "iopub.execute_input": "2023-08-16T08:41:05.143271Z",
     "iopub.status.busy": "2023-08-16T08:41:05.142942Z",
     "iopub.status.idle": "2023-08-16T08:41:07.409292Z",
     "shell.execute_reply": "2023-08-16T08:41:07.408623Z"
    },
    "papermill": {
     "duration": 2.28465,
     "end_time": "2023-08-16T08:41:07.412253",
     "exception": false,
     "start_time": "2023-08-16T08:41:05.127603",
     "status": "completed"
    },
    "tags": []
   },
   "outputs": [],
   "source": [
    "if need_dada2:\n",
    "    demux = Artifact.load(demux_file)"
   ]
  },
  {
   "cell_type": "code",
   "execution_count": 9,
   "id": "cb261b80",
   "metadata": {
    "ExecuteTime": {
     "end_time": "2022-05-30T19:57:39.145879Z",
     "start_time": "2022-05-30T19:57:39.091983Z"
    },
    "execution": {
     "iopub.execute_input": "2023-08-16T08:41:07.535168Z",
     "iopub.status.busy": "2023-08-16T08:41:07.534740Z",
     "iopub.status.idle": "2023-08-16T08:41:07.556124Z",
     "shell.execute_reply": "2023-08-16T08:41:07.555451Z"
    },
    "papermill": {
     "duration": 0.123593,
     "end_time": "2023-08-16T08:41:07.558661",
     "exception": false,
     "start_time": "2023-08-16T08:41:07.435068",
     "status": "completed"
    },
    "tags": []
   },
   "outputs": [],
   "source": [
    "metadata = Metadata.load(metadata_file)"
   ]
  },
  {
   "cell_type": "code",
   "execution_count": 10,
   "id": "bffad3d4",
   "metadata": {
    "execution": {
     "iopub.execute_input": "2023-08-16T08:41:07.596886Z",
     "iopub.status.busy": "2023-08-16T08:41:07.596585Z",
     "iopub.status.idle": "2023-08-16T08:41:07.607165Z",
     "shell.execute_reply": "2023-08-16T08:41:07.606015Z"
    },
    "papermill": {
     "duration": 0.029301,
     "end_time": "2023-08-16T08:41:07.609343",
     "exception": false,
     "start_time": "2023-08-16T08:41:07.580042",
     "status": "completed"
    },
    "tags": []
   },
   "outputs": [],
   "source": [
    "# Determine if is SingleEnd or PairedEnd\n",
    "manifest_df = pd.read_csv(manifest_file)\n",
    "n_directions = len(manifest_df['direction'].unique())"
   ]
  },
  {
   "cell_type": "markdown",
   "id": "64ef9fb7",
   "metadata": {
    "papermill": {
     "duration": 0.013688,
     "end_time": "2023-08-16T08:41:07.641045",
     "exception": false,
     "start_time": "2023-08-16T08:41:07.627357",
     "status": "completed"
    },
    "tags": []
   },
   "source": [
    "### Execute DADA2 plugin and create Artifacts\n",
    "\n",
    "The DADA2 plugin perform tha quality control and create the ASV table. It will be produced three Artifacts:\n",
    "\n",
    "- tabs (`FeatureTable[Frequency]`) : \n",
    "    The resulting feature table.\n",
    "- reps (`FeatureData[Sequence]`) :\n",
    "    The resulting feature sequences. Each feature in the feature table will\n",
    "    be represented by exactly one sequence, and these sequences will be the\n",
    "    joined paired-end sequences.\n",
    "- denoising_stats (`SampleData[DADA2Stats]`) : the resulting stats. Shows the number and the proportion of filtered reads in each phase of the plugin execution."
   ]
  },
  {
   "cell_type": "code",
   "execution_count": 11,
   "id": "bd086062",
   "metadata": {
    "ExecuteTime": {
     "end_time": "2022-05-30T19:57:39.171629Z",
     "start_time": "2022-05-30T19:57:39.147370Z"
    },
    "execution": {
     "iopub.execute_input": "2023-08-16T08:41:07.670351Z",
     "iopub.status.busy": "2023-08-16T08:41:07.670019Z",
     "iopub.status.idle": "2023-08-16T10:03:52.858827Z",
     "shell.execute_reply": "2023-08-16T10:03:52.858205Z"
    },
    "papermill": {
     "duration": 4965.205535,
     "end_time": "2023-08-16T10:03:52.860440",
     "exception": false,
     "start_time": "2023-08-16T08:41:07.654905",
     "status": "completed"
    },
    "scrolled": true,
    "tags": []
   },
   "outputs": [
    {
     "name": "stdout",
     "output_type": "stream",
     "text": [
      "Running external command line application(s). This may print messages to stdout and/or stderr.\n",
      "The command(s) being run are below. These commands cannot be manually re-run as they will depend on temporary files that no longer exist.\n",
      "\n",
      "Command: run_dada_paired.R /tmp/tmp4i5pd0ye/forward /tmp/tmp4i5pd0ye/reverse /tmp/tmp4i5pd0ye/output.tsv.biom /tmp/tmp4i5pd0ye/track.tsv /tmp/tmp4i5pd0ye/filt_f /tmp/tmp4i5pd0ye/filt_r 0 0 0 0 2.0 2.0 20 9 independent consensus 1.0 6 1000000\n",
      "\n"
     ]
    },
    {
     "name": "stdout",
     "output_type": "stream",
     "text": [
      "R version 4.1.2 (2021-11-01) \n"
     ]
    },
    {
     "name": "stderr",
     "output_type": "stream",
     "text": [
      "Loading required package: Rcpp\n"
     ]
    },
    {
     "name": "stdout",
     "output_type": "stream",
     "text": [
      "DADA2: 1.22.0 / Rcpp: 1.0.8.2 / RcppParallel: 5.1.5 \n",
      "1) Filtering "
     ]
    },
    {
     "name": "stdout",
     "output_type": "stream",
     "text": [
      "......................................\n",
      "2) Learning Error Rates\n"
     ]
    },
    {
     "name": "stdout",
     "output_type": "stream",
     "text": [
      "226117663 total bases in 1011154 reads from 12 samples will be used for learning the error rates.\n"
     ]
    },
    {
     "name": "stdout",
     "output_type": "stream",
     "text": [
      "154218111 total bases in 1011154 reads from 12 samples will be used for learning the error rates.\n"
     ]
    },
    {
     "name": "stdout",
     "output_type": "stream",
     "text": [
      "3) Denoise samples "
     ]
    },
    {
     "name": "stdout",
     "output_type": "stream",
     "text": [
      ".."
     ]
    },
    {
     "name": "stdout",
     "output_type": "stream",
     "text": [
      "."
     ]
    },
    {
     "name": "stdout",
     "output_type": "stream",
     "text": [
      "."
     ]
    },
    {
     "name": "stdout",
     "output_type": "stream",
     "text": [
      "."
     ]
    },
    {
     "name": "stdout",
     "output_type": "stream",
     "text": [
      "."
     ]
    },
    {
     "name": "stdout",
     "output_type": "stream",
     "text": [
      "."
     ]
    },
    {
     "name": "stdout",
     "output_type": "stream",
     "text": [
      "."
     ]
    },
    {
     "name": "stdout",
     "output_type": "stream",
     "text": [
      "."
     ]
    },
    {
     "name": "stdout",
     "output_type": "stream",
     "text": [
      "."
     ]
    },
    {
     "name": "stdout",
     "output_type": "stream",
     "text": [
      "."
     ]
    },
    {
     "name": "stdout",
     "output_type": "stream",
     "text": [
      "."
     ]
    },
    {
     "name": "stdout",
     "output_type": "stream",
     "text": [
      "."
     ]
    },
    {
     "name": "stdout",
     "output_type": "stream",
     "text": [
      "."
     ]
    },
    {
     "name": "stdout",
     "output_type": "stream",
     "text": [
      "."
     ]
    },
    {
     "name": "stdout",
     "output_type": "stream",
     "text": [
      "."
     ]
    },
    {
     "name": "stdout",
     "output_type": "stream",
     "text": [
      "."
     ]
    },
    {
     "name": "stdout",
     "output_type": "stream",
     "text": [
      "."
     ]
    },
    {
     "name": "stdout",
     "output_type": "stream",
     "text": [
      "."
     ]
    },
    {
     "name": "stdout",
     "output_type": "stream",
     "text": [
      "."
     ]
    },
    {
     "name": "stdout",
     "output_type": "stream",
     "text": [
      "."
     ]
    },
    {
     "name": "stdout",
     "output_type": "stream",
     "text": [
      "."
     ]
    },
    {
     "name": "stdout",
     "output_type": "stream",
     "text": [
      "."
     ]
    },
    {
     "name": "stdout",
     "output_type": "stream",
     "text": [
      "."
     ]
    },
    {
     "name": "stdout",
     "output_type": "stream",
     "text": [
      "."
     ]
    },
    {
     "name": "stdout",
     "output_type": "stream",
     "text": [
      "."
     ]
    },
    {
     "name": "stdout",
     "output_type": "stream",
     "text": [
      "."
     ]
    },
    {
     "name": "stdout",
     "output_type": "stream",
     "text": [
      "."
     ]
    },
    {
     "name": "stdout",
     "output_type": "stream",
     "text": [
      "."
     ]
    },
    {
     "name": "stdout",
     "output_type": "stream",
     "text": [
      "."
     ]
    },
    {
     "name": "stdout",
     "output_type": "stream",
     "text": [
      "."
     ]
    },
    {
     "name": "stdout",
     "output_type": "stream",
     "text": [
      "."
     ]
    },
    {
     "name": "stdout",
     "output_type": "stream",
     "text": [
      "."
     ]
    },
    {
     "name": "stdout",
     "output_type": "stream",
     "text": [
      "."
     ]
    },
    {
     "name": "stdout",
     "output_type": "stream",
     "text": [
      "."
     ]
    },
    {
     "name": "stdout",
     "output_type": "stream",
     "text": [
      "."
     ]
    },
    {
     "name": "stdout",
     "output_type": "stream",
     "text": [
      "."
     ]
    },
    {
     "name": "stdout",
     "output_type": "stream",
     "text": [
      ".\n"
     ]
    },
    {
     "name": "stdout",
     "output_type": "stream",
     "text": [
      ".."
     ]
    },
    {
     "name": "stdout",
     "output_type": "stream",
     "text": [
      "."
     ]
    },
    {
     "name": "stdout",
     "output_type": "stream",
     "text": [
      "."
     ]
    },
    {
     "name": "stderr",
     "output_type": "stream",
     "text": [
      "Duplicate sequences in merged output.\n"
     ]
    },
    {
     "name": "stdout",
     "output_type": "stream",
     "text": [
      "."
     ]
    },
    {
     "name": "stderr",
     "output_type": "stream",
     "text": [
      "Duplicate sequences in merged output.\n"
     ]
    },
    {
     "name": "stdout",
     "output_type": "stream",
     "text": [
      "."
     ]
    },
    {
     "name": "stdout",
     "output_type": "stream",
     "text": [
      "."
     ]
    },
    {
     "name": "stdout",
     "output_type": "stream",
     "text": [
      "."
     ]
    },
    {
     "name": "stderr",
     "output_type": "stream",
     "text": [
      "Duplicate sequences in merged output.\n"
     ]
    },
    {
     "name": "stdout",
     "output_type": "stream",
     "text": [
      "."
     ]
    },
    {
     "name": "stdout",
     "output_type": "stream",
     "text": [
      "."
     ]
    },
    {
     "name": "stdout",
     "output_type": "stream",
     "text": [
      "."
     ]
    },
    {
     "name": "stderr",
     "output_type": "stream",
     "text": [
      "Duplicate sequences in merged output.\n"
     ]
    },
    {
     "name": "stdout",
     "output_type": "stream",
     "text": [
      "."
     ]
    },
    {
     "name": "stdout",
     "output_type": "stream",
     "text": [
      "."
     ]
    },
    {
     "name": "stdout",
     "output_type": "stream",
     "text": [
      "."
     ]
    },
    {
     "name": "stdout",
     "output_type": "stream",
     "text": [
      "."
     ]
    },
    {
     "name": "stdout",
     "output_type": "stream",
     "text": [
      "."
     ]
    },
    {
     "name": "stderr",
     "output_type": "stream",
     "text": [
      "Duplicate sequences in merged output.\n"
     ]
    },
    {
     "name": "stdout",
     "output_type": "stream",
     "text": [
      "."
     ]
    },
    {
     "name": "stderr",
     "output_type": "stream",
     "text": [
      "Duplicate sequences in merged output.\n"
     ]
    },
    {
     "name": "stdout",
     "output_type": "stream",
     "text": [
      "."
     ]
    },
    {
     "name": "stderr",
     "output_type": "stream",
     "text": [
      "Duplicate sequences in merged output.\n"
     ]
    },
    {
     "name": "stdout",
     "output_type": "stream",
     "text": [
      "."
     ]
    },
    {
     "name": "stdout",
     "output_type": "stream",
     "text": [
      "."
     ]
    },
    {
     "name": "stdout",
     "output_type": "stream",
     "text": [
      "."
     ]
    },
    {
     "name": "stderr",
     "output_type": "stream",
     "text": [
      "Duplicate sequences in merged output.\n"
     ]
    },
    {
     "name": "stdout",
     "output_type": "stream",
     "text": [
      "."
     ]
    },
    {
     "name": "stderr",
     "output_type": "stream",
     "text": [
      "Duplicate sequences in merged output.\n"
     ]
    },
    {
     "name": "stdout",
     "output_type": "stream",
     "text": [
      "."
     ]
    },
    {
     "name": "stderr",
     "output_type": "stream",
     "text": [
      "Duplicate sequences in merged output.\n"
     ]
    },
    {
     "name": "stdout",
     "output_type": "stream",
     "text": [
      "."
     ]
    },
    {
     "name": "stderr",
     "output_type": "stream",
     "text": [
      "Duplicate sequences in merged output.\n"
     ]
    },
    {
     "name": "stdout",
     "output_type": "stream",
     "text": [
      "."
     ]
    },
    {
     "name": "stdout",
     "output_type": "stream",
     "text": [
      "."
     ]
    },
    {
     "name": "stdout",
     "output_type": "stream",
     "text": [
      "."
     ]
    },
    {
     "name": "stderr",
     "output_type": "stream",
     "text": [
      "Duplicate sequences in merged output.\n"
     ]
    },
    {
     "name": "stdout",
     "output_type": "stream",
     "text": [
      "."
     ]
    },
    {
     "name": "stderr",
     "output_type": "stream",
     "text": [
      "Duplicate sequences in merged output.\n"
     ]
    },
    {
     "name": "stdout",
     "output_type": "stream",
     "text": [
      "."
     ]
    },
    {
     "name": "stdout",
     "output_type": "stream",
     "text": [
      "."
     ]
    },
    {
     "name": "stdout",
     "output_type": "stream",
     "text": [
      "."
     ]
    },
    {
     "name": "stderr",
     "output_type": "stream",
     "text": [
      "Duplicate sequences in merged output.\n"
     ]
    },
    {
     "name": "stdout",
     "output_type": "stream",
     "text": [
      "."
     ]
    },
    {
     "name": "stdout",
     "output_type": "stream",
     "text": [
      "."
     ]
    },
    {
     "name": "stderr",
     "output_type": "stream",
     "text": [
      "Duplicate sequences in merged output.\n"
     ]
    },
    {
     "name": "stdout",
     "output_type": "stream",
     "text": [
      "."
     ]
    },
    {
     "name": "stderr",
     "output_type": "stream",
     "text": [
      "Duplicate sequences in merged output.\n"
     ]
    },
    {
     "name": "stdout",
     "output_type": "stream",
     "text": [
      "."
     ]
    },
    {
     "name": "stderr",
     "output_type": "stream",
     "text": [
      "Duplicate sequences in merged output.\n"
     ]
    },
    {
     "name": "stdout",
     "output_type": "stream",
     "text": [
      "."
     ]
    },
    {
     "name": "stdout",
     "output_type": "stream",
     "text": [
      "."
     ]
    },
    {
     "name": "stderr",
     "output_type": "stream",
     "text": [
      "Duplicate sequences in merged output.\n",
      "Duplicate sequences detected and merged.\n",
      "Duplicate sequences detected and merged.\n",
      "Duplicate sequences detected and merged.\n",
      "Duplicate sequences detected and merged.\n",
      "Duplicate sequences detected and merged.\n",
      "Duplicate sequences detected and merged.\n",
      "Duplicate sequences detected and merged.\n",
      "Duplicate sequences detected and merged.\n",
      "Duplicate sequences detected and merged.\n",
      "Duplicate sequences detected and merged.\n",
      "Duplicate sequences detected and merged.\n",
      "Duplicate sequences detected and merged.\n",
      "Duplicate sequences detected and merged.\n",
      "Duplicate sequences detected and merged.\n",
      "Duplicate sequences detected and merged.\n",
      "Duplicate sequences detected and merged.\n",
      "Duplicate sequences detected and merged.\n",
      "Duplicate sequences detected and merged.\n"
     ]
    },
    {
     "name": "stdout",
     "output_type": "stream",
     "text": [
      ".\n",
      "4) Remove chimeras (method = consensus)\n"
     ]
    },
    {
     "name": "stdout",
     "output_type": "stream",
     "text": [
      "6) Write output\n"
     ]
    }
   ],
   "source": [
    "# If some of the DADA2 outputs artifacts do not exist or if the old files will be replaced\n",
    "if need_dada2:\n",
    "    \n",
    "    # Excute the DADA2 plugin\n",
    "    if n_directions == 1: # SingleEnd\n",
    "        tabs, reps, stat = dada2_actions.denoise_single(\n",
    "            demultiplexed_seqs=demux,\n",
    "            trunc_q = phred,\n",
    "            n_threads = threads,\n",
    "            trunc_len = trunc_f,\n",
    "        )\n",
    "    elif n_directions == 2: # PairedEnd\n",
    "        tabs, reps, stat = dada2_actions.denoise_paired(\n",
    "            demultiplexed_seqs=demux,\n",
    "            trunc_q = phred,\n",
    "            min_overlap = overlap,\n",
    "            n_threads = threads,\n",
    "            trunc_len_f = trunc_f,\n",
    "            trunc_len_r = trunc_r,\n",
    "        )\n",
    "    \n",
    "    # Save the artifacts objects\n",
    "    tabs.save(dada2_tabs)\n",
    "    reps.save(dada2_reps)\n",
    "    stat.save(dada2_stat)\n",
    "\n",
    "else:\n",
    "    tabs = Artifact.load(dada2_tabs)\n",
    "    reps = Artifact.load(dada2_reps)\n",
    "    stat = Artifact.load(dada2_stat)"
   ]
  },
  {
   "cell_type": "markdown",
   "id": "dcaecad1",
   "metadata": {
    "papermill": {
     "duration": 0.035315,
     "end_time": "2023-08-16T10:03:52.930892",
     "exception": false,
     "start_time": "2023-08-16T10:03:52.895577",
     "status": "completed"
    },
    "tags": []
   },
   "source": [
    "### Filter samples"
   ]
  },
  {
   "cell_type": "code",
   "execution_count": 12,
   "id": "ea25a435",
   "metadata": {
    "execution": {
     "iopub.execute_input": "2023-08-16T10:03:53.009737Z",
     "iopub.status.busy": "2023-08-16T10:03:53.009478Z",
     "iopub.status.idle": "2023-08-16T10:03:53.780497Z",
     "shell.execute_reply": "2023-08-16T10:03:53.779802Z"
    },
    "papermill": {
     "duration": 0.813403,
     "end_time": "2023-08-16T10:03:53.782215",
     "exception": false,
     "start_time": "2023-08-16T10:03:52.968812",
     "status": "completed"
    },
    "tags": []
   },
   "outputs": [],
   "source": [
    "# Filter FeatureTable[Frequency | RelativeFrequency | PresenceAbsence | Composition] based on Metadata sample ID values\n",
    "tabs = filter_samples(\n",
    "    table=tabs,\n",
    "    metadata=metadata,\n",
    ").filtered_table\n",
    "# Filter SampleData[SequencesWithQuality | PairedEndSequencesWithQuality | JoinedSequencesWithQuality] based on Metadata sample ID values; returns FeatureData[Sequence | AlignedSequence]\n",
    "reps = filter_seqs(\n",
    "    data=reps,\n",
    "    table=tabs,\n",
    ").filtered_data"
   ]
  },
  {
   "cell_type": "markdown",
   "id": "7b77d47f",
   "metadata": {
    "papermill": {
     "duration": 0.041992,
     "end_time": "2023-08-16T10:03:53.866919",
     "exception": false,
     "start_time": "2023-08-16T10:03:53.824927",
     "status": "completed"
    },
    "tags": []
   },
   "source": [
    "### Define Visualizations Artifacts"
   ]
  },
  {
   "cell_type": "code",
   "execution_count": 13,
   "id": "2336b28e",
   "metadata": {
    "ExecuteTime": {
     "end_time": "2022-05-30T19:57:39.249051Z",
     "start_time": "2022-05-30T19:57:39.173053Z"
    },
    "execution": {
     "iopub.execute_input": "2023-08-16T10:03:53.947868Z",
     "iopub.status.busy": "2023-08-16T10:03:53.947637Z",
     "iopub.status.idle": "2023-08-16T10:04:00.386579Z",
     "shell.execute_reply": "2023-08-16T10:04:00.385826Z"
    },
    "papermill": {
     "duration": 6.480944,
     "end_time": "2023-08-16T10:04:00.387994",
     "exception": false,
     "start_time": "2023-08-16T10:03:53.907050",
     "status": "completed"
    },
    "tags": []
   },
   "outputs": [
    {
     "data": {
      "image/png": "[encoded data removed]",
      "text/plain": [
       "<Figure size 432x288 with 1 Axes>"
      ]
     },
     "metadata": {
      "needs_background": "light"
     },
     "output_type": "display_data"
    }
   ],
   "source": [
    "# If some of the DADA2 Visualization artifacts do not exist or if the old files will be replaced\n",
    "if need_view:\n",
    "    \n",
    "    tabs_view, = metadata_actions.tabulate(input=tabs.view(Metadata))\n",
    "    reps_view, = metadata_actions.tabulate(input=reps.view(Metadata))\n",
    "    stat_view, = metadata_actions.tabulate(input=stat.view(Metadata))\n",
    "    \n",
    "    tabs_view = summarize(table=tabs, sample_metadata=metadata).visualization\n",
    "    reps_view = tabulate_seqs(data=reps).visualization\n",
    "    core_view = core_features(table=tabs, min_fraction=.1, steps=10).visualization\n",
    "    \n",
    "    \n",
    "    # Save the artifacts objects\n",
    "    tabs_view.save(dada2_tabs_view)\n",
    "    reps_view.save(dada2_reps_view)\n",
    "    stat_view.save(dada2_stat_view)\n",
    "    core_view.save(dada2_core_view)\n",
    "\n",
    "else:\n",
    "    tabs_view = Visualization.load(dada2_tabs_view)\n",
    "    reps_view = Visualization.load(dada2_reps_view)\n",
    "    stat_view = Visualization.load(dada2_stat_view)\n",
    "    core_view = Visualization.load(dada2_core_view)"
   ]
  },
  {
   "cell_type": "code",
   "execution_count": 14,
   "id": "667afa14",
   "metadata": {
    "execution": {
     "iopub.execute_input": "2023-08-16T10:04:00.462196Z",
     "iopub.status.busy": "2023-08-16T10:04:00.461919Z",
     "iopub.status.idle": "2023-08-16T10:04:00.466992Z",
     "shell.execute_reply": "2023-08-16T10:04:00.466487Z"
    },
    "papermill": {
     "duration": 0.044265,
     "end_time": "2023-08-16T10:04:00.468414",
     "exception": false,
     "start_time": "2023-08-16T10:04:00.424149",
     "status": "completed"
    },
    "tags": []
   },
   "outputs": [],
   "source": [
    "def plot_stats_box(artifact, fname, total_reads_phases, percent_phases, cols):\n",
    "    import matplotlib.pyplot as plt\n",
    "    from qiime2 import Metadata\n",
    "    \n",
    "    df = artifact.view(Metadata).to_dataframe()\n",
    "    df_vals = df[total_reads_phases]\n",
    "    df_perc = df[percent_phases]\n",
    "    df_perc.columns = cols\n",
    "    \n",
    "    \n",
    "    plt.figure(figsize=(15,5))\n",
    "    plt.subplot(1, 2, 1)\n",
    "    df_vals.boxplot()\n",
    "    plt.xlabel('Fases')\n",
    "    plt.ylabel('# of reads')\n",
    "    \n",
    "    plt.subplot(1, 2, 2)\n",
    "    df_perc.boxplot()\n",
    "    plt.xlabel('Fases')\n",
    "    plt.ylabel('% of input')\n",
    "    \n",
    "    plt.savefig(fname, bbox_inches='tight')\n",
    "\n",
    "    plt.show()"
   ]
  },
  {
   "cell_type": "code",
   "execution_count": 15,
   "id": "0ffefd62",
   "metadata": {
    "execution": {
     "iopub.execute_input": "2023-08-16T10:04:00.542063Z",
     "iopub.status.busy": "2023-08-16T10:04:00.541830Z",
     "iopub.status.idle": "2023-08-16T10:04:00.545763Z",
     "shell.execute_reply": "2023-08-16T10:04:00.545273Z"
    },
    "papermill": {
     "duration": 0.041706,
     "end_time": "2023-08-16T10:04:00.547074",
     "exception": false,
     "start_time": "2023-08-16T10:04:00.505368",
     "status": "completed"
    },
    "tags": []
   },
   "outputs": [],
   "source": [
    "if n_directions == 1: # SingleEnd\n",
    "    total_reads_phases = ['input', 'filtered', 'denoised', 'non-chimeric']\n",
    "    percent_phases = ['percentage of input passed filter', 'percentage of input non-chimeric']\n",
    "    cols = ['filtered', 'non-chimeric']\n",
    "elif n_directions == 2: # PairedEnd\n",
    "    total_reads_phases = ['input', 'filtered', 'denoised', 'merged', 'non-chimeric']\n",
    "    percent_phases = ['percentage of input passed filter', 'percentage of input merged', 'percentage of input non-chimeric']\n",
    "    cols = ['filtered', 'merged', 'non-chimeric']"
   ]
  },
  {
   "cell_type": "code",
   "execution_count": 16,
   "id": "26393d04",
   "metadata": {
    "ExecuteTime": {
     "end_time": "2022-05-30T19:57:39.901491Z",
     "start_time": "2022-05-30T19:57:39.255220Z"
    },
    "execution": {
     "iopub.execute_input": "2023-08-16T10:04:00.620662Z",
     "iopub.status.busy": "2023-08-16T10:04:00.620390Z",
     "iopub.status.idle": "2023-08-16T10:04:01.077648Z",
     "shell.execute_reply": "2023-08-16T10:04:01.076873Z"
    },
    "papermill": {
     "duration": 0.496168,
     "end_time": "2023-08-16T10:04:01.079163",
     "exception": false,
     "start_time": "2023-08-16T10:04:00.582995",
     "status": "completed"
    },
    "scrolled": true,
    "tags": []
   },
   "outputs": [
    {
     "data": {
      "image/png": "[encoded data removed]",
      "text/plain": [
       "<Figure size 1080x360 with 2 Axes>"
      ]
     },
     "metadata": {
      "needs_background": "light"
     },
     "output_type": "display_data"
    }
   ],
   "source": [
    "plot_stats_box(stat, os.path.join(img_folder, 'step02-stats-boxplot.pdf'), total_reads_phases, percent_phases, cols)"
   ]
  },
  {
   "cell_type": "code",
   "execution_count": 17,
   "id": "851b9b46",
   "metadata": {
    "ExecuteTime": {
     "end_time": "2022-05-31T17:58:47.140114Z",
     "start_time": "2022-05-31T17:58:47.087808Z"
    },
    "execution": {
     "iopub.execute_input": "2023-08-16T10:04:01.155396Z",
     "iopub.status.busy": "2023-08-16T10:04:01.155178Z",
     "iopub.status.idle": "2023-08-16T10:04:01.190952Z",
     "shell.execute_reply": "2023-08-16T10:04:01.190327Z"
    },
    "papermill": {
     "duration": 0.074402,
     "end_time": "2023-08-16T10:04:01.192305",
     "exception": false,
     "start_time": "2023-08-16T10:04:01.117903",
     "status": "completed"
    },
    "tags": []
   },
   "outputs": [
    {
     "data": {
      "text/html": [
       "<div>\n",
       "<style scoped>\n",
       "    .dataframe tbody tr th:only-of-type {\n",
       "        vertical-align: middle;\n",
       "    }\n",
       "\n",
       "    .dataframe tbody tr th {\n",
       "        vertical-align: top;\n",
       "    }\n",
       "\n",
       "    .dataframe thead th {\n",
       "        text-align: right;\n",
       "    }\n",
       "</style>\n",
       "<table border=\"1\" class=\"dataframe\">\n",
       "  <thead>\n",
       "    <tr style=\"text-align: right;\">\n",
       "      <th></th>\n",
       "      <th>percentage of input passed filter</th>\n",
       "      <th>percentage of input merged</th>\n",
       "      <th>percentage of input non-chimeric</th>\n",
       "    </tr>\n",
       "  </thead>\n",
       "  <tbody>\n",
       "    <tr>\n",
       "      <th>count</th>\n",
       "      <td>38.000000</td>\n",
       "      <td>38.000000</td>\n",
       "      <td>38.000000</td>\n",
       "    </tr>\n",
       "    <tr>\n",
       "      <th>mean</th>\n",
       "      <td>84.487895</td>\n",
       "      <td>65.056842</td>\n",
       "      <td>59.983684</td>\n",
       "    </tr>\n",
       "    <tr>\n",
       "      <th>std</th>\n",
       "      <td>0.884091</td>\n",
       "      <td>7.279842</td>\n",
       "      <td>7.990372</td>\n",
       "    </tr>\n",
       "    <tr>\n",
       "      <th>min</th>\n",
       "      <td>81.220000</td>\n",
       "      <td>45.260000</td>\n",
       "      <td>40.760000</td>\n",
       "    </tr>\n",
       "    <tr>\n",
       "      <th>25%</th>\n",
       "      <td>84.270000</td>\n",
       "      <td>61.337500</td>\n",
       "      <td>53.677500</td>\n",
       "    </tr>\n",
       "    <tr>\n",
       "      <th>50%</th>\n",
       "      <td>84.720000</td>\n",
       "      <td>66.560000</td>\n",
       "      <td>60.540000</td>\n",
       "    </tr>\n",
       "    <tr>\n",
       "      <th>75%</th>\n",
       "      <td>84.947500</td>\n",
       "      <td>70.265000</td>\n",
       "      <td>65.825000</td>\n",
       "    </tr>\n",
       "    <tr>\n",
       "      <th>max</th>\n",
       "      <td>85.840000</td>\n",
       "      <td>77.110000</td>\n",
       "      <td>76.220000</td>\n",
       "    </tr>\n",
       "  </tbody>\n",
       "</table>\n",
       "</div>"
      ],
      "text/plain": [
       "       percentage of input passed filter  percentage of input merged  \\\n",
       "count                          38.000000                   38.000000   \n",
       "mean                           84.487895                   65.056842   \n",
       "std                             0.884091                    7.279842   \n",
       "min                            81.220000                   45.260000   \n",
       "25%                            84.270000                   61.337500   \n",
       "50%                            84.720000                   66.560000   \n",
       "75%                            84.947500                   70.265000   \n",
       "max                            85.840000                   77.110000   \n",
       "\n",
       "       percentage of input non-chimeric  \n",
       "count                         38.000000  \n",
       "mean                          59.983684  \n",
       "std                            7.990372  \n",
       "min                           40.760000  \n",
       "25%                           53.677500  \n",
       "50%                           60.540000  \n",
       "75%                           65.825000  \n",
       "max                           76.220000  "
      ]
     },
     "execution_count": 17,
     "metadata": {},
     "output_type": "execute_result"
    }
   ],
   "source": [
    "stat.view(Metadata).to_dataframe().describe()[percent_phases]"
   ]
  },
  {
   "cell_type": "code",
   "execution_count": 18,
   "id": "ea80c990",
   "metadata": {
    "ExecuteTime": {
     "end_time": "2022-05-30T19:57:39.957632Z",
     "start_time": "2022-05-30T19:57:39.953762Z"
    },
    "execution": {
     "iopub.execute_input": "2023-08-16T10:04:01.277053Z",
     "iopub.status.busy": "2023-08-16T10:04:01.276811Z",
     "iopub.status.idle": "2023-08-16T10:04:01.282593Z",
     "shell.execute_reply": "2023-08-16T10:04:01.281969Z"
    },
    "papermill": {
     "duration": 0.050346,
     "end_time": "2023-08-16T10:04:01.284009",
     "exception": false,
     "start_time": "2023-08-16T10:04:01.233663",
     "status": "completed"
    },
    "tags": []
   },
   "outputs": [
    {
     "data": {
      "text/html": [
       "<div><img onload=\"(function(div, url){\n",
       "if (typeof require !== 'undefined') {\n",
       "    var baseURL = require.toUrl('').split('/').slice(0, -2).join('/');\n",
       "} else {\n",
       "    var baseURL = JSON.parse(\n",
       "        document.getElementById('jupyter-config-data').innerHTML\n",
       "    ).baseUrl.slice(0, -1);\n",
       "}\n",
       "url = baseURL + url;\n",
       "fetch(url).then(function(res) {\n",
       "    if (res.status === 404) {\n",
       "        div.innerHTML = 'Install QIIME 2 Jupyter extension with:<br />' +\n",
       "                        '<code>jupyter serverextension enable --py qiime2' +\n",
       "                        ' --sys-prefix</code><br />then restart your server.' +\n",
       "                        '<br /><br />(Interactive output not available on ' +\n",
       "                        'static notebook viewer services like nbviewer.)';\n",
       "    } else if (res.status === 409) {\n",
       "        div.innerHTML = 'Visualization no longer in scope. Re-run this cell' +\n",
       "                        ' to see the visualization.';\n",
       "    } else if (res.ok) {\n",
       "        url = res.url;\n",
       "        div.innerHTML = '<iframe src=\\'' + url + '\\' style=\\'' +\n",
       "                        'width: 100%; height: 700px; border: 0;\\'>' +\n",
       "                        '</iframe><hr />Open in a: <a href=\\'' + url + '\\'' +\n",
       "                        ' target=\\'_blank\\'>new window</a>'\n",
       "    } else {\n",
       "        div.innerHTML = 'Something has gone wrong. Check notebook server for' +\n",
       "                        ' errors.';\n",
       "    }\n",
       "});\n",
       "})(this.parentElement, '/qiime2/redirect?location=/tmp/qiime2-archive-u5ynhotq')\" src=\"data:image/gif;base64,R0lGODlhAQABAIAAAP///wAAACH5BAEAAAAALAAAAAABAAEAAAICRAEAOw==\" /></div>"
      ],
      "text/plain": [
       "<visualization: Visualization uuid: fd314f66-683c-45a2-a822-859e9c029489>"
      ]
     },
     "execution_count": 18,
     "metadata": {},
     "output_type": "execute_result"
    }
   ],
   "source": [
    "stat_view"
   ]
  },
  {
   "cell_type": "code",
   "execution_count": 19,
   "id": "935062fd",
   "metadata": {
    "ExecuteTime": {
     "end_time": "2022-05-30T19:57:39.967918Z",
     "start_time": "2022-05-30T19:57:39.958955Z"
    },
    "execution": {
     "iopub.execute_input": "2023-08-16T10:04:01.373277Z",
     "iopub.status.busy": "2023-08-16T10:04:01.373048Z",
     "iopub.status.idle": "2023-08-16T10:04:01.376528Z",
     "shell.execute_reply": "2023-08-16T10:04:01.375951Z"
    },
    "papermill": {
     "duration": 0.049758,
     "end_time": "2023-08-16T10:04:01.378051",
     "exception": false,
     "start_time": "2023-08-16T10:04:01.328293",
     "status": "completed"
    },
    "tags": []
   },
   "outputs": [],
   "source": [
    "# new_stat = Artifact.load('/home/lauro/nupeb/redemicro/experiments/thayane-feces-01/qiime-artifacts/dada2-stat.qza')\n",
    "# # new_view, = metadata_actions.tabulate(input=new_stat.view(Metadata))\n",
    "# # plot_stats_box(old_stat)\n",
    "\n",
    "# old_stat = Artifact.load('/home/lauro/nupeb/dados_brutos_rede_genoma/experiments/fezes-phred_20-tf_0-tr_0-lap_4/fezes_dada2_stat.qza')\n",
    "# # old_view, = metadata_actions.tabulate(input=old_stat.view(Metadata))\n",
    "# # plot_stats_box(old_stat)\n",
    "\n",
    "# plot_stats_box_pairs(old_stat, new_stat)"
   ]
  }
 ],
 "metadata": {
  "celltoolbar": "Edit Metadata",
  "kernelspec": {
   "display_name": "Python 3 (ipykernel)",
   "language": "python",
   "name": "python3"
  },
  "language_info": {
   "codemirror_mode": {
    "name": "ipython",
    "version": 3
   },
   "file_extension": ".py",
   "mimetype": "text/x-python",
   "name": "python",
   "nbconvert_exporter": "python",
   "pygments_lexer": "ipython3",
   "version": "3.8.12"
  },
  "papermill": {
   "default_parameters": {},
   "duration": 4985.868047,
   "end_time": "2023-08-16T10:04:02.454662",
   "environment_variables": {},
   "exception": null,
   "input_path": "nb-templates/step-quality-control.ipynb",
   "output_path": "/home/lauro/nupeb/rede-micro/redemicro-thayane/experiments/thayane-PM-paired-end-trim-overlap-09/nb-executed-steps/step-quality-control-thayane-PM-paired-end-trim-overlap-09.ipynb",
   "parameters": {
    "base_dir": "/home/lauro/nupeb/rede-micro/redemicro-thayane",
    "class_col": "above_10",
    "classifier_file": "/home/lauro/nupeb/16S_classifiers_qiime2/silva-138-99-nb-classifier.qza",
    "experiment_name": "thayane-PM-paired-end-trim-overlap-09",
    "manifest_file": "/home/lauro/nupeb/rede-micro/redemicro-thayane/data/manifest-paired.csv",
    "metadata_file": "/home/lauro/nupeb/rede-micro/redemicro-thayane/data/paired-end-metadata.tsv",
    "overlap": 9,
    "phred": 20,
    "replace_files": false,
    "threads": 6,
    "trim": {
     "forward_primer": "CCTACGGGRSGCAGCAG",
     "overlap": 8,
     "reverse_primer": "GGACTACHVGGGTWTCTAAT"
    },
    "trunc_f": 0,
    "trunc_r": 0
   },
   "start_time": "2023-08-16T08:40:56.586615",
   "version": "2.3.4"
  },
  "toc-autonumbering": false,
  "toc-showcode": false,
  "toc-showmarkdowntxt": false
 },
 "nbformat": 4,
 "nbformat_minor": 5
}