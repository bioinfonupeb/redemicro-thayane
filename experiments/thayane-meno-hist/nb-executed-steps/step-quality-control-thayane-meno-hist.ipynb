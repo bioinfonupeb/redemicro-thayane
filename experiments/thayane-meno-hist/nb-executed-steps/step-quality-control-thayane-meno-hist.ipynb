{
 "cells": [
  {
   "cell_type": "markdown",
   "id": "b56896e3",
   "metadata": {
    "tags": [
     "papermill-error-cell-tag"
    ]
   },
   "source": [
    "<span style=\"color:red; font-family:Helvetica Neue, Helvetica, Arial, sans-serif; font-size:2em;\">An Exception was encountered at '<a href=\"#papermill-error-cell\">In [9]</a>'.</span>"
   ]
  },
  {
   "cell_type": "markdown",
   "id": "a91152c8",
   "metadata": {
    "papermill": {
     "duration": 0.015478,
     "end_time": "2024-02-28T18:35:32.626374",
     "exception": false,
     "start_time": "2024-02-28T18:35:32.610896",
     "status": "completed"
    },
    "tags": []
   },
   "source": [
    "# Quality Control and ASV table construction with DADA2"
   ]
  },
  {
   "cell_type": "markdown",
   "id": "ca143ab4",
   "metadata": {
    "papermill": {
     "duration": 0.008417,
     "end_time": "2024-02-28T18:35:32.648377",
     "exception": false,
     "start_time": "2024-02-28T18:35:32.639960",
     "status": "completed"
    },
    "tags": []
   },
   "source": [
    "## Setup and settings"
   ]
  },
  {
   "cell_type": "code",
   "execution_count": 1,
   "id": "ae155139",
   "metadata": {
    "ExecuteTime": {
     "end_time": "2022-06-29T18:49:49.974644Z",
     "start_time": "2022-06-29T18:49:30.876897Z"
    },
    "execution": {
     "iopub.execute_input": "2024-02-28T18:35:32.661179Z",
     "iopub.status.busy": "2024-02-28T18:35:32.660929Z",
     "iopub.status.idle": "2024-02-28T18:35:37.260165Z",
     "shell.execute_reply": "2024-02-28T18:35:37.259649Z"
    },
    "papermill": {
     "duration": 4.606865,
     "end_time": "2024-02-28T18:35:37.261360",
     "exception": false,
     "start_time": "2024-02-28T18:35:32.654495",
     "status": "completed"
    },
    "tags": []
   },
   "outputs": [],
   "source": [
    "# Importing packages\n",
    "import os\n",
    "import yaml\n",
    "import logging\n",
    "import pandas as pd\n",
    "from qiime2 import Artifact\n",
    "from qiime2 import Visualization\n",
    "from qiime2 import Metadata\n",
    "import qiime2.plugins.dada2.actions as dada2_actions\n",
    "import qiime2.plugins.metadata.actions as metadata_actions\n",
    "from qiime2.plugins.feature_table.visualizers import tabulate_seqs\n",
    "from qiime2.plugins.feature_table.visualizers import summarize\n",
    "from qiime2.plugins.feature_table.visualizers import core_features\n",
    "from qiime2.plugins.feature_table.methods import filter_samples\n",
    "from qiime2.plugins.feature_table.methods import filter_seqs\n",
    "\n",
    "import matplotlib.pyplot as plt\n",
    "\n",
    "%matplotlib inline"
   ]
  },
  {
   "cell_type": "markdown",
   "id": "c36e10ff",
   "metadata": {
    "papermill": {
     "duration": 0.00215,
     "end_time": "2024-02-28T18:35:37.265885",
     "exception": false,
     "start_time": "2024-02-28T18:35:37.263735",
     "status": "completed"
    },
    "tags": []
   },
   "source": [
    "### Receiving the parameters\n",
    "\n",
    "The following cell can receive parameters using the [papermill](https://papermill.readthedocs.io/en/latest/) tool."
   ]
  },
  {
   "cell_type": "code",
   "execution_count": 2,
   "id": "3261f029",
   "metadata": {
    "ExecuteTime": {
     "end_time": "2022-06-29T18:54:01.035034Z",
     "start_time": "2022-06-29T18:54:01.028724Z"
    },
    "execution": {
     "iopub.execute_input": "2024-02-28T18:35:37.270848Z",
     "iopub.status.busy": "2024-02-28T18:35:37.270615Z",
     "iopub.status.idle": "2024-02-28T18:35:37.273795Z",
     "shell.execute_reply": "2024-02-28T18:35:37.273383Z"
    },
    "papermill": {
     "duration": 0.006741,
     "end_time": "2024-02-28T18:35:37.274732",
     "exception": false,
     "start_time": "2024-02-28T18:35:37.267991",
     "status": "completed"
    },
    "tags": [
     "parameters"
    ]
   },
   "outputs": [],
   "source": [
    "experiment_name = 'ana-flavia-superlactacao'\n",
    "base_dir = os.path.join('/', 'home', 'lauro', 'nupeb', 'redemicro')\n",
    "metadata_file = os.path.join(base_dir, 'data', 'raw', 'metadata', 'sample-metadata.tsv')\n",
    "manifest_file = os.path.join(base_dir, 'data', 'raw', 'manifest', 'sample-manifest.csv')\n",
    "replace_files = False\n",
    "phred = 20\n",
    "trunc_f = 0\n",
    "trunc_r = 0\n",
    "overlap = 12\n",
    "threads = 6\n",
    "trim = None"
   ]
  },
  {
   "cell_type": "code",
   "execution_count": 3,
   "id": "c030c341",
   "metadata": {
    "execution": {
     "iopub.execute_input": "2024-02-28T18:35:37.279531Z",
     "iopub.status.busy": "2024-02-28T18:35:37.279411Z",
     "iopub.status.idle": "2024-02-28T18:35:37.282361Z",
     "shell.execute_reply": "2024-02-28T18:35:37.281914Z"
    },
    "papermill": {
     "duration": 0.006403,
     "end_time": "2024-02-28T18:35:37.283236",
     "exception": false,
     "start_time": "2024-02-28T18:35:37.276833",
     "status": "completed"
    },
    "tags": [
     "injected-parameters"
    ]
   },
   "outputs": [],
   "source": [
    "# Parameters\n",
    "experiment_name = \"thayane-meno-hist\"\n",
    "base_dir = \"/mnt/nupeb/rede-micro/redemicro-thayane\"\n",
    "manifest_file = \"/mnt/nupeb/rede-micro/redemicro-thayane/data/manifest-paired.csv\"\n",
    "metadata_file = (\n",
    "    \"/mnt/nupeb/rede-micro/redemicro-thayane/data/metadata-meno-joined-hist.tsv\"\n",
    ")\n",
    "class_col = \"class\"\n",
    "classifier_file = \"/mnt/nupeb/rede-micro/datasets/16S_classifiers_qiime2/silva-138-99-nb-classifier.qza\"\n",
    "replace_files = False\n",
    "phred = 20\n",
    "trunc_f = 0\n",
    "trunc_r = 0\n",
    "overlap = 12\n",
    "threads = 6\n",
    "trim = {\n",
    "    \"overlap\": 8,\n",
    "    \"forward_primer\": \"CCTACGGGRSGCAGCAG\",\n",
    "    \"reverse_primer\": \"GGACTACHVGGGTWTCTAAT\",\n",
    "}\n"
   ]
  },
  {
   "cell_type": "code",
   "execution_count": 4,
   "id": "b0325549",
   "metadata": {
    "execution": {
     "iopub.execute_input": "2024-02-28T18:35:37.288036Z",
     "iopub.status.busy": "2024-02-28T18:35:37.287917Z",
     "iopub.status.idle": "2024-02-28T18:35:37.290833Z",
     "shell.execute_reply": "2024-02-28T18:35:37.290545Z"
    },
    "papermill": {
     "duration": 0.006359,
     "end_time": "2024-02-28T18:35:37.291676",
     "exception": false,
     "start_time": "2024-02-28T18:35:37.285317",
     "status": "completed"
    },
    "tags": []
   },
   "outputs": [],
   "source": [
    "# Setting hardcoded parameters for development and debbuging\n",
    "production = True\n",
    "if not production:\n",
    "    params_path = os.path.join('..', 'params', 'ana-flavia-superlactacao.yaml')\n",
    "    with open(params_path, 'r') as stream:\n",
    "        params = yaml.safe_load(stream)\n",
    "        experiment_name = params['experiment_name']\n",
    "        base_dir = params['base_dir']\n",
    "        replace_files = params['replace_files']\n",
    "        experiment_folder = os.path.abspath(os.path.join(os.getcwd(), '..', 'experiments', 'thayane-feces-01'))\n",
    "        img_folder = os.path.abspath(os.path.join(experiment_folder, 'imgs'))\n",
    "        replace_files = False\n",
    "        phred = 20\n",
    "        trunc_f = 0\n",
    "        trunc_r = 0\n",
    "        overlap = 12\n",
    "        threads = 6"
   ]
  },
  {
   "cell_type": "code",
   "execution_count": 5,
   "id": "0eeffabd",
   "metadata": {
    "ExecuteTime": {
     "end_time": "2022-06-29T18:51:02.089300Z",
     "start_time": "2022-06-29T18:51:02.084922Z"
    },
    "execution": {
     "iopub.execute_input": "2024-02-28T18:35:37.296616Z",
     "iopub.status.busy": "2024-02-28T18:35:37.296383Z",
     "iopub.status.idle": "2024-02-28T18:35:37.299133Z",
     "shell.execute_reply": "2024-02-28T18:35:37.298725Z"
    },
    "papermill": {
     "duration": 0.006237,
     "end_time": "2024-02-28T18:35:37.300007",
     "exception": false,
     "start_time": "2024-02-28T18:35:37.293770",
     "status": "completed"
    },
    "tags": []
   },
   "outputs": [],
   "source": [
    "experiment_folder = os.path.abspath(os.path.join(base_dir, 'experiments', experiment_name))\n",
    "img_folder = os.path.abspath(os.path.join(experiment_folder, 'imgs'))\n",
    "qiime_folder = os.path.join(experiment_folder, 'qiime-artifacts')\n",
    "data_dir =  os.path.abspath(os.path.join(base_dir, 'data'))\n",
    "raw_data_dir =  os.path.abspath(os.path.join(data_dir, 'raw'))\n",
    "interim_data_dir =  os.path.abspath(os.path.join(data_dir, 'interim'))"
   ]
  },
  {
   "cell_type": "markdown",
   "id": "c637b328",
   "metadata": {
    "papermill": {
     "duration": 0.00211,
     "end_time": "2024-02-28T18:35:37.304374",
     "exception": false,
     "start_time": "2024-02-28T18:35:37.302264",
     "status": "completed"
    },
    "tags": []
   },
   "source": [
    "### Defining names and paths"
   ]
  },
  {
   "cell_type": "code",
   "execution_count": 6,
   "id": "46330a58",
   "metadata": {
    "execution": {
     "iopub.execute_input": "2024-02-28T18:35:37.309458Z",
     "iopub.status.busy": "2024-02-28T18:35:37.309164Z",
     "iopub.status.idle": "2024-02-28T18:35:37.313747Z",
     "shell.execute_reply": "2024-02-28T18:35:37.313454Z"
    },
    "papermill": {
     "duration": 0.008072,
     "end_time": "2024-02-28T18:35:37.314612",
     "exception": false,
     "start_time": "2024-02-28T18:35:37.306540",
     "status": "completed"
    },
    "tags": []
   },
   "outputs": [],
   "source": [
    "# Determine if is SingleEnd or PairedEnd\n",
    "manifest_df = pd.read_csv(manifest_file)\n",
    "n_directions = len(manifest_df['direction'].unique())\n",
    "sufix = 'single' if n_directions == 1 else 'paired'"
   ]
  },
  {
   "cell_type": "code",
   "execution_count": 7,
   "id": "478309b2",
   "metadata": {
    "ExecuteTime": {
     "end_time": "2022-05-30T19:57:39.064490Z",
     "start_time": "2022-05-30T19:57:39.007809Z"
    },
    "execution": {
     "iopub.execute_input": "2024-02-28T18:35:37.319614Z",
     "iopub.status.busy": "2024-02-28T18:35:37.319492Z",
     "iopub.status.idle": "2024-02-28T18:35:37.322637Z",
     "shell.execute_reply": "2024-02-28T18:35:37.322189Z"
    },
    "papermill": {
     "duration": 0.006875,
     "end_time": "2024-02-28T18:35:37.323617",
     "exception": false,
     "start_time": "2024-02-28T18:35:37.316742",
     "status": "completed"
    },
    "tags": []
   },
   "outputs": [],
   "source": [
    "if trim:\n",
    "    demux_file = os.path.join(qiime_folder, f'demux-{sufix}-trim.qza')\n",
    "else:\n",
    "    demux_file = os.path.join(qiime_folder, f'demux-{sufix}.qza')\n",
    "\n",
    "dada2_tabs = os.path.join(qiime_folder, 'dada2-tabs.qza')\n",
    "dada2_reps = os.path.join(qiime_folder, 'dada2-reps.qza')\n",
    "dada2_stat = os.path.join(qiime_folder, 'dada2-stat.qza')\n",
    "\n",
    "\n",
    "dada2_tabs_view = dada2_tabs[:-1] + 'v'\n",
    "dada2_reps_view = dada2_reps[:-1] + 'v'\n",
    "dada2_stat_view = dada2_stat[:-1] + 'v'\n",
    "dada2_core_view = os.path.join(qiime_folder, 'dada2-core.qzv')"
   ]
  },
  {
   "cell_type": "markdown",
   "id": "46bbc547",
   "metadata": {
    "papermill": {
     "duration": 0.002244,
     "end_time": "2024-02-28T18:35:37.328054",
     "exception": false,
     "start_time": "2024-02-28T18:35:37.325810",
     "status": "completed"
    },
    "tags": []
   },
   "source": [
    "## Step execution\n",
    "\n",
    "### Load input files\n",
    "\n",
    "This Step import the QIIME2 `SampleData[PairedEndSequencesWithQuality]` Artifact with all demultiplexed sequences and the `Metadata` file."
   ]
  },
  {
   "cell_type": "code",
   "execution_count": 8,
   "id": "9b704352",
   "metadata": {
    "ExecuteTime": {
     "end_time": "2022-05-30T19:57:39.077380Z",
     "start_time": "2022-05-30T19:57:39.066746Z"
    },
    "execution": {
     "iopub.execute_input": "2024-02-28T18:35:37.333246Z",
     "iopub.status.busy": "2024-02-28T18:35:37.332858Z",
     "iopub.status.idle": "2024-02-28T18:35:37.335519Z",
     "shell.execute_reply": "2024-02-28T18:35:37.335233Z"
    },
    "papermill": {
     "duration": 0.006106,
     "end_time": "2024-02-28T18:35:37.336364",
     "exception": false,
     "start_time": "2024-02-28T18:35:37.330258",
     "status": "completed"
    },
    "tags": []
   },
   "outputs": [],
   "source": [
    "need_dada2 = not (os.path.isfile(dada2_tabs) and os.path.isfile(dada2_reps)) or replace_files\n",
    "need_view = not (os.path.isfile(dada2_tabs_view) and os.path.isfile(dada2_reps_view)) or replace_files"
   ]
  },
  {
   "cell_type": "markdown",
   "id": "a6ff63c1",
   "metadata": {
    "tags": [
     "papermill-error-cell-tag"
    ]
   },
   "source": [
    "<span id=\"papermill-error-cell\" style=\"color:red; font-family:Helvetica Neue, Helvetica, Arial, sans-serif; font-size:2em;\">Execution using papermill encountered an exception here and stopped:</span>"
   ]
  },
  {
   "cell_type": "code",
   "execution_count": 9,
   "id": "f3028574",
   "metadata": {
    "ExecuteTime": {
     "end_time": "2022-05-30T19:57:39.089632Z",
     "start_time": "2022-05-30T19:57:39.079347Z"
    },
    "execution": {
     "iopub.execute_input": "2024-02-28T18:35:37.341422Z",
     "iopub.status.busy": "2024-02-28T18:35:37.341301Z",
     "iopub.status.idle": "2024-02-28T18:35:37.783415Z",
     "shell.execute_reply": "2024-02-28T18:35:37.782789Z"
    },
    "papermill": {
     "duration": 0.445755,
     "end_time": "2024-02-28T18:35:37.784390",
     "exception": true,
     "start_time": "2024-02-28T18:35:37.338635",
     "status": "failed"
    },
    "tags": []
   },
   "outputs": [],
   "source": [
    "if need_dada2:\n",
    "    demux = Artifact.load(demux_file)"
   ]
  },
  {
   "cell_type": "code",
   "execution_count": 10,
   "id": "c1181ff5",
   "metadata": {
    "ExecuteTime": {
     "end_time": "2022-05-30T19:57:39.145879Z",
     "start_time": "2022-05-30T19:57:39.091983Z"
    },
    "papermill": {
     "duration": null,
     "end_time": null,
     "exception": null,
     "start_time": null,
     "status": "pending"
    },
    "tags": []
   },
   "outputs": [],
   "source": [
    "metadata = Metadata.load(metadata_file)"
   ]
  },
  {
   "cell_type": "markdown",
   "id": "11972be1",
   "metadata": {
    "papermill": {
     "duration": null,
     "end_time": null,
     "exception": null,
     "start_time": null,
     "status": "pending"
    },
    "tags": []
   },
   "source": [
    "### Execute DADA2 plugin and create Artifacts\n",
    "\n",
    "The DADA2 plugin perform tha quality control and create the ASV table. It will be produced three Artifacts:\n",
    "\n",
    "- tabs (`FeatureTable[Frequency]`) : \n",
    "    The resulting feature table.\n",
    "- reps (`FeatureData[Sequence]`) :\n",
    "    The resulting feature sequences. Each feature in the feature table will\n",
    "    be represented by exactly one sequence, and these sequences will be the\n",
    "    joined paired-end sequences.\n",
    "- denoising_stats (`SampleData[DADA2Stats]`) : the resulting stats. Shows the number and the proportion of filtered reads in each phase of the plugin execution."
   ]
  },
  {
   "cell_type": "code",
   "execution_count": 12,
   "id": "b8ddc600",
   "metadata": {
    "papermill": {
     "duration": null,
     "end_time": null,
     "exception": null,
     "start_time": null,
     "status": "pending"
    },
    "tags": []
   },
   "outputs": [
    {
     "name": "stdout",
     "output_type": "stream",
     "text": [
      "Load DADA2 data from local files\n"
     ]
    }
   ],
   "source": [
    "if not os.path.isfile(dada2_tabs) or replace_files:\n",
    "    interim_tabs_path = os.path.join(interim_data_dir, \"dada2-tabs.qza\")\n",
    "    interim_reps_path = os.path.join(interim_data_dir, \"dada2-reps.qza\")\n",
    "    interim_stat_path = os.path.join(interim_data_dir, \"dada2-stat.qza\")\n",
    "    # Verify if has shared files\n",
    "    if os.path.isfile(interim_tabs_path) and os.path.isfile(interim_reps_path) and os.path.isfile(interim_stat_path):\n",
    "        print(\"Load DADA2 data from shared files\")\n",
    "        tabs = Artifact.load(interim_tabs_path)\n",
    "        reps = Artifact.load(interim_reps_path)\n",
    "        stat = Artifact.load(interim_stat_path)\n",
    "    # Create new DADA2 files\n",
    "    else:\n",
    "        print(\"Create new local DADA2 data\")\n",
    "        if n_directions == 1: # SingleEnd\n",
    "            tabs, reps, stat = dada2_actions.denoise_single(\n",
    "                demultiplexed_seqs=demux,\n",
    "                trunc_q = phred,\n",
    "                n_threads = threads,\n",
    "                trunc_len = trunc_f,\n",
    "            )\n",
    "        elif n_directions == 2: # PairedEnd\n",
    "            tabs, reps, stat = dada2_actions.denoise_paired(\n",
    "                demultiplexed_seqs=demux,\n",
    "                trunc_q = phred,\n",
    "                min_overlap = overlap,\n",
    "                n_threads = threads,\n",
    "                trunc_len_f = trunc_f,\n",
    "                trunc_len_r = trunc_r,\n",
    "            )\n",
    "        tabs.save(dada2_tabs)\n",
    "        reps.save(dada2_reps)\n",
    "        stat.save(dada2_stat)\n",
    "else:\n",
    "    print(\"Load DADA2 data from local files\")\n",
    "    tabs = Artifact.load(dada2_tabs)\n",
    "    reps = Artifact.load(dada2_reps)\n",
    "#     stat = Artifact.load(dada2_stat)"
   ]
  },
  {
   "cell_type": "markdown",
   "id": "e25ce595",
   "metadata": {
    "papermill": {
     "duration": null,
     "end_time": null,
     "exception": null,
     "start_time": null,
     "status": "pending"
    },
    "tags": []
   },
   "source": [
    "### Filter samples"
   ]
  },
  {
   "cell_type": "code",
   "execution_count": 13,
   "id": "b6bb584d",
   "metadata": {
    "papermill": {
     "duration": null,
     "end_time": null,
     "exception": null,
     "start_time": null,
     "status": "pending"
    },
    "tags": []
   },
   "outputs": [
    {
     "name": "stderr",
     "output_type": "stream",
     "text": [
      "/home/lauro/anaconda3/envs/qiime2-2023.5/lib/python3.8/site-packages/q2_types/feature_data/_transformer.py:258: FutureWarning: iteritems is deprecated and will be removed in a future version. Use .items instead.\n",
      "  for id_, seq in data.iteritems():\n"
     ]
    }
   ],
   "source": [
    "# Filter FeatureTable[Frequency | RelativeFrequency | PresenceAbsence | Composition] based on Metadata sample ID values\n",
    "tabs = filter_samples(\n",
    "    table=tabs,\n",
    "    metadata=metadata,\n",
    ").filtered_table\n",
    "# Filter SampleData[SequencesWithQuality | PairedEndSequencesWithQuality | JoinedSequencesWithQuality] based on Metadata sample ID values; returns FeatureData[Sequence | AlignedSequence]\n",
    "reps = filter_seqs(\n",
    "    data=reps,\n",
    "    table=tabs,\n",
    ").filtered_data"
   ]
  },
  {
   "cell_type": "markdown",
   "id": "53221d88",
   "metadata": {
    "papermill": {
     "duration": null,
     "end_time": null,
     "exception": null,
     "start_time": null,
     "status": "pending"
    },
    "tags": []
   },
   "source": [
    "### Define Visualizations Artifacts"
   ]
  },
  {
   "cell_type": "code",
   "execution_count": 15,
   "id": "e7649436",
   "metadata": {
    "ExecuteTime": {
     "end_time": "2022-05-30T19:57:39.249051Z",
     "start_time": "2022-05-30T19:57:39.173053Z"
    },
    "papermill": {
     "duration": null,
     "end_time": null,
     "exception": null,
     "start_time": null,
     "status": "pending"
    },
    "tags": []
   },
   "outputs": [
    {
     "data": {
      "image/png": "[encoded data removed]",
      "text/plain": [
       "<Figure size 640x480 with 1 Axes>"
      ]
     },
     "metadata": {},
     "output_type": "display_data"
    }
   ],
   "source": [
    "# If some of the DADA2 Visualization artifacts do not exist or if the old files will be replaced\n",
    "if need_view:\n",
    "    \n",
    "    tabs_view, = metadata_actions.tabulate(input=tabs.view(Metadata))\n",
    "    reps_view, = metadata_actions.tabulate(input=reps.view(Metadata))\n",
    "#     stat_view, = metadata_actions.tabulate(input=stat.view(Metadata))\n",
    "    \n",
    "    tabs_view = summarize(table=tabs, sample_metadata=metadata).visualization\n",
    "    reps_view = tabulate_seqs(data=reps).visualization\n",
    "    core_view = core_features(table=tabs, min_fraction=.1, steps=10).visualization\n",
    "    \n",
    "    \n",
    "    # Save the artifacts objects\n",
    "    tabs_view.save(dada2_tabs_view)\n",
    "    reps_view.save(dada2_reps_view)\n",
    "#     stat_view.save(dada2_stat_view)\n",
    "    core_view.save(dada2_core_view)\n",
    "\n",
    "else:\n",
    "    tabs_view = Visualization.load(dada2_tabs_view)\n",
    "    reps_view = Visualization.load(dada2_reps_view)\n",
    "#     stat_view = Visualization.load(dada2_stat_view)\n",
    "    core_view = Visualization.load(dada2_core_view)"
   ]
  },
  {
   "cell_type": "code",
   "execution_count": 16,
   "id": "9dd0eeb7",
   "metadata": {
    "papermill": {
     "duration": null,
     "end_time": null,
     "exception": null,
     "start_time": null,
     "status": "pending"
    },
    "tags": []
   },
   "outputs": [],
   "source": [
    "def plot_stats_box(artifact, fname, total_reads_phases, percent_phases, cols):\n",
    "    import matplotlib.pyplot as plt\n",
    "    from qiime2 import Metadata\n",
    "    \n",
    "    df = artifact.view(Metadata).to_dataframe()\n",
    "    df_vals = df[total_reads_phases]\n",
    "    df_perc = df[percent_phases]\n",
    "    df_perc.columns = cols\n",
    "    \n",
    "    \n",
    "    plt.figure(figsize=(15,5))\n",
    "    plt.subplot(1, 2, 1)\n",
    "    df_vals.boxplot()\n",
    "    plt.xlabel('Fases')\n",
    "    plt.ylabel('# of reads')\n",
    "    \n",
    "    plt.subplot(1, 2, 2)\n",
    "    df_perc.boxplot()\n",
    "    plt.xlabel('Fases')\n",
    "    plt.ylabel('% of input')\n",
    "    \n",
    "    plt.savefig(fname, bbox_inches='tight')\n",
    "\n",
    "    plt.show()"
   ]
  },
  {
   "cell_type": "code",
   "execution_count": 17,
   "id": "14861728",
   "metadata": {
    "papermill": {
     "duration": null,
     "end_time": null,
     "exception": null,
     "start_time": null,
     "status": "pending"
    },
    "tags": []
   },
   "outputs": [],
   "source": [
    "if n_directions == 1: # SingleEnd\n",
    "    total_reads_phases = ['input', 'filtered', 'denoised', 'non-chimeric']\n",
    "    percent_phases = ['percentage of input passed filter', 'percentage of input non-chimeric']\n",
    "    cols = ['filtered', 'non-chimeric']\n",
    "elif n_directions == 2: # PairedEnd\n",
    "    total_reads_phases = ['input', 'filtered', 'denoised', 'merged', 'non-chimeric']\n",
    "    percent_phases = ['percentage of input passed filter', 'percentage of input merged', 'percentage of input non-chimeric']\n",
    "    cols = ['filtered', 'merged', 'non-chimeric']"
   ]
  },
  {
   "cell_type": "code",
   "execution_count": 18,
   "id": "a4284d14",
   "metadata": {
    "ExecuteTime": {
     "end_time": "2022-05-30T19:57:39.901491Z",
     "start_time": "2022-05-30T19:57:39.255220Z"
    },
    "papermill": {
     "duration": null,
     "end_time": null,
     "exception": null,
     "start_time": null,
     "status": "pending"
    },
    "scrolled": false,
    "tags": []
   },
   "outputs": [
    {
     "ename": "NameError",
     "evalue": "name 'stat' is not defined",
     "output_type": "error",
     "traceback": [
      "\u001b[0;31m---------------------------------------------------------------------------\u001b[0m",
      "\u001b[0;31mNameError\u001b[0m                                 Traceback (most recent call last)",
      "Cell \u001b[0;32mIn[18], line 1\u001b[0m\n\u001b[0;32m----> 1\u001b[0m plot_stats_box(\u001b[43mstat\u001b[49m, os\u001b[38;5;241m.\u001b[39mpath\u001b[38;5;241m.\u001b[39mjoin(img_folder, \u001b[38;5;124m'\u001b[39m\u001b[38;5;124mstep02-stats-boxplot.pdf\u001b[39m\u001b[38;5;124m'\u001b[39m), total_reads_phases, percent_phases, cols)\n",
      "\u001b[0;31mNameError\u001b[0m: name 'stat' is not defined"
     ]
    }
   ],
   "source": [
    "plot_stats_box(stat, os.path.join(img_folder, 'step02-stats-boxplot.pdf'), total_reads_phases, percent_phases, cols)"
   ]
  },
  {
   "cell_type": "code",
   "execution_count": null,
   "id": "bb779073",
   "metadata": {
    "ExecuteTime": {
     "end_time": "2022-05-31T17:58:47.140114Z",
     "start_time": "2022-05-31T17:58:47.087808Z"
    },
    "papermill": {
     "duration": null,
     "end_time": null,
     "exception": null,
     "start_time": null,
     "status": "pending"
    },
    "tags": []
   },
   "outputs": [],
   "source": [
    "stat.view(Metadata).to_dataframe().describe()[percent_phases]"
   ]
  },
  {
   "cell_type": "code",
   "execution_count": null,
   "id": "3c1784cc",
   "metadata": {
    "ExecuteTime": {
     "end_time": "2022-05-30T19:57:39.957632Z",
     "start_time": "2022-05-30T19:57:39.953762Z"
    },
    "papermill": {
     "duration": null,
     "end_time": null,
     "exception": null,
     "start_time": null,
     "status": "pending"
    },
    "tags": []
   },
   "outputs": [],
   "source": [
    "stat_view"
   ]
  }
 ],
 "metadata": {
  "celltoolbar": "Edit Metadata",
  "kernelspec": {
   "display_name": "Python 3 (ipykernel)",
   "language": "python",
   "name": "python3"
  },
  "language_info": {
   "codemirror_mode": {
    "name": "ipython",
    "version": 3
   },
   "file_extension": ".py",
   "mimetype": "text/x-python",
   "name": "python",
   "nbconvert_exporter": "python",
   "pygments_lexer": "ipython3",
   "version": "3.8.16"
  },
  "papermill": {
   "default_parameters": {},
   "duration": 6.802855,
   "end_time": "2024-02-28T18:35:38.403509",
   "environment_variables": {},
   "exception": true,
   "input_path": "nb-templates/step-quality-control.ipynb",
   "output_path": "/mnt/nupeb/rede-micro/redemicro-thayane/experiments/thayane-meno-hist/nb-executed-steps/step-quality-control-thayane-meno-hist.ipynb",
   "parameters": {
    "base_dir": "/mnt/nupeb/rede-micro/redemicro-thayane",
    "class_col": "class",
    "classifier_file": "/mnt/nupeb/rede-micro/datasets/16S_classifiers_qiime2/silva-138-99-nb-classifier.qza",
    "experiment_name": "thayane-meno-hist",
    "manifest_file": "/mnt/nupeb/rede-micro/redemicro-thayane/data/manifest-paired.csv",
    "metadata_file": "/mnt/nupeb/rede-micro/redemicro-thayane/data/metadata-meno-joined-hist.tsv",
    "overlap": 12,
    "phred": 20,
    "replace_files": false,
    "threads": 6,
    "trim": {
     "forward_primer": "CCTACGGGRSGCAGCAG",
     "overlap": 8,
     "reverse_primer": "GGACTACHVGGGTWTCTAAT"
    },
    "trunc_f": 0,
    "trunc_r": 0
   },
   "start_time": "2024-02-28T18:35:31.600654",
   "version": "2.4.0"
  },
  "toc-autonumbering": false,
  "toc-showcode": false,
  "toc-showmarkdowntxt": false
 },
 "nbformat": 4,
 "nbformat_minor": 5
}
