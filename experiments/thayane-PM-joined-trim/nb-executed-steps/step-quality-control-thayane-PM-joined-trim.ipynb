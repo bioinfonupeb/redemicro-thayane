{
 "cells": [
  {
   "cell_type": "markdown",
   "id": "8d109406",
   "metadata": {
    "papermill": {
     "duration": 0.023474,
     "end_time": "2023-09-06T21:42:49.280564",
     "exception": false,
     "start_time": "2023-09-06T21:42:49.257090",
     "status": "completed"
    },
    "tags": []
   },
   "source": [
    "# Quality Control and ASV table construction with DADA2"
   ]
  },
  {
   "cell_type": "markdown",
   "id": "31b0e8bd",
   "metadata": {
    "papermill": {
     "duration": 0.089046,
     "end_time": "2023-09-06T21:42:49.385761",
     "exception": false,
     "start_time": "2023-09-06T21:42:49.296715",
     "status": "completed"
    },
    "tags": []
   },
   "source": [
    "## Setup and settings"
   ]
  },
  {
   "cell_type": "code",
   "execution_count": 1,
   "id": "0ba92802",
   "metadata": {
    "ExecuteTime": {
     "end_time": "2022-06-29T18:49:49.974644Z",
     "start_time": "2022-06-29T18:49:30.876897Z"
    },
    "execution": {
     "iopub.execute_input": "2023-09-06T21:42:49.418880Z",
     "iopub.status.busy": "2023-09-06T21:42:49.418547Z",
     "iopub.status.idle": "2023-09-06T21:42:55.953264Z",
     "shell.execute_reply": "2023-09-06T21:42:55.952569Z"
    },
    "papermill": {
     "duration": 6.554756,
     "end_time": "2023-09-06T21:42:55.956528",
     "exception": false,
     "start_time": "2023-09-06T21:42:49.401772",
     "status": "completed"
    },
    "tags": []
   },
   "outputs": [],
   "source": [
    "# Importing packages\n",
    "import os\n",
    "import yaml\n",
    "import logging\n",
    "import pandas as pd\n",
    "from qiime2 import Artifact\n",
    "from qiime2 import Visualization\n",
    "from qiime2 import Metadata\n",
    "import qiime2.plugins.dada2.actions as dada2_actions\n",
    "import qiime2.plugins.metadata.actions as metadata_actions\n",
    "from qiime2.plugins.feature_table.visualizers import tabulate_seqs\n",
    "from qiime2.plugins.feature_table.visualizers import summarize\n",
    "from qiime2.plugins.feature_table.visualizers import core_features\n",
    "from qiime2.plugins.feature_table.methods import filter_samples\n",
    "from qiime2.plugins.feature_table.methods import filter_seqs\n",
    "\n",
    "import matplotlib.pyplot as plt\n",
    "\n",
    "%matplotlib inline"
   ]
  },
  {
   "cell_type": "markdown",
   "id": "9df654b9",
   "metadata": {
    "papermill": {
     "duration": 0.013747,
     "end_time": "2023-09-06T21:42:55.991616",
     "exception": false,
     "start_time": "2023-09-06T21:42:55.977869",
     "status": "completed"
    },
    "tags": []
   },
   "source": [
    "### Receiving the parameters\n",
    "\n",
    "The following cell can receive parameters using the [papermill](https://papermill.readthedocs.io/en/latest/) tool."
   ]
  },
  {
   "cell_type": "code",
   "execution_count": 2,
   "id": "27a233f8",
   "metadata": {
    "ExecuteTime": {
     "end_time": "2022-06-29T18:54:01.035034Z",
     "start_time": "2022-06-29T18:54:01.028724Z"
    },
    "execution": {
     "iopub.execute_input": "2023-09-06T21:42:56.040880Z",
     "iopub.status.busy": "2023-09-06T21:42:56.040521Z",
     "iopub.status.idle": "2023-09-06T21:42:56.044866Z",
     "shell.execute_reply": "2023-09-06T21:42:56.044333Z"
    },
    "papermill": {
     "duration": 0.032306,
     "end_time": "2023-09-06T21:42:56.047916",
     "exception": false,
     "start_time": "2023-09-06T21:42:56.015610",
     "status": "completed"
    },
    "tags": [
     "parameters"
    ]
   },
   "outputs": [],
   "source": [
    "experiment_name = 'ana-flavia-superlactacao'\n",
    "base_dir = os.path.join('/', 'home', 'lauro', 'nupeb', 'redemicro')\n",
    "metadata_file = os.path.join(base_dir, 'data', 'raw', 'metadata', 'sample-metadata.tsv')\n",
    "manifest_file = os.path.join(base_dir, 'data', 'raw', 'manifest', 'sample-manifest.csv')\n",
    "replace_files = False\n",
    "phred = 20\n",
    "trunc_f = 0\n",
    "trunc_r = 0\n",
    "overlap = 12\n",
    "threads = 6\n",
    "trim = None"
   ]
  },
  {
   "cell_type": "code",
   "execution_count": 3,
   "id": "c65076c8",
   "metadata": {
    "execution": {
     "iopub.execute_input": "2023-09-06T21:42:56.082489Z",
     "iopub.status.busy": "2023-09-06T21:42:56.082154Z",
     "iopub.status.idle": "2023-09-06T21:42:56.086667Z",
     "shell.execute_reply": "2023-09-06T21:42:56.086086Z"
    },
    "papermill": {
     "duration": 0.021051,
     "end_time": "2023-09-06T21:42:56.088304",
     "exception": false,
     "start_time": "2023-09-06T21:42:56.067253",
     "status": "completed"
    },
    "tags": [
     "injected-parameters"
    ]
   },
   "outputs": [],
   "source": [
    "# Parameters\n",
    "experiment_name = \"thayane-PM-joined-trim\"\n",
    "base_dir = \"/home/lauro/nupeb/rede-micro/redemicro-thayane\"\n",
    "manifest_file = (\n",
    "    \"/home/lauro/nupeb/rede-micro/redemicro-thayane/data/manifest-single.csv\"\n",
    ")\n",
    "metadata_file = \"/home/lauro/nupeb/rede-micro/redemicro-thayane/data/metadata.tsv\"\n",
    "class_col = \"above_10\"\n",
    "classifier_file = (\n",
    "    \"/home/lauro/nupeb/16S_classifiers_qiime2/silva-138-99-nb-classifier.qza\"\n",
    ")\n",
    "replace_files = False\n",
    "phred = 20\n",
    "trunc_f = 0\n",
    "trunc_r = 0\n",
    "overlap = 12\n",
    "threads = 6\n"
   ]
  },
  {
   "cell_type": "code",
   "execution_count": 4,
   "id": "8f3acc33",
   "metadata": {
    "execution": {
     "iopub.execute_input": "2023-09-06T21:42:56.193118Z",
     "iopub.status.busy": "2023-09-06T21:42:56.192732Z",
     "iopub.status.idle": "2023-09-06T21:42:56.200683Z",
     "shell.execute_reply": "2023-09-06T21:42:56.199758Z"
    },
    "papermill": {
     "duration": 0.025477,
     "end_time": "2023-09-06T21:42:56.202589",
     "exception": false,
     "start_time": "2023-09-06T21:42:56.177112",
     "status": "completed"
    },
    "tags": []
   },
   "outputs": [],
   "source": [
    "# Setting hardcoded parameters for development and debbuging\n",
    "production = True\n",
    "if not production:\n",
    "    params_path = os.path.join('..', 'params', 'ana-flavia-superlactacao.yaml')\n",
    "    with open(params_path, 'r') as stream:\n",
    "        params = yaml.safe_load(stream)\n",
    "        experiment_name = params['experiment_name']\n",
    "        base_dir = params['base_dir']\n",
    "        replace_files = params['replace_files']\n",
    "        experiment_folder = os.path.abspath(os.path.join(os.getcwd(), '..', 'experiments', 'thayane-feces-01'))\n",
    "        img_folder = os.path.abspath(os.path.join(experiment_folder, 'imgs'))\n",
    "        replace_files = False\n",
    "        phred = 20\n",
    "        trunc_f = 0\n",
    "        trunc_r = 0\n",
    "        overlap = 12\n",
    "        threads = 6"
   ]
  },
  {
   "cell_type": "code",
   "execution_count": 5,
   "id": "3d0efe02",
   "metadata": {
    "ExecuteTime": {
     "end_time": "2022-06-29T18:51:02.089300Z",
     "start_time": "2022-06-29T18:51:02.084922Z"
    },
    "execution": {
     "iopub.execute_input": "2023-09-06T21:42:56.235406Z",
     "iopub.status.busy": "2023-09-06T21:42:56.235174Z",
     "iopub.status.idle": "2023-09-06T21:42:56.239961Z",
     "shell.execute_reply": "2023-09-06T21:42:56.239240Z"
    },
    "papermill": {
     "duration": 0.022074,
     "end_time": "2023-09-06T21:42:56.241733",
     "exception": false,
     "start_time": "2023-09-06T21:42:56.219659",
     "status": "completed"
    },
    "tags": []
   },
   "outputs": [],
   "source": [
    "experiment_folder = os.path.abspath(os.path.join(base_dir, 'experiments', experiment_name))\n",
    "img_folder = os.path.abspath(os.path.join(experiment_folder, 'imgs'))\n",
    "qiime_folder = os.path.join(experiment_folder, 'qiime-artifacts')\n",
    "data_dir =  os.path.abspath(os.path.join(base_dir, 'data'))\n",
    "raw_data_dir =  os.path.abspath(os.path.join(data_dir, 'raw'))\n",
    "interim_data_dir =  os.path.abspath(os.path.join(data_dir, 'interim'))"
   ]
  },
  {
   "cell_type": "markdown",
   "id": "95b4d224",
   "metadata": {
    "papermill": {
     "duration": 0.014635,
     "end_time": "2023-09-06T21:42:56.271244",
     "exception": false,
     "start_time": "2023-09-06T21:42:56.256609",
     "status": "completed"
    },
    "tags": []
   },
   "source": [
    "### Defining names and paths"
   ]
  },
  {
   "cell_type": "code",
   "execution_count": 6,
   "id": "4d4f3021",
   "metadata": {
    "ExecuteTime": {
     "end_time": "2022-05-30T19:57:39.064490Z",
     "start_time": "2022-05-30T19:57:39.007809Z"
    },
    "execution": {
     "iopub.execute_input": "2023-09-06T21:42:56.301954Z",
     "iopub.status.busy": "2023-09-06T21:42:56.301560Z",
     "iopub.status.idle": "2023-09-06T21:42:56.309044Z",
     "shell.execute_reply": "2023-09-06T21:42:56.308147Z"
    },
    "papermill": {
     "duration": 0.024881,
     "end_time": "2023-09-06T21:42:56.310812",
     "exception": false,
     "start_time": "2023-09-06T21:42:56.285931",
     "status": "completed"
    },
    "tags": []
   },
   "outputs": [],
   "source": [
    "if trim:\n",
    "    demux_file = os.path.join(qiime_folder, 'demux-paired-trim.qza')\n",
    "else:\n",
    "    demux_file = os.path.join(qiime_folder, 'demux-paired.qza')\n",
    "\n",
    "dada2_tabs = os.path.join(qiime_folder, 'dada2-tabs.qza')\n",
    "dada2_reps = os.path.join(qiime_folder, 'dada2-reps.qza')\n",
    "dada2_stat = os.path.join(qiime_folder, 'dada2-stat.qza')\n",
    "\n",
    "\n",
    "dada2_tabs_view = dada2_tabs[:-1] + 'v'\n",
    "dada2_reps_view = dada2_reps[:-1] + 'v'\n",
    "dada2_stat_view = dada2_stat[:-1] + 'v'\n",
    "dada2_core_view = os.path.join(qiime_folder, 'dada2-core.qzv')"
   ]
  },
  {
   "cell_type": "markdown",
   "id": "ac1f1d94",
   "metadata": {
    "papermill": {
     "duration": 0.014469,
     "end_time": "2023-09-06T21:42:56.341772",
     "exception": false,
     "start_time": "2023-09-06T21:42:56.327303",
     "status": "completed"
    },
    "tags": []
   },
   "source": [
    "## Step execution\n",
    "\n",
    "### Load input files\n",
    "\n",
    "This Step import the QIIME2 `SampleData[PairedEndSequencesWithQuality]` Artifact with all demultiplexed sequences and the `Metadata` file."
   ]
  },
  {
   "cell_type": "code",
   "execution_count": 7,
   "id": "6f81dfe9",
   "metadata": {
    "ExecuteTime": {
     "end_time": "2022-05-30T19:57:39.077380Z",
     "start_time": "2022-05-30T19:57:39.066746Z"
    },
    "execution": {
     "iopub.execute_input": "2023-09-06T21:42:56.371938Z",
     "iopub.status.busy": "2023-09-06T21:42:56.371543Z",
     "iopub.status.idle": "2023-09-06T21:42:56.378116Z",
     "shell.execute_reply": "2023-09-06T21:42:56.377182Z"
    },
    "papermill": {
     "duration": 0.023542,
     "end_time": "2023-09-06T21:42:56.379730",
     "exception": false,
     "start_time": "2023-09-06T21:42:56.356188",
     "status": "completed"
    },
    "tags": []
   },
   "outputs": [],
   "source": [
    "need_dada2 = not (os.path.isfile(dada2_tabs) and os.path.isfile(dada2_reps) and os.path.isfile(dada2_stat)) or replace_files\n",
    "need_view = not (os.path.isfile(dada2_tabs_view) and os.path.isfile(dada2_reps_view) and os.path.isfile(dada2_stat_view)) or replace_files"
   ]
  },
  {
   "cell_type": "code",
   "execution_count": 8,
   "id": "7ab2e992",
   "metadata": {
    "ExecuteTime": {
     "end_time": "2022-05-30T19:57:39.089632Z",
     "start_time": "2022-05-30T19:57:39.079347Z"
    },
    "execution": {
     "iopub.execute_input": "2023-09-06T21:42:56.412368Z",
     "iopub.status.busy": "2023-09-06T21:42:56.411818Z",
     "iopub.status.idle": "2023-09-06T21:42:56.417051Z",
     "shell.execute_reply": "2023-09-06T21:42:56.416056Z"
    },
    "papermill": {
     "duration": 0.022382,
     "end_time": "2023-09-06T21:42:56.418782",
     "exception": false,
     "start_time": "2023-09-06T21:42:56.396400",
     "status": "completed"
    },
    "tags": []
   },
   "outputs": [],
   "source": [
    "if need_dada2:\n",
    "    demux = Artifact.load(demux_file)"
   ]
  },
  {
   "cell_type": "code",
   "execution_count": 9,
   "id": "33a1890a",
   "metadata": {
    "ExecuteTime": {
     "end_time": "2022-05-30T19:57:39.145879Z",
     "start_time": "2022-05-30T19:57:39.091983Z"
    },
    "execution": {
     "iopub.execute_input": "2023-09-06T21:42:56.449696Z",
     "iopub.status.busy": "2023-09-06T21:42:56.449217Z",
     "iopub.status.idle": "2023-09-06T21:42:56.488696Z",
     "shell.execute_reply": "2023-09-06T21:42:56.488015Z"
    },
    "papermill": {
     "duration": 0.058033,
     "end_time": "2023-09-06T21:42:56.491572",
     "exception": false,
     "start_time": "2023-09-06T21:42:56.433539",
     "status": "completed"
    },
    "tags": []
   },
   "outputs": [],
   "source": [
    "metadata = Metadata.load(metadata_file)"
   ]
  },
  {
   "cell_type": "code",
   "execution_count": 10,
   "id": "458f2f91",
   "metadata": {
    "execution": {
     "iopub.execute_input": "2023-09-06T21:42:56.524623Z",
     "iopub.status.busy": "2023-09-06T21:42:56.524228Z",
     "iopub.status.idle": "2023-09-06T21:42:56.547027Z",
     "shell.execute_reply": "2023-09-06T21:42:56.546415Z"
    },
    "papermill": {
     "duration": 0.038649,
     "end_time": "2023-09-06T21:42:56.549034",
     "exception": false,
     "start_time": "2023-09-06T21:42:56.510385",
     "status": "completed"
    },
    "tags": []
   },
   "outputs": [],
   "source": [
    "# Determine if is SingleEnd or PairedEnd\n",
    "manifest_df = pd.read_csv(manifest_file)\n",
    "n_directions = len(manifest_df['direction'].unique())"
   ]
  },
  {
   "cell_type": "markdown",
   "id": "4c0a57ac",
   "metadata": {
    "papermill": {
     "duration": 0.022177,
     "end_time": "2023-09-06T21:42:56.590674",
     "exception": false,
     "start_time": "2023-09-06T21:42:56.568497",
     "status": "completed"
    },
    "tags": []
   },
   "source": [
    "### Execute DADA2 plugin and create Artifacts\n",
    "\n",
    "The DADA2 plugin perform tha quality control and create the ASV table. It will be produced three Artifacts:\n",
    "\n",
    "- tabs (`FeatureTable[Frequency]`) : \n",
    "    The resulting feature table.\n",
    "- reps (`FeatureData[Sequence]`) :\n",
    "    The resulting feature sequences. Each feature in the feature table will\n",
    "    be represented by exactly one sequence, and these sequences will be the\n",
    "    joined paired-end sequences.\n",
    "- denoising_stats (`SampleData[DADA2Stats]`) : the resulting stats. Shows the number and the proportion of filtered reads in each phase of the plugin execution."
   ]
  },
  {
   "cell_type": "code",
   "execution_count": 11,
   "id": "38ff3388",
   "metadata": {
    "execution": {
     "iopub.execute_input": "2023-09-06T21:42:56.619121Z",
     "iopub.status.busy": "2023-09-06T21:42:56.618685Z",
     "iopub.status.idle": "2023-09-06T21:42:56.686244Z",
     "shell.execute_reply": "2023-09-06T21:42:56.685578Z"
    },
    "papermill": {
     "duration": 0.084963,
     "end_time": "2023-09-06T21:42:56.688353",
     "exception": false,
     "start_time": "2023-09-06T21:42:56.603390",
     "status": "completed"
    },
    "tags": []
   },
   "outputs": [
    {
     "name": "stdout",
     "output_type": "stream",
     "text": [
      "Load DADA2 data from local files\n"
     ]
    }
   ],
   "source": [
    "if not os.path.isfile(dada2_tabs) or replace_files:\n",
    "    interim_tabs_path = os.path.join(interim_data_dir, \"dada2-tabs.qza\")\n",
    "    interim_reps_path = os.path.join(interim_data_dir, \"dada2-reps.qza\")\n",
    "    interim_stat_path = os.path.join(interim_data_dir, \"dada2-stat.qza\")\n",
    "    # Verify if has shared files\n",
    "    if os.path.isfile(interim_tabs_path) and os.path.isfile(interim_reps_path) and os.path.isfile(interim_stat_path):\n",
    "        print(\"Load DADA2 data from shared files\")\n",
    "        tabs = Artifact.load(interim_tabs_path)\n",
    "        reps = Artifact.load(interim_reps_path)\n",
    "        stat = Artifact.load(interim_stat_path)\n",
    "    # Create new DADA2 files\n",
    "    else:\n",
    "        print(\"Create new local DADA2 data\")\n",
    "        if n_directions == 1: # SingleEnd\n",
    "            tabs, reps, stat = dada2_actions.denoise_single(\n",
    "                demultiplexed_seqs=demux,\n",
    "                trunc_q = phred,\n",
    "                n_threads = threads,\n",
    "                trunc_len = trunc_f,\n",
    "            )\n",
    "        elif n_directions == 2: # PairedEnd\n",
    "            tabs, reps, stat = dada2_actions.denoise_paired(\n",
    "                demultiplexed_seqs=demux,\n",
    "                trunc_q = phred,\n",
    "                min_overlap = overlap,\n",
    "                n_threads = threads,\n",
    "                trunc_len_f = trunc_f,\n",
    "                trunc_len_r = trunc_r,\n",
    "            )\n",
    "        tabs.save(dada2_tabs)\n",
    "        reps.save(dada2_reps)\n",
    "        stat.save(dada2_stat)\n",
    "else:\n",
    "    print(\"Load DADA2 data from local files\")\n",
    "    tabs = Artifact.load(dada2_tabs)\n",
    "    reps = Artifact.load(dada2_reps)\n",
    "    stat = Artifact.load(dada2_stat)"
   ]
  },
  {
   "cell_type": "markdown",
   "id": "e10e1790",
   "metadata": {
    "papermill": {
     "duration": 0.023948,
     "end_time": "2023-09-06T21:42:56.730421",
     "exception": false,
     "start_time": "2023-09-06T21:42:56.706473",
     "status": "completed"
    },
    "tags": []
   },
   "source": [
    "### Filter samples"
   ]
  },
  {
   "cell_type": "code",
   "execution_count": 12,
   "id": "721a91a3",
   "metadata": {
    "execution": {
     "iopub.execute_input": "2023-09-06T21:42:56.760929Z",
     "iopub.status.busy": "2023-09-06T21:42:56.760648Z",
     "iopub.status.idle": "2023-09-06T21:42:58.317733Z",
     "shell.execute_reply": "2023-09-06T21:42:58.317025Z"
    },
    "papermill": {
     "duration": 1.574396,
     "end_time": "2023-09-06T21:42:58.320866",
     "exception": false,
     "start_time": "2023-09-06T21:42:56.746470",
     "status": "completed"
    },
    "tags": []
   },
   "outputs": [
    {
     "name": "stdout",
     "output_type": "stream",
     "text": [
      "{'min_frequency': 0, 'max_frequency': None, 'min_features': 0, 'max_features': None, 'metadata': Metadata\n",
      "--------\n",
      "44 IDs x 8 columns\n",
      "class-straw:        ColumnProperties(type='categorical')\n",
      "local-coleta:       ColumnProperties(type='categorical')\n",
      "idade:              ColumnProperties(type='numeric')\n",
      "idade-menarca:      ColumnProperties(type='numeric')\n",
      "tempo-menopausa:    ColumnProperties(type='numeric')\n",
      "above_10:           ColumnProperties(type='categorical')\n",
      "menopausa-age-qcut: ColumnProperties(type='categorical')\n",
      "menopausa-age-bins: ColumnProperties(type='categorical')\n",
      "\n",
      "Call to_dataframe() for a tabular representation., 'where': None, 'exclude_ids': False, 'filter_empty_features': True, 'table': 2403 x 44 <class 'biom.table.Table'> with 6331 nonzero entries (5% dense)}\n",
      "{'min_frequency': 0, 'max_frequency': None, 'min_features': 0, 'max_features': None, 'metadata': Metadata\n",
      "--------\n",
      "44 IDs x 8 columns\n",
      "class-straw:        ColumnProperties(type='categorical')\n",
      "local-coleta:       ColumnProperties(type='categorical')\n",
      "idade:              ColumnProperties(type='numeric')\n",
      "idade-menarca:      ColumnProperties(type='numeric')\n",
      "tempo-menopausa:    ColumnProperties(type='numeric')\n",
      "above_10:           ColumnProperties(type='categorical')\n",
      "menopausa-age-qcut: ColumnProperties(type='categorical')\n",
      "menopausa-age-bins: ColumnProperties(type='categorical')\n",
      "\n",
      "Call to_dataframe() for a tabular representation., 'where': None, 'exclude_ids': False, 'filter_empty_features': True, 'table': 2403 x 44 <class 'biom.table.Table'> with 6331 nonzero entries (5% dense)}\n"
     ]
    },
    {
     "name": "stdout",
     "output_type": "stream",
     "text": [
      "{'metadata': None, 'where': None, 'exclude_ids': False, 'data': 00467836d98f063b17a325cd51d97330    (((T)), ((G)), ((G)), ((G)), ((G)), ((A)), ((A...\n",
      "0053504a75cbad644658d68e0d32aa7e    (((T)), ((G)), ((G)), ((G)), ((G)), ((A)), ((A...\n",
      "0060fd12eeb7e0c9151ed9bd939ec2ab    (((T)), ((G)), ((G)), ((G)), ((G)), ((A)), ((A...\n",
      "00aa928d554b4d273a8c64786d4912dd    (((T)), ((G)), ((G)), ((G)), ((G)), ((A)), ((A...\n",
      "00b396f20b86b3eb437d46d5d41ecca4    (((T)), ((T)), ((A)), ((G)), ((G)), ((A)), ((A...\n",
      "                                                          ...                        \n",
      "ffb2262b8183655d421ec92b0c76fb7f    (((T)), ((G)), ((G)), ((G)), ((G)), ((A)), ((A...\n",
      "ffcebd381e84cfe83cdacd5f6a6c25b4    (((G)), ((C)), ((G)), ((C)), ((G)), ((A)), ((A...\n",
      "ffd728469d288c1ecdb32ff2bbc18598    (((T)), ((G)), ((A)), ((G)), ((G)), ((A)), ((A...\n",
      "ffeae2fdd8c2c7b1d1c1c1d7a33944c8    (((T)), ((G)), ((G)), ((G)), ((G)), ((A)), ((A...\n",
      "fff0ea2bfed7ded0d6e2d0b6db49329e    (((T)), ((G)), ((G)), ((G)), ((G)), ((A)), ((A...\n",
      "Length: 2403, dtype: object, 'table': 2403 x 44 <class 'biom.table.Table'> with 6331 nonzero entries (5% dense)}\n",
      "{'metadata': None, 'where': None, 'exclude_ids': False, 'data': 00467836d98f063b17a325cd51d97330    (((T)), ((G)), ((G)), ((G)), ((G)), ((A)), ((A...\n",
      "0053504a75cbad644658d68e0d32aa7e    (((T)), ((G)), ((G)), ((G)), ((G)), ((A)), ((A...\n",
      "0060fd12eeb7e0c9151ed9bd939ec2ab    (((T)), ((G)), ((G)), ((G)), ((G)), ((A)), ((A...\n",
      "00aa928d554b4d273a8c64786d4912dd    (((T)), ((G)), ((G)), ((G)), ((G)), ((A)), ((A...\n",
      "00b396f20b86b3eb437d46d5d41ecca4    (((T)), ((T)), ((A)), ((G)), ((G)), ((A)), ((A...\n",
      "                                                          ...                        \n",
      "ffb2262b8183655d421ec92b0c76fb7f    (((T)), ((G)), ((G)), ((G)), ((G)), ((A)), ((A...\n",
      "ffcebd381e84cfe83cdacd5f6a6c25b4    (((G)), ((C)), ((G)), ((C)), ((G)), ((A)), ((A...\n",
      "ffd728469d288c1ecdb32ff2bbc18598    (((T)), ((G)), ((A)), ((G)), ((G)), ((A)), ((A...\n",
      "ffeae2fdd8c2c7b1d1c1c1d7a33944c8    (((T)), ((G)), ((G)), ((G)), ((G)), ((A)), ((A...\n",
      "fff0ea2bfed7ded0d6e2d0b6db49329e    (((T)), ((G)), ((G)), ((G)), ((G)), ((A)), ((A...\n",
      "Length: 2403, dtype: object, 'table': 2403 x 44 <class 'biom.table.Table'> with 6331 nonzero entries (5% dense)}\n"
     ]
    }
   ],
   "source": [
    "# Filter FeatureTable[Frequency | RelativeFrequency | PresenceAbsence | Composition] based on Metadata sample ID values\n",
    "tabs = filter_samples(\n",
    "    table=tabs,\n",
    "    metadata=metadata,\n",
    ").filtered_table\n",
    "# Filter SampleData[SequencesWithQuality | PairedEndSequencesWithQuality | JoinedSequencesWithQuality] based on Metadata sample ID values; returns FeatureData[Sequence | AlignedSequence]\n",
    "reps = filter_seqs(\n",
    "    data=reps,\n",
    "    table=tabs,\n",
    ").filtered_data"
   ]
  },
  {
   "cell_type": "markdown",
   "id": "bdff8d62",
   "metadata": {
    "papermill": {
     "duration": 0.016327,
     "end_time": "2023-09-06T21:42:58.360630",
     "exception": false,
     "start_time": "2023-09-06T21:42:58.344303",
     "status": "completed"
    },
    "tags": []
   },
   "source": [
    "### Define Visualizations Artifacts"
   ]
  },
  {
   "cell_type": "code",
   "execution_count": 13,
   "id": "b9cb3df5",
   "metadata": {
    "ExecuteTime": {
     "end_time": "2022-05-30T19:57:39.249051Z",
     "start_time": "2022-05-30T19:57:39.173053Z"
    },
    "execution": {
     "iopub.execute_input": "2023-09-06T21:42:58.406589Z",
     "iopub.status.busy": "2023-09-06T21:42:58.406266Z",
     "iopub.status.idle": "2023-09-06T21:42:58.548472Z",
     "shell.execute_reply": "2023-09-06T21:42:58.547788Z"
    },
    "papermill": {
     "duration": 0.162404,
     "end_time": "2023-09-06T21:42:58.551226",
     "exception": false,
     "start_time": "2023-09-06T21:42:58.388822",
     "status": "completed"
    },
    "tags": []
   },
   "outputs": [],
   "source": [
    "# If some of the DADA2 Visualization artifacts do not exist or if the old files will be replaced\n",
    "if need_view:\n",
    "    \n",
    "    tabs_view, = metadata_actions.tabulate(input=tabs.view(Metadata))\n",
    "    reps_view, = metadata_actions.tabulate(input=reps.view(Metadata))\n",
    "    stat_view, = metadata_actions.tabulate(input=stat.view(Metadata))\n",
    "    \n",
    "    tabs_view = summarize(table=tabs, sample_metadata=metadata).visualization\n",
    "    reps_view = tabulate_seqs(data=reps).visualization\n",
    "    core_view = core_features(table=tabs, min_fraction=.1, steps=10).visualization\n",
    "    \n",
    "    \n",
    "    # Save the artifacts objects\n",
    "    tabs_view.save(dada2_tabs_view)\n",
    "    reps_view.save(dada2_reps_view)\n",
    "    stat_view.save(dada2_stat_view)\n",
    "    core_view.save(dada2_core_view)\n",
    "\n",
    "else:\n",
    "    tabs_view = Visualization.load(dada2_tabs_view)\n",
    "    reps_view = Visualization.load(dada2_reps_view)\n",
    "    stat_view = Visualization.load(dada2_stat_view)\n",
    "    core_view = Visualization.load(dada2_core_view)"
   ]
  },
  {
   "cell_type": "code",
   "execution_count": 14,
   "id": "b294810e",
   "metadata": {
    "execution": {
     "iopub.execute_input": "2023-09-06T21:42:58.593410Z",
     "iopub.status.busy": "2023-09-06T21:42:58.593044Z",
     "iopub.status.idle": "2023-09-06T21:42:58.599702Z",
     "shell.execute_reply": "2023-09-06T21:42:58.598887Z"
    },
    "papermill": {
     "duration": 0.025954,
     "end_time": "2023-09-06T21:42:58.601537",
     "exception": false,
     "start_time": "2023-09-06T21:42:58.575583",
     "status": "completed"
    },
    "tags": []
   },
   "outputs": [],
   "source": [
    "def plot_stats_box(artifact, fname, total_reads_phases, percent_phases, cols):\n",
    "    import matplotlib.pyplot as plt\n",
    "    from qiime2 import Metadata\n",
    "    \n",
    "    df = artifact.view(Metadata).to_dataframe()\n",
    "    df_vals = df[total_reads_phases]\n",
    "    df_perc = df[percent_phases]\n",
    "    df_perc.columns = cols\n",
    "    \n",
    "    \n",
    "    plt.figure(figsize=(15,5))\n",
    "    plt.subplot(1, 2, 1)\n",
    "    df_vals.boxplot()\n",
    "    plt.xlabel('Fases')\n",
    "    plt.ylabel('# of reads')\n",
    "    \n",
    "    plt.subplot(1, 2, 2)\n",
    "    df_perc.boxplot()\n",
    "    plt.xlabel('Fases')\n",
    "    plt.ylabel('% of input')\n",
    "    \n",
    "    plt.savefig(fname, bbox_inches='tight')\n",
    "\n",
    "    plt.show()"
   ]
  },
  {
   "cell_type": "code",
   "execution_count": 15,
   "id": "3a4980ff",
   "metadata": {
    "execution": {
     "iopub.execute_input": "2023-09-06T21:42:58.638280Z",
     "iopub.status.busy": "2023-09-06T21:42:58.637973Z",
     "iopub.status.idle": "2023-09-06T21:42:58.642844Z",
     "shell.execute_reply": "2023-09-06T21:42:58.642273Z"
    },
    "papermill": {
     "duration": 0.023896,
     "end_time": "2023-09-06T21:42:58.644263",
     "exception": false,
     "start_time": "2023-09-06T21:42:58.620367",
     "status": "completed"
    },
    "tags": []
   },
   "outputs": [],
   "source": [
    "if n_directions == 1: # SingleEnd\n",
    "    total_reads_phases = ['input', 'filtered', 'denoised', 'non-chimeric']\n",
    "    percent_phases = ['percentage of input passed filter', 'percentage of input non-chimeric']\n",
    "    cols = ['filtered', 'non-chimeric']\n",
    "elif n_directions == 2: # PairedEnd\n",
    "    total_reads_phases = ['input', 'filtered', 'denoised', 'merged', 'non-chimeric']\n",
    "    percent_phases = ['percentage of input passed filter', 'percentage of input merged', 'percentage of input non-chimeric']\n",
    "    cols = ['filtered', 'merged', 'non-chimeric']"
   ]
  },
  {
   "cell_type": "code",
   "execution_count": 16,
   "id": "4ef5a100",
   "metadata": {
    "ExecuteTime": {
     "end_time": "2022-05-30T19:57:39.901491Z",
     "start_time": "2022-05-30T19:57:39.255220Z"
    },
    "execution": {
     "iopub.execute_input": "2023-09-06T21:42:58.680554Z",
     "iopub.status.busy": "2023-09-06T21:42:58.680040Z",
     "iopub.status.idle": "2023-09-06T21:42:59.460372Z",
     "shell.execute_reply": "2023-09-06T21:42:59.459759Z"
    },
    "papermill": {
     "duration": 0.800293,
     "end_time": "2023-09-06T21:42:59.462436",
     "exception": false,
     "start_time": "2023-09-06T21:42:58.662143",
     "status": "completed"
    },
    "scrolled": false,
    "tags": []
   },
   "outputs": [
    {
     "data": {
      "image/png": "[encoded data removed]",
      "text/plain": [
       "<Figure size 1080x360 with 2 Axes>"
      ]
     },
     "metadata": {
      "needs_background": "light"
     },
     "output_type": "display_data"
    }
   ],
   "source": [
    "plot_stats_box(stat, os.path.join(img_folder, 'step02-stats-boxplot.pdf'), total_reads_phases, percent_phases, cols)"
   ]
  },
  {
   "cell_type": "code",
   "execution_count": 17,
   "id": "f208f35e",
   "metadata": {
    "ExecuteTime": {
     "end_time": "2022-05-31T17:58:47.140114Z",
     "start_time": "2022-05-31T17:58:47.087808Z"
    },
    "execution": {
     "iopub.execute_input": "2023-09-06T21:42:59.502126Z",
     "iopub.status.busy": "2023-09-06T21:42:59.501884Z",
     "iopub.status.idle": "2023-09-06T21:42:59.539124Z",
     "shell.execute_reply": "2023-09-06T21:42:59.538482Z"
    },
    "papermill": {
     "duration": 0.057443,
     "end_time": "2023-09-06T21:42:59.541095",
     "exception": false,
     "start_time": "2023-09-06T21:42:59.483652",
     "status": "completed"
    },
    "tags": []
   },
   "outputs": [
    {
     "data": {
      "text/html": [
       "<div>\n",
       "<style scoped>\n",
       "    .dataframe tbody tr th:only-of-type {\n",
       "        vertical-align: middle;\n",
       "    }\n",
       "\n",
       "    .dataframe tbody tr th {\n",
       "        vertical-align: top;\n",
       "    }\n",
       "\n",
       "    .dataframe thead th {\n",
       "        text-align: right;\n",
       "    }\n",
       "</style>\n",
       "<table border=\"1\" class=\"dataframe\">\n",
       "  <thead>\n",
       "    <tr style=\"text-align: right;\">\n",
       "      <th></th>\n",
       "      <th>percentage of input passed filter</th>\n",
       "      <th>percentage of input non-chimeric</th>\n",
       "    </tr>\n",
       "  </thead>\n",
       "  <tbody>\n",
       "    <tr>\n",
       "      <th>count</th>\n",
       "      <td>6.000000</td>\n",
       "      <td>6.000000</td>\n",
       "    </tr>\n",
       "    <tr>\n",
       "      <th>mean</th>\n",
       "      <td>85.198333</td>\n",
       "      <td>84.525000</td>\n",
       "    </tr>\n",
       "    <tr>\n",
       "      <th>std</th>\n",
       "      <td>0.885899</td>\n",
       "      <td>1.067272</td>\n",
       "    </tr>\n",
       "    <tr>\n",
       "      <th>min</th>\n",
       "      <td>84.180000</td>\n",
       "      <td>83.090000</td>\n",
       "    </tr>\n",
       "    <tr>\n",
       "      <th>25%</th>\n",
       "      <td>84.480000</td>\n",
       "      <td>83.932500</td>\n",
       "    </tr>\n",
       "    <tr>\n",
       "      <th>50%</th>\n",
       "      <td>85.130000</td>\n",
       "      <td>84.495000</td>\n",
       "    </tr>\n",
       "    <tr>\n",
       "      <th>75%</th>\n",
       "      <td>85.930000</td>\n",
       "      <td>84.982500</td>\n",
       "    </tr>\n",
       "    <tr>\n",
       "      <th>max</th>\n",
       "      <td>86.290000</td>\n",
       "      <td>86.180000</td>\n",
       "    </tr>\n",
       "  </tbody>\n",
       "</table>\n",
       "</div>"
      ],
      "text/plain": [
       "       percentage of input passed filter  percentage of input non-chimeric\n",
       "count                           6.000000                          6.000000\n",
       "mean                           85.198333                         84.525000\n",
       "std                             0.885899                          1.067272\n",
       "min                            84.180000                         83.090000\n",
       "25%                            84.480000                         83.932500\n",
       "50%                            85.130000                         84.495000\n",
       "75%                            85.930000                         84.982500\n",
       "max                            86.290000                         86.180000"
      ]
     },
     "execution_count": 17,
     "metadata": {},
     "output_type": "execute_result"
    }
   ],
   "source": [
    "stat.view(Metadata).to_dataframe().describe()[percent_phases]"
   ]
  },
  {
   "cell_type": "code",
   "execution_count": 18,
   "id": "cd374d05",
   "metadata": {
    "ExecuteTime": {
     "end_time": "2022-05-30T19:57:39.957632Z",
     "start_time": "2022-05-30T19:57:39.953762Z"
    },
    "execution": {
     "iopub.execute_input": "2023-09-06T21:42:59.582621Z",
     "iopub.status.busy": "2023-09-06T21:42:59.582055Z",
     "iopub.status.idle": "2023-09-06T21:42:59.589381Z",
     "shell.execute_reply": "2023-09-06T21:42:59.588563Z"
    },
    "papermill": {
     "duration": 0.02807,
     "end_time": "2023-09-06T21:42:59.591075",
     "exception": false,
     "start_time": "2023-09-06T21:42:59.563005",
     "status": "completed"
    },
    "tags": []
   },
   "outputs": [
    {
     "data": {
      "text/html": [
       "<div><img onload=\"(function(div, url){\n",
       "if (typeof require !== 'undefined') {\n",
       "    var baseURL = require.toUrl('').split('/').slice(0, -2).join('/');\n",
       "} else {\n",
       "    var baseURL = JSON.parse(\n",
       "        document.getElementById('jupyter-config-data').innerHTML\n",
       "    ).baseUrl.slice(0, -1);\n",
       "}\n",
       "url = baseURL + url;\n",
       "fetch(url).then(function(res) {\n",
       "    if (res.status === 404) {\n",
       "        div.innerHTML = 'Install QIIME 2 Jupyter extension with:<br />' +\n",
       "                        '<code>jupyter serverextension enable --py qiime2' +\n",
       "                        ' --sys-prefix</code><br />then restart your server.' +\n",
       "                        '<br /><br />(Interactive output not available on ' +\n",
       "                        'static notebook viewer services like nbviewer.)';\n",
       "    } else if (res.status === 409) {\n",
       "        div.innerHTML = 'Visualization no longer in scope. Re-run this cell' +\n",
       "                        ' to see the visualization.';\n",
       "    } else if (res.ok) {\n",
       "        url = res.url;\n",
       "        div.innerHTML = '<iframe src=\\'' + url + '\\' style=\\'' +\n",
       "                        'width: 100%; height: 700px; border: 0;\\'>' +\n",
       "                        '</iframe><hr />Open in a: <a href=\\'' + url + '\\'' +\n",
       "                        ' target=\\'_blank\\'>new window</a>'\n",
       "    } else {\n",
       "        div.innerHTML = 'Something has gone wrong. Check notebook server for' +\n",
       "                        ' errors.';\n",
       "    }\n",
       "});\n",
       "})(this.parentElement, '/qiime2/redirect?location=/tmp/qiime2-archive-52osz0_j')\" src=\"data:image/gif;base64,R0lGODlhAQABAIAAAP///wAAACH5BAEAAAAALAAAAAABAAEAAAICRAEAOw==\" /></div>"
      ],
      "text/plain": [
       "<visualization: Visualization uuid: 4abdb993-fc37-4588-b0a4-869afd6f28db>"
      ]
     },
     "execution_count": 18,
     "metadata": {},
     "output_type": "execute_result"
    }
   ],
   "source": [
    "stat_view"
   ]
  }
 ],
 "metadata": {
  "celltoolbar": "Edit Metadata",
  "kernelspec": {
   "display_name": "Python 3 (ipykernel)",
   "language": "python",
   "name": "python3"
  },
  "language_info": {
   "codemirror_mode": {
    "name": "ipython",
    "version": 3
   },
   "file_extension": ".py",
   "mimetype": "text/x-python",
   "name": "python",
   "nbconvert_exporter": "python",
   "pygments_lexer": "ipython3",
   "version": "3.8.12"
  },
  "papermill": {
   "default_parameters": {},
   "duration": 12.955645,
   "end_time": "2023-09-06T21:43:00.432518",
   "environment_variables": {},
   "exception": null,
   "input_path": "nb-templates/step-quality-control.ipynb",
   "output_path": "/home/lauro/nupeb/rede-micro/redemicro-thayane/experiments/thayane-PM-joined-trim/nb-executed-steps/step-quality-control-thayane-PM-joined-trim.ipynb",
   "parameters": {
    "base_dir": "/home/lauro/nupeb/rede-micro/redemicro-thayane",
    "class_col": "above_10",
    "classifier_file": "/home/lauro/nupeb/16S_classifiers_qiime2/silva-138-99-nb-classifier.qza",
    "experiment_name": "thayane-PM-joined-trim",
    "manifest_file": "/home/lauro/nupeb/rede-micro/redemicro-thayane/data/manifest-single.csv",
    "metadata_file": "/home/lauro/nupeb/rede-micro/redemicro-thayane/data/metadata.tsv",
    "overlap": 12,
    "phred": 20,
    "replace_files": false,
    "threads": 6,
    "trunc_f": 0,
    "trunc_r": 0
   },
   "start_time": "2023-09-06T21:42:47.476873",
   "version": "2.3.4"
  },
  "toc-autonumbering": false,
  "toc-showcode": false,
  "toc-showmarkdowntxt": false
 },
 "nbformat": 4,
 "nbformat_minor": 5
}