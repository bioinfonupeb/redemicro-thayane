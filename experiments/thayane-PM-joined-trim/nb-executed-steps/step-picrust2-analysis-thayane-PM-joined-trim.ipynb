{
 "cells": [
  {
   "cell_type": "markdown",
   "id": "0e7f2330",
   "metadata": {
    "ExecuteTime": {
     "end_time": "2022-09-22T19:36:33.828188Z",
     "start_time": "2022-09-22T19:36:33.817323Z"
    },
    "papermill": {
     "duration": 0.047875,
     "end_time": "2024-01-30T21:08:01.428803",
     "exception": false,
     "start_time": "2024-01-30T21:08:01.380928",
     "status": "completed"
    },
    "tags": []
   },
   "source": [
    "### STEP : PICRUST2 Analysis\n",
    "\n",
    "\n",
    "\n",
    "#### Example\n",
    "\n",
    "- [PICRUST2 tutorial](https://github.com/picrust/picrust2/wiki/q2-picrust2-Tutorial)\n",
    "- [Limitations](https://github.com/picrust/picrust2/wiki/Key-Limitations)\n",
    "\n",
    "\n",
    "#### Methods\n",
    "- [composition](https://docs.qiime2.org/2022.8/plugins/available/composition/)"
   ]
  },
  {
   "cell_type": "markdown",
   "id": "843debbf",
   "metadata": {
    "papermill": {
     "duration": 0.036481,
     "end_time": "2024-01-30T21:08:01.502582",
     "exception": false,
     "start_time": "2024-01-30T21:08:01.466101",
     "status": "completed"
    },
    "tags": []
   },
   "source": [
    "## Setup and settings"
   ]
  },
  {
   "cell_type": "code",
   "execution_count": 1,
   "id": "965e28e5",
   "metadata": {
    "ExecuteTime": {
     "end_time": "2022-11-09T19:20:47.478806Z",
     "start_time": "2022-11-09T19:20:40.457657Z"
    },
    "execution": {
     "iopub.execute_input": "2024-01-30T21:08:01.589504Z",
     "iopub.status.busy": "2024-01-30T21:08:01.589019Z",
     "iopub.status.idle": "2024-01-30T21:08:08.249490Z",
     "shell.execute_reply": "2024-01-30T21:08:08.248351Z"
    },
    "papermill": {
     "duration": 6.71384,
     "end_time": "2024-01-30T21:08:08.249744",
     "exception": false,
     "start_time": "2024-01-30T21:08:01.535904",
     "status": "completed"
    },
    "tags": []
   },
   "outputs": [],
   "source": [
    "# Importing packages\n",
    "import os\n",
    "import biom\n",
    "import pandas as pd\n",
    "from qiime2 import Artifact\n",
    "from qiime2 import Visualization\n",
    "from qiime2 import Metadata\n",
    "\n",
    "from qiime2.plugins.feature_table.visualizers import summarize\n",
    "\n",
    "from picrust2.pipeline import full_pipeline\n",
    "from picrust2.default import (default_ref_dir, default_tables, default_regroup_map, default_pathway_map)\n",
    "from qiime2.plugins import picrust2\n",
    "from qiime2.plugins.feature_table.methods import filter_samples\n",
    "from qiime2.plugins.feature_table.methods import filter_seqs\n",
    "\n",
    "%matplotlib inline"
   ]
  },
  {
   "cell_type": "markdown",
   "id": "530ceb60",
   "metadata": {
    "papermill": {
     "duration": 0.035021,
     "end_time": "2024-01-30T21:08:08.326806",
     "exception": false,
     "start_time": "2024-01-30T21:08:08.291785",
     "status": "completed"
    },
    "tags": []
   },
   "source": [
    "### Receiving the parameters\n",
    "\n",
    "The following cell can receive parameters using the [papermill](https://papermill.readthedocs.io/en/latest/) tool."
   ]
  },
  {
   "cell_type": "code",
   "execution_count": 2,
   "id": "18d874ea",
   "metadata": {
    "ExecuteTime": {
     "end_time": "2022-11-09T19:20:47.483140Z",
     "start_time": "2022-11-09T19:20:47.480386Z"
    },
    "execution": {
     "iopub.execute_input": "2024-01-30T21:08:08.401953Z",
     "iopub.status.busy": "2024-01-30T21:08:08.401492Z",
     "iopub.status.idle": "2024-01-30T21:08:08.403512Z",
     "shell.execute_reply": "2024-01-30T21:08:08.403894Z"
    },
    "papermill": {
     "duration": 0.042226,
     "end_time": "2024-01-30T21:08:08.404000",
     "exception": false,
     "start_time": "2024-01-30T21:08:08.361774",
     "status": "completed"
    },
    "tags": [
     "parameters"
    ]
   },
   "outputs": [],
   "source": [
    "metadata_file = '/home/lauro/nupeb/rede-micro/redemicro-miliane-nutri/data/raw/metadata/miliane-metadata-CxAC.tsv'\n",
    "base_dir = os.path.join('/', 'home', 'lauro', 'nupeb', 'rede-micro', 'redemicro-miliane-nutri')\n",
    "experiment_name = 'miliane-CxAC-trim'\n",
    "class_col = 'group-id'\n",
    "replace_files = False"
   ]
  },
  {
   "cell_type": "code",
   "execution_count": 3,
   "id": "00a25b36",
   "metadata": {
    "execution": {
     "iopub.execute_input": "2024-01-30T21:08:08.472698Z",
     "iopub.status.busy": "2024-01-30T21:08:08.472248Z",
     "iopub.status.idle": "2024-01-30T21:08:08.474238Z",
     "shell.execute_reply": "2024-01-30T21:08:08.474612Z"
    },
    "papermill": {
     "duration": 0.037957,
     "end_time": "2024-01-30T21:08:08.474723",
     "exception": false,
     "start_time": "2024-01-30T21:08:08.436766",
     "status": "completed"
    },
    "tags": [
     "injected-parameters"
    ]
   },
   "outputs": [],
   "source": [
    "# Parameters\n",
    "experiment_name = \"thayane-PM-joined-trim\"\n",
    "base_dir = \"/home/lauro/nupeb/rede-micro/redemicro-thayane\"\n",
    "manifest_file = (\n",
    "    \"/home/lauro/nupeb/rede-micro/redemicro-thayane/data/manifest-single.csv\"\n",
    ")\n",
    "metadata_file = \"/home/lauro/nupeb/rede-micro/redemicro-thayane/data/metadata.tsv\"\n",
    "class_col = \"above_10\"\n",
    "classifier_file = (\n",
    "    \"/home/lauro/nupeb/16S_classifiers_qiime2/silva-138-99-nb-classifier.qza\"\n",
    ")\n",
    "replace_files = False\n",
    "phred = 20\n",
    "trunc_f = 0\n",
    "trunc_r = 0\n",
    "overlap = 12\n",
    "threads = 6\n"
   ]
  },
  {
   "cell_type": "code",
   "execution_count": 4,
   "id": "f38617d9",
   "metadata": {
    "ExecuteTime": {
     "end_time": "2022-11-09T19:20:47.515942Z",
     "start_time": "2022-11-09T19:20:47.498345Z"
    },
    "execution": {
     "iopub.execute_input": "2024-01-30T21:08:08.541725Z",
     "iopub.status.busy": "2024-01-30T21:08:08.541282Z",
     "iopub.status.idle": "2024-01-30T21:08:08.543299Z",
     "shell.execute_reply": "2024-01-30T21:08:08.543651Z"
    },
    "papermill": {
     "duration": 0.036877,
     "end_time": "2024-01-30T21:08:08.543749",
     "exception": false,
     "start_time": "2024-01-30T21:08:08.506872",
     "status": "completed"
    },
    "tags": []
   },
   "outputs": [],
   "source": [
    "experiment_folder = os.path.abspath(os.path.join(base_dir, 'experiments', experiment_name))\n",
    "img_folder = os.path.abspath(os.path.join(experiment_folder, 'imgs'))"
   ]
  },
  {
   "cell_type": "markdown",
   "id": "ea9b90fb",
   "metadata": {
    "papermill": {
     "duration": 0.030316,
     "end_time": "2024-01-30T21:08:08.605772",
     "exception": false,
     "start_time": "2024-01-30T21:08:08.575456",
     "status": "completed"
    },
    "tags": []
   },
   "source": [
    "### Defining names, paths and flags"
   ]
  },
  {
   "cell_type": "code",
   "execution_count": 5,
   "id": "45727eef",
   "metadata": {
    "ExecuteTime": {
     "end_time": "2022-11-09T19:20:47.527937Z",
     "start_time": "2022-11-09T19:20:47.517696Z"
    },
    "execution": {
     "iopub.execute_input": "2024-01-30T21:08:08.670946Z",
     "iopub.status.busy": "2024-01-30T21:08:08.670497Z",
     "iopub.status.idle": "2024-01-30T21:08:08.672127Z",
     "shell.execute_reply": "2024-01-30T21:08:08.672479Z"
    },
    "papermill": {
     "duration": 0.037076,
     "end_time": "2024-01-30T21:08:08.672592",
     "exception": false,
     "start_time": "2024-01-30T21:08:08.635516",
     "status": "completed"
    },
    "tags": []
   },
   "outputs": [],
   "source": [
    "# QIIME2 Artifacts folder\n",
    "qiime_folder = os.path.join(experiment_folder, 'qiime-artifacts')\n",
    "\n",
    "# Input - DADA2 Artifacts\n",
    "dada2_tabs_path = os.path.join(qiime_folder, 'dada2-tabs.qza')\n",
    "dada2_reqs_path = os.path.join(qiime_folder, 'dada2-reps.qza')\n",
    "\n",
    "# PICRUST@ folder\n",
    "picrust2_folder = os.path.abspath(os.path.join(experiment_folder, 'picrust2'))\n",
    "\n",
    "# Create path if it not exist\n",
    "if not os.path.isdir(picrust2_folder):\n",
    "    os.makedirs(picrust2_folder)\n",
    "    print(f'New picrust2-artifacts folder path created: {picrust2_folder}')"
   ]
  },
  {
   "cell_type": "code",
   "execution_count": 6,
   "id": "4903e645",
   "metadata": {
    "ExecuteTime": {
     "end_time": "2022-11-09T19:20:47.539993Z",
     "start_time": "2022-11-09T19:20:47.529653Z"
    },
    "execution": {
     "iopub.execute_input": "2024-01-30T21:08:08.738603Z",
     "iopub.status.busy": "2024-01-30T21:08:08.738117Z",
     "iopub.status.idle": "2024-01-30T21:08:08.740552Z",
     "shell.execute_reply": "2024-01-30T21:08:08.740113Z"
    },
    "papermill": {
     "duration": 0.03642,
     "end_time": "2024-01-30T21:08:08.740637",
     "exception": false,
     "start_time": "2024-01-30T21:08:08.704217",
     "status": "completed"
    },
    "tags": []
   },
   "outputs": [],
   "source": [
    "# Define paths for metagenome function artifacts\n",
    "ec_path = os.path.join(picrust2_folder, 'ec-pred-metagen.qza')\n",
    "ko_path = os.path.join(picrust2_folder, 'ko-pred-metagen.qza')\n",
    "pathway_path = os.path.join(picrust2_folder, 'pathway-abundance.qza')\n",
    "\n",
    "# Define paths for metagenome function visualization artifacts\n",
    "ec_viz_path = ec_path[:-1]+'v'\n",
    "ko_viz_path = ko_path[:-1]+'v'\n",
    "pathway_viz_path = pathway_path[:-1]+'v'\n",
    "\n",
    "# Define paths for biom -> tsv files (function X sample)\n",
    "pathway_fpath = os.path.join(picrust2_folder, 'pathway.tsv')\n",
    "ec_fpath = os.path.join(picrust2_folder, 'ec.tsv')\n",
    "ko_fpath = os.path.join(picrust2_folder, 'ko.tsv')\n",
    "\n",
    "# Define paths for biom -> tsv files (function X sample) - with descriptions\n",
    "pathway_desc_fpath = os.path.join(picrust2_folder, 'pathway-desc.tsv')\n",
    "ec_desc_fpath = os.path.join(picrust2_folder, 'ec-desc.tsv')\n",
    "ko_desc_fpath = os.path.join(picrust2_folder, 'ko-desc.tsv')"
   ]
  },
  {
   "cell_type": "markdown",
   "id": "0999a1b2",
   "metadata": {
    "papermill": {
     "duration": 0.029867,
     "end_time": "2024-01-30T21:08:08.800359",
     "exception": false,
     "start_time": "2024-01-30T21:08:08.770492",
     "status": "completed"
    },
    "tags": []
   },
   "source": [
    "## Step execution\n",
    "\n",
    "### Load input files\n",
    "\n",
    "This Step import the QIIME2 `FeatureTable[Frequency]` Artifact and the `Metadata` file."
   ]
  },
  {
   "cell_type": "code",
   "execution_count": 7,
   "id": "8f299d1a",
   "metadata": {
    "ExecuteTime": {
     "end_time": "2022-11-09T19:20:47.610793Z",
     "start_time": "2022-11-09T19:20:47.541540Z"
    },
    "execution": {
     "iopub.execute_input": "2024-01-30T21:08:08.864433Z",
     "iopub.status.busy": "2024-01-30T21:08:08.862728Z",
     "iopub.status.idle": "2024-01-30T21:08:08.902676Z",
     "shell.execute_reply": "2024-01-30T21:08:08.902261Z"
    },
    "papermill": {
     "duration": 0.072525,
     "end_time": "2024-01-30T21:08:08.902774",
     "exception": false,
     "start_time": "2024-01-30T21:08:08.830249",
     "status": "completed"
    },
    "tags": []
   },
   "outputs": [],
   "source": [
    "#Load Metadata\n",
    "metadata_qa = Metadata.load(metadata_file)\n",
    "\n",
    "#Load FeatureTable[Frequency]\n",
    "tabs = Artifact.load(dada2_tabs_path)\n",
    "\n",
    "#Load FeatureTable[Sequence]\n",
    "seqs = Artifact.load(dada2_reqs_path)"
   ]
  },
  {
   "cell_type": "code",
   "execution_count": 8,
   "id": "9b699dee",
   "metadata": {
    "execution": {
     "iopub.execute_input": "2024-01-30T21:08:08.968502Z",
     "iopub.status.busy": "2024-01-30T21:08:08.967810Z",
     "iopub.status.idle": "2024-01-30T21:08:09.973962Z",
     "shell.execute_reply": "2024-01-30T21:08:09.973560Z"
    },
    "papermill": {
     "duration": 1.038807,
     "end_time": "2024-01-30T21:08:09.974062",
     "exception": false,
     "start_time": "2024-01-30T21:08:08.935255",
     "status": "completed"
    },
    "tags": []
   },
   "outputs": [],
   "source": [
    "# Filter FeatureTable[Frequency | RelativeFrequency | PresenceAbsence | Composition] based on Metadata sample ID values\n",
    "tabs = filter_samples(\n",
    "    table=tabs,\n",
    "    metadata=metadata_qa,\n",
    ").filtered_table\n",
    "# Filter SampleData[SequencesWithQuality | PairedEndSequencesWithQuality | JoinedSequencesWithQuality] based on Metadata sample ID values; returns FeatureData[Sequence | AlignedSequence]\n",
    "seqs = filter_seqs(\n",
    "    data=seqs,\n",
    "    table=tabs,\n",
    ").filtered_data"
   ]
  },
  {
   "cell_type": "markdown",
   "id": "4f1b06d4",
   "metadata": {
    "papermill": {
     "duration": 0.03001,
     "end_time": "2024-01-30T21:08:10.035479",
     "exception": false,
     "start_time": "2024-01-30T21:08:10.005469",
     "status": "completed"
    },
    "tags": []
   },
   "source": [
    "### Execute full pipelie\n",
    "\n",
    "The entire PICRUSt2 pipeline will be run using a single method, called `picrust2.methods.full_pipeline`. This method will run each of the 4 key steps: \n",
    "\n",
    "1. sequence placement\n",
    "2. hidden-state prediction of genomes\n",
    "3. metagenome prediction\n",
    "4. pathway-level predictions.\n",
    "\n",
    "More information on [Documentation](https://github.com/picrust/picrust2/wiki/Full-pipeline-script)."
   ]
  },
  {
   "cell_type": "code",
   "execution_count": 9,
   "id": "2c4f3874",
   "metadata": {
    "ExecuteTime": {
     "end_time": "2022-11-09T19:20:47.642417Z",
     "start_time": "2022-11-09T19:20:47.612547Z"
    },
    "execution": {
     "iopub.execute_input": "2024-01-30T21:08:10.107174Z",
     "iopub.status.busy": "2024-01-30T21:08:10.106388Z",
     "iopub.status.idle": "2024-01-30T21:08:10.157502Z",
     "shell.execute_reply": "2024-01-30T21:08:10.157918Z"
    },
    "papermill": {
     "duration": 0.090424,
     "end_time": "2024-01-30T21:08:10.158060",
     "exception": false,
     "start_time": "2024-01-30T21:08:10.067636",
     "status": "completed"
    },
    "scrolled": true,
    "tags": []
   },
   "outputs": [],
   "source": [
    "need_pipeline = replace_files\n",
    "need_pipeline |= not (os.path.isfile(ec_path) and os.path.isfile(ko_path) and os.path.isfile(pathway_path))\n",
    "if need_pipeline:\n",
    "    results = picrust2.methods.full_pipeline(\n",
    "        table=tabs, \n",
    "        seq=seqs, \n",
    "        threads=6, \n",
    "        placement_tool='sepp',\n",
    "        hsp_method='pic', \n",
    "        max_nsti=2,\n",
    "        highly_verbose=True\n",
    "    )\n",
    "    ec_metagenome = results.ec_metagenome\n",
    "    ko_metagenome = results.ko_metagenome\n",
    "    pathway_abundance = results.pathway_abundance\n",
    "else:\n",
    "    ec_metagenome = Artifact.load(ec_path)\n",
    "    ko_metagenome = Artifact.load(ko_path)\n",
    "    pathway_abundance = Artifact.load(pathway_path)"
   ]
  },
  {
   "cell_type": "markdown",
   "id": "771308c4",
   "metadata": {
    "papermill": {
     "duration": 0.035303,
     "end_time": "2024-01-30T21:08:10.230185",
     "exception": false,
     "start_time": "2024-01-30T21:08:10.194882",
     "status": "completed"
    },
    "tags": []
   },
   "source": [
    "### Persist created artifacts\n",
    "\n",
    "We will define file paths and persist all artifacts. We start with `.qza` files. We will save the visualization files in sequence as `qzv` files. Finally, we save a `biom`-like file as `tsv` with brief descriptions of all functions."
   ]
  },
  {
   "cell_type": "code",
   "execution_count": 10,
   "id": "c680ab46",
   "metadata": {
    "ExecuteTime": {
     "end_time": "2022-11-09T19:20:47.646444Z",
     "start_time": "2022-11-09T19:20:47.643806Z"
    },
    "execution": {
     "iopub.execute_input": "2024-01-30T21:08:10.305827Z",
     "iopub.status.busy": "2024-01-30T21:08:10.305282Z",
     "iopub.status.idle": "2024-01-30T21:08:10.307578Z",
     "shell.execute_reply": "2024-01-30T21:08:10.307994Z"
    },
    "papermill": {
     "duration": 0.04158,
     "end_time": "2024-01-30T21:08:10.308111",
     "exception": false,
     "start_time": "2024-01-30T21:08:10.266531",
     "status": "completed"
    },
    "tags": []
   },
   "outputs": [],
   "source": [
    "if need_pipeline:\n",
    "    # Export artifact folder\n",
    "    ec_metagenome.export_data(output_dir=ec_path.split('.')[0])\n",
    "    ko_metagenome.export_data(output_dir=ko_path.split('.')[0])\n",
    "    pathway_abundance.export_data(output_dir=pathway_path.split('.')[0])\n",
    "    \n",
    "    # Save artifacts as .qza files\n",
    "    ec_metagenome.save(ec_path)\n",
    "    ko_metagenome.save(ko_path)\n",
    "    pathway_abundance.save(pathway_path)"
   ]
  },
  {
   "cell_type": "code",
   "execution_count": 11,
   "id": "d61ebec3",
   "metadata": {
    "ExecuteTime": {
     "end_time": "2022-11-09T19:20:47.687022Z",
     "start_time": "2022-11-09T19:20:47.647637Z"
    },
    "execution": {
     "iopub.execute_input": "2024-01-30T21:08:10.384043Z",
     "iopub.status.busy": "2024-01-30T21:08:10.383470Z",
     "iopub.status.idle": "2024-01-30T21:08:10.386142Z",
     "shell.execute_reply": "2024-01-30T21:08:10.385704Z"
    },
    "papermill": {
     "duration": 0.041926,
     "end_time": "2024-01-30T21:08:10.386245",
     "exception": false,
     "start_time": "2024-01-30T21:08:10.344319",
     "status": "completed"
    },
    "tags": []
   },
   "outputs": [],
   "source": [
    "need_viz = replace_files\n",
    "need_viz |= not (os.path.isfile(ec_viz_path) and os.path.isfile(ko_viz_path) and os.path.isfile(pathway_viz_path))\n",
    "if need_viz:\n",
    "    # Create visualization artifacts\n",
    "    ec_viz = summarize(table=ec_metagenome, sample_metadata=metadata_qa).visualization\n",
    "    ko_viz = summarize(table=ko_metagenome, sample_metadata=metadata_qa).visualization\n",
    "    path_viz = summarize(table=pathway_abundance, sample_metadata=metadata_qa).visualization\n",
    "\n",
    "    # Save visualization artifacts as .qzv files\n",
    "    ec_viz.save(ec_viz_path)\n",
    "    ko_viz.save(ko_viz_path)\n",
    "    path_viz.save(pathway_viz_path)"
   ]
  },
  {
   "cell_type": "code",
   "execution_count": 12,
   "id": "57f1f4d8",
   "metadata": {
    "ExecuteTime": {
     "end_time": "2022-11-09T19:20:47.704885Z",
     "start_time": "2022-11-09T19:20:47.689312Z"
    },
    "execution": {
     "iopub.execute_input": "2024-01-30T21:08:10.467013Z",
     "iopub.status.busy": "2024-01-30T21:08:10.466482Z",
     "iopub.status.idle": "2024-01-30T21:08:10.469178Z",
     "shell.execute_reply": "2024-01-30T21:08:10.468740Z"
    },
    "papermill": {
     "duration": 0.046969,
     "end_time": "2024-01-30T21:08:10.469279",
     "exception": false,
     "start_time": "2024-01-30T21:08:10.422310",
     "status": "completed"
    },
    "tags": []
   },
   "outputs": [],
   "source": [
    "need_biom = replace_files\n",
    "need_biom |= not (os.path.isfile(ec_fpath) and os.path.isfile(ko_fpath) and os.path.isfile(pathway_fpath))\n",
    "if need_biom:\n",
    "    # Convert artifact to dataframe - transposed\n",
    "    df_pathway = pathway_abundance.view(pd.DataFrame).T\n",
    "    df_ec = ec_metagenome.view(pd.DataFrame).T\n",
    "    df_ko = ko_metagenome.view(pd.DataFrame).T\n",
    "\n",
    "    # Write dataframe to a tsv file\n",
    "    df_pathway.to_csv(pathway_fpath, sep='\\t', index=True)\n",
    "    df_ec.to_csv(ec_fpath, sep='\\t', index=True)\n",
    "    df_ko.to_csv(ko_fpath, sep='\\t', index=True)\n",
    "    \n",
    "    # Put a new column with descriptions of each function's ID\n",
    "    !add_descriptions.py -i {ec_fpath} -m EC -o {ec_desc_fpath}\n",
    "    !add_descriptions.py -i {ko_fpath} -m KO -o {ko_desc_fpath}\n",
    "    !add_descriptions.py -i {pathway_fpath} -m METACYC -o {pathway_desc_fpath}"
   ]
  },
  {
   "cell_type": "markdown",
   "id": "e9b05c8b",
   "metadata": {
    "papermill": {
     "duration": 0.035552,
     "end_time": "2024-01-30T21:08:10.543850",
     "exception": false,
     "start_time": "2024-01-30T21:08:10.508298",
     "status": "completed"
    },
    "tags": []
   },
   "source": [
    "### Aggregate by sum groups counts\n",
    "\n",
    "We create new columns with the aggregation of the counts for all groups."
   ]
  },
  {
   "cell_type": "code",
   "execution_count": 13,
   "id": "d6384378",
   "metadata": {
    "execution": {
     "iopub.execute_input": "2024-01-30T21:08:10.621492Z",
     "iopub.status.busy": "2024-01-30T21:08:10.620950Z",
     "iopub.status.idle": "2024-01-30T21:08:10.623599Z",
     "shell.execute_reply": "2024-01-30T21:08:10.623162Z"
    },
    "papermill": {
     "duration": 0.043322,
     "end_time": "2024-01-30T21:08:10.623701",
     "exception": false,
     "start_time": "2024-01-30T21:08:10.580379",
     "status": "completed"
    },
    "tags": []
   },
   "outputs": [],
   "source": [
    "# Create a new DataFrame with Metadata info\n",
    "metadata_df = metadata_qa.to_dataframe()\n",
    "# Select all groups\n",
    "group_ids = metadata_df[class_col].unique()"
   ]
  },
  {
   "cell_type": "code",
   "execution_count": 14,
   "id": "da1b5dbd",
   "metadata": {
    "execution": {
     "iopub.execute_input": "2024-01-30T21:08:10.701962Z",
     "iopub.status.busy": "2024-01-30T21:08:10.701068Z",
     "iopub.status.idle": "2024-01-30T21:08:11.492504Z",
     "shell.execute_reply": "2024-01-30T21:08:11.492958Z"
    },
    "papermill": {
     "duration": 0.833463,
     "end_time": "2024-01-30T21:08:11.493115",
     "exception": false,
     "start_time": "2024-01-30T21:08:10.659652",
     "status": "completed"
    },
    "tags": []
   },
   "outputs": [],
   "source": [
    "# Iterate over all PICRUST2 files\n",
    "for f in (ec_desc_fpath, ko_desc_fpath, pathway_desc_fpath):\n",
    "    # Create new DataFrame to store new data\n",
    "    df = pd.read_csv(f, sep='\\t')\n",
    "    new_df = pd.DataFrame()\n",
    "    # Iterate over all groups\n",
    "    for g in group_ids:\n",
    "        # Select all IDs from current group\n",
    "        idx = metadata_df[metadata_df[class_col]==g].index\n",
    "        # Sum all values from samples of the current group\n",
    "        tmp = df.loc[:, idx].sum(axis=1)\n",
    "        # Create a new column with the sum\n",
    "        new_df[g] = tmp\n",
    "    # Sum the values of all groups\n",
    "    new_df['Total'] = new_df.sum(axis=1)\n",
    "    # Join new columns into the end of the original DataFrame\n",
    "    new_df = df.join(new_df)\n",
    "    # Write joined DataFrame to file - overwrite\n",
    "    new_df.to_csv(f, index=False, sep='\\t')"
   ]
  }
 ],
 "metadata": {
  "celltoolbar": "Edit Metadata",
  "kernelspec": {
   "display_name": "Python 3 (ipykernel)",
   "language": "python",
   "name": "python3"
  },
  "language_info": {
   "codemirror_mode": {
    "name": "ipython",
    "version": 3
   },
   "file_extension": ".py",
   "mimetype": "text/x-python",
   "name": "python",
   "nbconvert_exporter": "python",
   "pygments_lexer": "ipython3",
   "version": "3.8.12"
  },
  "papermill": {
   "default_parameters": {},
   "duration": 12.152029,
   "end_time": "2024-01-30T21:08:12.340938",
   "environment_variables": {},
   "exception": null,
   "input_path": "nb-templates/step-picrust2-analysis.ipynb",
   "output_path": "/home/lauro/nupeb/rede-micro/redemicro-thayane/experiments/thayane-PM-joined-trim/nb-executed-steps/step-picrust2-analysis-thayane-PM-joined-trim.ipynb",
   "parameters": {
    "base_dir": "/home/lauro/nupeb/rede-micro/redemicro-thayane",
    "class_col": "above_10",
    "classifier_file": "/home/lauro/nupeb/16S_classifiers_qiime2/silva-138-99-nb-classifier.qza",
    "experiment_name": "thayane-PM-joined-trim",
    "manifest_file": "/home/lauro/nupeb/rede-micro/redemicro-thayane/data/manifest-single.csv",
    "metadata_file": "/home/lauro/nupeb/rede-micro/redemicro-thayane/data/metadata.tsv",
    "overlap": 12,
    "phred": 20,
    "replace_files": false,
    "threads": 6,
    "trunc_f": 0,
    "trunc_r": 0
   },
   "start_time": "2024-01-30T21:08:00.188909",
   "version": "2.3.4"
  }
 },
 "nbformat": 4,
 "nbformat_minor": 5
}