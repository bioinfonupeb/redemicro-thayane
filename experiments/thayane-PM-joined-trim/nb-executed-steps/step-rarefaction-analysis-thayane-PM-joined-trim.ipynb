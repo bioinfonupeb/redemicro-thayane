{
 "cells": [
  {
   "cell_type": "markdown",
   "id": "5a2eb051",
   "metadata": {
    "papermill": {
     "duration": 0.022621,
     "end_time": "2023-09-06T21:43:02.787096",
     "exception": false,
     "start_time": "2023-09-06T21:43:02.764475",
     "status": "completed"
    },
    "tags": []
   },
   "source": [
    "# STEP : Rarefaction Analysis\n",
    "\n",
    "Using QIIME2 to create rarefaction graphs.\n",
    "\n",
    "\n",
    "## Methods\n",
    "[qiime alpha_rarefaction](https://docs.qiime2.org/2023.2/plugins/available/diversity/alpha-rarefaction/)\n",
    "```\n",
    "Generate interactive alpha rarefaction curves by computing rarefactions\n",
    "between `min_depth` and `max_depth`. The number of intermediate depths to\n",
    "compute is controlled by the `steps` parameter, with n `iterations` being\n",
    "computed at each rarefaction depth. If sample metadata is provided, samples\n",
    "may be grouped based on distinct values within a metadata column.\n",
    "```\n"
   ]
  },
  {
   "cell_type": "markdown",
   "id": "90ba22a4",
   "metadata": {
    "papermill": {
     "duration": 0.024528,
     "end_time": "2023-09-06T21:43:02.826540",
     "exception": false,
     "start_time": "2023-09-06T21:43:02.802012",
     "status": "completed"
    },
    "tags": []
   },
   "source": [
    "## Setup and settings"
   ]
  },
  {
   "cell_type": "code",
   "execution_count": 1,
   "id": "1aaa2356",
   "metadata": {
    "ExecuteTime": {
     "end_time": "2022-09-22T21:43:54.326002Z",
     "start_time": "2022-09-22T21:43:47.911891Z"
    },
    "execution": {
     "iopub.execute_input": "2023-09-06T21:43:02.881091Z",
     "iopub.status.busy": "2023-09-06T21:43:02.880576Z",
     "iopub.status.idle": "2023-09-06T21:43:09.369460Z",
     "shell.execute_reply": "2023-09-06T21:43:09.368760Z"
    },
    "papermill": {
     "duration": 6.53225,
     "end_time": "2023-09-06T21:43:09.372444",
     "exception": false,
     "start_time": "2023-09-06T21:43:02.840194",
     "status": "completed"
    },
    "tags": []
   },
   "outputs": [],
   "source": [
    "# Importing packages\n",
    "import os\n",
    "import pandas as pd\n",
    "from qiime2 import Artifact\n",
    "from qiime2 import Visualization\n",
    "from qiime2 import Metadata\n",
    "from qiime2.plugins.diversity.visualizers import alpha_rarefaction\n",
    "from qiime2.plugins.diversity.visualizers import beta_rarefaction\n",
    "\n",
    "from qiime2.plugins.feature_table.methods import filter_samples\n",
    "from qiime2.plugins.feature_table.methods import filter_seqs\n",
    "\n",
    "import matplotlib.pyplot as plt\n",
    "\n",
    "%matplotlib inline"
   ]
  },
  {
   "cell_type": "code",
   "execution_count": 2,
   "id": "69b1479d",
   "metadata": {
    "ExecuteTime": {
     "end_time": "2022-09-22T21:43:54.330790Z",
     "start_time": "2022-09-22T21:43:54.328358Z"
    },
    "execution": {
     "iopub.execute_input": "2023-09-06T21:43:09.406290Z",
     "iopub.status.busy": "2023-09-06T21:43:09.405873Z",
     "iopub.status.idle": "2023-09-06T21:43:09.409639Z",
     "shell.execute_reply": "2023-09-06T21:43:09.408863Z"
    },
    "papermill": {
     "duration": 0.018864,
     "end_time": "2023-09-06T21:43:09.411122",
     "exception": false,
     "start_time": "2023-09-06T21:43:09.392258",
     "status": "completed"
    },
    "tags": []
   },
   "outputs": [],
   "source": [
    "# from qiime2.plugins import demux, deblur, quality_filter, \\\n",
    "#                            metadata, feature_table, alignment, \\\n",
    "#                            phylogeny, diversity, emperor, feature_classifier, \\\n",
    "#                            taxa, composition"
   ]
  },
  {
   "cell_type": "markdown",
   "id": "c0cee830",
   "metadata": {
    "papermill": {
     "duration": 0.012616,
     "end_time": "2023-09-06T21:43:09.436530",
     "exception": false,
     "start_time": "2023-09-06T21:43:09.423914",
     "status": "completed"
    },
    "tags": []
   },
   "source": [
    "### Receiving the parameters\n",
    "\n",
    "The following cell can receive parameters using the [papermill](https://papermill.readthedocs.io/en/latest/) tool."
   ]
  },
  {
   "cell_type": "code",
   "execution_count": 3,
   "id": "075e4e37",
   "metadata": {
    "ExecuteTime": {
     "end_time": "2022-09-22T21:43:54.344271Z",
     "start_time": "2022-09-22T21:43:54.332262Z"
    },
    "execution": {
     "iopub.execute_input": "2023-09-06T21:43:09.462791Z",
     "iopub.status.busy": "2023-09-06T21:43:09.462434Z",
     "iopub.status.idle": "2023-09-06T21:43:09.467070Z",
     "shell.execute_reply": "2023-09-06T21:43:09.466234Z"
    },
    "papermill": {
     "duration": 0.019576,
     "end_time": "2023-09-06T21:43:09.468675",
     "exception": false,
     "start_time": "2023-09-06T21:43:09.449099",
     "status": "completed"
    },
    "tags": [
     "parameters"
    ]
   },
   "outputs": [],
   "source": [
    "metadata_file = '/home/lauro/nupeb/rede-micro/redemicro-miliane-nutri/data/raw/metadata/miliane-metadata-CxAC.tsv'\n",
    "base_dir = os.path.join('/', 'home', 'lauro', 'nupeb', 'rede-micro', 'redemicro-miliane-nutri')\n",
    "experiment_name = 'miliane-CxAC-trim'\n",
    "replace_files = False"
   ]
  },
  {
   "cell_type": "code",
   "execution_count": 4,
   "id": "ebf43d8e",
   "metadata": {
    "execution": {
     "iopub.execute_input": "2023-09-06T21:43:09.496373Z",
     "iopub.status.busy": "2023-09-06T21:43:09.495985Z",
     "iopub.status.idle": "2023-09-06T21:43:09.502781Z",
     "shell.execute_reply": "2023-09-06T21:43:09.501695Z"
    },
    "papermill": {
     "duration": 0.021947,
     "end_time": "2023-09-06T21:43:09.504366",
     "exception": false,
     "start_time": "2023-09-06T21:43:09.482419",
     "status": "completed"
    },
    "tags": [
     "injected-parameters"
    ]
   },
   "outputs": [],
   "source": [
    "# Parameters\n",
    "experiment_name = \"thayane-PM-joined-trim\"\n",
    "base_dir = \"/home/lauro/nupeb/rede-micro/redemicro-thayane\"\n",
    "manifest_file = (\n",
    "    \"/home/lauro/nupeb/rede-micro/redemicro-thayane/data/manifest-single.csv\"\n",
    ")\n",
    "metadata_file = \"/home/lauro/nupeb/rede-micro/redemicro-thayane/data/metadata.tsv\"\n",
    "class_col = \"above_10\"\n",
    "classifier_file = (\n",
    "    \"/home/lauro/nupeb/16S_classifiers_qiime2/silva-138-99-nb-classifier.qza\"\n",
    ")\n",
    "replace_files = False\n",
    "phred = 20\n",
    "trunc_f = 0\n",
    "trunc_r = 0\n",
    "overlap = 12\n",
    "threads = 6\n"
   ]
  },
  {
   "cell_type": "markdown",
   "id": "a8dbb9f5",
   "metadata": {
    "papermill": {
     "duration": 0.013048,
     "end_time": "2023-09-06T21:43:09.532344",
     "exception": false,
     "start_time": "2023-09-06T21:43:09.519296",
     "status": "completed"
    },
    "tags": []
   },
   "source": [
    "### Defining names, paths and flags"
   ]
  },
  {
   "cell_type": "code",
   "execution_count": 5,
   "id": "6c23d2f1",
   "metadata": {
    "ExecuteTime": {
     "end_time": "2022-09-22T21:43:54.362004Z",
     "start_time": "2022-09-22T21:43:54.346365Z"
    },
    "execution": {
     "iopub.execute_input": "2023-09-06T21:43:09.559737Z",
     "iopub.status.busy": "2023-09-06T21:43:09.559261Z",
     "iopub.status.idle": "2023-09-06T21:43:10.000384Z",
     "shell.execute_reply": "2023-09-06T21:43:09.998490Z"
    },
    "papermill": {
     "duration": 0.458825,
     "end_time": "2023-09-06T21:43:10.004128",
     "exception": false,
     "start_time": "2023-09-06T21:43:09.545303",
     "status": "completed"
    },
    "tags": []
   },
   "outputs": [],
   "source": [
    "# Experiments\n",
    "experiment_folder = os.path.abspath(os.path.join(base_dir, 'experiments', experiment_name))\n",
    "!mkdir -p {experiment_folder}\n",
    "\n",
    "# Imgs folder\n",
    "img_folder = os.path.abspath(os.path.join(experiment_folder, 'imgs'))\n",
    "!mkdir -p {img_folder}\n",
    "\n",
    "# QIIME2 Artifacts folder\n",
    "qiime_folder = os.path.join(experiment_folder, 'qiime-artifacts')\n",
    "!mkdir -p {qiime_folder}"
   ]
  },
  {
   "cell_type": "code",
   "execution_count": 6,
   "id": "805b22a0",
   "metadata": {
    "ExecuteTime": {
     "end_time": "2022-09-22T21:43:54.373657Z",
     "start_time": "2022-09-22T21:43:54.363586Z"
    },
    "execution": {
     "iopub.execute_input": "2023-09-06T21:43:10.043477Z",
     "iopub.status.busy": "2023-09-06T21:43:10.042786Z",
     "iopub.status.idle": "2023-09-06T21:43:10.052046Z",
     "shell.execute_reply": "2023-09-06T21:43:10.051154Z"
    },
    "papermill": {
     "duration": 0.027995,
     "end_time": "2023-09-06T21:43:10.054171",
     "exception": false,
     "start_time": "2023-09-06T21:43:10.026176",
     "status": "completed"
    },
    "tags": []
   },
   "outputs": [],
   "source": [
    "# Input - DADA2 Artifacts\n",
    "dada2_tabs_path = os.path.join(qiime_folder, 'dada2-tabs.qza')\n",
    "dada2_reps_path = os.path.join(qiime_folder, 'dada2-reps.qza')\n",
    "dada2_stat_path = os.path.join(qiime_folder, 'dada2-stat.qza')\n",
    "\n",
    "# Output -Rarefaction Artifacts\n",
    "alpha_rarefaction_path = os.path.join(qiime_folder, 'alpha-rarefaction.qza')\n",
    "alpha_rarefaction_view_path = os.path.join(qiime_folder, 'alpha-rarefaction.qzv')\n",
    "\n",
    "# Flag - Load or create files\n",
    "need_tax = not (os.path.isfile(alpha_rarefaction_path)) or replace_files\n",
    "need_view = not (os.path.isfile(alpha_rarefaction_view_path)) or replace_files"
   ]
  },
  {
   "cell_type": "markdown",
   "id": "3d4026b3",
   "metadata": {
    "papermill": {
     "duration": 0.014266,
     "end_time": "2023-09-06T21:43:10.085643",
     "exception": false,
     "start_time": "2023-09-06T21:43:10.071377",
     "status": "completed"
    },
    "tags": []
   },
   "source": [
    "## Step execution\n",
    "\n",
    "### Load input files\n",
    "\n",
    "This Step import the QIIME2 `SampleData[PairedEndSequencesWithQuality]` Artifact with all demultiplexed sequences and the `Metadata` file."
   ]
  },
  {
   "cell_type": "code",
   "execution_count": 7,
   "id": "b604a9f5",
   "metadata": {
    "ExecuteTime": {
     "end_time": "2022-09-22T21:43:54.398034Z",
     "start_time": "2022-09-22T21:43:54.375240Z"
    },
    "execution": {
     "iopub.execute_input": "2023-09-06T21:43:10.115160Z",
     "iopub.status.busy": "2023-09-06T21:43:10.114631Z",
     "iopub.status.idle": "2023-09-06T21:43:10.139383Z",
     "shell.execute_reply": "2023-09-06T21:43:10.138443Z"
    },
    "papermill": {
     "duration": 0.042332,
     "end_time": "2023-09-06T21:43:10.142200",
     "exception": false,
     "start_time": "2023-09-06T21:43:10.099868",
     "status": "completed"
    },
    "tags": []
   },
   "outputs": [],
   "source": [
    "#Load Metadata\n",
    "metadata_qa = Metadata.load(metadata_file)"
   ]
  },
  {
   "cell_type": "code",
   "execution_count": 8,
   "id": "ae84e5c0",
   "metadata": {
    "execution": {
     "iopub.execute_input": "2023-09-06T21:43:10.177696Z",
     "iopub.status.busy": "2023-09-06T21:43:10.177420Z",
     "iopub.status.idle": "2023-09-06T21:43:10.182158Z",
     "shell.execute_reply": "2023-09-06T21:43:10.181412Z"
    },
    "papermill": {
     "duration": 0.020811,
     "end_time": "2023-09-06T21:43:10.183702",
     "exception": false,
     "start_time": "2023-09-06T21:43:10.162891",
     "status": "completed"
    },
    "tags": []
   },
   "outputs": [],
   "source": [
    "alt_tab_path = os.path.join(base_dir, 'data', 'interim', 'dada2-tabs.qza')\n",
    "# Verify if table file exists and if it is shared\n",
    "if not os.path.isfile(dada2_tabs_path) and os.path.isfile(alt_tab_path):\n",
    "    # If it is shared, create a local symbolic link\n",
    "    os.symlink(alt_tab_path, dada2_tabs_path)"
   ]
  },
  {
   "cell_type": "code",
   "execution_count": 9,
   "id": "6d6c4f1b",
   "metadata": {
    "ExecuteTime": {
     "end_time": "2022-09-22T21:43:54.827295Z",
     "start_time": "2022-09-22T21:43:54.399431Z"
    },
    "execution": {
     "iopub.execute_input": "2023-09-06T21:43:10.211692Z",
     "iopub.status.busy": "2023-09-06T21:43:10.211335Z",
     "iopub.status.idle": "2023-09-06T21:43:11.327127Z",
     "shell.execute_reply": "2023-09-06T21:43:11.326471Z"
    },
    "papermill": {
     "duration": 1.132653,
     "end_time": "2023-09-06T21:43:11.329875",
     "exception": false,
     "start_time": "2023-09-06T21:43:10.197222",
     "status": "completed"
    },
    "tags": []
   },
   "outputs": [
    {
     "name": "stdout",
     "output_type": "stream",
     "text": [
      "{'min_frequency': 0, 'max_frequency': None, 'min_features': 0, 'max_features': None, 'metadata': Metadata\n",
      "--------\n",
      "44 IDs x 8 columns\n",
      "class-straw:        ColumnProperties(type='categorical')\n",
      "local-coleta:       ColumnProperties(type='categorical')\n",
      "idade:              ColumnProperties(type='numeric')\n",
      "idade-menarca:      ColumnProperties(type='numeric')\n",
      "tempo-menopausa:    ColumnProperties(type='numeric')\n",
      "above_10:           ColumnProperties(type='categorical')\n",
      "menopausa-age-qcut: ColumnProperties(type='categorical')\n",
      "menopausa-age-bins: ColumnProperties(type='categorical')\n",
      "\n",
      "Call to_dataframe() for a tabular representation., 'where': None, 'exclude_ids': False, 'filter_empty_features': True, 'table': 2403 x 44 <class 'biom.table.Table'> with 6331 nonzero entries (5% dense)}\n",
      "{'min_frequency': 0, 'max_frequency': None, 'min_features': 0, 'max_features': None, 'metadata': Metadata\n",
      "--------\n",
      "44 IDs x 8 columns\n",
      "class-straw:        ColumnProperties(type='categorical')\n",
      "local-coleta:       ColumnProperties(type='categorical')\n",
      "idade:              ColumnProperties(type='numeric')\n",
      "idade-menarca:      ColumnProperties(type='numeric')\n",
      "tempo-menopausa:    ColumnProperties(type='numeric')\n",
      "above_10:           ColumnProperties(type='categorical')\n",
      "menopausa-age-qcut: ColumnProperties(type='categorical')\n",
      "menopausa-age-bins: ColumnProperties(type='categorical')\n",
      "\n",
      "Call to_dataframe() for a tabular representation., 'where': None, 'exclude_ids': False, 'filter_empty_features': True, 'table': 2403 x 44 <class 'biom.table.Table'> with 6331 nonzero entries (5% dense)}\n"
     ]
    }
   ],
   "source": [
    "# Load Table artifact\n",
    "tabs = Artifact.load(dada2_tabs_path)\n",
    "# Filter samples using Metadata IDs\n",
    "tabs = filter_samples(\n",
    "    table=tabs,\n",
    "    metadata=metadata_qa,\n",
    ").filtered_table\n",
    "tabs_df = tabs.view(Metadata).to_dataframe().T"
   ]
  },
  {
   "cell_type": "code",
   "execution_count": null,
   "id": "40103e86",
   "metadata": {
    "papermill": {
     "duration": 0.013482,
     "end_time": "2023-09-06T21:43:11.363878",
     "exception": false,
     "start_time": "2023-09-06T21:43:11.350396",
     "status": "completed"
    },
    "tags": []
   },
   "outputs": [],
   "source": []
  },
  {
   "cell_type": "markdown",
   "id": "021b370a",
   "metadata": {
    "papermill": {
     "duration": 0.016115,
     "end_time": "2023-09-06T21:43:11.670424",
     "exception": false,
     "start_time": "2023-09-06T21:43:11.654309",
     "status": "completed"
    },
    "tags": []
   },
   "source": [
    "## Alpha Rarefaction"
   ]
  },
  {
   "cell_type": "code",
   "execution_count": 10,
   "id": "b9b8a9c7",
   "metadata": {
    "ExecuteTime": {
     "end_time": "2022-09-22T21:55:53.328300Z",
     "start_time": "2022-09-22T21:55:53.318166Z"
    },
    "execution": {
     "iopub.execute_input": "2023-09-06T21:43:11.703068Z",
     "iopub.status.busy": "2023-09-06T21:43:11.702582Z",
     "iopub.status.idle": "2023-09-06T21:43:11.711357Z",
     "shell.execute_reply": "2023-09-06T21:43:11.710371Z"
    },
    "papermill": {
     "duration": 0.027401,
     "end_time": "2023-09-06T21:43:11.713752",
     "exception": false,
     "start_time": "2023-09-06T21:43:11.686351",
     "status": "completed"
    },
    "tags": []
   },
   "outputs": [],
   "source": [
    "# Get min and maximum feature counts to set sampling depth\n",
    "rank_df = tabs_df.sum().sort_values()\n",
    "min_feature_count = int(rank_df.min())\n",
    "max_feature_count = int(rank_df.max())"
   ]
  },
  {
   "cell_type": "code",
   "execution_count": 11,
   "id": "07ec1eb9",
   "metadata": {
    "execution": {
     "iopub.execute_input": "2023-09-06T21:43:11.748756Z",
     "iopub.status.busy": "2023-09-06T21:43:11.748222Z",
     "iopub.status.idle": "2023-09-06T21:43:11.765082Z",
     "shell.execute_reply": "2023-09-06T21:43:11.764516Z"
    },
    "papermill": {
     "duration": 0.034961,
     "end_time": "2023-09-06T21:43:11.766955",
     "exception": false,
     "start_time": "2023-09-06T21:43:11.731994",
     "status": "completed"
    },
    "tags": []
   },
   "outputs": [],
   "source": [
    "# Add new columns with samples IDs to rarefaction\n",
    "meta_df = metadata_qa.to_dataframe()\n",
    "meta_df['samples'] = meta_df.index.to_list()\n",
    "metadata_qa = Metadata(meta_df)"
   ]
  },
  {
   "cell_type": "code",
   "execution_count": 12,
   "id": "749ac59d",
   "metadata": {
    "ExecuteTime": {
     "end_time": "2022-09-22T21:56:13.586159Z",
     "start_time": "2022-09-22T21:55:55.117935Z"
    },
    "execution": {
     "iopub.execute_input": "2023-09-06T21:43:11.798515Z",
     "iopub.status.busy": "2023-09-06T21:43:11.798241Z",
     "iopub.status.idle": "2023-09-06T21:43:35.356633Z",
     "shell.execute_reply": "2023-09-06T21:43:35.355962Z"
    },
    "papermill": {
     "duration": 23.575182,
     "end_time": "2023-09-06T21:43:35.358331",
     "exception": false,
     "start_time": "2023-09-06T21:43:11.783149",
     "status": "completed"
    },
    "tags": []
   },
   "outputs": [
    {
     "name": "stdout",
     "output_type": "stream",
     "text": [
      "{'max_depth': 246542, 'metrics': None, 'metadata': Metadata\n",
      "--------\n",
      "44 IDs x 9 columns\n",
      "class-straw:        ColumnProperties(type='categorical')\n",
      "local-coleta:       ColumnProperties(type='categorical')\n",
      "idade:              ColumnProperties(type='numeric')\n",
      "idade-menarca:      ColumnProperties(type='numeric')\n",
      "tempo-menopausa:    ColumnProperties(type='numeric')\n",
      "above_10:           ColumnProperties(type='categorical')\n",
      "menopausa-age-qcut: ColumnProperties(type='categorical')\n",
      "menopausa-age-bins: ColumnProperties(type='categorical')\n",
      "samples:            ColumnProperties(type='categorical')\n",
      "\n",
      "Call to_dataframe() for a tabular representation., 'min_depth': 1, 'steps': 10, 'iterations': 10, 'table': 2403 x 44 <class 'biom.table.Table'> with 6331 nonzero entries (5% dense), 'phylogeny': None}\n",
      "{'sampling_depth': 1, 'with_replacement': False, 'table': 2403 x 44 <class 'biom.table.Table'> with 6331 nonzero entries (5% dense)}\n",
      "{'sampling_depth': 1, 'with_replacement': False, 'table': 2403 x 44 <class 'biom.table.Table'> with 6331 nonzero entries (5% dense)}\n",
      "{'metric': 'observed_features', 'table': <artifact: FeatureTable[Frequency] uuid: 9b92f6e6-2f91-4695-bc27-4ad17e7dd442>}\n",
      "{'table': 37 x 44 <class 'biom.table.Table'> with 44 nonzero entries (2% dense)}\n",
      "{'table': 37 x 44 <class 'biom.table.Table'> with 44 nonzero entries (2% dense)}\n"
     ]
    },
    {
     "name": "stdout",
     "output_type": "stream",
     "text": [
      "{'metric': 'shannon', 'table': <artifact: FeatureTable[Frequency] uuid: 9b92f6e6-2f91-4695-bc27-4ad17e7dd442>}\n",
      "{'drop_undefined_samples': False, 'table': 37 x 44 <class 'biom.table.Table'> with 44 nonzero entries (2% dense)}\n",
      "{'drop_undefined_samples': False, 'table': 37 x 44 <class 'biom.table.Table'> with 44 nonzero entries (2% dense)}\n",
      "{'sampling_depth': 1, 'with_replacement': False, 'table': 2403 x 44 <class 'biom.table.Table'> with 6331 nonzero entries (5% dense)}\n",
      "{'sampling_depth': 1, 'with_replacement': False, 'table': 2403 x 44 <class 'biom.table.Table'> with 6331 nonzero entries (5% dense)}\n",
      "{'metric': 'observed_features', 'table': <artifact: FeatureTable[Frequency] uuid: 34e1d4a0-254c-44bc-a46a-777d26157480>}\n",
      "{'table': 38 x 44 <class 'biom.table.Table'> with 44 nonzero entries (2% dense)}\n",
      "{'table': 38 x 44 <class 'biom.table.Table'> with 44 nonzero entries (2% dense)}\n"
     ]
    },
    {
     "name": "stdout",
     "output_type": "stream",
     "text": [
      "{'metric': 'shannon', 'table': <artifact: FeatureTable[Frequency] uuid: 34e1d4a0-254c-44bc-a46a-777d26157480>}\n",
      "{'drop_undefined_samples': False, 'table': 38 x 44 <class 'biom.table.Table'> with 44 nonzero entries (2% dense)}\n",
      "{'drop_undefined_samples': False, 'table': 38 x 44 <class 'biom.table.Table'> with 44 nonzero entries (2% dense)}\n",
      "{'sampling_depth': 1, 'with_replacement': False, 'table': 2403 x 44 <class 'biom.table.Table'> with 6331 nonzero entries (5% dense)}\n",
      "{'sampling_depth': 1, 'with_replacement': False, 'table': 2403 x 44 <class 'biom.table.Table'> with 6331 nonzero entries (5% dense)}\n",
      "{'metric': 'observed_features', 'table': <artifact: FeatureTable[Frequency] uuid: 4f690112-072c-49e1-8d1b-8a113e57d7f0>}\n"
     ]
    },
    {
     "name": "stdout",
     "output_type": "stream",
     "text": [
      "{'table': 40 x 44 <class 'biom.table.Table'> with 44 nonzero entries (2% dense)}\n",
      "{'table': 40 x 44 <class 'biom.table.Table'> with 44 nonzero entries (2% dense)}\n",
      "{'metric': 'shannon', 'table': <artifact: FeatureTable[Frequency] uuid: 4f690112-072c-49e1-8d1b-8a113e57d7f0>}\n",
      "{'drop_undefined_samples': False, 'table': 40 x 44 <class 'biom.table.Table'> with 44 nonzero entries (2% dense)}\n",
      "{'drop_undefined_samples': False, 'table': 40 x 44 <class 'biom.table.Table'> with 44 nonzero entries (2% dense)}\n",
      "{'sampling_depth': 1, 'with_replacement': False, 'table': 2403 x 44 <class 'biom.table.Table'> with 6331 nonzero entries (5% dense)}\n",
      "{'sampling_depth': 1, 'with_replacement': False, 'table': 2403 x 44 <class 'biom.table.Table'> with 6331 nonzero entries (5% dense)}\n"
     ]
    },
    {
     "name": "stdout",
     "output_type": "stream",
     "text": [
      "{'metric': 'observed_features', 'table': <artifact: FeatureTable[Frequency] uuid: 38592091-0e08-48c2-bcc7-b949460b5119>}\n",
      "{'table': 43 x 44 <class 'biom.table.Table'> with 44 nonzero entries (2% dense)}\n",
      "{'table': 43 x 44 <class 'biom.table.Table'> with 44 nonzero entries (2% dense)}\n",
      "{'metric': 'shannon', 'table': <artifact: FeatureTable[Frequency] uuid: 38592091-0e08-48c2-bcc7-b949460b5119>}\n",
      "{'drop_undefined_samples': False, 'table': 43 x 44 <class 'biom.table.Table'> with 44 nonzero entries (2% dense)}\n",
      "{'drop_undefined_samples': False, 'table': 43 x 44 <class 'biom.table.Table'> with 44 nonzero entries (2% dense)}\n",
      "{'sampling_depth': 1, 'with_replacement': False, 'table': 2403 x 44 <class 'biom.table.Table'> with 6331 nonzero entries (5% dense)}\n",
      "{'sampling_depth': 1, 'with_replacement': False, 'table': 2403 x 44 <class 'biom.table.Table'> with 6331 nonzero entries (5% dense)}\n"
     ]
    },
    {
     "name": "stdout",
     "output_type": "stream",
     "text": [
      "{'metric': 'observed_features', 'table': <artifact: FeatureTable[Frequency] uuid: ab25f7b9-b0e4-4bfb-8ce9-f4c69138eb93>}\n",
      "{'table': 36 x 44 <class 'biom.table.Table'> with 44 nonzero entries (2% dense)}\n",
      "{'table': 36 x 44 <class 'biom.table.Table'> with 44 nonzero entries (2% dense)}\n",
      "{'metric': 'shannon', 'table': <artifact: FeatureTable[Frequency] uuid: ab25f7b9-b0e4-4bfb-8ce9-f4c69138eb93>}\n",
      "{'drop_undefined_samples': False, 'table': 36 x 44 <class 'biom.table.Table'> with 44 nonzero entries (2% dense)}\n",
      "{'drop_undefined_samples': False, 'table': 36 x 44 <class 'biom.table.Table'> with 44 nonzero entries (2% dense)}\n",
      "{'sampling_depth': 1, 'with_replacement': False, 'table': 2403 x 44 <class 'biom.table.Table'> with 6331 nonzero entries (5% dense)}\n",
      "{'sampling_depth': 1, 'with_replacement': False, 'table': 2403 x 44 <class 'biom.table.Table'> with 6331 nonzero entries (5% dense)}\n"
     ]
    },
    {
     "name": "stdout",
     "output_type": "stream",
     "text": [
      "{'metric': 'observed_features', 'table': <artifact: FeatureTable[Frequency] uuid: a7e347da-520d-419f-bad7-39e768073cc5>}\n",
      "{'table': 39 x 44 <class 'biom.table.Table'> with 44 nonzero entries (2% dense)}\n",
      "{'table': 39 x 44 <class 'biom.table.Table'> with 44 nonzero entries (2% dense)}\n",
      "{'metric': 'shannon', 'table': <artifact: FeatureTable[Frequency] uuid: a7e347da-520d-419f-bad7-39e768073cc5>}\n",
      "{'drop_undefined_samples': False, 'table': 39 x 44 <class 'biom.table.Table'> with 44 nonzero entries (2% dense)}\n",
      "{'drop_undefined_samples': False, 'table': 39 x 44 <class 'biom.table.Table'> with 44 nonzero entries (2% dense)}\n",
      "{'sampling_depth': 1, 'with_replacement': False, 'table': 2403 x 44 <class 'biom.table.Table'> with 6331 nonzero entries (5% dense)}\n",
      "{'sampling_depth': 1, 'with_replacement': False, 'table': 2403 x 44 <class 'biom.table.Table'> with 6331 nonzero entries (5% dense)}\n"
     ]
    },
    {
     "name": "stdout",
     "output_type": "stream",
     "text": [
      "{'metric': 'observed_features', 'table': <artifact: FeatureTable[Frequency] uuid: fcbe2474-afce-479c-859d-495274e507a7>}\n",
      "{'table': 41 x 44 <class 'biom.table.Table'> with 44 nonzero entries (2% dense)}\n",
      "{'table': 41 x 44 <class 'biom.table.Table'> with 44 nonzero entries (2% dense)}\n",
      "{'metric': 'shannon', 'table': <artifact: FeatureTable[Frequency] uuid: fcbe2474-afce-479c-859d-495274e507a7>}\n",
      "{'drop_undefined_samples': False, 'table': 41 x 44 <class 'biom.table.Table'> with 44 nonzero entries (2% dense)}\n",
      "{'drop_undefined_samples': False, 'table': 41 x 44 <class 'biom.table.Table'> with 44 nonzero entries (2% dense)}\n",
      "{'sampling_depth': 1, 'with_replacement': False, 'table': 2403 x 44 <class 'biom.table.Table'> with 6331 nonzero entries (5% dense)}\n",
      "{'sampling_depth': 1, 'with_replacement': False, 'table': 2403 x 44 <class 'biom.table.Table'> with 6331 nonzero entries (5% dense)}\n"
     ]
    },
    {
     "name": "stdout",
     "output_type": "stream",
     "text": [
      "{'metric': 'observed_features', 'table': <artifact: FeatureTable[Frequency] uuid: 3c4da88e-aa8d-4016-8239-18b257d7efd9>}\n",
      "{'table': 37 x 44 <class 'biom.table.Table'> with 44 nonzero entries (2% dense)}\n",
      "{'table': 37 x 44 <class 'biom.table.Table'> with 44 nonzero entries (2% dense)}\n",
      "{'metric': 'shannon', 'table': <artifact: FeatureTable[Frequency] uuid: 3c4da88e-aa8d-4016-8239-18b257d7efd9>}\n",
      "{'drop_undefined_samples': False, 'table': 37 x 44 <class 'biom.table.Table'> with 44 nonzero entries (2% dense)}\n",
      "{'drop_undefined_samples': False, 'table': 37 x 44 <class 'biom.table.Table'> with 44 nonzero entries (2% dense)}\n",
      "{'sampling_depth': 1, 'with_replacement': False, 'table': 2403 x 44 <class 'biom.table.Table'> with 6331 nonzero entries (5% dense)}\n",
      "{'sampling_depth': 1, 'with_replacement': False, 'table': 2403 x 44 <class 'biom.table.Table'> with 6331 nonzero entries (5% dense)}\n"
     ]
    },
    {
     "name": "stdout",
     "output_type": "stream",
     "text": [
      "{'metric': 'observed_features', 'table': <artifact: FeatureTable[Frequency] uuid: b491b27d-f5b2-4ccf-9a06-3d2c751d573f>}\n",
      "{'table': 43 x 44 <class 'biom.table.Table'> with 44 nonzero entries (2% dense)}\n",
      "{'table': 43 x 44 <class 'biom.table.Table'> with 44 nonzero entries (2% dense)}\n",
      "{'metric': 'shannon', 'table': <artifact: FeatureTable[Frequency] uuid: b491b27d-f5b2-4ccf-9a06-3d2c751d573f>}\n",
      "{'drop_undefined_samples': False, 'table': 43 x 44 <class 'biom.table.Table'> with 44 nonzero entries (2% dense)}\n",
      "{'drop_undefined_samples': False, 'table': 43 x 44 <class 'biom.table.Table'> with 44 nonzero entries (2% dense)}\n",
      "{'sampling_depth': 1, 'with_replacement': False, 'table': 2403 x 44 <class 'biom.table.Table'> with 6331 nonzero entries (5% dense)}\n",
      "{'sampling_depth': 1, 'with_replacement': False, 'table': 2403 x 44 <class 'biom.table.Table'> with 6331 nonzero entries (5% dense)}\n"
     ]
    },
    {
     "name": "stdout",
     "output_type": "stream",
     "text": [
      "{'metric': 'observed_features', 'table': <artifact: FeatureTable[Frequency] uuid: 44b08477-0f07-40e5-b1ea-0d339e2440c5>}\n",
      "{'table': 40 x 44 <class 'biom.table.Table'> with 44 nonzero entries (2% dense)}\n",
      "{'table': 40 x 44 <class 'biom.table.Table'> with 44 nonzero entries (2% dense)}\n",
      "{'metric': 'shannon', 'table': <artifact: FeatureTable[Frequency] uuid: 44b08477-0f07-40e5-b1ea-0d339e2440c5>}\n",
      "{'drop_undefined_samples': False, 'table': 40 x 44 <class 'biom.table.Table'> with 44 nonzero entries (2% dense)}\n",
      "{'drop_undefined_samples': False, 'table': 40 x 44 <class 'biom.table.Table'> with 44 nonzero entries (2% dense)}\n",
      "{'sampling_depth': 27394, 'with_replacement': False, 'table': 2403 x 44 <class 'biom.table.Table'> with 6331 nonzero entries (5% dense)}\n",
      "{'sampling_depth': 27394, 'with_replacement': False, 'table': 2403 x 44 <class 'biom.table.Table'> with 6331 nonzero entries (5% dense)}\n"
     ]
    },
    {
     "name": "stdout",
     "output_type": "stream",
     "text": [
      "{'metric': 'observed_features', 'table': <artifact: FeatureTable[Frequency] uuid: c766eed0-2c48-4aad-861e-f3e5b0041f40>}\n",
      "{'table': 2027 x 38 <class 'biom.table.Table'> with 5512 nonzero entries (7% dense)}\n",
      "{'table': 2027 x 38 <class 'biom.table.Table'> with 5512 nonzero entries (7% dense)}\n",
      "{'metric': 'shannon', 'table': <artifact: FeatureTable[Frequency] uuid: c766eed0-2c48-4aad-861e-f3e5b0041f40>}\n",
      "{'drop_undefined_samples': False, 'table': 2027 x 38 <class 'biom.table.Table'> with 5512 nonzero entries (7% dense)}\n",
      "{'drop_undefined_samples': False, 'table': 2027 x 38 <class 'biom.table.Table'> with 5512 nonzero entries (7% dense)}\n",
      "{'sampling_depth': 27394, 'with_replacement': False, 'table': 2403 x 44 <class 'biom.table.Table'> with 6331 nonzero entries (5% dense)}\n",
      "{'sampling_depth': 27394, 'with_replacement': False, 'table': 2403 x 44 <class 'biom.table.Table'> with 6331 nonzero entries (5% dense)}\n"
     ]
    },
    {
     "name": "stdout",
     "output_type": "stream",
     "text": [
      "{'metric': 'observed_features', 'table': <artifact: FeatureTable[Frequency] uuid: 12692c42-b362-4674-8275-a2b149b77d43>}\n",
      "{'table': 2040 x 38 <class 'biom.table.Table'> with 5523 nonzero entries (7% dense)}\n",
      "{'table': 2040 x 38 <class 'biom.table.Table'> with 5523 nonzero entries (7% dense)}\n",
      "{'metric': 'shannon', 'table': <artifact: FeatureTable[Frequency] uuid: 12692c42-b362-4674-8275-a2b149b77d43>}\n",
      "{'drop_undefined_samples': False, 'table': 2040 x 38 <class 'biom.table.Table'> with 5523 nonzero entries (7% dense)}\n",
      "{'drop_undefined_samples': False, 'table': 2040 x 38 <class 'biom.table.Table'> with 5523 nonzero entries (7% dense)}\n",
      "{'sampling_depth': 27394, 'with_replacement': False, 'table': 2403 x 44 <class 'biom.table.Table'> with 6331 nonzero entries (5% dense)}\n",
      "{'sampling_depth': 27394, 'with_replacement': False, 'table': 2403 x 44 <class 'biom.table.Table'> with 6331 nonzero entries (5% dense)}\n"
     ]
    },
    {
     "name": "stdout",
     "output_type": "stream",
     "text": [
      "{'metric': 'observed_features', 'table': <artifact: FeatureTable[Frequency] uuid: d73c1f6b-c8f4-4c85-94e1-7cb6f89a9be6>}\n",
      "{'table': 2030 x 38 <class 'biom.table.Table'> with 5510 nonzero entries (7% dense)}\n",
      "{'table': 2030 x 38 <class 'biom.table.Table'> with 5510 nonzero entries (7% dense)}\n",
      "{'metric': 'shannon', 'table': <artifact: FeatureTable[Frequency] uuid: d73c1f6b-c8f4-4c85-94e1-7cb6f89a9be6>}\n",
      "{'drop_undefined_samples': False, 'table': 2030 x 38 <class 'biom.table.Table'> with 5510 nonzero entries (7% dense)}\n",
      "{'drop_undefined_samples': False, 'table': 2030 x 38 <class 'biom.table.Table'> with 5510 nonzero entries (7% dense)}\n",
      "{'sampling_depth': 27394, 'with_replacement': False, 'table': 2403 x 44 <class 'biom.table.Table'> with 6331 nonzero entries (5% dense)}\n",
      "{'sampling_depth': 27394, 'with_replacement': False, 'table': 2403 x 44 <class 'biom.table.Table'> with 6331 nonzero entries (5% dense)}\n"
     ]
    },
    {
     "name": "stdout",
     "output_type": "stream",
     "text": [
      "{'metric': 'observed_features', 'table': <artifact: FeatureTable[Frequency] uuid: 9d1bd265-2f41-4a3a-afb0-7fafcc4f44f9>}\n",
      "{'table': 2020 x 38 <class 'biom.table.Table'> with 5507 nonzero entries (7% dense)}\n",
      "{'table': 2020 x 38 <class 'biom.table.Table'> with 5507 nonzero entries (7% dense)}\n",
      "{'metric': 'shannon', 'table': <artifact: FeatureTable[Frequency] uuid: 9d1bd265-2f41-4a3a-afb0-7fafcc4f44f9>}\n",
      "{'drop_undefined_samples': False, 'table': 2020 x 38 <class 'biom.table.Table'> with 5507 nonzero entries (7% dense)}\n",
      "{'drop_undefined_samples': False, 'table': 2020 x 38 <class 'biom.table.Table'> with 5507 nonzero entries (7% dense)}\n",
      "{'sampling_depth': 27394, 'with_replacement': False, 'table': 2403 x 44 <class 'biom.table.Table'> with 6331 nonzero entries (5% dense)}\n",
      "{'sampling_depth': 27394, 'with_replacement': False, 'table': 2403 x 44 <class 'biom.table.Table'> with 6331 nonzero entries (5% dense)}\n"
     ]
    },
    {
     "name": "stdout",
     "output_type": "stream",
     "text": [
      "{'metric': 'observed_features', 'table': <artifact: FeatureTable[Frequency] uuid: 427215e7-54d9-49d0-b40b-81eaaec2b561>}\n",
      "{'table': 2046 x 38 <class 'biom.table.Table'> with 5524 nonzero entries (7% dense)}\n",
      "{'table': 2046 x 38 <class 'biom.table.Table'> with 5524 nonzero entries (7% dense)}\n",
      "{'metric': 'shannon', 'table': <artifact: FeatureTable[Frequency] uuid: 427215e7-54d9-49d0-b40b-81eaaec2b561>}\n",
      "{'drop_undefined_samples': False, 'table': 2046 x 38 <class 'biom.table.Table'> with 5524 nonzero entries (7% dense)}\n",
      "{'drop_undefined_samples': False, 'table': 2046 x 38 <class 'biom.table.Table'> with 5524 nonzero entries (7% dense)}\n",
      "{'sampling_depth': 27394, 'with_replacement': False, 'table': 2403 x 44 <class 'biom.table.Table'> with 6331 nonzero entries (5% dense)}\n",
      "{'sampling_depth': 27394, 'with_replacement': False, 'table': 2403 x 44 <class 'biom.table.Table'> with 6331 nonzero entries (5% dense)}\n"
     ]
    },
    {
     "name": "stdout",
     "output_type": "stream",
     "text": [
      "{'metric': 'observed_features', 'table': <artifact: FeatureTable[Frequency] uuid: 3ff89c66-3840-4105-837c-2925bf662bfa>}\n",
      "{'table': 2037 x 38 <class 'biom.table.Table'> with 5512 nonzero entries (7% dense)}\n",
      "{'table': 2037 x 38 <class 'biom.table.Table'> with 5512 nonzero entries (7% dense)}\n",
      "{'metric': 'shannon', 'table': <artifact: FeatureTable[Frequency] uuid: 3ff89c66-3840-4105-837c-2925bf662bfa>}\n",
      "{'drop_undefined_samples': False, 'table': 2037 x 38 <class 'biom.table.Table'> with 5512 nonzero entries (7% dense)}\n",
      "{'drop_undefined_samples': False, 'table': 2037 x 38 <class 'biom.table.Table'> with 5512 nonzero entries (7% dense)}\n",
      "{'sampling_depth': 27394, 'with_replacement': False, 'table': 2403 x 44 <class 'biom.table.Table'> with 6331 nonzero entries (5% dense)}\n",
      "{'sampling_depth': 27394, 'with_replacement': False, 'table': 2403 x 44 <class 'biom.table.Table'> with 6331 nonzero entries (5% dense)}\n"
     ]
    },
    {
     "name": "stdout",
     "output_type": "stream",
     "text": [
      "{'metric': 'observed_features', 'table': <artifact: FeatureTable[Frequency] uuid: 489046c4-49bd-43ad-889a-9a7e4e493c0b>}\n",
      "{'table': 2038 x 38 <class 'biom.table.Table'> with 5528 nonzero entries (7% dense)}\n",
      "{'table': 2038 x 38 <class 'biom.table.Table'> with 5528 nonzero entries (7% dense)}\n",
      "{'metric': 'shannon', 'table': <artifact: FeatureTable[Frequency] uuid: 489046c4-49bd-43ad-889a-9a7e4e493c0b>}\n",
      "{'drop_undefined_samples': False, 'table': 2038 x 38 <class 'biom.table.Table'> with 5528 nonzero entries (7% dense)}\n",
      "{'drop_undefined_samples': False, 'table': 2038 x 38 <class 'biom.table.Table'> with 5528 nonzero entries (7% dense)}\n",
      "{'sampling_depth': 27394, 'with_replacement': False, 'table': 2403 x 44 <class 'biom.table.Table'> with 6331 nonzero entries (5% dense)}\n",
      "{'sampling_depth': 27394, 'with_replacement': False, 'table': 2403 x 44 <class 'biom.table.Table'> with 6331 nonzero entries (5% dense)}\n"
     ]
    },
    {
     "name": "stdout",
     "output_type": "stream",
     "text": [
      "{'metric': 'observed_features', 'table': <artifact: FeatureTable[Frequency] uuid: f56fec2e-0376-4c16-aaf9-889a82ac3711>}\n",
      "{'table': 2037 x 38 <class 'biom.table.Table'> with 5522 nonzero entries (7% dense)}\n",
      "{'table': 2037 x 38 <class 'biom.table.Table'> with 5522 nonzero entries (7% dense)}\n",
      "{'metric': 'shannon', 'table': <artifact: FeatureTable[Frequency] uuid: f56fec2e-0376-4c16-aaf9-889a82ac3711>}\n",
      "{'drop_undefined_samples': False, 'table': 2037 x 38 <class 'biom.table.Table'> with 5522 nonzero entries (7% dense)}\n",
      "{'drop_undefined_samples': False, 'table': 2037 x 38 <class 'biom.table.Table'> with 5522 nonzero entries (7% dense)}\n",
      "{'sampling_depth': 27394, 'with_replacement': False, 'table': 2403 x 44 <class 'biom.table.Table'> with 6331 nonzero entries (5% dense)}\n",
      "{'sampling_depth': 27394, 'with_replacement': False, 'table': 2403 x 44 <class 'biom.table.Table'> with 6331 nonzero entries (5% dense)}\n"
     ]
    },
    {
     "name": "stdout",
     "output_type": "stream",
     "text": [
      "{'metric': 'observed_features', 'table': <artifact: FeatureTable[Frequency] uuid: 9ae7a3ab-e536-4df2-80eb-f30bcd36f283>}\n",
      "{'table': 2067 x 38 <class 'biom.table.Table'> with 5545 nonzero entries (7% dense)}\n",
      "{'table': 2067 x 38 <class 'biom.table.Table'> with 5545 nonzero entries (7% dense)}\n",
      "{'metric': 'shannon', 'table': <artifact: FeatureTable[Frequency] uuid: 9ae7a3ab-e536-4df2-80eb-f30bcd36f283>}\n",
      "{'drop_undefined_samples': False, 'table': 2067 x 38 <class 'biom.table.Table'> with 5545 nonzero entries (7% dense)}\n",
      "{'drop_undefined_samples': False, 'table': 2067 x 38 <class 'biom.table.Table'> with 5545 nonzero entries (7% dense)}\n",
      "{'sampling_depth': 27394, 'with_replacement': False, 'table': 2403 x 44 <class 'biom.table.Table'> with 6331 nonzero entries (5% dense)}\n",
      "{'sampling_depth': 27394, 'with_replacement': False, 'table': 2403 x 44 <class 'biom.table.Table'> with 6331 nonzero entries (5% dense)}\n"
     ]
    },
    {
     "name": "stdout",
     "output_type": "stream",
     "text": [
      "{'metric': 'observed_features', 'table': <artifact: FeatureTable[Frequency] uuid: a3eeff6f-7545-4318-929d-a353e6c69588>}\n",
      "{'table': 2043 x 38 <class 'biom.table.Table'> with 5527 nonzero entries (7% dense)}\n",
      "{'table': 2043 x 38 <class 'biom.table.Table'> with 5527 nonzero entries (7% dense)}\n",
      "{'metric': 'shannon', 'table': <artifact: FeatureTable[Frequency] uuid: a3eeff6f-7545-4318-929d-a353e6c69588>}\n",
      "{'drop_undefined_samples': False, 'table': 2043 x 38 <class 'biom.table.Table'> with 5527 nonzero entries (7% dense)}\n",
      "{'drop_undefined_samples': False, 'table': 2043 x 38 <class 'biom.table.Table'> with 5527 nonzero entries (7% dense)}\n",
      "{'sampling_depth': 54787, 'with_replacement': False, 'table': 2403 x 44 <class 'biom.table.Table'> with 6331 nonzero entries (5% dense)}\n",
      "{'sampling_depth': 54787, 'with_replacement': False, 'table': 2403 x 44 <class 'biom.table.Table'> with 6331 nonzero entries (5% dense)}\n"
     ]
    },
    {
     "name": "stdout",
     "output_type": "stream",
     "text": [
      "{'metric': 'observed_features', 'table': <artifact: FeatureTable[Frequency] uuid: 3f0122fd-50bf-464b-ad8f-18662116bff2>}\n",
      "{'table': 1951 x 30 <class 'biom.table.Table'> with 4633 nonzero entries (7% dense)}\n",
      "{'table': 1951 x 30 <class 'biom.table.Table'> with 4633 nonzero entries (7% dense)}\n",
      "{'metric': 'shannon', 'table': <artifact: FeatureTable[Frequency] uuid: 3f0122fd-50bf-464b-ad8f-18662116bff2>}\n",
      "{'drop_undefined_samples': False, 'table': 1951 x 30 <class 'biom.table.Table'> with 4633 nonzero entries (7% dense)}\n",
      "{'drop_undefined_samples': False, 'table': 1951 x 30 <class 'biom.table.Table'> with 4633 nonzero entries (7% dense)}\n",
      "{'sampling_depth': 54787, 'with_replacement': False, 'table': 2403 x 44 <class 'biom.table.Table'> with 6331 nonzero entries (5% dense)}\n",
      "{'sampling_depth': 54787, 'with_replacement': False, 'table': 2403 x 44 <class 'biom.table.Table'> with 6331 nonzero entries (5% dense)}\n"
     ]
    },
    {
     "name": "stdout",
     "output_type": "stream",
     "text": [
      "{'metric': 'observed_features', 'table': <artifact: FeatureTable[Frequency] uuid: b37eaedf-a0c1-4860-af62-7a58b235aa4f>}\n",
      "{'table': 1949 x 30 <class 'biom.table.Table'> with 4630 nonzero entries (7% dense)}\n",
      "{'table': 1949 x 30 <class 'biom.table.Table'> with 4630 nonzero entries (7% dense)}\n",
      "{'metric': 'shannon', 'table': <artifact: FeatureTable[Frequency] uuid: b37eaedf-a0c1-4860-af62-7a58b235aa4f>}\n",
      "{'drop_undefined_samples': False, 'table': 1949 x 30 <class 'biom.table.Table'> with 4630 nonzero entries (7% dense)}\n",
      "{'drop_undefined_samples': False, 'table': 1949 x 30 <class 'biom.table.Table'> with 4630 nonzero entries (7% dense)}\n",
      "{'sampling_depth': 54787, 'with_replacement': False, 'table': 2403 x 44 <class 'biom.table.Table'> with 6331 nonzero entries (5% dense)}\n",
      "{'sampling_depth': 54787, 'with_replacement': False, 'table': 2403 x 44 <class 'biom.table.Table'> with 6331 nonzero entries (5% dense)}\n"
     ]
    },
    {
     "name": "stdout",
     "output_type": "stream",
     "text": [
      "{'metric': 'observed_features', 'table': <artifact: FeatureTable[Frequency] uuid: 9d922c30-1013-4096-b528-515332c7860d>}\n",
      "{'table': 1954 x 30 <class 'biom.table.Table'> with 4632 nonzero entries (7% dense)}\n",
      "{'table': 1954 x 30 <class 'biom.table.Table'> with 4632 nonzero entries (7% dense)}\n",
      "{'metric': 'shannon', 'table': <artifact: FeatureTable[Frequency] uuid: 9d922c30-1013-4096-b528-515332c7860d>}\n",
      "{'drop_undefined_samples': False, 'table': 1954 x 30 <class 'biom.table.Table'> with 4632 nonzero entries (7% dense)}\n",
      "{'drop_undefined_samples': False, 'table': 1954 x 30 <class 'biom.table.Table'> with 4632 nonzero entries (7% dense)}\n",
      "{'sampling_depth': 54787, 'with_replacement': False, 'table': 2403 x 44 <class 'biom.table.Table'> with 6331 nonzero entries (5% dense)}\n",
      "{'sampling_depth': 54787, 'with_replacement': False, 'table': 2403 x 44 <class 'biom.table.Table'> with 6331 nonzero entries (5% dense)}\n"
     ]
    },
    {
     "name": "stdout",
     "output_type": "stream",
     "text": [
      "{'metric': 'observed_features', 'table': <artifact: FeatureTable[Frequency] uuid: 98330149-1f7c-428c-9fb1-bdd7cc2e0c0e>}\n",
      "{'table': 1940 x 30 <class 'biom.table.Table'> with 4621 nonzero entries (7% dense)}\n",
      "{'table': 1940 x 30 <class 'biom.table.Table'> with 4621 nonzero entries (7% dense)}\n"
     ]
    },
    {
     "name": "stdout",
     "output_type": "stream",
     "text": [
      "{'metric': 'shannon', 'table': <artifact: FeatureTable[Frequency] uuid: 98330149-1f7c-428c-9fb1-bdd7cc2e0c0e>}\n",
      "{'drop_undefined_samples': False, 'table': 1940 x 30 <class 'biom.table.Table'> with 4621 nonzero entries (7% dense)}\n",
      "{'drop_undefined_samples': False, 'table': 1940 x 30 <class 'biom.table.Table'> with 4621 nonzero entries (7% dense)}\n",
      "{'sampling_depth': 54787, 'with_replacement': False, 'table': 2403 x 44 <class 'biom.table.Table'> with 6331 nonzero entries (5% dense)}\n",
      "{'sampling_depth': 54787, 'with_replacement': False, 'table': 2403 x 44 <class 'biom.table.Table'> with 6331 nonzero entries (5% dense)}\n"
     ]
    },
    {
     "name": "stdout",
     "output_type": "stream",
     "text": [
      "{'metric': 'observed_features', 'table': <artifact: FeatureTable[Frequency] uuid: 09b7d361-e45b-452f-b566-bc54dedd0a06>}\n",
      "{'table': 1957 x 30 <class 'biom.table.Table'> with 4636 nonzero entries (7% dense)}\n",
      "{'table': 1957 x 30 <class 'biom.table.Table'> with 4636 nonzero entries (7% dense)}\n",
      "{'metric': 'shannon', 'table': <artifact: FeatureTable[Frequency] uuid: 09b7d361-e45b-452f-b566-bc54dedd0a06>}\n",
      "{'drop_undefined_samples': False, 'table': 1957 x 30 <class 'biom.table.Table'> with 4636 nonzero entries (7% dense)}\n",
      "{'drop_undefined_samples': False, 'table': 1957 x 30 <class 'biom.table.Table'> with 4636 nonzero entries (7% dense)}\n",
      "{'sampling_depth': 54787, 'with_replacement': False, 'table': 2403 x 44 <class 'biom.table.Table'> with 6331 nonzero entries (5% dense)}\n",
      "{'sampling_depth': 54787, 'with_replacement': False, 'table': 2403 x 44 <class 'biom.table.Table'> with 6331 nonzero entries (5% dense)}\n"
     ]
    },
    {
     "name": "stdout",
     "output_type": "stream",
     "text": [
      "{'metric': 'observed_features', 'table': <artifact: FeatureTable[Frequency] uuid: 34f5999a-9f7d-46d9-a723-571ee5c6d08d>}\n",
      "{'table': 1952 x 30 <class 'biom.table.Table'> with 4628 nonzero entries (7% dense)}\n",
      "{'table': 1952 x 30 <class 'biom.table.Table'> with 4628 nonzero entries (7% dense)}\n",
      "{'metric': 'shannon', 'table': <artifact: FeatureTable[Frequency] uuid: 34f5999a-9f7d-46d9-a723-571ee5c6d08d>}\n",
      "{'drop_undefined_samples': False, 'table': 1952 x 30 <class 'biom.table.Table'> with 4628 nonzero entries (7% dense)}\n",
      "{'drop_undefined_samples': False, 'table': 1952 x 30 <class 'biom.table.Table'> with 4628 nonzero entries (7% dense)}\n",
      "{'sampling_depth': 54787, 'with_replacement': False, 'table': 2403 x 44 <class 'biom.table.Table'> with 6331 nonzero entries (5% dense)}\n",
      "{'sampling_depth': 54787, 'with_replacement': False, 'table': 2403 x 44 <class 'biom.table.Table'> with 6331 nonzero entries (5% dense)}\n"
     ]
    },
    {
     "name": "stdout",
     "output_type": "stream",
     "text": [
      "{'metric': 'observed_features', 'table': <artifact: FeatureTable[Frequency] uuid: 8f2c47e0-3496-4129-bd49-b5815d47eeae>}\n",
      "{'table': 1967 x 30 <class 'biom.table.Table'> with 4646 nonzero entries (7% dense)}\n",
      "{'table': 1967 x 30 <class 'biom.table.Table'> with 4646 nonzero entries (7% dense)}\n",
      "{'metric': 'shannon', 'table': <artifact: FeatureTable[Frequency] uuid: 8f2c47e0-3496-4129-bd49-b5815d47eeae>}\n",
      "{'drop_undefined_samples': False, 'table': 1967 x 30 <class 'biom.table.Table'> with 4646 nonzero entries (7% dense)}\n",
      "{'drop_undefined_samples': False, 'table': 1967 x 30 <class 'biom.table.Table'> with 4646 nonzero entries (7% dense)}\n",
      "{'sampling_depth': 54787, 'with_replacement': False, 'table': 2403 x 44 <class 'biom.table.Table'> with 6331 nonzero entries (5% dense)}\n",
      "{'sampling_depth': 54787, 'with_replacement': False, 'table': 2403 x 44 <class 'biom.table.Table'> with 6331 nonzero entries (5% dense)}\n"
     ]
    },
    {
     "name": "stdout",
     "output_type": "stream",
     "text": [
      "{'metric': 'observed_features', 'table': <artifact: FeatureTable[Frequency] uuid: 8437b2c3-a67f-4614-9568-ba97a84eb2fd>}\n",
      "{'table': 1963 x 30 <class 'biom.table.Table'> with 4639 nonzero entries (7% dense)}\n",
      "{'table': 1963 x 30 <class 'biom.table.Table'> with 4639 nonzero entries (7% dense)}\n",
      "{'metric': 'shannon', 'table': <artifact: FeatureTable[Frequency] uuid: 8437b2c3-a67f-4614-9568-ba97a84eb2fd>}\n",
      "{'drop_undefined_samples': False, 'table': 1963 x 30 <class 'biom.table.Table'> with 4639 nonzero entries (7% dense)}\n",
      "{'drop_undefined_samples': False, 'table': 1963 x 30 <class 'biom.table.Table'> with 4639 nonzero entries (7% dense)}\n",
      "{'sampling_depth': 54787, 'with_replacement': False, 'table': 2403 x 44 <class 'biom.table.Table'> with 6331 nonzero entries (5% dense)}\n",
      "{'sampling_depth': 54787, 'with_replacement': False, 'table': 2403 x 44 <class 'biom.table.Table'> with 6331 nonzero entries (5% dense)}\n"
     ]
    },
    {
     "name": "stdout",
     "output_type": "stream",
     "text": [
      "{'metric': 'observed_features', 'table': <artifact: FeatureTable[Frequency] uuid: fed4f5f4-1253-4bdd-9e05-73e5825db2c7>}\n",
      "{'table': 1952 x 30 <class 'biom.table.Table'> with 4631 nonzero entries (7% dense)}\n",
      "{'table': 1952 x 30 <class 'biom.table.Table'> with 4631 nonzero entries (7% dense)}\n",
      "{'metric': 'shannon', 'table': <artifact: FeatureTable[Frequency] uuid: fed4f5f4-1253-4bdd-9e05-73e5825db2c7>}\n",
      "{'drop_undefined_samples': False, 'table': 1952 x 30 <class 'biom.table.Table'> with 4631 nonzero entries (7% dense)}\n",
      "{'drop_undefined_samples': False, 'table': 1952 x 30 <class 'biom.table.Table'> with 4631 nonzero entries (7% dense)}\n",
      "{'sampling_depth': 54787, 'with_replacement': False, 'table': 2403 x 44 <class 'biom.table.Table'> with 6331 nonzero entries (5% dense)}\n",
      "{'sampling_depth': 54787, 'with_replacement': False, 'table': 2403 x 44 <class 'biom.table.Table'> with 6331 nonzero entries (5% dense)}\n"
     ]
    },
    {
     "name": "stdout",
     "output_type": "stream",
     "text": [
      "{'metric': 'observed_features', 'table': <artifact: FeatureTable[Frequency] uuid: 398a3ba8-b8ea-42b9-8b6b-5a1b5f6e03cc>}\n",
      "{'table': 1953 x 30 <class 'biom.table.Table'> with 4635 nonzero entries (7% dense)}\n",
      "{'table': 1953 x 30 <class 'biom.table.Table'> with 4635 nonzero entries (7% dense)}\n",
      "{'metric': 'shannon', 'table': <artifact: FeatureTable[Frequency] uuid: 398a3ba8-b8ea-42b9-8b6b-5a1b5f6e03cc>}\n",
      "{'drop_undefined_samples': False, 'table': 1953 x 30 <class 'biom.table.Table'> with 4635 nonzero entries (7% dense)}\n",
      "{'drop_undefined_samples': False, 'table': 1953 x 30 <class 'biom.table.Table'> with 4635 nonzero entries (7% dense)}\n",
      "{'sampling_depth': 82181, 'with_replacement': False, 'table': 2403 x 44 <class 'biom.table.Table'> with 6331 nonzero entries (5% dense)}\n",
      "{'sampling_depth': 82181, 'with_replacement': False, 'table': 2403 x 44 <class 'biom.table.Table'> with 6331 nonzero entries (5% dense)}\n"
     ]
    },
    {
     "name": "stdout",
     "output_type": "stream",
     "text": [
      "{'metric': 'observed_features', 'table': <artifact: FeatureTable[Frequency] uuid: fe4f1731-7fbd-4479-b33a-0af2d0c9e80a>}\n",
      "{'table': 1328 x 15 <class 'biom.table.Table'> with 2870 nonzero entries (14% dense)}\n",
      "{'table': 1328 x 15 <class 'biom.table.Table'> with 2870 nonzero entries (14% dense)}\n",
      "{'metric': 'shannon', 'table': <artifact: FeatureTable[Frequency] uuid: fe4f1731-7fbd-4479-b33a-0af2d0c9e80a>}\n",
      "{'drop_undefined_samples': False, 'table': 1328 x 15 <class 'biom.table.Table'> with 2870 nonzero entries (14% dense)}\n",
      "{'drop_undefined_samples': False, 'table': 1328 x 15 <class 'biom.table.Table'> with 2870 nonzero entries (14% dense)}\n",
      "{'sampling_depth': 82181, 'with_replacement': False, 'table': 2403 x 44 <class 'biom.table.Table'> with 6331 nonzero entries (5% dense)}\n",
      "{'sampling_depth': 82181, 'with_replacement': False, 'table': 2403 x 44 <class 'biom.table.Table'> with 6331 nonzero entries (5% dense)}\n"
     ]
    },
    {
     "name": "stdout",
     "output_type": "stream",
     "text": [
      "{'metric': 'observed_features', 'table': <artifact: FeatureTable[Frequency] uuid: d4a9da9f-5995-46b6-b6bf-ada8892bef4b>}\n",
      "{'table': 1337 x 15 <class 'biom.table.Table'> with 2880 nonzero entries (14% dense)}\n",
      "{'table': 1337 x 15 <class 'biom.table.Table'> with 2880 nonzero entries (14% dense)}\n",
      "{'metric': 'shannon', 'table': <artifact: FeatureTable[Frequency] uuid: d4a9da9f-5995-46b6-b6bf-ada8892bef4b>}\n",
      "{'drop_undefined_samples': False, 'table': 1337 x 15 <class 'biom.table.Table'> with 2880 nonzero entries (14% dense)}\n",
      "{'drop_undefined_samples': False, 'table': 1337 x 15 <class 'biom.table.Table'> with 2880 nonzero entries (14% dense)}\n",
      "{'sampling_depth': 82181, 'with_replacement': False, 'table': 2403 x 44 <class 'biom.table.Table'> with 6331 nonzero entries (5% dense)}\n",
      "{'sampling_depth': 82181, 'with_replacement': False, 'table': 2403 x 44 <class 'biom.table.Table'> with 6331 nonzero entries (5% dense)}\n"
     ]
    },
    {
     "name": "stdout",
     "output_type": "stream",
     "text": [
      "{'metric': 'observed_features', 'table': <artifact: FeatureTable[Frequency] uuid: 495ea93d-3a4c-43ad-a330-e0105988b040>}\n",
      "{'table': 1330 x 15 <class 'biom.table.Table'> with 2871 nonzero entries (14% dense)}\n",
      "{'table': 1330 x 15 <class 'biom.table.Table'> with 2871 nonzero entries (14% dense)}\n",
      "{'metric': 'shannon', 'table': <artifact: FeatureTable[Frequency] uuid: 495ea93d-3a4c-43ad-a330-e0105988b040>}\n",
      "{'drop_undefined_samples': False, 'table': 1330 x 15 <class 'biom.table.Table'> with 2871 nonzero entries (14% dense)}\n",
      "{'drop_undefined_samples': False, 'table': 1330 x 15 <class 'biom.table.Table'> with 2871 nonzero entries (14% dense)}\n",
      "{'sampling_depth': 82181, 'with_replacement': False, 'table': 2403 x 44 <class 'biom.table.Table'> with 6331 nonzero entries (5% dense)}\n",
      "{'sampling_depth': 82181, 'with_replacement': False, 'table': 2403 x 44 <class 'biom.table.Table'> with 6331 nonzero entries (5% dense)}\n"
     ]
    },
    {
     "name": "stdout",
     "output_type": "stream",
     "text": [
      "{'metric': 'observed_features', 'table': <artifact: FeatureTable[Frequency] uuid: 29593131-7515-44a8-bdbf-aaf236b5befb>}\n",
      "{'table': 1327 x 15 <class 'biom.table.Table'> with 2870 nonzero entries (14% dense)}\n",
      "{'table': 1327 x 15 <class 'biom.table.Table'> with 2870 nonzero entries (14% dense)}\n",
      "{'metric': 'shannon', 'table': <artifact: FeatureTable[Frequency] uuid: 29593131-7515-44a8-bdbf-aaf236b5befb>}\n",
      "{'drop_undefined_samples': False, 'table': 1327 x 15 <class 'biom.table.Table'> with 2870 nonzero entries (14% dense)}\n",
      "{'drop_undefined_samples': False, 'table': 1327 x 15 <class 'biom.table.Table'> with 2870 nonzero entries (14% dense)}\n",
      "{'sampling_depth': 82181, 'with_replacement': False, 'table': 2403 x 44 <class 'biom.table.Table'> with 6331 nonzero entries (5% dense)}\n",
      "{'sampling_depth': 82181, 'with_replacement': False, 'table': 2403 x 44 <class 'biom.table.Table'> with 6331 nonzero entries (5% dense)}\n"
     ]
    },
    {
     "name": "stdout",
     "output_type": "stream",
     "text": [
      "{'metric': 'observed_features', 'table': <artifact: FeatureTable[Frequency] uuid: 979e6bed-6db5-4298-9284-28814858d18f>}\n",
      "{'table': 1330 x 15 <class 'biom.table.Table'> with 2868 nonzero entries (14% dense)}\n",
      "{'table': 1330 x 15 <class 'biom.table.Table'> with 2868 nonzero entries (14% dense)}\n",
      "{'metric': 'shannon', 'table': <artifact: FeatureTable[Frequency] uuid: 979e6bed-6db5-4298-9284-28814858d18f>}\n",
      "{'drop_undefined_samples': False, 'table': 1330 x 15 <class 'biom.table.Table'> with 2868 nonzero entries (14% dense)}\n",
      "{'drop_undefined_samples': False, 'table': 1330 x 15 <class 'biom.table.Table'> with 2868 nonzero entries (14% dense)}\n",
      "{'sampling_depth': 82181, 'with_replacement': False, 'table': 2403 x 44 <class 'biom.table.Table'> with 6331 nonzero entries (5% dense)}\n",
      "{'sampling_depth': 82181, 'with_replacement': False, 'table': 2403 x 44 <class 'biom.table.Table'> with 6331 nonzero entries (5% dense)}\n"
     ]
    },
    {
     "name": "stdout",
     "output_type": "stream",
     "text": [
      "{'metric': 'observed_features', 'table': <artifact: FeatureTable[Frequency] uuid: 15b9bfea-ffd4-4669-b78a-071391d0ce18>}\n",
      "{'table': 1327 x 15 <class 'biom.table.Table'> with 2869 nonzero entries (14% dense)}\n",
      "{'table': 1327 x 15 <class 'biom.table.Table'> with 2869 nonzero entries (14% dense)}\n",
      "{'metric': 'shannon', 'table': <artifact: FeatureTable[Frequency] uuid: 15b9bfea-ffd4-4669-b78a-071391d0ce18>}\n",
      "{'drop_undefined_samples': False, 'table': 1327 x 15 <class 'biom.table.Table'> with 2869 nonzero entries (14% dense)}\n",
      "{'drop_undefined_samples': False, 'table': 1327 x 15 <class 'biom.table.Table'> with 2869 nonzero entries (14% dense)}\n",
      "{'sampling_depth': 82181, 'with_replacement': False, 'table': 2403 x 44 <class 'biom.table.Table'> with 6331 nonzero entries (5% dense)}\n",
      "{'sampling_depth': 82181, 'with_replacement': False, 'table': 2403 x 44 <class 'biom.table.Table'> with 6331 nonzero entries (5% dense)}\n"
     ]
    },
    {
     "name": "stdout",
     "output_type": "stream",
     "text": [
      "{'metric': 'observed_features', 'table': <artifact: FeatureTable[Frequency] uuid: 5ee86ea2-71be-4700-88f2-f338c7cf3863>}\n",
      "{'table': 1331 x 15 <class 'biom.table.Table'> with 2871 nonzero entries (14% dense)}\n",
      "{'table': 1331 x 15 <class 'biom.table.Table'> with 2871 nonzero entries (14% dense)}\n",
      "{'metric': 'shannon', 'table': <artifact: FeatureTable[Frequency] uuid: 5ee86ea2-71be-4700-88f2-f338c7cf3863>}\n",
      "{'drop_undefined_samples': False, 'table': 1331 x 15 <class 'biom.table.Table'> with 2871 nonzero entries (14% dense)}\n",
      "{'drop_undefined_samples': False, 'table': 1331 x 15 <class 'biom.table.Table'> with 2871 nonzero entries (14% dense)}\n",
      "{'sampling_depth': 82181, 'with_replacement': False, 'table': 2403 x 44 <class 'biom.table.Table'> with 6331 nonzero entries (5% dense)}\n",
      "{'sampling_depth': 82181, 'with_replacement': False, 'table': 2403 x 44 <class 'biom.table.Table'> with 6331 nonzero entries (5% dense)}\n"
     ]
    },
    {
     "name": "stdout",
     "output_type": "stream",
     "text": [
      "{'metric': 'observed_features', 'table': <artifact: FeatureTable[Frequency] uuid: 37a28098-2f8c-4ed1-934f-8593fc62e678>}\n",
      "{'table': 1328 x 15 <class 'biom.table.Table'> with 2870 nonzero entries (14% dense)}\n",
      "{'table': 1328 x 15 <class 'biom.table.Table'> with 2870 nonzero entries (14% dense)}\n",
      "{'metric': 'shannon', 'table': <artifact: FeatureTable[Frequency] uuid: 37a28098-2f8c-4ed1-934f-8593fc62e678>}\n",
      "{'drop_undefined_samples': False, 'table': 1328 x 15 <class 'biom.table.Table'> with 2870 nonzero entries (14% dense)}\n",
      "{'drop_undefined_samples': False, 'table': 1328 x 15 <class 'biom.table.Table'> with 2870 nonzero entries (14% dense)}\n",
      "{'sampling_depth': 82181, 'with_replacement': False, 'table': 2403 x 44 <class 'biom.table.Table'> with 6331 nonzero entries (5% dense)}\n",
      "{'sampling_depth': 82181, 'with_replacement': False, 'table': 2403 x 44 <class 'biom.table.Table'> with 6331 nonzero entries (5% dense)}\n"
     ]
    },
    {
     "name": "stdout",
     "output_type": "stream",
     "text": [
      "{'metric': 'observed_features', 'table': <artifact: FeatureTable[Frequency] uuid: d074a2e5-713e-419b-965d-f89302c5648a>}\n",
      "{'table': 1331 x 15 <class 'biom.table.Table'> with 2871 nonzero entries (14% dense)}\n",
      "{'table': 1331 x 15 <class 'biom.table.Table'> with 2871 nonzero entries (14% dense)}\n",
      "{'metric': 'shannon', 'table': <artifact: FeatureTable[Frequency] uuid: d074a2e5-713e-419b-965d-f89302c5648a>}\n",
      "{'drop_undefined_samples': False, 'table': 1331 x 15 <class 'biom.table.Table'> with 2871 nonzero entries (14% dense)}\n",
      "{'drop_undefined_samples': False, 'table': 1331 x 15 <class 'biom.table.Table'> with 2871 nonzero entries (14% dense)}\n",
      "{'sampling_depth': 82181, 'with_replacement': False, 'table': 2403 x 44 <class 'biom.table.Table'> with 6331 nonzero entries (5% dense)}\n",
      "{'sampling_depth': 82181, 'with_replacement': False, 'table': 2403 x 44 <class 'biom.table.Table'> with 6331 nonzero entries (5% dense)}\n"
     ]
    },
    {
     "name": "stdout",
     "output_type": "stream",
     "text": [
      "{'metric': 'observed_features', 'table': <artifact: FeatureTable[Frequency] uuid: 1d2f59a8-94f0-4ebb-bdc8-cad0a7949656>}\n",
      "{'table': 1327 x 15 <class 'biom.table.Table'> with 2869 nonzero entries (14% dense)}\n",
      "{'table': 1327 x 15 <class 'biom.table.Table'> with 2869 nonzero entries (14% dense)}\n",
      "{'metric': 'shannon', 'table': <artifact: FeatureTable[Frequency] uuid: 1d2f59a8-94f0-4ebb-bdc8-cad0a7949656>}\n",
      "{'drop_undefined_samples': False, 'table': 1327 x 15 <class 'biom.table.Table'> with 2869 nonzero entries (14% dense)}\n",
      "{'drop_undefined_samples': False, 'table': 1327 x 15 <class 'biom.table.Table'> with 2869 nonzero entries (14% dense)}\n",
      "{'sampling_depth': 109574, 'with_replacement': False, 'table': 2403 x 44 <class 'biom.table.Table'> with 6331 nonzero entries (5% dense)}\n",
      "{'sampling_depth': 109574, 'with_replacement': False, 'table': 2403 x 44 <class 'biom.table.Table'> with 6331 nonzero entries (5% dense)}\n"
     ]
    },
    {
     "name": "stdout",
     "output_type": "stream",
     "text": [
      "{'metric': 'observed_features', 'table': <artifact: FeatureTable[Frequency] uuid: b83d63e8-a003-47ba-9c67-e960ad29fbd4>}\n",
      "{'table': 1216 x 12 <class 'biom.table.Table'> with 2481 nonzero entries (17% dense)}\n",
      "{'table': 1216 x 12 <class 'biom.table.Table'> with 2481 nonzero entries (17% dense)}\n",
      "{'metric': 'shannon', 'table': <artifact: FeatureTable[Frequency] uuid: b83d63e8-a003-47ba-9c67-e960ad29fbd4>}\n",
      "{'drop_undefined_samples': False, 'table': 1216 x 12 <class 'biom.table.Table'> with 2481 nonzero entries (17% dense)}\n",
      "{'drop_undefined_samples': False, 'table': 1216 x 12 <class 'biom.table.Table'> with 2481 nonzero entries (17% dense)}\n",
      "{'sampling_depth': 109574, 'with_replacement': False, 'table': 2403 x 44 <class 'biom.table.Table'> with 6331 nonzero entries (5% dense)}\n",
      "{'sampling_depth': 109574, 'with_replacement': False, 'table': 2403 x 44 <class 'biom.table.Table'> with 6331 nonzero entries (5% dense)}\n"
     ]
    },
    {
     "name": "stdout",
     "output_type": "stream",
     "text": [
      "{'metric': 'observed_features', 'table': <artifact: FeatureTable[Frequency] uuid: 2855d853-d423-47f3-9309-ab12233d1a91>}\n",
      "{'table': 1216 x 12 <class 'biom.table.Table'> with 2482 nonzero entries (17% dense)}\n",
      "{'table': 1216 x 12 <class 'biom.table.Table'> with 2482 nonzero entries (17% dense)}\n",
      "{'metric': 'shannon', 'table': <artifact: FeatureTable[Frequency] uuid: 2855d853-d423-47f3-9309-ab12233d1a91>}\n",
      "{'drop_undefined_samples': False, 'table': 1216 x 12 <class 'biom.table.Table'> with 2482 nonzero entries (17% dense)}\n",
      "{'drop_undefined_samples': False, 'table': 1216 x 12 <class 'biom.table.Table'> with 2482 nonzero entries (17% dense)}\n",
      "{'sampling_depth': 109574, 'with_replacement': False, 'table': 2403 x 44 <class 'biom.table.Table'> with 6331 nonzero entries (5% dense)}\n",
      "{'sampling_depth': 109574, 'with_replacement': False, 'table': 2403 x 44 <class 'biom.table.Table'> with 6331 nonzero entries (5% dense)}\n"
     ]
    },
    {
     "name": "stdout",
     "output_type": "stream",
     "text": [
      "{'metric': 'observed_features', 'table': <artifact: FeatureTable[Frequency] uuid: 68399b03-d9d2-4548-a74d-d7b121b69189>}\n",
      "{'table': 1213 x 12 <class 'biom.table.Table'> with 2479 nonzero entries (17% dense)}\n",
      "{'table': 1213 x 12 <class 'biom.table.Table'> with 2479 nonzero entries (17% dense)}\n",
      "{'metric': 'shannon', 'table': <artifact: FeatureTable[Frequency] uuid: 68399b03-d9d2-4548-a74d-d7b121b69189>}\n",
      "{'drop_undefined_samples': False, 'table': 1213 x 12 <class 'biom.table.Table'> with 2479 nonzero entries (17% dense)}\n",
      "{'drop_undefined_samples': False, 'table': 1213 x 12 <class 'biom.table.Table'> with 2479 nonzero entries (17% dense)}\n",
      "{'sampling_depth': 109574, 'with_replacement': False, 'table': 2403 x 44 <class 'biom.table.Table'> with 6331 nonzero entries (5% dense)}\n",
      "{'sampling_depth': 109574, 'with_replacement': False, 'table': 2403 x 44 <class 'biom.table.Table'> with 6331 nonzero entries (5% dense)}\n"
     ]
    },
    {
     "name": "stdout",
     "output_type": "stream",
     "text": [
      "{'metric': 'observed_features', 'table': <artifact: FeatureTable[Frequency] uuid: d7d7ce86-29c8-4c82-aae6-bc1485ee83c3>}\n",
      "{'table': 1210 x 12 <class 'biom.table.Table'> with 2475 nonzero entries (17% dense)}\n",
      "{'table': 1210 x 12 <class 'biom.table.Table'> with 2475 nonzero entries (17% dense)}\n",
      "{'metric': 'shannon', 'table': <artifact: FeatureTable[Frequency] uuid: d7d7ce86-29c8-4c82-aae6-bc1485ee83c3>}\n",
      "{'drop_undefined_samples': False, 'table': 1210 x 12 <class 'biom.table.Table'> with 2475 nonzero entries (17% dense)}\n",
      "{'drop_undefined_samples': False, 'table': 1210 x 12 <class 'biom.table.Table'> with 2475 nonzero entries (17% dense)}\n",
      "{'sampling_depth': 109574, 'with_replacement': False, 'table': 2403 x 44 <class 'biom.table.Table'> with 6331 nonzero entries (5% dense)}\n",
      "{'sampling_depth': 109574, 'with_replacement': False, 'table': 2403 x 44 <class 'biom.table.Table'> with 6331 nonzero entries (5% dense)}\n"
     ]
    },
    {
     "name": "stdout",
     "output_type": "stream",
     "text": [
      "{'metric': 'observed_features', 'table': <artifact: FeatureTable[Frequency] uuid: 82534c4d-92d7-4e7a-9533-1f39e6519a45>}\n",
      "{'table': 1221 x 12 <class 'biom.table.Table'> with 2486 nonzero entries (16% dense)}\n",
      "{'table': 1221 x 12 <class 'biom.table.Table'> with 2486 nonzero entries (16% dense)}\n",
      "{'metric': 'shannon', 'table': <artifact: FeatureTable[Frequency] uuid: 82534c4d-92d7-4e7a-9533-1f39e6519a45>}\n",
      "{'drop_undefined_samples': False, 'table': 1221 x 12 <class 'biom.table.Table'> with 2486 nonzero entries (16% dense)}\n",
      "{'drop_undefined_samples': False, 'table': 1221 x 12 <class 'biom.table.Table'> with 2486 nonzero entries (16% dense)}\n",
      "{'sampling_depth': 109574, 'with_replacement': False, 'table': 2403 x 44 <class 'biom.table.Table'> with 6331 nonzero entries (5% dense)}\n",
      "{'sampling_depth': 109574, 'with_replacement': False, 'table': 2403 x 44 <class 'biom.table.Table'> with 6331 nonzero entries (5% dense)}\n"
     ]
    },
    {
     "name": "stdout",
     "output_type": "stream",
     "text": [
      "{'metric': 'observed_features', 'table': <artifact: FeatureTable[Frequency] uuid: 266ee6b7-0b05-4617-a840-8dd30d76d644>}\n",
      "{'table': 1210 x 12 <class 'biom.table.Table'> with 2476 nonzero entries (17% dense)}\n",
      "{'table': 1210 x 12 <class 'biom.table.Table'> with 2476 nonzero entries (17% dense)}\n",
      "{'metric': 'shannon', 'table': <artifact: FeatureTable[Frequency] uuid: 266ee6b7-0b05-4617-a840-8dd30d76d644>}\n",
      "{'drop_undefined_samples': False, 'table': 1210 x 12 <class 'biom.table.Table'> with 2476 nonzero entries (17% dense)}\n",
      "{'drop_undefined_samples': False, 'table': 1210 x 12 <class 'biom.table.Table'> with 2476 nonzero entries (17% dense)}\n",
      "{'sampling_depth': 109574, 'with_replacement': False, 'table': 2403 x 44 <class 'biom.table.Table'> with 6331 nonzero entries (5% dense)}\n",
      "{'sampling_depth': 109574, 'with_replacement': False, 'table': 2403 x 44 <class 'biom.table.Table'> with 6331 nonzero entries (5% dense)}\n"
     ]
    },
    {
     "name": "stdout",
     "output_type": "stream",
     "text": [
      "{'metric': 'observed_features', 'table': <artifact: FeatureTable[Frequency] uuid: aa8ee1c7-967c-486b-8e88-a4fafbcce41e>}\n",
      "{'table': 1218 x 12 <class 'biom.table.Table'> with 2482 nonzero entries (16% dense)}\n",
      "{'table': 1218 x 12 <class 'biom.table.Table'> with 2482 nonzero entries (16% dense)}\n",
      "{'metric': 'shannon', 'table': <artifact: FeatureTable[Frequency] uuid: aa8ee1c7-967c-486b-8e88-a4fafbcce41e>}\n",
      "{'drop_undefined_samples': False, 'table': 1218 x 12 <class 'biom.table.Table'> with 2482 nonzero entries (16% dense)}\n",
      "{'drop_undefined_samples': False, 'table': 1218 x 12 <class 'biom.table.Table'> with 2482 nonzero entries (16% dense)}\n",
      "{'sampling_depth': 109574, 'with_replacement': False, 'table': 2403 x 44 <class 'biom.table.Table'> with 6331 nonzero entries (5% dense)}\n",
      "{'sampling_depth': 109574, 'with_replacement': False, 'table': 2403 x 44 <class 'biom.table.Table'> with 6331 nonzero entries (5% dense)}\n"
     ]
    },
    {
     "name": "stdout",
     "output_type": "stream",
     "text": [
      "{'metric': 'observed_features', 'table': <artifact: FeatureTable[Frequency] uuid: dc9819da-3651-4cae-82a4-9c7b871a31aa>}\n",
      "{'table': 1219 x 12 <class 'biom.table.Table'> with 2485 nonzero entries (16% dense)}\n",
      "{'table': 1219 x 12 <class 'biom.table.Table'> with 2485 nonzero entries (16% dense)}\n",
      "{'metric': 'shannon', 'table': <artifact: FeatureTable[Frequency] uuid: dc9819da-3651-4cae-82a4-9c7b871a31aa>}\n",
      "{'drop_undefined_samples': False, 'table': 1219 x 12 <class 'biom.table.Table'> with 2485 nonzero entries (16% dense)}\n",
      "{'drop_undefined_samples': False, 'table': 1219 x 12 <class 'biom.table.Table'> with 2485 nonzero entries (16% dense)}\n",
      "{'sampling_depth': 109574, 'with_replacement': False, 'table': 2403 x 44 <class 'biom.table.Table'> with 6331 nonzero entries (5% dense)}\n",
      "{'sampling_depth': 109574, 'with_replacement': False, 'table': 2403 x 44 <class 'biom.table.Table'> with 6331 nonzero entries (5% dense)}\n",
      "{'metric': 'observed_features', 'table': <artifact: FeatureTable[Frequency] uuid: a3490bef-ccdf-4a26-a714-e1dec8d3266a>}\n"
     ]
    },
    {
     "name": "stdout",
     "output_type": "stream",
     "text": [
      "{'table': 1215 x 12 <class 'biom.table.Table'> with 2479 nonzero entries (17% dense)}\n",
      "{'table': 1215 x 12 <class 'biom.table.Table'> with 2479 nonzero entries (17% dense)}\n",
      "{'metric': 'shannon', 'table': <artifact: FeatureTable[Frequency] uuid: a3490bef-ccdf-4a26-a714-e1dec8d3266a>}\n",
      "{'drop_undefined_samples': False, 'table': 1215 x 12 <class 'biom.table.Table'> with 2479 nonzero entries (17% dense)}\n",
      "{'drop_undefined_samples': False, 'table': 1215 x 12 <class 'biom.table.Table'> with 2479 nonzero entries (17% dense)}\n",
      "{'sampling_depth': 109574, 'with_replacement': False, 'table': 2403 x 44 <class 'biom.table.Table'> with 6331 nonzero entries (5% dense)}\n",
      "{'sampling_depth': 109574, 'with_replacement': False, 'table': 2403 x 44 <class 'biom.table.Table'> with 6331 nonzero entries (5% dense)}\n",
      "{'metric': 'observed_features', 'table': <artifact: FeatureTable[Frequency] uuid: 83b81249-1918-44fb-9ad5-bf96b503e9aa>}\n",
      "{'table': 1218 x 12 <class 'biom.table.Table'> with 2484 nonzero entries (16% dense)}\n",
      "{'table': 1218 x 12 <class 'biom.table.Table'> with 2484 nonzero entries (16% dense)}\n"
     ]
    },
    {
     "name": "stdout",
     "output_type": "stream",
     "text": [
      "{'metric': 'shannon', 'table': <artifact: FeatureTable[Frequency] uuid: 83b81249-1918-44fb-9ad5-bf96b503e9aa>}\n",
      "{'drop_undefined_samples': False, 'table': 1218 x 12 <class 'biom.table.Table'> with 2484 nonzero entries (16% dense)}\n",
      "{'drop_undefined_samples': False, 'table': 1218 x 12 <class 'biom.table.Table'> with 2484 nonzero entries (16% dense)}\n",
      "{'sampling_depth': 136968, 'with_replacement': False, 'table': 2403 x 44 <class 'biom.table.Table'> with 6331 nonzero entries (5% dense)}\n",
      "{'sampling_depth': 136968, 'with_replacement': False, 'table': 2403 x 44 <class 'biom.table.Table'> with 6331 nonzero entries (5% dense)}\n",
      "{'metric': 'observed_features', 'table': <artifact: FeatureTable[Frequency] uuid: 2c14c3b0-a3bd-4a35-861e-aad5427256ae>}\n",
      "{'table': 1006 x 8 <class 'biom.table.Table'> with 1801 nonzero entries (22% dense)}\n",
      "{'table': 1006 x 8 <class 'biom.table.Table'> with 1801 nonzero entries (22% dense)}\n",
      "{'metric': 'shannon', 'table': <artifact: FeatureTable[Frequency] uuid: 2c14c3b0-a3bd-4a35-861e-aad5427256ae>}\n",
      "{'drop_undefined_samples': False, 'table': 1006 x 8 <class 'biom.table.Table'> with 1801 nonzero entries (22% dense)}\n",
      "{'drop_undefined_samples': False, 'table': 1006 x 8 <class 'biom.table.Table'> with 1801 nonzero entries (22% dense)}\n"
     ]
    },
    {
     "name": "stdout",
     "output_type": "stream",
     "text": [
      "{'sampling_depth': 136968, 'with_replacement': False, 'table': 2403 x 44 <class 'biom.table.Table'> with 6331 nonzero entries (5% dense)}\n",
      "{'sampling_depth': 136968, 'with_replacement': False, 'table': 2403 x 44 <class 'biom.table.Table'> with 6331 nonzero entries (5% dense)}\n",
      "{'metric': 'observed_features', 'table': <artifact: FeatureTable[Frequency] uuid: da623224-2b7f-4b37-ae67-0c19716be020>}\n",
      "{'table': 1003 x 8 <class 'biom.table.Table'> with 1799 nonzero entries (22% dense)}\n",
      "{'table': 1003 x 8 <class 'biom.table.Table'> with 1799 nonzero entries (22% dense)}\n",
      "{'metric': 'shannon', 'table': <artifact: FeatureTable[Frequency] uuid: da623224-2b7f-4b37-ae67-0c19716be020>}\n",
      "{'drop_undefined_samples': False, 'table': 1003 x 8 <class 'biom.table.Table'> with 1799 nonzero entries (22% dense)}\n",
      "{'drop_undefined_samples': False, 'table': 1003 x 8 <class 'biom.table.Table'> with 1799 nonzero entries (22% dense)}\n",
      "{'sampling_depth': 136968, 'with_replacement': False, 'table': 2403 x 44 <class 'biom.table.Table'> with 6331 nonzero entries (5% dense)}\n",
      "{'sampling_depth': 136968, 'with_replacement': False, 'table': 2403 x 44 <class 'biom.table.Table'> with 6331 nonzero entries (5% dense)}\n"
     ]
    },
    {
     "name": "stdout",
     "output_type": "stream",
     "text": [
      "{'metric': 'observed_features', 'table': <artifact: FeatureTable[Frequency] uuid: 7b1d8019-ecea-4ac9-8ac0-260c7787007d>}\n",
      "{'table': 1001 x 8 <class 'biom.table.Table'> with 1797 nonzero entries (22% dense)}\n",
      "{'table': 1001 x 8 <class 'biom.table.Table'> with 1797 nonzero entries (22% dense)}\n",
      "{'metric': 'shannon', 'table': <artifact: FeatureTable[Frequency] uuid: 7b1d8019-ecea-4ac9-8ac0-260c7787007d>}\n",
      "{'drop_undefined_samples': False, 'table': 1001 x 8 <class 'biom.table.Table'> with 1797 nonzero entries (22% dense)}\n",
      "{'drop_undefined_samples': False, 'table': 1001 x 8 <class 'biom.table.Table'> with 1797 nonzero entries (22% dense)}\n",
      "{'sampling_depth': 136968, 'with_replacement': False, 'table': 2403 x 44 <class 'biom.table.Table'> with 6331 nonzero entries (5% dense)}\n",
      "{'sampling_depth': 136968, 'with_replacement': False, 'table': 2403 x 44 <class 'biom.table.Table'> with 6331 nonzero entries (5% dense)}\n",
      "{'metric': 'observed_features', 'table': <artifact: FeatureTable[Frequency] uuid: 3ea53b41-13cc-4b2d-ad77-0482d2c07637>}\n",
      "{'table': 998 x 8 <class 'biom.table.Table'> with 1794 nonzero entries (22% dense)}\n",
      "{'table': 998 x 8 <class 'biom.table.Table'> with 1794 nonzero entries (22% dense)}\n"
     ]
    },
    {
     "name": "stdout",
     "output_type": "stream",
     "text": [
      "{'metric': 'shannon', 'table': <artifact: FeatureTable[Frequency] uuid: 3ea53b41-13cc-4b2d-ad77-0482d2c07637>}\n",
      "{'drop_undefined_samples': False, 'table': 998 x 8 <class 'biom.table.Table'> with 1794 nonzero entries (22% dense)}\n",
      "{'drop_undefined_samples': False, 'table': 998 x 8 <class 'biom.table.Table'> with 1794 nonzero entries (22% dense)}\n",
      "{'sampling_depth': 136968, 'with_replacement': False, 'table': 2403 x 44 <class 'biom.table.Table'> with 6331 nonzero entries (5% dense)}\n",
      "{'sampling_depth': 136968, 'with_replacement': False, 'table': 2403 x 44 <class 'biom.table.Table'> with 6331 nonzero entries (5% dense)}\n",
      "{'metric': 'observed_features', 'table': <artifact: FeatureTable[Frequency] uuid: 9efb4330-eeb0-4b53-b971-306f09cd7f7f>}\n",
      "{'table': 1002 x 8 <class 'biom.table.Table'> with 1797 nonzero entries (22% dense)}\n",
      "{'table': 1002 x 8 <class 'biom.table.Table'> with 1797 nonzero entries (22% dense)}\n",
      "{'metric': 'shannon', 'table': <artifact: FeatureTable[Frequency] uuid: 9efb4330-eeb0-4b53-b971-306f09cd7f7f>}\n",
      "{'drop_undefined_samples': False, 'table': 1002 x 8 <class 'biom.table.Table'> with 1797 nonzero entries (22% dense)}\n",
      "{'drop_undefined_samples': False, 'table': 1002 x 8 <class 'biom.table.Table'> with 1797 nonzero entries (22% dense)}\n"
     ]
    },
    {
     "name": "stdout",
     "output_type": "stream",
     "text": [
      "{'sampling_depth': 136968, 'with_replacement': False, 'table': 2403 x 44 <class 'biom.table.Table'> with 6331 nonzero entries (5% dense)}\n",
      "{'sampling_depth': 136968, 'with_replacement': False, 'table': 2403 x 44 <class 'biom.table.Table'> with 6331 nonzero entries (5% dense)}\n",
      "{'metric': 'observed_features', 'table': <artifact: FeatureTable[Frequency] uuid: 291672e1-1c09-4074-834f-95c01f1b1b11>}\n",
      "{'table': 997 x 8 <class 'biom.table.Table'> with 1791 nonzero entries (22% dense)}\n",
      "{'table': 997 x 8 <class 'biom.table.Table'> with 1791 nonzero entries (22% dense)}\n",
      "{'metric': 'shannon', 'table': <artifact: FeatureTable[Frequency] uuid: 291672e1-1c09-4074-834f-95c01f1b1b11>}\n",
      "{'drop_undefined_samples': False, 'table': 997 x 8 <class 'biom.table.Table'> with 1791 nonzero entries (22% dense)}\n",
      "{'drop_undefined_samples': False, 'table': 997 x 8 <class 'biom.table.Table'> with 1791 nonzero entries (22% dense)}\n",
      "{'sampling_depth': 136968, 'with_replacement': False, 'table': 2403 x 44 <class 'biom.table.Table'> with 6331 nonzero entries (5% dense)}\n",
      "{'sampling_depth': 136968, 'with_replacement': False, 'table': 2403 x 44 <class 'biom.table.Table'> with 6331 nonzero entries (5% dense)}\n"
     ]
    },
    {
     "name": "stdout",
     "output_type": "stream",
     "text": [
      "{'metric': 'observed_features', 'table': <artifact: FeatureTable[Frequency] uuid: 910e4410-ebf8-4da5-8b33-90fd2d85ddc4>}\n",
      "{'table': 1000 x 8 <class 'biom.table.Table'> with 1795 nonzero entries (22% dense)}\n",
      "{'table': 1000 x 8 <class 'biom.table.Table'> with 1795 nonzero entries (22% dense)}\n",
      "{'metric': 'shannon', 'table': <artifact: FeatureTable[Frequency] uuid: 910e4410-ebf8-4da5-8b33-90fd2d85ddc4>}\n",
      "{'drop_undefined_samples': False, 'table': 1000 x 8 <class 'biom.table.Table'> with 1795 nonzero entries (22% dense)}\n",
      "{'drop_undefined_samples': False, 'table': 1000 x 8 <class 'biom.table.Table'> with 1795 nonzero entries (22% dense)}\n",
      "{'sampling_depth': 136968, 'with_replacement': False, 'table': 2403 x 44 <class 'biom.table.Table'> with 6331 nonzero entries (5% dense)}\n",
      "{'sampling_depth': 136968, 'with_replacement': False, 'table': 2403 x 44 <class 'biom.table.Table'> with 6331 nonzero entries (5% dense)}\n",
      "{'metric': 'observed_features', 'table': <artifact: FeatureTable[Frequency] uuid: 2d922fb4-3295-4fae-aff6-ca816bfd1ccf>}\n",
      "{'table': 1006 x 8 <class 'biom.table.Table'> with 1801 nonzero entries (22% dense)}\n",
      "{'table': 1006 x 8 <class 'biom.table.Table'> with 1801 nonzero entries (22% dense)}\n"
     ]
    },
    {
     "name": "stdout",
     "output_type": "stream",
     "text": [
      "{'metric': 'shannon', 'table': <artifact: FeatureTable[Frequency] uuid: 2d922fb4-3295-4fae-aff6-ca816bfd1ccf>}\n",
      "{'drop_undefined_samples': False, 'table': 1006 x 8 <class 'biom.table.Table'> with 1801 nonzero entries (22% dense)}\n",
      "{'drop_undefined_samples': False, 'table': 1006 x 8 <class 'biom.table.Table'> with 1801 nonzero entries (22% dense)}\n",
      "{'sampling_depth': 136968, 'with_replacement': False, 'table': 2403 x 44 <class 'biom.table.Table'> with 6331 nonzero entries (5% dense)}\n",
      "{'sampling_depth': 136968, 'with_replacement': False, 'table': 2403 x 44 <class 'biom.table.Table'> with 6331 nonzero entries (5% dense)}\n",
      "{'metric': 'observed_features', 'table': <artifact: FeatureTable[Frequency] uuid: cb3b485c-8d6d-4753-be1f-926d9478cd00>}\n",
      "{'table': 995 x 8 <class 'biom.table.Table'> with 1791 nonzero entries (22% dense)}\n",
      "{'table': 995 x 8 <class 'biom.table.Table'> with 1791 nonzero entries (22% dense)}\n",
      "{'metric': 'shannon', 'table': <artifact: FeatureTable[Frequency] uuid: cb3b485c-8d6d-4753-be1f-926d9478cd00>}\n",
      "{'drop_undefined_samples': False, 'table': 995 x 8 <class 'biom.table.Table'> with 1791 nonzero entries (22% dense)}\n",
      "{'drop_undefined_samples': False, 'table': 995 x 8 <class 'biom.table.Table'> with 1791 nonzero entries (22% dense)}\n"
     ]
    },
    {
     "name": "stdout",
     "output_type": "stream",
     "text": [
      "{'sampling_depth': 136968, 'with_replacement': False, 'table': 2403 x 44 <class 'biom.table.Table'> with 6331 nonzero entries (5% dense)}\n",
      "{'sampling_depth': 136968, 'with_replacement': False, 'table': 2403 x 44 <class 'biom.table.Table'> with 6331 nonzero entries (5% dense)}\n",
      "{'metric': 'observed_features', 'table': <artifact: FeatureTable[Frequency] uuid: cbcf93f9-f20c-4327-8ecd-23184f235f34>}\n",
      "{'table': 1002 x 8 <class 'biom.table.Table'> with 1798 nonzero entries (22% dense)}\n",
      "{'table': 1002 x 8 <class 'biom.table.Table'> with 1798 nonzero entries (22% dense)}\n",
      "{'metric': 'shannon', 'table': <artifact: FeatureTable[Frequency] uuid: cbcf93f9-f20c-4327-8ecd-23184f235f34>}\n",
      "{'drop_undefined_samples': False, 'table': 1002 x 8 <class 'biom.table.Table'> with 1798 nonzero entries (22% dense)}\n",
      "{'drop_undefined_samples': False, 'table': 1002 x 8 <class 'biom.table.Table'> with 1798 nonzero entries (22% dense)}\n",
      "{'sampling_depth': 164361, 'with_replacement': False, 'table': 2403 x 44 <class 'biom.table.Table'> with 6331 nonzero entries (5% dense)}\n",
      "{'sampling_depth': 164361, 'with_replacement': False, 'table': 2403 x 44 <class 'biom.table.Table'> with 6331 nonzero entries (5% dense)}\n"
     ]
    },
    {
     "name": "stdout",
     "output_type": "stream",
     "text": [
      "{'metric': 'observed_features', 'table': <artifact: FeatureTable[Frequency] uuid: c5662420-ae7a-48ff-b1e9-e97a985c8bbe>}\n",
      "{'table': 879 x 6 <class 'biom.table.Table'> with 1461 nonzero entries (27% dense)}\n",
      "{'table': 879 x 6 <class 'biom.table.Table'> with 1461 nonzero entries (27% dense)}\n",
      "{'metric': 'shannon', 'table': <artifact: FeatureTable[Frequency] uuid: c5662420-ae7a-48ff-b1e9-e97a985c8bbe>}\n",
      "{'drop_undefined_samples': False, 'table': 879 x 6 <class 'biom.table.Table'> with 1461 nonzero entries (27% dense)}\n",
      "{'drop_undefined_samples': False, 'table': 879 x 6 <class 'biom.table.Table'> with 1461 nonzero entries (27% dense)}\n",
      "{'sampling_depth': 164361, 'with_replacement': False, 'table': 2403 x 44 <class 'biom.table.Table'> with 6331 nonzero entries (5% dense)}\n",
      "{'sampling_depth': 164361, 'with_replacement': False, 'table': 2403 x 44 <class 'biom.table.Table'> with 6331 nonzero entries (5% dense)}\n",
      "{'metric': 'observed_features', 'table': <artifact: FeatureTable[Frequency] uuid: 973f3854-8754-44e1-9bf2-ec0648b18240>}\n",
      "{'table': 871 x 6 <class 'biom.table.Table'> with 1452 nonzero entries (27% dense)}\n",
      "{'table': 871 x 6 <class 'biom.table.Table'> with 1452 nonzero entries (27% dense)}\n"
     ]
    },
    {
     "name": "stdout",
     "output_type": "stream",
     "text": [
      "{'metric': 'shannon', 'table': <artifact: FeatureTable[Frequency] uuid: 973f3854-8754-44e1-9bf2-ec0648b18240>}\n",
      "{'drop_undefined_samples': False, 'table': 871 x 6 <class 'biom.table.Table'> with 1452 nonzero entries (27% dense)}\n",
      "{'drop_undefined_samples': False, 'table': 871 x 6 <class 'biom.table.Table'> with 1452 nonzero entries (27% dense)}\n",
      "{'sampling_depth': 164361, 'with_replacement': False, 'table': 2403 x 44 <class 'biom.table.Table'> with 6331 nonzero entries (5% dense)}\n",
      "{'sampling_depth': 164361, 'with_replacement': False, 'table': 2403 x 44 <class 'biom.table.Table'> with 6331 nonzero entries (5% dense)}\n",
      "{'metric': 'observed_features', 'table': <artifact: FeatureTable[Frequency] uuid: f4d67a09-3b0a-4d20-a765-2e59c3307c14>}\n",
      "{'table': 869 x 6 <class 'biom.table.Table'> with 1449 nonzero entries (27% dense)}\n",
      "{'table': 869 x 6 <class 'biom.table.Table'> with 1449 nonzero entries (27% dense)}\n",
      "{'metric': 'shannon', 'table': <artifact: FeatureTable[Frequency] uuid: f4d67a09-3b0a-4d20-a765-2e59c3307c14>}\n",
      "{'drop_undefined_samples': False, 'table': 869 x 6 <class 'biom.table.Table'> with 1449 nonzero entries (27% dense)}\n",
      "{'drop_undefined_samples': False, 'table': 869 x 6 <class 'biom.table.Table'> with 1449 nonzero entries (27% dense)}\n"
     ]
    },
    {
     "name": "stdout",
     "output_type": "stream",
     "text": [
      "{'sampling_depth': 164361, 'with_replacement': False, 'table': 2403 x 44 <class 'biom.table.Table'> with 6331 nonzero entries (5% dense)}\n",
      "{'sampling_depth': 164361, 'with_replacement': False, 'table': 2403 x 44 <class 'biom.table.Table'> with 6331 nonzero entries (5% dense)}\n",
      "{'metric': 'observed_features', 'table': <artifact: FeatureTable[Frequency] uuid: cd44814e-87ea-4614-a32a-c045b2989934>}\n",
      "{'table': 872 x 6 <class 'biom.table.Table'> with 1453 nonzero entries (27% dense)}\n",
      "{'table': 872 x 6 <class 'biom.table.Table'> with 1453 nonzero entries (27% dense)}\n",
      "{'metric': 'shannon', 'table': <artifact: FeatureTable[Frequency] uuid: cd44814e-87ea-4614-a32a-c045b2989934>}\n",
      "{'drop_undefined_samples': False, 'table': 872 x 6 <class 'biom.table.Table'> with 1453 nonzero entries (27% dense)}\n",
      "{'drop_undefined_samples': False, 'table': 872 x 6 <class 'biom.table.Table'> with 1453 nonzero entries (27% dense)}\n",
      "{'sampling_depth': 164361, 'with_replacement': False, 'table': 2403 x 44 <class 'biom.table.Table'> with 6331 nonzero entries (5% dense)}\n",
      "{'sampling_depth': 164361, 'with_replacement': False, 'table': 2403 x 44 <class 'biom.table.Table'> with 6331 nonzero entries (5% dense)}\n"
     ]
    },
    {
     "name": "stdout",
     "output_type": "stream",
     "text": [
      "{'metric': 'observed_features', 'table': <artifact: FeatureTable[Frequency] uuid: 55aafc9d-15f5-48f1-8604-a670565ed065>}\n",
      "{'table': 874 x 6 <class 'biom.table.Table'> with 1456 nonzero entries (27% dense)}\n",
      "{'table': 874 x 6 <class 'biom.table.Table'> with 1456 nonzero entries (27% dense)}\n",
      "{'metric': 'shannon', 'table': <artifact: FeatureTable[Frequency] uuid: 55aafc9d-15f5-48f1-8604-a670565ed065>}\n",
      "{'drop_undefined_samples': False, 'table': 874 x 6 <class 'biom.table.Table'> with 1456 nonzero entries (27% dense)}\n",
      "{'drop_undefined_samples': False, 'table': 874 x 6 <class 'biom.table.Table'> with 1456 nonzero entries (27% dense)}\n",
      "{'sampling_depth': 164361, 'with_replacement': False, 'table': 2403 x 44 <class 'biom.table.Table'> with 6331 nonzero entries (5% dense)}\n",
      "{'sampling_depth': 164361, 'with_replacement': False, 'table': 2403 x 44 <class 'biom.table.Table'> with 6331 nonzero entries (5% dense)}\n",
      "{'metric': 'observed_features', 'table': <artifact: FeatureTable[Frequency] uuid: d15a71aa-dbf9-4746-983e-1e3c50a4c9b8>}\n",
      "{'table': 872 x 6 <class 'biom.table.Table'> with 1454 nonzero entries (27% dense)}\n",
      "{'table': 872 x 6 <class 'biom.table.Table'> with 1454 nonzero entries (27% dense)}\n"
     ]
    },
    {
     "name": "stdout",
     "output_type": "stream",
     "text": [
      "{'metric': 'shannon', 'table': <artifact: FeatureTable[Frequency] uuid: d15a71aa-dbf9-4746-983e-1e3c50a4c9b8>}\n",
      "{'drop_undefined_samples': False, 'table': 872 x 6 <class 'biom.table.Table'> with 1454 nonzero entries (27% dense)}\n",
      "{'drop_undefined_samples': False, 'table': 872 x 6 <class 'biom.table.Table'> with 1454 nonzero entries (27% dense)}\n",
      "{'sampling_depth': 164361, 'with_replacement': False, 'table': 2403 x 44 <class 'biom.table.Table'> with 6331 nonzero entries (5% dense)}\n",
      "{'sampling_depth': 164361, 'with_replacement': False, 'table': 2403 x 44 <class 'biom.table.Table'> with 6331 nonzero entries (5% dense)}\n",
      "{'metric': 'observed_features', 'table': <artifact: FeatureTable[Frequency] uuid: da04e568-8f29-4bc2-b30e-3491aad41484>}\n",
      "{'table': 874 x 6 <class 'biom.table.Table'> with 1456 nonzero entries (27% dense)}\n",
      "{'table': 874 x 6 <class 'biom.table.Table'> with 1456 nonzero entries (27% dense)}\n",
      "{'metric': 'shannon', 'table': <artifact: FeatureTable[Frequency] uuid: da04e568-8f29-4bc2-b30e-3491aad41484>}\n",
      "{'drop_undefined_samples': False, 'table': 874 x 6 <class 'biom.table.Table'> with 1456 nonzero entries (27% dense)}\n",
      "{'drop_undefined_samples': False, 'table': 874 x 6 <class 'biom.table.Table'> with 1456 nonzero entries (27% dense)}\n"
     ]
    },
    {
     "name": "stdout",
     "output_type": "stream",
     "text": [
      "{'sampling_depth': 164361, 'with_replacement': False, 'table': 2403 x 44 <class 'biom.table.Table'> with 6331 nonzero entries (5% dense)}\n",
      "{'sampling_depth': 164361, 'with_replacement': False, 'table': 2403 x 44 <class 'biom.table.Table'> with 6331 nonzero entries (5% dense)}\n",
      "{'metric': 'observed_features', 'table': <artifact: FeatureTable[Frequency] uuid: 1ce1896c-fb8d-4ee9-9a20-452cac9492bc>}\n",
      "{'table': 878 x 6 <class 'biom.table.Table'> with 1460 nonzero entries (27% dense)}\n",
      "{'table': 878 x 6 <class 'biom.table.Table'> with 1460 nonzero entries (27% dense)}\n",
      "{'metric': 'shannon', 'table': <artifact: FeatureTable[Frequency] uuid: 1ce1896c-fb8d-4ee9-9a20-452cac9492bc>}\n",
      "{'drop_undefined_samples': False, 'table': 878 x 6 <class 'biom.table.Table'> with 1460 nonzero entries (27% dense)}\n",
      "{'drop_undefined_samples': False, 'table': 878 x 6 <class 'biom.table.Table'> with 1460 nonzero entries (27% dense)}\n",
      "{'sampling_depth': 164361, 'with_replacement': False, 'table': 2403 x 44 <class 'biom.table.Table'> with 6331 nonzero entries (5% dense)}\n",
      "{'sampling_depth': 164361, 'with_replacement': False, 'table': 2403 x 44 <class 'biom.table.Table'> with 6331 nonzero entries (5% dense)}\n"
     ]
    },
    {
     "name": "stdout",
     "output_type": "stream",
     "text": [
      "{'metric': 'observed_features', 'table': <artifact: FeatureTable[Frequency] uuid: 977b5ee8-522f-426c-88fe-e0497b092e65>}\n",
      "{'table': 877 x 6 <class 'biom.table.Table'> with 1459 nonzero entries (27% dense)}\n",
      "{'table': 877 x 6 <class 'biom.table.Table'> with 1459 nonzero entries (27% dense)}\n",
      "{'metric': 'shannon', 'table': <artifact: FeatureTable[Frequency] uuid: 977b5ee8-522f-426c-88fe-e0497b092e65>}\n",
      "{'drop_undefined_samples': False, 'table': 877 x 6 <class 'biom.table.Table'> with 1459 nonzero entries (27% dense)}\n",
      "{'drop_undefined_samples': False, 'table': 877 x 6 <class 'biom.table.Table'> with 1459 nonzero entries (27% dense)}\n",
      "{'sampling_depth': 164361, 'with_replacement': False, 'table': 2403 x 44 <class 'biom.table.Table'> with 6331 nonzero entries (5% dense)}\n",
      "{'sampling_depth': 164361, 'with_replacement': False, 'table': 2403 x 44 <class 'biom.table.Table'> with 6331 nonzero entries (5% dense)}\n",
      "{'metric': 'observed_features', 'table': <artifact: FeatureTable[Frequency] uuid: a9fe4118-0be2-4378-9888-f42c70744414>}\n",
      "{'table': 869 x 6 <class 'biom.table.Table'> with 1451 nonzero entries (27% dense)}\n",
      "{'table': 869 x 6 <class 'biom.table.Table'> with 1451 nonzero entries (27% dense)}\n"
     ]
    },
    {
     "name": "stdout",
     "output_type": "stream",
     "text": [
      "{'metric': 'shannon', 'table': <artifact: FeatureTable[Frequency] uuid: a9fe4118-0be2-4378-9888-f42c70744414>}\n",
      "{'drop_undefined_samples': False, 'table': 869 x 6 <class 'biom.table.Table'> with 1451 nonzero entries (27% dense)}\n",
      "{'drop_undefined_samples': False, 'table': 869 x 6 <class 'biom.table.Table'> with 1451 nonzero entries (27% dense)}\n",
      "{'sampling_depth': 191755, 'with_replacement': False, 'table': 2403 x 44 <class 'biom.table.Table'> with 6331 nonzero entries (5% dense)}\n",
      "{'sampling_depth': 191755, 'with_replacement': False, 'table': 2403 x 44 <class 'biom.table.Table'> with 6331 nonzero entries (5% dense)}\n",
      "{'metric': 'observed_features', 'table': <artifact: FeatureTable[Frequency] uuid: 7cfaea01-67fc-4610-8d51-176687ec5549>}\n",
      "{'table': 877 x 6 <class 'biom.table.Table'> with 1458 nonzero entries (27% dense)}\n",
      "{'table': 877 x 6 <class 'biom.table.Table'> with 1458 nonzero entries (27% dense)}\n",
      "{'metric': 'shannon', 'table': <artifact: FeatureTable[Frequency] uuid: 7cfaea01-67fc-4610-8d51-176687ec5549>}\n",
      "{'drop_undefined_samples': False, 'table': 877 x 6 <class 'biom.table.Table'> with 1458 nonzero entries (27% dense)}\n",
      "{'drop_undefined_samples': False, 'table': 877 x 6 <class 'biom.table.Table'> with 1458 nonzero entries (27% dense)}\n"
     ]
    },
    {
     "name": "stdout",
     "output_type": "stream",
     "text": [
      "{'sampling_depth': 191755, 'with_replacement': False, 'table': 2403 x 44 <class 'biom.table.Table'> with 6331 nonzero entries (5% dense)}\n",
      "{'sampling_depth': 191755, 'with_replacement': False, 'table': 2403 x 44 <class 'biom.table.Table'> with 6331 nonzero entries (5% dense)}\n",
      "{'metric': 'observed_features', 'table': <artifact: FeatureTable[Frequency] uuid: 99bad27a-7ed3-492d-9b4d-294f92b438f8>}\n",
      "{'table': 876 x 6 <class 'biom.table.Table'> with 1458 nonzero entries (27% dense)}\n",
      "{'table': 876 x 6 <class 'biom.table.Table'> with 1458 nonzero entries (27% dense)}\n"
     ]
    },
    {
     "name": "stdout",
     "output_type": "stream",
     "text": [
      "{'metric': 'shannon', 'table': <artifact: FeatureTable[Frequency] uuid: 99bad27a-7ed3-492d-9b4d-294f92b438f8>}\n",
      "{'drop_undefined_samples': False, 'table': 876 x 6 <class 'biom.table.Table'> with 1458 nonzero entries (27% dense)}\n",
      "{'drop_undefined_samples': False, 'table': 876 x 6 <class 'biom.table.Table'> with 1458 nonzero entries (27% dense)}\n",
      "{'sampling_depth': 191755, 'with_replacement': False, 'table': 2403 x 44 <class 'biom.table.Table'> with 6331 nonzero entries (5% dense)}\n",
      "{'sampling_depth': 191755, 'with_replacement': False, 'table': 2403 x 44 <class 'biom.table.Table'> with 6331 nonzero entries (5% dense)}\n"
     ]
    },
    {
     "name": "stdout",
     "output_type": "stream",
     "text": [
      "{'metric': 'observed_features', 'table': <artifact: FeatureTable[Frequency] uuid: 01cf5a34-b1ed-48d0-9fc3-295dbf046cb4>}\n",
      "{'table': 879 x 6 <class 'biom.table.Table'> with 1461 nonzero entries (27% dense)}\n",
      "{'table': 879 x 6 <class 'biom.table.Table'> with 1461 nonzero entries (27% dense)}\n",
      "{'metric': 'shannon', 'table': <artifact: FeatureTable[Frequency] uuid: 01cf5a34-b1ed-48d0-9fc3-295dbf046cb4>}\n",
      "{'drop_undefined_samples': False, 'table': 879 x 6 <class 'biom.table.Table'> with 1461 nonzero entries (27% dense)}\n",
      "{'drop_undefined_samples': False, 'table': 879 x 6 <class 'biom.table.Table'> with 1461 nonzero entries (27% dense)}\n"
     ]
    },
    {
     "name": "stdout",
     "output_type": "stream",
     "text": [
      "{'sampling_depth': 191755, 'with_replacement': False, 'table': 2403 x 44 <class 'biom.table.Table'> with 6331 nonzero entries (5% dense)}\n",
      "{'sampling_depth': 191755, 'with_replacement': False, 'table': 2403 x 44 <class 'biom.table.Table'> with 6331 nonzero entries (5% dense)}\n",
      "{'metric': 'observed_features', 'table': <artifact: FeatureTable[Frequency] uuid: cbe36288-b58d-4658-bf85-4a5b37a82af6>}\n",
      "{'table': 879 x 6 <class 'biom.table.Table'> with 1460 nonzero entries (27% dense)}\n",
      "{'table': 879 x 6 <class 'biom.table.Table'> with 1460 nonzero entries (27% dense)}\n"
     ]
    },
    {
     "name": "stdout",
     "output_type": "stream",
     "text": [
      "{'metric': 'shannon', 'table': <artifact: FeatureTable[Frequency] uuid: cbe36288-b58d-4658-bf85-4a5b37a82af6>}\n",
      "{'drop_undefined_samples': False, 'table': 879 x 6 <class 'biom.table.Table'> with 1460 nonzero entries (27% dense)}\n",
      "{'drop_undefined_samples': False, 'table': 879 x 6 <class 'biom.table.Table'> with 1460 nonzero entries (27% dense)}\n",
      "{'sampling_depth': 191755, 'with_replacement': False, 'table': 2403 x 44 <class 'biom.table.Table'> with 6331 nonzero entries (5% dense)}\n",
      "{'sampling_depth': 191755, 'with_replacement': False, 'table': 2403 x 44 <class 'biom.table.Table'> with 6331 nonzero entries (5% dense)}\n"
     ]
    },
    {
     "name": "stdout",
     "output_type": "stream",
     "text": [
      "{'metric': 'observed_features', 'table': <artifact: FeatureTable[Frequency] uuid: c139d00f-4276-453f-a79b-c7f462f771ee>}\n",
      "{'table': 884 x 6 <class 'biom.table.Table'> with 1466 nonzero entries (27% dense)}\n",
      "{'table': 884 x 6 <class 'biom.table.Table'> with 1466 nonzero entries (27% dense)}\n",
      "{'metric': 'shannon', 'table': <artifact: FeatureTable[Frequency] uuid: c139d00f-4276-453f-a79b-c7f462f771ee>}\n",
      "{'drop_undefined_samples': False, 'table': 884 x 6 <class 'biom.table.Table'> with 1466 nonzero entries (27% dense)}\n",
      "{'drop_undefined_samples': False, 'table': 884 x 6 <class 'biom.table.Table'> with 1466 nonzero entries (27% dense)}\n",
      "{'sampling_depth': 191755, 'with_replacement': False, 'table': 2403 x 44 <class 'biom.table.Table'> with 6331 nonzero entries (5% dense)}\n",
      "{'sampling_depth': 191755, 'with_replacement': False, 'table': 2403 x 44 <class 'biom.table.Table'> with 6331 nonzero entries (5% dense)}\n"
     ]
    },
    {
     "name": "stdout",
     "output_type": "stream",
     "text": [
      "{'metric': 'observed_features', 'table': <artifact: FeatureTable[Frequency] uuid: 0caa4293-9072-4b5e-bcd4-214c1ff5436a>}\n",
      "{'table': 881 x 6 <class 'biom.table.Table'> with 1463 nonzero entries (27% dense)}\n",
      "{'table': 881 x 6 <class 'biom.table.Table'> with 1463 nonzero entries (27% dense)}\n",
      "{'metric': 'shannon', 'table': <artifact: FeatureTable[Frequency] uuid: 0caa4293-9072-4b5e-bcd4-214c1ff5436a>}\n",
      "{'drop_undefined_samples': False, 'table': 881 x 6 <class 'biom.table.Table'> with 1463 nonzero entries (27% dense)}\n",
      "{'drop_undefined_samples': False, 'table': 881 x 6 <class 'biom.table.Table'> with 1463 nonzero entries (27% dense)}\n",
      "{'sampling_depth': 191755, 'with_replacement': False, 'table': 2403 x 44 <class 'biom.table.Table'> with 6331 nonzero entries (5% dense)}\n",
      "{'sampling_depth': 191755, 'with_replacement': False, 'table': 2403 x 44 <class 'biom.table.Table'> with 6331 nonzero entries (5% dense)}\n"
     ]
    },
    {
     "name": "stdout",
     "output_type": "stream",
     "text": [
      "{'metric': 'observed_features', 'table': <artifact: FeatureTable[Frequency] uuid: c3ec1eea-e174-411d-a6c2-c075ab67be3e>}\n",
      "{'table': 880 x 6 <class 'biom.table.Table'> with 1462 nonzero entries (27% dense)}\n",
      "{'table': 880 x 6 <class 'biom.table.Table'> with 1462 nonzero entries (27% dense)}\n",
      "{'metric': 'shannon', 'table': <artifact: FeatureTable[Frequency] uuid: c3ec1eea-e174-411d-a6c2-c075ab67be3e>}\n",
      "{'drop_undefined_samples': False, 'table': 880 x 6 <class 'biom.table.Table'> with 1462 nonzero entries (27% dense)}\n",
      "{'drop_undefined_samples': False, 'table': 880 x 6 <class 'biom.table.Table'> with 1462 nonzero entries (27% dense)}\n",
      "{'sampling_depth': 191755, 'with_replacement': False, 'table': 2403 x 44 <class 'biom.table.Table'> with 6331 nonzero entries (5% dense)}\n",
      "{'sampling_depth': 191755, 'with_replacement': False, 'table': 2403 x 44 <class 'biom.table.Table'> with 6331 nonzero entries (5% dense)}\n"
     ]
    },
    {
     "name": "stdout",
     "output_type": "stream",
     "text": [
      "{'metric': 'observed_features', 'table': <artifact: FeatureTable[Frequency] uuid: dfc1e467-2b9f-4104-ac1a-38f63671911a>}\n",
      "{'table': 879 x 6 <class 'biom.table.Table'> with 1461 nonzero entries (27% dense)}\n",
      "{'table': 879 x 6 <class 'biom.table.Table'> with 1461 nonzero entries (27% dense)}\n",
      "{'metric': 'shannon', 'table': <artifact: FeatureTable[Frequency] uuid: dfc1e467-2b9f-4104-ac1a-38f63671911a>}\n",
      "{'drop_undefined_samples': False, 'table': 879 x 6 <class 'biom.table.Table'> with 1461 nonzero entries (27% dense)}\n",
      "{'drop_undefined_samples': False, 'table': 879 x 6 <class 'biom.table.Table'> with 1461 nonzero entries (27% dense)}\n",
      "{'sampling_depth': 191755, 'with_replacement': False, 'table': 2403 x 44 <class 'biom.table.Table'> with 6331 nonzero entries (5% dense)}\n",
      "{'sampling_depth': 191755, 'with_replacement': False, 'table': 2403 x 44 <class 'biom.table.Table'> with 6331 nonzero entries (5% dense)}\n"
     ]
    },
    {
     "name": "stdout",
     "output_type": "stream",
     "text": [
      "{'metric': 'observed_features', 'table': <artifact: FeatureTable[Frequency] uuid: d5a73b3d-ea7a-4d5d-88b4-85a357eb1234>}\n",
      "{'table': 885 x 6 <class 'biom.table.Table'> with 1467 nonzero entries (27% dense)}\n",
      "{'table': 885 x 6 <class 'biom.table.Table'> with 1467 nonzero entries (27% dense)}\n",
      "{'metric': 'shannon', 'table': <artifact: FeatureTable[Frequency] uuid: d5a73b3d-ea7a-4d5d-88b4-85a357eb1234>}\n",
      "{'drop_undefined_samples': False, 'table': 885 x 6 <class 'biom.table.Table'> with 1467 nonzero entries (27% dense)}\n",
      "{'drop_undefined_samples': False, 'table': 885 x 6 <class 'biom.table.Table'> with 1467 nonzero entries (27% dense)}\n",
      "{'sampling_depth': 191755, 'with_replacement': False, 'table': 2403 x 44 <class 'biom.table.Table'> with 6331 nonzero entries (5% dense)}\n",
      "{'sampling_depth': 191755, 'with_replacement': False, 'table': 2403 x 44 <class 'biom.table.Table'> with 6331 nonzero entries (5% dense)}\n"
     ]
    },
    {
     "name": "stdout",
     "output_type": "stream",
     "text": [
      "{'metric': 'observed_features', 'table': <artifact: FeatureTable[Frequency] uuid: b94fe572-31f7-4deb-b701-be7bed37eebe>}\n",
      "{'table': 880 x 6 <class 'biom.table.Table'> with 1462 nonzero entries (27% dense)}\n",
      "{'table': 880 x 6 <class 'biom.table.Table'> with 1462 nonzero entries (27% dense)}\n",
      "{'metric': 'shannon', 'table': <artifact: FeatureTable[Frequency] uuid: b94fe572-31f7-4deb-b701-be7bed37eebe>}\n",
      "{'drop_undefined_samples': False, 'table': 880 x 6 <class 'biom.table.Table'> with 1462 nonzero entries (27% dense)}\n",
      "{'drop_undefined_samples': False, 'table': 880 x 6 <class 'biom.table.Table'> with 1462 nonzero entries (27% dense)}\n",
      "{'sampling_depth': 219148, 'with_replacement': False, 'table': 2403 x 44 <class 'biom.table.Table'> with 6331 nonzero entries (5% dense)}\n",
      "{'sampling_depth': 219148, 'with_replacement': False, 'table': 2403 x 44 <class 'biom.table.Table'> with 6331 nonzero entries (5% dense)}\n",
      "{'metric': 'observed_features', 'table': <artifact: FeatureTable[Frequency] uuid: d8d6c50b-7be0-4631-a850-c76368c07411>}\n"
     ]
    },
    {
     "name": "stdout",
     "output_type": "stream",
     "text": [
      "{'table': 625 x 3 <class 'biom.table.Table'> with 809 nonzero entries (43% dense)}\n",
      "{'table': 625 x 3 <class 'biom.table.Table'> with 809 nonzero entries (43% dense)}\n",
      "{'metric': 'shannon', 'table': <artifact: FeatureTable[Frequency] uuid: d8d6c50b-7be0-4631-a850-c76368c07411>}\n",
      "{'drop_undefined_samples': False, 'table': 625 x 3 <class 'biom.table.Table'> with 809 nonzero entries (43% dense)}\n",
      "{'drop_undefined_samples': False, 'table': 625 x 3 <class 'biom.table.Table'> with 809 nonzero entries (43% dense)}\n",
      "{'sampling_depth': 219148, 'with_replacement': False, 'table': 2403 x 44 <class 'biom.table.Table'> with 6331 nonzero entries (5% dense)}\n",
      "{'sampling_depth': 219148, 'with_replacement': False, 'table': 2403 x 44 <class 'biom.table.Table'> with 6331 nonzero entries (5% dense)}\n",
      "{'metric': 'observed_features', 'table': <artifact: FeatureTable[Frequency] uuid: 2f29865c-b60b-47f2-8982-b655b2d4fb85>}\n",
      "{'table': 625 x 3 <class 'biom.table.Table'> with 809 nonzero entries (43% dense)}\n",
      "{'table': 625 x 3 <class 'biom.table.Table'> with 809 nonzero entries (43% dense)}\n"
     ]
    },
    {
     "name": "stdout",
     "output_type": "stream",
     "text": [
      "{'metric': 'shannon', 'table': <artifact: FeatureTable[Frequency] uuid: 2f29865c-b60b-47f2-8982-b655b2d4fb85>}\n",
      "{'drop_undefined_samples': False, 'table': 625 x 3 <class 'biom.table.Table'> with 809 nonzero entries (43% dense)}\n",
      "{'drop_undefined_samples': False, 'table': 625 x 3 <class 'biom.table.Table'> with 809 nonzero entries (43% dense)}\n",
      "{'sampling_depth': 219148, 'with_replacement': False, 'table': 2403 x 44 <class 'biom.table.Table'> with 6331 nonzero entries (5% dense)}\n",
      "{'sampling_depth': 219148, 'with_replacement': False, 'table': 2403 x 44 <class 'biom.table.Table'> with 6331 nonzero entries (5% dense)}\n",
      "{'metric': 'observed_features', 'table': <artifact: FeatureTable[Frequency] uuid: 4c07a919-c7a8-4bff-bd45-281c140a1a06>}\n",
      "{'table': 625 x 3 <class 'biom.table.Table'> with 809 nonzero entries (43% dense)}\n",
      "{'table': 625 x 3 <class 'biom.table.Table'> with 809 nonzero entries (43% dense)}\n",
      "{'metric': 'shannon', 'table': <artifact: FeatureTable[Frequency] uuid: 4c07a919-c7a8-4bff-bd45-281c140a1a06>}\n"
     ]
    },
    {
     "name": "stdout",
     "output_type": "stream",
     "text": [
      "{'drop_undefined_samples': False, 'table': 625 x 3 <class 'biom.table.Table'> with 809 nonzero entries (43% dense)}\n",
      "{'drop_undefined_samples': False, 'table': 625 x 3 <class 'biom.table.Table'> with 809 nonzero entries (43% dense)}\n",
      "{'sampling_depth': 219148, 'with_replacement': False, 'table': 2403 x 44 <class 'biom.table.Table'> with 6331 nonzero entries (5% dense)}\n",
      "{'sampling_depth': 219148, 'with_replacement': False, 'table': 2403 x 44 <class 'biom.table.Table'> with 6331 nonzero entries (5% dense)}\n",
      "{'metric': 'observed_features', 'table': <artifact: FeatureTable[Frequency] uuid: c1c64f80-e1b0-4619-a388-f937fe3ef3f0>}\n",
      "{'table': 626 x 3 <class 'biom.table.Table'> with 810 nonzero entries (43% dense)}\n",
      "{'table': 626 x 3 <class 'biom.table.Table'> with 810 nonzero entries (43% dense)}\n",
      "{'metric': 'shannon', 'table': <artifact: FeatureTable[Frequency] uuid: c1c64f80-e1b0-4619-a388-f937fe3ef3f0>}\n",
      "{'drop_undefined_samples': False, 'table': 626 x 3 <class 'biom.table.Table'> with 810 nonzero entries (43% dense)}\n",
      "{'drop_undefined_samples': False, 'table': 626 x 3 <class 'biom.table.Table'> with 810 nonzero entries (43% dense)}\n"
     ]
    },
    {
     "name": "stdout",
     "output_type": "stream",
     "text": [
      "{'sampling_depth': 219148, 'with_replacement': False, 'table': 2403 x 44 <class 'biom.table.Table'> with 6331 nonzero entries (5% dense)}\n",
      "{'sampling_depth': 219148, 'with_replacement': False, 'table': 2403 x 44 <class 'biom.table.Table'> with 6331 nonzero entries (5% dense)}\n",
      "{'metric': 'observed_features', 'table': <artifact: FeatureTable[Frequency] uuid: cdc4571b-87f4-476e-8886-27102b511d20>}\n",
      "{'table': 625 x 3 <class 'biom.table.Table'> with 809 nonzero entries (43% dense)}\n",
      "{'table': 625 x 3 <class 'biom.table.Table'> with 809 nonzero entries (43% dense)}\n",
      "{'metric': 'shannon', 'table': <artifact: FeatureTable[Frequency] uuid: cdc4571b-87f4-476e-8886-27102b511d20>}\n",
      "{'drop_undefined_samples': False, 'table': 625 x 3 <class 'biom.table.Table'> with 809 nonzero entries (43% dense)}\n",
      "{'drop_undefined_samples': False, 'table': 625 x 3 <class 'biom.table.Table'> with 809 nonzero entries (43% dense)}\n",
      "{'sampling_depth': 219148, 'with_replacement': False, 'table': 2403 x 44 <class 'biom.table.Table'> with 6331 nonzero entries (5% dense)}\n",
      "{'sampling_depth': 219148, 'with_replacement': False, 'table': 2403 x 44 <class 'biom.table.Table'> with 6331 nonzero entries (5% dense)}\n"
     ]
    },
    {
     "name": "stdout",
     "output_type": "stream",
     "text": [
      "{'metric': 'observed_features', 'table': <artifact: FeatureTable[Frequency] uuid: 4e500a0d-9ff7-413f-9c8b-081f1cd6374b>}\n",
      "{'table': 623 x 3 <class 'biom.table.Table'> with 807 nonzero entries (43% dense)}\n",
      "{'table': 623 x 3 <class 'biom.table.Table'> with 807 nonzero entries (43% dense)}\n",
      "{'metric': 'shannon', 'table': <artifact: FeatureTable[Frequency] uuid: 4e500a0d-9ff7-413f-9c8b-081f1cd6374b>}\n",
      "{'drop_undefined_samples': False, 'table': 623 x 3 <class 'biom.table.Table'> with 807 nonzero entries (43% dense)}\n",
      "{'drop_undefined_samples': False, 'table': 623 x 3 <class 'biom.table.Table'> with 807 nonzero entries (43% dense)}\n",
      "{'sampling_depth': 219148, 'with_replacement': False, 'table': 2403 x 44 <class 'biom.table.Table'> with 6331 nonzero entries (5% dense)}\n",
      "{'sampling_depth': 219148, 'with_replacement': False, 'table': 2403 x 44 <class 'biom.table.Table'> with 6331 nonzero entries (5% dense)}\n",
      "{'metric': 'observed_features', 'table': <artifact: FeatureTable[Frequency] uuid: 3af57058-0294-41b9-bf06-ca99bb5a9b1f>}\n",
      "{'table': 622 x 3 <class 'biom.table.Table'> with 806 nonzero entries (43% dense)}\n",
      "{'table': 622 x 3 <class 'biom.table.Table'> with 806 nonzero entries (43% dense)}\n"
     ]
    },
    {
     "name": "stdout",
     "output_type": "stream",
     "text": [
      "{'metric': 'shannon', 'table': <artifact: FeatureTable[Frequency] uuid: 3af57058-0294-41b9-bf06-ca99bb5a9b1f>}\n",
      "{'drop_undefined_samples': False, 'table': 622 x 3 <class 'biom.table.Table'> with 806 nonzero entries (43% dense)}\n",
      "{'drop_undefined_samples': False, 'table': 622 x 3 <class 'biom.table.Table'> with 806 nonzero entries (43% dense)}\n",
      "{'sampling_depth': 219148, 'with_replacement': False, 'table': 2403 x 44 <class 'biom.table.Table'> with 6331 nonzero entries (5% dense)}\n",
      "{'sampling_depth': 219148, 'with_replacement': False, 'table': 2403 x 44 <class 'biom.table.Table'> with 6331 nonzero entries (5% dense)}\n",
      "{'metric': 'observed_features', 'table': <artifact: FeatureTable[Frequency] uuid: 52ac9cf8-5994-4c28-9ed6-6f3900f04fca>}\n",
      "{'table': 622 x 3 <class 'biom.table.Table'> with 806 nonzero entries (43% dense)}\n",
      "{'table': 622 x 3 <class 'biom.table.Table'> with 806 nonzero entries (43% dense)}\n",
      "{'metric': 'shannon', 'table': <artifact: FeatureTable[Frequency] uuid: 52ac9cf8-5994-4c28-9ed6-6f3900f04fca>}\n",
      "{'drop_undefined_samples': False, 'table': 622 x 3 <class 'biom.table.Table'> with 806 nonzero entries (43% dense)}\n",
      "{'drop_undefined_samples': False, 'table': 622 x 3 <class 'biom.table.Table'> with 806 nonzero entries (43% dense)}\n"
     ]
    },
    {
     "name": "stdout",
     "output_type": "stream",
     "text": [
      "{'sampling_depth': 219148, 'with_replacement': False, 'table': 2403 x 44 <class 'biom.table.Table'> with 6331 nonzero entries (5% dense)}\n",
      "{'sampling_depth': 219148, 'with_replacement': False, 'table': 2403 x 44 <class 'biom.table.Table'> with 6331 nonzero entries (5% dense)}\n",
      "{'metric': 'observed_features', 'table': <artifact: FeatureTable[Frequency] uuid: 34e0702a-bb5b-4746-8141-45685bc316ec>}\n",
      "{'table': 621 x 3 <class 'biom.table.Table'> with 805 nonzero entries (43% dense)}\n",
      "{'table': 621 x 3 <class 'biom.table.Table'> with 805 nonzero entries (43% dense)}\n",
      "{'metric': 'shannon', 'table': <artifact: FeatureTable[Frequency] uuid: 34e0702a-bb5b-4746-8141-45685bc316ec>}\n",
      "{'drop_undefined_samples': False, 'table': 621 x 3 <class 'biom.table.Table'> with 805 nonzero entries (43% dense)}\n",
      "{'drop_undefined_samples': False, 'table': 621 x 3 <class 'biom.table.Table'> with 805 nonzero entries (43% dense)}\n",
      "{'sampling_depth': 219148, 'with_replacement': False, 'table': 2403 x 44 <class 'biom.table.Table'> with 6331 nonzero entries (5% dense)}\n",
      "{'sampling_depth': 219148, 'with_replacement': False, 'table': 2403 x 44 <class 'biom.table.Table'> with 6331 nonzero entries (5% dense)}\n"
     ]
    },
    {
     "name": "stdout",
     "output_type": "stream",
     "text": [
      "{'metric': 'observed_features', 'table': <artifact: FeatureTable[Frequency] uuid: 2003048b-92da-45a8-8bb0-bfae8a65d285>}\n",
      "{'table': 624 x 3 <class 'biom.table.Table'> with 808 nonzero entries (43% dense)}\n",
      "{'table': 624 x 3 <class 'biom.table.Table'> with 808 nonzero entries (43% dense)}\n",
      "{'metric': 'shannon', 'table': <artifact: FeatureTable[Frequency] uuid: 2003048b-92da-45a8-8bb0-bfae8a65d285>}\n",
      "{'drop_undefined_samples': False, 'table': 624 x 3 <class 'biom.table.Table'> with 808 nonzero entries (43% dense)}\n",
      "{'drop_undefined_samples': False, 'table': 624 x 3 <class 'biom.table.Table'> with 808 nonzero entries (43% dense)}\n",
      "{'sampling_depth': 246542, 'with_replacement': False, 'table': 2403 x 44 <class 'biom.table.Table'> with 6331 nonzero entries (5% dense)}\n",
      "{'sampling_depth': 246542, 'with_replacement': False, 'table': 2403 x 44 <class 'biom.table.Table'> with 6331 nonzero entries (5% dense)}\n",
      "{'metric': 'observed_features', 'table': <artifact: FeatureTable[Frequency] uuid: a8400450-cf37-48f9-90ed-2fb5818222aa>}\n",
      "{'table': 275 x 1 <class 'biom.table.Table'> with 275 nonzero entries (100% dense)}\n",
      "{'table': 275 x 1 <class 'biom.table.Table'> with 275 nonzero entries (100% dense)}\n",
      "{'metric': 'shannon', 'table': <artifact: FeatureTable[Frequency] uuid: a8400450-cf37-48f9-90ed-2fb5818222aa>}\n"
     ]
    },
    {
     "name": "stdout",
     "output_type": "stream",
     "text": [
      "{'drop_undefined_samples': False, 'table': 275 x 1 <class 'biom.table.Table'> with 275 nonzero entries (100% dense)}\n",
      "{'drop_undefined_samples': False, 'table': 275 x 1 <class 'biom.table.Table'> with 275 nonzero entries (100% dense)}\n",
      "{'sampling_depth': 246542, 'with_replacement': False, 'table': 2403 x 44 <class 'biom.table.Table'> with 6331 nonzero entries (5% dense)}\n",
      "{'sampling_depth': 246542, 'with_replacement': False, 'table': 2403 x 44 <class 'biom.table.Table'> with 6331 nonzero entries (5% dense)}\n",
      "{'metric': 'observed_features', 'table': <artifact: FeatureTable[Frequency] uuid: ae4ffdcb-28fb-4d78-b356-5d86d94e1f9f>}\n",
      "{'table': 275 x 1 <class 'biom.table.Table'> with 275 nonzero entries (100% dense)}\n",
      "{'table': 275 x 1 <class 'biom.table.Table'> with 275 nonzero entries (100% dense)}\n",
      "{'metric': 'shannon', 'table': <artifact: FeatureTable[Frequency] uuid: ae4ffdcb-28fb-4d78-b356-5d86d94e1f9f>}\n",
      "{'drop_undefined_samples': False, 'table': 275 x 1 <class 'biom.table.Table'> with 275 nonzero entries (100% dense)}\n",
      "{'drop_undefined_samples': False, 'table': 275 x 1 <class 'biom.table.Table'> with 275 nonzero entries (100% dense)}\n",
      "{'sampling_depth': 246542, 'with_replacement': False, 'table': 2403 x 44 <class 'biom.table.Table'> with 6331 nonzero entries (5% dense)}\n",
      "{'sampling_depth': 246542, 'with_replacement': False, 'table': 2403 x 44 <class 'biom.table.Table'> with 6331 nonzero entries (5% dense)}\n"
     ]
    },
    {
     "name": "stdout",
     "output_type": "stream",
     "text": [
      "{'metric': 'observed_features', 'table': <artifact: FeatureTable[Frequency] uuid: a0c5708c-de38-4b1b-95f2-cc3ebf88d24d>}\n",
      "{'table': 275 x 1 <class 'biom.table.Table'> with 275 nonzero entries (100% dense)}\n",
      "{'table': 275 x 1 <class 'biom.table.Table'> with 275 nonzero entries (100% dense)}\n",
      "{'metric': 'shannon', 'table': <artifact: FeatureTable[Frequency] uuid: a0c5708c-de38-4b1b-95f2-cc3ebf88d24d>}\n",
      "{'drop_undefined_samples': False, 'table': 275 x 1 <class 'biom.table.Table'> with 275 nonzero entries (100% dense)}\n",
      "{'drop_undefined_samples': False, 'table': 275 x 1 <class 'biom.table.Table'> with 275 nonzero entries (100% dense)}\n",
      "{'sampling_depth': 246542, 'with_replacement': False, 'table': 2403 x 44 <class 'biom.table.Table'> with 6331 nonzero entries (5% dense)}\n",
      "{'sampling_depth': 246542, 'with_replacement': False, 'table': 2403 x 44 <class 'biom.table.Table'> with 6331 nonzero entries (5% dense)}\n",
      "{'metric': 'observed_features', 'table': <artifact: FeatureTable[Frequency] uuid: 845d0903-a056-445e-9ca2-f591c6affae4>}\n",
      "{'table': 275 x 1 <class 'biom.table.Table'> with 275 nonzero entries (100% dense)}\n",
      "{'table': 275 x 1 <class 'biom.table.Table'> with 275 nonzero entries (100% dense)}\n",
      "{'metric': 'shannon', 'table': <artifact: FeatureTable[Frequency] uuid: 845d0903-a056-445e-9ca2-f591c6affae4>}\n"
     ]
    },
    {
     "name": "stdout",
     "output_type": "stream",
     "text": [
      "{'drop_undefined_samples': False, 'table': 275 x 1 <class 'biom.table.Table'> with 275 nonzero entries (100% dense)}\n",
      "{'drop_undefined_samples': False, 'table': 275 x 1 <class 'biom.table.Table'> with 275 nonzero entries (100% dense)}\n",
      "{'sampling_depth': 246542, 'with_replacement': False, 'table': 2403 x 44 <class 'biom.table.Table'> with 6331 nonzero entries (5% dense)}\n",
      "{'sampling_depth': 246542, 'with_replacement': False, 'table': 2403 x 44 <class 'biom.table.Table'> with 6331 nonzero entries (5% dense)}\n",
      "{'metric': 'observed_features', 'table': <artifact: FeatureTable[Frequency] uuid: 57f39cae-68a9-4ff3-9d16-2c9b800ab5fe>}\n",
      "{'table': 275 x 1 <class 'biom.table.Table'> with 275 nonzero entries (100% dense)}\n",
      "{'table': 275 x 1 <class 'biom.table.Table'> with 275 nonzero entries (100% dense)}\n",
      "{'metric': 'shannon', 'table': <artifact: FeatureTable[Frequency] uuid: 57f39cae-68a9-4ff3-9d16-2c9b800ab5fe>}\n",
      "{'drop_undefined_samples': False, 'table': 275 x 1 <class 'biom.table.Table'> with 275 nonzero entries (100% dense)}\n",
      "{'drop_undefined_samples': False, 'table': 275 x 1 <class 'biom.table.Table'> with 275 nonzero entries (100% dense)}\n",
      "{'sampling_depth': 246542, 'with_replacement': False, 'table': 2403 x 44 <class 'biom.table.Table'> with 6331 nonzero entries (5% dense)}\n",
      "{'sampling_depth': 246542, 'with_replacement': False, 'table': 2403 x 44 <class 'biom.table.Table'> with 6331 nonzero entries (5% dense)}\n"
     ]
    },
    {
     "name": "stdout",
     "output_type": "stream",
     "text": [
      "{'metric': 'observed_features', 'table': <artifact: FeatureTable[Frequency] uuid: 08c69ea0-a6d2-4d6f-b3f2-b5ee79ec660e>}\n",
      "{'table': 275 x 1 <class 'biom.table.Table'> with 275 nonzero entries (100% dense)}\n",
      "{'table': 275 x 1 <class 'biom.table.Table'> with 275 nonzero entries (100% dense)}\n",
      "{'metric': 'shannon', 'table': <artifact: FeatureTable[Frequency] uuid: 08c69ea0-a6d2-4d6f-b3f2-b5ee79ec660e>}\n",
      "{'drop_undefined_samples': False, 'table': 275 x 1 <class 'biom.table.Table'> with 275 nonzero entries (100% dense)}\n",
      "{'drop_undefined_samples': False, 'table': 275 x 1 <class 'biom.table.Table'> with 275 nonzero entries (100% dense)}\n",
      "{'sampling_depth': 246542, 'with_replacement': False, 'table': 2403 x 44 <class 'biom.table.Table'> with 6331 nonzero entries (5% dense)}\n",
      "{'sampling_depth': 246542, 'with_replacement': False, 'table': 2403 x 44 <class 'biom.table.Table'> with 6331 nonzero entries (5% dense)}\n",
      "{'metric': 'observed_features', 'table': <artifact: FeatureTable[Frequency] uuid: 0380846f-00b0-40c3-b604-339cfb3589a1>}\n",
      "{'table': 275 x 1 <class 'biom.table.Table'> with 275 nonzero entries (100% dense)}\n",
      "{'table': 275 x 1 <class 'biom.table.Table'> with 275 nonzero entries (100% dense)}\n"
     ]
    },
    {
     "name": "stdout",
     "output_type": "stream",
     "text": [
      "{'metric': 'shannon', 'table': <artifact: FeatureTable[Frequency] uuid: 0380846f-00b0-40c3-b604-339cfb3589a1>}\n",
      "{'drop_undefined_samples': False, 'table': 275 x 1 <class 'biom.table.Table'> with 275 nonzero entries (100% dense)}\n",
      "{'drop_undefined_samples': False, 'table': 275 x 1 <class 'biom.table.Table'> with 275 nonzero entries (100% dense)}\n",
      "{'sampling_depth': 246542, 'with_replacement': False, 'table': 2403 x 44 <class 'biom.table.Table'> with 6331 nonzero entries (5% dense)}\n",
      "{'sampling_depth': 246542, 'with_replacement': False, 'table': 2403 x 44 <class 'biom.table.Table'> with 6331 nonzero entries (5% dense)}\n",
      "{'metric': 'observed_features', 'table': <artifact: FeatureTable[Frequency] uuid: 05fadf5b-c1e6-465f-a052-cb84962a3603>}\n",
      "{'table': 275 x 1 <class 'biom.table.Table'> with 275 nonzero entries (100% dense)}\n",
      "{'table': 275 x 1 <class 'biom.table.Table'> with 275 nonzero entries (100% dense)}\n",
      "{'metric': 'shannon', 'table': <artifact: FeatureTable[Frequency] uuid: 05fadf5b-c1e6-465f-a052-cb84962a3603>}\n",
      "{'drop_undefined_samples': False, 'table': 275 x 1 <class 'biom.table.Table'> with 275 nonzero entries (100% dense)}\n",
      "{'drop_undefined_samples': False, 'table': 275 x 1 <class 'biom.table.Table'> with 275 nonzero entries (100% dense)}\n"
     ]
    },
    {
     "name": "stdout",
     "output_type": "stream",
     "text": [
      "{'sampling_depth': 246542, 'with_replacement': False, 'table': 2403 x 44 <class 'biom.table.Table'> with 6331 nonzero entries (5% dense)}\n",
      "{'sampling_depth': 246542, 'with_replacement': False, 'table': 2403 x 44 <class 'biom.table.Table'> with 6331 nonzero entries (5% dense)}\n",
      "{'metric': 'observed_features', 'table': <artifact: FeatureTable[Frequency] uuid: cd85df43-f9c5-4503-b14c-2824a655ae0f>}\n",
      "{'table': 275 x 1 <class 'biom.table.Table'> with 275 nonzero entries (100% dense)}\n",
      "{'table': 275 x 1 <class 'biom.table.Table'> with 275 nonzero entries (100% dense)}\n",
      "{'metric': 'shannon', 'table': <artifact: FeatureTable[Frequency] uuid: cd85df43-f9c5-4503-b14c-2824a655ae0f>}\n",
      "{'drop_undefined_samples': False, 'table': 275 x 1 <class 'biom.table.Table'> with 275 nonzero entries (100% dense)}\n",
      "{'drop_undefined_samples': False, 'table': 275 x 1 <class 'biom.table.Table'> with 275 nonzero entries (100% dense)}\n",
      "{'sampling_depth': 246542, 'with_replacement': False, 'table': 2403 x 44 <class 'biom.table.Table'> with 6331 nonzero entries (5% dense)}\n",
      "{'sampling_depth': 246542, 'with_replacement': False, 'table': 2403 x 44 <class 'biom.table.Table'> with 6331 nonzero entries (5% dense)}\n",
      "{'metric': 'observed_features', 'table': <artifact: FeatureTable[Frequency] uuid: 2d94fc79-5834-4b06-b434-b5f1bc4a05a7>}\n",
      "{'table': 275 x 1 <class 'biom.table.Table'> with 275 nonzero entries (100% dense)}\n",
      "{'table': 275 x 1 <class 'biom.table.Table'> with 275 nonzero entries (100% dense)}\n"
     ]
    },
    {
     "name": "stdout",
     "output_type": "stream",
     "text": [
      "{'metric': 'shannon', 'table': <artifact: FeatureTable[Frequency] uuid: 2d94fc79-5834-4b06-b434-b5f1bc4a05a7>}\n",
      "{'drop_undefined_samples': False, 'table': 275 x 1 <class 'biom.table.Table'> with 275 nonzero entries (100% dense)}\n",
      "{'drop_undefined_samples': False, 'table': 275 x 1 <class 'biom.table.Table'> with 275 nonzero entries (100% dense)}\n"
     ]
    }
   ],
   "source": [
    "alpha_rar = alpha_rarefaction(\n",
    "    table = tabs,\n",
    "    max_depth = max_feature_count,\n",
    "    min_depth = 1,\n",
    "    metadata = metadata_qa,\n",
    ")"
   ]
  },
  {
   "cell_type": "code",
   "execution_count": 13,
   "id": "d29def7b",
   "metadata": {
    "ExecuteTime": {
     "end_time": "2022-09-22T21:56:13.632468Z",
     "start_time": "2022-09-22T21:56:13.589032Z"
    },
    "execution": {
     "iopub.execute_input": "2023-09-06T21:43:35.429886Z",
     "iopub.status.busy": "2023-09-06T21:43:35.429609Z",
     "iopub.status.idle": "2023-09-06T21:43:35.470006Z",
     "shell.execute_reply": "2023-09-06T21:43:35.469419Z"
    },
    "papermill": {
     "duration": 0.078614,
     "end_time": "2023-09-06T21:43:35.473632",
     "exception": false,
     "start_time": "2023-09-06T21:43:35.395018",
     "status": "completed"
    },
    "scrolled": true,
    "tags": []
   },
   "outputs": [
    {
     "data": {
      "text/html": [
       "<div><img onload=\"(function(div, url){\n",
       "if (typeof require !== 'undefined') {\n",
       "    var baseURL = require.toUrl('').split('/').slice(0, -2).join('/');\n",
       "} else {\n",
       "    var baseURL = JSON.parse(\n",
       "        document.getElementById('jupyter-config-data').innerHTML\n",
       "    ).baseUrl.slice(0, -1);\n",
       "}\n",
       "url = baseURL + url;\n",
       "fetch(url).then(function(res) {\n",
       "    if (res.status === 404) {\n",
       "        div.innerHTML = 'Install QIIME 2 Jupyter extension with:<br />' +\n",
       "                        '<code>jupyter serverextension enable --py qiime2' +\n",
       "                        ' --sys-prefix</code><br />then restart your server.' +\n",
       "                        '<br /><br />(Interactive output not available on ' +\n",
       "                        'static notebook viewer services like nbviewer.)';\n",
       "    } else if (res.status === 409) {\n",
       "        div.innerHTML = 'Visualization no longer in scope. Re-run this cell' +\n",
       "                        ' to see the visualization.';\n",
       "    } else if (res.ok) {\n",
       "        url = res.url;\n",
       "        div.innerHTML = '<iframe src=\\'' + url + '\\' style=\\'' +\n",
       "                        'width: 100%; height: 700px; border: 0;\\'>' +\n",
       "                        '</iframe><hr />Open in a: <a href=\\'' + url + '\\'' +\n",
       "                        ' target=\\'_blank\\'>new window</a>'\n",
       "    } else {\n",
       "        div.innerHTML = 'Something has gone wrong. Check notebook server for' +\n",
       "                        ' errors.';\n",
       "    }\n",
       "});\n",
       "})(this.parentElement, '/qiime2/redirect?location=/tmp/qiime2-archive-096ijfgm')\" src=\"data:image/gif;base64,R0lGODlhAQABAIAAAP///wAAACH5BAEAAAAALAAAAAABAAEAAAICRAEAOw==\" /></div>"
      ],
      "text/plain": [
       "<visualization: Visualization uuid: d9251af4-571b-4e63-aca3-2f283e195bb4>"
      ]
     },
     "execution_count": 13,
     "metadata": {},
     "output_type": "execute_result"
    }
   ],
   "source": [
    "alpha_rar.visualization.save(alpha_rarefaction_view_path)\n",
    "alpha_rar.visualization"
   ]
  },
  {
   "cell_type": "markdown",
   "id": "e1045bbf",
   "metadata": {
    "papermill": {
     "duration": 0.03868,
     "end_time": "2023-09-06T21:43:35.557200",
     "exception": false,
     "start_time": "2023-09-06T21:43:35.518520",
     "status": "completed"
    },
    "tags": []
   },
   "source": [
    "## Beta Rarefaction"
   ]
  },
  {
   "cell_type": "code",
   "execution_count": 14,
   "id": "77b2d1a0",
   "metadata": {
    "ExecuteTime": {
     "end_time": "2022-09-22T21:56:19.645438Z",
     "start_time": "2022-09-22T21:56:17.687848Z"
    },
    "execution": {
     "iopub.execute_input": "2023-09-06T21:43:35.638021Z",
     "iopub.status.busy": "2023-09-06T21:43:35.637572Z",
     "iopub.status.idle": "2023-09-06T21:43:38.411277Z",
     "shell.execute_reply": "2023-09-06T21:43:38.410500Z"
    },
    "papermill": {
     "duration": 2.815771,
     "end_time": "2023-09-06T21:43:38.412784",
     "exception": false,
     "start_time": "2023-09-06T21:43:35.597013",
     "status": "completed"
    },
    "tags": []
   },
   "outputs": [
    {
     "name": "stdout",
     "output_type": "stream",
     "text": [
      "{'metric': 'braycurtis', 'clustering_method': 'nj', 'metadata': Metadata\n",
      "--------\n",
      "44 IDs x 9 columns\n",
      "class-straw:        ColumnProperties(type='categorical')\n",
      "local-coleta:       ColumnProperties(type='categorical')\n",
      "idade:              ColumnProperties(type='numeric')\n",
      "idade-menarca:      ColumnProperties(type='numeric')\n",
      "tempo-menopausa:    ColumnProperties(type='numeric')\n",
      "above_10:           ColumnProperties(type='categorical')\n",
      "menopausa-age-qcut: ColumnProperties(type='categorical')\n",
      "menopausa-age-bins: ColumnProperties(type='categorical')\n",
      "samples:            ColumnProperties(type='categorical')\n",
      "\n",
      "Call to_dataframe() for a tabular representation., 'sampling_depth': 564, 'iterations': 10, 'correlation_method': 'spearman', 'color_scheme': 'BrBG', 'table': 2403 x 44 <class 'biom.table.Table'> with 6331 nonzero entries (5% dense), 'phylogeny': None}\n",
      "{'sampling_depth': 564, 'with_replacement': False, 'table': 2403 x 44 <class 'biom.table.Table'> with 6331 nonzero entries (5% dense)}\n",
      "{'sampling_depth': 564, 'with_replacement': False, 'table': 2403 x 44 <class 'biom.table.Table'> with 6331 nonzero entries (5% dense)}\n",
      "{'metric': 'braycurtis', 'pseudocount': 1, 'n_jobs': 1, 'table': <artifact: FeatureTable[Frequency] uuid: 68c2405d-26f4-4117-bce3-905c04698bfd>}\n"
     ]
    },
    {
     "name": "stdout",
     "output_type": "stream",
     "text": [
      "{'n_jobs': 1, 'table': 1228 x 44 <class 'biom.table.Table'> with 3545 nonzero entries (6% dense)}\n",
      "{'n_jobs': 1, 'table': 1228 x 44 <class 'biom.table.Table'> with 3545 nonzero entries (6% dense)}\n",
      "{'sampling_depth': 564, 'with_replacement': False, 'table': 2403 x 44 <class 'biom.table.Table'> with 6331 nonzero entries (5% dense)}\n",
      "{'sampling_depth': 564, 'with_replacement': False, 'table': 2403 x 44 <class 'biom.table.Table'> with 6331 nonzero entries (5% dense)}\n"
     ]
    },
    {
     "name": "stdout",
     "output_type": "stream",
     "text": [
      "{'metric': 'braycurtis', 'pseudocount': 1, 'n_jobs': 1, 'table': <artifact: FeatureTable[Frequency] uuid: 857f88dd-c046-42fa-9dc8-5398ee9db969>}\n",
      "{'n_jobs': 1, 'table': 1239 x 44 <class 'biom.table.Table'> with 3612 nonzero entries (6% dense)}\n",
      "{'n_jobs': 1, 'table': 1239 x 44 <class 'biom.table.Table'> with 3612 nonzero entries (6% dense)}\n",
      "{'sampling_depth': 564, 'with_replacement': False, 'table': 2403 x 44 <class 'biom.table.Table'> with 6331 nonzero entries (5% dense)}\n",
      "{'sampling_depth': 564, 'with_replacement': False, 'table': 2403 x 44 <class 'biom.table.Table'> with 6331 nonzero entries (5% dense)}\n"
     ]
    },
    {
     "name": "stdout",
     "output_type": "stream",
     "text": [
      "{'metric': 'braycurtis', 'pseudocount': 1, 'n_jobs': 1, 'table': <artifact: FeatureTable[Frequency] uuid: 711f9699-c5e1-4ff0-b7aa-e8d28ce003af>}\n",
      "{'n_jobs': 1, 'table': 1251 x 44 <class 'biom.table.Table'> with 3558 nonzero entries (6% dense)}\n",
      "{'n_jobs': 1, 'table': 1251 x 44 <class 'biom.table.Table'> with 3558 nonzero entries (6% dense)}\n",
      "{'sampling_depth': 564, 'with_replacement': False, 'table': 2403 x 44 <class 'biom.table.Table'> with 6331 nonzero entries (5% dense)}\n",
      "{'sampling_depth': 564, 'with_replacement': False, 'table': 2403 x 44 <class 'biom.table.Table'> with 6331 nonzero entries (5% dense)}\n"
     ]
    },
    {
     "name": "stdout",
     "output_type": "stream",
     "text": [
      "{'metric': 'braycurtis', 'pseudocount': 1, 'n_jobs': 1, 'table': <artifact: FeatureTable[Frequency] uuid: f999a648-8a26-41a6-a7b7-002f2e8c9065>}\n",
      "{'n_jobs': 1, 'table': 1262 x 44 <class 'biom.table.Table'> with 3610 nonzero entries (6% dense)}\n",
      "{'n_jobs': 1, 'table': 1262 x 44 <class 'biom.table.Table'> with 3610 nonzero entries (6% dense)}\n",
      "{'sampling_depth': 564, 'with_replacement': False, 'table': 2403 x 44 <class 'biom.table.Table'> with 6331 nonzero entries (5% dense)}\n",
      "{'sampling_depth': 564, 'with_replacement': False, 'table': 2403 x 44 <class 'biom.table.Table'> with 6331 nonzero entries (5% dense)}\n"
     ]
    },
    {
     "name": "stdout",
     "output_type": "stream",
     "text": [
      "{'metric': 'braycurtis', 'pseudocount': 1, 'n_jobs': 1, 'table': <artifact: FeatureTable[Frequency] uuid: f1268e82-4a05-45ea-99d2-98fa6d4f6f56>}\n",
      "{'n_jobs': 1, 'table': 1253 x 44 <class 'biom.table.Table'> with 3586 nonzero entries (6% dense)}\n",
      "{'n_jobs': 1, 'table': 1253 x 44 <class 'biom.table.Table'> with 3586 nonzero entries (6% dense)}\n",
      "{'sampling_depth': 564, 'with_replacement': False, 'table': 2403 x 44 <class 'biom.table.Table'> with 6331 nonzero entries (5% dense)}\n",
      "{'sampling_depth': 564, 'with_replacement': False, 'table': 2403 x 44 <class 'biom.table.Table'> with 6331 nonzero entries (5% dense)}\n"
     ]
    },
    {
     "name": "stdout",
     "output_type": "stream",
     "text": [
      "{'metric': 'braycurtis', 'pseudocount': 1, 'n_jobs': 1, 'table': <artifact: FeatureTable[Frequency] uuid: aa61c69f-c465-4c62-94b2-a2068d099867>}\n",
      "{'n_jobs': 1, 'table': 1250 x 44 <class 'biom.table.Table'> with 3596 nonzero entries (6% dense)}\n",
      "{'n_jobs': 1, 'table': 1250 x 44 <class 'biom.table.Table'> with 3596 nonzero entries (6% dense)}\n",
      "{'sampling_depth': 564, 'with_replacement': False, 'table': 2403 x 44 <class 'biom.table.Table'> with 6331 nonzero entries (5% dense)}\n",
      "{'sampling_depth': 564, 'with_replacement': False, 'table': 2403 x 44 <class 'biom.table.Table'> with 6331 nonzero entries (5% dense)}\n"
     ]
    },
    {
     "name": "stdout",
     "output_type": "stream",
     "text": [
      "{'metric': 'braycurtis', 'pseudocount': 1, 'n_jobs': 1, 'table': <artifact: FeatureTable[Frequency] uuid: d019cbed-d0b4-409a-9421-abec6c1c505d>}\n",
      "{'n_jobs': 1, 'table': 1229 x 44 <class 'biom.table.Table'> with 3567 nonzero entries (6% dense)}\n",
      "{'n_jobs': 1, 'table': 1229 x 44 <class 'biom.table.Table'> with 3567 nonzero entries (6% dense)}\n",
      "{'sampling_depth': 564, 'with_replacement': False, 'table': 2403 x 44 <class 'biom.table.Table'> with 6331 nonzero entries (5% dense)}\n",
      "{'sampling_depth': 564, 'with_replacement': False, 'table': 2403 x 44 <class 'biom.table.Table'> with 6331 nonzero entries (5% dense)}\n"
     ]
    },
    {
     "name": "stdout",
     "output_type": "stream",
     "text": [
      "{'metric': 'braycurtis', 'pseudocount': 1, 'n_jobs': 1, 'table': <artifact: FeatureTable[Frequency] uuid: f5e7c9e8-186b-4977-8d57-6f67aea84f8c>}\n",
      "{'n_jobs': 1, 'table': 1242 x 44 <class 'biom.table.Table'> with 3562 nonzero entries (6% dense)}\n",
      "{'n_jobs': 1, 'table': 1242 x 44 <class 'biom.table.Table'> with 3562 nonzero entries (6% dense)}\n",
      "{'sampling_depth': 564, 'with_replacement': False, 'table': 2403 x 44 <class 'biom.table.Table'> with 6331 nonzero entries (5% dense)}\n",
      "{'sampling_depth': 564, 'with_replacement': False, 'table': 2403 x 44 <class 'biom.table.Table'> with 6331 nonzero entries (5% dense)}\n"
     ]
    },
    {
     "name": "stdout",
     "output_type": "stream",
     "text": [
      "{'metric': 'braycurtis', 'pseudocount': 1, 'n_jobs': 1, 'table': <artifact: FeatureTable[Frequency] uuid: 5c4245ec-7223-45ba-8a28-efa3fdd5f904>}\n",
      "{'n_jobs': 1, 'table': 1243 x 44 <class 'biom.table.Table'> with 3597 nonzero entries (6% dense)}\n",
      "{'n_jobs': 1, 'table': 1243 x 44 <class 'biom.table.Table'> with 3597 nonzero entries (6% dense)}\n",
      "{'sampling_depth': 564, 'with_replacement': False, 'table': 2403 x 44 <class 'biom.table.Table'> with 6331 nonzero entries (5% dense)}\n",
      "{'sampling_depth': 564, 'with_replacement': False, 'table': 2403 x 44 <class 'biom.table.Table'> with 6331 nonzero entries (5% dense)}\n"
     ]
    },
    {
     "name": "stdout",
     "output_type": "stream",
     "text": [
      "{'metric': 'braycurtis', 'pseudocount': 1, 'n_jobs': 1, 'table': <artifact: FeatureTable[Frequency] uuid: 5a4437ae-af28-4c0b-b4b2-828b76bbd597>}\n",
      "{'n_jobs': 1, 'table': 1245 x 44 <class 'biom.table.Table'> with 3613 nonzero entries (6% dense)}\n",
      "{'n_jobs': 1, 'table': 1245 x 44 <class 'biom.table.Table'> with 3613 nonzero entries (6% dense)}\n"
     ]
    },
    {
     "data": {
      "image/png": "[encoded data removed]",
      "text/plain": [
       "<Figure size 432x288 with 2 Axes>"
      ]
     },
     "metadata": {
      "needs_background": "light"
     },
     "output_type": "display_data"
    }
   ],
   "source": [
    "choices = ('matching', 'aitchison', 'euclidean', 'generalized_unifrac', 'canberra', 'russellrao', 'braycurtis', 'cosine', 'jensenshannon', 'yule', 'weighted_normalized_unifrac', 'unweighted_unifrac', 'hamming', 'weighted_unifrac', 'cityblock', 'sokalmichener', 'seuclidean', 'rogerstanimoto', 'correlation', 'minkowski', 'kulsinski', 'chebyshev', 'sqeuclidean', 'sokalsneath', 'jaccard', 'dice', 'canberra_adkins')\n",
    "clustering_methods = ('nj', 'upgma')\n",
    "correlation_methods = ('pearson', 'spearman')\n",
    "\n",
    "sampling_depth = max(min_feature_count, 1)\n",
    "metric = 'braycurtis'\n",
    "clustering_method = clustering_methods[0]\n",
    "correlation_method = correlation_methods[1]\n",
    "\n",
    "beta_rar = beta_rarefaction(\n",
    "    table = tabs,\n",
    "    sampling_depth  = sampling_depth,\n",
    "    metadata = metadata_qa,\n",
    "    metric = metric,\n",
    "    clustering_method = clustering_method,\n",
    "    correlation_method = correlation_method,\n",
    ")"
   ]
  },
  {
   "cell_type": "markdown",
   "id": "e1a4dc5f",
   "metadata": {
    "papermill": {
     "duration": 0.042735,
     "end_time": "2023-09-06T21:43:38.498792",
     "exception": false,
     "start_time": "2023-09-06T21:43:38.456057",
     "status": "completed"
    },
    "tags": []
   },
   "source": [
    " ## Beta diversity PCoA\n",
    " Ellipses represent 95% confidence intervals."
   ]
  },
  {
   "cell_type": "code",
   "execution_count": 15,
   "id": "9d3b7237",
   "metadata": {
    "ExecuteTime": {
     "end_time": "2022-09-22T21:56:22.170995Z",
     "start_time": "2022-09-22T21:56:22.048827Z"
    },
    "execution": {
     "iopub.execute_input": "2023-09-06T21:43:38.587317Z",
     "iopub.status.busy": "2023-09-06T21:43:38.586880Z",
     "iopub.status.idle": "2023-09-06T21:43:38.710111Z",
     "shell.execute_reply": "2023-09-06T21:43:38.709528Z"
    },
    "papermill": {
     "duration": 0.170148,
     "end_time": "2023-09-06T21:43:38.712266",
     "exception": false,
     "start_time": "2023-09-06T21:43:38.542118",
     "status": "completed"
    },
    "tags": []
   },
   "outputs": [
    {
     "data": {
      "text/html": [
       "<div><img onload=\"(function(div, url){\n",
       "if (typeof require !== 'undefined') {\n",
       "    var baseURL = require.toUrl('').split('/').slice(0, -2).join('/');\n",
       "} else {\n",
       "    var baseURL = JSON.parse(\n",
       "        document.getElementById('jupyter-config-data').innerHTML\n",
       "    ).baseUrl.slice(0, -1);\n",
       "}\n",
       "url = baseURL + url;\n",
       "fetch(url).then(function(res) {\n",
       "    if (res.status === 404) {\n",
       "        div.innerHTML = 'Install QIIME 2 Jupyter extension with:<br />' +\n",
       "                        '<code>jupyter serverextension enable --py qiime2' +\n",
       "                        ' --sys-prefix</code><br />then restart your server.' +\n",
       "                        '<br /><br />(Interactive output not available on ' +\n",
       "                        'static notebook viewer services like nbviewer.)';\n",
       "    } else if (res.status === 409) {\n",
       "        div.innerHTML = 'Visualization no longer in scope. Re-run this cell' +\n",
       "                        ' to see the visualization.';\n",
       "    } else if (res.ok) {\n",
       "        url = res.url;\n",
       "        div.innerHTML = '<iframe src=\\'' + url + '\\' style=\\'' +\n",
       "                        'width: 100%; height: 700px; border: 0;\\'>' +\n",
       "                        '</iframe><hr />Open in a: <a href=\\'' + url + '\\'' +\n",
       "                        ' target=\\'_blank\\'>new window</a>'\n",
       "    } else {\n",
       "        div.innerHTML = 'Something has gone wrong. Check notebook server for' +\n",
       "                        ' errors.';\n",
       "    }\n",
       "});\n",
       "})(this.parentElement, '/qiime2/redirect?location=/tmp/qiime2-archive-jtj0kxa6')\" src=\"data:image/gif;base64,R0lGODlhAQABAIAAAP///wAAACH5BAEAAAAALAAAAAABAAEAAAICRAEAOw==\" /></div>"
      ],
      "text/plain": [
       "<visualization: Visualization uuid: 32b45b58-03c7-41c5-85bd-7ebadf6faae2>"
      ]
     },
     "execution_count": 15,
     "metadata": {},
     "output_type": "execute_result"
    }
   ],
   "source": [
    "plot_tmp = f'{metric}-{clustering_method}-{correlation_method}-{sampling_depth}'\n",
    "beta_rarefaction_view_path = os.path.join(qiime_folder, f'beta-rarefaction-{plot_tmp}.qzv')\n",
    "beta_rar.visualization.save(beta_rarefaction_view_path)\n",
    "\n",
    "beta_rar.visualization"
   ]
  }
 ],
 "metadata": {
  "celltoolbar": "Edit Metadata",
  "kernelspec": {
   "display_name": "Python 3 (ipykernel)",
   "language": "python",
   "name": "python3"
  },
  "language_info": {
   "codemirror_mode": {
    "name": "ipython",
    "version": 3
   },
   "file_extension": ".py",
   "mimetype": "text/x-python",
   "name": "python",
   "nbconvert_exporter": "python",
   "pygments_lexer": "ipython3",
   "version": "3.8.12"
  },
  "papermill": {
   "default_parameters": {},
   "duration": 38.162279,
   "end_time": "2023-09-06T21:43:39.580893",
   "environment_variables": {},
   "exception": null,
   "input_path": "nb-templates/step-rarefaction-analysis.ipynb",
   "output_path": "/home/lauro/nupeb/rede-micro/redemicro-thayane/experiments/thayane-PM-joined-trim/nb-executed-steps/step-rarefaction-analysis-thayane-PM-joined-trim.ipynb",
   "parameters": {
    "base_dir": "/home/lauro/nupeb/rede-micro/redemicro-thayane",
    "class_col": "above_10",
    "classifier_file": "/home/lauro/nupeb/16S_classifiers_qiime2/silva-138-99-nb-classifier.qza",
    "experiment_name": "thayane-PM-joined-trim",
    "manifest_file": "/home/lauro/nupeb/rede-micro/redemicro-thayane/data/manifest-single.csv",
    "metadata_file": "/home/lauro/nupeb/rede-micro/redemicro-thayane/data/metadata.tsv",
    "overlap": 12,
    "phred": 20,
    "replace_files": false,
    "threads": 6,
    "trunc_f": 0,
    "trunc_r": 0
   },
   "start_time": "2023-09-06T21:43:01.418614",
   "version": "2.3.4"
  },
  "toc-autonumbering": false,
  "toc-showcode": false,
  "toc-showmarkdowntxt": false
 },
 "nbformat": 4,
 "nbformat_minor": 5
}