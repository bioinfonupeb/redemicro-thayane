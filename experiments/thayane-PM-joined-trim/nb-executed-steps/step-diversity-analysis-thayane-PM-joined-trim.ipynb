{
 "cells": [
  {
   "cell_type": "markdown",
   "id": "15bcfa06",
   "metadata": {
    "papermill": {
     "duration": 0.027896,
     "end_time": "2023-09-06T23:14:16.025290",
     "exception": false,
     "start_time": "2023-09-06T23:14:15.997394",
     "status": "completed"
    },
    "tags": []
   },
   "source": [
    " \n",
    "# Alpha and Beta Diversity\n",
    "\n",
    "Different higher-level measures are often used to describe the microbiome in a sample. These do not provide information on changes in the abundance of specific taxa but allow us to access a broader change or difference in the composition of microorganisms. Alpha and beta diversity are examples of such measures.\n",
    "\n",
    "Different measures exist to estimate diversity within a single sample, jointly called alpha diversity. The different measures reflect the richness (number) or distribution (evenness) of a microbial sample or aim to reflect a combination of both properties.\n",
    "\n",
    "Rarefaction curves are often used when calculating alpha diversity indices because increasing numbers of sequenced taxa allow increasingly accurate estimates of total population diversity. Rarefaction curves can therefore be used to estimate the full sample richness, as compared to the observed sample richness.\n",
    "\n",
    "While alpha diversity is a measure of microbiome diversity applicable to a single sample, beta diversity is a measure of the similarity or dissimilarity of two communities. As for alpha diversity, many indices exist, each reflecting different aspects of community heterogeneity. Key differences relate to how the indices value variation in rare species if they consider presence/absence only or incorporate abundance, and how they interpret shared absence. Bray-Curtis dissimilarity is a popular measure that considers both size (overall abundance per sample) and shape (abundance of each taxon) of the communities (Bray, 1957). Beta diversity is an essential measure for many popular statistical methods in ecology, such as ordination-based methods, and is widely used for studying the association between environmental variables and microbial composition.\n",
    "\n",
    "In summary, alpha diversity measures can be seen as a summary statistic of a single population (within-sample diversity), while beta diversity measures are estimates of similarity or dissimilarity between populations (between samples).\n",
    "\n",
    "**Source**: (https://biomcare.com/info/key-terms-in-microbiome-projects/)"
   ]
  },
  {
   "cell_type": "markdown",
   "id": "0e7f2330",
   "metadata": {
    "ExecuteTime": {
     "end_time": "2022-09-22T19:36:33.828188Z",
     "start_time": "2022-09-22T19:36:33.817323Z"
    },
    "papermill": {
     "duration": 0.018515,
     "end_time": "2023-09-06T23:14:16.067308",
     "exception": false,
     "start_time": "2023-09-06T23:14:16.048793",
     "status": "completed"
    },
    "tags": []
   },
   "source": [
    "### STEP : Diversity Analysis\n",
    "\n",
    "Using QIIME2 to create diversity analisys graphs and calculations.\n",
    "\n",
    "- [QIIME2 Workflow Overview](https://docs.qiime2.org/2022.8/tutorials/overview/)\n",
    "\n",
    "\n",
    "#### Methods\n",
    "- [diversity](https://docs.qiime2.org/2022.8/plugins/available/diversity/)\n",
    "- [diversity alpha](https://docs.qiime2.org/2022.8/plugins/available/diversity/alpha/)\n",
    "- [diversity alpha_phylogenetic](https://docs.qiime2.org/2022.8/plugins/available/diversity/alpha-phylogenetic/)\n",
    "- [diversity beta](https://docs.qiime2.org/2022.8/plugins/available/diversity/beta/)\n",
    "- [diversity core_metrics](https://docs.qiime2.org/2022.8/plugins/available/diversity/core-metrics/)\n",
    "- [diversity alpha_group_significance](https://docs.qiime2.org/2022.8/plugins/available/diversity/alpha-group-significance/)\n",
    "- [diversity beta_group_significance](https://docs.qiime2.org/2022.8/plugins/available/diversity/beta-group-significance/)\n",
    "- [feature_table core_features](https://docs.qiime2.org/2022.8/plugins/available/feature-table/core-features/)\n",
    "- [feature_table summarize](https://docs.qiime2.org/2022.8/plugins/available/feature-table/summarize/)\n",
    "- [taxa filter-table](https://docs.qiime2.org/2022.8/plugins/available/taxa/filter-table/)\n",
    "- [taxa collapse](https://docs.qiime2.org/2022.8/plugins/available/taxa/collapse/)"
   ]
  },
  {
   "cell_type": "markdown",
   "id": "843debbf",
   "metadata": {
    "papermill": {
     "duration": 0.017685,
     "end_time": "2023-09-06T23:14:16.103073",
     "exception": false,
     "start_time": "2023-09-06T23:14:16.085388",
     "status": "completed"
    },
    "tags": []
   },
   "source": [
    "## Setup and settings"
   ]
  },
  {
   "cell_type": "code",
   "execution_count": 1,
   "id": "965e28e5",
   "metadata": {
    "ExecuteTime": {
     "end_time": "2022-11-03T20:35:26.198671Z",
     "start_time": "2022-11-03T20:35:06.473173Z"
    },
    "execution": {
     "iopub.execute_input": "2023-09-06T23:14:16.140170Z",
     "iopub.status.busy": "2023-09-06T23:14:16.139640Z",
     "iopub.status.idle": "2023-09-06T23:14:22.593199Z",
     "shell.execute_reply": "2023-09-06T23:14:22.592363Z"
    },
    "papermill": {
     "duration": 6.475689,
     "end_time": "2023-09-06T23:14:22.596507",
     "exception": false,
     "start_time": "2023-09-06T23:14:16.120818",
     "status": "completed"
    },
    "tags": []
   },
   "outputs": [],
   "source": [
    "# Importing packages\n",
    "import os\n",
    "import pandas as pd\n",
    "from qiime2 import Artifact\n",
    "from qiime2 import Visualization\n",
    "from qiime2 import Metadata\n",
    "\n",
    "from qiime2.plugins.phylogeny.pipelines import align_to_tree_mafft_fasttree\n",
    "\n",
    "from qiime2.plugins.diversity.pipelines import alpha\n",
    "from qiime2.plugins.diversity.pipelines import beta\n",
    "from qiime2.plugins.diversity.pipelines import core_metrics\n",
    "from qiime2.plugins.diversity.pipelines import alpha_phylogenetic\n",
    "\n",
    "from qiime2.plugins.diversity.visualizers import alpha_group_significance\n",
    "from qiime2.plugins.diversity.visualizers import beta_group_significance\n",
    "from qiime2.plugins.diversity.visualizers import alpha_correlation\n",
    "from qiime2.plugins.diversity.visualizers import beta_rarefaction\n",
    "\n",
    "from qiime2.plugins.taxa.methods import filter_table\n",
    "from qiime2.plugins.taxa.methods import collapse\n",
    "\n",
    "from qiime2.plugins.feature_table.visualizers import tabulate_seqs\n",
    "from qiime2.plugins.feature_table.visualizers import summarize\n",
    "from qiime2.plugins.feature_table.visualizers import core_features\n",
    "from qiime2.plugins.diversity.pipelines import core_metrics_phylogenetic\n",
    "\n",
    "from qiime2.plugins.feature_table.methods import filter_samples\n",
    "from qiime2.plugins.feature_table.methods import filter_seqs\n",
    "\n",
    "from qiime2.plugins.alignment.methods import mafft\n",
    "\n",
    "\n",
    "import matplotlib.pyplot as plt\n",
    "\n",
    "%matplotlib inline"
   ]
  },
  {
   "cell_type": "markdown",
   "id": "530ceb60",
   "metadata": {
    "papermill": {
     "duration": 0.018611,
     "end_time": "2023-09-06T23:14:22.641132",
     "exception": false,
     "start_time": "2023-09-06T23:14:22.622521",
     "status": "completed"
    },
    "tags": []
   },
   "source": [
    "### Receiving the parameters\n",
    "\n",
    "The following cell can receive parameters using the [papermill](https://papermill.readthedocs.io/en/latest/) tool."
   ]
  },
  {
   "cell_type": "code",
   "execution_count": 2,
   "id": "18d874ea",
   "metadata": {
    "ExecuteTime": {
     "end_time": "2022-09-29T20:54:14.793270Z",
     "start_time": "2022-09-29T20:54:14.789367Z"
    },
    "execution": {
     "iopub.execute_input": "2023-09-06T23:14:22.678393Z",
     "iopub.status.busy": "2023-09-06T23:14:22.677971Z",
     "iopub.status.idle": "2023-09-06T23:14:22.682870Z",
     "shell.execute_reply": "2023-09-06T23:14:22.682076Z"
    },
    "papermill": {
     "duration": 0.025152,
     "end_time": "2023-09-06T23:14:22.684389",
     "exception": false,
     "start_time": "2023-09-06T23:14:22.659237",
     "status": "completed"
    },
    "tags": [
     "parameters"
    ]
   },
   "outputs": [],
   "source": [
    "base_dir = os.path.join('/', 'home')\n",
    "metadata_file = os.path.abspath(os.path.join(base_dir, 'data', 'metadatada.tsv'))\n",
    "experiment_name = ''\n",
    "class_col = ''\n",
    "replace_files = False"
   ]
  },
  {
   "cell_type": "code",
   "execution_count": 3,
   "id": "e4fbfb1b",
   "metadata": {
    "execution": {
     "iopub.execute_input": "2023-09-06T23:14:22.721018Z",
     "iopub.status.busy": "2023-09-06T23:14:22.720692Z",
     "iopub.status.idle": "2023-09-06T23:14:22.726309Z",
     "shell.execute_reply": "2023-09-06T23:14:22.725448Z"
    },
    "papermill": {
     "duration": 0.025699,
     "end_time": "2023-09-06T23:14:22.727856",
     "exception": false,
     "start_time": "2023-09-06T23:14:22.702157",
     "status": "completed"
    },
    "tags": [
     "injected-parameters"
    ]
   },
   "outputs": [],
   "source": [
    "# Parameters\n",
    "experiment_name = \"thayane-PM-joined-trim\"\n",
    "base_dir = \"/home/lauro/nupeb/rede-micro/redemicro-thayane\"\n",
    "manifest_file = (\n",
    "    \"/home/lauro/nupeb/rede-micro/redemicro-thayane/data/manifest-single.csv\"\n",
    ")\n",
    "metadata_file = \"/home/lauro/nupeb/rede-micro/redemicro-thayane/data/metadata.tsv\"\n",
    "class_col = \"above_10\"\n",
    "classifier_file = (\n",
    "    \"/home/lauro/nupeb/16S_classifiers_qiime2/silva-138-99-nb-classifier.qza\"\n",
    ")\n",
    "replace_files = False\n",
    "phred = 20\n",
    "trunc_f = 0\n",
    "trunc_r = 0\n",
    "overlap = 12\n",
    "threads = 6\n"
   ]
  },
  {
   "cell_type": "code",
   "execution_count": 4,
   "id": "f38617d9",
   "metadata": {
    "ExecuteTime": {
     "end_time": "2022-09-29T20:54:14.804575Z",
     "start_time": "2022-09-29T20:54:14.794927Z"
    },
    "execution": {
     "iopub.execute_input": "2023-09-06T23:14:22.770186Z",
     "iopub.status.busy": "2023-09-06T23:14:22.769923Z",
     "iopub.status.idle": "2023-09-06T23:14:22.774039Z",
     "shell.execute_reply": "2023-09-06T23:14:22.773485Z"
    },
    "papermill": {
     "duration": 0.023918,
     "end_time": "2023-09-06T23:14:22.775453",
     "exception": false,
     "start_time": "2023-09-06T23:14:22.751535",
     "status": "completed"
    },
    "tags": []
   },
   "outputs": [],
   "source": [
    "experiment_folder = os.path.abspath(os.path.join(base_dir, 'experiments', experiment_name))\n",
    "img_folder = os.path.abspath(os.path.join(experiment_folder, 'imgs'))"
   ]
  },
  {
   "cell_type": "markdown",
   "id": "ea9b90fb",
   "metadata": {
    "papermill": {
     "duration": 0.017433,
     "end_time": "2023-09-06T23:14:22.810319",
     "exception": false,
     "start_time": "2023-09-06T23:14:22.792886",
     "status": "completed"
    },
    "tags": []
   },
   "source": [
    "### Defining names, paths and flags"
   ]
  },
  {
   "cell_type": "code",
   "execution_count": 5,
   "id": "45727eef",
   "metadata": {
    "ExecuteTime": {
     "end_time": "2022-09-29T20:54:14.816686Z",
     "start_time": "2022-09-29T20:54:14.806238Z"
    },
    "execution": {
     "iopub.execute_input": "2023-09-06T23:14:22.847172Z",
     "iopub.status.busy": "2023-09-06T23:14:22.846901Z",
     "iopub.status.idle": "2023-09-06T23:14:22.855501Z",
     "shell.execute_reply": "2023-09-06T23:14:22.854677Z"
    },
    "papermill": {
     "duration": 0.028455,
     "end_time": "2023-09-06T23:14:22.857072",
     "exception": false,
     "start_time": "2023-09-06T23:14:22.828617",
     "status": "completed"
    },
    "tags": []
   },
   "outputs": [],
   "source": [
    "# QIIME2 Artifacts folder\n",
    "qiime_folder = os.path.join(experiment_folder, 'qiime-artifacts')\n",
    "\n",
    "# Input - DADA2 Artifacts\n",
    "dada2_tabs_path = os.path.join(qiime_folder, 'dada2-tabs.qza')\n",
    "dada2_reps_path = os.path.join(qiime_folder, 'dada2-reps.qza')\n",
    "dada2_stat_path = os.path.join(qiime_folder, 'dada2-stat.qza')\n",
    "\n",
    "# Input - Taxonaomic Artifacts\n",
    "taxonomy_path = os.path.join(qiime_folder, 'metatax.qza')\n",
    "\n",
    "# Create folder to store Alpha files\n",
    "alpha_path = os.path.join(qiime_folder, 'alpha-analysis')\n",
    "if not os.path.exists(alpha_path):\n",
    "    os.makedirs(alpha_path)\n",
    "    print(f'The new directory is created in {alpha_path}')\n",
    "    \n",
    "# Create folder to store Beta files\n",
    "beta_path = os.path.join(qiime_folder, 'beta-analysis')\n",
    "if not os.path.exists(beta_path):\n",
    "    os.makedirs(beta_path)\n",
    "    print(f'The new directory is created in {beta_path}')\n",
    "\n",
    "# Output -Diversity Artifacts\n",
    "alpha_diversity_path = os.path.join(alpha_path, 'alpha-diversity.qza')\n",
    "alpha_diversity_view_path = os.path.join(alpha_path, 'alpha-diversity.qzv')\n",
    "beta_diversity_path = os.path.join(beta_path, 'beta-diversity.qza')\n",
    "beta_diversity_view_path = os.path.join(beta_path, 'beta-diversity.qzv')"
   ]
  },
  {
   "cell_type": "code",
   "execution_count": 6,
   "id": "601ae263",
   "metadata": {
    "ExecuteTime": {
     "end_time": "2022-09-29T20:54:14.829117Z",
     "start_time": "2022-09-29T20:54:14.818272Z"
    },
    "execution": {
     "iopub.execute_input": "2023-09-06T23:14:22.895686Z",
     "iopub.status.busy": "2023-09-06T23:14:22.895340Z",
     "iopub.status.idle": "2023-09-06T23:14:22.904651Z",
     "shell.execute_reply": "2023-09-06T23:14:22.903771Z"
    },
    "papermill": {
     "duration": 0.029611,
     "end_time": "2023-09-06T23:14:22.906378",
     "exception": false,
     "start_time": "2023-09-06T23:14:22.876767",
     "status": "completed"
    },
    "tags": []
   },
   "outputs": [],
   "source": [
    "def filter_and_collapse(tab, seqs, tax, meta, lvl, exclude=True, exclude_list='uncultured,unidentified,metagenome'):\n",
    "    from qiime2.plugins.taxa.methods import collapse\n",
    "    from qiime2.plugins.taxa.methods import filter_table\n",
    "    from qiime2.plugins.feature_table.methods import filter_seqs\n",
    "    from qiime2.plugins.feature_table.visualizers import summarize\n",
    "    \n",
    "    to_include = ('d', 'p', 'c', 'o', 'f', 'g', 's')[lvl-1]\n",
    "    to_include += '__'\n",
    "    to_exclude = exclude_list if exclude else None\n",
    "    \n",
    "    filtered_tabs = filter_table(\n",
    "        table=tab, \n",
    "        taxonomy=tax,\n",
    "        include=to_include,\n",
    "        exclude=to_exclude,\n",
    "        mode='contains').filtered_table\n",
    "    \n",
    "    filtered_seqs = filter_seqs(\n",
    "        data = seqs,\n",
    "        table = filtered_tabs,\n",
    "    ).filtered_data\n",
    "    \n",
    "    collapsed_table = collapse(table=filtered_tabs, taxonomy=tax, level=lvl).collapsed_table\n",
    "    collapsed_table_view = summarize(table=collapsed_table, sample_metadata=meta).visualization\n",
    "    \n",
    "    return collapsed_table, collapsed_table_view, filtered_seqs"
   ]
  },
  {
   "cell_type": "markdown",
   "id": "0999a1b2",
   "metadata": {
    "papermill": {
     "duration": 0.017571,
     "end_time": "2023-09-06T23:14:22.944793",
     "exception": false,
     "start_time": "2023-09-06T23:14:22.927222",
     "status": "completed"
    },
    "tags": []
   },
   "source": [
    "## Step execution\n",
    "\n",
    "### Load input files\n",
    "\n",
    "This Step import the QIIME2 `FeatureTable[Frequency]` Artifact and the `Metadata` file."
   ]
  },
  {
   "cell_type": "code",
   "execution_count": 7,
   "id": "8f299d1a",
   "metadata": {
    "ExecuteTime": {
     "end_time": "2022-09-29T20:54:15.559837Z",
     "start_time": "2022-09-29T20:54:14.830405Z"
    },
    "execution": {
     "iopub.execute_input": "2023-09-06T23:14:22.981273Z",
     "iopub.status.busy": "2023-09-06T23:14:22.980862Z",
     "iopub.status.idle": "2023-09-06T23:14:24.570358Z",
     "shell.execute_reply": "2023-09-06T23:14:24.569701Z"
    },
    "papermill": {
     "duration": 1.611042,
     "end_time": "2023-09-06T23:14:24.573580",
     "exception": false,
     "start_time": "2023-09-06T23:14:22.962538",
     "status": "completed"
    },
    "tags": []
   },
   "outputs": [],
   "source": [
    "#Load Metadata\n",
    "metadata_qa = Metadata.load(metadata_file)\n",
    "\n",
    "#Load FeatureTable[Frequency]\n",
    "tabs = Artifact.load(dada2_tabs_path)\n",
    "tabs_df = tabs.view(Metadata).to_dataframe().T\n",
    "\n",
    "# FeatureData[Sequence]\n",
    "reps = Artifact.load(dada2_reps_path)\n",
    "\n",
    "# FeatureData[Taxonomy]\n",
    "tax = Artifact.load(taxonomy_path)"
   ]
  },
  {
   "cell_type": "code",
   "execution_count": 8,
   "id": "c8dfe530",
   "metadata": {
    "ExecuteTime": {
     "end_time": "2022-09-29T20:54:15.564968Z",
     "start_time": "2022-09-29T20:54:15.561875Z"
    },
    "execution": {
     "iopub.execute_input": "2023-09-06T23:14:24.620052Z",
     "iopub.status.busy": "2023-09-06T23:14:24.619622Z",
     "iopub.status.idle": "2023-09-06T23:14:26.336597Z",
     "shell.execute_reply": "2023-09-06T23:14:26.335737Z"
    },
    "papermill": {
     "duration": 1.740364,
     "end_time": "2023-09-06T23:14:26.339670",
     "exception": false,
     "start_time": "2023-09-06T23:14:24.599306",
     "status": "completed"
    },
    "tags": []
   },
   "outputs": [
    {
     "name": "stdout",
     "output_type": "stream",
     "text": [
      "{'min_frequency': 0, 'max_frequency': None, 'min_features': 0, 'max_features': None, 'metadata': Metadata\n",
      "--------\n",
      "44 IDs x 8 columns\n",
      "class-straw:        ColumnProperties(type='categorical')\n",
      "local-coleta:       ColumnProperties(type='categorical')\n",
      "idade:              ColumnProperties(type='numeric')\n",
      "idade-menarca:      ColumnProperties(type='numeric')\n",
      "tempo-menopausa:    ColumnProperties(type='numeric')\n",
      "above_10:           ColumnProperties(type='categorical')\n",
      "menopausa-age-qcut: ColumnProperties(type='categorical')\n",
      "menopausa-age-bins: ColumnProperties(type='categorical')\n",
      "\n",
      "Call to_dataframe() for a tabular representation., 'where': None, 'exclude_ids': False, 'filter_empty_features': True, 'table': 2403 x 44 <class 'biom.table.Table'> with 6331 nonzero entries (5% dense)}\n",
      "{'min_frequency': 0, 'max_frequency': None, 'min_features': 0, 'max_features': None, 'metadata': Metadata\n",
      "--------\n",
      "44 IDs x 8 columns\n",
      "class-straw:        ColumnProperties(type='categorical')\n",
      "local-coleta:       ColumnProperties(type='categorical')\n",
      "idade:              ColumnProperties(type='numeric')\n",
      "idade-menarca:      ColumnProperties(type='numeric')\n",
      "tempo-menopausa:    ColumnProperties(type='numeric')\n",
      "above_10:           ColumnProperties(type='categorical')\n",
      "menopausa-age-qcut: ColumnProperties(type='categorical')\n",
      "menopausa-age-bins: ColumnProperties(type='categorical')\n",
      "\n",
      "Call to_dataframe() for a tabular representation., 'where': None, 'exclude_ids': False, 'filter_empty_features': True, 'table': 2403 x 44 <class 'biom.table.Table'> with 6331 nonzero entries (5% dense)}\n"
     ]
    },
    {
     "name": "stdout",
     "output_type": "stream",
     "text": [
      "{'metadata': None, 'where': None, 'exclude_ids': False, 'data': 00467836d98f063b17a325cd51d97330    (((T)), ((G)), ((G)), ((G)), ((G)), ((A)), ((A...\n",
      "0053504a75cbad644658d68e0d32aa7e    (((T)), ((G)), ((G)), ((G)), ((G)), ((A)), ((A...\n",
      "0060fd12eeb7e0c9151ed9bd939ec2ab    (((T)), ((G)), ((G)), ((G)), ((G)), ((A)), ((A...\n",
      "00aa928d554b4d273a8c64786d4912dd    (((T)), ((G)), ((G)), ((G)), ((G)), ((A)), ((A...\n",
      "00b396f20b86b3eb437d46d5d41ecca4    (((T)), ((T)), ((A)), ((G)), ((G)), ((A)), ((A...\n",
      "                                                          ...                        \n",
      "ffb2262b8183655d421ec92b0c76fb7f    (((T)), ((G)), ((G)), ((G)), ((G)), ((A)), ((A...\n",
      "ffcebd381e84cfe83cdacd5f6a6c25b4    (((G)), ((C)), ((G)), ((C)), ((G)), ((A)), ((A...\n",
      "ffd728469d288c1ecdb32ff2bbc18598    (((T)), ((G)), ((A)), ((G)), ((G)), ((A)), ((A...\n",
      "ffeae2fdd8c2c7b1d1c1c1d7a33944c8    (((T)), ((G)), ((G)), ((G)), ((G)), ((A)), ((A...\n",
      "fff0ea2bfed7ded0d6e2d0b6db49329e    (((T)), ((G)), ((G)), ((G)), ((G)), ((A)), ((A...\n",
      "Length: 2403, dtype: object, 'table': 2403 x 44 <class 'biom.table.Table'> with 6331 nonzero entries (5% dense)}\n"
     ]
    },
    {
     "name": "stdout",
     "output_type": "stream",
     "text": [
      "{'metadata': None, 'where': None, 'exclude_ids': False, 'data': 00467836d98f063b17a325cd51d97330    (((T)), ((G)), ((G)), ((G)), ((G)), ((A)), ((A...\n",
      "0053504a75cbad644658d68e0d32aa7e    (((T)), ((G)), ((G)), ((G)), ((G)), ((A)), ((A...\n",
      "0060fd12eeb7e0c9151ed9bd939ec2ab    (((T)), ((G)), ((G)), ((G)), ((G)), ((A)), ((A...\n",
      "00aa928d554b4d273a8c64786d4912dd    (((T)), ((G)), ((G)), ((G)), ((G)), ((A)), ((A...\n",
      "00b396f20b86b3eb437d46d5d41ecca4    (((T)), ((T)), ((A)), ((G)), ((G)), ((A)), ((A...\n",
      "                                                          ...                        \n",
      "ffb2262b8183655d421ec92b0c76fb7f    (((T)), ((G)), ((G)), ((G)), ((G)), ((A)), ((A...\n",
      "ffcebd381e84cfe83cdacd5f6a6c25b4    (((G)), ((C)), ((G)), ((C)), ((G)), ((A)), ((A...\n",
      "ffd728469d288c1ecdb32ff2bbc18598    (((T)), ((G)), ((A)), ((G)), ((G)), ((A)), ((A...\n",
      "ffeae2fdd8c2c7b1d1c1c1d7a33944c8    (((T)), ((G)), ((G)), ((G)), ((G)), ((A)), ((A...\n",
      "fff0ea2bfed7ded0d6e2d0b6db49329e    (((T)), ((G)), ((G)), ((G)), ((G)), ((A)), ((A...\n",
      "Length: 2403, dtype: object, 'table': 2403 x 44 <class 'biom.table.Table'> with 6331 nonzero entries (5% dense)}\n"
     ]
    }
   ],
   "source": [
    "# Filter FeatureTable[Frequency | RelativeFrequency | PresenceAbsence | Composition] based on Metadata sample ID values\n",
    "tabs = filter_samples(\n",
    "    table=tabs,\n",
    "    metadata=metadata_qa,\n",
    ").filtered_table\n",
    "# Filter SampleData[SequencesWithQuality | PairedEndSequencesWithQuality | JoinedSequencesWithQuality] based on Metadata sample ID values; returns FeatureData[Sequence | AlignedSequence]\n",
    "reps = filter_seqs(\n",
    "    data=reps,\n",
    "    table=tabs,\n",
    ").filtered_data"
   ]
  },
  {
   "cell_type": "markdown",
   "id": "9f43843a",
   "metadata": {
    "ExecuteTime": {
     "end_time": "2022-09-22T22:48:07.523952Z",
     "start_time": "2022-09-22T22:48:07.517565Z"
    },
    "papermill": {
     "duration": 0.09625,
     "end_time": "2023-09-06T23:14:26.463136",
     "exception": false,
     "start_time": "2023-09-06T23:14:26.366886",
     "status": "completed"
    },
    "tags": []
   },
   "source": [
    "## Alpha diversity analysis\n",
    "\n",
    "#### Reference\n",
    "- [The Use and Types of Alpha-Diversity Metrics in Microbial NGS](https://www.cd-genomics.com/microbioseq/the-use-and-types-of-alpha-diversity-metrics-in-microbial-ngs.html)\n",
    "- [Alpha diversity metrics](http://scikit-bio.org/docs/0.2.0/generated/skbio.diversity.alpha.html)\n",
    "\n",
    "#### Methods\n",
    "- [diversity alpha](https://docs.qiime2.org/2022.8/plugins/available/diversity/alpha/): Computes a user-specified alpha diversity metric for all samples in a\n",
    "feature table.\n",
    "- [diversity alpha_phylogenetic](https://docs.qiime2.org/2022.8/plugins/available/diversity/alpha-phylogenetic/): Computes a user-specified phylogenetic alpha diversity metric for all\n",
    "samples in a feature table.\n",
    "- [diversity alpha_correlation](https://docs.qiime2.org/2022.8/plugins/available/diversity/alpha-correlation/): Determine whether numeric sample metadata columns are correlated with alpha diversity.\n",
    "- [diversity alpha_group_significance](https://docs.qiime2.org/2022.8/plugins/available/diversity/alpha-group-significance/): Visually and statistically compare groups of alpha diversity values."
   ]
  },
  {
   "cell_type": "markdown",
   "id": "606b9c75",
   "metadata": {
    "papermill": {
     "duration": 0.021628,
     "end_time": "2023-09-06T23:14:26.583322",
     "exception": false,
     "start_time": "2023-09-06T23:14:26.561694",
     "status": "completed"
    },
    "tags": []
   },
   "source": [
    "### Compute Alpha Diversity vectors\n",
    "- [diversity alpha](https://docs.qiime2.org/2022.8/plugins/available/diversity/alpha/): Computes a user-specified alpha diversity metric for all samples in a feature table.\n",
    "- [Alpha diversity metrics](http://scikit-bio.org/docs/0.2.0/generated/skbio.diversity.alpha.html)\n",
    " - Choices: ('ace', 'berger_parker_d', 'brillouin_d', 'chao1', 'chao1_ci', 'dominance', 'doubles', 'enspie', 'esty_ci', 'fisher_alpha', 'gini_index', 'goods_coverage', 'heip_e', 'kempton_taylor_q', 'lladser_pe', 'margalef', 'mcintosh_d', 'mcintosh_e', 'menhinick', 'michaelis_menten_fit', 'observed_features', 'osd', 'pielou_e', 'robbins', 'shannon', 'simpson', 'simpson_e', 'singles', 'strong')"
   ]
  },
  {
   "cell_type": "code",
   "execution_count": 9,
   "id": "556e5264",
   "metadata": {
    "ExecuteTime": {
     "end_time": "2022-09-29T20:54:20.790166Z",
     "start_time": "2022-09-29T20:54:20.451134Z"
    },
    "execution": {
     "iopub.execute_input": "2023-09-06T23:14:26.625968Z",
     "iopub.status.busy": "2023-09-06T23:14:26.625635Z",
     "iopub.status.idle": "2023-09-06T23:14:27.189265Z",
     "shell.execute_reply": "2023-09-06T23:14:27.188381Z"
    },
    "papermill": {
     "duration": 0.587876,
     "end_time": "2023-09-06T23:14:27.192085",
     "exception": false,
     "start_time": "2023-09-06T23:14:26.604209",
     "status": "completed"
    },
    "tags": []
   },
   "outputs": [
    {
     "name": "stdout",
     "output_type": "stream",
     "text": [
      "Calculating alpha diversity: chao1\n",
      "{'metric': 'chao1', 'table': <artifact: FeatureTable[Frequency] uuid: b8c70aab-e476-498b-9b85-38d174c191e2>}\n",
      "{'metric': 'chao1', 'table': 2403 x 44 <class 'biom.table.Table'> with 6331 nonzero entries (5% dense)}\n",
      "{'metric': 'chao1', 'table': 2403 x 44 <class 'biom.table.Table'> with 6331 nonzero entries (5% dense)}\n",
      "DONE: Calculating alpha diversity: chao1\n",
      "Calculating alpha diversity: chao1_ci\n",
      "{'metric': 'chao1_ci', 'table': <artifact: FeatureTable[Frequency] uuid: b8c70aab-e476-498b-9b85-38d174c191e2>}\n",
      "{'metric': 'chao1_ci', 'table': 2403 x 44 <class 'biom.table.Table'> with 6331 nonzero entries (5% dense)}\n",
      "{'metric': 'chao1_ci', 'table': 2403 x 44 <class 'biom.table.Table'> with 6331 nonzero entries (5% dense)}\n",
      "DONE: Calculating alpha diversity: chao1_ci\n",
      "Calculating alpha diversity: observed_features\n",
      "{'metric': 'observed_features', 'table': <artifact: FeatureTable[Frequency] uuid: b8c70aab-e476-498b-9b85-38d174c191e2>}\n",
      "{'table': 2403 x 44 <class 'biom.table.Table'> with 6331 nonzero entries (5% dense)}\n",
      "{'table': 2403 x 44 <class 'biom.table.Table'> with 6331 nonzero entries (5% dense)}\n"
     ]
    },
    {
     "name": "stdout",
     "output_type": "stream",
     "text": [
      "DONE: Calculating alpha diversity: observed_features\n",
      "Calculating alpha diversity: shannon\n",
      "{'metric': 'shannon', 'table': <artifact: FeatureTable[Frequency] uuid: b8c70aab-e476-498b-9b85-38d174c191e2>}\n",
      "{'drop_undefined_samples': False, 'table': 2403 x 44 <class 'biom.table.Table'> with 6331 nonzero entries (5% dense)}\n",
      "{'drop_undefined_samples': False, 'table': 2403 x 44 <class 'biom.table.Table'> with 6331 nonzero entries (5% dense)}\n",
      "DONE: Calculating alpha diversity: shannon\n",
      "Calculating alpha diversity: simpson\n",
      "{'metric': 'simpson', 'table': <artifact: FeatureTable[Frequency] uuid: b8c70aab-e476-498b-9b85-38d174c191e2>}\n",
      "{'metric': 'simpson', 'table': 2403 x 44 <class 'biom.table.Table'> with 6331 nonzero entries (5% dense)}\n",
      "{'metric': 'simpson', 'table': 2403 x 44 <class 'biom.table.Table'> with 6331 nonzero entries (5% dense)}\n",
      "DONE: Calculating alpha diversity: simpson\n",
      "Calculating alpha diversity: simpson_e\n",
      "{'metric': 'simpson_e', 'table': <artifact: FeatureTable[Frequency] uuid: b8c70aab-e476-498b-9b85-38d174c191e2>}\n"
     ]
    },
    {
     "name": "stdout",
     "output_type": "stream",
     "text": [
      "{'metric': 'simpson_e', 'table': 2403 x 44 <class 'biom.table.Table'> with 6331 nonzero entries (5% dense)}\n",
      "{'metric': 'simpson_e', 'table': 2403 x 44 <class 'biom.table.Table'> with 6331 nonzero entries (5% dense)}\n",
      "DONE: Calculating alpha diversity: simpson_e\n"
     ]
    }
   ],
   "source": [
    "metrics = ('ace', 'berger_parker_d', 'brillouin_d', 'chao1', 'chao1_ci', 'dominance', 'doubles', 'enspie', 'esty_ci', 'fisher_alpha', 'gini_index', 'goods_coverage', 'heip_e', 'kempton_taylor_q', 'lladser_pe', 'margalef', 'mcintosh_d', 'mcintosh_e', 'menhinick', 'michaelis_menten_fit', 'observed_features', 'osd', 'pielou_e', 'robbins', 'shannon', 'simpson', 'simpson_e', 'singles', 'strong')\n",
    "\n",
    "# Sugestão de valores para Alpha diversity\n",
    "# chao1 e observed_features (riqueza); shannon e simpson (diversidade - que levam em consideração riqueza e equitabilidade).\n",
    "metrics = ('chao1', 'chao1_ci', 'observed_features', 'shannon', 'simpson', 'simpson_e')\n",
    "alpha_diversities = dict()\n",
    "for metric in metrics:\n",
    "    print(f\"Calculating alpha diversity: {metric}\")\n",
    "    try:\n",
    "        alpha_diversity = alpha(table=tabs, metric=metric).alpha_diversity\n",
    "        alpha_diversities[metric] = alpha_diversity\n",
    "        # Save SampleData[AlphaDiversity] Artifact\n",
    "        file_path = os.path.join(alpha_path, f'alpha-values-{metric}.qza')\n",
    "        alpha_diversity.save(file_path)\n",
    "        print(f\"DONE: Calculating alpha diversity: {metric}\")\n",
    "    except Exception as e:\n",
    "        print(f\"ERROR: Calculating alpha diversity: {metric}\")\n",
    "        print(e)"
   ]
  },
  {
   "cell_type": "markdown",
   "id": "184bcb7b",
   "metadata": {
    "papermill": {
     "duration": 0.027061,
     "end_time": "2023-09-06T23:14:27.243521",
     "exception": false,
     "start_time": "2023-09-06T23:14:27.216460",
     "status": "completed"
    },
    "tags": []
   },
   "source": [
    "### Create Phylogenetic inference\n",
    "\n",
    "- [alignment align_to_tree_mafft_fasttree](https://docs.qiime2.org/2022.8/plugins/available/phylogeny/align-to-tree-mafft-fasttree/): Build a phylogenetic tree using fasttree and mafft alignment\n",
    "\n",
    "This pipeline will start by creating a sequence alignment using MAFFT,\n",
    "after which any alignment columns that are phylogenetically uninformative\n",
    "or ambiguously aligned will be removed (masked). The resulting masked\n",
    "alignment will be used to infer a phylogenetic tree and then subsequently\n",
    "rooted at its midpoint. Output files from each step of the pipeline will be\n",
    "saved. This includes both the unmasked and masked MAFFT alignment from\n",
    "q2-alignment methods, and both the rooted and unrooted phylogenies from\n",
    "q2-phylogeny methods.\n",
    "\n",
    "\n",
    "Returns\n",
    "- alignment : FeatureData[AlignedSequence] : The aligned sequences.\n",
    "- masked_alignment : FeatureData[AlignedSequence] : The masked alignment.\n",
    "- tree : Phylogeny[Unrooted] : The unrooted phylogenetic tree.\n",
    "- rooted_tree : Phylogeny[Rooted] : The rooted phylogenetic tree."
   ]
  },
  {
   "cell_type": "code",
   "execution_count": 10,
   "id": "9c8cfe47",
   "metadata": {
    "ExecuteTime": {
     "end_time": "2022-09-29T20:54:35.139531Z",
     "start_time": "2022-09-29T20:54:20.792130Z"
    },
    "execution": {
     "iopub.execute_input": "2023-09-06T23:14:27.341404Z",
     "iopub.status.busy": "2023-09-06T23:14:27.341120Z",
     "iopub.status.idle": "2023-09-06T23:15:52.856139Z",
     "shell.execute_reply": "2023-09-06T23:15:52.855238Z"
    },
    "papermill": {
     "duration": 85.567591,
     "end_time": "2023-09-06T23:15:52.859110",
     "exception": false,
     "start_time": "2023-09-06T23:14:27.291519",
     "status": "completed"
    },
    "tags": []
   },
   "outputs": [
    {
     "name": "stdout",
     "output_type": "stream",
     "text": [
      "{'n_threads': 6, 'mask_max_gap_frequency': 1.0, 'mask_min_conservation': 0.4, 'parttree': False, 'sequences': <artifact: FeatureData[Sequence] uuid: 3f3325da-33f0-487c-a467-f2a98a7de75c>}\n",
      "{'n_threads': 6, 'parttree': False, 'sequences': <q2_types.feature_data._format.DNAFASTAFormat object at 0x7f634c4ac2b0>}\n",
      "{'n_threads': 6, 'parttree': False, 'sequences': <q2_types.feature_data._format.DNAFASTAFormat object at 0x7f634c4ac2b0>}\n",
      "Running external command line application. This may print messages to stdout and/or stderr.\n",
      "The command being run is below. This command cannot be manually re-run as it will depend on temporary files that no longer exist.\n",
      "\n",
      "Command: mafft --preservecase --inputorder --thread 6 /tmp/qiime2-archive-9psyjbp5/3f3325da-33f0-487c-a467-f2a98a7de75c/data/dna-sequences.fasta\n",
      "\n"
     ]
    },
    {
     "name": "stderr",
     "output_type": "stream",
     "text": [
      "inputfile = orig\n",
      "2403 x 467 - 24 d\n",
      "nthread = 6\n",
      "nthreadpair = 6\n",
      "nthreadtb = 6\n",
      "ppenalty_ex = 0\n",
      "stacksize: 8192 kb\n",
      "generating a scoring matrix for nucleotide (dist=200) ... done\n",
      "Gap Penalty = -1.53, +0.00, +0.00\n",
      "\n",
      "\n",
      "\n",
      "Making a distance matrix ..\n",
      "\r",
      "    1 / 2403 (thread    0)\r",
      "  101 / 2403 (thread    2)"
     ]
    },
    {
     "name": "stderr",
     "output_type": "stream",
     "text": [
      "\r",
      "  201 / 2403 (thread    1)\r",
      "  301 / 2403 (thread    5)\r",
      "  401 / 2403 (thread    1)"
     ]
    },
    {
     "name": "stderr",
     "output_type": "stream",
     "text": [
      "\r",
      "  501 / 2403 (thread    4)\r",
      "  601 / 2403 (thread    3)\r",
      "  701 / 2403 (thread    4)"
     ]
    },
    {
     "name": "stderr",
     "output_type": "stream",
     "text": [
      "\r",
      "  801 / 2403 (thread    5)\r",
      "  901 / 2403 (thread    5)\r",
      " 1001 / 2403 (thread    1)\r",
      " 1101 / 2403 (thread    0)\r",
      " 1201 / 2403 (thread    2)"
     ]
    },
    {
     "name": "stderr",
     "output_type": "stream",
     "text": [
      "\r",
      " 1301 / 2403 (thread    3)\r",
      " 1401 / 2403 (thread    5)\r",
      " 1501 / 2403 (thread    3)\r",
      " 1601 / 2403 (thread    0)\r",
      " 1701 / 2403 (thread    0)\r",
      " 1801 / 2403 (thread    2)\r",
      " 1901 / 2403 (thread    3)\r",
      " 2001 / 2403 (thread    1)\r",
      " 2101 / 2403 (thread    1)\r",
      " 2201 / 2403 (thread    4)"
     ]
    },
    {
     "name": "stderr",
     "output_type": "stream",
     "text": [
      "\r",
      " 2301 / 2403 (thread    3)\r",
      " 2401 / 2403 (thread    1)\n",
      "done.\n",
      "\n",
      "Constructing a UPGMA tree (efffree=0) ... \n",
      "\r",
      "    0 / 2403\r",
      "   10 / 2403\r",
      "   20 / 2403\r",
      "   30 / 2403\r",
      "   40 / 2403\r",
      "   50 / 2403\r",
      "   60 / 2403\r",
      "   70 / 2403\r",
      "   80 / 2403\r",
      "   90 / 2403\r",
      "  100 / 2403\r",
      "  110 / 2403\r",
      "  120 / 2403\r",
      "  130 / 2403\r",
      "  140 / 2403\r",
      "  150 / 2403\r",
      "  160 / 2403\r",
      "  170 / 2403\r",
      "  180 / 2403\r",
      "  190 / 2403\r",
      "  200 / 2403\r",
      "  210 / 2403\r",
      "  220 / 2403\r",
      "  230 / 2403\r",
      "  240 / 2403\r",
      "  250 / 2403\r",
      "  260 / 2403\r",
      "  270 / 2403\r",
      "  280 / 2403\r",
      "  290 / 2403\r",
      "  300 / 2403\r",
      "  310 / 2403\r",
      "  320 / 2403\r",
      "  330 / 2403\r",
      "  340 / 2403\r",
      "  350 / 2403\r",
      "  360 / 2403\r",
      "  370 / 2403\r",
      "  380 / 2403\r",
      "  390 / 2403\r",
      "  400 / 2403\r",
      "  410 / 2403\r",
      "  420 / 2403\r",
      "  430 / 2403\r",
      "  440 / 2403\r",
      "  450 / 2403\r",
      "  460 / 2403\r",
      "  470 / 2403\r",
      "  480 / 2403\r",
      "  490 / 2403\r",
      "  500 / 2403\r",
      "  510 / 2403\r",
      "  520 / 2403\r",
      "  530 / 2403\r",
      "  540 / 2403\r",
      "  550 / 2403\r",
      "  560 / 2403\r",
      "  570 / 2403\r",
      "  580 / 2403\r",
      "  590 / 2403\r",
      "  600 / 2403\r",
      "  610 / 2403\r",
      "  620 / 2403\r",
      "  630 / 2403\r",
      "  640 / 2403\r",
      "  650 / 2403\r",
      "  660 / 2403\r",
      "  670 / 2403"
     ]
    },
    {
     "name": "stderr",
     "output_type": "stream",
     "text": [
      "\r",
      "  680 / 2403\r",
      "  690 / 2403\r",
      "  700 / 2403\r",
      "  710 / 2403\r",
      "  720 / 2403\r",
      "  730 / 2403\r",
      "  740 / 2403\r",
      "  750 / 2403\r",
      "  760 / 2403\r",
      "  770 / 2403\r",
      "  780 / 2403\r",
      "  790 / 2403\r",
      "  800 / 2403\r",
      "  810 / 2403\r",
      "  820 / 2403\r",
      "  830 / 2403\r",
      "  840 / 2403\r",
      "  850 / 2403\r",
      "  860 / 2403\r",
      "  870 / 2403\r",
      "  880 / 2403\r",
      "  890 / 2403\r",
      "  900 / 2403\r",
      "  910 / 2403\r",
      "  920 / 2403\r",
      "  930 / 2403\r",
      "  940 / 2403\r",
      "  950 / 2403\r",
      "  960 / 2403\r",
      "  970 / 2403\r",
      "  980 / 2403\r",
      "  990 / 2403\r",
      " 1000 / 2403\r",
      " 1010 / 2403\r",
      " 1020 / 2403\r",
      " 1030 / 2403\r",
      " 1040 / 2403\r",
      " 1050 / 2403\r",
      " 1060 / 2403\r",
      " 1070 / 2403\r",
      " 1080 / 2403\r",
      " 1090 / 2403\r",
      " 1100 / 2403\r",
      " 1110 / 2403\r",
      " 1120 / 2403\r",
      " 1130 / 2403\r",
      " 1140 / 2403\r",
      " 1150 / 2403\r",
      " 1160 / 2403\r",
      " 1170 / 2403\r",
      " 1180 / 2403\r",
      " 1190 / 2403\r",
      " 1200 / 2403\r",
      " 1210 / 2403\r",
      " 1220 / 2403\r",
      " 1230 / 2403\r",
      " 1240 / 2403\r",
      " 1250 / 2403\r",
      " 1260 / 2403\r",
      " 1270 / 2403\r",
      " 1280 / 2403\r",
      " 1290 / 2403\r",
      " 1300 / 2403\r",
      " 1310 / 2403\r",
      " 1320 / 2403\r",
      " 1330 / 2403\r",
      " 1340 / 2403\r",
      " 1350 / 2403\r",
      " 1360 / 2403\r",
      " 1370 / 2403\r",
      " 1380 / 2403\r",
      " 1390 / 2403\r",
      " 1400 / 2403\r",
      " 1410 / 2403\r",
      " 1420 / 2403\r",
      " 1430 / 2403\r",
      " 1440 / 2403\r",
      " 1450 / 2403\r",
      " 1460 / 2403\r",
      " 1470 / 2403\r",
      " 1480 / 2403\r",
      " 1490 / 2403\r",
      " 1500 / 2403\r",
      " 1510 / 2403\r",
      " 1520 / 2403\r",
      " 1530 / 2403\r",
      " 1540 / 2403\r",
      " 1550 / 2403\r",
      " 1560 / 2403\r",
      " 1570 / 2403\r",
      " 1580 / 2403\r",
      " 1590 / 2403\r",
      " 1600 / 2403\r",
      " 1610 / 2403\r",
      " 1620 / 2403\r",
      " 1630 / 2403\r",
      " 1640 / 2403\r",
      " 1650 / 2403\r",
      " 1660 / 2403\r",
      " 1670 / 2403\r",
      " 1680 / 2403\r",
      " 1690 / 2403\r",
      " 1700 / 2403\r",
      " 1710 / 2403\r",
      " 1720 / 2403\r",
      " 1730 / 2403\r",
      " 1740 / 2403\r",
      " 1750 / 2403\r",
      " 1760 / 2403\r",
      " 1770 / 2403\r",
      " 1780 / 2403\r",
      " 1790 / 2403\r",
      " 1800 / 2403\r",
      " 1810 / 2403\r",
      " 1820 / 2403\r",
      " 1830 / 2403\r",
      " 1840 / 2403\r",
      " 1850 / 2403\r",
      " 1860 / 2403\r",
      " 1870 / 2403\r",
      " 1880 / 2403\r",
      " 1890 / 2403\r",
      " 1900 / 2403\r",
      " 1910 / 2403\r",
      " 1920 / 2403\r",
      " 1930 / 2403\r",
      " 1940 / 2403\r",
      " 1950 / 2403\r",
      " 1960 / 2403\r",
      " 1970 / 2403\r",
      " 1980 / 2403\r",
      " 1990 / 2403\r",
      " 2000 / 2403\r",
      " 2010 / 2403\r",
      " 2020 / 2403\r",
      " 2030 / 2403\r",
      " 2040 / 2403\r",
      " 2050 / 2403\r",
      " 2060 / 2403\r",
      " 2070 / 2403\r",
      " 2080 / 2403\r",
      " 2090 / 2403\r",
      " 2100 / 2403\r",
      " 2110 / 2403\r",
      " 2120 / 2403\r",
      " 2130 / 2403\r",
      " 2140 / 2403\r",
      " 2150 / 2403\r",
      " 2160 / 2403\r",
      " 2170 / 2403\r",
      " 2180 / 2403\r",
      " 2190 / 2403\r",
      " 2200 / 2403\r",
      " 2210 / 2403\r",
      " 2220 / 2403\r",
      " 2230 / 2403\r",
      " 2240 / 2403\r",
      " 2250 / 2403\r",
      " 2260 / 2403\r",
      " 2270 / 2403\r",
      " 2280 / 2403\r",
      " 2290 / 2403\r",
      " 2300 / 2403\r",
      " 2310 / 2403\r",
      " 2320 / 2403\r",
      " 2330 / 2403\r",
      " 2340 / 2403\r",
      " 2350 / 2403\r",
      " 2360 / 2403\r",
      " 2370 / 2403\r",
      " 2380 / 2403\r",
      " 2390 / 2403\r",
      " 2400 / 2403\n",
      "done.\n",
      "\n",
      "Progressive alignment 1/2... \n",
      "\r",
      "STEP     1 / 2402 (thread    3) f\b\b\r",
      "STEP     4 / 2402 (thread    2)\r",
      "STEP     5 / 2402 (thread    0) f\b\b f\b\b\r",
      "STEP     7 / 2402 (thread    0) f\b\b\r",
      "STEP     6 / 2402 (thread    5) f\b\b\r",
      "STEP     2 / 2402 (thread    4) f\b\b\r",
      "STEP     9 / 2402 (thread    2) f\b\b\r",
      "STEP     8 / 2402 (thread    3) f\b\b\r",
      "STEP     3 / 2402 (thread    1) f\b\b\r",
      "STEP    12 / 2402 (thread    3) f\b\b\r",
      "STEP    13 / 2402 (thread    3) f\b\b\r",
      "STEP    14 / 2402 (thread    3) f\b\b\r",
      "STEP    15 / 2402 (thread    3) f\b\b\r",
      "STEP    10 / 2402 (thread    0) f\b\b\r",
      "STEP    16 / 2402 (thread    2) f\b\b\r",
      "STEP    17 / 2402 (thread    5) f\b\b\r",
      "STEP    20 / 2402 (thread    5) f\b\b\r",
      "STEP    18 / 2402 (thread    1) f\b\b\r",
      "STEP    21 / 2402 (thread    0) f\b\b\r",
      "STEP    11 / 2402 (thread    4) f\b\b\r",
      "STEP    22 / 2402 (thread    5) f\b\b\r",
      "STEP    24 / 2402 (thread    4) f\b\b\r",
      "STEP    23 / 2402 (thread    3) f\b\b\r",
      "STEP    25 / 2402 (thread    5) f\b\b\r",
      "STEP    19 / 2402 (thread    2) f\b\b\r",
      "STEP    27 / 2402 (thread    1) f\b\b\r",
      "STEP    26 / 2402 (thread    0) f\b\b\r",
      "STEP    29 / 2402 (thread    3) f\b\b\r",
      "STEP    31 / 2402 (thread    1) f\b\b\r",
      "STEP    28 / 2402 (thread    5) f\b\b\r",
      "STEP    30 / 2402 (thread    4) f\b\b\r",
      "STEP    34 / 2402 (thread    1) f\b\b\r",
      "STEP    32 / 2402 (thread    3) f\b\b\r",
      "STEP    35 / 2402 (thread    1) f\b\b\r",
      "STEP    37 / 2402 (thread    1) f\b\b\r",
      "STEP    36 / 2402 (thread    2) f\b\b\r",
      "STEP    40 / 2402 (thread    1) f\b\b\r",
      "STEP    38 / 2402 (thread    5) f\b\b\r",
      "STEP    41 / 2402 (thread    1) f\b\b\r",
      "STEP    42 / 2402 (thread    1) f\b\b\r",
      "STEP    43 / 2402 (thread    2) f\b\b\r",
      "STEP    44 / 2402 (thread    2) f\b\b\r",
      "STEP    45 / 2402 (thread    5) f\b\b\r",
      "STEP    39 / 2402 (thread    4) f\b\b\r",
      "STEP    47 / 2402 (thread    1) f\b\b\r",
      "STEP    48 / 2402 (thread    3) f\b\b\r",
      "STEP    33 / 2402 (thread    0) f\b\b\r",
      "STEP    49 / 2402 (thread    1) f\b\b\r",
      "STEP    50 / 2402 (thread    3) f\b\b\r",
      "STEP    51 / 2402 (thread    5) f\b\b\r",
      "STEP    46 / 2402 (thread    2) f\b\b\r",
      "STEP    52 / 2402 (thread    1) f\b\b\r",
      "STEP    53 / 2402 (thread    5) f\b\b\r",
      "STEP    54 / 2402 (thread    3) f\b\b\r",
      "STEP    56 / 2402 (thread    1) f\b\b\r",
      "STEP    59 / 2402 (thread    3) f\b\b\r",
      "STEP    55 / 2402 (thread    4) f\b\b\r",
      "STEP    61 / 2402 (thread    3) f\b\b\r",
      "STEP    60 / 2402 (thread    2) f\b\b\r",
      "STEP    63 / 2402 (thread    1) f\b\b\r",
      "STEP    57 / 2402 (thread    5) f\b\b\r",
      "STEP    64 / 2402 (thread    1) f\b\b\r",
      "STEP    62 / 2402 (thread    4) f\b\b\r",
      "STEP    65 / 2402 (thread    3) f\b\b\r",
      "STEP    58 / 2402 (thread    0) f\b\b\r",
      "STEP    69 / 2402 (thread    4) f\b\b\r",
      "STEP    70 / 2402 (thread    4) f\b\b\r",
      "STEP    71 / 2402 (thread    0) f\b\b\r",
      "STEP    72 / 2402 (thread    4) f\b\b\r",
      "STEP    74 / 2402 (thread    4) f\b\b\r",
      "STEP    73 / 2402 (thread    0) f\b\b\r",
      "STEP    66 / 2402 (thread    2) f\b\b\r",
      "STEP    76 / 2402 (thread    4)\r",
      "STEP    75 / 2402 (thread    3) f\b\b f\b\b\r",
      "STEP    77 / 2402 (thread    4) f\b\b\r",
      "STEP    67 / 2402 (thread    1) f\b\b\r",
      "STEP    79 / 2402 (thread    2) f\b\b\r",
      "STEP    80 / 2402 (thread    4) f\b\b\r",
      "STEP    78 / 2402 (thread    3) f\b\b\r",
      "STEP    82 / 2402 (thread    2) f\b\b\r",
      "STEP    83 / 2402 (thread    4) f\b\b\r",
      "STEP    81 / 2402 (thread    0) f\b\b\r",
      "STEP    84 / 2402 (thread    2) f\b\b\r",
      "STEP    85 / 2402 (thread    1) f\b\b\r",
      "STEP    68 / 2402 (thread    5) f\b\b\r",
      "STEP    86 / 2402 (thread    4) f\b\b\r",
      "STEP    87 / 2402 (thread    3) f\b\b\r",
      "STEP    88 / 2402 (thread    3) f\b\b\r",
      "STEP    89 / 2402 (thread    2) f\b\b\r",
      "STEP    90 / 2402 (thread    4) f\b\b\r",
      "STEP    91 / 2402 (thread    4) f\b\b\r",
      "STEP    92 / 2402 (thread    1) f\b\b\r",
      "STEP    93 / 2402 (thread    2) f\b\b\r",
      "STEP    95 / 2402 (thread    3) f\b\b\r",
      "STEP    96 / 2402 (thread    2) f\b\b\r",
      "STEP    94 / 2402 (thread    4) f\b\b\r",
      "STEP    97 / 2402 (thread    1) f\b\b\r",
      "STEP    98 / 2402 (thread    3) f\b\b\r",
      "STEP    99 / 2402 (thread    5) f\b\b\r",
      "STEP   100 / 2402 (thread    3) f\b\b\r",
      "STEP   101 / 2402 (thread    2) f\b\b\r",
      "STEP   102 / 2402 (thread    4) f\b\b\r",
      "STEP   103 / 2402 (thread    3) f\b\b\r",
      "STEP   107 / 2402 (thread    3) f\b\b\r",
      "STEP   104 / 2402 (thread    1) f\b\b\r",
      "STEP   108 / 2402 (thread    2) f\b\b\r",
      "STEP   109 / 2402 (thread    3) f\b\b\r",
      "STEP   111 / 2402 (thread    1) f\b\b\r",
      "STEP   105 / 2402 (thread    4) f\b\b\r",
      "STEP   110 / 2402 (thread    0) f\b\b\r",
      "STEP   112 / 2402 (thread    3) f\b\b\r",
      "STEP   113 / 2402 (thread    2) f\b\b\r",
      "STEP   106 / 2402 (thread    5) f\b\b\r",
      "STEP   116 / 2402 (thread    3) f\b\b\r",
      "STEP   117 / 2402 (thread    0) f\b\b\r",
      "STEP   118 / 2402 (thread    2) f\b\b\r",
      "STEP   114 / 2402 (thread    1) f\b\b\r",
      "STEP   119 / 2402 (thread    5) f\b\b\r",
      "STEP   121 / 2402 (thread    0) f\b\b\r",
      "STEP   120 / 2402 (thread    3) f\b\b\r",
      "STEP   122 / 2402 (thread    5) f\b\b\r",
      "STEP   123 / 2402 (thread    2) f\b\b\r",
      "STEP   124 / 2402 (thread    5) f\b\b\r",
      "STEP   125 / 2402 (thread    0) f\b\b\r",
      "STEP   126 / 2402 (thread    1) f\b\b\r",
      "STEP   115 / 2402 (thread    4) f\b\b\r",
      "STEP   127 / 2402 (thread    3) f\b\b\r",
      "STEP   128 / 2402 (thread    5) f\b\b\r",
      "STEP   129 / 2402 (thread    0) f\b\b\r",
      "STEP   130 / 2402 (thread    2) f\b\b\r",
      "STEP   131 / 2402 (thread    5) f\b\b\r",
      "STEP   132 / 2402 (thread    4) f\b\b\r",
      "STEP   133 / 2402 (thread    3) f\b\b\r",
      "STEP   134 / 2402 (thread    1) f\b\b\r",
      "STEP   135 / 2402 (thread    0) f\b\b\r",
      "STEP   136 / 2402 (thread    3) f\b\b\r",
      "STEP   137 / 2402 (thread    4) f\b\b\r",
      "STEP   138 / 2402 (thread    2) f\b\b\r",
      "STEP   139 / 2402 (thread    5) f\b\b\r",
      "STEP   140 / 2402 (thread    1) f\b\b\r",
      "STEP   143 / 2402 (thread    2) f\b\b\r",
      "STEP   144 / 2402 (thread    0) f\b\b\r",
      "STEP   145 / 2402 (thread    5) f\b\b\r",
      "STEP   146 / 2402 (thread    1) f\b\b\r",
      "STEP   141 / 2402 (thread    3) f\b\b\r",
      "STEP   147 / 2402 (thread    2) f\b\b\r",
      "STEP   148 / 2402 (thread    0) f\b\b\r",
      "STEP   149 / 2402 (thread    5) f\b\b\r",
      "STEP   150 / 2402 (thread    1) f\b\b\r",
      "STEP   151 / 2402 (thread    3) f\b\b\r",
      "STEP   142 / 2402 (thread    4) f\b\b\r",
      "STEP   152 / 2402 (thread    2) f\b\b\r",
      "STEP   153 / 2402 (thread    0) f\b\b\r",
      "STEP   154 / 2402 (thread    5) f\b\b\r",
      "STEP   155 / 2402 (thread    3) f\b\b\r",
      "STEP   157 / 2402 (thread    5) f\b\b\r",
      "STEP   158 / 2402 (thread    4) f\b\b\r",
      "STEP   159 / 2402 (thread    3) f\b\b\r",
      "STEP   156 / 2402 (thread    1) f\b\b\r",
      "STEP   160 / 2402 (thread    2) f\b\b\r",
      "STEP   161 / 2402 (thread    4) f\b\b\r",
      "STEP   162 / 2402 (thread    0) f\b\b\r",
      "STEP   163 / 2402 (thread    3) f\b\b\r",
      "STEP   164 / 2402 (thread    5) f\b\b\r",
      "STEP   165 / 2402 (thread    5) f\b\b\r",
      "STEP   166 / 2402 (thread    4) f\b\b\r",
      "STEP   167 / 2402 (thread    1) f\b\b\r",
      "STEP   168 / 2402 (thread    3) f\b\b\r",
      "STEP   169 / 2402 (thread    0) f\b\b\r",
      "STEP   170 / 2402 (thread    2) f\b\b\r",
      "STEP   171 / 2402 (thread    4) f\b\b\r",
      "STEP   172 / 2402 (thread    5) f\b\b\r",
      "STEP   173 / 2402 (thread    3) f\b\b\r",
      "STEP   174 / 2402 (thread    1) f\b\b\r",
      "STEP   175 / 2402 (thread    0) f\b\b\r",
      "STEP   176 / 2402 (thread    4) f\b\b\r",
      "STEP   177 / 2402 (thread    3) f\b\b\r",
      "STEP   178 / 2402 (thread    5) f\b\b\r",
      "STEP   179 / 2402 (thread    2) f\b\b\r",
      "STEP   180 / 2402 (thread    0) f\b\b\r",
      "STEP   181 / 2402 (thread    3) f\b\b\r",
      "STEP   182 / 2402 (thread    5) f\b\b\r",
      "STEP   184 / 2402 (thread    4) f\b\b\r",
      "STEP   185 / 2402 (thread    5) f\b\b\r",
      "STEP   183 / 2402 (thread    1) f\b\b\r",
      "STEP   186 / 2402 (thread    2) f\b\b\r",
      "STEP   187 / 2402 (thread    3) f\b\b\r",
      "STEP   188 / 2402 (thread    0) f\b\b\r",
      "STEP   189 / 2402 (thread    4) f\b\b\r",
      "STEP   190 / 2402 (thread    3) f\b\b\r",
      "STEP   191 / 2402 (thread    2) f\b\b\r",
      "STEP   192 / 2402 (thread    4) f\b\b\r",
      "STEP   193 / 2402 (thread    1) f\b\b\r",
      "STEP   194 / 2402 (thread    0) f\b\b\r",
      "STEP   195 / 2402 (thread    5) f\b\b\r",
      "STEP   196 / 2402 (thread    3) f\b\b\r",
      "STEP   197 / 2402 (thread    4) f\b\b\r",
      "STEP   198 / 2402 (thread    2) f\b\b\r",
      "STEP   199 / 2402 (thread    0) f\b\b\r",
      "STEP   200 / 2402 (thread    5) f\b\b\r",
      "STEP   201 / 2402 (thread    4) f\b\b\r",
      "STEP   202 / 2402 (thread    3) f\b\b\r",
      "STEP   203 / 2402 (thread    1) f\b\b\r",
      "STEP   204 / 2402 (thread    2) f\b\b\r",
      "STEP   205 / 2402 (thread    4) f\b\b\r",
      "STEP   206 / 2402 (thread    3) f\b\b\r",
      "STEP   207 / 2402 (thread    0) f\b\b\r",
      "STEP   208 / 2402 (thread    5) f\b\b\r",
      "STEP   209 / 2402 (thread    1) f\b\b\r",
      "STEP   210 / 2402 (thread    4) f\b\b\r",
      "STEP   211 / 2402 (thread    3) f\b\b\r",
      "STEP   212 / 2402 (thread    2) f\b\b\r",
      "STEP   213 / 2402 (thread    0) f\b\b\r",
      "STEP   214 / 2402 (thread    3) f\b\b\r",
      "STEP   215 / 2402 (thread    4) f\b\b\r",
      "STEP   216 / 2402 (thread    2) f\b\b\r",
      "STEP   217 / 2402 (thread    1) f\b\b\r",
      "STEP   218 / 2402 (thread    4) f\b\b\r",
      "STEP   219 / 2402 (thread    3) f\b\b\r",
      "STEP   220 / 2402 (thread    5) f\b\b\r",
      "STEP   221 / 2402 (thread    0) f\b\b\r",
      "STEP   222 / 2402 (thread    4) f\b\b\r",
      "STEP   223 / 2402 (thread    3) f\b\b\r",
      "STEP   224 / 2402 (thread    1) f\b\b\r",
      "STEP   225 / 2402 (thread    2) f\b\b\r",
      "STEP   226 / 2402 (thread    4) f\b\b\r",
      "STEP   227 / 2402 (thread    5) f\b\b\r",
      "STEP   228 / 2402 (thread    3) f\b\b\r",
      "STEP   229 / 2402 (thread    0) f\b\b\r",
      "STEP   230 / 2402 (thread    3) f\b\b\r",
      "STEP   231 / 2402 (thread    4) f\b\b\r",
      "STEP   232 / 2402 (thread    3) f\b\b\r",
      "STEP   233 / 2402 (thread    1) f\b\b\r",
      "STEP   234 / 2402 (thread    2) f\b\b\r",
      "STEP   235 / 2402 (thread    0) f\b\b\r",
      "STEP   236 / 2402 (thread    4) f\b\b\r",
      "STEP   237 / 2402 (thread    1) f\b\b\r",
      "STEP   238 / 2402 (thread    5) f\b\b\r",
      "STEP   239 / 2402 (thread    3) f\b\b\r",
      "STEP   240 / 2402 (thread    2) f\b\b\n",
      "Reallocating..done. *alloclen = 2035\n",
      "\r",
      "STEP   241 / 2402 (thread    4) f\b\b\r",
      "STEP   242 / 2402 (thread    5) f\b\b\r",
      "STEP   243 / 2402 (thread    3) f\b\b\r",
      "STEP   244 / 2402 (thread    1) f\b\b\r",
      "STEP   245 / 2402 (thread    0) f\b\b\r",
      "STEP   246 / 2402 (thread    4) f\b\b\r",
      "STEP   247 / 2402 (thread    3) f\b\b\r",
      "STEP   248 / 2402 (thread    2) f\b\b\r",
      "STEP   249 / 2402 (thread    3) f\b\b\r",
      "STEP   250 / 2402 (thread    4) f\b\b\r",
      "STEP   251 / 2402 (thread    5) f\b\b\r",
      "STEP   252 / 2402 (thread    1) f\b\b\r",
      "STEP   253 / 2402 (thread    0) f\b\b\r",
      "STEP   254 / 2402 (thread    3) f\b\b\r",
      "STEP   255 / 2402 (thread    4) f\b\b\r",
      "STEP   256 / 2402 (thread    2) f\b\b\r",
      "STEP   257 / 2402 (thread    0) f\b\b\r",
      "STEP   258 / 2402 (thread    5) f\b\b\r",
      "STEP   259 / 2402 (thread    1) f\b\b\r",
      "STEP   260 / 2402 (thread    4)\r",
      "STEP   261 / 2402 (thread    3) f\b\b f\b\b\r",
      "STEP   262 / 2402 (thread    4) f\b\b\r",
      "STEP   263 / 2402 (thread    2) f\b\b\r",
      "STEP   264 / 2402 (thread    3) f\b\b\r",
      "STEP   265 / 2402 (thread    1) f\b\b\r",
      "STEP   266 / 2402 (thread    0) f\b\b\r",
      "STEP   267 / 2402 (thread    5) f\b\b\r",
      "STEP   268 / 2402 (thread    4) f\b\b\r",
      "STEP   269 / 2402 (thread    3) f\b\b\r",
      "STEP   270 / 2402 (thread    4) f\b\b\r",
      "STEP   271 / 2402 (thread    2) f\b\b\r",
      "STEP   272 / 2402 (thread    1) f\b\b\r",
      "STEP   273 / 2402 (thread    0) f\b\b\r",
      "STEP   274 / 2402 (thread    3) f\b\b\r",
      "STEP   275 / 2402 (thread    5) f\b\b\r",
      "STEP   276 / 2402 (thread    4) f\b\b\r",
      "STEP   277 / 2402 (thread    3) f\b\b\r",
      "STEP   278 / 2402 (thread    2) f\b\b\r",
      "STEP   279 / 2402 (thread    1) f\b\b\r",
      "STEP   280 / 2402 (thread    0) f\b\b\r",
      "STEP   281 / 2402 (thread    5) f\b\b\r",
      "STEP   282 / 2402 (thread    4) f\b\b\r",
      "STEP   283 / 2402 (thread    3) f\b\b\r",
      "STEP   284 / 2402 (thread    4) f\b\b\r",
      "STEP   285 / 2402 (thread    3) f\b\b\r",
      "STEP   286 / 2402 (thread    2) f\b\b\r",
      "STEP   287 / 2402 (thread    1) f\b\b\r",
      "STEP   288 / 2402 (thread    0) f\b\b"
     ]
    },
    {
     "name": "stderr",
     "output_type": "stream",
     "text": [
      "\r",
      "STEP   289 / 2402 (thread    5) f\b\b\r",
      "STEP   290 / 2402 (thread    4) f\b\b\r",
      "STEP   291 / 2402 (thread    2) f\b\b\r",
      "STEP   292 / 2402 (thread    3) f\b\b\r",
      "STEP   293 / 2402 (thread    4) f\b\b\r",
      "STEP   294 / 2402 (thread    1) f\b\b\r",
      "STEP   295 / 2402 (thread    0) f\b\b\r",
      "STEP   296 / 2402 (thread    3) f\b\b\r",
      "STEP   297 / 2402 (thread    5) f\b\b\r",
      "STEP   298 / 2402 (thread    4) f\b\b\r",
      "STEP   299 / 2402 (thread    2) f\b\b\r",
      "STEP   300 / 2402 (thread    3) f\b\b\r",
      "STEP   301 / 2402 (thread    4) f\b\b\r",
      "STEP   302 / 2402 (thread    5) f\b\b\r",
      "STEP   303 / 2402 (thread    1) f\b\b\r",
      "STEP   304 / 2402 (thread    0) f\b\b\r",
      "STEP   305 / 2402 (thread    3) f\b\b\r",
      "STEP   306 / 2402 (thread    4) f\b\b\r",
      "STEP   307 / 2402 (thread    5) f\b\b\r",
      "STEP   308 / 2402 (thread    2) f\b\b\r",
      "STEP   309 / 2402 (thread    1) f\b\b\r",
      "STEP   310 / 2402 (thread    4) f\b\b\r",
      "STEP   311 / 2402 (thread    3) f\b\b\r",
      "STEP   312 / 2402 (thread    5) f\b\b\r",
      "STEP   313 / 2402 (thread    0) f\b\b\r",
      "STEP   314 / 2402 (thread    1) f\b\b\r",
      "STEP   315 / 2402 (thread    4) f\b\b\r",
      "STEP   316 / 2402 (thread    3) f\b\b\r",
      "STEP   317 / 2402 (thread    2) f\b\b\r",
      "STEP   318 / 2402 (thread    3) f\b\b\r",
      "STEP   319 / 2402 (thread    0) f\b\b\r",
      "STEP   320 / 2402 (thread    3) f\b\b\r",
      "STEP   321 / 2402 (thread    5) f\b\b\r",
      "STEP   322 / 2402 (thread    4) f\b\b\r",
      "STEP   323 / 2402 (thread    4) f\b\b\r",
      "STEP   324 / 2402 (thread    2) f\b\b\r",
      "STEP   325 / 2402 (thread    3) f\b\b\r",
      "STEP   326 / 2402 (thread    4) f\b\b\r",
      "STEP   327 / 2402 (thread    3) f\b\b\r",
      "STEP   328 / 2402 (thread    0) f\b\b\r",
      "STEP   329 / 2402 (thread    5) f\b\b\r",
      "STEP   330 / 2402 (thread    1) f\b\b\r",
      "STEP   331 / 2402 (thread    4) f\b\b\r",
      "STEP   332 / 2402 (thread    5) f\b\b\r",
      "STEP   333 / 2402 (thread    0) f\b\b\r",
      "STEP   334 / 2402 (thread    3) f\b\b\r",
      "STEP   335 / 2402 (thread    4) f\b\b\r",
      "STEP   336 / 2402 (thread    3) f\b\b\r",
      "STEP   337 / 2402 (thread    4) f\b\b\r",
      "STEP   338 / 2402 (thread    0) f\b\b\r",
      "STEP   339 / 2402 (thread    0) f\b\b\r",
      "STEP   340 / 2402 (thread    2) f\b\b\r",
      "STEP   341 / 2402 (thread    3) f\b\b\r",
      "STEP   342 / 2402 (thread    1) f\b\b\r",
      "STEP   343 / 2402 (thread    2) f\b\b\r",
      "STEP   344 / 2402 (thread    4) f\b\b\r",
      "STEP   345 / 2402 (thread    0) f\b\b\r",
      "STEP   346 / 2402 (thread    5) f\b\b\r",
      "STEP   347 / 2402 (thread    3) f\b\b\r",
      "STEP   348 / 2402 (thread    3) f\b\b\r",
      "STEP   349 / 2402 (thread    5) f\b\b\r",
      "STEP   350 / 2402 (thread    0) f\b\b\r",
      "STEP   351 / 2402 (thread    1) f\b\b\r",
      "STEP   352 / 2402 (thread    4) f\b\b\r",
      "STEP   353 / 2402 (thread    2) f\b\b\r",
      "STEP   354 / 2402 (thread    3) f\b\b\r",
      "STEP   355 / 2402 (thread    0) f\b\b\r",
      "STEP   356 / 2402 (thread    1) f\b\b\r",
      "STEP   357 / 2402 (thread    3) f\b\b\r",
      "STEP   358 / 2402 (thread    4) f\b\b\r",
      "STEP   359 / 2402 (thread    2) f\b\b\r",
      "STEP   360 / 2402 (thread    3) f\b\b\r",
      "STEP   361 / 2402 (thread    5) f\b\b\r",
      "STEP   362 / 2402 (thread    1) f\b\b\r",
      "STEP   364 / 2402 (thread    2) f\b\b\r",
      "STEP   365 / 2402 (thread    0) f\b\b\r",
      "STEP   366 / 2402 (thread    5) f\b\b\r",
      "STEP   367 / 2402 (thread    3) f\b\b\r",
      "STEP   363 / 2402 (thread    4) f\b\b\r",
      "STEP   368 / 2402 (thread    1) f\b\b\r",
      "STEP   369 / 2402 (thread    5) f\b\b\r",
      "STEP   370 / 2402 (thread    3) f\b\b\r",
      "STEP   371 / 2402 (thread    0) f\b\b\r",
      "STEP   372 / 2402 (thread    4) f\b\b\r",
      "STEP   373 / 2402 (thread    2) f\b\b\r",
      "STEP   374 / 2402 (thread    3) f\b\b\r",
      "STEP   375 / 2402 (thread    4) f\b\b\r",
      "STEP   376 / 2402 (thread    1) f\b\b\r",
      "STEP   377 / 2402 (thread    3) f\b\b\r",
      "STEP   378 / 2402 (thread    5) f\b\b\r",
      "STEP   379 / 2402 (thread    3) f\b\b\r",
      "STEP   380 / 2402 (thread    4) f\b\b\r",
      "STEP   381 / 2402 (thread    0) f\b\b\r",
      "STEP   382 / 2402 (thread    5) f\b\b\r",
      "STEP   383 / 2402 (thread    4) f\b\b\r",
      "STEP   384 / 2402 (thread    1) f\b\b\r",
      "STEP   386 / 2402 (thread    3) f\b\b\r",
      "STEP   385 / 2402 (thread    2) f\b\b\r",
      "STEP   387 / 2402 (thread    0) f\b\b\r",
      "STEP   388 / 2402 (thread    4) f\b\b\r",
      "STEP   389 / 2402 (thread    3) f\b\b\r",
      "STEP   390 / 2402 (thread    1) f\b\b\r",
      "STEP   391 / 2402 (thread    2) f\b\b\r",
      "STEP   392 / 2402 (thread    3) f\b\b\r",
      "STEP   393 / 2402 (thread    4) f\b\b\r",
      "STEP   394 / 2402 (thread    5) f\b\b\r",
      "STEP   395 / 2402 (thread    0) f\b\b\r",
      "STEP   396 / 2402 (thread    3) f\b\b\r",
      "STEP   397 / 2402 (thread    1) f\b\b\r",
      "STEP   398 / 2402 (thread    2) f\b\b\r",
      "STEP   399 / 2402 (thread    3) f\b\b\r",
      "STEP   400 / 2402 (thread    0) f\b\b\r",
      "STEP   401 / 2402 (thread    5) f\b\b\r",
      "STEP   402 / 2402 (thread    1) f\b\b\r",
      "STEP   403 / 2402 (thread    4) f\b\b\r",
      "STEP   404 / 2402 (thread    3) f\b\b\r",
      "STEP   405 / 2402 (thread    2) f\b\b\r",
      "STEP   406 / 2402 (thread    4) f\b\b\r",
      "STEP   407 / 2402 (thread    0) f\b\b\r",
      "STEP   408 / 2402 (thread    3) f\b\b\r",
      "STEP   409 / 2402 (thread    3) f\b\b\r",
      "STEP   410 / 2402 (thread    0) f\b\b\r",
      "STEP   411 / 2402 (thread    4) f\b\b\r",
      "STEP   412 / 2402 (thread    5) f\b\b\r",
      "STEP   413 / 2402 (thread    3) f\b\b\r",
      "STEP   414 / 2402 (thread    1) f\b\b\r",
      "STEP   415 / 2402 (thread    4) f\b\b\r",
      "STEP   416 / 2402 (thread    2) f\b\b\r",
      "STEP   417 / 2402 (thread    3) f\b\b\r",
      "STEP   418 / 2402 (thread    5) f\b\b\r",
      "STEP   419 / 2402 (thread    0) f\b\b\r",
      "STEP   420 / 2402 (thread    1) f\b\b\r",
      "STEP   421 / 2402 (thread    4) f\b\b\r",
      "STEP   422 / 2402 (thread    4) f\b\b\r",
      "STEP   423 / 2402 (thread    3) f\b\b\r",
      "STEP   424 / 2402 (thread    0) f\b\b\r",
      "STEP   425 / 2402 (thread    5) f\b\b\r",
      "STEP   426 / 2402 (thread    2) f\b\b\r",
      "STEP   427 / 2402 (thread    3) f\b\b\r",
      "STEP   428 / 2402 (thread    0) f\b\b\r",
      "STEP   429 / 2402 (thread    4) f\b\b\r",
      "STEP   430 / 2402 (thread    5) f\b\b\r",
      "STEP   431 / 2402 (thread    1) f\b\b\r",
      "STEP   432 / 2402 (thread    2) f\b\b\r",
      "STEP   433 / 2402 (thread    4) f\b\b\r",
      "STEP   434 / 2402 (thread    3) f\b\b\r",
      "STEP   435 / 2402 (thread    1) f\b\b\r",
      "STEP   436 / 2402 (thread    3) f\b\b\r",
      "STEP   438 / 2402 (thread    0) f\b\b\r",
      "STEP   439 / 2402 (thread    0) f\b\b\r",
      "STEP   440 / 2402 (thread    3) f\b\b\r",
      "STEP   441 / 2402 (thread    2) f\b\b\r",
      "STEP   437 / 2402 (thread    4) f\b\b\r",
      "STEP   442 / 2402 (thread    5) f\b\b\r",
      "STEP   443 / 2402 (thread    3) f\b\b\r",
      "STEP   444 / 2402 (thread    1) f\b\b\r",
      "STEP   445 / 2402 (thread    4) f\b\b\r",
      "STEP   446 / 2402 (thread    3) f\b\b\r",
      "STEP   447 / 2402 (thread    0) f\b\b\r",
      "STEP   448 / 2402 (thread    5) f\b\b\r",
      "STEP   449 / 2402 (thread    3) f\b\b\r",
      "STEP   450 / 2402 (thread    3) f\b\b\r",
      "STEP   451 / 2402 (thread    3) f\b\b\r",
      "STEP   452 / 2402 (thread    2) f\b\b\r",
      "STEP   453 / 2402 (thread    4) f\b\b\r",
      "STEP   454 / 2402 (thread    3) f\b\b\r",
      "STEP   455 / 2402 (thread    4) f\b\b\r",
      "STEP   456 / 2402 (thread    5) f\b\b\r",
      "STEP   457 / 2402 (thread    0) f\b\b\r",
      "STEP   458 / 2402 (thread    1) f\b\b\r",
      "STEP   459 / 2402 (thread    3) f\b\b\r",
      "STEP   460 / 2402 (thread    5) f\b\b\r",
      "STEP   462 / 2402 (thread    0) f\b\b\r",
      "STEP   463 / 2402 (thread    2) f\b\b\r",
      "STEP   461 / 2402 (thread    4) f\b\b\r",
      "STEP   464 / 2402 (thread    1) f\b\b\r",
      "STEP   465 / 2402 (thread    0) f\b\b\r",
      "STEP   466 / 2402 (thread    4) f\b\b\r",
      "STEP   467 / 2402 (thread    3) f\b\b\r",
      "STEP   468 / 2402 (thread    3) f\b\b\r",
      "STEP   469 / 2402 (thread    2) f\b\b\r",
      "STEP   470 / 2402 (thread    4) f\b\b\r",
      "STEP   471 / 2402 (thread    0) f\b\b\r",
      "STEP   472 / 2402 (thread    4) f\b\b\r",
      "STEP   473 / 2402 (thread    1) f\b\b\r",
      "STEP   474 / 2402 (thread    3) f\b\b\r",
      "STEP   475 / 2402 (thread    2) f\b\b\r",
      "STEP   476 / 2402 (thread    0) f\b\b\r",
      "STEP   477 / 2402 (thread    3) f\b\b\r",
      "STEP   478 / 2402 (thread    2) f\b\b\r",
      "STEP   479 / 2402 (thread    5) f\b\b\r",
      "STEP   480 / 2402 (thread    0) f\b\b\r",
      "STEP   481 / 2402 (thread    1) f\b\b\r",
      "STEP   482 / 2402 (thread    2) f\b\b\r",
      "STEP   483 / 2402 (thread    4) f\b\b\r",
      "STEP   484 / 2402 (thread    5) f\b\b\r",
      "STEP   485 / 2402 (thread    0) f\b\b\r",
      "STEP   486 / 2402 (thread    4) f\b\b\r",
      "STEP   487 / 2402 (thread    5) f\b\b\r",
      "STEP   488 / 2402 (thread    3) f\b\b\r",
      "STEP   489 / 2402 (thread    0) f\b\b\r",
      "STEP   490 / 2402 (thread    2) f\b\b\r",
      "STEP   491 / 2402 (thread    3) f\b\b\r",
      "STEP   492 / 2402 (thread    2) f\b\b\r",
      "STEP   493 / 2402 (thread    1) f\b\b\r",
      "STEP   494 / 2402 (thread    0) f\b\b\r",
      "STEP   495 / 2402 (thread    3) f\b\b\r",
      "STEP   496 / 2402 (thread    0) f\b\b\r",
      "STEP   497 / 2402 (thread    3) f\b\b\r",
      "STEP   498 / 2402 (thread    3) f\b\b\r",
      "STEP   499 / 2402 (thread    1) f\b\b\r",
      "STEP   500 / 2402 (thread    0) f\b\b\r",
      "STEP   501 / 2402 (thread    4) f\b\b\r",
      "STEP   601 / 2402 (thread    3) f\b\b\r",
      "STEP   701 / 2402 (thread    3) f\b\b\r",
      "STEP   801 / 2402 (thread    3) f\b\b"
     ]
    },
    {
     "name": "stderr",
     "output_type": "stream",
     "text": [
      "\r",
      "STEP   901 / 2402 (thread    3) f\b\b\r",
      "STEP  1001 / 2402 (thread    3) f\b\b\r",
      "STEP  1101 / 2402 (thread    0) f\b\b\r",
      "STEP  1201 / 2402 (thread    0) f\b\b\r",
      "STEP  1301 / 2402 (thread    2) f\b\b\r",
      "STEP  1401 / 2402 (thread    5) f\b\b"
     ]
    },
    {
     "name": "stderr",
     "output_type": "stream",
     "text": [
      "\r",
      "STEP  1501 / 2402 (thread    2) f\b\b\r",
      "STEP  1601 / 2402 (thread    4) f\b\b\r",
      "STEP  1701 / 2402 (thread    1) f\b\b\r",
      "STEP  1801 / 2402 (thread    4) f\b\b"
     ]
    },
    {
     "name": "stderr",
     "output_type": "stream",
     "text": [
      "\r",
      "STEP  1901 / 2402 (thread    1) f\b\b\r",
      "STEP  2001 / 2402 (thread    0) f\b\b\r",
      "STEP  2101 / 2402 (thread    2) f\b\b"
     ]
    },
    {
     "name": "stderr",
     "output_type": "stream",
     "text": [
      "\r",
      "STEP  2201 / 2402 (thread    5) f\b\b\r",
      "STEP  2301 / 2402 (thread    4) f\b\b"
     ]
    },
    {
     "name": "stderr",
     "output_type": "stream",
     "text": [
      "\r",
      "STEP  2401 / 2402 (thread    5) d\b\b h\n",
      "done.\n",
      "\n",
      "Making a distance matrix from msa.. \n",
      "\r",
      "    0 / 2403 (thread    3)\r",
      "  100 / 2403 (thread    5)"
     ]
    },
    {
     "name": "stderr",
     "output_type": "stream",
     "text": [
      "\r",
      "  200 / 2403 (thread    3)\r",
      "  300 / 2403 (thread    1)"
     ]
    },
    {
     "name": "stderr",
     "output_type": "stream",
     "text": [
      "\r",
      "  400 / 2403 (thread    5)\r",
      "  500 / 2403 (thread    1)\r",
      "  600 / 2403 (thread    0)"
     ]
    },
    {
     "name": "stderr",
     "output_type": "stream",
     "text": [
      "\r",
      "  700 / 2403 (thread    1)\r",
      "  800 / 2403 (thread    0)\r",
      "  900 / 2403 (thread    0)"
     ]
    },
    {
     "name": "stderr",
     "output_type": "stream",
     "text": [
      "\r",
      " 1000 / 2403 (thread    4)\r",
      " 1100 / 2403 (thread    5)\r",
      " 1200 / 2403 (thread    4)\r",
      " 1300 / 2403 (thread    2)"
     ]
    },
    {
     "name": "stderr",
     "output_type": "stream",
     "text": [
      "\r",
      " 1400 / 2403 (thread    1)\r",
      " 1500 / 2403 (thread    4)\r",
      " 1600 / 2403 (thread    1)\r",
      " 1700 / 2403 (thread    2)\r",
      " 1800 / 2403 (thread    5)\r",
      " 1900 / 2403 (thread    3)"
     ]
    },
    {
     "name": "stderr",
     "output_type": "stream",
     "text": [
      "\r",
      " 2000 / 2403 (thread    2)\r",
      " 2100 / 2403 (thread    1)\r",
      " 2200 / 2403 (thread    1)\r",
      " 2300 / 2403 (thread    2)\r",
      " 2400 / 2403 (thread    2)\n",
      "done.\n",
      "\n",
      "Constructing a UPGMA tree (efffree=1) ... \n",
      "\r",
      "    0 / 2403\r",
      "   10 / 2403\r",
      "   20 / 2403\r",
      "   30 / 2403\r",
      "   40 / 2403\r",
      "   50 / 2403\r",
      "   60 / 2403\r",
      "   70 / 2403\r",
      "   80 / 2403\r",
      "   90 / 2403\r",
      "  100 / 2403\r",
      "  110 / 2403\r",
      "  120 / 2403\r",
      "  130 / 2403\r",
      "  140 / 2403\r",
      "  150 / 2403\r",
      "  160 / 2403\r",
      "  170 / 2403\r",
      "  180 / 2403\r",
      "  190 / 2403\r",
      "  200 / 2403\r",
      "  210 / 2403\r",
      "  220 / 2403\r",
      "  230 / 2403\r",
      "  240 / 2403\r",
      "  250 / 2403\r",
      "  260 / 2403\r",
      "  270 / 2403\r",
      "  280 / 2403\r",
      "  290 / 2403\r",
      "  300 / 2403\r",
      "  310 / 2403\r",
      "  320 / 2403\r",
      "  330 / 2403\r",
      "  340 / 2403\r",
      "  350 / 2403\r",
      "  360 / 2403\r",
      "  370 / 2403\r",
      "  380 / 2403\r",
      "  390 / 2403\r",
      "  400 / 2403\r",
      "  410 / 2403\r",
      "  420 / 2403\r",
      "  430 / 2403\r",
      "  440 / 2403\r",
      "  450 / 2403\r",
      "  460 / 2403\r",
      "  470 / 2403\r",
      "  480 / 2403\r",
      "  490 / 2403\r",
      "  500 / 2403\r",
      "  510 / 2403\r",
      "  520 / 2403\r",
      "  530 / 2403\r",
      "  540 / 2403\r",
      "  550 / 2403\r",
      "  560 / 2403\r",
      "  570 / 2403\r",
      "  580 / 2403\r",
      "  590 / 2403\r",
      "  600 / 2403\r",
      "  610 / 2403\r",
      "  620 / 2403\r",
      "  630 / 2403\r",
      "  640 / 2403\r",
      "  650 / 2403\r",
      "  660 / 2403\r",
      "  670 / 2403\r",
      "  680 / 2403\r",
      "  690 / 2403\r",
      "  700 / 2403\r",
      "  710 / 2403\r",
      "  720 / 2403\r",
      "  730 / 2403\r",
      "  740 / 2403\r",
      "  750 / 2403\r",
      "  760 / 2403\r",
      "  770 / 2403\r",
      "  780 / 2403\r",
      "  790 / 2403\r",
      "  800 / 2403\r",
      "  810 / 2403\r",
      "  820 / 2403\r",
      "  830 / 2403\r",
      "  840 / 2403\r",
      "  850 / 2403\r",
      "  860 / 2403\r",
      "  870 / 2403\r",
      "  880 / 2403\r",
      "  890 / 2403\r",
      "  900 / 2403\r",
      "  910 / 2403\r",
      "  920 / 2403\r",
      "  930 / 2403\r",
      "  940 / 2403\r",
      "  950 / 2403\r",
      "  960 / 2403\r",
      "  970 / 2403\r",
      "  980 / 2403\r",
      "  990 / 2403\r",
      " 1000 / 2403\r",
      " 1010 / 2403\r",
      " 1020 / 2403\r",
      " 1030 / 2403\r",
      " 1040 / 2403\r",
      " 1050 / 2403\r",
      " 1060 / 2403\r",
      " 1070 / 2403\r",
      " 1080 / 2403\r",
      " 1090 / 2403\r",
      " 1100 / 2403\r",
      " 1110 / 2403\r",
      " 1120 / 2403\r",
      " 1130 / 2403\r",
      " 1140 / 2403\r",
      " 1150 / 2403\r",
      " 1160 / 2403\r",
      " 1170 / 2403\r",
      " 1180 / 2403\r",
      " 1190 / 2403\r",
      " 1200 / 2403\r",
      " 1210 / 2403\r",
      " 1220 / 2403\r",
      " 1230 / 2403\r",
      " 1240 / 2403\r",
      " 1250 / 2403\r",
      " 1260 / 2403\r",
      " 1270 / 2403\r",
      " 1280 / 2403\r",
      " 1290 / 2403\r",
      " 1300 / 2403\r",
      " 1310 / 2403\r",
      " 1320 / 2403\r",
      " 1330 / 2403\r",
      " 1340 / 2403\r",
      " 1350 / 2403\r",
      " 1360 / 2403\r",
      " 1370 / 2403\r",
      " 1380 / 2403\r",
      " 1390 / 2403\r",
      " 1400 / 2403\r",
      " 1410 / 2403\r",
      " 1420 / 2403\r",
      " 1430 / 2403\r",
      " 1440 / 2403\r",
      " 1450 / 2403\r",
      " 1460 / 2403\r",
      " 1470 / 2403\r",
      " 1480 / 2403\r",
      " 1490 / 2403\r",
      " 1500 / 2403\r",
      " 1510 / 2403\r",
      " 1520 / 2403\r",
      " 1530 / 2403\r",
      " 1540 / 2403\r",
      " 1550 / 2403\r",
      " 1560 / 2403\r",
      " 1570 / 2403\r",
      " 1580 / 2403\r",
      " 1590 / 2403\r",
      " 1600 / 2403\r",
      " 1610 / 2403\r",
      " 1620 / 2403\r",
      " 1630 / 2403\r",
      " 1640 / 2403\r",
      " 1650 / 2403\r",
      " 1660 / 2403\r",
      " 1670 / 2403\r",
      " 1680 / 2403\r",
      " 1690 / 2403\r",
      " 1700 / 2403\r",
      " 1710 / 2403\r",
      " 1720 / 2403\r",
      " 1730 / 2403\r",
      " 1740 / 2403\r",
      " 1750 / 2403\r",
      " 1760 / 2403\r",
      " 1770 / 2403\r",
      " 1780 / 2403\r",
      " 1790 / 2403\r",
      " 1800 / 2403\r",
      " 1810 / 2403\r",
      " 1820 / 2403\r",
      " 1830 / 2403\r",
      " 1840 / 2403\r",
      " 1850 / 2403\r",
      " 1860 / 2403\r",
      " 1870 / 2403\r",
      " 1880 / 2403\r",
      " 1890 / 2403\r",
      " 1900 / 2403\r",
      " 1910 / 2403\r",
      " 1920 / 2403\r",
      " 1930 / 2403\r",
      " 1940 / 2403\r",
      " 1950 / 2403\r",
      " 1960 / 2403\r",
      " 1970 / 2403\r",
      " 1980 / 2403\r",
      " 1990 / 2403\r",
      " 2000 / 2403\r",
      " 2010 / 2403\r",
      " 2020 / 2403\r",
      " 2030 / 2403\r",
      " 2040 / 2403\r",
      " 2050 / 2403\r",
      " 2060 / 2403\r",
      " 2070 / 2403\r",
      " 2080 / 2403\r",
      " 2090 / 2403\r",
      " 2100 / 2403\r",
      " 2110 / 2403\r",
      " 2120 / 2403\r",
      " 2130 / 2403\r",
      " 2140 / 2403\r",
      " 2150 / 2403\r",
      " 2160 / 2403\r",
      " 2170 / 2403\r",
      " 2180 / 2403\r",
      " 2190 / 2403\r",
      " 2200 / 2403\r",
      " 2210 / 2403\r",
      " 2220 / 2403\r",
      " 2230 / 2403\r",
      " 2240 / 2403\r",
      " 2250 / 2403\r",
      " 2260 / 2403\r",
      " 2270 / 2403\r",
      " 2280 / 2403\r",
      " 2290 / 2403\r",
      " 2300 / 2403\r",
      " 2310 / 2403\r",
      " 2320 / 2403\r",
      " 2330 / 2403\r",
      " 2340 / 2403\r",
      " 2350 / 2403\r",
      " 2360 / 2403\r",
      " 2370 / 2403\r",
      " 2380 / 2403\r",
      " 2390 / 2403\r",
      " 2400 / 2403\n",
      "done.\n",
      "\n",
      "Progressive alignment 2/2... \n",
      "\r",
      "STEP     1 / 2402 (thread    1) f\b\b\r",
      "STEP     2 / 2402 (thread    0) f\b\b\r",
      "STEP     3 / 2402 (thread    2)\r",
      "STEP     5 / 2402 (thread    4)\r",
      "STEP     4 / 2402 (thread    3) f\b\b f\b\b\r",
      "STEP     6 / 2402 (thread    5) f\b\b f\b\b\r",
      "STEP     7 / 2402 (thread    2) f\b\b\r",
      "STEP     8 / 2402 (thread    2) f\b\b\r",
      "STEP     9 / 2402 (thread    2) f\b\b\r",
      "STEP    10 / 2402 (thread    2) f\b\b\r",
      "STEP    11 / 2402 (thread    2) f\b\b\r",
      "STEP    12 / 2402 (thread    2) f\b\b\r",
      "STEP    13 / 2402 (thread    2) f\b\b\r",
      "STEP    14 / 2402 (thread    2) f\b\b\r",
      "STEP    15 / 2402 (thread    3) f\b\b\r",
      "STEP    16 / 2402 (thread    1) f\b\b\r",
      "STEP    17 / 2402 (thread    4) f\b\b\r",
      "STEP    18 / 2402 (thread    2) f\b\b\r",
      "STEP    19 / 2402 (thread    5) f\b\b\r",
      "STEP    20 / 2402 (thread    2) f\b\b\r",
      "STEP    21 / 2402 (thread    1) f\b\b\r",
      "STEP    22 / 2402 (thread    3) f\b\b\r",
      "STEP    23 / 2402 (thread    0) f\b\b"
     ]
    },
    {
     "name": "stderr",
     "output_type": "stream",
     "text": [
      "\r",
      "STEP    24 / 2402 (thread    4) f\b\b\r",
      "STEP    25 / 2402 (thread    5) f\b\b\r",
      "STEP    26 / 2402 (thread    2) f\b\b\r",
      "STEP    27 / 2402 (thread    1)\r",
      "STEP    28 / 2402 (thread    3) f\b\b f\b\b\r",
      "STEP    29 / 2402 (thread    4) f\b\b\r",
      "STEP    30 / 2402 (thread    5) f\b\b\r",
      "STEP    31 / 2402 (thread    2) f\b\b\r",
      "STEP    32 / 2402 (thread    0) f\b\b\r",
      "STEP    33 / 2402 (thread    3) f\b\b\r",
      "STEP    34 / 2402 (thread    1) f\b\b\r",
      "STEP    35 / 2402 (thread    4) f\b\b\r",
      "STEP    36 / 2402 (thread    2) f\b\b\r",
      "STEP    37 / 2402 (thread    5) f\b\b\r",
      "STEP    38 / 2402 (thread    0) f\b\b\r",
      "STEP    39 / 2402 (thread    2) f\b\b\r",
      "STEP    40 / 2402 (thread    1) f\b\b\r",
      "STEP    41 / 2402 (thread    3) f\b\b\r",
      "STEP    42 / 2402 (thread    0) f\b\b\r",
      "STEP    43 / 2402 (thread    4) f\b\b\r",
      "STEP    44 / 2402 (thread    5) f\b\b\r",
      "STEP    45 / 2402 (thread    2) f\b\b\r",
      "STEP    46 / 2402 (thread    0) f\b\b\r",
      "STEP    47 / 2402 (thread    1) f\b\b\r",
      "STEP    48 / 2402 (thread    3) f\b\b\r",
      "STEP    49 / 2402 (thread    2) f\b\b\r",
      "STEP    50 / 2402 (thread    0) f\b\b\r",
      "STEP    51 / 2402 (thread    4) f\b\b\r",
      "STEP    52 / 2402 (thread    5) f\b\b\r",
      "STEP    53 / 2402 (thread    2) f\b\b\r",
      "STEP    54 / 2402 (thread    0) f\b\b\r",
      "STEP    55 / 2402 (thread    1) f\b\b\r",
      "STEP    56 / 2402 (thread    3) f\b\b\r",
      "STEP    57 / 2402 (thread    2) f\b\b\r",
      "STEP    58 / 2402 (thread    4) f\b\b\r",
      "STEP    59 / 2402 (thread    5) f\b\b\r",
      "STEP    60 / 2402 (thread    0) f\b\b\r",
      "STEP    61 / 2402 (thread    2) f\b\b\r",
      "STEP    62 / 2402 (thread    1)\r",
      "STEP    64 / 2402 (thread    3) f\b\b f\b\b\r",
      "STEP    63 / 2402 (thread    0) f\b\b\r",
      "STEP    65 / 2402 (thread    4) f\b\b\r",
      "STEP    66 / 2402 (thread    5) f\b\b\r",
      "STEP    67 / 2402 (thread    2) f\b\b\r",
      "STEP    68 / 2402 (thread    0) f\b\b\r",
      "STEP    69 / 2402 (thread    1) f\b\b\r",
      "STEP    70 / 2402 (thread    3) f\b\b\r",
      "STEP    71 / 2402 (thread    2) f\b\b\r",
      "STEP    72 / 2402 (thread    0) f\b\b\r",
      "STEP    73 / 2402 (thread    4) f\b\b\r",
      "STEP    74 / 2402 (thread    5) f\b\b\r",
      "STEP    75 / 2402 (thread    2) f\b\b\r",
      "STEP    76 / 2402 (thread    0) f\b\b\r",
      "STEP    77 / 2402 (thread    1) f\b\b\r",
      "STEP    78 / 2402 (thread    3) f\b\b\r",
      "STEP    79 / 2402 (thread    4) f\b\b\r",
      "STEP    80 / 2402 (thread    5) f\b\b\r",
      "STEP    81 / 2402 (thread    2) f\b\b\r",
      "STEP    82 / 2402 (thread    0) f\b\b\r",
      "STEP    83 / 2402 (thread    1) f\b\b\r",
      "STEP    84 / 2402 (thread    3) f\b\b\r",
      "STEP    85 / 2402 (thread    2) f\b\b\r",
      "STEP    86 / 2402 (thread    0) f\b\b\r",
      "STEP    87 / 2402 (thread    4) f\b\b\r",
      "STEP    88 / 2402 (thread    5) f\b\b\r",
      "STEP    89 / 2402 (thread    2) f\b\b\r",
      "STEP    90 / 2402 (thread    1) f\b\b\r",
      "STEP    91 / 2402 (thread    0) f\b\b\r",
      "STEP    92 / 2402 (thread    3) f\b\b\r",
      "STEP    93 / 2402 (thread    4) f\b\b\r",
      "STEP    94 / 2402 (thread    2) f\b\b\r",
      "STEP    95 / 2402 (thread    5) f\b\b\r",
      "STEP    96 / 2402 (thread    0) f\b\b\r",
      "STEP    97 / 2402 (thread    1) f\b\b\r",
      "STEP    98 / 2402 (thread    3) f\b\b\r",
      "STEP    99 / 2402 (thread    2) f\b\b\r",
      "STEP   100 / 2402 (thread    0) f\b\b\r",
      "STEP   101 / 2402 (thread    5) f\b\b\r",
      "STEP   102 / 2402 (thread    4) f\b\b\r",
      "STEP   103 / 2402 (thread    2) f\b\b\r",
      "STEP   104 / 2402 (thread    1) f\b\b\r",
      "STEP   105 / 2402 (thread    3) f\b\b\r",
      "STEP   106 / 2402 (thread    0) f\b\b\r",
      "STEP   107 / 2402 (thread    2) f\b\b\r",
      "STEP   108 / 2402 (thread    4) f\b\b\r",
      "STEP   109 / 2402 (thread    5) f\b\b\r",
      "STEP   110 / 2402 (thread    0) f\b\b\r",
      "STEP   111 / 2402 (thread    1) f\b\b\r",
      "STEP   112 / 2402 (thread    3) f\b\b\r",
      "STEP   113 / 2402 (thread    2) f\b\b\r",
      "STEP   114 / 2402 (thread    0) f\b\b\r",
      "STEP   115 / 2402 (thread    5) f\b\b\r",
      "STEP   116 / 2402 (thread    4) f\b\b\r",
      "STEP   117 / 2402 (thread    2) f\b\b\r",
      "STEP   118 / 2402 (thread    0) f\b\b\r",
      "STEP   119 / 2402 (thread    1) f\b\b\r",
      "STEP   120 / 2402 (thread    3) f\b\b\r",
      "STEP   121 / 2402 (thread    2) f\b\b\r",
      "STEP   122 / 2402 (thread    0) f\b\b\r",
      "STEP   123 / 2402 (thread    5) f\b\b\r",
      "STEP   124 / 2402 (thread    4) f\b\b\r",
      "STEP   125 / 2402 (thread    2) f\b\b\r",
      "STEP   126 / 2402 (thread    1) f\b\b\r",
      "STEP   127 / 2402 (thread    3) f\b\b\r",
      "STEP   128 / 2402 (thread    0) f\b\b\r",
      "STEP   129 / 2402 (thread    2) f\b\b\r",
      "STEP   130 / 2402 (thread    4) f\b\b\r",
      "STEP   131 / 2402 (thread    5) f\b\b\r",
      "STEP   132 / 2402 (thread    0) f\b\b\r",
      "STEP   133 / 2402 (thread    3) f\b\b\r",
      "STEP   134 / 2402 (thread    1) f\b\b\r",
      "STEP   135 / 2402 (thread    2) f\b\b\r",
      "STEP   136 / 2402 (thread    4) f\b\b\r",
      "STEP   137 / 2402 (thread    3) f\b\b\r",
      "STEP   138 / 2402 (thread    2) f\b\b\r",
      "STEP   139 / 2402 (thread    4) f\b\b\r",
      "STEP   140 / 2402 (thread    0) f\b\b\r",
      "STEP   141 / 2402 (thread    5) f\b\b\r",
      "STEP   142 / 2402 (thread    1) f\b\b\r",
      "STEP   143 / 2402 (thread    2) f\b\b\r",
      "STEP   144 / 2402 (thread    4) f\b\b\r",
      "STEP   145 / 2402 (thread    3) f\b\b\r",
      "STEP   146 / 2402 (thread    2) f\b\b\r",
      "STEP   147 / 2402 (thread    5) f\b\b\r",
      "STEP   148 / 2402 (thread    0) f\b\b\r",
      "STEP   149 / 2402 (thread    1) f\b\b\r",
      "STEP   150 / 2402 (thread    4) f\b\b\r",
      "STEP   151 / 2402 (thread    2) f\b\b\r",
      "STEP   152 / 2402 (thread    2) f\b\b\r",
      "STEP   153 / 2402 (thread    5) f\b\b\r",
      "STEP   154 / 2402 (thread    3) f\b\b\r",
      "STEP   155 / 2402 (thread    4) f\b\b\r",
      "STEP   156 / 2402 (thread    2) f\b\b\r",
      "STEP   157 / 2402 (thread    5) f\b\b\r",
      "STEP   158 / 2402 (thread    4) f\b\b\r",
      "STEP   159 / 2402 (thread    0)\r",
      "STEP   160 / 2402 (thread    3)\r",
      "STEP   161 / 2402 (thread    1) f\b\b f\b\b f\b\b\r",
      "STEP   162 / 2402 (thread    2) f\b\b\r",
      "STEP   163 / 2402 (thread    4) f\b\b\r",
      "STEP   164 / 2402 (thread    2) f\b\b\r",
      "STEP   165 / 2402 (thread    5) f\b\b\r",
      "STEP   166 / 2402 (thread    1)\r",
      "STEP   167 / 2402 (thread    3)\r",
      "STEP   168 / 2402 (thread    0) f\b\b f\b\b f\b\b\r",
      "STEP   169 / 2402 (thread    4) f\b\b\r",
      "STEP   170 / 2402 (thread    2) f\b\b\r",
      "STEP   171 / 2402 (thread    5) f\b\b\r",
      "STEP   172 / 2402 (thread    4) f\b\b\r",
      "STEP   173 / 2402 (thread    2) f\b\b\r",
      "STEP   174 / 2402 (thread    0) f\b\b\r",
      "STEP   175 / 2402 (thread    1) f\b\b\r",
      "STEP   176 / 2402 (thread    3) f\b\b\r",
      "STEP   177 / 2402 (thread    4) f\b\b\r",
      "STEP   178 / 2402 (thread    2) f\b\b\r",
      "STEP   179 / 2402 (thread    5) f\b\b\r",
      "STEP   180 / 2402 (thread    3) f\b\b\r",
      "STEP   181 / 2402 (thread    1) f\b\b\r",
      "STEP   182 / 2402 (thread    0) f\b\b\r",
      "STEP   183 / 2402 (thread    4) f\b\b\r",
      "STEP   184 / 2402 (thread    2) f\b\b\r",
      "STEP   185 / 2402 (thread    4) f\b\b\r",
      "STEP   186 / 2402 (thread    2) f\b\b\r",
      "STEP   187 / 2402 (thread    5) f\b\b\r",
      "STEP   188 / 2402 (thread    0) f\b\b\r",
      "STEP   189 / 2402 (thread    1)\r",
      "STEP   190 / 2402 (thread    3) f\b\b f\b\b\r",
      "STEP   191 / 2402 (thread    4) f\b\b\r",
      "STEP   192 / 2402 (thread    2) f\b\b\r",
      "STEP   193 / 2402 (thread    4) f\b\b\r",
      "STEP   194 / 2402 (thread    5) f\b\b\r",
      "STEP   195 / 2402 (thread    2) f\b\b\r",
      "STEP   196 / 2402 (thread    0) f\b\b\r",
      "STEP   197 / 2402 (thread    1) f\b\b\r",
      "STEP   198 / 2402 (thread    3) f\b\b\r",
      "STEP   199 / 2402 (thread    4) f\b\b\r",
      "STEP   200 / 2402 (thread    2) f\b\b\r",
      "STEP   201 / 2402 (thread    5) f\b\b\r",
      "STEP   202 / 2402 (thread    0) f\b\b\r",
      "STEP   203 / 2402 (thread    3) f\b\b\r",
      "STEP   204 / 2402 (thread    4)\r",
      "STEP   205 / 2402 (thread    1) f\b\b f\b\b\r",
      "STEP   206 / 2402 (thread    2) f\b\b\r",
      "STEP   207 / 2402 (thread    4) f\b\b\r",
      "STEP   208 / 2402 (thread    2) f\b\b\r",
      "STEP   209 / 2402 (thread    5) f\b\b\r",
      "STEP   210 / 2402 (thread    0) f\b\b\r",
      "STEP   211 / 2402 (thread    3) f\b\b\r",
      "STEP   212 / 2402 (thread    1) f\b\b\r",
      "STEP   213 / 2402 (thread    4) f\b\b\r",
      "STEP   214 / 2402 (thread    2) f\b\b\r",
      "STEP   215 / 2402 (thread    5) f\b\b\r",
      "STEP   216 / 2402 (thread    0) f\b\b\r",
      "STEP   217 / 2402 (thread    1) f\b\b\r",
      "STEP   218 / 2402 (thread    3) f\b\b\r",
      "STEP   219 / 2402 (thread    4) f\b\b\r",
      "STEP   220 / 2402 (thread    2) f\b\b\r",
      "STEP   221 / 2402 (thread    4) f\b\b\r",
      "STEP   222 / 2402 (thread    2) f\b\b\r",
      "STEP   223 / 2402 (thread    5) f\b\b\r",
      "STEP   224 / 2402 (thread    0) f\b\b\r",
      "STEP   225 / 2402 (thread    3) f\b\b\r",
      "STEP   226 / 2402 (thread    1) f\b\b\r",
      "STEP   227 / 2402 (thread    4) f\b\b\r",
      "STEP   228 / 2402 (thread    2) f\b\b\r",
      "STEP   229 / 2402 (thread    5) f\b\b\r",
      "STEP   230 / 2402 (thread    4) f\b\b\r",
      "STEP   231 / 2402 (thread    2) f\b\b\r",
      "STEP   232 / 2402 (thread    0) f\b\b\r",
      "STEP   233 / 2402 (thread    3) f\b\b\r",
      "STEP   234 / 2402 (thread    1) f\b\b\r",
      "STEP   235 / 2402 (thread    4) f\b\b\r",
      "STEP   236 / 2402 (thread    2) f\b\b\r",
      "STEP   237 / 2402 (thread    5) f\b\b\r",
      "STEP   238 / 2402 (thread    0) f\b\b\r",
      "STEP   239 / 2402 (thread    1) f\b\b\r",
      "STEP   240 / 2402 (thread    3) f\b\b\r",
      "STEP   241 / 2402 (thread    4) f\b\b\r",
      "STEP   242 / 2402 (thread    2) f\b\b\r",
      "STEP   243 / 2402 (thread    4) f\b\b\r",
      "STEP   244 / 2402 (thread    2) f\b\b\r",
      "STEP   245 / 2402 (thread    5) f\b\b\r",
      "STEP   246 / 2402 (thread    0) f\b\b\r",
      "STEP   247 / 2402 (thread    3) f\b\b\r",
      "STEP   248 / 2402 (thread    1) f\b\b\r",
      "STEP   249 / 2402 (thread    4) f\b\b\r",
      "STEP   250 / 2402 (thread    2) f\b\b\r",
      "STEP   251 / 2402 (thread    5) f\b\b\r",
      "STEP   252 / 2402 (thread    4) f\b\b\r",
      "STEP   253 / 2402 (thread    0) f\b\b\r",
      "STEP   254 / 2402 (thread    2) f\b\b\r",
      "STEP   255 / 2402 (thread    1) f\b\b\r",
      "STEP   256 / 2402 (thread    3) f\b\b\r",
      "STEP   257 / 2402 (thread    4) f\b\b\r",
      "STEP   258 / 2402 (thread    2) f\b\b\r",
      "STEP   259 / 2402 (thread    5) f\b\b\r",
      "STEP   260 / 2402 (thread    0) f\b\b\r",
      "STEP   261 / 2402 (thread    4) f\b\b\r",
      "STEP   262 / 2402 (thread    1) f\b\b\r",
      "STEP   263 / 2402 (thread    3) f\b\b\r",
      "STEP   264 / 2402 (thread    2) f\b\b\r",
      "STEP   265 / 2402 (thread    5) f\b\b\r",
      "STEP   266 / 2402 (thread    4) f\b\b\r",
      "STEP   267 / 2402 (thread    0) f\b\b\r",
      "STEP   268 / 2402 (thread    3) f\b\b\r",
      "STEP   269 / 2402 (thread    1) f\b\b\r",
      "STEP   270 / 2402 (thread    2) f\b\b\r",
      "STEP   271 / 2402 (thread    5) f\b\b\r",
      "STEP   272 / 2402 (thread    4) f\b\b\r",
      "STEP   273 / 2402 (thread    0) f\b\b\r",
      "STEP   274 / 2402 (thread    5) f\b\b\r",
      "STEP   275 / 2402 (thread    4) f\b\b\r",
      "STEP   276 / 2402 (thread    1) f\b\b\r",
      "STEP   277 / 2402 (thread    3) f\b\b\r",
      "STEP   278 / 2402 (thread    2) f\b\b\r",
      "STEP   279 / 2402 (thread    5) f\b\b\r",
      "STEP   280 / 2402 (thread    4) f\b\b\r",
      "STEP   281 / 2402 (thread    0) f\b\b\r",
      "STEP   282 / 2402 (thread    1) f\b\b\r",
      "STEP   283 / 2402 (thread    3) f\b\b\r",
      "STEP   284 / 2402 (thread    5) f\b\b\r",
      "STEP   285 / 2402 (thread    4) f\b\b\r",
      "STEP   286 / 2402 (thread    2) f\b\b\r",
      "STEP   287 / 2402 (thread    0) f\b\b\r",
      "STEP   288 / 2402 (thread    5) f\b\b\r",
      "STEP   289 / 2402 (thread    1) f\b\b\r",
      "STEP   290 / 2402 (thread    3) f\b\b\r",
      "STEP   291 / 2402 (thread    4) f\b\b\r",
      "STEP   292 / 2402 (thread    5) f\b\b\r",
      "STEP   293 / 2402 (thread    2) f\b\b\r",
      "STEP   294 / 2402 (thread    4) f\b\b\r",
      "STEP   295 / 2402 (thread    0) f\b\b\r",
      "STEP   296 / 2402 (thread    1) f\b\b\r",
      "STEP   297 / 2402 (thread    5) f\b\b\r",
      "STEP   298 / 2402 (thread    3) f\b\b\r",
      "STEP   299 / 2402 (thread    1) f\b\b\r",
      "STEP   300 / 2402 (thread    5) f\b\b\r",
      "STEP   301 / 2402 (thread    4) f\b\b\r",
      "STEP   302 / 2402 (thread    3) f\b\b\r",
      "STEP   303 / 2402 (thread    2) f\b\b\r",
      "STEP   304 / 2402 (thread    1) f\b\b\r",
      "STEP   305 / 2402 (thread    0) f\b\b\r",
      "STEP   306 / 2402 (thread    5) f\b\b\r",
      "STEP   307 / 2402 (thread    4) f\b\b\r",
      "STEP   308 / 2402 (thread    5) f\b\b\r",
      "STEP   309 / 2402 (thread    3) f\b\b\r",
      "STEP   310 / 2402 (thread    2) f\b\b\r",
      "STEP   311 / 2402 (thread    0) f\b\b\r",
      "STEP   312 / 2402 (thread    4) f\b\b\r",
      "STEP   313 / 2402 (thread    1) f\b\b\r",
      "STEP   314 / 2402 (thread    5) f\b\b\r",
      "STEP   315 / 2402 (thread    4) f\b\b\r",
      "STEP   316 / 2402 (thread    3) f\b\b\r",
      "STEP   317 / 2402 (thread    2) f\b\b\r",
      "STEP   318 / 2402 (thread    0) f\b\b\r",
      "STEP   319 / 2402 (thread    5) f\b\b\r",
      "STEP   320 / 2402 (thread    1) f\b\b\r",
      "STEP   321 / 2402 (thread    4) f\b\b\r",
      "STEP   322 / 2402 (thread    5) f\b\b\r",
      "STEP   323 / 2402 (thread    4) f\b\b\r",
      "STEP   324 / 2402 (thread    0) f\b\b\r",
      "STEP   325 / 2402 (thread    2) f\b\b\r",
      "STEP   326 / 2402 (thread    1) f\b\b\r",
      "STEP   327 / 2402 (thread    3) f\b\b\r",
      "STEP   328 / 2402 (thread    5) f\b\b\r",
      "STEP   329 / 2402 (thread    4) f\b\b\r",
      "STEP   330 / 2402 (thread    5) f\b\b\r",
      "STEP   331 / 2402 (thread    2) f\b\b\r",
      "STEP   332 / 2402 (thread    0) f\b\b\r",
      "STEP   333 / 2402 (thread    1) f\b\b\r",
      "STEP   334 / 2402 (thread    3) f\b\b\r",
      "STEP   335 / 2402 (thread    4) f\b\b\r",
      "STEP   336 / 2402 (thread    5) f\b\b\r",
      "STEP   337 / 2402 (thread    4) f\b\b\r",
      "STEP   339 / 2402 (thread    1) f\b\b\r",
      "STEP   338 / 2402 (thread    2) f\b\b\r",
      "STEP   340 / 2402 (thread    0) f\b\b\r",
      "STEP   341 / 2402 (thread    5) f\b\b\r",
      "STEP   342 / 2402 (thread    3) f\b\b\r",
      "STEP   343 / 2402 (thread    4) f\b\b\r",
      "STEP   344 / 2402 (thread    5) f\b\b\r",
      "STEP   345 / 2402 (thread    2) f\b\b\r",
      "STEP   346 / 2402 (thread    1) f\b\b\r",
      "STEP   347 / 2402 (thread    0) f\b\b\r",
      "STEP   348 / 2402 (thread    5) f\b\b\r",
      "STEP   349 / 2402 (thread    3) f\b\b\r",
      "STEP   350 / 2402 (thread    2) f\b\b\r",
      "STEP   351 / 2402 (thread    4) f\b\b\r",
      "STEP   352 / 2402 (thread    2) f\b\b\r",
      "STEP   353 / 2402 (thread    5) f\b\b\r",
      "STEP   354 / 2402 (thread    0) f\b\b\r",
      "STEP   355 / 2402 (thread    1) f\b\b\r",
      "STEP   356 / 2402 (thread    3) f\b\b\r",
      "STEP   357 / 2402 (thread    5) f\b\b\r",
      "STEP   358 / 2402 (thread    2) f\b\b\r",
      "STEP   359 / 2402 (thread    4) f\b\b\r",
      "STEP   360 / 2402 (thread    0) f\b\b\r",
      "STEP   361 / 2402 (thread    1) f\b\b\r",
      "STEP   362 / 2402 (thread    5) f\b\b\r",
      "STEP   363 / 2402 (thread    2) f\b\b\r",
      "STEP   364 / 2402 (thread    3) f\b\b\r",
      "STEP   365 / 2402 (thread    4) f\b\b\r",
      "STEP   367 / 2402 (thread    2) f\b\b\r",
      "STEP   368 / 2402 (thread    0) f\b\b\r",
      "STEP   366 / 2402 (thread    5) f\b\b\r",
      "STEP   373 / 2402 (thread    4) f\b\b\r",
      "STEP   369 / 2402 (thread    1) f\b\b\r",
      "STEP   374 / 2402 (thread    0) f\b\b\r",
      "STEP   375 / 2402 (thread    4) f\b\b\r",
      "STEP   370 / 2402 (thread    3) f\b\b\r",
      "STEP   376 / 2402 (thread    1) f\b\b\r",
      "STEP   377 / 2402 (thread    4) f\b\b\r",
      "STEP   378 / 2402 (thread    1) f\b\b\r",
      "STEP   379 / 2402 (thread    3) f\b\b\r",
      "STEP   371 / 2402 (thread    2) f\b\b\r",
      "STEP   380 / 2402 (thread    4) f\b\b\r",
      "STEP   381 / 2402 (thread    0) f\b\b\r",
      "STEP   382 / 2402 (thread    1) f\b\b\r",
      "STEP   383 / 2402 (thread    3) f\b\b\r",
      "STEP   384 / 2402 (thread    4) f\b\b\r",
      "STEP   385 / 2402 (thread    0) f\b\b\r",
      "STEP   386 / 2402 (thread    2) f\b\b\r",
      "STEP   372 / 2402 (thread    5) f\b\b\r",
      "STEP   387 / 2402 (thread    1) f\b\b\r",
      "STEP   388 / 2402 (thread    3) f\b\b\r",
      "STEP   389 / 2402 (thread    2) f\b\b\r",
      "STEP   390 / 2402 (thread    0) f\b\b\r",
      "STEP   391 / 2402 (thread    4) f\b\b\r",
      "STEP   392 / 2402 (thread    1) f\b\b\r",
      "STEP   394 / 2402 (thread    5) f\b\b\r",
      "STEP   396 / 2402 (thread    4) f\b\b\r",
      "STEP   397 / 2402 (thread    0) f\b\b\r",
      "STEP   393 / 2402 (thread    3) f\b\b\r",
      "STEP   398 / 2402 (thread    1) f\b\b\r",
      "STEP   399 / 2402 (thread    5) f\b\b\r",
      "STEP   395 / 2402 (thread    2) f\b\b\r",
      "STEP   400 / 2402 (thread    1) f\b\b\r",
      "STEP   401 / 2402 (thread    0) f\b\b\r",
      "STEP   402 / 2402 (thread    4) f\b\b\r",
      "STEP   403 / 2402 (thread    5) f\b\b\r",
      "STEP   404 / 2402 (thread    3) f\b\b\r",
      "STEP   405 / 2402 (thread    5) f\b\b\r",
      "STEP   406 / 2402 (thread    1) f\b\b\r",
      "STEP   407 / 2402 (thread    0) f\b\b\r",
      "STEP   408 / 2402 (thread    4) f\b\b\r",
      "STEP   409 / 2402 (thread    5) f\b\b\r",
      "STEP   410 / 2402 (thread    2) f\b\b\r",
      "STEP   411 / 2402 (thread    1) f\b\b\r",
      "STEP   412 / 2402 (thread    3) f\b\b\r",
      "STEP   413 / 2402 (thread    0) f\b\b\r",
      "STEP   414 / 2402 (thread    4) f\b\b\r",
      "STEP   415 / 2402 (thread    5) f\b\b\r",
      "STEP   416 / 2402 (thread    1) f\b\b\r",
      "STEP   417 / 2402 (thread    4) f\b\b\r",
      "STEP   418 / 2402 (thread    1) f\b\b\r",
      "STEP   419 / 2402 (thread    5) f\b\b\r",
      "STEP   420 / 2402 (thread    2) f\b\b\r",
      "STEP   421 / 2402 (thread    4) f\b\b\r",
      "STEP   422 / 2402 (thread    0) f\b\b\r",
      "STEP   423 / 2402 (thread    3) f\b\b\r",
      "STEP   424 / 2402 (thread    5) f\b\b\r",
      "STEP   425 / 2402 (thread    1) f\b\b\r",
      "STEP   426 / 2402 (thread    0) f\b\b\r",
      "STEP   427 / 2402 (thread    4) f\b\b\r",
      "STEP   428 / 2402 (thread    2) f\b\b\r",
      "STEP   429 / 2402 (thread    5) f\b\b\r",
      "STEP   430 / 2402 (thread    1) f\b\b\r",
      "STEP   431 / 2402 (thread    3) f\b\b\r",
      "STEP   432 / 2402 (thread    5) f\b\b\r",
      "STEP   433 / 2402 (thread    1) f\b\b\r",
      "STEP   434 / 2402 (thread    0) f\b\b\r",
      "STEP   435 / 2402 (thread    2) f\b\b\r",
      "STEP   436 / 2402 (thread    1) f\b\b\r",
      "STEP   437 / 2402 (thread    3) f\b\b\r",
      "STEP   438 / 2402 (thread    1) f\b\b\r",
      "STEP   439 / 2402 (thread    4) f\b\b\r",
      "STEP   440 / 2402 (thread    5) f\b\b\r",
      "STEP   441 / 2402 (thread    2) f\b\b\r",
      "STEP   442 / 2402 (thread    1) f\b\b\r",
      "STEP   443 / 2402 (thread    3) f\b\b\r",
      "STEP   444 / 2402 (thread    0) f\b\b\r",
      "STEP   445 / 2402 (thread    1) f\b\b\r",
      "STEP   446 / 2402 (thread    5) f\b\b\r",
      "STEP   448 / 2402 (thread    0) f\b\b\r",
      "STEP   449 / 2402 (thread    1) f\b\b\r",
      "STEP   450 / 2402 (thread    2) f\b\b\r",
      "STEP   451 / 2402 (thread    3) f\b\b\r",
      "STEP   452 / 2402 (thread    0) f\b\b\r",
      "STEP   453 / 2402 (thread    5) f\b\b\r",
      "STEP   447 / 2402 (thread    4) f\b\b\r",
      "STEP   454 / 2402 (thread    5) f\b\b\r",
      "STEP   455 / 2402 (thread    0) f\b\b\r",
      "STEP   456 / 2402 (thread    1) f\b\b\r",
      "STEP   457 / 2402 (thread    5) f\b\b\r",
      "STEP   458 / 2402 (thread    1) f\b\b\r",
      "STEP   459 / 2402 (thread    0) f\b\b\r",
      "STEP   460 / 2402 (thread    5) f\b\b\r",
      "STEP   461 / 2402 (thread    2) f\b\b\r",
      "STEP   462 / 2402 (thread    3) f\b\b\r",
      "STEP   463 / 2402 (thread    4) f\b\b\r",
      "STEP   464 / 2402 (thread    1) f\b\b\r",
      "STEP   465 / 2402 (thread    4) f\b\b\r",
      "STEP   466 / 2402 (thread    5) f\b\b\r",
      "STEP   467 / 2402 (thread    1) f\b\b\r",
      "STEP   468 / 2402 (thread    0) f\b\b\r",
      "STEP   469 / 2402 (thread    4) f\b\b\r",
      "STEP   470 / 2402 (thread    3) f\b\b\r",
      "STEP   471 / 2402 (thread    2) f\b\b\r",
      "STEP   472 / 2402 (thread    5) f\b\b\r",
      "STEP   473 / 2402 (thread    1) f\b\b\r",
      "STEP   474 / 2402 (thread    5) f\b\b\r",
      "STEP   475 / 2402 (thread    2) f\b\b\r",
      "STEP   476 / 2402 (thread    1) f\b\b\r",
      "STEP   477 / 2402 (thread    5) f\b\b\r",
      "STEP   478 / 2402 (thread    0) f\b\b\r",
      "STEP   479 / 2402 (thread    4) f\b\b\r",
      "STEP   480 / 2402 (thread    1) f\b\b\r",
      "STEP   481 / 2402 (thread    3) f\b\b\r",
      "STEP   482 / 2402 (thread    2) f\b\b\r",
      "STEP   483 / 2402 (thread    4) f\b\b\r",
      "STEP   484 / 2402 (thread    5) f\b\b\r",
      "STEP   485 / 2402 (thread    1) f\b\b\r",
      "STEP   486 / 2402 (thread    2) f\b\b\r",
      "STEP   487 / 2402 (thread    5) f\b\b\r",
      "STEP   488 / 2402 (thread    0) f\b\b\r",
      "STEP   489 / 2402 (thread    4) f\b\b\r",
      "STEP   490 / 2402 (thread    3) f\b\b\r",
      "STEP   491 / 2402 (thread    1) f\b\b\r",
      "STEP   492 / 2402 (thread    5) f\b\b\r",
      "STEP   493 / 2402 (thread    0) f\b\b\r",
      "STEP   494 / 2402 (thread    4) f\b\b\r",
      "STEP   495 / 2402 (thread    1) f\b\b\r",
      "STEP   496 / 2402 (thread    5) f\b\b\r",
      "STEP   497 / 2402 (thread    2) f\b\b\r",
      "STEP   498 / 2402 (thread    4) f\b\b\r",
      "STEP   499 / 2402 (thread    3) f\b\b\r",
      "STEP   500 / 2402 (thread    1) f\b\b\r",
      "STEP   501 / 2402 (thread    0) f\b\b\r",
      "STEP   601 / 2402 (thread    1) f\b\b\r",
      "STEP   701 / 2402 (thread    4) f\b\b\r",
      "STEP   801 / 2402 (thread    5) f\b\b"
     ]
    },
    {
     "name": "stderr",
     "output_type": "stream",
     "text": [
      "\r",
      "STEP   901 / 2402 (thread    1) f\b\b\r",
      "STEP  1001 / 2402 (thread    4) f\b\b\r",
      "STEP  1101 / 2402 (thread    3) f\b\b\r",
      "STEP  1201 / 2402 (thread    0) f\b\b\r",
      "STEP  1301 / 2402 (thread    5) f\b\b\r",
      "STEP  1401 / 2402 (thread    3) f\b\b\r",
      "STEP  1501 / 2402 (thread    5) f\b\b"
     ]
    },
    {
     "name": "stderr",
     "output_type": "stream",
     "text": [
      "\r",
      "STEP  1601 / 2402 (thread    5) f\b\b\r",
      "STEP  1701 / 2402 (thread    2) f\b\b\n",
      "Reallocating..done. *alloclen = 1935\n",
      "\r",
      "STEP  1801 / 2402 (thread    1) f\b\b\r",
      "STEP  1901 / 2402 (thread    5) f\b\b\r",
      "STEP  2001 / 2402 (thread    1) f\b\b"
     ]
    },
    {
     "name": "stderr",
     "output_type": "stream",
     "text": [
      "\r",
      "STEP  2101 / 2402 (thread    3) f\b\b\r",
      "STEP  2201 / 2402 (thread    2) f\b\b\r",
      "STEP  2301 / 2402 (thread    3) f\b\b"
     ]
    },
    {
     "name": "stderr",
     "output_type": "stream",
     "text": [
      "\r",
      "STEP  2401 / 2402 (thread    2) d\b\b h\n",
      "done.\n",
      "\n",
      "disttbfast (nuc) Version 7.490\n",
      "alg=A, model=DNA200 (2), 1.53 (4.59), -0.00 (-0.00), noshift, amax=0.0\n",
      "6 thread(s)\n",
      "\n"
     ]
    },
    {
     "name": "stderr",
     "output_type": "stream",
     "text": [
      "\n",
      "Strategy:\n",
      " FFT-NS-2 (Fast but rough)\n",
      " Progressive method (guide trees were built 2 times.)\n",
      "\n",
      "If unsure which option to use, try 'mafft --auto input > output'.\n",
      "For more information, see 'mafft --help', 'mafft --man' and the mafft page.\n",
      "\n",
      "The default gap scoring scheme has been changed in version 7.110 (2013 Oct).\n",
      "It tends to insert more gaps into gap-rich regions than previous versions.\n",
      "To disable this change, add the --leavegappyregion option.\n",
      "\n"
     ]
    },
    {
     "name": "stdout",
     "output_type": "stream",
     "text": [
      "{'max_gap_frequency': 1.0, 'min_conservation': 0.4, 'alignment': TabularMSA[DNA]\n",
      "-----------------------------------------------------------------------\n",
      "Stats:\n",
      "    sequence count: 2403\n",
      "    position count: 1262\n",
      "-----------------------------------------------------------------------\n",
      "--------------------------------- ... CGCTGAGGCGCGAAAGCGTGGGGAGCAAACAGG\n",
      "--------------------------------- ... ---------------------------------\n",
      "...\n",
      "--------------------------------- ... CGTTGAGGCTCGAAAGCGTGGGGAGCAAACAGG\n",
      "--------------------------------- ... ---------------------------------}\n",
      "{'max_gap_frequency': 1.0, 'min_conservation': 0.4, 'alignment': TabularMSA[DNA]\n",
      "-----------------------------------------------------------------------\n",
      "Stats:\n",
      "    sequence count: 2403\n",
      "    position count: 1262\n",
      "-----------------------------------------------------------------------\n",
      "--------------------------------- ... CGCTGAGGCGCGAAAGCGTGGGGAGCAAACAGG\n",
      "--------------------------------- ... ---------------------------------\n",
      "...\n",
      "--------------------------------- ... CGTTGAGGCTCGAAAGCGTGGGGAGCAAACAGG\n",
      "--------------------------------- ... ---------------------------------}\n"
     ]
    },
    {
     "name": "stdout",
     "output_type": "stream",
     "text": [
      "{'n_threads': 6, 'alignment': <q2_types.feature_data._format.AlignedDNAFASTAFormat object at 0x7f63379d32e0>}\n",
      "{'n_threads': 6, 'alignment': <q2_types.feature_data._format.AlignedDNAFASTAFormat object at 0x7f63379d32e0>}\n",
      "Running external command line application. This may print messages to stdout and/or stderr.\n",
      "The command being run is below. This command cannot be manually re-run as it will depend on temporary files that no longer exist.\n",
      "\n",
      "Command: FastTreeMP -quote -nt /tmp/qiime2-archive-wlo48ukk/a3c02887-b2f1-4d60-b396-8ca98e6ccce9/data/aligned-dna-sequences.fasta\n",
      "\n"
     ]
    },
    {
     "name": "stderr",
     "output_type": "stream",
     "text": [
      "FastTree Version 2.1.10 Double precision (No SSE3), OpenMP (6 threads)\n",
      "Alignment: /tmp/qiime2-archive-wlo48ukk/a3c02887-b2f1-4d60-b396-8ca98e6ccce9/data/aligned-dna-sequences.fasta\n",
      "Nucleotide distances: Jukes-Cantor Joins: balanced Support: SH-like 1000\n",
      "Search: Normal +NNI +SPR (2 rounds range 10) +ML-NNI opt-each=1\n",
      "TopHits: 1.00*sqrtN close=default refresh=0.80\n",
      "ML Model: Jukes-Cantor, CAT approximation with 20 rate categories\n",
      "      0.13 seconds: Top hits for    710 of   2305 seqs (at seed    300)\n"
     ]
    },
    {
     "name": "stderr",
     "output_type": "stream",
     "text": [
      "      0.24 seconds: Top hits for   1578 of   2305 seqs (at seed   1300)\n",
      "      0.34 seconds: Checking top hits for      1 of   2305 seqs\n"
     ]
    },
    {
     "name": "stderr",
     "output_type": "stream",
     "text": [
      "      0.48 seconds: Joined    100 of   2302\n"
     ]
    },
    {
     "name": "stderr",
     "output_type": "stream",
     "text": [
      "      0.71 seconds: Joined    200 of   2302\n",
      "      0.88 seconds: Joined    300 of   2302\n"
     ]
    },
    {
     "name": "stderr",
     "output_type": "stream",
     "text": [
      "      1.13 seconds: Joined    400 of   2302\n",
      "      1.27 seconds: Joined    500 of   2302\n"
     ]
    },
    {
     "name": "stderr",
     "output_type": "stream",
     "text": [
      "      1.48 seconds: Joined    600 of   2302\n",
      "      1.63 seconds: Joined    700 of   2302\n"
     ]
    },
    {
     "name": "stderr",
     "output_type": "stream",
     "text": [
      "      1.83 seconds: Joined    800 of   2302\n",
      "      1.98 seconds: Joined    900 of   2302\n"
     ]
    },
    {
     "name": "stderr",
     "output_type": "stream",
     "text": [
      "      2.22 seconds: Joined   1000 of   2302\n"
     ]
    },
    {
     "name": "stderr",
     "output_type": "stream",
     "text": [
      "      2.43 seconds: Joined   1100 of   2302\n",
      "      2.62 seconds: Joined   1200 of   2302\n"
     ]
    },
    {
     "name": "stderr",
     "output_type": "stream",
     "text": [
      "      2.82 seconds: Joined   1300 of   2302\n",
      "      3.02 seconds: Joined   1400 of   2302\n"
     ]
    },
    {
     "name": "stderr",
     "output_type": "stream",
     "text": [
      "      3.16 seconds: Joined   1500 of   2302\n"
     ]
    },
    {
     "name": "stderr",
     "output_type": "stream",
     "text": [
      "      3.36 seconds: Joined   1600 of   2302\n",
      "      3.54 seconds: Joined   1700 of   2302\n"
     ]
    },
    {
     "name": "stderr",
     "output_type": "stream",
     "text": [
      "      3.76 seconds: Joined   1800 of   2302\n",
      "      3.91 seconds: Joined   1900 of   2302\n"
     ]
    },
    {
     "name": "stderr",
     "output_type": "stream",
     "text": [
      "      4.13 seconds: Joined   2000 of   2302\n",
      "      4.33 seconds: Joined   2100 of   2302\n"
     ]
    },
    {
     "name": "stderr",
     "output_type": "stream",
     "text": [
      "      4.50 seconds: Joined   2200 of   2302\n",
      "      4.61 seconds: Joined   2300 of   2302\n",
      "Initial topology in 4.62 seconds\n",
      "Refining topology: 45 rounds ME-NNIs, 2 rounds ME-SPRs, 22 rounds ML-NNIs\n"
     ]
    },
    {
     "name": "stderr",
     "output_type": "stream",
     "text": [
      "      4.72 seconds: ME NNI round 1 of 45, 1401 of 2303 splits, 339 changes (max delta 0.052)\n",
      "      4.82 seconds: ME NNI round 2 of 45, 501 of 2303 splits, 51 changes (max delta 0.023)\n"
     ]
    },
    {
     "name": "stderr",
     "output_type": "stream",
     "text": [
      "      4.92 seconds: ME NNI round 2 of 45, 1901 of 2303 splits, 282 changes (max delta 0.044)\n",
      "      5.03 seconds: ME NNI round 3 of 45, 1001 of 2303 splits, 100 changes (max delta 0.028)\n"
     ]
    },
    {
     "name": "stderr",
     "output_type": "stream",
     "text": [
      "      5.13 seconds: ME NNI round 4 of 45, 601 of 2303 splits, 62 changes (max delta 0.048)\n",
      "      5.23 seconds: ME NNI round 5 of 45, 701 of 2303 splits, 66 changes (max delta 0.037)\n"
     ]
    },
    {
     "name": "stderr",
     "output_type": "stream",
     "text": [
      "      5.33 seconds: ME NNI round 8 of 45, 1 of 2303 splits\n",
      "      5.48 seconds: SPR round   1 of   2, 101 of 4608 nodes\n"
     ]
    },
    {
     "name": "stderr",
     "output_type": "stream",
     "text": [
      "      5.61 seconds: SPR round   1 of   2, 201 of 4608 nodes\n",
      "      5.73 seconds: SPR round   1 of   2, 301 of 4608 nodes\n"
     ]
    },
    {
     "name": "stderr",
     "output_type": "stream",
     "text": [
      "      5.85 seconds: SPR round   1 of   2, 401 of 4608 nodes\n",
      "      6.00 seconds: SPR round   1 of   2, 501 of 4608 nodes\n"
     ]
    },
    {
     "name": "stderr",
     "output_type": "stream",
     "text": [
      "      6.11 seconds: SPR round   1 of   2, 601 of 4608 nodes\n",
      "      6.23 seconds: SPR round   1 of   2, 701 of 4608 nodes\n"
     ]
    },
    {
     "name": "stderr",
     "output_type": "stream",
     "text": [
      "      6.33 seconds: SPR round   1 of   2, 801 of 4608 nodes\n",
      "      6.47 seconds: SPR round   1 of   2, 901 of 4608 nodes\n"
     ]
    },
    {
     "name": "stderr",
     "output_type": "stream",
     "text": [
      "      6.57 seconds: SPR round   1 of   2, 1001 of 4608 nodes\n",
      "      6.68 seconds: SPR round   1 of   2, 1101 of 4608 nodes\n"
     ]
    },
    {
     "name": "stderr",
     "output_type": "stream",
     "text": [
      "      6.81 seconds: SPR round   1 of   2, 1201 of 4608 nodes\n",
      "      6.92 seconds: SPR round   1 of   2, 1301 of 4608 nodes\n"
     ]
    },
    {
     "name": "stderr",
     "output_type": "stream",
     "text": [
      "      7.03 seconds: SPR round   1 of   2, 1401 of 4608 nodes\n",
      "      7.16 seconds: SPR round   1 of   2, 1501 of 4608 nodes\n"
     ]
    },
    {
     "name": "stderr",
     "output_type": "stream",
     "text": [
      "      7.29 seconds: SPR round   1 of   2, 1601 of 4608 nodes\n",
      "      7.40 seconds: SPR round   1 of   2, 1701 of 4608 nodes\n"
     ]
    },
    {
     "name": "stderr",
     "output_type": "stream",
     "text": [
      "      7.51 seconds: SPR round   1 of   2, 1801 of 4608 nodes\n",
      "      7.61 seconds: SPR round   1 of   2, 1901 of 4608 nodes\n"
     ]
    },
    {
     "name": "stderr",
     "output_type": "stream",
     "text": [
      "      7.73 seconds: SPR round   1 of   2, 2001 of 4608 nodes\n",
      "      7.84 seconds: SPR round   1 of   2, 2101 of 4608 nodes\n"
     ]
    },
    {
     "name": "stderr",
     "output_type": "stream",
     "text": [
      "      7.95 seconds: SPR round   1 of   2, 2201 of 4608 nodes\n",
      "      8.08 seconds: SPR round   1 of   2, 2301 of 4608 nodes\n"
     ]
    },
    {
     "name": "stderr",
     "output_type": "stream",
     "text": [
      "      8.30 seconds: SPR round   1 of   2, 2501 of 4608 nodes\n"
     ]
    },
    {
     "name": "stderr",
     "output_type": "stream",
     "text": [
      "      8.52 seconds: SPR round   1 of   2, 2701 of 4608 nodes\n"
     ]
    },
    {
     "name": "stderr",
     "output_type": "stream",
     "text": [
      "      8.72 seconds: SPR round   1 of   2, 2901 of 4608 nodes\n",
      "      8.91 seconds: SPR round   1 of   2, 3101 of 4608 nodes\n"
     ]
    },
    {
     "name": "stderr",
     "output_type": "stream",
     "text": [
      "      9.01 seconds: SPR round   1 of   2, 3201 of 4608 nodes\n",
      "      9.20 seconds: SPR round   1 of   2, 3401 of 4608 nodes\n"
     ]
    },
    {
     "name": "stderr",
     "output_type": "stream",
     "text": [
      "      9.40 seconds: SPR round   1 of   2, 3601 of 4608 nodes\n",
      "      9.60 seconds: SPR round   1 of   2, 3801 of 4608 nodes\n"
     ]
    },
    {
     "name": "stderr",
     "output_type": "stream",
     "text": [
      "      9.73 seconds: SPR round   1 of   2, 3901 of 4608 nodes\n",
      "      9.84 seconds: SPR round   1 of   2, 4001 of 4608 nodes\n"
     ]
    },
    {
     "name": "stderr",
     "output_type": "stream",
     "text": [
      "     10.04 seconds: SPR round   1 of   2, 4201 of 4608 nodes\n"
     ]
    },
    {
     "name": "stderr",
     "output_type": "stream",
     "text": [
      "     10.25 seconds: SPR round   1 of   2, 4401 of 4608 nodes\n",
      "     10.37 seconds: SPR round   1 of   2, 4501 of 4608 nodes\n"
     ]
    },
    {
     "name": "stderr",
     "output_type": "stream",
     "text": [
      "     10.49 seconds: SPR round   1 of   2, 4601 of 4608 nodes\n",
      "     10.59 seconds: ME NNI round 16 of 45, 1701 of 2303 splits, 46 changes (max delta 0.066)\n"
     ]
    },
    {
     "name": "stderr",
     "output_type": "stream",
     "text": [
      "     10.69 seconds: ME NNI round 17 of 45, 1201 of 2303 splits, 13 changes (max delta 0.004)\n",
      "     10.79 seconds: ME NNI round 19 of 45, 201 of 2303 splits, 8 changes (max delta 0.003)\n"
     ]
    },
    {
     "name": "stderr",
     "output_type": "stream",
     "text": [
      "     10.93 seconds: SPR round   2 of   2, 101 of 4608 nodes\n",
      "     11.03 seconds: SPR round   2 of   2, 201 of 4608 nodes\n"
     ]
    },
    {
     "name": "stderr",
     "output_type": "stream",
     "text": [
      "     11.13 seconds: SPR round   2 of   2, 301 of 4608 nodes\n",
      "     11.31 seconds: SPR round   2 of   2, 501 of 4608 nodes\n"
     ]
    },
    {
     "name": "stderr",
     "output_type": "stream",
     "text": [
      "     11.49 seconds: SPR round   2 of   2, 701 of 4608 nodes\n"
     ]
    },
    {
     "name": "stderr",
     "output_type": "stream",
     "text": [
      "     11.69 seconds: SPR round   2 of   2, 901 of 4608 nodes\n"
     ]
    },
    {
     "name": "stderr",
     "output_type": "stream",
     "text": [
      "     11.90 seconds: SPR round   2 of   2, 1101 of 4608 nodes\n",
      "     12.08 seconds: SPR round   2 of   2, 1301 of 4608 nodes\n"
     ]
    },
    {
     "name": "stderr",
     "output_type": "stream",
     "text": [
      "     12.28 seconds: SPR round   2 of   2, 1501 of 4608 nodes\n",
      "     12.39 seconds: SPR round   2 of   2, 1601 of 4608 nodes\n"
     ]
    },
    {
     "name": "stderr",
     "output_type": "stream",
     "text": [
      "     12.51 seconds: SPR round   2 of   2, 1701 of 4608 nodes\n",
      "     12.62 seconds: SPR round   2 of   2, 1801 of 4608 nodes\n"
     ]
    },
    {
     "name": "stderr",
     "output_type": "stream",
     "text": [
      "     12.72 seconds: SPR round   2 of   2, 1901 of 4608 nodes\n",
      "     12.84 seconds: SPR round   2 of   2, 2001 of 4608 nodes\n"
     ]
    },
    {
     "name": "stderr",
     "output_type": "stream",
     "text": [
      "     12.94 seconds: SPR round   2 of   2, 2101 of 4608 nodes\n",
      "     13.05 seconds: SPR round   2 of   2, 2201 of 4608 nodes\n"
     ]
    },
    {
     "name": "stderr",
     "output_type": "stream",
     "text": [
      "     13.16 seconds: SPR round   2 of   2, 2301 of 4608 nodes\n",
      "     13.29 seconds: SPR round   2 of   2, 2401 of 4608 nodes\n"
     ]
    },
    {
     "name": "stderr",
     "output_type": "stream",
     "text": [
      "     13.40 seconds: SPR round   2 of   2, 2501 of 4608 nodes\n",
      "     13.50 seconds: SPR round   2 of   2, 2601 of 4608 nodes\n"
     ]
    },
    {
     "name": "stderr",
     "output_type": "stream",
     "text": [
      "     13.62 seconds: SPR round   2 of   2, 2701 of 4608 nodes\n",
      "     13.74 seconds: SPR round   2 of   2, 2801 of 4608 nodes\n"
     ]
    },
    {
     "name": "stderr",
     "output_type": "stream",
     "text": [
      "     13.94 seconds: SPR round   2 of   2, 3001 of 4608 nodes\n",
      "     14.13 seconds: SPR round   2 of   2, 3201 of 4608 nodes\n"
     ]
    },
    {
     "name": "stderr",
     "output_type": "stream",
     "text": [
      "     14.31 seconds: SPR round   2 of   2, 3401 of 4608 nodes\n",
      "     14.49 seconds: SPR round   2 of   2, 3601 of 4608 nodes\n"
     ]
    },
    {
     "name": "stderr",
     "output_type": "stream",
     "text": [
      "     14.67 seconds: SPR round   2 of   2, 3801 of 4608 nodes\n",
      "     14.78 seconds: SPR round   2 of   2, 3901 of 4608 nodes\n"
     ]
    },
    {
     "name": "stderr",
     "output_type": "stream",
     "text": [
      "     14.89 seconds: SPR round   2 of   2, 4001 of 4608 nodes\n",
      "     15.08 seconds: SPR round   2 of   2, 4201 of 4608 nodes\n"
     ]
    },
    {
     "name": "stderr",
     "output_type": "stream",
     "text": [
      "     15.18 seconds: SPR round   2 of   2, 4301 of 4608 nodes\n"
     ]
    },
    {
     "name": "stderr",
     "output_type": "stream",
     "text": [
      "     15.40 seconds: SPR round   2 of   2, 4501 of 4608 nodes\n",
      "     15.52 seconds: SPR round   2 of   2, 4601 of 4608 nodes\n"
     ]
    },
    {
     "name": "stderr",
     "output_type": "stream",
     "text": [
      "     15.62 seconds: ME NNI round 31 of 45, 1701 of 2303 splits, 10 changes (max delta 0.012)\n",
      "     15.72 seconds: ME NNI round 32 of 45, 1301 of 2303 splits, 4 changes (max delta 0.001)\n"
     ]
    },
    {
     "name": "stderr",
     "output_type": "stream",
     "text": [
      "     15.83 seconds: ME NNI round 41 of 45, 1 of 2303 splits\n",
      "Total branch-length 48.271 after 16.00 sec\n",
      "     16.02 seconds: ML Lengths 1 of 2303 splits\n"
     ]
    },
    {
     "name": "stderr",
     "output_type": "stream",
     "text": [
      "     16.16 seconds: ML Lengths 201 of 2303 splits\n",
      "     16.30 seconds: ML Lengths 401 of 2303 splits\n"
     ]
    },
    {
     "name": "stderr",
     "output_type": "stream",
     "text": [
      "     16.43 seconds: ML Lengths 601 of 2303 splits\n",
      "     16.57 seconds: ML Lengths 801 of 2303 splits\n"
     ]
    },
    {
     "name": "stderr",
     "output_type": "stream",
     "text": [
      "     16.72 seconds: ML Lengths 1001 of 2303 splits\n",
      "     16.86 seconds: ML Lengths 1201 of 2303 splits\n"
     ]
    },
    {
     "name": "stderr",
     "output_type": "stream",
     "text": [
      "     17.01 seconds: ML Lengths 1401 of 2303 splits\n",
      "     17.15 seconds: ML Lengths 1601 of 2303 splits\n"
     ]
    },
    {
     "name": "stderr",
     "output_type": "stream",
     "text": [
      "     17.30 seconds: ML Lengths 1801 of 2303 splits\n",
      "     17.44 seconds: ML Lengths 2001 of 2303 splits\n"
     ]
    },
    {
     "name": "stderr",
     "output_type": "stream",
     "text": [
      "     17.58 seconds: ML Lengths 2201 of 2303 splits\n"
     ]
    },
    {
     "name": "stderr",
     "output_type": "stream",
     "text": [
      "     17.82 seconds: ML NNI round 1 of 22, 101 of 2303 splits, 20 changes (max delta 6.528)\n",
      "     18.00 seconds: ML NNI round 1 of 22, 201 of 2303 splits, 53 changes (max delta 26.177)\n"
     ]
    },
    {
     "name": "stderr",
     "output_type": "stream",
     "text": [
      "     18.16 seconds: ML NNI round 1 of 22, 301 of 2303 splits, 80 changes (max delta 26.177)\n",
      "     18.31 seconds: ML NNI round 1 of 22, 401 of 2303 splits, 100 changes (max delta 26.177)\n"
     ]
    },
    {
     "name": "stderr",
     "output_type": "stream",
     "text": [
      "     18.48 seconds: ML NNI round 1 of 22, 501 of 2303 splits, 121 changes (max delta 26.177)\n",
      "     18.64 seconds: ML NNI round 1 of 22, 601 of 2303 splits, 138 changes (max delta 26.177)\n"
     ]
    },
    {
     "name": "stderr",
     "output_type": "stream",
     "text": [
      "     18.80 seconds: ML NNI round 1 of 22, 701 of 2303 splits, 157 changes (max delta 26.177)\n",
      "     18.97 seconds: ML NNI round 1 of 22, 801 of 2303 splits, 185 changes (max delta 26.177)\n"
     ]
    },
    {
     "name": "stderr",
     "output_type": "stream",
     "text": [
      "     19.14 seconds: ML NNI round 1 of 22, 901 of 2303 splits, 219 changes (max delta 26.177)\n",
      "     19.31 seconds: ML NNI round 1 of 22, 1001 of 2303 splits, 257 changes (max delta 26.177)\n"
     ]
    },
    {
     "name": "stderr",
     "output_type": "stream",
     "text": [
      "     19.50 seconds: ML NNI round 1 of 22, 1101 of 2303 splits, 284 changes (max delta 53.565)\n",
      "     19.67 seconds: ML NNI round 1 of 22, 1201 of 2303 splits, 313 changes (max delta 53.565)\n"
     ]
    },
    {
     "name": "stderr",
     "output_type": "stream",
     "text": [
      "     19.84 seconds: ML NNI round 1 of 22, 1301 of 2303 splits, 344 changes (max delta 53.565)\n",
      "     20.01 seconds: ML NNI round 1 of 22, 1401 of 2303 splits, 374 changes (max delta 53.565)\n"
     ]
    },
    {
     "name": "stderr",
     "output_type": "stream",
     "text": [
      "     20.18 seconds: ML NNI round 1 of 22, 1501 of 2303 splits, 401 changes (max delta 53.565)\n",
      "     20.35 seconds: ML NNI round 1 of 22, 1601 of 2303 splits, 416 changes (max delta 53.565)\n"
     ]
    },
    {
     "name": "stderr",
     "output_type": "stream",
     "text": [
      "     20.50 seconds: ML NNI round 1 of 22, 1701 of 2303 splits, 438 changes (max delta 53.565)\n",
      "     20.65 seconds: ML NNI round 1 of 22, 1801 of 2303 splits, 460 changes (max delta 53.565)\n"
     ]
    },
    {
     "name": "stderr",
     "output_type": "stream",
     "text": [
      "     20.81 seconds: ML NNI round 1 of 22, 1901 of 2303 splits, 485 changes (max delta 53.565)\n",
      "     20.98 seconds: ML NNI round 1 of 22, 2001 of 2303 splits, 508 changes (max delta 53.565)\n"
     ]
    },
    {
     "name": "stderr",
     "output_type": "stream",
     "text": [
      "     21.14 seconds: ML NNI round 1 of 22, 2101 of 2303 splits, 531 changes (max delta 53.565)\n",
      "     21.31 seconds: ML NNI round 1 of 22, 2201 of 2303 splits, 559 changes (max delta 53.565)\n"
     ]
    },
    {
     "name": "stderr",
     "output_type": "stream",
     "text": [
      "     21.47 seconds: ML NNI round 1 of 22, 2301 of 2303 splits, 579 changes (max delta 53.565)\n",
      "ML-NNI round 1: LogLk = -127791.632 NNIs 579 max delta 53.56 Time 21.53\n",
      "     21.62 seconds: Site likelihoods with rate category 1 of 20\n"
     ]
    },
    {
     "name": "stderr",
     "output_type": "stream",
     "text": [
      "     21.81 seconds: Site likelihoods with rate category 3 of 20\n",
      "     21.99 seconds: Site likelihoods with rate category 5 of 20\n"
     ]
    },
    {
     "name": "stderr",
     "output_type": "stream",
     "text": [
      "     22.18 seconds: Site likelihoods with rate category 7 of 20\n",
      "     22.36 seconds: Site likelihoods with rate category 9 of 20\n"
     ]
    },
    {
     "name": "stderr",
     "output_type": "stream",
     "text": [
      "     22.55 seconds: Site likelihoods with rate category 11 of 20\n",
      "     22.73 seconds: Site likelihoods with rate category 13 of 20\n"
     ]
    },
    {
     "name": "stderr",
     "output_type": "stream",
     "text": [
      "     22.92 seconds: Site likelihoods with rate category 15 of 20\n",
      "     23.10 seconds: Site likelihoods with rate category 17 of 20\n"
     ]
    },
    {
     "name": "stderr",
     "output_type": "stream",
     "text": [
      "     23.28 seconds: Site likelihoods with rate category 19 of 20\n",
      "Switched to using 20 rate categories (CAT approximation)\n",
      "Rate categories were divided by 0.973 so that average rate = 1.0\n",
      "CAT-based log-likelihoods may not be comparable across runs\n",
      "Use -gamma for approximate but comparable Gamma(20) log-likelihoods\n",
      "     23.42 seconds: ML NNI round 2 of 22, 1 of 2303 splits\n"
     ]
    },
    {
     "name": "stderr",
     "output_type": "stream",
     "text": [
      "     23.60 seconds: ML NNI round 2 of 22, 101 of 2303 splits, 15 changes (max delta 0.852)\n",
      "     23.79 seconds: ML NNI round 2 of 22, 201 of 2303 splits, 30 changes (max delta 9.343)\n"
     ]
    },
    {
     "name": "stderr",
     "output_type": "stream",
     "text": [
      "     23.98 seconds: ML NNI round 2 of 22, 301 of 2303 splits, 50 changes (max delta 9.343)\n",
      "     24.17 seconds: ML NNI round 2 of 22, 401 of 2303 splits, 69 changes (max delta 9.799)\n"
     ]
    },
    {
     "name": "stderr",
     "output_type": "stream",
     "text": [
      "     24.35 seconds: ML NNI round 2 of 22, 501 of 2303 splits, 97 changes (max delta 13.520)\n",
      "     24.54 seconds: ML NNI round 2 of 22, 601 of 2303 splits, 112 changes (max delta 13.520)\n"
     ]
    },
    {
     "name": "stderr",
     "output_type": "stream",
     "text": [
      "     24.73 seconds: ML NNI round 2 of 22, 701 of 2303 splits, 140 changes (max delta 80.710)\n",
      "     24.92 seconds: ML NNI round 2 of 22, 801 of 2303 splits, 152 changes (max delta 80.710)\n"
     ]
    },
    {
     "name": "stderr",
     "output_type": "stream",
     "text": [
      "     25.11 seconds: ML NNI round 2 of 22, 901 of 2303 splits, 174 changes (max delta 80.710)\n",
      "     25.30 seconds: ML NNI round 2 of 22, 1001 of 2303 splits, 190 changes (max delta 80.710)\n"
     ]
    },
    {
     "name": "stderr",
     "output_type": "stream",
     "text": [
      "     25.47 seconds: ML NNI round 2 of 22, 1101 of 2303 splits, 208 changes (max delta 80.710)\n",
      "     25.65 seconds: ML NNI round 2 of 22, 1201 of 2303 splits, 226 changes (max delta 80.710)\n"
     ]
    },
    {
     "name": "stderr",
     "output_type": "stream",
     "text": [
      "     25.81 seconds: ML NNI round 2 of 22, 1301 of 2303 splits, 238 changes (max delta 80.710)\n",
      "     25.96 seconds: ML NNI round 2 of 22, 1401 of 2303 splits, 259 changes (max delta 80.710)\n"
     ]
    },
    {
     "name": "stderr",
     "output_type": "stream",
     "text": [
      "     26.12 seconds: ML NNI round 2 of 22, 1501 of 2303 splits, 271 changes (max delta 80.710)\n",
      "     26.30 seconds: ML NNI round 2 of 22, 1601 of 2303 splits, 288 changes (max delta 80.710)\n"
     ]
    },
    {
     "name": "stderr",
     "output_type": "stream",
     "text": [
      "     26.47 seconds: ML NNI round 2 of 22, 1701 of 2303 splits, 308 changes (max delta 80.710)\n",
      "     26.65 seconds: ML NNI round 2 of 22, 1801 of 2303 splits, 320 changes (max delta 80.710)\n"
     ]
    },
    {
     "name": "stderr",
     "output_type": "stream",
     "text": [
      "     26.81 seconds: ML NNI round 2 of 22, 1901 of 2303 splits, 326 changes (max delta 80.710)\n",
      "     26.99 seconds: ML NNI round 2 of 22, 2001 of 2303 splits, 345 changes (max delta 80.710)\n"
     ]
    },
    {
     "name": "stderr",
     "output_type": "stream",
     "text": [
      "     27.15 seconds: ML NNI round 2 of 22, 2101 of 2303 splits, 359 changes (max delta 80.710)\n",
      "     27.32 seconds: ML NNI round 2 of 22, 2201 of 2303 splits, 368 changes (max delta 80.710)\n"
     ]
    },
    {
     "name": "stderr",
     "output_type": "stream",
     "text": [
      "     27.48 seconds: ML NNI round 2 of 22, 2301 of 2303 splits, 381 changes (max delta 80.710)\n",
      "ML-NNI round 2: LogLk = -106563.206 NNIs 381 max delta 80.71 Time 27.54\n"
     ]
    },
    {
     "name": "stderr",
     "output_type": "stream",
     "text": [
      "     27.69 seconds: ML NNI round 3 of 22, 101 of 2303 splits, 14 changes (max delta 6.122)\n",
      "     27.89 seconds: ML NNI round 3 of 22, 201 of 2303 splits, 18 changes (max delta 6.122)\n"
     ]
    },
    {
     "name": "stderr",
     "output_type": "stream",
     "text": [
      "     28.09 seconds: ML NNI round 3 of 22, 301 of 2303 splits, 33 changes (max delta 16.776)\n",
      "     28.26 seconds: ML NNI round 3 of 22, 401 of 2303 splits, 40 changes (max delta 16.776)\n"
     ]
    },
    {
     "name": "stderr",
     "output_type": "stream",
     "text": [
      "     28.44 seconds: ML NNI round 3 of 22, 501 of 2303 splits, 54 changes (max delta 16.776)\n",
      "     28.60 seconds: ML NNI round 3 of 22, 601 of 2303 splits, 66 changes (max delta 16.776)\n"
     ]
    },
    {
     "name": "stderr",
     "output_type": "stream",
     "text": [
      "     28.77 seconds: ML NNI round 3 of 22, 701 of 2303 splits, 78 changes (max delta 16.776)\n",
      "     28.97 seconds: ML NNI round 3 of 22, 801 of 2303 splits, 92 changes (max delta 16.776)\n"
     ]
    },
    {
     "name": "stderr",
     "output_type": "stream",
     "text": [
      "     29.15 seconds: ML NNI round 3 of 22, 901 of 2303 splits, 103 changes (max delta 16.776)\n",
      "     29.32 seconds: ML NNI round 3 of 22, 1001 of 2303 splits, 113 changes (max delta 16.776)\n"
     ]
    },
    {
     "name": "stderr",
     "output_type": "stream",
     "text": [
      "     29.49 seconds: ML NNI round 3 of 22, 1101 of 2303 splits, 131 changes (max delta 16.776)\n",
      "     29.67 seconds: ML NNI round 3 of 22, 1201 of 2303 splits, 147 changes (max delta 24.280)\n"
     ]
    },
    {
     "name": "stderr",
     "output_type": "stream",
     "text": [
      "     29.85 seconds: ML NNI round 3 of 22, 1301 of 2303 splits, 158 changes (max delta 24.280)\n",
      "     30.02 seconds: ML NNI round 3 of 22, 1401 of 2303 splits, 168 changes (max delta 24.280)\n"
     ]
    },
    {
     "name": "stderr",
     "output_type": "stream",
     "text": [
      "     30.19 seconds: ML NNI round 3 of 22, 1501 of 2303 splits, 184 changes (max delta 24.280)\n",
      "     30.36 seconds: ML NNI round 3 of 22, 1601 of 2303 splits, 187 changes (max delta 24.280)\n"
     ]
    },
    {
     "name": "stderr",
     "output_type": "stream",
     "text": [
      "     30.53 seconds: ML NNI round 3 of 22, 1701 of 2303 splits, 195 changes (max delta 24.280)\n",
      "     30.69 seconds: ML NNI round 3 of 22, 1801 of 2303 splits, 205 changes (max delta 24.280)\n"
     ]
    },
    {
     "name": "stderr",
     "output_type": "stream",
     "text": [
      "ML-NNI round 3: LogLk = -106212.677 NNIs 205 max delta 24.28 Time 30.78\n",
      "     30.94 seconds: ML NNI round 4 of 22, 101 of 2303 splits, 7 changes (max delta 0.030)\n"
     ]
    },
    {
     "name": "stderr",
     "output_type": "stream",
     "text": [
      "     31.09 seconds: ML NNI round 4 of 22, 201 of 2303 splits, 10 changes (max delta 5.630)\n",
      "     31.26 seconds: ML NNI round 4 of 22, 301 of 2303 splits, 22 changes (max delta 5.630)\n"
     ]
    },
    {
     "name": "stderr",
     "output_type": "stream",
     "text": [
      "     31.46 seconds: ML NNI round 4 of 22, 401 of 2303 splits, 30 changes (max delta 5.630)\n",
      "     31.65 seconds: ML NNI round 4 of 22, 501 of 2303 splits, 41 changes (max delta 5.630)\n"
     ]
    },
    {
     "name": "stderr",
     "output_type": "stream",
     "text": [
      "     31.84 seconds: ML NNI round 4 of 22, 601 of 2303 splits, 54 changes (max delta 5.630)\n",
      "     32.02 seconds: ML NNI round 4 of 22, 701 of 2303 splits, 64 changes (max delta 5.630)\n"
     ]
    },
    {
     "name": "stderr",
     "output_type": "stream",
     "text": [
      "     32.19 seconds: ML NNI round 4 of 22, 801 of 2303 splits, 72 changes (max delta 5.630)\n",
      "     32.38 seconds: ML NNI round 4 of 22, 901 of 2303 splits, 81 changes (max delta 5.630)\n"
     ]
    },
    {
     "name": "stderr",
     "output_type": "stream",
     "text": [
      "     32.57 seconds: ML NNI round 4 of 22, 1001 of 2303 splits, 91 changes (max delta 6.854)\n",
      "     32.75 seconds: ML NNI round 4 of 22, 1101 of 2303 splits, 96 changes (max delta 6.854)\n"
     ]
    },
    {
     "name": "stderr",
     "output_type": "stream",
     "text": [
      "     32.93 seconds: ML NNI round 4 of 22, 1201 of 2303 splits, 101 changes (max delta 6.854)\n",
      "ML-NNI round 4: LogLk = -106088.372 NNIs 104 max delta 6.85 Time 33.04\n",
      "     33.04 seconds: ML NNI round 5 of 22, 1 of 2303 splits\n"
     ]
    },
    {
     "name": "stderr",
     "output_type": "stream",
     "text": [
      "     33.21 seconds: ML NNI round 5 of 22, 101 of 2303 splits, 5 changes (max delta 5.377)\n",
      "     33.38 seconds: ML NNI round 5 of 22, 201 of 2303 splits, 9 changes (max delta 5.377)\n"
     ]
    },
    {
     "name": "stderr",
     "output_type": "stream",
     "text": [
      "     33.57 seconds: ML NNI round 5 of 22, 301 of 2303 splits, 16 changes (max delta 5.377)\n"
     ]
    },
    {
     "name": "stderr",
     "output_type": "stream",
     "text": [
      "     33.77 seconds: ML NNI round 5 of 22, 401 of 2303 splits, 29 changes (max delta 5.377)\n",
      "     33.96 seconds: ML NNI round 5 of 22, 501 of 2303 splits, 41 changes (max delta 23.583)\n"
     ]
    },
    {
     "name": "stderr",
     "output_type": "stream",
     "text": [
      "     34.15 seconds: ML NNI round 5 of 22, 601 of 2303 splits, 51 changes (max delta 23.583)\n",
      "     34.33 seconds: ML NNI round 5 of 22, 701 of 2303 splits, 57 changes (max delta 23.583)\n"
     ]
    },
    {
     "name": "stderr",
     "output_type": "stream",
     "text": [
      "ML-NNI round 5: LogLk = -105981.211 NNIs 60 max delta 23.58 Time 34.54\n",
      "     34.54 seconds: ML NNI round 6 of 22, 1 of 2303 splits\n",
      "     34.72 seconds: ML NNI round 6 of 22, 101 of 2303 splits, 4 changes (max delta 0.092)\n"
     ]
    },
    {
     "name": "stderr",
     "output_type": "stream",
     "text": [
      "     34.92 seconds: ML NNI round 6 of 22, 201 of 2303 splits, 12 changes (max delta 3.004)\n",
      "     35.09 seconds: ML NNI round 6 of 22, 301 of 2303 splits, 25 changes (max delta 13.218)\n"
     ]
    },
    {
     "name": "stderr",
     "output_type": "stream",
     "text": [
      "     35.29 seconds: ML NNI round 6 of 22, 401 of 2303 splits, 30 changes (max delta 13.218)\n",
      "ML-NNI round 6: LogLk = -105919.662 NNIs 31 max delta 13.22 Time 35.45\n",
      "     35.45 seconds: ML NNI round 7 of 22, 1 of 2303 splits\n"
     ]
    },
    {
     "name": "stderr",
     "output_type": "stream",
     "text": [
      "     35.63 seconds: ML NNI round 7 of 22, 101 of 2303 splits, 5 changes (max delta 0.795)\n",
      "     35.79 seconds: ML NNI round 7 of 22, 201 of 2303 splits, 18 changes (max delta 5.446)\n"
     ]
    },
    {
     "name": "stderr",
     "output_type": "stream",
     "text": [
      "ML-NNI round 7: LogLk = -105902.597 NNIs 19 max delta 5.45 Time 35.97\n",
      "     35.97 seconds: ML NNI round 8 of 22, 1 of 2303 splits\n",
      "     36.15 seconds: ML NNI round 8 of 22, 101 of 2303 splits, 14 changes (max delta 3.211)\n"
     ]
    },
    {
     "name": "stderr",
     "output_type": "stream",
     "text": [
      "ML-NNI round 8: LogLk = -105895.697 NNIs 14 max delta 3.21 Time 36.32\n",
      "     36.32 seconds: ML NNI round 9 of 22, 1 of 2303 splits\n",
      "     36.51 seconds: ML NNI round 9 of 22, 101 of 2303 splits, 5 changes (max delta 0.204)\n"
     ]
    },
    {
     "name": "stderr",
     "output_type": "stream",
     "text": [
      "ML-NNI round 9: LogLk = -105894.901 NNIs 5 max delta 0.20 Time 36.58\n"
     ]
    },
    {
     "name": "stderr",
     "output_type": "stream",
     "text": [
      "ML-NNI round 10: LogLk = -105894.901 NNIs 3 max delta 0.00 Time 36.79\n",
      "Turning off heuristics for final round of ML NNIs (converged)\n",
      "     36.78 seconds: ML NNI round 11 of 22, 1 of 2303 splits\n",
      "     36.95 seconds: ML NNI round 11 of 22, 101 of 2303 splits, 1 changes (max delta 0.000)\n"
     ]
    },
    {
     "name": "stderr",
     "output_type": "stream",
     "text": [
      "     37.12 seconds: ML NNI round 11 of 22, 201 of 2303 splits, 4 changes (max delta 0.036)\n",
      "     37.30 seconds: ML NNI round 11 of 22, 301 of 2303 splits, 5 changes (max delta 0.036)\n"
     ]
    },
    {
     "name": "stderr",
     "output_type": "stream",
     "text": [
      "     37.46 seconds: ML NNI round 11 of 22, 401 of 2303 splits, 5 changes (max delta 0.036)\n",
      "     37.62 seconds: ML NNI round 11 of 22, 501 of 2303 splits, 8 changes (max delta 4.495)\n"
     ]
    },
    {
     "name": "stderr",
     "output_type": "stream",
     "text": [
      "     37.79 seconds: ML NNI round 11 of 22, 601 of 2303 splits, 10 changes (max delta 4.495)\n",
      "     37.98 seconds: ML NNI round 11 of 22, 701 of 2303 splits, 10 changes (max delta 4.495)\n"
     ]
    },
    {
     "name": "stderr",
     "output_type": "stream",
     "text": [
      "     38.17 seconds: ML NNI round 11 of 22, 801 of 2303 splits, 12 changes (max delta 4.495)\n",
      "     38.35 seconds: ML NNI round 11 of 22, 901 of 2303 splits, 17 changes (max delta 4.495)\n"
     ]
    },
    {
     "name": "stderr",
     "output_type": "stream",
     "text": [
      "     38.55 seconds: ML NNI round 11 of 22, 1001 of 2303 splits, 18 changes (max delta 4.495)\n",
      "     38.71 seconds: ML NNI round 11 of 22, 1101 of 2303 splits, 19 changes (max delta 5.002)\n"
     ]
    },
    {
     "name": "stderr",
     "output_type": "stream",
     "text": [
      "     38.88 seconds: ML NNI round 11 of 22, 1201 of 2303 splits, 24 changes (max delta 5.002)\n",
      "     39.02 seconds: ML NNI round 11 of 22, 1301 of 2303 splits, 25 changes (max delta 5.002)\n"
     ]
    },
    {
     "name": "stderr",
     "output_type": "stream",
     "text": [
      "     39.19 seconds: ML NNI round 11 of 22, 1401 of 2303 splits, 25 changes (max delta 5.002)\n",
      "     39.35 seconds: ML NNI round 11 of 22, 1501 of 2303 splits, 26 changes (max delta 5.002)\n"
     ]
    },
    {
     "name": "stderr",
     "output_type": "stream",
     "text": [
      "     39.52 seconds: ML NNI round 11 of 22, 1601 of 2303 splits, 27 changes (max delta 5.002)\n",
      "     39.68 seconds: ML NNI round 11 of 22, 1701 of 2303 splits, 27 changes (max delta 5.002)\n"
     ]
    },
    {
     "name": "stderr",
     "output_type": "stream",
     "text": [
      "     39.84 seconds: ML NNI round 11 of 22, 1801 of 2303 splits, 28 changes (max delta 5.002)\n",
      "     40.01 seconds: ML NNI round 11 of 22, 1901 of 2303 splits, 29 changes (max delta 5.002)\n"
     ]
    },
    {
     "name": "stderr",
     "output_type": "stream",
     "text": [
      "     40.17 seconds: ML NNI round 11 of 22, 2001 of 2303 splits, 29 changes (max delta 5.002)\n",
      "     40.33 seconds: ML NNI round 11 of 22, 2101 of 2303 splits, 31 changes (max delta 5.002)\n"
     ]
    },
    {
     "name": "stderr",
     "output_type": "stream",
     "text": [
      "     40.49 seconds: ML NNI round 11 of 22, 2201 of 2303 splits, 33 changes (max delta 5.002)\n",
      "     40.64 seconds: ML NNI round 11 of 22, 2301 of 2303 splits, 34 changes (max delta 5.002)\n"
     ]
    },
    {
     "name": "stderr",
     "output_type": "stream",
     "text": [
      "ML-NNI round 11: LogLk = -105868.028 NNIs 34 max delta 5.00 Time 40.70 (final)\n",
      "     40.75 seconds: ML Lengths 101 of 2303 splits\n",
      "     40.85 seconds: ML Lengths 301 of 2303 splits\n"
     ]
    },
    {
     "name": "stderr",
     "output_type": "stream",
     "text": [
      "     41.00 seconds: ML Lengths 601 of 2303 splits\n",
      "     41.10 seconds: ML Lengths 801 of 2303 splits\n"
     ]
    },
    {
     "name": "stderr",
     "output_type": "stream",
     "text": [
      "     41.21 seconds: ML Lengths 1001 of 2303 splits\n",
      "     41.31 seconds: ML Lengths 1201 of 2303 splits\n"
     ]
    },
    {
     "name": "stderr",
     "output_type": "stream",
     "text": [
      "     41.41 seconds: ML Lengths 1401 of 2303 splits\n",
      "     41.52 seconds: ML Lengths 1601 of 2303 splits\n"
     ]
    },
    {
     "name": "stderr",
     "output_type": "stream",
     "text": [
      "     41.63 seconds: ML Lengths 1801 of 2303 splits\n",
      "     41.73 seconds: ML Lengths 2001 of 2303 splits\n"
     ]
    },
    {
     "name": "stderr",
     "output_type": "stream",
     "text": [
      "     41.84 seconds: ML Lengths 2201 of 2303 splits\n",
      "Optimize all lengths: LogLk = -105866.445 Time 41.94\n"
     ]
    },
    {
     "name": "stderr",
     "output_type": "stream",
     "text": [
      "     42.25 seconds: ML split tests for    100 of   2302 internal splits\n"
     ]
    },
    {
     "name": "stderr",
     "output_type": "stream",
     "text": [
      "     42.56 seconds: ML split tests for    200 of   2302 internal splits\n"
     ]
    },
    {
     "name": "stderr",
     "output_type": "stream",
     "text": [
      "     42.87 seconds: ML split tests for    300 of   2302 internal splits\n"
     ]
    },
    {
     "name": "stderr",
     "output_type": "stream",
     "text": [
      "     43.17 seconds: ML split tests for    400 of   2302 internal splits\n"
     ]
    },
    {
     "name": "stderr",
     "output_type": "stream",
     "text": [
      "     43.46 seconds: ML split tests for    500 of   2302 internal splits\n"
     ]
    },
    {
     "name": "stderr",
     "output_type": "stream",
     "text": [
      "     43.77 seconds: ML split tests for    600 of   2302 internal splits\n"
     ]
    },
    {
     "name": "stderr",
     "output_type": "stream",
     "text": [
      "     44.07 seconds: ML split tests for    700 of   2302 internal splits\n"
     ]
    },
    {
     "name": "stderr",
     "output_type": "stream",
     "text": [
      "     44.38 seconds: ML split tests for    800 of   2302 internal splits\n"
     ]
    },
    {
     "name": "stderr",
     "output_type": "stream",
     "text": [
      "     44.70 seconds: ML split tests for    900 of   2302 internal splits\n"
     ]
    },
    {
     "name": "stderr",
     "output_type": "stream",
     "text": [
      "     45.02 seconds: ML split tests for   1000 of   2302 internal splits\n"
     ]
    },
    {
     "name": "stderr",
     "output_type": "stream",
     "text": [
      "     45.33 seconds: ML split tests for   1100 of   2302 internal splits\n"
     ]
    },
    {
     "name": "stderr",
     "output_type": "stream",
     "text": [
      "     45.63 seconds: ML split tests for   1200 of   2302 internal splits\n"
     ]
    },
    {
     "name": "stderr",
     "output_type": "stream",
     "text": [
      "     45.93 seconds: ML split tests for   1300 of   2302 internal splits\n"
     ]
    },
    {
     "name": "stderr",
     "output_type": "stream",
     "text": [
      "     46.24 seconds: ML split tests for   1400 of   2302 internal splits\n"
     ]
    },
    {
     "name": "stderr",
     "output_type": "stream",
     "text": [
      "     46.55 seconds: ML split tests for   1500 of   2302 internal splits\n"
     ]
    },
    {
     "name": "stderr",
     "output_type": "stream",
     "text": [
      "     46.88 seconds: ML split tests for   1600 of   2302 internal splits\n"
     ]
    },
    {
     "name": "stderr",
     "output_type": "stream",
     "text": [
      "     47.20 seconds: ML split tests for   1700 of   2302 internal splits\n"
     ]
    },
    {
     "name": "stderr",
     "output_type": "stream",
     "text": [
      "     47.50 seconds: ML split tests for   1800 of   2302 internal splits\n"
     ]
    },
    {
     "name": "stderr",
     "output_type": "stream",
     "text": [
      "     47.80 seconds: ML split tests for   1900 of   2302 internal splits\n"
     ]
    },
    {
     "name": "stderr",
     "output_type": "stream",
     "text": [
      "     48.11 seconds: ML split tests for   2000 of   2302 internal splits\n"
     ]
    },
    {
     "name": "stderr",
     "output_type": "stream",
     "text": [
      "     48.41 seconds: ML split tests for   2100 of   2302 internal splits\n"
     ]
    },
    {
     "name": "stderr",
     "output_type": "stream",
     "text": [
      "     48.71 seconds: ML split tests for   2200 of   2302 internal splits\n"
     ]
    },
    {
     "name": "stderr",
     "output_type": "stream",
     "text": [
      "     49.02 seconds: ML split tests for   2300 of   2302 internal splits\n",
      "Total time: 49.04 seconds Unique: 2305/2403 Bad splits: 2/2302 Worst delta-LogLk 0.224\n"
     ]
    },
    {
     "name": "stdout",
     "output_type": "stream",
     "text": [
      "{'tree': <TreeNode, name: unnamed, internal node count: 2389, tips count: 2403>}\n",
      "{'tree': <TreeNode, name: unnamed, internal node count: 2389, tips count: 2403>}\n"
     ]
    }
   ],
   "source": [
    "mafft_alignment, mafft_masked_alignment, mafft_tree, mafft_rooted_tree = align_to_tree_mafft_fasttree(\n",
    "    sequences=reps, n_threads=6, )"
   ]
  },
  {
   "cell_type": "markdown",
   "id": "0768d598",
   "metadata": {
    "papermill": {
     "duration": 0.059789,
     "end_time": "2023-09-06T23:15:52.987587",
     "exception": false,
     "start_time": "2023-09-06T23:15:52.927798",
     "status": "completed"
    },
    "tags": []
   },
   "source": [
    "### Compute Alpha Diversity (Phylogeny)\n",
    "- [diversity alpha_phylogenetic](https://docs.qiime2.org/2022.8/plugins/available/diversity/alpha-phylogenetic/): Computes a user-specified phylogenetic alpha diversity metric for all samples in a feature table.\n",
    "- Metrics: Choices ('faith_pd')"
   ]
  },
  {
   "cell_type": "code",
   "execution_count": 11,
   "id": "0383aa19",
   "metadata": {
    "ExecuteTime": {
     "end_time": "2022-09-29T20:54:35.310009Z",
     "start_time": "2022-09-29T20:54:35.141333Z"
    },
    "execution": {
     "iopub.execute_input": "2023-09-06T23:15:53.110978Z",
     "iopub.status.busy": "2023-09-06T23:15:53.110643Z",
     "iopub.status.idle": "2023-09-06T23:15:53.380728Z",
     "shell.execute_reply": "2023-09-06T23:15:53.380100Z"
    },
    "papermill": {
     "duration": 0.333414,
     "end_time": "2023-09-06T23:15:53.382300",
     "exception": false,
     "start_time": "2023-09-06T23:15:53.048886",
     "status": "completed"
    },
    "tags": []
   },
   "outputs": [
    {
     "name": "stdout",
     "output_type": "stream",
     "text": [
      "Calculating alpha diversity: faith_pd\n",
      "{'metric': 'faith_pd', 'table': <artifact: FeatureTable[Frequency] uuid: b8c70aab-e476-498b-9b85-38d174c191e2>, 'phylogeny': <artifact: Phylogeny[Rooted] uuid: 56fe8435-a50d-44ba-adc0-e28c550ba0a2>}\n",
      "{'table': <q2_types.feature_table._format.BIOMV210Format object at 0x7f6337a980d0>, 'phylogeny': <q2_types.tree._format.NewickFormat object at 0x7f6337a98640>}\n",
      "{'table': <q2_types.feature_table._format.BIOMV210Format object at 0x7f6337a980d0>, 'phylogeny': <q2_types.tree._format.NewickFormat object at 0x7f6337a98640>}\n"
     ]
    },
    {
     "name": "stdout",
     "output_type": "stream",
     "text": [
      "DONE: Calculating alpha phylogeny: faith_pd\n"
     ]
    }
   ],
   "source": [
    "metrics = ('faith_pd', )\n",
    "alpha_diversities_phylogenetic = dict()\n",
    "for metric in metrics:\n",
    "    print(f\"Calculating alpha diversity: {metric}\")\n",
    "    try:\n",
    "        alpha_diversity = alpha_phylogenetic(table=tabs, phylogeny=mafft_rooted_tree, metric=metric).alpha_diversity\n",
    "        alpha_diversities_phylogenetic[metric] = alpha_diversity\n",
    "        # Save Artifact\n",
    "        file_path = os.path.join(alpha_path, f'alpha-phylogeny-{metric}.qza')\n",
    "        alpha_diversity.save(file_path)\n",
    "        print(f\"DONE: Calculating alpha phylogeny: {metric}\")\n",
    "    except Exception as e:\n",
    "        print(f\"ERROR: Calculating alpha phylogeny: {metric}\")"
   ]
  },
  {
   "cell_type": "markdown",
   "id": "42db1ead",
   "metadata": {
    "papermill": {
     "duration": 0.069633,
     "end_time": "2023-09-06T23:15:53.522471",
     "exception": false,
     "start_time": "2023-09-06T23:15:53.452838",
     "status": "completed"
    },
    "tags": []
   },
   "source": [
    "- [core-metrics-phylogenetic](https://docs.qiime2.org/2023.7/plugins/available/diversity/core-metrics-phylogenetic/)"
   ]
  },
  {
   "cell_type": "code",
   "execution_count": 12,
   "id": "ef726ab7",
   "metadata": {
    "execution": {
     "iopub.execute_input": "2023-09-06T23:15:53.666526Z",
     "iopub.status.busy": "2023-09-06T23:15:53.666269Z",
     "iopub.status.idle": "2023-09-06T23:15:56.452669Z",
     "shell.execute_reply": "2023-09-06T23:15:56.451976Z"
    },
    "papermill": {
     "duration": 2.860364,
     "end_time": "2023-09-06T23:15:56.454331",
     "exception": false,
     "start_time": "2023-09-06T23:15:53.593967",
     "status": "completed"
    },
    "tags": []
   },
   "outputs": [
    {
     "name": "stdout",
     "output_type": "stream",
     "text": [
      "{'sampling_depth': 564, 'metadata': Metadata\n",
      "--------\n",
      "44 IDs x 8 columns\n",
      "class-straw:        ColumnProperties(type='categorical')\n",
      "local-coleta:       ColumnProperties(type='categorical')\n",
      "idade:              ColumnProperties(type='numeric')\n",
      "idade-menarca:      ColumnProperties(type='numeric')\n",
      "tempo-menopausa:    ColumnProperties(type='numeric')\n",
      "above_10:           ColumnProperties(type='categorical')\n",
      "menopausa-age-qcut: ColumnProperties(type='categorical')\n",
      "menopausa-age-bins: ColumnProperties(type='categorical')\n",
      "\n",
      "Call to_dataframe() for a tabular representation., 'n_jobs_or_threads': 6, 'table': <artifact: FeatureTable[Frequency] uuid: b8c70aab-e476-498b-9b85-38d174c191e2>, 'phylogeny': <artifact: Phylogeny[Rooted] uuid: 56fe8435-a50d-44ba-adc0-e28c550ba0a2>}\n",
      "{'sampling_depth': 564, 'metadata': Metadata\n",
      "--------\n",
      "44 IDs x 8 columns\n",
      "class-straw:        ColumnProperties(type='categorical')\n",
      "local-coleta:       ColumnProperties(type='categorical')\n",
      "idade:              ColumnProperties(type='numeric')\n",
      "idade-menarca:      ColumnProperties(type='numeric')\n",
      "tempo-menopausa:    ColumnProperties(type='numeric')\n",
      "above_10:           ColumnProperties(type='categorical')\n",
      "menopausa-age-qcut: ColumnProperties(type='categorical')\n",
      "menopausa-age-bins: ColumnProperties(type='categorical')\n",
      "\n",
      "Call to_dataframe() for a tabular representation., 'with_replacement': False, 'n_jobs': 6, 'table': <artifact: FeatureTable[Frequency] uuid: b8c70aab-e476-498b-9b85-38d174c191e2>}\n",
      "{'sampling_depth': 564, 'with_replacement': False, 'table': 2403 x 44 <class 'biom.table.Table'> with 6331 nonzero entries (5% dense)}\n",
      "{'sampling_depth': 564, 'with_replacement': False, 'table': 2403 x 44 <class 'biom.table.Table'> with 6331 nonzero entries (5% dense)}\n",
      "{'table': 1252 x 44 <class 'biom.table.Table'> with 3591 nonzero entries (6% dense)}\n",
      "{'table': 1252 x 44 <class 'biom.table.Table'> with 3591 nonzero entries (6% dense)}\n"
     ]
    },
    {
     "name": "stdout",
     "output_type": "stream",
     "text": [
      "{'drop_undefined_samples': False, 'table': 1252 x 44 <class 'biom.table.Table'> with 3591 nonzero entries (6% dense)}\n",
      "{'drop_undefined_samples': False, 'table': 1252 x 44 <class 'biom.table.Table'> with 3591 nonzero entries (6% dense)}\n",
      "{'drop_undefined_samples': False, 'table': 1252 x 44 <class 'biom.table.Table'> with 3591 nonzero entries (6% dense)}\n",
      "{'drop_undefined_samples': False, 'table': 1252 x 44 <class 'biom.table.Table'> with 3591 nonzero entries (6% dense)}\n",
      "{'n_jobs': 6, 'table': 1252 x 44 <class 'biom.table.Table'> with 3591 nonzero entries (6% dense)}\n",
      "{'n_jobs': 6, 'table': 1252 x 44 <class 'biom.table.Table'> with 3591 nonzero entries (6% dense)}\n",
      "{'n_jobs': 6, 'table': 1252 x 44 <class 'biom.table.Table'> with 3591 nonzero entries (6% dense)}\n",
      "{'n_jobs': 6, 'table': 1252 x 44 <class 'biom.table.Table'> with 3591 nonzero entries (6% dense)}\n"
     ]
    },
    {
     "name": "stderr",
     "output_type": "stream",
     "text": [
      "/home/lauro/anaconda3/envs/qiime2-2022.2/lib/python3.8/site-packages/sklearn/metrics/pairwise.py:1761: DataConversionWarning: Data was converted to boolean for metric jaccard\n",
      "  warnings.warn(msg, DataConversionWarning)\n"
     ]
    },
    {
     "name": "stdout",
     "output_type": "stream",
     "text": [
      "{'number_of_dimensions': None, 'distance_matrix': <skbio.stats.distance._base.DistanceMatrix object at 0x7f63379eed60>}\n",
      "{'number_of_dimensions': None, 'distance_matrix': <skbio.stats.distance._base.DistanceMatrix object at 0x7f63379eed60>}\n",
      "{'number_of_dimensions': None, 'distance_matrix': <skbio.stats.distance._base.DistanceMatrix object at 0x7f6337a9e370>}\n",
      "{'number_of_dimensions': None, 'distance_matrix': <skbio.stats.distance._base.DistanceMatrix object at 0x7f6337a9e370>}\n",
      "{'metadata': Metadata\n",
      "--------\n",
      "44 IDs x 8 columns\n",
      "class-straw:        ColumnProperties(type='categorical')\n",
      "local-coleta:       ColumnProperties(type='categorical')\n",
      "idade:              ColumnProperties(type='numeric')\n",
      "idade-menarca:      ColumnProperties(type='numeric')\n",
      "tempo-menopausa:    ColumnProperties(type='numeric')\n",
      "above_10:           ColumnProperties(type='categorical')\n",
      "menopausa-age-qcut: ColumnProperties(type='categorical')\n",
      "menopausa-age-bins: ColumnProperties(type='categorical')\n",
      "\n",
      "Call to_dataframe() for a tabular representation., 'custom_axes': None, 'ignore_missing_samples': False, 'ignore_pcoa_features': False, 'pcoa': <skbio.stats.ordination._ordination_results.OrdinationResults object at 0x7f6337f02a90>}\n"
     ]
    },
    {
     "name": "stdout",
     "output_type": "stream",
     "text": [
      "{'metadata': Metadata\n",
      "--------\n",
      "44 IDs x 8 columns\n",
      "class-straw:        ColumnProperties(type='categorical')\n",
      "local-coleta:       ColumnProperties(type='categorical')\n",
      "idade:              ColumnProperties(type='numeric')\n",
      "idade-menarca:      ColumnProperties(type='numeric')\n",
      "tempo-menopausa:    ColumnProperties(type='numeric')\n",
      "above_10:           ColumnProperties(type='categorical')\n",
      "menopausa-age-qcut: ColumnProperties(type='categorical')\n",
      "menopausa-age-bins: ColumnProperties(type='categorical')\n",
      "\n",
      "Call to_dataframe() for a tabular representation., 'custom_axes': None, 'ignore_missing_samples': False, 'ignore_pcoa_features': False, 'pcoa': <skbio.stats.ordination._ordination_results.OrdinationResults object at 0x7f6337a1c760>}\n"
     ]
    },
    {
     "name": "stdout",
     "output_type": "stream",
     "text": [
      "{'table': <q2_types.feature_table._format.BIOMV210Format object at 0x7f6337a9eee0>, 'phylogeny': <q2_types.tree._format.NewickFormat object at 0x7f6337a82910>}\n",
      "{'table': <q2_types.feature_table._format.BIOMV210Format object at 0x7f6337a9eee0>, 'phylogeny': <q2_types.tree._format.NewickFormat object at 0x7f6337a82910>}\n",
      "{'threads': 6, 'bypass_tips': False, 'table': <q2_types.feature_table._format.BIOMV210Format object at 0x7f6337a1c550>, 'phylogeny': <q2_types.tree._format.NewickFormat object at 0x7f6337a1c6d0>}\n",
      "{'threads': 6, 'bypass_tips': False, 'table': <q2_types.feature_table._format.BIOMV210Format object at 0x7f6337a1c550>, 'phylogeny': <q2_types.tree._format.NewickFormat object at 0x7f6337a1c6d0>}\n"
     ]
    },
    {
     "name": "stdout",
     "output_type": "stream",
     "text": [
      "{'threads': 6, 'bypass_tips': False, 'table': <q2_types.feature_table._format.BIOMV210Format object at 0x7f633786d3a0>, 'phylogeny': <q2_types.tree._format.NewickFormat object at 0x7f6337f02970>}\n",
      "{'threads': 6, 'bypass_tips': False, 'table': <q2_types.feature_table._format.BIOMV210Format object at 0x7f633786d3a0>, 'phylogeny': <q2_types.tree._format.NewickFormat object at 0x7f6337f02970>}\n",
      "{'number_of_dimensions': None, 'distance_matrix': <skbio.stats.distance._base.DistanceMatrix object at 0x7f6337a9ef40>}\n",
      "{'number_of_dimensions': None, 'distance_matrix': <skbio.stats.distance._base.DistanceMatrix object at 0x7f6337a9ef40>}\n",
      "{'number_of_dimensions': None, 'distance_matrix': <skbio.stats.distance._base.DistanceMatrix object at 0x7f633786d190>}\n",
      "{'number_of_dimensions': None, 'distance_matrix': <skbio.stats.distance._base.DistanceMatrix object at 0x7f633786d190>}\n"
     ]
    },
    {
     "name": "stderr",
     "output_type": "stream",
     "text": [
      "/home/lauro/anaconda3/envs/qiime2-2022.2/lib/python3.8/site-packages/skbio/stats/ordination/_principal_coordinate_analysis.py:143: RuntimeWarning: The result contains negative eigenvalues. Please compare their magnitude with the magnitude of some of the largest positive eigenvalues. If the negative ones are smaller, it's probably safe to ignore them, but if they are large in magnitude, the results won't be useful. See the Notes section for more details. The smallest eigenvalue is -0.029575607816941275 and the largest is 1.220413148650924.\n",
      "  warn(\n"
     ]
    },
    {
     "name": "stdout",
     "output_type": "stream",
     "text": [
      "{'metadata': Metadata\n",
      "--------\n",
      "44 IDs x 8 columns\n",
      "class-straw:        ColumnProperties(type='categorical')\n",
      "local-coleta:       ColumnProperties(type='categorical')\n",
      "idade:              ColumnProperties(type='numeric')\n",
      "idade-menarca:      ColumnProperties(type='numeric')\n",
      "tempo-menopausa:    ColumnProperties(type='numeric')\n",
      "above_10:           ColumnProperties(type='categorical')\n",
      "menopausa-age-qcut: ColumnProperties(type='categorical')\n",
      "menopausa-age-bins: ColumnProperties(type='categorical')\n",
      "\n",
      "Call to_dataframe() for a tabular representation., 'custom_axes': None, 'ignore_missing_samples': False, 'ignore_pcoa_features': False, 'pcoa': <skbio.stats.ordination._ordination_results.OrdinationResults object at 0x7f63379ee490>}\n",
      "{'metadata': Metadata\n",
      "--------\n",
      "44 IDs x 8 columns\n",
      "class-straw:        ColumnProperties(type='categorical')\n",
      "local-coleta:       ColumnProperties(type='categorical')\n",
      "idade:              ColumnProperties(type='numeric')\n",
      "idade-menarca:      ColumnProperties(type='numeric')\n",
      "tempo-menopausa:    ColumnProperties(type='numeric')\n",
      "above_10:           ColumnProperties(type='categorical')\n",
      "menopausa-age-qcut: ColumnProperties(type='categorical')\n",
      "menopausa-age-bins: ColumnProperties(type='categorical')\n",
      "\n",
      "Call to_dataframe() for a tabular representation., 'custom_axes': None, 'ignore_missing_samples': False, 'ignore_pcoa_features': False, 'pcoa': <skbio.stats.ordination._ordination_results.OrdinationResults object at 0x7f63377e1dc0>}\n"
     ]
    }
   ],
   "source": [
    "s_depth = int(tabs.view(pd.DataFrame).sum(axis=1).min())\n",
    "results = core_metrics_phylogenetic(\n",
    "    table = tabs,\n",
    "    phylogeny = mafft_rooted_tree,\n",
    "    sampling_depth = s_depth,\n",
    "    metadata = metadata_qa,\n",
    "    n_jobs_or_threads = 6,\n",
    ")"
   ]
  },
  {
   "cell_type": "code",
   "execution_count": 13,
   "id": "19311218",
   "metadata": {
    "execution": {
     "iopub.execute_input": "2023-09-06T23:15:56.581369Z",
     "iopub.status.busy": "2023-09-06T23:15:56.580781Z",
     "iopub.status.idle": "2023-09-06T23:15:56.590573Z",
     "shell.execute_reply": "2023-09-06T23:15:56.589548Z"
    },
    "papermill": {
     "duration": 0.074965,
     "end_time": "2023-09-06T23:15:56.592294",
     "exception": false,
     "start_time": "2023-09-06T23:15:56.517329",
     "status": "completed"
    },
    "tags": []
   },
   "outputs": [],
   "source": [
    "results_info = [(\"rarefied_table\", \"FeatureTable[Frequency]\", \"The resulting rarefied feature table.\"),\n",
    "(\"faith_pd_vector\", \"SampleData[AlphaDiversity]\", \"Vector of Faith PD values by sample.\"),\n",
    "(\"observed_features_vector\", \"SampleData[AlphaDiversity]\", \"Vector of Observed Features values by sample.\"),\n",
    "(\"shannon_vector\", \"SampleData[AlphaDiversity]\", \"Vector of Shannon diversity values by sample.\"),\n",
    "(\"evenness_vector\", \"SampleData[AlphaDiversity]\", \"Vector of Pielou's evenness values by sample.\"),\n",
    "(\"unweighted_unifrac_distance_matrix\", \"DistanceMatrix\", \"Matrix of unweighted UniFrac distances between pairs of samples.\"),\n",
    "(\"weighted_unifrac_distance_matrix\", \"DistanceMatrix\", \"Matrix of weighted UniFrac distances between pairs of samples.\"),\n",
    "(\"jaccard_distance_matrix\", \"DistanceMatrix\", \"Matrix of Jaccard distances between pairs of samples.\"),\n",
    "(\"bray_curtis_distance_matrix\", \"DistanceMatrix\", \"Matrix of Bray-Curtis distances between pairs of samples.\"),\n",
    "(\"unweighted_unifrac_pcoa_results\", \"PCoAResults\", \"PCoA matrix computed from unweighted UniFrac distances between samples.\"),\n",
    "(\"weighted_unifrac_pcoa_results\", \"PCoAResults\", \"PCoA matrix computed from weighted UniFrac distances between samples.\"),\n",
    "(\"jaccard_pcoa_results\", \"PCoAResults\", \"PCoA matrix computed from Jaccard distances between samples.\"),\n",
    "(\"bray_curtis_pcoa_results\", \"PCoAResults\", \"PCoA matrix computed from Bray-Curtis distances between samples.\"),\n",
    "(\"unweighted_unifrac_emperor\", \"Visualization\", \"Emperor plot of the PCoA matrix computed from unweighted UniFrac.\"),\n",
    "(\"weighted_unifrac_emperor\", \"Visualization\", \"Emperor plot of the PCoA matrix computed from weighted UniFrac.\"),\n",
    "(\"jaccard_emperor\", \"Visualization\", \"Emperor plot of the PCoA matrix computed from Jaccard.\"),\n",
    "(\"bray_curtis_emperor\", \"Visualization\", \"Emperor plot of the PCoA matrix computed from Bray-Curtis.\")]"
   ]
  },
  {
   "cell_type": "code",
   "execution_count": 14,
   "id": "57dcd8e3",
   "metadata": {
    "execution": {
     "iopub.execute_input": "2023-09-06T23:15:56.726302Z",
     "iopub.status.busy": "2023-09-06T23:15:56.726080Z",
     "iopub.status.idle": "2023-09-06T23:15:57.411309Z",
     "shell.execute_reply": "2023-09-06T23:15:57.410091Z"
    },
    "papermill": {
     "duration": 0.754695,
     "end_time": "2023-09-06T23:15:57.414674",
     "exception": false,
     "start_time": "2023-09-06T23:15:56.659979",
     "status": "completed"
    },
    "tags": []
   },
   "outputs": [
    {
     "name": "stdout",
     "output_type": "stream",
     "text": [
      "13 unweighted_unifrac_emperor Visualization\n",
      "--- Emperor plot of the PCoA matrix computed from unweighted UniFrac. ---\n",
      "Saving emperor file at: /home/lauro/nupeb/rede-micro/redemicro-thayane/experiments/thayane-PM-joined-trim/qiime-artifacts/beta-analysis/unweighted_unifrac_emperor.qzv\n",
      "\n",
      "14 weighted_unifrac_emperor Visualization\n",
      "--- Emperor plot of the PCoA matrix computed from weighted UniFrac. ---\n",
      "Saving emperor file at: /home/lauro/nupeb/rede-micro/redemicro-thayane/experiments/thayane-PM-joined-trim/qiime-artifacts/beta-analysis/weighted_unifrac_emperor.qzv\n",
      "\n"
     ]
    },
    {
     "name": "stdout",
     "output_type": "stream",
     "text": [
      "15 jaccard_emperor Visualization\n",
      "--- Emperor plot of the PCoA matrix computed from Jaccard. ---\n",
      "Saving emperor file at: /home/lauro/nupeb/rede-micro/redemicro-thayane/experiments/thayane-PM-joined-trim/qiime-artifacts/beta-analysis/jaccard_emperor.qzv\n",
      "\n",
      "16 bray_curtis_emperor Visualization\n",
      "--- Emperor plot of the PCoA matrix computed from Bray-Curtis. ---\n",
      "Saving emperor file at: /home/lauro/nupeb/rede-micro/redemicro-thayane/experiments/thayane-PM-joined-trim/qiime-artifacts/beta-analysis/bray_curtis_emperor.qzv\n",
      "\n"
     ]
    }
   ],
   "source": [
    "for i, info in enumerate(results_info):\n",
    "    r_id, r_type, r_desc = info\n",
    "    #print(i, r_id, r_type)\n",
    "    file_name = f\"{r_id}.qzv\"\n",
    "    if r_type == \"FeatureTable[Frequency]\":\n",
    "        pass\n",
    "    elif r_id.endswith('emperor'):\n",
    "        print(i, r_id, r_type)\n",
    "        print(f\"--- {r_desc} ---\")\n",
    "        file_name = os.path.join(beta_path, file_name)\n",
    "        print(f'Saving emperor file at: {file_name}\\n')\n",
    "        results[i].save(filepath=file_name)"
   ]
  },
  {
   "cell_type": "markdown",
   "id": "c7752cfd",
   "metadata": {
    "papermill": {
     "duration": 0.065326,
     "end_time": "2023-09-06T23:15:57.556519",
     "exception": false,
     "start_time": "2023-09-06T23:15:57.491193",
     "status": "completed"
    },
    "tags": []
   },
   "source": [
    "### Alpha diversity correlation\n",
    "\n",
    "This method only process `numeric` columns.\n"
   ]
  },
  {
   "cell_type": "code",
   "execution_count": 15,
   "id": "2814f613",
   "metadata": {
    "ExecuteTime": {
     "end_time": "2022-09-29T20:54:35.317618Z",
     "start_time": "2022-09-29T20:54:35.312094Z"
    },
    "execution": {
     "iopub.execute_input": "2023-09-06T23:15:57.683745Z",
     "iopub.status.busy": "2023-09-06T23:15:57.683267Z",
     "iopub.status.idle": "2023-09-06T23:15:59.375864Z",
     "shell.execute_reply": "2023-09-06T23:15:59.375249Z"
    },
    "papermill": {
     "duration": 1.759479,
     "end_time": "2023-09-06T23:15:59.379004",
     "exception": false,
     "start_time": "2023-09-06T23:15:57.619525",
     "status": "completed"
    },
    "tags": []
   },
   "outputs": [
    {
     "name": "stdout",
     "output_type": "stream",
     "text": [
      "{'metadata': Metadata\n",
      "--------\n",
      "44 IDs x 3 columns\n",
      "idade:           ColumnProperties(type='numeric')\n",
      "idade-menarca:   ColumnProperties(type='numeric')\n",
      "tempo-menopausa: ColumnProperties(type='numeric')\n",
      "\n",
      "Call to_dataframe() for a tabular representation., 'method': 'spearman', 'intersect_ids': True, 'alpha_diversity': M01      65.000000\n",
      "M03      21.000000\n",
      "M06      57.000000\n",
      "M09      68.000000\n",
      "M12      51.000000\n",
      "M19      59.000000\n",
      "M05      33.000000\n",
      "M07       2.000000\n",
      "M102    149.333333\n",
      "M107    117.000000\n",
      "M112    127.750000\n",
      "M120    190.500000\n",
      "M121    246.800000\n",
      "M125    212.000000\n",
      "M126    251.076923\n",
      "M133    225.428571\n",
      "M134    183.428571\n",
      "M141    165.333333\n",
      "M144     94.000000\n",
      "M148    113.000000\n",
      "M150    296.500000\n",
      "M151    131.000000\n",
      "M155     94.000000\n",
      "M156    149.857143\n",
      "M33     127.000000\n",
      "M34     207.000000\n",
      "M35     134.000000\n",
      "M38     145.000000\n",
      "M39     235.000000\n",
      "M44     278.000000\n",
      "M46     129.000000\n",
      "M47      47.000000\n",
      "M52     101.500000\n",
      "M55     343.333333\n",
      "M64     278.000000\n",
      "M72     162.000000\n",
      "M73     176.500000\n",
      "M77     112.000000\n",
      "M78     217.666667\n",
      "M79     143.000000\n",
      "M88     288.000000\n",
      "M93     278.000000\n",
      "M95     195.200000\n",
      "M99     180.333333\n",
      "Name: chao1, dtype: float64}\n"
     ]
    },
    {
     "name": "stdout",
     "output_type": "stream",
     "text": [
      "DONE: Calculating alpha correlation: chao1 spearman\n",
      "{'metadata': Metadata\n",
      "--------\n",
      "44 IDs x 3 columns\n",
      "idade:           ColumnProperties(type='numeric')\n",
      "idade-menarca:   ColumnProperties(type='numeric')\n",
      "tempo-menopausa: ColumnProperties(type='numeric')\n",
      "\n",
      "Call to_dataframe() for a tabular representation., 'method': 'pearson', 'intersect_ids': True, 'alpha_diversity': M01      65.000000\n",
      "M03      21.000000\n",
      "M06      57.000000\n",
      "M09      68.000000\n",
      "M12      51.000000\n",
      "M19      59.000000\n",
      "M05      33.000000\n",
      "M07       2.000000\n",
      "M102    149.333333\n",
      "M107    117.000000\n",
      "M112    127.750000\n",
      "M120    190.500000\n",
      "M121    246.800000\n",
      "M125    212.000000\n",
      "M126    251.076923\n",
      "M133    225.428571\n",
      "M134    183.428571\n",
      "M141    165.333333\n",
      "M144     94.000000\n",
      "M148    113.000000\n",
      "M150    296.500000\n",
      "M151    131.000000\n",
      "M155     94.000000\n",
      "M156    149.857143\n",
      "M33     127.000000\n",
      "M34     207.000000\n",
      "M35     134.000000\n",
      "M38     145.000000\n",
      "M39     235.000000\n",
      "M44     278.000000\n",
      "M46     129.000000\n",
      "M47      47.000000\n",
      "M52     101.500000\n",
      "M55     343.333333\n",
      "M64     278.000000\n",
      "M72     162.000000\n",
      "M73     176.500000\n",
      "M77     112.000000\n",
      "M78     217.666667\n",
      "M79     143.000000\n",
      "M88     288.000000\n",
      "M93     278.000000\n",
      "M95     195.200000\n",
      "M99     180.333333\n",
      "Name: chao1, dtype: float64}\n"
     ]
    },
    {
     "name": "stdout",
     "output_type": "stream",
     "text": [
      "DONE: Calculating alpha correlation: chao1 pearson\n",
      "ERROR: Calculating alpha correlation: chao1_ci spearman\n",
      "ERROR: Calculating alpha correlation: chao1_ci pearson\n",
      "{'metadata': Metadata\n",
      "--------\n",
      "44 IDs x 3 columns\n",
      "idade:           ColumnProperties(type='numeric')\n",
      "idade-menarca:   ColumnProperties(type='numeric')\n",
      "tempo-menopausa: ColumnProperties(type='numeric')\n",
      "\n",
      "Call to_dataframe() for a tabular representation., 'method': 'spearman', 'intersect_ids': True, 'alpha_diversity': M01      65\n",
      "M03      21\n",
      "M06      57\n",
      "M09      68\n",
      "M12      51\n",
      "M19      59\n",
      "M05      30\n",
      "M07       2\n",
      "M102    146\n",
      "M107    117\n",
      "M112    105\n",
      "M120    180\n",
      "M121    209\n",
      "M125    197\n",
      "M126    222\n",
      "M133    216\n",
      "M134    177\n",
      "M141    135\n",
      "M144     91\n",
      "M148    113\n",
      "M150    202\n",
      "M151    122\n",
      "M155     91\n",
      "M156    149\n",
      "M33     121\n",
      "M34     171\n",
      "M35     131\n",
      "M38     136\n",
      "M39     232\n",
      "M44     278\n",
      "M46     129\n",
      "M47      47\n",
      "M52      99\n",
      "M55     298\n",
      "M64     275\n",
      "M72     159\n",
      "M73     169\n",
      "M77     112\n",
      "M78     195\n",
      "M79     140\n",
      "M88     210\n",
      "M93     238\n",
      "M95     195\n",
      "M99     171\n",
      "Name: observed_features, dtype: int64}\n"
     ]
    },
    {
     "name": "stdout",
     "output_type": "stream",
     "text": [
      "DONE: Calculating alpha correlation: observed_features spearman\n",
      "{'metadata': Metadata\n",
      "--------\n",
      "44 IDs x 3 columns\n",
      "idade:           ColumnProperties(type='numeric')\n",
      "idade-menarca:   ColumnProperties(type='numeric')\n",
      "tempo-menopausa: ColumnProperties(type='numeric')\n",
      "\n",
      "Call to_dataframe() for a tabular representation., 'method': 'pearson', 'intersect_ids': True, 'alpha_diversity': M01      65\n",
      "M03      21\n",
      "M06      57\n",
      "M09      68\n",
      "M12      51\n",
      "M19      59\n",
      "M05      30\n",
      "M07       2\n",
      "M102    146\n",
      "M107    117\n",
      "M112    105\n",
      "M120    180\n",
      "M121    209\n",
      "M125    197\n",
      "M126    222\n",
      "M133    216\n",
      "M134    177\n",
      "M141    135\n",
      "M144     91\n",
      "M148    113\n",
      "M150    202\n",
      "M151    122\n",
      "M155     91\n",
      "M156    149\n",
      "M33     121\n",
      "M34     171\n",
      "M35     131\n",
      "M38     136\n",
      "M39     232\n",
      "M44     278\n",
      "M46     129\n",
      "M47      47\n",
      "M52      99\n",
      "M55     298\n",
      "M64     275\n",
      "M72     159\n",
      "M73     169\n",
      "M77     112\n",
      "M78     195\n",
      "M79     140\n",
      "M88     210\n",
      "M93     238\n",
      "M95     195\n",
      "M99     171\n",
      "Name: observed_features, dtype: int64}\n",
      "DONE: Calculating alpha correlation: observed_features pearson\n",
      "{'metadata': Metadata\n",
      "--------\n",
      "44 IDs x 3 columns\n",
      "idade:           ColumnProperties(type='numeric')\n",
      "idade-menarca:   ColumnProperties(type='numeric')\n",
      "tempo-menopausa: ColumnProperties(type='numeric')\n",
      "\n",
      "Call to_dataframe() for a tabular representation., 'method': 'spearman', 'intersect_ids': True, 'alpha_diversity': M01     4.685409\n",
      "M03     2.473775\n",
      "M06     4.084876\n",
      "M09     4.659494\n",
      "M12     4.012142\n",
      "M19     4.516316\n",
      "M05     3.849078\n",
      "M07     0.307123\n",
      "M102    6.169883\n",
      "M107    5.486286\n",
      "M112    5.097147\n",
      "M120    5.996712\n",
      "M121    5.815968\n",
      "M125    5.750357\n",
      "M126    6.118315\n",
      "M133    6.360023\n",
      "M134    5.855780\n",
      "M141    5.434783\n",
      "M144    5.013189\n",
      "M148    5.702705\n",
      "M150    6.273723\n",
      "M151    5.204093\n",
      "M155    5.001136\n",
      "M156    4.904638\n",
      "M33     5.454111\n",
      "M34     6.126049\n",
      "M35     5.428306\n",
      "M38     5.010866\n",
      "M39     5.620496\n",
      "M44     6.331683\n",
      "M46     4.690242\n",
      "M47     3.510395\n",
      "M52     5.572068\n",
      "M55     6.165377\n",
      "M64     5.646392\n",
      "M72     5.963578\n",
      "M73     5.634037\n",
      "M77     5.292348\n",
      "M78     5.228939\n",
      "M79     5.213187\n",
      "M88     5.599405\n",
      "M93     5.766622\n",
      "M95     5.773759\n",
      "M99     5.774252\n",
      "Name: shannon_entropy, dtype: float64}\n"
     ]
    },
    {
     "name": "stdout",
     "output_type": "stream",
     "text": [
      "DONE: Calculating alpha correlation: shannon spearman\n",
      "{'metadata': Metadata\n",
      "--------\n",
      "44 IDs x 3 columns\n",
      "idade:           ColumnProperties(type='numeric')\n",
      "idade-menarca:   ColumnProperties(type='numeric')\n",
      "tempo-menopausa: ColumnProperties(type='numeric')\n",
      "\n",
      "Call to_dataframe() for a tabular representation., 'method': 'pearson', 'intersect_ids': True, 'alpha_diversity': M01     4.685409\n",
      "M03     2.473775\n",
      "M06     4.084876\n",
      "M09     4.659494\n",
      "M12     4.012142\n",
      "M19     4.516316\n",
      "M05     3.849078\n",
      "M07     0.307123\n",
      "M102    6.169883\n",
      "M107    5.486286\n",
      "M112    5.097147\n",
      "M120    5.996712\n",
      "M121    5.815968\n",
      "M125    5.750357\n",
      "M126    6.118315\n",
      "M133    6.360023\n",
      "M134    5.855780\n",
      "M141    5.434783\n",
      "M144    5.013189\n",
      "M148    5.702705\n",
      "M150    6.273723\n",
      "M151    5.204093\n",
      "M155    5.001136\n",
      "M156    4.904638\n",
      "M33     5.454111\n",
      "M34     6.126049\n",
      "M35     5.428306\n",
      "M38     5.010866\n",
      "M39     5.620496\n",
      "M44     6.331683\n",
      "M46     4.690242\n",
      "M47     3.510395\n",
      "M52     5.572068\n",
      "M55     6.165377\n",
      "M64     5.646392\n",
      "M72     5.963578\n",
      "M73     5.634037\n",
      "M77     5.292348\n",
      "M78     5.228939\n",
      "M79     5.213187\n",
      "M88     5.599405\n",
      "M93     5.766622\n",
      "M95     5.773759\n",
      "M99     5.774252\n",
      "Name: shannon_entropy, dtype: float64}\n",
      "DONE: Calculating alpha correlation: shannon pearson\n",
      "{'metadata': Metadata\n",
      "--------\n",
      "44 IDs x 3 columns\n",
      "idade:           ColumnProperties(type='numeric')\n",
      "idade-menarca:   ColumnProperties(type='numeric')\n",
      "tempo-menopausa: ColumnProperties(type='numeric')\n",
      "\n",
      "Call to_dataframe() for a tabular representation., 'method': 'spearman', 'intersect_ids': True, 'alpha_diversity': M01     0.925125\n",
      "M03     0.748499\n",
      "M06     0.875417\n",
      "M09     0.921941\n",
      "M12     0.885068\n",
      "M19     0.923832\n",
      "M05     0.892842\n",
      "M07     0.103887\n",
      "M102    0.977082\n",
      "M107    0.962061\n",
      "M112    0.950635\n",
      "M120    0.972714\n",
      "M121    0.965380\n",
      "M125    0.959636\n",
      "M126    0.971463\n",
      "M133    0.978705\n",
      "M134    0.968169\n",
      "M141    0.952579\n",
      "M144    0.943645\n",
      "M148    0.971026\n",
      "M150    0.975615\n",
      "M151    0.950759\n",
      "M155    0.930360\n",
      "M156    0.935778\n",
      "M33     0.951855\n",
      "M34     0.972638\n",
      "M35     0.956623\n",
      "M38     0.934001\n",
      "M39     0.950892\n",
      "M44     0.973343\n",
      "M46     0.913853\n",
      "M47     0.861008\n",
      "M52     0.966034\n",
      "M55     0.973769\n",
      "M64     0.954307\n",
      "M72     0.969125\n",
      "M73     0.940836\n",
      "M77     0.953732\n",
      "M78     0.937545\n",
      "M79     0.950370\n",
      "M88     0.942253\n",
      "M93     0.964917\n",
      "M95     0.963990\n",
      "M99     0.959700\n",
      "Name: simpson, dtype: float64}\n"
     ]
    },
    {
     "name": "stdout",
     "output_type": "stream",
     "text": [
      "DONE: Calculating alpha correlation: simpson spearman\n",
      "{'metadata': Metadata\n",
      "--------\n",
      "44 IDs x 3 columns\n",
      "idade:           ColumnProperties(type='numeric')\n",
      "idade-menarca:   ColumnProperties(type='numeric')\n",
      "tempo-menopausa: ColumnProperties(type='numeric')\n",
      "\n",
      "Call to_dataframe() for a tabular representation., 'method': 'pearson', 'intersect_ids': True, 'alpha_diversity': M01     0.925125\n",
      "M03     0.748499\n",
      "M06     0.875417\n",
      "M09     0.921941\n",
      "M12     0.885068\n",
      "M19     0.923832\n",
      "M05     0.892842\n",
      "M07     0.103887\n",
      "M102    0.977082\n",
      "M107    0.962061\n",
      "M112    0.950635\n",
      "M120    0.972714\n",
      "M121    0.965380\n",
      "M125    0.959636\n",
      "M126    0.971463\n",
      "M133    0.978705\n",
      "M134    0.968169\n",
      "M141    0.952579\n",
      "M144    0.943645\n",
      "M148    0.971026\n",
      "M150    0.975615\n",
      "M151    0.950759\n",
      "M155    0.930360\n",
      "M156    0.935778\n",
      "M33     0.951855\n",
      "M34     0.972638\n",
      "M35     0.956623\n",
      "M38     0.934001\n",
      "M39     0.950892\n",
      "M44     0.973343\n",
      "M46     0.913853\n",
      "M47     0.861008\n",
      "M52     0.966034\n",
      "M55     0.973769\n",
      "M64     0.954307\n",
      "M72     0.969125\n",
      "M73     0.940836\n",
      "M77     0.953732\n",
      "M78     0.937545\n",
      "M79     0.950370\n",
      "M88     0.942253\n",
      "M93     0.964917\n",
      "M95     0.963990\n",
      "M99     0.959700\n",
      "Name: simpson, dtype: float64}\n",
      "DONE: Calculating alpha correlation: simpson pearson\n",
      "{'metadata': Metadata\n",
      "--------\n",
      "44 IDs x 3 columns\n",
      "idade:           ColumnProperties(type='numeric')\n",
      "idade-menarca:   ColumnProperties(type='numeric')\n",
      "tempo-menopausa: ColumnProperties(type='numeric')\n",
      "\n",
      "Call to_dataframe() for a tabular representation., 'method': 'spearman', 'intersect_ids': True, 'alpha_diversity': M01     0.205471\n",
      "M03     0.189339\n",
      "M06     0.140821\n",
      "M09     0.188394\n",
      "M12     0.170605\n",
      "M19     0.222523\n",
      "M05     0.311067\n",
      "M07     0.557965\n",
      "M102    0.298857\n",
      "M107    0.225280\n",
      "M112    0.192927\n",
      "M120    0.203607\n",
      "M121    0.138206\n",
      "M125    0.125759\n",
      "M126    0.157848\n",
      "M133    0.217402\n",
      "M134    0.177493\n",
      "M141    0.156207\n",
      "M144    0.194997\n",
      "M148    0.305432\n",
      "M150    0.203016\n",
      "M151    0.166461\n",
      "M155    0.157797\n",
      "M156    0.104503\n",
      "M33     0.171656\n",
      "M34     0.213723\n",
      "M35     0.175984\n",
      "M38     0.111409\n",
      "M39     0.087773\n",
      "M44     0.134942\n",
      "M46     0.089985\n",
      "M47     0.153078\n",
      "M52     0.297387\n",
      "M55     0.127931\n",
      "M64     0.079582\n",
      "M72     0.203705\n",
      "M73     0.100014\n",
      "M77     0.192975\n",
      "M78     0.082110\n",
      "M79     0.143922\n",
      "M88     0.082462\n",
      "M93     0.119766\n",
      "M95     0.142410\n",
      "M99     0.145109\n",
      "Name: simpson_e, dtype: float64}\n"
     ]
    },
    {
     "name": "stdout",
     "output_type": "stream",
     "text": [
      "DONE: Calculating alpha correlation: simpson_e spearman\n",
      "{'metadata': Metadata\n",
      "--------\n",
      "44 IDs x 3 columns\n",
      "idade:           ColumnProperties(type='numeric')\n",
      "idade-menarca:   ColumnProperties(type='numeric')\n",
      "tempo-menopausa: ColumnProperties(type='numeric')\n",
      "\n",
      "Call to_dataframe() for a tabular representation., 'method': 'pearson', 'intersect_ids': True, 'alpha_diversity': M01     0.205471\n",
      "M03     0.189339\n",
      "M06     0.140821\n",
      "M09     0.188394\n",
      "M12     0.170605\n",
      "M19     0.222523\n",
      "M05     0.311067\n",
      "M07     0.557965\n",
      "M102    0.298857\n",
      "M107    0.225280\n",
      "M112    0.192927\n",
      "M120    0.203607\n",
      "M121    0.138206\n",
      "M125    0.125759\n",
      "M126    0.157848\n",
      "M133    0.217402\n",
      "M134    0.177493\n",
      "M141    0.156207\n",
      "M144    0.194997\n",
      "M148    0.305432\n",
      "M150    0.203016\n",
      "M151    0.166461\n",
      "M155    0.157797\n",
      "M156    0.104503\n",
      "M33     0.171656\n",
      "M34     0.213723\n",
      "M35     0.175984\n",
      "M38     0.111409\n",
      "M39     0.087773\n",
      "M44     0.134942\n",
      "M46     0.089985\n",
      "M47     0.153078\n",
      "M52     0.297387\n",
      "M55     0.127931\n",
      "M64     0.079582\n",
      "M72     0.203705\n",
      "M73     0.100014\n",
      "M77     0.192975\n",
      "M78     0.082110\n",
      "M79     0.143922\n",
      "M88     0.082462\n",
      "M93     0.119766\n",
      "M95     0.142410\n",
      "M99     0.145109\n",
      "Name: simpson_e, dtype: float64}\n",
      "DONE: Calculating alpha correlation: simpson_e pearson\n"
     ]
    }
   ],
   "source": [
    "methods = ('spearman', 'pearson')\n",
    "numerics_cols = metadata_qa.filter_columns(column_type='numeric')\n",
    "if numerics_cols.column_count > 0:\n",
    "    for metric, alpha_values in alpha_diversities.items():\n",
    "        for method in methods:\n",
    "            try:\n",
    "                corr_view = alpha_correlation(alpha_diversity=alpha_values, metadata=numerics_cols, \n",
    "                                          method=method, intersect_ids=True).visualization\n",
    "                view_path = os.path.join(alpha_path, f'alpha-correlation-{metric}-{method}.qzv')\n",
    "                corr_view.save(view_path)\n",
    "                corr_view\n",
    "                print(f\"DONE: Calculating alpha correlation: {metric} {method}\")\n",
    "            except Exception as e:\n",
    "                print(f\"ERROR: Calculating alpha correlation: {metric} {method}\")"
   ]
  },
  {
   "cell_type": "markdown",
   "id": "8ea83c8a",
   "metadata": {
    "papermill": {
     "duration": 0.074849,
     "end_time": "2023-09-06T23:15:59.537216",
     "exception": false,
     "start_time": "2023-09-06T23:15:59.462367",
     "status": "completed"
    },
    "tags": []
   },
   "source": [
    "## Alpha diversity comparisons\n",
    "\n",
    "Visually and statistically compare groups of alpha diversity values.\n",
    "\n",
    "[diversity alpha_group_significance](https://docs.qiime2.org/2022.8/plugins/available/diversity/alpha-group-significance/)"
   ]
  },
  {
   "cell_type": "code",
   "execution_count": 16,
   "id": "276d1c18",
   "metadata": {
    "ExecuteTime": {
     "end_time": "2022-09-29T20:54:36.089290Z",
     "start_time": "2022-09-29T20:54:35.318963Z"
    },
    "execution": {
     "iopub.execute_input": "2023-09-06T23:15:59.669217Z",
     "iopub.status.busy": "2023-09-06T23:15:59.668786Z",
     "iopub.status.idle": "2023-09-06T23:16:00.947278Z",
     "shell.execute_reply": "2023-09-06T23:16:00.946629Z"
    },
    "papermill": {
     "duration": 1.347065,
     "end_time": "2023-09-06T23:16:00.950138",
     "exception": false,
     "start_time": "2023-09-06T23:15:59.603073",
     "status": "completed"
    },
    "tags": []
   },
   "outputs": [
    {
     "name": "stdout",
     "output_type": "stream",
     "text": [
      "Processing alpha_group_significance: chao1\n",
      "{'metadata': Metadata\n",
      "--------\n",
      "44 IDs x 8 columns\n",
      "class-straw:        ColumnProperties(type='categorical')\n",
      "local-coleta:       ColumnProperties(type='categorical')\n",
      "idade:              ColumnProperties(type='numeric')\n",
      "idade-menarca:      ColumnProperties(type='numeric')\n",
      "tempo-menopausa:    ColumnProperties(type='numeric')\n",
      "above_10:           ColumnProperties(type='categorical')\n",
      "menopausa-age-qcut: ColumnProperties(type='categorical')\n",
      "menopausa-age-bins: ColumnProperties(type='categorical')\n",
      "\n",
      "Call to_dataframe() for a tabular representation., 'alpha_diversity': M01      65.000000\n",
      "M03      21.000000\n",
      "M06      57.000000\n",
      "M09      68.000000\n",
      "M12      51.000000\n",
      "M19      59.000000\n",
      "M05      33.000000\n",
      "M07       2.000000\n",
      "M102    149.333333\n",
      "M107    117.000000\n",
      "M112    127.750000\n",
      "M120    190.500000\n",
      "M121    246.800000\n",
      "M125    212.000000\n",
      "M126    251.076923\n",
      "M133    225.428571\n",
      "M134    183.428571\n",
      "M141    165.333333\n",
      "M144     94.000000\n",
      "M148    113.000000\n",
      "M150    296.500000\n",
      "M151    131.000000\n",
      "M155     94.000000\n",
      "M156    149.857143\n",
      "M33     127.000000\n",
      "M34     207.000000\n",
      "M35     134.000000\n",
      "M38     145.000000\n",
      "M39     235.000000\n",
      "M44     278.000000\n",
      "M46     129.000000\n",
      "M47      47.000000\n",
      "M52     101.500000\n",
      "M55     343.333333\n",
      "M64     278.000000\n",
      "M72     162.000000\n",
      "M73     176.500000\n",
      "M77     112.000000\n",
      "M78     217.666667\n",
      "M79     143.000000\n",
      "M88     288.000000\n",
      "M93     278.000000\n",
      "M95     195.200000\n",
      "M99     180.333333\n",
      "Name: chao1, dtype: float64}\n"
     ]
    },
    {
     "name": "stdout",
     "output_type": "stream",
     "text": [
      "DONE: Calculating alpha group significance: chao1\n",
      "Processing alpha_group_significance: chao1_ci\n",
      "ERROR: Calculating alpha group significance: chao1_ci\n",
      "Processing alpha_group_significance: observed_features\n",
      "{'metadata': Metadata\n",
      "--------\n",
      "44 IDs x 8 columns\n",
      "class-straw:        ColumnProperties(type='categorical')\n",
      "local-coleta:       ColumnProperties(type='categorical')\n",
      "idade:              ColumnProperties(type='numeric')\n",
      "idade-menarca:      ColumnProperties(type='numeric')\n",
      "tempo-menopausa:    ColumnProperties(type='numeric')\n",
      "above_10:           ColumnProperties(type='categorical')\n",
      "menopausa-age-qcut: ColumnProperties(type='categorical')\n",
      "menopausa-age-bins: ColumnProperties(type='categorical')\n",
      "\n",
      "Call to_dataframe() for a tabular representation., 'alpha_diversity': M01      65\n",
      "M03      21\n",
      "M06      57\n",
      "M09      68\n",
      "M12      51\n",
      "M19      59\n",
      "M05      30\n",
      "M07       2\n",
      "M102    146\n",
      "M107    117\n",
      "M112    105\n",
      "M120    180\n",
      "M121    209\n",
      "M125    197\n",
      "M126    222\n",
      "M133    216\n",
      "M134    177\n",
      "M141    135\n",
      "M144     91\n",
      "M148    113\n",
      "M150    202\n",
      "M151    122\n",
      "M155     91\n",
      "M156    149\n",
      "M33     121\n",
      "M34     171\n",
      "M35     131\n",
      "M38     136\n",
      "M39     232\n",
      "M44     278\n",
      "M46     129\n",
      "M47      47\n",
      "M52      99\n",
      "M55     298\n",
      "M64     275\n",
      "M72     159\n",
      "M73     169\n",
      "M77     112\n",
      "M78     195\n",
      "M79     140\n",
      "M88     210\n",
      "M93     238\n",
      "M95     195\n",
      "M99     171\n",
      "Name: observed_features, dtype: int64}\n"
     ]
    },
    {
     "name": "stdout",
     "output_type": "stream",
     "text": [
      "DONE: Calculating alpha group significance: observed_features\n",
      "Processing alpha_group_significance: shannon\n",
      "{'metadata': Metadata\n",
      "--------\n",
      "44 IDs x 8 columns\n",
      "class-straw:        ColumnProperties(type='categorical')\n",
      "local-coleta:       ColumnProperties(type='categorical')\n",
      "idade:              ColumnProperties(type='numeric')\n",
      "idade-menarca:      ColumnProperties(type='numeric')\n",
      "tempo-menopausa:    ColumnProperties(type='numeric')\n",
      "above_10:           ColumnProperties(type='categorical')\n",
      "menopausa-age-qcut: ColumnProperties(type='categorical')\n",
      "menopausa-age-bins: ColumnProperties(type='categorical')\n",
      "\n",
      "Call to_dataframe() for a tabular representation., 'alpha_diversity': M01     4.685409\n",
      "M03     2.473775\n",
      "M06     4.084876\n",
      "M09     4.659494\n",
      "M12     4.012142\n",
      "M19     4.516316\n",
      "M05     3.849078\n",
      "M07     0.307123\n",
      "M102    6.169883\n",
      "M107    5.486286\n",
      "M112    5.097147\n",
      "M120    5.996712\n",
      "M121    5.815968\n",
      "M125    5.750357\n",
      "M126    6.118315\n",
      "M133    6.360023\n",
      "M134    5.855780\n",
      "M141    5.434783\n",
      "M144    5.013189\n",
      "M148    5.702705\n",
      "M150    6.273723\n",
      "M151    5.204093\n",
      "M155    5.001136\n",
      "M156    4.904638\n",
      "M33     5.454111\n",
      "M34     6.126049\n",
      "M35     5.428306\n",
      "M38     5.010866\n",
      "M39     5.620496\n",
      "M44     6.331683\n",
      "M46     4.690242\n",
      "M47     3.510395\n",
      "M52     5.572068\n",
      "M55     6.165377\n",
      "M64     5.646392\n",
      "M72     5.963578\n",
      "M73     5.634037\n",
      "M77     5.292348\n",
      "M78     5.228939\n",
      "M79     5.213187\n",
      "M88     5.599405\n",
      "M93     5.766622\n",
      "M95     5.773759\n",
      "M99     5.774252\n",
      "Name: shannon_entropy, dtype: float64}\n"
     ]
    },
    {
     "name": "stdout",
     "output_type": "stream",
     "text": [
      "DONE: Calculating alpha group significance: shannon\n",
      "Processing alpha_group_significance: simpson\n",
      "{'metadata': Metadata\n",
      "--------\n",
      "44 IDs x 8 columns\n",
      "class-straw:        ColumnProperties(type='categorical')\n",
      "local-coleta:       ColumnProperties(type='categorical')\n",
      "idade:              ColumnProperties(type='numeric')\n",
      "idade-menarca:      ColumnProperties(type='numeric')\n",
      "tempo-menopausa:    ColumnProperties(type='numeric')\n",
      "above_10:           ColumnProperties(type='categorical')\n",
      "menopausa-age-qcut: ColumnProperties(type='categorical')\n",
      "menopausa-age-bins: ColumnProperties(type='categorical')\n",
      "\n",
      "Call to_dataframe() for a tabular representation., 'alpha_diversity': M01     0.925125\n",
      "M03     0.748499\n",
      "M06     0.875417\n",
      "M09     0.921941\n",
      "M12     0.885068\n",
      "M19     0.923832\n",
      "M05     0.892842\n",
      "M07     0.103887\n",
      "M102    0.977082\n",
      "M107    0.962061\n",
      "M112    0.950635\n",
      "M120    0.972714\n",
      "M121    0.965380\n",
      "M125    0.959636\n",
      "M126    0.971463\n",
      "M133    0.978705\n",
      "M134    0.968169\n",
      "M141    0.952579\n",
      "M144    0.943645\n",
      "M148    0.971026\n",
      "M150    0.975615\n",
      "M151    0.950759\n",
      "M155    0.930360\n",
      "M156    0.935778\n",
      "M33     0.951855\n",
      "M34     0.972638\n",
      "M35     0.956623\n",
      "M38     0.934001\n",
      "M39     0.950892\n",
      "M44     0.973343\n",
      "M46     0.913853\n",
      "M47     0.861008\n",
      "M52     0.966034\n",
      "M55     0.973769\n",
      "M64     0.954307\n",
      "M72     0.969125\n",
      "M73     0.940836\n",
      "M77     0.953732\n",
      "M78     0.937545\n",
      "M79     0.950370\n",
      "M88     0.942253\n",
      "M93     0.964917\n",
      "M95     0.963990\n",
      "M99     0.959700\n",
      "Name: simpson, dtype: float64}\n"
     ]
    },
    {
     "name": "stdout",
     "output_type": "stream",
     "text": [
      "DONE: Calculating alpha group significance: simpson\n",
      "Processing alpha_group_significance: simpson_e\n",
      "{'metadata': Metadata\n",
      "--------\n",
      "44 IDs x 8 columns\n",
      "class-straw:        ColumnProperties(type='categorical')\n",
      "local-coleta:       ColumnProperties(type='categorical')\n",
      "idade:              ColumnProperties(type='numeric')\n",
      "idade-menarca:      ColumnProperties(type='numeric')\n",
      "tempo-menopausa:    ColumnProperties(type='numeric')\n",
      "above_10:           ColumnProperties(type='categorical')\n",
      "menopausa-age-qcut: ColumnProperties(type='categorical')\n",
      "menopausa-age-bins: ColumnProperties(type='categorical')\n",
      "\n",
      "Call to_dataframe() for a tabular representation., 'alpha_diversity': M01     0.205471\n",
      "M03     0.189339\n",
      "M06     0.140821\n",
      "M09     0.188394\n",
      "M12     0.170605\n",
      "M19     0.222523\n",
      "M05     0.311067\n",
      "M07     0.557965\n",
      "M102    0.298857\n",
      "M107    0.225280\n",
      "M112    0.192927\n",
      "M120    0.203607\n",
      "M121    0.138206\n",
      "M125    0.125759\n",
      "M126    0.157848\n",
      "M133    0.217402\n",
      "M134    0.177493\n",
      "M141    0.156207\n",
      "M144    0.194997\n",
      "M148    0.305432\n",
      "M150    0.203016\n",
      "M151    0.166461\n",
      "M155    0.157797\n",
      "M156    0.104503\n",
      "M33     0.171656\n",
      "M34     0.213723\n",
      "M35     0.175984\n",
      "M38     0.111409\n",
      "M39     0.087773\n",
      "M44     0.134942\n",
      "M46     0.089985\n",
      "M47     0.153078\n",
      "M52     0.297387\n",
      "M55     0.127931\n",
      "M64     0.079582\n",
      "M72     0.203705\n",
      "M73     0.100014\n",
      "M77     0.192975\n",
      "M78     0.082110\n",
      "M79     0.143922\n",
      "M88     0.082462\n",
      "M93     0.119766\n",
      "M95     0.142410\n",
      "M99     0.145109\n",
      "Name: simpson_e, dtype: float64}\n"
     ]
    },
    {
     "name": "stdout",
     "output_type": "stream",
     "text": [
      "DONE: Calculating alpha group significance: simpson_e\n"
     ]
    }
   ],
   "source": [
    "for metric, alpha_values in alpha_diversities.items():\n",
    "    print(f\"Processing alpha_group_significance: {metric}\")\n",
    "    try:\n",
    "        significance_view = alpha_group_significance(alpha_diversity=alpha_values, metadata=metadata_qa).visualization\n",
    "        view_path = os.path.join(alpha_path, f'alpha-group-significance-{metric}.qzv')\n",
    "        significance_view.save(view_path)\n",
    "        significance_view\n",
    "        print(f\"DONE: Calculating alpha group significance: {metric}\")\n",
    "    except Exception as e:\n",
    "        print(f\"ERROR: Calculating alpha group significance: {metric}\")"
   ]
  },
  {
   "cell_type": "markdown",
   "id": "4349d357",
   "metadata": {
    "papermill": {
     "duration": 0.079119,
     "end_time": "2023-09-06T23:16:01.113891",
     "exception": false,
     "start_time": "2023-09-06T23:16:01.034772",
     "status": "completed"
    },
    "tags": []
   },
   "source": [
    "## Beta diversity analysis\n",
    "\n",
    "#### Reference\n",
    "- [diversity beta](https://docs.qiime2.org/2022.8/plugins/available/diversity/beta/): Computes a user-specified beta diversity metric for all pairs of samples in a feature table.\n",
    "- [Beta diversity metrics](http://scikit-bio.org/docs/0.2.0/generated/skbio.diversity.beta.html)\n",
    "\n",
    "- Metric Choices('aitchison', 'braycurtis', 'canberra', 'canberra_adkins', 'chebyshev', 'cityblock', 'correlation', 'cosine', 'dice', 'euclidean', 'hamming', 'jaccard', 'jensenshannon', 'kulsinski', 'matching', 'minkowski', 'rogerstanimoto', 'russellrao', 'seuclidean', 'sokalmichener', 'sokalsneath', 'sqeuclidean', 'yule')"
   ]
  },
  {
   "cell_type": "code",
   "execution_count": 17,
   "id": "f6f358dd",
   "metadata": {
    "ExecuteTime": {
     "end_time": "2022-09-29T20:54:36.335038Z",
     "start_time": "2022-09-29T20:54:36.091288Z"
    },
    "execution": {
     "iopub.execute_input": "2023-09-06T23:16:01.253134Z",
     "iopub.status.busy": "2023-09-06T23:16:01.252812Z",
     "iopub.status.idle": "2023-09-06T23:16:01.840800Z",
     "shell.execute_reply": "2023-09-06T23:16:01.840149Z"
    },
    "papermill": {
     "duration": 0.662589,
     "end_time": "2023-09-06T23:16:01.845136",
     "exception": false,
     "start_time": "2023-09-06T23:16:01.182547",
     "status": "completed"
    },
    "tags": []
   },
   "outputs": [
    {
     "name": "stdout",
     "output_type": "stream",
     "text": [
      "Calculating beta diversity: euclidean\n",
      "{'metric': 'euclidean', 'pseudocount': 1, 'n_jobs': 6, 'table': <artifact: FeatureTable[Frequency] uuid: b8c70aab-e476-498b-9b85-38d174c191e2>}\n",
      "{'metric': 'euclidean', 'pseudocount': 1, 'n_jobs': 6, 'table': 2403 x 44 <class 'biom.table.Table'> with 6331 nonzero entries (5% dense)}\n",
      "{'metric': 'euclidean', 'pseudocount': 1, 'n_jobs': 6, 'table': 2403 x 44 <class 'biom.table.Table'> with 6331 nonzero entries (5% dense)}\n",
      "DONE: Calculating beta diversity: euclidean\n",
      "Calculating beta diversity: dice\n",
      "{'metric': 'dice', 'pseudocount': 1, 'n_jobs': 6, 'table': <artifact: FeatureTable[Frequency] uuid: b8c70aab-e476-498b-9b85-38d174c191e2>}\n",
      "{'metric': 'dice', 'pseudocount': 1, 'n_jobs': 6, 'table': 2403 x 44 <class 'biom.table.Table'> with 6331 nonzero entries (5% dense)}\n",
      "{'metric': 'dice', 'pseudocount': 1, 'n_jobs': 6, 'table': 2403 x 44 <class 'biom.table.Table'> with 6331 nonzero entries (5% dense)}\n"
     ]
    },
    {
     "name": "stderr",
     "output_type": "stream",
     "text": [
      "/home/lauro/anaconda3/envs/qiime2-2022.2/lib/python3.8/site-packages/sklearn/metrics/pairwise.py:1761: DataConversionWarning: Data was converted to boolean for metric dice\n",
      "  warnings.warn(msg, DataConversionWarning)\n"
     ]
    },
    {
     "name": "stdout",
     "output_type": "stream",
     "text": [
      "DONE: Calculating beta diversity: dice\n",
      "Calculating beta diversity: braycurtis\n",
      "{'metric': 'braycurtis', 'pseudocount': 1, 'n_jobs': 6, 'table': <artifact: FeatureTable[Frequency] uuid: b8c70aab-e476-498b-9b85-38d174c191e2>}\n",
      "{'n_jobs': 6, 'table': 2403 x 44 <class 'biom.table.Table'> with 6331 nonzero entries (5% dense)}\n",
      "{'n_jobs': 6, 'table': 2403 x 44 <class 'biom.table.Table'> with 6331 nonzero entries (5% dense)}\n",
      "DONE: Calculating beta diversity: braycurtis\n",
      "Calculating beta diversity: correlation\n",
      "{'metric': 'correlation', 'pseudocount': 1, 'n_jobs': 6, 'table': <artifact: FeatureTable[Frequency] uuid: b8c70aab-e476-498b-9b85-38d174c191e2>}\n",
      "{'metric': 'correlation', 'pseudocount': 1, 'n_jobs': 6, 'table': 2403 x 44 <class 'biom.table.Table'> with 6331 nonzero entries (5% dense)}\n",
      "{'metric': 'correlation', 'pseudocount': 1, 'n_jobs': 6, 'table': 2403 x 44 <class 'biom.table.Table'> with 6331 nonzero entries (5% dense)}\n",
      "ERROR: Calculating beta diversity: correlation\n",
      "Calculating beta diversity: cosine\n",
      "{'metric': 'cosine', 'pseudocount': 1, 'n_jobs': 6, 'table': <artifact: FeatureTable[Frequency] uuid: b8c70aab-e476-498b-9b85-38d174c191e2>}\n",
      "{'metric': 'cosine', 'pseudocount': 1, 'n_jobs': 6, 'table': 2403 x 44 <class 'biom.table.Table'> with 6331 nonzero entries (5% dense)}\n",
      "{'metric': 'cosine', 'pseudocount': 1, 'n_jobs': 6, 'table': 2403 x 44 <class 'biom.table.Table'> with 6331 nonzero entries (5% dense)}\n",
      "ERROR: Calculating beta diversity: cosine\n",
      "Calculating beta diversity: matching\n",
      "{'metric': 'matching', 'pseudocount': 1, 'n_jobs': 6, 'table': <artifact: FeatureTable[Frequency] uuid: b8c70aab-e476-498b-9b85-38d174c191e2>}\n",
      "{'metric': 'matching', 'pseudocount': 1, 'n_jobs': 6, 'table': 2403 x 44 <class 'biom.table.Table'> with 6331 nonzero entries (5% dense)}\n",
      "{'metric': 'matching', 'pseudocount': 1, 'n_jobs': 6, 'table': 2403 x 44 <class 'biom.table.Table'> with 6331 nonzero entries (5% dense)}\n"
     ]
    },
    {
     "name": "stdout",
     "output_type": "stream",
     "text": [
      "DONE: Calculating beta diversity: matching\n",
      "Calculating beta diversity: jaccard\n",
      "{'metric': 'jaccard', 'pseudocount': 1, 'n_jobs': 6, 'table': <artifact: FeatureTable[Frequency] uuid: b8c70aab-e476-498b-9b85-38d174c191e2>}\n",
      "{'n_jobs': 6, 'table': 2403 x 44 <class 'biom.table.Table'> with 6331 nonzero entries (5% dense)}\n",
      "{'n_jobs': 6, 'table': 2403 x 44 <class 'biom.table.Table'> with 6331 nonzero entries (5% dense)}\n",
      "DONE: Calculating beta diversity: jaccard\n"
     ]
    },
    {
     "name": "stderr",
     "output_type": "stream",
     "text": [
      "/home/lauro/anaconda3/envs/qiime2-2022.2/lib/python3.8/site-packages/sklearn/metrics/pairwise.py:1761: DataConversionWarning: Data was converted to boolean for metric matching\n",
      "  warnings.warn(msg, DataConversionWarning)\n",
      "/home/lauro/anaconda3/envs/qiime2-2022.2/lib/python3.8/site-packages/sklearn/metrics/pairwise.py:1761: DataConversionWarning: Data was converted to boolean for metric jaccard\n",
      "  warnings.warn(msg, DataConversionWarning)\n"
     ]
    }
   ],
   "source": [
    "metrics = ('aitchison', 'braycurtis', 'canberra', 'canberra_adkins', 'chebyshev', 'cityblock', 'correlation', 'cosine', 'dice', 'euclidean', 'hamming', 'jaccard', 'jensenshannon', 'kulsinski', 'matching', 'minkowski', 'rogerstanimoto', 'russellrao', 'seuclidean', 'sokalmichener', 'sokalsneath', 'sqeuclidean', 'yule')\n",
    "metrics = ('euclidean', 'dice', 'braycurtis', 'correlation', 'cosine', 'matching', 'jaccard')\n",
    "beta_diversities = dict()\n",
    "for metric in metrics:\n",
    "    print(f\"Calculating beta diversity: {metric}\")\n",
    "    try:\n",
    "        beta_diversity = beta(table=tabs, metric=metric, n_jobs=6, pseudocount=1).distance_matrix\n",
    "        beta_diversities[metric] = beta_diversity\n",
    "        # Save SampleData[BetaDiversity] Artifact\n",
    "        file_path = os.path.join(beta_path, f'beta-values-{metric}.qza')\n",
    "        beta_diversity.save(file_path)\n",
    "        print(f\"DONE: Calculating beta diversity: {metric}\")\n",
    "    except Exception as e:\n",
    "        print(f\"ERROR: Calculating beta diversity: {metric}\")"
   ]
  },
  {
   "cell_type": "markdown",
   "id": "200a2fa7",
   "metadata": {
    "papermill": {
     "duration": 0.067344,
     "end_time": "2023-09-06T23:16:01.986965",
     "exception": false,
     "start_time": "2023-09-06T23:16:01.919621",
     "status": "completed"
    },
    "tags": []
   },
   "source": [
    "### Beta group significance\n",
    "\n",
    "- [diversity beta_group_significance](https://docs.qiime2.org/2022.8/plugins/available/diversity/beta-group-significance/): Determine whether groups of samples are significantly different from one another using a permutation-based statistical test.\n",
    "- Marti J Anderson. A new method for non-parametric multivariate analysis of variance. Austral ecology, 26(1):32–46, 2001. doi:https://doi.org/10.1111/j.1442-9993.2001.01070.pp.x."
   ]
  },
  {
   "cell_type": "code",
   "execution_count": 18,
   "id": "b8dd42b6",
   "metadata": {
    "ExecuteTime": {
     "end_time": "2022-09-29T20:55:08.313860Z",
     "start_time": "2022-09-29T20:54:36.336993Z"
    },
    "execution": {
     "iopub.execute_input": "2023-09-06T23:16:02.138774Z",
     "iopub.status.busy": "2023-09-06T23:16:02.138512Z",
     "iopub.status.idle": "2023-09-06T23:16:44.470395Z",
     "shell.execute_reply": "2023-09-06T23:16:44.469767Z"
    },
    "papermill": {
     "duration": 42.420102,
     "end_time": "2023-09-06T23:16:44.474931",
     "exception": false,
     "start_time": "2023-09-06T23:16:02.054829",
     "status": "completed"
    },
    "tags": []
   },
   "outputs": [
    {
     "name": "stdout",
     "output_type": "stream",
     "text": [
      "Calculating beta group significance with method permanova and metric euclidean\n",
      "{'metadata': <CategoricalMetadataColumn name='above_10' id_count=44>, 'method': 'permanova', 'pairwise': True, 'permutations': 999, 'distance_matrix': <skbio.stats.distance._base.DistanceMatrix object at 0x7f633778b1c0>}\n"
     ]
    },
    {
     "name": "stdout",
     "output_type": "stream",
     "text": [
      "DONE: Calculating beta group significance: permanova euclidean\n",
      "Calculating beta group significance with method permanova and metric dice\n",
      "{'metadata': <CategoricalMetadataColumn name='above_10' id_count=44>, 'method': 'permanova', 'pairwise': True, 'permutations': 999, 'distance_matrix': <skbio.stats.distance._base.DistanceMatrix object at 0x7f632446d790>}\n"
     ]
    },
    {
     "name": "stdout",
     "output_type": "stream",
     "text": [
      "DONE: Calculating beta group significance: permanova dice\n",
      "Calculating beta group significance with method permanova and metric braycurtis\n",
      "{'metadata': <CategoricalMetadataColumn name='above_10' id_count=44>, 'method': 'permanova', 'pairwise': True, 'permutations': 999, 'distance_matrix': <skbio.stats.distance._base.DistanceMatrix object at 0x7f63244147c0>}\n"
     ]
    },
    {
     "name": "stdout",
     "output_type": "stream",
     "text": [
      "DONE: Calculating beta group significance: permanova braycurtis\n",
      "Calculating beta group significance with method permanova and metric matching\n",
      "{'metadata': <CategoricalMetadataColumn name='above_10' id_count=44>, 'method': 'permanova', 'pairwise': True, 'permutations': 999, 'distance_matrix': <skbio.stats.distance._base.DistanceMatrix object at 0x7f63244e3fa0>}\n"
     ]
    },
    {
     "name": "stdout",
     "output_type": "stream",
     "text": [
      "DONE: Calculating beta group significance: permanova matching\n",
      "Calculating beta group significance with method permanova and metric jaccard\n",
      "{'metadata': <CategoricalMetadataColumn name='above_10' id_count=44>, 'method': 'permanova', 'pairwise': True, 'permutations': 999, 'distance_matrix': <skbio.stats.distance._base.DistanceMatrix object at 0x7f6324361af0>}\n"
     ]
    },
    {
     "name": "stdout",
     "output_type": "stream",
     "text": [
      "DONE: Calculating beta group significance: permanova jaccard\n",
      "Calculating beta group significance with method anosim and metric euclidean\n",
      "{'metadata': <CategoricalMetadataColumn name='above_10' id_count=44>, 'method': 'anosim', 'pairwise': True, 'permutations': 999, 'distance_matrix': <skbio.stats.distance._base.DistanceMatrix object at 0x7f6324339e20>}\n"
     ]
    },
    {
     "name": "stdout",
     "output_type": "stream",
     "text": [
      "DONE: Calculating beta group significance: anosim euclidean\n",
      "Calculating beta group significance with method anosim and metric dice\n",
      "{'metadata': <CategoricalMetadataColumn name='above_10' id_count=44>, 'method': 'anosim', 'pairwise': True, 'permutations': 999, 'distance_matrix': <skbio.stats.distance._base.DistanceMatrix object at 0x7f632432cca0>}\n"
     ]
    },
    {
     "name": "stdout",
     "output_type": "stream",
     "text": [
      "DONE: Calculating beta group significance: anosim dice\n",
      "Calculating beta group significance with method anosim and metric braycurtis\n",
      "{'metadata': <CategoricalMetadataColumn name='above_10' id_count=44>, 'method': 'anosim', 'pairwise': True, 'permutations': 999, 'distance_matrix': <skbio.stats.distance._base.DistanceMatrix object at 0x7f6324266f40>}\n"
     ]
    },
    {
     "name": "stdout",
     "output_type": "stream",
     "text": [
      "DONE: Calculating beta group significance: anosim braycurtis\n",
      "Calculating beta group significance with method anosim and metric matching\n",
      "{'metadata': <CategoricalMetadataColumn name='above_10' id_count=44>, 'method': 'anosim', 'pairwise': True, 'permutations': 999, 'distance_matrix': <skbio.stats.distance._base.DistanceMatrix object at 0x7f63244f4760>}\n"
     ]
    },
    {
     "name": "stdout",
     "output_type": "stream",
     "text": [
      "DONE: Calculating beta group significance: anosim matching\n",
      "Calculating beta group significance with method anosim and metric jaccard\n",
      "{'metadata': <CategoricalMetadataColumn name='above_10' id_count=44>, 'method': 'anosim', 'pairwise': True, 'permutations': 999, 'distance_matrix': <skbio.stats.distance._base.DistanceMatrix object at 0x7f632442a3d0>}\n"
     ]
    },
    {
     "name": "stdout",
     "output_type": "stream",
     "text": [
      "DONE: Calculating beta group significance: anosim jaccard\n",
      "Calculating beta group significance with method permdisp and metric euclidean\n",
      "{'metadata': <CategoricalMetadataColumn name='above_10' id_count=44>, 'method': 'permdisp', 'pairwise': True, 'permutations': 999, 'distance_matrix': <skbio.stats.distance._base.DistanceMatrix object at 0x7f63376ef8e0>}\n"
     ]
    },
    {
     "name": "stdout",
     "output_type": "stream",
     "text": [
      "DONE: Calculating beta group significance: permdisp euclidean\n",
      "Calculating beta group significance with method permdisp and metric dice\n",
      "{'metadata': <CategoricalMetadataColumn name='above_10' id_count=44>, 'method': 'permdisp', 'pairwise': True, 'permutations': 999, 'distance_matrix': <skbio.stats.distance._base.DistanceMatrix object at 0x7f6338c967f0>}\n"
     ]
    },
    {
     "name": "stdout",
     "output_type": "stream",
     "text": [
      "DONE: Calculating beta group significance: permdisp dice\n",
      "Calculating beta group significance with method permdisp and metric braycurtis\n",
      "{'metadata': <CategoricalMetadataColumn name='above_10' id_count=44>, 'method': 'permdisp', 'pairwise': True, 'permutations': 999, 'distance_matrix': <skbio.stats.distance._base.DistanceMatrix object at 0x7f63381d30d0>}\n"
     ]
    },
    {
     "name": "stdout",
     "output_type": "stream",
     "text": [
      "DONE: Calculating beta group significance: permdisp braycurtis\n",
      "Calculating beta group significance with method permdisp and metric matching\n",
      "{'metadata': <CategoricalMetadataColumn name='above_10' id_count=44>, 'method': 'permdisp', 'pairwise': True, 'permutations': 999, 'distance_matrix': <skbio.stats.distance._base.DistanceMatrix object at 0x7f6337e74cd0>}\n"
     ]
    },
    {
     "name": "stderr",
     "output_type": "stream",
     "text": [
      "/home/lauro/anaconda3/envs/qiime2-2022.2/lib/python3.8/site-packages/skbio/stats/ordination/_principal_coordinate_analysis.py:143: RuntimeWarning: The result contains negative eigenvalues. Please compare their magnitude with the magnitude of some of the largest positive eigenvalues. If the negative ones are smaller, it's probably safe to ignore them, but if they are large in magnitude, the results won't be useful. See the Notes section for more details. The smallest eigenvalue is -0.002998760695443802 and the largest is 0.024913454301696294.\n",
      "  warn(\n"
     ]
    },
    {
     "name": "stderr",
     "output_type": "stream",
     "text": [
      "/home/lauro/anaconda3/envs/qiime2-2022.2/lib/python3.8/site-packages/skbio/stats/ordination/_principal_coordinate_analysis.py:143: RuntimeWarning: The result contains negative eigenvalues. Please compare their magnitude with the magnitude of some of the largest positive eigenvalues. If the negative ones are smaller, it's probably safe to ignore them, but if they are large in magnitude, the results won't be useful. See the Notes section for more details. The smallest eigenvalue is -0.0029987606954438007 and the largest is 0.024913454301696298.\n",
      "  warn(\n"
     ]
    },
    {
     "name": "stdout",
     "output_type": "stream",
     "text": [
      "DONE: Calculating beta group significance: permdisp matching\n",
      "Calculating beta group significance with method permdisp and metric jaccard\n",
      "{'metadata': <CategoricalMetadataColumn name='above_10' id_count=44>, 'method': 'permdisp', 'pairwise': True, 'permutations': 999, 'distance_matrix': <skbio.stats.distance._base.DistanceMatrix object at 0x7f6324290280>}\n"
     ]
    },
    {
     "name": "stdout",
     "output_type": "stream",
     "text": [
      "DONE: Calculating beta group significance: permdisp jaccard\n"
     ]
    },
    {
     "data": {
      "text/plain": [
       "<Figure size 432x288 with 0 Axes>"
      ]
     },
     "metadata": {},
     "output_type": "display_data"
    }
   ],
   "source": [
    "methods = ('permanova', 'anosim', 'permdisp')\n",
    "for method in methods:\n",
    "    for metric, beta_diversity in beta_diversities.items():\n",
    "        print(f'Calculating beta group significance with method {method} and metric {metric}')\n",
    "        try:\n",
    "            beta_view = beta_group_significance(distance_matrix=beta_diversity, \n",
    "                                                metadata=metadata_qa.get_column(class_col), \n",
    "                                                pairwise=True, method=method).visualization\n",
    "            view_name = os.path.join(beta_path, f'beta-group-significance-{metric}-{method}.qzv')\n",
    "            beta_view.save(view_name)\n",
    "            print(f\"DONE: Calculating beta group significance: {method} {metric}\")\n",
    "        except Exception as e:\n",
    "            print(f\"ERROR: Calculating beta group significance: {method} {metric}\")"
   ]
  },
  {
   "cell_type": "markdown",
   "id": "c0de85cf",
   "metadata": {
    "papermill": {
     "duration": 0.08171,
     "end_time": "2023-09-06T23:16:44.645271",
     "exception": false,
     "start_time": "2023-09-06T23:16:44.563561",
     "status": "completed"
    },
    "tags": []
   },
   "source": [
    "### Beta group Rarefaction\n",
    "\n",
    "- [diversity beta_rarefaction](https://docs.qiime2.org/2022.8/plugins/available/diversity/beta-rarefaction/): Repeatedly rarefy a feature table to compare beta diversity results within a given rarefaction depth.  For a given beta diversity metric, this visualizer will provide: an Emperor jackknifed PCoA plot, samples clustered by UPGMA or neighbor joining with support calculation, and a heatmap showing the correlation between rarefaction trials of that beta diversity metric."
   ]
  }
 ],
 "metadata": {
  "celltoolbar": "Edit Metadata",
  "kernelspec": {
   "display_name": "Python 3 (ipykernel)",
   "language": "python",
   "name": "python3"
  },
  "language_info": {
   "codemirror_mode": {
    "name": "ipython",
    "version": 3
   },
   "file_extension": ".py",
   "mimetype": "text/x-python",
   "name": "python",
   "nbconvert_exporter": "python",
   "pygments_lexer": "ipython3",
   "version": "3.8.12"
  },
  "papermill": {
   "default_parameters": {},
   "duration": 151.483502,
   "end_time": "2023-09-06T23:16:45.639670",
   "environment_variables": {},
   "exception": null,
   "input_path": "nb-templates/step-diversity-analysis.ipynb",
   "output_path": "/home/lauro/nupeb/rede-micro/redemicro-thayane/experiments/thayane-PM-joined-trim/nb-executed-steps/step-diversity-analysis-thayane-PM-joined-trim.ipynb",
   "parameters": {
    "base_dir": "/home/lauro/nupeb/rede-micro/redemicro-thayane",
    "class_col": "above_10",
    "classifier_file": "/home/lauro/nupeb/16S_classifiers_qiime2/silva-138-99-nb-classifier.qza",
    "experiment_name": "thayane-PM-joined-trim",
    "manifest_file": "/home/lauro/nupeb/rede-micro/redemicro-thayane/data/manifest-single.csv",
    "metadata_file": "/home/lauro/nupeb/rede-micro/redemicro-thayane/data/metadata.tsv",
    "overlap": 12,
    "phred": 20,
    "replace_files": false,
    "threads": 6,
    "trunc_f": 0,
    "trunc_r": 0
   },
   "start_time": "2023-09-06T23:14:14.156168",
   "version": "2.3.4"
  }
 },
 "nbformat": 4,
 "nbformat_minor": 5
}