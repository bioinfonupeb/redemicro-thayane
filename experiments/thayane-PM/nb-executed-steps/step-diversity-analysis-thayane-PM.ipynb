{
 "cells": [
  {
   "cell_type": "markdown",
   "id": "15bcfa06",
   "metadata": {
    "papermill": {
     "duration": 0.026818,
     "end_time": "2022-11-17T22:50:51.264186",
     "exception": false,
     "start_time": "2022-11-17T22:50:51.237368",
     "status": "completed"
    },
    "tags": []
   },
   "source": [
    " \n",
    "# Alpha and Beta Diversity\n",
    "\n",
    "Different higher-level measures are often used to describe the microbiome in a sample. These do not provide information on changes in the abundance of specific taxa but allow us to access a broader change or difference in the composition of microorganisms. Alpha and beta diversity are examples of such measures.\n",
    "\n",
    "Different measures exist to estimate diversity within a single sample, jointly called alpha diversity. The different measures reflect the richness (number) or distribution (evenness) of a microbial sample or aim to reflect a combination of both properties.\n",
    "\n",
    "Rarefaction curves are often used when calculating alpha diversity indices because increasing numbers of sequenced taxa allow increasingly accurate estimates of total population diversity. Rarefaction curves can therefore be used to estimate the full sample richness, as compared to the observed sample richness.\n",
    "\n",
    "While alpha diversity is a measure of microbiome diversity applicable to a single sample, beta diversity is a measure of the similarity or dissimilarity of two communities. As for alpha diversity, many indices exist, each reflecting different aspects of community heterogeneity. Key differences relate to how the indices value variation in rare species if they consider presence/absence only or incorporate abundance, and how they interpret shared absence. Bray-Curtis dissimilarity is a popular measure that considers both size (overall abundance per sample) and shape (abundance of each taxon) of the communities (Bray, 1957). Beta diversity is an essential measure for many popular statistical methods in ecology, such as ordination-based methods, and is widely used for studying the association between environmental variables and microbial composition.\n",
    "\n",
    "In summary, alpha diversity measures can be seen as a summary statistic of a single population (within-sample diversity), while beta diversity measures are estimates of similarity or dissimilarity between populations (between samples).\n",
    "\n",
    "**Source**: (https://biomcare.com/info/key-terms-in-microbiome-projects/)"
   ]
  },
  {
   "cell_type": "markdown",
   "id": "0e7f2330",
   "metadata": {
    "ExecuteTime": {
     "end_time": "2022-09-22T19:36:33.828188Z",
     "start_time": "2022-09-22T19:36:33.817323Z"
    },
    "papermill": {
     "duration": 0.072368,
     "end_time": "2022-11-17T22:50:51.355079",
     "exception": false,
     "start_time": "2022-11-17T22:50:51.282711",
     "status": "completed"
    },
    "tags": []
   },
   "source": [
    "### STEP : Diversity Analysis\n",
    "\n",
    "Using QIIME2 to create diversity analisys graphs and calculations.\n",
    "\n",
    "- [QIIME2 Workflow Overview](https://docs.qiime2.org/2022.8/tutorials/overview/)\n",
    "\n",
    "\n",
    "#### Methods\n",
    "- [diversity](https://docs.qiime2.org/2022.8/plugins/available/diversity/)\n",
    "- [diversity alpha](https://docs.qiime2.org/2022.8/plugins/available/diversity/alpha/)\n",
    "- [diversity alpha_phylogenetic](https://docs.qiime2.org/2022.8/plugins/available/diversity/alpha-phylogenetic/)\n",
    "- [diversity beta](https://docs.qiime2.org/2022.8/plugins/available/diversity/beta/)\n",
    "- [diversity core_metrics](https://docs.qiime2.org/2022.8/plugins/available/diversity/core-metrics/)\n",
    "- [diversity alpha_group_significance](https://docs.qiime2.org/2022.8/plugins/available/diversity/alpha-group-significance/)\n",
    "- [diversity beta_group_significance](https://docs.qiime2.org/2022.8/plugins/available/diversity/beta-group-significance/)\n",
    "- [feature_table core_features](https://docs.qiime2.org/2022.8/plugins/available/feature-table/core-features/)\n",
    "- [feature_table summarize](https://docs.qiime2.org/2022.8/plugins/available/feature-table/summarize/)\n",
    "- [taxa filter-table](https://docs.qiime2.org/2022.8/plugins/available/taxa/filter-table/)\n",
    "- [taxa collapse](https://docs.qiime2.org/2022.8/plugins/available/taxa/collapse/)"
   ]
  },
  {
   "cell_type": "markdown",
   "id": "843debbf",
   "metadata": {
    "papermill": {
     "duration": 0.018247,
     "end_time": "2022-11-17T22:50:51.420980",
     "exception": false,
     "start_time": "2022-11-17T22:50:51.402733",
     "status": "completed"
    },
    "tags": []
   },
   "source": [
    "## Setup and settings"
   ]
  },
  {
   "cell_type": "code",
   "execution_count": 1,
   "id": "965e28e5",
   "metadata": {
    "ExecuteTime": {
     "end_time": "2022-11-03T20:35:26.198671Z",
     "start_time": "2022-11-03T20:35:06.473173Z"
    },
    "execution": {
     "iopub.execute_input": "2022-11-17T22:50:51.499697Z",
     "iopub.status.busy": "2022-11-17T22:50:51.499127Z",
     "iopub.status.idle": "2022-11-17T22:50:58.021401Z",
     "shell.execute_reply": "2022-11-17T22:50:58.020773Z"
    },
    "papermill": {
     "duration": 6.567011,
     "end_time": "2022-11-17T22:50:58.024656",
     "exception": false,
     "start_time": "2022-11-17T22:50:51.457645",
     "status": "completed"
    },
    "tags": []
   },
   "outputs": [],
   "source": [
    "# Importing packages\n",
    "import os\n",
    "import pandas as pd\n",
    "from qiime2 import Artifact\n",
    "from qiime2 import Visualization\n",
    "from qiime2 import Metadata\n",
    "\n",
    "from qiime2.plugins.phylogeny.pipelines import align_to_tree_mafft_fasttree\n",
    "\n",
    "from qiime2.plugins.diversity.pipelines import alpha\n",
    "from qiime2.plugins.diversity.pipelines import beta\n",
    "from qiime2.plugins.diversity.pipelines import core_metrics\n",
    "from qiime2.plugins.diversity.pipelines import alpha_phylogenetic\n",
    "\n",
    "from qiime2.plugins.diversity.visualizers import alpha_group_significance\n",
    "from qiime2.plugins.diversity.visualizers import beta_group_significance\n",
    "from qiime2.plugins.diversity.visualizers import alpha_correlation\n",
    "from qiime2.plugins.diversity.visualizers import beta_rarefaction\n",
    "\n",
    "from qiime2.plugins.taxa.methods import filter_table\n",
    "from qiime2.plugins.taxa.methods import collapse\n",
    "\n",
    "from qiime2.plugins.feature_table.visualizers import tabulate_seqs\n",
    "from qiime2.plugins.feature_table.visualizers import summarize\n",
    "from qiime2.plugins.feature_table.visualizers import core_features\n",
    "\n",
    "from qiime2.plugins.alignment.methods import mafft\n",
    "\n",
    "\n",
    "import matplotlib.pyplot as plt\n",
    "\n",
    "%matplotlib inline"
   ]
  },
  {
   "cell_type": "markdown",
   "id": "530ceb60",
   "metadata": {
    "papermill": {
     "duration": 0.016202,
     "end_time": "2022-11-17T22:50:58.065412",
     "exception": false,
     "start_time": "2022-11-17T22:50:58.049210",
     "status": "completed"
    },
    "tags": []
   },
   "source": [
    "### Receiving the parameters\n",
    "\n",
    "The following cell can receive parameters using the [papermill](https://papermill.readthedocs.io/en/latest/) tool."
   ]
  },
  {
   "cell_type": "code",
   "execution_count": 2,
   "id": "18d874ea",
   "metadata": {
    "ExecuteTime": {
     "end_time": "2022-09-29T20:54:14.793270Z",
     "start_time": "2022-09-29T20:54:14.789367Z"
    },
    "execution": {
     "iopub.execute_input": "2022-11-17T22:50:58.157545Z",
     "iopub.status.busy": "2022-11-17T22:50:58.157249Z",
     "iopub.status.idle": "2022-11-17T22:50:58.161820Z",
     "shell.execute_reply": "2022-11-17T22:50:58.160984Z"
    },
    "papermill": {
     "duration": 0.068879,
     "end_time": "2022-11-17T22:50:58.163433",
     "exception": false,
     "start_time": "2022-11-17T22:50:58.094554",
     "status": "completed"
    },
    "tags": [
     "parameters"
    ]
   },
   "outputs": [],
   "source": [
    "metadata_file = '/home/lauro/nupeb/rede-micro/redemicro-miliane-nutri/data/raw/metadata/miliane-metadata-CxAC.tsv'\n",
    "base_dir = os.path.join('/', 'home', 'lauro', 'nupeb', 'rede-micro', 'redemicro-miliane-nutri')\n",
    "experiment_name = 'miliane-CxAC-trim'\n",
    "class_col = 'group-id'\n",
    "replace_files = False"
   ]
  },
  {
   "cell_type": "code",
   "execution_count": 3,
   "id": "717dfdf1",
   "metadata": {
    "execution": {
     "iopub.execute_input": "2022-11-17T22:50:58.198825Z",
     "iopub.status.busy": "2022-11-17T22:50:58.198559Z",
     "iopub.status.idle": "2022-11-17T22:50:58.203999Z",
     "shell.execute_reply": "2022-11-17T22:50:58.203239Z"
    },
    "papermill": {
     "duration": 0.024829,
     "end_time": "2022-11-17T22:50:58.205914",
     "exception": false,
     "start_time": "2022-11-17T22:50:58.181085",
     "status": "completed"
    },
    "tags": [
     "injected-parameters"
    ]
   },
   "outputs": [],
   "source": [
    "# Parameters\n",
    "experiment_name = \"thayane-PM\"\n",
    "base_dir = \"/home/lauro/nupeb/rede-micro/redemicro-thayane\"\n",
    "manifest_file = \"/home/lauro/nupeb/rede-micro/redemicro-thayane/data/manifest.csv\"\n",
    "metadata_file = \"/home/lauro/nupeb/rede-micro/redemicro-thayane/data/metadata.tsv\"\n",
    "class_col = \"class-straw\"\n",
    "classifier_file = (\n",
    "    \"/home/lauro/nupeb/16S_classifiers_qiime2/silva-138-99-nb-classifier.qza\"\n",
    ")\n",
    "replace_files = False\n",
    "phred = 20\n",
    "trunc_f = 0\n",
    "trunc_r = 0\n",
    "overlap = 12\n",
    "threads = 6\n"
   ]
  },
  {
   "cell_type": "code",
   "execution_count": 4,
   "id": "f38617d9",
   "metadata": {
    "ExecuteTime": {
     "end_time": "2022-09-29T20:54:14.804575Z",
     "start_time": "2022-09-29T20:54:14.794927Z"
    },
    "execution": {
     "iopub.execute_input": "2022-11-17T22:50:58.242470Z",
     "iopub.status.busy": "2022-11-17T22:50:58.242123Z",
     "iopub.status.idle": "2022-11-17T22:50:58.246716Z",
     "shell.execute_reply": "2022-11-17T22:50:58.245977Z"
    },
    "papermill": {
     "duration": 0.024429,
     "end_time": "2022-11-17T22:50:58.248454",
     "exception": false,
     "start_time": "2022-11-17T22:50:58.224025",
     "status": "completed"
    },
    "tags": []
   },
   "outputs": [],
   "source": [
    "experiment_folder = os.path.abspath(os.path.join(base_dir, 'experiments', experiment_name))\n",
    "img_folder = os.path.abspath(os.path.join(experiment_folder, 'imgs'))"
   ]
  },
  {
   "cell_type": "markdown",
   "id": "ea9b90fb",
   "metadata": {
    "papermill": {
     "duration": 0.016744,
     "end_time": "2022-11-17T22:50:58.283083",
     "exception": false,
     "start_time": "2022-11-17T22:50:58.266339",
     "status": "completed"
    },
    "tags": []
   },
   "source": [
    "### Defining names, paths and flags"
   ]
  },
  {
   "cell_type": "code",
   "execution_count": 5,
   "id": "45727eef",
   "metadata": {
    "ExecuteTime": {
     "end_time": "2022-09-29T20:54:14.816686Z",
     "start_time": "2022-09-29T20:54:14.806238Z"
    },
    "execution": {
     "iopub.execute_input": "2022-11-17T22:50:58.318204Z",
     "iopub.status.busy": "2022-11-17T22:50:58.317862Z",
     "iopub.status.idle": "2022-11-17T22:50:58.326899Z",
     "shell.execute_reply": "2022-11-17T22:50:58.326077Z"
    },
    "papermill": {
     "duration": 0.028781,
     "end_time": "2022-11-17T22:50:58.328821",
     "exception": false,
     "start_time": "2022-11-17T22:50:58.300040",
     "status": "completed"
    },
    "tags": []
   },
   "outputs": [],
   "source": [
    "# QIIME2 Artifacts folder\n",
    "qiime_folder = os.path.join(experiment_folder, 'qiime-artifacts')\n",
    "\n",
    "# Input - DADA2 Artifacts\n",
    "dada2_tabs_path = os.path.join(qiime_folder, 'dada2-tabs.qza')\n",
    "dada2_reps_path = os.path.join(qiime_folder, 'dada2-reps.qza')\n",
    "dada2_stat_path = os.path.join(qiime_folder, 'dada2-stat.qza')\n",
    "\n",
    "# Input - Taxonaomic Artifacts\n",
    "taxonomy_path = os.path.join(qiime_folder, 'metatax.qza')\n",
    "\n",
    "# Output -Diversity Artifacts\n",
    "alpha_diversity_path = os.path.join(qiime_folder, 'alpha-diversity.qza')\n",
    "alpha_diversity_view_path = os.path.join(qiime_folder, 'alpha-diversity.qzv')\n",
    "beta_diversity_path = os.path.join(qiime_folder, 'beta-diversity.qza')\n",
    "beta_diversity_view_path = os.path.join(qiime_folder, 'beta-diversity.qzv')\n",
    "\n",
    "dada2_tabs_view = os.path.join(qiime_folder, 'dada2-tabs.qzv')\n",
    "dada2_reps_view = os.path.join(qiime_folder, 'dada2-reps.qzv')\n",
    "dada2_core_view = os.path.join(qiime_folder, 'dada2-core.qzv')\n",
    "\n",
    "# Flag - Load or create files\n",
    "need_tax = not (os.path.isfile(alpha_diversity_path)) or replace_files\n",
    "need_view = not (os.path.isfile(alpha_diversity_view_path)) or replace_files"
   ]
  },
  {
   "cell_type": "code",
   "execution_count": 6,
   "id": "601ae263",
   "metadata": {
    "ExecuteTime": {
     "end_time": "2022-09-29T20:54:14.829117Z",
     "start_time": "2022-09-29T20:54:14.818272Z"
    },
    "execution": {
     "iopub.execute_input": "2022-11-17T22:50:58.366242Z",
     "iopub.status.busy": "2022-11-17T22:50:58.365832Z",
     "iopub.status.idle": "2022-11-17T22:50:58.375861Z",
     "shell.execute_reply": "2022-11-17T22:50:58.375045Z"
    },
    "papermill": {
     "duration": 0.029981,
     "end_time": "2022-11-17T22:50:58.377866",
     "exception": false,
     "start_time": "2022-11-17T22:50:58.347885",
     "status": "completed"
    },
    "tags": []
   },
   "outputs": [],
   "source": [
    "def filter_and_collapse(tab, seqs, tax, meta, lvl, exclude=True, exclude_list='uncultured,unidentified,metagenome'):\n",
    "    from qiime2.plugins.taxa.methods import collapse\n",
    "    from qiime2.plugins.taxa.methods import filter_table\n",
    "    from qiime2.plugins.feature_table.methods import filter_seqs\n",
    "    from qiime2.plugins.feature_table.visualizers import summarize\n",
    "    \n",
    "    to_include = ('d', 'p', 'c', 'o', 'f', 'g', 's')[lvl-1]\n",
    "    to_include += '__'\n",
    "    to_exclude = exclude_list if exclude else None\n",
    "    \n",
    "    filtered_tabs = filter_table(\n",
    "        table=tab, \n",
    "        taxonomy=tax,\n",
    "        include=to_include,\n",
    "        exclude=to_exclude,\n",
    "        mode='contains').filtered_table\n",
    "    \n",
    "    filtered_seqs = filter_seqs(\n",
    "        data = seqs,\n",
    "        table = filtered_tabs,\n",
    "    ).filtered_data\n",
    "    \n",
    "    collapsed_table = collapse(table=filtered_tabs, taxonomy=tax, level=lvl).collapsed_table\n",
    "    collapsed_table_view = summarize(table=collapsed_table, sample_metadata=meta).visualization\n",
    "    \n",
    "    return collapsed_table, collapsed_table_view, filtered_seqs"
   ]
  },
  {
   "cell_type": "markdown",
   "id": "0999a1b2",
   "metadata": {
    "papermill": {
     "duration": 0.016717,
     "end_time": "2022-11-17T22:50:58.413432",
     "exception": false,
     "start_time": "2022-11-17T22:50:58.396715",
     "status": "completed"
    },
    "tags": []
   },
   "source": [
    "## Step execution\n",
    "\n",
    "### Load input files\n",
    "\n",
    "This Step import the QIIME2 `FeatureTable[Frequency]` Artifact and the `Metadata` file."
   ]
  },
  {
   "cell_type": "code",
   "execution_count": 7,
   "id": "8f299d1a",
   "metadata": {
    "ExecuteTime": {
     "end_time": "2022-09-29T20:54:15.559837Z",
     "start_time": "2022-09-29T20:54:14.830405Z"
    },
    "execution": {
     "iopub.execute_input": "2022-11-17T22:50:58.450464Z",
     "iopub.status.busy": "2022-11-17T22:50:58.450053Z",
     "iopub.status.idle": "2022-11-17T22:50:59.134750Z",
     "shell.execute_reply": "2022-11-17T22:50:59.134149Z"
    },
    "papermill": {
     "duration": 0.706995,
     "end_time": "2022-11-17T22:50:59.137649",
     "exception": false,
     "start_time": "2022-11-17T22:50:58.430654",
     "status": "completed"
    },
    "tags": []
   },
   "outputs": [],
   "source": [
    "#Load Metadata\n",
    "metadata_qa = Metadata.load(metadata_file)\n",
    "\n",
    "#Load FeatureTable[Frequency]\n",
    "tabs = Artifact.load(dada2_tabs_path)\n",
    "tabs_df = tabs.view(Metadata).to_dataframe().T\n",
    "\n",
    "# FeatureData[Sequence]\n",
    "reps = Artifact.load(dada2_reps_path)\n",
    "\n",
    "# FeatureData[Taxonomy]\n",
    "tax = Artifact.load(taxonomy_path)"
   ]
  },
  {
   "cell_type": "code",
   "execution_count": 8,
   "id": "c8dfe530",
   "metadata": {
    "ExecuteTime": {
     "end_time": "2022-09-29T20:54:15.564968Z",
     "start_time": "2022-09-29T20:54:15.561875Z"
    },
    "execution": {
     "iopub.execute_input": "2022-11-17T22:50:59.178935Z",
     "iopub.status.busy": "2022-11-17T22:50:59.178663Z",
     "iopub.status.idle": "2022-11-17T22:50:59.181836Z",
     "shell.execute_reply": "2022-11-17T22:50:59.181189Z"
    },
    "papermill": {
     "duration": 0.022222,
     "end_time": "2022-11-17T22:50:59.183292",
     "exception": false,
     "start_time": "2022-11-17T22:50:59.161070",
     "status": "completed"
    },
    "tags": []
   },
   "outputs": [],
   "source": [
    "# lvl = 7\n",
    "# exclude = True\n",
    "# tabs, collapsed_table_view, reps = filter_and_collapse(\n",
    "#                     tabs, reps, tax, metadata_qa, \n",
    "#                     lvl=lvl,\n",
    "#                     exclude=exclude, \n",
    "#                     exclude_list='uncultured,unidentified,metagenome')\n",
    "# collapsed_table_view"
   ]
  },
  {
   "cell_type": "code",
   "execution_count": 9,
   "id": "8b66a6e5",
   "metadata": {
    "ExecuteTime": {
     "end_time": "2022-09-29T20:54:20.434382Z",
     "start_time": "2022-09-29T20:54:15.567722Z"
    },
    "execution": {
     "iopub.execute_input": "2022-11-17T22:50:59.218164Z",
     "iopub.status.busy": "2022-11-17T22:50:59.217843Z",
     "iopub.status.idle": "2022-11-17T22:51:01.997822Z",
     "shell.execute_reply": "2022-11-17T22:51:01.997227Z"
    },
    "papermill": {
     "duration": 2.801096,
     "end_time": "2022-11-17T22:51:02.001382",
     "exception": false,
     "start_time": "2022-11-17T22:50:59.200286",
     "status": "completed"
    },
    "tags": []
   },
   "outputs": [
    {
     "data": {
      "text/plain": [
       "'/home/lauro/nupeb/rede-micro/redemicro-thayane/experiments/thayane-PM/qiime-artifacts/dada2-core.qzv'"
      ]
     },
     "execution_count": 9,
     "metadata": {},
     "output_type": "execute_result"
    },
    {
     "data": {
      "image/png": "[encoded data removed]",
      "text/plain": [
       "<Figure size 432x288 with 1 Axes>"
      ]
     },
     "metadata": {
      "needs_background": "light"
     },
     "output_type": "display_data"
    }
   ],
   "source": [
    "tabs_view = summarize(table=tabs, sample_metadata=metadata_qa).visualization\n",
    "tabs_view.save(dada2_tabs_view)\n",
    "reps_view = tabulate_seqs(data=reps).visualization\n",
    "reps_view.save(dada2_reps_view)\n",
    "core_view = core_features(table=tabs, min_fraction=.1, steps=10).visualization\n",
    "core_view.save(dada2_core_view)"
   ]
  },
  {
   "cell_type": "code",
   "execution_count": 10,
   "id": "b2bf36b8",
   "metadata": {
    "ExecuteTime": {
     "end_time": "2022-09-29T20:54:20.449299Z",
     "start_time": "2022-09-29T20:54:20.435814Z"
    },
    "execution": {
     "iopub.execute_input": "2022-11-17T22:51:02.043356Z",
     "iopub.status.busy": "2022-11-17T22:51:02.043126Z",
     "iopub.status.idle": "2022-11-17T22:51:02.046159Z",
     "shell.execute_reply": "2022-11-17T22:51:02.045609Z"
    },
    "papermill": {
     "duration": 0.022921,
     "end_time": "2022-11-17T22:51:02.047575",
     "exception": false,
     "start_time": "2022-11-17T22:51:02.024654",
     "status": "completed"
    },
    "tags": []
   },
   "outputs": [],
   "source": [
    "# import zipfile\n",
    "# from io import StringIO\n",
    "# import pandas as pd\n",
    "# with zipfile.ZipFile(dada2_core_view, 'r') as zip_ref:\n",
    "#     names = [x for x in zip_ref.namelist() if x.endswith('1.000.tsv')]\n",
    "#     print(names)\n",
    "#     with zip_ref.open(names[0]) as myfile:\n",
    "#         txt = str(myfile.read(), 'utf-8')\n",
    "#         txt = StringIO(txt)\n",
    "#         df = pd.read_csv(txt, sep='\\t')\n",
    "#         print(df)   "
   ]
  },
  {
   "cell_type": "markdown",
   "id": "9f43843a",
   "metadata": {
    "ExecuteTime": {
     "end_time": "2022-09-22T22:48:07.523952Z",
     "start_time": "2022-09-22T22:48:07.517565Z"
    },
    "papermill": {
     "duration": 0.017769,
     "end_time": "2022-11-17T22:51:02.083213",
     "exception": false,
     "start_time": "2022-11-17T22:51:02.065444",
     "status": "completed"
    },
    "tags": []
   },
   "source": [
    "## Alpha diversity analysis\n",
    "\n",
    "#### Reference\n",
    "- [The Use and Types of Alpha-Diversity Metrics in Microbial NGS](https://www.cd-genomics.com/microbioseq/the-use-and-types-of-alpha-diversity-metrics-in-microbial-ngs.html)\n",
    "- [Alpha diversity metrics](http://scikit-bio.org/docs/0.2.0/generated/skbio.diversity.alpha.html)\n",
    "\n",
    "#### Methods\n",
    "- [diversity alpha](https://docs.qiime2.org/2022.8/plugins/available/diversity/alpha/): Computes a user-specified alpha diversity metric for all samples in a\n",
    "feature table.\n",
    "- [diversity alpha_phylogenetic](https://docs.qiime2.org/2022.8/plugins/available/diversity/alpha-phylogenetic/): Computes a user-specified phylogenetic alpha diversity metric for all\n",
    "samples in a feature table.\n",
    "- [diversity alpha_correlation](https://docs.qiime2.org/2022.8/plugins/available/diversity/alpha-correlation/): Determine whether numeric sample metadata columns are correlated with alpha diversity.\n",
    "- [diversity alpha_group_significance](https://docs.qiime2.org/2022.8/plugins/available/diversity/alpha-group-significance/): Visually and statistically compare groups of alpha diversity values."
   ]
  },
  {
   "cell_type": "markdown",
   "id": "606b9c75",
   "metadata": {
    "papermill": {
     "duration": 0.01951,
     "end_time": "2022-11-17T22:51:02.120483",
     "exception": false,
     "start_time": "2022-11-17T22:51:02.100973",
     "status": "completed"
    },
    "tags": []
   },
   "source": [
    "### Compute Alpha Diversity vectors\n",
    "- [diversity alpha](https://docs.qiime2.org/2022.8/plugins/available/diversity/alpha/): Computes a user-specified alpha diversity metric for all samples in a feature table.\n",
    "- [Alpha diversity metrics](http://scikit-bio.org/docs/0.2.0/generated/skbio.diversity.alpha.html)\n",
    " - Choices: ('ace', 'berger_parker_d', 'brillouin_d', 'chao1', 'chao1_ci', 'dominance', 'doubles', 'enspie', 'esty_ci', 'fisher_alpha', 'gini_index', 'goods_coverage', 'heip_e', 'kempton_taylor_q', 'lladser_pe', 'margalef', 'mcintosh_d', 'mcintosh_e', 'menhinick', 'michaelis_menten_fit', 'observed_features', 'osd', 'pielou_e', 'robbins', 'shannon', 'simpson', 'simpson_e', 'singles', 'strong')"
   ]
  },
  {
   "cell_type": "code",
   "execution_count": 11,
   "id": "556e5264",
   "metadata": {
    "ExecuteTime": {
     "end_time": "2022-09-29T20:54:20.790166Z",
     "start_time": "2022-09-29T20:54:20.451134Z"
    },
    "execution": {
     "iopub.execute_input": "2022-11-17T22:51:02.157107Z",
     "iopub.status.busy": "2022-11-17T22:51:02.156786Z",
     "iopub.status.idle": "2022-11-17T22:51:02.392216Z",
     "shell.execute_reply": "2022-11-17T22:51:02.391616Z"
    },
    "papermill": {
     "duration": 0.256858,
     "end_time": "2022-11-17T22:51:02.395291",
     "exception": false,
     "start_time": "2022-11-17T22:51:02.138433",
     "status": "completed"
    },
    "tags": []
   },
   "outputs": [
    {
     "name": "stdout",
     "output_type": "stream",
     "text": [
      "Calculating alpha diversty: chao1\n",
      "DONE: Calculating alpha diversty: chao1\n",
      "Calculating alpha diversty: simpson\n",
      "DONE: Calculating alpha diversty: simpson\n",
      "Calculating alpha diversty: shannon\n",
      "DONE: Calculating alpha diversty: shannon\n",
      "Calculating alpha diversty: ace\n",
      "ERROR: Calculating alpha diversty: ace\n",
      "index 1 is out of bounds for axis 0 with size 1\n",
      "Calculating alpha diversty: observed_features\n"
     ]
    },
    {
     "name": "stdout",
     "output_type": "stream",
     "text": [
      "DONE: Calculating alpha diversty: observed_features\n"
     ]
    },
    {
     "name": "stderr",
     "output_type": "stream",
     "text": [
      "/home/lauro/anaconda3/envs/qiime2-2022.2/lib/python3.8/site-packages/skbio/diversity/alpha/_base.py:138: RuntimeWarning: invalid value encountered in true_divide\n",
      "  freqs = counts / counts.sum()\n",
      "/home/lauro/anaconda3/envs/qiime2-2022.2/lib/python3.8/site-packages/skbio/diversity/alpha/_base.py:869: RuntimeWarning: invalid value encountered in true_divide\n",
      "  freqs = counts / counts.sum()\n"
     ]
    }
   ],
   "source": [
    "metrics = ('chao1', 'simpson', 'shannon', 'ace', 'observed_features')\n",
    "alpha_diversities = dict()\n",
    "for metric in metrics:\n",
    "    print(f\"Calculating alpha diversty: {metric}\")\n",
    "    try:\n",
    "        alpha_diversity = alpha(table=tabs, metric=metric).alpha_diversity\n",
    "        alpha_diversities[metric] = alpha_diversity\n",
    "        print(f\"DONE: Calculating alpha diversty: {metric}\")\n",
    "    except Exception as e:\n",
    "        print(f\"ERROR: Calculating alpha diversty: {metric}\")\n",
    "        print(e)"
   ]
  },
  {
   "cell_type": "markdown",
   "id": "184bcb7b",
   "metadata": {
    "papermill": {
     "duration": 0.016217,
     "end_time": "2022-11-17T22:51:02.433915",
     "exception": false,
     "start_time": "2022-11-17T22:51:02.417698",
     "status": "completed"
    },
    "tags": []
   },
   "source": [
    "### Create Phylogenetic inference\n",
    "\n",
    "- [alignment align_to_tree_mafft_fasttree](https://docs.qiime2.org/2022.8/plugins/available/phylogeny/align-to-tree-mafft-fasttree/): Build a phylogenetic tree using fasttree and mafft alignment\n",
    "\n",
    "This pipeline will start by creating a sequence alignment using MAFFT,\n",
    "after which any alignment columns that are phylogenetically uninformative\n",
    "or ambiguously aligned will be removed (masked). The resulting masked\n",
    "alignment will be used to infer a phylogenetic tree and then subsequently\n",
    "rooted at its midpoint. Output files from each step of the pipeline will be\n",
    "saved. This includes both the unmasked and masked MAFFT alignment from\n",
    "q2-alignment methods, and both the rooted and unrooted phylogenies from\n",
    "q2-phylogeny methods.\n",
    "\n",
    "\n",
    "Returns\n",
    "- alignment : FeatureData[AlignedSequence] : The aligned sequences.\n",
    "- masked_alignment : FeatureData[AlignedSequence] : The masked alignment.\n",
    "- tree : Phylogeny[Unrooted] : The unrooted phylogenetic tree.\n",
    "- rooted_tree : Phylogeny[Rooted] : The rooted phylogenetic tree."
   ]
  },
  {
   "cell_type": "code",
   "execution_count": 12,
   "id": "9c8cfe47",
   "metadata": {
    "ExecuteTime": {
     "end_time": "2022-09-29T20:54:35.139531Z",
     "start_time": "2022-09-29T20:54:20.792130Z"
    },
    "execution": {
     "iopub.execute_input": "2022-11-17T22:51:02.479707Z",
     "iopub.status.busy": "2022-11-17T22:51:02.479488Z",
     "iopub.status.idle": "2022-11-17T22:51:31.376171Z",
     "shell.execute_reply": "2022-11-17T22:51:31.375653Z"
    },
    "papermill": {
     "duration": 28.925937,
     "end_time": "2022-11-17T22:51:31.378451",
     "exception": false,
     "start_time": "2022-11-17T22:51:02.452514",
     "status": "completed"
    },
    "tags": []
   },
   "outputs": [
    {
     "name": "stdout",
     "output_type": "stream",
     "text": [
      "Running external command line application. This may print messages to stdout and/or stderr.\n",
      "The command being run is below. This command cannot be manually re-run as it will depend on temporary files that no longer exist.\n",
      "\n",
      "Command: mafft --preservecase --inputorder --thread 6 /tmp/qiime2-archive-9gc8b2o7/13d02254-ae40-454f-83ff-29cf80d39c56/data/dna-sequences.fasta\n",
      "\n"
     ]
    },
    {
     "name": "stderr",
     "output_type": "stream",
     "text": [
      "inputfile = orig\n",
      "1651 x 453 - 24 d\n",
      "nthread = 6\n",
      "nthreadpair = 6\n",
      "nthreadtb = 6\n",
      "ppenalty_ex = 0\n",
      "stacksize: 8192 kb\n",
      "generating a scoring matrix for nucleotide (dist=200) ... done\n",
      "Gap Penalty = -1.53, +0.00, +0.00\n",
      "\n",
      "\n",
      "\n",
      "Making a distance matrix ..\n",
      "\r",
      "    1 / 1651 (thread    0)\r",
      "  101 / 1651 (thread    3)\r",
      "  201 / 1651 (thread    2)\r",
      "  301 / 1651 (thread    1)"
     ]
    },
    {
     "name": "stderr",
     "output_type": "stream",
     "text": [
      "\r",
      "  401 / 1651 (thread    3)\r",
      "  501 / 1651 (thread    0)\r",
      "  601 / 1651 (thread    3)\r",
      "  701 / 1651 (thread    2)\r",
      "  801 / 1651 (thread    5)\r",
      "  901 / 1651 (thread    4)"
     ]
    },
    {
     "name": "stderr",
     "output_type": "stream",
     "text": [
      "\r",
      " 1001 / 1651 (thread    1)\r",
      " 1101 / 1651 (thread    0)\r",
      " 1201 / 1651 (thread    3)\r",
      " 1301 / 1651 (thread    2)\r",
      " 1401 / 1651 (thread    2)\r",
      " 1501 / 1651 (thread    3)\r",
      " 1601 / 1651 (thread    0)\n",
      "done.\n",
      "\n",
      "Constructing a UPGMA tree (efffree=0) ... \n",
      "\r",
      "    0 / 1651\r",
      "   10 / 1651\r",
      "   20 / 1651\r",
      "   30 / 1651\r",
      "   40 / 1651\r",
      "   50 / 1651\r",
      "   60 / 1651\r",
      "   70 / 1651\r",
      "   80 / 1651\r",
      "   90 / 1651\r",
      "  100 / 1651\r",
      "  110 / 1651\r",
      "  120 / 1651\r",
      "  130 / 1651\r",
      "  140 / 1651\r",
      "  150 / 1651\r",
      "  160 / 1651\r",
      "  170 / 1651\r",
      "  180 / 1651\r",
      "  190 / 1651\r",
      "  200 / 1651\r",
      "  210 / 1651\r",
      "  220 / 1651\r",
      "  230 / 1651\r",
      "  240 / 1651\r",
      "  250 / 1651\r",
      "  260 / 1651\r",
      "  270 / 1651\r",
      "  280 / 1651\r",
      "  290 / 1651\r",
      "  300 / 1651\r",
      "  310 / 1651\r",
      "  320 / 1651\r",
      "  330 / 1651\r",
      "  340 / 1651\r",
      "  350 / 1651\r",
      "  360 / 1651\r",
      "  370 / 1651\r",
      "  380 / 1651\r",
      "  390 / 1651\r",
      "  400 / 1651\r",
      "  410 / 1651\r",
      "  420 / 1651\r",
      "  430 / 1651\r",
      "  440 / 1651\r",
      "  450 / 1651\r",
      "  460 / 1651\r",
      "  470 / 1651\r",
      "  480 / 1651\r",
      "  490 / 1651\r",
      "  500 / 1651\r",
      "  510 / 1651\r",
      "  520 / 1651\r",
      "  530 / 1651\r",
      "  540 / 1651\r",
      "  550 / 1651\r",
      "  560 / 1651\r",
      "  570 / 1651\r",
      "  580 / 1651\r",
      "  590 / 1651\r",
      "  600 / 1651\r",
      "  610 / 1651\r",
      "  620 / 1651\r",
      "  630 / 1651\r",
      "  640 / 1651\r",
      "  650 / 1651\r",
      "  660 / 1651\r",
      "  670 / 1651\r",
      "  680 / 1651\r",
      "  690 / 1651\r",
      "  700 / 1651\r",
      "  710 / 1651\r",
      "  720 / 1651\r",
      "  730 / 1651\r",
      "  740 / 1651\r",
      "  750 / 1651\r",
      "  760 / 1651\r",
      "  770 / 1651\r",
      "  780 / 1651\r",
      "  790 / 1651\r",
      "  800 / 1651\r",
      "  810 / 1651\r",
      "  820 / 1651\r",
      "  830 / 1651\r",
      "  840 / 1651\r",
      "  850 / 1651\r",
      "  860 / 1651\r",
      "  870 / 1651\r",
      "  880 / 1651\r",
      "  890 / 1651\r",
      "  900 / 1651\r",
      "  910 / 1651\r",
      "  920 / 1651\r",
      "  930 / 1651\r",
      "  940 / 1651\r",
      "  950 / 1651\r",
      "  960 / 1651\r",
      "  970 / 1651\r",
      "  980 / 1651\r",
      "  990 / 1651\r",
      " 1000 / 1651\r",
      " 1010 / 1651\r",
      " 1020 / 1651\r",
      " 1030 / 1651\r",
      " 1040 / 1651\r",
      " 1050 / 1651\r",
      " 1060 / 1651\r",
      " 1070 / 1651\r",
      " 1080 / 1651\r",
      " 1090 / 1651\r",
      " 1100 / 1651\r",
      " 1110 / 1651\r",
      " 1120 / 1651\r",
      " 1130 / 1651\r",
      " 1140 / 1651\r",
      " 1150 / 1651\r",
      " 1160 / 1651\r",
      " 1170 / 1651\r",
      " 1180 / 1651\r",
      " 1190 / 1651\r",
      " 1200 / 1651\r",
      " 1210 / 1651\r",
      " 1220 / 1651\r",
      " 1230 / 1651\r",
      " 1240 / 1651\r",
      " 1250 / 1651\r",
      " 1260 / 1651\r",
      " 1270 / 1651\r",
      " 1280 / 1651\r",
      " 1290 / 1651\r",
      " 1300 / 1651\r",
      " 1310 / 1651\r",
      " 1320 / 1651\r",
      " 1330 / 1651\r",
      " 1340 / 1651\r",
      " 1350 / 1651\r",
      " 1360 / 1651\r",
      " 1370 / 1651\r",
      " 1380 / 1651\r",
      " 1390 / 1651\r",
      " 1400 / 1651\r",
      " 1410 / 1651\r",
      " 1420 / 1651\r",
      " 1430 / 1651\r",
      " 1440 / 1651\r",
      " 1450 / 1651\r",
      " 1460 / 1651\r",
      " 1470 / 1651\r",
      " 1480 / 1651\r",
      " 1490 / 1651\r",
      " 1500 / 1651\r",
      " 1510 / 1651\r",
      " 1520 / 1651\r",
      " 1530 / 1651\r",
      " 1540 / 1651\r",
      " 1550 / 1651\r",
      " 1560 / 1651\r",
      " 1570 / 1651\r",
      " 1580 / 1651\r",
      " 1590 / 1651\r",
      " 1600 / 1651\r",
      " 1610 / 1651\r",
      " 1620 / 1651\r",
      " 1630 / 1651\r",
      " 1640 / 1651\n",
      "done.\n",
      "\n",
      "Progressive alignment 1/2... \n",
      "\r",
      "STEP     1 / 1650 (thread    0) f\b\b\r",
      "STEP     2 / 1650 (thread    2) f\b\b\r",
      "STEP     5 / 1650 (thread    4) f\b\b\r",
      "STEP     6 / 1650 (thread    5) f\b\b"
     ]
    },
    {
     "name": "stderr",
     "output_type": "stream",
     "text": [
      "\r",
      "STEP     7 / 1650 (thread    0) f\b\b\r",
      "STEP     3 / 1650 (thread    1) f\b\b\r",
      "STEP     8 / 1650 (thread    2) f\b\b\r",
      "STEP    10 / 1650 (thread    2) f\b\b\r",
      "STEP     9 / 1650 (thread    4) f\b\b\r",
      "STEP    11 / 1650 (thread    0) f\b\b\r",
      "STEP    12 / 1650 (thread    5) f\b\b\r",
      "STEP    13 / 1650 (thread    2) f\b\b\r",
      "STEP    14 / 1650 (thread    4) f\b\b\r",
      "STEP     4 / 1650 (thread    3) f\b\b\r",
      "STEP    16 / 1650 (thread    4) f\b\b\r",
      "STEP    15 / 1650 (thread    1) f\b\b\r",
      "STEP    17 / 1650 (thread    5) f\b\b\r",
      "STEP    18 / 1650 (thread    5) f\b\b\r",
      "STEP    19 / 1650 (thread    0) f\b\b\r",
      "STEP    22 / 1650 (thread    2) f\b\b\r",
      "STEP    20 / 1650 (thread    4) f\b\b\r",
      "STEP    24 / 1650 (thread    0) f\b\b\r",
      "STEP    25 / 1650 (thread    1) f\b\b\r",
      "STEP    26 / 1650 (thread    0) f\b\b\r",
      "STEP    27 / 1650 (thread    0) f\b\b\r",
      "STEP    23 / 1650 (thread    3) f\b\b\r",
      "STEP    29 / 1650 (thread    4) f\b\b\r",
      "STEP    21 / 1650 (thread    5) f\b\b\r",
      "STEP    30 / 1650 (thread    4) f\b\b\r",
      "STEP    32 / 1650 (thread    3) f\b\b\r",
      "STEP    28 / 1650 (thread    2) f\b\b\r",
      "STEP    31 / 1650 (thread    1) f\b\b\r",
      "STEP    35 / 1650 (thread    1) f\b\b\r",
      "STEP    33 / 1650 (thread    0) f\b\b\r",
      "STEP    36 / 1650 (thread    3) f\b\b\r",
      "STEP    38 / 1650 (thread    5) f\b\b\r",
      "STEP    39 / 1650 (thread    2) f\b\b\r",
      "STEP    40 / 1650 (thread    3) f\b\b\r",
      "STEP    37 / 1650 (thread    1) f\b\b\r",
      "STEP    42 / 1650 (thread    2) f\b\b\r",
      "STEP    41 / 1650 (thread    5) f\b\b\r",
      "STEP    44 / 1650 (thread    1) f\b\b\r",
      "STEP    45 / 1650 (thread    2) f\b\b\r",
      "STEP    43 / 1650 (thread    3) f\b\b\r",
      "STEP    46 / 1650 (thread    2) f\b\b\r",
      "STEP    47 / 1650 (thread    0) f\b\b\r",
      "STEP    34 / 1650 (thread    4) f\b\b\r",
      "STEP    48 / 1650 (thread    1) f\b\b\r",
      "STEP    49 / 1650 (thread    2) f\b\b\r",
      "STEP    53 / 1650 (thread    4) f\b\b\r",
      "STEP    54 / 1650 (thread    2) f\b\b\r",
      "STEP    50 / 1650 (thread    0) f\b\b\r",
      "STEP    56 / 1650 (thread    2) f\b\b\r",
      "STEP    55 / 1650 (thread    4) f\b\b\r",
      "STEP    57 / 1650 (thread    3) f\b\b\r",
      "STEP    58 / 1650 (thread    0) f\b\b\r",
      "STEP    51 / 1650 (thread    5) f\b\b\r",
      "STEP    59 / 1650 (thread    2) f\b\b\r",
      "STEP    52 / 1650 (thread    1) f\b\b\r",
      "STEP    62 / 1650 (thread    0) f\b\b\r",
      "STEP    60 / 1650 (thread    5) f\b\b\r",
      "STEP    64 / 1650 (thread    4) f\b\b\r",
      "STEP    63 / 1650 (thread    2) f\b\b\r",
      "STEP    66 / 1650 (thread    4) f\b\b\r",
      "STEP    65 / 1650 (thread    0) f\b\b\r",
      "STEP    68 / 1650 (thread    4) f\b\b\r",
      "STEP    67 / 1650 (thread    2) f\b\b\r",
      "STEP    69 / 1650 (thread    4) f\b\b\r",
      "STEP    70 / 1650 (thread    2) f\b\b\r",
      "STEP    71 / 1650 (thread    4) f\b\b\r",
      "STEP    72 / 1650 (thread    5) f\b\b\r",
      "STEP    61 / 1650 (thread    3) f\b\b\r",
      "STEP    74 / 1650 (thread    5) f\b\b\r",
      "STEP    73 / 1650 (thread    2) f\b\b\r",
      "STEP    75 / 1650 (thread    2) f\b\b\r",
      "STEP    76 / 1650 (thread    5) f\b\b\r",
      "STEP    77 / 1650 (thread    4) f\b\b\r",
      "STEP    80 / 1650 (thread    3) f\b\b\r",
      "STEP    82 / 1650 (thread    3) f\b\b\r",
      "STEP    81 / 1650 (thread    1) f\b\b\r",
      "STEP    84 / 1650 (thread    3) f\b\b\r",
      "STEP    83 / 1650 (thread    0) f\b\b\r",
      "STEP    85 / 1650 (thread    3) f\b\b\r",
      "STEP    86 / 1650 (thread    3) f\b\b\r",
      "STEP    78 / 1650 (thread    5) f\b\b\r",
      "STEP    88 / 1650 (thread    5) f\b\b\r",
      "STEP    79 / 1650 (thread    2) f\b\b\r",
      "STEP    89 / 1650 (thread    5) f\b\b\r",
      "STEP    90 / 1650 (thread    3) f\b\b\r",
      "STEP    87 / 1650 (thread    4) f\b\b\r",
      "STEP    91 / 1650 (thread    1) f\b\b\r",
      "STEP    92 / 1650 (thread    5) f\b\b\r",
      "STEP    93 / 1650 (thread    3) f\b\b\r",
      "STEP    94 / 1650 (thread    3) f\b\b\r",
      "STEP    95 / 1650 (thread    1) f\b\b\r",
      "STEP    96 / 1650 (thread    5) f\b\b\r",
      "STEP    99 / 1650 (thread    3) f\b\b\r",
      "STEP   100 / 1650 (thread    5) f\b\b\r",
      "STEP    97 / 1650 (thread    4) f\b\b\r",
      "STEP   101 / 1650 (thread    1) f\b\b\r",
      "STEP   102 / 1650 (thread    3) f\b\b\r",
      "STEP   103 / 1650 (thread    2) f\b\b\r",
      "STEP   104 / 1650 (thread    3) f\b\b\r",
      "STEP   106 / 1650 (thread    5) f\b\b\r",
      "STEP   105 / 1650 (thread    1) f\b\b\r",
      "STEP   108 / 1650 (thread    2) f\b\b\r",
      "STEP   109 / 1650 (thread    4) f\b\b\r",
      "STEP    98 / 1650 (thread    0) f\b\b\r",
      "STEP   107 / 1650 (thread    3) f\b\b\r",
      "STEP   111 / 1650 (thread    2) f\b\b\r",
      "STEP   110 / 1650 (thread    5) f\b\b\r",
      "STEP   113 / 1650 (thread    2) f\b\b\r",
      "STEP   112 / 1650 (thread    4) f\b\b\r",
      "STEP   114 / 1650 (thread    4) f\b\b\r",
      "STEP   116 / 1650 (thread    2) f\b\b\r",
      "STEP   117 / 1650 (thread    5) f\b\b\r",
      "STEP   118 / 1650 (thread    1) f\b\b\r",
      "STEP   119 / 1650 (thread    4) f\b\b\r",
      "STEP   115 / 1650 (thread    3) f\b\b\r",
      "STEP   120 / 1650 (thread    4) f\b\b\r",
      "STEP   121 / 1650 (thread    2) f\b\b\r",
      "STEP   122 / 1650 (thread    5) f\b\b\r",
      "STEP   123 / 1650 (thread    1) f\b\b\r",
      "STEP   124 / 1650 (thread    2) f\b\b\r",
      "STEP   125 / 1650 (thread    1) f\b\b\r",
      "STEP   127 / 1650 (thread    5) f\b\b\r",
      "STEP   128 / 1650 (thread    5) f\b\b\r",
      "STEP   129 / 1650 (thread    3) f\b\b\r",
      "STEP   126 / 1650 (thread    4) f\b\b\r",
      "STEP   131 / 1650 (thread    0) f\b\b\r",
      "STEP   132 / 1650 (thread    2) f\b\b\r",
      "STEP   133 / 1650 (thread    3) f\b\b\r",
      "STEP   130 / 1650 (thread    1) f\b\b\r",
      "STEP   134 / 1650 (thread    3) f\b\b\r",
      "STEP   135 / 1650 (thread    5) f\b\b\r",
      "STEP   136 / 1650 (thread    0) f\b\b\r",
      "STEP   137 / 1650 (thread    2) f\b\b\r",
      "STEP   138 / 1650 (thread    2) f\b\b\r",
      "STEP   139 / 1650 (thread    4) f\b\b\r",
      "STEP   140 / 1650 (thread    0) f\b\b\r",
      "STEP   142 / 1650 (thread    4) f\b\b\r",
      "STEP   143 / 1650 (thread    3) f\b\b\r",
      "STEP   144 / 1650 (thread    0) f\b\b\r",
      "STEP   141 / 1650 (thread    5) f\b\b\r",
      "STEP   145 / 1650 (thread    4) f\b\b\r",
      "STEP   146 / 1650 (thread    4) f\b\b\r",
      "STEP   147 / 1650 (thread    3) f\b\b\r",
      "STEP   148 / 1650 (thread    4) f\b\b\r",
      "STEP   149 / 1650 (thread    3) f\b\b\r",
      "STEP   150 / 1650 (thread    0) f\b\b\r",
      "STEP   151 / 1650 (thread    2) f\b\b\r",
      "STEP   152 / 1650 (thread    5) f\b\b\r",
      "STEP   153 / 1650 (thread    4) f\b\b\r",
      "STEP   154 / 1650 (thread    1) f\b\b\r",
      "STEP   155 / 1650 (thread    3) f\b\b\r",
      "STEP   156 / 1650 (thread    0) f\b\b\r",
      "STEP   157 / 1650 (thread    1) f\b\b\r",
      "STEP   158 / 1650 (thread    2) f\b\b\r",
      "STEP   159 / 1650 (thread    3) f\b\b\r",
      "STEP   160 / 1650 (thread    5) f\b\b\r",
      "STEP   161 / 1650 (thread    4) f\b\b\r",
      "STEP   162 / 1650 (thread    0) f\b\b\r",
      "STEP   163 / 1650 (thread    3) f\b\b\r",
      "STEP   164 / 1650 (thread    5) f\b\b\r",
      "STEP   165 / 1650 (thread    4) f\b\b\r",
      "STEP   166 / 1650 (thread    1) f\b\b\r",
      "STEP   167 / 1650 (thread    0) f\b\b\r",
      "STEP   168 / 1650 (thread    2) f\b\b\r",
      "STEP   169 / 1650 (thread    3) f\b\b\r",
      "STEP   170 / 1650 (thread    3) f\b\b\r",
      "STEP   171 / 1650 (thread    5) f\b\b\r",
      "STEP   172 / 1650 (thread    4) f\b\b\r",
      "STEP   173 / 1650 (thread    0) f\b\b\r",
      "STEP   174 / 1650 (thread    1) f\b\b\r",
      "STEP   175 / 1650 (thread    5) f\b\b\r",
      "STEP   176 / 1650 (thread    0) f\b\b\r",
      "STEP   177 / 1650 (thread    3) f\b\b\r",
      "STEP   178 / 1650 (thread    2) f\b\b\r",
      "STEP   179 / 1650 (thread    0) f\b\b\r",
      "STEP   180 / 1650 (thread    3) f\b\b\r",
      "STEP   181 / 1650 (thread    2) f\b\b\r",
      "STEP   182 / 1650 (thread    4) f\b\b\r",
      "STEP   183 / 1650 (thread    5) f\b\b\r",
      "STEP   184 / 1650 (thread    3) f\b\b\r",
      "STEP   185 / 1650 (thread    1) f\b\b\r",
      "STEP   186 / 1650 (thread    0) f\b\b\r",
      "STEP   187 / 1650 (thread    1) f\b\b\r",
      "STEP   188 / 1650 (thread    4) f\b\b\r",
      "STEP   189 / 1650 (thread    2) f\b\b\r",
      "STEP   190 / 1650 (thread    3) f\b\b\r",
      "STEP   191 / 1650 (thread    0) f\b\b\r",
      "STEP   192 / 1650 (thread    1) f\b\b\r",
      "STEP   193 / 1650 (thread    5) f\b\b\r",
      "STEP   194 / 1650 (thread    2) f\b\b\r",
      "STEP   195 / 1650 (thread    3) f\b\b\r",
      "STEP   196 / 1650 (thread    0) f\b\b\r",
      "STEP   197 / 1650 (thread    4) f\b\b\r",
      "STEP   199 / 1650 (thread    0) f\b\b\r",
      "STEP   200 / 1650 (thread    1) f\b\b\r",
      "STEP   198 / 1650 (thread    3) f\b\b\r",
      "STEP   201 / 1650 (thread    5) f\b\b\r",
      "STEP   202 / 1650 (thread    2) f\b\b\r",
      "STEP   203 / 1650 (thread    1) f\b\b\r",
      "STEP   204 / 1650 (thread    5) f\b\b\r",
      "STEP   205 / 1650 (thread    4) f\b\b\r",
      "STEP   206 / 1650 (thread    3) f\b\b\r",
      "STEP   207 / 1650 (thread    0) f\b\b\r",
      "STEP   208 / 1650 (thread    2) f\b\b\r",
      "STEP   209 / 1650 (thread    1) f\b\b\r",
      "STEP   210 / 1650 (thread    0) f\b\b\r",
      "STEP   211 / 1650 (thread    5) f\b\b\r",
      "STEP   212 / 1650 (thread    3) f\b\b\r",
      "STEP   213 / 1650 (thread    4) f\b\b\r",
      "STEP   214 / 1650 (thread    2) f\b\b\r",
      "STEP   216 / 1650 (thread    0) f\b\b\r",
      "STEP   215 / 1650 (thread    1) f\b\b\r",
      "STEP   217 / 1650 (thread    3) f\b\b\r",
      "STEP   218 / 1650 (thread    0) f\b\b\r",
      "STEP   219 / 1650 (thread    1) f\b\b\r",
      "STEP   220 / 1650 (thread    2) f\b\b\r",
      "STEP   221 / 1650 (thread    3) f\b\b\r",
      "STEP   222 / 1650 (thread    4) f\b\b\r",
      "STEP   223 / 1650 (thread    0) f\b\b\r",
      "STEP   224 / 1650 (thread    3) f\b\b\r",
      "STEP   225 / 1650 (thread    5) f\b\b\r",
      "STEP   226 / 1650 (thread    2) f\b\b\r",
      "STEP   227 / 1650 (thread    0) f\b\b\r",
      "STEP   228 / 1650 (thread    3) f\b\b\r",
      "STEP   229 / 1650 (thread    4) f\b\b\r",
      "STEP   230 / 1650 (thread    5) f\b\b\r",
      "STEP   231 / 1650 (thread    1) f\b\b\r",
      "STEP   232 / 1650 (thread    0) f\b\b\r",
      "STEP   233 / 1650 (thread    3) f\b\b\r",
      "STEP   234 / 1650 (thread    4) f\b\b\r",
      "STEP   235 / 1650 (thread    0) f\b\b\r",
      "STEP   236 / 1650 (thread    2) f\b\b\r",
      "STEP   237 / 1650 (thread    3) f\b\b\r",
      "STEP   238 / 1650 (thread    5) f\b\b\r",
      "STEP   239 / 1650 (thread    3) f\b\b\r",
      "STEP   240 / 1650 (thread    0) f\b\b\r",
      "STEP   241 / 1650 (thread    1) f\b\b\r",
      "STEP   242 / 1650 (thread    2) f\b\b\r",
      "STEP   243 / 1650 (thread    3) f\b\b\r",
      "STEP   244 / 1650 (thread    4) f\b\b\r",
      "STEP   245 / 1650 (thread    3) f\b\b\r",
      "STEP   246 / 1650 (thread    1) f\b\b\r",
      "STEP   247 / 1650 (thread    5) f\b\b\r",
      "STEP   248 / 1650 (thread    2) f\b\b\r",
      "STEP   249 / 1650 (thread    0) f\b\b\r",
      "STEP   250 / 1650 (thread    4) f\b\b\r",
      "STEP   251 / 1650 (thread    3) f\b\b\r",
      "STEP   253 / 1650 (thread    2) f\b\b\r",
      "STEP   254 / 1650 (thread    0) f\b\b\r",
      "STEP   255 / 1650 (thread    3) f\b\b\r",
      "STEP   256 / 1650 (thread    4) f\b\b\r",
      "STEP   257 / 1650 (thread    2) f\b\b\r",
      "STEP   258 / 1650 (thread    0) f\b\b\r",
      "STEP   259 / 1650 (thread    1) f\b\b\r",
      "STEP   252 / 1650 (thread    5) f\b\b\r",
      "STEP   260 / 1650 (thread    4) f\b\b\r",
      "STEP   261 / 1650 (thread    3) f\b\b\r",
      "STEP   262 / 1650 (thread    1) f\b\b\r",
      "STEP   263 / 1650 (thread    2) f\b\b\r",
      "STEP   264 / 1650 (thread    0) f\b\b\r",
      "STEP   265 / 1650 (thread    3) f\b\b\r",
      "STEP   266 / 1650 (thread    5) f\b\b\r",
      "STEP   267 / 1650 (thread    0) f\b\b\r",
      "STEP   268 / 1650 (thread    2) f\b\b\r",
      "STEP   269 / 1650 (thread    3) f\b\b\r",
      "STEP   270 / 1650 (thread    1) f\b\b\r",
      "STEP   271 / 1650 (thread    0) f\b\b\r",
      "STEP   272 / 1650 (thread    5) f\b\b\r",
      "STEP   273 / 1650 (thread    2) f\b\b\r",
      "STEP   274 / 1650 (thread    3) f\b\b\r",
      "STEP   275 / 1650 (thread    3) f\b\b\r",
      "STEP   276 / 1650 (thread    1) f\b\b\r",
      "STEP   277 / 1650 (thread    5) f\b\b\r",
      "STEP   278 / 1650 (thread    2) f\b\b\r",
      "STEP   279 / 1650 (thread    4) f\b\b\r",
      "STEP   280 / 1650 (thread    3) f\b\b\r",
      "STEP   281 / 1650 (thread    1) f\b\b\r",
      "STEP   282 / 1650 (thread    5) f\b\b\r",
      "STEP   283 / 1650 (thread    2) f\b\b\r",
      "STEP   284 / 1650 (thread    3) f\b\b\r",
      "STEP   285 / 1650 (thread    4) f\b\b\r",
      "STEP   286 / 1650 (thread    1) f\b\b\r",
      "STEP   288 / 1650 (thread    5) f\b\b\r",
      "STEP   289 / 1650 (thread    2) f\b\b\r",
      "STEP   291 / 1650 (thread    1) f\b\b\r",
      "STEP   287 / 1650 (thread    3) f\b\b\r",
      "STEP   292 / 1650 (thread    5) f\b\b\r",
      "STEP   293 / 1650 (thread    2) f\b\b\r",
      "STEP   290 / 1650 (thread    4) f\b\b\r",
      "STEP   294 / 1650 (thread    1) f\b\b\r",
      "STEP   295 / 1650 (thread    0) f\b\b\r",
      "STEP   296 / 1650 (thread    3) f\b\b\r",
      "STEP   297 / 1650 (thread    5) f\b\b\r",
      "STEP   298 / 1650 (thread    2) f\b\b\r",
      "STEP   299 / 1650 (thread    1) f\b\b\r",
      "STEP   300 / 1650 (thread    0) f\b\b\r",
      "STEP   301 / 1650 (thread    3) f\b\b\r",
      "STEP   302 / 1650 (thread    5) f\b\b\r",
      "STEP   303 / 1650 (thread    2) f\b\b\r",
      "STEP   304 / 1650 (thread    4) f\b\b\r",
      "STEP   305 / 1650 (thread    1) f\b\b\r",
      "STEP   306 / 1650 (thread    3) f\b\b\r",
      "STEP   307 / 1650 (thread    0) f\b\b\r",
      "STEP   308 / 1650 (thread    5) f\b\b\r",
      "STEP   309 / 1650 (thread    2) f\b\b\r",
      "STEP   310 / 1650 (thread    3) f\b\b\r",
      "STEP   311 / 1650 (thread    4) f\b\b\r",
      "STEP   312 / 1650 (thread    5) f\b\b\r",
      "STEP   313 / 1650 (thread    2) f\b\b\r",
      "STEP   315 / 1650 (thread    3) f\b\b\r",
      "STEP   314 / 1650 (thread    0) f\b\b\r",
      "STEP   316 / 1650 (thread    1) f\b\b\r",
      "STEP   317 / 1650 (thread    2) f\b\b\r",
      "STEP   318 / 1650 (thread    4) f\b\b\r",
      "STEP   319 / 1650 (thread    3) f\b\b\r",
      "STEP   320 / 1650 (thread    0) f\b\b\r",
      "STEP   321 / 1650 (thread    0) f\b\b\r",
      "STEP   322 / 1650 (thread    3) f\b\b\r",
      "STEP   323 / 1650 (thread    1) f\b\b\r",
      "STEP   324 / 1650 (thread    4) f\b\b\r",
      "STEP   325 / 1650 (thread    5) f\b\b\r",
      "STEP   326 / 1650 (thread    3) f\b\b\r",
      "STEP   327 / 1650 (thread    4) f\b\b\r",
      "STEP   328 / 1650 (thread    5) f\b\b\r",
      "STEP   329 / 1650 (thread    2) f\b\b\r",
      "STEP   330 / 1650 (thread    1) f\b\b\r",
      "STEP   331 / 1650 (thread    0) f\b\b\r",
      "STEP   332 / 1650 (thread    4) f\b\b\r",
      "STEP   333 / 1650 (thread    3) f\b\b\r",
      "STEP   334 / 1650 (thread    2) f\b\b\r",
      "STEP   335 / 1650 (thread    1) f\b\b\r",
      "STEP   336 / 1650 (thread    3) f\b\b\r",
      "STEP   337 / 1650 (thread    2) f\b\b\r",
      "STEP   338 / 1650 (thread    1) f\b\b\r",
      "STEP   339 / 1650 (thread    5) f\b\b\r",
      "STEP   340 / 1650 (thread    3) f\b\b\r",
      "STEP   341 / 1650 (thread    4) f\b\b\r",
      "STEP   342 / 1650 (thread    0) f\b\b\r",
      "STEP   343 / 1650 (thread    3) f\b\b\r",
      "STEP   344 / 1650 (thread    2) f\b\b\r",
      "STEP   345 / 1650 (thread    5) f\b\b\r",
      "STEP   346 / 1650 (thread    0) f\b\b\r",
      "STEP   347 / 1650 (thread    3) f\b\b\r",
      "STEP   348 / 1650 (thread    1) f\b\b\r",
      "STEP   349 / 1650 (thread    4) f\b\b\r",
      "STEP   350 / 1650 (thread    0) f\b\b\r",
      "STEP   351 / 1650 (thread    2) f\b\b\r",
      "STEP   352 / 1650 (thread    5) f\b\b\r",
      "STEP   353 / 1650 (thread    1) f\b\b\r",
      "STEP   354 / 1650 (thread    0) f\b\b\r",
      "STEP   356 / 1650 (thread    3) f\b\b\r",
      "STEP   355 / 1650 (thread    4) f\b\b\r",
      "STEP   357 / 1650 (thread    2) f\b\b\r",
      "STEP   358 / 1650 (thread    1) f\b\b\r",
      "STEP   359 / 1650 (thread    5) f\b\b\r",
      "STEP   360 / 1650 (thread    0) f\b\b\r",
      "STEP   361 / 1650 (thread    3) f\b\b\r",
      "STEP   362 / 1650 (thread    4) f\b\b\r",
      "STEP   363 / 1650 (thread    0) f\b\b\r",
      "STEP   364 / 1650 (thread    2) f\b\b\r",
      "STEP   365 / 1650 (thread    3) f\b\b\r",
      "STEP   366 / 1650 (thread    1) f\b\b\r",
      "STEP   367 / 1650 (thread    5) f\b\b\r",
      "STEP   368 / 1650 (thread    4) f\b\b\r",
      "STEP   369 / 1650 (thread    3) f\b\b\r",
      "STEP   370 / 1650 (thread    0) f\b\b\r",
      "STEP   371 / 1650 (thread    2) f\b\b\r",
      "STEP   372 / 1650 (thread    5) f\b\b\r",
      "STEP   373 / 1650 (thread    1) f\b\b\r",
      "STEP   374 / 1650 (thread    3) f\b\b\r",
      "STEP   375 / 1650 (thread    4) f\b\b\r",
      "STEP   376 / 1650 (thread    0) f\b\b\r",
      "STEP   377 / 1650 (thread    3) f\b\b\r",
      "STEP   378 / 1650 (thread    2) f\b\b\r",
      "STEP   379 / 1650 (thread    5) f\b\b\r",
      "STEP   380 / 1650 (thread    1) f\b\b\r",
      "STEP   381 / 1650 (thread    4) f\b\b\r",
      "STEP   382 / 1650 (thread    0) f\b\b\r",
      "STEP   383 / 1650 (thread    5) f\b\b\r",
      "STEP   384 / 1650 (thread    1) f\b\b\r",
      "STEP   385 / 1650 (thread    3) f\b\b\r",
      "STEP   386 / 1650 (thread    4) f\b\b\r",
      "STEP   387 / 1650 (thread    3) f\b\b\r",
      "STEP   388 / 1650 (thread    2) f\b\b\r",
      "STEP   389 / 1650 (thread    1) f\b\b\r",
      "STEP   390 / 1650 (thread    4) f\b\b\r",
      "STEP   391 / 1650 (thread    0) f\b\b\r",
      "STEP   392 / 1650 (thread    2) f\b\b\r",
      "STEP   393 / 1650 (thread    5) f\b\b\r",
      "STEP   394 / 1650 (thread    3) f\b\b\r",
      "STEP   395 / 1650 (thread    4) f\b\b\r",
      "STEP   396 / 1650 (thread    0) f\b\b\r",
      "STEP   397 / 1650 (thread    2) f\b\b\r",
      "STEP   398 / 1650 (thread    3) f\b\b\r",
      "STEP   399 / 1650 (thread    5) f\b\b\r",
      "STEP   400 / 1650 (thread    1) f\b\b\r",
      "STEP   401 / 1650 (thread    4) f\b\b\r",
      "STEP   402 / 1650 (thread    0) f\b\b\r",
      "STEP   403 / 1650 (thread    3) f\b\b\r",
      "STEP   404 / 1650 (thread    2) f\b\b\r",
      "STEP   405 / 1650 (thread    3) f\b\b\r",
      "STEP   406 / 1650 (thread    0) f\b\b\r",
      "STEP   407 / 1650 (thread    5) f\b\b\r",
      "STEP   408 / 1650 (thread    1) f\b\b\r",
      "STEP   409 / 1650 (thread    4) f\b\b\r",
      "STEP   410 / 1650 (thread    2) f\b\b\r",
      "STEP   411 / 1650 (thread    3) f\b\b\r",
      "STEP   412 / 1650 (thread    0) f\b\b\r",
      "STEP   413 / 1650 (thread    2) f\b\b\r",
      "STEP   414 / 1650 (thread    1) f\b\b\r",
      "STEP   415 / 1650 (thread    4) f\b\b\r",
      "STEP   416 / 1650 (thread    5) f\b\b\r",
      "STEP   417 / 1650 (thread    3) f\b\b\r",
      "STEP   418 / 1650 (thread    0) f\b\b\r",
      "STEP   419 / 1650 (thread    3) f\b\b\r",
      "STEP   420 / 1650 (thread    1) f\b\b\r",
      "STEP   421 / 1650 (thread    4) f\b\b\r",
      "STEP   422 / 1650 (thread    5) f\b\b\r",
      "STEP   423 / 1650 (thread    0) f\b\b\r",
      "STEP   424 / 1650 (thread    3) f\b\b\r",
      "STEP   425 / 1650 (thread    1) f\b\b\r",
      "STEP   426 / 1650 (thread    2) f\b\b\r",
      "STEP   427 / 1650 (thread    4) f\b\b\r",
      "STEP   428 / 1650 (thread    5) f\b\b\r",
      "STEP   429 / 1650 (thread    0) f\b\b\r",
      "STEP   430 / 1650 (thread    3) f\b\b\r",
      "STEP   431 / 1650 (thread    3) f\b\b\r",
      "STEP   432 / 1650 (thread    0) f\b\b\r",
      "STEP   433 / 1650 (thread    2) f\b\b\r",
      "STEP   434 / 1650 (thread    5) f\b\b\r",
      "STEP   435 / 1650 (thread    4) f\b\b\r",
      "STEP   436 / 1650 (thread    3) f\b\b\r",
      "STEP   437 / 1650 (thread    0) f\b\b\r",
      "STEP   438 / 1650 (thread    2) f\b\b\r",
      "STEP   439 / 1650 (thread    5) f\b\b\r",
      "STEP   440 / 1650 (thread    1) f\b\b\r",
      "STEP   441 / 1650 (thread    3) f\b\b\r",
      "STEP   442 / 1650 (thread    4) f\b\b\r",
      "STEP   443 / 1650 (thread    0) f\b\b\r",
      "STEP   444 / 1650 (thread    3) f\b\b\r",
      "STEP   445 / 1650 (thread    2) f\b\b\r",
      "STEP   446 / 1650 (thread    1) f\b\b\r",
      "STEP   447 / 1650 (thread    5) f\b\b\r",
      "STEP   448 / 1650 (thread    4) f\b\b\r",
      "STEP   449 / 1650 (thread    0) f\b\b\r",
      "STEP   450 / 1650 (thread    3) f\b\b\r",
      "STEP   451 / 1650 (thread    1) f\b\b\r",
      "STEP   452 / 1650 (thread    3) f\b\b\r",
      "STEP   453 / 1650 (thread    2) f\b\b\r",
      "STEP   454 / 1650 (thread    5) f\b\b\r",
      "STEP   455 / 1650 (thread    4) f\b\b\r",
      "STEP   456 / 1650 (thread    3) f\b\b\r",
      "STEP   457 / 1650 (thread    1) f\b\b\r",
      "STEP   458 / 1650 (thread    5) f\b\b\r",
      "STEP   459 / 1650 (thread    2) f\b\b\r",
      "STEP   460 / 1650 (thread    0) f\b\b\r",
      "STEP   461 / 1650 (thread    4) f\b\b\r",
      "STEP   462 / 1650 (thread    3) f\b\b\r",
      "STEP   463 / 1650 (thread    3) f\b\b\r",
      "STEP   464 / 1650 (thread    1) f\b\b\r",
      "STEP   465 / 1650 (thread    5) f\b\b\r",
      "STEP   466 / 1650 (thread    2) f\b\b\r",
      "STEP   467 / 1650 (thread    4) f\b\b\r",
      "STEP   468 / 1650 (thread    3) f\b\b\r",
      "STEP   469 / 1650 (thread    1) f\b\b\r",
      "STEP   470 / 1650 (thread    5) f\b\b\r",
      "STEP   471 / 1650 (thread    0) f\b\b\r",
      "STEP   472 / 1650 (thread    2) f\b\b\r",
      "STEP   473 / 1650 (thread    3) f\b\b\r",
      "STEP   474 / 1650 (thread    4) f\b\b\r",
      "STEP   475 / 1650 (thread    0) f\b\b\r",
      "STEP   476 / 1650 (thread    3) f\b\b\r",
      "STEP   477 / 1650 (thread    1) f\b\b\r",
      "STEP   478 / 1650 (thread    2) f\b\b\r",
      "STEP   479 / 1650 (thread    1) f\b\b\r",
      "STEP   480 / 1650 (thread    4) f\b\b\r",
      "STEP   481 / 1650 (thread    3) f\b\b\r",
      "STEP   482 / 1650 (thread    5) f\b\b\r",
      "STEP   483 / 1650 (thread    0) f\b\b\r",
      "STEP   484 / 1650 (thread    5) f\b\b\r",
      "STEP   485 / 1650 (thread    2) f\b\b\r",
      "STEP   486 / 1650 (thread    1) f\b\b\r",
      "STEP   487 / 1650 (thread    3) f\b\b\r",
      "STEP   488 / 1650 (thread    4) f\b\b\r",
      "STEP   489 / 1650 (thread    0) f\b\b\r",
      "STEP   490 / 1650 (thread    5) f\b\b\r",
      "STEP   491 / 1650 (thread    3) f\b\b\r",
      "STEP   492 / 1650 (thread    2) f\b\b\r",
      "STEP   493 / 1650 (thread    1) f\b\b\r",
      "STEP   494 / 1650 (thread    0) f\b\b\r",
      "STEP   495 / 1650 (thread    4) f\b\b\r",
      "STEP   496 / 1650 (thread    5) f\b\b\r",
      "STEP   497 / 1650 (thread    3) f\b\b\r",
      "STEP   498 / 1650 (thread    0) f\b\b\r",
      "STEP   499 / 1650 (thread    1) f\b\b\r",
      "STEP   500 / 1650 (thread    3) f\b\b\r",
      "STEP   501 / 1650 (thread    4) f\b\b"
     ]
    },
    {
     "name": "stderr",
     "output_type": "stream",
     "text": [
      "\r",
      "STEP   601 / 1650 (thread    1) f\b\b\r",
      "STEP   701 / 1650 (thread    4) f\b\b\r",
      "STEP   801 / 1650 (thread    4) f\b\b\r",
      "STEP   901 / 1650 (thread    5) f\b\b\r",
      "STEP  1001 / 1650 (thread    4) f\b\b\r",
      "STEP  1101 / 1650 (thread    1) f\b\b\r",
      "STEP  1201 / 1650 (thread    5) f\b\b"
     ]
    },
    {
     "name": "stderr",
     "output_type": "stream",
     "text": [
      "\r",
      "STEP  1301 / 1650 (thread    4) f\b\b\r",
      "STEP  1401 / 1650 (thread    2) f\b\b\r",
      "STEP  1501 / 1650 (thread    3) f\b\b\n",
      "Reallocating..done. *alloclen = 1908\n"
     ]
    },
    {
     "name": "stderr",
     "output_type": "stream",
     "text": [
      "\r",
      "STEP  1601 / 1650 (thread    4) f\b\b"
     ]
    },
    {
     "name": "stderr",
     "output_type": "stream",
     "text": [
      "\n",
      "done.\n",
      "\n",
      "Making a distance matrix from msa.. \n",
      "\r",
      "    0 / 1651 (thread    0)\r",
      "  100 / 1651 (thread    1)\r",
      "  200 / 1651 (thread    5)"
     ]
    },
    {
     "name": "stderr",
     "output_type": "stream",
     "text": [
      "\r",
      "  300 / 1651 (thread    2)\r",
      "  400 / 1651 (thread    2)\r",
      "  500 / 1651 (thread    5)\r",
      "  600 / 1651 (thread    1)"
     ]
    },
    {
     "name": "stderr",
     "output_type": "stream",
     "text": [
      "\r",
      "  700 / 1651 (thread    5)\r",
      "  800 / 1651 (thread    5)\r",
      "  900 / 1651 (thread    1)\r",
      " 1000 / 1651 (thread    5)\r",
      " 1100 / 1651 (thread    4)\r",
      " 1200 / 1651 (thread    2)\r",
      " 1300 / 1651 (thread    0)"
     ]
    },
    {
     "name": "stderr",
     "output_type": "stream",
     "text": [
      "\r",
      " 1400 / 1651 (thread    5)\r",
      " 1500 / 1651 (thread    1)\r",
      " 1600 / 1651 (thread    1)\n",
      "done.\n",
      "\n",
      "Constructing a UPGMA tree (efffree=1) ... \n",
      "\r",
      "    0 / 1651\r",
      "   10 / 1651\r",
      "   20 / 1651\r",
      "   30 / 1651\r",
      "   40 / 1651\r",
      "   50 / 1651\r",
      "   60 / 1651\r",
      "   70 / 1651\r",
      "   80 / 1651\r",
      "   90 / 1651\r",
      "  100 / 1651\r",
      "  110 / 1651\r",
      "  120 / 1651\r",
      "  130 / 1651\r",
      "  140 / 1651\r",
      "  150 / 1651\r",
      "  160 / 1651\r",
      "  170 / 1651\r",
      "  180 / 1651\r",
      "  190 / 1651\r",
      "  200 / 1651\r",
      "  210 / 1651\r",
      "  220 / 1651\r",
      "  230 / 1651\r",
      "  240 / 1651\r",
      "  250 / 1651\r",
      "  260 / 1651\r",
      "  270 / 1651\r",
      "  280 / 1651\r",
      "  290 / 1651\r",
      "  300 / 1651\r",
      "  310 / 1651\r",
      "  320 / 1651\r",
      "  330 / 1651\r",
      "  340 / 1651\r",
      "  350 / 1651\r",
      "  360 / 1651\r",
      "  370 / 1651\r",
      "  380 / 1651\r",
      "  390 / 1651\r",
      "  400 / 1651\r",
      "  410 / 1651\r",
      "  420 / 1651\r",
      "  430 / 1651\r",
      "  440 / 1651\r",
      "  450 / 1651\r",
      "  460 / 1651\r",
      "  470 / 1651\r",
      "  480 / 1651\r",
      "  490 / 1651\r",
      "  500 / 1651\r",
      "  510 / 1651\r",
      "  520 / 1651\r",
      "  530 / 1651\r",
      "  540 / 1651\r",
      "  550 / 1651\r",
      "  560 / 1651\r",
      "  570 / 1651\r",
      "  580 / 1651\r",
      "  590 / 1651\r",
      "  600 / 1651\r",
      "  610 / 1651\r",
      "  620 / 1651\r",
      "  630 / 1651\r",
      "  640 / 1651\r",
      "  650 / 1651\r",
      "  660 / 1651\r",
      "  670 / 1651\r",
      "  680 / 1651\r",
      "  690 / 1651\r",
      "  700 / 1651\r",
      "  710 / 1651\r",
      "  720 / 1651\r",
      "  730 / 1651\r",
      "  740 / 1651\r",
      "  750 / 1651\r",
      "  760 / 1651\r",
      "  770 / 1651\r",
      "  780 / 1651\r",
      "  790 / 1651\r",
      "  800 / 1651\r",
      "  810 / 1651\r",
      "  820 / 1651\r",
      "  830 / 1651\r",
      "  840 / 1651\r",
      "  850 / 1651\r",
      "  860 / 1651\r",
      "  870 / 1651\r",
      "  880 / 1651\r",
      "  890 / 1651\r",
      "  900 / 1651\r",
      "  910 / 1651\r",
      "  920 / 1651\r",
      "  930 / 1651\r",
      "  940 / 1651\r",
      "  950 / 1651\r",
      "  960 / 1651\r",
      "  970 / 1651\r",
      "  980 / 1651\r",
      "  990 / 1651\r",
      " 1000 / 1651\r",
      " 1010 / 1651\r",
      " 1020 / 1651\r",
      " 1030 / 1651\r",
      " 1040 / 1651\r",
      " 1050 / 1651\r",
      " 1060 / 1651\r",
      " 1070 / 1651\r",
      " 1080 / 1651\r",
      " 1090 / 1651\r",
      " 1100 / 1651\r",
      " 1110 / 1651\r",
      " 1120 / 1651\r",
      " 1130 / 1651\r",
      " 1140 / 1651\r",
      " 1150 / 1651\r",
      " 1160 / 1651\r",
      " 1170 / 1651\r",
      " 1180 / 1651\r",
      " 1190 / 1651\r",
      " 1200 / 1651\r",
      " 1210 / 1651\r",
      " 1220 / 1651\r",
      " 1230 / 1651\r",
      " 1240 / 1651\r",
      " 1250 / 1651\r",
      " 1260 / 1651\r",
      " 1270 / 1651\r",
      " 1280 / 1651\r",
      " 1290 / 1651\r",
      " 1300 / 1651\r",
      " 1310 / 1651\r",
      " 1320 / 1651\r",
      " 1330 / 1651\r",
      " 1340 / 1651\r",
      " 1350 / 1651\r",
      " 1360 / 1651\r",
      " 1370 / 1651\r",
      " 1380 / 1651\r",
      " 1390 / 1651\r",
      " 1400 / 1651\r",
      " 1410 / 1651\r",
      " 1420 / 1651\r",
      " 1430 / 1651\r",
      " 1440 / 1651\r",
      " 1450 / 1651\r",
      " 1460 / 1651\r",
      " 1470 / 1651\r",
      " 1480 / 1651\r",
      " 1490 / 1651\r",
      " 1500 / 1651\r",
      " 1510 / 1651\r",
      " 1520 / 1651\r",
      " 1530 / 1651\r",
      " 1540 / 1651\r",
      " 1550 / 1651\r",
      " 1560 / 1651\r",
      " 1570 / 1651\r",
      " 1580 / 1651\r",
      " 1590 / 1651\r",
      " 1600 / 1651\r",
      " 1610 / 1651\r",
      " 1620 / 1651\r",
      " 1630 / 1651\r",
      " 1640 / 1651\n",
      "done.\n",
      "\n",
      "Progressive alignment 2/2... \n",
      "\r",
      "STEP     2 / 1650 (thread    2) f\b\b\r",
      "STEP     1 / 1650 (thread    0) f\b\b\r",
      "STEP     4 / 1650 (thread    3) f\b\b\r",
      "STEP     5 / 1650 (thread    4) f\b\b\r",
      "STEP     3 / 1650 (thread    1) f\b\b\r",
      "STEP     6 / 1650 (thread    5) f\b\b\r",
      "STEP     7 / 1650 (thread    4) f\b\b\r",
      "STEP     8 / 1650 (thread    4) f\b\b\r",
      "STEP     9 / 1650 (thread    5) f\b\b\r",
      "STEP    10 / 1650 (thread    1) f\b\b\r",
      "STEP    11 / 1650 (thread    4) f\b\b\r",
      "STEP    12 / 1650 (thread    5) f\b\b\r",
      "STEP    13 / 1650 (thread    4) f\b\b\r",
      "STEP    14 / 1650 (thread    1) f\b\b\r",
      "STEP    15 / 1650 (thread    4) f\b\b\r",
      "STEP    16 / 1650 (thread    5) f\b\b\r",
      "STEP    17 / 1650 (thread    1) f\b\b\r",
      "STEP    18 / 1650 (thread    0) f\b\b\r",
      "STEP    19 / 1650 (thread    4) f\b\b\r",
      "STEP    20 / 1650 (thread    0) f\b\b\r",
      "STEP    21 / 1650 (thread    5) f\b\b\r",
      "STEP    22 / 1650 (thread    1) f\b\b\r",
      "STEP    23 / 1650 (thread    4) f\b\b\r",
      "STEP    24 / 1650 (thread    0) f\b\b\r",
      "STEP    25 / 1650 (thread    3) f\b\b\r",
      "STEP    26 / 1650 (thread    2) f\b\b\r",
      "STEP    27 / 1650 (thread    5) f\b\b\r",
      "STEP    28 / 1650 (thread    1) f\b\b\r",
      "STEP    29 / 1650 (thread    4) f\b\b\r",
      "STEP    30 / 1650 (thread    0) f\b\b\r",
      "STEP    31 / 1650 (thread    2) f\b\b\r",
      "STEP    32 / 1650 (thread    3) f\b\b\r",
      "STEP    33 / 1650 (thread    0) f\b\b\r",
      "STEP    34 / 1650 (thread    5) f\b\b\r",
      "STEP    35 / 1650 (thread    4) f\b\b\r",
      "STEP    36 / 1650 (thread    1) f\b\b\r",
      "STEP    37 / 1650 (thread    0) f\b\b\r",
      "STEP    38 / 1650 (thread    4) f\b\b\r",
      "STEP    39 / 1650 (thread    2) f\b\b\r",
      "STEP    40 / 1650 (thread    3) f\b\b\r",
      "STEP    41 / 1650 (thread    5) f\b\b\r",
      "STEP    42 / 1650 (thread    1) f\b\b\r",
      "STEP    43 / 1650 (thread    0) f\b\b\r",
      "STEP    44 / 1650 (thread    4) f\b\b\r",
      "STEP    45 / 1650 (thread    2) f\b\b\r",
      "STEP    46 / 1650 (thread    3) f\b\b\r",
      "STEP    47 / 1650 (thread    5) f\b\b\r",
      "STEP    48 / 1650 (thread    1) f\b\b\r",
      "STEP    49 / 1650 (thread    0) f\b\b\r",
      "STEP    50 / 1650 (thread    4) f\b\b\r",
      "STEP    51 / 1650 (thread    2)\r",
      "STEP    53 / 1650 (thread    3) f\b\b f\b\b\r",
      "STEP    52 / 1650 (thread    0) f\b\b\r",
      "STEP    54 / 1650 (thread    4) f\b\b\r",
      "STEP    55 / 1650 (thread    5) f\b\b\r",
      "STEP    56 / 1650 (thread    1) f\b\b\r",
      "STEP    57 / 1650 (thread    0) f\b\b\r",
      "STEP    58 / 1650 (thread    2) f\b\b\r",
      "STEP    59 / 1650 (thread    0) f\b\b\r",
      "STEP    60 / 1650 (thread    4) f\b\b\r",
      "STEP    61 / 1650 (thread    2) f\b\b\r",
      "STEP    62 / 1650 (thread    0) f\b\b\r",
      "STEP    63 / 1650 (thread    3) f\b\b\r",
      "STEP    64 / 1650 (thread    4) f\b\b\r",
      "STEP    65 / 1650 (thread    0) f\b\b\r",
      "STEP    66 / 1650 (thread    5) f\b\b\r",
      "STEP    67 / 1650 (thread    1) f\b\b\r",
      "STEP    68 / 1650 (thread    2) f\b\b\r",
      "STEP    69 / 1650 (thread    3) f\b\b\r",
      "STEP    70 / 1650 (thread    4) f\b\b\r",
      "STEP    71 / 1650 (thread    0) f\b\b\r",
      "STEP    72 / 1650 (thread    5) f\b\b\r",
      "STEP    73 / 1650 (thread    1) f\b\b\r",
      "STEP    74 / 1650 (thread    2) f\b\b\r",
      "STEP    75 / 1650 (thread    0) f\b\b\r",
      "STEP    76 / 1650 (thread    4) f\b\b\r",
      "STEP    77 / 1650 (thread    3) f\b\b\r",
      "STEP    78 / 1650 (thread    5) f\b\b\r",
      "STEP    79 / 1650 (thread    0) f\b\b\r",
      "STEP    80 / 1650 (thread    4) f\b\b\r",
      "STEP    81 / 1650 (thread    2) f\b\b\r",
      "STEP    82 / 1650 (thread    1) f\b\b\r",
      "STEP    83 / 1650 (thread    3) f\b\b\r",
      "STEP    84 / 1650 (thread    0) f\b\b\r",
      "STEP    85 / 1650 (thread    4) f\b\b\r",
      "STEP    86 / 1650 (thread    5) f\b\b\r",
      "STEP    88 / 1650 (thread    1) f\b\b\r",
      "STEP    89 / 1650 (thread    3) f\b\b\r",
      "STEP    90 / 1650 (thread    0) f\b\b\r",
      "STEP    91 / 1650 (thread    4) f\b\b\r",
      "STEP    92 / 1650 (thread    5) f\b\b\r",
      "STEP    87 / 1650 (thread    2) f\b\b\r",
      "STEP    93 / 1650 (thread    3) f\b\b\r",
      "STEP    94 / 1650 (thread    0) f\b\b\r",
      "STEP    95 / 1650 (thread    1) f\b\b\r",
      "STEP    96 / 1650 (thread    4) f\b\b\r",
      "STEP    97 / 1650 (thread    0) f\b\b\r",
      "STEP    98 / 1650 (thread    5) f\b\b\r",
      "STEP    99 / 1650 (thread    3) f\b\b\r",
      "STEP   100 / 1650 (thread    4) f\b\b\r",
      "STEP   101 / 1650 (thread    1) f\b\b\r",
      "STEP   102 / 1650 (thread    0) f\b\b\r",
      "STEP   103 / 1650 (thread    4) f\b\b\r",
      "STEP   104 / 1650 (thread    5) f\b\b\r",
      "STEP   105 / 1650 (thread    3) f\b\b\r",
      "STEP   106 / 1650 (thread    2) f\b\b\r",
      "STEP   107 / 1650 (thread    1) f\b\b\r",
      "STEP   108 / 1650 (thread    0) f\b\b\r",
      "STEP   109 / 1650 (thread    4) f\b\b\r",
      "STEP   110 / 1650 (thread    5) f\b\b\r",
      "STEP   111 / 1650 (thread    3) f\b\b\r",
      "STEP   112 / 1650 (thread    0) f\b\b\r",
      "STEP   113 / 1650 (thread    2) f\b\b\r",
      "STEP   114 / 1650 (thread    1) f\b\b\r",
      "STEP   115 / 1650 (thread    4) f\b\b\r",
      "STEP   116 / 1650 (thread    0) f\b\b\r",
      "STEP   117 / 1650 (thread    5) f\b\b\r",
      "STEP   118 / 1650 (thread    3) f\b\b\r",
      "STEP   119 / 1650 (thread    2) f\b\b\r",
      "STEP   120 / 1650 (thread    4) f\b\b\r",
      "STEP   121 / 1650 (thread    1) f\b\b\r",
      "STEP   122 / 1650 (thread    0) f\b\b\r",
      "STEP   123 / 1650 (thread    5) f\b\b\r",
      "STEP   124 / 1650 (thread    4) f\b\b\r",
      "STEP   125 / 1650 (thread    3) f\b\b\r",
      "STEP   126 / 1650 (thread    2) f\b\b\r",
      "STEP   127 / 1650 (thread    0) f\b\b\r",
      "STEP   128 / 1650 (thread    1) f\b\b\r",
      "STEP   129 / 1650 (thread    4) f\b\b\r",
      "STEP   130 / 1650 (thread    5) f\b\b\r",
      "STEP   131 / 1650 (thread    0) f\b\b\r",
      "STEP   132 / 1650 (thread    3) f\b\b\r",
      "STEP   133 / 1650 (thread    2) f\b\b\r",
      "STEP   134 / 1650 (thread    1) f\b\b\r",
      "STEP   135 / 1650 (thread    4) f\b\b\r",
      "STEP   136 / 1650 (thread    0) f\b\b\r",
      "STEP   137 / 1650 (thread    5) f\b\b\r",
      "STEP   138 / 1650 (thread    3) f\b\b\r",
      "STEP   139 / 1650 (thread    2) f\b\b\r",
      "STEP   140 / 1650 (thread    4) f\b\b\r",
      "STEP   141 / 1650 (thread    1) f\b\b\r",
      "STEP   142 / 1650 (thread    0) f\b\b\r",
      "STEP   143 / 1650 (thread    5) f\b\b\r",
      "STEP   144 / 1650 (thread    3) f\b\b\r",
      "STEP   145 / 1650 (thread    2) f\b\b\r",
      "STEP   146 / 1650 (thread    4) f\b\b\r",
      "STEP   147 / 1650 (thread    0) f\b\b\r",
      "STEP   148 / 1650 (thread    1) f\b\b\r",
      "STEP   149 / 1650 (thread    5) f\b\b\r",
      "STEP   150 / 1650 (thread    4) f\b\b\r",
      "STEP   151 / 1650 (thread    2) f\b\b\r",
      "STEP   152 / 1650 (thread    0) f\b\b\r",
      "STEP   153 / 1650 (thread    3) f\b\b\r",
      "STEP   154 / 1650 (thread    0) f\b\b\r",
      "STEP   155 / 1650 (thread    4) f\b\b\r",
      "STEP   156 / 1650 (thread    1) f\b\b\r",
      "STEP   157 / 1650 (thread    2) f\b\b\r",
      "STEP   158 / 1650 (thread    5) f\b\b\r",
      "STEP   159 / 1650 (thread    3) f\b\b\r",
      "STEP   160 / 1650 (thread    0) f\b\b\r",
      "STEP   161 / 1650 (thread    4) f\b\b\r",
      "STEP   162 / 1650 (thread    1) f\b\b\r",
      "STEP   163 / 1650 (thread    0) f\b\b\r",
      "STEP   164 / 1650 (thread    2) f\b\b\r",
      "STEP   165 / 1650 (thread    4) f\b\b\r",
      "STEP   166 / 1650 (thread    3) f\b\b\r",
      "STEP   167 / 1650 (thread    5) f\b\b\r",
      "STEP   168 / 1650 (thread    0) f\b\b\r",
      "STEP   169 / 1650 (thread    4) f\b\b\r",
      "STEP   170 / 1650 (thread    1) f\b\b\r",
      "STEP   171 / 1650 (thread    2) f\b\b\r",
      "STEP   172 / 1650 (thread    3) f\b\b\r",
      "STEP   173 / 1650 (thread    5) f\b\b\r",
      "STEP   174 / 1650 (thread    0) f\b\b\r",
      "STEP   175 / 1650 (thread    4) f\b\b\r",
      "STEP   176 / 1650 (thread    0) f\b\b\r",
      "STEP   177 / 1650 (thread    1) f\b\b\r",
      "STEP   178 / 1650 (thread    2) f\b\b\r",
      "STEP   179 / 1650 (thread    4) f\b\b\r",
      "STEP   180 / 1650 (thread    3) f\b\b\r",
      "STEP   181 / 1650 (thread    5) f\b\b\r",
      "STEP   182 / 1650 (thread    0) f\b\b\r",
      "STEP   183 / 1650 (thread    4) f\b\b\r",
      "STEP   184 / 1650 (thread    0) f\b\b\r",
      "STEP   185 / 1650 (thread    2) f\b\b\r",
      "STEP   186 / 1650 (thread    1) f\b\b\r",
      "STEP   187 / 1650 (thread    4) f\b\b\r",
      "STEP   188 / 1650 (thread    0) f\b\b\r",
      "STEP   189 / 1650 (thread    3) f\b\b\r",
      "STEP   190 / 1650 (thread    5) f\b\b\r",
      "STEP   191 / 1650 (thread    0) f\b\b\r",
      "STEP   192 / 1650 (thread    4) f\b\b\r",
      "STEP   193 / 1650 (thread    4) f\b\b\r",
      "STEP   194 / 1650 (thread    2) f\b\b\r",
      "STEP   195 / 1650 (thread    3)\r",
      "STEP   196 / 1650 (thread    1) f\b\b f\b\b\r",
      "STEP   197 / 1650 (thread    5) f\b\b\r",
      "STEP   198 / 1650 (thread    0) f\b\b\r",
      "STEP   199 / 1650 (thread    4) f\b\b\r",
      "STEP   200 / 1650 (thread    0) f\b\b\r",
      "STEP   201 / 1650 (thread    2) f\b\b\r",
      "STEP   202 / 1650 (thread    3) f\b\b\r",
      "STEP   203 / 1650 (thread    1) f\b\b\r",
      "STEP   204 / 1650 (thread    4) f\b\b\r",
      "STEP   205 / 1650 (thread    5) f\b\b\r",
      "STEP   206 / 1650 (thread    0) f\b\b\r",
      "STEP   208 / 1650 (thread    4) f\b\b\r",
      "STEP   209 / 1650 (thread    3) f\b\b\r",
      "STEP   207 / 1650 (thread    2) f\b\b\r",
      "STEP   210 / 1650 (thread    0) f\b\b\r",
      "STEP   211 / 1650 (thread    4) f\b\b\r",
      "STEP   212 / 1650 (thread    1) f\b\b\r",
      "STEP   213 / 1650 (thread    5) f\b\b\r",
      "STEP   214 / 1650 (thread    0) f\b\b\r",
      "STEP   215 / 1650 (thread    3) f\b\b\r",
      "STEP   216 / 1650 (thread    4) f\b\b\r",
      "STEP   217 / 1650 (thread    1) f\b\b\r",
      "STEP   218 / 1650 (thread    0) f\b\b\r",
      "STEP   219 / 1650 (thread    5) f\b\b\r",
      "STEP   220 / 1650 (thread    2) f\b\b\r",
      "STEP   221 / 1650 (thread    3) f\b\b\r",
      "STEP   222 / 1650 (thread    4) f\b\b\r",
      "STEP   223 / 1650 (thread    0) f\b\b\r",
      "STEP   224 / 1650 (thread    1) f\b\b\r",
      "STEP   225 / 1650 (thread    5) f\b\b\r",
      "STEP   226 / 1650 (thread    4) f\b\b\r",
      "STEP   227 / 1650 (thread    3) f\b\b\r",
      "STEP   228 / 1650 (thread    2) f\b\b\r",
      "STEP   229 / 1650 (thread    0) f\b\b\r",
      "STEP   230 / 1650 (thread    4) f\b\b\r",
      "STEP   231 / 1650 (thread    1) f\b\b\r",
      "STEP   232 / 1650 (thread    0) f\b\b\r",
      "STEP   233 / 1650 (thread    2) f\b\b\r",
      "STEP   234 / 1650 (thread    3) f\b\b\r",
      "STEP   235 / 1650 (thread    4) f\b\b\r",
      "STEP   236 / 1650 (thread    0) f\b\b\r",
      "STEP   237 / 1650 (thread    1) f\b\b\r",
      "STEP   238 / 1650 (thread    5) f\b\b\r",
      "STEP   239 / 1650 (thread    2) f\b\b\r",
      "STEP   240 / 1650 (thread    3) f\b\b\r",
      "STEP   241 / 1650 (thread    4) f\b\b\r",
      "STEP   242 / 1650 (thread    0) f\b\b\r",
      "STEP   243 / 1650 (thread    1) f\b\b\r",
      "STEP   244 / 1650 (thread    5) f\b\b\r",
      "STEP   245 / 1650 (thread    4) f\b\b\r",
      "STEP   246 / 1650 (thread    3) f\b\b\r",
      "STEP   247 / 1650 (thread    2) f\b\b\r",
      "STEP   248 / 1650 (thread    0) f\b\b\r",
      "STEP   249 / 1650 (thread    4) f\b\b\r",
      "STEP   250 / 1650 (thread    1) f\b\b\r",
      "STEP   251 / 1650 (thread    0) f\b\b\r",
      "STEP   252 / 1650 (thread    2) f\b\b\r",
      "STEP   253 / 1650 (thread    3) f\b\b\r",
      "STEP   254 / 1650 (thread    4) f\b\b\r",
      "STEP   255 / 1650 (thread    0) f\b\b\r",
      "STEP   256 / 1650 (thread    1) f\b\b\r",
      "STEP   257 / 1650 (thread    5) f\b\b\r",
      "STEP   258 / 1650 (thread    3) f\b\b\r",
      "STEP   259 / 1650 (thread    2) f\b\b\r",
      "STEP   260 / 1650 (thread    4) f\b\b\r",
      "STEP   261 / 1650 (thread    0) f\b\b\r",
      "STEP   262 / 1650 (thread    1) f\b\b\r",
      "STEP   263 / 1650 (thread    4) f\b\b\r",
      "STEP   264 / 1650 (thread    0) f\b\b\r",
      "STEP   265 / 1650 (thread    5) f\b\b\r",
      "STEP   266 / 1650 (thread    2) f\b\b\r",
      "STEP   267 / 1650 (thread    3) f\b\b\r",
      "STEP   268 / 1650 (thread    4) f\b\b\r",
      "STEP   269 / 1650 (thread    0) f\b\b\r",
      "STEP   270 / 1650 (thread    1) f\b\b\r",
      "STEP   271 / 1650 (thread    2) f\b\b\r",
      "STEP   272 / 1650 (thread    3) f\b\b\r",
      "STEP   273 / 1650 (thread    5) f\b\b\r",
      "STEP   274 / 1650 (thread    0) f\b\b\r",
      "STEP   275 / 1650 (thread    0) f\b\b\r",
      "STEP   276 / 1650 (thread    4) f\b\b\r",
      "STEP   277 / 1650 (thread    2) f\b\b\r",
      "STEP   278 / 1650 (thread    3) f\b\b\r",
      "STEP   279 / 1650 (thread    5) f\b\b\r",
      "STEP   280 / 1650 (thread    0) f\b\b\r",
      "STEP   281 / 1650 (thread    4) f\b\b\r",
      "STEP   282 / 1650 (thread    1) f\b\b\r",
      "STEP   283 / 1650 (thread    3) f\b\b\r",
      "STEP   284 / 1650 (thread    2) f\b\b\r",
      "STEP   285 / 1650 (thread    5) f\b\b\r",
      "STEP   286 / 1650 (thread    0) f\b\b\r",
      "STEP   287 / 1650 (thread    4) f\b\b\r",
      "STEP   288 / 1650 (thread    1) f\b\b\r",
      "STEP   289 / 1650 (thread    2) f\b\b\r",
      "STEP   290 / 1650 (thread    3) f\b\b\r",
      "STEP   291 / 1650 (thread    0) f\b\b\r",
      "STEP   292 / 1650 (thread    4) f\b\b\r",
      "STEP   293 / 1650 (thread    5) f\b\b\r",
      "STEP   294 / 1650 (thread    0) f\b\b\r",
      "STEP   295 / 1650 (thread    4) f\b\b\r",
      "STEP   296 / 1650 (thread    1) f\b\b\r",
      "STEP   297 / 1650 (thread    3) f\b\b\r",
      "STEP   298 / 1650 (thread    2) f\b\b\r",
      "STEP   299 / 1650 (thread    0) f\b\b\r",
      "STEP   300 / 1650 (thread    5) f\b\b\r",
      "STEP   301 / 1650 (thread    4) f\b\b\r",
      "STEP   302 / 1650 (thread    1) f\b\b\r",
      "STEP   303 / 1650 (thread    0) f\b\b\r",
      "STEP   304 / 1650 (thread    3) f\b\b\r",
      "STEP   305 / 1650 (thread    2) f\b\b\r",
      "STEP   306 / 1650 (thread    4) f\b\b\r",
      "STEP   307 / 1650 (thread    5) f\b\b\r",
      "STEP   308 / 1650 (thread    0) f\b\b\r",
      "STEP   309 / 1650 (thread    4) f\b\b\r",
      "STEP   310 / 1650 (thread    1) f\b\b\r",
      "STEP   311 / 1650 (thread    3) f\b\b\r",
      "STEP   312 / 1650 (thread    2) f\b\b\r",
      "STEP   313 / 1650 (thread    0) f\b\b\r",
      "STEP   314 / 1650 (thread    4) f\b\b\r",
      "STEP   315 / 1650 (thread    5) f\b\b\r",
      "STEP   316 / 1650 (thread    0) f\b\b\r",
      "STEP   317 / 1650 (thread    3) f\b\b\r",
      "STEP   318 / 1650 (thread    1) f\b\b\r",
      "STEP   319 / 1650 (thread    2) f\b\b\r",
      "STEP   320 / 1650 (thread    4) f\b\b\r",
      "STEP   321 / 1650 (thread    0) f\b\b\r",
      "STEP   322 / 1650 (thread    5) f\b\b\r",
      "STEP   323 / 1650 (thread    3) f\b\b\r",
      "STEP   324 / 1650 (thread    4) f\b\b\r",
      "STEP   325 / 1650 (thread    1) f\b\b\r",
      "STEP   326 / 1650 (thread    0) f\b\b\r",
      "STEP   327 / 1650 (thread    2) f\b\b\r",
      "STEP   328 / 1650 (thread    4) f\b\b\r",
      "STEP   329 / 1650 (thread    0) f\b\b\r",
      "STEP   330 / 1650 (thread    3) f\b\b\r",
      "STEP   331 / 1650 (thread    5) f\b\b\r",
      "STEP   332 / 1650 (thread    1) f\b\b\r",
      "STEP   333 / 1650 (thread    2) f\b\b\r",
      "STEP   334 / 1650 (thread    4) f\b\b\r",
      "STEP   335 / 1650 (thread    0) f\b\b\r",
      "STEP   336 / 1650 (thread    3) f\b\b\r",
      "STEP   337 / 1650 (thread    4) f\b\b\r",
      "STEP   338 / 1650 (thread    5) f\b\b\r",
      "STEP   339 / 1650 (thread    0) f\b\b\r",
      "STEP   340 / 1650 (thread    1) f\b\b\r",
      "STEP   341 / 1650 (thread    2) f\b\b\r",
      "STEP   342 / 1650 (thread    4) f\b\b\r",
      "STEP   343 / 1650 (thread    0) f\b\b\r",
      "STEP   345 / 1650 (thread    2) f\b\b\r",
      "STEP   346 / 1650 (thread    5) f\b\b\r",
      "STEP   344 / 1650 (thread    3) f\b\b\r",
      "STEP   347 / 1650 (thread    1) f\b\b\r",
      "STEP   348 / 1650 (thread    4) f\b\b\r",
      "STEP   349 / 1650 (thread    0) f\b\b\r",
      "STEP   350 / 1650 (thread    5) f\b\b\r",
      "STEP   351 / 1650 (thread    2) f\b\b\r",
      "STEP   352 / 1650 (thread    4) f\b\b\r",
      "STEP   353 / 1650 (thread    3) f\b\b\r",
      "STEP   354 / 1650 (thread    1) f\b\b\r",
      "STEP   355 / 1650 (thread    2) f\b\b\r",
      "STEP   356 / 1650 (thread    0) f\b\b\r",
      "STEP   357 / 1650 (thread    4) f\b\b\r",
      "STEP   358 / 1650 (thread    5) f\b\b\r",
      "STEP   359 / 1650 (thread    2) f\b\b\r",
      "STEP   360 / 1650 (thread    4) f\b\b\r",
      "STEP   361 / 1650 (thread    3) f\b\b\r",
      "STEP   362 / 1650 (thread    1) f\b\b\r",
      "STEP   363 / 1650 (thread    0) f\b\b\r",
      "STEP   364 / 1650 (thread    2) f\b\b\r",
      "STEP   365 / 1650 (thread    4) f\b\b\r",
      "STEP   366 / 1650 (thread    5) f\b\b\r",
      "STEP   367 / 1650 (thread    3) f\b\b\r",
      "STEP   368 / 1650 (thread    2) f\b\b\r",
      "STEP   369 / 1650 (thread    0) f\b\b\r",
      "STEP   370 / 1650 (thread    1) f\b\b\r",
      "STEP   371 / 1650 (thread    4) f\b\b\r",
      "STEP   372 / 1650 (thread    2) f\b\b\r",
      "STEP   373 / 1650 (thread    5) f\b\b\r",
      "STEP   374 / 1650 (thread    4) f\b\b\r",
      "STEP   376 / 1650 (thread    0) f\b\b\r",
      "STEP   375 / 1650 (thread    3) f\b\b\r",
      "STEP   377 / 1650 (thread    1) f\b\b\r",
      "STEP   378 / 1650 (thread    2) f\b\b\r",
      "STEP   379 / 1650 (thread    4) f\b\b\r",
      "STEP   380 / 1650 (thread    5) f\b\b\r",
      "STEP   381 / 1650 (thread    2) f\b\b\r",
      "STEP   383 / 1650 (thread    3) f\b\b\r",
      "STEP   382 / 1650 (thread    0) f\b\b\r",
      "STEP   384 / 1650 (thread    4) f\b\b\r",
      "STEP   385 / 1650 (thread    3) f\b\b\r",
      "STEP   386 / 1650 (thread    1) f\b\b\r",
      "STEP   388 / 1650 (thread    2) f\b\b\r",
      "STEP   389 / 1650 (thread    3) f\b\b\r",
      "STEP   390 / 1650 (thread    1) f\b\b\r",
      "STEP   391 / 1650 (thread    2) f\b\b\r",
      "STEP   392 / 1650 (thread    5) f\b\b\r",
      "STEP   387 / 1650 (thread    4) f\b\b\r",
      "STEP   393 / 1650 (thread    0) f\b\b\r",
      "STEP   394 / 1650 (thread    1) f\b\b\r",
      "STEP   395 / 1650 (thread    5) f\b\b\r",
      "STEP   396 / 1650 (thread    2) f\b\b\r",
      "STEP   397 / 1650 (thread    3) f\b\b\r",
      "STEP   398 / 1650 (thread    0) f\b\b\r",
      "STEP   399 / 1650 (thread    1) f\b\b\r",
      "STEP   401 / 1650 (thread    2) f\b\b\r",
      "STEP   402 / 1650 (thread    5) f\b\b\r",
      "STEP   403 / 1650 (thread    3) f\b\b\r",
      "STEP   400 / 1650 (thread    4) f\b\b\r",
      "STEP   404 / 1650 (thread    0) f\b\b\r",
      "STEP   405 / 1650 (thread    1) f\b\b\r",
      "STEP   406 / 1650 (thread    2) f\b\b\r",
      "STEP   407 / 1650 (thread    3)\r",
      "STEP   408 / 1650 (thread    2) f\b\b f\b\b\r",
      "STEP   409 / 1650 (thread    0) f\b\b\r",
      "STEP   410 / 1650 (thread    1) f\b\b\r",
      "STEP   411 / 1650 (thread    4) f\b\b\r",
      "STEP   412 / 1650 (thread    2) f\b\b\r",
      "STEP   413 / 1650 (thread    3) f\b\b\r",
      "STEP   414 / 1650 (thread    0) f\b\b\r",
      "STEP   415 / 1650 (thread    5) f\b\b\r",
      "STEP   416 / 1650 (thread    4) f\b\b\r",
      "STEP   417 / 1650 (thread    3) f\b\b\r",
      "STEP   418 / 1650 (thread    0) f\b\b\r",
      "STEP   419 / 1650 (thread    2) f\b\b\r",
      "STEP   420 / 1650 (thread    1) f\b\b\r",
      "STEP   421 / 1650 (thread    5) f\b\b\r",
      "STEP   422 / 1650 (thread    4) f\b\b\r",
      "STEP   423 / 1650 (thread    2) f\b\b\r",
      "STEP   424 / 1650 (thread    3) f\b\b\r",
      "STEP   425 / 1650 (thread    0) f\b\b\r",
      "STEP   426 / 1650 (thread    4) f\b\b\r",
      "STEP   427 / 1650 (thread    1) f\b\b\r",
      "STEP   428 / 1650 (thread    5) f\b\b\r",
      "STEP   429 / 1650 (thread    2) f\b\b\r",
      "STEP   430 / 1650 (thread    4) f\b\b\r",
      "STEP   431 / 1650 (thread    0) f\b\b\r",
      "STEP   432 / 1650 (thread    3) f\b\b\r",
      "STEP   433 / 1650 (thread    1) f\b\b\r",
      "STEP   434 / 1650 (thread    2) f\b\b\r",
      "STEP   435 / 1650 (thread    5) f\b\b\r",
      "STEP   436 / 1650 (thread    3) f\b\b\r",
      "STEP   437 / 1650 (thread    0) f\b\b\r",
      "STEP   438 / 1650 (thread    4) f\b\b\r",
      "STEP   439 / 1650 (thread    2) f\b\b\r",
      "STEP   440 / 1650 (thread    1) f\b\b\r",
      "STEP   441 / 1650 (thread    5) f\b\b\r",
      "STEP   442 / 1650 (thread    4) f\b\b\r",
      "STEP   443 / 1650 (thread    2) f\b\b\r",
      "STEP   444 / 1650 (thread    0) f\b\b\r",
      "STEP   445 / 1650 (thread    1) f\b\b\r",
      "STEP   446 / 1650 (thread    4) f\b\b\r",
      "STEP   447 / 1650 (thread    2) f\b\b\r",
      "STEP   448 / 1650 (thread    5) f\b\b\r",
      "STEP   449 / 1650 (thread    0) f\b\b\r",
      "STEP   450 / 1650 (thread    4) f\b\b\r",
      "STEP   451 / 1650 (thread    3) f\b\b\r",
      "STEP   452 / 1650 (thread    1) f\b\b\r",
      "STEP   453 / 1650 (thread    5) f\b\b"
     ]
    },
    {
     "name": "stderr",
     "output_type": "stream",
     "text": [
      "\r",
      "STEP   454 / 1650 (thread    0) f\b\b\r",
      "STEP   455 / 1650 (thread    2) f\b\b\r",
      "STEP   456 / 1650 (thread    3) f\b\b\r",
      "STEP   457 / 1650 (thread    1) f\b\b\r",
      "STEP   458 / 1650 (thread    4) f\b\b\r",
      "STEP   459 / 1650 (thread    5) f\b\b\r",
      "STEP   460 / 1650 (thread    0) f\b\b\r",
      "STEP   461 / 1650 (thread    3) f\b\b\r",
      "STEP   462 / 1650 (thread    1) f\b\b\r",
      "STEP   463 / 1650 (thread    2) f\b\b\r",
      "STEP   464 / 1650 (thread    4) f\b\b\r",
      "STEP   465 / 1650 (thread    0) f\b\b\r",
      "STEP   466 / 1650 (thread    5) f\b\b\r",
      "STEP   467 / 1650 (thread    3) f\b\b\r",
      "STEP   468 / 1650 (thread    1) f\b\b\r",
      "STEP   469 / 1650 (thread    2) f\b\b\r",
      "STEP   470 / 1650 (thread    4) f\b\b\r",
      "STEP   471 / 1650 (thread    0) f\b\b\r",
      "STEP   472 / 1650 (thread    5) f\b\b\r",
      "STEP   473 / 1650 (thread    3) f\b\b\r",
      "STEP   474 / 1650 (thread    2) f\b\b\r",
      "STEP   475 / 1650 (thread    4) f\b\b\r",
      "STEP   476 / 1650 (thread    1) f\b\b\r",
      "STEP   477 / 1650 (thread    2) f\b\b\r",
      "STEP   478 / 1650 (thread    0) f\b\b\r",
      "STEP   479 / 1650 (thread    3) f\b\b\r",
      "STEP   480 / 1650 (thread    4) f\b\b\r",
      "STEP   481 / 1650 (thread    5) f\b\b\r",
      "STEP   482 / 1650 (thread    2) f\b\b\r",
      "STEP   483 / 1650 (thread    4) f\b\b\r",
      "STEP   484 / 1650 (thread    1) f\b\b\r",
      "STEP   485 / 1650 (thread    3) f\b\b\r",
      "STEP   486 / 1650 (thread    0) f\b\b\r",
      "STEP   487 / 1650 (thread    2) f\b\b\r",
      "STEP   488 / 1650 (thread    5) f\b\b\r",
      "STEP   489 / 1650 (thread    4) f\b\b\r",
      "STEP   490 / 1650 (thread    2) f\b\b\r",
      "STEP   491 / 1650 (thread    1) f\b\b\r",
      "STEP   492 / 1650 (thread    4) f\b\b\r",
      "STEP   493 / 1650 (thread    3) f\b\b\r",
      "STEP   494 / 1650 (thread    0) f\b\b\r",
      "STEP   495 / 1650 (thread    5) f\b\b\r",
      "STEP   496 / 1650 (thread    2) f\b\b\r",
      "STEP   497 / 1650 (thread    4) f\b\b\r",
      "STEP   498 / 1650 (thread    1) f\b\b\r",
      "STEP   499 / 1650 (thread    2) f\b\b\r",
      "STEP   500 / 1650 (thread    3) f\b\b\r",
      "STEP   501 / 1650 (thread    0) f\b\b\r",
      "STEP   601 / 1650 (thread    0) f\b\b\r",
      "STEP   701 / 1650 (thread    2) f\b\b\r",
      "STEP   801 / 1650 (thread    5) f\b\b\r",
      "STEP   901 / 1650 (thread    5) f\b\b\r",
      "STEP  1001 / 1650 (thread    2) f\b\b\r",
      "STEP  1101 / 1650 (thread    4) f\b\b"
     ]
    },
    {
     "name": "stderr",
     "output_type": "stream",
     "text": [
      "\r",
      "STEP  1201 / 1650 (thread    1) f\b\b\r",
      "STEP  1301 / 1650 (thread    0) f\b\b\r",
      "STEP  1401 / 1650 (thread    4) f\b\b\r",
      "STEP  1501 / 1650 (thread    1) f\b\b\n",
      "Reallocating..done. *alloclen = 1909\n"
     ]
    },
    {
     "name": "stderr",
     "output_type": "stream",
     "text": [
      "\r",
      "STEP  1601 / 1650 (thread    5) d\b\b h"
     ]
    },
    {
     "name": "stderr",
     "output_type": "stream",
     "text": [
      "\n",
      "done.\n",
      "\n",
      "disttbfast (nuc) Version 7.490\n",
      "alg=A, model=DNA200 (2), 1.53 (4.59), -0.00 (-0.00), noshift, amax=0.0\n",
      "6 thread(s)\n",
      "\n",
      "\n",
      "Strategy:\n",
      " FFT-NS-2 (Fast but rough)\n",
      " Progressive method (guide trees were built 2 times.)\n",
      "\n",
      "If unsure which option to use, try 'mafft --auto input > output'.\n",
      "For more information, see 'mafft --help', 'mafft --man' and the mafft page.\n",
      "\n",
      "The default gap scoring scheme has been changed in version 7.110 (2013 Oct).\n",
      "It tends to insert more gaps into gap-rich regions than previous versions.\n",
      "To disable this change, add the --leavegappyregion option.\n",
      "\n"
     ]
    },
    {
     "name": "stdout",
     "output_type": "stream",
     "text": [
      "Running external command line application. This may print messages to stdout and/or stderr.\n",
      "The command being run is below. This command cannot be manually re-run as it will depend on temporary files that no longer exist.\n",
      "\n",
      "Command: FastTreeMP -quote -nt /tmp/qiime2-archive-ckrapn9n/6010b666-ebc6-4ea4-9d23-028f3eb5ca86/data/aligned-dna-sequences.fasta\n",
      "\n"
     ]
    },
    {
     "name": "stderr",
     "output_type": "stream",
     "text": [
      "FastTree Version 2.1.10 Double precision (No SSE3), OpenMP (6 threads)\n",
      "Alignment: /tmp/qiime2-archive-ckrapn9n/6010b666-ebc6-4ea4-9d23-028f3eb5ca86/data/aligned-dna-sequences.fasta\n",
      "Nucleotide distances: Jukes-Cantor Joins: balanced Support: SH-like 1000\n",
      "Search: Normal +NNI +SPR (2 rounds range 10) +ML-NNI opt-each=1\n",
      "TopHits: 1.00*sqrtN close=default refresh=0.80\n",
      "ML Model: Jukes-Cantor, CAT approximation with 20 rate categories\n",
      "      0.17 seconds: Joined    100 of   1630\n"
     ]
    },
    {
     "name": "stderr",
     "output_type": "stream",
     "text": [
      "      0.34 seconds: Joined    300 of   1630\n",
      "      0.45 seconds: Joined    400 of   1630\n"
     ]
    },
    {
     "name": "stderr",
     "output_type": "stream",
     "text": [
      "      0.65 seconds: Joined    600 of   1630\n",
      "      0.76 seconds: Joined    700 of   1630\n"
     ]
    },
    {
     "name": "stderr",
     "output_type": "stream",
     "text": [
      "      0.93 seconds: Joined    900 of   1630\n",
      "      1.06 seconds: Joined   1000 of   1630\n"
     ]
    },
    {
     "name": "stderr",
     "output_type": "stream",
     "text": [
      "      1.27 seconds: Joined   1200 of   1630\n",
      "      1.46 seconds: Joined   1400 of   1630\n"
     ]
    },
    {
     "name": "stderr",
     "output_type": "stream",
     "text": [
      "      1.64 seconds: Joined   1600 of   1630\n",
      "Initial topology in 1.65 seconds\n",
      "Refining topology: 43 rounds ME-NNIs, 2 rounds ME-SPRs, 21 rounds ML-NNIs\n",
      "      1.74 seconds: ME NNI round 2 of 43, 701 of 1631 splits, 97 changes (max delta 0.020)\n"
     ]
    },
    {
     "name": "stderr",
     "output_type": "stream",
     "text": [
      "      1.84 seconds: ME NNI round 4 of 43, 401 of 1631 splits, 25 changes (max delta 0.018)\n",
      "      1.97 seconds: SPR round   1 of   2, 101 of 3264 nodes\n"
     ]
    },
    {
     "name": "stderr",
     "output_type": "stream",
     "text": [
      "      2.10 seconds: SPR round   1 of   2, 301 of 3264 nodes\n",
      "      2.22 seconds: SPR round   1 of   2, 501 of 3264 nodes\n"
     ]
    },
    {
     "name": "stderr",
     "output_type": "stream",
     "text": [
      "      2.34 seconds: SPR round   1 of   2, 701 of 3264 nodes\n",
      "      2.46 seconds: SPR round   1 of   2, 901 of 3264 nodes\n"
     ]
    },
    {
     "name": "stderr",
     "output_type": "stream",
     "text": [
      "      2.60 seconds: SPR round   1 of   2, 1101 of 3264 nodes\n",
      "      2.73 seconds: SPR round   1 of   2, 1301 of 3264 nodes\n"
     ]
    },
    {
     "name": "stderr",
     "output_type": "stream",
     "text": [
      "      2.86 seconds: SPR round   1 of   2, 1501 of 3264 nodes\n",
      "      3.00 seconds: SPR round   1 of   2, 1701 of 3264 nodes\n"
     ]
    },
    {
     "name": "stderr",
     "output_type": "stream",
     "text": [
      "      3.13 seconds: SPR round   1 of   2, 1901 of 3264 nodes\n",
      "      3.26 seconds: SPR round   1 of   2, 2101 of 3264 nodes\n"
     ]
    },
    {
     "name": "stderr",
     "output_type": "stream",
     "text": [
      "      3.43 seconds: SPR round   1 of   2, 2301 of 3264 nodes\n",
      "      3.56 seconds: SPR round   1 of   2, 2501 of 3264 nodes\n"
     ]
    },
    {
     "name": "stderr",
     "output_type": "stream",
     "text": [
      "      3.69 seconds: SPR round   1 of   2, 2701 of 3264 nodes\n",
      "      3.82 seconds: SPR round   1 of   2, 2901 of 3264 nodes\n"
     ]
    },
    {
     "name": "stderr",
     "output_type": "stream",
     "text": [
      "      3.93 seconds: SPR round   1 of   2, 3101 of 3264 nodes\n",
      "      4.03 seconds: ME NNI round 15 of 43, 201 of 1631 splits, 6 changes (max delta 0.001)\n"
     ]
    },
    {
     "name": "stderr",
     "output_type": "stream",
     "text": [
      "      4.13 seconds: ME NNI round 18 of 43, 1 of 1631 splits\n",
      "      4.29 seconds: SPR round   2 of   2, 301 of 3264 nodes\n"
     ]
    },
    {
     "name": "stderr",
     "output_type": "stream",
     "text": [
      "      4.45 seconds: SPR round   2 of   2, 601 of 3264 nodes\n",
      "      4.55 seconds: SPR round   2 of   2, 801 of 3264 nodes\n"
     ]
    },
    {
     "name": "stderr",
     "output_type": "stream",
     "text": [
      "      4.66 seconds: SPR round   2 of   2, 1001 of 3264 nodes\n",
      "      4.77 seconds: SPR round   2 of   2, 1201 of 3264 nodes\n"
     ]
    },
    {
     "name": "stderr",
     "output_type": "stream",
     "text": [
      "      4.87 seconds: SPR round   2 of   2, 1401 of 3264 nodes\n",
      "      4.98 seconds: SPR round   2 of   2, 1601 of 3264 nodes\n"
     ]
    },
    {
     "name": "stderr",
     "output_type": "stream",
     "text": [
      "      5.08 seconds: SPR round   2 of   2, 1801 of 3264 nodes\n",
      "      5.19 seconds: SPR round   2 of   2, 2001 of 3264 nodes\n"
     ]
    },
    {
     "name": "stderr",
     "output_type": "stream",
     "text": [
      "      5.30 seconds: SPR round   2 of   2, 2201 of 3264 nodes\n",
      "      5.41 seconds: SPR round   2 of   2, 2401 of 3264 nodes\n"
     ]
    },
    {
     "name": "stderr",
     "output_type": "stream",
     "text": [
      "      5.53 seconds: SPR round   2 of   2, 2601 of 3264 nodes\n",
      "      5.64 seconds: SPR round   2 of   2, 2801 of 3264 nodes\n"
     ]
    },
    {
     "name": "stderr",
     "output_type": "stream",
     "text": [
      "      5.75 seconds: SPR round   2 of   2, 3001 of 3264 nodes\n",
      "      5.89 seconds: SPR round   2 of   2, 3201 of 3264 nodes\n"
     ]
    },
    {
     "name": "stderr",
     "output_type": "stream",
     "text": [
      "      5.99 seconds: ME NNI round 30 of 43, 301 of 1631 splits, 0 changes\n",
      "Total branch-length 24.250 after 6.11 sec\n",
      "      6.11 seconds: ML Lengths 1 of 1631 splits\n"
     ]
    },
    {
     "name": "stderr",
     "output_type": "stream",
     "text": [
      "      6.24 seconds: ML Lengths 401 of 1631 splits\n",
      "      6.37 seconds: ML Lengths 801 of 1631 splits\n"
     ]
    },
    {
     "name": "stderr",
     "output_type": "stream",
     "text": [
      "      6.49 seconds: ML Lengths 1201 of 1631 splits\n",
      "      6.62 seconds: ML Lengths 1601 of 1631 splits\n"
     ]
    },
    {
     "name": "stderr",
     "output_type": "stream",
     "text": [
      "      6.72 seconds: ML NNI round 1 of 21, 101 of 1631 splits, 29 changes (max delta 3.811)\n",
      "      6.87 seconds: ML NNI round 1 of 21, 301 of 1631 splits, 78 changes (max delta 4.869)\n"
     ]
    },
    {
     "name": "stderr",
     "output_type": "stream",
     "text": [
      "      7.03 seconds: ML NNI round 1 of 21, 501 of 1631 splits, 145 changes (max delta 13.271)\n",
      "      7.18 seconds: ML NNI round 1 of 21, 701 of 1631 splits, 197 changes (max delta 13.271)\n"
     ]
    },
    {
     "name": "stderr",
     "output_type": "stream",
     "text": [
      "      7.33 seconds: ML NNI round 1 of 21, 901 of 1631 splits, 252 changes (max delta 13.271)\n",
      "      7.47 seconds: ML NNI round 1 of 21, 1101 of 1631 splits, 303 changes (max delta 13.271)\n"
     ]
    },
    {
     "name": "stderr",
     "output_type": "stream",
     "text": [
      "      7.62 seconds: ML NNI round 1 of 21, 1301 of 1631 splits, 339 changes (max delta 13.271)\n",
      "      7.78 seconds: ML NNI round 1 of 21, 1501 of 1631 splits, 399 changes (max delta 13.271)\n"
     ]
    },
    {
     "name": "stderr",
     "output_type": "stream",
     "text": [
      "ML-NNI round 1: LogLk = -59109.367 NNIs 426 max delta 13.27 Time 7.90\n",
      "      7.92 seconds: Site likelihoods with rate category 1 of 20\n",
      "      8.04 seconds: Site likelihoods with rate category 6 of 20\n"
     ]
    },
    {
     "name": "stderr",
     "output_type": "stream",
     "text": [
      "      8.17 seconds: Site likelihoods with rate category 11 of 20\n",
      "      8.29 seconds: Site likelihoods with rate category 16 of 20\n"
     ]
    },
    {
     "name": "stderr",
     "output_type": "stream",
     "text": [
      "      8.39 seconds: Site likelihoods with rate category 20 of 20\n",
      "Switched to using 20 rate categories (CAT approximation)\n",
      "Rate categories were divided by 1.087 so that average rate = 1.0\n",
      "CAT-based log-likelihoods may not be comparable across runs\n",
      "Use -gamma for approximate but comparable Gamma(20) log-likelihoods\n",
      "      8.50 seconds: ML NNI round 2 of 21, 101 of 1631 splits, 9 changes (max delta 3.175)\n"
     ]
    },
    {
     "name": "stderr",
     "output_type": "stream",
     "text": [
      "      8.67 seconds: ML NNI round 2 of 21, 301 of 1631 splits, 45 changes (max delta 4.955)\n",
      "      8.86 seconds: ML NNI round 2 of 21, 501 of 1631 splits, 86 changes (max delta 6.281)\n"
     ]
    },
    {
     "name": "stderr",
     "output_type": "stream",
     "text": [
      "      9.05 seconds: ML NNI round 2 of 21, 701 of 1631 splits, 109 changes (max delta 6.281)\n",
      "      9.23 seconds: ML NNI round 2 of 21, 901 of 1631 splits, 139 changes (max delta 8.983)\n"
     ]
    },
    {
     "name": "stderr",
     "output_type": "stream",
     "text": [
      "      9.42 seconds: ML NNI round 2 of 21, 1101 of 1631 splits, 168 changes (max delta 8.983)\n",
      "      9.60 seconds: ML NNI round 2 of 21, 1301 of 1631 splits, 208 changes (max delta 8.983)\n"
     ]
    },
    {
     "name": "stderr",
     "output_type": "stream",
     "text": [
      "      9.80 seconds: ML NNI round 2 of 21, 1501 of 1631 splits, 238 changes (max delta 8.983)\n",
      "      9.90 seconds: ML NNI round 2 of 21, 1601 of 1631 splits, 258 changes (max delta 8.983)\n",
      "ML-NNI round 2: LogLk = -46557.652 NNIs 259 max delta 8.98 Time 9.94\n"
     ]
    },
    {
     "name": "stderr",
     "output_type": "stream",
     "text": [
      "     10.03 seconds: ML NNI round 3 of 21, 101 of 1631 splits, 12 changes (max delta 0.119)\n",
      "     10.20 seconds: ML NNI round 3 of 21, 301 of 1631 splits, 30 changes (max delta 0.119)\n"
     ]
    },
    {
     "name": "stderr",
     "output_type": "stream",
     "text": [
      "     10.37 seconds: ML NNI round 3 of 21, 501 of 1631 splits, 56 changes (max delta 1.974)\n",
      "     10.52 seconds: ML NNI round 3 of 21, 701 of 1631 splits, 75 changes (max delta 1.974)\n"
     ]
    },
    {
     "name": "stderr",
     "output_type": "stream",
     "text": [
      "     10.69 seconds: ML NNI round 3 of 21, 901 of 1631 splits, 94 changes (max delta 4.646)\n",
      "     10.86 seconds: ML NNI round 3 of 21, 1101 of 1631 splits, 118 changes (max delta 4.646)\n"
     ]
    },
    {
     "name": "stderr",
     "output_type": "stream",
     "text": [
      "ML-NNI round 3: LogLk = -46514.191 NNIs 135 max delta 4.65 Time 10.99\n",
      "     10.98 seconds: ML NNI round 4 of 21, 1 of 1631 splits\n",
      "     11.13 seconds: ML NNI round 4 of 21, 201 of 1631 splits, 11 changes (max delta 4.090)\n"
     ]
    },
    {
     "name": "stderr",
     "output_type": "stream",
     "text": [
      "     11.29 seconds: ML NNI round 4 of 21, 401 of 1631 splits, 23 changes (max delta 4.090)\n",
      "     11.45 seconds: ML NNI round 4 of 21, 601 of 1631 splits, 31 changes (max delta 4.090)\n"
     ]
    },
    {
     "name": "stderr",
     "output_type": "stream",
     "text": [
      "ML-NNI round 4: LogLk = -46497.365 NNIs 42 max delta 4.09 Time 11.62\n",
      "     11.62 seconds: ML NNI round 5 of 21, 1 of 1631 splits\n",
      "     11.77 seconds: ML NNI round 5 of 21, 201 of 1631 splits, 12 changes (max delta 0.388)\n"
     ]
    },
    {
     "name": "stderr",
     "output_type": "stream",
     "text": [
      "ML-NNI round 5: LogLk = -46496.100 NNIs 17 max delta 0.39 Time 11.89\n",
      "     11.88 seconds: ML NNI round 6 of 21, 1 of 1631 splits\n",
      "ML-NNI round 6: LogLk = -46495.099 NNIs 4 max delta 0.00 Time 12.00\n",
      "Turning off heuristics for final round of ML NNIs (converged)\n",
      "     11.99 seconds: ML NNI round 7 of 21, 1 of 1631 splits\n"
     ]
    },
    {
     "name": "stderr",
     "output_type": "stream",
     "text": [
      "     12.15 seconds: ML NNI round 7 of 21, 201 of 1631 splits, 2 changes (max delta 0.343)\n",
      "     12.30 seconds: ML NNI round 7 of 21, 401 of 1631 splits, 9 changes (max delta 0.343)\n"
     ]
    },
    {
     "name": "stderr",
     "output_type": "stream",
     "text": [
      "     12.47 seconds: ML NNI round 7 of 21, 601 of 1631 splits, 18 changes (max delta 1.236)\n",
      "     12.63 seconds: ML NNI round 7 of 21, 801 of 1631 splits, 25 changes (max delta 1.236)\n"
     ]
    },
    {
     "name": "stderr",
     "output_type": "stream",
     "text": [
      "     12.79 seconds: ML NNI round 7 of 21, 1001 of 1631 splits, 29 changes (max delta 1.236)\n",
      "     12.95 seconds: ML NNI round 7 of 21, 1201 of 1631 splits, 38 changes (max delta 1.236)\n"
     ]
    },
    {
     "name": "stderr",
     "output_type": "stream",
     "text": [
      "     13.11 seconds: ML NNI round 7 of 21, 1401 of 1631 splits, 42 changes (max delta 1.236)\n",
      "     13.28 seconds: ML NNI round 7 of 21, 1601 of 1631 splits, 44 changes (max delta 1.236)\n",
      "ML-NNI round 7: LogLk = -46490.163 NNIs 45 max delta 1.24 Time 13.32 (final)\n"
     ]
    },
    {
     "name": "stderr",
     "output_type": "stream",
     "text": [
      "     13.38 seconds: ML Lengths 301 of 1631 splits\n",
      "     13.50 seconds: ML Lengths 801 of 1631 splits\n"
     ]
    },
    {
     "name": "stderr",
     "output_type": "stream",
     "text": [
      "     13.61 seconds: ML Lengths 1301 of 1631 splits\n",
      "Optimize all lengths: LogLk = -46487.013 Time 13.71\n"
     ]
    },
    {
     "name": "stderr",
     "output_type": "stream",
     "text": [
      "     13.86 seconds: ML split tests for    100 of   1630 internal splits\n",
      "     14.00 seconds: ML split tests for    200 of   1630 internal splits\n"
     ]
    },
    {
     "name": "stderr",
     "output_type": "stream",
     "text": [
      "     14.15 seconds: ML split tests for    300 of   1630 internal splits\n",
      "     14.29 seconds: ML split tests for    400 of   1630 internal splits\n"
     ]
    },
    {
     "name": "stderr",
     "output_type": "stream",
     "text": [
      "     14.43 seconds: ML split tests for    500 of   1630 internal splits\n",
      "     14.58 seconds: ML split tests for    600 of   1630 internal splits\n"
     ]
    },
    {
     "name": "stderr",
     "output_type": "stream",
     "text": [
      "     14.72 seconds: ML split tests for    700 of   1630 internal splits\n",
      "     14.87 seconds: ML split tests for    800 of   1630 internal splits\n"
     ]
    },
    {
     "name": "stderr",
     "output_type": "stream",
     "text": [
      "     15.02 seconds: ML split tests for    900 of   1630 internal splits\n",
      "     15.17 seconds: ML split tests for   1000 of   1630 internal splits\n"
     ]
    },
    {
     "name": "stderr",
     "output_type": "stream",
     "text": [
      "     15.32 seconds: ML split tests for   1100 of   1630 internal splits\n",
      "     15.46 seconds: ML split tests for   1200 of   1630 internal splits\n"
     ]
    },
    {
     "name": "stderr",
     "output_type": "stream",
     "text": [
      "     15.60 seconds: ML split tests for   1300 of   1630 internal splits\n",
      "     15.74 seconds: ML split tests for   1400 of   1630 internal splits\n"
     ]
    },
    {
     "name": "stderr",
     "output_type": "stream",
     "text": [
      "     15.89 seconds: ML split tests for   1500 of   1630 internal splits\n",
      "     16.03 seconds: ML split tests for   1600 of   1630 internal splits\n",
      "Total time: 16.08 seconds Unique: 1633/1651 Bad splits: 2/1630 Worst delta-LogLk 0.296\n"
     ]
    }
   ],
   "source": [
    "mafft_alignment, mafft_masked_alignment, mafft_tree, mafft_rooted_tree = align_to_tree_mafft_fasttree(\n",
    "    sequences=reps, n_threads=6, )"
   ]
  },
  {
   "cell_type": "markdown",
   "id": "0768d598",
   "metadata": {
    "papermill": {
     "duration": 0.039181,
     "end_time": "2022-11-17T22:51:31.457975",
     "exception": false,
     "start_time": "2022-11-17T22:51:31.418794",
     "status": "completed"
    },
    "tags": []
   },
   "source": [
    "### Compute Alpha Diversity (Phylogeny)\n",
    "- [diversity alpha_phylogenetic](https://docs.qiime2.org/2022.8/plugins/available/diversity/alpha-phylogenetic/): Computes a user-specified phylogenetic alpha diversity metric for all samples in a feature table.\n",
    "- Metrics: Choices ('faith_pd')"
   ]
  },
  {
   "cell_type": "code",
   "execution_count": 13,
   "id": "0383aa19",
   "metadata": {
    "ExecuteTime": {
     "end_time": "2022-09-29T20:54:35.310009Z",
     "start_time": "2022-09-29T20:54:35.141333Z"
    },
    "execution": {
     "iopub.execute_input": "2022-11-17T22:51:31.612612Z",
     "iopub.status.busy": "2022-11-17T22:51:31.612394Z",
     "iopub.status.idle": "2022-11-17T22:51:31.762866Z",
     "shell.execute_reply": "2022-11-17T22:51:31.762282Z"
    },
    "papermill": {
     "duration": 0.231298,
     "end_time": "2022-11-17T22:51:31.765740",
     "exception": false,
     "start_time": "2022-11-17T22:51:31.534442",
     "status": "completed"
    },
    "tags": []
   },
   "outputs": [
    {
     "name": "stdout",
     "output_type": "stream",
     "text": [
      "Calculating alpha diversity: faith_pd\n",
      "DONE: Calculating alpha diversty: faith_pd\n"
     ]
    }
   ],
   "source": [
    "metrics = ('faith_pd', )\n",
    "alpha_diversities_phylogenetic = dict()\n",
    "for metric in metrics:\n",
    "    print(f\"Calculating alpha diversity: {metric}\")\n",
    "    try:\n",
    "        alpha_diversity = alpha_phylogenetic(table=tabs, phylogeny=mafft_rooted_tree, metric=metric).alpha_diversity\n",
    "        alpha_diversities_phylogenetic[metric] = alpha_diversity\n",
    "        print(f\"DONE: Calculating alpha diversty: {metric}\")\n",
    "    except Exception as e:\n",
    "        print(f\"ERROR: Calculating alpha diversty: {metric}\")"
   ]
  },
  {
   "cell_type": "markdown",
   "id": "c7752cfd",
   "metadata": {
    "papermill": {
     "duration": 0.034213,
     "end_time": "2022-11-17T22:51:31.838923",
     "exception": false,
     "start_time": "2022-11-17T22:51:31.804710",
     "status": "completed"
    },
    "tags": []
   },
   "source": [
    "### Alpha diversity correlation\n",
    "\n",
    "This method only process `numeric` columns.\n"
   ]
  },
  {
   "cell_type": "code",
   "execution_count": 14,
   "id": "2814f613",
   "metadata": {
    "ExecuteTime": {
     "end_time": "2022-09-29T20:54:35.317618Z",
     "start_time": "2022-09-29T20:54:35.312094Z"
    },
    "execution": {
     "iopub.execute_input": "2022-11-17T22:51:31.908173Z",
     "iopub.status.busy": "2022-11-17T22:51:31.907948Z",
     "iopub.status.idle": "2022-11-17T22:51:33.044846Z",
     "shell.execute_reply": "2022-11-17T22:51:33.044196Z"
    },
    "papermill": {
     "duration": 1.175667,
     "end_time": "2022-11-17T22:51:33.048651",
     "exception": false,
     "start_time": "2022-11-17T22:51:31.872984",
     "status": "completed"
    },
    "tags": []
   },
   "outputs": [
    {
     "name": "stdout",
     "output_type": "stream",
     "text": [
      "DONE: Calculating alpha diversty: chao1 spearman\n",
      "DONE: Calculating alpha diversty: chao1 pearson\n"
     ]
    },
    {
     "name": "stdout",
     "output_type": "stream",
     "text": [
      "DONE: Calculating alpha diversty: simpson spearman\n",
      "ERROR: Calculating alpha diversty: simpson pearson\n",
      "DONE: Calculating alpha diversty: shannon spearman\n"
     ]
    },
    {
     "name": "stdout",
     "output_type": "stream",
     "text": [
      "ERROR: Calculating alpha diversty: shannon pearson\n",
      "DONE: Calculating alpha diversty: observed_features spearman\n"
     ]
    },
    {
     "name": "stdout",
     "output_type": "stream",
     "text": [
      "DONE: Calculating alpha diversty: observed_features pearson\n"
     ]
    }
   ],
   "source": [
    "methods = ('spearman', 'pearson')\n",
    "numerics_cols = metadata_qa.filter_columns(column_type='numeric')\n",
    "if numerics_cols.column_count > 0:\n",
    "    for metric, alpha_values in alpha_diversities.items():\n",
    "        for method in methods:\n",
    "            try:\n",
    "                corr_view = alpha_correlation(alpha_diversity=alpha_values, metadata=numerics_cols, \n",
    "                                          method=method, intersect_ids=True).visualization\n",
    "                view_path = os.path.join(qiime_folder, f'alpha-correlation-{metric}-{method}.qzv')\n",
    "                corr_view.save(view_path)\n",
    "                corr_view\n",
    "                print(f\"DONE: Calculating alpha diversty: {metric} {method}\")\n",
    "            except Exception as e:\n",
    "                print(f\"ERROR: Calculating alpha diversty: {metric} {method}\")"
   ]
  },
  {
   "cell_type": "markdown",
   "id": "8ea83c8a",
   "metadata": {
    "papermill": {
     "duration": 0.041661,
     "end_time": "2022-11-17T22:51:33.137937",
     "exception": false,
     "start_time": "2022-11-17T22:51:33.096276",
     "status": "completed"
    },
    "tags": []
   },
   "source": [
    "## Alpha diversity comparisons\n",
    "\n",
    "Visually and statistically compare groups of alpha diversity values.\n",
    "\n",
    "[diversity alpha_group_significance](https://docs.qiime2.org/2022.8/plugins/available/diversity/alpha-group-significance/)"
   ]
  },
  {
   "cell_type": "code",
   "execution_count": 15,
   "id": "276d1c18",
   "metadata": {
    "ExecuteTime": {
     "end_time": "2022-09-29T20:54:36.089290Z",
     "start_time": "2022-09-29T20:54:35.318963Z"
    },
    "execution": {
     "iopub.execute_input": "2022-11-17T22:51:33.222520Z",
     "iopub.status.busy": "2022-11-17T22:51:33.222262Z",
     "iopub.status.idle": "2022-11-17T22:51:33.875191Z",
     "shell.execute_reply": "2022-11-17T22:51:33.874387Z"
    },
    "papermill": {
     "duration": 0.699139,
     "end_time": "2022-11-17T22:51:33.878763",
     "exception": false,
     "start_time": "2022-11-17T22:51:33.179624",
     "status": "completed"
    },
    "tags": []
   },
   "outputs": [
    {
     "name": "stdout",
     "output_type": "stream",
     "text": [
      "Processing alpha_group_significance: chao1\n"
     ]
    },
    {
     "name": "stdout",
     "output_type": "stream",
     "text": [
      "DONE: Calculating alpha diversty: chao1\n",
      "Processing alpha_group_significance: simpson\n"
     ]
    },
    {
     "name": "stdout",
     "output_type": "stream",
     "text": [
      "DONE: Calculating alpha diversty: simpson\n",
      "Processing alpha_group_significance: shannon\n"
     ]
    },
    {
     "name": "stdout",
     "output_type": "stream",
     "text": [
      "DONE: Calculating alpha diversty: shannon\n",
      "Processing alpha_group_significance: observed_features\n"
     ]
    },
    {
     "name": "stdout",
     "output_type": "stream",
     "text": [
      "DONE: Calculating alpha diversty: observed_features\n"
     ]
    }
   ],
   "source": [
    "for metric, alpha_values in alpha_diversities.items():\n",
    "    print(f\"Processing alpha_group_significance: {metric}\")\n",
    "    try:\n",
    "        significance_view = alpha_group_significance(alpha_diversity=alpha_values, metadata=metadata_qa).visualization\n",
    "        view_path = os.path.join(qiime_folder, f'alpha-group-significance-{metric}.qzv')\n",
    "        significance_view.save(view_path)\n",
    "        significance_view\n",
    "        print(f\"DONE: Calculating alpha diversty: {metric}\")\n",
    "    except Exception as e:\n",
    "        print(f\"ERROR: Calculating alpha diversty: {metric}\")"
   ]
  },
  {
   "cell_type": "markdown",
   "id": "4349d357",
   "metadata": {
    "papermill": {
     "duration": 0.079534,
     "end_time": "2022-11-17T22:51:34.010023",
     "exception": false,
     "start_time": "2022-11-17T22:51:33.930489",
     "status": "completed"
    },
    "tags": []
   },
   "source": [
    "## Beta diversity analysis\n",
    "\n",
    "#### Reference\n",
    "- [diversity beta](https://docs.qiime2.org/2022.8/plugins/available/diversity/beta/): Computes a user-specified beta diversity metric for all pairs of samples in a feature table.\n",
    "- [Beta diversity metrics](http://scikit-bio.org/docs/0.2.0/generated/skbio.diversity.beta.html)\n",
    "\n",
    "- Metric Choices('aitchison', 'braycurtis', 'canberra', 'canberra_adkins', 'chebyshev', 'cityblock', 'correlation', 'cosine', 'dice', 'euclidean', 'hamming', 'jaccard', 'jensenshannon', 'kulsinski', 'matching', 'minkowski', 'rogerstanimoto', 'russellrao', 'seuclidean', 'sokalmichener', 'sokalsneath', 'sqeuclidean', 'yule')"
   ]
  },
  {
   "cell_type": "code",
   "execution_count": 16,
   "id": "f6f358dd",
   "metadata": {
    "ExecuteTime": {
     "end_time": "2022-09-29T20:54:36.335038Z",
     "start_time": "2022-09-29T20:54:36.091288Z"
    },
    "execution": {
     "iopub.execute_input": "2022-11-17T22:51:34.193065Z",
     "iopub.status.busy": "2022-11-17T22:51:34.192790Z",
     "iopub.status.idle": "2022-11-17T22:51:34.411366Z",
     "shell.execute_reply": "2022-11-17T22:51:34.410680Z"
    },
    "papermill": {
     "duration": 0.313864,
     "end_time": "2022-11-17T22:51:34.416155",
     "exception": false,
     "start_time": "2022-11-17T22:51:34.102291",
     "status": "completed"
    },
    "tags": []
   },
   "outputs": [
    {
     "name": "stdout",
     "output_type": "stream",
     "text": [
      "Calculating beta diversity: dice\n",
      "ERROR: Calculating beta diversty: dice\n",
      "Calculating beta diversity: braycurtis\n",
      "ERROR: Calculating beta diversty: braycurtis\n",
      "Calculating beta diversity: chebyshev\n",
      "DONE: Calculating beta diversty: chebyshev\n",
      "Calculating beta diversity: jaccard\n"
     ]
    },
    {
     "name": "stdout",
     "output_type": "stream",
     "text": [
      "DONE: Calculating beta diversty: jaccard\n"
     ]
    },
    {
     "name": "stderr",
     "output_type": "stream",
     "text": [
      "/home/lauro/anaconda3/envs/qiime2-2022.2/lib/python3.8/site-packages/sklearn/metrics/pairwise.py:1761: DataConversionWarning: Data was converted to boolean for metric dice\n",
      "  warnings.warn(msg, DataConversionWarning)\n",
      "/home/lauro/anaconda3/envs/qiime2-2022.2/lib/python3.8/site-packages/sklearn/metrics/pairwise.py:1761: DataConversionWarning: Data was converted to boolean for metric jaccard\n",
      "  warnings.warn(msg, DataConversionWarning)\n"
     ]
    }
   ],
   "source": [
    "metrics = ('dice', 'braycurtis', 'chebyshev', 'jaccard')\n",
    "beta_diversities = dict()\n",
    "for metric in metrics:\n",
    "    print(f\"Calculating beta diversity: {metric}\")\n",
    "    try:\n",
    "        beta_diversity = beta(table=tabs, metric=metric, n_jobs=6, pseudocount=1).distance_matrix\n",
    "        beta_diversities[metric] = beta_diversity\n",
    "        print(f\"DONE: Calculating beta diversty: {metric}\")\n",
    "    except Exception as e:\n",
    "        print(f\"ERROR: Calculating beta diversty: {metric}\")"
   ]
  },
  {
   "cell_type": "markdown",
   "id": "200a2fa7",
   "metadata": {
    "papermill": {
     "duration": 0.080777,
     "end_time": "2022-11-17T22:51:34.558893",
     "exception": false,
     "start_time": "2022-11-17T22:51:34.478116",
     "status": "completed"
    },
    "tags": []
   },
   "source": [
    "### Beta group significance\n",
    "\n",
    "- [diversity beta_group_significance](https://docs.qiime2.org/2022.8/plugins/available/diversity/beta-group-significance/): Determine whether groups of samples are significantly different from one another using a permutation-based statistical test.\n",
    "- Marti J Anderson. A new method for non-parametric multivariate analysis of variance. Austral ecology, 26(1):32–46, 2001. doi:https://doi.org/10.1111/j.1442-9993.2001.01070.pp.x."
   ]
  },
  {
   "cell_type": "code",
   "execution_count": 17,
   "id": "b8dd42b6",
   "metadata": {
    "ExecuteTime": {
     "end_time": "2022-09-29T20:55:08.313860Z",
     "start_time": "2022-09-29T20:54:36.336993Z"
    },
    "execution": {
     "iopub.execute_input": "2022-11-17T22:51:34.728037Z",
     "iopub.status.busy": "2022-11-17T22:51:34.727719Z",
     "iopub.status.idle": "2022-11-17T22:51:34.940464Z",
     "shell.execute_reply": "2022-11-17T22:51:34.939568Z"
    },
    "papermill": {
     "duration": 0.304194,
     "end_time": "2022-11-17T22:51:34.943072",
     "exception": false,
     "start_time": "2022-11-17T22:51:34.638878",
     "status": "completed"
    },
    "tags": []
   },
   "outputs": [
    {
     "name": "stdout",
     "output_type": "stream",
     "text": [
      "Calculating beta group significance with method permanova and metric chebyshev\n",
      "ERROR: Calculating beta diversty: permanova chebyshev\n",
      "Calculating beta group significance with method permanova and metric jaccard\n",
      "ERROR: Calculating beta diversty: permanova jaccard\n",
      "Calculating beta group significance with method anosim and metric chebyshev\n",
      "ERROR: Calculating beta diversty: anosim chebyshev\n",
      "Calculating beta group significance with method anosim and metric jaccard\n",
      "ERROR: Calculating beta diversty: anosim jaccard\n",
      "Calculating beta group significance with method permdisp and metric chebyshev\n",
      "ERROR: Calculating beta diversty: permdisp chebyshev\n",
      "Calculating beta group significance with method permdisp and metric jaccard\n",
      "ERROR: Calculating beta diversty: permdisp jaccard"
     ]
    },
    {
     "name": "stdout",
     "output_type": "stream",
     "text": [
      "\n"
     ]
    },
    {
     "name": "stderr",
     "output_type": "stream",
     "text": [
      "/home/lauro/anaconda3/envs/qiime2-2022.2/lib/python3.8/site-packages/skbio/stats/ordination/_principal_coordinate_analysis.py:143: RuntimeWarning: The result contains negative eigenvalues. Please compare their magnitude with the magnitude of some of the largest positive eigenvalues. If the negative ones are smaller, it's probably safe to ignore them, but if they are large in magnitude, the results won't be useful. See the Notes section for more details. The smallest eigenvalue is -57123817.81418646 and the largest is 1082773330.6122975.\n",
      "  warn(\n"
     ]
    }
   ],
   "source": [
    "methods = ('permanova', 'anosim', 'permdisp')\n",
    "for method in methods:\n",
    "    for metric, beta_diversity in beta_diversities.items():\n",
    "        print(f'Calculating beta group significance with method {method} and metric {metric}')\n",
    "        try:\n",
    "            beta_view = beta_group_significance(distance_matrix=beta_diversity, \n",
    "                                                metadata=metadata_qa.get_column(class_col), \n",
    "                                                pairwise=True, method=method).visualization\n",
    "            view_name = os.path.join(qiime_folder, f'beta-group-significance-{metric}-{method}.qzv')\n",
    "            beta_view.save(view_name)\n",
    "            print(f\"DONE: Calculating beta diversty: {method} {metric}\")\n",
    "        except Exception as e:\n",
    "            print(f\"ERROR: Calculating beta diversty: {method} {metric}\")"
   ]
  },
  {
   "cell_type": "markdown",
   "id": "c0de85cf",
   "metadata": {
    "papermill": {
     "duration": 0.044292,
     "end_time": "2022-11-17T22:51:35.076527",
     "exception": false,
     "start_time": "2022-11-17T22:51:35.032235",
     "status": "completed"
    },
    "tags": []
   },
   "source": [
    "### Beta group Rarefaction\n",
    "\n",
    "- [diversity beta_rarefaction](https://docs.qiime2.org/2022.8/plugins/available/diversity/beta-rarefaction/): Repeatedly rarefy a feature table to compare beta diversity results within a given rarefaction depth.  For a given beta diversity metric, this visualizer will provide: an Emperor jackknifed PCoA plot, samples clustered by UPGMA or neighbor joining with support calculation, and a heatmap showing the correlation between rarefaction trials of that beta diversity metric."
   ]
  }
 ],
 "metadata": {
  "celltoolbar": "Edit Metadata",
  "kernelspec": {
   "display_name": "Python 3 (ipykernel)",
   "language": "python",
   "name": "python3"
  },
  "language_info": {
   "codemirror_mode": {
    "name": "ipython",
    "version": 3
   },
   "file_extension": ".py",
   "mimetype": "text/x-python",
   "name": "python",
   "nbconvert_exporter": "python",
   "pygments_lexer": "ipython3",
   "version": "3.8.12"
  },
  "papermill": {
   "default_parameters": {},
   "duration": 46.491007,
   "end_time": "2022-11-17T22:51:35.941039",
   "environment_variables": {},
   "exception": null,
   "input_path": "nb-templates/step-diversity-analysis.ipynb",
   "output_path": "/home/lauro/nupeb/rede-micro/redemicro-thayane/experiments/thayane-PM/nb-executed-steps/step-diversity-analysis-thayane-PM.ipynb",
   "parameters": {
    "base_dir": "/home/lauro/nupeb/rede-micro/redemicro-thayane",
    "class_col": "class-straw",
    "classifier_file": "/home/lauro/nupeb/16S_classifiers_qiime2/silva-138-99-nb-classifier.qza",
    "experiment_name": "thayane-PM",
    "manifest_file": "/home/lauro/nupeb/rede-micro/redemicro-thayane/data/manifest.csv",
    "metadata_file": "/home/lauro/nupeb/rede-micro/redemicro-thayane/data/metadata.tsv",
    "overlap": 12,
    "phred": 20,
    "replace_files": false,
    "threads": 6,
    "trunc_f": 0,
    "trunc_r": 0
   },
   "start_time": "2022-11-17T22:50:49.450032",
   "version": "2.3.4"
  }
 },
 "nbformat": 4,
 "nbformat_minor": 5
}