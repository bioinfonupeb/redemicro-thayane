{
 "cells": [
  {
   "cell_type": "markdown",
   "id": "15bcfa06",
   "metadata": {
    "papermill": {
     "duration": 0.026114,
     "end_time": "2023-03-10T12:15:32.572249",
     "exception": false,
     "start_time": "2023-03-10T12:15:32.546135",
     "status": "completed"
    },
    "tags": []
   },
   "source": [
    " \n",
    "# Alpha and Beta Diversity\n",
    "\n",
    "Different higher-level measures are often used to describe the microbiome in a sample. These do not provide information on changes in the abundance of specific taxa but allow us to access a broader change or difference in the composition of microorganisms. Alpha and beta diversity are examples of such measures.\n",
    "\n",
    "Different measures exist to estimate diversity within a single sample, jointly called alpha diversity. The different measures reflect the richness (number) or distribution (evenness) of a microbial sample or aim to reflect a combination of both properties.\n",
    "\n",
    "Rarefaction curves are often used when calculating alpha diversity indices because increasing numbers of sequenced taxa allow increasingly accurate estimates of total population diversity. Rarefaction curves can therefore be used to estimate the full sample richness, as compared to the observed sample richness.\n",
    "\n",
    "While alpha diversity is a measure of microbiome diversity applicable to a single sample, beta diversity is a measure of the similarity or dissimilarity of two communities. As for alpha diversity, many indices exist, each reflecting different aspects of community heterogeneity. Key differences relate to how the indices value variation in rare species if they consider presence/absence only or incorporate abundance, and how they interpret shared absence. Bray-Curtis dissimilarity is a popular measure that considers both size (overall abundance per sample) and shape (abundance of each taxon) of the communities (Bray, 1957). Beta diversity is an essential measure for many popular statistical methods in ecology, such as ordination-based methods, and is widely used for studying the association between environmental variables and microbial composition.\n",
    "\n",
    "In summary, alpha diversity measures can be seen as a summary statistic of a single population (within-sample diversity), while beta diversity measures are estimates of similarity or dissimilarity between populations (between samples).\n",
    "\n",
    "**Source**: (https://biomcare.com/info/key-terms-in-microbiome-projects/)"
   ]
  },
  {
   "cell_type": "markdown",
   "id": "0e7f2330",
   "metadata": {
    "ExecuteTime": {
     "end_time": "2022-09-22T19:36:33.828188Z",
     "start_time": "2022-09-22T19:36:33.817323Z"
    },
    "papermill": {
     "duration": 0.077787,
     "end_time": "2023-03-10T12:15:32.667357",
     "exception": false,
     "start_time": "2023-03-10T12:15:32.589570",
     "status": "completed"
    },
    "tags": []
   },
   "source": [
    "### STEP : Diversity Analysis\n",
    "\n",
    "Using QIIME2 to create diversity analisys graphs and calculations.\n",
    "\n",
    "- [QIIME2 Workflow Overview](https://docs.qiime2.org/2022.8/tutorials/overview/)\n",
    "\n",
    "\n",
    "#### Methods\n",
    "- [diversity](https://docs.qiime2.org/2022.8/plugins/available/diversity/)\n",
    "- [diversity alpha](https://docs.qiime2.org/2022.8/plugins/available/diversity/alpha/)\n",
    "- [diversity alpha_phylogenetic](https://docs.qiime2.org/2022.8/plugins/available/diversity/alpha-phylogenetic/)\n",
    "- [diversity beta](https://docs.qiime2.org/2022.8/plugins/available/diversity/beta/)\n",
    "- [diversity core_metrics](https://docs.qiime2.org/2022.8/plugins/available/diversity/core-metrics/)\n",
    "- [diversity alpha_group_significance](https://docs.qiime2.org/2022.8/plugins/available/diversity/alpha-group-significance/)\n",
    "- [diversity beta_group_significance](https://docs.qiime2.org/2022.8/plugins/available/diversity/beta-group-significance/)\n",
    "- [feature_table core_features](https://docs.qiime2.org/2022.8/plugins/available/feature-table/core-features/)\n",
    "- [feature_table summarize](https://docs.qiime2.org/2022.8/plugins/available/feature-table/summarize/)\n",
    "- [taxa filter-table](https://docs.qiime2.org/2022.8/plugins/available/taxa/filter-table/)\n",
    "- [taxa collapse](https://docs.qiime2.org/2022.8/plugins/available/taxa/collapse/)"
   ]
  },
  {
   "cell_type": "markdown",
   "id": "843debbf",
   "metadata": {
    "papermill": {
     "duration": 0.016646,
     "end_time": "2023-03-10T12:15:32.701434",
     "exception": false,
     "start_time": "2023-03-10T12:15:32.684788",
     "status": "completed"
    },
    "tags": []
   },
   "source": [
    "## Setup and settings"
   ]
  },
  {
   "cell_type": "code",
   "execution_count": 1,
   "id": "965e28e5",
   "metadata": {
    "ExecuteTime": {
     "end_time": "2022-11-03T20:35:26.198671Z",
     "start_time": "2022-11-03T20:35:06.473173Z"
    },
    "execution": {
     "iopub.execute_input": "2023-03-10T12:15:32.736407Z",
     "iopub.status.busy": "2023-03-10T12:15:32.735935Z",
     "iopub.status.idle": "2023-03-10T12:15:39.298719Z",
     "shell.execute_reply": "2023-03-10T12:15:39.298077Z"
    },
    "papermill": {
     "duration": 6.583939,
     "end_time": "2023-03-10T12:15:39.301991",
     "exception": false,
     "start_time": "2023-03-10T12:15:32.718052",
     "status": "completed"
    },
    "tags": []
   },
   "outputs": [],
   "source": [
    "# Importing packages\n",
    "import os\n",
    "import pandas as pd\n",
    "from qiime2 import Artifact\n",
    "from qiime2 import Visualization\n",
    "from qiime2 import Metadata\n",
    "\n",
    "from qiime2.plugins.phylogeny.pipelines import align_to_tree_mafft_fasttree\n",
    "\n",
    "from qiime2.plugins.diversity.pipelines import alpha\n",
    "from qiime2.plugins.diversity.pipelines import beta\n",
    "from qiime2.plugins.diversity.pipelines import core_metrics\n",
    "from qiime2.plugins.diversity.pipelines import alpha_phylogenetic\n",
    "\n",
    "from qiime2.plugins.diversity.visualizers import alpha_group_significance\n",
    "from qiime2.plugins.diversity.visualizers import beta_group_significance\n",
    "from qiime2.plugins.diversity.visualizers import alpha_correlation\n",
    "from qiime2.plugins.diversity.visualizers import beta_rarefaction\n",
    "\n",
    "from qiime2.plugins.taxa.methods import filter_table\n",
    "from qiime2.plugins.taxa.methods import collapse\n",
    "\n",
    "from qiime2.plugins.feature_table.visualizers import tabulate_seqs\n",
    "from qiime2.plugins.feature_table.visualizers import summarize\n",
    "from qiime2.plugins.feature_table.visualizers import core_features\n",
    "\n",
    "from qiime2.plugins.alignment.methods import mafft\n",
    "\n",
    "\n",
    "import matplotlib.pyplot as plt\n",
    "\n",
    "%matplotlib inline"
   ]
  },
  {
   "cell_type": "markdown",
   "id": "530ceb60",
   "metadata": {
    "papermill": {
     "duration": 0.014941,
     "end_time": "2023-03-10T12:15:39.335866",
     "exception": false,
     "start_time": "2023-03-10T12:15:39.320925",
     "status": "completed"
    },
    "tags": []
   },
   "source": [
    "### Receiving the parameters\n",
    "\n",
    "The following cell can receive parameters using the [papermill](https://papermill.readthedocs.io/en/latest/) tool."
   ]
  },
  {
   "cell_type": "code",
   "execution_count": 2,
   "id": "18d874ea",
   "metadata": {
    "ExecuteTime": {
     "end_time": "2022-09-29T20:54:14.793270Z",
     "start_time": "2022-09-29T20:54:14.789367Z"
    },
    "execution": {
     "iopub.execute_input": "2023-03-10T12:15:39.434167Z",
     "iopub.status.busy": "2023-03-10T12:15:39.433843Z",
     "iopub.status.idle": "2023-03-10T12:15:39.439288Z",
     "shell.execute_reply": "2023-03-10T12:15:39.438542Z"
    },
    "papermill": {
     "duration": 0.024562,
     "end_time": "2023-03-10T12:15:39.440919",
     "exception": false,
     "start_time": "2023-03-10T12:15:39.416357",
     "status": "completed"
    },
    "tags": [
     "parameters"
    ]
   },
   "outputs": [],
   "source": [
    "base_dir = os.path.join('/', 'home')\n",
    "metadata_file = os.path.abspath(os.path.join(base_dir, 'data', 'metadatada.tsv'))\n",
    "experiment_name = ''\n",
    "class_col = ''\n",
    "replace_files = False"
   ]
  },
  {
   "cell_type": "code",
   "execution_count": 3,
   "id": "8fcf3b8d",
   "metadata": {
    "execution": {
     "iopub.execute_input": "2023-03-10T12:15:39.475184Z",
     "iopub.status.busy": "2023-03-10T12:15:39.474918Z",
     "iopub.status.idle": "2023-03-10T12:15:39.481118Z",
     "shell.execute_reply": "2023-03-10T12:15:39.480297Z"
    },
    "papermill": {
     "duration": 0.024538,
     "end_time": "2023-03-10T12:15:39.482698",
     "exception": false,
     "start_time": "2023-03-10T12:15:39.458160",
     "status": "completed"
    },
    "tags": [
     "injected-parameters"
    ]
   },
   "outputs": [],
   "source": [
    "# Parameters\n",
    "experiment_name = \"thayane-PM\"\n",
    "base_dir = \"/home/lauro/nupeb/rede-micro/redemicro-thayane\"\n",
    "manifest_file = \"/home/lauro/nupeb/rede-micro/redemicro-thayane/data/manifest.csv\"\n",
    "metadata_file = \"/home/lauro/nupeb/rede-micro/redemicro-thayane/data/metadata.tsv\"\n",
    "class_col = \"menopausa-age-qcut\"\n",
    "classifier_file = (\n",
    "    \"/home/lauro/nupeb/16S_classifiers_qiime2/silva-138-99-nb-classifier.qza\"\n",
    ")\n",
    "replace_files = False\n",
    "phred = 20\n",
    "trunc_f = 0\n",
    "trunc_r = 0\n",
    "overlap = 12\n",
    "threads = 6\n"
   ]
  },
  {
   "cell_type": "code",
   "execution_count": 4,
   "id": "f38617d9",
   "metadata": {
    "ExecuteTime": {
     "end_time": "2022-09-29T20:54:14.804575Z",
     "start_time": "2022-09-29T20:54:14.794927Z"
    },
    "execution": {
     "iopub.execute_input": "2023-03-10T12:15:39.517202Z",
     "iopub.status.busy": "2023-03-10T12:15:39.516891Z",
     "iopub.status.idle": "2023-03-10T12:15:39.522146Z",
     "shell.execute_reply": "2023-03-10T12:15:39.521298Z"
    },
    "papermill": {
     "duration": 0.023616,
     "end_time": "2023-03-10T12:15:39.523769",
     "exception": false,
     "start_time": "2023-03-10T12:15:39.500153",
     "status": "completed"
    },
    "tags": []
   },
   "outputs": [],
   "source": [
    "experiment_folder = os.path.abspath(os.path.join(base_dir, 'experiments', experiment_name))\n",
    "img_folder = os.path.abspath(os.path.join(experiment_folder, 'imgs'))"
   ]
  },
  {
   "cell_type": "markdown",
   "id": "ea9b90fb",
   "metadata": {
    "papermill": {
     "duration": 0.015764,
     "end_time": "2023-03-10T12:15:39.556139",
     "exception": false,
     "start_time": "2023-03-10T12:15:39.540375",
     "status": "completed"
    },
    "tags": []
   },
   "source": [
    "### Defining names, paths and flags"
   ]
  },
  {
   "cell_type": "code",
   "execution_count": 5,
   "id": "45727eef",
   "metadata": {
    "ExecuteTime": {
     "end_time": "2022-09-29T20:54:14.816686Z",
     "start_time": "2022-09-29T20:54:14.806238Z"
    },
    "execution": {
     "iopub.execute_input": "2023-03-10T12:15:39.588952Z",
     "iopub.status.busy": "2023-03-10T12:15:39.588593Z",
     "iopub.status.idle": "2023-03-10T12:15:39.600645Z",
     "shell.execute_reply": "2023-03-10T12:15:39.600195Z"
    },
    "papermill": {
     "duration": 0.030397,
     "end_time": "2023-03-10T12:15:39.602327",
     "exception": false,
     "start_time": "2023-03-10T12:15:39.571930",
     "status": "completed"
    },
    "tags": []
   },
   "outputs": [
    {
     "name": "stdout",
     "output_type": "stream",
     "text": [
      "The new directory is created in /home/lauro/nupeb/rede-micro/redemicro-thayane/experiments/thayane-PM/qiime-artifacts/alpha-analysis\n",
      "The new directory is created in /home/lauro/nupeb/rede-micro/redemicro-thayane/experiments/thayane-PM/qiime-artifacts/beta-analysis\n"
     ]
    }
   ],
   "source": [
    "# QIIME2 Artifacts folder\n",
    "qiime_folder = os.path.join(experiment_folder, 'qiime-artifacts')\n",
    "\n",
    "# Input - DADA2 Artifacts\n",
    "dada2_tabs_path = os.path.join(qiime_folder, 'dada2-tabs.qza')\n",
    "dada2_reps_path = os.path.join(qiime_folder, 'dada2-reps.qza')\n",
    "dada2_stat_path = os.path.join(qiime_folder, 'dada2-stat.qza')\n",
    "\n",
    "# Input - Taxonaomic Artifacts\n",
    "taxonomy_path = os.path.join(qiime_folder, 'metatax.qza')\n",
    "\n",
    "# Create folder to store Alpha files\n",
    "alpha_path = os.path.join(qiime_folder, 'alpha-analysis')\n",
    "if not os.path.exists(alpha_path):\n",
    "    os.makedirs(alpha_path)\n",
    "    print(f'The new directory is created in {alpha_path}')\n",
    "    \n",
    "# Create folder to store Beta files\n",
    "beta_path = os.path.join(qiime_folder, 'beta-analysis')\n",
    "if not os.path.exists(beta_path):\n",
    "    os.makedirs(beta_path)\n",
    "    print(f'The new directory is created in {beta_path}')\n",
    "\n",
    "# Output -Diversity Artifacts\n",
    "alpha_diversity_path = os.path.join(alpha_path, 'alpha-diversity.qza')\n",
    "alpha_diversity_view_path = os.path.join(alpha_path, 'alpha-diversity.qzv')\n",
    "beta_diversity_path = os.path.join(beta_path, 'beta-diversity.qza')\n",
    "beta_diversity_view_path = os.path.join(beta_path, 'beta-diversity.qzv')"
   ]
  },
  {
   "cell_type": "code",
   "execution_count": 6,
   "id": "601ae263",
   "metadata": {
    "ExecuteTime": {
     "end_time": "2022-09-29T20:54:14.829117Z",
     "start_time": "2022-09-29T20:54:14.818272Z"
    },
    "execution": {
     "iopub.execute_input": "2023-03-10T12:15:39.639123Z",
     "iopub.status.busy": "2023-03-10T12:15:39.638830Z",
     "iopub.status.idle": "2023-03-10T12:15:39.647456Z",
     "shell.execute_reply": "2023-03-10T12:15:39.646695Z"
    },
    "papermill": {
     "duration": 0.027631,
     "end_time": "2023-03-10T12:15:39.649530",
     "exception": false,
     "start_time": "2023-03-10T12:15:39.621899",
     "status": "completed"
    },
    "tags": []
   },
   "outputs": [],
   "source": [
    "def filter_and_collapse(tab, seqs, tax, meta, lvl, exclude=True, exclude_list='uncultured,unidentified,metagenome'):\n",
    "    from qiime2.plugins.taxa.methods import collapse\n",
    "    from qiime2.plugins.taxa.methods import filter_table\n",
    "    from qiime2.plugins.feature_table.methods import filter_seqs\n",
    "    from qiime2.plugins.feature_table.visualizers import summarize\n",
    "    \n",
    "    to_include = ('d', 'p', 'c', 'o', 'f', 'g', 's')[lvl-1]\n",
    "    to_include += '__'\n",
    "    to_exclude = exclude_list if exclude else None\n",
    "    \n",
    "    filtered_tabs = filter_table(\n",
    "        table=tab, \n",
    "        taxonomy=tax,\n",
    "        include=to_include,\n",
    "        exclude=to_exclude,\n",
    "        mode='contains').filtered_table\n",
    "    \n",
    "    filtered_seqs = filter_seqs(\n",
    "        data = seqs,\n",
    "        table = filtered_tabs,\n",
    "    ).filtered_data\n",
    "    \n",
    "    collapsed_table = collapse(table=filtered_tabs, taxonomy=tax, level=lvl).collapsed_table\n",
    "    collapsed_table_view = summarize(table=collapsed_table, sample_metadata=meta).visualization\n",
    "    \n",
    "    return collapsed_table, collapsed_table_view, filtered_seqs"
   ]
  },
  {
   "cell_type": "markdown",
   "id": "0999a1b2",
   "metadata": {
    "papermill": {
     "duration": 0.015857,
     "end_time": "2023-03-10T12:15:39.684523",
     "exception": false,
     "start_time": "2023-03-10T12:15:39.668666",
     "status": "completed"
    },
    "tags": []
   },
   "source": [
    "## Step execution\n",
    "\n",
    "### Load input files\n",
    "\n",
    "This Step import the QIIME2 `FeatureTable[Frequency]` Artifact and the `Metadata` file."
   ]
  },
  {
   "cell_type": "code",
   "execution_count": 7,
   "id": "8f299d1a",
   "metadata": {
    "ExecuteTime": {
     "end_time": "2022-09-29T20:54:15.559837Z",
     "start_time": "2022-09-29T20:54:14.830405Z"
    },
    "execution": {
     "iopub.execute_input": "2023-03-10T12:15:39.718435Z",
     "iopub.status.busy": "2023-03-10T12:15:39.717871Z",
     "iopub.status.idle": "2023-03-10T12:15:40.662223Z",
     "shell.execute_reply": "2023-03-10T12:15:40.661561Z"
    },
    "papermill": {
     "duration": 0.963578,
     "end_time": "2023-03-10T12:15:40.664102",
     "exception": false,
     "start_time": "2023-03-10T12:15:39.700524",
     "status": "completed"
    },
    "tags": []
   },
   "outputs": [],
   "source": [
    "#Load Metadata\n",
    "metadata_qa = Metadata.load(metadata_file)\n",
    "\n",
    "#Load FeatureTable[Frequency]\n",
    "tabs = Artifact.load(dada2_tabs_path)\n",
    "tabs_df = tabs.view(Metadata).to_dataframe().T\n",
    "\n",
    "# FeatureData[Sequence]\n",
    "reps = Artifact.load(dada2_reps_path)\n",
    "\n",
    "# FeatureData[Taxonomy]\n",
    "tax = Artifact.load(taxonomy_path)"
   ]
  },
  {
   "cell_type": "code",
   "execution_count": 8,
   "id": "c8dfe530",
   "metadata": {
    "ExecuteTime": {
     "end_time": "2022-09-29T20:54:15.564968Z",
     "start_time": "2022-09-29T20:54:15.561875Z"
    },
    "execution": {
     "iopub.execute_input": "2023-03-10T12:15:40.697916Z",
     "iopub.status.busy": "2023-03-10T12:15:40.697691Z",
     "iopub.status.idle": "2023-03-10T12:15:40.700817Z",
     "shell.execute_reply": "2023-03-10T12:15:40.700293Z"
    },
    "papermill": {
     "duration": 0.021653,
     "end_time": "2023-03-10T12:15:40.702308",
     "exception": false,
     "start_time": "2023-03-10T12:15:40.680655",
     "status": "completed"
    },
    "tags": []
   },
   "outputs": [],
   "source": [
    "# lvl = 7\n",
    "# exclude = True\n",
    "# tabs, collapsed_table_view, reps = filter_and_collapse(\n",
    "#                     tabs, reps, tax, metadata_qa, \n",
    "#                     lvl=lvl,\n",
    "#                     exclude=exclude, \n",
    "#                     exclude_list='uncultured,unidentified,metagenome')\n",
    "# collapsed_table_view"
   ]
  },
  {
   "cell_type": "markdown",
   "id": "9f43843a",
   "metadata": {
    "ExecuteTime": {
     "end_time": "2022-09-22T22:48:07.523952Z",
     "start_time": "2022-09-22T22:48:07.517565Z"
    },
    "papermill": {
     "duration": 0.01635,
     "end_time": "2023-03-10T12:15:40.735153",
     "exception": false,
     "start_time": "2023-03-10T12:15:40.718803",
     "status": "completed"
    },
    "tags": []
   },
   "source": [
    "## Alpha diversity analysis\n",
    "\n",
    "#### Reference\n",
    "- [The Use and Types of Alpha-Diversity Metrics in Microbial NGS](https://www.cd-genomics.com/microbioseq/the-use-and-types-of-alpha-diversity-metrics-in-microbial-ngs.html)\n",
    "- [Alpha diversity metrics](http://scikit-bio.org/docs/0.2.0/generated/skbio.diversity.alpha.html)\n",
    "\n",
    "#### Methods\n",
    "- [diversity alpha](https://docs.qiime2.org/2022.8/plugins/available/diversity/alpha/): Computes a user-specified alpha diversity metric for all samples in a\n",
    "feature table.\n",
    "- [diversity alpha_phylogenetic](https://docs.qiime2.org/2022.8/plugins/available/diversity/alpha-phylogenetic/): Computes a user-specified phylogenetic alpha diversity metric for all\n",
    "samples in a feature table.\n",
    "- [diversity alpha_correlation](https://docs.qiime2.org/2022.8/plugins/available/diversity/alpha-correlation/): Determine whether numeric sample metadata columns are correlated with alpha diversity.\n",
    "- [diversity alpha_group_significance](https://docs.qiime2.org/2022.8/plugins/available/diversity/alpha-group-significance/): Visually and statistically compare groups of alpha diversity values."
   ]
  },
  {
   "cell_type": "markdown",
   "id": "606b9c75",
   "metadata": {
    "papermill": {
     "duration": 0.01634,
     "end_time": "2023-03-10T12:15:40.767828",
     "exception": false,
     "start_time": "2023-03-10T12:15:40.751488",
     "status": "completed"
    },
    "tags": []
   },
   "source": [
    "### Compute Alpha Diversity vectors\n",
    "- [diversity alpha](https://docs.qiime2.org/2022.8/plugins/available/diversity/alpha/): Computes a user-specified alpha diversity metric for all samples in a feature table.\n",
    "- [Alpha diversity metrics](http://scikit-bio.org/docs/0.2.0/generated/skbio.diversity.alpha.html)\n",
    " - Choices: ('ace', 'berger_parker_d', 'brillouin_d', 'chao1', 'chao1_ci', 'dominance', 'doubles', 'enspie', 'esty_ci', 'fisher_alpha', 'gini_index', 'goods_coverage', 'heip_e', 'kempton_taylor_q', 'lladser_pe', 'margalef', 'mcintosh_d', 'mcintosh_e', 'menhinick', 'michaelis_menten_fit', 'observed_features', 'osd', 'pielou_e', 'robbins', 'shannon', 'simpson', 'simpson_e', 'singles', 'strong')"
   ]
  },
  {
   "cell_type": "code",
   "execution_count": 9,
   "id": "556e5264",
   "metadata": {
    "ExecuteTime": {
     "end_time": "2022-09-29T20:54:20.790166Z",
     "start_time": "2022-09-29T20:54:20.451134Z"
    },
    "execution": {
     "iopub.execute_input": "2023-03-10T12:15:40.801467Z",
     "iopub.status.busy": "2023-03-10T12:15:40.801242Z",
     "iopub.status.idle": "2023-03-10T12:27:41.170691Z",
     "shell.execute_reply": "2023-03-10T12:27:41.169587Z"
    },
    "papermill": {
     "duration": 720.388158,
     "end_time": "2023-03-10T12:27:41.172272",
     "exception": false,
     "start_time": "2023-03-10T12:15:40.784114",
     "status": "completed"
    },
    "tags": []
   },
   "outputs": [
    {
     "name": "stdout",
     "output_type": "stream",
     "text": [
      "Calculating alpha diversity: ace\n",
      "ERROR: Calculating alpha diversity: ace\n",
      "index 1 is out of bounds for axis 0 with size 1\n",
      "Calculating alpha diversity: berger_parker_d\n",
      "DONE: Calculating alpha diversity: berger_parker_d\n",
      "Calculating alpha diversity: brillouin_d\n"
     ]
    },
    {
     "name": "stderr",
     "output_type": "stream",
     "text": [
      "/home/lauro/anaconda3/envs/qiime2-2022.2/lib/python3.8/site-packages/skbio/diversity/alpha/_base.py:55: RuntimeWarning: invalid value encountered in long_scalars\n",
      "  return counts.max() / counts.sum()\n",
      "/home/lauro/anaconda3/envs/qiime2-2022.2/lib/python3.8/site-packages/skbio/diversity/alpha/_base.py:95: RuntimeWarning: invalid value encountered in double_scalars\n",
      "  return (gammaln(n + 1) - gammaln(nz + 1).sum()) / n\n"
     ]
    },
    {
     "name": "stdout",
     "output_type": "stream",
     "text": [
      "DONE: Calculating alpha diversity: brillouin_d\n",
      "Calculating alpha diversity: chao1\n",
      "DONE: Calculating alpha diversity: chao1\n",
      "Calculating alpha diversity: chao1_ci\n"
     ]
    },
    {
     "name": "stderr",
     "output_type": "stream",
     "text": [
      "/home/lauro/anaconda3/envs/qiime2-2022.2/lib/python3.8/site-packages/skbio/diversity/alpha/_chao1.py:217: RuntimeWarning: invalid value encountered in long_scalars\n",
      "  P = np.exp(-n / s)\n",
      "/home/lauro/anaconda3/envs/qiime2-2022.2/lib/python3.8/site-packages/skbio/diversity/alpha/_base.py:138: RuntimeWarning: invalid value encountered in true_divide\n",
      "  freqs = counts / counts.sum()\n"
     ]
    },
    {
     "name": "stdout",
     "output_type": "stream",
     "text": [
      "DONE: Calculating alpha diversity: chao1_ci\n",
      "Calculating alpha diversity: dominance\n",
      "DONE: Calculating alpha diversity: dominance\n",
      "Calculating alpha diversity: doubles\n",
      "DONE: Calculating alpha diversity: doubles\n",
      "Calculating alpha diversity: enspie\n",
      "DONE: Calculating alpha diversity: enspie\n",
      "Calculating alpha diversity: esty_ci\n"
     ]
    },
    {
     "name": "stderr",
     "output_type": "stream",
     "text": [
      "/home/lauro/anaconda3/envs/qiime2-2022.2/lib/python3.8/site-packages/skbio/diversity/alpha/_base.py:253: RuntimeWarning: invalid value encountered in long_scalars\n",
      "  W = (f1 * (n - f1) + 2 * n * f2) / (n ** 3)\n",
      "/home/lauro/anaconda3/envs/qiime2-2022.2/lib/python3.8/site-packages/skbio/diversity/alpha/_base.py:255: RuntimeWarning: invalid value encountered in long_scalars\n",
      "  return f1 / n - z * np.sqrt(W), f1 / n + z * np.sqrt(W)\n",
      "/home/lauro/anaconda3/envs/qiime2-2022.2/lib/python3.8/site-packages/skbio/diversity/alpha/_gini.py:95: RuntimeWarning: invalid value encountered in true_divide\n",
      "  return np.arange(1, n + 1) / n, sorted_data.cumsum() / Sn\n"
     ]
    },
    {
     "name": "stdout",
     "output_type": "stream",
     "text": [
      "DONE: Calculating alpha diversity: esty_ci\n",
      "Calculating alpha diversity: fisher_alpha\n",
      "DONE: Calculating alpha diversity: fisher_alpha\n",
      "Calculating alpha diversity: gini_index\n",
      "DONE: Calculating alpha diversity: gini_index\n",
      "Calculating alpha diversity: goods_coverage\n"
     ]
    },
    {
     "name": "stderr",
     "output_type": "stream",
     "text": [
      "/home/lauro/anaconda3/envs/qiime2-2022.2/lib/python3.8/site-packages/skbio/diversity/alpha/_base.py:347: RuntimeWarning: invalid value encountered in long_scalars\n",
      "  return 1 - (f1 / N)\n",
      "/home/lauro/anaconda3/envs/qiime2-2022.2/lib/python3.8/site-packages/skbio/diversity/alpha/_base.py:869: RuntimeWarning: invalid value encountered in true_divide\n",
      "  freqs = counts / counts.sum()\n",
      "/home/lauro/anaconda3/envs/qiime2-2022.2/lib/python3.8/site-packages/skbio/diversity/alpha/_base.py:440: RuntimeWarning: invalid value encountered in long_scalars\n",
      "  return (upper - lower) / np.log(sorted_counts[upper] /\n"
     ]
    },
    {
     "name": "stdout",
     "output_type": "stream",
     "text": [
      "DONE: Calculating alpha diversity: goods_coverage\n",
      "Calculating alpha diversity: heip_e\n",
      "DONE: Calculating alpha diversity: heip_e\n",
      "Calculating alpha diversity: kempton_taylor_q\n",
      "DONE: Calculating alpha diversity: kempton_taylor_q\n",
      "Calculating alpha diversity: lladser_pe\n"
     ]
    },
    {
     "name": "stdout",
     "output_type": "stream",
     "text": [
      "DONE: Calculating alpha diversity: lladser_pe\n",
      "Calculating alpha diversity: margalef\n",
      "DONE: Calculating alpha diversity: margalef\n",
      "Calculating alpha diversity: mcintosh_d\n",
      "DONE: Calculating alpha diversity: mcintosh_d\n",
      "Calculating alpha diversity: mcintosh_e\n",
      "DONE: Calculating alpha diversity: mcintosh_e\n",
      "Calculating alpha diversity: menhinick\n"
     ]
    },
    {
     "name": "stderr",
     "output_type": "stream",
     "text": [
      "/home/lauro/anaconda3/envs/qiime2-2022.2/lib/python3.8/site-packages/skbio/diversity/alpha/_base.py:480: RuntimeWarning: divide by zero encountered in log\n",
      "  return (observed_otus(counts) - 1) / np.log(counts.sum())\n",
      "/home/lauro/anaconda3/envs/qiime2-2022.2/lib/python3.8/site-packages/skbio/diversity/alpha/_base.py:532: RuntimeWarning: invalid value encountered in double_scalars\n",
      "  return (n - u) / (n - np.sqrt(n))\n",
      "/home/lauro/anaconda3/envs/qiime2-2022.2/lib/python3.8/site-packages/skbio/diversity/alpha/_base.py:579: RuntimeWarning: invalid value encountered in double_scalars\n",
      "  return numerator / denominator\n",
      "/home/lauro/anaconda3/envs/qiime2-2022.2/lib/python3.8/site-packages/skbio/diversity/alpha/_base.py:618: RuntimeWarning: invalid value encountered in true_divide\n",
      "  return observed_otus(counts) / np.sqrt(counts.sum())\n"
     ]
    },
    {
     "name": "stdout",
     "output_type": "stream",
     "text": [
      "DONE: Calculating alpha diversity: menhinick\n",
      "Calculating alpha diversity: michaelis_menten_fit\n"
     ]
    },
    {
     "name": "stdout",
     "output_type": "stream",
     "text": [
      "DONE: Calculating alpha diversity: michaelis_menten_fit\n",
      "Calculating alpha diversity: observed_features\n",
      "DONE: Calculating alpha diversity: observed_features\n",
      "Calculating alpha diversity: osd\n",
      "DONE: Calculating alpha diversity: osd\n",
      "Calculating alpha diversity: pielou_e\n",
      "DONE: Calculating alpha diversity: pielou_e\n",
      "Calculating alpha diversity: robbins\n"
     ]
    },
    {
     "name": "stderr",
     "output_type": "stream",
     "text": [
      "/home/lauro/anaconda3/envs/qiime2-2022.2/lib/python3.8/site-packages/skbio/diversity/alpha/_base.py:793: RuntimeWarning: divide by zero encountered in log\n",
      "  return shannon(counts, base=np.e) / np.log(observed_otus(counts))\n",
      "/home/lauro/anaconda3/envs/qiime2-2022.2/lib/python3.8/site-packages/skbio/diversity/alpha/_base.py:829: RuntimeWarning: invalid value encountered in long_scalars\n",
      "  return singles(counts) / counts.sum()\n"
     ]
    },
    {
     "name": "stdout",
     "output_type": "stream",
     "text": [
      "DONE: Calculating alpha diversity: robbins\n",
      "Calculating alpha diversity: shannon\n",
      "DONE: Calculating alpha diversity: shannon\n",
      "Calculating alpha diversity: simpson\n",
      "DONE: Calculating alpha diversity: simpson\n",
      "Calculating alpha diversity: simpson_e\n",
      "DONE: Calculating alpha diversity: simpson_e\n",
      "Calculating alpha diversity: singles\n"
     ]
    },
    {
     "name": "stdout",
     "output_type": "stream",
     "text": [
      "DONE: Calculating alpha diversity: singles\n",
      "Calculating alpha diversity: strong\n",
      "DONE: Calculating alpha diversity: strong\n"
     ]
    },
    {
     "name": "stderr",
     "output_type": "stream",
     "text": [
      "/home/lauro/anaconda3/envs/qiime2-2022.2/lib/python3.8/site-packages/skbio/diversity/alpha/_base.py:1021: RuntimeWarning: invalid value encountered in true_divide\n",
      "  return (sorted_sum / n - (i / s)).max()\n",
      "/home/lauro/anaconda3/envs/qiime2-2022.2/lib/python3.8/site-packages/skbio/diversity/alpha/_base.py:1021: RuntimeWarning: divide by zero encountered in true_divide\n",
      "  return (sorted_sum / n - (i / s)).max()\n"
     ]
    }
   ],
   "source": [
    "metrics = ('ace', 'berger_parker_d', 'brillouin_d', 'chao1', 'chao1_ci', 'dominance', 'doubles', 'enspie', 'esty_ci', 'fisher_alpha', 'gini_index', 'goods_coverage', 'heip_e', 'kempton_taylor_q', 'lladser_pe', 'margalef', 'mcintosh_d', 'mcintosh_e', 'menhinick', 'michaelis_menten_fit', 'observed_features', 'osd', 'pielou_e', 'robbins', 'shannon', 'simpson', 'simpson_e', 'singles', 'strong')\n",
    "alpha_diversities = dict()\n",
    "for metric in metrics:\n",
    "    print(f\"Calculating alpha diversity: {metric}\")\n",
    "    try:\n",
    "        alpha_diversity = alpha(table=tabs, metric=metric).alpha_diversity\n",
    "        alpha_diversities[metric] = alpha_diversity\n",
    "        # Save SampleData[AlphaDiversity] Artifact\n",
    "        file_path = os.path.join(alpha_path, f'alpha-values-{metric}.qza')\n",
    "        alpha_diversity.save(file_path)\n",
    "        print(f\"DONE: Calculating alpha diversity: {metric}\")\n",
    "    except Exception as e:\n",
    "        print(f\"ERROR: Calculating alpha diversity: {metric}\")\n",
    "        print(e)"
   ]
  },
  {
   "cell_type": "markdown",
   "id": "184bcb7b",
   "metadata": {
    "papermill": {
     "duration": 0.017846,
     "end_time": "2023-03-10T12:27:41.209177",
     "exception": false,
     "start_time": "2023-03-10T12:27:41.191331",
     "status": "completed"
    },
    "tags": []
   },
   "source": [
    "### Create Phylogenetic inference\n",
    "\n",
    "- [alignment align_to_tree_mafft_fasttree](https://docs.qiime2.org/2022.8/plugins/available/phylogeny/align-to-tree-mafft-fasttree/): Build a phylogenetic tree using fasttree and mafft alignment\n",
    "\n",
    "This pipeline will start by creating a sequence alignment using MAFFT,\n",
    "after which any alignment columns that are phylogenetically uninformative\n",
    "or ambiguously aligned will be removed (masked). The resulting masked\n",
    "alignment will be used to infer a phylogenetic tree and then subsequently\n",
    "rooted at its midpoint. Output files from each step of the pipeline will be\n",
    "saved. This includes both the unmasked and masked MAFFT alignment from\n",
    "q2-alignment methods, and both the rooted and unrooted phylogenies from\n",
    "q2-phylogeny methods.\n",
    "\n",
    "\n",
    "Returns\n",
    "- alignment : FeatureData[AlignedSequence] : The aligned sequences.\n",
    "- masked_alignment : FeatureData[AlignedSequence] : The masked alignment.\n",
    "- tree : Phylogeny[Unrooted] : The unrooted phylogenetic tree.\n",
    "- rooted_tree : Phylogeny[Rooted] : The rooted phylogenetic tree."
   ]
  },
  {
   "cell_type": "code",
   "execution_count": 10,
   "id": "9c8cfe47",
   "metadata": {
    "ExecuteTime": {
     "end_time": "2022-09-29T20:54:35.139531Z",
     "start_time": "2022-09-29T20:54:20.792130Z"
    },
    "execution": {
     "iopub.execute_input": "2023-03-10T12:27:41.246893Z",
     "iopub.status.busy": "2023-03-10T12:27:41.246313Z",
     "iopub.status.idle": "2023-03-10T12:28:11.600375Z",
     "shell.execute_reply": "2023-03-10T12:28:11.599797Z"
    },
    "papermill": {
     "duration": 30.376206,
     "end_time": "2023-03-10T12:28:11.603380",
     "exception": false,
     "start_time": "2023-03-10T12:27:41.227174",
     "status": "completed"
    },
    "tags": []
   },
   "outputs": [
    {
     "name": "stdout",
     "output_type": "stream",
     "text": [
      "Running external command line application. This may print messages to stdout and/or stderr.\n",
      "The command being run is below. This command cannot be manually re-run as it will depend on temporary files that no longer exist.\n",
      "\n",
      "Command: mafft --preservecase --inputorder --thread 6 /tmp/qiime2-archive-ek6nqn2t/13d02254-ae40-454f-83ff-29cf80d39c56/data/dna-sequences.fasta\n",
      "\n"
     ]
    },
    {
     "name": "stderr",
     "output_type": "stream",
     "text": [
      "inputfile = orig\n",
      "1651 x 453 - 24 d\n",
      "nthread = 6\n",
      "nthreadpair = 6\n",
      "nthreadtb = 6\n",
      "ppenalty_ex = 0\n",
      "stacksize: 8192 kb\n",
      "generating a scoring matrix for nucleotide (dist=200) ... done\n",
      "Gap Penalty = -1.53, +0.00, +0.00\n",
      "\n",
      "\n",
      "\n",
      "Making a distance matrix ..\n",
      "\r",
      "    1 / 1651 (thread    0)\r",
      "  101 / 1651 (thread    4)\r",
      "  201 / 1651 (thread    4)"
     ]
    },
    {
     "name": "stderr",
     "output_type": "stream",
     "text": [
      "\r",
      "  301 / 1651 (thread    5)\r",
      "  401 / 1651 (thread    5)\r",
      "  501 / 1651 (thread    2)\r",
      "  601 / 1651 (thread    5)\r",
      "  701 / 1651 (thread    2)\r",
      "  801 / 1651 (thread    2)\r",
      "  901 / 1651 (thread    5)\r",
      " 1001 / 1651 (thread    1)"
     ]
    },
    {
     "name": "stderr",
     "output_type": "stream",
     "text": [
      "\r",
      " 1101 / 1651 (thread    4)\r",
      " 1201 / 1651 (thread    4)\r",
      " 1301 / 1651 (thread    4)\r",
      " 1401 / 1651 (thread    2)\r",
      " 1501 / 1651 (thread    5)\r",
      " 1601 / 1651 (thread    5)\n",
      "done.\n",
      "\n",
      "Constructing a UPGMA tree (efffree=0) ... \n",
      "\r",
      "    0 / 1651\r",
      "   10 / 1651\r",
      "   20 / 1651\r",
      "   30 / 1651\r",
      "   40 / 1651\r",
      "   50 / 1651\r",
      "   60 / 1651\r",
      "   70 / 1651\r",
      "   80 / 1651\r",
      "   90 / 1651\r",
      "  100 / 1651\r",
      "  110 / 1651\r",
      "  120 / 1651\r",
      "  130 / 1651\r",
      "  140 / 1651\r",
      "  150 / 1651\r",
      "  160 / 1651\r",
      "  170 / 1651\r",
      "  180 / 1651\r",
      "  190 / 1651\r",
      "  200 / 1651\r",
      "  210 / 1651\r",
      "  220 / 1651\r",
      "  230 / 1651\r",
      "  240 / 1651\r",
      "  250 / 1651\r",
      "  260 / 1651\r",
      "  270 / 1651\r",
      "  280 / 1651\r",
      "  290 / 1651\r",
      "  300 / 1651\r",
      "  310 / 1651\r",
      "  320 / 1651\r",
      "  330 / 1651\r",
      "  340 / 1651\r",
      "  350 / 1651\r",
      "  360 / 1651\r",
      "  370 / 1651\r",
      "  380 / 1651\r",
      "  390 / 1651\r",
      "  400 / 1651\r",
      "  410 / 1651\r",
      "  420 / 1651\r",
      "  430 / 1651\r",
      "  440 / 1651\r",
      "  450 / 1651\r",
      "  460 / 1651\r",
      "  470 / 1651\r",
      "  480 / 1651\r",
      "  490 / 1651\r",
      "  500 / 1651\r",
      "  510 / 1651\r",
      "  520 / 1651\r",
      "  530 / 1651\r",
      "  540 / 1651\r",
      "  550 / 1651\r",
      "  560 / 1651\r",
      "  570 / 1651\r",
      "  580 / 1651\r",
      "  590 / 1651\r",
      "  600 / 1651\r",
      "  610 / 1651\r",
      "  620 / 1651\r",
      "  630 / 1651\r",
      "  640 / 1651\r",
      "  650 / 1651\r",
      "  660 / 1651\r",
      "  670 / 1651\r",
      "  680 / 1651\r",
      "  690 / 1651\r",
      "  700 / 1651\r",
      "  710 / 1651\r",
      "  720 / 1651\r",
      "  730 / 1651\r",
      "  740 / 1651\r",
      "  750 / 1651\r",
      "  760 / 1651\r",
      "  770 / 1651\r",
      "  780 / 1651\r",
      "  790 / 1651\r",
      "  800 / 1651\r",
      "  810 / 1651\r",
      "  820 / 1651\r",
      "  830 / 1651\r",
      "  840 / 1651\r",
      "  850 / 1651\r",
      "  860 / 1651\r",
      "  870 / 1651\r",
      "  880 / 1651\r",
      "  890 / 1651\r",
      "  900 / 1651\r",
      "  910 / 1651\r",
      "  920 / 1651\r",
      "  930 / 1651\r",
      "  940 / 1651\r",
      "  950 / 1651\r",
      "  960 / 1651\r",
      "  970 / 1651\r",
      "  980 / 1651\r",
      "  990 / 1651\r",
      " 1000 / 1651\r",
      " 1010 / 1651\r",
      " 1020 / 1651\r",
      " 1030 / 1651\r",
      " 1040 / 1651\r",
      " 1050 / 1651\r",
      " 1060 / 1651\r",
      " 1070 / 1651\r",
      " 1080 / 1651\r",
      " 1090 / 1651\r",
      " 1100 / 1651\r",
      " 1110 / 1651\r",
      " 1120 / 1651\r",
      " 1130 / 1651\r",
      " 1140 / 1651\r",
      " 1150 / 1651\r",
      " 1160 / 1651\r",
      " 1170 / 1651\r",
      " 1180 / 1651\r",
      " 1190 / 1651\r",
      " 1200 / 1651\r",
      " 1210 / 1651\r",
      " 1220 / 1651\r",
      " 1230 / 1651\r",
      " 1240 / 1651\r",
      " 1250 / 1651\r",
      " 1260 / 1651\r",
      " 1270 / 1651\r",
      " 1280 / 1651\r",
      " 1290 / 1651\r",
      " 1300 / 1651\r",
      " 1310 / 1651\r",
      " 1320 / 1651\r",
      " 1330 / 1651\r",
      " 1340 / 1651\r",
      " 1350 / 1651\r",
      " 1360 / 1651\r",
      " 1370 / 1651\r",
      " 1380 / 1651\r",
      " 1390 / 1651\r",
      " 1400 / 1651\r",
      " 1410 / 1651\r",
      " 1420 / 1651\r",
      " 1430 / 1651\r",
      " 1440 / 1651\r",
      " 1450 / 1651\r",
      " 1460 / 1651\r",
      " 1470 / 1651\r",
      " 1480 / 1651\r",
      " 1490 / 1651\r",
      " 1500 / 1651\r",
      " 1510 / 1651\r",
      " 1520 / 1651\r",
      " 1530 / 1651\r",
      " 1540 / 1651\r",
      " 1550 / 1651\r",
      " 1560 / 1651\r",
      " 1570 / 1651\r",
      " 1580 / 1651\r",
      " 1590 / 1651\r",
      " 1600 / 1651\r",
      " 1610 / 1651\r",
      " 1620 / 1651\r",
      " 1630 / 1651\r",
      " 1640 / 1651\n",
      "done.\n",
      "\n",
      "Progressive alignment 1/2... \n",
      "\r",
      "STEP     1 / 1650 (thread    1)\r",
      "STEP     2 / 1650 (thread    3) f\b\b f\b\b\r",
      "STEP     5 / 1650 (thread    0) f\b\b\r",
      "STEP     6 / 1650 (thread    5) f\b\b\r",
      "STEP     7 / 1650 (thread    1) f\b\b\r",
      "STEP     3 / 1650 (thread    2) f\b\b\r",
      "STEP     8 / 1650 (thread    3) f\b\b\r",
      "STEP     9 / 1650 (thread    3) f\b\b\r",
      "STEP    10 / 1650 (thread    0) f\b\b\r",
      "STEP    11 / 1650 (thread    0) f\b\b\r",
      "STEP    12 / 1650 (thread    3) f\b\b\r",
      "STEP    13 / 1650 (thread    5) f\b\b\r",
      "STEP    14 / 1650 (thread    2) f\b\b\r",
      "STEP    16 / 1650 (thread    3) f\b\b\r",
      "STEP    17 / 1650 (thread    0) f\b\b\r",
      "STEP     4 / 1650 (thread    4) f\b\b\r",
      "STEP    18 / 1650 (thread    0) f\b\b\r",
      "STEP    19 / 1650 (thread    2) f\b\b\r",
      "STEP    15 / 1650 (thread    1) f\b\b\r",
      "STEP    22 / 1650 (thread    0) f\b\b\r",
      "STEP    23 / 1650 (thread    0) f\b\b\r",
      "STEP    24 / 1650 (thread    4) f\b\b\r",
      "STEP    20 / 1650 (thread    3) f\b\b\r",
      "STEP    26 / 1650 (thread    0) f\b\b\r",
      "STEP    27 / 1650 (thread    0) f\b\b\r",
      "STEP    29 / 1650 (thread    4) f\b\b\r",
      "STEP    25 / 1650 (thread    2) f\b\b\r",
      "STEP    30 / 1650 (thread    3) f\b\b\r",
      "STEP    21 / 1650 (thread    5) f\b\b\r",
      "STEP    32 / 1650 (thread    3) f\b\b\r",
      "STEP    31 / 1650 (thread    4) f\b\b\r",
      "STEP    28 / 1650 (thread    1) f\b\b\r",
      "STEP    35 / 1650 (thread    3) f\b\b\r",
      "STEP    33 / 1650 (thread    2) f\b\b\r",
      "STEP    36 / 1650 (thread    3) f\b\b\r",
      "STEP    38 / 1650 (thread    3) f\b\b\r",
      "STEP    37 / 1650 (thread    4) f\b\b\r",
      "STEP    39 / 1650 (thread    3) f\b\b\r",
      "STEP    40 / 1650 (thread    4) f\b\b\r",
      "STEP    42 / 1650 (thread    5) f\b\b\r",
      "STEP    41 / 1650 (thread    3) f\b\b\r",
      "STEP    44 / 1650 (thread    5) f\b\b\r",
      "STEP    43 / 1650 (thread    4) f\b\b\r",
      "STEP    45 / 1650 (thread    5) f\b\b\r",
      "STEP    46 / 1650 (thread    1) f\b\b\r",
      "STEP    47 / 1650 (thread    2)\r",
      "STEP    34 / 1650 (thread    0) f\b\b f\b\b\r",
      "STEP    48 / 1650 (thread    5) f\b\b\r",
      "STEP    49 / 1650 (thread    1) f\b\b\r",
      "STEP    53 / 1650 (thread    5) f\b\b\r",
      "STEP    54 / 1650 (thread    5) f\b\b\r",
      "STEP    56 / 1650 (thread    1) f\b\b\r",
      "STEP    50 / 1650 (thread    0) f\b\b\r",
      "STEP    57 / 1650 (thread    5) f\b\b\r",
      "STEP    55 / 1650 (thread    4) f\b\b\r",
      "STEP    58 / 1650 (thread    1) f\b\b\r",
      "STEP    59 / 1650 (thread    5) f\b\b\r",
      "STEP    51 / 1650 (thread    2) f\b\b\r",
      "STEP    62 / 1650 (thread    1) f\b\b\r",
      "STEP    60 / 1650 (thread    0) f\b\b\r",
      "STEP    64 / 1650 (thread    2) f\b\b\r",
      "STEP    52 / 1650 (thread    3) f\b\b\r",
      "STEP    63 / 1650 (thread    5) f\b\b\r",
      "STEP    66 / 1650 (thread    2)\r",
      "STEP    65 / 1650 (thread    1) f\b\b f\b\b\r",
      "STEP    68 / 1650 (thread    2) f\b\b\r",
      "STEP    67 / 1650 (thread    5) f\b\b\r",
      "STEP    69 / 1650 (thread    0)\r",
      "STEP    61 / 1650 (thread    4) f\b\b f\b\b\r",
      "STEP    70 / 1650 (thread    2) f\b\b\r",
      "STEP    71 / 1650 (thread    5) f\b\b\r",
      "STEP    72 / 1650 (thread    3) f\b\b\r",
      "STEP    73 / 1650 (thread    3) f\b\b\r",
      "STEP    74 / 1650 (thread    3) f\b\b\r",
      "STEP    75 / 1650 (thread    0) f\b\b\r",
      "STEP    76 / 1650 (thread    2) f\b\b\r",
      "STEP    77 / 1650 (thread    5) f\b\b\r",
      "STEP    80 / 1650 (thread    3) f\b\b\r",
      "STEP    82 / 1650 (thread    3) f\b\b\r",
      "STEP    81 / 1650 (thread    0) f\b\b\r",
      "STEP    84 / 1650 (thread    5) f\b\b\r",
      "STEP    78 / 1650 (thread    2) f\b\b\r",
      "STEP    85 / 1650 (thread    5) f\b\b\r",
      "STEP    83 / 1650 (thread    1) f\b\b\r",
      "STEP    86 / 1650 (thread    3) f\b\b\r",
      "STEP    88 / 1650 (thread    2) f\b\b\r",
      "STEP    79 / 1650 (thread    4) f\b\b\r",
      "STEP    89 / 1650 (thread    2) f\b\b\r",
      "STEP    90 / 1650 (thread    2) f\b\b\r",
      "STEP    91 / 1650 (thread    2) f\b\b\r",
      "STEP    92 / 1650 (thread    3) f\b\b\r",
      "STEP    87 / 1650 (thread    5) f\b\b\r",
      "STEP    93 / 1650 (thread    1) f\b\b\r",
      "STEP    94 / 1650 (thread    1) f\b\b\r",
      "STEP    95 / 1650 (thread    2) f\b\b\r",
      "STEP    96 / 1650 (thread    3) f\b\b\r",
      "STEP    97 / 1650 (thread    3) f\b\b\r",
      "STEP    99 / 1650 (thread    1) f\b\b\r",
      "STEP   100 / 1650 (thread    5) f\b\b\r",
      "STEP   101 / 1650 (thread    3) f\b\b\r",
      "STEP    98 / 1650 (thread    2)\r",
      "STEP   102 / 1650 (thread    1) f\b\b f\b\b\r",
      "STEP   103 / 1650 (thread    1) f\b\b\r",
      "STEP   104 / 1650 (thread    3) f\b\b\r",
      "STEP   106 / 1650 (thread    5) f\b\b\r",
      "STEP   108 / 1650 (thread    1)\r",
      "STEP   105 / 1650 (thread    0) f\b\b f\b\b\r",
      "STEP   109 / 1650 (thread    5) f\b\b\r",
      "STEP   107 / 1650 (thread    3) f\b\b\r",
      "STEP   111 / 1650 (thread    5) f\b\b\r",
      "STEP   110 / 1650 (thread    1) f\b\b\r",
      "STEP   112 / 1650 (thread    5) f\b\b\r",
      "STEP   113 / 1650 (thread    4) f\b\b\r",
      "STEP   114 / 1650 (thread    3) f\b\b\r",
      "STEP   116 / 1650 (thread    1) f\b\b\r",
      "STEP   117 / 1650 (thread    2) f\b\b\r",
      "STEP   118 / 1650 (thread    3) f\b\b\r",
      "STEP   115 / 1650 (thread    5) f\b\b\r",
      "STEP   119 / 1650 (thread    4) f\b\b\r",
      "STEP   120 / 1650 (thread    0) f\b\b\r",
      "STEP   121 / 1650 (thread    4) f\b\b\r",
      "STEP   122 / 1650 (thread    2) f\b\b\r",
      "STEP   123 / 1650 (thread    4) f\b\b\r",
      "STEP   124 / 1650 (thread    1) f\b\b\r",
      "STEP   125 / 1650 (thread    3) f\b\b\r",
      "STEP   127 / 1650 (thread    4) f\b\b\r",
      "STEP   128 / 1650 (thread    0) f\b\b\r",
      "STEP   129 / 1650 (thread    3) f\b\b\r",
      "STEP   126 / 1650 (thread    2) f\b\b\r",
      "STEP   131 / 1650 (thread    3) f\b\b\r",
      "STEP   130 / 1650 (thread    4) f\b\b\r",
      "STEP   132 / 1650 (thread    1) f\b\b\r",
      "STEP   133 / 1650 (thread    5) f\b\b\r",
      "STEP   135 / 1650 (thread    3) f\b\b\r",
      "STEP   136 / 1650 (thread    5) f\b\b\r",
      "STEP   134 / 1650 (thread    0) f\b\b\r",
      "STEP   137 / 1650 (thread    1) f\b\b\r",
      "STEP   139 / 1650 (thread    5) f\b\b\r",
      "STEP   140 / 1650 (thread    2) f\b\b\r",
      "STEP   138 / 1650 (thread    3) f\b\b\r",
      "STEP   142 / 1650 (thread    5) f\b\b\r",
      "STEP   143 / 1650 (thread    5) f\b\b\r",
      "STEP   144 / 1650 (thread    0) f\b\b"
     ]
    },
    {
     "name": "stderr",
     "output_type": "stream",
     "text": [
      "\r",
      "STEP   145 / 1650 (thread    2) f\b\b\r",
      "STEP   141 / 1650 (thread    1) f\b\b\r",
      "STEP   146 / 1650 (thread    2) f\b\b\r",
      "STEP   147 / 1650 (thread    3) f\b\b\r",
      "STEP   148 / 1650 (thread    2) f\b\b\r",
      "STEP   149 / 1650 (thread    3) f\b\b\r",
      "STEP   150 / 1650 (thread    0) f\b\b\r",
      "STEP   151 / 1650 (thread    5) f\b\b\r",
      "STEP   152 / 1650 (thread    1) f\b\b\r",
      "STEP   153 / 1650 (thread    2) f\b\b\r",
      "STEP   154 / 1650 (thread    4) f\b\b\r",
      "STEP   155 / 1650 (thread    3) f\b\b\r",
      "STEP   156 / 1650 (thread    0) f\b\b\r",
      "STEP   157 / 1650 (thread    4) f\b\b\r",
      "STEP   158 / 1650 (thread    3) f\b\b\r",
      "STEP   159 / 1650 (thread    5) f\b\b\r",
      "STEP   160 / 1650 (thread    2) f\b\b\r",
      "STEP   161 / 1650 (thread    1) f\b\b\r",
      "STEP   162 / 1650 (thread    0) f\b\b\r",
      "STEP   163 / 1650 (thread    3) f\b\b\r",
      "STEP   164 / 1650 (thread    5) f\b\b\r",
      "STEP   165 / 1650 (thread    1) f\b\b\r",
      "STEP   166 / 1650 (thread    2) f\b\b\r",
      "STEP   167 / 1650 (thread    4) f\b\b\r",
      "STEP   168 / 1650 (thread    0) f\b\b\r",
      "STEP   169 / 1650 (thread    3) f\b\b\r",
      "STEP   170 / 1650 (thread    5) f\b\b\r",
      "STEP   171 / 1650 (thread    2) f\b\b\r",
      "STEP   172 / 1650 (thread    1) f\b\b\r",
      "STEP   173 / 1650 (thread    0) f\b\b\r",
      "STEP   174 / 1650 (thread    4) f\b\b\r",
      "STEP   175 / 1650 (thread    3) f\b\b\r",
      "STEP   176 / 1650 (thread    2) f\b\b\r",
      "STEP   177 / 1650 (thread    0) f\b\b\r",
      "STEP   178 / 1650 (thread    2) f\b\b\r",
      "STEP   179 / 1650 (thread    3) f\b\b\r",
      "STEP   180 / 1650 (thread    0) f\b\b\r",
      "STEP   181 / 1650 (thread    5) f\b\b\r",
      "STEP   182 / 1650 (thread    2) f\b\b\r",
      "STEP   183 / 1650 (thread    1) f\b\b\r",
      "STEP   184 / 1650 (thread    4) f\b\b\r",
      "STEP   185 / 1650 (thread    0) f\b\b\r",
      "STEP   186 / 1650 (thread    3) f\b\b\r",
      "STEP   187 / 1650 (thread    0) f\b\b\r",
      "STEP   188 / 1650 (thread    5) f\b\b\r",
      "STEP   189 / 1650 (thread    3) f\b\b\r",
      "STEP   190 / 1650 (thread    0) f\b\b\r",
      "STEP   191 / 1650 (thread    2) f\b\b\r",
      "STEP   192 / 1650 (thread    3) f\b\b\r",
      "STEP   193 / 1650 (thread    0) f\b\b\r",
      "STEP   194 / 1650 (thread    4) f\b\b\r",
      "STEP   195 / 1650 (thread    1) f\b\b\r",
      "STEP   196 / 1650 (thread    2) f\b\b\r",
      "STEP   197 / 1650 (thread    3) f\b\b\r",
      "STEP   198 / 1650 (thread    5) f\b\b\r",
      "STEP   199 / 1650 (thread    0) f\b\b\r",
      "STEP   200 / 1650 (thread    2) f\b\b\r",
      "STEP   201 / 1650 (thread    3) f\b\b\r",
      "STEP   202 / 1650 (thread    4) f\b\b\r",
      "STEP   203 / 1650 (thread    1) f\b\b\r",
      "STEP   204 / 1650 (thread    3) f\b\b\r",
      "STEP   205 / 1650 (thread    2) f\b\b\r",
      "STEP   206 / 1650 (thread    0) f\b\b\r",
      "STEP   207 / 1650 (thread    5) f\b\b\r",
      "STEP   208 / 1650 (thread    1) f\b\b\r",
      "STEP   209 / 1650 (thread    3) f\b\b\r",
      "STEP   210 / 1650 (thread    4) f\b\b\r",
      "STEP   211 / 1650 (thread    3) f\b\b\r",
      "STEP   212 / 1650 (thread    0) f\b\b\r",
      "STEP   213 / 1650 (thread    5) f\b\b\r",
      "STEP   214 / 1650 (thread    2) f\b\b\r",
      "STEP   216 / 1650 (thread    4) f\b\b\r",
      "STEP   215 / 1650 (thread    1) f\b\b\r",
      "STEP   217 / 1650 (thread    0) f\b\b\r",
      "STEP   218 / 1650 (thread    3) f\b\b\r",
      "STEP   219 / 1650 (thread    2) f\b\b\r",
      "STEP   220 / 1650 (thread    5) f\b\b\r",
      "STEP   221 / 1650 (thread    0) f\b\b\r",
      "STEP   222 / 1650 (thread    1) f\b\b\r",
      "STEP   223 / 1650 (thread    4) f\b\b\r",
      "STEP   224 / 1650 (thread    3) f\b\b\r",
      "STEP   225 / 1650 (thread    0) f\b\b\r",
      "STEP   226 / 1650 (thread    5) f\b\b\r",
      "STEP   227 / 1650 (thread    4) f\b\b\r",
      "STEP   228 / 1650 (thread    3) f\b\b\r",
      "STEP   229 / 1650 (thread    0) f\b\b\r",
      "STEP   230 / 1650 (thread    1) f\b\b\r",
      "STEP   231 / 1650 (thread    2) f\b\b\r",
      "STEP   232 / 1650 (thread    0) f\b\b\r",
      "STEP   233 / 1650 (thread    3) f\b\b\r",
      "STEP   234 / 1650 (thread    4) f\b\b\r",
      "STEP   235 / 1650 (thread    0) f\b\b\r",
      "STEP   236 / 1650 (thread    5) f\b\b\r",
      "STEP   237 / 1650 (thread    3) f\b\b\r",
      "STEP   238 / 1650 (thread    0) f\b\b\r",
      "STEP   239 / 1650 (thread    3) f\b\b\r",
      "STEP   240 / 1650 (thread    1) f\b\b\r",
      "STEP   241 / 1650 (thread    5) f\b\b\r",
      "STEP   242 / 1650 (thread    3) f\b\b\r",
      "STEP   243 / 1650 (thread    2) f\b\b\r",
      "STEP   244 / 1650 (thread    0) f\b\b\r",
      "STEP   245 / 1650 (thread    4) f\b\b\r",
      "STEP   246 / 1650 (thread    5) f\b\b\r",
      "STEP   247 / 1650 (thread    3) f\b\b\r",
      "STEP   248 / 1650 (thread    0) f\b\b\r",
      "STEP   249 / 1650 (thread    2) f\b\b\r",
      "STEP   250 / 1650 (thread    3) f\b\b\r",
      "STEP   251 / 1650 (thread    0) f\b\b\r",
      "STEP   253 / 1650 (thread    2) f\b\b\r",
      "STEP   254 / 1650 (thread    0) f\b\b\r",
      "STEP   255 / 1650 (thread    3) f\b\b\r",
      "STEP   256 / 1650 (thread    4) f\b\b\r",
      "STEP   257 / 1650 (thread    5) f\b\b\r",
      "STEP   252 / 1650 (thread    1) f\b\b\r",
      "STEP   258 / 1650 (thread    0) f\b\b\r",
      "STEP   259 / 1650 (thread    2) f\b\b\r",
      "STEP   260 / 1650 (thread    4) f\b\b\r",
      "STEP   261 / 1650 (thread    5) f\b\b\r",
      "STEP   262 / 1650 (thread    0) f\b\b\r",
      "STEP   263 / 1650 (thread    2) f\b\b\r",
      "STEP   264 / 1650 (thread    5) f\b\b\r",
      "STEP   265 / 1650 (thread    3) f\b\b\r",
      "STEP   266 / 1650 (thread    0) f\b\b\r",
      "STEP   267 / 1650 (thread    1) f\b\b\r",
      "STEP   268 / 1650 (thread    2) f\b\b\r",
      "STEP   269 / 1650 (thread    5) f\b\b\r",
      "STEP   270 / 1650 (thread    0) f\b\b\r",
      "STEP   271 / 1650 (thread    3) f\b\b\r",
      "STEP   272 / 1650 (thread    1) f\b\b\r",
      "STEP   273 / 1650 (thread    5) f\b\b\r",
      "STEP   274 / 1650 (thread    0) f\b\b\r",
      "STEP   275 / 1650 (thread    2) f\b\b\r",
      "STEP   276 / 1650 (thread    1) f\b\b\r",
      "STEP   277 / 1650 (thread    5) f\b\b\r",
      "STEP   278 / 1650 (thread    0) f\b\b\r",
      "STEP   279 / 1650 (thread    4) f\b\b\r",
      "STEP   280 / 1650 (thread    2) f\b\b\r",
      "STEP   281 / 1650 (thread    1) f\b\b\r",
      "STEP   282 / 1650 (thread    0) f\b\b\r",
      "STEP   283 / 1650 (thread    5) f\b\b\r",
      "STEP   284 / 1650 (thread    4) f\b\b\r",
      "STEP   285 / 1650 (thread    2) f\b\b\r",
      "STEP   286 / 1650 (thread    0) f\b\b\r",
      "STEP   288 / 1650 (thread    1) f\b\b\r",
      "STEP   289 / 1650 (thread    0) f\b\b\r",
      "STEP   287 / 1650 (thread    5) f\b\b\r",
      "STEP   291 / 1650 (thread    2) f\b\b\r",
      "STEP   292 / 1650 (thread    1) f\b\b\r",
      "STEP   293 / 1650 (thread    3) f\b\b\r",
      "STEP   294 / 1650 (thread    0) f\b\b\r",
      "STEP   290 / 1650 (thread    4) f\b\b\r",
      "STEP   295 / 1650 (thread    2) f\b\b\r",
      "STEP   296 / 1650 (thread    1) f\b\b\r",
      "STEP   297 / 1650 (thread    0) f\b\b\r",
      "STEP   298 / 1650 (thread    5) f\b\b\r",
      "STEP   299 / 1650 (thread    3) f\b\b\r",
      "STEP   300 / 1650 (thread    2) f\b\b\r",
      "STEP   301 / 1650 (thread    0) f\b\b\r",
      "STEP   302 / 1650 (thread    1) f\b\b\r",
      "STEP   303 / 1650 (thread    5) f\b\b\r",
      "STEP   304 / 1650 (thread    3) f\b\b\r",
      "STEP   305 / 1650 (thread    4) f\b\b\r",
      "STEP   306 / 1650 (thread    0) f\b\b\r",
      "STEP   307 / 1650 (thread    2) f\b\b\r",
      "STEP   308 / 1650 (thread    5) f\b\b\r",
      "STEP   309 / 1650 (thread    1) f\b\b\r",
      "STEP   310 / 1650 (thread    0) f\b\b\r",
      "STEP   311 / 1650 (thread    3) f\b\b\r",
      "STEP   312 / 1650 (thread    5) f\b\b\r",
      "STEP   313 / 1650 (thread    1) f\b\b\r",
      "STEP   315 / 1650 (thread    1) f\b\b\r",
      "STEP   314 / 1650 (thread    2) f\b\b\r",
      "STEP   316 / 1650 (thread    0) f\b\b\r",
      "STEP   317 / 1650 (thread    4) f\b\b\r",
      "STEP   318 / 1650 (thread    3) f\b\b\r",
      "STEP   319 / 1650 (thread    5) f\b\b\r",
      "STEP   320 / 1650 (thread    5) f\b\b\r",
      "STEP   321 / 1650 (thread    1) f\b\b\r",
      "STEP   322 / 1650 (thread    0)\r",
      "STEP   323 / 1650 (thread    2) f\b\b\r",
      "STEP   324 / 1650 (thread    3) f\b\b f\b\b\r",
      "STEP   325 / 1650 (thread    5) f\b\b\r",
      "STEP   326 / 1650 (thread    4) f\b\b\r",
      "STEP   327 / 1650 (thread    5) f\b\b\r",
      "STEP   328 / 1650 (thread    3) f\b\b\r",
      "STEP   329 / 1650 (thread    5) f\b\b\r",
      "STEP   330 / 1650 (thread    0) f\b\b\r",
      "STEP   331 / 1650 (thread    2) f\b\b\r",
      "STEP   332 / 1650 (thread    4) f\b\b\r",
      "STEP   333 / 1650 (thread    1) f\b\b\r",
      "STEP   334 / 1650 (thread    5) f\b\b\r",
      "STEP   335 / 1650 (thread    0) f\b\b\r",
      "STEP   336 / 1650 (thread    5) f\b\b\r",
      "STEP   337 / 1650 (thread    4) f\b\b\r",
      "STEP   338 / 1650 (thread    1) f\b\b\r",
      "STEP   339 / 1650 (thread    3) f\b\b\r",
      "STEP   340 / 1650 (thread    5) f\b\b\r",
      "STEP   341 / 1650 (thread    4) f\b\b\r",
      "STEP   342 / 1650 (thread    0) f\b\b\r",
      "STEP   343 / 1650 (thread    3) f\b\b\r",
      "STEP   344 / 1650 (thread    5) f\b\b\r",
      "STEP   345 / 1650 (thread    2) f\b\b\r",
      "STEP   346 / 1650 (thread    1) f\b\b\r",
      "STEP   347 / 1650 (thread    4) f\b\b\r",
      "STEP   348 / 1650 (thread    0) f\b\b\r",
      "STEP   349 / 1650 (thread    5) f\b\b\r",
      "STEP   350 / 1650 (thread    3) f\b\b\r",
      "STEP   351 / 1650 (thread    1) f\b\b\r",
      "STEP   352 / 1650 (thread    5) f\b\b\r",
      "STEP   353 / 1650 (thread    0) f\b\b\r",
      "STEP   354 / 1650 (thread    2) f\b\b\r",
      "STEP   355 / 1650 (thread    4) f\b\b\r",
      "STEP   356 / 1650 (thread    3) f\b\b\r",
      "STEP   357 / 1650 (thread    5) f\b\b\r",
      "STEP   358 / 1650 (thread    4) f\b\b\r",
      "STEP   359 / 1650 (thread    1) f\b\b\r",
      "STEP   360 / 1650 (thread    0) f\b\b\r",
      "STEP   361 / 1650 (thread    5) f\b\b\r",
      "STEP   362 / 1650 (thread    2) f\b\b\r",
      "STEP   363 / 1650 (thread    3) f\b\b\r",
      "STEP   364 / 1650 (thread    4) f\b\b\r",
      "STEP   365 / 1650 (thread    1) f\b\b\r",
      "STEP   366 / 1650 (thread    5) f\b\b\r",
      "STEP   367 / 1650 (thread    0) f\b\b\r",
      "STEP   368 / 1650 (thread    2) f\b\b\r",
      "STEP   369 / 1650 (thread    4) f\b\b\r",
      "STEP   370 / 1650 (thread    3) f\b\b\r",
      "STEP   371 / 1650 (thread    5) f\b\b\r",
      "STEP   372 / 1650 (thread    1) f\b\b\r",
      "STEP   373 / 1650 (thread    4) f\b\b\r",
      "STEP   374 / 1650 (thread    0) f\b\b\r",
      "STEP   375 / 1650 (thread    2) f\b\b\r",
      "STEP   376 / 1650 (thread    3) f\b\b\r",
      "STEP   377 / 1650 (thread    5) f\b\b\r",
      "STEP   378 / 1650 (thread    4) f\b\b\r",
      "STEP   379 / 1650 (thread    1) f\b\b\r",
      "STEP   380 / 1650 (thread    0) f\b\b\r",
      "STEP   381 / 1650 (thread    3) f\b\b\r",
      "STEP   382 / 1650 (thread    5) f\b\b\r",
      "STEP   383 / 1650 (thread    4) f\b\b\r",
      "STEP   384 / 1650 (thread    1) f\b\b\r",
      "STEP   385 / 1650 (thread    2) f\b\b\r",
      "STEP   386 / 1650 (thread    3) f\b\b\r",
      "STEP   387 / 1650 (thread    0) f\b\b\r",
      "STEP   388 / 1650 (thread    1) f\b\b\r",
      "STEP   389 / 1650 (thread    2) f\b\b\r",
      "STEP   390 / 1650 (thread    5) f\b\b\r",
      "STEP   391 / 1650 (thread    4) f\b\b\r",
      "STEP   392 / 1650 (thread    3) f\b\b\r",
      "STEP   393 / 1650 (thread    1) f\b\b\r",
      "STEP   394 / 1650 (thread    5) f\b\b\r",
      "STEP   395 / 1650 (thread    4) f\b\b\r",
      "STEP   396 / 1650 (thread    3) f\b\b\r",
      "STEP   397 / 1650 (thread    1) f\b\b\r",
      "STEP   398 / 1650 (thread    5) f\b\b\r",
      "STEP   399 / 1650 (thread    0) f\b\b\r",
      "STEP   400 / 1650 (thread    4) f\b\b\r",
      "STEP   401 / 1650 (thread    2) f\b\b\r",
      "STEP   402 / 1650 (thread    5) f\b\b\r",
      "STEP   403 / 1650 (thread    3) f\b\b\r",
      "STEP   404 / 1650 (thread    1) f\b\b\r",
      "STEP   405 / 1650 (thread    4) f\b\b\r",
      "STEP   406 / 1650 (thread    5) f\b\b\r",
      "STEP   407 / 1650 (thread    0) f\b\b\r",
      "STEP   408 / 1650 (thread    3) f\b\b\r",
      "STEP   409 / 1650 (thread    2) f\b\b\r",
      "STEP   410 / 1650 (thread    1) f\b\b\r",
      "STEP   411 / 1650 (thread    4) f\b\b\r",
      "STEP   412 / 1650 (thread    5) f\b\b\r",
      "STEP   413 / 1650 (thread    1) f\b\b\r",
      "STEP   414 / 1650 (thread    4) f\b\b\r",
      "STEP   415 / 1650 (thread    0) f\b\b\r",
      "STEP   416 / 1650 (thread    3) f\b\b\r",
      "STEP   417 / 1650 (thread    5) f\b\b\r",
      "STEP   418 / 1650 (thread    2) f\b\b\r",
      "STEP   419 / 1650 (thread    4) f\b\b\r",
      "STEP   420 / 1650 (thread    5) f\b\b\r",
      "STEP   421 / 1650 (thread    0) f\b\b\r",
      "STEP   422 / 1650 (thread    3) f\b\b\r",
      "STEP   423 / 1650 (thread    4) f\b\b\r",
      "STEP   424 / 1650 (thread    2) f\b\b\r",
      "STEP   425 / 1650 (thread    5) f\b\b\r",
      "STEP   426 / 1650 (thread    1) f\b\b\r",
      "STEP   427 / 1650 (thread    4) f\b\b\r",
      "STEP   428 / 1650 (thread    3) f\b\b\r",
      "STEP   429 / 1650 (thread    0) f\b\b\r",
      "STEP   430 / 1650 (thread    2) f\b\b\r",
      "STEP   431 / 1650 (thread    4) f\b\b\r",
      "STEP   432 / 1650 (thread    1) f\b\b\r",
      "STEP   433 / 1650 (thread    3) f\b\b\r",
      "STEP   434 / 1650 (thread    5) f\b\b\r",
      "STEP   435 / 1650 (thread    0) f\b\b\r",
      "STEP   436 / 1650 (thread    4) f\b\b\r",
      "STEP   437 / 1650 (thread    2) f\b\b\r",
      "STEP   438 / 1650 (thread    5) f\b\b\r",
      "STEP   439 / 1650 (thread    1) f\b\b\r",
      "STEP   440 / 1650 (thread    3) f\b\b\r",
      "STEP   441 / 1650 (thread    4) f\b\b\r",
      "STEP   442 / 1650 (thread    0) f\b\b\r",
      "STEP   443 / 1650 (thread    2) f\b\b\r",
      "STEP   444 / 1650 (thread    5) f\b\b\r",
      "STEP   445 / 1650 (thread    4) f\b\b\r",
      "STEP   446 / 1650 (thread    1) f\b\b\r",
      "STEP   447 / 1650 (thread    3) f\b\b\r",
      "STEP   448 / 1650 (thread    5) f\b\b\r",
      "STEP   449 / 1650 (thread    4) f\b\b\r",
      "STEP   450 / 1650 (thread    0) f\b\b\r",
      "STEP   451 / 1650 (thread    2) f\b\b\r",
      "STEP   452 / 1650 (thread    5) f\b\b\r",
      "STEP   453 / 1650 (thread    3) f\b\b\r",
      "STEP   454 / 1650 (thread    1) f\b\b\r",
      "STEP   455 / 1650 (thread    5) f\b\b\r",
      "STEP   456 / 1650 (thread    0) f\b\b\r",
      "STEP   457 / 1650 (thread    2) f\b\b\r",
      "STEP   458 / 1650 (thread    1) f\b\b\r",
      "STEP   459 / 1650 (thread    3) f\b\b\r",
      "STEP   460 / 1650 (thread    4) f\b\b\r",
      "STEP   461 / 1650 (thread    5) f\b\b\r",
      "STEP   462 / 1650 (thread    0) f\b\b\r",
      "STEP   463 / 1650 (thread    1) f\b\b\r",
      "STEP   464 / 1650 (thread    3) f\b\b\r",
      "STEP   465 / 1650 (thread    2) f\b\b\r",
      "STEP   466 / 1650 (thread    5) f\b\b\r",
      "STEP   467 / 1650 (thread    4) f\b\b\r",
      "STEP   468 / 1650 (thread    5) f\b\b\r",
      "STEP   469 / 1650 (thread    0) f\b\b\r",
      "STEP   470 / 1650 (thread    1) f\b\b\r",
      "STEP   471 / 1650 (thread    3) f\b\b\r",
      "STEP   472 / 1650 (thread    2) f\b\b\r",
      "STEP   473 / 1650 (thread    4) f\b\b\r",
      "STEP   474 / 1650 (thread    5) f\b\b\r",
      "STEP   475 / 1650 (thread    0) f\b\b\r",
      "STEP   476 / 1650 (thread    4) f\b\b\r",
      "STEP   477 / 1650 (thread    3) f\b\b\r",
      "STEP   478 / 1650 (thread    5) f\b\b\r",
      "STEP   479 / 1650 (thread    3) f\b\b\r",
      "STEP   480 / 1650 (thread    2) f\b\b\r",
      "STEP   481 / 1650 (thread    1) f\b\b\r",
      "STEP   482 / 1650 (thread    4) f\b\b\r",
      "STEP   483 / 1650 (thread    5) f\b\b\r",
      "STEP   484 / 1650 (thread    4) f\b\b\r",
      "STEP   485 / 1650 (thread    0) f\b\b\r",
      "STEP   486 / 1650 (thread    3) f\b\b\r",
      "STEP   487 / 1650 (thread    2) f\b\b\r",
      "STEP   488 / 1650 (thread    1) f\b\b\r",
      "STEP   489 / 1650 (thread    5) f\b\b\r",
      "STEP   490 / 1650 (thread    4) f\b\b\r",
      "STEP   491 / 1650 (thread    5) f\b\b\r",
      "STEP   492 / 1650 (thread    0) f\b\b\r",
      "STEP   493 / 1650 (thread    3) f\b\b\r",
      "STEP   494 / 1650 (thread    4) f\b\b\r",
      "STEP   495 / 1650 (thread    2) f\b\b\r",
      "STEP   496 / 1650 (thread    1) f\b\b\r",
      "STEP   497 / 1650 (thread    5) f\b\b\r",
      "STEP   498 / 1650 (thread    4) f\b\b\r",
      "STEP   499 / 1650 (thread    3) f\b\b\r",
      "STEP   500 / 1650 (thread    1) f\b\b\r",
      "STEP   501 / 1650 (thread    2) f\b\b\r",
      "STEP   601 / 1650 (thread    1) f\b\b\r",
      "STEP   701 / 1650 (thread    2) f\b\b"
     ]
    },
    {
     "name": "stderr",
     "output_type": "stream",
     "text": [
      "\r",
      "STEP   801 / 1650 (thread    1) f\b\b\r",
      "STEP   901 / 1650 (thread    3) f\b\b\r",
      "STEP  1001 / 1650 (thread    5) f\b\b\r",
      "STEP  1101 / 1650 (thread    0) f\b\b\r",
      "STEP  1201 / 1650 (thread    2) f\b\b\r",
      "STEP  1301 / 1650 (thread    3) f\b\b"
     ]
    },
    {
     "name": "stderr",
     "output_type": "stream",
     "text": [
      "\r",
      "STEP  1401 / 1650 (thread    5) f\b\b\r",
      "STEP  1501 / 1650 (thread    4) f\b\b\n",
      "Reallocating..done. *alloclen = 1908\n",
      "\r",
      "STEP  1601 / 1650 (thread    2) f\b\b"
     ]
    },
    {
     "name": "stderr",
     "output_type": "stream",
     "text": [
      "\n",
      "done.\n",
      "\n",
      "Making a distance matrix from msa.. \n",
      "\r",
      "    0 / 1651 (thread    0)\r",
      "  100 / 1651 (thread    5)\r",
      "  200 / 1651 (thread    1)"
     ]
    },
    {
     "name": "stderr",
     "output_type": "stream",
     "text": [
      "\r",
      "  300 / 1651 (thread    3)\r",
      "  400 / 1651 (thread    1)\r",
      "  500 / 1651 (thread    3)\r",
      "  600 / 1651 (thread    0)"
     ]
    },
    {
     "name": "stderr",
     "output_type": "stream",
     "text": [
      "\r",
      "  700 / 1651 (thread    4)\r",
      "  800 / 1651 (thread    1)\r",
      "  900 / 1651 (thread    0)\r",
      " 1000 / 1651 (thread    0)\r",
      " 1100 / 1651 (thread    4)\r",
      " 1200 / 1651 (thread    2)\r",
      " 1300 / 1651 (thread    1)\r",
      " 1400 / 1651 (thread    0)"
     ]
    },
    {
     "name": "stderr",
     "output_type": "stream",
     "text": [
      "\r",
      " 1500 / 1651 (thread    2)\r",
      " 1600 / 1651 (thread    4)\n",
      "done.\n",
      "\n",
      "Constructing a UPGMA tree (efffree=1) ... \n",
      "\r",
      "    0 / 1651\r",
      "   10 / 1651\r",
      "   20 / 1651\r",
      "   30 / 1651\r",
      "   40 / 1651\r",
      "   50 / 1651\r",
      "   60 / 1651\r",
      "   70 / 1651\r",
      "   80 / 1651\r",
      "   90 / 1651\r",
      "  100 / 1651\r",
      "  110 / 1651\r",
      "  120 / 1651\r",
      "  130 / 1651\r",
      "  140 / 1651\r",
      "  150 / 1651\r",
      "  160 / 1651\r",
      "  170 / 1651\r",
      "  180 / 1651\r",
      "  190 / 1651\r",
      "  200 / 1651\r",
      "  210 / 1651\r",
      "  220 / 1651\r",
      "  230 / 1651\r",
      "  240 / 1651\r",
      "  250 / 1651\r",
      "  260 / 1651\r",
      "  270 / 1651\r",
      "  280 / 1651\r",
      "  290 / 1651\r",
      "  300 / 1651\r",
      "  310 / 1651\r",
      "  320 / 1651\r",
      "  330 / 1651\r",
      "  340 / 1651\r",
      "  350 / 1651\r",
      "  360 / 1651\r",
      "  370 / 1651\r",
      "  380 / 1651\r",
      "  390 / 1651\r",
      "  400 / 1651\r",
      "  410 / 1651\r",
      "  420 / 1651\r",
      "  430 / 1651\r",
      "  440 / 1651\r",
      "  450 / 1651\r",
      "  460 / 1651\r",
      "  470 / 1651\r",
      "  480 / 1651\r",
      "  490 / 1651\r",
      "  500 / 1651\r",
      "  510 / 1651\r",
      "  520 / 1651\r",
      "  530 / 1651\r",
      "  540 / 1651\r",
      "  550 / 1651\r",
      "  560 / 1651\r",
      "  570 / 1651\r",
      "  580 / 1651\r",
      "  590 / 1651\r",
      "  600 / 1651\r",
      "  610 / 1651\r",
      "  620 / 1651\r",
      "  630 / 1651\r",
      "  640 / 1651\r",
      "  650 / 1651\r",
      "  660 / 1651\r",
      "  670 / 1651\r",
      "  680 / 1651\r",
      "  690 / 1651\r",
      "  700 / 1651\r",
      "  710 / 1651\r",
      "  720 / 1651\r",
      "  730 / 1651\r",
      "  740 / 1651\r",
      "  750 / 1651\r",
      "  760 / 1651\r",
      "  770 / 1651\r",
      "  780 / 1651\r",
      "  790 / 1651\r",
      "  800 / 1651\r",
      "  810 / 1651\r",
      "  820 / 1651\r",
      "  830 / 1651\r",
      "  840 / 1651\r",
      "  850 / 1651\r",
      "  860 / 1651\r",
      "  870 / 1651\r",
      "  880 / 1651\r",
      "  890 / 1651\r",
      "  900 / 1651\r",
      "  910 / 1651\r",
      "  920 / 1651\r",
      "  930 / 1651\r",
      "  940 / 1651\r",
      "  950 / 1651\r",
      "  960 / 1651\r",
      "  970 / 1651\r",
      "  980 / 1651\r",
      "  990 / 1651\r",
      " 1000 / 1651\r",
      " 1010 / 1651\r",
      " 1020 / 1651\r",
      " 1030 / 1651\r",
      " 1040 / 1651\r",
      " 1050 / 1651\r",
      " 1060 / 1651\r",
      " 1070 / 1651\r",
      " 1080 / 1651\r",
      " 1090 / 1651\r",
      " 1100 / 1651\r",
      " 1110 / 1651\r",
      " 1120 / 1651\r",
      " 1130 / 1651\r",
      " 1140 / 1651\r",
      " 1150 / 1651\r",
      " 1160 / 1651\r",
      " 1170 / 1651\r",
      " 1180 / 1651\r",
      " 1190 / 1651\r",
      " 1200 / 1651\r",
      " 1210 / 1651\r",
      " 1220 / 1651\r",
      " 1230 / 1651\r",
      " 1240 / 1651\r",
      " 1250 / 1651\r",
      " 1260 / 1651\r",
      " 1270 / 1651\r",
      " 1280 / 1651\r",
      " 1290 / 1651\r",
      " 1300 / 1651\r",
      " 1310 / 1651\r",
      " 1320 / 1651\r",
      " 1330 / 1651\r",
      " 1340 / 1651\r",
      " 1350 / 1651\r",
      " 1360 / 1651\r",
      " 1370 / 1651\r",
      " 1380 / 1651\r",
      " 1390 / 1651\r",
      " 1400 / 1651\r",
      " 1410 / 1651\r",
      " 1420 / 1651\r",
      " 1430 / 1651\r",
      " 1440 / 1651\r",
      " 1450 / 1651\r",
      " 1460 / 1651\r",
      " 1470 / 1651\r",
      " 1480 / 1651\r",
      " 1490 / 1651\r",
      " 1500 / 1651\r",
      " 1510 / 1651\r",
      " 1520 / 1651\r",
      " 1530 / 1651\r",
      " 1540 / 1651\r",
      " 1550 / 1651\r",
      " 1560 / 1651\r",
      " 1570 / 1651\r",
      " 1580 / 1651\r",
      " 1590 / 1651\r",
      " 1600 / 1651\r",
      " 1610 / 1651\r",
      " 1620 / 1651\r",
      " 1630 / 1651\r",
      " 1640 / 1651\n",
      "done.\n",
      "\n",
      "Progressive alignment 2/2... \n",
      "\r",
      "STEP     1 / 1650 (thread    0) f\b\b\r",
      "STEP     2 / 1650 (thread    1) f\b\b\r",
      "STEP     3 / 1650 (thread    2) f\b\b\r",
      "STEP     4 / 1650 (thread    3) f\b\b\r",
      "STEP     5 / 1650 (thread    4) f\b\b\r",
      "STEP     6 / 1650 (thread    5) f\b\b\r",
      "STEP     7 / 1650 (thread    3) f\b\b\r",
      "STEP     8 / 1650 (thread    3) f\b\b\r",
      "STEP     9 / 1650 (thread    3) f\b\b\r",
      "STEP    10 / 1650 (thread    3) f\b\b\r",
      "STEP    11 / 1650 (thread    3) f\b\b\r",
      "STEP    12 / 1650 (thread    3) f\b\b\r",
      "STEP    13 / 1650 (thread    2) f\b\b\r",
      "STEP    14 / 1650 (thread    3) f\b\b\r",
      "STEP    15 / 1650 (thread    4) f\b\b\r",
      "STEP    16 / 1650 (thread    1) f\b\b\r",
      "STEP    17 / 1650 (thread    3) f\b\b\r",
      "STEP    18 / 1650 (thread    2) f\b\b\r",
      "STEP    19 / 1650 (thread    1) f\b\b\r",
      "STEP    20 / 1650 (thread    4) f\b\b\r",
      "STEP    21 / 1650 (thread    3) f\b\b\r",
      "STEP    22 / 1650 (thread    1) f\b\b\r",
      "STEP    23 / 1650 (thread    2) f\b\b\r",
      "STEP    24 / 1650 (thread    4) f\b\b\r",
      "STEP    25 / 1650 (thread    0) f\b\b\r",
      "STEP    26 / 1650 (thread    3) f\b\b\r",
      "STEP    27 / 1650 (thread    1) f\b\b\r",
      "STEP    28 / 1650 (thread    5) f\b\b\r",
      "STEP    29 / 1650 (thread    2) f\b\b\r",
      "STEP    30 / 1650 (thread    1) f\b\b\r",
      "STEP    31 / 1650 (thread    4) f\b\b\r",
      "STEP    32 / 1650 (thread    3) f\b\b\r",
      "STEP    33 / 1650 (thread    0) f\b\b\r",
      "STEP    34 / 1650 (thread    5) f\b\b\r",
      "STEP    35 / 1650 (thread    1) f\b\b\r",
      "STEP    36 / 1650 (thread    3) f\b\b\r",
      "STEP    37 / 1650 (thread    2) f\b\b\r",
      "STEP    38 / 1650 (thread    4) f\b\b\r",
      "STEP    39 / 1650 (thread    0) f\b\b\r",
      "STEP    40 / 1650 (thread    1) f\b\b\r",
      "STEP    41 / 1650 (thread    5) f\b\b\r",
      "STEP    42 / 1650 (thread    3) f\b\b\r",
      "STEP    43 / 1650 (thread    2) f\b\b\r",
      "STEP    44 / 1650 (thread    4) f\b\b\r",
      "STEP    45 / 1650 (thread    1) f\b\b\r",
      "STEP    46 / 1650 (thread    0) f\b\b\r",
      "STEP    47 / 1650 (thread    3) f\b\b\r",
      "STEP    48 / 1650 (thread    5) f\b\b\r",
      "STEP    49 / 1650 (thread    1) f\b\b\r",
      "STEP    50 / 1650 (thread    2) f\b\b\r",
      "STEP    51 / 1650 (thread    4) f\b\b\r",
      "STEP    52 / 1650 (thread    0) f\b\b\r",
      "STEP    53 / 1650 (thread    3) f\b\b\r",
      "STEP    54 / 1650 (thread    5) f\b\b\r",
      "STEP    55 / 1650 (thread    1) f\b\b\r",
      "STEP    56 / 1650 (thread    2) f\b\b\r",
      "STEP    57 / 1650 (thread    4) f\b\b\r",
      "STEP    58 / 1650 (thread    0) f\b\b\r",
      "STEP    59 / 1650 (thread    4) f\b\b\r",
      "STEP    60 / 1650 (thread    3) f\b\b\r",
      "STEP    61 / 1650 (thread    0) f\b\b\r",
      "STEP    62 / 1650 (thread    1) f\b\b\r",
      "STEP    63 / 1650 (thread    5) f\b\b\r",
      "STEP    64 / 1650 (thread    4) f\b\b\r",
      "STEP    65 / 1650 (thread    3) f\b\b\r",
      "STEP    66 / 1650 (thread    1) f\b\b\r",
      "STEP    67 / 1650 (thread    2) f\b\b\r",
      "STEP    68 / 1650 (thread    0) f\b\b\r",
      "STEP    69 / 1650 (thread    1) f\b\b\r",
      "STEP    70 / 1650 (thread    3) f\b\b\r",
      "STEP    71 / 1650 (thread    5) f\b\b\r",
      "STEP    72 / 1650 (thread    4) f\b\b\r",
      "STEP    73 / 1650 (thread    2) f\b\b\r",
      "STEP    74 / 1650 (thread    0) f\b\b\r",
      "STEP    75 / 1650 (thread    1) f\b\b\r",
      "STEP    76 / 1650 (thread    3) f\b\b\r",
      "STEP    77 / 1650 (thread    5) f\b\b\r",
      "STEP    78 / 1650 (thread    4) f\b\b\r",
      "STEP    79 / 1650 (thread    2) f\b\b\r",
      "STEP    80 / 1650 (thread    1) f\b\b\r",
      "STEP    81 / 1650 (thread    0) f\b\b\r",
      "STEP    82 / 1650 (thread    3) f\b\b\r",
      "STEP    83 / 1650 (thread    5) f\b\b\r",
      "STEP    84 / 1650 (thread    1) f\b\b\r",
      "STEP    85 / 1650 (thread    4) f\b\b\r",
      "STEP    86 / 1650 (thread    3) f\b\b\r",
      "STEP    88 / 1650 (thread    0) f\b\b\r",
      "STEP    89 / 1650 (thread    1) f\b\b\r",
      "STEP    90 / 1650 (thread    4) f\b\b\r",
      "STEP    91 / 1650 (thread    5) f\b\b\r",
      "STEP    92 / 1650 (thread    3) f\b\b\r",
      "STEP    93 / 1650 (thread    0) f\b\b\r",
      "STEP    94 / 1650 (thread    1) f\b\b\r",
      "STEP    95 / 1650 (thread    4) f\b\b\r",
      "STEP    96 / 1650 (thread    3) f\b\b\r",
      "STEP    97 / 1650 (thread    5) f\b\b\r",
      "STEP    98 / 1650 (thread    1) f\b\b\r",
      "STEP    99 / 1650 (thread    4) f\b\b\r",
      "STEP   100 / 1650 (thread    0) f\b\b\r",
      "STEP   101 / 1650 (thread    3) f\b\b\r",
      "STEP    87 / 1650 (thread    2) f\b\b\r",
      "STEP   102 / 1650 (thread    4)\r",
      "STEP   103 / 1650 (thread    1) f\b\b f\b\b\r",
      "STEP   104 / 1650 (thread    5) f\b\b\r",
      "STEP   105 / 1650 (thread    0) f\b\b\r",
      "STEP   106 / 1650 (thread    3) f\b\b\r",
      "STEP   107 / 1650 (thread    4) f\b\b\r",
      "STEP   108 / 1650 (thread    1) f\b\b\r",
      "STEP   109 / 1650 (thread    5) f\b\b\r",
      "STEP   110 / 1650 (thread    4) f\b\b\r",
      "STEP   111 / 1650 (thread    1) f\b\b\r",
      "STEP   112 / 1650 (thread    0) f\b\b\r",
      "STEP   113 / 1650 (thread    3) f\b\b\r",
      "STEP   114 / 1650 (thread    4) f\b\b\r",
      "STEP   115 / 1650 (thread    1) f\b\b\r",
      "STEP   116 / 1650 (thread    2) f\b\b\r",
      "STEP   117 / 1650 (thread    5) f\b\b\r",
      "STEP   118 / 1650 (thread    4) f\b\b\r",
      "STEP   119 / 1650 (thread    1) f\b\b\r",
      "STEP   120 / 1650 (thread    0) f\b\b\r",
      "STEP   121 / 1650 (thread    3) f\b\b\r",
      "STEP   122 / 1650 (thread    4) f\b\b\r",
      "STEP   123 / 1650 (thread    2) f\b\b\r",
      "STEP   124 / 1650 (thread    1) f\b\b\r",
      "STEP   125 / 1650 (thread    5) f\b\b\r",
      "STEP   126 / 1650 (thread    0) f\b\b\r",
      "STEP   127 / 1650 (thread    4) f\b\b\r",
      "STEP   128 / 1650 (thread    3) f\b\b\r",
      "STEP   129 / 1650 (thread    1) f\b\b\r",
      "STEP   130 / 1650 (thread    2) f\b\b\r",
      "STEP   131 / 1650 (thread    5) f\b\b\r",
      "STEP   132 / 1650 (thread    4) f\b\b\r",
      "STEP   133 / 1650 (thread    1) f\b\b\r",
      "STEP   134 / 1650 (thread    0) f\b\b\r",
      "STEP   135 / 1650 (thread    3) f\b\b\r",
      "STEP   136 / 1650 (thread    4) f\b\b\r",
      "STEP   137 / 1650 (thread    1) f\b\b\r",
      "STEP   138 / 1650 (thread    5) f\b\b\r",
      "STEP   139 / 1650 (thread    2) f\b\b\r",
      "STEP   140 / 1650 (thread    0) f\b\b\r",
      "STEP   141 / 1650 (thread    3) f\b\b\r",
      "STEP   142 / 1650 (thread    4) f\b\b\r",
      "STEP   143 / 1650 (thread    1) f\b\b\r",
      "STEP   144 / 1650 (thread    5) f\b\b\r",
      "STEP   145 / 1650 (thread    2) f\b\b\r",
      "STEP   146 / 1650 (thread    1) f\b\b\r",
      "STEP   147 / 1650 (thread    4) f\b\b\r",
      "STEP   148 / 1650 (thread    3) f\b\b\r",
      "STEP   149 / 1650 (thread    0) f\b\b\r",
      "STEP   150 / 1650 (thread    5) f\b\b\r",
      "STEP   151 / 1650 (thread    1) f\b\b\r",
      "STEP   152 / 1650 (thread    4) f\b\b\r",
      "STEP   153 / 1650 (thread    2) f\b\b\r",
      "STEP   154 / 1650 (thread    1) f\b\b\r",
      "STEP   155 / 1650 (thread    3) f\b\b\r",
      "STEP   156 / 1650 (thread    4) f\b\b\r",
      "STEP   157 / 1650 (thread    0) f\b\b\r",
      "STEP   158 / 1650 (thread    5) f\b\b\r",
      "STEP   159 / 1650 (thread    1) f\b\b\r",
      "STEP   160 / 1650 (thread    2) f\b\b\r",
      "STEP   161 / 1650 (thread    4) f\b\b\r",
      "STEP   162 / 1650 (thread    0) f\b\b\r",
      "STEP   163 / 1650 (thread    3) f\b\b\r",
      "STEP   164 / 1650 (thread    1)\r",
      "STEP   165 / 1650 (thread    5) f\b\b f\b\b\r",
      "STEP   166 / 1650 (thread    4) f\b\b\r",
      "STEP   167 / 1650 (thread    2) f\b\b\r",
      "STEP   168 / 1650 (thread    1) f\b\b\r",
      "STEP   169 / 1650 (thread    4) f\b\b\r",
      "STEP   170 / 1650 (thread    0) f\b\b\r",
      "STEP   171 / 1650 (thread    3) f\b\b\r",
      "STEP   172 / 1650 (thread    5) f\b\b\r",
      "STEP   173 / 1650 (thread    1) f\b\b\r",
      "STEP   174 / 1650 (thread    4) f\b\b\r",
      "STEP   175 / 1650 (thread    2) f\b\b\r",
      "STEP   176 / 1650 (thread    3) f\b\b\r",
      "STEP   177 / 1650 (thread    0) f\b\b\r",
      "STEP   178 / 1650 (thread    5) f\b\b\r",
      "STEP   179 / 1650 (thread    4) f\b\b\r",
      "STEP   180 / 1650 (thread    1) f\b\b\r",
      "STEP   181 / 1650 (thread    2) f\b\b\r",
      "STEP   182 / 1650 (thread    4) f\b\b\r",
      "STEP   183 / 1650 (thread    3) f\b\b\r",
      "STEP   184 / 1650 (thread    1) f\b\b\r",
      "STEP   185 / 1650 (thread    5) f\b\b\r",
      "STEP   186 / 1650 (thread    0) f\b\b\r",
      "STEP   187 / 1650 (thread    4) f\b\b\r",
      "STEP   188 / 1650 (thread    1) f\b\b\r",
      "STEP   189 / 1650 (thread    3) f\b\b\r",
      "STEP   190 / 1650 (thread    2) f\b\b\r",
      "STEP   191 / 1650 (thread    4) f\b\b\r",
      "STEP   192 / 1650 (thread    1) f\b\b\r",
      "STEP   193 / 1650 (thread    5) f\b\b\r",
      "STEP   194 / 1650 (thread    1) f\b\b\r",
      "STEP   195 / 1650 (thread    0) f\b\b\r",
      "STEP   196 / 1650 (thread    3) f\b\b\r",
      "STEP   197 / 1650 (thread    4) f\b\b\r",
      "STEP   198 / 1650 (thread    2) f\b\b\r",
      "STEP   199 / 1650 (thread    1) f\b\b\r",
      "STEP   200 / 1650 (thread    5) f\b\b\r",
      "STEP   201 / 1650 (thread    0)\r",
      "STEP   202 / 1650 (thread    4) f\b\b f\b\b\r",
      "STEP   203 / 1650 (thread    1) f\b\b\r",
      "STEP   204 / 1650 (thread    3) f\b\b\r",
      "STEP   205 / 1650 (thread    2) f\b\b\r",
      "STEP   206 / 1650 (thread    4) f\b\b\r",
      "STEP   207 / 1650 (thread    1) f\b\b\r",
      "STEP   208 / 1650 (thread    5) f\b\b\r",
      "STEP   209 / 1650 (thread    0) f\b\b\r",
      "STEP   210 / 1650 (thread    3) f\b\b\r",
      "STEP   211 / 1650 (thread    2) f\b\b\r",
      "STEP   212 / 1650 (thread    5) f\b\b\r",
      "STEP   213 / 1650 (thread    4) f\b\b\r",
      "STEP   214 / 1650 (thread    1) f\b\b\r",
      "STEP   215 / 1650 (thread    0) f\b\b\r",
      "STEP   216 / 1650 (thread    3) f\b\b\r",
      "STEP   217 / 1650 (thread    2) f\b\b\r",
      "STEP   218 / 1650 (thread    4) f\b\b\r",
      "STEP   219 / 1650 (thread    1) f\b\b\r",
      "STEP   220 / 1650 (thread    5) f\b\b\r",
      "STEP   221 / 1650 (thread    4) f\b\b\r",
      "STEP   222 / 1650 (thread    1) f\b\b\r",
      "STEP   223 / 1650 (thread    0) f\b\b\r",
      "STEP   224 / 1650 (thread    2) f\b\b\r",
      "STEP   225 / 1650 (thread    3) f\b\b\r",
      "STEP   226 / 1650 (thread    5) f\b\b\r",
      "STEP   227 / 1650 (thread    1) f\b\b\r",
      "STEP   228 / 1650 (thread    4) f\b\b\r",
      "STEP   229 / 1650 (thread    0) f\b\b\r",
      "STEP   230 / 1650 (thread    2) f\b\b\r",
      "STEP   231 / 1650 (thread    5) f\b\b\r",
      "STEP   232 / 1650 (thread    1) f\b\b\r",
      "STEP   233 / 1650 (thread    4) f\b\b\r",
      "STEP   234 / 1650 (thread    1) f\b\b\r",
      "STEP   235 / 1650 (thread    4) f\b\b\r",
      "STEP   236 / 1650 (thread    2) f\b\b\r",
      "STEP   237 / 1650 (thread    3) f\b\b\r",
      "STEP   238 / 1650 (thread    0) f\b\b\r",
      "STEP   239 / 1650 (thread    5) f\b\b\r",
      "STEP   240 / 1650 (thread    1) f\b\b\r",
      "STEP   241 / 1650 (thread    4) f\b\b\r",
      "STEP   242 / 1650 (thread    2) f\b\b\r",
      "STEP   243 / 1650 (thread    3) f\b\b\r",
      "STEP   244 / 1650 (thread    5) f\b\b\r",
      "STEP   245 / 1650 (thread    0) f\b\b\r",
      "STEP   246 / 1650 (thread    1) f\b\b\r",
      "STEP   247 / 1650 (thread    4) f\b\b\r",
      "STEP   248 / 1650 (thread    1) f\b\b\r",
      "STEP   249 / 1650 (thread    2) f\b\b\r",
      "STEP   250 / 1650 (thread    3) f\b\b\r",
      "STEP   251 / 1650 (thread    4) f\b\b\r",
      "STEP   252 / 1650 (thread    0) f\b\b\r",
      "STEP   253 / 1650 (thread    1) f\b\b\r",
      "STEP   254 / 1650 (thread    4) f\b\b\r",
      "STEP   255 / 1650 (thread    2) f\b\b\r",
      "STEP   256 / 1650 (thread    5) f\b\b\r",
      "STEP   257 / 1650 (thread    3) f\b\b\r",
      "STEP   258 / 1650 (thread    1) f\b\b\r",
      "STEP   259 / 1650 (thread    0) f\b\b\r",
      "STEP   260 / 1650 (thread    4) f\b\b\r",
      "STEP   261 / 1650 (thread    1) f\b\b\r",
      "STEP   262 / 1650 (thread    2) f\b\b\r",
      "STEP   263 / 1650 (thread    5) f\b\b\r",
      "STEP   264 / 1650 (thread    3) f\b\b\r",
      "STEP   265 / 1650 (thread    4) f\b\b\r",
      "STEP   266 / 1650 (thread    0) f\b\b\r",
      "STEP   267 / 1650 (thread    1) f\b\b\r",
      "STEP   268 / 1650 (thread    2) f\b\b\r",
      "STEP   269 / 1650 (thread    5) f\b\b\r",
      "STEP   270 / 1650 (thread    3) f\b\b\r",
      "STEP   271 / 1650 (thread    4) f\b\b\r",
      "STEP   272 / 1650 (thread    1) f\b\b\r",
      "STEP   273 / 1650 (thread    0) f\b\b\r",
      "STEP   274 / 1650 (thread    1) f\b\b\r",
      "STEP   275 / 1650 (thread    4) f\b\b\r",
      "STEP   276 / 1650 (thread    5) f\b\b\r",
      "STEP   277 / 1650 (thread    0) f\b\b\r",
      "STEP   278 / 1650 (thread    1) f\b\b\r",
      "STEP   279 / 1650 (thread    4) f\b\b\r",
      "STEP   280 / 1650 (thread    2) f\b\b\r",
      "STEP   281 / 1650 (thread    5) f\b\b\r",
      "STEP   282 / 1650 (thread    3) f\b\b\r",
      "STEP   283 / 1650 (thread    1) f\b\b\r",
      "STEP   284 / 1650 (thread    0) f\b\b\r",
      "STEP   285 / 1650 (thread    4) f\b\b\r",
      "STEP   286 / 1650 (thread    1) f\b\b\r",
      "STEP   287 / 1650 (thread    4) f\b\b\r",
      "STEP   288 / 1650 (thread    5) f\b\b\r",
      "STEP   289 / 1650 (thread    2) f\b\b\r",
      "STEP   290 / 1650 (thread    3) f\b\b\r",
      "STEP   291 / 1650 (thread    0) f\b\b\r",
      "STEP   292 / 1650 (thread    1) f\b\b\r",
      "STEP   293 / 1650 (thread    4) f\b\b\r",
      "STEP   294 / 1650 (thread    5) f\b\b\r",
      "STEP   295 / 1650 (thread    2) f\b\b\r",
      "STEP   296 / 1650 (thread    3) f\b\b\r",
      "STEP   297 / 1650 (thread    1) f\b\b\r",
      "STEP   298 / 1650 (thread    0) f\b\b\r",
      "STEP   299 / 1650 (thread    4) f\b\b\r",
      "STEP   300 / 1650 (thread    1) f\b\b\r",
      "STEP   301 / 1650 (thread    4) f\b\b\r",
      "STEP   302 / 1650 (thread    5) f\b\b\r",
      "STEP   303 / 1650 (thread    2) f\b\b\r",
      "STEP   304 / 1650 (thread    3) f\b\b\r",
      "STEP   305 / 1650 (thread    0) f\b\b\r",
      "STEP   306 / 1650 (thread    1) f\b\b\r",
      "STEP   307 / 1650 (thread    4) f\b\b\r",
      "STEP   308 / 1650 (thread    5) f\b\b\r",
      "STEP   309 / 1650 (thread    1) f\b\b\r",
      "STEP   310 / 1650 (thread    2) f\b\b\r",
      "STEP   311 / 1650 (thread    3) f\b\b\r",
      "STEP   312 / 1650 (thread    4) f\b\b\r",
      "STEP   313 / 1650 (thread    0) f\b\b\r",
      "STEP   314 / 1650 (thread    1) f\b\b\r",
      "STEP   315 / 1650 (thread    4) f\b\b\r",
      "STEP   316 / 1650 (thread    5) f\b\b\r",
      "STEP   317 / 1650 (thread    2) f\b\b\r",
      "STEP   318 / 1650 (thread    3) f\b\b\r",
      "STEP   319 / 1650 (thread    0) f\b\b\r",
      "STEP   320 / 1650 (thread    1) f\b\b\r",
      "STEP   321 / 1650 (thread    4) f\b\b\r",
      "STEP   322 / 1650 (thread    1) f\b\b\r",
      "STEP   323 / 1650 (thread    2)\r",
      "STEP   324 / 1650 (thread    3) f\b\b f\b\b\r",
      "STEP   325 / 1650 (thread    5) f\b\b\r",
      "STEP   326 / 1650 (thread    0) f\b\b\r",
      "STEP   327 / 1650 (thread    4) f\b\b\r",
      "STEP   328 / 1650 (thread    1) f\b\b\r",
      "STEP   329 / 1650 (thread    4) f\b\b\r",
      "STEP   330 / 1650 (thread    3) f\b\b\r",
      "STEP   331 / 1650 (thread    2) f\b\b\r",
      "STEP   332 / 1650 (thread    5) f\b\b\r",
      "STEP   333 / 1650 (thread    0) f\b\b\r",
      "STEP   334 / 1650 (thread    1) f\b\b\r",
      "STEP   335 / 1650 (thread    4) f\b\b\r",
      "STEP   336 / 1650 (thread    1) f\b\b\r",
      "STEP   337 / 1650 (thread    3) f\b\b\r",
      "STEP   338 / 1650 (thread    2) f\b\b\r",
      "STEP   339 / 1650 (thread    0) f\b\b\r",
      "STEP   340 / 1650 (thread    4) f\b\b\r",
      "STEP   341 / 1650 (thread    5) f\b\b\r",
      "STEP   342 / 1650 (thread    1) f\b\b\r",
      "STEP   343 / 1650 (thread    4) f\b\b\r",
      "STEP   345 / 1650 (thread    1) f\b\b\r",
      "STEP   346 / 1650 (thread    2) f\b\b\r",
      "STEP   344 / 1650 (thread    3) f\b\b\r",
      "STEP   347 / 1650 (thread    0) f\b\b\r",
      "STEP   348 / 1650 (thread    5) f\b\b\r",
      "STEP   349 / 1650 (thread    4) f\b\b\r",
      "STEP   350 / 1650 (thread    2) f\b\b\r",
      "STEP   351 / 1650 (thread    1) f\b\b\r",
      "STEP   352 / 1650 (thread    4) f\b\b\r",
      "STEP   353 / 1650 (thread    3) f\b\b\r",
      "STEP   354 / 1650 (thread    1) f\b\b\r",
      "STEP   355 / 1650 (thread    0) f\b\b\r",
      "STEP   356 / 1650 (thread    5) f\b\b\r",
      "STEP   357 / 1650 (thread    2) f\b\b\r",
      "STEP   358 / 1650 (thread    4) f\b\b\r",
      "STEP   359 / 1650 (thread    1) f\b\b\r",
      "STEP   360 / 1650 (thread    3) f\b\b\r",
      "STEP   361 / 1650 (thread    4) f\b\b\r",
      "STEP   362 / 1650 (thread    1) f\b\b\r",
      "STEP   363 / 1650 (thread    0) f\b\b\r",
      "STEP   364 / 1650 (thread    5) f\b\b\r",
      "STEP   365 / 1650 (thread    2) f\b\b\r",
      "STEP   366 / 1650 (thread    4) f\b\b\r",
      "STEP   367 / 1650 (thread    1) f\b\b\r",
      "STEP   368 / 1650 (thread    3) f\b\b\r",
      "STEP   369 / 1650 (thread    4) f\b\b\r",
      "STEP   370 / 1650 (thread    5) f\b\b\r",
      "STEP   371 / 1650 (thread    0) f\b\b\r",
      "STEP   372 / 1650 (thread    2) f\b\b\r",
      "STEP   373 / 1650 (thread    1) f\b\b\r",
      "STEP   374 / 1650 (thread    4) f\b\b\r",
      "STEP   375 / 1650 (thread    3) f\b\b\r",
      "STEP   376 / 1650 (thread    5) f\b\b\r",
      "STEP   377 / 1650 (thread    1) f\b\b\r",
      "STEP   378 / 1650 (thread    0) f\b\b\r",
      "STEP   379 / 1650 (thread    2) f\b\b\r",
      "STEP   380 / 1650 (thread    4) f\b\b\r",
      "STEP   381 / 1650 (thread    1) f\b\b\r",
      "STEP   382 / 1650 (thread    3) f\b\b\r",
      "STEP   383 / 1650 (thread    5) f\b\b\r",
      "STEP   384 / 1650 (thread    4) f\b\b\r",
      "STEP   385 / 1650 (thread    5) f\b\b\r",
      "STEP   386 / 1650 (thread    2) f\b\b\r",
      "STEP   388 / 1650 (thread    4) f\b\b\r",
      "STEP   389 / 1650 (thread    1) f\b\b\r",
      "STEP   390 / 1650 (thread    5) f\b\b\r",
      "STEP   391 / 1650 (thread    2) f\b\b\r",
      "STEP   392 / 1650 (thread    4) f\b\b\r",
      "STEP   393 / 1650 (thread    5) f\b\b\r",
      "STEP   394 / 1650 (thread    3) f\b\b\r",
      "STEP   387 / 1650 (thread    0) f\b\b\r",
      "STEP   395 / 1650 (thread    4) f\b\b\r",
      "STEP   396 / 1650 (thread    5) f\b\b\r",
      "STEP   397 / 1650 (thread    1) f\b\b\r",
      "STEP   398 / 1650 (thread    4) f\b\b\r",
      "STEP   399 / 1650 (thread    1) f\b\b\r",
      "STEP   400 / 1650 (thread    3) f\b\b\r",
      "STEP   401 / 1650 (thread    5) f\b\b\r",
      "STEP   402 / 1650 (thread    2) f\b\b\r",
      "STEP   403 / 1650 (thread    4) f\b\b\r",
      "STEP   404 / 1650 (thread    1) f\b\b\r",
      "STEP   405 / 1650 (thread    5) f\b\b\r",
      "STEP   406 / 1650 (thread    4) f\b\b\r",
      "STEP   407 / 1650 (thread    0) f\b\b\r",
      "STEP   408 / 1650 (thread    1) f\b\b\r",
      "STEP   409 / 1650 (thread    4) f\b\b\r",
      "STEP   410 / 1650 (thread    3) f\b\b\r",
      "STEP   411 / 1650 (thread    5) f\b\b\r",
      "STEP   412 / 1650 (thread    1) f\b\b\r",
      "STEP   413 / 1650 (thread    0) f\b\b\r",
      "STEP   414 / 1650 (thread    2) f\b\b\r",
      "STEP   415 / 1650 (thread    4) f\b\b\r",
      "STEP   416 / 1650 (thread    4) f\b\b\r",
      "STEP   417 / 1650 (thread    0) f\b\b\r",
      "STEP   418 / 1650 (thread    2) f\b\b\r",
      "STEP   419 / 1650 (thread    1) f\b\b\r",
      "STEP   420 / 1650 (thread    4) f\b\b\r",
      "STEP   421 / 1650 (thread    5) f\b\b\r",
      "STEP   422 / 1650 (thread    3) f\b\b\r",
      "STEP   423 / 1650 (thread    0) f\b\b\r",
      "STEP   424 / 1650 (thread    1) f\b\b\r",
      "STEP   425 / 1650 (thread    2) f\b\b\r",
      "STEP   426 / 1650 (thread    4) f\b\b\r",
      "STEP   427 / 1650 (thread    1) f\b\b\r",
      "STEP   428 / 1650 (thread    5) f\b\b\r",
      "STEP   429 / 1650 (thread    3) f\b\b\r",
      "STEP   430 / 1650 (thread    0) f\b\b\r",
      "STEP   431 / 1650 (thread    2) f\b\b\r",
      "STEP   432 / 1650 (thread    4) f\b\b\r",
      "STEP   433 / 1650 (thread    1) f\b\b\r",
      "STEP   434 / 1650 (thread    5) f\b\b\r",
      "STEP   435 / 1650 (thread    3) f\b\b\r",
      "STEP   436 / 1650 (thread    4) f\b\b\r",
      "STEP   437 / 1650 (thread    2) f\b\b\r",
      "STEP   438 / 1650 (thread    1) f\b\b\r",
      "STEP   439 / 1650 (thread    5) f\b\b\r",
      "STEP   440 / 1650 (thread    1) f\b\b\r",
      "STEP   441 / 1650 (thread    0) f\b\b\r",
      "STEP   442 / 1650 (thread    3) f\b\b\r",
      "STEP   443 / 1650 (thread    2) f\b\b\r",
      "STEP   444 / 1650 (thread    4) f\b\b\r",
      "STEP   445 / 1650 (thread    1) f\b\b\r",
      "STEP   446 / 1650 (thread    5) f\b\b\r",
      "STEP   447 / 1650 (thread    0) f\b\b\r",
      "STEP   448 / 1650 (thread    3) f\b\b\r",
      "STEP   449 / 1650 (thread    2) f\b\b\r",
      "STEP   450 / 1650 (thread    1) f\b\b\r",
      "STEP   451 / 1650 (thread    4) f\b\b\r",
      "STEP   452 / 1650 (thread    5) f\b\b\r",
      "STEP   453 / 1650 (thread    4) f\b\b\r",
      "STEP   454 / 1650 (thread    3) f\b\b\r",
      "STEP   455 / 1650 (thread    2) f\b\b\r",
      "STEP   456 / 1650 (thread    1) f\b\b\r",
      "STEP   457 / 1650 (thread    4) f\b\b\r",
      "STEP   458 / 1650 (thread    5) f\b\b\r",
      "STEP   459 / 1650 (thread    3) f\b\b\r",
      "STEP   460 / 1650 (thread    0) f\b\b\r",
      "STEP   461 / 1650 (thread    1) f\b\b\r",
      "STEP   462 / 1650 (thread    4) f\b\b\r",
      "STEP   463 / 1650 (thread    5) f\b\b\r",
      "STEP   464 / 1650 (thread    1) f\b\b\r",
      "STEP   465 / 1650 (thread    2) f\b\b\r",
      "STEP   466 / 1650 (thread    3) f\b\b\r",
      "STEP   467 / 1650 (thread    0) f\b\b\r",
      "STEP   468 / 1650 (thread    4) f\b\b\r",
      "STEP   469 / 1650 (thread    1) f\b\b\r",
      "STEP   470 / 1650 (thread    5) f\b\b\r",
      "STEP   471 / 1650 (thread    2) f\b\b\r",
      "STEP   472 / 1650 (thread    3) f\b\b\r",
      "STEP   473 / 1650 (thread    0) f\b\b\r",
      "STEP   474 / 1650 (thread    4) f\b\b\r",
      "STEP   475 / 1650 (thread    1) f\b\b\r",
      "STEP   476 / 1650 (thread    5) f\b\b\r",
      "STEP   477 / 1650 (thread    4) f\b\b\r",
      "STEP   478 / 1650 (thread    2) f\b\b\r",
      "STEP   479 / 1650 (thread    3) f\b\b\r",
      "STEP   480 / 1650 (thread    1) f\b\b\r",
      "STEP   481 / 1650 (thread    0) f\b\b\r",
      "STEP   482 / 1650 (thread    4) f\b\b\r",
      "STEP   483 / 1650 (thread    1) f\b\b\r",
      "STEP   484 / 1650 (thread    5) f\b\b\r",
      "STEP   485 / 1650 (thread    2) f\b\b\r",
      "STEP   486 / 1650 (thread    3) f\b\b\r",
      "STEP   487 / 1650 (thread    0) f\b\b\r",
      "STEP   488 / 1650 (thread    4) f\b\b\r",
      "STEP   489 / 1650 (thread    1) f\b\b\r",
      "STEP   490 / 1650 (thread    5) f\b\b\r",
      "STEP   491 / 1650 (thread    4) f\b\b\r",
      "STEP   492 / 1650 (thread    1) f\b\b\r",
      "STEP   493 / 1650 (thread    2) f\b\b\r",
      "STEP   494 / 1650 (thread    3) f\b\b\r",
      "STEP   495 / 1650 (thread    0) f\b\b\r",
      "STEP   496 / 1650 (thread    1) f\b\b\r",
      "STEP   497 / 1650 (thread    4) f\b\b\r",
      "STEP   498 / 1650 (thread    5) f\b\b\r",
      "STEP   499 / 1650 (thread    2) f\b\b\r",
      "STEP   500 / 1650 (thread    3) f\b\b"
     ]
    },
    {
     "name": "stderr",
     "output_type": "stream",
     "text": [
      "\r",
      "STEP   501 / 1650 (thread    1) f\b\b\r",
      "STEP   601 / 1650 (thread    4) f\b\b\r",
      "STEP   701 / 1650 (thread    2) f\b\b\r",
      "STEP   801 / 1650 (thread    3) f\b\b\r",
      "STEP   901 / 1650 (thread    5) f\b\b\r",
      "STEP  1001 / 1650 (thread    0) f\b\b\r",
      "STEP  1101 / 1650 (thread    1) f\b\b"
     ]
    },
    {
     "name": "stderr",
     "output_type": "stream",
     "text": [
      "\r",
      "STEP  1201 / 1650 (thread    4) f\b\b\r",
      "STEP  1301 / 1650 (thread    5) f\b\b\r",
      "STEP  1401 / 1650 (thread    1) f\b\b\r",
      "STEP  1501 / 1650 (thread    0) f\b\b\n",
      "Reallocating..done. *alloclen = 1909\n"
     ]
    },
    {
     "name": "stderr",
     "output_type": "stream",
     "text": [
      "\r",
      "STEP  1601 / 1650 (thread    1) d\b\b h"
     ]
    },
    {
     "name": "stderr",
     "output_type": "stream",
     "text": [
      "\n",
      "done.\n",
      "\n",
      "disttbfast (nuc) Version 7.490\n",
      "alg=A, model=DNA200 (2), 1.53 (4.59), -0.00 (-0.00), noshift, amax=0.0\n",
      "6 thread(s)\n",
      "\n",
      "\n",
      "Strategy:\n",
      " FFT-NS-2 (Fast but rough)\n",
      " Progressive method (guide trees were built 2 times.)\n",
      "\n",
      "If unsure which option to use, try 'mafft --auto input > output'.\n",
      "For more information, see 'mafft --help', 'mafft --man' and the mafft page.\n",
      "\n",
      "The default gap scoring scheme has been changed in version 7.110 (2013 Oct).\n",
      "It tends to insert more gaps into gap-rich regions than previous versions.\n",
      "To disable this change, add the --leavegappyregion option.\n",
      "\n"
     ]
    },
    {
     "name": "stdout",
     "output_type": "stream",
     "text": [
      "Running external command line application. This may print messages to stdout and/or stderr.\n",
      "The command being run is below. This command cannot be manually re-run as it will depend on temporary files that no longer exist.\n",
      "\n",
      "Command: FastTreeMP -quote -nt /tmp/qiime2-archive-2gga3dpu/b985e9e8-75b9-4787-8627-59f808957458/data/aligned-dna-sequences.fasta\n",
      "\n"
     ]
    },
    {
     "name": "stderr",
     "output_type": "stream",
     "text": [
      "FastTree Version 2.1.10 Double precision (No SSE3), OpenMP (6 threads)\n",
      "Alignment: /tmp/qiime2-archive-2gga3dpu/b985e9e8-75b9-4787-8627-59f808957458/data/aligned-dna-sequences.fasta\n",
      "Nucleotide distances: Jukes-Cantor Joins: balanced Support: SH-like 1000\n",
      "Search: Normal +NNI +SPR (2 rounds range 10) +ML-NNI opt-each=1\n",
      "TopHits: 1.00*sqrtN close=default refresh=0.80\n",
      "ML Model: Jukes-Cantor, CAT approximation with 20 rate categories\n",
      "      0.15 seconds: Joined    100 of   1630\n"
     ]
    },
    {
     "name": "stderr",
     "output_type": "stream",
     "text": [
      "      0.31 seconds: Joined    300 of   1630\n",
      "      0.43 seconds: Joined    400 of   1630\n"
     ]
    },
    {
     "name": "stderr",
     "output_type": "stream",
     "text": [
      "      0.54 seconds: Joined    500 of   1630\n",
      "      0.64 seconds: Joined    600 of   1630\n"
     ]
    },
    {
     "name": "stderr",
     "output_type": "stream",
     "text": [
      "      0.85 seconds: Joined    800 of   1630\n"
     ]
    },
    {
     "name": "stderr",
     "output_type": "stream",
     "text": [
      "      1.10 seconds: Joined   1000 of   1630\n",
      "      1.29 seconds: Joined   1200 of   1630\n"
     ]
    },
    {
     "name": "stderr",
     "output_type": "stream",
     "text": [
      "      1.47 seconds: Joined   1400 of   1630\n",
      "      1.58 seconds: Joined   1500 of   1630\n",
      "Initial topology in 1.68 seconds\n",
      "Refining topology: 43 rounds ME-NNIs, 2 rounds ME-SPRs, 21 rounds ML-NNIs\n"
     ]
    },
    {
     "name": "stderr",
     "output_type": "stream",
     "text": [
      "      1.68 seconds: ME NNI round 1 of 43, 201 of 1631 splits, 43 changes (max delta 0.011)\n",
      "      1.78 seconds: ME NNI round 2 of 43, 1201 of 1631 splits, 137 changes (max delta 0.020)\n"
     ]
    },
    {
     "name": "stderr",
     "output_type": "stream",
     "text": [
      "      1.88 seconds: ME NNI round 5 of 43, 101 of 1631 splits, 6 changes (max delta 0.014)\n",
      "      1.99 seconds: SPR round   1 of   2, 101 of 3264 nodes\n"
     ]
    },
    {
     "name": "stderr",
     "output_type": "stream",
     "text": [
      "      2.11 seconds: SPR round   1 of   2, 301 of 3264 nodes\n",
      "      2.24 seconds: SPR round   1 of   2, 501 of 3264 nodes\n"
     ]
    },
    {
     "name": "stderr",
     "output_type": "stream",
     "text": [
      "      2.37 seconds: SPR round   1 of   2, 701 of 3264 nodes\n",
      "      2.50 seconds: SPR round   1 of   2, 901 of 3264 nodes\n"
     ]
    },
    {
     "name": "stderr",
     "output_type": "stream",
     "text": [
      "      2.64 seconds: SPR round   1 of   2, 1101 of 3264 nodes\n",
      "      2.79 seconds: SPR round   1 of   2, 1301 of 3264 nodes\n"
     ]
    },
    {
     "name": "stderr",
     "output_type": "stream",
     "text": [
      "      2.91 seconds: SPR round   1 of   2, 1501 of 3264 nodes\n",
      "      3.03 seconds: SPR round   1 of   2, 1701 of 3264 nodes\n"
     ]
    },
    {
     "name": "stderr",
     "output_type": "stream",
     "text": [
      "      3.15 seconds: SPR round   1 of   2, 1901 of 3264 nodes\n",
      "      3.28 seconds: SPR round   1 of   2, 2101 of 3264 nodes\n"
     ]
    },
    {
     "name": "stderr",
     "output_type": "stream",
     "text": [
      "      3.42 seconds: SPR round   1 of   2, 2301 of 3264 nodes\n",
      "      3.55 seconds: SPR round   1 of   2, 2501 of 3264 nodes\n"
     ]
    },
    {
     "name": "stderr",
     "output_type": "stream",
     "text": [
      "      3.66 seconds: SPR round   1 of   2, 2701 of 3264 nodes\n",
      "      3.77 seconds: SPR round   1 of   2, 2901 of 3264 nodes\n"
     ]
    },
    {
     "name": "stderr",
     "output_type": "stream",
     "text": [
      "      3.88 seconds: SPR round   1 of   2, 3101 of 3264 nodes\n",
      "      3.99 seconds: ME NNI round 15 of 43, 1 of 1631 splits\n"
     ]
    },
    {
     "name": "stderr",
     "output_type": "stream",
     "text": [
      "      4.09 seconds: ME NNI round 16 of 43, 1601 of 1631 splits, 14 changes (max delta 0.018)\n",
      "      4.20 seconds: SPR round   2 of   2, 201 of 3264 nodes\n"
     ]
    },
    {
     "name": "stderr",
     "output_type": "stream",
     "text": [
      "      4.31 seconds: SPR round   2 of   2, 401 of 3264 nodes\n",
      "      4.47 seconds: SPR round   2 of   2, 701 of 3264 nodes\n"
     ]
    },
    {
     "name": "stderr",
     "output_type": "stream",
     "text": [
      "      4.58 seconds: SPR round   2 of   2, 901 of 3264 nodes\n",
      "      4.70 seconds: SPR round   2 of   2, 1101 of 3264 nodes\n"
     ]
    },
    {
     "name": "stderr",
     "output_type": "stream",
     "text": [
      "      4.82 seconds: SPR round   2 of   2, 1301 of 3264 nodes\n",
      "      4.96 seconds: SPR round   2 of   2, 1601 of 3264 nodes\n"
     ]
    },
    {
     "name": "stderr",
     "output_type": "stream",
     "text": [
      "      5.07 seconds: SPR round   2 of   2, 1801 of 3264 nodes\n",
      "      5.17 seconds: SPR round   2 of   2, 2001 of 3264 nodes\n"
     ]
    },
    {
     "name": "stderr",
     "output_type": "stream",
     "text": [
      "      5.28 seconds: SPR round   2 of   2, 2201 of 3264 nodes\n",
      "      5.41 seconds: SPR round   2 of   2, 2401 of 3264 nodes\n"
     ]
    },
    {
     "name": "stderr",
     "output_type": "stream",
     "text": [
      "      5.51 seconds: SPR round   2 of   2, 2601 of 3264 nodes\n",
      "      5.68 seconds: SPR round   2 of   2, 2901 of 3264 nodes\n"
     ]
    },
    {
     "name": "stderr",
     "output_type": "stream",
     "text": [
      "      5.79 seconds: SPR round   2 of   2, 3101 of 3264 nodes\n",
      "      5.89 seconds: ME NNI round 29 of 43, 401 of 1631 splits, 5 changes (max delta 0.008)\n"
     ]
    },
    {
     "name": "stderr",
     "output_type": "stream",
     "text": [
      "Total branch-length 24.204 after 6.05 sec\n",
      "      6.05 seconds: ML Lengths 1 of 1631 splits\n",
      "      6.18 seconds: ML Lengths 401 of 1631 splits\n"
     ]
    },
    {
     "name": "stderr",
     "output_type": "stream",
     "text": [
      "      6.31 seconds: ML Lengths 801 of 1631 splits\n",
      "      6.43 seconds: ML Lengths 1201 of 1631 splits\n"
     ]
    },
    {
     "name": "stderr",
     "output_type": "stream",
     "text": [
      "      6.56 seconds: ML Lengths 1601 of 1631 splits\n",
      "      6.68 seconds: ML NNI round 1 of 21, 101 of 1631 splits, 32 changes (max delta 3.810)\n"
     ]
    },
    {
     "name": "stderr",
     "output_type": "stream",
     "text": [
      "      6.80 seconds: ML NNI round 1 of 21, 201 of 1631 splits, 59 changes (max delta 7.928)\n",
      "      6.92 seconds: ML NNI round 1 of 21, 301 of 1631 splits, 84 changes (max delta 7.928)\n"
     ]
    },
    {
     "name": "stderr",
     "output_type": "stream",
     "text": [
      "      7.06 seconds: ML NNI round 1 of 21, 401 of 1631 splits, 114 changes (max delta 7.928)\n",
      "      7.17 seconds: ML NNI round 1 of 21, 501 of 1631 splits, 150 changes (max delta 18.409)\n"
     ]
    },
    {
     "name": "stderr",
     "output_type": "stream",
     "text": [
      "      7.37 seconds: ML NNI round 1 of 21, 701 of 1631 splits, 202 changes (max delta 18.409)\n",
      "      7.57 seconds: ML NNI round 1 of 21, 901 of 1631 splits, 251 changes (max delta 18.409)"
     ]
    },
    {
     "name": "stderr",
     "output_type": "stream",
     "text": [
      "\n",
      "      7.76 seconds: ML NNI round 1 of 21, 1101 of 1631 splits, 296 changes (max delta 18.409)\n"
     ]
    },
    {
     "name": "stderr",
     "output_type": "stream",
     "text": [
      "      7.93 seconds: ML NNI round 1 of 21, 1301 of 1631 splits, 349 changes (max delta 18.409)\n",
      "      8.10 seconds: ML NNI round 1 of 21, 1501 of 1631 splits, 397 changes (max delta 18.409)\n"
     ]
    },
    {
     "name": "stderr",
     "output_type": "stream",
     "text": [
      "ML-NNI round 1: LogLk = -58986.755 NNIs 433 max delta 18.41 Time 8.24\n",
      "      8.26 seconds: Site likelihoods with rate category 1 of 20\n",
      "      8.36 seconds: Site likelihoods with rate category 5 of 20\n"
     ]
    },
    {
     "name": "stderr",
     "output_type": "stream",
     "text": [
      "      8.48 seconds: Site likelihoods with rate category 10 of 20\n",
      "      8.61 seconds: Site likelihoods with rate category 15 of 20\n"
     ]
    },
    {
     "name": "stderr",
     "output_type": "stream",
     "text": [
      "      8.71 seconds: Site likelihoods with rate category 19 of 20\n",
      "Switched to using 20 rate categories (CAT approximation)\n",
      "Rate categories were divided by 1.082 so that average rate = 1.0\n",
      "CAT-based log-likelihoods may not be comparable across runs\n",
      "Use -gamma for approximate but comparable Gamma(20) log-likelihoods\n",
      "      8.86 seconds: ML NNI round 2 of 21, 101 of 1631 splits, 10 changes (max delta 1.358)\n"
     ]
    },
    {
     "name": "stderr",
     "output_type": "stream",
     "text": [
      "      9.04 seconds: ML NNI round 2 of 21, 301 of 1631 splits, 38 changes (max delta 3.269)\n"
     ]
    },
    {
     "name": "stderr",
     "output_type": "stream",
     "text": [
      "      9.24 seconds: ML NNI round 2 of 21, 501 of 1631 splits, 80 changes (max delta 6.216)\n",
      "      9.44 seconds: ML NNI round 2 of 21, 701 of 1631 splits, 105 changes (max delta 8.906)\n"
     ]
    },
    {
     "name": "stderr",
     "output_type": "stream",
     "text": [
      "      9.54 seconds: ML NNI round 2 of 21, 801 of 1631 splits, 129 changes (max delta 8.906)\n",
      "      9.65 seconds: ML NNI round 2 of 21, 901 of 1631 splits, 144 changes (max delta 8.906)\n"
     ]
    },
    {
     "name": "stderr",
     "output_type": "stream",
     "text": [
      "      9.76 seconds: ML NNI round 2 of 21, 1001 of 1631 splits, 156 changes (max delta 8.906)\n",
      "      9.94 seconds: ML NNI round 2 of 21, 1201 of 1631 splits, 178 changes (max delta 8.906)\n"
     ]
    },
    {
     "name": "stderr",
     "output_type": "stream",
     "text": [
      "     10.05 seconds: ML NNI round 2 of 21, 1301 of 1631 splits, 196 changes (max delta 8.906)\n",
      "     10.23 seconds: ML NNI round 2 of 21, 1501 of 1631 splits, 240 changes (max delta 8.906)\n"
     ]
    },
    {
     "name": "stderr",
     "output_type": "stream",
     "text": [
      "ML-NNI round 2: LogLk = -46485.848 NNIs 261 max delta 8.91 Time 10.37\n",
      "     10.36 seconds: ML NNI round 3 of 21, 1 of 1631 splits\n",
      "     10.55 seconds: ML NNI round 3 of 21, 201 of 1631 splits, 23 changes (max delta 0.723)\n"
     ]
    },
    {
     "name": "stderr",
     "output_type": "stream",
     "text": [
      "     10.74 seconds: ML NNI round 3 of 21, 401 of 1631 splits, 56 changes (max delta 3.554)\n",
      "     10.92 seconds: ML NNI round 3 of 21, 601 of 1631 splits, 79 changes (max delta 3.554)\n"
     ]
    },
    {
     "name": "stderr",
     "output_type": "stream",
     "text": [
      "     11.09 seconds: ML NNI round 3 of 21, 801 of 1631 splits, 99 changes (max delta 3.554)\n",
      "     11.26 seconds: ML NNI round 3 of 21, 1001 of 1631 splits, 119 changes (max delta 3.554)\n"
     ]
    },
    {
     "name": "stderr",
     "output_type": "stream",
     "text": [
      "     11.44 seconds: ML NNI round 3 of 21, 1201 of 1631 splits, 150 changes (max delta 3.554)\n",
      "ML-NNI round 3: LogLk = -46446.400 NNIs 156 max delta 3.55 Time 11.52\n",
      "     11.59 seconds: ML NNI round 4 of 21, 101 of 1631 splits, 4 changes (max delta 2.002)\n"
     ]
    },
    {
     "name": "stderr",
     "output_type": "stream",
     "text": [
      "     11.76 seconds: ML NNI round 4 of 21, 301 of 1631 splits, 12 changes (max delta 2.002)\n",
      "     11.94 seconds: ML NNI round 4 of 21, 501 of 1631 splits, 32 changes (max delta 4.235)\n"
     ]
    },
    {
     "name": "stderr",
     "output_type": "stream",
     "text": [
      "     12.11 seconds: ML NNI round 4 of 21, 701 of 1631 splits, 43 changes (max delta 4.235)\n",
      "ML-NNI round 4: LogLk = -46413.861 NNIs 45 max delta 4.24 Time 12.18\n",
      "     12.26 seconds: ML NNI round 5 of 21, 101 of 1631 splits, 3 changes (max delta 0.330)\n"
     ]
    },
    {
     "name": "stderr",
     "output_type": "stream",
     "text": [
      "ML-NNI round 5: LogLk = -46405.298 NNIs 17 max delta 4.07 Time 12.46\n",
      "     12.45 seconds: ML NNI round 6 of 21, 1 of 1631 splits\n",
      "ML-NNI round 6: LogLk = -46404.569 NNIs 3 max delta 0.18 Time 12.59\n",
      "     12.59 seconds: ML NNI round 7 of 21, 1 of 1631 splits\n"
     ]
    },
    {
     "name": "stderr",
     "output_type": "stream",
     "text": [
      "ML-NNI round 7: LogLk = -46404.078 NNIs 3 max delta 0.01 Time 12.67\n",
      "Turning off heuristics for final round of ML NNIs (converged)\n",
      "     12.75 seconds: ML NNI round 8 of 21, 101 of 1631 splits, 1 changes (max delta 0.000)\n"
     ]
    },
    {
     "name": "stderr",
     "output_type": "stream",
     "text": [
      "     12.92 seconds: ML NNI round 8 of 21, 301 of 1631 splits, 7 changes (max delta 1.233)\n",
      "     13.11 seconds: ML NNI round 8 of 21, 501 of 1631 splits, 18 changes (max delta 1.233)\n"
     ]
    },
    {
     "name": "stderr",
     "output_type": "stream",
     "text": [
      "     13.28 seconds: ML NNI round 8 of 21, 701 of 1631 splits, 19 changes (max delta 1.233)\n",
      "     13.47 seconds: ML NNI round 8 of 21, 901 of 1631 splits, 26 changes (max delta 1.233)\n"
     ]
    },
    {
     "name": "stderr",
     "output_type": "stream",
     "text": [
      "     13.66 seconds: ML NNI round 8 of 21, 1101 of 1631 splits, 33 changes (max delta 2.547)\n",
      "     13.76 seconds: ML NNI round 8 of 21, 1201 of 1631 splits, 38 changes (max delta 2.547)\n"
     ]
    },
    {
     "name": "stderr",
     "output_type": "stream",
     "text": [
      "     13.93 seconds: ML NNI round 8 of 21, 1401 of 1631 splits, 44 changes (max delta 2.547)\n",
      "     14.10 seconds: ML NNI round 8 of 21, 1601 of 1631 splits, 51 changes (max delta 2.547)\n"
     ]
    },
    {
     "name": "stderr",
     "output_type": "stream",
     "text": [
      "ML-NNI round 8: LogLk = -46385.523 NNIs 52 max delta 2.55 Time 14.15 (final)\n",
      "     14.21 seconds: ML Lengths 301 of 1631 splits\n",
      "     14.33 seconds: ML Lengths 801 of 1631 splits\n"
     ]
    },
    {
     "name": "stderr",
     "output_type": "stream",
     "text": [
      "     14.45 seconds: ML Lengths 1301 of 1631 splits\n",
      "Optimize all lengths: LogLk = -46378.809 Time 14.55\n"
     ]
    },
    {
     "name": "stderr",
     "output_type": "stream",
     "text": [
      "     14.70 seconds: ML split tests for    100 of   1630 internal splits\n",
      "     14.85 seconds: ML split tests for    200 of   1630 internal splits\n"
     ]
    },
    {
     "name": "stderr",
     "output_type": "stream",
     "text": [
      "     15.00 seconds: ML split tests for    300 of   1630 internal splits\n",
      "     15.15 seconds: ML split tests for    400 of   1630 internal splits\n"
     ]
    },
    {
     "name": "stderr",
     "output_type": "stream",
     "text": [
      "     15.31 seconds: ML split tests for    500 of   1630 internal splits\n",
      "     15.46 seconds: ML split tests for    600 of   1630 internal splits\n"
     ]
    },
    {
     "name": "stderr",
     "output_type": "stream",
     "text": [
      "     15.61 seconds: ML split tests for    700 of   1630 internal splits\n",
      "     15.77 seconds: ML split tests for    800 of   1630 internal splits\n"
     ]
    },
    {
     "name": "stderr",
     "output_type": "stream",
     "text": [
      "     15.92 seconds: ML split tests for    900 of   1630 internal splits\n",
      "     16.06 seconds: ML split tests for   1000 of   1630 internal splits\n"
     ]
    },
    {
     "name": "stderr",
     "output_type": "stream",
     "text": [
      "     16.21 seconds: ML split tests for   1100 of   1630 internal splits\n",
      "     16.36 seconds: ML split tests for   1200 of   1630 internal splits\n"
     ]
    },
    {
     "name": "stderr",
     "output_type": "stream",
     "text": [
      "     16.51 seconds: ML split tests for   1300 of   1630 internal splits\n",
      "     16.66 seconds: ML split tests for   1400 of   1630 internal splits\n"
     ]
    },
    {
     "name": "stderr",
     "output_type": "stream",
     "text": [
      "     16.81 seconds: ML split tests for   1500 of   1630 internal splits\n",
      "     16.96 seconds: ML split tests for   1600 of   1630 internal splits\n",
      "Total time: 17.01 seconds Unique: 1633/1651 Bad splits: 4/1630 Worst delta-LogLk 1.151\n"
     ]
    }
   ],
   "source": [
    "mafft_alignment, mafft_masked_alignment, mafft_tree, mafft_rooted_tree = align_to_tree_mafft_fasttree(\n",
    "    sequences=reps, n_threads=6, )"
   ]
  },
  {
   "cell_type": "markdown",
   "id": "0768d598",
   "metadata": {
    "papermill": {
     "duration": 0.035577,
     "end_time": "2023-03-10T12:28:11.683165",
     "exception": false,
     "start_time": "2023-03-10T12:28:11.647588",
     "status": "completed"
    },
    "tags": []
   },
   "source": [
    "### Compute Alpha Diversity (Phylogeny)\n",
    "- [diversity alpha_phylogenetic](https://docs.qiime2.org/2022.8/plugins/available/diversity/alpha-phylogenetic/): Computes a user-specified phylogenetic alpha diversity metric for all samples in a feature table.\n",
    "- Metrics: Choices ('faith_pd')"
   ]
  },
  {
   "cell_type": "code",
   "execution_count": 11,
   "id": "0383aa19",
   "metadata": {
    "ExecuteTime": {
     "end_time": "2022-09-29T20:54:35.310009Z",
     "start_time": "2022-09-29T20:54:35.141333Z"
    },
    "execution": {
     "iopub.execute_input": "2023-03-10T12:28:11.756674Z",
     "iopub.status.busy": "2023-03-10T12:28:11.756145Z",
     "iopub.status.idle": "2023-03-10T12:28:11.919391Z",
     "shell.execute_reply": "2023-03-10T12:28:11.918891Z"
    },
    "papermill": {
     "duration": 0.203349,
     "end_time": "2023-03-10T12:28:11.921746",
     "exception": false,
     "start_time": "2023-03-10T12:28:11.718397",
     "status": "completed"
    },
    "tags": []
   },
   "outputs": [
    {
     "name": "stdout",
     "output_type": "stream",
     "text": [
      "Calculating alpha diversity: faith_pd\n",
      "DONE: Calculating alpha phylogeny: faith_pd\n"
     ]
    }
   ],
   "source": [
    "metrics = ('faith_pd', )\n",
    "alpha_diversities_phylogenetic = dict()\n",
    "for metric in metrics:\n",
    "    print(f\"Calculating alpha diversity: {metric}\")\n",
    "    try:\n",
    "        alpha_diversity = alpha_phylogenetic(table=tabs, phylogeny=mafft_rooted_tree, metric=metric).alpha_diversity\n",
    "        alpha_diversities_phylogenetic[metric] = alpha_diversity\n",
    "        # Save Artifact\n",
    "        file_path = os.path.join(alpha_path, f'alpha-phylogeny-{metric}.qza')\n",
    "        alpha_diversity.save(file_path)\n",
    "        print(f\"DONE: Calculating alpha phylogeny: {metric}\")\n",
    "    except Exception as e:\n",
    "        print(f\"ERROR: Calculating alpha phylogeny: {metric}\")"
   ]
  },
  {
   "cell_type": "markdown",
   "id": "c7752cfd",
   "metadata": {
    "papermill": {
     "duration": 0.036587,
     "end_time": "2023-03-10T12:28:12.004731",
     "exception": false,
     "start_time": "2023-03-10T12:28:11.968144",
     "status": "completed"
    },
    "tags": []
   },
   "source": [
    "### Alpha diversity correlation\n",
    "\n",
    "This method only process `numeric` columns.\n"
   ]
  },
  {
   "cell_type": "code",
   "execution_count": 12,
   "id": "2814f613",
   "metadata": {
    "ExecuteTime": {
     "end_time": "2022-09-29T20:54:35.317618Z",
     "start_time": "2022-09-29T20:54:35.312094Z"
    },
    "execution": {
     "iopub.execute_input": "2023-03-10T12:28:12.079302Z",
     "iopub.status.busy": "2023-03-10T12:28:12.079033Z",
     "iopub.status.idle": "2023-03-10T12:28:15.895850Z",
     "shell.execute_reply": "2023-03-10T12:28:15.895345Z"
    },
    "papermill": {
     "duration": 3.85742,
     "end_time": "2023-03-10T12:28:15.898963",
     "exception": false,
     "start_time": "2023-03-10T12:28:12.041543",
     "status": "completed"
    },
    "tags": []
   },
   "outputs": [
    {
     "name": "stdout",
     "output_type": "stream",
     "text": [
      "DONE: Calculating alpha correlation: berger_parker_d spearman\n",
      "ERROR: Calculating alpha correlation: berger_parker_d pearson\n",
      "DONE: Calculating alpha correlation: brillouin_d spearman\n",
      "ERROR: Calculating alpha correlation: brillouin_d pearson\n"
     ]
    },
    {
     "name": "stdout",
     "output_type": "stream",
     "text": [
      "DONE: Calculating alpha correlation: chao1 spearman\n",
      "DONE: Calculating alpha correlation: chao1 pearson\n",
      "ERROR: Calculating alpha correlation: chao1_ci spearman\n",
      "ERROR: Calculating alpha correlation: chao1_ci pearson\n"
     ]
    },
    {
     "name": "stdout",
     "output_type": "stream",
     "text": [
      "DONE: Calculating alpha correlation: dominance spearman\n",
      "ERROR: Calculating alpha correlation: dominance pearson\n",
      "DONE: Calculating alpha correlation: doubles spearman\n"
     ]
    },
    {
     "name": "stdout",
     "output_type": "stream",
     "text": [
      "DONE: Calculating alpha correlation: doubles pearson\n",
      "DONE: Calculating alpha correlation: enspie spearman\n",
      "ERROR: Calculating alpha correlation: enspie pearson\n",
      "ERROR: Calculating alpha correlation: esty_ci spearman\n",
      "ERROR: Calculating alpha correlation: esty_ci pearson\n"
     ]
    },
    {
     "name": "stdout",
     "output_type": "stream",
     "text": [
      "DONE: Calculating alpha correlation: fisher_alpha spearman\n",
      "DONE: Calculating alpha correlation: fisher_alpha pearson\n",
      "DONE: Calculating alpha correlation: gini_index spearman\n"
     ]
    },
    {
     "name": "stdout",
     "output_type": "stream",
     "text": [
      "ERROR: Calculating alpha correlation: gini_index pearson\n",
      "DONE: Calculating alpha correlation: goods_coverage spearman\n",
      "ERROR: Calculating alpha correlation: goods_coverage pearson\n"
     ]
    },
    {
     "name": "stdout",
     "output_type": "stream",
     "text": [
      "DONE: Calculating alpha correlation: heip_e spearman\n",
      "ERROR: Calculating alpha correlation: heip_e pearson\n",
      "DONE: Calculating alpha correlation: kempton_taylor_q spearman\n",
      "ERROR: Calculating alpha correlation: kempton_taylor_q pearson\n"
     ]
    },
    {
     "name": "stdout",
     "output_type": "stream",
     "text": [
      "DONE: Calculating alpha correlation: lladser_pe spearman\n",
      "ERROR: Calculating alpha correlation: lladser_pe pearson\n",
      "DONE: Calculating alpha correlation: margalef spearman\n"
     ]
    },
    {
     "name": "stdout",
     "output_type": "stream",
     "text": [
      "DONE: Calculating alpha correlation: margalef pearson\n",
      "DONE: Calculating alpha correlation: mcintosh_d spearman\n",
      "ERROR: Calculating alpha correlation: mcintosh_d pearson\n"
     ]
    },
    {
     "name": "stdout",
     "output_type": "stream",
     "text": [
      "DONE: Calculating alpha correlation: mcintosh_e spearman\n",
      "ERROR: Calculating alpha correlation: mcintosh_e pearson\n",
      "DONE: Calculating alpha correlation: menhinick spearman\n",
      "ERROR: Calculating alpha correlation: menhinick pearson\n"
     ]
    },
    {
     "name": "stdout",
     "output_type": "stream",
     "text": [
      "DONE: Calculating alpha correlation: michaelis_menten_fit spearman\n",
      "DONE: Calculating alpha correlation: michaelis_menten_fit pearson\n",
      "DONE: Calculating alpha correlation: observed_features spearman\n"
     ]
    },
    {
     "name": "stdout",
     "output_type": "stream",
     "text": [
      "DONE: Calculating alpha correlation: observed_features pearson\n",
      "ERROR: Calculating alpha correlation: osd spearman\n",
      "ERROR: Calculating alpha correlation: osd pearson\n",
      "DONE: Calculating alpha correlation: pielou_e spearman\n",
      "ERROR: Calculating alpha correlation: pielou_e pearson\n"
     ]
    },
    {
     "name": "stdout",
     "output_type": "stream",
     "text": [
      "DONE: Calculating alpha correlation: robbins spearman\n",
      "ERROR: Calculating alpha correlation: robbins pearson\n",
      "DONE: Calculating alpha correlation: shannon spearman\n",
      "ERROR: Calculating alpha correlation: shannon pearson\n"
     ]
    },
    {
     "name": "stdout",
     "output_type": "stream",
     "text": [
      "DONE: Calculating alpha correlation: simpson spearman\n",
      "ERROR: Calculating alpha correlation: simpson pearson\n",
      "DONE: Calculating alpha correlation: simpson_e spearman\n",
      "ERROR: Calculating alpha correlation: simpson_e pearson\n"
     ]
    },
    {
     "name": "stdout",
     "output_type": "stream",
     "text": [
      "DONE: Calculating alpha correlation: singles spearman\n",
      "DONE: Calculating alpha correlation: singles pearson\n",
      "DONE: Calculating alpha correlation: strong spearman\n"
     ]
    },
    {
     "name": "stdout",
     "output_type": "stream",
     "text": [
      "ERROR: Calculating alpha correlation: strong pearson\n"
     ]
    }
   ],
   "source": [
    "methods = ('spearman', 'pearson')\n",
    "numerics_cols = metadata_qa.filter_columns(column_type='numeric')\n",
    "if numerics_cols.column_count > 0:\n",
    "    for metric, alpha_values in alpha_diversities.items():\n",
    "        for method in methods:\n",
    "            try:\n",
    "                corr_view = alpha_correlation(alpha_diversity=alpha_values, metadata=numerics_cols, \n",
    "                                          method=method, intersect_ids=True).visualization\n",
    "                view_path = os.path.join(alpha_path, f'alpha-correlation-{metric}-{method}.qzv')\n",
    "                corr_view.save(view_path)\n",
    "                corr_view\n",
    "                print(f\"DONE: Calculating alpha correlation: {metric} {method}\")\n",
    "            except Exception as e:\n",
    "                print(f\"ERROR: Calculating alpha correlation: {metric} {method}\")"
   ]
  },
  {
   "cell_type": "markdown",
   "id": "8ea83c8a",
   "metadata": {
    "papermill": {
     "duration": 0.108823,
     "end_time": "2023-03-10T12:28:16.109849",
     "exception": false,
     "start_time": "2023-03-10T12:28:16.001026",
     "status": "completed"
    },
    "tags": []
   },
   "source": [
    "## Alpha diversity comparisons\n",
    "\n",
    "Visually and statistically compare groups of alpha diversity values.\n",
    "\n",
    "[diversity alpha_group_significance](https://docs.qiime2.org/2022.8/plugins/available/diversity/alpha-group-significance/)"
   ]
  },
  {
   "cell_type": "code",
   "execution_count": 13,
   "id": "276d1c18",
   "metadata": {
    "ExecuteTime": {
     "end_time": "2022-09-29T20:54:36.089290Z",
     "start_time": "2022-09-29T20:54:35.318963Z"
    },
    "execution": {
     "iopub.execute_input": "2023-03-10T12:28:16.340937Z",
     "iopub.status.busy": "2023-03-10T12:28:16.340485Z",
     "iopub.status.idle": "2023-03-10T12:28:23.864622Z",
     "shell.execute_reply": "2023-03-10T12:28:23.864036Z"
    },
    "papermill": {
     "duration": 7.644939,
     "end_time": "2023-03-10T12:28:23.867868",
     "exception": false,
     "start_time": "2023-03-10T12:28:16.222929",
     "status": "completed"
    },
    "tags": []
   },
   "outputs": [
    {
     "name": "stdout",
     "output_type": "stream",
     "text": [
      "Processing alpha_group_significance: berger_parker_d\n"
     ]
    },
    {
     "name": "stdout",
     "output_type": "stream",
     "text": [
      "DONE: Calculating alpha group significance: berger_parker_d\n",
      "Processing alpha_group_significance: brillouin_d\n"
     ]
    },
    {
     "name": "stdout",
     "output_type": "stream",
     "text": [
      "DONE: Calculating alpha group significance: brillouin_d\n",
      "Processing alpha_group_significance: chao1\n"
     ]
    },
    {
     "name": "stdout",
     "output_type": "stream",
     "text": [
      "DONE: Calculating alpha group significance: chao1\n",
      "Processing alpha_group_significance: chao1_ci\n",
      "ERROR: Calculating alpha group significance: chao1_ci\n",
      "Processing alpha_group_significance: dominance\n"
     ]
    },
    {
     "name": "stdout",
     "output_type": "stream",
     "text": [
      "DONE: Calculating alpha group significance: dominance\n",
      "Processing alpha_group_significance: doubles\n"
     ]
    },
    {
     "name": "stdout",
     "output_type": "stream",
     "text": [
      "DONE: Calculating alpha group significance: doubles\n",
      "Processing alpha_group_significance: enspie\n"
     ]
    },
    {
     "name": "stdout",
     "output_type": "stream",
     "text": [
      "DONE: Calculating alpha group significance: enspie\n",
      "Processing alpha_group_significance: esty_ci\n",
      "ERROR: Calculating alpha group significance: esty_ci\n",
      "Processing alpha_group_significance: fisher_alpha\n"
     ]
    },
    {
     "name": "stdout",
     "output_type": "stream",
     "text": [
      "DONE: Calculating alpha group significance: fisher_alpha\n",
      "Processing alpha_group_significance: gini_index\n"
     ]
    },
    {
     "name": "stdout",
     "output_type": "stream",
     "text": [
      "DONE: Calculating alpha group significance: gini_index\n",
      "Processing alpha_group_significance: goods_coverage\n"
     ]
    },
    {
     "name": "stdout",
     "output_type": "stream",
     "text": [
      "DONE: Calculating alpha group significance: goods_coverage\n",
      "Processing alpha_group_significance: heip_e\n"
     ]
    },
    {
     "name": "stdout",
     "output_type": "stream",
     "text": [
      "DONE: Calculating alpha group significance: heip_e\n",
      "Processing alpha_group_significance: kempton_taylor_q\n",
      "ERROR: Calculating alpha group significance: kempton_taylor_q\n",
      "Processing alpha_group_significance: lladser_pe\n"
     ]
    },
    {
     "name": "stdout",
     "output_type": "stream",
     "text": [
      "DONE: Calculating alpha group significance: lladser_pe\n",
      "Processing alpha_group_significance: margalef\n"
     ]
    },
    {
     "name": "stdout",
     "output_type": "stream",
     "text": [
      "DONE: Calculating alpha group significance: margalef\n",
      "Processing alpha_group_significance: mcintosh_d\n"
     ]
    },
    {
     "name": "stdout",
     "output_type": "stream",
     "text": [
      "DONE: Calculating alpha group significance: mcintosh_d\n",
      "Processing alpha_group_significance: mcintosh_e\n"
     ]
    },
    {
     "name": "stdout",
     "output_type": "stream",
     "text": [
      "DONE: Calculating alpha group significance: mcintosh_e\n",
      "Processing alpha_group_significance: menhinick\n"
     ]
    },
    {
     "name": "stdout",
     "output_type": "stream",
     "text": [
      "DONE: Calculating alpha group significance: menhinick\n",
      "Processing alpha_group_significance: michaelis_menten_fit\n"
     ]
    },
    {
     "name": "stdout",
     "output_type": "stream",
     "text": [
      "DONE: Calculating alpha group significance: michaelis_menten_fit\n",
      "Processing alpha_group_significance: observed_features\n"
     ]
    },
    {
     "name": "stdout",
     "output_type": "stream",
     "text": [
      "DONE: Calculating alpha group significance: observed_features\n",
      "Processing alpha_group_significance: osd\n",
      "ERROR: Calculating alpha group significance: osd\n",
      "Processing alpha_group_significance: pielou_e\n"
     ]
    },
    {
     "name": "stdout",
     "output_type": "stream",
     "text": [
      "DONE: Calculating alpha group significance: pielou_e\n",
      "Processing alpha_group_significance: robbins\n"
     ]
    },
    {
     "name": "stdout",
     "output_type": "stream",
     "text": [
      "DONE: Calculating alpha group significance: robbins\n",
      "Processing alpha_group_significance: shannon\n"
     ]
    },
    {
     "name": "stdout",
     "output_type": "stream",
     "text": [
      "DONE: Calculating alpha group significance: shannon\n",
      "Processing alpha_group_significance: simpson\n"
     ]
    },
    {
     "name": "stdout",
     "output_type": "stream",
     "text": [
      "DONE: Calculating alpha group significance: simpson\n",
      "Processing alpha_group_significance: simpson_e\n"
     ]
    },
    {
     "name": "stdout",
     "output_type": "stream",
     "text": [
      "DONE: Calculating alpha group significance: simpson_e\n",
      "Processing alpha_group_significance: singles\n"
     ]
    },
    {
     "name": "stdout",
     "output_type": "stream",
     "text": [
      "DONE: Calculating alpha group significance: singles\n",
      "Processing alpha_group_significance: strong\n"
     ]
    },
    {
     "name": "stdout",
     "output_type": "stream",
     "text": [
      "DONE: Calculating alpha group significance: strong\n"
     ]
    }
   ],
   "source": [
    "for metric, alpha_values in alpha_diversities.items():\n",
    "    print(f\"Processing alpha_group_significance: {metric}\")\n",
    "    try:\n",
    "        significance_view = alpha_group_significance(alpha_diversity=alpha_values, metadata=metadata_qa).visualization\n",
    "        view_path = os.path.join(alpha_path, f'alpha-group-significance-{metric}.qzv')\n",
    "        significance_view.save(view_path)\n",
    "        significance_view\n",
    "        print(f\"DONE: Calculating alpha group significance: {metric}\")\n",
    "    except Exception as e:\n",
    "        print(f\"ERROR: Calculating alpha group significance: {metric}\")"
   ]
  },
  {
   "cell_type": "markdown",
   "id": "4349d357",
   "metadata": {
    "papermill": {
     "duration": 0.13583,
     "end_time": "2023-03-10T12:28:24.078343",
     "exception": false,
     "start_time": "2023-03-10T12:28:23.942513",
     "status": "completed"
    },
    "tags": []
   },
   "source": [
    "## Beta diversity analysis\n",
    "\n",
    "#### Reference\n",
    "- [diversity beta](https://docs.qiime2.org/2022.8/plugins/available/diversity/beta/): Computes a user-specified beta diversity metric for all pairs of samples in a feature table.\n",
    "- [Beta diversity metrics](http://scikit-bio.org/docs/0.2.0/generated/skbio.diversity.beta.html)\n",
    "\n",
    "- Metric Choices('aitchison', 'braycurtis', 'canberra', 'canberra_adkins', 'chebyshev', 'cityblock', 'correlation', 'cosine', 'dice', 'euclidean', 'hamming', 'jaccard', 'jensenshannon', 'kulsinski', 'matching', 'minkowski', 'rogerstanimoto', 'russellrao', 'seuclidean', 'sokalmichener', 'sokalsneath', 'sqeuclidean', 'yule')"
   ]
  },
  {
   "cell_type": "code",
   "execution_count": 14,
   "id": "f6f358dd",
   "metadata": {
    "ExecuteTime": {
     "end_time": "2022-09-29T20:54:36.335038Z",
     "start_time": "2022-09-29T20:54:36.091288Z"
    },
    "execution": {
     "iopub.execute_input": "2023-03-10T12:28:24.343521Z",
     "iopub.status.busy": "2023-03-10T12:28:24.342959Z",
     "iopub.status.idle": "2023-03-10T12:28:26.447276Z",
     "shell.execute_reply": "2023-03-10T12:28:26.446316Z"
    },
    "papermill": {
     "duration": 2.241572,
     "end_time": "2023-03-10T12:28:26.451081",
     "exception": false,
     "start_time": "2023-03-10T12:28:24.209509",
     "status": "completed"
    },
    "tags": []
   },
   "outputs": [
    {
     "name": "stdout",
     "output_type": "stream",
     "text": [
      "Calculating beta diversity: aitchison\n"
     ]
    },
    {
     "name": "stdout",
     "output_type": "stream",
     "text": [
      "DONE: Calculating beta diversity: aitchison\n",
      "Calculating beta diversity: braycurtis\n",
      "ERROR: Calculating beta diversity: braycurtis\n",
      "Calculating beta diversity: canberra\n",
      "DONE: Calculating beta diversity: canberra\n",
      "Calculating beta diversity: canberra_adkins\n"
     ]
    },
    {
     "name": "stderr",
     "output_type": "stream",
     "text": [
      "/home/lauro/anaconda3/envs/qiime2-2022.2/lib/python3.8/site-packages/q2_diversity_lib/beta.py:67: RuntimeWarning: divide by zero encountered in true_divide\n",
      "  return (1. / nnz) * np.sum(np.abs(x_ - y_) / (x_ + y_))\n",
      "/home/lauro/anaconda3/envs/qiime2-2022.2/lib/python3.8/site-packages/q2_diversity_lib/beta.py:67: RuntimeWarning: invalid value encountered in double_scalars\n",
      "  return (1. / nnz) * np.sum(np.abs(x_ - y_) / (x_ + y_))\n"
     ]
    },
    {
     "name": "stdout",
     "output_type": "stream",
     "text": [
      "ERROR: Calculating beta diversity: canberra_adkins\n",
      "Calculating beta diversity: chebyshev\n",
      "DONE: Calculating beta diversity: chebyshev\n",
      "Calculating beta diversity: cityblock\n",
      "DONE: Calculating beta diversity: cityblock\n",
      "Calculating beta diversity: correlation\n",
      "ERROR: Calculating beta diversity: correlation\n",
      "Calculating beta diversity: cosine\n"
     ]
    },
    {
     "name": "stdout",
     "output_type": "stream",
     "text": [
      "ERROR: Calculating beta diversity: cosine\n",
      "Calculating beta diversity: dice\n",
      "ERROR: Calculating beta diversity: dice\n",
      "Calculating beta diversity: euclidean\n",
      "DONE: Calculating beta diversity: euclidean\n",
      "Calculating beta diversity: hamming\n"
     ]
    },
    {
     "name": "stderr",
     "output_type": "stream",
     "text": [
      "/home/lauro/anaconda3/envs/qiime2-2022.2/lib/python3.8/site-packages/sklearn/metrics/pairwise.py:1761: DataConversionWarning: Data was converted to boolean for metric dice\n",
      "  warnings.warn(msg, DataConversionWarning)\n"
     ]
    },
    {
     "name": "stdout",
     "output_type": "stream",
     "text": [
      "DONE: Calculating beta diversity: hamming\n",
      "Calculating beta diversity: jaccard\n",
      "DONE: Calculating beta diversity: jaccard\n",
      "Calculating beta diversity: jensenshannon\n",
      "ERROR: Calculating beta diversity: jensenshannon\n",
      "Calculating beta diversity: kulsinski\n"
     ]
    },
    {
     "name": "stderr",
     "output_type": "stream",
     "text": [
      "/home/lauro/anaconda3/envs/qiime2-2022.2/lib/python3.8/site-packages/sklearn/metrics/pairwise.py:1761: DataConversionWarning: Data was converted to boolean for metric jaccard\n",
      "  warnings.warn(msg, DataConversionWarning)\n",
      "/home/lauro/anaconda3/envs/qiime2-2022.2/lib/python3.8/site-packages/scipy/spatial/distance.py:1295: RuntimeWarning: invalid value encountered in true_divide\n",
      "  q = q / np.sum(q, axis=axis, keepdims=True)\n",
      "/home/lauro/anaconda3/envs/qiime2-2022.2/lib/python3.8/site-packages/scipy/spatial/distance.py:1294: RuntimeWarning: invalid value encountered in true_divide\n",
      "  p = p / np.sum(p, axis=axis, keepdims=True)\n",
      "/home/lauro/anaconda3/envs/qiime2-2022.2/lib/python3.8/site-packages/sklearn/metrics/pairwise.py:1761: DataConversionWarning: Data was converted to boolean for metric kulsinski\n",
      "  warnings.warn(msg, DataConversionWarning)\n"
     ]
    },
    {
     "name": "stdout",
     "output_type": "stream",
     "text": [
      "ERROR: Calculating beta diversity: kulsinski\n",
      "Calculating beta diversity: matching\n",
      "DONE: Calculating beta diversity: matching\n",
      "Calculating beta diversity: minkowski\n",
      "DONE: Calculating beta diversity: minkowski\n",
      "Calculating beta diversity: rogerstanimoto\n"
     ]
    },
    {
     "name": "stderr",
     "output_type": "stream",
     "text": [
      "/home/lauro/anaconda3/envs/qiime2-2022.2/lib/python3.8/site-packages/sklearn/metrics/pairwise.py:1761: DataConversionWarning: Data was converted to boolean for metric matching\n",
      "  warnings.warn(msg, DataConversionWarning)\n",
      "/home/lauro/anaconda3/envs/qiime2-2022.2/lib/python3.8/site-packages/sklearn/metrics/pairwise.py:1761: DataConversionWarning: Data was converted to boolean for metric rogerstanimoto\n",
      "  warnings.warn(msg, DataConversionWarning)\n"
     ]
    },
    {
     "name": "stdout",
     "output_type": "stream",
     "text": [
      "DONE: Calculating beta diversity: rogerstanimoto\n",
      "Calculating beta diversity: russellrao\n",
      "ERROR: Calculating beta diversity: russellrao\n",
      "Calculating beta diversity: seuclidean\n",
      "DONE: Calculating beta diversity: seuclidean\n",
      "Calculating beta diversity: sokalmichener\n",
      "DONE: Calculating beta diversity: sokalmichener\n",
      "Calculating beta diversity: sokalsneath\n",
      "ERROR: Calculating beta diversity: sokalsneath\n",
      "Calculating beta diversity: sqeuclidean\n"
     ]
    },
    {
     "name": "stderr",
     "output_type": "stream",
     "text": [
      "/home/lauro/anaconda3/envs/qiime2-2022.2/lib/python3.8/site-packages/sklearn/metrics/pairwise.py:1761: DataConversionWarning: Data was converted to boolean for metric russellrao\n",
      "  warnings.warn(msg, DataConversionWarning)\n",
      "/home/lauro/anaconda3/envs/qiime2-2022.2/lib/python3.8/site-packages/sklearn/metrics/pairwise.py:1761: DataConversionWarning: Data was converted to boolean for metric sokalmichener\n",
      "  warnings.warn(msg, DataConversionWarning)\n",
      "/home/lauro/anaconda3/envs/qiime2-2022.2/lib/python3.8/site-packages/sklearn/metrics/pairwise.py:1761: DataConversionWarning: Data was converted to boolean for metric sokalsneath\n",
      "  warnings.warn(msg, DataConversionWarning)\n"
     ]
    },
    {
     "name": "stdout",
     "output_type": "stream",
     "text": [
      "DONE: Calculating beta diversity: sqeuclidean\n",
      "Calculating beta diversity: yule\n",
      "DONE: Calculating beta diversity: yule\n"
     ]
    },
    {
     "name": "stderr",
     "output_type": "stream",
     "text": [
      "/home/lauro/anaconda3/envs/qiime2-2022.2/lib/python3.8/site-packages/sklearn/metrics/pairwise.py:1761: DataConversionWarning: Data was converted to boolean for metric yule\n",
      "  warnings.warn(msg, DataConversionWarning)\n"
     ]
    }
   ],
   "source": [
    "metrics = ('aitchison', 'braycurtis', 'canberra', 'canberra_adkins', 'chebyshev', 'cityblock', 'correlation', 'cosine', 'dice', 'euclidean', 'hamming', 'jaccard', 'jensenshannon', 'kulsinski', 'matching', 'minkowski', 'rogerstanimoto', 'russellrao', 'seuclidean', 'sokalmichener', 'sokalsneath', 'sqeuclidean', 'yule')\n",
    "beta_diversities = dict()\n",
    "for metric in metrics:\n",
    "    print(f\"Calculating beta diversity: {metric}\")\n",
    "    try:\n",
    "        beta_diversity = beta(table=tabs, metric=metric, n_jobs=6, pseudocount=1).distance_matrix\n",
    "        beta_diversities[metric] = beta_diversity\n",
    "        # Save SampleData[BetaDiversity] Artifact\n",
    "        file_path = os.path.join(beta_path, f'beta-values-{metric}.qza')\n",
    "        beta_diversity.save(file_path)\n",
    "        print(f\"DONE: Calculating beta diversity: {metric}\")\n",
    "    except Exception as e:\n",
    "        print(f\"ERROR: Calculating beta diversity: {metric}\")"
   ]
  },
  {
   "cell_type": "markdown",
   "id": "200a2fa7",
   "metadata": {
    "papermill": {
     "duration": 0.058036,
     "end_time": "2023-03-10T12:28:26.570334",
     "exception": false,
     "start_time": "2023-03-10T12:28:26.512298",
     "status": "completed"
    },
    "tags": []
   },
   "source": [
    "### Beta group significance\n",
    "\n",
    "- [diversity beta_group_significance](https://docs.qiime2.org/2022.8/plugins/available/diversity/beta-group-significance/): Determine whether groups of samples are significantly different from one another using a permutation-based statistical test.\n",
    "- Marti J Anderson. A new method for non-parametric multivariate analysis of variance. Austral ecology, 26(1):32–46, 2001. doi:https://doi.org/10.1111/j.1442-9993.2001.01070.pp.x."
   ]
  },
  {
   "cell_type": "code",
   "execution_count": 15,
   "id": "b8dd42b6",
   "metadata": {
    "ExecuteTime": {
     "end_time": "2022-09-29T20:55:08.313860Z",
     "start_time": "2022-09-29T20:54:36.336993Z"
    },
    "execution": {
     "iopub.execute_input": "2023-03-10T12:28:26.686497Z",
     "iopub.status.busy": "2023-03-10T12:28:26.686093Z",
     "iopub.status.idle": "2023-03-10T12:35:09.257210Z",
     "shell.execute_reply": "2023-03-10T12:35:09.256532Z"
    },
    "papermill": {
     "duration": 402.63356,
     "end_time": "2023-03-10T12:35:09.261201",
     "exception": false,
     "start_time": "2023-03-10T12:28:26.627641",
     "status": "completed"
    },
    "tags": []
   },
   "outputs": [
    {
     "name": "stdout",
     "output_type": "stream",
     "text": [
      "Calculating beta group significance with method permanova and metric aitchison\n"
     ]
    },
    {
     "name": "stdout",
     "output_type": "stream",
     "text": [
      "DONE: Calculating beta group significance: permanova aitchison\n",
      "Calculating beta group significance with method permanova and metric canberra\n"
     ]
    },
    {
     "name": "stdout",
     "output_type": "stream",
     "text": [
      "DONE: Calculating beta group significance: permanova canberra\n",
      "Calculating beta group significance with method permanova and metric chebyshev\n"
     ]
    },
    {
     "name": "stdout",
     "output_type": "stream",
     "text": [
      "DONE: Calculating beta group significance: permanova chebyshev\n",
      "Calculating beta group significance with method permanova and metric cityblock\n"
     ]
    },
    {
     "name": "stdout",
     "output_type": "stream",
     "text": [
      "DONE: Calculating beta group significance: permanova cityblock\n",
      "Calculating beta group significance with method permanova and metric euclidean\n"
     ]
    },
    {
     "name": "stdout",
     "output_type": "stream",
     "text": [
      "DONE: Calculating beta group significance: permanova euclidean\n",
      "Calculating beta group significance with method permanova and metric hamming\n"
     ]
    },
    {
     "name": "stdout",
     "output_type": "stream",
     "text": [
      "DONE: Calculating beta group significance: permanova hamming\n",
      "Calculating beta group significance with method permanova and metric jaccard\n"
     ]
    },
    {
     "name": "stdout",
     "output_type": "stream",
     "text": [
      "DONE: Calculating beta group significance: permanova jaccard\n",
      "Calculating beta group significance with method permanova and metric matching\n"
     ]
    },
    {
     "name": "stdout",
     "output_type": "stream",
     "text": [
      "DONE: Calculating beta group significance: permanova matching\n",
      "Calculating beta group significance with method permanova and metric minkowski\n"
     ]
    },
    {
     "name": "stdout",
     "output_type": "stream",
     "text": [
      "DONE: Calculating beta group significance: permanova minkowski\n",
      "Calculating beta group significance with method permanova and metric rogerstanimoto\n"
     ]
    },
    {
     "name": "stdout",
     "output_type": "stream",
     "text": [
      "DONE: Calculating beta group significance: permanova rogerstanimoto\n",
      "Calculating beta group significance with method permanova and metric seuclidean\n"
     ]
    },
    {
     "name": "stdout",
     "output_type": "stream",
     "text": [
      "DONE: Calculating beta group significance: permanova seuclidean\n",
      "Calculating beta group significance with method permanova and metric sokalmichener\n"
     ]
    },
    {
     "name": "stdout",
     "output_type": "stream",
     "text": [
      "DONE: Calculating beta group significance: permanova sokalmichener\n",
      "Calculating beta group significance with method permanova and metric sqeuclidean\n"
     ]
    },
    {
     "name": "stdout",
     "output_type": "stream",
     "text": [
      "DONE: Calculating beta group significance: permanova sqeuclidean\n",
      "Calculating beta group significance with method permanova and metric yule\n"
     ]
    },
    {
     "name": "stdout",
     "output_type": "stream",
     "text": [
      "DONE: Calculating beta group significance: permanova yule\n",
      "Calculating beta group significance with method anosim and metric aitchison\n"
     ]
    },
    {
     "name": "stdout",
     "output_type": "stream",
     "text": [
      "DONE: Calculating beta group significance: anosim aitchison\n",
      "Calculating beta group significance with method anosim and metric canberra\n"
     ]
    },
    {
     "name": "stdout",
     "output_type": "stream",
     "text": [
      "DONE: Calculating beta group significance: anosim canberra\n",
      "Calculating beta group significance with method anosim and metric chebyshev\n"
     ]
    },
    {
     "name": "stdout",
     "output_type": "stream",
     "text": [
      "DONE: Calculating beta group significance: anosim chebyshev\n",
      "Calculating beta group significance with method anosim and metric cityblock\n"
     ]
    },
    {
     "name": "stdout",
     "output_type": "stream",
     "text": [
      "DONE: Calculating beta group significance: anosim cityblock\n",
      "Calculating beta group significance with method anosim and metric euclidean\n"
     ]
    },
    {
     "name": "stdout",
     "output_type": "stream",
     "text": [
      "DONE: Calculating beta group significance: anosim euclidean\n",
      "Calculating beta group significance with method anosim and metric hamming\n"
     ]
    },
    {
     "name": "stdout",
     "output_type": "stream",
     "text": [
      "DONE: Calculating beta group significance: anosim hamming\n",
      "Calculating beta group significance with method anosim and metric jaccard\n"
     ]
    },
    {
     "name": "stdout",
     "output_type": "stream",
     "text": [
      "DONE: Calculating beta group significance: anosim jaccard\n",
      "Calculating beta group significance with method anosim and metric matching\n"
     ]
    },
    {
     "name": "stdout",
     "output_type": "stream",
     "text": [
      "DONE: Calculating beta group significance: anosim matching\n",
      "Calculating beta group significance with method anosim and metric minkowski\n"
     ]
    },
    {
     "name": "stdout",
     "output_type": "stream",
     "text": [
      "DONE: Calculating beta group significance: anosim minkowski\n",
      "Calculating beta group significance with method anosim and metric rogerstanimoto\n"
     ]
    },
    {
     "name": "stdout",
     "output_type": "stream",
     "text": [
      "DONE: Calculating beta group significance: anosim rogerstanimoto\n",
      "Calculating beta group significance with method anosim and metric seuclidean\n"
     ]
    },
    {
     "name": "stdout",
     "output_type": "stream",
     "text": [
      "DONE: Calculating beta group significance: anosim seuclidean\n",
      "Calculating beta group significance with method anosim and metric sokalmichener\n"
     ]
    },
    {
     "name": "stdout",
     "output_type": "stream",
     "text": [
      "DONE: Calculating beta group significance: anosim sokalmichener\n",
      "Calculating beta group significance with method anosim and metric sqeuclidean\n"
     ]
    },
    {
     "name": "stdout",
     "output_type": "stream",
     "text": [
      "DONE: Calculating beta group significance: anosim sqeuclidean\n",
      "Calculating beta group significance with method anosim and metric yule\n"
     ]
    },
    {
     "name": "stdout",
     "output_type": "stream",
     "text": [
      "DONE: Calculating beta group significance: anosim yule\n",
      "Calculating beta group significance with method permdisp and metric aitchison\n"
     ]
    },
    {
     "name": "stdout",
     "output_type": "stream",
     "text": [
      "DONE: Calculating beta group significance: permdisp aitchison\n",
      "Calculating beta group significance with method permdisp and metric canberra\n"
     ]
    },
    {
     "name": "stderr",
     "output_type": "stream",
     "text": [
      "/home/lauro/anaconda3/envs/qiime2-2022.2/lib/python3.8/site-packages/skbio/stats/ordination/_principal_coordinate_analysis.py:143: RuntimeWarning: The result contains negative eigenvalues. Please compare their magnitude with the magnitude of some of the largest positive eigenvalues. If the negative ones are smaller, it's probably safe to ignore them, but if they are large in magnitude, the results won't be useful. See the Notes section for more details. The smallest eigenvalue is -17003.01500386638 and the largest is 27659.412214200038.\n",
      "  warn(\n"
     ]
    },
    {
     "name": "stderr",
     "output_type": "stream",
     "text": [
      "/home/lauro/anaconda3/envs/qiime2-2022.2/lib/python3.8/site-packages/skbio/stats/ordination/_principal_coordinate_analysis.py:143: RuntimeWarning: The result contains negative eigenvalues. Please compare their magnitude with the magnitude of some of the largest positive eigenvalues. If the negative ones are smaller, it's probably safe to ignore them, but if they are large in magnitude, the results won't be useful. See the Notes section for more details. The smallest eigenvalue is -7106.897593102109 and the largest is 19872.955919870907.\n",
      "  warn(\n"
     ]
    },
    {
     "name": "stderr",
     "output_type": "stream",
     "text": [
      "/home/lauro/anaconda3/envs/qiime2-2022.2/lib/python3.8/site-packages/skbio/stats/ordination/_principal_coordinate_analysis.py:143: RuntimeWarning: The result contains negative eigenvalues. Please compare their magnitude with the magnitude of some of the largest positive eigenvalues. If the negative ones are smaller, it's probably safe to ignore them, but if they are large in magnitude, the results won't be useful. See the Notes section for more details. The smallest eigenvalue is -5954.593967807861 and the largest is 21341.453195749633.\n",
      "  warn(\n"
     ]
    },
    {
     "name": "stderr",
     "output_type": "stream",
     "text": [
      "/home/lauro/anaconda3/envs/qiime2-2022.2/lib/python3.8/site-packages/skbio/stats/ordination/_principal_coordinate_analysis.py:143: RuntimeWarning: The result contains negative eigenvalues. Please compare their magnitude with the magnitude of some of the largest positive eigenvalues. If the negative ones are smaller, it's probably safe to ignore them, but if they are large in magnitude, the results won't be useful. See the Notes section for more details. The smallest eigenvalue is -2656.7539827248133 and the largest is 16737.34541837398.\n",
      "  warn(\n"
     ]
    },
    {
     "name": "stderr",
     "output_type": "stream",
     "text": [
      "/home/lauro/anaconda3/envs/qiime2-2022.2/lib/python3.8/site-packages/skbio/stats/ordination/_principal_coordinate_analysis.py:143: RuntimeWarning: The result contains negative eigenvalues. Please compare their magnitude with the magnitude of some of the largest positive eigenvalues. If the negative ones are smaller, it's probably safe to ignore them, but if they are large in magnitude, the results won't be useful. See the Notes section for more details. The smallest eigenvalue is -9566.752439110198 and the largest is 23859.477814197806.\n",
      "  warn(\n"
     ]
    },
    {
     "name": "stderr",
     "output_type": "stream",
     "text": [
      "/home/lauro/anaconda3/envs/qiime2-2022.2/lib/python3.8/site-packages/skbio/stats/ordination/_principal_coordinate_analysis.py:143: RuntimeWarning: The result contains negative eigenvalues. Please compare their magnitude with the magnitude of some of the largest positive eigenvalues. If the negative ones are smaller, it's probably safe to ignore them, but if they are large in magnitude, the results won't be useful. See the Notes section for more details. The smallest eigenvalue is -5466.169353537141 and the largest is 18765.470363458237.\n",
      "  warn(\n"
     ]
    },
    {
     "name": "stderr",
     "output_type": "stream",
     "text": [
      "/home/lauro/anaconda3/envs/qiime2-2022.2/lib/python3.8/site-packages/skbio/stats/ordination/_principal_coordinate_analysis.py:143: RuntimeWarning: The result contains negative eigenvalues. Please compare their magnitude with the magnitude of some of the largest positive eigenvalues. If the negative ones are smaller, it's probably safe to ignore them, but if they are large in magnitude, the results won't be useful. See the Notes section for more details. The smallest eigenvalue is -5178.625132281425 and the largest is 20366.256243903998.\n",
      "  warn(\n"
     ]
    },
    {
     "name": "stdout",
     "output_type": "stream",
     "text": [
      "DONE: Calculating beta group significance: permdisp canberra\n",
      "Calculating beta group significance with method permdisp and metric chebyshev\n"
     ]
    },
    {
     "name": "stderr",
     "output_type": "stream",
     "text": [
      "/home/lauro/anaconda3/envs/qiime2-2022.2/lib/python3.8/site-packages/skbio/stats/ordination/_principal_coordinate_analysis.py:143: RuntimeWarning: The result contains negative eigenvalues. Please compare their magnitude with the magnitude of some of the largest positive eigenvalues. If the negative ones are smaller, it's probably safe to ignore them, but if they are large in magnitude, the results won't be useful. See the Notes section for more details. The smallest eigenvalue is -57123817.81418646 and the largest is 1082773330.6122975.\n",
      "  warn(\n"
     ]
    },
    {
     "name": "stderr",
     "output_type": "stream",
     "text": [
      "/home/lauro/anaconda3/envs/qiime2-2022.2/lib/python3.8/site-packages/skbio/stats/ordination/_principal_coordinate_analysis.py:143: RuntimeWarning: The result contains negative eigenvalues. Please compare their magnitude with the magnitude of some of the largest positive eigenvalues. If the negative ones are smaller, it's probably safe to ignore them, but if they are large in magnitude, the results won't be useful. See the Notes section for more details. The smallest eigenvalue is -27783886.39367062 and the largest is 767108166.6755577.\n",
      "  warn(\n"
     ]
    },
    {
     "name": "stderr",
     "output_type": "stream",
     "text": [
      "/home/lauro/anaconda3/envs/qiime2-2022.2/lib/python3.8/site-packages/skbio/stats/ordination/_principal_coordinate_analysis.py:143: RuntimeWarning: The result contains negative eigenvalues. Please compare their magnitude with the magnitude of some of the largest positive eigenvalues. If the negative ones are smaller, it's probably safe to ignore them, but if they are large in magnitude, the results won't be useful. See the Notes section for more details. The smallest eigenvalue is -11174240.21297998 and the largest is 787762390.9335582.\n",
      "  warn(\n"
     ]
    },
    {
     "name": "stdout",
     "output_type": "stream",
     "text": [
      "DONE: Calculating beta group significance: permdisp chebyshev\n",
      "Calculating beta group significance with method permdisp and metric cityblock\n"
     ]
    },
    {
     "name": "stderr",
     "output_type": "stream",
     "text": [
      "/home/lauro/anaconda3/envs/qiime2-2022.2/lib/python3.8/site-packages/skbio/stats/ordination/_principal_coordinate_analysis.py:143: RuntimeWarning: The result contains negative eigenvalues. Please compare their magnitude with the magnitude of some of the largest positive eigenvalues. If the negative ones are smaller, it's probably safe to ignore them, but if they are large in magnitude, the results won't be useful. See the Notes section for more details. The smallest eigenvalue is -6629902975.357605 and the largest is 19732226655.198975.\n",
      "  warn(\n"
     ]
    },
    {
     "name": "stderr",
     "output_type": "stream",
     "text": [
      "/home/lauro/anaconda3/envs/qiime2-2022.2/lib/python3.8/site-packages/skbio/stats/ordination/_principal_coordinate_analysis.py:143: RuntimeWarning: The result contains negative eigenvalues. Please compare their magnitude with the magnitude of some of the largest positive eigenvalues. If the negative ones are smaller, it's probably safe to ignore them, but if they are large in magnitude, the results won't be useful. See the Notes section for more details. The smallest eigenvalue is -2104996947.2610345 and the largest is 10189675003.58872.\n",
      "  warn(\n"
     ]
    },
    {
     "name": "stderr",
     "output_type": "stream",
     "text": [
      "/home/lauro/anaconda3/envs/qiime2-2022.2/lib/python3.8/site-packages/skbio/stats/ordination/_principal_coordinate_analysis.py:143: RuntimeWarning: The result contains negative eigenvalues. Please compare their magnitude with the magnitude of some of the largest positive eigenvalues. If the negative ones are smaller, it's probably safe to ignore them, but if they are large in magnitude, the results won't be useful. See the Notes section for more details. The smallest eigenvalue is -3291623292.5229473 and the largest is 13674310277.16309.\n",
      "  warn(\n"
     ]
    },
    {
     "name": "stderr",
     "output_type": "stream",
     "text": [
      "/home/lauro/anaconda3/envs/qiime2-2022.2/lib/python3.8/site-packages/skbio/stats/ordination/_principal_coordinate_analysis.py:143: RuntimeWarning: The result contains negative eigenvalues. Please compare their magnitude with the magnitude of some of the largest positive eigenvalues. If the negative ones are smaller, it's probably safe to ignore them, but if they are large in magnitude, the results won't be useful. See the Notes section for more details. The smallest eigenvalue is -1099903788.5931191 and the largest is 13910199605.234612.\n",
      "  warn(\n"
     ]
    },
    {
     "name": "stderr",
     "output_type": "stream",
     "text": [
      "/home/lauro/anaconda3/envs/qiime2-2022.2/lib/python3.8/site-packages/skbio/stats/ordination/_principal_coordinate_analysis.py:143: RuntimeWarning: The result contains negative eigenvalues. Please compare their magnitude with the magnitude of some of the largest positive eigenvalues. If the negative ones are smaller, it's probably safe to ignore them, but if they are large in magnitude, the results won't be useful. See the Notes section for more details. The smallest eigenvalue is -3928893669.2579374 and the largest is 8547036995.124496.\n",
      "  warn(\n"
     ]
    },
    {
     "name": "stderr",
     "output_type": "stream",
     "text": [
      "/home/lauro/anaconda3/envs/qiime2-2022.2/lib/python3.8/site-packages/skbio/stats/ordination/_principal_coordinate_analysis.py:143: RuntimeWarning: The result contains negative eigenvalues. Please compare their magnitude with the magnitude of some of the largest positive eigenvalues. If the negative ones are smaller, it's probably safe to ignore them, but if they are large in magnitude, the results won't be useful. See the Notes section for more details. The smallest eigenvalue is -1548363956.70745 and the largest is 8337959926.508949.\n",
      "  warn(\n"
     ]
    },
    {
     "name": "stderr",
     "output_type": "stream",
     "text": [
      "/home/lauro/anaconda3/envs/qiime2-2022.2/lib/python3.8/site-packages/skbio/stats/ordination/_principal_coordinate_analysis.py:143: RuntimeWarning: The result contains negative eigenvalues. Please compare their magnitude with the magnitude of some of the largest positive eigenvalues. If the negative ones are smaller, it's probably safe to ignore them, but if they are large in magnitude, the results won't be useful. See the Notes section for more details. The smallest eigenvalue is -2895992439.1845703 and the largest is 12168238498.489803.\n",
      "  warn(\n"
     ]
    },
    {
     "name": "stdout",
     "output_type": "stream",
     "text": [
      "DONE: Calculating beta group significance: permdisp cityblock\n",
      "Calculating beta group significance with method permdisp and metric euclidean\n"
     ]
    },
    {
     "name": "stderr",
     "output_type": "stream",
     "text": [
      "/home/lauro/anaconda3/envs/qiime2-2022.2/lib/python3.8/site-packages/skbio/stats/ordination/_principal_coordinate_analysis.py:143: RuntimeWarning: The result contains negative eigenvalues. Please compare their magnitude with the magnitude of some of the largest positive eigenvalues. If the negative ones are smaller, it's probably safe to ignore them, but if they are large in magnitude, the results won't be useful. See the Notes section for more details. The smallest eigenvalue is -1.249636838176004e-07 and the largest is 806949931.6005049.\n",
      "  warn(\n"
     ]
    },
    {
     "name": "stderr",
     "output_type": "stream",
     "text": [
      "/home/lauro/anaconda3/envs/qiime2-2022.2/lib/python3.8/site-packages/skbio/stats/ordination/_principal_coordinate_analysis.py:143: RuntimeWarning: The result contains negative eigenvalues. Please compare their magnitude with the magnitude of some of the largest positive eigenvalues. If the negative ones are smaller, it's probably safe to ignore them, but if they are large in magnitude, the results won't be useful. See the Notes section for more details. The smallest eigenvalue is -6.384968335508515e-08 and the largest is 720125213.7917669.\n",
      "  warn(\n"
     ]
    },
    {
     "name": "stderr",
     "output_type": "stream",
     "text": [
      "/home/lauro/anaconda3/envs/qiime2-2022.2/lib/python3.8/site-packages/skbio/stats/ordination/_principal_coordinate_analysis.py:143: RuntimeWarning: The result contains negative eigenvalues. Please compare their magnitude with the magnitude of some of the largest positive eigenvalues. If the negative ones are smaller, it's probably safe to ignore them, but if they are large in magnitude, the results won't be useful. See the Notes section for more details. The smallest eigenvalue is -7.290950204005166e-08 and the largest is 901072432.905894.\n",
      "  warn(\n"
     ]
    },
    {
     "name": "stdout",
     "output_type": "stream",
     "text": [
      "DONE: Calculating beta group significance: permdisp euclidean\n",
      "Calculating beta group significance with method permdisp and metric hamming\n"
     ]
    },
    {
     "name": "stderr",
     "output_type": "stream",
     "text": [
      "/home/lauro/anaconda3/envs/qiime2-2022.2/lib/python3.8/site-packages/skbio/stats/ordination/_principal_coordinate_analysis.py:143: RuntimeWarning: The result contains negative eigenvalues. Please compare their magnitude with the magnitude of some of the largest positive eigenvalues. If the negative ones are smaller, it's probably safe to ignore them, but if they are large in magnitude, the results won't be useful. See the Notes section for more details. The smallest eigenvalue is -0.007160433926688437 and the largest is 0.008984125794712814.\n",
      "  warn(\n"
     ]
    },
    {
     "name": "stderr",
     "output_type": "stream",
     "text": [
      "/home/lauro/anaconda3/envs/qiime2-2022.2/lib/python3.8/site-packages/skbio/stats/ordination/_principal_coordinate_analysis.py:143: RuntimeWarning: The result contains negative eigenvalues. Please compare their magnitude with the magnitude of some of the largest positive eigenvalues. If the negative ones are smaller, it's probably safe to ignore them, but if they are large in magnitude, the results won't be useful. See the Notes section for more details. The smallest eigenvalue is -0.0030776576445244747 and the largest is 0.007663811831543344.\n",
      "  warn(\n"
     ]
    },
    {
     "name": "stderr",
     "output_type": "stream",
     "text": [
      "/home/lauro/anaconda3/envs/qiime2-2022.2/lib/python3.8/site-packages/skbio/stats/ordination/_principal_coordinate_analysis.py:143: RuntimeWarning: The result contains negative eigenvalues. Please compare their magnitude with the magnitude of some of the largest positive eigenvalues. If the negative ones are smaller, it's probably safe to ignore them, but if they are large in magnitude, the results won't be useful. See the Notes section for more details. The smallest eigenvalue is -0.0023767376535104214 and the largest is 0.007873116511739995.\n",
      "  warn(\n"
     ]
    },
    {
     "name": "stderr",
     "output_type": "stream",
     "text": [
      "/home/lauro/anaconda3/envs/qiime2-2022.2/lib/python3.8/site-packages/skbio/stats/ordination/_principal_coordinate_analysis.py:143: RuntimeWarning: The result contains negative eigenvalues. Please compare their magnitude with the magnitude of some of the largest positive eigenvalues. If the negative ones are smaller, it's probably safe to ignore them, but if they are large in magnitude, the results won't be useful. See the Notes section for more details. The smallest eigenvalue is -0.0010617927626660846 and the largest is 0.005898471003450853.\n",
      "  warn(\n"
     ]
    },
    {
     "name": "stderr",
     "output_type": "stream",
     "text": [
      "/home/lauro/anaconda3/envs/qiime2-2022.2/lib/python3.8/site-packages/skbio/stats/ordination/_principal_coordinate_analysis.py:143: RuntimeWarning: The result contains negative eigenvalues. Please compare their magnitude with the magnitude of some of the largest positive eigenvalues. If the negative ones are smaller, it's probably safe to ignore them, but if they are large in magnitude, the results won't be useful. See the Notes section for more details. The smallest eigenvalue is -0.004184814691347774 and the largest is 0.00872318221194025.\n",
      "  warn(\n"
     ]
    },
    {
     "name": "stderr",
     "output_type": "stream",
     "text": [
      "/home/lauro/anaconda3/envs/qiime2-2022.2/lib/python3.8/site-packages/skbio/stats/ordination/_principal_coordinate_analysis.py:143: RuntimeWarning: The result contains negative eigenvalues. Please compare their magnitude with the magnitude of some of the largest positive eigenvalues. If the negative ones are smaller, it's probably safe to ignore them, but if they are large in magnitude, the results won't be useful. See the Notes section for more details. The smallest eigenvalue is -0.002391390978368605 and the largest is 0.007581629001391072.\n",
      "  warn(\n"
     ]
    },
    {
     "name": "stderr",
     "output_type": "stream",
     "text": [
      "/home/lauro/anaconda3/envs/qiime2-2022.2/lib/python3.8/site-packages/skbio/stats/ordination/_principal_coordinate_analysis.py:143: RuntimeWarning: The result contains negative eigenvalues. Please compare their magnitude with the magnitude of some of the largest positive eigenvalues. If the negative ones are smaller, it's probably safe to ignore them, but if they are large in magnitude, the results won't be useful. See the Notes section for more details. The smallest eigenvalue is -0.002049600503613842 and the largest is 0.007574158999880098.\n",
      "  warn(\n"
     ]
    },
    {
     "name": "stdout",
     "output_type": "stream",
     "text": [
      "DONE: Calculating beta group significance: permdisp hamming\n",
      "Calculating beta group significance with method permdisp and metric jaccard\n"
     ]
    },
    {
     "name": "stdout",
     "output_type": "stream",
     "text": [
      "DONE: Calculating beta group significance: permdisp jaccard\n",
      "Calculating beta group significance with method permdisp and metric matching\n"
     ]
    },
    {
     "name": "stderr",
     "output_type": "stream",
     "text": [
      "/home/lauro/anaconda3/envs/qiime2-2022.2/lib/python3.8/site-packages/skbio/stats/ordination/_principal_coordinate_analysis.py:143: RuntimeWarning: The result contains negative eigenvalues. Please compare their magnitude with the magnitude of some of the largest positive eigenvalues. If the negative ones are smaller, it's probably safe to ignore them, but if they are large in magnitude, the results won't be useful. See the Notes section for more details. The smallest eigenvalue is -0.005849018089236994 and the largest is 0.011278782447762802.\n",
      "  warn(\n"
     ]
    },
    {
     "name": "stderr",
     "output_type": "stream",
     "text": [
      "/home/lauro/anaconda3/envs/qiime2-2022.2/lib/python3.8/site-packages/skbio/stats/ordination/_principal_coordinate_analysis.py:143: RuntimeWarning: The result contains negative eigenvalues. Please compare their magnitude with the magnitude of some of the largest positive eigenvalues. If the negative ones are smaller, it's probably safe to ignore them, but if they are large in magnitude, the results won't be useful. See the Notes section for more details. The smallest eigenvalue is -0.0024171608074462763 and the largest is 0.007440548097552205.\n",
      "  warn(\n"
     ]
    },
    {
     "name": "stderr",
     "output_type": "stream",
     "text": [
      "/home/lauro/anaconda3/envs/qiime2-2022.2/lib/python3.8/site-packages/skbio/stats/ordination/_principal_coordinate_analysis.py:143: RuntimeWarning: The result contains negative eigenvalues. Please compare their magnitude with the magnitude of some of the largest positive eigenvalues. If the negative ones are smaller, it's probably safe to ignore them, but if they are large in magnitude, the results won't be useful. See the Notes section for more details. The smallest eigenvalue is -0.0020718573492058763 and the largest is 0.007935861511877376.\n",
      "  warn(\n"
     ]
    },
    {
     "name": "stderr",
     "output_type": "stream",
     "text": [
      "/home/lauro/anaconda3/envs/qiime2-2022.2/lib/python3.8/site-packages/skbio/stats/ordination/_principal_coordinate_analysis.py:143: RuntimeWarning: The result contains negative eigenvalues. Please compare their magnitude with the magnitude of some of the largest positive eigenvalues. If the negative ones are smaller, it's probably safe to ignore them, but if they are large in magnitude, the results won't be useful. See the Notes section for more details. The smallest eigenvalue is -0.0009236950171756764 and the largest is 0.006367990480918691.\n",
      "  warn(\n"
     ]
    },
    {
     "name": "stderr",
     "output_type": "stream",
     "text": [
      "/home/lauro/anaconda3/envs/qiime2-2022.2/lib/python3.8/site-packages/skbio/stats/ordination/_principal_coordinate_analysis.py:143: RuntimeWarning: The result contains negative eigenvalues. Please compare their magnitude with the magnitude of some of the largest positive eigenvalues. If the negative ones are smaller, it's probably safe to ignore them, but if they are large in magnitude, the results won't be useful. See the Notes section for more details. The smallest eigenvalue is -0.0032172741342587196 and the largest is 0.00883855172093206.\n",
      "  warn(\n"
     ]
    },
    {
     "name": "stderr",
     "output_type": "stream",
     "text": [
      "/home/lauro/anaconda3/envs/qiime2-2022.2/lib/python3.8/site-packages/skbio/stats/ordination/_principal_coordinate_analysis.py:143: RuntimeWarning: The result contains negative eigenvalues. Please compare their magnitude with the magnitude of some of the largest positive eigenvalues. If the negative ones are smaller, it's probably safe to ignore them, but if they are large in magnitude, the results won't be useful. See the Notes section for more details. The smallest eigenvalue is -0.0018559668221843238 and the largest is 0.006703712005992268.\n",
      "  warn(\n"
     ]
    },
    {
     "name": "stderr",
     "output_type": "stream",
     "text": [
      "/home/lauro/anaconda3/envs/qiime2-2022.2/lib/python3.8/site-packages/skbio/stats/ordination/_principal_coordinate_analysis.py:143: RuntimeWarning: The result contains negative eigenvalues. Please compare their magnitude with the magnitude of some of the largest positive eigenvalues. If the negative ones are smaller, it's probably safe to ignore them, but if they are large in magnitude, the results won't be useful. See the Notes section for more details. The smallest eigenvalue is -0.0017961727488999097 and the largest is 0.007464860117353452.\n",
      "  warn(\n"
     ]
    },
    {
     "name": "stdout",
     "output_type": "stream",
     "text": [
      "DONE: Calculating beta group significance: permdisp matching\n",
      "Calculating beta group significance with method permdisp and metric minkowski\n"
     ]
    },
    {
     "name": "stderr",
     "output_type": "stream",
     "text": [
      "/home/lauro/anaconda3/envs/qiime2-2022.2/lib/python3.8/site-packages/skbio/stats/ordination/_principal_coordinate_analysis.py:143: RuntimeWarning: The result contains negative eigenvalues. Please compare their magnitude with the magnitude of some of the largest positive eigenvalues. If the negative ones are smaller, it's probably safe to ignore them, but if they are large in magnitude, the results won't be useful. See the Notes section for more details. The smallest eigenvalue is -1.249636838176004e-07 and the largest is 806949931.6005049.\n",
      "  warn(\n"
     ]
    },
    {
     "name": "stderr",
     "output_type": "stream",
     "text": [
      "/home/lauro/anaconda3/envs/qiime2-2022.2/lib/python3.8/site-packages/skbio/stats/ordination/_principal_coordinate_analysis.py:143: RuntimeWarning: The result contains negative eigenvalues. Please compare their magnitude with the magnitude of some of the largest positive eigenvalues. If the negative ones are smaller, it's probably safe to ignore them, but if they are large in magnitude, the results won't be useful. See the Notes section for more details. The smallest eigenvalue is -6.384968335508515e-08 and the largest is 720125213.7917669.\n",
      "  warn(\n"
     ]
    },
    {
     "name": "stderr",
     "output_type": "stream",
     "text": [
      "/home/lauro/anaconda3/envs/qiime2-2022.2/lib/python3.8/site-packages/skbio/stats/ordination/_principal_coordinate_analysis.py:143: RuntimeWarning: The result contains negative eigenvalues. Please compare their magnitude with the magnitude of some of the largest positive eigenvalues. If the negative ones are smaller, it's probably safe to ignore them, but if they are large in magnitude, the results won't be useful. See the Notes section for more details. The smallest eigenvalue is -7.290950204005166e-08 and the largest is 901072432.905894.\n",
      "  warn(\n"
     ]
    },
    {
     "name": "stdout",
     "output_type": "stream",
     "text": [
      "DONE: Calculating beta group significance: permdisp minkowski\n",
      "Calculating beta group significance with method permdisp and metric rogerstanimoto\n"
     ]
    },
    {
     "name": "stderr",
     "output_type": "stream",
     "text": [
      "/home/lauro/anaconda3/envs/qiime2-2022.2/lib/python3.8/site-packages/skbio/stats/ordination/_principal_coordinate_analysis.py:143: RuntimeWarning: The result contains negative eigenvalues. Please compare their magnitude with the magnitude of some of the largest positive eigenvalues. If the negative ones are smaller, it's probably safe to ignore them, but if they are large in magnitude, the results won't be useful. See the Notes section for more details. The smallest eigenvalue is -0.015077291012199283 and the largest is 0.036551495068457236.\n",
      "  warn(\n"
     ]
    },
    {
     "name": "stderr",
     "output_type": "stream",
     "text": [
      "/home/lauro/anaconda3/envs/qiime2-2022.2/lib/python3.8/site-packages/skbio/stats/ordination/_principal_coordinate_analysis.py:143: RuntimeWarning: The result contains negative eigenvalues. Please compare their magnitude with the magnitude of some of the largest positive eigenvalues. If the negative ones are smaller, it's probably safe to ignore them, but if they are large in magnitude, the results won't be useful. See the Notes section for more details. The smallest eigenvalue is -0.006165547027533679 and the largest is 0.024495492020096904.\n",
      "  warn(\n"
     ]
    },
    {
     "name": "stderr",
     "output_type": "stream",
     "text": [
      "/home/lauro/anaconda3/envs/qiime2-2022.2/lib/python3.8/site-packages/skbio/stats/ordination/_principal_coordinate_analysis.py:143: RuntimeWarning: The result contains negative eigenvalues. Please compare their magnitude with the magnitude of some of the largest positive eigenvalues. If the negative ones are smaller, it's probably safe to ignore them, but if they are large in magnitude, the results won't be useful. See the Notes section for more details. The smallest eigenvalue is -0.005033205103190704 and the largest is 0.025973457351247238.\n",
      "  warn(\n"
     ]
    },
    {
     "name": "stderr",
     "output_type": "stream",
     "text": [
      "/home/lauro/anaconda3/envs/qiime2-2022.2/lib/python3.8/site-packages/skbio/stats/ordination/_principal_coordinate_analysis.py:143: RuntimeWarning: The result contains negative eigenvalues. Please compare their magnitude with the magnitude of some of the largest positive eigenvalues. If the negative ones are smaller, it's probably safe to ignore them, but if they are large in magnitude, the results won't be useful. See the Notes section for more details. The smallest eigenvalue is -0.0021122562960274828 and the largest is 0.02103955737506598.\n",
      "  warn(\n"
     ]
    },
    {
     "name": "stderr",
     "output_type": "stream",
     "text": [
      "/home/lauro/anaconda3/envs/qiime2-2022.2/lib/python3.8/site-packages/skbio/stats/ordination/_principal_coordinate_analysis.py:143: RuntimeWarning: The result contains negative eigenvalues. Please compare their magnitude with the magnitude of some of the largest positive eigenvalues. If the negative ones are smaller, it's probably safe to ignore them, but if they are large in magnitude, the results won't be useful. See the Notes section for more details. The smallest eigenvalue is -0.008025025865322536 and the largest is 0.027867389685175152.\n",
      "  warn(\n"
     ]
    },
    {
     "name": "stderr",
     "output_type": "stream",
     "text": [
      "/home/lauro/anaconda3/envs/qiime2-2022.2/lib/python3.8/site-packages/skbio/stats/ordination/_principal_coordinate_analysis.py:143: RuntimeWarning: The result contains negative eigenvalues. Please compare their magnitude with the magnitude of some of the largest positive eigenvalues. If the negative ones are smaller, it's probably safe to ignore them, but if they are large in magnitude, the results won't be useful. See the Notes section for more details. The smallest eigenvalue is -0.004808128831890313 and the largest is 0.022112028399756532.\n",
      "  warn(\n"
     ]
    },
    {
     "name": "stderr",
     "output_type": "stream",
     "text": [
      "/home/lauro/anaconda3/envs/qiime2-2022.2/lib/python3.8/site-packages/skbio/stats/ordination/_principal_coordinate_analysis.py:143: RuntimeWarning: The result contains negative eigenvalues. Please compare their magnitude with the magnitude of some of the largest positive eigenvalues. If the negative ones are smaller, it's probably safe to ignore them, but if they are large in magnitude, the results won't be useful. See the Notes section for more details. The smallest eigenvalue is -0.004517490274572749 and the largest is 0.024084637977520203.\n",
      "  warn(\n"
     ]
    },
    {
     "name": "stdout",
     "output_type": "stream",
     "text": [
      "DONE: Calculating beta group significance: permdisp rogerstanimoto\n",
      "Calculating beta group significance with method permdisp and metric seuclidean\n"
     ]
    },
    {
     "name": "stdout",
     "output_type": "stream",
     "text": [
      "DONE: Calculating beta group significance: permdisp seuclidean\n",
      "Calculating beta group significance with method permdisp and metric sokalmichener\n"
     ]
    },
    {
     "name": "stderr",
     "output_type": "stream",
     "text": [
      "/home/lauro/anaconda3/envs/qiime2-2022.2/lib/python3.8/site-packages/skbio/stats/ordination/_principal_coordinate_analysis.py:143: RuntimeWarning: The result contains negative eigenvalues. Please compare their magnitude with the magnitude of some of the largest positive eigenvalues. If the negative ones are smaller, it's probably safe to ignore them, but if they are large in magnitude, the results won't be useful. See the Notes section for more details. The smallest eigenvalue is -0.015077291012199283 and the largest is 0.036551495068457236.\n",
      "  warn(\n"
     ]
    },
    {
     "name": "stderr",
     "output_type": "stream",
     "text": [
      "/home/lauro/anaconda3/envs/qiime2-2022.2/lib/python3.8/site-packages/skbio/stats/ordination/_principal_coordinate_analysis.py:143: RuntimeWarning: The result contains negative eigenvalues. Please compare their magnitude with the magnitude of some of the largest positive eigenvalues. If the negative ones are smaller, it's probably safe to ignore them, but if they are large in magnitude, the results won't be useful. See the Notes section for more details. The smallest eigenvalue is -0.006165547027533679 and the largest is 0.024495492020096904.\n",
      "  warn(\n"
     ]
    },
    {
     "name": "stderr",
     "output_type": "stream",
     "text": [
      "/home/lauro/anaconda3/envs/qiime2-2022.2/lib/python3.8/site-packages/skbio/stats/ordination/_principal_coordinate_analysis.py:143: RuntimeWarning: The result contains negative eigenvalues. Please compare their magnitude with the magnitude of some of the largest positive eigenvalues. If the negative ones are smaller, it's probably safe to ignore them, but if they are large in magnitude, the results won't be useful. See the Notes section for more details. The smallest eigenvalue is -0.005033205103190704 and the largest is 0.025973457351247238.\n",
      "  warn(\n"
     ]
    },
    {
     "name": "stderr",
     "output_type": "stream",
     "text": [
      "/home/lauro/anaconda3/envs/qiime2-2022.2/lib/python3.8/site-packages/skbio/stats/ordination/_principal_coordinate_analysis.py:143: RuntimeWarning: The result contains negative eigenvalues. Please compare their magnitude with the magnitude of some of the largest positive eigenvalues. If the negative ones are smaller, it's probably safe to ignore them, but if they are large in magnitude, the results won't be useful. See the Notes section for more details. The smallest eigenvalue is -0.0021122562960274828 and the largest is 0.02103955737506598.\n",
      "  warn(\n"
     ]
    },
    {
     "name": "stderr",
     "output_type": "stream",
     "text": [
      "/home/lauro/anaconda3/envs/qiime2-2022.2/lib/python3.8/site-packages/skbio/stats/ordination/_principal_coordinate_analysis.py:143: RuntimeWarning: The result contains negative eigenvalues. Please compare their magnitude with the magnitude of some of the largest positive eigenvalues. If the negative ones are smaller, it's probably safe to ignore them, but if they are large in magnitude, the results won't be useful. See the Notes section for more details. The smallest eigenvalue is -0.008025025865322536 and the largest is 0.027867389685175152.\n",
      "  warn(\n"
     ]
    },
    {
     "name": "stderr",
     "output_type": "stream",
     "text": [
      "/home/lauro/anaconda3/envs/qiime2-2022.2/lib/python3.8/site-packages/skbio/stats/ordination/_principal_coordinate_analysis.py:143: RuntimeWarning: The result contains negative eigenvalues. Please compare their magnitude with the magnitude of some of the largest positive eigenvalues. If the negative ones are smaller, it's probably safe to ignore them, but if they are large in magnitude, the results won't be useful. See the Notes section for more details. The smallest eigenvalue is -0.004808128831890313 and the largest is 0.022112028399756532.\n",
      "  warn(\n"
     ]
    },
    {
     "name": "stderr",
     "output_type": "stream",
     "text": [
      "/home/lauro/anaconda3/envs/qiime2-2022.2/lib/python3.8/site-packages/skbio/stats/ordination/_principal_coordinate_analysis.py:143: RuntimeWarning: The result contains negative eigenvalues. Please compare their magnitude with the magnitude of some of the largest positive eigenvalues. If the negative ones are smaller, it's probably safe to ignore them, but if they are large in magnitude, the results won't be useful. See the Notes section for more details. The smallest eigenvalue is -0.004517490274572749 and the largest is 0.024084637977520203.\n",
      "  warn(\n"
     ]
    },
    {
     "name": "stdout",
     "output_type": "stream",
     "text": [
      "DONE: Calculating beta group significance: permdisp sokalmichener\n",
      "Calculating beta group significance with method permdisp and metric sqeuclidean\n"
     ]
    },
    {
     "name": "stderr",
     "output_type": "stream",
     "text": [
      "/home/lauro/anaconda3/envs/qiime2-2022.2/lib/python3.8/site-packages/skbio/stats/ordination/_principal_coordinate_analysis.py:143: RuntimeWarning: The result contains negative eigenvalues. Please compare their magnitude with the magnitude of some of the largest positive eigenvalues. If the negative ones are smaller, it's probably safe to ignore them, but if they are large in magnitude, the results won't be useful. See the Notes section for more details. The smallest eigenvalue is -1.6621932617873482e+17 and the largest is 1.400981154851075e+18.\n",
      "  warn(\n"
     ]
    },
    {
     "name": "stderr",
     "output_type": "stream",
     "text": [
      "/home/lauro/anaconda3/envs/qiime2-2022.2/lib/python3.8/site-packages/skbio/stats/ordination/_principal_coordinate_analysis.py:143: RuntimeWarning: The result contains negative eigenvalues. Please compare their magnitude with the magnitude of some of the largest positive eigenvalues. If the negative ones are smaller, it's probably safe to ignore them, but if they are large in magnitude, the results won't be useful. See the Notes section for more details. The smallest eigenvalue is -2103143670046498.5 and the largest is 2.6895746920260432e+17.\n",
      "  warn(\n"
     ]
    },
    {
     "name": "stderr",
     "output_type": "stream",
     "text": [
      "/home/lauro/anaconda3/envs/qiime2-2022.2/lib/python3.8/site-packages/skbio/stats/ordination/_principal_coordinate_analysis.py:143: RuntimeWarning: The result contains negative eigenvalues. Please compare their magnitude with the magnitude of some of the largest positive eigenvalues. If the negative ones are smaller, it's probably safe to ignore them, but if they are large in magnitude, the results won't be useful. See the Notes section for more details. The smallest eigenvalue is -1.2494816813592198e+17 and the largest is 9.238778177771803e+17.\n",
      "  warn(\n"
     ]
    },
    {
     "name": "stderr",
     "output_type": "stream",
     "text": [
      "/home/lauro/anaconda3/envs/qiime2-2022.2/lib/python3.8/site-packages/skbio/stats/ordination/_principal_coordinate_analysis.py:143: RuntimeWarning: The result contains negative eigenvalues. Please compare their magnitude with the magnitude of some of the largest positive eigenvalues. If the negative ones are smaller, it's probably safe to ignore them, but if they are large in magnitude, the results won't be useful. See the Notes section for more details. The smallest eigenvalue is -3.9713092469733224e+16 and the largest is 7.5231586856331e+17.\n",
      "  warn(\n"
     ]
    },
    {
     "name": "stderr",
     "output_type": "stream",
     "text": [
      "/home/lauro/anaconda3/envs/qiime2-2022.2/lib/python3.8/site-packages/skbio/stats/ordination/_principal_coordinate_analysis.py:143: RuntimeWarning: The result contains negative eigenvalues. Please compare their magnitude with the magnitude of some of the largest positive eigenvalues. If the negative ones are smaller, it's probably safe to ignore them, but if they are large in magnitude, the results won't be useful. See the Notes section for more details. The smallest eigenvalue is -9.493103669628427e+16 and the largest is 7.462830165235465e+17.\n",
      "  warn(\n"
     ]
    },
    {
     "name": "stderr",
     "output_type": "stream",
     "text": [
      "/home/lauro/anaconda3/envs/qiime2-2022.2/lib/python3.8/site-packages/skbio/stats/ordination/_principal_coordinate_analysis.py:143: RuntimeWarning: The result contains negative eigenvalues. Please compare their magnitude with the magnitude of some of the largest positive eigenvalues. If the negative ones are smaller, it's probably safe to ignore them, but if they are large in magnitude, the results won't be useful. See the Notes section for more details. The smallest eigenvalue is -1472697944017977.5 and the largest is 5.0779006260475136e+17.\n",
      "  warn(\n"
     ]
    },
    {
     "name": "stderr",
     "output_type": "stream",
     "text": [
      "/home/lauro/anaconda3/envs/qiime2-2022.2/lib/python3.8/site-packages/skbio/stats/ordination/_principal_coordinate_analysis.py:143: RuntimeWarning: The result contains negative eigenvalues. Please compare their magnitude with the magnitude of some of the largest positive eigenvalues. If the negative ones are smaller, it's probably safe to ignore them, but if they are large in magnitude, the results won't be useful. See the Notes section for more details. The smallest eigenvalue is -1.3448927456763858e+17 and the largest is 1.1423818936875896e+18.\n",
      "  warn(\n"
     ]
    },
    {
     "name": "stdout",
     "output_type": "stream",
     "text": [
      "DONE: Calculating beta group significance: permdisp sqeuclidean\n",
      "Calculating beta group significance with method permdisp and metric yule\n"
     ]
    },
    {
     "name": "stderr",
     "output_type": "stream",
     "text": [
      "/home/lauro/anaconda3/envs/qiime2-2022.2/lib/python3.8/site-packages/skbio/stats/ordination/_principal_coordinate_analysis.py:143: RuntimeWarning: The result contains negative eigenvalues. Please compare their magnitude with the magnitude of some of the largest positive eigenvalues. If the negative ones are smaller, it's probably safe to ignore them, but if they are large in magnitude, the results won't be useful. See the Notes section for more details. The smallest eigenvalue is -5.357252904034342 and the largest is 18.45907949108593.\n",
      "  warn(\n"
     ]
    },
    {
     "name": "stderr",
     "output_type": "stream",
     "text": [
      "/home/lauro/anaconda3/envs/qiime2-2022.2/lib/python3.8/site-packages/skbio/stats/ordination/_principal_coordinate_analysis.py:143: RuntimeWarning: The result contains negative eigenvalues. Please compare their magnitude with the magnitude of some of the largest positive eigenvalues. If the negative ones are smaller, it's probably safe to ignore them, but if they are large in magnitude, the results won't be useful. See the Notes section for more details. The smallest eigenvalue is -2.916308146093789 and the largest is 8.334025104984033.\n",
      "  warn(\n"
     ]
    },
    {
     "name": "stderr",
     "output_type": "stream",
     "text": [
      "/home/lauro/anaconda3/envs/qiime2-2022.2/lib/python3.8/site-packages/skbio/stats/ordination/_principal_coordinate_analysis.py:143: RuntimeWarning: The result contains negative eigenvalues. Please compare their magnitude with the magnitude of some of the largest positive eigenvalues. If the negative ones are smaller, it's probably safe to ignore them, but if they are large in magnitude, the results won't be useful. See the Notes section for more details. The smallest eigenvalue is -3.314373367313172 and the largest is 12.562052639613421.\n",
      "  warn(\n"
     ]
    },
    {
     "name": "stderr",
     "output_type": "stream",
     "text": [
      "/home/lauro/anaconda3/envs/qiime2-2022.2/lib/python3.8/site-packages/skbio/stats/ordination/_principal_coordinate_analysis.py:143: RuntimeWarning: The result contains negative eigenvalues. Please compare their magnitude with the magnitude of some of the largest positive eigenvalues. If the negative ones are smaller, it's probably safe to ignore them, but if they are large in magnitude, the results won't be useful. See the Notes section for more details. The smallest eigenvalue is -2.985964160981309 and the largest is 9.035081727492939.\n",
      "  warn(\n"
     ]
    },
    {
     "name": "stderr",
     "output_type": "stream",
     "text": [
      "/home/lauro/anaconda3/envs/qiime2-2022.2/lib/python3.8/site-packages/skbio/stats/ordination/_principal_coordinate_analysis.py:143: RuntimeWarning: The result contains negative eigenvalues. Please compare their magnitude with the magnitude of some of the largest positive eigenvalues. If the negative ones are smaller, it's probably safe to ignore them, but if they are large in magnitude, the results won't be useful. See the Notes section for more details. The smallest eigenvalue is -3.4093857739472124 and the largest is 10.073522224456632.\n",
      "  warn(\n"
     ]
    },
    {
     "name": "stderr",
     "output_type": "stream",
     "text": [
      "/home/lauro/anaconda3/envs/qiime2-2022.2/lib/python3.8/site-packages/skbio/stats/ordination/_principal_coordinate_analysis.py:143: RuntimeWarning: The result contains negative eigenvalues. Please compare their magnitude with the magnitude of some of the largest positive eigenvalues. If the negative ones are smaller, it's probably safe to ignore them, but if they are large in magnitude, the results won't be useful. See the Notes section for more details. The smallest eigenvalue is -3.501257075506803 and the largest is 7.061015051715936.\n",
      "  warn(\n"
     ]
    },
    {
     "name": "stderr",
     "output_type": "stream",
     "text": [
      "/home/lauro/anaconda3/envs/qiime2-2022.2/lib/python3.8/site-packages/skbio/stats/ordination/_principal_coordinate_analysis.py:143: RuntimeWarning: The result contains negative eigenvalues. Please compare their magnitude with the magnitude of some of the largest positive eigenvalues. If the negative ones are smaller, it's probably safe to ignore them, but if they are large in magnitude, the results won't be useful. See the Notes section for more details. The smallest eigenvalue is -2.904560822120008 and the largest is 10.679198606371465.\n",
      "  warn(\n"
     ]
    },
    {
     "name": "stdout",
     "output_type": "stream",
     "text": [
      "DONE: Calculating beta group significance: permdisp yule\n"
     ]
    },
    {
     "data": {
      "text/plain": [
       "<Figure size 432x288 with 0 Axes>"
      ]
     },
     "metadata": {},
     "output_type": "display_data"
    }
   ],
   "source": [
    "methods = ('permanova', 'anosim', 'permdisp')\n",
    "for method in methods:\n",
    "    for metric, beta_diversity in beta_diversities.items():\n",
    "        print(f'Calculating beta group significance with method {method} and metric {metric}')\n",
    "        try:\n",
    "            beta_view = beta_group_significance(distance_matrix=beta_diversity, \n",
    "                                                metadata=metadata_qa.get_column(class_col), \n",
    "                                                pairwise=True, method=method).visualization\n",
    "            view_name = os.path.join(beta_path, f'beta-group-significance-{metric}-{method}.qzv')\n",
    "            beta_view.save(view_name)\n",
    "            print(f\"DONE: Calculating beta group significance: {method} {metric}\")\n",
    "        except Exception as e:\n",
    "            print(f\"ERROR: Calculating beta group significance: {method} {metric}\")"
   ]
  },
  {
   "cell_type": "markdown",
   "id": "c0de85cf",
   "metadata": {
    "papermill": {
     "duration": 0.100109,
     "end_time": "2023-03-10T12:35:09.449136",
     "exception": false,
     "start_time": "2023-03-10T12:35:09.349027",
     "status": "completed"
    },
    "tags": []
   },
   "source": [
    "### Beta group Rarefaction\n",
    "\n",
    "- [diversity beta_rarefaction](https://docs.qiime2.org/2022.8/plugins/available/diversity/beta-rarefaction/): Repeatedly rarefy a feature table to compare beta diversity results within a given rarefaction depth.  For a given beta diversity metric, this visualizer will provide: an Emperor jackknifed PCoA plot, samples clustered by UPGMA or neighbor joining with support calculation, and a heatmap showing the correlation between rarefaction trials of that beta diversity metric."
   ]
  }
 ],
 "metadata": {
  "celltoolbar": "Edit Metadata",
  "kernelspec": {
   "display_name": "Python 3 (ipykernel)",
   "language": "python",
   "name": "python3"
  },
  "language_info": {
   "codemirror_mode": {
    "name": "ipython",
    "version": 3
   },
   "file_extension": ".py",
   "mimetype": "text/x-python",
   "name": "python",
   "nbconvert_exporter": "python",
   "pygments_lexer": "ipython3",
   "version": "3.8.12"
  },
  "papermill": {
   "default_parameters": {},
   "duration": 1179.668494,
   "end_time": "2023-03-10T12:35:10.619007",
   "environment_variables": {},
   "exception": null,
   "input_path": "nb-templates/step-diversity-analysis.ipynb",
   "output_path": "/home/lauro/nupeb/rede-micro/redemicro-thayane/experiments/thayane-PM/nb-executed-steps/step-diversity-analysis-thayane-PM.ipynb",
   "parameters": {
    "base_dir": "/home/lauro/nupeb/rede-micro/redemicro-thayane",
    "class_col": "menopausa-age-qcut",
    "classifier_file": "/home/lauro/nupeb/16S_classifiers_qiime2/silva-138-99-nb-classifier.qza",
    "experiment_name": "thayane-PM",
    "manifest_file": "/home/lauro/nupeb/rede-micro/redemicro-thayane/data/manifest.csv",
    "metadata_file": "/home/lauro/nupeb/rede-micro/redemicro-thayane/data/metadata.tsv",
    "overlap": 12,
    "phred": 20,
    "replace_files": false,
    "threads": 6,
    "trunc_f": 0,
    "trunc_r": 0
   },
   "start_time": "2023-03-10T12:15:30.950513",
   "version": "2.3.4"
  }
 },
 "nbformat": 4,
 "nbformat_minor": 5
}