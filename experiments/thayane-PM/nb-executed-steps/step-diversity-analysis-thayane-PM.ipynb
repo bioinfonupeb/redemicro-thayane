{
 "cells": [
  {
   "cell_type": "markdown",
   "id": "15bcfa06",
   "metadata": {
    "papermill": {
     "duration": 0.058624,
     "end_time": "2023-03-14T18:20:05.376511",
     "exception": false,
     "start_time": "2023-03-14T18:20:05.317887",
     "status": "completed"
    },
    "tags": []
   },
   "source": [
    " \n",
    "# Alpha and Beta Diversity\n",
    "\n",
    "Different higher-level measures are often used to describe the microbiome in a sample. These do not provide information on changes in the abundance of specific taxa but allow us to access a broader change or difference in the composition of microorganisms. Alpha and beta diversity are examples of such measures.\n",
    "\n",
    "Different measures exist to estimate diversity within a single sample, jointly called alpha diversity. The different measures reflect the richness (number) or distribution (evenness) of a microbial sample or aim to reflect a combination of both properties.\n",
    "\n",
    "Rarefaction curves are often used when calculating alpha diversity indices because increasing numbers of sequenced taxa allow increasingly accurate estimates of total population diversity. Rarefaction curves can therefore be used to estimate the full sample richness, as compared to the observed sample richness.\n",
    "\n",
    "While alpha diversity is a measure of microbiome diversity applicable to a single sample, beta diversity is a measure of the similarity or dissimilarity of two communities. As for alpha diversity, many indices exist, each reflecting different aspects of community heterogeneity. Key differences relate to how the indices value variation in rare species if they consider presence/absence only or incorporate abundance, and how they interpret shared absence. Bray-Curtis dissimilarity is a popular measure that considers both size (overall abundance per sample) and shape (abundance of each taxon) of the communities (Bray, 1957). Beta diversity is an essential measure for many popular statistical methods in ecology, such as ordination-based methods, and is widely used for studying the association between environmental variables and microbial composition.\n",
    "\n",
    "In summary, alpha diversity measures can be seen as a summary statistic of a single population (within-sample diversity), while beta diversity measures are estimates of similarity or dissimilarity between populations (between samples).\n",
    "\n",
    "**Source**: (https://biomcare.com/info/key-terms-in-microbiome-projects/)"
   ]
  },
  {
   "cell_type": "markdown",
   "id": "0e7f2330",
   "metadata": {
    "ExecuteTime": {
     "end_time": "2022-09-22T19:36:33.828188Z",
     "start_time": "2022-09-22T19:36:33.817323Z"
    },
    "papermill": {
     "duration": 0.044606,
     "end_time": "2023-03-14T18:20:05.469464",
     "exception": false,
     "start_time": "2023-03-14T18:20:05.424858",
     "status": "completed"
    },
    "tags": []
   },
   "source": [
    "### STEP : Diversity Analysis\n",
    "\n",
    "Using QIIME2 to create diversity analisys graphs and calculations.\n",
    "\n",
    "- [QIIME2 Workflow Overview](https://docs.qiime2.org/2022.8/tutorials/overview/)\n",
    "\n",
    "\n",
    "#### Methods\n",
    "- [diversity](https://docs.qiime2.org/2022.8/plugins/available/diversity/)\n",
    "- [diversity alpha](https://docs.qiime2.org/2022.8/plugins/available/diversity/alpha/)\n",
    "- [diversity alpha_phylogenetic](https://docs.qiime2.org/2022.8/plugins/available/diversity/alpha-phylogenetic/)\n",
    "- [diversity beta](https://docs.qiime2.org/2022.8/plugins/available/diversity/beta/)\n",
    "- [diversity core_metrics](https://docs.qiime2.org/2022.8/plugins/available/diversity/core-metrics/)\n",
    "- [diversity alpha_group_significance](https://docs.qiime2.org/2022.8/plugins/available/diversity/alpha-group-significance/)\n",
    "- [diversity beta_group_significance](https://docs.qiime2.org/2022.8/plugins/available/diversity/beta-group-significance/)\n",
    "- [feature_table core_features](https://docs.qiime2.org/2022.8/plugins/available/feature-table/core-features/)\n",
    "- [feature_table summarize](https://docs.qiime2.org/2022.8/plugins/available/feature-table/summarize/)\n",
    "- [taxa filter-table](https://docs.qiime2.org/2022.8/plugins/available/taxa/filter-table/)\n",
    "- [taxa collapse](https://docs.qiime2.org/2022.8/plugins/available/taxa/collapse/)"
   ]
  },
  {
   "cell_type": "markdown",
   "id": "843debbf",
   "metadata": {
    "papermill": {
     "duration": 0.038839,
     "end_time": "2023-03-14T18:20:05.552286",
     "exception": false,
     "start_time": "2023-03-14T18:20:05.513447",
     "status": "completed"
    },
    "tags": []
   },
   "source": [
    "## Setup and settings"
   ]
  },
  {
   "cell_type": "code",
   "execution_count": 1,
   "id": "965e28e5",
   "metadata": {
    "ExecuteTime": {
     "end_time": "2023-03-15T14:11:30.758495Z",
     "start_time": "2023-03-15T14:11:23.692848Z"
    },
    "execution": {
     "iopub.execute_input": "2023-03-14T18:20:05.657185Z",
     "iopub.status.busy": "2023-03-14T18:20:05.656580Z",
     "iopub.status.idle": "2023-03-14T18:20:22.272606Z",
     "shell.execute_reply": "2023-03-14T18:20:22.273552Z"
    },
    "papermill": {
     "duration": 16.677926,
     "end_time": "2023-03-14T18:20:22.274020",
     "exception": false,
     "start_time": "2023-03-14T18:20:05.596094",
     "status": "completed"
    },
    "tags": []
   },
   "outputs": [],
   "source": [
    "# Importing packages\n",
    "import os\n",
    "import pandas as pd\n",
    "from qiime2 import Artifact\n",
    "from qiime2 import Visualization\n",
    "from qiime2 import Metadata\n",
    "\n",
    "from qiime2.plugins.phylogeny.pipelines import align_to_tree_mafft_fasttree\n",
    "\n",
    "from qiime2.plugins.diversity.pipelines import alpha\n",
    "from qiime2.plugins.diversity.pipelines import beta\n",
    "from qiime2.plugins.diversity.pipelines import core_metrics\n",
    "from qiime2.plugins.diversity.pipelines import alpha_phylogenetic\n",
    "\n",
    "from qiime2.plugins.diversity.visualizers import alpha_group_significance\n",
    "from qiime2.plugins.diversity.visualizers import beta_group_significance\n",
    "from qiime2.plugins.diversity.visualizers import alpha_correlation\n",
    "from qiime2.plugins.diversity.visualizers import beta_rarefaction\n",
    "\n",
    "from qiime2.plugins.taxa.methods import filter_table\n",
    "from qiime2.plugins.taxa.methods import collapse\n",
    "\n",
    "from qiime2.plugins.feature_table.visualizers import tabulate_seqs\n",
    "from qiime2.plugins.feature_table.visualizers import summarize\n",
    "from qiime2.plugins.feature_table.visualizers import core_features\n",
    "\n",
    "from qiime2.plugins.alignment.methods import mafft\n",
    "\n",
    "\n",
    "import matplotlib.pyplot as plt\n",
    "\n",
    "%matplotlib inline"
   ]
  },
  {
   "cell_type": "markdown",
   "id": "530ceb60",
   "metadata": {
    "papermill": {
     "duration": 0.045932,
     "end_time": "2023-03-14T18:20:22.376485",
     "exception": false,
     "start_time": "2023-03-14T18:20:22.330553",
     "status": "completed"
    },
    "tags": []
   },
   "source": [
    "### Receiving the parameters\n",
    "\n",
    "The following cell can receive parameters using the [papermill](https://papermill.readthedocs.io/en/latest/) tool."
   ]
  },
  {
   "cell_type": "code",
   "execution_count": 2,
   "id": "18d874ea",
   "metadata": {
    "ExecuteTime": {
     "end_time": "2023-03-15T14:11:30.767035Z",
     "start_time": "2023-03-15T14:11:30.761773Z"
    },
    "execution": {
     "iopub.execute_input": "2023-03-14T18:20:22.471612Z",
     "iopub.status.busy": "2023-03-14T18:20:22.471096Z",
     "iopub.status.idle": "2023-03-14T18:20:22.475382Z",
     "shell.execute_reply": "2023-03-14T18:20:22.474398Z"
    },
    "papermill": {
     "duration": 0.054427,
     "end_time": "2023-03-14T18:20:22.475628",
     "exception": false,
     "start_time": "2023-03-14T18:20:22.421201",
     "status": "completed"
    },
    "tags": [
     "parameters"
    ]
   },
   "outputs": [],
   "source": [
    "base_dir = os.path.join('/', 'home')\n",
    "metadata_file = os.path.abspath(os.path.join(base_dir, 'data', 'metadatada.tsv'))\n",
    "experiment_name = ''\n",
    "class_col = ''\n",
    "replace_files = False"
   ]
  },
  {
   "cell_type": "code",
   "execution_count": 3,
   "id": "47d08ea5",
   "metadata": {
    "ExecuteTime": {
     "end_time": "2023-03-15T14:11:30.775358Z",
     "start_time": "2023-03-15T14:11:30.769967Z"
    },
    "execution": {
     "iopub.execute_input": "2023-03-14T18:20:22.577267Z",
     "iopub.status.busy": "2023-03-14T18:20:22.576134Z",
     "iopub.status.idle": "2023-03-14T18:20:22.579878Z",
     "shell.execute_reply": "2023-03-14T18:20:22.579038Z"
    },
    "papermill": {
     "duration": 0.054957,
     "end_time": "2023-03-14T18:20:22.579992",
     "exception": false,
     "start_time": "2023-03-14T18:20:22.525035",
     "status": "completed"
    },
    "tags": [
     "injected-parameters"
    ]
   },
   "outputs": [],
   "source": [
    "# Parameters\n",
    "experiment_name = \"thayane-PM\"\n",
    "base_dir = \"/home/lauro/nupeb/rede-micro/redemicro-thayane\"\n",
    "manifest_file = \"/home/lauro/nupeb/rede-micro/redemicro-thayane/data/manifest.csv\"\n",
    "metadata_file = \"/home/lauro/nupeb/rede-micro/redemicro-thayane/data/metadata.tsv\"\n",
    "class_col = \"menopausa-age-qcut\"\n",
    "classifier_file = (\n",
    "    \"/home/lauro/nupeb/16S_classifiers_qiime2/silva-138-99-nb-classifier.qza\"\n",
    ")\n",
    "replace_files = False\n",
    "phred = 20\n",
    "trunc_f = 0\n",
    "trunc_r = 0\n",
    "overlap = 12\n",
    "threads = 6\n"
   ]
  },
  {
   "cell_type": "code",
   "execution_count": 27,
   "id": "f38617d9",
   "metadata": {
    "ExecuteTime": {
     "end_time": "2023-03-16T18:55:21.147358Z",
     "start_time": "2023-03-16T18:55:21.142061Z"
    },
    "execution": {
     "iopub.execute_input": "2023-03-14T18:20:22.679979Z",
     "iopub.status.busy": "2023-03-14T18:20:22.678839Z",
     "iopub.status.idle": "2023-03-14T18:20:22.681851Z",
     "shell.execute_reply": "2023-03-14T18:20:22.682717Z"
    },
    "papermill": {
     "duration": 0.05487,
     "end_time": "2023-03-14T18:20:22.682977",
     "exception": false,
     "start_time": "2023-03-14T18:20:22.628107",
     "status": "completed"
    },
    "tags": []
   },
   "outputs": [],
   "source": [
    "experiment_folder = os.path.abspath(os.path.join(base_dir, 'experiments', experiment_name))\n",
    "img_folder = os.path.abspath(os.path.join(experiment_folder, 'imgs'))"
   ]
  },
  {
   "cell_type": "markdown",
   "id": "ea9b90fb",
   "metadata": {
    "papermill": {
     "duration": 0.047107,
     "end_time": "2023-03-14T18:20:22.781207",
     "exception": false,
     "start_time": "2023-03-14T18:20:22.734100",
     "status": "completed"
    },
    "tags": []
   },
   "source": [
    "### Defining names, paths and flags"
   ]
  },
  {
   "cell_type": "code",
   "execution_count": 6,
   "id": "45727eef",
   "metadata": {
    "ExecuteTime": {
     "end_time": "2023-03-15T14:12:16.713392Z",
     "start_time": "2023-03-15T14:12:16.702156Z"
    },
    "execution": {
     "iopub.execute_input": "2023-03-14T18:20:22.878268Z",
     "iopub.status.busy": "2023-03-14T18:20:22.877601Z",
     "iopub.status.idle": "2023-03-14T18:20:22.881500Z",
     "shell.execute_reply": "2023-03-14T18:20:22.881121Z"
    },
    "papermill": {
     "duration": 0.054171,
     "end_time": "2023-03-14T18:20:22.881596",
     "exception": false,
     "start_time": "2023-03-14T18:20:22.827425",
     "status": "completed"
    },
    "tags": []
   },
   "outputs": [],
   "source": [
    "# QIIME2 Artifacts folder\n",
    "qiime_folder = os.path.join(experiment_folder, 'qiime-artifacts')\n",
    "\n",
    "# Input - DADA2 Artifacts\n",
    "dada2_tabs_path = os.path.join(qiime_folder, 'dada2-tabs.qza')\n",
    "dada2_reps_path = os.path.join(qiime_folder, 'dada2-reps.qza')\n",
    "dada2_stat_path = os.path.join(qiime_folder, 'dada2-stat.qza')\n",
    "\n",
    "# Input - Taxonaomic Artifacts\n",
    "taxonomy_path = os.path.join(qiime_folder, 'metatax.qza')\n",
    "\n",
    "# Create folder to store Alpha files\n",
    "alpha_path = os.path.join(qiime_folder, 'alpha-analysis')\n",
    "if not os.path.exists(alpha_path):\n",
    "    os.makedirs(alpha_path)\n",
    "    print(f'The new directory is created in {alpha_path}')\n",
    "    \n",
    "# Create folder to store Beta files\n",
    "beta_path = os.path.join(qiime_folder, 'beta-analysis')\n",
    "if not os.path.exists(beta_path):\n",
    "    os.makedirs(beta_path)\n",
    "    print(f'The new directory is created in {beta_path}')\n",
    "\n",
    "# Output -Diversity Artifacts\n",
    "alpha_diversity_path = os.path.join(alpha_path, 'alpha-diversity.qza')\n",
    "alpha_diversity_view_path = os.path.join(alpha_path, 'alpha-diversity.qzv')\n",
    "beta_diversity_path = os.path.join(beta_path, 'beta-diversity.qza')\n",
    "beta_diversity_view_path = os.path.join(beta_path, 'beta-diversity.qzv')"
   ]
  },
  {
   "cell_type": "code",
   "execution_count": 28,
   "id": "601ae263",
   "metadata": {
    "ExecuteTime": {
     "end_time": "2023-03-16T18:55:26.247499Z",
     "start_time": "2023-03-16T18:55:26.237173Z"
    },
    "execution": {
     "iopub.execute_input": "2023-03-14T18:20:22.974328Z",
     "iopub.status.busy": "2023-03-14T18:20:22.973882Z",
     "iopub.status.idle": "2023-03-14T18:20:22.976870Z",
     "shell.execute_reply": "2023-03-14T18:20:22.977234Z"
    },
    "papermill": {
     "duration": 0.051493,
     "end_time": "2023-03-14T18:20:22.977339",
     "exception": false,
     "start_time": "2023-03-14T18:20:22.925846",
     "status": "completed"
    },
    "tags": []
   },
   "outputs": [],
   "source": [
    "def filter_and_collapse(tab, seqs, tax, meta, lvl, exclude=True, exclude_list='uncultured,unidentified,metagenome'):\n",
    "    from qiime2.plugins.taxa.methods import collapse\n",
    "    from qiime2.plugins.taxa.methods import filter_table\n",
    "    from qiime2.plugins.feature_table.methods import filter_seqs\n",
    "    from qiime2.plugins.feature_table.visualizers import summarize\n",
    "    \n",
    "    to_include = ('d', 'p', 'c', 'o', 'f', 'g', 's')[lvl-1]\n",
    "    to_include += '__'\n",
    "    to_exclude = exclude_list if exclude else None\n",
    "    \n",
    "    filtered_tabs = filter_table(\n",
    "        table=tab, \n",
    "        taxonomy=tax,\n",
    "        include=to_include,\n",
    "        exclude=to_exclude,\n",
    "        mode='contains').filtered_table\n",
    "    \n",
    "    filtered_seqs = filter_seqs(\n",
    "        data = seqs,\n",
    "        table = filtered_tabs,\n",
    "    ).filtered_data\n",
    "    \n",
    "    collapsed_table = collapse(table=filtered_tabs, taxonomy=tax, level=lvl).collapsed_table\n",
    "    collapsed_table_view = summarize(table=collapsed_table, sample_metadata=meta).visualization\n",
    "    \n",
    "    return collapsed_table, collapsed_table_view, filtered_seqs"
   ]
  },
  {
   "cell_type": "markdown",
   "id": "0999a1b2",
   "metadata": {
    "papermill": {
     "duration": 0.039175,
     "end_time": "2023-03-14T18:20:23.061375",
     "exception": false,
     "start_time": "2023-03-14T18:20:23.022200",
     "status": "completed"
    },
    "tags": []
   },
   "source": [
    "## Step execution\n",
    "\n",
    "### Load input files\n",
    "\n",
    "This Step import the QIIME2 `FeatureTable[Frequency]` Artifact and the `Metadata` file."
   ]
  },
  {
   "cell_type": "code",
   "execution_count": 30,
   "id": "8f299d1a",
   "metadata": {
    "ExecuteTime": {
     "end_time": "2023-03-16T19:02:42.003001Z",
     "start_time": "2023-03-16T19:02:40.911928Z"
    },
    "execution": {
     "iopub.execute_input": "2023-03-14T18:20:23.153208Z",
     "iopub.status.busy": "2023-03-14T18:20:23.152729Z",
     "iopub.status.idle": "2023-03-14T18:20:24.063400Z",
     "shell.execute_reply": "2023-03-14T18:20:24.064314Z"
    },
    "papermill": {
     "duration": 0.960692,
     "end_time": "2023-03-14T18:20:24.064598",
     "exception": false,
     "start_time": "2023-03-14T18:20:23.103906",
     "status": "completed"
    },
    "tags": []
   },
   "outputs": [],
   "source": [
    "#Load Metadata\n",
    "metadata_qa = Metadata.load(metadata_file)\n",
    "\n",
    "#Load FeatureTable[Frequency]\n",
    "tabs = Artifact.load(dada2_tabs_path)\n",
    "tabs_df = tabs.view(Metadata).to_dataframe().T\n",
    "\n",
    "# FeatureData[Sequence]\n",
    "reps = Artifact.load(dada2_reps_path)\n",
    "\n",
    "# FeatureData[Taxonomy]\n",
    "tax = Artifact.load(taxonomy_path)"
   ]
  },
  {
   "cell_type": "code",
   "execution_count": 31,
   "id": "83b06cc8",
   "metadata": {
    "ExecuteTime": {
     "end_time": "2023-03-16T19:02:46.189741Z",
     "start_time": "2023-03-16T19:02:46.171884Z"
    }
   },
   "outputs": [],
   "source": [
    "categorical_columns = metadata_qa.filter_columns(column_type='categorical')\n",
    "numeric_columns = metadata_qa.filter_columns(column_type='numeric')"
   ]
  },
  {
   "cell_type": "code",
   "execution_count": 8,
   "id": "c8dfe530",
   "metadata": {
    "ExecuteTime": {
     "end_time": "2022-09-29T20:54:15.564968Z",
     "start_time": "2022-09-29T20:54:15.561875Z"
    },
    "execution": {
     "iopub.execute_input": "2023-03-14T18:20:24.165693Z",
     "iopub.status.busy": "2023-03-14T18:20:24.165188Z",
     "iopub.status.idle": "2023-03-14T18:20:24.166965Z",
     "shell.execute_reply": "2023-03-14T18:20:24.167397Z"
    },
    "papermill": {
     "duration": 0.05081,
     "end_time": "2023-03-14T18:20:24.167518",
     "exception": false,
     "start_time": "2023-03-14T18:20:24.116708",
     "status": "completed"
    },
    "tags": []
   },
   "outputs": [],
   "source": [
    "# lvl = 7\n",
    "# exclude = True\n",
    "# tabs, collapsed_table_view, reps = filter_and_collapse(\n",
    "#                     tabs, reps, tax, metadata_qa, \n",
    "#                     lvl=lvl,\n",
    "#                     exclude=exclude, \n",
    "#                     exclude_list='uncultured,unidentified,metagenome')\n",
    "# collapsed_table_view"
   ]
  },
  {
   "cell_type": "markdown",
   "id": "9f43843a",
   "metadata": {
    "ExecuteTime": {
     "end_time": "2022-09-22T22:48:07.523952Z",
     "start_time": "2022-09-22T22:48:07.517565Z"
    },
    "papermill": {
     "duration": 0.044798,
     "end_time": "2023-03-14T18:20:24.259387",
     "exception": false,
     "start_time": "2023-03-14T18:20:24.214589",
     "status": "completed"
    },
    "tags": []
   },
   "source": [
    "## Alpha diversity analysis\n",
    "\n",
    "#### Reference\n",
    "- [The Use and Types of Alpha-Diversity Metrics in Microbial NGS](https://www.cd-genomics.com/microbioseq/the-use-and-types-of-alpha-diversity-metrics-in-microbial-ngs.html)\n",
    "- [Alpha diversity metrics](http://scikit-bio.org/docs/0.2.0/generated/skbio.diversity.alpha.html)\n",
    "\n",
    "#### Methods\n",
    "- [diversity alpha](https://docs.qiime2.org/2022.8/plugins/available/diversity/alpha/): Computes a user-specified alpha diversity metric for all samples in a\n",
    "feature table.\n",
    "- [diversity alpha_phylogenetic](https://docs.qiime2.org/2022.8/plugins/available/diversity/alpha-phylogenetic/): Computes a user-specified phylogenetic alpha diversity metric for all\n",
    "samples in a feature table.\n",
    "- [diversity alpha_correlation](https://docs.qiime2.org/2022.8/plugins/available/diversity/alpha-correlation/): Determine whether numeric sample metadata columns are correlated with alpha diversity.\n",
    "- [diversity alpha_group_significance](https://docs.qiime2.org/2022.8/plugins/available/diversity/alpha-group-significance/): Visually and statistically compare groups of alpha diversity values."
   ]
  },
  {
   "cell_type": "markdown",
   "id": "606b9c75",
   "metadata": {
    "papermill": {
     "duration": 0.04056,
     "end_time": "2023-03-14T18:20:24.343079",
     "exception": false,
     "start_time": "2023-03-14T18:20:24.302519",
     "status": "completed"
    },
    "tags": []
   },
   "source": [
    "### Compute Alpha Diversity vectors\n",
    "- [diversity alpha](https://docs.qiime2.org/2022.8/plugins/available/diversity/alpha/): Computes a user-specified alpha diversity metric for all samples in a feature table.\n",
    "- [Alpha diversity metrics](http://scikit-bio.org/docs/0.2.0/generated/skbio.diversity.alpha.html)\n",
    " - Choices: ('ace', 'berger_parker_d', 'brillouin_d', 'chao1', 'chao1_ci', 'dominance', 'doubles', 'enspie', 'esty_ci', 'fisher_alpha', 'gini_index', 'goods_coverage', 'heip_e', 'kempton_taylor_q', 'lladser_pe', 'margalef', 'mcintosh_d', 'mcintosh_e', 'menhinick', 'michaelis_menten_fit', 'observed_features', 'osd', 'pielou_e', 'robbins', 'shannon', 'simpson', 'simpson_e', 'singles', 'strong')"
   ]
  },
  {
   "cell_type": "code",
   "execution_count": 9,
   "id": "556e5264",
   "metadata": {
    "ExecuteTime": {
     "end_time": "2022-09-29T20:54:20.790166Z",
     "start_time": "2022-09-29T20:54:20.451134Z"
    },
    "execution": {
     "iopub.execute_input": "2023-03-14T18:20:24.428784Z",
     "iopub.status.busy": "2023-03-14T18:20:24.428332Z",
     "iopub.status.idle": "2023-03-14T18:32:12.933200Z",
     "shell.execute_reply": "2023-03-14T18:32:12.932218Z"
    },
    "papermill": {
     "duration": 708.551682,
     "end_time": "2023-03-14T18:32:12.933424",
     "exception": false,
     "start_time": "2023-03-14T18:20:24.381742",
     "status": "completed"
    },
    "tags": []
   },
   "outputs": [
    {
     "name": "stdout",
     "output_type": "stream",
     "text": [
      "Calculating alpha diversity: ace\n",
      "ERROR: Calculating alpha diversity: ace\n",
      "index 1 is out of bounds for axis 0 with size 1\n",
      "Calculating alpha diversity: berger_parker_d\n",
      "DONE: Calculating alpha diversity: berger_parker_d\n",
      "Calculating alpha diversity: brillouin_d\n",
      "DONE: Calculating alpha diversity: brillouin_d\n",
      "Calculating alpha diversity: chao1\n"
     ]
    },
    {
     "name": "stderr",
     "output_type": "stream",
     "text": [
      "/home/lauro/anaconda3/envs/qiime2-2021.11/lib/python3.8/site-packages/skbio/diversity/alpha/_base.py:55: RuntimeWarning: invalid value encountered in long_scalars\n",
      "  return counts.max() / counts.sum()\n",
      "/home/lauro/anaconda3/envs/qiime2-2021.11/lib/python3.8/site-packages/skbio/diversity/alpha/_base.py:95: RuntimeWarning: invalid value encountered in double_scalars\n",
      "  return (gammaln(n + 1) - gammaln(nz + 1).sum()) / n\n"
     ]
    },
    {
     "name": "stdout",
     "output_type": "stream",
     "text": [
      "DONE: Calculating alpha diversity: chao1\n",
      "Calculating alpha diversity: chao1_ci\n",
      "DONE: Calculating alpha diversity: chao1_ci\n",
      "Calculating alpha diversity: dominance\n"
     ]
    },
    {
     "name": "stderr",
     "output_type": "stream",
     "text": [
      "/home/lauro/anaconda3/envs/qiime2-2021.11/lib/python3.8/site-packages/skbio/diversity/alpha/_chao1.py:217: RuntimeWarning: invalid value encountered in long_scalars\n",
      "  P = np.exp(-n / s)\n",
      "/home/lauro/anaconda3/envs/qiime2-2021.11/lib/python3.8/site-packages/skbio/diversity/alpha/_base.py:138: RuntimeWarning: invalid value encountered in true_divide\n",
      "  freqs = counts / counts.sum()\n"
     ]
    },
    {
     "name": "stdout",
     "output_type": "stream",
     "text": [
      "DONE: Calculating alpha diversity: dominance\n",
      "Calculating alpha diversity: doubles\n",
      "DONE: Calculating alpha diversity: doubles\n",
      "Calculating alpha diversity: enspie\n",
      "DONE: Calculating alpha diversity: enspie\n",
      "Calculating alpha diversity: esty_ci\n"
     ]
    },
    {
     "name": "stderr",
     "output_type": "stream",
     "text": [
      "/home/lauro/anaconda3/envs/qiime2-2021.11/lib/python3.8/site-packages/skbio/diversity/alpha/_base.py:253: RuntimeWarning: invalid value encountered in long_scalars\n",
      "  W = (f1 * (n - f1) + 2 * n * f2) / (n ** 3)\n",
      "/home/lauro/anaconda3/envs/qiime2-2021.11/lib/python3.8/site-packages/skbio/diversity/alpha/_base.py:255: RuntimeWarning: invalid value encountered in long_scalars\n",
      "  return f1 / n - z * np.sqrt(W), f1 / n + z * np.sqrt(W)\n",
      "/home/lauro/anaconda3/envs/qiime2-2021.11/lib/python3.8/site-packages/skbio/diversity/alpha/_gini.py:95: RuntimeWarning: invalid value encountered in true_divide\n",
      "  return np.arange(1, n + 1) / n, sorted_data.cumsum() / Sn\n"
     ]
    },
    {
     "name": "stdout",
     "output_type": "stream",
     "text": [
      "DONE: Calculating alpha diversity: esty_ci\n",
      "Calculating alpha diversity: fisher_alpha\n",
      "DONE: Calculating alpha diversity: fisher_alpha\n",
      "Calculating alpha diversity: gini_index\n",
      "DONE: Calculating alpha diversity: gini_index\n",
      "Calculating alpha diversity: goods_coverage\n"
     ]
    },
    {
     "name": "stderr",
     "output_type": "stream",
     "text": [
      "/home/lauro/anaconda3/envs/qiime2-2021.11/lib/python3.8/site-packages/skbio/diversity/alpha/_base.py:347: RuntimeWarning: invalid value encountered in long_scalars\n",
      "  return 1 - (f1 / N)\n",
      "/home/lauro/anaconda3/envs/qiime2-2021.11/lib/python3.8/site-packages/skbio/diversity/alpha/_base.py:869: RuntimeWarning: invalid value encountered in true_divide\n",
      "  freqs = counts / counts.sum()\n",
      "/home/lauro/anaconda3/envs/qiime2-2021.11/lib/python3.8/site-packages/skbio/diversity/alpha/_base.py:440: RuntimeWarning: invalid value encountered in long_scalars\n",
      "  return (upper - lower) / np.log(sorted_counts[upper] /\n"
     ]
    },
    {
     "name": "stdout",
     "output_type": "stream",
     "text": [
      "DONE: Calculating alpha diversity: goods_coverage\n",
      "Calculating alpha diversity: heip_e\n",
      "DONE: Calculating alpha diversity: heip_e\n",
      "Calculating alpha diversity: kempton_taylor_q\n",
      "DONE: Calculating alpha diversity: kempton_taylor_q\n",
      "Calculating alpha diversity: lladser_pe\n",
      "DONE: Calculating alpha diversity: lladser_pe\n",
      "Calculating alpha diversity: margalef\n",
      "DONE: Calculating alpha diversity: margalef\n",
      "Calculating alpha diversity: mcintosh_d\n",
      "DONE: Calculating alpha diversity: mcintosh_d\n",
      "Calculating alpha diversity: mcintosh_e\n",
      "DONE: Calculating alpha diversity: mcintosh_e\n",
      "Calculating alpha diversity: menhinick\n"
     ]
    },
    {
     "name": "stderr",
     "output_type": "stream",
     "text": [
      "/home/lauro/anaconda3/envs/qiime2-2021.11/lib/python3.8/site-packages/skbio/diversity/alpha/_base.py:480: RuntimeWarning: divide by zero encountered in log\n",
      "  return (observed_otus(counts) - 1) / np.log(counts.sum())\n",
      "/home/lauro/anaconda3/envs/qiime2-2021.11/lib/python3.8/site-packages/skbio/diversity/alpha/_base.py:532: RuntimeWarning: invalid value encountered in double_scalars\n",
      "  return (n - u) / (n - np.sqrt(n))\n",
      "/home/lauro/anaconda3/envs/qiime2-2021.11/lib/python3.8/site-packages/skbio/diversity/alpha/_base.py:579: RuntimeWarning: invalid value encountered in double_scalars\n",
      "  return numerator / denominator\n",
      "/home/lauro/anaconda3/envs/qiime2-2021.11/lib/python3.8/site-packages/skbio/diversity/alpha/_base.py:618: RuntimeWarning: invalid value encountered in true_divide\n",
      "  return observed_otus(counts) / np.sqrt(counts.sum())\n"
     ]
    },
    {
     "name": "stdout",
     "output_type": "stream",
     "text": [
      "DONE: Calculating alpha diversity: menhinick\n",
      "Calculating alpha diversity: michaelis_menten_fit\n",
      "DONE: Calculating alpha diversity: michaelis_menten_fit\n",
      "Calculating alpha diversity: observed_features\n",
      "DONE: Calculating alpha diversity: observed_features\n",
      "Calculating alpha diversity: osd\n",
      "DONE: Calculating alpha diversity: osd\n",
      "Calculating alpha diversity: pielou_e\n",
      "DONE: Calculating alpha diversity: pielou_e\n",
      "Calculating alpha diversity: robbins\n"
     ]
    },
    {
     "name": "stderr",
     "output_type": "stream",
     "text": [
      "/home/lauro/anaconda3/envs/qiime2-2021.11/lib/python3.8/site-packages/skbio/diversity/alpha/_base.py:793: RuntimeWarning: divide by zero encountered in log\n",
      "  return shannon(counts, base=np.e) / np.log(observed_otus(counts))\n",
      "/home/lauro/anaconda3/envs/qiime2-2021.11/lib/python3.8/site-packages/skbio/diversity/alpha/_base.py:829: RuntimeWarning: invalid value encountered in long_scalars\n",
      "  return singles(counts) / counts.sum()\n"
     ]
    },
    {
     "name": "stdout",
     "output_type": "stream",
     "text": [
      "DONE: Calculating alpha diversity: robbins\n",
      "Calculating alpha diversity: shannon\n",
      "DONE: Calculating alpha diversity: shannon\n",
      "Calculating alpha diversity: simpson\n",
      "DONE: Calculating alpha diversity: simpson\n",
      "Calculating alpha diversity: simpson_e\n",
      "DONE: Calculating alpha diversity: simpson_e\n",
      "Calculating alpha diversity: singles\n",
      "DONE: Calculating alpha diversity: singles\n",
      "Calculating alpha diversity: strong\n",
      "DONE: Calculating alpha diversity: strong\n"
     ]
    },
    {
     "name": "stderr",
     "output_type": "stream",
     "text": [
      "/home/lauro/anaconda3/envs/qiime2-2021.11/lib/python3.8/site-packages/skbio/diversity/alpha/_base.py:1021: RuntimeWarning: invalid value encountered in true_divide\n",
      "  return (sorted_sum / n - (i / s)).max()\n",
      "/home/lauro/anaconda3/envs/qiime2-2021.11/lib/python3.8/site-packages/skbio/diversity/alpha/_base.py:1021: RuntimeWarning: divide by zero encountered in true_divide\n",
      "  return (sorted_sum / n - (i / s)).max()\n"
     ]
    }
   ],
   "source": [
    "metrics = ('ace', 'berger_parker_d', 'brillouin_d', 'chao1', 'chao1_ci', 'dominance', 'doubles', 'enspie', 'esty_ci', 'fisher_alpha', 'gini_index', 'goods_coverage', 'heip_e', 'kempton_taylor_q', 'lladser_pe', 'margalef', 'mcintosh_d', 'mcintosh_e', 'menhinick', 'michaelis_menten_fit', 'observed_features', 'osd', 'pielou_e', 'robbins', 'shannon', 'simpson', 'simpson_e', 'singles', 'strong')\n",
    "alpha_diversities = dict()\n",
    "for metric in metrics:\n",
    "    print(f\"Calculating alpha diversity: {metric}\")\n",
    "    try:\n",
    "        alpha_diversity = alpha(table=tabs, metric=metric).alpha_diversity\n",
    "        alpha_diversities[metric] = alpha_diversity\n",
    "        # Save SampleData[AlphaDiversity] Artifact\n",
    "        file_path = os.path.join(alpha_path, f'alpha-values-{metric}.qza')\n",
    "        alpha_diversity.save(file_path)\n",
    "        print(f\"DONE: Calculating alpha diversity: {metric}\")\n",
    "    except Exception as e:\n",
    "        print(f\"ERROR: Calculating alpha diversity: {metric}\")\n",
    "        print(e)"
   ]
  },
  {
   "cell_type": "markdown",
   "id": "184bcb7b",
   "metadata": {
    "papermill": {
     "duration": 0.057148,
     "end_time": "2023-03-14T18:32:13.053251",
     "exception": false,
     "start_time": "2023-03-14T18:32:12.996103",
     "status": "completed"
    },
    "tags": []
   },
   "source": [
    "### Create Phylogenetic inference\n",
    "\n",
    "- [alignment align_to_tree_mafft_fasttree](https://docs.qiime2.org/2022.8/plugins/available/phylogeny/align-to-tree-mafft-fasttree/): Build a phylogenetic tree using fasttree and mafft alignment\n",
    "\n",
    "This pipeline will start by creating a sequence alignment using MAFFT,\n",
    "after which any alignment columns that are phylogenetically uninformative\n",
    "or ambiguously aligned will be removed (masked). The resulting masked\n",
    "alignment will be used to infer a phylogenetic tree and then subsequently\n",
    "rooted at its midpoint. Output files from each step of the pipeline will be\n",
    "saved. This includes both the unmasked and masked MAFFT alignment from\n",
    "q2-alignment methods, and both the rooted and unrooted phylogenies from\n",
    "q2-phylogeny methods.\n",
    "\n",
    "\n",
    "Returns\n",
    "- alignment : FeatureData[AlignedSequence] : The aligned sequences.\n",
    "- masked_alignment : FeatureData[AlignedSequence] : The masked alignment.\n",
    "- tree : Phylogeny[Unrooted] : The unrooted phylogenetic tree.\n",
    "- rooted_tree : Phylogeny[Rooted] : The rooted phylogenetic tree."
   ]
  },
  {
   "cell_type": "code",
   "execution_count": 10,
   "id": "9c8cfe47",
   "metadata": {
    "ExecuteTime": {
     "end_time": "2022-09-29T20:54:35.139531Z",
     "start_time": "2022-09-29T20:54:20.792130Z"
    },
    "execution": {
     "iopub.execute_input": "2023-03-14T18:32:13.211647Z",
     "iopub.status.busy": "2023-03-14T18:32:13.210906Z",
     "iopub.status.idle": "2023-03-14T18:32:42.400529Z",
     "shell.execute_reply": "2023-03-14T18:32:42.401398Z"
    },
    "papermill": {
     "duration": 29.2766,
     "end_time": "2023-03-14T18:32:42.401672",
     "exception": false,
     "start_time": "2023-03-14T18:32:13.125072",
     "status": "completed"
    },
    "tags": []
   },
   "outputs": [
    {
     "name": "stdout",
     "output_type": "stream",
     "text": [
      "Running external command line application. This may print messages to stdout and/or stderr.\n",
      "The command being run is below. This command cannot be manually re-run as it will depend on temporary files that no longer exist.\n",
      "\n",
      "Command: mafft --preservecase --inputorder --thread 6 /tmp/qiime2-archive-1sdzx6ya/13d02254-ae40-454f-83ff-29cf80d39c56/data/dna-sequences.fasta\n",
      "\n",
      "Running external command line application. This may print messages to stdout and/or stderr.\n",
      "The command being run is below. This command cannot be manually re-run as it will depend on temporary files that no longer exist.\n",
      "\n",
      "Command: FastTreeMP -quote -nt /tmp/qiime2-archive-kc23nh6e/ffe36140-d4ea-4956-b157-b6f9964adb66/data/aligned-dna-sequences.fasta\n",
      "\n"
     ]
    }
   ],
   "source": [
    "mafft_alignment, mafft_masked_alignment, mafft_tree, mafft_rooted_tree = align_to_tree_mafft_fasttree(\n",
    "    sequences=reps, n_threads=6, )"
   ]
  },
  {
   "cell_type": "markdown",
   "id": "0768d598",
   "metadata": {
    "papermill": {
     "duration": 0.049535,
     "end_time": "2023-03-14T18:32:42.508618",
     "exception": false,
     "start_time": "2023-03-14T18:32:42.459083",
     "status": "completed"
    },
    "tags": []
   },
   "source": [
    "### Compute Alpha Diversity (Phylogeny)\n",
    "- [diversity alpha_phylogenetic](https://docs.qiime2.org/2022.8/plugins/available/diversity/alpha-phylogenetic/): Computes a user-specified phylogenetic alpha diversity metric for all samples in a feature table.\n",
    "- Metrics: Choices ('faith_pd')"
   ]
  },
  {
   "cell_type": "code",
   "execution_count": 11,
   "id": "0383aa19",
   "metadata": {
    "ExecuteTime": {
     "end_time": "2022-09-29T20:54:35.310009Z",
     "start_time": "2022-09-29T20:54:35.141333Z"
    },
    "execution": {
     "iopub.execute_input": "2023-03-14T18:32:42.622809Z",
     "iopub.status.busy": "2023-03-14T18:32:42.621673Z",
     "iopub.status.idle": "2023-03-14T18:32:42.794475Z",
     "shell.execute_reply": "2023-03-14T18:32:42.793896Z"
    },
    "papermill": {
     "duration": 0.236443,
     "end_time": "2023-03-14T18:32:42.794615",
     "exception": false,
     "start_time": "2023-03-14T18:32:42.558172",
     "status": "completed"
    },
    "tags": []
   },
   "outputs": [
    {
     "name": "stdout",
     "output_type": "stream",
     "text": [
      "Calculating alpha diversity: faith_pd\n",
      "DONE: Calculating alpha phylogeny: faith_pd\n"
     ]
    }
   ],
   "source": [
    "metrics = ('faith_pd', )\n",
    "alpha_diversities_phylogenetic = dict()\n",
    "for metric in metrics:\n",
    "    print(f\"Calculating alpha diversity: {metric}\")\n",
    "    try:\n",
    "        alpha_diversity = alpha_phylogenetic(table=tabs, phylogeny=mafft_rooted_tree, metric=metric).alpha_diversity\n",
    "        alpha_diversities_phylogenetic[metric] = alpha_diversity\n",
    "        # Save Artifact\n",
    "        file_path = os.path.join(alpha_path, f'alpha-phylogeny-{metric}.qza')\n",
    "        alpha_diversity.save(file_path)\n",
    "        print(f\"DONE: Calculating alpha phylogeny: {metric}\")\n",
    "    except Exception as e:\n",
    "        print(f\"ERROR: Calculating alpha phylogeny: {metric}\")"
   ]
  },
  {
   "cell_type": "markdown",
   "id": "c7752cfd",
   "metadata": {
    "papermill": {
     "duration": 0.050554,
     "end_time": "2023-03-14T18:32:42.899545",
     "exception": false,
     "start_time": "2023-03-14T18:32:42.848991",
     "status": "completed"
    },
    "tags": []
   },
   "source": [
    "### Alpha diversity correlation\n",
    "\n",
    "This method only process `numeric` columns.\n"
   ]
  },
  {
   "cell_type": "code",
   "execution_count": 12,
   "id": "2814f613",
   "metadata": {
    "ExecuteTime": {
     "end_time": "2022-09-29T20:54:35.317618Z",
     "start_time": "2022-09-29T20:54:35.312094Z"
    },
    "execution": {
     "iopub.execute_input": "2023-03-14T18:32:43.015875Z",
     "iopub.status.busy": "2023-03-14T18:32:43.010003Z",
     "iopub.status.idle": "2023-03-14T18:32:47.797941Z",
     "shell.execute_reply": "2023-03-14T18:32:47.798863Z"
    },
    "papermill": {
     "duration": 4.848459,
     "end_time": "2023-03-14T18:32:47.799137",
     "exception": false,
     "start_time": "2023-03-14T18:32:42.950678",
     "status": "completed"
    },
    "tags": []
   },
   "outputs": [
    {
     "name": "stdout",
     "output_type": "stream",
     "text": [
      "DONE: Calculating alpha correlation: berger_parker_d spearman\n",
      "ERROR: Calculating alpha correlation: berger_parker_d pearson\n",
      "DONE: Calculating alpha correlation: brillouin_d spearman\n",
      "ERROR: Calculating alpha correlation: brillouin_d pearson\n",
      "DONE: Calculating alpha correlation: chao1 spearman\n",
      "DONE: Calculating alpha correlation: chao1 pearson\n",
      "ERROR: Calculating alpha correlation: chao1_ci spearman\n",
      "ERROR: Calculating alpha correlation: chao1_ci pearson\n",
      "DONE: Calculating alpha correlation: dominance spearman\n",
      "ERROR: Calculating alpha correlation: dominance pearson\n",
      "DONE: Calculating alpha correlation: doubles spearman\n",
      "DONE: Calculating alpha correlation: doubles pearson\n",
      "DONE: Calculating alpha correlation: enspie spearman\n",
      "ERROR: Calculating alpha correlation: enspie pearson\n",
      "ERROR: Calculating alpha correlation: esty_ci spearman\n",
      "ERROR: Calculating alpha correlation: esty_ci pearson\n",
      "DONE: Calculating alpha correlation: fisher_alpha spearman\n",
      "DONE: Calculating alpha correlation: fisher_alpha pearson\n",
      "DONE: Calculating alpha correlation: gini_index spearman\n",
      "ERROR: Calculating alpha correlation: gini_index pearson\n",
      "DONE: Calculating alpha correlation: goods_coverage spearman\n",
      "ERROR: Calculating alpha correlation: goods_coverage pearson\n",
      "DONE: Calculating alpha correlation: heip_e spearman\n",
      "ERROR: Calculating alpha correlation: heip_e pearson\n",
      "DONE: Calculating alpha correlation: kempton_taylor_q spearman\n",
      "ERROR: Calculating alpha correlation: kempton_taylor_q pearson\n",
      "DONE: Calculating alpha correlation: lladser_pe spearman\n",
      "ERROR: Calculating alpha correlation: lladser_pe pearson\n",
      "DONE: Calculating alpha correlation: margalef spearman\n",
      "DONE: Calculating alpha correlation: margalef pearson\n",
      "DONE: Calculating alpha correlation: mcintosh_d spearman\n",
      "ERROR: Calculating alpha correlation: mcintosh_d pearson\n",
      "DONE: Calculating alpha correlation: mcintosh_e spearman\n",
      "ERROR: Calculating alpha correlation: mcintosh_e pearson\n",
      "DONE: Calculating alpha correlation: menhinick spearman\n",
      "ERROR: Calculating alpha correlation: menhinick pearson\n",
      "DONE: Calculating alpha correlation: michaelis_menten_fit spearman\n",
      "DONE: Calculating alpha correlation: michaelis_menten_fit pearson\n",
      "DONE: Calculating alpha correlation: observed_features spearman\n",
      "DONE: Calculating alpha correlation: observed_features pearson\n",
      "ERROR: Calculating alpha correlation: osd spearman\n",
      "ERROR: Calculating alpha correlation: osd pearson\n",
      "DONE: Calculating alpha correlation: pielou_e spearman\n",
      "ERROR: Calculating alpha correlation: pielou_e pearson\n",
      "DONE: Calculating alpha correlation: robbins spearman\n",
      "ERROR: Calculating alpha correlation: robbins pearson\n",
      "DONE: Calculating alpha correlation: shannon spearman\n",
      "ERROR: Calculating alpha correlation: shannon pearson\n",
      "DONE: Calculating alpha correlation: simpson spearman\n",
      "ERROR: Calculating alpha correlation: simpson pearson\n",
      "DONE: Calculating alpha correlation: simpson_e spearman\n",
      "ERROR: Calculating alpha correlation: simpson_e pearson\n",
      "DONE: Calculating alpha correlation: singles spearman\n",
      "DONE: Calculating alpha correlation: singles pearson\n",
      "DONE: Calculating alpha correlation: strong spearman\n",
      "ERROR: Calculating alpha correlation: strong pearson\n"
     ]
    }
   ],
   "source": [
    "methods = ('spearman', 'pearson')\n",
    "numerics_cols = metadata_qa.filter_columns(column_type='numeric')\n",
    "if numerics_cols.column_count > 0:\n",
    "    for metric, alpha_values in alpha_diversities.items():\n",
    "        for method in methods:\n",
    "            try:\n",
    "                corr_view = alpha_correlation(alpha_diversity=alpha_values, metadata=numerics_cols, \n",
    "                                          method=method, intersect_ids=True).visualization\n",
    "                view_path = os.path.join(alpha_path, f'alpha-correlation-{metric}-{method}.qzv')\n",
    "                corr_view.save(view_path)\n",
    "                corr_view\n",
    "                print(f\"DONE: Calculating alpha correlation: {metric} {method}\")\n",
    "            except Exception as e:\n",
    "                print(f\"ERROR: Calculating alpha correlation: {metric} {method}\")"
   ]
  },
  {
   "cell_type": "markdown",
   "id": "8ea83c8a",
   "metadata": {
    "papermill": {
     "duration": 0.071341,
     "end_time": "2023-03-14T18:32:47.947456",
     "exception": false,
     "start_time": "2023-03-14T18:32:47.876115",
     "status": "completed"
    },
    "tags": []
   },
   "source": [
    "## Alpha diversity comparisons\n",
    "\n",
    "Visually and statistically compare groups of alpha diversity values.\n",
    "\n",
    "[diversity alpha_group_significance](https://docs.qiime2.org/2022.8/plugins/available/diversity/alpha-group-significance/)"
   ]
  },
  {
   "cell_type": "code",
   "execution_count": 13,
   "id": "276d1c18",
   "metadata": {
    "ExecuteTime": {
     "end_time": "2022-09-29T20:54:36.089290Z",
     "start_time": "2022-09-29T20:54:35.318963Z"
    },
    "execution": {
     "iopub.execute_input": "2023-03-14T18:32:48.087258Z",
     "iopub.status.busy": "2023-03-14T18:32:48.086754Z",
     "iopub.status.idle": "2023-03-14T18:32:54.930110Z",
     "shell.execute_reply": "2023-03-14T18:32:54.929666Z"
    },
    "papermill": {
     "duration": 6.911795,
     "end_time": "2023-03-14T18:32:54.930235",
     "exception": false,
     "start_time": "2023-03-14T18:32:48.018440",
     "status": "completed"
    },
    "tags": []
   },
   "outputs": [
    {
     "name": "stdout",
     "output_type": "stream",
     "text": [
      "Processing alpha_group_significance: berger_parker_d\n",
      "DONE: Calculating alpha group significance: berger_parker_d\n",
      "Processing alpha_group_significance: brillouin_d\n",
      "DONE: Calculating alpha group significance: brillouin_d\n",
      "Processing alpha_group_significance: chao1\n",
      "DONE: Calculating alpha group significance: chao1\n",
      "Processing alpha_group_significance: chao1_ci\n",
      "ERROR: Calculating alpha group significance: chao1_ci\n",
      "Processing alpha_group_significance: dominance\n",
      "DONE: Calculating alpha group significance: dominance\n",
      "Processing alpha_group_significance: doubles\n",
      "DONE: Calculating alpha group significance: doubles\n",
      "Processing alpha_group_significance: enspie\n",
      "DONE: Calculating alpha group significance: enspie\n",
      "Processing alpha_group_significance: esty_ci\n",
      "ERROR: Calculating alpha group significance: esty_ci\n",
      "Processing alpha_group_significance: fisher_alpha\n",
      "DONE: Calculating alpha group significance: fisher_alpha\n",
      "Processing alpha_group_significance: gini_index\n",
      "DONE: Calculating alpha group significance: gini_index\n",
      "Processing alpha_group_significance: goods_coverage\n",
      "DONE: Calculating alpha group significance: goods_coverage\n",
      "Processing alpha_group_significance: heip_e\n",
      "DONE: Calculating alpha group significance: heip_e\n",
      "Processing alpha_group_significance: kempton_taylor_q\n",
      "ERROR: Calculating alpha group significance: kempton_taylor_q\n",
      "Processing alpha_group_significance: lladser_pe\n",
      "DONE: Calculating alpha group significance: lladser_pe\n",
      "Processing alpha_group_significance: margalef\n",
      "DONE: Calculating alpha group significance: margalef\n",
      "Processing alpha_group_significance: mcintosh_d\n",
      "DONE: Calculating alpha group significance: mcintosh_d\n",
      "Processing alpha_group_significance: mcintosh_e\n",
      "DONE: Calculating alpha group significance: mcintosh_e\n",
      "Processing alpha_group_significance: menhinick\n",
      "DONE: Calculating alpha group significance: menhinick\n",
      "Processing alpha_group_significance: michaelis_menten_fit\n",
      "DONE: Calculating alpha group significance: michaelis_menten_fit\n",
      "Processing alpha_group_significance: observed_features\n",
      "DONE: Calculating alpha group significance: observed_features\n",
      "Processing alpha_group_significance: osd\n",
      "ERROR: Calculating alpha group significance: osd\n",
      "Processing alpha_group_significance: pielou_e\n",
      "DONE: Calculating alpha group significance: pielou_e\n",
      "Processing alpha_group_significance: robbins\n",
      "DONE: Calculating alpha group significance: robbins\n",
      "Processing alpha_group_significance: shannon\n",
      "DONE: Calculating alpha group significance: shannon\n",
      "Processing alpha_group_significance: simpson\n",
      "DONE: Calculating alpha group significance: simpson\n",
      "Processing alpha_group_significance: simpson_e\n",
      "DONE: Calculating alpha group significance: simpson_e\n",
      "Processing alpha_group_significance: singles\n",
      "DONE: Calculating alpha group significance: singles\n",
      "Processing alpha_group_significance: strong\n",
      "DONE: Calculating alpha group significance: strong\n"
     ]
    }
   ],
   "source": [
    "for metric, alpha_values in alpha_diversities.items():\n",
    "    print(f\"Processing alpha_group_significance: {metric}\")\n",
    "    try:\n",
    "        significance_view = alpha_group_significance(alpha_diversity=alpha_values, metadata=metadata_qa).visualization\n",
    "        view_path = os.path.join(alpha_path, f'alpha-group-significance-{metric}.qzv')\n",
    "        significance_view.save(view_path)\n",
    "        significance_view\n",
    "        print(f\"DONE: Calculating alpha group significance: {metric}\")\n",
    "    except Exception as e:\n",
    "        print(f\"ERROR: Calculating alpha group significance: {metric}\")"
   ]
  },
  {
   "cell_type": "markdown",
   "id": "4349d357",
   "metadata": {
    "papermill": {
     "duration": 0.090442,
     "end_time": "2023-03-14T18:32:55.111638",
     "exception": false,
     "start_time": "2023-03-14T18:32:55.021196",
     "status": "completed"
    },
    "tags": []
   },
   "source": [
    "## Beta diversity analysis\n",
    "\n",
    "#### Reference\n",
    "- [diversity beta](https://docs.qiime2.org/2022.8/plugins/available/diversity/beta/): Computes a user-specified beta diversity metric for all pairs of samples in a feature table.\n",
    "- [Beta diversity metrics](http://scikit-bio.org/docs/0.2.0/generated/skbio.diversity.beta.html)\n",
    "\n",
    "- Metric Choices('aitchison', 'braycurtis', 'canberra', 'canberra_adkins', 'chebyshev', 'cityblock', 'correlation', 'cosine', 'dice', 'euclidean', 'hamming', 'jaccard', 'jensenshannon', 'kulsinski', 'matching', 'minkowski', 'rogerstanimoto', 'russellrao', 'seuclidean', 'sokalmichener', 'sokalsneath', 'sqeuclidean', 'yule')"
   ]
  },
  {
   "cell_type": "code",
   "execution_count": 14,
   "id": "f6f358dd",
   "metadata": {
    "ExecuteTime": {
     "end_time": "2022-09-29T20:54:36.335038Z",
     "start_time": "2022-09-29T20:54:36.091288Z"
    },
    "execution": {
     "iopub.execute_input": "2023-03-14T18:32:55.298194Z",
     "iopub.status.busy": "2023-03-14T18:32:55.297680Z",
     "iopub.status.idle": "2023-03-14T18:32:56.938471Z",
     "shell.execute_reply": "2023-03-14T18:32:56.938891Z"
    },
    "papermill": {
     "duration": 1.739401,
     "end_time": "2023-03-14T18:32:56.939033",
     "exception": false,
     "start_time": "2023-03-14T18:32:55.199632",
     "status": "completed"
    },
    "tags": []
   },
   "outputs": [
    {
     "name": "stdout",
     "output_type": "stream",
     "text": [
      "Calculating beta diversity: aitchison\n",
      "DONE: Calculating beta diversity: aitchison\n",
      "Calculating beta diversity: braycurtis\n",
      "ERROR: Calculating beta diversity: braycurtis\n",
      "Calculating beta diversity: canberra\n",
      "DONE: Calculating beta diversity: canberra\n",
      "Calculating beta diversity: canberra_adkins\n",
      "ERROR: Calculating beta diversity: canberra_adkins\n",
      "Calculating beta diversity: chebyshev\n"
     ]
    },
    {
     "name": "stderr",
     "output_type": "stream",
     "text": [
      "/home/lauro/anaconda3/envs/qiime2-2021.11/lib/python3.8/site-packages/q2_diversity_lib/beta.py:67: RuntimeWarning: divide by zero encountered in true_divide\n",
      "  return (1. / nnz) * np.sum(np.abs(x_ - y_) / (x_ + y_))\n",
      "/home/lauro/anaconda3/envs/qiime2-2021.11/lib/python3.8/site-packages/q2_diversity_lib/beta.py:67: RuntimeWarning: invalid value encountered in double_scalars\n",
      "  return (1. / nnz) * np.sum(np.abs(x_ - y_) / (x_ + y_))\n"
     ]
    },
    {
     "name": "stdout",
     "output_type": "stream",
     "text": [
      "DONE: Calculating beta diversity: chebyshev\n",
      "Calculating beta diversity: cityblock\n",
      "DONE: Calculating beta diversity: cityblock\n",
      "Calculating beta diversity: correlation\n",
      "ERROR: Calculating beta diversity: correlation\n",
      "Calculating beta diversity: cosine\n",
      "ERROR: Calculating beta diversity: cosine\n",
      "Calculating beta diversity: dice\n"
     ]
    },
    {
     "name": "stderr",
     "output_type": "stream",
     "text": [
      "/home/lauro/anaconda3/envs/qiime2-2021.11/lib/python3.8/site-packages/sklearn/metrics/pairwise.py:1776: DataConversionWarning: Data was converted to boolean for metric dice\n",
      "  warnings.warn(msg, DataConversionWarning)\n"
     ]
    },
    {
     "name": "stdout",
     "output_type": "stream",
     "text": [
      "ERROR: Calculating beta diversity: dice\n",
      "Calculating beta diversity: euclidean\n",
      "DONE: Calculating beta diversity: euclidean\n",
      "Calculating beta diversity: hamming\n",
      "DONE: Calculating beta diversity: hamming\n",
      "Calculating beta diversity: jaccard\n"
     ]
    },
    {
     "name": "stderr",
     "output_type": "stream",
     "text": [
      "/home/lauro/anaconda3/envs/qiime2-2021.11/lib/python3.8/site-packages/sklearn/metrics/pairwise.py:1776: DataConversionWarning: Data was converted to boolean for metric jaccard\n",
      "  warnings.warn(msg, DataConversionWarning)\n",
      "/home/lauro/anaconda3/envs/qiime2-2021.11/lib/python3.8/site-packages/scipy/spatial/distance.py:1291: RuntimeWarning: invalid value encountered in true_divide\n",
      "  q = q / np.sum(q, axis=axis, keepdims=True)\n",
      "/home/lauro/anaconda3/envs/qiime2-2021.11/lib/python3.8/site-packages/scipy/spatial/distance.py:1290: RuntimeWarning: invalid value encountered in true_divide\n",
      "  p = p / np.sum(p, axis=axis, keepdims=True)\n",
      "/home/lauro/anaconda3/envs/qiime2-2021.11/lib/python3.8/site-packages/sklearn/metrics/pairwise.py:1776: DataConversionWarning: Data was converted to boolean for metric kulsinski\n",
      "  warnings.warn(msg, DataConversionWarning)\n",
      "/home/lauro/anaconda3/envs/qiime2-2021.11/lib/python3.8/site-packages/sklearn/metrics/pairwise.py:1776: DataConversionWarning: Data was converted to boolean for metric matching\n",
      "  warnings.warn(msg, DataConversionWarning)\n"
     ]
    },
    {
     "name": "stdout",
     "output_type": "stream",
     "text": [
      "DONE: Calculating beta diversity: jaccard\n",
      "Calculating beta diversity: jensenshannon\n",
      "ERROR: Calculating beta diversity: jensenshannon\n",
      "Calculating beta diversity: kulsinski\n",
      "ERROR: Calculating beta diversity: kulsinski\n",
      "Calculating beta diversity: matching\n",
      "DONE: Calculating beta diversity: matching\n",
      "Calculating beta diversity: minkowski\n",
      "DONE: Calculating beta diversity: minkowski\n",
      "Calculating beta diversity: rogerstanimoto\n",
      "DONE: Calculating beta diversity: rogerstanimoto\n",
      "Calculating beta diversity: russellrao\n",
      "ERROR: Calculating beta diversity: russellrao\n",
      "Calculating beta diversity: seuclidean\n",
      "DONE: Calculating beta diversity: seuclidean\n",
      "Calculating beta diversity: sokalmichener\n"
     ]
    },
    {
     "name": "stderr",
     "output_type": "stream",
     "text": [
      "/home/lauro/anaconda3/envs/qiime2-2021.11/lib/python3.8/site-packages/sklearn/metrics/pairwise.py:1776: DataConversionWarning: Data was converted to boolean for metric rogerstanimoto\n",
      "  warnings.warn(msg, DataConversionWarning)\n",
      "/home/lauro/anaconda3/envs/qiime2-2021.11/lib/python3.8/site-packages/sklearn/metrics/pairwise.py:1776: DataConversionWarning: Data was converted to boolean for metric russellrao\n",
      "  warnings.warn(msg, DataConversionWarning)\n",
      "/home/lauro/anaconda3/envs/qiime2-2021.11/lib/python3.8/site-packages/sklearn/metrics/pairwise.py:1776: DataConversionWarning: Data was converted to boolean for metric sokalmichener\n",
      "  warnings.warn(msg, DataConversionWarning)\n"
     ]
    },
    {
     "name": "stdout",
     "output_type": "stream",
     "text": [
      "DONE: Calculating beta diversity: sokalmichener\n",
      "Calculating beta diversity: sokalsneath\n",
      "ERROR: Calculating beta diversity: sokalsneath\n",
      "Calculating beta diversity: sqeuclidean\n",
      "DONE: Calculating beta diversity: sqeuclidean\n",
      "Calculating beta diversity: yule\n",
      "DONE: Calculating beta diversity: yule\n"
     ]
    },
    {
     "name": "stderr",
     "output_type": "stream",
     "text": [
      "/home/lauro/anaconda3/envs/qiime2-2021.11/lib/python3.8/site-packages/sklearn/metrics/pairwise.py:1776: DataConversionWarning: Data was converted to boolean for metric sokalsneath\n",
      "  warnings.warn(msg, DataConversionWarning)\n",
      "/home/lauro/anaconda3/envs/qiime2-2021.11/lib/python3.8/site-packages/sklearn/metrics/pairwise.py:1776: DataConversionWarning: Data was converted to boolean for metric yule\n",
      "  warnings.warn(msg, DataConversionWarning)\n"
     ]
    }
   ],
   "source": [
    "metrics = ('aitchison', 'braycurtis', 'canberra', 'canberra_adkins', 'chebyshev', 'cityblock', 'correlation', 'cosine', 'dice', 'euclidean', 'hamming', 'jaccard', 'jensenshannon', 'kulsinski', 'matching', 'minkowski', 'rogerstanimoto', 'russellrao', 'seuclidean', 'sokalmichener', 'sokalsneath', 'sqeuclidean', 'yule')\n",
    "beta_diversities = dict()\n",
    "for metric in metrics:\n",
    "    print(f\"Calculating beta diversity: {metric}\")\n",
    "    try:\n",
    "        beta_diversity = beta(table=tabs, metric=metric, n_jobs=6, pseudocount=1).distance_matrix\n",
    "        beta_diversities[metric] = beta_diversity\n",
    "        # Save SampleData[BetaDiversity] Artifact\n",
    "        file_path = os.path.join(beta_path, f'beta-values-{metric}.qza')\n",
    "        beta_diversity.save(file_path)\n",
    "        print(f\"DONE: Calculating beta diversity: {metric}\")\n",
    "    except Exception as e:\n",
    "        print(f\"ERROR: Calculating beta diversity: {metric}\")"
   ]
  },
  {
   "cell_type": "markdown",
   "id": "200a2fa7",
   "metadata": {
    "papermill": {
     "duration": 0.123779,
     "end_time": "2023-03-14T18:32:57.159859",
     "exception": false,
     "start_time": "2023-03-14T18:32:57.036080",
     "status": "completed"
    },
    "tags": []
   },
   "source": [
    "### Beta group significance\n",
    "\n",
    "- [diversity beta_group_significance](https://docs.qiime2.org/2022.8/plugins/available/diversity/beta-group-significance/): Determine whether groups of samples are significantly different from one another using a permutation-based statistical test.\n",
    "- Marti J Anderson. A new method for non-parametric multivariate analysis of variance. Austral ecology, 26(1):32–46, 2001. doi:https://doi.org/10.1111/j.1442-9993.2001.01070.pp.x."
   ]
  },
  {
   "cell_type": "code",
   "execution_count": 15,
   "id": "b8dd42b6",
   "metadata": {
    "ExecuteTime": {
     "end_time": "2022-09-29T20:55:08.313860Z",
     "start_time": "2022-09-29T20:54:36.336993Z"
    },
    "execution": {
     "iopub.execute_input": "2023-03-14T18:32:57.464764Z",
     "iopub.status.busy": "2023-03-14T18:32:57.463984Z",
     "iopub.status.idle": "2023-03-14T18:39:26.097733Z",
     "shell.execute_reply": "2023-03-14T18:39:26.096692Z"
    },
    "papermill": {
     "duration": 388.791663,
     "end_time": "2023-03-14T18:39:26.097968",
     "exception": false,
     "start_time": "2023-03-14T18:32:57.306305",
     "status": "completed"
    },
    "tags": []
   },
   "outputs": [
    {
     "name": "stdout",
     "output_type": "stream",
     "text": [
      "Calculating beta group significance with method permanova and metric aitchison\n",
      "DONE: Calculating beta group significance: permanova aitchison\n",
      "Calculating beta group significance with method permanova and metric canberra\n",
      "DONE: Calculating beta group significance: permanova canberra\n",
      "Calculating beta group significance with method permanova and metric chebyshev\n",
      "DONE: Calculating beta group significance: permanova chebyshev\n",
      "Calculating beta group significance with method permanova and metric cityblock\n",
      "DONE: Calculating beta group significance: permanova cityblock\n",
      "Calculating beta group significance with method permanova and metric euclidean\n",
      "DONE: Calculating beta group significance: permanova euclidean\n",
      "Calculating beta group significance with method permanova and metric hamming\n",
      "DONE: Calculating beta group significance: permanova hamming\n",
      "Calculating beta group significance with method permanova and metric jaccard\n",
      "DONE: Calculating beta group significance: permanova jaccard\n",
      "Calculating beta group significance with method permanova and metric matching\n",
      "DONE: Calculating beta group significance: permanova matching\n",
      "Calculating beta group significance with method permanova and metric minkowski\n",
      "DONE: Calculating beta group significance: permanova minkowski\n",
      "Calculating beta group significance with method permanova and metric rogerstanimoto\n",
      "DONE: Calculating beta group significance: permanova rogerstanimoto\n",
      "Calculating beta group significance with method permanova and metric seuclidean\n",
      "DONE: Calculating beta group significance: permanova seuclidean\n",
      "Calculating beta group significance with method permanova and metric sokalmichener\n",
      "DONE: Calculating beta group significance: permanova sokalmichener\n",
      "Calculating beta group significance with method permanova and metric sqeuclidean\n",
      "DONE: Calculating beta group significance: permanova sqeuclidean\n",
      "Calculating beta group significance with method permanova and metric yule\n",
      "DONE: Calculating beta group significance: permanova yule\n",
      "Calculating beta group significance with method anosim and metric aitchison\n",
      "DONE: Calculating beta group significance: anosim aitchison\n",
      "Calculating beta group significance with method anosim and metric canberra\n",
      "DONE: Calculating beta group significance: anosim canberra\n",
      "Calculating beta group significance with method anosim and metric chebyshev\n",
      "DONE: Calculating beta group significance: anosim chebyshev\n",
      "Calculating beta group significance with method anosim and metric cityblock\n",
      "DONE: Calculating beta group significance: anosim cityblock\n",
      "Calculating beta group significance with method anosim and metric euclidean\n",
      "DONE: Calculating beta group significance: anosim euclidean\n",
      "Calculating beta group significance with method anosim and metric hamming\n",
      "DONE: Calculating beta group significance: anosim hamming\n",
      "Calculating beta group significance with method anosim and metric jaccard\n",
      "DONE: Calculating beta group significance: anosim jaccard\n",
      "Calculating beta group significance with method anosim and metric matching\n",
      "DONE: Calculating beta group significance: anosim matching\n",
      "Calculating beta group significance with method anosim and metric minkowski\n",
      "DONE: Calculating beta group significance: anosim minkowski\n",
      "Calculating beta group significance with method anosim and metric rogerstanimoto\n",
      "DONE: Calculating beta group significance: anosim rogerstanimoto\n",
      "Calculating beta group significance with method anosim and metric seuclidean\n",
      "DONE: Calculating beta group significance: anosim seuclidean\n",
      "Calculating beta group significance with method anosim and metric sokalmichener\n",
      "DONE: Calculating beta group significance: anosim sokalmichener\n",
      "Calculating beta group significance with method anosim and metric sqeuclidean\n",
      "DONE: Calculating beta group significance: anosim sqeuclidean\n",
      "Calculating beta group significance with method anosim and metric yule\n",
      "DONE: Calculating beta group significance: anosim yule\n",
      "Calculating beta group significance with method permdisp and metric aitchison\n",
      "DONE: Calculating beta group significance: permdisp aitchison\n",
      "Calculating beta group significance with method permdisp and metric canberra\n"
     ]
    },
    {
     "name": "stderr",
     "output_type": "stream",
     "text": [
      "/home/lauro/anaconda3/envs/qiime2-2021.11/lib/python3.8/site-packages/skbio/stats/ordination/_principal_coordinate_analysis.py:143: RuntimeWarning: The result contains negative eigenvalues. Please compare their magnitude with the magnitude of some of the largest positive eigenvalues. If the negative ones are smaller, it's probably safe to ignore them, but if they are large in magnitude, the results won't be useful. See the Notes section for more details. The smallest eigenvalue is -17003.01500386638 and the largest is 27659.412214200038.\n",
      "  warn(\n",
      "/home/lauro/anaconda3/envs/qiime2-2021.11/lib/python3.8/site-packages/skbio/stats/ordination/_principal_coordinate_analysis.py:143: RuntimeWarning: The result contains negative eigenvalues. Please compare their magnitude with the magnitude of some of the largest positive eigenvalues. If the negative ones are smaller, it's probably safe to ignore them, but if they are large in magnitude, the results won't be useful. See the Notes section for more details. The smallest eigenvalue is -7106.897593102109 and the largest is 19872.955919870907.\n",
      "  warn(\n",
      "/home/lauro/anaconda3/envs/qiime2-2021.11/lib/python3.8/site-packages/skbio/stats/ordination/_principal_coordinate_analysis.py:143: RuntimeWarning: The result contains negative eigenvalues. Please compare their magnitude with the magnitude of some of the largest positive eigenvalues. If the negative ones are smaller, it's probably safe to ignore them, but if they are large in magnitude, the results won't be useful. See the Notes section for more details. The smallest eigenvalue is -5954.593967807861 and the largest is 21341.453195749633.\n",
      "  warn(\n",
      "/home/lauro/anaconda3/envs/qiime2-2021.11/lib/python3.8/site-packages/skbio/stats/ordination/_principal_coordinate_analysis.py:143: RuntimeWarning: The result contains negative eigenvalues. Please compare their magnitude with the magnitude of some of the largest positive eigenvalues. If the negative ones are smaller, it's probably safe to ignore them, but if they are large in magnitude, the results won't be useful. See the Notes section for more details. The smallest eigenvalue is -2656.7539827248133 and the largest is 16737.34541837398.\n",
      "  warn(\n",
      "/home/lauro/anaconda3/envs/qiime2-2021.11/lib/python3.8/site-packages/skbio/stats/ordination/_principal_coordinate_analysis.py:143: RuntimeWarning: The result contains negative eigenvalues. Please compare their magnitude with the magnitude of some of the largest positive eigenvalues. If the negative ones are smaller, it's probably safe to ignore them, but if they are large in magnitude, the results won't be useful. See the Notes section for more details. The smallest eigenvalue is -9566.752439110198 and the largest is 23859.477814197806.\n",
      "  warn(\n",
      "/home/lauro/anaconda3/envs/qiime2-2021.11/lib/python3.8/site-packages/skbio/stats/ordination/_principal_coordinate_analysis.py:143: RuntimeWarning: The result contains negative eigenvalues. Please compare their magnitude with the magnitude of some of the largest positive eigenvalues. If the negative ones are smaller, it's probably safe to ignore them, but if they are large in magnitude, the results won't be useful. See the Notes section for more details. The smallest eigenvalue is -5466.169353537141 and the largest is 18765.470363458237.\n",
      "  warn(\n",
      "/home/lauro/anaconda3/envs/qiime2-2021.11/lib/python3.8/site-packages/skbio/stats/ordination/_principal_coordinate_analysis.py:143: RuntimeWarning: The result contains negative eigenvalues. Please compare their magnitude with the magnitude of some of the largest positive eigenvalues. If the negative ones are smaller, it's probably safe to ignore them, but if they are large in magnitude, the results won't be useful. See the Notes section for more details. The smallest eigenvalue is -5178.625132281425 and the largest is 20366.256243903998.\n",
      "  warn(\n"
     ]
    },
    {
     "name": "stdout",
     "output_type": "stream",
     "text": [
      "DONE: Calculating beta group significance: permdisp canberra\n",
      "Calculating beta group significance with method permdisp and metric chebyshev\n"
     ]
    },
    {
     "name": "stderr",
     "output_type": "stream",
     "text": [
      "/home/lauro/anaconda3/envs/qiime2-2021.11/lib/python3.8/site-packages/skbio/stats/ordination/_principal_coordinate_analysis.py:143: RuntimeWarning: The result contains negative eigenvalues. Please compare their magnitude with the magnitude of some of the largest positive eigenvalues. If the negative ones are smaller, it's probably safe to ignore them, but if they are large in magnitude, the results won't be useful. See the Notes section for more details. The smallest eigenvalue is -57123817.81418646 and the largest is 1082773330.6122975.\n",
      "  warn(\n",
      "/home/lauro/anaconda3/envs/qiime2-2021.11/lib/python3.8/site-packages/skbio/stats/ordination/_principal_coordinate_analysis.py:143: RuntimeWarning: The result contains negative eigenvalues. Please compare their magnitude with the magnitude of some of the largest positive eigenvalues. If the negative ones are smaller, it's probably safe to ignore them, but if they are large in magnitude, the results won't be useful. See the Notes section for more details. The smallest eigenvalue is -27783886.39367062 and the largest is 767108166.6755577.\n",
      "  warn(\n",
      "/home/lauro/anaconda3/envs/qiime2-2021.11/lib/python3.8/site-packages/skbio/stats/ordination/_principal_coordinate_analysis.py:143: RuntimeWarning: The result contains negative eigenvalues. Please compare their magnitude with the magnitude of some of the largest positive eigenvalues. If the negative ones are smaller, it's probably safe to ignore them, but if they are large in magnitude, the results won't be useful. See the Notes section for more details. The smallest eigenvalue is -11174240.21297998 and the largest is 787762390.9335582.\n",
      "  warn(\n"
     ]
    },
    {
     "name": "stdout",
     "output_type": "stream",
     "text": [
      "DONE: Calculating beta group significance: permdisp chebyshev\n",
      "Calculating beta group significance with method permdisp and metric cityblock\n"
     ]
    },
    {
     "name": "stderr",
     "output_type": "stream",
     "text": [
      "/home/lauro/anaconda3/envs/qiime2-2021.11/lib/python3.8/site-packages/skbio/stats/ordination/_principal_coordinate_analysis.py:143: RuntimeWarning: The result contains negative eigenvalues. Please compare their magnitude with the magnitude of some of the largest positive eigenvalues. If the negative ones are smaller, it's probably safe to ignore them, but if they are large in magnitude, the results won't be useful. See the Notes section for more details. The smallest eigenvalue is -6629902975.357605 and the largest is 19732226655.198975.\n",
      "  warn(\n",
      "/home/lauro/anaconda3/envs/qiime2-2021.11/lib/python3.8/site-packages/skbio/stats/ordination/_principal_coordinate_analysis.py:143: RuntimeWarning: The result contains negative eigenvalues. Please compare their magnitude with the magnitude of some of the largest positive eigenvalues. If the negative ones are smaller, it's probably safe to ignore them, but if they are large in magnitude, the results won't be useful. See the Notes section for more details. The smallest eigenvalue is -2104996947.2610345 and the largest is 10189675003.58872.\n",
      "  warn(\n",
      "/home/lauro/anaconda3/envs/qiime2-2021.11/lib/python3.8/site-packages/skbio/stats/ordination/_principal_coordinate_analysis.py:143: RuntimeWarning: The result contains negative eigenvalues. Please compare their magnitude with the magnitude of some of the largest positive eigenvalues. If the negative ones are smaller, it's probably safe to ignore them, but if they are large in magnitude, the results won't be useful. See the Notes section for more details. The smallest eigenvalue is -3291623292.5229473 and the largest is 13674310277.16309.\n",
      "  warn(\n",
      "/home/lauro/anaconda3/envs/qiime2-2021.11/lib/python3.8/site-packages/skbio/stats/ordination/_principal_coordinate_analysis.py:143: RuntimeWarning: The result contains negative eigenvalues. Please compare their magnitude with the magnitude of some of the largest positive eigenvalues. If the negative ones are smaller, it's probably safe to ignore them, but if they are large in magnitude, the results won't be useful. See the Notes section for more details. The smallest eigenvalue is -1099903788.5931191 and the largest is 13910199605.234612.\n",
      "  warn(\n",
      "/home/lauro/anaconda3/envs/qiime2-2021.11/lib/python3.8/site-packages/skbio/stats/ordination/_principal_coordinate_analysis.py:143: RuntimeWarning: The result contains negative eigenvalues. Please compare their magnitude with the magnitude of some of the largest positive eigenvalues. If the negative ones are smaller, it's probably safe to ignore them, but if they are large in magnitude, the results won't be useful. See the Notes section for more details. The smallest eigenvalue is -3928893669.2579374 and the largest is 8547036995.124496.\n",
      "  warn(\n",
      "/home/lauro/anaconda3/envs/qiime2-2021.11/lib/python3.8/site-packages/skbio/stats/ordination/_principal_coordinate_analysis.py:143: RuntimeWarning: The result contains negative eigenvalues. Please compare their magnitude with the magnitude of some of the largest positive eigenvalues. If the negative ones are smaller, it's probably safe to ignore them, but if they are large in magnitude, the results won't be useful. See the Notes section for more details. The smallest eigenvalue is -1548363956.70745 and the largest is 8337959926.508949.\n",
      "  warn(\n",
      "/home/lauro/anaconda3/envs/qiime2-2021.11/lib/python3.8/site-packages/skbio/stats/ordination/_principal_coordinate_analysis.py:143: RuntimeWarning: The result contains negative eigenvalues. Please compare their magnitude with the magnitude of some of the largest positive eigenvalues. If the negative ones are smaller, it's probably safe to ignore them, but if they are large in magnitude, the results won't be useful. See the Notes section for more details. The smallest eigenvalue is -2895992439.1845703 and the largest is 12168238498.489803.\n",
      "  warn(\n"
     ]
    },
    {
     "name": "stdout",
     "output_type": "stream",
     "text": [
      "DONE: Calculating beta group significance: permdisp cityblock\n",
      "Calculating beta group significance with method permdisp and metric euclidean\n"
     ]
    },
    {
     "name": "stderr",
     "output_type": "stream",
     "text": [
      "/home/lauro/anaconda3/envs/qiime2-2021.11/lib/python3.8/site-packages/skbio/stats/ordination/_principal_coordinate_analysis.py:143: RuntimeWarning: The result contains negative eigenvalues. Please compare their magnitude with the magnitude of some of the largest positive eigenvalues. If the negative ones are smaller, it's probably safe to ignore them, but if they are large in magnitude, the results won't be useful. See the Notes section for more details. The smallest eigenvalue is -1.249636838176004e-07 and the largest is 806949931.6005049.\n",
      "  warn(\n",
      "/home/lauro/anaconda3/envs/qiime2-2021.11/lib/python3.8/site-packages/skbio/stats/ordination/_principal_coordinate_analysis.py:143: RuntimeWarning: The result contains negative eigenvalues. Please compare their magnitude with the magnitude of some of the largest positive eigenvalues. If the negative ones are smaller, it's probably safe to ignore them, but if they are large in magnitude, the results won't be useful. See the Notes section for more details. The smallest eigenvalue is -6.384968335508515e-08 and the largest is 720125213.7917669.\n",
      "  warn(\n",
      "/home/lauro/anaconda3/envs/qiime2-2021.11/lib/python3.8/site-packages/skbio/stats/ordination/_principal_coordinate_analysis.py:143: RuntimeWarning: The result contains negative eigenvalues. Please compare their magnitude with the magnitude of some of the largest positive eigenvalues. If the negative ones are smaller, it's probably safe to ignore them, but if they are large in magnitude, the results won't be useful. See the Notes section for more details. The smallest eigenvalue is -7.290950204005166e-08 and the largest is 901072432.905894.\n",
      "  warn(\n"
     ]
    },
    {
     "name": "stdout",
     "output_type": "stream",
     "text": [
      "DONE: Calculating beta group significance: permdisp euclidean\n",
      "Calculating beta group significance with method permdisp and metric hamming\n"
     ]
    },
    {
     "name": "stderr",
     "output_type": "stream",
     "text": [
      "/home/lauro/anaconda3/envs/qiime2-2021.11/lib/python3.8/site-packages/skbio/stats/ordination/_principal_coordinate_analysis.py:143: RuntimeWarning: The result contains negative eigenvalues. Please compare their magnitude with the magnitude of some of the largest positive eigenvalues. If the negative ones are smaller, it's probably safe to ignore them, but if they are large in magnitude, the results won't be useful. See the Notes section for more details. The smallest eigenvalue is -0.007160433926688437 and the largest is 0.008984125794712814.\n",
      "  warn(\n",
      "/home/lauro/anaconda3/envs/qiime2-2021.11/lib/python3.8/site-packages/skbio/stats/ordination/_principal_coordinate_analysis.py:143: RuntimeWarning: The result contains negative eigenvalues. Please compare their magnitude with the magnitude of some of the largest positive eigenvalues. If the negative ones are smaller, it's probably safe to ignore them, but if they are large in magnitude, the results won't be useful. See the Notes section for more details. The smallest eigenvalue is -0.0030776576445244747 and the largest is 0.007663811831543344.\n",
      "  warn(\n",
      "/home/lauro/anaconda3/envs/qiime2-2021.11/lib/python3.8/site-packages/skbio/stats/ordination/_principal_coordinate_analysis.py:143: RuntimeWarning: The result contains negative eigenvalues. Please compare their magnitude with the magnitude of some of the largest positive eigenvalues. If the negative ones are smaller, it's probably safe to ignore them, but if they are large in magnitude, the results won't be useful. See the Notes section for more details. The smallest eigenvalue is -0.0023767376535104214 and the largest is 0.007873116511739995.\n",
      "  warn(\n",
      "/home/lauro/anaconda3/envs/qiime2-2021.11/lib/python3.8/site-packages/skbio/stats/ordination/_principal_coordinate_analysis.py:143: RuntimeWarning: The result contains negative eigenvalues. Please compare their magnitude with the magnitude of some of the largest positive eigenvalues. If the negative ones are smaller, it's probably safe to ignore them, but if they are large in magnitude, the results won't be useful. See the Notes section for more details. The smallest eigenvalue is -0.0010617927626660846 and the largest is 0.005898471003450853.\n",
      "  warn(\n",
      "/home/lauro/anaconda3/envs/qiime2-2021.11/lib/python3.8/site-packages/skbio/stats/ordination/_principal_coordinate_analysis.py:143: RuntimeWarning: The result contains negative eigenvalues. Please compare their magnitude with the magnitude of some of the largest positive eigenvalues. If the negative ones are smaller, it's probably safe to ignore them, but if they are large in magnitude, the results won't be useful. See the Notes section for more details. The smallest eigenvalue is -0.004184814691347774 and the largest is 0.00872318221194025.\n",
      "  warn(\n",
      "/home/lauro/anaconda3/envs/qiime2-2021.11/lib/python3.8/site-packages/skbio/stats/ordination/_principal_coordinate_analysis.py:143: RuntimeWarning: The result contains negative eigenvalues. Please compare their magnitude with the magnitude of some of the largest positive eigenvalues. If the negative ones are smaller, it's probably safe to ignore them, but if they are large in magnitude, the results won't be useful. See the Notes section for more details. The smallest eigenvalue is -0.002391390978368605 and the largest is 0.007581629001391072.\n",
      "  warn(\n",
      "/home/lauro/anaconda3/envs/qiime2-2021.11/lib/python3.8/site-packages/skbio/stats/ordination/_principal_coordinate_analysis.py:143: RuntimeWarning: The result contains negative eigenvalues. Please compare their magnitude with the magnitude of some of the largest positive eigenvalues. If the negative ones are smaller, it's probably safe to ignore them, but if they are large in magnitude, the results won't be useful. See the Notes section for more details. The smallest eigenvalue is -0.002049600503613842 and the largest is 0.007574158999880098.\n",
      "  warn(\n"
     ]
    },
    {
     "name": "stdout",
     "output_type": "stream",
     "text": [
      "DONE: Calculating beta group significance: permdisp hamming\n",
      "Calculating beta group significance with method permdisp and metric jaccard\n",
      "DONE: Calculating beta group significance: permdisp jaccard\n",
      "Calculating beta group significance with method permdisp and metric matching\n"
     ]
    },
    {
     "name": "stderr",
     "output_type": "stream",
     "text": [
      "/home/lauro/anaconda3/envs/qiime2-2021.11/lib/python3.8/site-packages/skbio/stats/ordination/_principal_coordinate_analysis.py:143: RuntimeWarning: The result contains negative eigenvalues. Please compare their magnitude with the magnitude of some of the largest positive eigenvalues. If the negative ones are smaller, it's probably safe to ignore them, but if they are large in magnitude, the results won't be useful. See the Notes section for more details. The smallest eigenvalue is -0.005849018089236994 and the largest is 0.011278782447762802.\n",
      "  warn(\n",
      "/home/lauro/anaconda3/envs/qiime2-2021.11/lib/python3.8/site-packages/skbio/stats/ordination/_principal_coordinate_analysis.py:143: RuntimeWarning: The result contains negative eigenvalues. Please compare their magnitude with the magnitude of some of the largest positive eigenvalues. If the negative ones are smaller, it's probably safe to ignore them, but if they are large in magnitude, the results won't be useful. See the Notes section for more details. The smallest eigenvalue is -0.0024171608074462763 and the largest is 0.007440548097552205.\n",
      "  warn(\n",
      "/home/lauro/anaconda3/envs/qiime2-2021.11/lib/python3.8/site-packages/skbio/stats/ordination/_principal_coordinate_analysis.py:143: RuntimeWarning: The result contains negative eigenvalues. Please compare their magnitude with the magnitude of some of the largest positive eigenvalues. If the negative ones are smaller, it's probably safe to ignore them, but if they are large in magnitude, the results won't be useful. See the Notes section for more details. The smallest eigenvalue is -0.0020718573492058763 and the largest is 0.007935861511877376.\n",
      "  warn(\n",
      "/home/lauro/anaconda3/envs/qiime2-2021.11/lib/python3.8/site-packages/skbio/stats/ordination/_principal_coordinate_analysis.py:143: RuntimeWarning: The result contains negative eigenvalues. Please compare their magnitude with the magnitude of some of the largest positive eigenvalues. If the negative ones are smaller, it's probably safe to ignore them, but if they are large in magnitude, the results won't be useful. See the Notes section for more details. The smallest eigenvalue is -0.0009236950171756764 and the largest is 0.006367990480918691.\n",
      "  warn(\n",
      "/home/lauro/anaconda3/envs/qiime2-2021.11/lib/python3.8/site-packages/skbio/stats/ordination/_principal_coordinate_analysis.py:143: RuntimeWarning: The result contains negative eigenvalues. Please compare their magnitude with the magnitude of some of the largest positive eigenvalues. If the negative ones are smaller, it's probably safe to ignore them, but if they are large in magnitude, the results won't be useful. See the Notes section for more details. The smallest eigenvalue is -0.0032172741342587196 and the largest is 0.00883855172093206.\n",
      "  warn(\n",
      "/home/lauro/anaconda3/envs/qiime2-2021.11/lib/python3.8/site-packages/skbio/stats/ordination/_principal_coordinate_analysis.py:143: RuntimeWarning: The result contains negative eigenvalues. Please compare their magnitude with the magnitude of some of the largest positive eigenvalues. If the negative ones are smaller, it's probably safe to ignore them, but if they are large in magnitude, the results won't be useful. See the Notes section for more details. The smallest eigenvalue is -0.0018559668221843238 and the largest is 0.006703712005992268.\n",
      "  warn(\n",
      "/home/lauro/anaconda3/envs/qiime2-2021.11/lib/python3.8/site-packages/skbio/stats/ordination/_principal_coordinate_analysis.py:143: RuntimeWarning: The result contains negative eigenvalues. Please compare their magnitude with the magnitude of some of the largest positive eigenvalues. If the negative ones are smaller, it's probably safe to ignore them, but if they are large in magnitude, the results won't be useful. See the Notes section for more details. The smallest eigenvalue is -0.0017961727488999097 and the largest is 0.007464860117353452.\n",
      "  warn(\n"
     ]
    },
    {
     "name": "stdout",
     "output_type": "stream",
     "text": [
      "DONE: Calculating beta group significance: permdisp matching\n",
      "Calculating beta group significance with method permdisp and metric minkowski\n"
     ]
    },
    {
     "name": "stderr",
     "output_type": "stream",
     "text": [
      "/home/lauro/anaconda3/envs/qiime2-2021.11/lib/python3.8/site-packages/skbio/stats/ordination/_principal_coordinate_analysis.py:143: RuntimeWarning: The result contains negative eigenvalues. Please compare their magnitude with the magnitude of some of the largest positive eigenvalues. If the negative ones are smaller, it's probably safe to ignore them, but if they are large in magnitude, the results won't be useful. See the Notes section for more details. The smallest eigenvalue is -1.249636838176004e-07 and the largest is 806949931.6005049.\n",
      "  warn(\n",
      "/home/lauro/anaconda3/envs/qiime2-2021.11/lib/python3.8/site-packages/skbio/stats/ordination/_principal_coordinate_analysis.py:143: RuntimeWarning: The result contains negative eigenvalues. Please compare their magnitude with the magnitude of some of the largest positive eigenvalues. If the negative ones are smaller, it's probably safe to ignore them, but if they are large in magnitude, the results won't be useful. See the Notes section for more details. The smallest eigenvalue is -6.384968335508515e-08 and the largest is 720125213.7917669.\n",
      "  warn(\n",
      "/home/lauro/anaconda3/envs/qiime2-2021.11/lib/python3.8/site-packages/skbio/stats/ordination/_principal_coordinate_analysis.py:143: RuntimeWarning: The result contains negative eigenvalues. Please compare their magnitude with the magnitude of some of the largest positive eigenvalues. If the negative ones are smaller, it's probably safe to ignore them, but if they are large in magnitude, the results won't be useful. See the Notes section for more details. The smallest eigenvalue is -7.290950204005166e-08 and the largest is 901072432.905894.\n",
      "  warn(\n"
     ]
    },
    {
     "name": "stdout",
     "output_type": "stream",
     "text": [
      "DONE: Calculating beta group significance: permdisp minkowski\n",
      "Calculating beta group significance with method permdisp and metric rogerstanimoto\n"
     ]
    },
    {
     "name": "stderr",
     "output_type": "stream",
     "text": [
      "/home/lauro/anaconda3/envs/qiime2-2021.11/lib/python3.8/site-packages/skbio/stats/ordination/_principal_coordinate_analysis.py:143: RuntimeWarning: The result contains negative eigenvalues. Please compare their magnitude with the magnitude of some of the largest positive eigenvalues. If the negative ones are smaller, it's probably safe to ignore them, but if they are large in magnitude, the results won't be useful. See the Notes section for more details. The smallest eigenvalue is -0.015077291012199283 and the largest is 0.036551495068457236.\n",
      "  warn(\n",
      "/home/lauro/anaconda3/envs/qiime2-2021.11/lib/python3.8/site-packages/skbio/stats/ordination/_principal_coordinate_analysis.py:143: RuntimeWarning: The result contains negative eigenvalues. Please compare their magnitude with the magnitude of some of the largest positive eigenvalues. If the negative ones are smaller, it's probably safe to ignore them, but if they are large in magnitude, the results won't be useful. See the Notes section for more details. The smallest eigenvalue is -0.006165547027533679 and the largest is 0.024495492020096904.\n",
      "  warn(\n",
      "/home/lauro/anaconda3/envs/qiime2-2021.11/lib/python3.8/site-packages/skbio/stats/ordination/_principal_coordinate_analysis.py:143: RuntimeWarning: The result contains negative eigenvalues. Please compare their magnitude with the magnitude of some of the largest positive eigenvalues. If the negative ones are smaller, it's probably safe to ignore them, but if they are large in magnitude, the results won't be useful. See the Notes section for more details. The smallest eigenvalue is -0.005033205103190704 and the largest is 0.025973457351247238.\n",
      "  warn(\n",
      "/home/lauro/anaconda3/envs/qiime2-2021.11/lib/python3.8/site-packages/skbio/stats/ordination/_principal_coordinate_analysis.py:143: RuntimeWarning: The result contains negative eigenvalues. Please compare their magnitude with the magnitude of some of the largest positive eigenvalues. If the negative ones are smaller, it's probably safe to ignore them, but if they are large in magnitude, the results won't be useful. See the Notes section for more details. The smallest eigenvalue is -0.0021122562960274828 and the largest is 0.02103955737506598.\n",
      "  warn(\n",
      "/home/lauro/anaconda3/envs/qiime2-2021.11/lib/python3.8/site-packages/skbio/stats/ordination/_principal_coordinate_analysis.py:143: RuntimeWarning: The result contains negative eigenvalues. Please compare their magnitude with the magnitude of some of the largest positive eigenvalues. If the negative ones are smaller, it's probably safe to ignore them, but if they are large in magnitude, the results won't be useful. See the Notes section for more details. The smallest eigenvalue is -0.008025025865322536 and the largest is 0.027867389685175152.\n",
      "  warn(\n",
      "/home/lauro/anaconda3/envs/qiime2-2021.11/lib/python3.8/site-packages/skbio/stats/ordination/_principal_coordinate_analysis.py:143: RuntimeWarning: The result contains negative eigenvalues. Please compare their magnitude with the magnitude of some of the largest positive eigenvalues. If the negative ones are smaller, it's probably safe to ignore them, but if they are large in magnitude, the results won't be useful. See the Notes section for more details. The smallest eigenvalue is -0.004808128831890313 and the largest is 0.022112028399756532.\n",
      "  warn(\n",
      "/home/lauro/anaconda3/envs/qiime2-2021.11/lib/python3.8/site-packages/skbio/stats/ordination/_principal_coordinate_analysis.py:143: RuntimeWarning: The result contains negative eigenvalues. Please compare their magnitude with the magnitude of some of the largest positive eigenvalues. If the negative ones are smaller, it's probably safe to ignore them, but if they are large in magnitude, the results won't be useful. See the Notes section for more details. The smallest eigenvalue is -0.004517490274572749 and the largest is 0.024084637977520203.\n",
      "  warn(\n"
     ]
    },
    {
     "name": "stdout",
     "output_type": "stream",
     "text": [
      "DONE: Calculating beta group significance: permdisp rogerstanimoto\n",
      "Calculating beta group significance with method permdisp and metric seuclidean\n",
      "DONE: Calculating beta group significance: permdisp seuclidean\n",
      "Calculating beta group significance with method permdisp and metric sokalmichener\n"
     ]
    },
    {
     "name": "stderr",
     "output_type": "stream",
     "text": [
      "/home/lauro/anaconda3/envs/qiime2-2021.11/lib/python3.8/site-packages/skbio/stats/ordination/_principal_coordinate_analysis.py:143: RuntimeWarning: The result contains negative eigenvalues. Please compare their magnitude with the magnitude of some of the largest positive eigenvalues. If the negative ones are smaller, it's probably safe to ignore them, but if they are large in magnitude, the results won't be useful. See the Notes section for more details. The smallest eigenvalue is -0.015077291012199283 and the largest is 0.036551495068457236.\n",
      "  warn(\n",
      "/home/lauro/anaconda3/envs/qiime2-2021.11/lib/python3.8/site-packages/skbio/stats/ordination/_principal_coordinate_analysis.py:143: RuntimeWarning: The result contains negative eigenvalues. Please compare their magnitude with the magnitude of some of the largest positive eigenvalues. If the negative ones are smaller, it's probably safe to ignore them, but if they are large in magnitude, the results won't be useful. See the Notes section for more details. The smallest eigenvalue is -0.006165547027533679 and the largest is 0.024495492020096904.\n",
      "  warn(\n",
      "/home/lauro/anaconda3/envs/qiime2-2021.11/lib/python3.8/site-packages/skbio/stats/ordination/_principal_coordinate_analysis.py:143: RuntimeWarning: The result contains negative eigenvalues. Please compare their magnitude with the magnitude of some of the largest positive eigenvalues. If the negative ones are smaller, it's probably safe to ignore them, but if they are large in magnitude, the results won't be useful. See the Notes section for more details. The smallest eigenvalue is -0.005033205103190704 and the largest is 0.025973457351247238.\n",
      "  warn(\n",
      "/home/lauro/anaconda3/envs/qiime2-2021.11/lib/python3.8/site-packages/skbio/stats/ordination/_principal_coordinate_analysis.py:143: RuntimeWarning: The result contains negative eigenvalues. Please compare their magnitude with the magnitude of some of the largest positive eigenvalues. If the negative ones are smaller, it's probably safe to ignore them, but if they are large in magnitude, the results won't be useful. See the Notes section for more details. The smallest eigenvalue is -0.0021122562960274828 and the largest is 0.02103955737506598.\n",
      "  warn(\n",
      "/home/lauro/anaconda3/envs/qiime2-2021.11/lib/python3.8/site-packages/skbio/stats/ordination/_principal_coordinate_analysis.py:143: RuntimeWarning: The result contains negative eigenvalues. Please compare their magnitude with the magnitude of some of the largest positive eigenvalues. If the negative ones are smaller, it's probably safe to ignore them, but if they are large in magnitude, the results won't be useful. See the Notes section for more details. The smallest eigenvalue is -0.008025025865322536 and the largest is 0.027867389685175152.\n",
      "  warn(\n",
      "/home/lauro/anaconda3/envs/qiime2-2021.11/lib/python3.8/site-packages/skbio/stats/ordination/_principal_coordinate_analysis.py:143: RuntimeWarning: The result contains negative eigenvalues. Please compare their magnitude with the magnitude of some of the largest positive eigenvalues. If the negative ones are smaller, it's probably safe to ignore them, but if they are large in magnitude, the results won't be useful. See the Notes section for more details. The smallest eigenvalue is -0.004808128831890313 and the largest is 0.022112028399756532.\n",
      "  warn(\n",
      "/home/lauro/anaconda3/envs/qiime2-2021.11/lib/python3.8/site-packages/skbio/stats/ordination/_principal_coordinate_analysis.py:143: RuntimeWarning: The result contains negative eigenvalues. Please compare their magnitude with the magnitude of some of the largest positive eigenvalues. If the negative ones are smaller, it's probably safe to ignore them, but if they are large in magnitude, the results won't be useful. See the Notes section for more details. The smallest eigenvalue is -0.004517490274572749 and the largest is 0.024084637977520203.\n",
      "  warn(\n"
     ]
    },
    {
     "name": "stdout",
     "output_type": "stream",
     "text": [
      "DONE: Calculating beta group significance: permdisp sokalmichener\n",
      "Calculating beta group significance with method permdisp and metric sqeuclidean\n"
     ]
    },
    {
     "name": "stderr",
     "output_type": "stream",
     "text": [
      "/home/lauro/anaconda3/envs/qiime2-2021.11/lib/python3.8/site-packages/skbio/stats/ordination/_principal_coordinate_analysis.py:143: RuntimeWarning: The result contains negative eigenvalues. Please compare their magnitude with the magnitude of some of the largest positive eigenvalues. If the negative ones are smaller, it's probably safe to ignore them, but if they are large in magnitude, the results won't be useful. See the Notes section for more details. The smallest eigenvalue is -1.6621932617873482e+17 and the largest is 1.400981154851075e+18.\n",
      "  warn(\n",
      "/home/lauro/anaconda3/envs/qiime2-2021.11/lib/python3.8/site-packages/skbio/stats/ordination/_principal_coordinate_analysis.py:143: RuntimeWarning: The result contains negative eigenvalues. Please compare their magnitude with the magnitude of some of the largest positive eigenvalues. If the negative ones are smaller, it's probably safe to ignore them, but if they are large in magnitude, the results won't be useful. See the Notes section for more details. The smallest eigenvalue is -2103143670046498.5 and the largest is 2.6895746920260432e+17.\n",
      "  warn(\n",
      "/home/lauro/anaconda3/envs/qiime2-2021.11/lib/python3.8/site-packages/skbio/stats/ordination/_principal_coordinate_analysis.py:143: RuntimeWarning: The result contains negative eigenvalues. Please compare their magnitude with the magnitude of some of the largest positive eigenvalues. If the negative ones are smaller, it's probably safe to ignore them, but if they are large in magnitude, the results won't be useful. See the Notes section for more details. The smallest eigenvalue is -1.2494816813592198e+17 and the largest is 9.238778177771803e+17.\n",
      "  warn(\n",
      "/home/lauro/anaconda3/envs/qiime2-2021.11/lib/python3.8/site-packages/skbio/stats/ordination/_principal_coordinate_analysis.py:143: RuntimeWarning: The result contains negative eigenvalues. Please compare their magnitude with the magnitude of some of the largest positive eigenvalues. If the negative ones are smaller, it's probably safe to ignore them, but if they are large in magnitude, the results won't be useful. See the Notes section for more details. The smallest eigenvalue is -3.9713092469733224e+16 and the largest is 7.5231586856331e+17.\n",
      "  warn(\n",
      "/home/lauro/anaconda3/envs/qiime2-2021.11/lib/python3.8/site-packages/skbio/stats/ordination/_principal_coordinate_analysis.py:143: RuntimeWarning: The result contains negative eigenvalues. Please compare their magnitude with the magnitude of some of the largest positive eigenvalues. If the negative ones are smaller, it's probably safe to ignore them, but if they are large in magnitude, the results won't be useful. See the Notes section for more details. The smallest eigenvalue is -9.493103669628427e+16 and the largest is 7.462830165235465e+17.\n",
      "  warn(\n",
      "/home/lauro/anaconda3/envs/qiime2-2021.11/lib/python3.8/site-packages/skbio/stats/ordination/_principal_coordinate_analysis.py:143: RuntimeWarning: The result contains negative eigenvalues. Please compare their magnitude with the magnitude of some of the largest positive eigenvalues. If the negative ones are smaller, it's probably safe to ignore them, but if they are large in magnitude, the results won't be useful. See the Notes section for more details. The smallest eigenvalue is -1472697944017977.5 and the largest is 5.0779006260475136e+17.\n",
      "  warn(\n",
      "/home/lauro/anaconda3/envs/qiime2-2021.11/lib/python3.8/site-packages/skbio/stats/ordination/_principal_coordinate_analysis.py:143: RuntimeWarning: The result contains negative eigenvalues. Please compare their magnitude with the magnitude of some of the largest positive eigenvalues. If the negative ones are smaller, it's probably safe to ignore them, but if they are large in magnitude, the results won't be useful. See the Notes section for more details. The smallest eigenvalue is -1.3448927456763858e+17 and the largest is 1.1423818936875896e+18.\n",
      "  warn(\n"
     ]
    },
    {
     "name": "stdout",
     "output_type": "stream",
     "text": [
      "DONE: Calculating beta group significance: permdisp sqeuclidean\n",
      "Calculating beta group significance with method permdisp and metric yule\n"
     ]
    },
    {
     "name": "stderr",
     "output_type": "stream",
     "text": [
      "/home/lauro/anaconda3/envs/qiime2-2021.11/lib/python3.8/site-packages/skbio/stats/ordination/_principal_coordinate_analysis.py:143: RuntimeWarning: The result contains negative eigenvalues. Please compare their magnitude with the magnitude of some of the largest positive eigenvalues. If the negative ones are smaller, it's probably safe to ignore them, but if they are large in magnitude, the results won't be useful. See the Notes section for more details. The smallest eigenvalue is -5.357252904034342 and the largest is 18.45907949108593.\n",
      "  warn(\n",
      "/home/lauro/anaconda3/envs/qiime2-2021.11/lib/python3.8/site-packages/skbio/stats/ordination/_principal_coordinate_analysis.py:143: RuntimeWarning: The result contains negative eigenvalues. Please compare their magnitude with the magnitude of some of the largest positive eigenvalues. If the negative ones are smaller, it's probably safe to ignore them, but if they are large in magnitude, the results won't be useful. See the Notes section for more details. The smallest eigenvalue is -2.916308146093789 and the largest is 8.334025104984033.\n",
      "  warn(\n",
      "/home/lauro/anaconda3/envs/qiime2-2021.11/lib/python3.8/site-packages/skbio/stats/ordination/_principal_coordinate_analysis.py:143: RuntimeWarning: The result contains negative eigenvalues. Please compare their magnitude with the magnitude of some of the largest positive eigenvalues. If the negative ones are smaller, it's probably safe to ignore them, but if they are large in magnitude, the results won't be useful. See the Notes section for more details. The smallest eigenvalue is -3.314373367313172 and the largest is 12.562052639613421.\n",
      "  warn(\n",
      "/home/lauro/anaconda3/envs/qiime2-2021.11/lib/python3.8/site-packages/skbio/stats/ordination/_principal_coordinate_analysis.py:143: RuntimeWarning: The result contains negative eigenvalues. Please compare their magnitude with the magnitude of some of the largest positive eigenvalues. If the negative ones are smaller, it's probably safe to ignore them, but if they are large in magnitude, the results won't be useful. See the Notes section for more details. The smallest eigenvalue is -2.985964160981309 and the largest is 9.035081727492939.\n",
      "  warn(\n",
      "/home/lauro/anaconda3/envs/qiime2-2021.11/lib/python3.8/site-packages/skbio/stats/ordination/_principal_coordinate_analysis.py:143: RuntimeWarning: The result contains negative eigenvalues. Please compare their magnitude with the magnitude of some of the largest positive eigenvalues. If the negative ones are smaller, it's probably safe to ignore them, but if they are large in magnitude, the results won't be useful. See the Notes section for more details. The smallest eigenvalue is -3.4093857739472124 and the largest is 10.073522224456632.\n",
      "  warn(\n",
      "/home/lauro/anaconda3/envs/qiime2-2021.11/lib/python3.8/site-packages/skbio/stats/ordination/_principal_coordinate_analysis.py:143: RuntimeWarning: The result contains negative eigenvalues. Please compare their magnitude with the magnitude of some of the largest positive eigenvalues. If the negative ones are smaller, it's probably safe to ignore them, but if they are large in magnitude, the results won't be useful. See the Notes section for more details. The smallest eigenvalue is -3.501257075506803 and the largest is 7.061015051715936.\n",
      "  warn(\n",
      "/home/lauro/anaconda3/envs/qiime2-2021.11/lib/python3.8/site-packages/skbio/stats/ordination/_principal_coordinate_analysis.py:143: RuntimeWarning: The result contains negative eigenvalues. Please compare their magnitude with the magnitude of some of the largest positive eigenvalues. If the negative ones are smaller, it's probably safe to ignore them, but if they are large in magnitude, the results won't be useful. See the Notes section for more details. The smallest eigenvalue is -2.904560822120008 and the largest is 10.679198606371465.\n",
      "  warn(\n"
     ]
    },
    {
     "name": "stdout",
     "output_type": "stream",
     "text": [
      "DONE: Calculating beta group significance: permdisp yule\n"
     ]
    },
    {
     "data": {
      "text/plain": [
       "<Figure size 432x288 with 0 Axes>"
      ]
     },
     "metadata": {},
     "output_type": "display_data"
    }
   ],
   "source": [
    "methods = ('permanova', 'anosim', 'permdisp')\n",
    "for method in methods:\n",
    "    for metric, beta_diversity in beta_diversities.items():\n",
    "        print(f'Calculating beta group significance with method {method} and metric {metric}')\n",
    "        try:\n",
    "            beta_view = beta_group_significance(distance_matrix=beta_diversity, \n",
    "                                                metadata=metadata_qa.get_column(class_col), \n",
    "                                                pairwise=True, method=method).visualization\n",
    "            view_name = os.path.join(beta_path, f'beta-group-significance-{metric}-{method}.qzv')\n",
    "            beta_view.save(view_name)\n",
    "            print(f\"DONE: Calculating beta group significance: {method} {metric}\")\n",
    "        except Exception as e:\n",
    "            print(f\"ERROR: Calculating beta group significance: {method} {metric}\")"
   ]
  },
  {
   "cell_type": "markdown",
   "id": "c0de85cf",
   "metadata": {
    "papermill": {
     "duration": 0.151457,
     "end_time": "2023-03-14T18:39:26.428220",
     "exception": false,
     "start_time": "2023-03-14T18:39:26.276763",
     "status": "completed"
    },
    "tags": []
   },
   "source": [
    "### Beta group Rarefaction\n",
    "\n",
    "- [diversity beta_rarefaction](https://docs.qiime2.org/2022.8/plugins/available/diversity/beta-rarefaction/): Repeatedly rarefy a feature table to compare beta diversity results within a given rarefaction depth.  For a given beta diversity metric, this visualizer will provide: an Emperor jackknifed PCoA plot, samples clustered by UPGMA or neighbor joining with support calculation, and a heatmap showing the correlation between rarefaction trials of that beta diversity metric."
   ]
  }
 ],
 "metadata": {
  "celltoolbar": "Edit Metadata",
  "kernelspec": {
   "display_name": "Python 3 (ipykernel)",
   "language": "python",
   "name": "python3"
  },
  "language_info": {
   "codemirror_mode": {
    "name": "ipython",
    "version": 3
   },
   "file_extension": ".py",
   "mimetype": "text/x-python",
   "name": "python",
   "nbconvert_exporter": "python",
   "pygments_lexer": "ipython3",
   "version": "3.8.12"
  },
  "papermill": {
   "default_parameters": {},
   "duration": 1164.531413,
   "end_time": "2023-03-14T18:39:28.095799",
   "environment_variables": {},
   "exception": null,
   "input_path": "nb-templates/step-diversity-analysis.ipynb",
   "output_path": "/home/lauro/nupeb/rede-micro/redemicro-thayane/experiments/thayane-PM/nb-executed-steps/step-diversity-analysis-thayane-PM.ipynb",
   "parameters": {
    "base_dir": "/home/lauro/nupeb/rede-micro/redemicro-thayane",
    "class_col": "menopausa-age-qcut",
    "classifier_file": "/home/lauro/nupeb/16S_classifiers_qiime2/silva-138-99-nb-classifier.qza",
    "experiment_name": "thayane-PM",
    "manifest_file": "/home/lauro/nupeb/rede-micro/redemicro-thayane/data/manifest.csv",
    "metadata_file": "/home/lauro/nupeb/rede-micro/redemicro-thayane/data/metadata.tsv",
    "overlap": 12,
    "phred": 20,
    "replace_files": false,
    "threads": 6,
    "trunc_f": 0,
    "trunc_r": 0
   },
   "start_time": "2023-03-14T18:20:03.564386",
   "version": "2.3.4"
  }
 },
 "nbformat": 4,
 "nbformat_minor": 5
}
