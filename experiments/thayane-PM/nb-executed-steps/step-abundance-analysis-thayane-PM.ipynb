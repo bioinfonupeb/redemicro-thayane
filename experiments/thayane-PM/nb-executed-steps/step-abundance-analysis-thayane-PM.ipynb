{
 "cells": [
  {
   "cell_type": "markdown",
   "id": "0e7f2330",
   "metadata": {
    "ExecuteTime": {
     "end_time": "2022-09-22T19:36:33.828188Z",
     "start_time": "2022-09-22T19:36:33.817323Z"
    },
    "papermill": {
     "duration": 0.017357,
     "end_time": "2022-11-30T15:16:17.414410",
     "exception": false,
     "start_time": "2022-11-30T15:16:17.397053",
     "status": "completed"
    },
    "tags": []
   },
   "source": [
    "### STEP : Diversity Analysis\n",
    "\n",
    "\n",
    "\n",
    "#### Example\n",
    "\n",
    "- [“Moving Pictures” tutorial](https://docs.qiime2.org/2022.8/tutorials/moving-pictures-usage/?highlight=ancom)\n",
    "- [Biostats ANCOM](http://scikit-bio.org/docs/0.4.2/generated/generated/skbio.stats.composition.ancom.html)\n",
    "\n",
    "\n",
    "#### Methods\n",
    "- [composition](https://docs.qiime2.org/2022.8/plugins/available/composition/)\n",
    "- [composition add_pseudocount](https://docs.qiime2.org/2022.8/plugins/available/composition/add-pseudocount/): Increment all counts in table by pseudocount.\n",
    "- [composition ancom](https://docs.qiime2.org/2022.8/plugins/available/composition/ancom/): Apply ANCOM to identify features that differ in abundance."
   ]
  },
  {
   "cell_type": "markdown",
   "id": "843debbf",
   "metadata": {
    "papermill": {
     "duration": 0.017394,
     "end_time": "2022-11-30T15:16:17.448297",
     "exception": false,
     "start_time": "2022-11-30T15:16:17.430903",
     "status": "completed"
    },
    "tags": []
   },
   "source": [
    "## Setup and settings"
   ]
  },
  {
   "cell_type": "code",
   "execution_count": 1,
   "id": "965e28e5",
   "metadata": {
    "ExecuteTime": {
     "end_time": "2022-11-03T20:35:26.198671Z",
     "start_time": "2022-11-03T20:35:06.473173Z"
    },
    "execution": {
     "iopub.execute_input": "2022-11-30T15:16:17.477502Z",
     "iopub.status.busy": "2022-11-30T15:16:17.477041Z",
     "iopub.status.idle": "2022-11-30T15:16:24.244827Z",
     "shell.execute_reply": "2022-11-30T15:16:24.244063Z"
    },
    "papermill": {
     "duration": 6.790517,
     "end_time": "2022-11-30T15:16:24.248012",
     "exception": false,
     "start_time": "2022-11-30T15:16:17.457495",
     "status": "completed"
    },
    "tags": []
   },
   "outputs": [],
   "source": [
    "# Importing packages\n",
    "import os\n",
    "import pandas as pd\n",
    "from qiime2 import Artifact\n",
    "from qiime2 import Visualization\n",
    "from qiime2 import Metadata\n",
    "\n",
    "from qiime2.plugins.composition.visualizers import ancom\n",
    "from qiime2.plugins.composition.methods import add_pseudocount\n",
    "\n",
    "%matplotlib inline"
   ]
  },
  {
   "cell_type": "markdown",
   "id": "530ceb60",
   "metadata": {
    "papermill": {
     "duration": 0.007939,
     "end_time": "2022-11-30T15:16:24.272557",
     "exception": false,
     "start_time": "2022-11-30T15:16:24.264618",
     "status": "completed"
    },
    "tags": []
   },
   "source": [
    "### Receiving the parameters\n",
    "\n",
    "The following cell can receive parameters using the [papermill](https://papermill.readthedocs.io/en/latest/) tool."
   ]
  },
  {
   "cell_type": "code",
   "execution_count": 2,
   "id": "18d874ea",
   "metadata": {
    "ExecuteTime": {
     "end_time": "2022-09-29T20:54:14.793270Z",
     "start_time": "2022-09-29T20:54:14.789367Z"
    },
    "execution": {
     "iopub.execute_input": "2022-11-30T15:16:24.290521Z",
     "iopub.status.busy": "2022-11-30T15:16:24.290337Z",
     "iopub.status.idle": "2022-11-30T15:16:24.294249Z",
     "shell.execute_reply": "2022-11-30T15:16:24.293539Z"
    },
    "papermill": {
     "duration": 0.014863,
     "end_time": "2022-11-30T15:16:24.295673",
     "exception": false,
     "start_time": "2022-11-30T15:16:24.280810",
     "status": "completed"
    },
    "tags": [
     "parameters"
    ]
   },
   "outputs": [],
   "source": [
    "metadata_file = '/home/lauro/nupeb/rede-micro/redemicro-miliane-nutri/data/raw/metadata/miliane-metadata-CxAC.tsv'\n",
    "base_dir = os.path.join('/', 'home', 'lauro', 'nupeb', 'rede-micro', 'redemicro-miliane-nutri')\n",
    "experiment_name = 'miliane-CxAC-trim'\n",
    "class_col = 'group-id'\n",
    "replace_files = False"
   ]
  },
  {
   "cell_type": "code",
   "execution_count": 3,
   "id": "d6b3df8b",
   "metadata": {
    "execution": {
     "iopub.execute_input": "2022-11-30T15:16:24.324777Z",
     "iopub.status.busy": "2022-11-30T15:16:24.324552Z",
     "iopub.status.idle": "2022-11-30T15:16:24.328956Z",
     "shell.execute_reply": "2022-11-30T15:16:24.328388Z"
    },
    "papermill": {
     "duration": 0.016537,
     "end_time": "2022-11-30T15:16:24.332298",
     "exception": false,
     "start_time": "2022-11-30T15:16:24.315761",
     "status": "completed"
    },
    "tags": [
     "injected-parameters"
    ]
   },
   "outputs": [],
   "source": [
    "# Parameters\n",
    "experiment_name = \"thayane-PM\"\n",
    "base_dir = \"/home/lauro/nupeb/rede-micro/redemicro-thayane\"\n",
    "manifest_file = \"/home/lauro/nupeb/rede-micro/redemicro-thayane/data/manifest.csv\"\n",
    "metadata_file = \"/home/lauro/nupeb/rede-micro/redemicro-thayane/data/metadata.tsv\"\n",
    "class_col = \"class-straw\"\n",
    "classifier_file = (\n",
    "    \"/home/lauro/nupeb/16S_classifiers_qiime2/silva-138-99-nb-classifier.qza\"\n",
    ")\n",
    "replace_files = False\n",
    "phred = 20\n",
    "trunc_f = 0\n",
    "trunc_r = 0\n",
    "overlap = 12\n",
    "threads = 6\n"
   ]
  },
  {
   "cell_type": "code",
   "execution_count": 4,
   "id": "f38617d9",
   "metadata": {
    "ExecuteTime": {
     "end_time": "2022-09-29T20:54:14.804575Z",
     "start_time": "2022-09-29T20:54:14.794927Z"
    },
    "execution": {
     "iopub.execute_input": "2022-11-30T15:16:24.370525Z",
     "iopub.status.busy": "2022-11-30T15:16:24.370323Z",
     "iopub.status.idle": "2022-11-30T15:16:24.373911Z",
     "shell.execute_reply": "2022-11-30T15:16:24.373215Z"
    },
    "papermill": {
     "duration": 0.024483,
     "end_time": "2022-11-30T15:16:24.376063",
     "exception": false,
     "start_time": "2022-11-30T15:16:24.351580",
     "status": "completed"
    },
    "tags": []
   },
   "outputs": [],
   "source": [
    "experiment_folder = os.path.abspath(os.path.join(base_dir, 'experiments', experiment_name))\n",
    "img_folder = os.path.abspath(os.path.join(experiment_folder, 'imgs'))"
   ]
  },
  {
   "cell_type": "markdown",
   "id": "ea9b90fb",
   "metadata": {
    "papermill": {
     "duration": 0.014043,
     "end_time": "2022-11-30T15:16:24.404426",
     "exception": false,
     "start_time": "2022-11-30T15:16:24.390383",
     "status": "completed"
    },
    "tags": []
   },
   "source": [
    "### Defining names, paths and flags"
   ]
  },
  {
   "cell_type": "code",
   "execution_count": 5,
   "id": "45727eef",
   "metadata": {
    "ExecuteTime": {
     "end_time": "2022-09-29T20:54:14.816686Z",
     "start_time": "2022-09-29T20:54:14.806238Z"
    },
    "execution": {
     "iopub.execute_input": "2022-11-30T15:16:24.437849Z",
     "iopub.status.busy": "2022-11-30T15:16:24.437583Z",
     "iopub.status.idle": "2022-11-30T15:16:24.442155Z",
     "shell.execute_reply": "2022-11-30T15:16:24.441352Z"
    },
    "papermill": {
     "duration": 0.025223,
     "end_time": "2022-11-30T15:16:24.444795",
     "exception": false,
     "start_time": "2022-11-30T15:16:24.419572",
     "status": "completed"
    },
    "tags": []
   },
   "outputs": [],
   "source": [
    "# QIIME2 Artifacts folder\n",
    "qiime_folder = os.path.join(experiment_folder, 'qiime-artifacts')\n",
    "\n",
    "# Input - DADA2 Artifacts\n",
    "dada2_tabs_path = os.path.join(qiime_folder, 'dada2-tabs.qza')"
   ]
  },
  {
   "cell_type": "markdown",
   "id": "0999a1b2",
   "metadata": {
    "papermill": {
     "duration": 0.008494,
     "end_time": "2022-11-30T15:16:24.462581",
     "exception": false,
     "start_time": "2022-11-30T15:16:24.454087",
     "status": "completed"
    },
    "tags": []
   },
   "source": [
    "## Step execution\n",
    "\n",
    "### Load input files\n",
    "\n",
    "This Step import the QIIME2 `FeatureTable[Frequency]` Artifact and the `Metadata` file."
   ]
  },
  {
   "cell_type": "code",
   "execution_count": 6,
   "id": "8f299d1a",
   "metadata": {
    "ExecuteTime": {
     "end_time": "2022-09-29T20:54:15.559837Z",
     "start_time": "2022-09-29T20:54:14.830405Z"
    },
    "execution": {
     "iopub.execute_input": "2022-11-30T15:16:24.481416Z",
     "iopub.status.busy": "2022-11-30T15:16:24.481153Z",
     "iopub.status.idle": "2022-11-30T15:16:25.190294Z",
     "shell.execute_reply": "2022-11-30T15:16:25.189632Z"
    },
    "papermill": {
     "duration": 0.721907,
     "end_time": "2022-11-30T15:16:25.193278",
     "exception": false,
     "start_time": "2022-11-30T15:16:24.471371",
     "status": "completed"
    },
    "tags": []
   },
   "outputs": [],
   "source": [
    "#Load Metadata\n",
    "metadata_qa = Metadata.load(metadata_file)\n",
    "\n",
    "#Load FeatureTable[Frequency]\n",
    "tabs = Artifact.load(dada2_tabs_path)\n",
    "tabs_df = tabs.view(Metadata).to_dataframe().T"
   ]
  },
  {
   "cell_type": "markdown",
   "id": "a9a446c4",
   "metadata": {
    "papermill": {
     "duration": 0.017504,
     "end_time": "2022-11-30T15:16:25.227073",
     "exception": false,
     "start_time": "2022-11-30T15:16:25.209569",
     "status": "completed"
    },
    "tags": []
   },
   "source": [
    "# ANCOM\n",
    "\n",
    "Apply Analysis of Composition of Microbiomes (ANCOM) to identify features\n",
    "that are differentially abundant across groups.\n",
    "\n",
    "- [composition add_pseudocount](https://docs.qiime2.org/2022.8/plugins/available/composition/add-pseudocount/): Increment all counts in table by pseudocount.\n",
    "- [composition ancom](https://docs.qiime2.org/2022.8/plugins/available/composition/ancom/): Apply ANCOM to identify features that differ in abundance."
   ]
  },
  {
   "cell_type": "code",
   "execution_count": 7,
   "id": "cda81bf5",
   "metadata": {
    "execution": {
     "iopub.execute_input": "2022-11-30T15:16:25.245399Z",
     "iopub.status.busy": "2022-11-30T15:16:25.245185Z",
     "iopub.status.idle": "2022-11-30T15:16:25.249529Z",
     "shell.execute_reply": "2022-11-30T15:16:25.248848Z"
    },
    "papermill": {
     "duration": 0.015395,
     "end_time": "2022-11-30T15:16:25.251077",
     "exception": false,
     "start_time": "2022-11-30T15:16:25.235682",
     "status": "completed"
    },
    "tags": []
   },
   "outputs": [],
   "source": [
    "# Select class column\n",
    "column = metadata_qa.get_column(class_col)"
   ]
  },
  {
   "cell_type": "code",
   "execution_count": 8,
   "id": "2f023bcc",
   "metadata": {
    "execution": {
     "iopub.execute_input": "2022-11-30T15:16:25.271606Z",
     "iopub.status.busy": "2022-11-30T15:16:25.271401Z",
     "iopub.status.idle": "2022-11-30T15:16:25.466141Z",
     "shell.execute_reply": "2022-11-30T15:16:25.465299Z"
    },
    "papermill": {
     "duration": 0.207211,
     "end_time": "2022-11-30T15:16:25.469215",
     "exception": false,
     "start_time": "2022-11-30T15:16:25.262004",
     "status": "completed"
    },
    "tags": []
   },
   "outputs": [],
   "source": [
    "# Create the pseudocount table\n",
    "composition_tab = add_pseudocount(table = tabs).composition_table"
   ]
  },
  {
   "cell_type": "code",
   "execution_count": 9,
   "id": "2999c2f6",
   "metadata": {
    "execution": {
     "iopub.execute_input": "2022-11-30T15:16:25.495718Z",
     "iopub.status.busy": "2022-11-30T15:16:25.495547Z",
     "iopub.status.idle": "2022-11-30T15:16:25.678302Z",
     "shell.execute_reply": "2022-11-30T15:16:25.677650Z"
    },
    "papermill": {
     "duration": 0.195544,
     "end_time": "2022-11-30T15:16:25.681369",
     "exception": false,
     "start_time": "2022-11-30T15:16:25.485825",
     "status": "completed"
    },
    "tags": []
   },
   "outputs": [
    {
     "name": "stdout",
     "output_type": "stream",
     "text": [
      "Calculating ANCOM with: sqrt mean_difference\n",
      "ERROR: Calculating ANCOM with: sqrt mean_difference\n",
      "All values the `grouping` are the same. This method cannot operate on a grouping vector with only a single group of samples(e.g., there are no 'between' variance because there is only a single group).\n",
      "Calculating ANCOM with: sqrt f_statistic\n",
      "ERROR: Calculating ANCOM with: sqrt f_statistic\n",
      "All values the `grouping` are the same. This method cannot operate on a grouping vector with only a single group of samples(e.g., there are no 'between' variance because there is only a single group).\n",
      "Calculating ANCOM with: log mean_difference\n",
      "ERROR: Calculating ANCOM with: log mean_difference\n",
      "All values the `grouping` are the same. This method cannot operate on a grouping vector with only a single group of samples(e.g., there are no 'between' variance because there is only a single group).\n",
      "Calculating ANCOM with: log f_statistic\n",
      "ERROR: Calculating ANCOM with: log f_statistic\n",
      "All values the `grouping` are the same. This method cannot operate on a grouping vector with only a single group of samples(e.g., there are no 'between' variance because there is only a single group).\n",
      "Calculating ANCOM with: clr mean_difference\n",
      "ERROR: Calculating ANCOM with: clr mean_difference\n",
      "All values the `grouping` are the same. This method cannot operate on a grouping vector with only a single group of samples(e.g., there are no 'between' variance because there is only a single group).\n",
      "Calculating ANCOM with: clr f_statistic\n",
      "ERROR: Calculating ANCOM with: clr f_statistic\n",
      "All values the `grouping` are the same. This method cannot operate on a grouping vector with only a single group of samples(e.g., there are no 'between' variance because there is only a single group).\n"
     ]
    }
   ],
   "source": [
    "# Create visualizations for each parameter combination for the ANCOM  method.\n",
    "transform_functions = ('sqrt', 'log', 'clr')\n",
    "difference_functions = ('mean_difference', 'f_statistic')\n",
    "for t in transform_functions:\n",
    "    for d in difference_functions:\n",
    "        print(f\"Calculating ANCOM with: {t} {d}\")\n",
    "        try:\n",
    "            ancom_viz = ancom(\n",
    "                table = composition_tab, \n",
    "                metadata = column, \n",
    "                transform_function = t, \n",
    "                difference_function = d\n",
    "            ).visualization\n",
    "            view_name = os.path.join(qiime_folder, f'ancom-{t}-{d}.qzv')\n",
    "            ancom_viz.save(view_name)\n",
    "        except Exception as e:\n",
    "            print(f\"ERROR: Calculating ANCOM with: {t} {d}\")\n",
    "            print(e)"
   ]
  }
 ],
 "metadata": {
  "celltoolbar": "Edit Metadata",
  "kernelspec": {
   "display_name": "Python 3 (ipykernel)",
   "language": "python",
   "name": "python3"
  },
  "language_info": {
   "codemirror_mode": {
    "name": "ipython",
    "version": 3
   },
   "file_extension": ".py",
   "mimetype": "text/x-python",
   "name": "python",
   "nbconvert_exporter": "python",
   "pygments_lexer": "ipython3",
   "version": "3.8.12"
  },
  "papermill": {
   "default_parameters": {},
   "duration": 10.391387,
   "end_time": "2022-11-30T15:16:26.416052",
   "environment_variables": {},
   "exception": null,
   "input_path": "nb-templates/step-abundance-analysis.ipynb",
   "output_path": "/home/lauro/nupeb/rede-micro/redemicro-thayane/experiments/thayane-PM/nb-executed-steps/step-abundance-analysis-thayane-PM.ipynb",
   "parameters": {
    "base_dir": "/home/lauro/nupeb/rede-micro/redemicro-thayane",
    "class_col": "class-straw",
    "classifier_file": "/home/lauro/nupeb/16S_classifiers_qiime2/silva-138-99-nb-classifier.qza",
    "experiment_name": "thayane-PM",
    "manifest_file": "/home/lauro/nupeb/rede-micro/redemicro-thayane/data/manifest.csv",
    "metadata_file": "/home/lauro/nupeb/rede-micro/redemicro-thayane/data/metadata.tsv",
    "overlap": 12,
    "phred": 20,
    "replace_files": false,
    "threads": 6,
    "trunc_f": 0,
    "trunc_r": 0
   },
   "start_time": "2022-11-30T15:16:16.024665",
   "version": "2.3.4"
  }
 },
 "nbformat": 4,
 "nbformat_minor": 5
}