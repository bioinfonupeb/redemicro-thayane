{
 "cells": [
  {
   "cell_type": "markdown",
   "id": "8a8a342f",
   "metadata": {
    "tags": [
     "papermill-error-cell-tag"
    ]
   },
   "source": [
    "<span style=\"color:red; font-family:Helvetica Neue, Helvetica, Arial, sans-serif; font-size:2em;\">An Exception was encountered at '<a href=\"#papermill-error-cell\">In [15]</a>'.</span>"
   ]
  },
  {
   "cell_type": "markdown",
   "id": "e7a8b77a",
   "metadata": {
    "papermill": {
     "duration": 0.022571,
     "end_time": "2022-11-17T21:54:43.139563",
     "exception": false,
     "start_time": "2022-11-17T21:54:43.116992",
     "status": "completed"
    },
    "tags": []
   },
   "source": [
    "### STEP : Taxonomic assignment\n",
    "#### Taxonomic assignment with Silva 16S\n",
    "\n",
    "Using Silva 16S classifier for Qiime2. List with all [classifiers](https://docs.qiime2.org/2020.6/data-resources/). \n",
    "\n",
    "#### Versions \n",
    "- [Silva 138 99% OTUs full-length sequences](https://data.qiime2.org/2020.6/common/silva-138-99-nb-classifier.qza)\n",
    "- [Silva 138 99% OTUs from 515F/806R region of sequences](https://data.qiime2.org/2020.6/common/silva-138-99-515-806-nb-classifier.qza)\n",
    "- [Greengenes 13_8 99% OTUs full-length sequences](https://data.qiime2.org/2020.6/common/gg-13-8-99-nb-classifier.qza)\n",
    "- [Greengenes 13_8 99% OTUs from 515F/806R region of sequences](https://data.qiime2.org/2020.6/common/gg-13-8-99-515-806-nb-classifier.qza)\n",
    "\n",
    "#### Methods\n",
    "- [qiime feature-classifier](https://docs.qiime2.org/2022.2/plugins/available/feature-classifier/)\n",
    "- [qiime feature-classifier classify-sklearn](https://docs.qiime2.org/2021.8/plugins/available/feature-classifier/classify-sklearn)\n",
    "- [qiime metadata](https://docs.qiime2.org/2022.2/plugins/available/metadata/)\n",
    "- [classify-hybrid-vsearch-sklearn](https://docs.qiime2.org/2022.2/plugins/available/feature-classifier/classify-hybrid-vsearch-sklearn/)\n",
    "- [qiime metadata tabulate](https://docs.qiime2.org/2022.2/plugins/available/metadata/tabulate/)\n",
    "- [qiime taxa](https://docs.qiime2.org/2022.2/plugins/available/taxa/)\n",
    "- [qiime taxa barplot](https://docs.qiime2.org/2022.2/plugins/available/taxa/barplot/)"
   ]
  },
  {
   "cell_type": "markdown",
   "id": "c689b18e",
   "metadata": {
    "papermill": {
     "duration": 0.043235,
     "end_time": "2022-11-17T21:54:43.197461",
     "exception": false,
     "start_time": "2022-11-17T21:54:43.154226",
     "status": "completed"
    },
    "tags": []
   },
   "source": [
    "## Setup and settings"
   ]
  },
  {
   "cell_type": "code",
   "execution_count": 1,
   "id": "461dc091",
   "metadata": {
    "ExecuteTime": {
     "end_time": "2022-10-03T18:01:35.861048Z",
     "start_time": "2022-10-03T18:01:35.837041Z"
    },
    "execution": {
     "iopub.execute_input": "2022-11-17T21:54:43.227542Z",
     "iopub.status.busy": "2022-11-17T21:54:43.227138Z",
     "iopub.status.idle": "2022-11-17T21:54:49.399734Z",
     "shell.execute_reply": "2022-11-17T21:54:49.399040Z"
    },
    "papermill": {
     "duration": 6.19165,
     "end_time": "2022-11-17T21:54:49.403505",
     "exception": false,
     "start_time": "2022-11-17T21:54:43.211855",
     "status": "completed"
    },
    "tags": []
   },
   "outputs": [],
   "source": [
    "# Importing packages\n",
    "import os\n",
    "import pandas as pd\n",
    "import numpy as np\n",
    "from qiime2 import Artifact\n",
    "from qiime2 import Visualization\n",
    "from qiime2 import Metadata\n",
    "import qiime2.plugins.metadata.actions as metadata_actions\n",
    "from qiime2.plugins.metadata.visualizers import tabulate\n",
    "\n",
    "from qiime2.plugins import feature_classifier\n",
    "from qiime2.plugins import metadata\n",
    "from qiime2.plugins import taxa\n",
    "\n",
    "from qiime2.plugins.taxa.methods import collapse\n",
    "from qiime2.plugins.taxa.methods import filter_table\n",
    "from qiime2.plugins.feature_table.methods import filter_samples\n",
    "from qiime2.plugins.feature_table.visualizers import summarize\n",
    "\n",
    "import matplotlib.pyplot as plt\n",
    "import seaborn as sns\n",
    "\n",
    "%matplotlib inline\n",
    "%config InlineBackend.figure_format = 'svg'"
   ]
  },
  {
   "cell_type": "code",
   "execution_count": 2,
   "id": "83032389",
   "metadata": {
    "ExecuteTime": {
     "end_time": "2022-10-03T14:33:40.410742Z",
     "start_time": "2022-10-03T14:33:36.196677Z"
    },
    "execution": {
     "iopub.execute_input": "2022-11-17T21:54:49.719025Z",
     "iopub.status.busy": "2022-11-17T21:54:49.718720Z",
     "iopub.status.idle": "2022-11-17T21:54:51.467905Z",
     "shell.execute_reply": "2022-11-17T21:54:51.466649Z"
    },
    "papermill": {
     "duration": 2.048218,
     "end_time": "2022-11-17T21:54:51.471022",
     "exception": false,
     "start_time": "2022-11-17T21:54:49.422804",
     "status": "completed"
    },
    "tags": []
   },
   "outputs": [
    {
     "name": "stdout",
     "output_type": "stream",
     "text": [
      "Requirement already satisfied: scikit-learn==0.23.1 in /home/lauro/anaconda3/envs/qiime2-2022.2/lib/python3.8/site-packages (0.23.1)\r\n",
      "Requirement already satisfied: numpy>=1.13.3 in /home/lauro/anaconda3/envs/qiime2-2022.2/lib/python3.8/site-packages (from scikit-learn==0.23.1) (1.22.2)\r\n",
      "Requirement already satisfied: threadpoolctl>=2.0.0 in /home/lauro/anaconda3/envs/qiime2-2022.2/lib/python3.8/site-packages (from scikit-learn==0.23.1) (3.1.0)\r\n",
      "Requirement already satisfied: joblib>=0.11 in /home/lauro/anaconda3/envs/qiime2-2022.2/lib/python3.8/site-packages (from scikit-learn==0.23.1) (1.1.0)\r\n"
     ]
    },
    {
     "name": "stdout",
     "output_type": "stream",
     "text": [
      "Requirement already satisfied: scipy>=0.19.1 in /home/lauro/anaconda3/envs/qiime2-2022.2/lib/python3.8/site-packages (from scikit-learn==0.23.1) (1.8.0)\r\n"
     ]
    },
    {
     "name": "stdout",
     "output_type": "stream",
     "text": [
      "Note: you may need to restart the kernel to use updated packages.\n"
     ]
    }
   ],
   "source": [
    "# install scikit-learn specific version to use trained classifier\n",
    "%pip install --user 'scikit-learn==0.23.1'"
   ]
  },
  {
   "cell_type": "markdown",
   "id": "ebff8339",
   "metadata": {
    "papermill": {
     "duration": 0.014152,
     "end_time": "2022-11-17T21:54:51.503995",
     "exception": false,
     "start_time": "2022-11-17T21:54:51.489843",
     "status": "completed"
    },
    "tags": []
   },
   "source": [
    "### Receiving the parameters\n",
    "\n",
    "The following cell can receive parameters using the [papermill](https://papermill.readthedocs.io/en/latest/) tool."
   ]
  },
  {
   "cell_type": "code",
   "execution_count": 3,
   "id": "4539c539",
   "metadata": {
    "ExecuteTime": {
     "end_time": "2022-10-03T14:33:40.420496Z",
     "start_time": "2022-10-03T14:33:40.414658Z"
    },
    "execution": {
     "iopub.execute_input": "2022-11-17T21:54:51.534243Z",
     "iopub.status.busy": "2022-11-17T21:54:51.533865Z",
     "iopub.status.idle": "2022-11-17T21:54:51.540813Z",
     "shell.execute_reply": "2022-11-17T21:54:51.539900Z"
    },
    "papermill": {
     "duration": 0.0246,
     "end_time": "2022-11-17T21:54:51.542670",
     "exception": false,
     "start_time": "2022-11-17T21:54:51.518070",
     "status": "completed"
    },
    "tags": [
     "parameters"
    ]
   },
   "outputs": [],
   "source": [
    "metadata_file = '/home/lauro/nupeb/rede-micro/redemicro-miliane-nutri/data/raw/metadata/miliane-metadata-CxAC.tsv'\n",
    "base_dir = os.path.join('/', 'home', 'lauro', 'nupeb', 'rede-micro', 'redemicro-miliane-nutri')\n",
    "experiment_name = 'miliane-CxAC-trim'\n",
    "class_col = 'group-id'\n",
    "replace_files = False"
   ]
  },
  {
   "cell_type": "code",
   "execution_count": 4,
   "id": "d0c3b0e3",
   "metadata": {
    "execution": {
     "iopub.execute_input": "2022-11-17T21:54:51.573129Z",
     "iopub.status.busy": "2022-11-17T21:54:51.572711Z",
     "iopub.status.idle": "2022-11-17T21:54:51.579572Z",
     "shell.execute_reply": "2022-11-17T21:54:51.578669Z"
    },
    "papermill": {
     "duration": 0.023861,
     "end_time": "2022-11-17T21:54:51.581262",
     "exception": false,
     "start_time": "2022-11-17T21:54:51.557401",
     "status": "completed"
    },
    "tags": [
     "injected-parameters"
    ]
   },
   "outputs": [],
   "source": [
    "# Parameters\n",
    "experiment_name = \"thayane-PM\"\n",
    "base_dir = \"/home/lauro/nupeb/rede-micro/redemicro-thayane\"\n",
    "manifest_file = \"/home/lauro/nupeb/rede-micro/redemicro-thayane/data/manifest.csv\"\n",
    "metadata_file = \"/home/lauro/nupeb/rede-micro/redemicro-thayane/data/metadata.tsv\"\n",
    "class_col = \"class-straw\"\n",
    "classifier_file = (\n",
    "    \"/home/lauro/nupeb/16S_classifiers_qiime2/silva-138-99-nb-classifier.qza\"\n",
    ")\n",
    "replace_files = False\n",
    "phred = 20\n",
    "trunc_f = 0\n",
    "trunc_r = 0\n",
    "overlap = 12\n",
    "threads = 6\n"
   ]
  },
  {
   "cell_type": "code",
   "execution_count": 5,
   "id": "1fb3ed9e",
   "metadata": {
    "ExecuteTime": {
     "end_time": "2022-10-03T14:33:40.436964Z",
     "start_time": "2022-10-03T14:33:40.423066Z"
    },
    "execution": {
     "iopub.execute_input": "2022-11-17T21:54:51.613644Z",
     "iopub.status.busy": "2022-11-17T21:54:51.613224Z",
     "iopub.status.idle": "2022-11-17T21:54:51.619607Z",
     "shell.execute_reply": "2022-11-17T21:54:51.618696Z"
    },
    "papermill": {
     "duration": 0.023826,
     "end_time": "2022-11-17T21:54:51.621274",
     "exception": false,
     "start_time": "2022-11-17T21:54:51.597448",
     "status": "completed"
    },
    "tags": []
   },
   "outputs": [],
   "source": [
    "experiment_folder = os.path.abspath(os.path.join(base_dir, 'experiments', experiment_name))\n",
    "img_folder = os.path.abspath(os.path.join(experiment_folder, 'imgs'))\n",
    "sheet_folder = os.path.abspath(os.path.join(experiment_folder, 'sheets'))"
   ]
  },
  {
   "cell_type": "code",
   "execution_count": 6,
   "id": "3e1c65fc",
   "metadata": {
    "ExecuteTime": {
     "end_time": "2022-10-03T14:33:40.584633Z",
     "start_time": "2022-10-03T14:33:40.439283Z"
    },
    "execution": {
     "iopub.execute_input": "2022-11-17T21:54:51.653476Z",
     "iopub.status.busy": "2022-11-17T21:54:51.653129Z",
     "iopub.status.idle": "2022-11-17T21:54:51.798149Z",
     "shell.execute_reply": "2022-11-17T21:54:51.796538Z"
    },
    "papermill": {
     "duration": 0.163745,
     "end_time": "2022-11-17T21:54:51.801387",
     "exception": false,
     "start_time": "2022-11-17T21:54:51.637642",
     "status": "completed"
    },
    "tags": []
   },
   "outputs": [],
   "source": [
    "!mkdir -p {sheet_folder}"
   ]
  },
  {
   "cell_type": "markdown",
   "id": "02b67b26",
   "metadata": {
    "papermill": {
     "duration": 0.024649,
     "end_time": "2022-11-17T21:54:51.848691",
     "exception": false,
     "start_time": "2022-11-17T21:54:51.824042",
     "status": "completed"
    },
    "tags": []
   },
   "source": [
    "### Defining names, paths and flags"
   ]
  },
  {
   "cell_type": "code",
   "execution_count": 7,
   "id": "7bf04c3c",
   "metadata": {
    "ExecuteTime": {
     "end_time": "2022-10-03T14:33:40.609195Z",
     "start_time": "2022-10-03T14:33:40.588964Z"
    },
    "execution": {
     "iopub.execute_input": "2022-11-17T21:54:51.881930Z",
     "iopub.status.busy": "2022-11-17T21:54:51.881512Z",
     "iopub.status.idle": "2022-11-17T21:54:51.892548Z",
     "shell.execute_reply": "2022-11-17T21:54:51.892030Z"
    },
    "papermill": {
     "duration": 0.030493,
     "end_time": "2022-11-17T21:54:51.894328",
     "exception": false,
     "start_time": "2022-11-17T21:54:51.863835",
     "status": "completed"
    },
    "tags": []
   },
   "outputs": [],
   "source": [
    "# QIIME2 Artifacts folder\n",
    "qiime_folder = os.path.join(experiment_folder, 'qiime-artifacts')\n",
    "\n",
    "# Input - DADA2 Artifacts\n",
    "dada2_tabs_path = os.path.join(qiime_folder, 'dada2-tabs.qza')\n",
    "dada2_reps_path = os.path.join(qiime_folder, 'dada2-reps.qza')\n",
    "dada2_stat_path = os.path.join(qiime_folder, 'dada2-stat.qza')\n",
    "\n",
    "# Input - Taxonomy Classifier - SILVA 138-99\n",
    "classifier_path = classifier_file\n",
    "# classifier_path = os.path.abspath(os.path.join(os.getcwd(), '..', 'models', 'silva-138-99-nb-classifier.qza'))\n",
    "\n",
    "# Output - Excel file\n",
    "excel_path = os.path.join(sheet_folder, 'abundances.xlsx')\n",
    "\n",
    "# Output - Metataxonomy Artifact\n",
    "metatax_path = os.path.join(qiime_folder, 'metatax.qza')\n",
    "metatax_view_path = os.path.join(qiime_folder, 'metatax.qzv')\n",
    "metatax_bar_path = os.path.join(qiime_folder, 'metatax-bar.qzv')\n",
    "\n",
    "# Flag - Load or create files\n",
    "need_tax = not (os.path.isfile(metatax_path)) or replace_files\n",
    "need_view = not (os.path.isfile(metatax_view_path) or os.path.isfile(metatax_bar_path)) or replace_files"
   ]
  },
  {
   "cell_type": "markdown",
   "id": "ef240b69",
   "metadata": {
    "papermill": {
     "duration": 0.01483,
     "end_time": "2022-11-17T21:54:51.927527",
     "exception": false,
     "start_time": "2022-11-17T21:54:51.912697",
     "status": "completed"
    },
    "tags": []
   },
   "source": [
    "## Step execution\n",
    "\n",
    "### Load input files\n",
    "\n",
    "This Step import the QIIME2 `SampleData[PairedEndSequencesWithQuality]` Artifact with all demultiplexed sequences and the `Metadata` file."
   ]
  },
  {
   "cell_type": "code",
   "execution_count": 8,
   "id": "d6f14fc7",
   "metadata": {
    "ExecuteTime": {
     "end_time": "2022-10-03T14:33:40.753144Z",
     "start_time": "2022-10-03T14:33:40.611214Z"
    },
    "execution": {
     "iopub.execute_input": "2022-11-17T21:54:51.958060Z",
     "iopub.status.busy": "2022-11-17T21:54:51.957813Z",
     "iopub.status.idle": "2022-11-17T21:54:51.979429Z",
     "shell.execute_reply": "2022-11-17T21:54:51.978568Z"
    },
    "papermill": {
     "duration": 0.038988,
     "end_time": "2022-11-17T21:54:51.981403",
     "exception": false,
     "start_time": "2022-11-17T21:54:51.942415",
     "status": "completed"
    },
    "tags": []
   },
   "outputs": [],
   "source": [
    "metadata_qa = Metadata.load(metadata_file)\n",
    "groups_values = list(metadata_qa.get_column(class_col).to_series().unique())\n",
    "# tabulate(metadata_qa).visualization"
   ]
  },
  {
   "cell_type": "code",
   "execution_count": 9,
   "id": "0f8eab3f",
   "metadata": {
    "ExecuteTime": {
     "end_time": "2022-10-03T14:33:40.910889Z",
     "start_time": "2022-10-03T14:33:40.755386Z"
    },
    "execution": {
     "iopub.execute_input": "2022-11-17T21:54:52.020320Z",
     "iopub.status.busy": "2022-11-17T21:54:52.020077Z",
     "iopub.status.idle": "2022-11-17T22:02:40.147361Z",
     "shell.execute_reply": "2022-11-17T22:02:40.136629Z"
    },
    "papermill": {
     "duration": 468.175059,
     "end_time": "2022-11-17T22:02:40.176250",
     "exception": false,
     "start_time": "2022-11-17T21:54:52.001191",
     "status": "completed"
    },
    "scrolled": true,
    "tags": []
   },
   "outputs": [],
   "source": [
    "# Load FeatureData[Sequence] Artifact\n",
    "reps = Artifact.load(dada2_reps_path)\n",
    "\n",
    "# Load FeatureTable[Frequency] Artifact\n",
    "tabs = Artifact.load(dada2_tabs_path)\n",
    "\n",
    "\n",
    "if not need_tax:\n",
    "    \n",
    "    # Load FeatureData[Taxonomy]\n",
    "    metatax_qa = Artifact.load(metatax_path)\n",
    "    \n",
    "else:\n",
    "    \n",
    "    # Load TaxonomicClassifier Artifact\n",
    "    classifier = Artifact.load(classifier_path)\n",
    "    \n",
    "    # Classify ASV features and create a new FeatureData[Taxonomy]\n",
    "    metatax_qa = feature_classifier.methods.classify_sklearn(reads=reps, classifier=classifier, n_jobs=threads)\n",
    "\n",
    "    # Save FeatureData[Taxonomy] Artifact\n",
    "    metatax_qa.classification.save(metatax_path)"
   ]
  },
  {
   "cell_type": "code",
   "execution_count": 10,
   "id": "d1076979",
   "metadata": {
    "ExecuteTime": {
     "end_time": "2022-10-03T14:33:41.053623Z",
     "start_time": "2022-10-03T14:33:40.912212Z"
    },
    "execution": {
     "iopub.execute_input": "2022-11-17T22:02:40.292814Z",
     "iopub.status.busy": "2022-11-17T22:02:40.292402Z",
     "iopub.status.idle": "2022-11-17T22:02:46.266192Z",
     "shell.execute_reply": "2022-11-17T22:02:46.265605Z"
    },
    "papermill": {
     "duration": 6.003055,
     "end_time": "2022-11-17T22:02:46.267878",
     "exception": false,
     "start_time": "2022-11-17T22:02:40.264823",
     "status": "completed"
    },
    "tags": []
   },
   "outputs": [],
   "source": [
    "if not need_view:\n",
    "    \n",
    "    # Load Metatax\n",
    "    metatax_qv = Visualization.load(metatax_view_path)\n",
    "    metatax_bar_qv = Visualization.load(metatax_bar_path)\n",
    "    \n",
    "else:\n",
    "    \n",
    "    # Metataxonomy Table Visualization\n",
    "    metatax_qv = metadata.visualizers.tabulate(metatax_qa.classification.view(Metadata))\n",
    "    metatax_qv.visualization.save(metatax_view_path)\n",
    "    \n",
    "    # Barplot Visualization\n",
    "    # Next, we can view the taxonomic composition of our samples with interactive bar plots. \n",
    "    # Generate those plots with the following command and then open the visualization.\n",
    "    metatax_bar_qv = taxa.visualizers.barplot(tabs, metatax_qa.classification, metadata_qa)\n",
    "    metatax_bar_qv.visualization.save(metatax_bar_path)"
   ]
  },
  {
   "cell_type": "markdown",
   "id": "9d07e64d",
   "metadata": {
    "papermill": {
     "duration": 0.017725,
     "end_time": "2022-11-17T22:02:46.298792",
     "exception": false,
     "start_time": "2022-11-17T22:02:46.281067",
     "status": "completed"
    },
    "tags": []
   },
   "source": [
    "### Metataxonomy analysis"
   ]
  },
  {
   "cell_type": "code",
   "execution_count": 11,
   "id": "0bdf7906",
   "metadata": {
    "ExecuteTime": {
     "end_time": "2022-10-03T20:32:49.501196Z",
     "start_time": "2022-10-03T20:32:49.490533Z"
    },
    "execution": {
     "iopub.execute_input": "2022-11-17T22:02:46.339846Z",
     "iopub.status.busy": "2022-11-17T22:02:46.339636Z",
     "iopub.status.idle": "2022-11-17T22:02:46.348858Z",
     "shell.execute_reply": "2022-11-17T22:02:46.348018Z"
    },
    "papermill": {
     "duration": 0.026441,
     "end_time": "2022-11-17T22:02:46.350858",
     "exception": false,
     "start_time": "2022-11-17T22:02:46.324417",
     "status": "completed"
    },
    "tags": []
   },
   "outputs": [],
   "source": [
    "def filter_and_collapse(tab, tax, meta, lvl, exclude=True, exclude_list='uncultured,unidentified,metagenome'):\n",
    "    from qiime2.plugins.taxa.methods import collapse\n",
    "    from qiime2.plugins.taxa.methods import filter_table\n",
    "    from qiime2.plugins.feature_table.visualizers import summarize\n",
    "    \n",
    "    to_include = ('d', 'p', 'c', 'o', 'f', 'g', 's')[lvl-1]\n",
    "    to_include += '__'\n",
    "    to_exclude = exclude_list if exclude else None\n",
    "    \n",
    "    if exclude:\n",
    "        filtered_tabs = filter_table(\n",
    "            table=tab, \n",
    "            taxonomy=tax,\n",
    "            include=to_include,\n",
    "            exclude=to_exclude,\n",
    "            mode='contains').filtered_table\n",
    "    else:\n",
    "        filtered_tabs = tab\n",
    "    \n",
    "    collapsed_table = collapse(table=filtered_tabs, taxonomy=tax, level=lvl).collapsed_table\n",
    "    collapsed_table_view = summarize(table=collapsed_table, sample_metadata=meta).visualization\n",
    "    \n",
    "    return collapsed_table, collapsed_table_view\n",
    "\n",
    "def make_rank(tab, top=None):\n",
    "    import pandas as pd\n",
    "    df = tab.view(pd.DataFrame)\n",
    "    rank_series = df.sum(axis=0).sort_values(ascending=False)\n",
    "    if top:\n",
    "        rank_series = rank_series[:top]\n",
    "    return rank_series\n",
    "\n",
    "def split_tax(serie):\n",
    "    level_names = ['kingdom', 'phylum', 'class', 'order', 'family', 'genus', 'species']\n",
    "    \n",
    "    "
   ]
  },
  {
   "cell_type": "code",
   "execution_count": 12,
   "id": "0ce29374",
   "metadata": {
    "ExecuteTime": {
     "end_time": "2022-10-14T14:23:39.624270Z",
     "start_time": "2022-10-14T14:23:39.594136Z"
    },
    "execution": {
     "iopub.execute_input": "2022-11-17T22:02:46.385058Z",
     "iopub.status.busy": "2022-11-17T22:02:46.384559Z",
     "iopub.status.idle": "2022-11-17T22:02:46.398697Z",
     "shell.execute_reply": "2022-11-17T22:02:46.398117Z"
    },
    "papermill": {
     "duration": 0.031544,
     "end_time": "2022-11-17T22:02:46.400492",
     "exception": false,
     "start_time": "2022-11-17T22:02:46.368948",
     "status": "completed"
    },
    "tags": []
   },
   "outputs": [],
   "source": [
    "def get_df(tab, col_name, exclude=True):\n",
    "    df = pd.DataFrame(tab.view(pd.DataFrame).sum(axis=0).sort_values(ascending=False), columns=[col_name])\n",
    "    if exclude:\n",
    "        new_index = [x.split(';')[-1][3:] for x in df.index]\n",
    "        df.index = new_index\n",
    "    return df\n",
    "\n",
    "def get_samples_df(tab, exclude=True):\n",
    "    df = tab.view(pd.DataFrame).T\n",
    "    if exclude:\n",
    "        new_index = [x.split(';')[-1][3:] for x in df.index]\n",
    "        df.index = new_index\n",
    "    return df\n",
    "\n",
    "def create_rank_df(table, meta, groups, exclude=True, gid='group-id'):\n",
    "    df = get_df(table, 'Total', exclude)\n",
    "    for g in groups:\n",
    "        query = f\"[{gid}]='{g}'\"\n",
    "        group = filter_samples(table=table, metadata=meta, where=query, exclude_ids=False).filtered_table\n",
    "        new_df = get_df(group, g, exclude)\n",
    "        df = df.join(new_df, )\n",
    "    df = df.fillna(0)\n",
    "    return df        \n",
    "\n",
    "def plot_rank(df, level_name, sort_by=None):\n",
    "    if level_name == 'Kingdom':\n",
    "        return\n",
    "    print(sort_by)\n",
    "    plt.figure()\n",
    "    sns.set(rc={'figure.figsize':(12,4)})\n",
    "    df = df.drop(['Total'], axis=1)\n",
    "    if sort_by and sort_by in df.columns:\n",
    "        df = df.sort_values(by=sort_by, ascending=False)\n",
    "    df.plot( kind='bar', stacked=True, )\n",
    "    plt.ylabel('Abundances')\n",
    "    plt.xlabel(level_name)\n",
    "    msg = 'x'.join(df.columns)\n",
    "    plt.title(f'{level_name} abundances rank for groups {msg} - Sorted by {sort_by}')\n",
    "    plt.tight_layout()\n",
    "    path = os.path.abspath(os.path.join(img_folder, f'abundance-rank-{level_name}-groups-{msg}-sorted-by-{sort_by}.svg'))\n",
    "    plt.savefig(path, format='svg')\n",
    "    plt.show()"
   ]
  },
  {
   "cell_type": "code",
   "execution_count": 13,
   "id": "5bb90207",
   "metadata": {
    "ExecuteTime": {
     "end_time": "2022-10-03T20:36:11.455898Z",
     "start_time": "2022-10-03T20:36:11.443419Z"
    },
    "execution": {
     "iopub.execute_input": "2022-11-17T22:02:46.450361Z",
     "iopub.status.busy": "2022-11-17T22:02:46.450124Z",
     "iopub.status.idle": "2022-11-17T22:02:46.459517Z",
     "shell.execute_reply": "2022-11-17T22:02:46.458748Z"
    },
    "papermill": {
     "duration": 0.034241,
     "end_time": "2022-11-17T22:02:46.461958",
     "exception": false,
     "start_time": "2022-11-17T22:02:46.427717",
     "status": "completed"
    },
    "tags": []
   },
   "outputs": [],
   "source": [
    "def process_all_levels(tabs, metatax, metadata_qa, groups_values, experiment_name, gid='group-id'):\n",
    "    level_names = ['Kingdom', 'Phylum', 'Class', 'Order', 'Family', 'Genus', 'Species']\n",
    "    excel_name = f'abundance-ranks-{experiment_name}.xlsx'\n",
    "    excel_path = os.path.abspath(os.path.join(sheet_folder, excel_name))\n",
    "    with pd.ExcelWriter(excel_path, mode='w') as writer:\n",
    "        for exclude in (True, False):\n",
    "            for i, lvl_name in enumerate(level_names):\n",
    "                print(f'{i} - Processing {lvl_name} - Filtered {exclude}')\n",
    "\n",
    "                collapsed_table, collapsed_table_view = filter_and_collapse(\n",
    "                    tabs, metatax, metadata_qa, \n",
    "                    lvl=i+1,\n",
    "                    exclude=exclude, \n",
    "                    exclude_list='uncultured,unidentified,metagenome')\n",
    "\n",
    "                rank_df = create_rank_df(collapsed_table, metadata_qa, groups=groups_values, exclude=exclude, gid=gid)\n",
    "                samples_df = get_samples_df(collapsed_table, exclude)\n",
    "                joined_df = rank_df.join(samples_df,)\n",
    "                sheet_name = f\"{lvl_name}{'-filtered' if exclude else ''}\"\n",
    "                joined_df.to_excel(writer, sheet_name=sheet_name)\n",
    "                if exclude:\n",
    "                    for g in ('total', *groups_values):\n",
    "                        msg = f\"{'Filtered-' if exclude else ''}{lvl_name}\"\n",
    "                        plot_rank(rank_df, level_name=lvl_name,sort_by=g)"
   ]
  },
  {
   "cell_type": "code",
   "execution_count": 14,
   "id": "58d4cb2c",
   "metadata": {
    "ExecuteTime": {
     "end_time": "2022-10-03T20:33:26.409296Z",
     "start_time": "2022-10-03T20:33:26.405639Z"
    },
    "execution": {
     "iopub.execute_input": "2022-11-17T22:02:46.496616Z",
     "iopub.status.busy": "2022-11-17T22:02:46.496317Z",
     "iopub.status.idle": "2022-11-17T22:02:46.499837Z",
     "shell.execute_reply": "2022-11-17T22:02:46.499025Z"
    },
    "papermill": {
     "duration": 0.021279,
     "end_time": "2022-11-17T22:02:46.501495",
     "exception": false,
     "start_time": "2022-11-17T22:02:46.480216",
     "status": "completed"
    },
    "tags": []
   },
   "outputs": [],
   "source": [
    "# species = filter_table(\n",
    "#         table=tabs, \n",
    "#         taxonomy=metatax_qa,).filtered_table\n",
    "# species.view(pd.DataFrame)"
   ]
  },
  {
   "cell_type": "markdown",
   "id": "a3b0dc14",
   "metadata": {
    "tags": [
     "papermill-error-cell-tag"
    ]
   },
   "source": [
    "<span id=\"papermill-error-cell\" style=\"color:red; font-family:Helvetica Neue, Helvetica, Arial, sans-serif; font-size:2em;\">Execution using papermill encountered an exception here and stopped:</span>"
   ]
  },
  {
   "cell_type": "code",
   "execution_count": 15,
   "id": "b87d7558",
   "metadata": {
    "ExecuteTime": {
     "end_time": "2022-10-03T20:36:46.339882Z",
     "start_time": "2022-10-03T20:36:15.358617Z"
    },
    "execution": {
     "iopub.execute_input": "2022-11-17T22:02:46.532898Z",
     "iopub.status.busy": "2022-11-17T22:02:46.532590Z",
     "iopub.status.idle": "2022-11-17T22:02:47.902631Z",
     "shell.execute_reply": "2022-11-17T22:02:47.901809Z"
    },
    "papermill": {
     "duration": 1.389695,
     "end_time": "2022-11-17T22:02:47.906259",
     "exception": true,
     "start_time": "2022-11-17T22:02:46.516564",
     "status": "failed"
    },
    "scrolled": true,
    "tags": []
   },
   "outputs": [
    {
     "name": "stdout",
     "output_type": "stream",
     "text": [
      "0 - Processing Kingdom - Filtered True\n"
     ]
    },
    {
     "ename": "TypeError",
     "evalue": "Parameter 'taxonomy' received Results (name = value)\n---------------------------------------------------------------------------------------------\nclassification = <artifact: FeatureData[Taxonomy] uuid: 160991ba-08ac-4c37-ba6a-8f8a15b90641> as an argument, which is incompatible with parameter type: FeatureData[Taxonomy]",
     "output_type": "error",
     "traceback": [
      "\u001b[0;31m---------------------------------------------------------------------------\u001b[0m",
      "\u001b[0;31mTypeError\u001b[0m                                 Traceback (most recent call last)",
      "Input \u001b[0;32mIn [15]\u001b[0m, in \u001b[0;36m<module>\u001b[0;34m\u001b[0m\n\u001b[0;32m----> 1\u001b[0m \u001b[43mprocess_all_levels\u001b[49m\u001b[43m(\u001b[49m\u001b[43mtabs\u001b[49m\u001b[43m,\u001b[49m\u001b[43m \u001b[49m\u001b[43mmetatax_qa\u001b[49m\u001b[43m,\u001b[49m\u001b[43m \u001b[49m\u001b[43mmetadata_qa\u001b[49m\u001b[43m,\u001b[49m\u001b[43m \u001b[49m\u001b[43mgroups_values\u001b[49m\u001b[43m,\u001b[49m\u001b[43m \u001b[49m\u001b[43mexperiment_name\u001b[49m\u001b[43m,\u001b[49m\u001b[43m \u001b[49m\u001b[43mgid\u001b[49m\u001b[38;5;241;43m=\u001b[39;49m\u001b[43mclass_col\u001b[49m\u001b[43m)\u001b[49m\n",
      "Input \u001b[0;32mIn [13]\u001b[0m, in \u001b[0;36mprocess_all_levels\u001b[0;34m(tabs, metatax, metadata_qa, groups_values, experiment_name, gid)\u001b[0m\n\u001b[1;32m      7\u001b[0m \u001b[38;5;28;01mfor\u001b[39;00m i, lvl_name \u001b[38;5;129;01min\u001b[39;00m \u001b[38;5;28menumerate\u001b[39m(level_names):\n\u001b[1;32m      8\u001b[0m     \u001b[38;5;28mprint\u001b[39m(\u001b[38;5;124mf\u001b[39m\u001b[38;5;124m'\u001b[39m\u001b[38;5;132;01m{\u001b[39;00mi\u001b[38;5;132;01m}\u001b[39;00m\u001b[38;5;124m - Processing \u001b[39m\u001b[38;5;132;01m{\u001b[39;00mlvl_name\u001b[38;5;132;01m}\u001b[39;00m\u001b[38;5;124m - Filtered \u001b[39m\u001b[38;5;132;01m{\u001b[39;00mexclude\u001b[38;5;132;01m}\u001b[39;00m\u001b[38;5;124m'\u001b[39m)\n\u001b[0;32m---> 10\u001b[0m     collapsed_table, collapsed_table_view \u001b[38;5;241m=\u001b[39m \u001b[43mfilter_and_collapse\u001b[49m\u001b[43m(\u001b[49m\n\u001b[1;32m     11\u001b[0m \u001b[43m        \u001b[49m\u001b[43mtabs\u001b[49m\u001b[43m,\u001b[49m\u001b[43m \u001b[49m\u001b[43mmetatax\u001b[49m\u001b[43m,\u001b[49m\u001b[43m \u001b[49m\u001b[43mmetadata_qa\u001b[49m\u001b[43m,\u001b[49m\u001b[43m \u001b[49m\n\u001b[1;32m     12\u001b[0m \u001b[43m        \u001b[49m\u001b[43mlvl\u001b[49m\u001b[38;5;241;43m=\u001b[39;49m\u001b[43mi\u001b[49m\u001b[38;5;241;43m+\u001b[39;49m\u001b[38;5;241;43m1\u001b[39;49m\u001b[43m,\u001b[49m\n\u001b[1;32m     13\u001b[0m \u001b[43m        \u001b[49m\u001b[43mexclude\u001b[49m\u001b[38;5;241;43m=\u001b[39;49m\u001b[43mexclude\u001b[49m\u001b[43m,\u001b[49m\u001b[43m \u001b[49m\n\u001b[1;32m     14\u001b[0m \u001b[43m        \u001b[49m\u001b[43mexclude_list\u001b[49m\u001b[38;5;241;43m=\u001b[39;49m\u001b[38;5;124;43m'\u001b[39;49m\u001b[38;5;124;43muncultured,unidentified,metagenome\u001b[39;49m\u001b[38;5;124;43m'\u001b[39;49m\u001b[43m)\u001b[49m\n\u001b[1;32m     16\u001b[0m     rank_df \u001b[38;5;241m=\u001b[39m create_rank_df(collapsed_table, metadata_qa, groups\u001b[38;5;241m=\u001b[39mgroups_values, exclude\u001b[38;5;241m=\u001b[39mexclude, gid\u001b[38;5;241m=\u001b[39mgid)\n\u001b[1;32m     17\u001b[0m     samples_df \u001b[38;5;241m=\u001b[39m get_samples_df(collapsed_table, exclude)\n",
      "Input \u001b[0;32mIn [11]\u001b[0m, in \u001b[0;36mfilter_and_collapse\u001b[0;34m(tab, tax, meta, lvl, exclude, exclude_list)\u001b[0m\n\u001b[1;32m      8\u001b[0m to_exclude \u001b[38;5;241m=\u001b[39m exclude_list \u001b[38;5;28;01mif\u001b[39;00m exclude \u001b[38;5;28;01melse\u001b[39;00m \u001b[38;5;28;01mNone\u001b[39;00m\n\u001b[1;32m     10\u001b[0m \u001b[38;5;28;01mif\u001b[39;00m exclude:\n\u001b[0;32m---> 11\u001b[0m     filtered_tabs \u001b[38;5;241m=\u001b[39m \u001b[43mfilter_table\u001b[49m\u001b[43m(\u001b[49m\n\u001b[1;32m     12\u001b[0m \u001b[43m        \u001b[49m\u001b[43mtable\u001b[49m\u001b[38;5;241;43m=\u001b[39;49m\u001b[43mtab\u001b[49m\u001b[43m,\u001b[49m\u001b[43m \u001b[49m\n\u001b[1;32m     13\u001b[0m \u001b[43m        \u001b[49m\u001b[43mtaxonomy\u001b[49m\u001b[38;5;241;43m=\u001b[39;49m\u001b[43mtax\u001b[49m\u001b[43m,\u001b[49m\n\u001b[1;32m     14\u001b[0m \u001b[43m        \u001b[49m\u001b[43minclude\u001b[49m\u001b[38;5;241;43m=\u001b[39;49m\u001b[43mto_include\u001b[49m\u001b[43m,\u001b[49m\n\u001b[1;32m     15\u001b[0m \u001b[43m        \u001b[49m\u001b[43mexclude\u001b[49m\u001b[38;5;241;43m=\u001b[39;49m\u001b[43mto_exclude\u001b[49m\u001b[43m,\u001b[49m\n\u001b[1;32m     16\u001b[0m \u001b[43m        \u001b[49m\u001b[43mmode\u001b[49m\u001b[38;5;241;43m=\u001b[39;49m\u001b[38;5;124;43m'\u001b[39;49m\u001b[38;5;124;43mcontains\u001b[39;49m\u001b[38;5;124;43m'\u001b[39;49m\u001b[43m)\u001b[49m\u001b[38;5;241m.\u001b[39mfiltered_table\n\u001b[1;32m     17\u001b[0m \u001b[38;5;28;01melse\u001b[39;00m:\n\u001b[1;32m     18\u001b[0m     filtered_tabs \u001b[38;5;241m=\u001b[39m tab\n",
      "File \u001b[0;32m<decorator-gen-260>:2\u001b[0m, in \u001b[0;36mfilter_table\u001b[0;34m(table, taxonomy, include, exclude, query_delimiter, mode)\u001b[0m\n",
      "File \u001b[0;32m~/anaconda3/envs/qiime2-2022.2/lib/python3.8/site-packages/qiime2/sdk/action.py:209\u001b[0m, in \u001b[0;36mAction._bind.<locals>.bound_callable\u001b[0;34m(*args, **kwargs)\u001b[0m\n\u001b[1;32m    206\u001b[0m user_input\u001b[38;5;241m.\u001b[39mupdate(kwargs)\n\u001b[1;32m    208\u001b[0m \u001b[38;5;66;03m# Type management\u001b[39;00m\n\u001b[0;32m--> 209\u001b[0m \u001b[38;5;28;43mself\u001b[39;49m\u001b[38;5;241;43m.\u001b[39;49m\u001b[43msignature\u001b[49m\u001b[38;5;241;43m.\u001b[39;49m\u001b[43mcheck_types\u001b[49m\u001b[43m(\u001b[49m\u001b[38;5;241;43m*\u001b[39;49m\u001b[38;5;241;43m*\u001b[39;49m\u001b[43muser_input\u001b[49m\u001b[43m)\u001b[49m\n\u001b[1;32m    210\u001b[0m output_types \u001b[38;5;241m=\u001b[39m \u001b[38;5;28mself\u001b[39m\u001b[38;5;241m.\u001b[39msignature\u001b[38;5;241m.\u001b[39msolve_output(\u001b[38;5;241m*\u001b[39m\u001b[38;5;241m*\u001b[39muser_input)\n\u001b[1;32m    211\u001b[0m callable_args \u001b[38;5;241m=\u001b[39m {}\n",
      "File \u001b[0;32m~/anaconda3/envs/qiime2-2022.2/lib/python3.8/site-packages/qiime2/core/type/signature.py:351\u001b[0m, in \u001b[0;36mPipelineSignature.check_types\u001b[0;34m(self, **kwargs)\u001b[0m\n\u001b[1;32m    345\u001b[0m     \u001b[38;5;28;01mraise\u001b[39;00m \u001b[38;5;167;01mTypeError\u001b[39;00m(\n\u001b[1;32m    346\u001b[0m         \u001b[38;5;124m\"\u001b[39m\u001b[38;5;124mParameter \u001b[39m\u001b[38;5;132;01m%r\u001b[39;00m\u001b[38;5;124m received Metadata as an \u001b[39m\u001b[38;5;124m\"\u001b[39m\n\u001b[1;32m    347\u001b[0m         \u001b[38;5;124m\"\u001b[39m\u001b[38;5;124margument, which is incompatible with parameter \u001b[39m\u001b[38;5;124m\"\u001b[39m\n\u001b[1;32m    348\u001b[0m         \u001b[38;5;124m\"\u001b[39m\u001b[38;5;124mtype: \u001b[39m\u001b[38;5;132;01m%r\u001b[39;00m\u001b[38;5;124m\"\u001b[39m \u001b[38;5;241m%\u001b[39m (name, spec\u001b[38;5;241m.\u001b[39mqiime_type))\n\u001b[1;32m    350\u001b[0m \u001b[38;5;28;01melse\u001b[39;00m:  \u001b[38;5;66;03m# handle primitive types\u001b[39;00m\n\u001b[0;32m--> 351\u001b[0m     \u001b[38;5;28;01mraise\u001b[39;00m \u001b[38;5;167;01mTypeError\u001b[39;00m(\n\u001b[1;32m    352\u001b[0m         \u001b[38;5;124m\"\u001b[39m\u001b[38;5;124mParameter \u001b[39m\u001b[38;5;132;01m%r\u001b[39;00m\u001b[38;5;124m received \u001b[39m\u001b[38;5;132;01m%r\u001b[39;00m\u001b[38;5;124m as an argument, which is \u001b[39m\u001b[38;5;124m\"\u001b[39m\n\u001b[1;32m    353\u001b[0m         \u001b[38;5;124m\"\u001b[39m\u001b[38;5;124mincompatible with parameter type: \u001b[39m\u001b[38;5;132;01m%r\u001b[39;00m\u001b[38;5;124m\"\u001b[39m\n\u001b[1;32m    354\u001b[0m         \u001b[38;5;241m%\u001b[39m (name, parameter, spec\u001b[38;5;241m.\u001b[39mqiime_type))\n",
      "\u001b[0;31mTypeError\u001b[0m: Parameter 'taxonomy' received Results (name = value)\n---------------------------------------------------------------------------------------------\nclassification = <artifact: FeatureData[Taxonomy] uuid: 160991ba-08ac-4c37-ba6a-8f8a15b90641> as an argument, which is incompatible with parameter type: FeatureData[Taxonomy]"
     ]
    }
   ],
   "source": [
    "process_all_levels(tabs, metatax_qa, metadata_qa, groups_values, experiment_name, gid=class_col)"
   ]
  },
  {
   "cell_type": "code",
   "execution_count": null,
   "id": "ac2bd7b5",
   "metadata": {
    "ExecuteTime": {
     "end_time": "2022-10-03T19:33:19.197908Z",
     "start_time": "2022-10-03T19:33:19.182329Z"
    },
    "papermill": {
     "duration": null,
     "end_time": null,
     "exception": null,
     "start_time": null,
     "status": "pending"
    },
    "scrolled": true,
    "tags": []
   },
   "outputs": [],
   "source": [
    "def boxplot_rank(table, meta, tax, groups, lvl, exclude, gid='group-id'):\n",
    "    level_names = ['Kingdom', 'Phylum', 'Class', 'Order', 'Family', 'Genus', 'Species']\n",
    "    level_name = level_names[lvl-1]\n",
    "    df = pd.DataFrame()\n",
    "    collapsed_table, _ = filter_and_collapse(\n",
    "        table, tax, meta, \n",
    "        lvl=lvl,\n",
    "        exclude=exclude, \n",
    "        exclude_list='uncultured,unidentified,metagenome')\n",
    "    collapsed_table_df = get_df(collapsed_table, col_name='Total')\n",
    "    ordered_tax = collapsed_table_df.index\n",
    "    for g in groups:\n",
    "        print(f'Processing {level_name} - {g}')\n",
    "        group = filter_samples(table=table, metadata=meta, where=f\"[{gid}]='{g}'\", exclude_ids=False).filtered_table\n",
    "        collapsed_group, _ = filter_and_collapse(\n",
    "            group, tax, meta, \n",
    "            lvl=lvl,\n",
    "            exclude=exclude, \n",
    "            exclude_list='uncultured,unidentified,metagenome')\n",
    "        collapsed_group_df = collapsed_group.view(pd.DataFrame)\n",
    "        new_cols = [x.split(';')[-1][3:] for x in collapsed_group_df.columns]\n",
    "        collapsed_group_df.columns = new_cols\n",
    "        cols = [x for x in ordered_tax if x in new_cols]\n",
    "        collapsed_group_df = collapsed_group_df[cols]\n",
    "        collapsed_group_df['Group'] = g\n",
    "        melted_df = collapsed_group_df.melt(value_name='Abundance', var_name='Taxonomy', id_vars='Group')\n",
    "        df = pd.concat([df, melted_df], axis=0)\n",
    "    df['Abundance'] = np.log(df['Abundance']+1)\n",
    "    plt.figure(figsize=(15,10))\n",
    "    ax = sns.boxplot(x=df['Taxonomy'], y=df['Abundance'], hue=df['Group'])\n",
    "    ax.set_xticklabels(ax.get_xticklabels(), rotation=90)\n",
    "    ax.set(ylabel='log(# of reads)')\n",
    "    plt.title(f'{level_name} abundances rank by groups.')\n",
    "    plt.tight_layout()\n",
    "    path = os.path.abspath(os.path.join(img_folder, f'boxplot-abundance-rank-{level_name}.svg'))\n",
    "    plt.savefig(path, format='svg')\n",
    "    plt.show()"
   ]
  },
  {
   "cell_type": "code",
   "execution_count": null,
   "id": "4afcb015",
   "metadata": {
    "ExecuteTime": {
     "end_time": "2022-10-03T19:33:50.198627Z",
     "start_time": "2022-10-03T19:33:20.115883Z"
    },
    "papermill": {
     "duration": null,
     "end_time": null,
     "exception": null,
     "start_time": null,
     "status": "pending"
    },
    "scrolled": true,
    "tags": []
   },
   "outputs": [],
   "source": [
    "for i in range(7):\n",
    "    boxplot_rank(tabs, metadata_qa, metatax_qa, groups_values, lvl=i+1, exclude=True, gid=class_col)"
   ]
  }
 ],
 "metadata": {
  "celltoolbar": "Edit Metadata",
  "kernelspec": {
   "display_name": "Python 3 (ipykernel)",
   "language": "python",
   "name": "python3"
  },
  "language_info": {
   "codemirror_mode": {
    "name": "ipython",
    "version": 3
   },
   "file_extension": ".py",
   "mimetype": "text/x-python",
   "name": "python",
   "nbconvert_exporter": "python",
   "pygments_lexer": "ipython3",
   "version": "3.8.12"
  },
  "papermill": {
   "default_parameters": {},
   "duration": 489.366338,
   "end_time": "2022-11-17T22:02:50.545594",
   "environment_variables": {},
   "exception": true,
   "input_path": "nb-templates/step-metataxonomy.ipynb",
   "output_path": "/home/lauro/nupeb/rede-micro/redemicro-thayane/experiments/thayane-PM/nb-executed-steps/step-metataxonomy-thayane-PM.ipynb",
   "parameters": {
    "base_dir": "/home/lauro/nupeb/rede-micro/redemicro-thayane",
    "class_col": "class-straw",
    "classifier_file": "/home/lauro/nupeb/16S_classifiers_qiime2/silva-138-99-nb-classifier.qza",
    "experiment_name": "thayane-PM",
    "manifest_file": "/home/lauro/nupeb/rede-micro/redemicro-thayane/data/manifest.csv",
    "metadata_file": "/home/lauro/nupeb/rede-micro/redemicro-thayane/data/metadata.tsv",
    "overlap": 12,
    "phred": 20,
    "replace_files": false,
    "threads": 6,
    "trunc_f": 0,
    "trunc_r": 0
   },
   "start_time": "2022-11-17T21:54:41.179256",
   "version": "2.3.4"
  },
  "toc-autonumbering": false,
  "toc-showcode": false,
  "toc-showmarkdowntxt": false
 },
 "nbformat": 4,
 "nbformat_minor": 5
}