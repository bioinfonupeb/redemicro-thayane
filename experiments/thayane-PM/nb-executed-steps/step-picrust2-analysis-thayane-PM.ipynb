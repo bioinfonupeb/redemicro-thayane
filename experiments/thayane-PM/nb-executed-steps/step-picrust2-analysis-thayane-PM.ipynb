{
 "cells": [
  {
   "cell_type": "markdown",
   "id": "0e7f2330",
   "metadata": {
    "ExecuteTime": {
     "end_time": "2022-09-22T19:36:33.828188Z",
     "start_time": "2022-09-22T19:36:33.817323Z"
    },
    "papermill": {
     "duration": 0.041838,
     "end_time": "2022-11-18T20:37:08.534964",
     "exception": false,
     "start_time": "2022-11-18T20:37:08.493126",
     "status": "completed"
    },
    "tags": []
   },
   "source": [
    "### STEP : PICRUST2 Analysis\n",
    "\n",
    "\n",
    "\n",
    "#### Example\n",
    "\n",
    "- [PICRUST2 tutorial](https://github.com/picrust/picrust2/wiki/q2-picrust2-Tutorial)\n",
    "- [Limitations](https://github.com/picrust/picrust2/wiki/Key-Limitations)\n",
    "\n",
    "\n",
    "#### Methods\n",
    "- [composition](https://docs.qiime2.org/2022.8/plugins/available/composition/)"
   ]
  },
  {
   "cell_type": "markdown",
   "id": "843debbf",
   "metadata": {
    "papermill": {
     "duration": 0.039197,
     "end_time": "2022-11-18T20:37:08.719548",
     "exception": false,
     "start_time": "2022-11-18T20:37:08.680351",
     "status": "completed"
    },
    "tags": []
   },
   "source": [
    "## Setup and settings"
   ]
  },
  {
   "cell_type": "code",
   "execution_count": 1,
   "id": "965e28e5",
   "metadata": {
    "ExecuteTime": {
     "end_time": "2022-11-09T19:20:47.478806Z",
     "start_time": "2022-11-09T19:20:40.457657Z"
    },
    "execution": {
     "iopub.execute_input": "2022-11-18T20:37:08.856121Z",
     "iopub.status.busy": "2022-11-18T20:37:08.854919Z",
     "iopub.status.idle": "2022-11-18T20:37:25.863602Z",
     "shell.execute_reply": "2022-11-18T20:37:25.862400Z"
    },
    "papermill": {
     "duration": 17.081087,
     "end_time": "2022-11-18T20:37:25.863864",
     "exception": false,
     "start_time": "2022-11-18T20:37:08.782777",
     "status": "completed"
    },
    "tags": []
   },
   "outputs": [],
   "source": [
    "# Importing packages\n",
    "import os\n",
    "import biom\n",
    "import pandas as pd\n",
    "from qiime2 import Artifact\n",
    "from qiime2 import Visualization\n",
    "from qiime2 import Metadata\n",
    "\n",
    "from qiime2.plugins.feature_table.visualizers import summarize\n",
    "\n",
    "from picrust2.pipeline import full_pipeline\n",
    "from picrust2.default import (default_ref_dir, default_tables, default_regroup_map, default_pathway_map)\n",
    "from qiime2.plugins import picrust2\n",
    "\n",
    "%matplotlib inline"
   ]
  },
  {
   "cell_type": "markdown",
   "id": "530ceb60",
   "metadata": {
    "papermill": {
     "duration": 0.029334,
     "end_time": "2022-11-18T20:37:25.928797",
     "exception": false,
     "start_time": "2022-11-18T20:37:25.899463",
     "status": "completed"
    },
    "tags": []
   },
   "source": [
    "### Receiving the parameters\n",
    "\n",
    "The following cell can receive parameters using the [papermill](https://papermill.readthedocs.io/en/latest/) tool."
   ]
  },
  {
   "cell_type": "code",
   "execution_count": 2,
   "id": "18d874ea",
   "metadata": {
    "ExecuteTime": {
     "end_time": "2022-11-09T19:20:47.483140Z",
     "start_time": "2022-11-09T19:20:47.480386Z"
    },
    "execution": {
     "iopub.execute_input": "2022-11-18T20:37:25.991088Z",
     "iopub.status.busy": "2022-11-18T20:37:25.990588Z",
     "iopub.status.idle": "2022-11-18T20:37:25.993351Z",
     "shell.execute_reply": "2022-11-18T20:37:25.993776Z"
    },
    "papermill": {
     "duration": 0.036534,
     "end_time": "2022-11-18T20:37:25.993891",
     "exception": false,
     "start_time": "2022-11-18T20:37:25.957357",
     "status": "completed"
    },
    "tags": [
     "parameters"
    ]
   },
   "outputs": [],
   "source": [
    "metadata_file = '/home/lauro/nupeb/rede-micro/redemicro-miliane-nutri/data/raw/metadata/miliane-metadata-CxAC.tsv'\n",
    "base_dir = os.path.join('/', 'home', 'lauro', 'nupeb', 'rede-micro', 'redemicro-miliane-nutri')\n",
    "experiment_name = 'miliane-CxAC-trim'\n",
    "class_col = 'group-id'\n",
    "replace_files = False"
   ]
  },
  {
   "cell_type": "code",
   "execution_count": 3,
   "id": "37477415",
   "metadata": {
    "execution": {
     "iopub.execute_input": "2022-11-18T20:37:26.058672Z",
     "iopub.status.busy": "2022-11-18T20:37:26.058164Z",
     "iopub.status.idle": "2022-11-18T20:37:26.061096Z",
     "shell.execute_reply": "2022-11-18T20:37:26.061504Z"
    },
    "papermill": {
     "duration": 0.037696,
     "end_time": "2022-11-18T20:37:26.061617",
     "exception": false,
     "start_time": "2022-11-18T20:37:26.023921",
     "status": "completed"
    },
    "tags": [
     "injected-parameters"
    ]
   },
   "outputs": [],
   "source": [
    "# Parameters\n",
    "experiment_name = \"thayane-PM\"\n",
    "base_dir = \"/home/lauro/nupeb/rede-micro/redemicro-thayane\"\n",
    "manifest_file = \"/home/lauro/nupeb/rede-micro/redemicro-thayane/data/manifest.csv\"\n",
    "metadata_file = \"/home/lauro/nupeb/rede-micro/redemicro-thayane/data/metadata.tsv\"\n",
    "class_col = \"class-straw\"\n",
    "classifier_file = (\n",
    "    \"/home/lauro/nupeb/16S_classifiers_qiime2/silva-138-99-nb-classifier.qza\"\n",
    ")\n",
    "replace_files = False\n",
    "phred = 20\n",
    "trunc_f = 0\n",
    "trunc_r = 0\n",
    "overlap = 12\n",
    "threads = 6\n"
   ]
  },
  {
   "cell_type": "code",
   "execution_count": 4,
   "id": "f38617d9",
   "metadata": {
    "ExecuteTime": {
     "end_time": "2022-11-09T19:20:47.515942Z",
     "start_time": "2022-11-09T19:20:47.498345Z"
    },
    "execution": {
     "iopub.execute_input": "2022-11-18T20:37:26.125795Z",
     "iopub.status.busy": "2022-11-18T20:37:26.125280Z",
     "iopub.status.idle": "2022-11-18T20:37:26.128548Z",
     "shell.execute_reply": "2022-11-18T20:37:26.128109Z"
    },
    "papermill": {
     "duration": 0.036463,
     "end_time": "2022-11-18T20:37:26.128648",
     "exception": false,
     "start_time": "2022-11-18T20:37:26.092185",
     "status": "completed"
    },
    "tags": []
   },
   "outputs": [],
   "source": [
    "experiment_folder = os.path.abspath(os.path.join(base_dir, 'experiments', experiment_name))\n",
    "img_folder = os.path.abspath(os.path.join(experiment_folder, 'imgs'))"
   ]
  },
  {
   "cell_type": "markdown",
   "id": "ea9b90fb",
   "metadata": {
    "papermill": {
     "duration": 0.028789,
     "end_time": "2022-11-18T20:37:26.186509",
     "exception": false,
     "start_time": "2022-11-18T20:37:26.157720",
     "status": "completed"
    },
    "tags": []
   },
   "source": [
    "### Defining names, paths and flags"
   ]
  },
  {
   "cell_type": "code",
   "execution_count": 5,
   "id": "45727eef",
   "metadata": {
    "ExecuteTime": {
     "end_time": "2022-11-09T19:20:47.527937Z",
     "start_time": "2022-11-09T19:20:47.517696Z"
    },
    "execution": {
     "iopub.execute_input": "2022-11-18T20:37:26.251234Z",
     "iopub.status.busy": "2022-11-18T20:37:26.250731Z",
     "iopub.status.idle": "2022-11-18T20:37:26.255021Z",
     "shell.execute_reply": "2022-11-18T20:37:26.255430Z"
    },
    "papermill": {
     "duration": 0.040318,
     "end_time": "2022-11-18T20:37:26.255545",
     "exception": false,
     "start_time": "2022-11-18T20:37:26.215227",
     "status": "completed"
    },
    "tags": []
   },
   "outputs": [
    {
     "name": "stdout",
     "output_type": "stream",
     "text": [
      "New picrust2-artifacts folder path created: /home/lauro/nupeb/rede-micro/redemicro-thayane/experiments/thayane-PM/picrust2\n"
     ]
    }
   ],
   "source": [
    "# QIIME2 Artifacts folder\n",
    "qiime_folder = os.path.join(experiment_folder, 'qiime-artifacts')\n",
    "\n",
    "# Input - DADA2 Artifacts\n",
    "dada2_tabs_path = os.path.join(qiime_folder, 'dada2-tabs.qza')\n",
    "dada2_reqs_path = os.path.join(qiime_folder, 'dada2-reps.qza')\n",
    "\n",
    "# PICRUST@ folder\n",
    "picrust2_folder = os.path.abspath(os.path.join(experiment_folder, 'picrust2'))\n",
    "\n",
    "# Create path if it not exist\n",
    "if not os.path.isdir(picrust2_folder):\n",
    "    os.makedirs(picrust2_folder)\n",
    "    print(f'New picrust2-artifacts folder path created: {picrust2_folder}')"
   ]
  },
  {
   "cell_type": "code",
   "execution_count": 6,
   "id": "4903e645",
   "metadata": {
    "ExecuteTime": {
     "end_time": "2022-11-09T19:20:47.539993Z",
     "start_time": "2022-11-09T19:20:47.529653Z"
    },
    "execution": {
     "iopub.execute_input": "2022-11-18T20:37:26.326426Z",
     "iopub.status.busy": "2022-11-18T20:37:26.325921Z",
     "iopub.status.idle": "2022-11-18T20:37:26.328924Z",
     "shell.execute_reply": "2022-11-18T20:37:26.329332Z"
    },
    "papermill": {
     "duration": 0.041438,
     "end_time": "2022-11-18T20:37:26.329445",
     "exception": false,
     "start_time": "2022-11-18T20:37:26.288007",
     "status": "completed"
    },
    "tags": []
   },
   "outputs": [],
   "source": [
    "# Define paths for metagenome function artifacts\n",
    "ec_path = os.path.join(picrust2_folder, 'ec-pred-metagen.qza')\n",
    "ko_path = os.path.join(picrust2_folder, 'ko-pred-metagen.qza')\n",
    "pathway_path = os.path.join(picrust2_folder, 'pathway-abundance.qza')\n",
    "\n",
    "# Define paths for metagenome function visualization artifacts\n",
    "ec_viz_path = ec_path[:-1]+'v'\n",
    "ko_viz_path = ko_path[:-1]+'v'\n",
    "pathway_viz_path = pathway_path[:-1]+'v'\n",
    "\n",
    "# Define paths for biom -> tsv files (function X sample)\n",
    "pathway_fpath = os.path.join(picrust2_folder, 'pathway.tsv')\n",
    "ec_fpath = os.path.join(picrust2_folder, 'ec.tsv')\n",
    "ko_fpath = os.path.join(picrust2_folder, 'ko.tsv')\n",
    "\n",
    "# Define paths for biom -> tsv files (function X sample) - with descriptions\n",
    "pathway_desc_fpath = os.path.join(picrust2_folder, 'pathway-desc.tsv')\n",
    "ec_desc_fpath = os.path.join(picrust2_folder, 'ec-desc.tsv')\n",
    "ko_desc_fpath = os.path.join(picrust2_folder, 'ko-desc.tsv')"
   ]
  },
  {
   "cell_type": "markdown",
   "id": "0999a1b2",
   "metadata": {
    "papermill": {
     "duration": 0.028952,
     "end_time": "2022-11-18T20:37:26.391200",
     "exception": false,
     "start_time": "2022-11-18T20:37:26.362248",
     "status": "completed"
    },
    "tags": []
   },
   "source": [
    "## Step execution\n",
    "\n",
    "### Load input files\n",
    "\n",
    "This Step import the QIIME2 `FeatureTable[Frequency]` Artifact and the `Metadata` file."
   ]
  },
  {
   "cell_type": "code",
   "execution_count": 7,
   "id": "8f299d1a",
   "metadata": {
    "ExecuteTime": {
     "end_time": "2022-11-09T19:20:47.610793Z",
     "start_time": "2022-11-09T19:20:47.541540Z"
    },
    "execution": {
     "iopub.execute_input": "2022-11-18T20:37:26.456481Z",
     "iopub.status.busy": "2022-11-18T20:37:26.455979Z",
     "iopub.status.idle": "2022-11-18T20:37:26.526535Z",
     "shell.execute_reply": "2022-11-18T20:37:26.527124Z"
    },
    "papermill": {
     "duration": 0.105291,
     "end_time": "2022-11-18T20:37:26.527310",
     "exception": false,
     "start_time": "2022-11-18T20:37:26.422019",
     "status": "completed"
    },
    "tags": []
   },
   "outputs": [],
   "source": [
    "#Load Metadata\n",
    "metadata_qa = Metadata.load(metadata_file)\n",
    "\n",
    "#Load FeatureTable[Frequency]\n",
    "tabs = Artifact.load(dada2_tabs_path)\n",
    "\n",
    "#Load FeatureTable[Sequence]\n",
    "seqs = Artifact.load(dada2_reqs_path)"
   ]
  },
  {
   "cell_type": "markdown",
   "id": "4f1b06d4",
   "metadata": {
    "papermill": {
     "duration": 0.029576,
     "end_time": "2022-11-18T20:37:26.589838",
     "exception": false,
     "start_time": "2022-11-18T20:37:26.560262",
     "status": "completed"
    },
    "tags": []
   },
   "source": [
    "### Execute full pipelie\n",
    "\n",
    "The entire PICRUSt2 pipeline will be run using a single method, called `picrust2.methods.full_pipeline`. This method will run each of the 4 key steps: \n",
    "\n",
    "1. sequence placement\n",
    "2. hidden-state prediction of genomes\n",
    "3. metagenome prediction\n",
    "4. pathway-level predictions.\n",
    "\n",
    "More information on [Documentation](https://github.com/picrust/picrust2/wiki/Full-pipeline-script)."
   ]
  },
  {
   "cell_type": "code",
   "execution_count": 8,
   "id": "2c4f3874",
   "metadata": {
    "ExecuteTime": {
     "end_time": "2022-11-09T19:20:47.642417Z",
     "start_time": "2022-11-09T19:20:47.612547Z"
    },
    "execution": {
     "iopub.execute_input": "2022-11-18T20:37:26.653868Z",
     "iopub.status.busy": "2022-11-18T20:37:26.653382Z",
     "iopub.status.idle": "2022-11-18T20:48:07.598452Z",
     "shell.execute_reply": "2022-11-18T20:48:07.599317Z"
    },
    "papermill": {
     "duration": 640.980727,
     "end_time": "2022-11-18T20:48:07.599601",
     "exception": false,
     "start_time": "2022-11-18T20:37:26.618874",
     "status": "completed"
    },
    "scrolled": true,
    "tags": []
   },
   "outputs": [
    {
     "name": "stderr",
     "output_type": "stream",
     "text": [
      "1651 of 1651 sequence ids overlap between input table and FASTA.\n",
      "\n",
      "Placing sequences onto reference tree\n",
      "place_seqs.py --study_fasta /tmp/tmpgxn2juzd/seqs.fna --ref_dir /home/lauro/anaconda3/envs/qiime2-2021.11/lib/python3.8/site-packages/picrust2/default_files/prokaryotic/pro_ref --out_tree /tmp/tmpgxn2juzd/picrust2_out/out.tre --processes 6 --intermediate /tmp/tmpgxn2juzd/picrust2_out/intermediate/place_seqs --min_align 0.8 --chunk_size 5000 --placement_tool sepp --verbose\n"
     ]
    },
    {
     "name": "stdout",
     "output_type": "stream",
     "text": [
      "\n",
      "['run_sepp.py', '--tree', '/home/lauro/anaconda3/envs/qiime2-2021.11/lib/python3.8/site-packages/picrust2/default_files/prokaryotic/pro_ref/pro_ref.tre', '--raxml', '/home/lauro/anaconda3/envs/qiime2-2021.11/lib/python3.8/site-packages/picrust2/default_files/prokaryotic/pro_ref/pro_ref.raxml_info', '--cpu', '6', '--molecule', 'dna', '--outdir', '/tmp/tmpgxn2juzd/picrust2_out/intermediate/place_seqs/sepp_out', '-seed', '297834', '--alignment', '/home/lauro/anaconda3/envs/qiime2-2021.11/lib/python3.8/site-packages/picrust2/default_files/prokaryotic/pro_ref/pro_ref.fna', '--fragment', '/tmp/tmpgxn2juzd/picrust2_out/intermediate/place_seqs/study_seqs_filtered.fasta']\n",
      "\n",
      "                                              ....      ....  \n",
      "                                             '' '||.   .||'   \n",
      "                                                  ||  ||      \n",
      "                                                  '|.|'       \n",
      "     ...'   ....   ... ...  ... ...   ....        .|'|.       \n",
      "    |  ||  '' .||   ||'  ||  ||'  || '' .||      .|'  ||      \n",
      "     |''   .|' ||   ||    |  ||    | .|' ||     .|'|.  ||     \n",
      "    '....  '|..'|'. ||...'   ||...'  '|..'|.    '||'    ||:.  \n",
      "    '....'          ||       ||                               \n",
      "                   ''''     ''''   v0.6.1 (c) 2017-2020\n",
      "                                   by Lucas Czech and Pierre Barbera\n",
      "\n",
      "Invocation:                        gappa examine graft --jplace-path /tmp/tmpgxn2juzd/picrust2_out/intermediate/place_seqs/sepp_out/output_placement.json --fully-resolve --out-dir /tmp/tmpgxn2juzd/picrust2_out/intermediate/place_seqs/sepp_out\n",
      "Command:                           gappa examine graft\n",
      "\n",
      "Input:\n",
      "  --jplace-path                    /tmp/tmpgxn2juzd/picrust2_out/intermediate/place_seqs/sepp_out/output_placement.json\n",
      "\n",
      "Settings:\n",
      "  --fully-resolve                  true\n",
      "  --name-prefix\n",
      "\n",
      "Output:\n",
      "  --out-dir                        /tmp/tmpgxn2juzd/picrust2_out/intermediate/place_seqs/sepp_out\n",
      "  --file-prefix                    \n",
      "  --file-suffix\n",
      "\n",
      "Global Options:\n",
      "  --allow-file-overwriting         false\n",
      "  --verbose                        false\n",
      "  --threads                        4\n",
      "  --log-file\n",
      "\n",
      "Run the following command to get the references that need to be cited:\n",
      "`gappa tools citation Czech2020-genesis-and-gappa`\n",
      "\n",
      "Started 2022-11-18 20:42:29\n",
      "\n",
      "Found 1 jplace file\n",
      "\n",
      "Finished 2022-11-18 20:42:30\n",
      "\n",
      "\n"
     ]
    },
    {
     "name": "stderr",
     "output_type": "stream",
     "text": [
      "hmmalign --trim --dna --mapali /home/lauro/anaconda3/envs/qiime2-2021.11/lib/python3.8/site-packages/picrust2/default_files/prokaryotic/pro_ref/pro_ref.fna --informat FASTA -o /tmp/tmpgxn2juzd/picrust2_out/intermediate/place_seqs/query_align.stockholm /home/lauro/anaconda3/envs/qiime2-2021.11/lib/python3.8/site-packages/picrust2/default_files/prokaryotic/pro_ref/pro_ref.hmm /tmp/tmpgxn2juzd/seqs.fna\n",
      "\n",
      "Warning - 1 input sequences aligned poorly to reference sequences (--min_align option specified a minimum proportion of 0.8 aligning to reference sequences). These input sequences will not be placed and will be excluded from downstream steps.\n",
      "\n",
      "This is the set of poorly aligned input sequences to be excluded: 26b3125f662556104e9d7acf2bed5345\n",
      "\n",
      "Raw input sequences ranged in length from 24 to 453\n",
      "\n",
      "run_sepp.py --tree /home/lauro/anaconda3/envs/qiime2-2021.11/lib/python3.8/site-packages/picrust2/default_files/prokaryotic/pro_ref/pro_ref.tre --raxml /home/lauro/anaconda3/envs/qiime2-2021.11/lib/python3.8/site-packages/picrust2/default_files/prokaryotic/pro_ref/pro_ref.raxml_info --cpu 6 --molecule dna --outdir /tmp/tmpgxn2juzd/picrust2_out/intermediate/place_seqs/sepp_out -seed 297834 --alignment /home/lauro/anaconda3/envs/qiime2-2021.11/lib/python3.8/site-packages/picrust2/default_files/prokaryotic/pro_ref/pro_ref.fna --fragment /tmp/tmpgxn2juzd/picrust2_out/intermediate/place_seqs/study_seqs_filtered.fasta\n",
      "[20:38:31] config.py (line 349):     INFO: Seed number: 297834\n",
      "[20:38:31] algorithm.py (line 258):     INFO: Reading input alignment: <_io.TextIOWrapper name='/home/lauro/anaconda3/envs/qiime2-2021.11/lib/python3.8/site-packages/picrust2/default_files/prokaryotic/pro_ref/pro_ref.fna' mode='r' encoding='UTF-8'>\n",
      "[20:38:31] algorithm.py (line 265):     INFO: Reading input tree: <_io.TextIOWrapper name='/home/lauro/anaconda3/envs/qiime2-2021.11/lib/python3.8/site-packages/picrust2/default_files/prokaryotic/pro_ref/pro_ref.tre' mode='r' encoding='UTF-8'>\n",
      "[20:38:33] algorithm.py (line 238):     INFO: Decomposition Sizes are set to alignment: 2000 placement: 2000\n",
      "[20:38:35] exhaustive.py (line 350):     INFO: Breaking into 16 placement subsets.\n",
      "[20:38:37] exhaustive.py (line 397):     INFO: Breaking into 16 alignment subsets.\n",
      "[20:38:37] filemgr.py (line 129):     INFO: Root temp directory built: /tmp/sepp/output.fx6t9lgm\n",
      "[20:38:37] exhaustive.py (line 412):     INFO: Breaking each alignment subset into 3 fragment chunks.\n",
      "[20:38:38] jobs.py (line 131):     INFO: Finished hmmbuild Job with input: /tmp/sepp/output.fx6t9lgm/root/P_5/A_5_0/hmmbuild.input.4ei32_vs.fasta\n",
      "[20:38:39] jobs.py (line 131):     INFO: Finished hmmbuild Job with input: /tmp/sepp/output.fx6t9lgm/root/P_3/A_3_0/hmmbuild.input.qn2piw3l.fasta\n",
      "[20:38:39] jobs.py (line 131):     INFO: Finished hmmbuild Job with input: /tmp/sepp/output.fx6t9lgm/root/P_4/A_4_0/hmmbuild.input.x6z9y99f.fasta\n",
      "[20:38:39] jobs.py (line 131):     INFO: Finished hmmbuild Job with input: /tmp/sepp/output.fx6t9lgm/root/P_2/A_2_0/hmmbuild.input.3fjt90gc.fasta\n",
      "[20:38:39] jobs.py (line 131):     INFO: Finished hmmbuild Job with input: /tmp/sepp/output.fx6t9lgm/root/P_1/A_1_0/hmmbuild.input.i3l59dia.fasta\n",
      "[20:38:39] jobs.py (line 131):     INFO: Finished hmmbuild Job with input: /tmp/sepp/output.fx6t9lgm/root/P_0/A_0_0/hmmbuild.input.kequre33.fasta\n",
      "[20:38:39] jobs.py (line 131):     INFO: Finished hmmbuild Job with input: /tmp/sepp/output.fx6t9lgm/root/P_6/A_6_0/hmmbuild.input.s_aazrpe.fasta\n",
      "[20:38:39] jobs.py (line 131):     INFO: Finished hmmbuild Job with input: /tmp/sepp/output.fx6t9lgm/root/P_10/A_10_0/hmmbuild.input.icntr5qe.fasta\n",
      "[20:38:39] jobs.py (line 131):     INFO: Finished hmmbuild Job with input: /tmp/sepp/output.fx6t9lgm/root/P_11/A_11_0/hmmbuild.input.vt_j8wbk.fasta\n",
      "[20:38:39] jobs.py (line 131):     INFO: Finished hmmbuild Job with input: /tmp/sepp/output.fx6t9lgm/root/P_7/A_7_0/hmmbuild.input.us231yrq.fasta\n",
      "[20:38:40] jobs.py (line 131):     INFO: Finished hmmbuild Job with input: /tmp/sepp/output.fx6t9lgm/root/P_9/A_9_0/hmmbuild.input.k8ddk7pn.fasta\n",
      "[20:38:40] jobs.py (line 131):     INFO: Finished hmmbuild Job with input: /tmp/sepp/output.fx6t9lgm/root/P_8/A_8_0/hmmbuild.input.hof8f840.fasta\n",
      "[20:38:40] jobs.py (line 131):     INFO: Finished hmmbuild Job with input: /tmp/sepp/output.fx6t9lgm/root/P_14/A_14_0/hmmbuild.input.ki02cjw7.fasta\n",
      "[20:38:40] jobs.py (line 131):     INFO: Finished hmmbuild Job with input: /tmp/sepp/output.fx6t9lgm/root/P_15/A_15_0/hmmbuild.input.hlvo333g.fasta\n",
      "[20:38:40] jobs.py (line 131):     INFO: Finished hmmbuild Job with input: /tmp/sepp/output.fx6t9lgm/root/P_13/A_13_0/hmmbuild.input.1zg77qgo.fasta\n",
      "[20:38:40] jobs.py (line 131):     INFO: Finished hmmbuild Job with input: /tmp/sepp/output.fx6t9lgm/root/P_12/A_12_0/hmmbuild.input.zr97zmh2.fasta\n",
      "[20:38:47] jobs.py (line 131):     INFO: Finished hmmsearch Job with input: model:/tmp/sepp/output.fx6t9lgm/root/P_5/A_5_0/hmmbuild.model.hwtc5tfz, fragments:/tmp/sepp/output.fx6t9lgm/fragment_chunks/fragment_chunk_14c78hz2r.fasta, elim:99999999, filter:False, output:/tmp/sepp/output.fx6t9lgm/root/P_5/A_5_0/FC_5_0_1/hmmsearch.results.euk67d4m\n",
      "[20:38:48] jobs.py (line 131):     INFO: Finished hmmsearch Job with input: model:/tmp/sepp/output.fx6t9lgm/root/P_5/A_5_0/hmmbuild.model.hwtc5tfz, fragments:/tmp/sepp/output.fx6t9lgm/fragment_chunks/fragment_chunk_2rgsi6z7y.fasta, elim:99999999, filter:False, output:/tmp/sepp/output.fx6t9lgm/root/P_5/A_5_0/FC_5_0_2/hmmsearch.results.79k470u5\n",
      "[20:38:51] jobs.py (line 131):     INFO: Finished hmmsearch Job with input: model:/tmp/sepp/output.fx6t9lgm/root/P_3/A_3_0/hmmbuild.model.qwot2i_i, fragments:/tmp/sepp/output.fx6t9lgm/fragment_chunks/fragment_chunk_0tdn0iqbq.fasta, elim:99999999, filter:False, output:/tmp/sepp/output.fx6t9lgm/root/P_3/A_3_0/FC_3_0_0/hmmsearch.results.5axnbcxw\n",
      "[20:38:52] jobs.py (line 131):     INFO: Finished hmmsearch Job with input: model:/tmp/sepp/output.fx6t9lgm/root/P_5/A_5_0/hmmbuild.model.hwtc5tfz, fragments:/tmp/sepp/output.fx6t9lgm/fragment_chunks/fragment_chunk_0tdn0iqbq.fasta, elim:99999999, filter:False, output:/tmp/sepp/output.fx6t9lgm/root/P_5/A_5_0/FC_5_0_0/hmmsearch.results._cquujdz\n",
      "[20:38:53] jobs.py (line 131):     INFO: Finished hmmsearch Job with input: model:/tmp/sepp/output.fx6t9lgm/root/P_3/A_3_0/hmmbuild.model.qwot2i_i, fragments:/tmp/sepp/output.fx6t9lgm/fragment_chunks/fragment_chunk_14c78hz2r.fasta, elim:99999999, filter:False, output:/tmp/sepp/output.fx6t9lgm/root/P_3/A_3_0/FC_3_0_1/hmmsearch.results.cpqj1tba\n",
      "[20:38:53] jobs.py (line 131):     INFO: Finished hmmsearch Job with input: model:/tmp/sepp/output.fx6t9lgm/root/P_3/A_3_0/hmmbuild.model.qwot2i_i, fragments:/tmp/sepp/output.fx6t9lgm/fragment_chunks/fragment_chunk_2rgsi6z7y.fasta, elim:99999999, filter:False, output:/tmp/sepp/output.fx6t9lgm/root/P_3/A_3_0/FC_3_0_2/hmmsearch.results.7e78_g9i\n",
      "[20:38:56] jobs.py (line 131):     INFO: Finished hmmsearch Job with input: model:/tmp/sepp/output.fx6t9lgm/root/P_4/A_4_0/hmmbuild.model.n_dyz9ns, fragments:/tmp/sepp/output.fx6t9lgm/fragment_chunks/fragment_chunk_0tdn0iqbq.fasta, elim:99999999, filter:False, output:/tmp/sepp/output.fx6t9lgm/root/P_4/A_4_0/FC_4_0_0/hmmsearch.results.q6tfgdad\n",
      "[20:38:58] jobs.py (line 131):     INFO: Finished hmmsearch Job with input: model:/tmp/sepp/output.fx6t9lgm/root/P_4/A_4_0/hmmbuild.model.n_dyz9ns, fragments:/tmp/sepp/output.fx6t9lgm/fragment_chunks/fragment_chunk_14c78hz2r.fasta, elim:99999999, filter:False, output:/tmp/sepp/output.fx6t9lgm/root/P_4/A_4_0/FC_4_0_1/hmmsearch.results.dwx9tt9y\n",
      "[20:39:00] jobs.py (line 131):     INFO: Finished hmmsearch Job with input: model:/tmp/sepp/output.fx6t9lgm/root/P_2/A_2_0/hmmbuild.model.8_oz6kkc, fragments:/tmp/sepp/output.fx6t9lgm/fragment_chunks/fragment_chunk_14c78hz2r.fasta, elim:99999999, filter:False, output:/tmp/sepp/output.fx6t9lgm/root/P_2/A_2_0/FC_2_0_1/hmmsearch.results.3pwpybdu\n",
      "[20:39:01] jobs.py (line 131):     INFO: Finished hmmsearch Job with input: model:/tmp/sepp/output.fx6t9lgm/root/P_4/A_4_0/hmmbuild.model.n_dyz9ns, fragments:/tmp/sepp/output.fx6t9lgm/fragment_chunks/fragment_chunk_2rgsi6z7y.fasta, elim:99999999, filter:False, output:/tmp/sepp/output.fx6t9lgm/root/P_4/A_4_0/FC_4_0_2/hmmsearch.results.ljht1eet\n",
      "[20:39:02] jobs.py (line 131):     INFO: Finished hmmsearch Job with input: model:/tmp/sepp/output.fx6t9lgm/root/P_2/A_2_0/hmmbuild.model.8_oz6kkc, fragments:/tmp/sepp/output.fx6t9lgm/fragment_chunks/fragment_chunk_2rgsi6z7y.fasta, elim:99999999, filter:False, output:/tmp/sepp/output.fx6t9lgm/root/P_2/A_2_0/FC_2_0_2/hmmsearch.results.r6qjekfd\n",
      "[20:39:04] jobs.py (line 131):     INFO: Finished hmmsearch Job with input: model:/tmp/sepp/output.fx6t9lgm/root/P_2/A_2_0/hmmbuild.model.8_oz6kkc, fragments:/tmp/sepp/output.fx6t9lgm/fragment_chunks/fragment_chunk_0tdn0iqbq.fasta, elim:99999999, filter:False, output:/tmp/sepp/output.fx6t9lgm/root/P_2/A_2_0/FC_2_0_0/hmmsearch.results.zyz6zjam\n",
      "[20:39:06] jobs.py (line 131):     INFO: Finished hmmsearch Job with input: model:/tmp/sepp/output.fx6t9lgm/root/P_1/A_1_0/hmmbuild.model.af9jf_7l, fragments:/tmp/sepp/output.fx6t9lgm/fragment_chunks/fragment_chunk_0tdn0iqbq.fasta, elim:99999999, filter:False, output:/tmp/sepp/output.fx6t9lgm/root/P_1/A_1_0/FC_1_0_0/hmmsearch.results.74q5umtz\n",
      "[20:39:08] jobs.py (line 131):     INFO: Finished hmmsearch Job with input: model:/tmp/sepp/output.fx6t9lgm/root/P_1/A_1_0/hmmbuild.model.af9jf_7l, fragments:/tmp/sepp/output.fx6t9lgm/fragment_chunks/fragment_chunk_14c78hz2r.fasta, elim:99999999, filter:False, output:/tmp/sepp/output.fx6t9lgm/root/P_1/A_1_0/FC_1_0_1/hmmsearch.results.hd7qxtkh\n",
      "[20:39:11] jobs.py (line 131):     INFO: Finished hmmsearch Job with input: model:/tmp/sepp/output.fx6t9lgm/root/P_0/A_0_0/hmmbuild.model.z4hlx2o1, fragments:/tmp/sepp/output.fx6t9lgm/fragment_chunks/fragment_chunk_0tdn0iqbq.fasta, elim:99999999, filter:False, output:/tmp/sepp/output.fx6t9lgm/root/P_0/A_0_0/FC_0_0_0/hmmsearch.results.m76h804f\n",
      "[20:39:12] jobs.py (line 131):     INFO: Finished hmmsearch Job with input: model:/tmp/sepp/output.fx6t9lgm/root/P_1/A_1_0/hmmbuild.model.af9jf_7l, fragments:/tmp/sepp/output.fx6t9lgm/fragment_chunks/fragment_chunk_2rgsi6z7y.fasta, elim:99999999, filter:False, output:/tmp/sepp/output.fx6t9lgm/root/P_1/A_1_0/FC_1_0_2/hmmsearch.results.d81sdzyj\n",
      "[20:39:14] jobs.py (line 131):     INFO: Finished hmmsearch Job with input: model:/tmp/sepp/output.fx6t9lgm/root/P_0/A_0_0/hmmbuild.model.z4hlx2o1, fragments:/tmp/sepp/output.fx6t9lgm/fragment_chunks/fragment_chunk_14c78hz2r.fasta, elim:99999999, filter:False, output:/tmp/sepp/output.fx6t9lgm/root/P_0/A_0_0/FC_0_0_1/hmmsearch.results.jinibti8\n",
      "[20:39:14] jobs.py (line 131):     INFO: Finished hmmsearch Job with input: model:/tmp/sepp/output.fx6t9lgm/root/P_0/A_0_0/hmmbuild.model.z4hlx2o1, fragments:/tmp/sepp/output.fx6t9lgm/fragment_chunks/fragment_chunk_2rgsi6z7y.fasta, elim:99999999, filter:False, output:/tmp/sepp/output.fx6t9lgm/root/P_0/A_0_0/FC_0_0_2/hmmsearch.results.48s5w8nk\n",
      "[20:39:16] jobs.py (line 131):     INFO: Finished hmmsearch Job with input: model:/tmp/sepp/output.fx6t9lgm/root/P_6/A_6_0/hmmbuild.model.y45k3rc_, fragments:/tmp/sepp/output.fx6t9lgm/fragment_chunks/fragment_chunk_0tdn0iqbq.fasta, elim:99999999, filter:False, output:/tmp/sepp/output.fx6t9lgm/root/P_6/A_6_0/FC_6_0_0/hmmsearch.results.ioiofed3\n",
      "[20:39:18] jobs.py (line 131):     INFO: Finished hmmsearch Job with input: model:/tmp/sepp/output.fx6t9lgm/root/P_6/A_6_0/hmmbuild.model.y45k3rc_, fragments:/tmp/sepp/output.fx6t9lgm/fragment_chunks/fragment_chunk_14c78hz2r.fasta, elim:99999999, filter:False, output:/tmp/sepp/output.fx6t9lgm/root/P_6/A_6_0/FC_6_0_1/hmmsearch.results.itxbuw54\n",
      "[20:39:21] jobs.py (line 131):     INFO: Finished hmmsearch Job with input: model:/tmp/sepp/output.fx6t9lgm/root/P_6/A_6_0/hmmbuild.model.y45k3rc_, fragments:/tmp/sepp/output.fx6t9lgm/fragment_chunks/fragment_chunk_2rgsi6z7y.fasta, elim:99999999, filter:False, output:/tmp/sepp/output.fx6t9lgm/root/P_6/A_6_0/FC_6_0_2/hmmsearch.results.__r1738b\n",
      "[20:39:21] jobs.py (line 131):     INFO: Finished hmmsearch Job with input: model:/tmp/sepp/output.fx6t9lgm/root/P_10/A_10_0/hmmbuild.model.jv37i8k7, fragments:/tmp/sepp/output.fx6t9lgm/fragment_chunks/fragment_chunk_0tdn0iqbq.fasta, elim:99999999, filter:False, output:/tmp/sepp/output.fx6t9lgm/root/P_10/A_10_0/FC_10_0_0/hmmsearch.results.9ydr2g2_\n",
      "[20:39:24] jobs.py (line 131):     INFO: Finished hmmsearch Job with input: model:/tmp/sepp/output.fx6t9lgm/root/P_10/A_10_0/hmmbuild.model.jv37i8k7, fragments:/tmp/sepp/output.fx6t9lgm/fragment_chunks/fragment_chunk_14c78hz2r.fasta, elim:99999999, filter:False, output:/tmp/sepp/output.fx6t9lgm/root/P_10/A_10_0/FC_10_0_1/hmmsearch.results._pu6c7pr\n",
      "[20:39:25] jobs.py (line 131):     INFO: Finished hmmsearch Job with input: model:/tmp/sepp/output.fx6t9lgm/root/P_10/A_10_0/hmmbuild.model.jv37i8k7, fragments:/tmp/sepp/output.fx6t9lgm/fragment_chunks/fragment_chunk_2rgsi6z7y.fasta, elim:99999999, filter:False, output:/tmp/sepp/output.fx6t9lgm/root/P_10/A_10_0/FC_10_0_2/hmmsearch.results.fsqt0ufb\n",
      "[20:39:27] jobs.py (line 131):     INFO: Finished hmmsearch Job with input: model:/tmp/sepp/output.fx6t9lgm/root/P_11/A_11_0/hmmbuild.model.v_povfpa, fragments:/tmp/sepp/output.fx6t9lgm/fragment_chunks/fragment_chunk_0tdn0iqbq.fasta, elim:99999999, filter:False, output:/tmp/sepp/output.fx6t9lgm/root/P_11/A_11_0/FC_11_0_0/hmmsearch.results.d1zwv9bv\n",
      "[20:39:29] jobs.py (line 131):     INFO: Finished hmmsearch Job with input: model:/tmp/sepp/output.fx6t9lgm/root/P_11/A_11_0/hmmbuild.model.v_povfpa, fragments:/tmp/sepp/output.fx6t9lgm/fragment_chunks/fragment_chunk_14c78hz2r.fasta, elim:99999999, filter:False, output:/tmp/sepp/output.fx6t9lgm/root/P_11/A_11_0/FC_11_0_1/hmmsearch.results.xziw_syv\n",
      "[20:39:32] jobs.py (line 131):     INFO: Finished hmmsearch Job with input: model:/tmp/sepp/output.fx6t9lgm/root/P_11/A_11_0/hmmbuild.model.v_povfpa, fragments:/tmp/sepp/output.fx6t9lgm/fragment_chunks/fragment_chunk_2rgsi6z7y.fasta, elim:99999999, filter:False, output:/tmp/sepp/output.fx6t9lgm/root/P_11/A_11_0/FC_11_0_2/hmmsearch.results.f8u1ev06\n",
      "[20:39:32] jobs.py (line 131):     INFO: Finished hmmsearch Job with input: model:/tmp/sepp/output.fx6t9lgm/root/P_7/A_7_0/hmmbuild.model.8bzhmdq2, fragments:/tmp/sepp/output.fx6t9lgm/fragment_chunks/fragment_chunk_0tdn0iqbq.fasta, elim:99999999, filter:False, output:/tmp/sepp/output.fx6t9lgm/root/P_7/A_7_0/FC_7_0_0/hmmsearch.results.3kkm21px\n",
      "[20:39:34] jobs.py (line 131):     INFO: Finished hmmsearch Job with input: model:/tmp/sepp/output.fx6t9lgm/root/P_7/A_7_0/hmmbuild.model.8bzhmdq2, fragments:/tmp/sepp/output.fx6t9lgm/fragment_chunks/fragment_chunk_2rgsi6z7y.fasta, elim:99999999, filter:False, output:/tmp/sepp/output.fx6t9lgm/root/P_7/A_7_0/FC_7_0_2/hmmsearch.results.y0lky2g3\n",
      "[20:39:35] jobs.py (line 131):     INFO: Finished hmmsearch Job with input: model:/tmp/sepp/output.fx6t9lgm/root/P_7/A_7_0/hmmbuild.model.8bzhmdq2, fragments:/tmp/sepp/output.fx6t9lgm/fragment_chunks/fragment_chunk_14c78hz2r.fasta, elim:99999999, filter:False, output:/tmp/sepp/output.fx6t9lgm/root/P_7/A_7_0/FC_7_0_1/hmmsearch.results.ij6r1cvp\n",
      "[20:39:37] jobs.py (line 131):     INFO: Finished hmmsearch Job with input: model:/tmp/sepp/output.fx6t9lgm/root/P_9/A_9_0/hmmbuild.model.svw_s8zv, fragments:/tmp/sepp/output.fx6t9lgm/fragment_chunks/fragment_chunk_0tdn0iqbq.fasta, elim:99999999, filter:False, output:/tmp/sepp/output.fx6t9lgm/root/P_9/A_9_0/FC_9_0_0/hmmsearch.results.u1b2yi3u\n",
      "[20:39:40] jobs.py (line 131):     INFO: Finished hmmsearch Job with input: model:/tmp/sepp/output.fx6t9lgm/root/P_9/A_9_0/hmmbuild.model.svw_s8zv, fragments:/tmp/sepp/output.fx6t9lgm/fragment_chunks/fragment_chunk_14c78hz2r.fasta, elim:99999999, filter:False, output:/tmp/sepp/output.fx6t9lgm/root/P_9/A_9_0/FC_9_0_1/hmmsearch.results.tuj6dw3k\n",
      "[20:39:40] jobs.py (line 131):     INFO: Finished hmmsearch Job with input: model:/tmp/sepp/output.fx6t9lgm/root/P_8/A_8_0/hmmbuild.model.q1bg9uar, fragments:/tmp/sepp/output.fx6t9lgm/fragment_chunks/fragment_chunk_0tdn0iqbq.fasta, elim:99999999, filter:False, output:/tmp/sepp/output.fx6t9lgm/root/P_8/A_8_0/FC_8_0_0/hmmsearch.results.dbza5avz\n",
      "[20:39:44] jobs.py (line 131):     INFO: Finished hmmsearch Job with input: model:/tmp/sepp/output.fx6t9lgm/root/P_8/A_8_0/hmmbuild.model.q1bg9uar, fragments:/tmp/sepp/output.fx6t9lgm/fragment_chunks/fragment_chunk_14c78hz2r.fasta, elim:99999999, filter:False, output:/tmp/sepp/output.fx6t9lgm/root/P_8/A_8_0/FC_8_0_1/hmmsearch.results.a8af2zsv\n",
      "[20:39:44] jobs.py (line 131):     INFO: Finished hmmsearch Job with input: model:/tmp/sepp/output.fx6t9lgm/root/P_9/A_9_0/hmmbuild.model.svw_s8zv, fragments:/tmp/sepp/output.fx6t9lgm/fragment_chunks/fragment_chunk_2rgsi6z7y.fasta, elim:99999999, filter:False, output:/tmp/sepp/output.fx6t9lgm/root/P_9/A_9_0/FC_9_0_2/hmmsearch.results.7312_tra\n",
      "[20:39:46] jobs.py (line 131):     INFO: Finished hmmsearch Job with input: model:/tmp/sepp/output.fx6t9lgm/root/P_8/A_8_0/hmmbuild.model.q1bg9uar, fragments:/tmp/sepp/output.fx6t9lgm/fragment_chunks/fragment_chunk_2rgsi6z7y.fasta, elim:99999999, filter:False, output:/tmp/sepp/output.fx6t9lgm/root/P_8/A_8_0/FC_8_0_2/hmmsearch.results.t4hye9kr\n",
      "[20:39:47] jobs.py (line 131):     INFO: Finished hmmsearch Job with input: model:/tmp/sepp/output.fx6t9lgm/root/P_14/A_14_0/hmmbuild.model.09f21hk_, fragments:/tmp/sepp/output.fx6t9lgm/fragment_chunks/fragment_chunk_0tdn0iqbq.fasta, elim:99999999, filter:False, output:/tmp/sepp/output.fx6t9lgm/root/P_14/A_14_0/FC_14_0_0/hmmsearch.results.061_uo5n\n",
      "[20:39:49] jobs.py (line 131):     INFO: Finished hmmsearch Job with input: model:/tmp/sepp/output.fx6t9lgm/root/P_14/A_14_0/hmmbuild.model.09f21hk_, fragments:/tmp/sepp/output.fx6t9lgm/fragment_chunks/fragment_chunk_2rgsi6z7y.fasta, elim:99999999, filter:False, output:/tmp/sepp/output.fx6t9lgm/root/P_14/A_14_0/FC_14_0_2/hmmsearch.results.q8lw3k9s\n",
      "[20:39:50] jobs.py (line 131):     INFO: Finished hmmsearch Job with input: model:/tmp/sepp/output.fx6t9lgm/root/P_14/A_14_0/hmmbuild.model.09f21hk_, fragments:/tmp/sepp/output.fx6t9lgm/fragment_chunks/fragment_chunk_14c78hz2r.fasta, elim:99999999, filter:False, output:/tmp/sepp/output.fx6t9lgm/root/P_14/A_14_0/FC_14_0_1/hmmsearch.results.5ty1jkc9\n",
      "[20:39:54] jobs.py (line 131):     INFO: Finished hmmsearch Job with input: model:/tmp/sepp/output.fx6t9lgm/root/P_15/A_15_0/hmmbuild.model.s37dg8cl, fragments:/tmp/sepp/output.fx6t9lgm/fragment_chunks/fragment_chunk_0tdn0iqbq.fasta, elim:99999999, filter:False, output:/tmp/sepp/output.fx6t9lgm/root/P_15/A_15_0/FC_15_0_0/hmmsearch.results.ekjfoecb\n",
      "[20:39:54] jobs.py (line 131):     INFO: Finished hmmsearch Job with input: model:/tmp/sepp/output.fx6t9lgm/root/P_15/A_15_0/hmmbuild.model.s37dg8cl, fragments:/tmp/sepp/output.fx6t9lgm/fragment_chunks/fragment_chunk_14c78hz2r.fasta, elim:99999999, filter:False, output:/tmp/sepp/output.fx6t9lgm/root/P_15/A_15_0/FC_15_0_1/hmmsearch.results.bjbul9dq\n",
      "[20:39:57] jobs.py (line 131):     INFO: Finished hmmsearch Job with input: model:/tmp/sepp/output.fx6t9lgm/root/P_13/A_13_0/hmmbuild.model.5g0v4sgk, fragments:/tmp/sepp/output.fx6t9lgm/fragment_chunks/fragment_chunk_14c78hz2r.fasta, elim:99999999, filter:False, output:/tmp/sepp/output.fx6t9lgm/root/P_13/A_13_0/FC_13_0_1/hmmsearch.results.7i9bsus4\n",
      "[20:39:58] jobs.py (line 131):     INFO: Finished hmmsearch Job with input: model:/tmp/sepp/output.fx6t9lgm/root/P_15/A_15_0/hmmbuild.model.s37dg8cl, fragments:/tmp/sepp/output.fx6t9lgm/fragment_chunks/fragment_chunk_2rgsi6z7y.fasta, elim:99999999, filter:False, output:/tmp/sepp/output.fx6t9lgm/root/P_15/A_15_0/FC_15_0_2/hmmsearch.results.zo2vhwwr\n",
      "[20:39:58] jobs.py (line 131):     INFO: Finished hmmsearch Job with input: model:/tmp/sepp/output.fx6t9lgm/root/P_13/A_13_0/hmmbuild.model.5g0v4sgk, fragments:/tmp/sepp/output.fx6t9lgm/fragment_chunks/fragment_chunk_0tdn0iqbq.fasta, elim:99999999, filter:False, output:/tmp/sepp/output.fx6t9lgm/root/P_13/A_13_0/FC_13_0_0/hmmsearch.results.wik6m_8z\n",
      "[20:40:01] jobs.py (line 131):     INFO: Finished hmmsearch Job with input: model:/tmp/sepp/output.fx6t9lgm/root/P_13/A_13_0/hmmbuild.model.5g0v4sgk, fragments:/tmp/sepp/output.fx6t9lgm/fragment_chunks/fragment_chunk_2rgsi6z7y.fasta, elim:99999999, filter:False, output:/tmp/sepp/output.fx6t9lgm/root/P_13/A_13_0/FC_13_0_2/hmmsearch.results.p_pwah7m\n",
      "[20:40:02] jobs.py (line 131):     INFO: Finished hmmsearch Job with input: model:/tmp/sepp/output.fx6t9lgm/root/P_12/A_12_0/hmmbuild.model.z8bpuwsq, fragments:/tmp/sepp/output.fx6t9lgm/fragment_chunks/fragment_chunk_0tdn0iqbq.fasta, elim:99999999, filter:False, output:/tmp/sepp/output.fx6t9lgm/root/P_12/A_12_0/FC_12_0_0/hmmsearch.results.ufu5vvmh\n",
      "[20:40:03] jobs.py (line 131):     INFO: Finished hmmsearch Job with input: model:/tmp/sepp/output.fx6t9lgm/root/P_12/A_12_0/hmmbuild.model.z8bpuwsq, fragments:/tmp/sepp/output.fx6t9lgm/fragment_chunks/fragment_chunk_14c78hz2r.fasta, elim:99999999, filter:False, output:/tmp/sepp/output.fx6t9lgm/root/P_12/A_12_0/FC_12_0_1/hmmsearch.results.x77urdk1\n",
      "[20:40:04] jobs.py (line 131):     INFO: Finished hmmsearch Job with input: model:/tmp/sepp/output.fx6t9lgm/root/P_12/A_12_0/hmmbuild.model.z8bpuwsq, fragments:/tmp/sepp/output.fx6t9lgm/fragment_chunks/fragment_chunk_2rgsi6z7y.fasta, elim:99999999, filter:False, output:/tmp/sepp/output.fx6t9lgm/root/P_12/A_12_0/FC_12_0_2/hmmsearch.results.zvcq2sp2\n",
      "[20:40:05] exhaustive.py (line 80):  WARNING: Fragments [] are not scored against any subset\n",
      "[20:40:05] jobs.py (line 131):     INFO: Finished hmmalign Job with input: model:/tmp/sepp/output.fx6t9lgm/root/P_1/A_1_0/hmmbuild.model.af9jf_7l, fragments:/tmp/sepp/output.fx6t9lgm/root/P_1/A_1_0/FC_1_0_0/hmmalign.frag.obi8c960.fasta, trim:False, base_alignment:/tmp/sepp/output.fx6t9lgm/root/P_1/A_1_0/hmmbuild.input.i3l59dia.fasta\n",
      "[20:40:05] jobs.py (line 131):     INFO: Finished hmmalign Job with input: model:/tmp/sepp/output.fx6t9lgm/root/P_1/A_1_0/hmmbuild.model.af9jf_7l, fragments:/tmp/sepp/output.fx6t9lgm/root/P_1/A_1_0/FC_1_0_1/hmmalign.frag.io9sad62.fasta, trim:False, base_alignment:/tmp/sepp/output.fx6t9lgm/root/P_1/A_1_0/hmmbuild.input.i3l59dia.fasta\n",
      "[20:40:05] exhaustive.py (line 151):     INFO: Merging sub-alignments for placement problem : P_1.\n",
      "[20:40:05] alignment.py (line 556):     INFO: Merging extension sto file (/tmp/sepp/output.fx6t9lgm/root/P_1/A_1_0/FC_1_0_0/hmmalign.results.8n5oikz5) into base alignment (/tmp/sepp/output.fx6t9lgm/root/P_1/A_1_0/hmmbuild.input.i3l59dia.fasta).\n",
      "[20:40:05] jobs.py (line 131):     INFO: Finished hmmalign Job with input: model:/tmp/sepp/output.fx6t9lgm/root/P_2/A_2_0/hmmbuild.model.8_oz6kkc, fragments:/tmp/sepp/output.fx6t9lgm/root/P_2/A_2_0/FC_2_0_0/hmmalign.frag.dseg__hl.fasta, trim:False, base_alignment:/tmp/sepp/output.fx6t9lgm/root/P_2/A_2_0/hmmbuild.input.3fjt90gc.fasta\n",
      "[20:40:05] jobs.py (line 131):     INFO: Finished hmmalign Job with input: model:/tmp/sepp/output.fx6t9lgm/root/P_2/A_2_0/hmmbuild.model.8_oz6kkc, fragments:/tmp/sepp/output.fx6t9lgm/root/P_2/A_2_0/FC_2_0_1/hmmalign.frag.ub7o7hw2.fasta, trim:False, base_alignment:/tmp/sepp/output.fx6t9lgm/root/P_2/A_2_0/hmmbuild.input.3fjt90gc.fasta\n",
      "[20:40:05] jobs.py (line 131):     INFO: Finished hmmalign Job with input: model:/tmp/sepp/output.fx6t9lgm/root/P_2/A_2_0/hmmbuild.model.8_oz6kkc, fragments:/tmp/sepp/output.fx6t9lgm/root/P_2/A_2_0/FC_2_0_2/hmmalign.frag.kdy_m0rn.fasta, trim:False, base_alignment:/tmp/sepp/output.fx6t9lgm/root/P_2/A_2_0/hmmbuild.input.3fjt90gc.fasta\n",
      "[20:40:05] alignment.py (line 556):     INFO: Merging extension sto file (/tmp/sepp/output.fx6t9lgm/root/P_1/A_1_0/FC_1_0_1/hmmalign.results.mjrweax5) into base alignment (/tmp/sepp/output.fx6t9lgm/root/P_1/A_1_0/hmmbuild.input.i3l59dia.fasta).\n",
      "[20:40:05] jobs.py (line 131):     INFO: Finished hmmalign Job with input: model:/tmp/sepp/output.fx6t9lgm/root/P_0/A_0_0/hmmbuild.model.z4hlx2o1, fragments:/tmp/sepp/output.fx6t9lgm/root/P_0/A_0_0/FC_0_0_0/hmmalign.frag.13tkixzh.fasta, trim:False, base_alignment:/tmp/sepp/output.fx6t9lgm/root/P_0/A_0_0/hmmbuild.input.kequre33.fasta\n",
      "[20:40:05] jobs.py (line 131):     INFO: Finished hmmalign Job with input: model:/tmp/sepp/output.fx6t9lgm/root/P_3/A_3_0/hmmbuild.model.qwot2i_i, fragments:/tmp/sepp/output.fx6t9lgm/root/P_3/A_3_0/FC_3_0_0/hmmalign.frag.8xy93yg6.fasta, trim:False, base_alignment:/tmp/sepp/output.fx6t9lgm/root/P_3/A_3_0/hmmbuild.input.qn2piw3l.fasta\n",
      "[20:40:05] jobs.py (line 131):     INFO: Finished hmmalign Job with input: model:/tmp/sepp/output.fx6t9lgm/root/P_0/A_0_0/hmmbuild.model.z4hlx2o1, fragments:/tmp/sepp/output.fx6t9lgm/root/P_0/A_0_0/FC_0_0_1/hmmalign.frag.d6834upx.fasta, trim:False, base_alignment:/tmp/sepp/output.fx6t9lgm/root/P_0/A_0_0/hmmbuild.input.kequre33.fasta\n",
      "[20:40:05] jobs.py (line 131):     INFO: Finished hmmalign Job with input: model:/tmp/sepp/output.fx6t9lgm/root/P_0/A_0_0/hmmbuild.model.z4hlx2o1, fragments:/tmp/sepp/output.fx6t9lgm/root/P_0/A_0_0/FC_0_0_2/hmmalign.frag.v5yfivj8.fasta, trim:False, base_alignment:/tmp/sepp/output.fx6t9lgm/root/P_0/A_0_0/hmmbuild.input.kequre33.fasta\n",
      "[20:40:05] jobs.py (line 131):     INFO: Finished hmmalign Job with input: model:/tmp/sepp/output.fx6t9lgm/root/P_3/A_3_0/hmmbuild.model.qwot2i_i, fragments:/tmp/sepp/output.fx6t9lgm/root/P_3/A_3_0/FC_3_0_2/hmmalign.frag.kxpnfbh_.fasta, trim:False, base_alignment:/tmp/sepp/output.fx6t9lgm/root/P_3/A_3_0/hmmbuild.input.qn2piw3l.fasta\n",
      "[20:40:05] jobs.py (line 131):     INFO: Finished hmmalign Job with input: model:/tmp/sepp/output.fx6t9lgm/root/P_3/A_3_0/hmmbuild.model.qwot2i_i, fragments:/tmp/sepp/output.fx6t9lgm/root/P_3/A_3_0/FC_3_0_1/hmmalign.frag.phfwyuym.fasta, trim:False, base_alignment:/tmp/sepp/output.fx6t9lgm/root/P_3/A_3_0/hmmbuild.input.qn2piw3l.fasta\n",
      "[20:40:05] exhaustive.py (line 151):     INFO: Merging sub-alignments for placement problem : P_2.\n",
      "[20:40:05] jobs.py (line 131):     INFO: Finished hmmalign Job with input: model:/tmp/sepp/output.fx6t9lgm/root/P_5/A_5_0/hmmbuild.model.hwtc5tfz, fragments:/tmp/sepp/output.fx6t9lgm/root/P_5/A_5_0/FC_5_0_0/hmmalign.frag.cayozuiq.fasta, trim:False, base_alignment:/tmp/sepp/output.fx6t9lgm/root/P_5/A_5_0/hmmbuild.input.4ei32_vs.fasta\n",
      "[20:40:05] alignment.py (line 556):     INFO: Merging extension sto file (/tmp/sepp/output.fx6t9lgm/root/P_2/A_2_0/FC_2_0_0/hmmalign.results.wxk6oqjw) into base alignment (/tmp/sepp/output.fx6t9lgm/root/P_2/A_2_0/hmmbuild.input.3fjt90gc.fasta).\n",
      "[20:40:05] alignment.py (line 556):     INFO: Merging extension sto file (/tmp/sepp/output.fx6t9lgm/root/P_2/A_2_0/FC_2_0_1/hmmalign.results.c1ax4qlk) into base alignment (/tmp/sepp/output.fx6t9lgm/root/P_2/A_2_0/hmmbuild.input.3fjt90gc.fasta).\n",
      "[20:40:05] alignment.py (line 556):     INFO: Merging extension sto file (/tmp/sepp/output.fx6t9lgm/root/P_2/A_2_0/FC_2_0_2/hmmalign.results.eesymhk6) into base alignment (/tmp/sepp/output.fx6t9lgm/root/P_2/A_2_0/hmmbuild.input.3fjt90gc.fasta).\n",
      "[20:40:05] jobs.py (line 131):     INFO: Finished hmmalign Job with input: model:/tmp/sepp/output.fx6t9lgm/root/P_6/A_6_0/hmmbuild.model.y45k3rc_, fragments:/tmp/sepp/output.fx6t9lgm/root/P_6/A_6_0/FC_6_0_1/hmmalign.frag.ug8d_5lb.fasta, trim:False, base_alignment:/tmp/sepp/output.fx6t9lgm/root/P_6/A_6_0/hmmbuild.input.s_aazrpe.fasta\n",
      "[20:40:05] jobs.py (line 131):     INFO: Finished hmmalign Job with input: model:/tmp/sepp/output.fx6t9lgm/root/P_6/A_6_0/hmmbuild.model.y45k3rc_, fragments:/tmp/sepp/output.fx6t9lgm/root/P_6/A_6_0/FC_6_0_2/hmmalign.frag.5lsno0hs.fasta, trim:False, base_alignment:/tmp/sepp/output.fx6t9lgm/root/P_6/A_6_0/hmmbuild.input.s_aazrpe.fasta\n",
      "[20:40:05] jobs.py (line 131):     INFO: Finished hmmalign Job with input: model:/tmp/sepp/output.fx6t9lgm/root/P_6/A_6_0/hmmbuild.model.y45k3rc_, fragments:/tmp/sepp/output.fx6t9lgm/root/P_6/A_6_0/FC_6_0_0/hmmalign.frag.zh4_9gh1.fasta, trim:False, base_alignment:/tmp/sepp/output.fx6t9lgm/root/P_6/A_6_0/hmmbuild.input.s_aazrpe.fasta\n",
      "[20:40:05] jobs.py (line 131):     INFO: Finished hmmalign Job with input: model:/tmp/sepp/output.fx6t9lgm/root/P_4/A_4_0/hmmbuild.model.n_dyz9ns, fragments:/tmp/sepp/output.fx6t9lgm/root/P_4/A_4_0/FC_4_0_1/hmmalign.frag.uh5qr8yg.fasta, trim:False, base_alignment:/tmp/sepp/output.fx6t9lgm/root/P_4/A_4_0/hmmbuild.input.x6z9y99f.fasta\n",
      "[20:40:05] exhaustive.py (line 151):     INFO: Merging sub-alignments for placement problem : P_0.\n",
      "[20:40:05] alignment.py (line 556):     INFO: Merging extension sto file (/tmp/sepp/output.fx6t9lgm/root/P_0/A_0_0/FC_0_0_0/hmmalign.results.1o8mg2wd) into base alignment (/tmp/sepp/output.fx6t9lgm/root/P_0/A_0_0/hmmbuild.input.kequre33.fasta).\n",
      "[20:40:05] alignment.py (line 556):     INFO: Merging extension sto file (/tmp/sepp/output.fx6t9lgm/root/P_0/A_0_0/FC_0_0_1/hmmalign.results.ina4lbon) into base alignment (/tmp/sepp/output.fx6t9lgm/root/P_0/A_0_0/hmmbuild.input.kequre33.fasta).\n",
      "[20:40:05] jobs.py (line 131):     INFO: Finished hmmalign Job with input: model:/tmp/sepp/output.fx6t9lgm/root/P_4/A_4_0/hmmbuild.model.n_dyz9ns, fragments:/tmp/sepp/output.fx6t9lgm/root/P_4/A_4_0/FC_4_0_0/hmmalign.frag.d35nnxdy.fasta, trim:False, base_alignment:/tmp/sepp/output.fx6t9lgm/root/P_4/A_4_0/hmmbuild.input.x6z9y99f.fasta\n",
      "[20:40:05] alignment.py (line 556):     INFO: Merging extension sto file (/tmp/sepp/output.fx6t9lgm/root/P_0/A_0_0/FC_0_0_2/hmmalign.results.d7mji3l8) into base alignment (/tmp/sepp/output.fx6t9lgm/root/P_0/A_0_0/hmmbuild.input.kequre33.fasta).\n",
      "[20:40:05] jobs.py (line 131):     INFO: Finished hmmalign Job with input: model:/tmp/sepp/output.fx6t9lgm/root/P_4/A_4_0/hmmbuild.model.n_dyz9ns, fragments:/tmp/sepp/output.fx6t9lgm/root/P_4/A_4_0/FC_4_0_2/hmmalign.frag.47l72ogr.fasta, trim:False, base_alignment:/tmp/sepp/output.fx6t9lgm/root/P_4/A_4_0/hmmbuild.input.x6z9y99f.fasta\n",
      "[20:40:05] jobs.py (line 131):     INFO: Finished hmmalign Job with input: model:/tmp/sepp/output.fx6t9lgm/root/P_7/A_7_0/hmmbuild.model.8bzhmdq2, fragments:/tmp/sepp/output.fx6t9lgm/root/P_7/A_7_0/FC_7_0_1/hmmalign.frag.nrb57jc1.fasta, trim:False, base_alignment:/tmp/sepp/output.fx6t9lgm/root/P_7/A_7_0/hmmbuild.input.us231yrq.fasta\n",
      "[20:40:05] exhaustive.py (line 151):     INFO: Merging sub-alignments for placement problem : P_3.\n",
      "[20:40:05] jobs.py (line 131):     INFO: Finished hmmalign Job with input: model:/tmp/sepp/output.fx6t9lgm/root/P_7/A_7_0/hmmbuild.model.8bzhmdq2, fragments:/tmp/sepp/output.fx6t9lgm/root/P_7/A_7_0/FC_7_0_2/hmmalign.frag.qgw7upvr.fasta, trim:False, base_alignment:/tmp/sepp/output.fx6t9lgm/root/P_7/A_7_0/hmmbuild.input.us231yrq.fasta\n",
      "[20:40:05] alignment.py (line 556):     INFO: Merging extension sto file (/tmp/sepp/output.fx6t9lgm/root/P_3/A_3_0/FC_3_0_0/hmmalign.results.jj0ofj62) into base alignment (/tmp/sepp/output.fx6t9lgm/root/P_3/A_3_0/hmmbuild.input.qn2piw3l.fasta).\n",
      "[20:40:05] jobs.py (line 131):     INFO: Finished hmmalign Job with input: model:/tmp/sepp/output.fx6t9lgm/root/P_8/A_8_0/hmmbuild.model.q1bg9uar, fragments:/tmp/sepp/output.fx6t9lgm/root/P_8/A_8_0/FC_8_0_0/hmmalign.frag.t45wtq9g.fasta, trim:False, base_alignment:/tmp/sepp/output.fx6t9lgm/root/P_8/A_8_0/hmmbuild.input.hof8f840.fasta\n",
      "[20:40:05] alignment.py (line 556):     INFO: Merging extension sto file (/tmp/sepp/output.fx6t9lgm/root/P_3/A_3_0/FC_3_0_1/hmmalign.results.8qpldud2) into base alignment (/tmp/sepp/output.fx6t9lgm/root/P_3/A_3_0/hmmbuild.input.qn2piw3l.fasta).\n",
      "[20:40:05] jobs.py (line 131):     INFO: Finished hmmalign Job with input: model:/tmp/sepp/output.fx6t9lgm/root/P_8/A_8_0/hmmbuild.model.q1bg9uar, fragments:/tmp/sepp/output.fx6t9lgm/root/P_8/A_8_0/FC_8_0_1/hmmalign.frag.xb72pz09.fasta, trim:False, base_alignment:/tmp/sepp/output.fx6t9lgm/root/P_8/A_8_0/hmmbuild.input.hof8f840.fasta\n",
      "[20:40:05] jobs.py (line 131):     INFO: Finished hmmalign Job with input: model:/tmp/sepp/output.fx6t9lgm/root/P_9/A_9_0/hmmbuild.model.svw_s8zv, fragments:/tmp/sepp/output.fx6t9lgm/root/P_9/A_9_0/FC_9_0_0/hmmalign.frag.1_2y7frl.fasta, trim:False, base_alignment:/tmp/sepp/output.fx6t9lgm/root/P_9/A_9_0/hmmbuild.input.k8ddk7pn.fasta\n",
      "[20:40:05] jobs.py (line 131):     INFO: Finished hmmalign Job with input: model:/tmp/sepp/output.fx6t9lgm/root/P_9/A_9_0/hmmbuild.model.svw_s8zv, fragments:/tmp/sepp/output.fx6t9lgm/root/P_9/A_9_0/FC_9_0_2/hmmalign.frag.asmkavi0.fasta, trim:False, base_alignment:/tmp/sepp/output.fx6t9lgm/root/P_9/A_9_0/hmmbuild.input.k8ddk7pn.fasta\n",
      "[20:40:05] alignment.py (line 556):     INFO: Merging extension sto file (/tmp/sepp/output.fx6t9lgm/root/P_3/A_3_0/FC_3_0_2/hmmalign.results.34t3uyo3) into base alignment (/tmp/sepp/output.fx6t9lgm/root/P_3/A_3_0/hmmbuild.input.qn2piw3l.fasta).\n",
      "[20:40:05] jobs.py (line 131):     INFO: Finished hmmalign Job with input: model:/tmp/sepp/output.fx6t9lgm/root/P_9/A_9_0/hmmbuild.model.svw_s8zv, fragments:/tmp/sepp/output.fx6t9lgm/root/P_9/A_9_0/FC_9_0_1/hmmalign.frag.2y2gru36.fasta, trim:False, base_alignment:/tmp/sepp/output.fx6t9lgm/root/P_9/A_9_0/hmmbuild.input.k8ddk7pn.fasta\n",
      "[20:40:05] jobs.py (line 131):     INFO: Finished hmmalign Job with input: model:/tmp/sepp/output.fx6t9lgm/root/P_7/A_7_0/hmmbuild.model.8bzhmdq2, fragments:/tmp/sepp/output.fx6t9lgm/root/P_7/A_7_0/FC_7_0_0/hmmalign.frag.mbr8xve8.fasta, trim:False, base_alignment:/tmp/sepp/output.fx6t9lgm/root/P_7/A_7_0/hmmbuild.input.us231yrq.fasta\n",
      "[20:40:05] exhaustive.py (line 151):     INFO: Merging sub-alignments for placement problem : P_5.\n",
      "[20:40:05] alignment.py (line 556):     INFO: Merging extension sto file (/tmp/sepp/output.fx6t9lgm/root/P_5/A_5_0/FC_5_0_0/hmmalign.results.2sg7hwof) into base alignment (/tmp/sepp/output.fx6t9lgm/root/P_5/A_5_0/hmmbuild.input.4ei32_vs.fasta).\n",
      "[20:40:05] jobs.py (line 131):     INFO: Finished hmmalign Job with input: model:/tmp/sepp/output.fx6t9lgm/root/P_10/A_10_0/hmmbuild.model.jv37i8k7, fragments:/tmp/sepp/output.fx6t9lgm/root/P_10/A_10_0/FC_10_0_1/hmmalign.frag.ubx72r4x.fasta, trim:False, base_alignment:/tmp/sepp/output.fx6t9lgm/root/P_10/A_10_0/hmmbuild.input.icntr5qe.fasta\n",
      "[20:40:05] jobs.py (line 131):     INFO: Finished hmmalign Job with input: model:/tmp/sepp/output.fx6t9lgm/root/P_8/A_8_0/hmmbuild.model.q1bg9uar, fragments:/tmp/sepp/output.fx6t9lgm/root/P_8/A_8_0/FC_8_0_2/hmmalign.frag.hdbdd521.fasta, trim:False, base_alignment:/tmp/sepp/output.fx6t9lgm/root/P_8/A_8_0/hmmbuild.input.hof8f840.fasta\n",
      "[20:40:05] jobs.py (line 131):     INFO: Finished hmmalign Job with input: model:/tmp/sepp/output.fx6t9lgm/root/P_10/A_10_0/hmmbuild.model.jv37i8k7, fragments:/tmp/sepp/output.fx6t9lgm/root/P_10/A_10_0/FC_10_0_0/hmmalign.frag.qxgniezc.fasta, trim:False, base_alignment:/tmp/sepp/output.fx6t9lgm/root/P_10/A_10_0/hmmbuild.input.icntr5qe.fasta\n",
      "[20:40:05] jobs.py (line 131):     INFO: Finished hmmalign Job with input: model:/tmp/sepp/output.fx6t9lgm/root/P_10/A_10_0/hmmbuild.model.jv37i8k7, fragments:/tmp/sepp/output.fx6t9lgm/root/P_10/A_10_0/FC_10_0_2/hmmalign.frag.hbig3chu.fasta, trim:False, base_alignment:/tmp/sepp/output.fx6t9lgm/root/P_10/A_10_0/hmmbuild.input.icntr5qe.fasta\n",
      "[20:40:05] exhaustive.py (line 151):     INFO: Merging sub-alignments for placement problem : P_6.\n",
      "[20:40:05] alignment.py (line 556):     INFO: Merging extension sto file (/tmp/sepp/output.fx6t9lgm/root/P_6/A_6_0/FC_6_0_0/hmmalign.results.vef7blx7) into base alignment (/tmp/sepp/output.fx6t9lgm/root/P_6/A_6_0/hmmbuild.input.s_aazrpe.fasta).\n",
      "[20:40:05] alignment.py (line 556):     INFO: Merging extension sto file (/tmp/sepp/output.fx6t9lgm/root/P_6/A_6_0/FC_6_0_1/hmmalign.results.kmluv9mq) into base alignment (/tmp/sepp/output.fx6t9lgm/root/P_6/A_6_0/hmmbuild.input.s_aazrpe.fasta).\n",
      "[20:40:05] alignment.py (line 556):     INFO: Merging extension sto file (/tmp/sepp/output.fx6t9lgm/root/P_6/A_6_0/FC_6_0_2/hmmalign.results._7hid6r0) into base alignment (/tmp/sepp/output.fx6t9lgm/root/P_6/A_6_0/hmmbuild.input.s_aazrpe.fasta).\n",
      "[20:40:06] exhaustive.py (line 151):     INFO: Merging sub-alignments for placement problem : P_4.\n",
      "[20:40:06] alignment.py (line 556):     INFO: Merging extension sto file (/tmp/sepp/output.fx6t9lgm/root/P_4/A_4_0/FC_4_0_0/hmmalign.results.kv49641_) into base alignment (/tmp/sepp/output.fx6t9lgm/root/P_4/A_4_0/hmmbuild.input.x6z9y99f.fasta).\n",
      "[20:40:06] alignment.py (line 556):     INFO: Merging extension sto file (/tmp/sepp/output.fx6t9lgm/root/P_4/A_4_0/FC_4_0_1/hmmalign.results.ekapw307) into base alignment (/tmp/sepp/output.fx6t9lgm/root/P_4/A_4_0/hmmbuild.input.x6z9y99f.fasta).\n",
      "[20:40:06] alignment.py (line 556):     INFO: Merging extension sto file (/tmp/sepp/output.fx6t9lgm/root/P_4/A_4_0/FC_4_0_2/hmmalign.results.usibikfh) into base alignment (/tmp/sepp/output.fx6t9lgm/root/P_4/A_4_0/hmmbuild.input.x6z9y99f.fasta).\n",
      "[20:40:06] exhaustive.py (line 151):     INFO: Merging sub-alignments for placement problem : P_9.\n",
      "[20:40:06] alignment.py (line 556):     INFO: Merging extension sto file (/tmp/sepp/output.fx6t9lgm/root/P_9/A_9_0/FC_9_0_0/hmmalign.results.ik6fe5i5) into base alignment (/tmp/sepp/output.fx6t9lgm/root/P_9/A_9_0/hmmbuild.input.k8ddk7pn.fasta).\n",
      "[20:40:06] alignment.py (line 556):     INFO: Merging extension sto file (/tmp/sepp/output.fx6t9lgm/root/P_9/A_9_0/FC_9_0_1/hmmalign.results.9fxl_tkv) into base alignment (/tmp/sepp/output.fx6t9lgm/root/P_9/A_9_0/hmmbuild.input.k8ddk7pn.fasta).\n",
      "[20:40:06] alignment.py (line 556):     INFO: Merging extension sto file (/tmp/sepp/output.fx6t9lgm/root/P_9/A_9_0/FC_9_0_2/hmmalign.results.7jxa3hiu) into base alignment (/tmp/sepp/output.fx6t9lgm/root/P_9/A_9_0/hmmbuild.input.k8ddk7pn.fasta).\n",
      "[20:40:06] exhaustive.py (line 151):     INFO: Merging sub-alignments for placement problem : P_7.\n",
      "[20:40:06] alignment.py (line 556):     INFO: Merging extension sto file (/tmp/sepp/output.fx6t9lgm/root/P_7/A_7_0/FC_7_0_0/hmmalign.results.g3whas0p) into base alignment (/tmp/sepp/output.fx6t9lgm/root/P_7/A_7_0/hmmbuild.input.us231yrq.fasta).\n",
      "[20:40:06] alignment.py (line 556):     INFO: Merging extension sto file (/tmp/sepp/output.fx6t9lgm/root/P_7/A_7_0/FC_7_0_1/hmmalign.results.3p8zfm1b) into base alignment (/tmp/sepp/output.fx6t9lgm/root/P_7/A_7_0/hmmbuild.input.us231yrq.fasta).\n",
      "[20:40:06] alignment.py (line 556):     INFO: Merging extension sto file (/tmp/sepp/output.fx6t9lgm/root/P_7/A_7_0/FC_7_0_2/hmmalign.results.vcplfd7a) into base alignment (/tmp/sepp/output.fx6t9lgm/root/P_7/A_7_0/hmmbuild.input.us231yrq.fasta).\n",
      "[20:40:06] exhaustive.py (line 151):     INFO: Merging sub-alignments for placement problem : P_8.\n",
      "[20:40:06] alignment.py (line 556):     INFO: Merging extension sto file (/tmp/sepp/output.fx6t9lgm/root/P_8/A_8_0/FC_8_0_0/hmmalign.results.fov3kf4r) into base alignment (/tmp/sepp/output.fx6t9lgm/root/P_8/A_8_0/hmmbuild.input.hof8f840.fasta).\n",
      "[20:40:06] alignment.py (line 556):     INFO: Merging extension sto file (/tmp/sepp/output.fx6t9lgm/root/P_8/A_8_0/FC_8_0_1/hmmalign.results.gxm5_du2) into base alignment (/tmp/sepp/output.fx6t9lgm/root/P_8/A_8_0/hmmbuild.input.hof8f840.fasta).\n",
      "[20:40:06] alignment.py (line 556):     INFO: Merging extension sto file (/tmp/sepp/output.fx6t9lgm/root/P_8/A_8_0/FC_8_0_2/hmmalign.results.whxyqpth) into base alignment (/tmp/sepp/output.fx6t9lgm/root/P_8/A_8_0/hmmbuild.input.hof8f840.fasta).\n",
      "[20:40:06] exhaustive.py (line 151):     INFO: Merging sub-alignments for placement problem : P_10.\n",
      "[20:40:06] alignment.py (line 556):     INFO: Merging extension sto file (/tmp/sepp/output.fx6t9lgm/root/P_10/A_10_0/FC_10_0_0/hmmalign.results.7yvc8s6g) into base alignment (/tmp/sepp/output.fx6t9lgm/root/P_10/A_10_0/hmmbuild.input.icntr5qe.fasta).\n",
      "[20:40:06] alignment.py (line 556):     INFO: Merging extension sto file (/tmp/sepp/output.fx6t9lgm/root/P_10/A_10_0/FC_10_0_1/hmmalign.results.tvar0pyh) into base alignment (/tmp/sepp/output.fx6t9lgm/root/P_10/A_10_0/hmmbuild.input.icntr5qe.fasta).\n",
      "[20:40:06] alignment.py (line 556):     INFO: Merging extension sto file (/tmp/sepp/output.fx6t9lgm/root/P_10/A_10_0/FC_10_0_2/hmmalign.results.jeaznj_l) into base alignment (/tmp/sepp/output.fx6t9lgm/root/P_10/A_10_0/hmmbuild.input.icntr5qe.fasta).\n",
      "[20:40:06] jobs.py (line 131):     INFO: Finished hmmalign Job with input: model:/tmp/sepp/output.fx6t9lgm/root/P_12/A_12_0/hmmbuild.model.z8bpuwsq, fragments:/tmp/sepp/output.fx6t9lgm/root/P_12/A_12_0/FC_12_0_2/hmmalign.frag.ntilitny.fasta, trim:False, base_alignment:/tmp/sepp/output.fx6t9lgm/root/P_12/A_12_0/hmmbuild.input.zr97zmh2.fasta\n",
      "[20:40:06] jobs.py (line 131):     INFO: Finished hmmalign Job with input: model:/tmp/sepp/output.fx6t9lgm/root/P_12/A_12_0/hmmbuild.model.z8bpuwsq, fragments:/tmp/sepp/output.fx6t9lgm/root/P_12/A_12_0/FC_12_0_1/hmmalign.frag.ldr17798.fasta, trim:False, base_alignment:/tmp/sepp/output.fx6t9lgm/root/P_12/A_12_0/hmmbuild.input.zr97zmh2.fasta\n",
      "[20:40:07] jobs.py (line 131):     INFO: Finished hmmalign Job with input: model:/tmp/sepp/output.fx6t9lgm/root/P_12/A_12_0/hmmbuild.model.z8bpuwsq, fragments:/tmp/sepp/output.fx6t9lgm/root/P_12/A_12_0/FC_12_0_0/hmmalign.frag.ppct70fe.fasta, trim:False, base_alignment:/tmp/sepp/output.fx6t9lgm/root/P_12/A_12_0/hmmbuild.input.zr97zmh2.fasta\n",
      "[20:40:07] exhaustive.py (line 151):     INFO: Merging sub-alignments for placement problem : P_12.\n",
      "[20:40:07] alignment.py (line 556):     INFO: Merging extension sto file (/tmp/sepp/output.fx6t9lgm/root/P_12/A_12_0/FC_12_0_0/hmmalign.results.tizxi1ir) into base alignment (/tmp/sepp/output.fx6t9lgm/root/P_12/A_12_0/hmmbuild.input.zr97zmh2.fasta).\n",
      "[20:40:07] alignment.py (line 556):     INFO: Merging extension sto file (/tmp/sepp/output.fx6t9lgm/root/P_12/A_12_0/FC_12_0_1/hmmalign.results.5fznze43) into base alignment (/tmp/sepp/output.fx6t9lgm/root/P_12/A_12_0/hmmbuild.input.zr97zmh2.fasta).\n",
      "[20:40:07] alignment.py (line 556):     INFO: Merging extension sto file (/tmp/sepp/output.fx6t9lgm/root/P_12/A_12_0/FC_12_0_2/hmmalign.results.3dey1xd7) into base alignment (/tmp/sepp/output.fx6t9lgm/root/P_12/A_12_0/hmmbuild.input.zr97zmh2.fasta).\n",
      "[20:40:07] jobs.py (line 131):     INFO: Finished hmmalign Job with input: model:/tmp/sepp/output.fx6t9lgm/root/P_13/A_13_0/hmmbuild.model.5g0v4sgk, fragments:/tmp/sepp/output.fx6t9lgm/root/P_13/A_13_0/FC_13_0_0/hmmalign.frag.jzb7bj40.fasta, trim:False, base_alignment:/tmp/sepp/output.fx6t9lgm/root/P_13/A_13_0/hmmbuild.input.1zg77qgo.fasta\n",
      "[20:40:07] jobs.py (line 131):     INFO: Finished hmmalign Job with input: model:/tmp/sepp/output.fx6t9lgm/root/P_13/A_13_0/hmmbuild.model.5g0v4sgk, fragments:/tmp/sepp/output.fx6t9lgm/root/P_13/A_13_0/FC_13_0_1/hmmalign.frag.nzeao5um.fasta, trim:False, base_alignment:/tmp/sepp/output.fx6t9lgm/root/P_13/A_13_0/hmmbuild.input.1zg77qgo.fasta\n",
      "[20:40:07] jobs.py (line 131):     INFO: Finished hmmalign Job with input: model:/tmp/sepp/output.fx6t9lgm/root/P_13/A_13_0/hmmbuild.model.5g0v4sgk, fragments:/tmp/sepp/output.fx6t9lgm/root/P_13/A_13_0/FC_13_0_2/hmmalign.frag.ij4lb08d.fasta, trim:False, base_alignment:/tmp/sepp/output.fx6t9lgm/root/P_13/A_13_0/hmmbuild.input.1zg77qgo.fasta\n",
      "[20:40:07] exhaustive.py (line 151):     INFO: Merging sub-alignments for placement problem : P_13.\n",
      "[20:40:07] alignment.py (line 556):     INFO: Merging extension sto file (/tmp/sepp/output.fx6t9lgm/root/P_13/A_13_0/FC_13_0_0/hmmalign.results.lln2lr3p) into base alignment (/tmp/sepp/output.fx6t9lgm/root/P_13/A_13_0/hmmbuild.input.1zg77qgo.fasta).\n",
      "[20:40:07] alignment.py (line 556):     INFO: Merging extension sto file (/tmp/sepp/output.fx6t9lgm/root/P_13/A_13_0/FC_13_0_1/hmmalign.results.b7724qv5) into base alignment (/tmp/sepp/output.fx6t9lgm/root/P_13/A_13_0/hmmbuild.input.1zg77qgo.fasta).\n",
      "[20:40:07] alignment.py (line 556):     INFO: Merging extension sto file (/tmp/sepp/output.fx6t9lgm/root/P_13/A_13_0/FC_13_0_2/hmmalign.results.gcdzra6c) into base alignment (/tmp/sepp/output.fx6t9lgm/root/P_13/A_13_0/hmmbuild.input.1zg77qgo.fasta).\n",
      "[20:40:07] jobs.py (line 131):     INFO: Finished hmmalign Job with input: model:/tmp/sepp/output.fx6t9lgm/root/P_14/A_14_0/hmmbuild.model.09f21hk_, fragments:/tmp/sepp/output.fx6t9lgm/root/P_14/A_14_0/FC_14_0_1/hmmalign.frag.ydab41ug.fasta, trim:False, base_alignment:/tmp/sepp/output.fx6t9lgm/root/P_14/A_14_0/hmmbuild.input.ki02cjw7.fasta\n",
      "[20:40:07] jobs.py (line 131):     INFO: Finished hmmalign Job with input: model:/tmp/sepp/output.fx6t9lgm/root/P_14/A_14_0/hmmbuild.model.09f21hk_, fragments:/tmp/sepp/output.fx6t9lgm/root/P_14/A_14_0/FC_14_0_2/hmmalign.frag.owyf1mcr.fasta, trim:False, base_alignment:/tmp/sepp/output.fx6t9lgm/root/P_14/A_14_0/hmmbuild.input.ki02cjw7.fasta\n",
      "[20:40:07] jobs.py (line 131):     INFO: Finished hmmalign Job with input: model:/tmp/sepp/output.fx6t9lgm/root/P_14/A_14_0/hmmbuild.model.09f21hk_, fragments:/tmp/sepp/output.fx6t9lgm/root/P_14/A_14_0/FC_14_0_0/hmmalign.frag.pz4lagaq.fasta, trim:False, base_alignment:/tmp/sepp/output.fx6t9lgm/root/P_14/A_14_0/hmmbuild.input.ki02cjw7.fasta\n",
      "[20:40:07] exhaustive.py (line 151):     INFO: Merging sub-alignments for placement problem : P_14.\n",
      "[20:40:07] jobs.py (line 131):     INFO: Finished hmmalign Job with input: model:/tmp/sepp/output.fx6t9lgm/root/P_15/A_15_0/hmmbuild.model.s37dg8cl, fragments:/tmp/sepp/output.fx6t9lgm/root/P_15/A_15_0/FC_15_0_1/hmmalign.frag.q2vo9a1t.fasta, trim:False, base_alignment:/tmp/sepp/output.fx6t9lgm/root/P_15/A_15_0/hmmbuild.input.hlvo333g.fasta\n",
      "[20:40:07] alignment.py (line 556):     INFO: Merging extension sto file (/tmp/sepp/output.fx6t9lgm/root/P_14/A_14_0/FC_14_0_0/hmmalign.results.0ufk79sx) into base alignment (/tmp/sepp/output.fx6t9lgm/root/P_14/A_14_0/hmmbuild.input.ki02cjw7.fasta).\n",
      "[20:40:07] alignment.py (line 556):     INFO: Merging extension sto file (/tmp/sepp/output.fx6t9lgm/root/P_14/A_14_0/FC_14_0_1/hmmalign.results.s384rd3g) into base alignment (/tmp/sepp/output.fx6t9lgm/root/P_14/A_14_0/hmmbuild.input.ki02cjw7.fasta).\n",
      "[20:40:07] jobs.py (line 131):     INFO: Finished hmmalign Job with input: model:/tmp/sepp/output.fx6t9lgm/root/P_15/A_15_0/hmmbuild.model.s37dg8cl, fragments:/tmp/sepp/output.fx6t9lgm/root/P_15/A_15_0/FC_15_0_0/hmmalign.frag.ac2wq6hg.fasta, trim:False, base_alignment:/tmp/sepp/output.fx6t9lgm/root/P_15/A_15_0/hmmbuild.input.hlvo333g.fasta\n",
      "[20:40:07] alignment.py (line 556):     INFO: Merging extension sto file (/tmp/sepp/output.fx6t9lgm/root/P_14/A_14_0/FC_14_0_2/hmmalign.results.4jrapkwk) into base alignment (/tmp/sepp/output.fx6t9lgm/root/P_14/A_14_0/hmmbuild.input.ki02cjw7.fasta).\n",
      "[20:40:08] jobs.py (line 131):     INFO: Finished hmmalign Job with input: model:/tmp/sepp/output.fx6t9lgm/root/P_15/A_15_0/hmmbuild.model.s37dg8cl, fragments:/tmp/sepp/output.fx6t9lgm/root/P_15/A_15_0/FC_15_0_2/hmmalign.frag.xc0pw824.fasta, trim:False, base_alignment:/tmp/sepp/output.fx6t9lgm/root/P_15/A_15_0/hmmbuild.input.hlvo333g.fasta\n",
      "[20:40:08] exhaustive.py (line 151):     INFO: Merging sub-alignments for placement problem : P_15.\n",
      "[20:40:08] alignment.py (line 556):     INFO: Merging extension sto file (/tmp/sepp/output.fx6t9lgm/root/P_15/A_15_0/FC_15_0_0/hmmalign.results.n3yw57ni) into base alignment (/tmp/sepp/output.fx6t9lgm/root/P_15/A_15_0/hmmbuild.input.hlvo333g.fasta).\n",
      "[20:40:08] alignment.py (line 556):     INFO: Merging extension sto file (/tmp/sepp/output.fx6t9lgm/root/P_15/A_15_0/FC_15_0_1/hmmalign.results.bfm355t6) into base alignment (/tmp/sepp/output.fx6t9lgm/root/P_15/A_15_0/hmmbuild.input.hlvo333g.fasta).\n",
      "[20:40:08] alignment.py (line 556):     INFO: Merging extension sto file (/tmp/sepp/output.fx6t9lgm/root/P_15/A_15_0/FC_15_0_2/hmmalign.results.mvxb9miz) into base alignment (/tmp/sepp/output.fx6t9lgm/root/P_15/A_15_0/hmmbuild.input.hlvo333g.fasta).\n",
      "[20:40:08] jobs.py (line 131):     INFO: Finished pplacer Job with input: backbone_alignment_file:/tmp/sepp/output.fx6t9lgm/root/P_1/pplacer.backbone.3u16f3v4.fasta, tree_file:/tmp/sepp/output.fx6t9lgm/root/P_1/pplacer.tree.c6oku2hn.tre, info_file:/home/lauro/anaconda3/envs/qiime2-2021.11/lib/python3.8/site-packages/picrust2/default_files/prokaryotic/pro_ref/pro_ref.raxml_info, extended alignment:/tmp/sepp/output.fx6t9lgm/root/P_1/pplacer.extended.0.eyxtnaj7.fasta, output:/tmp/sepp/output.fx6t9lgm/root/P_1/pplacer.extended.0.eyxtnaj7.jplace\n",
      "[20:40:13] jobs.py (line 131):     INFO: Finished pplacer Job with input: backbone_alignment_file:/tmp/sepp/output.fx6t9lgm/root/P_1/pplacer.backbone.bmkhmlj0.fasta, tree_file:/tmp/sepp/output.fx6t9lgm/root/P_1/pplacer.tree.k58aql2g.tre, info_file:/home/lauro/anaconda3/envs/qiime2-2021.11/lib/python3.8/site-packages/picrust2/default_files/prokaryotic/pro_ref/pro_ref.raxml_info, extended alignment:/tmp/sepp/output.fx6t9lgm/root/P_1/pplacer.extended.1.4g70y8eq.fasta, output:/tmp/sepp/output.fx6t9lgm/root/P_1/pplacer.extended.1.4g70y8eq.jplace\n",
      "[20:40:13] jobs.py (line 131):     INFO: Finished pplacer Job with input: backbone_alignment_file:/tmp/sepp/output.fx6t9lgm/root/P_2/pplacer.backbone._csuelig.fasta, tree_file:/tmp/sepp/output.fx6t9lgm/root/P_2/pplacer.tree.87m2ners.tre, info_file:/home/lauro/anaconda3/envs/qiime2-2021.11/lib/python3.8/site-packages/picrust2/default_files/prokaryotic/pro_ref/pro_ref.raxml_info, extended alignment:/tmp/sepp/output.fx6t9lgm/root/P_2/pplacer.extended.1.qib12mfr.fasta, output:/tmp/sepp/output.fx6t9lgm/root/P_2/pplacer.extended.1.qib12mfr.jplace\n",
      "[20:40:14] jobs.py (line 131):     INFO: Finished pplacer Job with input: backbone_alignment_file:/tmp/sepp/output.fx6t9lgm/root/P_2/pplacer.backbone.z9zki1nt.fasta, tree_file:/tmp/sepp/output.fx6t9lgm/root/P_2/pplacer.tree.r1s1bl68.tre, info_file:/home/lauro/anaconda3/envs/qiime2-2021.11/lib/python3.8/site-packages/picrust2/default_files/prokaryotic/pro_ref/pro_ref.raxml_info, extended alignment:/tmp/sepp/output.fx6t9lgm/root/P_2/pplacer.extended.2.zmkrfy11.fasta, output:/tmp/sepp/output.fx6t9lgm/root/P_2/pplacer.extended.2.zmkrfy11.jplace\n",
      "[20:40:15] jobs.py (line 131):     INFO: Finished pplacer Job with input: backbone_alignment_file:/tmp/sepp/output.fx6t9lgm/root/P_2/pplacer.backbone._2zrx57q.fasta, tree_file:/tmp/sepp/output.fx6t9lgm/root/P_2/pplacer.tree.9i6dwr0r.tre, info_file:/home/lauro/anaconda3/envs/qiime2-2021.11/lib/python3.8/site-packages/picrust2/default_files/prokaryotic/pro_ref/pro_ref.raxml_info, extended alignment:/tmp/sepp/output.fx6t9lgm/root/P_2/pplacer.extended.0.8zt5yb6k.fasta, output:/tmp/sepp/output.fx6t9lgm/root/P_2/pplacer.extended.0.8zt5yb6k.jplace\n",
      "[20:40:21] jobs.py (line 131):     INFO: Finished pplacer Job with input: backbone_alignment_file:/tmp/sepp/output.fx6t9lgm/root/P_0/pplacer.backbone.d62v42a6.fasta, tree_file:/tmp/sepp/output.fx6t9lgm/root/P_0/pplacer.tree.oxwjeqas.tre, info_file:/home/lauro/anaconda3/envs/qiime2-2021.11/lib/python3.8/site-packages/picrust2/default_files/prokaryotic/pro_ref/pro_ref.raxml_info, extended alignment:/tmp/sepp/output.fx6t9lgm/root/P_0/pplacer.extended.1.y6pvg1e3.fasta, output:/tmp/sepp/output.fx6t9lgm/root/P_0/pplacer.extended.1.y6pvg1e3.jplace\n",
      "[20:40:24] jobs.py (line 131):     INFO: Finished pplacer Job with input: backbone_alignment_file:/tmp/sepp/output.fx6t9lgm/root/P_0/pplacer.backbone.nzej58wa.fasta, tree_file:/tmp/sepp/output.fx6t9lgm/root/P_0/pplacer.tree.hibbwz_x.tre, info_file:/home/lauro/anaconda3/envs/qiime2-2021.11/lib/python3.8/site-packages/picrust2/default_files/prokaryotic/pro_ref/pro_ref.raxml_info, extended alignment:/tmp/sepp/output.fx6t9lgm/root/P_0/pplacer.extended.0.qt9ha8wh.fasta, output:/tmp/sepp/output.fx6t9lgm/root/P_0/pplacer.extended.0.qt9ha8wh.jplace\n",
      "[20:40:26] jobs.py (line 131):     INFO: Finished pplacer Job with input: backbone_alignment_file:/tmp/sepp/output.fx6t9lgm/root/P_3/pplacer.backbone.1rr4pn78.fasta, tree_file:/tmp/sepp/output.fx6t9lgm/root/P_3/pplacer.tree.9zvovwyn.tre, info_file:/home/lauro/anaconda3/envs/qiime2-2021.11/lib/python3.8/site-packages/picrust2/default_files/prokaryotic/pro_ref/pro_ref.raxml_info, extended alignment:/tmp/sepp/output.fx6t9lgm/root/P_3/pplacer.extended.0.x5u6r7lj.fasta, output:/tmp/sepp/output.fx6t9lgm/root/P_3/pplacer.extended.0.x5u6r7lj.jplace\n",
      "[20:40:26] jobs.py (line 131):     INFO: Finished hmmalign Job with input: model:/tmp/sepp/output.fx6t9lgm/root/P_11/A_11_0/hmmbuild.model.v_povfpa, fragments:/tmp/sepp/output.fx6t9lgm/root/P_11/A_11_0/FC_11_0_1/hmmalign.frag.tl3oert7.fasta, trim:False, base_alignment:/tmp/sepp/output.fx6t9lgm/root/P_11/A_11_0/hmmbuild.input.vt_j8wbk.fasta\n",
      "[20:40:27] jobs.py (line 131):     INFO: Finished pplacer Job with input: backbone_alignment_file:/tmp/sepp/output.fx6t9lgm/root/P_5/pplacer.backbone.jnt4lpl8.fasta, tree_file:/tmp/sepp/output.fx6t9lgm/root/P_5/pplacer.tree.wifcqka1.tre, info_file:/home/lauro/anaconda3/envs/qiime2-2021.11/lib/python3.8/site-packages/picrust2/default_files/prokaryotic/pro_ref/pro_ref.raxml_info, extended alignment:/tmp/sepp/output.fx6t9lgm/root/P_5/pplacer.extended.0.ukoes_0i.fasta, output:/tmp/sepp/output.fx6t9lgm/root/P_5/pplacer.extended.0.ukoes_0i.jplace\n",
      "[20:40:28] jobs.py (line 131):     INFO: Finished hmmalign Job with input: model:/tmp/sepp/output.fx6t9lgm/root/P_11/A_11_0/hmmbuild.model.v_povfpa, fragments:/tmp/sepp/output.fx6t9lgm/root/P_11/A_11_0/FC_11_0_0/hmmalign.frag.sxwa2cu5.fasta, trim:False, base_alignment:/tmp/sepp/output.fx6t9lgm/root/P_11/A_11_0/hmmbuild.input.vt_j8wbk.fasta\n",
      "[20:40:29] jobs.py (line 131):     INFO: Finished hmmalign Job with input: model:/tmp/sepp/output.fx6t9lgm/root/P_11/A_11_0/hmmbuild.model.v_povfpa, fragments:/tmp/sepp/output.fx6t9lgm/root/P_11/A_11_0/FC_11_0_2/hmmalign.frag.wdphyjtq.fasta, trim:False, base_alignment:/tmp/sepp/output.fx6t9lgm/root/P_11/A_11_0/hmmbuild.input.vt_j8wbk.fasta\n",
      "[20:40:29] exhaustive.py (line 151):     INFO: Merging sub-alignments for placement problem : P_11.\n",
      "[20:40:29] alignment.py (line 556):     INFO: Merging extension sto file (/tmp/sepp/output.fx6t9lgm/root/P_11/A_11_0/FC_11_0_0/hmmalign.results.lzj0376j) into base alignment (/tmp/sepp/output.fx6t9lgm/root/P_11/A_11_0/hmmbuild.input.vt_j8wbk.fasta).\n",
      "[20:40:29] alignment.py (line 556):     INFO: Merging extension sto file (/tmp/sepp/output.fx6t9lgm/root/P_11/A_11_0/FC_11_0_1/hmmalign.results.gft14sbc) into base alignment (/tmp/sepp/output.fx6t9lgm/root/P_11/A_11_0/hmmbuild.input.vt_j8wbk.fasta).\n",
      "[20:40:29] alignment.py (line 556):     INFO: Merging extension sto file (/tmp/sepp/output.fx6t9lgm/root/P_11/A_11_0/FC_11_0_2/hmmalign.results.ehzov8i_) into base alignment (/tmp/sepp/output.fx6t9lgm/root/P_11/A_11_0/hmmbuild.input.vt_j8wbk.fasta).\n",
      "[20:40:29] jobs.py (line 131):     INFO: Finished pplacer Job with input: backbone_alignment_file:/tmp/sepp/output.fx6t9lgm/root/P_0/pplacer.backbone.dxs18v18.fasta, tree_file:/tmp/sepp/output.fx6t9lgm/root/P_0/pplacer.tree.031j3wr3.tre, info_file:/home/lauro/anaconda3/envs/qiime2-2021.11/lib/python3.8/site-packages/picrust2/default_files/prokaryotic/pro_ref/pro_ref.raxml_info, extended alignment:/tmp/sepp/output.fx6t9lgm/root/P_0/pplacer.extended.2.1zo0mw2f.fasta, output:/tmp/sepp/output.fx6t9lgm/root/P_0/pplacer.extended.2.1zo0mw2f.jplace\n",
      "[20:40:30] jobs.py (line 131):     INFO: Finished pplacer Job with input: backbone_alignment_file:/tmp/sepp/output.fx6t9lgm/root/P_3/pplacer.backbone.wdpjimb3.fasta, tree_file:/tmp/sepp/output.fx6t9lgm/root/P_3/pplacer.tree.o_s7w869.tre, info_file:/home/lauro/anaconda3/envs/qiime2-2021.11/lib/python3.8/site-packages/picrust2/default_files/prokaryotic/pro_ref/pro_ref.raxml_info, extended alignment:/tmp/sepp/output.fx6t9lgm/root/P_3/pplacer.extended.2.7c7naa67.fasta, output:/tmp/sepp/output.fx6t9lgm/root/P_3/pplacer.extended.2.7c7naa67.jplace\n",
      "[20:40:30] jobs.py (line 131):     INFO: Finished pplacer Job with input: backbone_alignment_file:/tmp/sepp/output.fx6t9lgm/root/P_3/pplacer.backbone.1_ab3ut9.fasta, tree_file:/tmp/sepp/output.fx6t9lgm/root/P_3/pplacer.tree.r4e3ik30.tre, info_file:/home/lauro/anaconda3/envs/qiime2-2021.11/lib/python3.8/site-packages/picrust2/default_files/prokaryotic/pro_ref/pro_ref.raxml_info, extended alignment:/tmp/sepp/output.fx6t9lgm/root/P_3/pplacer.extended.1.0azeq608.fasta, output:/tmp/sepp/output.fx6t9lgm/root/P_3/pplacer.extended.1.0azeq608.jplace\n",
      "[20:40:34] jobs.py (line 131):     INFO: Finished pplacer Job with input: backbone_alignment_file:/tmp/sepp/output.fx6t9lgm/root/P_6/pplacer.backbone.yvzhgtyl.fasta, tree_file:/tmp/sepp/output.fx6t9lgm/root/P_6/pplacer.tree.tum75f74.tre, info_file:/home/lauro/anaconda3/envs/qiime2-2021.11/lib/python3.8/site-packages/picrust2/default_files/prokaryotic/pro_ref/pro_ref.raxml_info, extended alignment:/tmp/sepp/output.fx6t9lgm/root/P_6/pplacer.extended.0.z1uhue41.fasta, output:/tmp/sepp/output.fx6t9lgm/root/P_6/pplacer.extended.0.z1uhue41.jplace\n",
      "[20:40:34] jobs.py (line 131):     INFO: Finished pplacer Job with input: backbone_alignment_file:/tmp/sepp/output.fx6t9lgm/root/P_6/pplacer.backbone.pni_b0_1.fasta, tree_file:/tmp/sepp/output.fx6t9lgm/root/P_6/pplacer.tree.rwkgnk2d.tre, info_file:/home/lauro/anaconda3/envs/qiime2-2021.11/lib/python3.8/site-packages/picrust2/default_files/prokaryotic/pro_ref/pro_ref.raxml_info, extended alignment:/tmp/sepp/output.fx6t9lgm/root/P_6/pplacer.extended.1.o74vk593.fasta, output:/tmp/sepp/output.fx6t9lgm/root/P_6/pplacer.extended.1.o74vk593.jplace\n",
      "[20:40:35] jobs.py (line 131):     INFO: Finished pplacer Job with input: backbone_alignment_file:/tmp/sepp/output.fx6t9lgm/root/P_4/pplacer.backbone.yk8af775.fasta, tree_file:/tmp/sepp/output.fx6t9lgm/root/P_4/pplacer.tree.anir9e2j.tre, info_file:/home/lauro/anaconda3/envs/qiime2-2021.11/lib/python3.8/site-packages/picrust2/default_files/prokaryotic/pro_ref/pro_ref.raxml_info, extended alignment:/tmp/sepp/output.fx6t9lgm/root/P_4/pplacer.extended.2.7z6pp_z8.fasta, output:/tmp/sepp/output.fx6t9lgm/root/P_4/pplacer.extended.2.7z6pp_z8.jplace\n",
      "[20:40:35] jobs.py (line 131):     INFO: Finished pplacer Job with input: backbone_alignment_file:/tmp/sepp/output.fx6t9lgm/root/P_4/pplacer.backbone.hac3pl1h.fasta, tree_file:/tmp/sepp/output.fx6t9lgm/root/P_4/pplacer.tree.kd5vtyfh.tre, info_file:/home/lauro/anaconda3/envs/qiime2-2021.11/lib/python3.8/site-packages/picrust2/default_files/prokaryotic/pro_ref/pro_ref.raxml_info, extended alignment:/tmp/sepp/output.fx6t9lgm/root/P_4/pplacer.extended.0.yyy5pgh9.fasta, output:/tmp/sepp/output.fx6t9lgm/root/P_4/pplacer.extended.0.yyy5pgh9.jplace\n",
      "[20:40:36] jobs.py (line 131):     INFO: Finished pplacer Job with input: backbone_alignment_file:/tmp/sepp/output.fx6t9lgm/root/P_4/pplacer.backbone._fs67arz.fasta, tree_file:/tmp/sepp/output.fx6t9lgm/root/P_4/pplacer.tree.kh19pn9w.tre, info_file:/home/lauro/anaconda3/envs/qiime2-2021.11/lib/python3.8/site-packages/picrust2/default_files/prokaryotic/pro_ref/pro_ref.raxml_info, extended alignment:/tmp/sepp/output.fx6t9lgm/root/P_4/pplacer.extended.1.btitb4jc.fasta, output:/tmp/sepp/output.fx6t9lgm/root/P_4/pplacer.extended.1.btitb4jc.jplace\n",
      "[20:40:38] jobs.py (line 131):     INFO: Finished pplacer Job with input: backbone_alignment_file:/tmp/sepp/output.fx6t9lgm/root/P_9/pplacer.backbone.zlo5rssl.fasta, tree_file:/tmp/sepp/output.fx6t9lgm/root/P_9/pplacer.tree.t49mr1cf.tre, info_file:/home/lauro/anaconda3/envs/qiime2-2021.11/lib/python3.8/site-packages/picrust2/default_files/prokaryotic/pro_ref/pro_ref.raxml_info, extended alignment:/tmp/sepp/output.fx6t9lgm/root/P_9/pplacer.extended.2.tumstlgi.fasta, output:/tmp/sepp/output.fx6t9lgm/root/P_9/pplacer.extended.2.tumstlgi.jplace\n",
      "[20:40:39] jobs.py (line 131):     INFO: Finished pplacer Job with input: backbone_alignment_file:/tmp/sepp/output.fx6t9lgm/root/P_9/pplacer.backbone.k8dlijux.fasta, tree_file:/tmp/sepp/output.fx6t9lgm/root/P_9/pplacer.tree.zyial65f.tre, info_file:/home/lauro/anaconda3/envs/qiime2-2021.11/lib/python3.8/site-packages/picrust2/default_files/prokaryotic/pro_ref/pro_ref.raxml_info, extended alignment:/tmp/sepp/output.fx6t9lgm/root/P_9/pplacer.extended.0.3j3r2p8p.fasta, output:/tmp/sepp/output.fx6t9lgm/root/P_9/pplacer.extended.0.3j3r2p8p.jplace\n",
      "[20:40:43] jobs.py (line 131):     INFO: Finished pplacer Job with input: backbone_alignment_file:/tmp/sepp/output.fx6t9lgm/root/P_7/pplacer.backbone.vnj6pd7t.fasta, tree_file:/tmp/sepp/output.fx6t9lgm/root/P_7/pplacer.tree.ukopzawm.tre, info_file:/home/lauro/anaconda3/envs/qiime2-2021.11/lib/python3.8/site-packages/picrust2/default_files/prokaryotic/pro_ref/pro_ref.raxml_info, extended alignment:/tmp/sepp/output.fx6t9lgm/root/P_7/pplacer.extended.0.yck2gmpt.fasta, output:/tmp/sepp/output.fx6t9lgm/root/P_7/pplacer.extended.0.yck2gmpt.jplace\n",
      "[20:40:43] jobs.py (line 131):     INFO: Finished pplacer Job with input: backbone_alignment_file:/tmp/sepp/output.fx6t9lgm/root/P_6/pplacer.backbone.cq37eyi8.fasta, tree_file:/tmp/sepp/output.fx6t9lgm/root/P_6/pplacer.tree.qvkv6y_s.tre, info_file:/home/lauro/anaconda3/envs/qiime2-2021.11/lib/python3.8/site-packages/picrust2/default_files/prokaryotic/pro_ref/pro_ref.raxml_info, extended alignment:/tmp/sepp/output.fx6t9lgm/root/P_6/pplacer.extended.2.ca2lu3el.fasta, output:/tmp/sepp/output.fx6t9lgm/root/P_6/pplacer.extended.2.ca2lu3el.jplace\n",
      "[20:40:44] jobs.py (line 131):     INFO: Finished pplacer Job with input: backbone_alignment_file:/tmp/sepp/output.fx6t9lgm/root/P_9/pplacer.backbone.xxl30_66.fasta, tree_file:/tmp/sepp/output.fx6t9lgm/root/P_9/pplacer.tree.0mkdtta5.tre, info_file:/home/lauro/anaconda3/envs/qiime2-2021.11/lib/python3.8/site-packages/picrust2/default_files/prokaryotic/pro_ref/pro_ref.raxml_info, extended alignment:/tmp/sepp/output.fx6t9lgm/root/P_9/pplacer.extended.1.gyc10x27.fasta, output:/tmp/sepp/output.fx6t9lgm/root/P_9/pplacer.extended.1.gyc10x27.jplace\n",
      "[20:40:45] jobs.py (line 131):     INFO: Finished pplacer Job with input: backbone_alignment_file:/tmp/sepp/output.fx6t9lgm/root/P_7/pplacer.backbone.r9iyvjz_.fasta, tree_file:/tmp/sepp/output.fx6t9lgm/root/P_7/pplacer.tree.epg3xxef.tre, info_file:/home/lauro/anaconda3/envs/qiime2-2021.11/lib/python3.8/site-packages/picrust2/default_files/prokaryotic/pro_ref/pro_ref.raxml_info, extended alignment:/tmp/sepp/output.fx6t9lgm/root/P_7/pplacer.extended.1.22rmn5_o.fasta, output:/tmp/sepp/output.fx6t9lgm/root/P_7/pplacer.extended.1.22rmn5_o.jplace\n",
      "[20:40:45] jobs.py (line 131):     INFO: Finished pplacer Job with input: backbone_alignment_file:/tmp/sepp/output.fx6t9lgm/root/P_7/pplacer.backbone.8ttr0q4x.fasta, tree_file:/tmp/sepp/output.fx6t9lgm/root/P_7/pplacer.tree.jux169lh.tre, info_file:/home/lauro/anaconda3/envs/qiime2-2021.11/lib/python3.8/site-packages/picrust2/default_files/prokaryotic/pro_ref/pro_ref.raxml_info, extended alignment:/tmp/sepp/output.fx6t9lgm/root/P_7/pplacer.extended.2.jx1gmkzk.fasta, output:/tmp/sepp/output.fx6t9lgm/root/P_7/pplacer.extended.2.jx1gmkzk.jplace\n",
      "[20:40:48] jobs.py (line 131):     INFO: Finished pplacer Job with input: backbone_alignment_file:/tmp/sepp/output.fx6t9lgm/root/P_8/pplacer.backbone.310_p6i5.fasta, tree_file:/tmp/sepp/output.fx6t9lgm/root/P_8/pplacer.tree.4pvdpm8w.tre, info_file:/home/lauro/anaconda3/envs/qiime2-2021.11/lib/python3.8/site-packages/picrust2/default_files/prokaryotic/pro_ref/pro_ref.raxml_info, extended alignment:/tmp/sepp/output.fx6t9lgm/root/P_8/pplacer.extended.1.z4kz_zyj.fasta, output:/tmp/sepp/output.fx6t9lgm/root/P_8/pplacer.extended.1.z4kz_zyj.jplace\n",
      "[20:40:48] jobs.py (line 131):     INFO: Finished pplacer Job with input: backbone_alignment_file:/tmp/sepp/output.fx6t9lgm/root/P_8/pplacer.backbone.feqd8l6i.fasta, tree_file:/tmp/sepp/output.fx6t9lgm/root/P_8/pplacer.tree.ef6gofol.tre, info_file:/home/lauro/anaconda3/envs/qiime2-2021.11/lib/python3.8/site-packages/picrust2/default_files/prokaryotic/pro_ref/pro_ref.raxml_info, extended alignment:/tmp/sepp/output.fx6t9lgm/root/P_8/pplacer.extended.0.ijp6o0nd.fasta, output:/tmp/sepp/output.fx6t9lgm/root/P_8/pplacer.extended.0.ijp6o0nd.jplace\n",
      "[20:40:48] jobs.py (line 131):     INFO: Finished pplacer Job with input: backbone_alignment_file:/tmp/sepp/output.fx6t9lgm/root/P_10/pplacer.backbone.onkzbcqx.fasta, tree_file:/tmp/sepp/output.fx6t9lgm/root/P_10/pplacer.tree.41z1xpj7.tre, info_file:/home/lauro/anaconda3/envs/qiime2-2021.11/lib/python3.8/site-packages/picrust2/default_files/prokaryotic/pro_ref/pro_ref.raxml_info, extended alignment:/tmp/sepp/output.fx6t9lgm/root/P_10/pplacer.extended.1.b2_loil3.fasta, output:/tmp/sepp/output.fx6t9lgm/root/P_10/pplacer.extended.1.b2_loil3.jplace\n",
      "[20:40:50] jobs.py (line 131):     INFO: Finished pplacer Job with input: backbone_alignment_file:/tmp/sepp/output.fx6t9lgm/root/P_8/pplacer.backbone.a8vtx_px.fasta, tree_file:/tmp/sepp/output.fx6t9lgm/root/P_8/pplacer.tree.z0og60g3.tre, info_file:/home/lauro/anaconda3/envs/qiime2-2021.11/lib/python3.8/site-packages/picrust2/default_files/prokaryotic/pro_ref/pro_ref.raxml_info, extended alignment:/tmp/sepp/output.fx6t9lgm/root/P_8/pplacer.extended.2.88k_soyw.fasta, output:/tmp/sepp/output.fx6t9lgm/root/P_8/pplacer.extended.2.88k_soyw.jplace\n",
      "[20:40:53] jobs.py (line 131):     INFO: Finished pplacer Job with input: backbone_alignment_file:/tmp/sepp/output.fx6t9lgm/root/P_10/pplacer.backbone.tjvvtsf0.fasta, tree_file:/tmp/sepp/output.fx6t9lgm/root/P_10/pplacer.tree._7_kaft4.tre, info_file:/home/lauro/anaconda3/envs/qiime2-2021.11/lib/python3.8/site-packages/picrust2/default_files/prokaryotic/pro_ref/pro_ref.raxml_info, extended alignment:/tmp/sepp/output.fx6t9lgm/root/P_10/pplacer.extended.2.narjco9_.fasta, output:/tmp/sepp/output.fx6t9lgm/root/P_10/pplacer.extended.2.narjco9_.jplace\n",
      "[20:40:54] jobs.py (line 131):     INFO: Finished pplacer Job with input: backbone_alignment_file:/tmp/sepp/output.fx6t9lgm/root/P_10/pplacer.backbone.kkooovva.fasta, tree_file:/tmp/sepp/output.fx6t9lgm/root/P_10/pplacer.tree.mmbsg71l.tre, info_file:/home/lauro/anaconda3/envs/qiime2-2021.11/lib/python3.8/site-packages/picrust2/default_files/prokaryotic/pro_ref/pro_ref.raxml_info, extended alignment:/tmp/sepp/output.fx6t9lgm/root/P_10/pplacer.extended.0.ti_ehcbc.fasta, output:/tmp/sepp/output.fx6t9lgm/root/P_10/pplacer.extended.0.ti_ehcbc.jplace\n",
      "[20:40:59] jobs.py (line 131):     INFO: Finished pplacer Job with input: backbone_alignment_file:/tmp/sepp/output.fx6t9lgm/root/P_13/pplacer.backbone.bzvsu58y.fasta, tree_file:/tmp/sepp/output.fx6t9lgm/root/P_13/pplacer.tree.sb40t4w6.tre, info_file:/home/lauro/anaconda3/envs/qiime2-2021.11/lib/python3.8/site-packages/picrust2/default_files/prokaryotic/pro_ref/pro_ref.raxml_info, extended alignment:/tmp/sepp/output.fx6t9lgm/root/P_13/pplacer.extended.0.2wycv1ba.fasta, output:/tmp/sepp/output.fx6t9lgm/root/P_13/pplacer.extended.0.2wycv1ba.jplace\n",
      "[20:41:02] jobs.py (line 131):     INFO: Finished pplacer Job with input: backbone_alignment_file:/tmp/sepp/output.fx6t9lgm/root/P_12/pplacer.backbone.88rvwafy.fasta, tree_file:/tmp/sepp/output.fx6t9lgm/root/P_12/pplacer.tree.8lcm6o8s.tre, info_file:/home/lauro/anaconda3/envs/qiime2-2021.11/lib/python3.8/site-packages/picrust2/default_files/prokaryotic/pro_ref/pro_ref.raxml_info, extended alignment:/tmp/sepp/output.fx6t9lgm/root/P_12/pplacer.extended.0.q9bhrppo.fasta, output:/tmp/sepp/output.fx6t9lgm/root/P_12/pplacer.extended.0.q9bhrppo.jplace\n",
      "[20:41:03] jobs.py (line 131):     INFO: Finished pplacer Job with input: backbone_alignment_file:/tmp/sepp/output.fx6t9lgm/root/P_13/pplacer.backbone.jr8tvd42.fasta, tree_file:/tmp/sepp/output.fx6t9lgm/root/P_13/pplacer.tree.8ya6i39m.tre, info_file:/home/lauro/anaconda3/envs/qiime2-2021.11/lib/python3.8/site-packages/picrust2/default_files/prokaryotic/pro_ref/pro_ref.raxml_info, extended alignment:/tmp/sepp/output.fx6t9lgm/root/P_13/pplacer.extended.2.rj5nns83.fasta, output:/tmp/sepp/output.fx6t9lgm/root/P_13/pplacer.extended.2.rj5nns83.jplace\n",
      "[20:41:05] jobs.py (line 131):     INFO: Finished pplacer Job with input: backbone_alignment_file:/tmp/sepp/output.fx6t9lgm/root/P_12/pplacer.backbone.dxe7t9fe.fasta, tree_file:/tmp/sepp/output.fx6t9lgm/root/P_12/pplacer.tree.cgb3nxt1.tre, info_file:/home/lauro/anaconda3/envs/qiime2-2021.11/lib/python3.8/site-packages/picrust2/default_files/prokaryotic/pro_ref/pro_ref.raxml_info, extended alignment:/tmp/sepp/output.fx6t9lgm/root/P_12/pplacer.extended.2.4jun3t4z.fasta, output:/tmp/sepp/output.fx6t9lgm/root/P_12/pplacer.extended.2.4jun3t4z.jplace\n",
      "[20:41:05] jobs.py (line 131):     INFO: Finished pplacer Job with input: backbone_alignment_file:/tmp/sepp/output.fx6t9lgm/root/P_13/pplacer.backbone.yvgh0szs.fasta, tree_file:/tmp/sepp/output.fx6t9lgm/root/P_13/pplacer.tree.h1zi2t4b.tre, info_file:/home/lauro/anaconda3/envs/qiime2-2021.11/lib/python3.8/site-packages/picrust2/default_files/prokaryotic/pro_ref/pro_ref.raxml_info, extended alignment:/tmp/sepp/output.fx6t9lgm/root/P_13/pplacer.extended.1.ee0w1muy.fasta, output:/tmp/sepp/output.fx6t9lgm/root/P_13/pplacer.extended.1.ee0w1muy.jplace\n",
      "[20:41:06] jobs.py (line 131):     INFO: Finished pplacer Job with input: backbone_alignment_file:/tmp/sepp/output.fx6t9lgm/root/P_12/pplacer.backbone.7id49fr1.fasta, tree_file:/tmp/sepp/output.fx6t9lgm/root/P_12/pplacer.tree.sup6glrk.tre, info_file:/home/lauro/anaconda3/envs/qiime2-2021.11/lib/python3.8/site-packages/picrust2/default_files/prokaryotic/pro_ref/pro_ref.raxml_info, extended alignment:/tmp/sepp/output.fx6t9lgm/root/P_12/pplacer.extended.1.005y8om5.fasta, output:/tmp/sepp/output.fx6t9lgm/root/P_12/pplacer.extended.1.005y8om5.jplace\n",
      "[20:41:10] jobs.py (line 131):     INFO: Finished pplacer Job with input: backbone_alignment_file:/tmp/sepp/output.fx6t9lgm/root/P_15/pplacer.backbone.329881l1.fasta, tree_file:/tmp/sepp/output.fx6t9lgm/root/P_15/pplacer.tree.jrf6kij9.tre, info_file:/home/lauro/anaconda3/envs/qiime2-2021.11/lib/python3.8/site-packages/picrust2/default_files/prokaryotic/pro_ref/pro_ref.raxml_info, extended alignment:/tmp/sepp/output.fx6t9lgm/root/P_15/pplacer.extended.1.jqpp9nr5.fasta, output:/tmp/sepp/output.fx6t9lgm/root/P_15/pplacer.extended.1.jqpp9nr5.jplace\n",
      "[20:41:13] jobs.py (line 131):     INFO: Finished pplacer Job with input: backbone_alignment_file:/tmp/sepp/output.fx6t9lgm/root/P_15/pplacer.backbone.nusil3nf.fasta, tree_file:/tmp/sepp/output.fx6t9lgm/root/P_15/pplacer.tree.72eefim_.tre, info_file:/home/lauro/anaconda3/envs/qiime2-2021.11/lib/python3.8/site-packages/picrust2/default_files/prokaryotic/pro_ref/pro_ref.raxml_info, extended alignment:/tmp/sepp/output.fx6t9lgm/root/P_15/pplacer.extended.2.anfan7_6.fasta, output:/tmp/sepp/output.fx6t9lgm/root/P_15/pplacer.extended.2.anfan7_6.jplace\n",
      "[20:41:15] jobs.py (line 131):     INFO: Finished pplacer Job with input: backbone_alignment_file:/tmp/sepp/output.fx6t9lgm/root/P_14/pplacer.backbone.w3altkha.fasta, tree_file:/tmp/sepp/output.fx6t9lgm/root/P_14/pplacer.tree.y9akqsed.tre, info_file:/home/lauro/anaconda3/envs/qiime2-2021.11/lib/python3.8/site-packages/picrust2/default_files/prokaryotic/pro_ref/pro_ref.raxml_info, extended alignment:/tmp/sepp/output.fx6t9lgm/root/P_14/pplacer.extended.0.g522nfml.fasta, output:/tmp/sepp/output.fx6t9lgm/root/P_14/pplacer.extended.0.g522nfml.jplace\n",
      "[20:41:16] jobs.py (line 131):     INFO: Finished pplacer Job with input: backbone_alignment_file:/tmp/sepp/output.fx6t9lgm/root/P_15/pplacer.backbone.bcdk22qq.fasta, tree_file:/tmp/sepp/output.fx6t9lgm/root/P_15/pplacer.tree.vwl6nkpz.tre, info_file:/home/lauro/anaconda3/envs/qiime2-2021.11/lib/python3.8/site-packages/picrust2/default_files/prokaryotic/pro_ref/pro_ref.raxml_info, extended alignment:/tmp/sepp/output.fx6t9lgm/root/P_15/pplacer.extended.0.64e1brug.fasta, output:/tmp/sepp/output.fx6t9lgm/root/P_15/pplacer.extended.0.64e1brug.jplace\n",
      "[20:41:17] jobs.py (line 131):     INFO: Finished pplacer Job with input: backbone_alignment_file:/tmp/sepp/output.fx6t9lgm/root/P_14/pplacer.backbone.7g_0dtcd.fasta, tree_file:/tmp/sepp/output.fx6t9lgm/root/P_14/pplacer.tree.k4_lqb7n.tre, info_file:/home/lauro/anaconda3/envs/qiime2-2021.11/lib/python3.8/site-packages/picrust2/default_files/prokaryotic/pro_ref/pro_ref.raxml_info, extended alignment:/tmp/sepp/output.fx6t9lgm/root/P_14/pplacer.extended.2.udn5vkv6.fasta, output:/tmp/sepp/output.fx6t9lgm/root/P_14/pplacer.extended.2.udn5vkv6.jplace\n",
      "[20:41:17] jobs.py (line 131):     INFO: Finished pplacer Job with input: backbone_alignment_file:/tmp/sepp/output.fx6t9lgm/root/P_14/pplacer.backbone.p8hq7lpg.fasta, tree_file:/tmp/sepp/output.fx6t9lgm/root/P_14/pplacer.tree.k_i9ccid.tre, info_file:/home/lauro/anaconda3/envs/qiime2-2021.11/lib/python3.8/site-packages/picrust2/default_files/prokaryotic/pro_ref/pro_ref.raxml_info, extended alignment:/tmp/sepp/output.fx6t9lgm/root/P_14/pplacer.extended.1.gpbyvs2x.fasta, output:/tmp/sepp/output.fx6t9lgm/root/P_14/pplacer.extended.1.gpbyvs2x.jplace\n",
      "[20:42:11] jobs.py (line 131):     INFO: Finished pplacer Job with input: backbone_alignment_file:/tmp/sepp/output.fx6t9lgm/root/P_11/pplacer.backbone.vr6fek00.fasta, tree_file:/tmp/sepp/output.fx6t9lgm/root/P_11/pplacer.tree.rzkblfc2.tre, info_file:/home/lauro/anaconda3/envs/qiime2-2021.11/lib/python3.8/site-packages/picrust2/default_files/prokaryotic/pro_ref/pro_ref.raxml_info, extended alignment:/tmp/sepp/output.fx6t9lgm/root/P_11/pplacer.extended.0.l67z5kwl.fasta, output:/tmp/sepp/output.fx6t9lgm/root/P_11/pplacer.extended.0.l67z5kwl.jplace\n",
      "[20:42:13] jobs.py (line 131):     INFO: Finished pplacer Job with input: backbone_alignment_file:/tmp/sepp/output.fx6t9lgm/root/P_11/pplacer.backbone._9g90fy8.fasta, tree_file:/tmp/sepp/output.fx6t9lgm/root/P_11/pplacer.tree.hmceu9wh.tre, info_file:/home/lauro/anaconda3/envs/qiime2-2021.11/lib/python3.8/site-packages/picrust2/default_files/prokaryotic/pro_ref/pro_ref.raxml_info, extended alignment:/tmp/sepp/output.fx6t9lgm/root/P_11/pplacer.extended.1.bqv71xtg.fasta, output:/tmp/sepp/output.fx6t9lgm/root/P_11/pplacer.extended.1.bqv71xtg.jplace\n",
      "[20:42:14] jobs.py (line 131):     INFO: Finished pplacer Job with input: backbone_alignment_file:/tmp/sepp/output.fx6t9lgm/root/P_11/pplacer.backbone.q81ghe0w.fasta, tree_file:/tmp/sepp/output.fx6t9lgm/root/P_11/pplacer.tree.ig8e1jek.tre, info_file:/home/lauro/anaconda3/envs/qiime2-2021.11/lib/python3.8/site-packages/picrust2/default_files/prokaryotic/pro_ref/pro_ref.raxml_info, extended alignment:/tmp/sepp/output.fx6t9lgm/root/P_11/pplacer.extended.2.2fdwe5at.fasta, output:/tmp/sepp/output.fx6t9lgm/root/P_11/pplacer.extended.2.2fdwe5at.jplace\n",
      "[20:42:28] jobs.py (line 131):     INFO: Finished jsonmerger Job with input: input:pipe output:/tmp/tmpgxn2juzd/picrust2_out/intermediate/place_seqs/sepp_out/output_placement.json\n",
      "[20:42:28] algorithm.py (line 195):     INFO: Current execution Finished in 236 seconds\n",
      "[20:42:28] algorithm.py (line 197):     INFO: All checkpointed executions Finished in 236 cumulative time\n",
      "\n",
      "gappa examine graft --jplace-path /tmp/tmpgxn2juzd/picrust2_out/intermediate/place_seqs/sepp_out/output_placement.json --fully-resolve --out-dir /tmp/tmpgxn2juzd/picrust2_out/intermediate/place_seqs/sepp_out\n",
      "\n",
      "mv /tmp/tmpgxn2juzd/picrust2_out/intermediate/place_seqs/sepp_out/output_placement.newick /tmp/tmpgxn2juzd/picrust2_out/out.tre\n",
      "\n",
      "Finished placing sequences on output tree: /tmp/tmpgxn2juzd/picrust2_out/out.tre\n",
      "hsp.py --tree /tmp/tmpgxn2juzd/picrust2_out/out.tre --output /tmp/tmpgxn2juzd/picrust2_out/marker_predicted_and_nsti.tsv.gz --observed_trait_table /home/lauro/anaconda3/envs/qiime2-2021.11/lib/python3.8/site-packages/picrust2/default_files/prokaryotic/16S.txt.gz --hsp_method pic --edge_exponent 0.5 --seed 100 --calculate_NSTI --processes 1 --verbose\n"
     ]
    },
    {
     "name": "stdout",
     "output_type": "stream",
     "text": [
      "\n",
      "\n",
      "\n"
     ]
    },
    {
     "name": "stderr",
     "output_type": "stream",
     "text": [
      "Rscript /home/lauro/anaconda3/envs/qiime2-2021.11/lib/python3.8/site-packages/picrust2/Rscripts/castor_nsti.R /tmp/tmpgxn2juzd/picrust2_out/out.tre /tmp/tmp1mfv45aj/known_tips.txt /tmp/tmp1mfv45aj/nsti_out.txt\n",
      "\n",
      "Rscript /home/lauro/anaconda3/envs/qiime2-2021.11/lib/python3.8/site-packages/picrust2/Rscripts/castor_hsp.R /tmp/tmpgxn2juzd/picrust2_out/out.tre /tmp/tmpg0r05fyd/subset_tab_0 pic 0.5 FALSE FALSE /tmp/tmp1kxm8mxa/predicted_counts.txt /tmp/tmp1kxm8mxa/predicted_ci.txt 100\n",
      "\n",
      "\n",
      "hsp.py --tree /tmp/tmpgxn2juzd/picrust2_out/out.tre --output /tmp/tmpgxn2juzd/picrust2_out/EC_predicted.tsv.gz --observed_trait_table /home/lauro/anaconda3/envs/qiime2-2021.11/lib/python3.8/site-packages/picrust2/default_files/prokaryotic/ec.txt.gz --hsp_method pic --edge_exponent 0.5 --seed 100 --processes 6 --verbose\n"
     ]
    },
    {
     "name": "stdout",
     "output_type": "stream",
     "text": [
      "\n",
      "\n",
      "\n",
      "\n",
      "\n",
      "\n",
      "\n"
     ]
    },
    {
     "name": "stderr",
     "output_type": "stream",
     "text": [
      "Rscript /home/lauro/anaconda3/envs/qiime2-2021.11/lib/python3.8/site-packages/picrust2/Rscripts/castor_hsp.R /tmp/tmpgxn2juzd/picrust2_out/out.tre /tmp/tmpv78mlpk1/subset_tab_4 pic 0.5 FALSE FALSE /tmp/tmpr5lqnl5w/predicted_counts.txt /tmp/tmpr5lqnl5w/predicted_ci.txt 100\n",
      "\n",
      "Rscript /home/lauro/anaconda3/envs/qiime2-2021.11/lib/python3.8/site-packages/picrust2/Rscripts/castor_hsp.R /tmp/tmpgxn2juzd/picrust2_out/out.tre /tmp/tmpv78mlpk1/subset_tab_3 pic 0.5 FALSE FALSE /tmp/tmpt_9lil3f/predicted_counts.txt /tmp/tmpt_9lil3f/predicted_ci.txt 100\n",
      "\n",
      "Rscript /home/lauro/anaconda3/envs/qiime2-2021.11/lib/python3.8/site-packages/picrust2/Rscripts/castor_hsp.R /tmp/tmpgxn2juzd/picrust2_out/out.tre /tmp/tmpv78mlpk1/subset_tab_5 pic 0.5 FALSE FALSE /tmp/tmpja49980k/predicted_counts.txt /tmp/tmpja49980k/predicted_ci.txt 100\n",
      "\n",
      "Rscript /home/lauro/anaconda3/envs/qiime2-2021.11/lib/python3.8/site-packages/picrust2/Rscripts/castor_hsp.R /tmp/tmpgxn2juzd/picrust2_out/out.tre /tmp/tmpv78mlpk1/subset_tab_0 pic 0.5 FALSE FALSE /tmp/tmpjg4oxn66/predicted_counts.txt /tmp/tmpjg4oxn66/predicted_ci.txt 100\n",
      "\n",
      "Rscript /home/lauro/anaconda3/envs/qiime2-2021.11/lib/python3.8/site-packages/picrust2/Rscripts/castor_hsp.R /tmp/tmpgxn2juzd/picrust2_out/out.tre /tmp/tmpv78mlpk1/subset_tab_1 pic 0.5 FALSE FALSE /tmp/tmp7wid6vcc/predicted_counts.txt /tmp/tmp7wid6vcc/predicted_ci.txt 100\n",
      "\n",
      "Rscript /home/lauro/anaconda3/envs/qiime2-2021.11/lib/python3.8/site-packages/picrust2/Rscripts/castor_hsp.R /tmp/tmpgxn2juzd/picrust2_out/out.tre /tmp/tmpv78mlpk1/subset_tab_2 pic 0.5 FALSE FALSE /tmp/tmp3g9pwqqx/predicted_counts.txt /tmp/tmp3g9pwqqx/predicted_ci.txt 100\n",
      "\n",
      "\n",
      "hsp.py --tree /tmp/tmpgxn2juzd/picrust2_out/out.tre --output /tmp/tmpgxn2juzd/picrust2_out/KO_predicted.tsv.gz --observed_trait_table /home/lauro/anaconda3/envs/qiime2-2021.11/lib/python3.8/site-packages/picrust2/default_files/prokaryotic/ko.txt.gz --hsp_method pic --edge_exponent 0.5 --seed 100 --processes 6 --verbose\n"
     ]
    },
    {
     "name": "stdout",
     "output_type": "stream",
     "text": [
      "\n",
      "\n",
      "\n",
      "\n",
      "\n",
      "\n",
      "\n",
      "\n",
      "\n",
      "\n",
      "\n",
      "\n",
      "\n",
      "\n",
      "\n",
      "\n",
      "\n",
      "\n",
      "\n",
      "\n",
      "\n",
      "\n",
      "\n"
     ]
    },
    {
     "name": "stderr",
     "output_type": "stream",
     "text": [
      "Rscript /home/lauro/anaconda3/envs/qiime2-2021.11/lib/python3.8/site-packages/picrust2/Rscripts/castor_hsp.R /tmp/tmpgxn2juzd/picrust2_out/out.tre /tmp/tmp9rqlvvti/subset_tab_3 pic 0.5 FALSE FALSE /tmp/tmpkurowlch/predicted_counts.txt /tmp/tmpkurowlch/predicted_ci.txt 100\n",
      "\n",
      "Rscript /home/lauro/anaconda3/envs/qiime2-2021.11/lib/python3.8/site-packages/picrust2/Rscripts/castor_hsp.R /tmp/tmpgxn2juzd/picrust2_out/out.tre /tmp/tmp9rqlvvti/subset_tab_9 pic 0.5 FALSE FALSE /tmp/tmpe45zbeb9/predicted_counts.txt /tmp/tmpe45zbeb9/predicted_ci.txt 100\n",
      "\n",
      "Rscript /home/lauro/anaconda3/envs/qiime2-2021.11/lib/python3.8/site-packages/picrust2/Rscripts/castor_hsp.R /tmp/tmpgxn2juzd/picrust2_out/out.tre /tmp/tmp9rqlvvti/subset_tab_15 pic 0.5 FALSE FALSE /tmp/tmpkw3fs04c/predicted_counts.txt /tmp/tmpkw3fs04c/predicted_ci.txt 100\n",
      "\n",
      "Rscript /home/lauro/anaconda3/envs/qiime2-2021.11/lib/python3.8/site-packages/picrust2/Rscripts/castor_hsp.R /tmp/tmpgxn2juzd/picrust2_out/out.tre /tmp/tmp9rqlvvti/subset_tab_5 pic 0.5 FALSE FALSE /tmp/tmpallcx9sb/predicted_counts.txt /tmp/tmpallcx9sb/predicted_ci.txt 100\n",
      "\n",
      "Rscript /home/lauro/anaconda3/envs/qiime2-2021.11/lib/python3.8/site-packages/picrust2/Rscripts/castor_hsp.R /tmp/tmpgxn2juzd/picrust2_out/out.tre /tmp/tmp9rqlvvti/subset_tab_8 pic 0.5 FALSE FALSE /tmp/tmppxat1os3/predicted_counts.txt /tmp/tmppxat1os3/predicted_ci.txt 100\n",
      "\n",
      "Rscript /home/lauro/anaconda3/envs/qiime2-2021.11/lib/python3.8/site-packages/picrust2/Rscripts/castor_hsp.R /tmp/tmpgxn2juzd/picrust2_out/out.tre /tmp/tmp9rqlvvti/subset_tab_17 pic 0.5 FALSE FALSE /tmp/tmpcbkzzd_n/predicted_counts.txt /tmp/tmpcbkzzd_n/predicted_ci.txt 100\n",
      "\n",
      "Rscript /home/lauro/anaconda3/envs/qiime2-2021.11/lib/python3.8/site-packages/picrust2/Rscripts/castor_hsp.R /tmp/tmpgxn2juzd/picrust2_out/out.tre /tmp/tmp9rqlvvti/subset_tab_1 pic 0.5 FALSE FALSE /tmp/tmp0rslbzjc/predicted_counts.txt /tmp/tmp0rslbzjc/predicted_ci.txt 100\n",
      "\n",
      "Rscript /home/lauro/anaconda3/envs/qiime2-2021.11/lib/python3.8/site-packages/picrust2/Rscripts/castor_hsp.R /tmp/tmpgxn2juzd/picrust2_out/out.tre /tmp/tmp9rqlvvti/subset_tab_6 pic 0.5 FALSE FALSE /tmp/tmp69pc3hrm/predicted_counts.txt /tmp/tmp69pc3hrm/predicted_ci.txt 100\n",
      "\n",
      "Rscript /home/lauro/anaconda3/envs/qiime2-2021.11/lib/python3.8/site-packages/picrust2/Rscripts/castor_hsp.R /tmp/tmpgxn2juzd/picrust2_out/out.tre /tmp/tmp9rqlvvti/subset_tab_13 pic 0.5 FALSE FALSE /tmp/tmp6cv_4lsl/predicted_counts.txt /tmp/tmp6cv_4lsl/predicted_ci.txt 100\n",
      "\n",
      "Rscript /home/lauro/anaconda3/envs/qiime2-2021.11/lib/python3.8/site-packages/picrust2/Rscripts/castor_hsp.R /tmp/tmpgxn2juzd/picrust2_out/out.tre /tmp/tmp9rqlvvti/subset_tab_21 pic 0.5 FALSE FALSE /tmp/tmpu8nal5mf/predicted_counts.txt /tmp/tmpu8nal5mf/predicted_ci.txt 100\n",
      "\n",
      "Rscript /home/lauro/anaconda3/envs/qiime2-2021.11/lib/python3.8/site-packages/picrust2/Rscripts/castor_hsp.R /tmp/tmpgxn2juzd/picrust2_out/out.tre /tmp/tmp9rqlvvti/subset_tab_0 pic 0.5 FALSE FALSE /tmp/tmp272vpw22/predicted_counts.txt /tmp/tmp272vpw22/predicted_ci.txt 100\n",
      "\n",
      "Rscript /home/lauro/anaconda3/envs/qiime2-2021.11/lib/python3.8/site-packages/picrust2/Rscripts/castor_hsp.R /tmp/tmpgxn2juzd/picrust2_out/out.tre /tmp/tmp9rqlvvti/subset_tab_7 pic 0.5 FALSE FALSE /tmp/tmpidajtbga/predicted_counts.txt /tmp/tmpidajtbga/predicted_ci.txt 100\n",
      "\n",
      "Rscript /home/lauro/anaconda3/envs/qiime2-2021.11/lib/python3.8/site-packages/picrust2/Rscripts/castor_hsp.R /tmp/tmpgxn2juzd/picrust2_out/out.tre /tmp/tmp9rqlvvti/subset_tab_12 pic 0.5 FALSE FALSE /tmp/tmp4h3_unvj/predicted_counts.txt /tmp/tmp4h3_unvj/predicted_ci.txt 100\n",
      "\n",
      "Rscript /home/lauro/anaconda3/envs/qiime2-2021.11/lib/python3.8/site-packages/picrust2/Rscripts/castor_hsp.R /tmp/tmpgxn2juzd/picrust2_out/out.tre /tmp/tmp9rqlvvti/subset_tab_18 pic 0.5 FALSE FALSE /tmp/tmp0c37o3bw/predicted_counts.txt /tmp/tmp0c37o3bw/predicted_ci.txt 100\n",
      "\n",
      "Rscript /home/lauro/anaconda3/envs/qiime2-2021.11/lib/python3.8/site-packages/picrust2/Rscripts/castor_hsp.R /tmp/tmpgxn2juzd/picrust2_out/out.tre /tmp/tmp9rqlvvti/subset_tab_4 pic 0.5 FALSE FALSE /tmp/tmph194m4ss/predicted_counts.txt /tmp/tmph194m4ss/predicted_ci.txt 100\n",
      "\n",
      "Rscript /home/lauro/anaconda3/envs/qiime2-2021.11/lib/python3.8/site-packages/picrust2/Rscripts/castor_hsp.R /tmp/tmpgxn2juzd/picrust2_out/out.tre /tmp/tmp9rqlvvti/subset_tab_11 pic 0.5 FALSE FALSE /tmp/tmpgu37mbbh/predicted_counts.txt /tmp/tmpgu37mbbh/predicted_ci.txt 100\n",
      "\n",
      "Rscript /home/lauro/anaconda3/envs/qiime2-2021.11/lib/python3.8/site-packages/picrust2/Rscripts/castor_hsp.R /tmp/tmpgxn2juzd/picrust2_out/out.tre /tmp/tmp9rqlvvti/subset_tab_14 pic 0.5 FALSE FALSE /tmp/tmp0h4gmwkz/predicted_counts.txt /tmp/tmp0h4gmwkz/predicted_ci.txt 100\n",
      "\n",
      "Rscript /home/lauro/anaconda3/envs/qiime2-2021.11/lib/python3.8/site-packages/picrust2/Rscripts/castor_hsp.R /tmp/tmpgxn2juzd/picrust2_out/out.tre /tmp/tmp9rqlvvti/subset_tab_19 pic 0.5 FALSE FALSE /tmp/tmpgo3c89a3/predicted_counts.txt /tmp/tmpgo3c89a3/predicted_ci.txt 100\n",
      "\n",
      "Rscript /home/lauro/anaconda3/envs/qiime2-2021.11/lib/python3.8/site-packages/picrust2/Rscripts/castor_hsp.R /tmp/tmpgxn2juzd/picrust2_out/out.tre /tmp/tmp9rqlvvti/subset_tab_2 pic 0.5 FALSE FALSE /tmp/tmpp1a9spyw/predicted_counts.txt /tmp/tmpp1a9spyw/predicted_ci.txt 100\n",
      "\n",
      "Rscript /home/lauro/anaconda3/envs/qiime2-2021.11/lib/python3.8/site-packages/picrust2/Rscripts/castor_hsp.R /tmp/tmpgxn2juzd/picrust2_out/out.tre /tmp/tmp9rqlvvti/subset_tab_10 pic 0.5 FALSE FALSE /tmp/tmpmc_7xcr9/predicted_counts.txt /tmp/tmpmc_7xcr9/predicted_ci.txt 100\n",
      "\n",
      "Rscript /home/lauro/anaconda3/envs/qiime2-2021.11/lib/python3.8/site-packages/picrust2/Rscripts/castor_hsp.R /tmp/tmpgxn2juzd/picrust2_out/out.tre /tmp/tmp9rqlvvti/subset_tab_16 pic 0.5 FALSE FALSE /tmp/tmpvqeq2267/predicted_counts.txt /tmp/tmpvqeq2267/predicted_ci.txt 100\n",
      "\n",
      "Rscript /home/lauro/anaconda3/envs/qiime2-2021.11/lib/python3.8/site-packages/picrust2/Rscripts/castor_hsp.R /tmp/tmpgxn2juzd/picrust2_out/out.tre /tmp/tmp9rqlvvti/subset_tab_20 pic 0.5 FALSE FALSE /tmp/tmp3kgrc7mp/predicted_counts.txt /tmp/tmp3kgrc7mp/predicted_ci.txt 100\n",
      "\n",
      "\n",
      "Running metagenome pipeline for EC\n",
      "metagenome_pipeline.py --input /tmp/tmpgxn2juzd/intable.biom --function /tmp/tmpgxn2juzd/picrust2_out/EC_predicted.tsv.gz --min_reads 1 --min_samples 1 --out_dir /tmp/tmpgxn2juzd/picrust2_out/EC_metagenome_out --max_nsti 2 --marker /tmp/tmpgxn2juzd/picrust2_out/marker_predicted_and_nsti.tsv.gz\n"
     ]
    },
    {
     "name": "stdout",
     "output_type": "stream",
     "text": [
      "\n"
     ]
    },
    {
     "name": "stderr",
     "output_type": "stream",
     "text": [
      "All ASVs were below the max NSTI cut-off of 2.0 and so all were retained for downstream analyses.\n",
      "\n",
      "Running metagenome pipeline for KO\n",
      "metagenome_pipeline.py --input /tmp/tmpgxn2juzd/intable.biom --function /tmp/tmpgxn2juzd/picrust2_out/KO_predicted.tsv.gz --min_reads 1 --min_samples 1 --out_dir /tmp/tmpgxn2juzd/picrust2_out/KO_metagenome_out --max_nsti 2 --marker /tmp/tmpgxn2juzd/picrust2_out/marker_predicted_and_nsti.tsv.gz\n"
     ]
    },
    {
     "name": "stdout",
     "output_type": "stream",
     "text": [
      "\n",
      "Inferring pathways from predicted EC\n"
     ]
    },
    {
     "name": "stderr",
     "output_type": "stream",
     "text": [
      "All ASVs were below the max NSTI cut-off of 2.0 and so all were retained for downstream analyses.\n",
      "\n",
      "pathway_pipeline.py --input /tmp/tmpgxn2juzd/picrust2_out/EC_metagenome_out/pred_metagenome_unstrat.tsv.gz --out_dir /tmp/tmpgxn2juzd/picrust2_out/pathways_out --map /home/lauro/anaconda3/envs/qiime2-2021.11/lib/python3.8/site-packages/picrust2/default_files/pathway_mapfiles/metacyc_path2rxn_struc_filt_pro.txt --intermediate /tmp/tmpgxn2juzd/picrust2_out/intermediate/pathways --proc 6 --regroup_map /home/lauro/anaconda3/envs/qiime2-2021.11/lib/python3.8/site-packages/picrust2/default_files/pathway_mapfiles/ec_level4_to_metacyc_rxn.tsv --verbose\n"
     ]
    },
    {
     "name": "stderr",
     "output_type": "stream",
     "text": [
      "\n",
      "Wrote predicted pathway abundances and coverages to /tmp/tmpgxn2juzd/picrust2_out/pathways_out\n"
     ]
    }
   ],
   "source": [
    "need_pipeline = replace_files\n",
    "need_pipeline |= not (os.path.isfile(ec_path) and os.path.isfile(ko_path) and os.path.isfile(pathway_path))\n",
    "if need_pipeline:\n",
    "    results = picrust2.methods.full_pipeline(\n",
    "        table=tabs, \n",
    "        seq=seqs, \n",
    "        threads=6, \n",
    "        placement_tool='sepp',\n",
    "        hsp_method='pic', \n",
    "        max_nsti=2,\n",
    "        highly_verbose=True\n",
    "    )\n",
    "    ec_metagenome = results.ec_metagenome\n",
    "    ko_metagenome = results.ko_metagenome\n",
    "    pathway_abundance = results.pathway_abundance\n",
    "else:\n",
    "    ec_metagenome = Artifact.load(ec_path)\n",
    "    ko_metagenome = Artifact.load(ko_path)\n",
    "    pathway_abundance = Artifact.load(pathway_path)"
   ]
  },
  {
   "cell_type": "markdown",
   "id": "771308c4",
   "metadata": {
    "papermill": {
     "duration": 0.039186,
     "end_time": "2022-11-18T20:48:07.684386",
     "exception": false,
     "start_time": "2022-11-18T20:48:07.645200",
     "status": "completed"
    },
    "tags": []
   },
   "source": [
    "### Persist created artifacts\n",
    "\n",
    "We will define file paths and persist all artifacts. We start with `.qza` files. We will save the visualization files in sequence as `qzv` files. Finally, we save a `biom`-like file as `tsv` with brief descriptions of all functions."
   ]
  },
  {
   "cell_type": "code",
   "execution_count": 9,
   "id": "c680ab46",
   "metadata": {
    "ExecuteTime": {
     "end_time": "2022-11-09T19:20:47.646444Z",
     "start_time": "2022-11-09T19:20:47.643806Z"
    },
    "execution": {
     "iopub.execute_input": "2022-11-18T20:48:07.789360Z",
     "iopub.status.busy": "2022-11-18T20:48:07.788370Z",
     "iopub.status.idle": "2022-11-18T20:48:07.997629Z",
     "shell.execute_reply": "2022-11-18T20:48:07.996880Z"
    },
    "papermill": {
     "duration": 0.272926,
     "end_time": "2022-11-18T20:48:07.997866",
     "exception": false,
     "start_time": "2022-11-18T20:48:07.724940",
     "status": "completed"
    },
    "tags": []
   },
   "outputs": [],
   "source": [
    "if need_pipeline:\n",
    "    # Export artifact folder\n",
    "    ec_metagenome.export_data(output_dir=ec_path.split('.')[0])\n",
    "    ko_metagenome.export_data(output_dir=ko_path.split('.')[0])\n",
    "    pathway_abundance.export_data(output_dir=pathway_path.split('.')[0])\n",
    "    \n",
    "    # Save artifacts as .qza files\n",
    "    ec_metagenome.save(ec_path)\n",
    "    ko_metagenome.save(ko_path)\n",
    "    pathway_abundance.save(pathway_path)"
   ]
  },
  {
   "cell_type": "code",
   "execution_count": 10,
   "id": "d61ebec3",
   "metadata": {
    "ExecuteTime": {
     "end_time": "2022-11-09T19:20:47.687022Z",
     "start_time": "2022-11-09T19:20:47.647637Z"
    },
    "execution": {
     "iopub.execute_input": "2022-11-18T20:48:08.081063Z",
     "iopub.status.busy": "2022-11-18T20:48:08.080633Z",
     "iopub.status.idle": "2022-11-18T20:48:14.473902Z",
     "shell.execute_reply": "2022-11-18T20:48:14.474552Z"
    },
    "papermill": {
     "duration": 6.434761,
     "end_time": "2022-11-18T20:48:14.474759",
     "exception": false,
     "start_time": "2022-11-18T20:48:08.039998",
     "status": "completed"
    },
    "tags": []
   },
   "outputs": [],
   "source": [
    "need_viz = replace_files\n",
    "need_viz |= not (os.path.isfile(ec_viz_path) and os.path.isfile(ko_viz_path) and os.path.isfile(pathway_viz_path))\n",
    "if need_viz:\n",
    "    # Create visualization artifacts\n",
    "    ec_viz = summarize(table=ec_metagenome, sample_metadata=metadata_qa).visualization\n",
    "    ko_viz = summarize(table=ko_metagenome, sample_metadata=metadata_qa).visualization\n",
    "    path_viz = summarize(table=pathway_abundance, sample_metadata=metadata_qa).visualization\n",
    "\n",
    "    # Save visualization artifacts as .qzv files\n",
    "    ec_viz.save(ec_viz_path)\n",
    "    ko_viz.save(ko_viz_path)\n",
    "    path_viz.save(pathway_viz_path)"
   ]
  },
  {
   "cell_type": "code",
   "execution_count": 11,
   "id": "57f1f4d8",
   "metadata": {
    "ExecuteTime": {
     "end_time": "2022-11-09T19:20:47.704885Z",
     "start_time": "2022-11-09T19:20:47.689312Z"
    },
    "execution": {
     "iopub.execute_input": "2022-11-18T20:48:14.573916Z",
     "iopub.status.busy": "2022-11-18T20:48:14.573183Z",
     "iopub.status.idle": "2022-11-18T20:48:18.570232Z",
     "shell.execute_reply": "2022-11-18T20:48:18.571207Z"
    },
    "papermill": {
     "duration": 4.051293,
     "end_time": "2022-11-18T20:48:18.571496",
     "exception": false,
     "start_time": "2022-11-18T20:48:14.520203",
     "status": "completed"
    },
    "tags": []
   },
   "outputs": [],
   "source": [
    "need_biom = replace_files\n",
    "need_biom |= not (os.path.isfile(ec_fpath) and os.path.isfile(ko_fpath) and os.path.isfile(pathway_fpath))\n",
    "if need_biom:\n",
    "    # Convert artifact to dataframe - transposed\n",
    "    df_pathway = pathway_abundance.view(pd.DataFrame).T\n",
    "    df_ec = ec_metagenome.view(pd.DataFrame).T\n",
    "    df_ko = ko_metagenome.view(pd.DataFrame).T\n",
    "\n",
    "    # Write dataframe to a tsv file\n",
    "    df_pathway.to_csv(pathway_fpath, sep='\\t', index=True)\n",
    "    df_ec.to_csv(ec_fpath, sep='\\t', index=True)\n",
    "    df_ko.to_csv(ko_fpath, sep='\\t', index=True)\n",
    "    \n",
    "    # Put a new column with descriptions of each function's ID\n",
    "    !add_descriptions.py -i {ec_fpath} -m EC -o {ec_desc_fpath}\n",
    "    !add_descriptions.py -i {ko_fpath} -m KO -o {ko_desc_fpath}\n",
    "    !add_descriptions.py -i {pathway_fpath} -m METACYC -o {pathway_desc_fpath}"
   ]
  }
 ],
 "metadata": {
  "celltoolbar": "Edit Metadata",
  "kernelspec": {
   "display_name": "Python 3",
   "language": "python",
   "name": "python3"
  },
  "language_info": {
   "codemirror_mode": {
    "name": "ipython",
    "version": 3
   },
   "file_extension": ".py",
   "mimetype": "text/x-python",
   "name": "python",
   "nbconvert_exporter": "python",
   "pygments_lexer": "ipython3",
   "version": "3.8.12"
  },
  "papermill": {
   "default_parameters": {},
   "duration": 672.715071,
   "end_time": "2022-11-18T20:48:20.035469",
   "environment_variables": {},
   "exception": null,
   "input_path": "nb-templates/step-picrust2-analysis.ipynb",
   "output_path": "/home/lauro/nupeb/rede-micro/redemicro-thayane/experiments/thayane-PM/nb-executed-steps/step-picrust2-analysis-thayane-PM.ipynb",
   "parameters": {
    "base_dir": "/home/lauro/nupeb/rede-micro/redemicro-thayane",
    "class_col": "class-straw",
    "classifier_file": "/home/lauro/nupeb/16S_classifiers_qiime2/silva-138-99-nb-classifier.qza",
    "experiment_name": "thayane-PM",
    "manifest_file": "/home/lauro/nupeb/rede-micro/redemicro-thayane/data/manifest.csv",
    "metadata_file": "/home/lauro/nupeb/rede-micro/redemicro-thayane/data/metadata.tsv",
    "overlap": 12,
    "phred": 20,
    "replace_files": false,
    "threads": 6,
    "trunc_f": 0,
    "trunc_r": 0
   },
   "start_time": "2022-11-18T20:37:07.320398",
   "version": "2.3.4"
  }
 },
 "nbformat": 4,
 "nbformat_minor": 5
}