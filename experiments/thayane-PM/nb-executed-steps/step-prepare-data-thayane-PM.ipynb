{
 "cells": [
  {
   "cell_type": "markdown",
   "id": "32d4f64d",
   "metadata": {
    "papermill": {
     "duration": 0.019845,
     "end_time": "2022-10-21T12:40:03.057229",
     "exception": false,
     "start_time": "2022-10-21T12:40:03.037384",
     "status": "completed"
    },
    "tags": []
   },
   "source": [
    "# Prepare data for Pipeline"
   ]
  },
  {
   "cell_type": "markdown",
   "id": "b8c5d738",
   "metadata": {
    "papermill": {
     "duration": 0.011524,
     "end_time": "2022-10-21T12:40:03.080904",
     "exception": false,
     "start_time": "2022-10-21T12:40:03.069380",
     "status": "completed"
    },
    "tags": []
   },
   "source": [
    "## Setup and settings"
   ]
  },
  {
   "cell_type": "code",
   "execution_count": 1,
   "id": "e60cab3f",
   "metadata": {
    "ExecuteTime": {
     "end_time": "2022-10-14T14:33:37.863523Z",
     "start_time": "2022-10-14T14:33:14.145712Z"
    },
    "execution": {
     "iopub.execute_input": "2022-10-21T12:40:03.104882Z",
     "iopub.status.busy": "2022-10-21T12:40:03.104520Z",
     "iopub.status.idle": "2022-10-21T12:40:09.958190Z",
     "shell.execute_reply": "2022-10-21T12:40:09.957599Z"
    },
    "papermill": {
     "duration": 6.869196,
     "end_time": "2022-10-21T12:40:09.961352",
     "exception": false,
     "start_time": "2022-10-21T12:40:03.092156",
     "status": "completed"
    },
    "tags": []
   },
   "outputs": [],
   "source": [
    "# Importing packages\n",
    "import os\n",
    "import yaml\n",
    "import logging\n",
    "import pandas as pd\n",
    "from Bio.Seq import Seq\n",
    "from qiime2 import Artifact, Visualization\n",
    "from qiime2.plugins import demux\n",
    "from qiime2.plugins.cutadapt.methods import trim_paired"
   ]
  },
  {
   "cell_type": "markdown",
   "id": "1549d6ed",
   "metadata": {
    "papermill": {
     "duration": 0.010294,
     "end_time": "2022-10-21T12:40:09.989578",
     "exception": false,
     "start_time": "2022-10-21T12:40:09.979284",
     "status": "completed"
    },
    "tags": []
   },
   "source": [
    "### Receiving the parameters\n",
    "\n",
    "The following cell can receive parameters using the [papermill](https://papermill.readthedocs.io/en/latest/) tool."
   ]
  },
  {
   "cell_type": "code",
   "execution_count": 2,
   "id": "9a464465",
   "metadata": {
    "ExecuteTime": {
     "end_time": "2022-06-28T18:50:41.594341Z",
     "start_time": "2022-06-28T18:50:41.591544Z"
    },
    "execution": {
     "iopub.execute_input": "2022-10-21T12:40:10.040924Z",
     "iopub.status.busy": "2022-10-21T12:40:10.040709Z",
     "iopub.status.idle": "2022-10-21T12:40:10.045835Z",
     "shell.execute_reply": "2022-10-21T12:40:10.045211Z"
    },
    "papermill": {
     "duration": 0.017909,
     "end_time": "2022-10-21T12:40:10.047304",
     "exception": false,
     "start_time": "2022-10-21T12:40:10.029395",
     "status": "completed"
    },
    "tags": [
     "parameters"
    ]
   },
   "outputs": [],
   "source": [
    "params_path = os.path.join('..', 'params', 'ana-flavia-superlactacao.yaml')\n",
    "experiment_name = 'jenneffer-vs-01'\n",
    "base_dir = os.path.join('/', 'home', 'lauro', 'nupeb', 'redemicro')\n",
    "manifest_file = os.path.join(base_dir, 'data', 'raw', 'manifest', 'not-hist-vs-manifest.csv')\n",
    "img_folder = os.path.abspath(os.path.join(base_dir, 'imgs'))\n",
    "replace_files = False\n",
    "trim = None"
   ]
  },
  {
   "cell_type": "code",
   "execution_count": 3,
   "id": "d6e8ec4d",
   "metadata": {
    "execution": {
     "iopub.execute_input": "2022-10-21T12:40:10.069960Z",
     "iopub.status.busy": "2022-10-21T12:40:10.069637Z",
     "iopub.status.idle": "2022-10-21T12:40:10.074276Z",
     "shell.execute_reply": "2022-10-21T12:40:10.073648Z"
    },
    "papermill": {
     "duration": 0.017802,
     "end_time": "2022-10-21T12:40:10.075765",
     "exception": false,
     "start_time": "2022-10-21T12:40:10.057963",
     "status": "completed"
    },
    "tags": [
     "injected-parameters"
    ]
   },
   "outputs": [],
   "source": [
    "# Parameters\n",
    "experiment_name = \"thayane-PM\"\n",
    "base_dir = \"/home/lauro/nupeb/rede-micro/redemicro-thayane\"\n",
    "manifest_file = \"/home/lauro/nupeb/rede-micro/redemicro-thayane/data/manifest.csv\"\n",
    "metadata_file = \"/home/lauro/nupeb/rede-micro/redemicro-thayane/data/metadata.tsv\"\n",
    "class_col = \"sample-id\"\n",
    "classifier_file = \"/home/lauro/nupeb/dados_brutos_rede_genoma/16S_classifiers_qiime2/silva-138-99-nb-classifier.qza\"\n",
    "replace_files = False\n",
    "phred = 20\n",
    "trunc_f = 0\n",
    "trunc_r = 0\n",
    "overlap = 12\n",
    "threads = 6\n"
   ]
  },
  {
   "cell_type": "code",
   "execution_count": 4,
   "id": "115a58b8",
   "metadata": {
    "ExecuteTime": {
     "end_time": "2022-06-28T18:50:41.610682Z",
     "start_time": "2022-06-28T18:50:41.595886Z"
    },
    "execution": {
     "iopub.execute_input": "2022-10-21T12:40:10.099290Z",
     "iopub.status.busy": "2022-10-21T12:40:10.098993Z",
     "iopub.status.idle": "2022-10-21T12:40:10.105291Z",
     "shell.execute_reply": "2022-10-21T12:40:10.104317Z"
    },
    "papermill": {
     "duration": 0.019774,
     "end_time": "2022-10-21T12:40:10.106892",
     "exception": false,
     "start_time": "2022-10-21T12:40:10.087118",
     "status": "completed"
    },
    "tags": []
   },
   "outputs": [],
   "source": [
    "# Setting hardcoded parameters for development and debbuging\n",
    "production = True\n",
    "if not production:\n",
    "    params_path = os.path.join('..', 'params', 'ana-flavia-hipotese-01')\n",
    "    with open(params_path, 'r') as stream:\n",
    "        params = yaml.safe_load(stream)\n",
    "        experiment_name = params['experiment_name']\n",
    "        base_dir = params['base_dir']\n",
    "        manifest_file = params['manifest_file']\n",
    "        replace_files = params['replace_files']"
   ]
  },
  {
   "cell_type": "markdown",
   "id": "ddda5a39",
   "metadata": {
    "papermill": {
     "duration": 0.010516,
     "end_time": "2022-10-21T12:40:10.128050",
     "exception": false,
     "start_time": "2022-10-21T12:40:10.117534",
     "status": "completed"
    },
    "tags": []
   },
   "source": [
    "### Defining names and paths"
   ]
  },
  {
   "cell_type": "code",
   "execution_count": 5,
   "id": "38cb9435",
   "metadata": {
    "ExecuteTime": {
     "end_time": "2022-06-28T18:50:41.618098Z",
     "start_time": "2022-06-28T18:50:41.614152Z"
    },
    "execution": {
     "iopub.execute_input": "2022-10-21T12:40:10.150646Z",
     "iopub.status.busy": "2022-10-21T12:40:10.150239Z",
     "iopub.status.idle": "2022-10-21T12:40:10.154586Z",
     "shell.execute_reply": "2022-10-21T12:40:10.153748Z"
    },
    "papermill": {
     "duration": 0.017836,
     "end_time": "2022-10-21T12:40:10.156372",
     "exception": false,
     "start_time": "2022-10-21T12:40:10.138536",
     "status": "completed"
    },
    "tags": []
   },
   "outputs": [],
   "source": [
    "# new_manifest = '/home/lauro/nupeb/redemicro/data/raw/manifest/karina-manifest.csv'\n",
    "# with open(manifest_file, 'r') as oldm, open(new_manifest, 'w') as newm:\n",
    "#     header = 'sample-id,absolute-filepath,direction\\n'\n",
    "#     newm.write(header)\n",
    "#     for line in oldm.readlines()[1:]:\n",
    "#         sid, forward, reverse = line[:-1].split(',')\n",
    "#         fline = ','.join((sid, forward, 'forward')) + '\\n'\n",
    "#         rline = ','.join((sid, reverse, 'reverse')) + '\\n'\n",
    "#         newm.write(fline)\n",
    "#         newm.write(rline)"
   ]
  },
  {
   "cell_type": "code",
   "execution_count": 6,
   "id": "a959fc30",
   "metadata": {
    "ExecuteTime": {
     "end_time": "2022-06-28T18:50:41.632125Z",
     "start_time": "2022-06-28T18:50:41.619710Z"
    },
    "execution": {
     "iopub.execute_input": "2022-10-21T12:40:10.180409Z",
     "iopub.status.busy": "2022-10-21T12:40:10.180069Z",
     "iopub.status.idle": "2022-10-21T12:40:10.189575Z",
     "shell.execute_reply": "2022-10-21T12:40:10.188716Z"
    },
    "papermill": {
     "duration": 0.023849,
     "end_time": "2022-10-21T12:40:10.191454",
     "exception": false,
     "start_time": "2022-10-21T12:40:10.167605",
     "status": "completed"
    },
    "tags": []
   },
   "outputs": [],
   "source": [
    "# Define the output folder path\n",
    "out_dir = os.path.join(base_dir, 'experiments', experiment_name, 'qiime-artifacts')\n",
    "img_folder = os.path.abspath(os.path.join(base_dir, 'experiments', experiment_name, 'imgs'))\n",
    "\n",
    "# Create path if it not exist\n",
    "if not os.path.isdir(out_dir):\n",
    "    os.makedirs(out_dir)\n",
    "    print(f'New qiime-artifacts folder path created: {out_dir}')\n",
    "\n",
    "# Create path if it not exist\n",
    "if not os.path.isdir(img_folder):\n",
    "    os.makedirs(img_folder)\n",
    "    print(f'New img folder path created: {img_folder}')\n",
    "\n",
    "# Define the output artifact full path\n",
    "demux_file = os.path.join(out_dir, 'demux-paired.qza')\n",
    "demux_view = os.path.join(out_dir, 'demux-paired.qzv')\n",
    "demux_file_trim = os.path.join(out_dir, 'demux-paired-trim.qza')\n",
    "demux_view_trim = os.path.join(out_dir, 'demux-paired-trim.qzv')"
   ]
  },
  {
   "cell_type": "markdown",
   "id": "b223a936",
   "metadata": {
    "papermill": {
     "duration": 0.010786,
     "end_time": "2022-10-21T12:40:10.214562",
     "exception": false,
     "start_time": "2022-10-21T12:40:10.203776",
     "status": "completed"
    },
    "tags": []
   },
   "source": [
    "## Step execution\n",
    "\n",
    "This Step import all `fastq` files in a **QIIME2 Artifact** object and save it to a new `qza` file of `SampleData[PairedEndSequencesWithQuality]`"
   ]
  },
  {
   "cell_type": "code",
   "execution_count": 7,
   "id": "5f4d015c",
   "metadata": {
    "execution": {
     "iopub.execute_input": "2022-10-21T12:40:10.238307Z",
     "iopub.status.busy": "2022-10-21T12:40:10.237961Z",
     "iopub.status.idle": "2022-10-21T12:40:10.251471Z",
     "shell.execute_reply": "2022-10-21T12:40:10.250465Z"
    },
    "papermill": {
     "duration": 0.028164,
     "end_time": "2022-10-21T12:40:10.253833",
     "exception": false,
     "start_time": "2022-10-21T12:40:10.225669",
     "status": "completed"
    },
    "tags": []
   },
   "outputs": [],
   "source": [
    "manifest_df = pd.read_csv(manifest_file)\n",
    "n_directions = len(manifest_df['direction'].unique())\n",
    "if n_directions == 1:\n",
    "    d_type = 'SampleData[SequencesWithQuality]'\n",
    "    v_type = 'SingleEndFastqManifestPhred33'\n",
    "elif n_directions == 2:\n",
    "    d_type = 'SampleData[PairedEndSequencesWithQuality]'\n",
    "    v_type = 'PairedEndFastqManifestPhred33'\n",
    "else:\n",
    "    print(f'ERROR: invalid number of directions {n_directions}')"
   ]
  },
  {
   "cell_type": "code",
   "execution_count": 8,
   "id": "2a8eb729",
   "metadata": {
    "ExecuteTime": {
     "end_time": "2022-06-28T19:44:58.640338Z",
     "start_time": "2022-06-28T18:50:41.633657Z"
    },
    "execution": {
     "iopub.execute_input": "2022-10-21T12:40:10.281384Z",
     "iopub.status.busy": "2022-10-21T12:40:10.281221Z",
     "iopub.status.idle": "2022-10-21T12:40:13.568306Z",
     "shell.execute_reply": "2022-10-21T12:40:13.567587Z"
    },
    "papermill": {
     "duration": 3.302863,
     "end_time": "2022-10-21T12:40:13.571670",
     "exception": false,
     "start_time": "2022-10-21T12:40:10.268807",
     "status": "completed"
    },
    "tags": []
   },
   "outputs": [],
   "source": [
    "# If the demux file does not exist or if the old file will be replaced\n",
    "if not os.path.isfile(demux_file) or replace_files:\n",
    "    \n",
    "    # Import data and create an artifact object\n",
    "    artifact = Artifact.import_data(\n",
    "        d_type, \n",
    "        manifest_file, \n",
    "        view_type=v_type)\n",
    "    \n",
    "    # Save the artifact object to a new qza file\n",
    "    artifact.save(demux_file)\n",
    "\n",
    "else:\n",
    "    artifact = Artifact.load(demux_file)"
   ]
  },
  {
   "cell_type": "code",
   "execution_count": 9,
   "id": "a4231a9c",
   "metadata": {
    "ExecuteTime": {
     "end_time": "2022-06-28T19:47:56.602855Z",
     "start_time": "2022-06-28T19:44:58.642520Z"
    },
    "execution": {
     "iopub.execute_input": "2022-10-21T12:40:13.719863Z",
     "iopub.status.busy": "2022-10-21T12:40:13.719469Z",
     "iopub.status.idle": "2022-10-21T12:40:13.743145Z",
     "shell.execute_reply": "2022-10-21T12:40:13.742574Z"
    },
    "papermill": {
     "duration": 0.155973,
     "end_time": "2022-10-21T12:40:13.745160",
     "exception": false,
     "start_time": "2022-10-21T12:40:13.589187",
     "status": "completed"
    },
    "tags": []
   },
   "outputs": [],
   "source": [
    "if not os.path.isfile(demux_view) or replace_files: \n",
    "    # Generate e visualization of the Artifact\n",
    "    demux_summary = demux.visualizers.summarize(artifact)\n",
    "\n",
    "    # Save a new visualization file based on the qza file\n",
    "    Visualization.save(demux_summary.visualization, filepath=demux_view)\n",
    "    \n",
    "    demux_view_obj = demux_summary.visualization\n",
    "else:\n",
    "    demux_view_obj = Visualization.load(demux_view)"
   ]
  },
  {
   "cell_type": "markdown",
   "id": "8f919db5",
   "metadata": {
    "papermill": {
     "duration": 0.011024,
     "end_time": "2022-10-21T12:40:13.773924",
     "exception": false,
     "start_time": "2022-10-21T12:40:13.762900",
     "status": "completed"
    },
    "tags": []
   },
   "source": [
    "## Step report\n"
   ]
  },
  {
   "cell_type": "code",
   "execution_count": 10,
   "id": "782c9c43",
   "metadata": {
    "ExecuteTime": {
     "end_time": "2022-06-28T19:47:56.609737Z",
     "start_time": "2022-06-28T19:47:56.604820Z"
    },
    "execution": {
     "iopub.execute_input": "2022-10-21T12:40:13.797493Z",
     "iopub.status.busy": "2022-10-21T12:40:13.797252Z",
     "iopub.status.idle": "2022-10-21T12:40:13.802436Z",
     "shell.execute_reply": "2022-10-21T12:40:13.801732Z"
    },
    "papermill": {
     "duration": 0.018445,
     "end_time": "2022-10-21T12:40:13.803968",
     "exception": false,
     "start_time": "2022-10-21T12:40:13.785523",
     "status": "completed"
    },
    "tags": []
   },
   "outputs": [
    {
     "name": "stdout",
     "output_type": "stream",
     "text": [
      "<visualization: Visualization uuid: 0aa3cbd7-95b6-421b-8c28-42f9cf645b97>\n"
     ]
    }
   ],
   "source": [
    "print(demux_view_obj)"
   ]
  },
  {
   "cell_type": "code",
   "execution_count": 11,
   "id": "d862878b",
   "metadata": {
    "ExecuteTime": {
     "end_time": "2022-06-28T19:47:56.704841Z",
     "start_time": "2022-06-28T19:47:56.611846Z"
    },
    "execution": {
     "iopub.execute_input": "2022-10-21T12:40:13.828028Z",
     "iopub.status.busy": "2022-10-21T12:40:13.827713Z",
     "iopub.status.idle": "2022-10-21T12:40:13.840457Z",
     "shell.execute_reply": "2022-10-21T12:40:13.839923Z"
    },
    "papermill": {
     "duration": 0.027116,
     "end_time": "2022-10-21T12:40:13.842644",
     "exception": false,
     "start_time": "2022-10-21T12:40:13.815528",
     "status": "completed"
    },
    "tags": []
   },
   "outputs": [
    {
     "data": {
      "text/html": [
       "<div><img onload=\"(function(div, url){\n",
       "if (typeof require !== 'undefined') {\n",
       "    var baseURL = require.toUrl('').split('/').slice(0, -2).join('/');\n",
       "} else {\n",
       "    var baseURL = JSON.parse(\n",
       "        document.getElementById('jupyter-config-data').innerHTML\n",
       "    ).baseUrl.slice(0, -1);\n",
       "}\n",
       "url = baseURL + url;\n",
       "fetch(url).then(function(res) {\n",
       "    if (res.status === 404) {\n",
       "        div.innerHTML = 'Install QIIME 2 Jupyter extension with:<br />' +\n",
       "                        '<code>jupyter serverextension enable --py qiime2' +\n",
       "                        ' --sys-prefix</code><br />then restart your server.' +\n",
       "                        '<br /><br />(Interactive output not available on ' +\n",
       "                        'static notebook viewer services like nbviewer.)';\n",
       "    } else if (res.status === 409) {\n",
       "        div.innerHTML = 'Visualization no longer in scope. Re-run this cell' +\n",
       "                        ' to see the visualization.';\n",
       "    } else if (res.ok) {\n",
       "        url = res.url;\n",
       "        div.innerHTML = '<iframe src=\\'' + url + '\\' style=\\'' +\n",
       "                        'width: 100%; height: 700px; border: 0;\\'>' +\n",
       "                        '</iframe><hr />Open in a: <a href=\\'' + url + '\\'' +\n",
       "                        ' target=\\'_blank\\'>new window</a>'\n",
       "    } else {\n",
       "        div.innerHTML = 'Something has gone wrong. Check notebook server for' +\n",
       "                        ' errors.';\n",
       "    }\n",
       "});\n",
       "})(this.parentElement, '/qiime2/redirect?location=/tmp/qiime2-archive-solvqk54')\" src=\"data:image/gif;base64,R0lGODlhAQABAIAAAP///wAAACH5BAEAAAAALAAAAAABAAEAAAICRAEAOw==\" /></div>"
      ],
      "text/plain": [
       "<visualization: Visualization uuid: 0aa3cbd7-95b6-421b-8c28-42f9cf645b97>"
      ]
     },
     "execution_count": 11,
     "metadata": {},
     "output_type": "execute_result"
    }
   ],
   "source": [
    "# Render Visualization\n",
    "demux_view_obj"
   ]
  },
  {
   "cell_type": "markdown",
   "id": "e14d3b1f",
   "metadata": {
    "papermill": {
     "duration": 0.011005,
     "end_time": "2022-10-21T12:40:13.867213",
     "exception": false,
     "start_time": "2022-10-21T12:40:13.856208",
     "status": "completed"
    },
    "tags": []
   },
   "source": [
    "[cutadapt](https://docs.qiime2.org/2022.2/plugins/available/cutadapt/trim-paired/)\n",
    "\n",
    "We trim the forward primer and the reverse complement of the reverse primer from the forward reads. We trim the reverse primer and reverse complement of the forward primer from the reverse reads."
   ]
  },
  {
   "cell_type": "code",
   "execution_count": 12,
   "id": "7c104256",
   "metadata": {
    "execution": {
     "iopub.execute_input": "2022-10-21T12:40:13.890010Z",
     "iopub.status.busy": "2022-10-21T12:40:13.889779Z",
     "iopub.status.idle": "2022-10-21T12:40:13.900501Z",
     "shell.execute_reply": "2022-10-21T12:40:13.899792Z"
    },
    "papermill": {
     "duration": 0.02423,
     "end_time": "2022-10-21T12:40:13.902342",
     "exception": false,
     "start_time": "2022-10-21T12:40:13.878112",
     "status": "completed"
    },
    "tags": []
   },
   "outputs": [],
   "source": [
    "demux_file_trim = os.path.join(out_dir, 'demux-paired-trim.qza')\n",
    "demux_view_trim = os.path.join(out_dir, 'demux-paired-trim.qzv')\n",
    "\n",
    "if trim and (not os.path.isfile(demux_file_trim) or replace_files):\n",
    "    forward_primer = [trim['forward_primer']] # ['CCTACGGGRSGCAGCAG']\n",
    "    reverse_primer = [trim['reverse_primer']] # ['GGACTACHVGGGTWTCTAAT']\n",
    "    forward_reverse_complement = [str(Seq(forward_primer[0]).reverse_complement())]\n",
    "    reverse_reverse_complement = [str(Seq(reverse_primer[0]).reverse_complement())]\n",
    "\n",
    "    res = trim_paired(\n",
    "        demultiplexed_sequences=artifact,\n",
    "        front_f=forward_primer,\n",
    "        front_r=reverse_primer,\n",
    "        adapter_f=reverse_reverse_complement,\n",
    "        adapter_r=forward_reverse_complement,\n",
    "        cores=threads,\n",
    "        overlap=trim['overlap'],\n",
    "        indels=False,\n",
    "        match_read_wildcards=True,\n",
    "        match_adapter_wildcards=True,\n",
    "        error_rate=0.15,\n",
    "        discard_untrimmed=True,\n",
    "    ).trimmed_sequences\n",
    "\n",
    "    demux.visualizers.summarize(res).visualization\n",
    "    res.save(demux_file_trim)\n",
    "    Visualization.save(demux.visualizers.summarize(res).visualization, filepath=demux_view_trim)"
   ]
  }
 ],
 "metadata": {
  "celltoolbar": "Edit Metadata",
  "kernelspec": {
   "display_name": "Python 3 (ipykernel)",
   "language": "python",
   "name": "python3"
  },
  "language_info": {
   "codemirror_mode": {
    "name": "ipython",
    "version": 3
   },
   "file_extension": ".py",
   "mimetype": "text/x-python",
   "name": "python",
   "nbconvert_exporter": "python",
   "pygments_lexer": "ipython3",
   "version": "3.8.12"
  },
  "papermill": {
   "default_parameters": {},
   "duration": 13.082571,
   "end_time": "2022-10-21T12:40:14.734921",
   "environment_variables": {},
   "exception": null,
   "input_path": "nb-templates/step-prepare-data.ipynb",
   "output_path": "/home/lauro/nupeb/rede-micro/redemicro-thayane/experiments/thayane-PM/nb-executed-steps/step-prepare-data-thayane-PM.ipynb",
   "parameters": {
    "base_dir": "/home/lauro/nupeb/rede-micro/redemicro-thayane",
    "class_col": "sample-id",
    "classifier_file": "/home/lauro/nupeb/dados_brutos_rede_genoma/16S_classifiers_qiime2/silva-138-99-nb-classifier.qza",
    "experiment_name": "thayane-PM",
    "manifest_file": "/home/lauro/nupeb/rede-micro/redemicro-thayane/data/manifest.csv",
    "metadata_file": "/home/lauro/nupeb/rede-micro/redemicro-thayane/data/metadata.tsv",
    "overlap": 12,
    "phred": 20,
    "replace_files": false,
    "threads": 6,
    "trunc_f": 0,
    "trunc_r": 0
   },
   "start_time": "2022-10-21T12:40:01.652350",
   "version": "2.3.4"
  },
  "toc-autonumbering": false,
  "toc-showcode": false,
  "toc-showmarkdowntxt": false
 },
 "nbformat": 4,
 "nbformat_minor": 5
}