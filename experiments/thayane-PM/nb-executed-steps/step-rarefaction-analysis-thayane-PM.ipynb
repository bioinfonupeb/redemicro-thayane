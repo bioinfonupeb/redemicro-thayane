{
 "cells": [
  {
   "cell_type": "markdown",
   "id": "453ef807",
   "metadata": {
    "papermill": {
     "duration": 0.019176,
     "end_time": "2022-10-21T12:40:28.830512",
     "exception": false,
     "start_time": "2022-10-21T12:40:28.811336",
     "status": "completed"
    },
    "tags": []
   },
   "source": [
    "### STEP : Rarefaction Analysis\n",
    "\n",
    "Using QIIME2 to create rarefaction graphs. List with all [classifiers](https://docs.qiime2.org/2020.6/data-resources/). \n",
    "\n",
    "\n",
    "#### Methods\n",
    "- [qiime feature-classifier](https://docs.qiime2.org/2022.2/plugins/available/feature-classifier/)\n",
    "- [qiime feature-classifier classify-sklearn](https://docs.qiime2.org/2021.8/plugins/available/feature-classifier/classify-sklearn)\n",
    "- [qiime metadata](https://docs.qiime2.org/2022.2/plugins/available/metadata/)\n",
    "- [classify-hybrid-vsearch-sklearn](https://docs.qiime2.org/2022.2/plugins/available/feature-classifier/classify-hybrid-vsearch-sklearn/)\n",
    "- [qiime metadata tabulate](https://docs.qiime2.org/2022.2/plugins/available/metadata/tabulate/)\n",
    "- [qiime taxa](https://docs.qiime2.org/2022.2/plugins/available/taxa/)\n",
    "- [qiime taxa barplot](https://docs.qiime2.org/2022.2/plugins/available/taxa/barplot/)"
   ]
  },
  {
   "cell_type": "markdown",
   "id": "d267fa42",
   "metadata": {
    "papermill": {
     "duration": 0.031416,
     "end_time": "2022-10-21T12:40:28.875155",
     "exception": false,
     "start_time": "2022-10-21T12:40:28.843739",
     "status": "completed"
    },
    "tags": []
   },
   "source": [
    "## Setup and settings"
   ]
  },
  {
   "cell_type": "code",
   "execution_count": 1,
   "id": "0d2fe7af",
   "metadata": {
    "ExecuteTime": {
     "end_time": "2022-09-22T21:43:54.326002Z",
     "start_time": "2022-09-22T21:43:47.911891Z"
    },
    "execution": {
     "iopub.execute_input": "2022-10-21T12:40:28.899987Z",
     "iopub.status.busy": "2022-10-21T12:40:28.899449Z",
     "iopub.status.idle": "2022-10-21T12:40:35.046560Z",
     "shell.execute_reply": "2022-10-21T12:40:35.045687Z"
    },
    "papermill": {
     "duration": 6.163151,
     "end_time": "2022-10-21T12:40:35.049899",
     "exception": false,
     "start_time": "2022-10-21T12:40:28.886748",
     "status": "completed"
    },
    "tags": []
   },
   "outputs": [],
   "source": [
    "# Importing packages\n",
    "import os\n",
    "import pandas as pd\n",
    "from qiime2 import Artifact\n",
    "from qiime2 import Visualization\n",
    "from qiime2 import Metadata\n",
    "from qiime2.plugins.diversity.visualizers import alpha_rarefaction\n",
    "from qiime2.plugins.diversity.visualizers import beta_rarefaction\n",
    "\n",
    "import matplotlib.pyplot as plt\n",
    "\n",
    "%matplotlib inline"
   ]
  },
  {
   "cell_type": "code",
   "execution_count": 2,
   "id": "3ec391c2",
   "metadata": {
    "ExecuteTime": {
     "end_time": "2022-09-22T21:43:54.330790Z",
     "start_time": "2022-09-22T21:43:54.328358Z"
    },
    "execution": {
     "iopub.execute_input": "2022-10-21T12:40:35.080035Z",
     "iopub.status.busy": "2022-10-21T12:40:35.079819Z",
     "iopub.status.idle": "2022-10-21T12:40:35.083019Z",
     "shell.execute_reply": "2022-10-21T12:40:35.082493Z"
    },
    "papermill": {
     "duration": 0.016448,
     "end_time": "2022-10-21T12:40:35.084411",
     "exception": false,
     "start_time": "2022-10-21T12:40:35.067963",
     "status": "completed"
    },
    "tags": []
   },
   "outputs": [],
   "source": [
    "# from qiime2.plugins import demux, deblur, quality_filter, \\\n",
    "#                            metadata, feature_table, alignment, \\\n",
    "#                            phylogeny, diversity, emperor, feature_classifier, \\\n",
    "#                            taxa, composition"
   ]
  },
  {
   "cell_type": "markdown",
   "id": "c787d91f",
   "metadata": {
    "papermill": {
     "duration": 0.010794,
     "end_time": "2022-10-21T12:40:35.129537",
     "exception": false,
     "start_time": "2022-10-21T12:40:35.118743",
     "status": "completed"
    },
    "tags": []
   },
   "source": [
    "### Receiving the parameters\n",
    "\n",
    "The following cell can receive parameters using the [papermill](https://papermill.readthedocs.io/en/latest/) tool."
   ]
  },
  {
   "cell_type": "code",
   "execution_count": 3,
   "id": "79344f15",
   "metadata": {
    "ExecuteTime": {
     "end_time": "2022-09-22T21:43:54.344271Z",
     "start_time": "2022-09-22T21:43:54.332262Z"
    },
    "execution": {
     "iopub.execute_input": "2022-10-21T12:40:35.180560Z",
     "iopub.status.busy": "2022-10-21T12:40:35.180307Z",
     "iopub.status.idle": "2022-10-21T12:40:35.184780Z",
     "shell.execute_reply": "2022-10-21T12:40:35.184159Z"
    },
    "papermill": {
     "duration": 0.028658,
     "end_time": "2022-10-21T12:40:35.186227",
     "exception": false,
     "start_time": "2022-10-21T12:40:35.157569",
     "status": "completed"
    },
    "tags": [
     "parameters"
    ]
   },
   "outputs": [],
   "source": [
    "metadata_file = '/home/lauro/nupeb/rede-micro/redemicro-miliane-nutri/data/raw/metadata/miliane-metadata-CxAC.tsv'\n",
    "base_dir = os.path.join('/', 'home', 'lauro', 'nupeb', 'rede-micro', 'redemicro-miliane-nutri')\n",
    "experiment_name = 'miliane-CxAC-trim'\n",
    "replace_files = False"
   ]
  },
  {
   "cell_type": "code",
   "execution_count": 4,
   "id": "8e1559cc",
   "metadata": {
    "execution": {
     "iopub.execute_input": "2022-10-21T12:40:35.210639Z",
     "iopub.status.busy": "2022-10-21T12:40:35.210357Z",
     "iopub.status.idle": "2022-10-21T12:40:35.215794Z",
     "shell.execute_reply": "2022-10-21T12:40:35.215114Z"
    },
    "papermill": {
     "duration": 0.019273,
     "end_time": "2022-10-21T12:40:35.217357",
     "exception": false,
     "start_time": "2022-10-21T12:40:35.198084",
     "status": "completed"
    },
    "tags": [
     "injected-parameters"
    ]
   },
   "outputs": [],
   "source": [
    "# Parameters\n",
    "experiment_name = \"thayane-PM\"\n",
    "base_dir = \"/home/lauro/nupeb/rede-micro/redemicro-thayane\"\n",
    "manifest_file = \"/home/lauro/nupeb/rede-micro/redemicro-thayane/data/manifest.csv\"\n",
    "metadata_file = \"/home/lauro/nupeb/rede-micro/redemicro-thayane/data/metadata.tsv\"\n",
    "class_col = \"sample-id\"\n",
    "classifier_file = \"/home/lauro/nupeb/dados_brutos_rede_genoma/16S_classifiers_qiime2/silva-138-99-nb-classifier.qza\"\n",
    "replace_files = False\n",
    "phred = 20\n",
    "trunc_f = 0\n",
    "trunc_r = 0\n",
    "overlap = 12\n",
    "threads = 6\n"
   ]
  },
  {
   "cell_type": "code",
   "execution_count": 5,
   "id": "68ba6641",
   "metadata": {
    "ExecuteTime": {
     "end_time": "2022-09-22T21:43:54.362004Z",
     "start_time": "2022-09-22T21:43:54.346365Z"
    },
    "execution": {
     "iopub.execute_input": "2022-10-21T12:40:35.241266Z",
     "iopub.status.busy": "2022-10-21T12:40:35.240963Z",
     "iopub.status.idle": "2022-10-21T12:40:35.245991Z",
     "shell.execute_reply": "2022-10-21T12:40:35.245280Z"
    },
    "papermill": {
     "duration": 0.018573,
     "end_time": "2022-10-21T12:40:35.247525",
     "exception": false,
     "start_time": "2022-10-21T12:40:35.228952",
     "status": "completed"
    },
    "tags": []
   },
   "outputs": [],
   "source": [
    "experiment_folder = os.path.abspath(os.path.join(base_dir, 'experiments', experiment_name))\n",
    "img_folder = os.path.abspath(os.path.join(experiment_folder, 'imgs'))"
   ]
  },
  {
   "cell_type": "markdown",
   "id": "c98d43f4",
   "metadata": {
    "papermill": {
     "duration": 0.011174,
     "end_time": "2022-10-21T12:40:35.275457",
     "exception": false,
     "start_time": "2022-10-21T12:40:35.264283",
     "status": "completed"
    },
    "tags": []
   },
   "source": [
    "### Defining names, paths and flags"
   ]
  },
  {
   "cell_type": "code",
   "execution_count": 6,
   "id": "e40cf213",
   "metadata": {
    "ExecuteTime": {
     "end_time": "2022-09-22T21:43:54.373657Z",
     "start_time": "2022-09-22T21:43:54.363586Z"
    },
    "execution": {
     "iopub.execute_input": "2022-10-21T12:40:35.298976Z",
     "iopub.status.busy": "2022-10-21T12:40:35.298564Z",
     "iopub.status.idle": "2022-10-21T12:40:35.306612Z",
     "shell.execute_reply": "2022-10-21T12:40:35.305888Z"
    },
    "papermill": {
     "duration": 0.021756,
     "end_time": "2022-10-21T12:40:35.308148",
     "exception": false,
     "start_time": "2022-10-21T12:40:35.286392",
     "status": "completed"
    },
    "tags": []
   },
   "outputs": [],
   "source": [
    "# QIIME2 Artifacts folder\n",
    "qiime_folder = os.path.join(experiment_folder, 'qiime-artifacts')\n",
    "\n",
    "# Input - DADA2 Artifacts\n",
    "dada2_tabs_path = os.path.join(qiime_folder, 'dada2-tabs.qza')\n",
    "dada2_reps_path = os.path.join(qiime_folder, 'dada2-reps.qza')\n",
    "dada2_stat_path = os.path.join(qiime_folder, 'dada2-stat.qza')\n",
    "\n",
    "# Output -Rarefaction Artifacts\n",
    "alpha_rarefaction_path = os.path.join(qiime_folder, 'alpha-rarefaction.qza')\n",
    "alpha_rarefaction_view_path = os.path.join(qiime_folder, 'alpha-rarefaction.qzv')\n",
    "\n",
    "# Flag - Load or create files\n",
    "need_tax = not (os.path.isfile(alpha_rarefaction_path)) or replace_files\n",
    "need_view = not (os.path.isfile(alpha_rarefaction_view_path)) or replace_files"
   ]
  },
  {
   "cell_type": "markdown",
   "id": "fc7b9137",
   "metadata": {
    "papermill": {
     "duration": 0.011074,
     "end_time": "2022-10-21T12:40:35.333785",
     "exception": false,
     "start_time": "2022-10-21T12:40:35.322711",
     "status": "completed"
    },
    "tags": []
   },
   "source": [
    "## Step execution\n",
    "\n",
    "### Load input files\n",
    "\n",
    "This Step import the QIIME2 `SampleData[PairedEndSequencesWithQuality]` Artifact with all demultiplexed sequences and the `Metadata` file."
   ]
  },
  {
   "cell_type": "code",
   "execution_count": 7,
   "id": "822d46cd",
   "metadata": {
    "ExecuteTime": {
     "end_time": "2022-09-22T21:43:54.398034Z",
     "start_time": "2022-09-22T21:43:54.375240Z"
    },
    "execution": {
     "iopub.execute_input": "2022-10-21T12:40:35.356877Z",
     "iopub.status.busy": "2022-10-21T12:40:35.356717Z",
     "iopub.status.idle": "2022-10-21T12:40:35.371795Z",
     "shell.execute_reply": "2022-10-21T12:40:35.371321Z"
    },
    "papermill": {
     "duration": 0.028593,
     "end_time": "2022-10-21T12:40:35.373669",
     "exception": false,
     "start_time": "2022-10-21T12:40:35.345076",
     "status": "completed"
    },
    "tags": []
   },
   "outputs": [],
   "source": [
    "#Load Metadata\n",
    "metadata_qa = Metadata.load(metadata_file)"
   ]
  },
  {
   "cell_type": "code",
   "execution_count": 8,
   "id": "8d137c7d",
   "metadata": {
    "ExecuteTime": {
     "end_time": "2022-09-22T21:43:54.827295Z",
     "start_time": "2022-09-22T21:43:54.399431Z"
    },
    "execution": {
     "iopub.execute_input": "2022-10-21T12:40:35.400102Z",
     "iopub.status.busy": "2022-10-21T12:40:35.399823Z",
     "iopub.status.idle": "2022-10-21T12:40:36.223590Z",
     "shell.execute_reply": "2022-10-21T12:40:36.222877Z"
    },
    "papermill": {
     "duration": 0.83903,
     "end_time": "2022-10-21T12:40:36.226750",
     "exception": false,
     "start_time": "2022-10-21T12:40:35.387720",
     "status": "completed"
    },
    "tags": []
   },
   "outputs": [],
   "source": [
    "tabs = Artifact.load(dada2_tabs_path)\n",
    "tabs_df = tabs.view(Metadata).to_dataframe().T"
   ]
  },
  {
   "cell_type": "markdown",
   "id": "94ec7488",
   "metadata": {
    "papermill": {
     "duration": 0.017627,
     "end_time": "2022-10-21T12:40:36.262615",
     "exception": false,
     "start_time": "2022-10-21T12:40:36.244988",
     "status": "completed"
    },
    "tags": []
   },
   "source": [
    "## Alpha Rarefaction"
   ]
  },
  {
   "cell_type": "code",
   "execution_count": 9,
   "id": "e4fe4bb1",
   "metadata": {
    "ExecuteTime": {
     "end_time": "2022-09-22T21:55:53.328300Z",
     "start_time": "2022-09-22T21:55:53.318166Z"
    },
    "execution": {
     "iopub.execute_input": "2022-10-21T12:40:36.319434Z",
     "iopub.status.busy": "2022-10-21T12:40:36.319243Z",
     "iopub.status.idle": "2022-10-21T12:40:36.325229Z",
     "shell.execute_reply": "2022-10-21T12:40:36.324671Z"
    },
    "papermill": {
     "duration": 0.037145,
     "end_time": "2022-10-21T12:40:36.326985",
     "exception": false,
     "start_time": "2022-10-21T12:40:36.289840",
     "status": "completed"
    },
    "tags": []
   },
   "outputs": [],
   "source": [
    "# Get min and maximum feature counts to set sampling depth\n",
    "rank_df = tabs_df.sum().sort_values()\n",
    "min_feature_count = int(rank_df.min())\n",
    "max_feature_count = int(rank_df.max())"
   ]
  },
  {
   "cell_type": "code",
   "execution_count": 10,
   "id": "55c19c23",
   "metadata": {
    "ExecuteTime": {
     "end_time": "2022-09-22T21:56:13.586159Z",
     "start_time": "2022-09-22T21:55:55.117935Z"
    },
    "execution": {
     "iopub.execute_input": "2022-10-21T12:40:36.353619Z",
     "iopub.status.busy": "2022-10-21T12:40:36.353320Z",
     "iopub.status.idle": "2022-10-21T12:40:59.438416Z",
     "shell.execute_reply": "2022-10-21T12:40:59.437679Z"
    },
    "papermill": {
     "duration": 23.101301,
     "end_time": "2022-10-21T12:40:59.441593",
     "exception": false,
     "start_time": "2022-10-21T12:40:36.340292",
     "status": "completed"
    },
    "tags": []
   },
   "outputs": [],
   "source": [
    "alpha_rar = alpha_rarefaction(\n",
    "    table = tabs,\n",
    "    max_depth = max_feature_count,\n",
    "    min_depth = 1,\n",
    "    metadata = metadata_qa,\n",
    ")"
   ]
  },
  {
   "cell_type": "code",
   "execution_count": 11,
   "id": "75a1804c",
   "metadata": {
    "ExecuteTime": {
     "end_time": "2022-09-22T21:56:13.632468Z",
     "start_time": "2022-09-22T21:56:13.589032Z"
    },
    "execution": {
     "iopub.execute_input": "2022-10-21T12:40:59.478347Z",
     "iopub.status.busy": "2022-10-21T12:40:59.478085Z",
     "iopub.status.idle": "2022-10-21T12:40:59.526507Z",
     "shell.execute_reply": "2022-10-21T12:40:59.525898Z"
    },
    "papermill": {
     "duration": 0.070197,
     "end_time": "2022-10-21T12:40:59.530243",
     "exception": false,
     "start_time": "2022-10-21T12:40:59.460046",
     "status": "completed"
    },
    "scrolled": true,
    "tags": []
   },
   "outputs": [
    {
     "data": {
      "text/html": [
       "<div><img onload=\"(function(div, url){\n",
       "if (typeof require !== 'undefined') {\n",
       "    var baseURL = require.toUrl('').split('/').slice(0, -2).join('/');\n",
       "} else {\n",
       "    var baseURL = JSON.parse(\n",
       "        document.getElementById('jupyter-config-data').innerHTML\n",
       "    ).baseUrl.slice(0, -1);\n",
       "}\n",
       "url = baseURL + url;\n",
       "fetch(url).then(function(res) {\n",
       "    if (res.status === 404) {\n",
       "        div.innerHTML = 'Install QIIME 2 Jupyter extension with:<br />' +\n",
       "                        '<code>jupyter serverextension enable --py qiime2' +\n",
       "                        ' --sys-prefix</code><br />then restart your server.' +\n",
       "                        '<br /><br />(Interactive output not available on ' +\n",
       "                        'static notebook viewer services like nbviewer.)';\n",
       "    } else if (res.status === 409) {\n",
       "        div.innerHTML = 'Visualization no longer in scope. Re-run this cell' +\n",
       "                        ' to see the visualization.';\n",
       "    } else if (res.ok) {\n",
       "        url = res.url;\n",
       "        div.innerHTML = '<iframe src=\\'' + url + '\\' style=\\'' +\n",
       "                        'width: 100%; height: 700px; border: 0;\\'>' +\n",
       "                        '</iframe><hr />Open in a: <a href=\\'' + url + '\\'' +\n",
       "                        ' target=\\'_blank\\'>new window</a>'\n",
       "    } else {\n",
       "        div.innerHTML = 'Something has gone wrong. Check notebook server for' +\n",
       "                        ' errors.';\n",
       "    }\n",
       "});\n",
       "})(this.parentElement, '/qiime2/redirect?location=/tmp/qiime2-archive-enzcsd7u')\" src=\"data:image/gif;base64,R0lGODlhAQABAIAAAP///wAAACH5BAEAAAAALAAAAAABAAEAAAICRAEAOw==\" /></div>"
      ],
      "text/plain": [
       "<visualization: Visualization uuid: c3b46f6a-eff4-47c7-a646-7322ccc3628a>"
      ]
     },
     "execution_count": 11,
     "metadata": {},
     "output_type": "execute_result"
    }
   ],
   "source": [
    "alpha_rar.visualization.save(alpha_rarefaction_view_path)\n",
    "alpha_rar.visualization"
   ]
  },
  {
   "cell_type": "markdown",
   "id": "caf271f0",
   "metadata": {
    "papermill": {
     "duration": 0.012429,
     "end_time": "2022-10-21T12:40:59.562161",
     "exception": false,
     "start_time": "2022-10-21T12:40:59.549732",
     "status": "completed"
    },
    "tags": []
   },
   "source": [
    "## Beta Rarefaction"
   ]
  },
  {
   "cell_type": "code",
   "execution_count": 12,
   "id": "7e7a6a70",
   "metadata": {
    "ExecuteTime": {
     "end_time": "2022-09-22T21:56:19.645438Z",
     "start_time": "2022-09-22T21:56:17.687848Z"
    },
    "execution": {
     "iopub.execute_input": "2022-10-21T12:40:59.596321Z",
     "iopub.status.busy": "2022-10-21T12:40:59.596096Z",
     "iopub.status.idle": "2022-10-21T12:41:02.727517Z",
     "shell.execute_reply": "2022-10-21T12:41:02.726968Z"
    },
    "papermill": {
     "duration": 3.146983,
     "end_time": "2022-10-21T12:41:02.729835",
     "exception": false,
     "start_time": "2022-10-21T12:40:59.582852",
     "status": "completed"
    },
    "tags": []
   },
   "outputs": [
    {
     "data": {
      "image/png": "[encoded data removed]",
      "text/plain": [
       "<Figure size 432x288 with 2 Axes>"
      ]
     },
     "metadata": {
      "needs_background": "light"
     },
     "output_type": "display_data"
    }
   ],
   "source": [
    "choices = ('matching', 'aitchison', 'euclidean', 'generalized_unifrac', 'canberra', 'russellrao', 'braycurtis', 'cosine', 'jensenshannon', 'yule', 'weighted_normalized_unifrac', 'unweighted_unifrac', 'hamming', 'weighted_unifrac', 'cityblock', 'sokalmichener', 'seuclidean', 'rogerstanimoto', 'correlation', 'minkowski', 'kulsinski', 'chebyshev', 'sqeuclidean', 'sokalsneath', 'jaccard', 'dice', 'canberra_adkins')\n",
    "clustering_methods = ('nj', 'upgma')\n",
    "correlation_methods = ('pearson', 'spearman')\n",
    "\n",
    "sampling_depth = min_feature_count\n",
    "metric = 'braycurtis'\n",
    "clustering_method = clustering_methods[0]\n",
    "correlation_method = correlation_methods[1]\n",
    "\n",
    "beta_rar = beta_rarefaction(\n",
    "    table = tabs,\n",
    "    sampling_depth  = sampling_depth,\n",
    "    metadata = metadata_qa,\n",
    "    metric = metric,\n",
    "    clustering_method = clustering_method,\n",
    "    correlation_method = correlation_method,\n",
    ")"
   ]
  },
  {
   "cell_type": "code",
   "execution_count": 13,
   "id": "0659b084",
   "metadata": {
    "ExecuteTime": {
     "end_time": "2022-09-22T21:56:22.170995Z",
     "start_time": "2022-09-22T21:56:22.048827Z"
    },
    "execution": {
     "iopub.execute_input": "2022-10-21T12:41:02.768499Z",
     "iopub.status.busy": "2022-10-21T12:41:02.768231Z",
     "iopub.status.idle": "2022-10-21T12:41:02.864606Z",
     "shell.execute_reply": "2022-10-21T12:41:02.864074Z"
    },
    "papermill": {
     "duration": 0.119155,
     "end_time": "2022-10-21T12:41:02.867627",
     "exception": false,
     "start_time": "2022-10-21T12:41:02.748472",
     "status": "completed"
    },
    "tags": []
   },
   "outputs": [
    {
     "data": {
      "text/html": [
       "<div><img onload=\"(function(div, url){\n",
       "if (typeof require !== 'undefined') {\n",
       "    var baseURL = require.toUrl('').split('/').slice(0, -2).join('/');\n",
       "} else {\n",
       "    var baseURL = JSON.parse(\n",
       "        document.getElementById('jupyter-config-data').innerHTML\n",
       "    ).baseUrl.slice(0, -1);\n",
       "}\n",
       "url = baseURL + url;\n",
       "fetch(url).then(function(res) {\n",
       "    if (res.status === 404) {\n",
       "        div.innerHTML = 'Install QIIME 2 Jupyter extension with:<br />' +\n",
       "                        '<code>jupyter serverextension enable --py qiime2' +\n",
       "                        ' --sys-prefix</code><br />then restart your server.' +\n",
       "                        '<br /><br />(Interactive output not available on ' +\n",
       "                        'static notebook viewer services like nbviewer.)';\n",
       "    } else if (res.status === 409) {\n",
       "        div.innerHTML = 'Visualization no longer in scope. Re-run this cell' +\n",
       "                        ' to see the visualization.';\n",
       "    } else if (res.ok) {\n",
       "        url = res.url;\n",
       "        div.innerHTML = '<iframe src=\\'' + url + '\\' style=\\'' +\n",
       "                        'width: 100%; height: 700px; border: 0;\\'>' +\n",
       "                        '</iframe><hr />Open in a: <a href=\\'' + url + '\\'' +\n",
       "                        ' target=\\'_blank\\'>new window</a>'\n",
       "    } else {\n",
       "        div.innerHTML = 'Something has gone wrong. Check notebook server for' +\n",
       "                        ' errors.';\n",
       "    }\n",
       "});\n",
       "})(this.parentElement, '/qiime2/redirect?location=/tmp/qiime2-archive-xukzv9id')\" src=\"data:image/gif;base64,R0lGODlhAQABAIAAAP///wAAACH5BAEAAAAALAAAAAABAAEAAAICRAEAOw==\" /></div>"
      ],
      "text/plain": [
       "<visualization: Visualization uuid: 1a3a2ed8-5753-4ee0-aa07-f3f8e95a5e3b>"
      ]
     },
     "execution_count": 13,
     "metadata": {},
     "output_type": "execute_result"
    }
   ],
   "source": [
    "plot_tmp = f'{metric}-{clustering_method}-{correlation_method}-{sampling_depth}'\n",
    "beta_rarefaction_view_path = os.path.join(qiime_folder, f'beta-rarefaction-{plot_tmp}.qzv')\n",
    "beta_rar.visualization.save(beta_rarefaction_view_path)\n",
    "\n",
    "beta_rar.visualization"
   ]
  }
 ],
 "metadata": {
  "celltoolbar": "Edit Metadata",
  "kernelspec": {
   "display_name": "Python 3 (ipykernel)",
   "language": "python",
   "name": "python3"
  },
  "language_info": {
   "codemirror_mode": {
    "name": "ipython",
    "version": 3
   },
   "file_extension": ".py",
   "mimetype": "text/x-python",
   "name": "python",
   "nbconvert_exporter": "python",
   "pygments_lexer": "ipython3",
   "version": "3.8.12"
  },
  "papermill": {
   "default_parameters": {},
   "duration": 36.22788,
   "end_time": "2022-10-21T12:41:03.606021",
   "environment_variables": {},
   "exception": null,
   "input_path": "nb-templates/step-rarefaction-analysis.ipynb",
   "output_path": "/home/lauro/nupeb/rede-micro/redemicro-thayane/experiments/thayane-PM/nb-executed-steps/step-rarefaction-analysis-thayane-PM.ipynb",
   "parameters": {
    "base_dir": "/home/lauro/nupeb/rede-micro/redemicro-thayane",
    "class_col": "sample-id",
    "classifier_file": "/home/lauro/nupeb/dados_brutos_rede_genoma/16S_classifiers_qiime2/silva-138-99-nb-classifier.qza",
    "experiment_name": "thayane-PM",
    "manifest_file": "/home/lauro/nupeb/rede-micro/redemicro-thayane/data/manifest.csv",
    "metadata_file": "/home/lauro/nupeb/rede-micro/redemicro-thayane/data/metadata.tsv",
    "overlap": 12,
    "phred": 20,
    "replace_files": false,
    "threads": 6,
    "trunc_f": 0,
    "trunc_r": 0
   },
   "start_time": "2022-10-21T12:40:27.378141",
   "version": "2.3.4"
  },
  "toc-autonumbering": false,
  "toc-showcode": false,
  "toc-showmarkdowntxt": false
 },
 "nbformat": 4,
 "nbformat_minor": 5
}