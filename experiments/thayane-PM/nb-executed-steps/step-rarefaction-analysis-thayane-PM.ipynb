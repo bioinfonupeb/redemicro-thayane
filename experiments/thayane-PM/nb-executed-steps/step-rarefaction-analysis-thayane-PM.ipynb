{
 "cells": [
  {
   "cell_type": "markdown",
   "id": "a6127f1f",
   "metadata": {
    "papermill": {
     "duration": 0.017808,
     "end_time": "2022-11-30T18:00:07.292611",
     "exception": false,
     "start_time": "2022-11-30T18:00:07.274803",
     "status": "completed"
    },
    "tags": []
   },
   "source": [
    "### STEP : Rarefaction Analysis\n",
    "\n",
    "Using QIIME2 to create rarefaction graphs. List with all [classifiers](https://docs.qiime2.org/2020.6/data-resources/). \n",
    "\n",
    "\n",
    "#### Methods\n",
    "- [qiime feature-classifier](https://docs.qiime2.org/2022.2/plugins/available/feature-classifier/)\n",
    "- [qiime feature-classifier classify-sklearn](https://docs.qiime2.org/2021.8/plugins/available/feature-classifier/classify-sklearn)\n",
    "- [qiime metadata](https://docs.qiime2.org/2022.2/plugins/available/metadata/)\n",
    "- [classify-hybrid-vsearch-sklearn](https://docs.qiime2.org/2022.2/plugins/available/feature-classifier/classify-hybrid-vsearch-sklearn/)\n",
    "- [qiime metadata tabulate](https://docs.qiime2.org/2022.2/plugins/available/metadata/tabulate/)\n",
    "- [qiime taxa](https://docs.qiime2.org/2022.2/plugins/available/taxa/)\n",
    "- [qiime taxa barplot](https://docs.qiime2.org/2022.2/plugins/available/taxa/barplot/)"
   ]
  },
  {
   "cell_type": "markdown",
   "id": "3197b5c9",
   "metadata": {
    "papermill": {
     "duration": 0.223052,
     "end_time": "2022-11-30T18:00:07.821431",
     "exception": false,
     "start_time": "2022-11-30T18:00:07.598379",
     "status": "completed"
    },
    "tags": []
   },
   "source": [
    "## Setup and settings"
   ]
  },
  {
   "cell_type": "code",
   "execution_count": 1,
   "id": "348f1f75",
   "metadata": {
    "ExecuteTime": {
     "end_time": "2022-09-22T21:43:54.326002Z",
     "start_time": "2022-09-22T21:43:47.911891Z"
    },
    "execution": {
     "iopub.execute_input": "2022-11-30T18:00:07.847370Z",
     "iopub.status.busy": "2022-11-30T18:00:07.846805Z",
     "iopub.status.idle": "2022-11-30T18:00:14.378373Z",
     "shell.execute_reply": "2022-11-30T18:00:14.377593Z"
    },
    "papermill": {
     "duration": 6.547931,
     "end_time": "2022-11-30T18:00:14.381564",
     "exception": false,
     "start_time": "2022-11-30T18:00:07.833633",
     "status": "completed"
    },
    "tags": []
   },
   "outputs": [],
   "source": [
    "# Importing packages\n",
    "import os\n",
    "import pandas as pd\n",
    "from qiime2 import Artifact\n",
    "from qiime2 import Visualization\n",
    "from qiime2 import Metadata\n",
    "from qiime2.plugins.diversity.visualizers import alpha_rarefaction\n",
    "from qiime2.plugins.diversity.visualizers import beta_rarefaction\n",
    "\n",
    "import matplotlib.pyplot as plt\n",
    "\n",
    "%matplotlib inline"
   ]
  },
  {
   "cell_type": "code",
   "execution_count": 2,
   "id": "97cfe842",
   "metadata": {
    "ExecuteTime": {
     "end_time": "2022-09-22T21:43:54.330790Z",
     "start_time": "2022-09-22T21:43:54.328358Z"
    },
    "execution": {
     "iopub.execute_input": "2022-11-30T18:00:14.411394Z",
     "iopub.status.busy": "2022-11-30T18:00:14.411175Z",
     "iopub.status.idle": "2022-11-30T18:00:14.414173Z",
     "shell.execute_reply": "2022-11-30T18:00:14.413574Z"
    },
    "papermill": {
     "duration": 0.015845,
     "end_time": "2022-11-30T18:00:14.415653",
     "exception": false,
     "start_time": "2022-11-30T18:00:14.399808",
     "status": "completed"
    },
    "tags": []
   },
   "outputs": [],
   "source": [
    "# from qiime2.plugins import demux, deblur, quality_filter, \\\n",
    "#                            metadata, feature_table, alignment, \\\n",
    "#                            phylogeny, diversity, emperor, feature_classifier, \\\n",
    "#                            taxa, composition"
   ]
  },
  {
   "cell_type": "markdown",
   "id": "eaa924dc",
   "metadata": {
    "papermill": {
     "duration": 0.010633,
     "end_time": "2022-11-30T18:00:14.466742",
     "exception": false,
     "start_time": "2022-11-30T18:00:14.456109",
     "status": "completed"
    },
    "tags": []
   },
   "source": [
    "### Receiving the parameters\n",
    "\n",
    "The following cell can receive parameters using the [papermill](https://papermill.readthedocs.io/en/latest/) tool."
   ]
  },
  {
   "cell_type": "code",
   "execution_count": 3,
   "id": "457d4dd1",
   "metadata": {
    "ExecuteTime": {
     "end_time": "2022-09-22T21:43:54.344271Z",
     "start_time": "2022-09-22T21:43:54.332262Z"
    },
    "execution": {
     "iopub.execute_input": "2022-11-30T18:00:14.488568Z",
     "iopub.status.busy": "2022-11-30T18:00:14.488421Z",
     "iopub.status.idle": "2022-11-30T18:00:14.491707Z",
     "shell.execute_reply": "2022-11-30T18:00:14.491040Z"
    },
    "papermill": {
     "duration": 0.01595,
     "end_time": "2022-11-30T18:00:14.493188",
     "exception": false,
     "start_time": "2022-11-30T18:00:14.477238",
     "status": "completed"
    },
    "tags": [
     "parameters"
    ]
   },
   "outputs": [],
   "source": [
    "metadata_file = '/home/lauro/nupeb/rede-micro/redemicro-miliane-nutri/data/raw/metadata/miliane-metadata-CxAC.tsv'\n",
    "base_dir = os.path.join('/', 'home', 'lauro', 'nupeb', 'rede-micro', 'redemicro-miliane-nutri')\n",
    "experiment_name = 'miliane-CxAC-trim'\n",
    "replace_files = False"
   ]
  },
  {
   "cell_type": "code",
   "execution_count": 4,
   "id": "60f823b1",
   "metadata": {
    "execution": {
     "iopub.execute_input": "2022-11-30T18:00:14.563305Z",
     "iopub.status.busy": "2022-11-30T18:00:14.563091Z",
     "iopub.status.idle": "2022-11-30T18:00:14.567810Z",
     "shell.execute_reply": "2022-11-30T18:00:14.567111Z"
    },
    "papermill": {
     "duration": 0.017873,
     "end_time": "2022-11-30T18:00:14.569363",
     "exception": false,
     "start_time": "2022-11-30T18:00:14.551490",
     "status": "completed"
    },
    "tags": [
     "injected-parameters"
    ]
   },
   "outputs": [],
   "source": [
    "# Parameters\n",
    "experiment_name = \"thayane-PM\"\n",
    "base_dir = \"/home/lauro/nupeb/rede-micro/redemicro-thayane\"\n",
    "manifest_file = \"/home/lauro/nupeb/rede-micro/redemicro-thayane/data/manifest.csv\"\n",
    "metadata_file = \"/home/lauro/nupeb/rede-micro/redemicro-thayane/data/metadata.tsv\"\n",
    "class_col = \"class-straw\"\n",
    "classifier_file = (\n",
    "    \"/home/lauro/nupeb/16S_classifiers_qiime2/silva-138-99-nb-classifier.qza\"\n",
    ")\n",
    "replace_files = False\n",
    "phred = 20\n",
    "trunc_f = 0\n",
    "trunc_r = 0\n",
    "overlap = 12\n",
    "threads = 6\n"
   ]
  },
  {
   "cell_type": "code",
   "execution_count": 5,
   "id": "a022b7e2",
   "metadata": {
    "ExecuteTime": {
     "end_time": "2022-09-22T21:43:54.362004Z",
     "start_time": "2022-09-22T21:43:54.346365Z"
    },
    "execution": {
     "iopub.execute_input": "2022-11-30T18:00:14.592725Z",
     "iopub.status.busy": "2022-11-30T18:00:14.592306Z",
     "iopub.status.idle": "2022-11-30T18:00:14.597091Z",
     "shell.execute_reply": "2022-11-30T18:00:14.596309Z"
    },
    "papermill": {
     "duration": 0.018401,
     "end_time": "2022-11-30T18:00:14.598729",
     "exception": false,
     "start_time": "2022-11-30T18:00:14.580328",
     "status": "completed"
    },
    "tags": []
   },
   "outputs": [],
   "source": [
    "experiment_folder = os.path.abspath(os.path.join(base_dir, 'experiments', experiment_name))\n",
    "img_folder = os.path.abspath(os.path.join(experiment_folder, 'imgs'))"
   ]
  },
  {
   "cell_type": "markdown",
   "id": "2dc04d01",
   "metadata": {
    "papermill": {
     "duration": 0.011993,
     "end_time": "2022-11-30T18:00:14.626178",
     "exception": false,
     "start_time": "2022-11-30T18:00:14.614185",
     "status": "completed"
    },
    "tags": []
   },
   "source": [
    "### Defining names, paths and flags"
   ]
  },
  {
   "cell_type": "code",
   "execution_count": 6,
   "id": "e3fd0caa",
   "metadata": {
    "ExecuteTime": {
     "end_time": "2022-09-22T21:43:54.373657Z",
     "start_time": "2022-09-22T21:43:54.363586Z"
    },
    "execution": {
     "iopub.execute_input": "2022-11-30T18:00:14.648729Z",
     "iopub.status.busy": "2022-11-30T18:00:14.648484Z",
     "iopub.status.idle": "2022-11-30T18:00:14.654713Z",
     "shell.execute_reply": "2022-11-30T18:00:14.653998Z"
    },
    "papermill": {
     "duration": 0.019287,
     "end_time": "2022-11-30T18:00:14.656226",
     "exception": false,
     "start_time": "2022-11-30T18:00:14.636939",
     "status": "completed"
    },
    "tags": []
   },
   "outputs": [],
   "source": [
    "# QIIME2 Artifacts folder\n",
    "qiime_folder = os.path.join(experiment_folder, 'qiime-artifacts')\n",
    "\n",
    "# Input - DADA2 Artifacts\n",
    "dada2_tabs_path = os.path.join(qiime_folder, 'dada2-tabs.qza')\n",
    "dada2_reps_path = os.path.join(qiime_folder, 'dada2-reps.qza')\n",
    "dada2_stat_path = os.path.join(qiime_folder, 'dada2-stat.qza')\n",
    "\n",
    "# Output -Rarefaction Artifacts\n",
    "alpha_rarefaction_path = os.path.join(qiime_folder, 'alpha-rarefaction.qza')\n",
    "alpha_rarefaction_view_path = os.path.join(qiime_folder, 'alpha-rarefaction.qzv')\n",
    "\n",
    "# Flag - Load or create files\n",
    "need_tax = not (os.path.isfile(alpha_rarefaction_path)) or replace_files\n",
    "need_view = not (os.path.isfile(alpha_rarefaction_view_path)) or replace_files"
   ]
  },
  {
   "cell_type": "markdown",
   "id": "de49ea42",
   "metadata": {
    "papermill": {
     "duration": 0.01115,
     "end_time": "2022-11-30T18:00:14.678527",
     "exception": false,
     "start_time": "2022-11-30T18:00:14.667377",
     "status": "completed"
    },
    "tags": []
   },
   "source": [
    "## Step execution\n",
    "\n",
    "### Load input files\n",
    "\n",
    "This Step import the QIIME2 `SampleData[PairedEndSequencesWithQuality]` Artifact with all demultiplexed sequences and the `Metadata` file."
   ]
  },
  {
   "cell_type": "code",
   "execution_count": 7,
   "id": "7c0bf7c2",
   "metadata": {
    "ExecuteTime": {
     "end_time": "2022-09-22T21:43:54.398034Z",
     "start_time": "2022-09-22T21:43:54.375240Z"
    },
    "execution": {
     "iopub.execute_input": "2022-11-30T18:00:14.700975Z",
     "iopub.status.busy": "2022-11-30T18:00:14.700730Z",
     "iopub.status.idle": "2022-11-30T18:00:14.721274Z",
     "shell.execute_reply": "2022-11-30T18:00:14.720859Z"
    },
    "papermill": {
     "duration": 0.034128,
     "end_time": "2022-11-30T18:00:14.723322",
     "exception": false,
     "start_time": "2022-11-30T18:00:14.689194",
     "status": "completed"
    },
    "tags": []
   },
   "outputs": [],
   "source": [
    "#Load Metadata\n",
    "metadata_qa = Metadata.load(metadata_file)"
   ]
  },
  {
   "cell_type": "code",
   "execution_count": 8,
   "id": "611d448c",
   "metadata": {
    "ExecuteTime": {
     "end_time": "2022-09-22T21:43:54.827295Z",
     "start_time": "2022-09-22T21:43:54.399431Z"
    },
    "execution": {
     "iopub.execute_input": "2022-11-30T18:00:14.750519Z",
     "iopub.status.busy": "2022-11-30T18:00:14.750371Z",
     "iopub.status.idle": "2022-11-30T18:00:15.659470Z",
     "shell.execute_reply": "2022-11-30T18:00:15.658795Z"
    },
    "papermill": {
     "duration": 0.923558,
     "end_time": "2022-11-30T18:00:15.662570",
     "exception": false,
     "start_time": "2022-11-30T18:00:14.739012",
     "status": "completed"
    },
    "tags": []
   },
   "outputs": [],
   "source": [
    "tabs = Artifact.load(dada2_tabs_path)\n",
    "tabs_df = tabs.view(Metadata).to_dataframe().T"
   ]
  },
  {
   "cell_type": "markdown",
   "id": "267984c3",
   "metadata": {
    "papermill": {
     "duration": 0.011801,
     "end_time": "2022-11-30T18:00:15.690908",
     "exception": false,
     "start_time": "2022-11-30T18:00:15.679107",
     "status": "completed"
    },
    "tags": []
   },
   "source": [
    "## Alpha Rarefaction"
   ]
  },
  {
   "cell_type": "code",
   "execution_count": 9,
   "id": "be0f74c8",
   "metadata": {
    "ExecuteTime": {
     "end_time": "2022-09-22T21:55:53.328300Z",
     "start_time": "2022-09-22T21:55:53.318166Z"
    },
    "execution": {
     "iopub.execute_input": "2022-11-30T18:00:15.714901Z",
     "iopub.status.busy": "2022-11-30T18:00:15.714721Z",
     "iopub.status.idle": "2022-11-30T18:00:15.721170Z",
     "shell.execute_reply": "2022-11-30T18:00:15.720445Z"
    },
    "papermill": {
     "duration": 0.02026,
     "end_time": "2022-11-30T18:00:15.722710",
     "exception": false,
     "start_time": "2022-11-30T18:00:15.702450",
     "status": "completed"
    },
    "tags": []
   },
   "outputs": [],
   "source": [
    "# Get min and maximum feature counts to set sampling depth\n",
    "rank_df = tabs_df.sum().sort_values()\n",
    "min_feature_count = int(rank_df.min())\n",
    "max_feature_count = int(rank_df.max())"
   ]
  },
  {
   "cell_type": "code",
   "execution_count": 10,
   "id": "5e44f175",
   "metadata": {
    "ExecuteTime": {
     "end_time": "2022-09-22T21:56:13.586159Z",
     "start_time": "2022-09-22T21:55:55.117935Z"
    },
    "execution": {
     "iopub.execute_input": "2022-11-30T18:00:15.747371Z",
     "iopub.status.busy": "2022-11-30T18:00:15.747131Z",
     "iopub.status.idle": "2022-11-30T18:00:32.902705Z",
     "shell.execute_reply": "2022-11-30T18:00:32.902090Z"
    },
    "papermill": {
     "duration": 17.171245,
     "end_time": "2022-11-30T18:00:32.905662",
     "exception": false,
     "start_time": "2022-11-30T18:00:15.734417",
     "status": "completed"
    },
    "tags": []
   },
   "outputs": [],
   "source": [
    "alpha_rar = alpha_rarefaction(\n",
    "    table = tabs,\n",
    "    max_depth = max_feature_count,\n",
    "    min_depth = 1,\n",
    "    metadata = metadata_qa,\n",
    ")"
   ]
  },
  {
   "cell_type": "code",
   "execution_count": 11,
   "id": "d3d7556c",
   "metadata": {
    "ExecuteTime": {
     "end_time": "2022-09-22T21:56:13.632468Z",
     "start_time": "2022-09-22T21:56:13.589032Z"
    },
    "execution": {
     "iopub.execute_input": "2022-11-30T18:00:32.942158Z",
     "iopub.status.busy": "2022-11-30T18:00:32.941759Z",
     "iopub.status.idle": "2022-11-30T18:00:32.990668Z",
     "shell.execute_reply": "2022-11-30T18:00:32.990116Z"
    },
    "papermill": {
     "duration": 0.070314,
     "end_time": "2022-11-30T18:00:32.994774",
     "exception": false,
     "start_time": "2022-11-30T18:00:32.924460",
     "status": "completed"
    },
    "scrolled": true,
    "tags": []
   },
   "outputs": [
    {
     "data": {
      "text/html": [
       "<div><img onload=\"(function(div, url){\n",
       "if (typeof require !== 'undefined') {\n",
       "    var baseURL = require.toUrl('').split('/').slice(0, -2).join('/');\n",
       "} else {\n",
       "    var baseURL = JSON.parse(\n",
       "        document.getElementById('jupyter-config-data').innerHTML\n",
       "    ).baseUrl.slice(0, -1);\n",
       "}\n",
       "url = baseURL + url;\n",
       "fetch(url).then(function(res) {\n",
       "    if (res.status === 404) {\n",
       "        div.innerHTML = 'Install QIIME 2 Jupyter extension with:<br />' +\n",
       "                        '<code>jupyter serverextension enable --py qiime2' +\n",
       "                        ' --sys-prefix</code><br />then restart your server.' +\n",
       "                        '<br /><br />(Interactive output not available on ' +\n",
       "                        'static notebook viewer services like nbviewer.)';\n",
       "    } else if (res.status === 409) {\n",
       "        div.innerHTML = 'Visualization no longer in scope. Re-run this cell' +\n",
       "                        ' to see the visualization.';\n",
       "    } else if (res.ok) {\n",
       "        url = res.url;\n",
       "        div.innerHTML = '<iframe src=\\'' + url + '\\' style=\\'' +\n",
       "                        'width: 100%; height: 700px; border: 0;\\'>' +\n",
       "                        '</iframe><hr />Open in a: <a href=\\'' + url + '\\'' +\n",
       "                        ' target=\\'_blank\\'>new window</a>'\n",
       "    } else {\n",
       "        div.innerHTML = 'Something has gone wrong. Check notebook server for' +\n",
       "                        ' errors.';\n",
       "    }\n",
       "});\n",
       "})(this.parentElement, '/qiime2/redirect?location=/tmp/qiime2-archive-a0fix3td')\" src=\"data:image/gif;base64,R0lGODlhAQABAIAAAP///wAAACH5BAEAAAAALAAAAAABAAEAAAICRAEAOw==\" /></div>"
      ],
      "text/plain": [
       "<visualization: Visualization uuid: e56c3767-211a-4173-a8e0-55c760a7159e>"
      ]
     },
     "execution_count": 11,
     "metadata": {},
     "output_type": "execute_result"
    }
   ],
   "source": [
    "alpha_rar.visualization.save(alpha_rarefaction_view_path)\n",
    "alpha_rar.visualization"
   ]
  },
  {
   "cell_type": "markdown",
   "id": "2ed3db31",
   "metadata": {
    "papermill": {
     "duration": 0.0115,
     "end_time": "2022-11-30T18:00:33.024797",
     "exception": false,
     "start_time": "2022-11-30T18:00:33.013297",
     "status": "completed"
    },
    "tags": []
   },
   "source": [
    "## Beta Rarefaction"
   ]
  },
  {
   "cell_type": "code",
   "execution_count": 12,
   "id": "7021a184",
   "metadata": {
    "ExecuteTime": {
     "end_time": "2022-09-22T21:56:19.645438Z",
     "start_time": "2022-09-22T21:56:17.687848Z"
    },
    "execution": {
     "iopub.execute_input": "2022-11-30T18:00:33.049282Z",
     "iopub.status.busy": "2022-11-30T18:00:33.049022Z",
     "iopub.status.idle": "2022-11-30T18:00:35.255546Z",
     "shell.execute_reply": "2022-11-30T18:00:35.255103Z"
    },
    "papermill": {
     "duration": 2.222292,
     "end_time": "2022-11-30T18:00:35.258802",
     "exception": false,
     "start_time": "2022-11-30T18:00:33.036510",
     "status": "completed"
    },
    "tags": []
   },
   "outputs": [
    {
     "name": "stderr",
     "output_type": "stream",
     "text": [
      "/home/lauro/anaconda3/envs/qiime2-2022.2/lib/python3.8/site-packages/scipy/stats/_stats_py.py:4529: SpearmanRConstantInputWarning: An input array is constant; the correlation coefficient is not defined.\n",
      "  warnings.warn(SpearmanRConstantInputWarning())\n"
     ]
    },
    {
     "data": {
      "image/png": "[encoded data removed]",
      "text/plain": [
       "<Figure size 432x288 with 2 Axes>"
      ]
     },
     "metadata": {
      "needs_background": "light"
     },
     "output_type": "display_data"
    }
   ],
   "source": [
    "choices = ('matching', 'aitchison', 'euclidean', 'generalized_unifrac', 'canberra', 'russellrao', 'braycurtis', 'cosine', 'jensenshannon', 'yule', 'weighted_normalized_unifrac', 'unweighted_unifrac', 'hamming', 'weighted_unifrac', 'cityblock', 'sokalmichener', 'seuclidean', 'rogerstanimoto', 'correlation', 'minkowski', 'kulsinski', 'chebyshev', 'sqeuclidean', 'sokalsneath', 'jaccard', 'dice', 'canberra_adkins')\n",
    "clustering_methods = ('nj', 'upgma')\n",
    "correlation_methods = ('pearson', 'spearman')\n",
    "\n",
    "sampling_depth = max(min_feature_count, 1)\n",
    "metric = 'braycurtis'\n",
    "clustering_method = clustering_methods[0]\n",
    "correlation_method = correlation_methods[1]\n",
    "\n",
    "beta_rar = beta_rarefaction(\n",
    "    table = tabs,\n",
    "    sampling_depth  = sampling_depth,\n",
    "    metadata = metadata_qa,\n",
    "    metric = metric,\n",
    "    clustering_method = clustering_method,\n",
    "    correlation_method = correlation_method,\n",
    ")"
   ]
  },
  {
   "cell_type": "code",
   "execution_count": 13,
   "id": "d93f575f",
   "metadata": {
    "ExecuteTime": {
     "end_time": "2022-09-22T21:56:22.170995Z",
     "start_time": "2022-09-22T21:56:22.048827Z"
    },
    "execution": {
     "iopub.execute_input": "2022-11-30T18:00:35.298621Z",
     "iopub.status.busy": "2022-11-30T18:00:35.298347Z",
     "iopub.status.idle": "2022-11-30T18:00:35.395418Z",
     "shell.execute_reply": "2022-11-30T18:00:35.394934Z"
    },
    "papermill": {
     "duration": 0.11253,
     "end_time": "2022-11-30T18:00:35.397340",
     "exception": false,
     "start_time": "2022-11-30T18:00:35.284810",
     "status": "completed"
    },
    "tags": []
   },
   "outputs": [
    {
     "data": {
      "text/html": [
       "<div><img onload=\"(function(div, url){\n",
       "if (typeof require !== 'undefined') {\n",
       "    var baseURL = require.toUrl('').split('/').slice(0, -2).join('/');\n",
       "} else {\n",
       "    var baseURL = JSON.parse(\n",
       "        document.getElementById('jupyter-config-data').innerHTML\n",
       "    ).baseUrl.slice(0, -1);\n",
       "}\n",
       "url = baseURL + url;\n",
       "fetch(url).then(function(res) {\n",
       "    if (res.status === 404) {\n",
       "        div.innerHTML = 'Install QIIME 2 Jupyter extension with:<br />' +\n",
       "                        '<code>jupyter serverextension enable --py qiime2' +\n",
       "                        ' --sys-prefix</code><br />then restart your server.' +\n",
       "                        '<br /><br />(Interactive output not available on ' +\n",
       "                        'static notebook viewer services like nbviewer.)';\n",
       "    } else if (res.status === 409) {\n",
       "        div.innerHTML = 'Visualization no longer in scope. Re-run this cell' +\n",
       "                        ' to see the visualization.';\n",
       "    } else if (res.ok) {\n",
       "        url = res.url;\n",
       "        div.innerHTML = '<iframe src=\\'' + url + '\\' style=\\'' +\n",
       "                        'width: 100%; height: 700px; border: 0;\\'>' +\n",
       "                        '</iframe><hr />Open in a: <a href=\\'' + url + '\\'' +\n",
       "                        ' target=\\'_blank\\'>new window</a>'\n",
       "    } else {\n",
       "        div.innerHTML = 'Something has gone wrong. Check notebook server for' +\n",
       "                        ' errors.';\n",
       "    }\n",
       "});\n",
       "})(this.parentElement, '/qiime2/redirect?location=/tmp/qiime2-archive-nhklny4x')\" src=\"data:image/gif;base64,R0lGODlhAQABAIAAAP///wAAACH5BAEAAAAALAAAAAABAAEAAAICRAEAOw==\" /></div>"
      ],
      "text/plain": [
       "<visualization: Visualization uuid: f0f07369-01fd-4dfc-b53c-c060d1656626>"
      ]
     },
     "execution_count": 13,
     "metadata": {},
     "output_type": "execute_result"
    }
   ],
   "source": [
    "plot_tmp = f'{metric}-{clustering_method}-{correlation_method}-{sampling_depth}'\n",
    "beta_rarefaction_view_path = os.path.join(qiime_folder, f'beta-rarefaction-{plot_tmp}.qzv')\n",
    "beta_rar.visualization.save(beta_rarefaction_view_path)\n",
    "\n",
    "beta_rar.visualization"
   ]
  }
 ],
 "metadata": {
  "celltoolbar": "Edit Metadata",
  "kernelspec": {
   "display_name": "Python 3 (ipykernel)",
   "language": "python",
   "name": "python3"
  },
  "language_info": {
   "codemirror_mode": {
    "name": "ipython",
    "version": 3
   },
   "file_extension": ".py",
   "mimetype": "text/x-python",
   "name": "python",
   "nbconvert_exporter": "python",
   "pygments_lexer": "ipython3",
   "version": "3.8.12"
  },
  "papermill": {
   "default_parameters": {},
   "duration": 30.148967,
   "end_time": "2022-11-30T18:00:36.135938",
   "environment_variables": {},
   "exception": null,
   "input_path": "nb-templates/step-rarefaction-analysis.ipynb",
   "output_path": "/home/lauro/nupeb/rede-micro/redemicro-thayane/experiments/thayane-PM/nb-executed-steps/step-rarefaction-analysis-thayane-PM.ipynb",
   "parameters": {
    "base_dir": "/home/lauro/nupeb/rede-micro/redemicro-thayane",
    "class_col": "class-straw",
    "classifier_file": "/home/lauro/nupeb/16S_classifiers_qiime2/silva-138-99-nb-classifier.qza",
    "experiment_name": "thayane-PM",
    "manifest_file": "/home/lauro/nupeb/rede-micro/redemicro-thayane/data/manifest.csv",
    "metadata_file": "/home/lauro/nupeb/rede-micro/redemicro-thayane/data/metadata.tsv",
    "overlap": 12,
    "phred": 20,
    "replace_files": false,
    "threads": 6,
    "trunc_f": 0,
    "trunc_r": 0
   },
   "start_time": "2022-11-30T18:00:05.986971",
   "version": "2.3.4"
  },
  "toc-autonumbering": false,
  "toc-showcode": false,
  "toc-showmarkdowntxt": false
 },
 "nbformat": 4,
 "nbformat_minor": 5
}