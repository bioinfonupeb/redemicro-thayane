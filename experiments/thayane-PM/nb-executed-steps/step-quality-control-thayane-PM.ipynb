{
 "cells": [
  {
   "cell_type": "markdown",
   "id": "3669510d",
   "metadata": {
    "papermill": {
     "duration": 0.021877,
     "end_time": "2022-10-21T12:39:18.438287",
     "exception": false,
     "start_time": "2022-10-21T12:39:18.416410",
     "status": "completed"
    },
    "tags": []
   },
   "source": [
    "# Quality Control and ASV table construction with DADA2"
   ]
  },
  {
   "cell_type": "markdown",
   "id": "7d774095",
   "metadata": {
    "papermill": {
     "duration": 0.014767,
     "end_time": "2022-10-21T12:39:18.468672",
     "exception": false,
     "start_time": "2022-10-21T12:39:18.453905",
     "status": "completed"
    },
    "tags": []
   },
   "source": [
    "## Setup and settings"
   ]
  },
  {
   "cell_type": "code",
   "execution_count": 1,
   "id": "63ab16d7",
   "metadata": {
    "ExecuteTime": {
     "end_time": "2022-06-29T18:49:49.974644Z",
     "start_time": "2022-06-29T18:49:30.876897Z"
    },
    "execution": {
     "iopub.execute_input": "2022-10-21T12:39:18.502445Z",
     "iopub.status.busy": "2022-10-21T12:39:18.501941Z",
     "iopub.status.idle": "2022-10-21T12:39:25.225267Z",
     "shell.execute_reply": "2022-10-21T12:39:25.224487Z"
    },
    "papermill": {
     "duration": 6.741723,
     "end_time": "2022-10-21T12:39:25.228576",
     "exception": false,
     "start_time": "2022-10-21T12:39:18.486853",
     "status": "completed"
    },
    "tags": []
   },
   "outputs": [],
   "source": [
    "# Importing packages\n",
    "import os\n",
    "import yaml\n",
    "import logging\n",
    "import pandas as pd\n",
    "from qiime2 import Artifact\n",
    "from qiime2 import Visualization\n",
    "from qiime2 import Metadata\n",
    "import qiime2.plugins.dada2.actions as dada2_actions\n",
    "import qiime2.plugins.metadata.actions as metadata_actions\n",
    "from qiime2.plugins.feature_table.visualizers import tabulate_seqs\n",
    "from qiime2.plugins.feature_table.visualizers import summarize\n",
    "from qiime2.plugins.feature_table.visualizers import core_features\n",
    "\n",
    "import matplotlib.pyplot as plt\n",
    "\n",
    "%matplotlib inline"
   ]
  },
  {
   "cell_type": "markdown",
   "id": "8c423a8d",
   "metadata": {
    "papermill": {
     "duration": 0.031148,
     "end_time": "2022-10-21T12:39:25.281657",
     "exception": false,
     "start_time": "2022-10-21T12:39:25.250509",
     "status": "completed"
    },
    "tags": []
   },
   "source": [
    "### Receiving the parameters\n",
    "\n",
    "The following cell can receive parameters using the [papermill](https://papermill.readthedocs.io/en/latest/) tool."
   ]
  },
  {
   "cell_type": "code",
   "execution_count": 2,
   "id": "2a1983a4",
   "metadata": {
    "ExecuteTime": {
     "end_time": "2022-06-29T18:54:01.035034Z",
     "start_time": "2022-06-29T18:54:01.028724Z"
    },
    "execution": {
     "iopub.execute_input": "2022-10-21T12:39:25.357106Z",
     "iopub.status.busy": "2022-10-21T12:39:25.356805Z",
     "iopub.status.idle": "2022-10-21T12:39:25.363665Z",
     "shell.execute_reply": "2022-10-21T12:39:25.362801Z"
    },
    "papermill": {
     "duration": 0.051833,
     "end_time": "2022-10-21T12:39:25.366301",
     "exception": false,
     "start_time": "2022-10-21T12:39:25.314468",
     "status": "completed"
    },
    "tags": [
     "parameters"
    ]
   },
   "outputs": [],
   "source": [
    "experiment_name = 'ana-flavia-superlactacao'\n",
    "base_dir = os.path.join('/', 'home', 'lauro', 'nupeb', 'redemicro')\n",
    "metadata_file = os.path.join(base_dir, 'data', 'raw', 'metadata', 'sample-metadata.tsv')\n",
    "manifest_file = os.path.join(base_dir, 'data', 'raw', 'manifest', 'sample-manifest.csv')\n",
    "replace_files = False\n",
    "phred = 20\n",
    "trunc_f = 0\n",
    "trunc_r = 0\n",
    "overlap = 12\n",
    "threads = 6\n",
    "trim = None"
   ]
  },
  {
   "cell_type": "code",
   "execution_count": 3,
   "id": "a07efacd",
   "metadata": {
    "execution": {
     "iopub.execute_input": "2022-10-21T12:39:25.508013Z",
     "iopub.status.busy": "2022-10-21T12:39:25.507756Z",
     "iopub.status.idle": "2022-10-21T12:39:25.513130Z",
     "shell.execute_reply": "2022-10-21T12:39:25.512296Z"
    },
    "papermill": {
     "duration": 0.023958,
     "end_time": "2022-10-21T12:39:25.514968",
     "exception": false,
     "start_time": "2022-10-21T12:39:25.491010",
     "status": "completed"
    },
    "tags": [
     "injected-parameters"
    ]
   },
   "outputs": [],
   "source": [
    "# Parameters\n",
    "experiment_name = \"thayane-PM\"\n",
    "base_dir = \"/home/lauro/nupeb/rede-micro/redemicro-thayane\"\n",
    "manifest_file = \"/home/lauro/nupeb/rede-micro/redemicro-thayane/data/manifest.csv\"\n",
    "metadata_file = \"/home/lauro/nupeb/rede-micro/redemicro-thayane/data/metadata.tsv\"\n",
    "class_col = \"sample-id\"\n",
    "classifier_file = \"/home/lauro/nupeb/dados_brutos_rede_genoma/16S_classifiers_qiime2/silva-138-99-nb-classifier.qza\"\n",
    "replace_files = False\n",
    "phred = 20\n",
    "trunc_f = 0\n",
    "trunc_r = 0\n",
    "overlap = 12\n",
    "threads = 6\n"
   ]
  },
  {
   "cell_type": "code",
   "execution_count": 4,
   "id": "c4088264",
   "metadata": {
    "execution": {
     "iopub.execute_input": "2022-10-21T12:39:25.548137Z",
     "iopub.status.busy": "2022-10-21T12:39:25.547816Z",
     "iopub.status.idle": "2022-10-21T12:39:25.556594Z",
     "shell.execute_reply": "2022-10-21T12:39:25.555698Z"
    },
    "papermill": {
     "duration": 0.02784,
     "end_time": "2022-10-21T12:39:25.558850",
     "exception": false,
     "start_time": "2022-10-21T12:39:25.531010",
     "status": "completed"
    },
    "tags": []
   },
   "outputs": [],
   "source": [
    "# Setting hardcoded parameters for development and debbuging\n",
    "production = True\n",
    "if not production:\n",
    "    params_path = os.path.join('..', 'params', 'ana-flavia-superlactacao.yaml')\n",
    "    with open(params_path, 'r') as stream:\n",
    "        params = yaml.safe_load(stream)\n",
    "        experiment_name = params['experiment_name']\n",
    "        base_dir = params['base_dir']\n",
    "        replace_files = params['replace_files']\n",
    "        experiment_folder = os.path.abspath(os.path.join(os.getcwd(), '..', 'experiments', 'thayane-feces-01'))\n",
    "        img_folder = os.path.abspath(os.path.join(experiment_folder, 'imgs'))\n",
    "        replace_files = False\n",
    "        phred = 20\n",
    "        trunc_f = 0\n",
    "        trunc_r = 0\n",
    "        overlap = 12\n",
    "        threads = 6"
   ]
  },
  {
   "cell_type": "code",
   "execution_count": 5,
   "id": "31a54891",
   "metadata": {
    "ExecuteTime": {
     "end_time": "2022-06-29T18:51:02.089300Z",
     "start_time": "2022-06-29T18:51:02.084922Z"
    },
    "execution": {
     "iopub.execute_input": "2022-10-21T12:39:25.593869Z",
     "iopub.status.busy": "2022-10-21T12:39:25.593502Z",
     "iopub.status.idle": "2022-10-21T12:39:25.598762Z",
     "shell.execute_reply": "2022-10-21T12:39:25.598242Z"
    },
    "papermill": {
     "duration": 0.023142,
     "end_time": "2022-10-21T12:39:25.600339",
     "exception": false,
     "start_time": "2022-10-21T12:39:25.577197",
     "status": "completed"
    },
    "tags": []
   },
   "outputs": [],
   "source": [
    "experiment_folder = os.path.abspath(os.path.join(base_dir, 'experiments', experiment_name))\n",
    "img_folder = os.path.abspath(os.path.join(experiment_folder, 'imgs'))"
   ]
  },
  {
   "cell_type": "markdown",
   "id": "c470662d",
   "metadata": {
    "papermill": {
     "duration": 0.014775,
     "end_time": "2022-10-21T12:39:25.631128",
     "exception": false,
     "start_time": "2022-10-21T12:39:25.616353",
     "status": "completed"
    },
    "tags": []
   },
   "source": [
    "### Defining names and paths"
   ]
  },
  {
   "cell_type": "code",
   "execution_count": 6,
   "id": "e2de9d98",
   "metadata": {
    "ExecuteTime": {
     "end_time": "2022-05-30T19:57:39.064490Z",
     "start_time": "2022-05-30T19:57:39.007809Z"
    },
    "execution": {
     "iopub.execute_input": "2022-10-21T12:39:25.660938Z",
     "iopub.status.busy": "2022-10-21T12:39:25.660771Z",
     "iopub.status.idle": "2022-10-21T12:39:25.665443Z",
     "shell.execute_reply": "2022-10-21T12:39:25.664829Z"
    },
    "papermill": {
     "duration": 0.021192,
     "end_time": "2022-10-21T12:39:25.666937",
     "exception": false,
     "start_time": "2022-10-21T12:39:25.645745",
     "status": "completed"
    },
    "tags": []
   },
   "outputs": [],
   "source": [
    "qiime_folder = os.path.join(experiment_folder, 'qiime-artifacts')\n",
    "\n",
    "if trim:\n",
    "    demux_file = os.path.join(qiime_folder, 'demux-paired-trim.qza')\n",
    "else:\n",
    "    demux_file = os.path.join(qiime_folder, 'demux-paired.qza')\n",
    "\n",
    "dada2_tabs = os.path.join(qiime_folder, 'dada2-tabs.qza')\n",
    "dada2_reps = os.path.join(qiime_folder, 'dada2-reps.qza')\n",
    "dada2_stat = os.path.join(qiime_folder, 'dada2-stat.qza')\n",
    "\n",
    "\n",
    "dada2_tabs_view = dada2_tabs[:-1] + 'v'\n",
    "dada2_reps_view = dada2_reps[:-1] + 'v'\n",
    "dada2_stat_view = dada2_stat[:-1] + 'v'\n",
    "dada2_core_view = os.path.join(qiime_folder, 'dada2-core.qzv')"
   ]
  },
  {
   "cell_type": "markdown",
   "id": "6046fea7",
   "metadata": {
    "papermill": {
     "duration": 0.014416,
     "end_time": "2022-10-21T12:39:25.696115",
     "exception": false,
     "start_time": "2022-10-21T12:39:25.681699",
     "status": "completed"
    },
    "tags": []
   },
   "source": [
    "## Step execution\n",
    "\n",
    "### Load input files\n",
    "\n",
    "This Step import the QIIME2 `SampleData[PairedEndSequencesWithQuality]` Artifact with all demultiplexed sequences and the `Metadata` file."
   ]
  },
  {
   "cell_type": "code",
   "execution_count": 7,
   "id": "83b6903d",
   "metadata": {
    "ExecuteTime": {
     "end_time": "2022-05-30T19:57:39.077380Z",
     "start_time": "2022-05-30T19:57:39.066746Z"
    },
    "execution": {
     "iopub.execute_input": "2022-10-21T12:39:25.725548Z",
     "iopub.status.busy": "2022-10-21T12:39:25.725312Z",
     "iopub.status.idle": "2022-10-21T12:39:25.730287Z",
     "shell.execute_reply": "2022-10-21T12:39:25.729543Z"
    },
    "papermill": {
     "duration": 0.021673,
     "end_time": "2022-10-21T12:39:25.731935",
     "exception": false,
     "start_time": "2022-10-21T12:39:25.710262",
     "status": "completed"
    },
    "tags": []
   },
   "outputs": [],
   "source": [
    "need_dada2 = not (os.path.isfile(dada2_tabs) and os.path.isfile(dada2_reps) and os.path.isfile(dada2_stat)) or replace_files\n",
    "need_view = not (os.path.isfile(dada2_tabs_view) and os.path.isfile(dada2_reps_view) and os.path.isfile(dada2_stat_view)) or replace_files"
   ]
  },
  {
   "cell_type": "code",
   "execution_count": 8,
   "id": "91d3c43d",
   "metadata": {
    "ExecuteTime": {
     "end_time": "2022-05-30T19:57:39.089632Z",
     "start_time": "2022-05-30T19:57:39.079347Z"
    },
    "execution": {
     "iopub.execute_input": "2022-10-21T12:39:25.764562Z",
     "iopub.status.busy": "2022-10-21T12:39:25.764188Z",
     "iopub.status.idle": "2022-10-21T12:39:25.768973Z",
     "shell.execute_reply": "2022-10-21T12:39:25.768149Z"
    },
    "papermill": {
     "duration": 0.023323,
     "end_time": "2022-10-21T12:39:25.770716",
     "exception": false,
     "start_time": "2022-10-21T12:39:25.747393",
     "status": "completed"
    },
    "tags": []
   },
   "outputs": [],
   "source": [
    "if need_dada2:\n",
    "    demux = Artifact.load(demux_file)"
   ]
  },
  {
   "cell_type": "code",
   "execution_count": 9,
   "id": "ce9e1de2",
   "metadata": {
    "ExecuteTime": {
     "end_time": "2022-05-30T19:57:39.145879Z",
     "start_time": "2022-05-30T19:57:39.091983Z"
    },
    "execution": {
     "iopub.execute_input": "2022-10-21T12:39:25.802406Z",
     "iopub.status.busy": "2022-10-21T12:39:25.802096Z",
     "iopub.status.idle": "2022-10-21T12:39:25.822230Z",
     "shell.execute_reply": "2022-10-21T12:39:25.821743Z"
    },
    "papermill": {
     "duration": 0.037693,
     "end_time": "2022-10-21T12:39:25.824033",
     "exception": false,
     "start_time": "2022-10-21T12:39:25.786340",
     "status": "completed"
    },
    "tags": []
   },
   "outputs": [],
   "source": [
    "metadata = Metadata.load(metadata_file)"
   ]
  },
  {
   "cell_type": "code",
   "execution_count": 10,
   "id": "61b7ea67",
   "metadata": {
    "execution": {
     "iopub.execute_input": "2022-10-21T12:39:25.859363Z",
     "iopub.status.busy": "2022-10-21T12:39:25.859194Z",
     "iopub.status.idle": "2022-10-21T12:39:25.866260Z",
     "shell.execute_reply": "2022-10-21T12:39:25.865581Z"
    },
    "papermill": {
     "duration": 0.024243,
     "end_time": "2022-10-21T12:39:25.867996",
     "exception": false,
     "start_time": "2022-10-21T12:39:25.843753",
     "status": "completed"
    },
    "tags": []
   },
   "outputs": [],
   "source": [
    "# Determine if is SingleEnd or PairedEnd\n",
    "manifest_df = pd.read_csv(manifest_file)\n",
    "n_directions = len(manifest_df['direction'].unique())"
   ]
  },
  {
   "cell_type": "markdown",
   "id": "adeb89bd",
   "metadata": {
    "papermill": {
     "duration": 0.015365,
     "end_time": "2022-10-21T12:39:25.898983",
     "exception": false,
     "start_time": "2022-10-21T12:39:25.883618",
     "status": "completed"
    },
    "tags": []
   },
   "source": [
    "### Execute DADA2 plugin and create Artifacts\n",
    "\n",
    "The DADA2 plugin perform tha quality control and create the ASV table. It will be produced three Artifacts:\n",
    "\n",
    "- tabs (`FeatureTable[Frequency]`) : \n",
    "    The resulting feature table.\n",
    "- reps (`FeatureData[Sequence]`) :\n",
    "    The resulting feature sequences. Each feature in the feature table will\n",
    "    be represented by exactly one sequence, and these sequences will be the\n",
    "    joined paired-end sequences.\n",
    "- denoising_stats (`SampleData[DADA2Stats]`) : the resulting stats. Shows the number and the proportion of filtered reads in each phase of the plugin execution."
   ]
  },
  {
   "cell_type": "code",
   "execution_count": 11,
   "id": "541b41e3",
   "metadata": {
    "ExecuteTime": {
     "end_time": "2022-05-30T19:57:39.171629Z",
     "start_time": "2022-05-30T19:57:39.147370Z"
    },
    "execution": {
     "iopub.execute_input": "2022-10-21T12:39:25.930441Z",
     "iopub.status.busy": "2022-10-21T12:39:25.930176Z",
     "iopub.status.idle": "2022-10-21T12:39:25.958050Z",
     "shell.execute_reply": "2022-10-21T12:39:25.957436Z"
    },
    "papermill": {
     "duration": 0.045907,
     "end_time": "2022-10-21T12:39:25.960220",
     "exception": false,
     "start_time": "2022-10-21T12:39:25.914313",
     "status": "completed"
    },
    "scrolled": true,
    "tags": []
   },
   "outputs": [],
   "source": [
    "# If some of the DADA2 outputs artifacts do not exist or if the old files will be replaced\n",
    "if need_dada2:\n",
    "    \n",
    "    # Excute the DADA2 plugin\n",
    "    if n_directions == 1: # SingleEnd\n",
    "        tabs, reps, stat = dada2_actions.denoise_single(\n",
    "            demultiplexed_seqs=demux,\n",
    "            trunc_q = phred,\n",
    "            n_threads = threads,\n",
    "            trunc_len = trunc_f,\n",
    "        )\n",
    "    elif n_directions == 2: # PairedEnd\n",
    "        tabs, reps, stat = dada2_actions.denoise_paired(\n",
    "            demultiplexed_seqs=demux,\n",
    "            trunc_q = phred,\n",
    "            min_overlap = overlap,\n",
    "            n_threads = threads,\n",
    "            trunc_len_f = trunc_f,\n",
    "            trunc_len_r = trunc_r,\n",
    "        )\n",
    "    \n",
    "    # Save the artifacts objects\n",
    "    tabs.save(dada2_tabs)\n",
    "    reps.save(dada2_reps)\n",
    "    stat.save(dada2_stat)\n",
    "\n",
    "else:\n",
    "    tabs = Artifact.load(dada2_tabs)\n",
    "    reps = Artifact.load(dada2_reps)\n",
    "    stat = Artifact.load(dada2_stat)"
   ]
  },
  {
   "cell_type": "markdown",
   "id": "5ad34bff",
   "metadata": {
    "papermill": {
     "duration": 0.014716,
     "end_time": "2022-10-21T12:39:25.995310",
     "exception": false,
     "start_time": "2022-10-21T12:39:25.980594",
     "status": "completed"
    },
    "tags": []
   },
   "source": [
    "### Define Visualizations Artifacts"
   ]
  },
  {
   "cell_type": "code",
   "execution_count": 12,
   "id": "af5b0399",
   "metadata": {
    "ExecuteTime": {
     "end_time": "2022-05-30T19:57:39.249051Z",
     "start_time": "2022-05-30T19:57:39.173053Z"
    },
    "execution": {
     "iopub.execute_input": "2022-10-21T12:39:26.026348Z",
     "iopub.status.busy": "2022-10-21T12:39:26.026045Z",
     "iopub.status.idle": "2022-10-21T12:39:26.107944Z",
     "shell.execute_reply": "2022-10-21T12:39:26.107288Z"
    },
    "papermill": {
     "duration": 0.099835,
     "end_time": "2022-10-21T12:39:26.110022",
     "exception": false,
     "start_time": "2022-10-21T12:39:26.010187",
     "status": "completed"
    },
    "tags": []
   },
   "outputs": [],
   "source": [
    "# If some of the DADA2 Visualization artifacts do not exist or if the old files will be replaced\n",
    "if need_view:\n",
    "    \n",
    "    tabs_view, = metadata_actions.tabulate(input=tabs.view(Metadata))\n",
    "    reps_view, = metadata_actions.tabulate(input=reps.view(Metadata))\n",
    "    stat_view, = metadata_actions.tabulate(input=stat.view(Metadata))\n",
    "    \n",
    "    tabs_view = summarize(table=tabs, sample_metadata=metadata).visualization\n",
    "    reps_view = tabulate_seqs(data=reps).visualization\n",
    "    core_view = core_features(table=tabs, min_fraction=.1, steps=10).visualization\n",
    "    \n",
    "    \n",
    "    # Save the artifacts objects\n",
    "    tabs_view.save(dada2_tabs_view)\n",
    "    reps_view.save(dada2_reps_view)\n",
    "    stat_view.save(dada2_stat_view)\n",
    "    core_view.save(dada2_core_view)\n",
    "\n",
    "else:\n",
    "    tabs_view = Visualization.load(dada2_tabs_view)\n",
    "    reps_view = Visualization.load(dada2_reps_view)\n",
    "    stat_view = Visualization.load(dada2_stat_view)\n",
    "    core_view = Visualization.load(dada2_core_view)"
   ]
  },
  {
   "cell_type": "code",
   "execution_count": 13,
   "id": "f0d83021",
   "metadata": {
    "execution": {
     "iopub.execute_input": "2022-10-21T12:39:26.146732Z",
     "iopub.status.busy": "2022-10-21T12:39:26.146461Z",
     "iopub.status.idle": "2022-10-21T12:39:26.151577Z",
     "shell.execute_reply": "2022-10-21T12:39:26.151084Z"
    },
    "papermill": {
     "duration": 0.02321,
     "end_time": "2022-10-21T12:39:26.153055",
     "exception": false,
     "start_time": "2022-10-21T12:39:26.129845",
     "status": "completed"
    },
    "tags": []
   },
   "outputs": [],
   "source": [
    "def plot_stats_box(artifact, fname, total_reads_phases, percent_phases, cols):\n",
    "    import matplotlib.pyplot as plt\n",
    "    from qiime2 import Metadata\n",
    "    \n",
    "    df = artifact.view(Metadata).to_dataframe()\n",
    "    df_vals = df[total_reads_phases]\n",
    "    df_perc = df[percent_phases]\n",
    "    df_perc.columns = cols\n",
    "    \n",
    "    \n",
    "    plt.figure(figsize=(15,5))\n",
    "    plt.subplot(1, 2, 1)\n",
    "    df_vals.boxplot()\n",
    "    plt.xlabel('Fases')\n",
    "    plt.ylabel('# of reads')\n",
    "    \n",
    "    plt.subplot(1, 2, 2)\n",
    "    df_perc.boxplot()\n",
    "    plt.xlabel('Fases')\n",
    "    plt.ylabel('% of input')\n",
    "    \n",
    "    plt.savefig(fname, bbox_inches='tight')\n",
    "\n",
    "    plt.show()"
   ]
  },
  {
   "cell_type": "code",
   "execution_count": 14,
   "id": "6f8920ae",
   "metadata": {
    "execution": {
     "iopub.execute_input": "2022-10-21T12:39:26.185268Z",
     "iopub.status.busy": "2022-10-21T12:39:26.185035Z",
     "iopub.status.idle": "2022-10-21T12:39:26.190550Z",
     "shell.execute_reply": "2022-10-21T12:39:26.189790Z"
    },
    "papermill": {
     "duration": 0.02336,
     "end_time": "2022-10-21T12:39:26.192306",
     "exception": false,
     "start_time": "2022-10-21T12:39:26.168946",
     "status": "completed"
    },
    "tags": []
   },
   "outputs": [],
   "source": [
    "if n_directions == 1: # SingleEnd\n",
    "    total_reads_phases = ['input', 'filtered', 'denoised', 'non-chimeric']\n",
    "    percent_phases = ['percentage of input passed filter', 'percentage of input non-chimeric']\n",
    "    cols = ['filtered', 'non-chimeric']\n",
    "elif n_directions == 2: # PairedEnd\n",
    "    total_reads_phases = ['input', 'filtered', 'denoised', 'merged', 'non-chimeric']\n",
    "    percent_phases = ['percentage of input passed filter', 'percentage of input merged', 'percentage of input non-chimeric']\n",
    "    cols = ['filtered', 'merged', 'non-chimeric']"
   ]
  },
  {
   "cell_type": "code",
   "execution_count": 15,
   "id": "c136d536",
   "metadata": {
    "ExecuteTime": {
     "end_time": "2022-05-30T19:57:39.901491Z",
     "start_time": "2022-05-30T19:57:39.255220Z"
    },
    "execution": {
     "iopub.execute_input": "2022-10-21T12:39:26.224918Z",
     "iopub.status.busy": "2022-10-21T12:39:26.224752Z",
     "iopub.status.idle": "2022-10-21T12:39:26.854504Z",
     "shell.execute_reply": "2022-10-21T12:39:26.853906Z"
    },
    "papermill": {
     "duration": 0.649769,
     "end_time": "2022-10-21T12:39:26.858684",
     "exception": false,
     "start_time": "2022-10-21T12:39:26.208915",
     "status": "completed"
    },
    "scrolled": true,
    "tags": []
   },
   "outputs": [
    {
     "data": {
      "image/png": "[encoded data removed]",
      "text/plain": [
       "<Figure size 1080x360 with 2 Axes>"
      ]
     },
     "metadata": {
      "needs_background": "light"
     },
     "output_type": "display_data"
    }
   ],
   "source": [
    "plot_stats_box(stat, os.path.join(img_folder, 'step02-stats-boxplot.pdf'), total_reads_phases, percent_phases, cols)"
   ]
  },
  {
   "cell_type": "code",
   "execution_count": 16,
   "id": "d6fd560b",
   "metadata": {
    "ExecuteTime": {
     "end_time": "2022-05-31T17:58:47.140114Z",
     "start_time": "2022-05-31T17:58:47.087808Z"
    },
    "execution": {
     "iopub.execute_input": "2022-10-21T12:39:26.898627Z",
     "iopub.status.busy": "2022-10-21T12:39:26.898453Z",
     "iopub.status.idle": "2022-10-21T12:39:26.936719Z",
     "shell.execute_reply": "2022-10-21T12:39:26.936137Z"
    },
    "papermill": {
     "duration": 0.056981,
     "end_time": "2022-10-21T12:39:26.938679",
     "exception": false,
     "start_time": "2022-10-21T12:39:26.881698",
     "status": "completed"
    },
    "tags": []
   },
   "outputs": [
    {
     "data": {
      "text/html": [
       "<div>\n",
       "<style scoped>\n",
       "    .dataframe tbody tr th:only-of-type {\n",
       "        vertical-align: middle;\n",
       "    }\n",
       "\n",
       "    .dataframe tbody tr th {\n",
       "        vertical-align: top;\n",
       "    }\n",
       "\n",
       "    .dataframe thead th {\n",
       "        text-align: right;\n",
       "    }\n",
       "</style>\n",
       "<table border=\"1\" class=\"dataframe\">\n",
       "  <thead>\n",
       "    <tr style=\"text-align: right;\">\n",
       "      <th></th>\n",
       "      <th>percentage of input passed filter</th>\n",
       "      <th>percentage of input non-chimeric</th>\n",
       "    </tr>\n",
       "  </thead>\n",
       "  <tbody>\n",
       "    <tr>\n",
       "      <th>count</th>\n",
       "      <td>44.000000</td>\n",
       "      <td>44.000000</td>\n",
       "    </tr>\n",
       "    <tr>\n",
       "      <th>mean</th>\n",
       "      <td>92.680227</td>\n",
       "      <td>72.651591</td>\n",
       "    </tr>\n",
       "    <tr>\n",
       "      <th>std</th>\n",
       "      <td>3.124937</td>\n",
       "      <td>11.877812</td>\n",
       "    </tr>\n",
       "    <tr>\n",
       "      <th>min</th>\n",
       "      <td>84.180000</td>\n",
       "      <td>48.660000</td>\n",
       "    </tr>\n",
       "    <tr>\n",
       "      <th>25%</th>\n",
       "      <td>93.130000</td>\n",
       "      <td>65.970000</td>\n",
       "    </tr>\n",
       "    <tr>\n",
       "      <th>50%</th>\n",
       "      <td>94.055000</td>\n",
       "      <td>73.580000</td>\n",
       "    </tr>\n",
       "    <tr>\n",
       "      <th>75%</th>\n",
       "      <td>94.337500</td>\n",
       "      <td>82.430000</td>\n",
       "    </tr>\n",
       "    <tr>\n",
       "      <th>max</th>\n",
       "      <td>94.720000</td>\n",
       "      <td>94.270000</td>\n",
       "    </tr>\n",
       "  </tbody>\n",
       "</table>\n",
       "</div>"
      ],
      "text/plain": [
       "       percentage of input passed filter  percentage of input non-chimeric\n",
       "count                          44.000000                         44.000000\n",
       "mean                           92.680227                         72.651591\n",
       "std                             3.124937                         11.877812\n",
       "min                            84.180000                         48.660000\n",
       "25%                            93.130000                         65.970000\n",
       "50%                            94.055000                         73.580000\n",
       "75%                            94.337500                         82.430000\n",
       "max                            94.720000                         94.270000"
      ]
     },
     "execution_count": 16,
     "metadata": {},
     "output_type": "execute_result"
    }
   ],
   "source": [
    "stat.view(Metadata).to_dataframe().describe()[percent_phases]"
   ]
  },
  {
   "cell_type": "code",
   "execution_count": 17,
   "id": "537dad0f",
   "metadata": {
    "ExecuteTime": {
     "end_time": "2022-05-30T19:57:39.957632Z",
     "start_time": "2022-05-30T19:57:39.953762Z"
    },
    "execution": {
     "iopub.execute_input": "2022-10-21T12:39:26.975986Z",
     "iopub.status.busy": "2022-10-21T12:39:26.975808Z",
     "iopub.status.idle": "2022-10-21T12:39:26.981268Z",
     "shell.execute_reply": "2022-10-21T12:39:26.980604Z"
    },
    "papermill": {
     "duration": 0.024037,
     "end_time": "2022-10-21T12:39:26.982795",
     "exception": false,
     "start_time": "2022-10-21T12:39:26.958758",
     "status": "completed"
    },
    "tags": []
   },
   "outputs": [
    {
     "data": {
      "text/html": [
       "<div><img onload=\"(function(div, url){\n",
       "if (typeof require !== 'undefined') {\n",
       "    var baseURL = require.toUrl('').split('/').slice(0, -2).join('/');\n",
       "} else {\n",
       "    var baseURL = JSON.parse(\n",
       "        document.getElementById('jupyter-config-data').innerHTML\n",
       "    ).baseUrl.slice(0, -1);\n",
       "}\n",
       "url = baseURL + url;\n",
       "fetch(url).then(function(res) {\n",
       "    if (res.status === 404) {\n",
       "        div.innerHTML = 'Install QIIME 2 Jupyter extension with:<br />' +\n",
       "                        '<code>jupyter serverextension enable --py qiime2' +\n",
       "                        ' --sys-prefix</code><br />then restart your server.' +\n",
       "                        '<br /><br />(Interactive output not available on ' +\n",
       "                        'static notebook viewer services like nbviewer.)';\n",
       "    } else if (res.status === 409) {\n",
       "        div.innerHTML = 'Visualization no longer in scope. Re-run this cell' +\n",
       "                        ' to see the visualization.';\n",
       "    } else if (res.ok) {\n",
       "        url = res.url;\n",
       "        div.innerHTML = '<iframe src=\\'' + url + '\\' style=\\'' +\n",
       "                        'width: 100%; height: 700px; border: 0;\\'>' +\n",
       "                        '</iframe><hr />Open in a: <a href=\\'' + url + '\\'' +\n",
       "                        ' target=\\'_blank\\'>new window</a>'\n",
       "    } else {\n",
       "        div.innerHTML = 'Something has gone wrong. Check notebook server for' +\n",
       "                        ' errors.';\n",
       "    }\n",
       "});\n",
       "})(this.parentElement, '/qiime2/redirect?location=/tmp/qiime2-archive-p4skzxqi')\" src=\"data:image/gif;base64,R0lGODlhAQABAIAAAP///wAAACH5BAEAAAAALAAAAAABAAEAAAICRAEAOw==\" /></div>"
      ],
      "text/plain": [
       "<visualization: Visualization uuid: a31bc0f5-b632-4b1d-bf98-1811175d977d>"
      ]
     },
     "execution_count": 17,
     "metadata": {},
     "output_type": "execute_result"
    }
   ],
   "source": [
    "stat_view"
   ]
  },
  {
   "cell_type": "code",
   "execution_count": 18,
   "id": "628d6ae9",
   "metadata": {
    "ExecuteTime": {
     "end_time": "2022-05-30T19:57:39.967918Z",
     "start_time": "2022-05-30T19:57:39.958955Z"
    },
    "execution": {
     "iopub.execute_input": "2022-10-21T12:39:27.018517Z",
     "iopub.status.busy": "2022-10-21T12:39:27.018238Z",
     "iopub.status.idle": "2022-10-21T12:39:27.022354Z",
     "shell.execute_reply": "2022-10-21T12:39:27.021486Z"
    },
    "papermill": {
     "duration": 0.023835,
     "end_time": "2022-10-21T12:39:27.024158",
     "exception": false,
     "start_time": "2022-10-21T12:39:27.000323",
     "status": "completed"
    },
    "tags": []
   },
   "outputs": [],
   "source": [
    "# new_stat = Artifact.load('/home/lauro/nupeb/redemicro/experiments/thayane-feces-01/qiime-artifacts/dada2-stat.qza')\n",
    "# # new_view, = metadata_actions.tabulate(input=new_stat.view(Metadata))\n",
    "# # plot_stats_box(old_stat)\n",
    "\n",
    "# old_stat = Artifact.load('/home/lauro/nupeb/dados_brutos_rede_genoma/experiments/fezes-phred_20-tf_0-tr_0-lap_4/fezes_dada2_stat.qza')\n",
    "# # old_view, = metadata_actions.tabulate(input=old_stat.view(Metadata))\n",
    "# # plot_stats_box(old_stat)\n",
    "\n",
    "# plot_stats_box_pairs(old_stat, new_stat)"
   ]
  }
 ],
 "metadata": {
  "celltoolbar": "Edit Metadata",
  "kernelspec": {
   "display_name": "Python 3 (ipykernel)",
   "language": "python",
   "name": "python3"
  },
  "language_info": {
   "codemirror_mode": {
    "name": "ipython",
    "version": 3
   },
   "file_extension": ".py",
   "mimetype": "text/x-python",
   "name": "python",
   "nbconvert_exporter": "python",
   "pygments_lexer": "ipython3",
   "version": "3.8.12"
  },
  "papermill": {
   "default_parameters": {},
   "duration": 11.262911,
   "end_time": "2022-10-21T12:39:28.062587",
   "environment_variables": {},
   "exception": null,
   "input_path": "nb-templates/step-quality-control.ipynb",
   "output_path": "/home/lauro/nupeb/rede-micro/redemicro-thayane/experiments/thayane-PM/nb-executed-steps/step-quality-control-thayane-PM.ipynb",
   "parameters": {
    "base_dir": "/home/lauro/nupeb/rede-micro/redemicro-thayane",
    "class_col": "sample-id",
    "classifier_file": "/home/lauro/nupeb/dados_brutos_rede_genoma/16S_classifiers_qiime2/silva-138-99-nb-classifier.qza",
    "experiment_name": "thayane-PM",
    "manifest_file": "/home/lauro/nupeb/rede-micro/redemicro-thayane/data/manifest.csv",
    "metadata_file": "/home/lauro/nupeb/rede-micro/redemicro-thayane/data/metadata.tsv",
    "overlap": 12,
    "phred": 20,
    "replace_files": false,
    "threads": 6,
    "trunc_f": 0,
    "trunc_r": 0
   },
   "start_time": "2022-10-21T12:39:16.799676",
   "version": "2.3.4"
  },
  "toc-autonumbering": false,
  "toc-showcode": false,
  "toc-showmarkdowntxt": false
 },
 "nbformat": 4,
 "nbformat_minor": 5
}