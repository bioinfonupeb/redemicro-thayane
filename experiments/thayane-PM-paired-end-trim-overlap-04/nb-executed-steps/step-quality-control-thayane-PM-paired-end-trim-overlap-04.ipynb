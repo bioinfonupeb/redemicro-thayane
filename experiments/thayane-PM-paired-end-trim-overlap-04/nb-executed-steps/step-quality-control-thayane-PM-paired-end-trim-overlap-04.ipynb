{
 "cells": [
  {
   "cell_type": "markdown",
   "id": "cc9438b0",
   "metadata": {
    "papermill": {
     "duration": 0.024835,
     "end_time": "2023-09-05T19:17:20.860783",
     "exception": false,
     "start_time": "2023-09-05T19:17:20.835948",
     "status": "completed"
    },
    "tags": []
   },
   "source": [
    "# Quality Control and ASV table construction with DADA2"
   ]
  },
  {
   "cell_type": "markdown",
   "id": "acf8722d",
   "metadata": {
    "papermill": {
     "duration": 0.05131,
     "end_time": "2023-09-05T19:17:20.930903",
     "exception": false,
     "start_time": "2023-09-05T19:17:20.879593",
     "status": "completed"
    },
    "tags": []
   },
   "source": [
    "## Setup and settings"
   ]
  },
  {
   "cell_type": "code",
   "execution_count": 1,
   "id": "2fef3df2",
   "metadata": {
    "ExecuteTime": {
     "end_time": "2022-06-29T18:49:49.974644Z",
     "start_time": "2022-06-29T18:49:30.876897Z"
    },
    "execution": {
     "iopub.execute_input": "2023-09-05T19:17:21.052572Z",
     "iopub.status.busy": "2023-09-05T19:17:21.051912Z",
     "iopub.status.idle": "2023-09-05T19:17:27.211490Z",
     "shell.execute_reply": "2023-09-05T19:17:27.210798Z"
    },
    "papermill": {
     "duration": 6.225463,
     "end_time": "2023-09-05T19:17:27.214633",
     "exception": false,
     "start_time": "2023-09-05T19:17:20.989170",
     "status": "completed"
    },
    "tags": []
   },
   "outputs": [],
   "source": [
    "# Importing packages\n",
    "import os\n",
    "import yaml\n",
    "import logging\n",
    "import pandas as pd\n",
    "from qiime2 import Artifact\n",
    "from qiime2 import Visualization\n",
    "from qiime2 import Metadata\n",
    "import qiime2.plugins.dada2.actions as dada2_actions\n",
    "import qiime2.plugins.metadata.actions as metadata_actions\n",
    "from qiime2.plugins.feature_table.visualizers import tabulate_seqs\n",
    "from qiime2.plugins.feature_table.visualizers import summarize\n",
    "from qiime2.plugins.feature_table.visualizers import core_features\n",
    "from qiime2.plugins.feature_table.methods import filter_samples\n",
    "from qiime2.plugins.feature_table.methods import filter_seqs\n",
    "\n",
    "import matplotlib.pyplot as plt\n",
    "\n",
    "%matplotlib inline"
   ]
  },
  {
   "cell_type": "markdown",
   "id": "121aa0bd",
   "metadata": {
    "papermill": {
     "duration": 0.014151,
     "end_time": "2023-09-05T19:17:27.246954",
     "exception": false,
     "start_time": "2023-09-05T19:17:27.232803",
     "status": "completed"
    },
    "tags": []
   },
   "source": [
    "### Receiving the parameters\n",
    "\n",
    "The following cell can receive parameters using the [papermill](https://papermill.readthedocs.io/en/latest/) tool."
   ]
  },
  {
   "cell_type": "code",
   "execution_count": 2,
   "id": "e4395856",
   "metadata": {
    "ExecuteTime": {
     "end_time": "2022-06-29T18:54:01.035034Z",
     "start_time": "2022-06-29T18:54:01.028724Z"
    },
    "execution": {
     "iopub.execute_input": "2023-09-05T19:17:27.349031Z",
     "iopub.status.busy": "2023-09-05T19:17:27.348199Z",
     "iopub.status.idle": "2023-09-05T19:17:27.357733Z",
     "shell.execute_reply": "2023-09-05T19:17:27.356447Z"
    },
    "papermill": {
     "duration": 0.072364,
     "end_time": "2023-09-05T19:17:27.359921",
     "exception": false,
     "start_time": "2023-09-05T19:17:27.287557",
     "status": "completed"
    },
    "tags": [
     "parameters"
    ]
   },
   "outputs": [],
   "source": [
    "experiment_name = 'ana-flavia-superlactacao'\n",
    "base_dir = os.path.join('/', 'home', 'lauro', 'nupeb', 'redemicro')\n",
    "metadata_file = os.path.join(base_dir, 'data', 'raw', 'metadata', 'sample-metadata.tsv')\n",
    "manifest_file = os.path.join(base_dir, 'data', 'raw', 'manifest', 'sample-manifest.csv')\n",
    "replace_files = False\n",
    "phred = 20\n",
    "trunc_f = 0\n",
    "trunc_r = 0\n",
    "overlap = 12\n",
    "threads = 6\n",
    "trim = None"
   ]
  },
  {
   "cell_type": "code",
   "execution_count": 3,
   "id": "2acdb216",
   "metadata": {
    "execution": {
     "iopub.execute_input": "2023-09-05T19:17:27.415496Z",
     "iopub.status.busy": "2023-09-05T19:17:27.415069Z",
     "iopub.status.idle": "2023-09-05T19:17:27.423127Z",
     "shell.execute_reply": "2023-09-05T19:17:27.421922Z"
    },
    "papermill": {
     "duration": 0.047903,
     "end_time": "2023-09-05T19:17:27.426260",
     "exception": false,
     "start_time": "2023-09-05T19:17:27.378357",
     "status": "completed"
    },
    "tags": [
     "injected-parameters"
    ]
   },
   "outputs": [],
   "source": [
    "# Parameters\n",
    "base_dir = \"/home/lauro/nupeb/rede-micro/redemicro-thayane\"\n",
    "class_col = \"above_10\"\n",
    "classifier_file = (\n",
    "    \"/home/lauro/nupeb/16S_classifiers_qiime2/silva-138-99-nb-classifier.qza\"\n",
    ")\n",
    "experiment_name = \"thayane-PM-paired-end-trim-overlap-04\"\n",
    "manifest_file = (\n",
    "    \"/home/lauro/nupeb/rede-micro/redemicro-thayane/data/manifest-paired.csv\"\n",
    ")\n",
    "metadata_file = (\n",
    "    \"/home/lauro/nupeb/rede-micro/redemicro-thayane/data/paired-end-metadata.tsv\"\n",
    ")\n",
    "overlap = 4\n",
    "phred = 20\n",
    "replace_files = False\n",
    "threads = 6\n",
    "trim = {\n",
    "    \"forward_primer\": \"CCTACGGGRSGCAGCAG\",\n",
    "    \"overlap\": 8,\n",
    "    \"reverse_primer\": \"GGACTACHVGGGTWTCTAAT\",\n",
    "}\n",
    "trunc_f = 0\n",
    "trunc_r = 0\n"
   ]
  },
  {
   "cell_type": "code",
   "execution_count": 4,
   "id": "903d234e",
   "metadata": {
    "execution": {
     "iopub.execute_input": "2023-09-05T19:17:27.461319Z",
     "iopub.status.busy": "2023-09-05T19:17:27.460812Z",
     "iopub.status.idle": "2023-09-05T19:17:27.469877Z",
     "shell.execute_reply": "2023-09-05T19:17:27.468902Z"
    },
    "papermill": {
     "duration": 0.027168,
     "end_time": "2023-09-05T19:17:27.471635",
     "exception": false,
     "start_time": "2023-09-05T19:17:27.444467",
     "status": "completed"
    },
    "tags": []
   },
   "outputs": [],
   "source": [
    "# Setting hardcoded parameters for development and debbuging\n",
    "production = True\n",
    "if not production:\n",
    "    params_path = os.path.join('..', 'params', 'ana-flavia-superlactacao.yaml')\n",
    "    with open(params_path, 'r') as stream:\n",
    "        params = yaml.safe_load(stream)\n",
    "        experiment_name = params['experiment_name']\n",
    "        base_dir = params['base_dir']\n",
    "        replace_files = params['replace_files']\n",
    "        experiment_folder = os.path.abspath(os.path.join(os.getcwd(), '..', 'experiments', 'thayane-feces-01'))\n",
    "        img_folder = os.path.abspath(os.path.join(experiment_folder, 'imgs'))\n",
    "        replace_files = False\n",
    "        phred = 20\n",
    "        trunc_f = 0\n",
    "        trunc_r = 0\n",
    "        overlap = 12\n",
    "        threads = 6"
   ]
  },
  {
   "cell_type": "code",
   "execution_count": 5,
   "id": "f309db16",
   "metadata": {
    "ExecuteTime": {
     "end_time": "2022-06-29T18:51:02.089300Z",
     "start_time": "2022-06-29T18:51:02.084922Z"
    },
    "execution": {
     "iopub.execute_input": "2023-09-05T19:17:27.505216Z",
     "iopub.status.busy": "2023-09-05T19:17:27.504835Z",
     "iopub.status.idle": "2023-09-05T19:17:27.510819Z",
     "shell.execute_reply": "2023-09-05T19:17:27.509466Z"
    },
    "papermill": {
     "duration": 0.025169,
     "end_time": "2023-09-05T19:17:27.513639",
     "exception": false,
     "start_time": "2023-09-05T19:17:27.488470",
     "status": "completed"
    },
    "tags": []
   },
   "outputs": [],
   "source": [
    "experiment_folder = os.path.abspath(os.path.join(base_dir, 'experiments', experiment_name))\n",
    "img_folder = os.path.abspath(os.path.join(experiment_folder, 'imgs'))"
   ]
  },
  {
   "cell_type": "markdown",
   "id": "d51e6867",
   "metadata": {
    "papermill": {
     "duration": 0.015234,
     "end_time": "2023-09-05T19:17:27.547942",
     "exception": false,
     "start_time": "2023-09-05T19:17:27.532708",
     "status": "completed"
    },
    "tags": []
   },
   "source": [
    "### Defining names and paths"
   ]
  },
  {
   "cell_type": "code",
   "execution_count": 6,
   "id": "675e44b3",
   "metadata": {
    "ExecuteTime": {
     "end_time": "2022-05-30T19:57:39.064490Z",
     "start_time": "2022-05-30T19:57:39.007809Z"
    },
    "execution": {
     "iopub.execute_input": "2023-09-05T19:17:27.590182Z",
     "iopub.status.busy": "2023-09-05T19:17:27.589690Z",
     "iopub.status.idle": "2023-09-05T19:17:27.598939Z",
     "shell.execute_reply": "2023-09-05T19:17:27.598046Z"
    },
    "papermill": {
     "duration": 0.027293,
     "end_time": "2023-09-05T19:17:27.600815",
     "exception": false,
     "start_time": "2023-09-05T19:17:27.573522",
     "status": "completed"
    },
    "tags": []
   },
   "outputs": [],
   "source": [
    "qiime_folder = os.path.join(experiment_folder, 'qiime-artifacts')\n",
    "\n",
    "if trim:\n",
    "    demux_file = os.path.join(qiime_folder, 'demux-paired-trim.qza')\n",
    "else:\n",
    "    demux_file = os.path.join(qiime_folder, 'demux-paired.qza')\n",
    "\n",
    "dada2_tabs = os.path.join(qiime_folder, 'dada2-tabs.qza')\n",
    "dada2_reps = os.path.join(qiime_folder, 'dada2-reps.qza')\n",
    "dada2_stat = os.path.join(qiime_folder, 'dada2-stat.qza')\n",
    "\n",
    "\n",
    "dada2_tabs_view = dada2_tabs[:-1] + 'v'\n",
    "dada2_reps_view = dada2_reps[:-1] + 'v'\n",
    "dada2_stat_view = dada2_stat[:-1] + 'v'\n",
    "dada2_core_view = os.path.join(qiime_folder, 'dada2-core.qzv')"
   ]
  },
  {
   "cell_type": "markdown",
   "id": "27549c91",
   "metadata": {
    "papermill": {
     "duration": 0.015349,
     "end_time": "2023-09-05T19:17:27.633323",
     "exception": false,
     "start_time": "2023-09-05T19:17:27.617974",
     "status": "completed"
    },
    "tags": []
   },
   "source": [
    "## Step execution\n",
    "\n",
    "### Load input files\n",
    "\n",
    "This Step import the QIIME2 `SampleData[PairedEndSequencesWithQuality]` Artifact with all demultiplexed sequences and the `Metadata` file."
   ]
  },
  {
   "cell_type": "code",
   "execution_count": 7,
   "id": "79518105",
   "metadata": {
    "ExecuteTime": {
     "end_time": "2022-05-30T19:57:39.077380Z",
     "start_time": "2022-05-30T19:57:39.066746Z"
    },
    "execution": {
     "iopub.execute_input": "2023-09-05T19:17:27.667912Z",
     "iopub.status.busy": "2023-09-05T19:17:27.667550Z",
     "iopub.status.idle": "2023-09-05T19:17:27.673285Z",
     "shell.execute_reply": "2023-09-05T19:17:27.672649Z"
    },
    "papermill": {
     "duration": 0.025958,
     "end_time": "2023-09-05T19:17:27.675970",
     "exception": false,
     "start_time": "2023-09-05T19:17:27.650012",
     "status": "completed"
    },
    "tags": []
   },
   "outputs": [],
   "source": [
    "need_dada2 = not (os.path.isfile(dada2_tabs) and os.path.isfile(dada2_reps) and os.path.isfile(dada2_stat)) or replace_files\n",
    "need_view = not (os.path.isfile(dada2_tabs_view) and os.path.isfile(dada2_reps_view) and os.path.isfile(dada2_stat_view)) or replace_files"
   ]
  },
  {
   "cell_type": "code",
   "execution_count": 8,
   "id": "ddbf4f17",
   "metadata": {
    "ExecuteTime": {
     "end_time": "2022-05-30T19:57:39.089632Z",
     "start_time": "2022-05-30T19:57:39.079347Z"
    },
    "execution": {
     "iopub.execute_input": "2023-09-05T19:17:27.712803Z",
     "iopub.status.busy": "2023-09-05T19:17:27.712387Z",
     "iopub.status.idle": "2023-09-05T19:17:27.716088Z",
     "shell.execute_reply": "2023-09-05T19:17:27.715472Z"
    },
    "papermill": {
     "duration": 0.021301,
     "end_time": "2023-09-05T19:17:27.717525",
     "exception": false,
     "start_time": "2023-09-05T19:17:27.696224",
     "status": "completed"
    },
    "tags": []
   },
   "outputs": [],
   "source": [
    "if need_dada2:\n",
    "    demux = Artifact.load(demux_file)"
   ]
  },
  {
   "cell_type": "code",
   "execution_count": 9,
   "id": "20b4a782",
   "metadata": {
    "ExecuteTime": {
     "end_time": "2022-05-30T19:57:39.145879Z",
     "start_time": "2022-05-30T19:57:39.091983Z"
    },
    "execution": {
     "iopub.execute_input": "2023-09-05T19:17:27.749298Z",
     "iopub.status.busy": "2023-09-05T19:17:27.748882Z",
     "iopub.status.idle": "2023-09-05T19:17:27.771029Z",
     "shell.execute_reply": "2023-09-05T19:17:27.770480Z"
    },
    "papermill": {
     "duration": 0.039888,
     "end_time": "2023-09-05T19:17:27.772714",
     "exception": false,
     "start_time": "2023-09-05T19:17:27.732826",
     "status": "completed"
    },
    "tags": []
   },
   "outputs": [],
   "source": [
    "metadata = Metadata.load(metadata_file)"
   ]
  },
  {
   "cell_type": "code",
   "execution_count": 10,
   "id": "a50e6e2c",
   "metadata": {
    "execution": {
     "iopub.execute_input": "2023-09-05T19:17:27.808436Z",
     "iopub.status.busy": "2023-09-05T19:17:27.808104Z",
     "iopub.status.idle": "2023-09-05T19:17:27.815746Z",
     "shell.execute_reply": "2023-09-05T19:17:27.815077Z"
    },
    "papermill": {
     "duration": 0.024961,
     "end_time": "2023-09-05T19:17:27.817186",
     "exception": false,
     "start_time": "2023-09-05T19:17:27.792225",
     "status": "completed"
    },
    "tags": []
   },
   "outputs": [],
   "source": [
    "# Determine if is SingleEnd or PairedEnd\n",
    "manifest_df = pd.read_csv(manifest_file)\n",
    "n_directions = len(manifest_df['direction'].unique())"
   ]
  },
  {
   "cell_type": "markdown",
   "id": "9e5d390b",
   "metadata": {
    "papermill": {
     "duration": 0.015282,
     "end_time": "2023-09-05T19:17:27.850526",
     "exception": false,
     "start_time": "2023-09-05T19:17:27.835244",
     "status": "completed"
    },
    "tags": []
   },
   "source": [
    "### Execute DADA2 plugin and create Artifacts\n",
    "\n",
    "The DADA2 plugin perform tha quality control and create the ASV table. It will be produced three Artifacts:\n",
    "\n",
    "- tabs (`FeatureTable[Frequency]`) : \n",
    "    The resulting feature table.\n",
    "- reps (`FeatureData[Sequence]`) :\n",
    "    The resulting feature sequences. Each feature in the feature table will\n",
    "    be represented by exactly one sequence, and these sequences will be the\n",
    "    joined paired-end sequences.\n",
    "- denoising_stats (`SampleData[DADA2Stats]`) : the resulting stats. Shows the number and the proportion of filtered reads in each phase of the plugin execution."
   ]
  },
  {
   "cell_type": "code",
   "execution_count": 11,
   "id": "e7bbc005",
   "metadata": {
    "ExecuteTime": {
     "end_time": "2022-05-30T19:57:39.171629Z",
     "start_time": "2022-05-30T19:57:39.147370Z"
    },
    "execution": {
     "iopub.execute_input": "2023-09-05T19:17:27.886085Z",
     "iopub.status.busy": "2023-09-05T19:17:27.885582Z",
     "iopub.status.idle": "2023-09-05T19:17:27.920747Z",
     "shell.execute_reply": "2023-09-05T19:17:27.920166Z"
    },
    "papermill": {
     "duration": 0.057147,
     "end_time": "2023-09-05T19:17:27.922969",
     "exception": false,
     "start_time": "2023-09-05T19:17:27.865822",
     "status": "completed"
    },
    "scrolled": true,
    "tags": []
   },
   "outputs": [],
   "source": [
    "# If some of the DADA2 outputs artifacts do not exist or if the old files will be replaced\n",
    "if need_dada2:\n",
    "    \n",
    "    # Excute the DADA2 plugin\n",
    "    if n_directions == 1: # SingleEnd\n",
    "        tabs, reps, stat = dada2_actions.denoise_single(\n",
    "            demultiplexed_seqs=demux,\n",
    "            trunc_q = phred,\n",
    "            n_threads = threads,\n",
    "            trunc_len = trunc_f,\n",
    "        )\n",
    "    elif n_directions == 2: # PairedEnd\n",
    "        tabs, reps, stat = dada2_actions.denoise_paired(\n",
    "            demultiplexed_seqs=demux,\n",
    "            trunc_q = phred,\n",
    "            min_overlap = overlap,\n",
    "            n_threads = threads,\n",
    "            trunc_len_f = trunc_f,\n",
    "            trunc_len_r = trunc_r,\n",
    "        )\n",
    "    \n",
    "    # Save the artifacts objects\n",
    "    tabs.save(dada2_tabs)\n",
    "    reps.save(dada2_reps)\n",
    "    stat.save(dada2_stat)\n",
    "\n",
    "else:\n",
    "    tabs = Artifact.load(dada2_tabs)\n",
    "    reps = Artifact.load(dada2_reps)\n",
    "    stat = Artifact.load(dada2_stat)"
   ]
  },
  {
   "cell_type": "markdown",
   "id": "5029af7e",
   "metadata": {
    "papermill": {
     "duration": 0.015441,
     "end_time": "2023-09-05T19:17:27.961160",
     "exception": false,
     "start_time": "2023-09-05T19:17:27.945719",
     "status": "completed"
    },
    "tags": []
   },
   "source": [
    "### Filter samples"
   ]
  },
  {
   "cell_type": "code",
   "execution_count": 12,
   "id": "6c94f29b",
   "metadata": {
    "execution": {
     "iopub.execute_input": "2023-09-05T19:17:27.993221Z",
     "iopub.status.busy": "2023-09-05T19:17:27.992798Z",
     "iopub.status.idle": "2023-09-05T19:17:29.458664Z",
     "shell.execute_reply": "2023-09-05T19:17:29.457953Z"
    },
    "papermill": {
     "duration": 1.485185,
     "end_time": "2023-09-05T19:17:29.461747",
     "exception": false,
     "start_time": "2023-09-05T19:17:27.976562",
     "status": "completed"
    },
    "tags": []
   },
   "outputs": [
    {
     "name": "stdout",
     "output_type": "stream",
     "text": [
      "{'min_frequency': 0, 'max_frequency': None, 'min_features': 0, 'max_features': None, 'metadata': Metadata\n",
      "--------\n",
      "38 IDs x 8 columns\n",
      "class-straw:        ColumnProperties(type='categorical')\n",
      "local-coleta:       ColumnProperties(type='categorical')\n",
      "idade:              ColumnProperties(type='numeric')\n",
      "idade-menarca:      ColumnProperties(type='numeric')\n",
      "tempo-menopausa:    ColumnProperties(type='numeric')\n",
      "above_10:           ColumnProperties(type='categorical')\n",
      "menopausa-age-qcut: ColumnProperties(type='categorical')\n",
      "menopausa-age-bins: ColumnProperties(type='categorical')\n",
      "\n",
      "Call to_dataframe() for a tabular representation., 'where': None, 'exclude_ids': False, 'filter_empty_features': True, 'table': 2210 x 38 <class 'biom.table.Table'> with 6010 nonzero entries (7% dense)}\n",
      "{'min_frequency': 0, 'max_frequency': None, 'min_features': 0, 'max_features': None, 'metadata': Metadata\n",
      "--------\n",
      "38 IDs x 8 columns\n",
      "class-straw:        ColumnProperties(type='categorical')\n",
      "local-coleta:       ColumnProperties(type='categorical')\n",
      "idade:              ColumnProperties(type='numeric')\n",
      "idade-menarca:      ColumnProperties(type='numeric')\n",
      "tempo-menopausa:    ColumnProperties(type='numeric')\n",
      "above_10:           ColumnProperties(type='categorical')\n",
      "menopausa-age-qcut: ColumnProperties(type='categorical')\n",
      "menopausa-age-bins: ColumnProperties(type='categorical')\n",
      "\n",
      "Call to_dataframe() for a tabular representation., 'where': None, 'exclude_ids': False, 'filter_empty_features': True, 'table': 2210 x 38 <class 'biom.table.Table'> with 6010 nonzero entries (7% dense)}\n"
     ]
    },
    {
     "name": "stdout",
     "output_type": "stream",
     "text": [
      "{'metadata': None, 'where': None, 'exclude_ids': False, 'data': ec39293a8db6cdfc99fecc1decfa59d7    (((T)), ((G)), ((G)), ((G)), ((G)), ((A)), ((A...\n",
      "f7a1c2a7dc74eb24446faaa79f519ee6    (((T)), ((G)), ((G)), ((G)), ((G)), ((A)), ((A...\n",
      "fd204f7a88e546b2288fb9b86489ba32    (((T)), ((G)), ((A)), ((G)), ((G)), ((A)), ((A...\n",
      "ddbf23c8c5653d14479d9bf997ef7e1b    (((T)), ((G)), ((A)), ((G)), ((G)), ((A)), ((A...\n",
      "2e9f1c3013022ced2c0c9567d59fc064    (((T)), ((G)), ((G)), ((G)), ((G)), ((G)), ((A...\n",
      "                                                          ...                        \n",
      "0d7e4a5afc9198a77975163fef8762bf    (((A)), ((A)), ((A)), ((T)), ((C)), ((T)), ((T...\n",
      "42775e607d1331feeed46556a21008af    (((A)), ((A)), ((A)), ((T)), ((C)), ((T)), ((T...\n",
      "dae7ea67a9476f6f7215b45b4afbb130    (((A)), ((A)), ((T)), ((A)), ((A)), ((A)), ((A...\n",
      "4dc5a0950c566176a78fdf0fd19b2dc9    (((T)), ((T)), ((A)), ((G)), ((G)), ((A)), ((A...\n",
      "961fde1c25c0da71e2b45ef4cf5c5188    (((T)), ((T)), ((T)), ((A)), ((A)), ((T)), ((T...\n",
      "Length: 2210, dtype: object, 'table': 2210 x 38 <class 'biom.table.Table'> with 6010 nonzero entries (7% dense)}\n"
     ]
    },
    {
     "name": "stdout",
     "output_type": "stream",
     "text": [
      "{'metadata': None, 'where': None, 'exclude_ids': False, 'data': ec39293a8db6cdfc99fecc1decfa59d7    (((T)), ((G)), ((G)), ((G)), ((G)), ((A)), ((A...\n",
      "f7a1c2a7dc74eb24446faaa79f519ee6    (((T)), ((G)), ((G)), ((G)), ((G)), ((A)), ((A...\n",
      "fd204f7a88e546b2288fb9b86489ba32    (((T)), ((G)), ((A)), ((G)), ((G)), ((A)), ((A...\n",
      "ddbf23c8c5653d14479d9bf997ef7e1b    (((T)), ((G)), ((A)), ((G)), ((G)), ((A)), ((A...\n",
      "2e9f1c3013022ced2c0c9567d59fc064    (((T)), ((G)), ((G)), ((G)), ((G)), ((G)), ((A...\n",
      "                                                          ...                        \n",
      "0d7e4a5afc9198a77975163fef8762bf    (((A)), ((A)), ((A)), ((T)), ((C)), ((T)), ((T...\n",
      "42775e607d1331feeed46556a21008af    (((A)), ((A)), ((A)), ((T)), ((C)), ((T)), ((T...\n",
      "dae7ea67a9476f6f7215b45b4afbb130    (((A)), ((A)), ((T)), ((A)), ((A)), ((A)), ((A...\n",
      "4dc5a0950c566176a78fdf0fd19b2dc9    (((T)), ((T)), ((A)), ((G)), ((G)), ((A)), ((A...\n",
      "961fde1c25c0da71e2b45ef4cf5c5188    (((T)), ((T)), ((T)), ((A)), ((A)), ((T)), ((T...\n",
      "Length: 2210, dtype: object, 'table': 2210 x 38 <class 'biom.table.Table'> with 6010 nonzero entries (7% dense)}\n"
     ]
    }
   ],
   "source": [
    "# Filter FeatureTable[Frequency | RelativeFrequency | PresenceAbsence | Composition] based on Metadata sample ID values\n",
    "tabs = filter_samples(\n",
    "    table=tabs,\n",
    "    metadata=metadata,\n",
    ").filtered_table\n",
    "# Filter SampleData[SequencesWithQuality | PairedEndSequencesWithQuality | JoinedSequencesWithQuality] based on Metadata sample ID values; returns FeatureData[Sequence | AlignedSequence]\n",
    "reps = filter_seqs(\n",
    "    data=reps,\n",
    "    table=tabs,\n",
    ").filtered_data"
   ]
  },
  {
   "cell_type": "markdown",
   "id": "4825c5ac",
   "metadata": {
    "papermill": {
     "duration": 0.016626,
     "end_time": "2023-09-05T19:17:29.502185",
     "exception": false,
     "start_time": "2023-09-05T19:17:29.485559",
     "status": "completed"
    },
    "tags": []
   },
   "source": [
    "### Define Visualizations Artifacts"
   ]
  },
  {
   "cell_type": "code",
   "execution_count": 13,
   "id": "1a479614",
   "metadata": {
    "ExecuteTime": {
     "end_time": "2022-05-30T19:57:39.249051Z",
     "start_time": "2022-05-30T19:57:39.173053Z"
    },
    "execution": {
     "iopub.execute_input": "2023-09-05T19:17:29.537236Z",
     "iopub.status.busy": "2023-09-05T19:17:29.536790Z",
     "iopub.status.idle": "2023-09-05T19:17:29.632081Z",
     "shell.execute_reply": "2023-09-05T19:17:29.631366Z"
    },
    "papermill": {
     "duration": 0.115532,
     "end_time": "2023-09-05T19:17:29.634391",
     "exception": false,
     "start_time": "2023-09-05T19:17:29.518859",
     "status": "completed"
    },
    "tags": []
   },
   "outputs": [],
   "source": [
    "# If some of the DADA2 Visualization artifacts do not exist or if the old files will be replaced\n",
    "if need_view:\n",
    "    \n",
    "    tabs_view, = metadata_actions.tabulate(input=tabs.view(Metadata))\n",
    "    reps_view, = metadata_actions.tabulate(input=reps.view(Metadata))\n",
    "    stat_view, = metadata_actions.tabulate(input=stat.view(Metadata))\n",
    "    \n",
    "    tabs_view = summarize(table=tabs, sample_metadata=metadata).visualization\n",
    "    reps_view = tabulate_seqs(data=reps).visualization\n",
    "    core_view = core_features(table=tabs, min_fraction=.1, steps=10).visualization\n",
    "    \n",
    "    \n",
    "    # Save the artifacts objects\n",
    "    tabs_view.save(dada2_tabs_view)\n",
    "    reps_view.save(dada2_reps_view)\n",
    "    stat_view.save(dada2_stat_view)\n",
    "    core_view.save(dada2_core_view)\n",
    "\n",
    "else:\n",
    "    tabs_view = Visualization.load(dada2_tabs_view)\n",
    "    reps_view = Visualization.load(dada2_reps_view)\n",
    "    stat_view = Visualization.load(dada2_stat_view)\n",
    "    core_view = Visualization.load(dada2_core_view)"
   ]
  },
  {
   "cell_type": "code",
   "execution_count": 14,
   "id": "bd58079e",
   "metadata": {
    "execution": {
     "iopub.execute_input": "2023-09-05T19:17:29.675507Z",
     "iopub.status.busy": "2023-09-05T19:17:29.675185Z",
     "iopub.status.idle": "2023-09-05T19:17:29.681785Z",
     "shell.execute_reply": "2023-09-05T19:17:29.681047Z"
    },
    "papermill": {
     "duration": 0.026082,
     "end_time": "2023-09-05T19:17:29.683309",
     "exception": false,
     "start_time": "2023-09-05T19:17:29.657227",
     "status": "completed"
    },
    "tags": []
   },
   "outputs": [],
   "source": [
    "def plot_stats_box(artifact, fname, total_reads_phases, percent_phases, cols):\n",
    "    import matplotlib.pyplot as plt\n",
    "    from qiime2 import Metadata\n",
    "    \n",
    "    df = artifact.view(Metadata).to_dataframe()\n",
    "    df_vals = df[total_reads_phases]\n",
    "    df_perc = df[percent_phases]\n",
    "    df_perc.columns = cols\n",
    "    \n",
    "    \n",
    "    plt.figure(figsize=(15,5))\n",
    "    plt.subplot(1, 2, 1)\n",
    "    df_vals.boxplot()\n",
    "    plt.xlabel('Fases')\n",
    "    plt.ylabel('# of reads')\n",
    "    \n",
    "    plt.subplot(1, 2, 2)\n",
    "    df_perc.boxplot()\n",
    "    plt.xlabel('Fases')\n",
    "    plt.ylabel('% of input')\n",
    "    \n",
    "    plt.savefig(fname, bbox_inches='tight')\n",
    "\n",
    "    plt.show()"
   ]
  },
  {
   "cell_type": "code",
   "execution_count": 15,
   "id": "ed45ff79",
   "metadata": {
    "execution": {
     "iopub.execute_input": "2023-09-05T19:17:29.721099Z",
     "iopub.status.busy": "2023-09-05T19:17:29.720640Z",
     "iopub.status.idle": "2023-09-05T19:17:29.727443Z",
     "shell.execute_reply": "2023-09-05T19:17:29.726623Z"
    },
    "papermill": {
     "duration": 0.026662,
     "end_time": "2023-09-05T19:17:29.728998",
     "exception": false,
     "start_time": "2023-09-05T19:17:29.702336",
     "status": "completed"
    },
    "tags": []
   },
   "outputs": [],
   "source": [
    "if n_directions == 1: # SingleEnd\n",
    "    total_reads_phases = ['input', 'filtered', 'denoised', 'non-chimeric']\n",
    "    percent_phases = ['percentage of input passed filter', 'percentage of input non-chimeric']\n",
    "    cols = ['filtered', 'non-chimeric']\n",
    "elif n_directions == 2: # PairedEnd\n",
    "    total_reads_phases = ['input', 'filtered', 'denoised', 'merged', 'non-chimeric']\n",
    "    percent_phases = ['percentage of input passed filter', 'percentage of input merged', 'percentage of input non-chimeric']\n",
    "    cols = ['filtered', 'merged', 'non-chimeric']"
   ]
  },
  {
   "cell_type": "code",
   "execution_count": 16,
   "id": "757a1aa9",
   "metadata": {
    "ExecuteTime": {
     "end_time": "2022-05-30T19:57:39.901491Z",
     "start_time": "2022-05-30T19:57:39.255220Z"
    },
    "execution": {
     "iopub.execute_input": "2023-09-05T19:17:29.766752Z",
     "iopub.status.busy": "2023-09-05T19:17:29.766399Z",
     "iopub.status.idle": "2023-09-05T19:17:30.430063Z",
     "shell.execute_reply": "2023-09-05T19:17:30.429479Z"
    },
    "papermill": {
     "duration": 0.685026,
     "end_time": "2023-09-05T19:17:30.433180",
     "exception": false,
     "start_time": "2023-09-05T19:17:29.748154",
     "status": "completed"
    },
    "scrolled": true,
    "tags": []
   },
   "outputs": [
    {
     "data": {
      "image/png": "[encoded data removed]",
      "text/plain": [
       "<Figure size 1080x360 with 2 Axes>"
      ]
     },
     "metadata": {
      "needs_background": "light"
     },
     "output_type": "display_data"
    }
   ],
   "source": [
    "plot_stats_box(stat, os.path.join(img_folder, 'step02-stats-boxplot.pdf'), total_reads_phases, percent_phases, cols)"
   ]
  },
  {
   "cell_type": "code",
   "execution_count": 17,
   "id": "eed41e40",
   "metadata": {
    "ExecuteTime": {
     "end_time": "2022-05-31T17:58:47.140114Z",
     "start_time": "2022-05-31T17:58:47.087808Z"
    },
    "execution": {
     "iopub.execute_input": "2023-09-05T19:17:30.476832Z",
     "iopub.status.busy": "2023-09-05T19:17:30.476568Z",
     "iopub.status.idle": "2023-09-05T19:17:30.521636Z",
     "shell.execute_reply": "2023-09-05T19:17:30.521098Z"
    },
    "papermill": {
     "duration": 0.065991,
     "end_time": "2023-09-05T19:17:30.523653",
     "exception": false,
     "start_time": "2023-09-05T19:17:30.457662",
     "status": "completed"
    },
    "tags": []
   },
   "outputs": [
    {
     "data": {
      "text/html": [
       "<div>\n",
       "<style scoped>\n",
       "    .dataframe tbody tr th:only-of-type {\n",
       "        vertical-align: middle;\n",
       "    }\n",
       "\n",
       "    .dataframe tbody tr th {\n",
       "        vertical-align: top;\n",
       "    }\n",
       "\n",
       "    .dataframe thead th {\n",
       "        text-align: right;\n",
       "    }\n",
       "</style>\n",
       "<table border=\"1\" class=\"dataframe\">\n",
       "  <thead>\n",
       "    <tr style=\"text-align: right;\">\n",
       "      <th></th>\n",
       "      <th>percentage of input passed filter</th>\n",
       "      <th>percentage of input merged</th>\n",
       "      <th>percentage of input non-chimeric</th>\n",
       "    </tr>\n",
       "  </thead>\n",
       "  <tbody>\n",
       "    <tr>\n",
       "      <th>count</th>\n",
       "      <td>38.000000</td>\n",
       "      <td>38.000000</td>\n",
       "      <td>38.000000</td>\n",
       "    </tr>\n",
       "    <tr>\n",
       "      <th>mean</th>\n",
       "      <td>84.487895</td>\n",
       "      <td>65.228947</td>\n",
       "      <td>60.031316</td>\n",
       "    </tr>\n",
       "    <tr>\n",
       "      <th>std</th>\n",
       "      <td>0.884091</td>\n",
       "      <td>7.234502</td>\n",
       "      <td>7.973486</td>\n",
       "    </tr>\n",
       "    <tr>\n",
       "      <th>min</th>\n",
       "      <td>81.220000</td>\n",
       "      <td>45.620000</td>\n",
       "      <td>41.010000</td>\n",
       "    </tr>\n",
       "    <tr>\n",
       "      <th>25%</th>\n",
       "      <td>84.270000</td>\n",
       "      <td>61.490000</td>\n",
       "      <td>53.745000</td>\n",
       "    </tr>\n",
       "    <tr>\n",
       "      <th>50%</th>\n",
       "      <td>84.720000</td>\n",
       "      <td>66.680000</td>\n",
       "      <td>60.545000</td>\n",
       "    </tr>\n",
       "    <tr>\n",
       "      <th>75%</th>\n",
       "      <td>84.947500</td>\n",
       "      <td>70.470000</td>\n",
       "      <td>65.842500</td>\n",
       "    </tr>\n",
       "    <tr>\n",
       "      <th>max</th>\n",
       "      <td>85.840000</td>\n",
       "      <td>77.270000</td>\n",
       "      <td>76.220000</td>\n",
       "    </tr>\n",
       "  </tbody>\n",
       "</table>\n",
       "</div>"
      ],
      "text/plain": [
       "       percentage of input passed filter  percentage of input merged  \\\n",
       "count                          38.000000                   38.000000   \n",
       "mean                           84.487895                   65.228947   \n",
       "std                             0.884091                    7.234502   \n",
       "min                            81.220000                   45.620000   \n",
       "25%                            84.270000                   61.490000   \n",
       "50%                            84.720000                   66.680000   \n",
       "75%                            84.947500                   70.470000   \n",
       "max                            85.840000                   77.270000   \n",
       "\n",
       "       percentage of input non-chimeric  \n",
       "count                         38.000000  \n",
       "mean                          60.031316  \n",
       "std                            7.973486  \n",
       "min                           41.010000  \n",
       "25%                           53.745000  \n",
       "50%                           60.545000  \n",
       "75%                           65.842500  \n",
       "max                           76.220000  "
      ]
     },
     "execution_count": 17,
     "metadata": {},
     "output_type": "execute_result"
    }
   ],
   "source": [
    "stat.view(Metadata).to_dataframe().describe()[percent_phases]"
   ]
  },
  {
   "cell_type": "code",
   "execution_count": 18,
   "id": "4f2004e3",
   "metadata": {
    "ExecuteTime": {
     "end_time": "2022-05-30T19:57:39.957632Z",
     "start_time": "2022-05-30T19:57:39.953762Z"
    },
    "execution": {
     "iopub.execute_input": "2023-09-05T19:17:30.566773Z",
     "iopub.status.busy": "2023-09-05T19:17:30.566321Z",
     "iopub.status.idle": "2023-09-05T19:17:30.573882Z",
     "shell.execute_reply": "2023-09-05T19:17:30.572911Z"
    },
    "papermill": {
     "duration": 0.029924,
     "end_time": "2023-09-05T19:17:30.575556",
     "exception": false,
     "start_time": "2023-09-05T19:17:30.545632",
     "status": "completed"
    },
    "tags": []
   },
   "outputs": [
    {
     "data": {
      "text/html": [
       "<div><img onload=\"(function(div, url){\n",
       "if (typeof require !== 'undefined') {\n",
       "    var baseURL = require.toUrl('').split('/').slice(0, -2).join('/');\n",
       "} else {\n",
       "    var baseURL = JSON.parse(\n",
       "        document.getElementById('jupyter-config-data').innerHTML\n",
       "    ).baseUrl.slice(0, -1);\n",
       "}\n",
       "url = baseURL + url;\n",
       "fetch(url).then(function(res) {\n",
       "    if (res.status === 404) {\n",
       "        div.innerHTML = 'Install QIIME 2 Jupyter extension with:<br />' +\n",
       "                        '<code>jupyter serverextension enable --py qiime2' +\n",
       "                        ' --sys-prefix</code><br />then restart your server.' +\n",
       "                        '<br /><br />(Interactive output not available on ' +\n",
       "                        'static notebook viewer services like nbviewer.)';\n",
       "    } else if (res.status === 409) {\n",
       "        div.innerHTML = 'Visualization no longer in scope. Re-run this cell' +\n",
       "                        ' to see the visualization.';\n",
       "    } else if (res.ok) {\n",
       "        url = res.url;\n",
       "        div.innerHTML = '<iframe src=\\'' + url + '\\' style=\\'' +\n",
       "                        'width: 100%; height: 700px; border: 0;\\'>' +\n",
       "                        '</iframe><hr />Open in a: <a href=\\'' + url + '\\'' +\n",
       "                        ' target=\\'_blank\\'>new window</a>'\n",
       "    } else {\n",
       "        div.innerHTML = 'Something has gone wrong. Check notebook server for' +\n",
       "                        ' errors.';\n",
       "    }\n",
       "});\n",
       "})(this.parentElement, '/qiime2/redirect?location=/tmp/qiime2-archive-wzai0hjt')\" src=\"data:image/gif;base64,R0lGODlhAQABAIAAAP///wAAACH5BAEAAAAALAAAAAABAAEAAAICRAEAOw==\" /></div>"
      ],
      "text/plain": [
       "<visualization: Visualization uuid: f59ab4ef-6559-45bc-84e9-8966706c03e0>"
      ]
     },
     "execution_count": 18,
     "metadata": {},
     "output_type": "execute_result"
    }
   ],
   "source": [
    "stat_view"
   ]
  },
  {
   "cell_type": "code",
   "execution_count": 19,
   "id": "ed853e12",
   "metadata": {
    "ExecuteTime": {
     "end_time": "2022-05-30T19:57:39.967918Z",
     "start_time": "2022-05-30T19:57:39.958955Z"
    },
    "execution": {
     "iopub.execute_input": "2023-09-05T19:17:30.615518Z",
     "iopub.status.busy": "2023-09-05T19:17:30.615027Z",
     "iopub.status.idle": "2023-09-05T19:17:30.620201Z",
     "shell.execute_reply": "2023-09-05T19:17:30.619216Z"
    },
    "papermill": {
     "duration": 0.026894,
     "end_time": "2023-09-05T19:17:30.621856",
     "exception": false,
     "start_time": "2023-09-05T19:17:30.594962",
     "status": "completed"
    },
    "tags": []
   },
   "outputs": [],
   "source": [
    "# new_stat = Artifact.load('/home/lauro/nupeb/redemicro/experiments/thayane-feces-01/qiime-artifacts/dada2-stat.qza')\n",
    "# # new_view, = metadata_actions.tabulate(input=new_stat.view(Metadata))\n",
    "# # plot_stats_box(old_stat)\n",
    "\n",
    "# old_stat = Artifact.load('/home/lauro/nupeb/dados_brutos_rede_genoma/experiments/fezes-phred_20-tf_0-tr_0-lap_4/fezes_dada2_stat.qza')\n",
    "# # old_view, = metadata_actions.tabulate(input=old_stat.view(Metadata))\n",
    "# # plot_stats_box(old_stat)\n",
    "\n",
    "# plot_stats_box_pairs(old_stat, new_stat)"
   ]
  }
 ],
 "metadata": {
  "celltoolbar": "Edit Metadata",
  "kernelspec": {
   "display_name": "Python 3 (ipykernel)",
   "language": "python",
   "name": "python3"
  },
  "language_info": {
   "codemirror_mode": {
    "name": "ipython",
    "version": 3
   },
   "file_extension": ".py",
   "mimetype": "text/x-python",
   "name": "python",
   "nbconvert_exporter": "python",
   "pygments_lexer": "ipython3",
   "version": "3.8.12"
  },
  "papermill": {
   "default_parameters": {},
   "duration": 12.284547,
   "end_time": "2023-09-05T19:17:31.663418",
   "environment_variables": {},
   "exception": null,
   "input_path": "nb-templates/step-quality-control.ipynb",
   "output_path": "/home/lauro/nupeb/rede-micro/redemicro-thayane/experiments/thayane-PM-paired-end-trim-overlap-04/nb-executed-steps/step-quality-control-thayane-PM-paired-end-trim-overlap-04.ipynb",
   "parameters": {
    "base_dir": "/home/lauro/nupeb/rede-micro/redemicro-thayane",
    "class_col": "above_10",
    "classifier_file": "/home/lauro/nupeb/16S_classifiers_qiime2/silva-138-99-nb-classifier.qza",
    "experiment_name": "thayane-PM-paired-end-trim-overlap-04",
    "manifest_file": "/home/lauro/nupeb/rede-micro/redemicro-thayane/data/manifest-paired.csv",
    "metadata_file": "/home/lauro/nupeb/rede-micro/redemicro-thayane/data/paired-end-metadata.tsv",
    "overlap": 4,
    "phred": 20,
    "replace_files": false,
    "threads": 6,
    "trim": {
     "forward_primer": "CCTACGGGRSGCAGCAG",
     "overlap": 8,
     "reverse_primer": "GGACTACHVGGGTWTCTAAT"
    },
    "trunc_f": 0,
    "trunc_r": 0
   },
   "start_time": "2023-09-05T19:17:19.378871",
   "version": "2.3.4"
  },
  "toc-autonumbering": false,
  "toc-showcode": false,
  "toc-showmarkdowntxt": false
 },
 "nbformat": 4,
 "nbformat_minor": 5
}