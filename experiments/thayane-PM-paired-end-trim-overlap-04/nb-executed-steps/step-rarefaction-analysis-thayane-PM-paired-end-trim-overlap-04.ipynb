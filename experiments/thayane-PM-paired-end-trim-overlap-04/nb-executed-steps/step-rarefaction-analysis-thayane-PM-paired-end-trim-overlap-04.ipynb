{
 "cells": [
  {
   "cell_type": "markdown",
   "id": "a1b5e2ab",
   "metadata": {
    "papermill": {
     "duration": 0.02142,
     "end_time": "2023-09-05T19:17:34.551640",
     "exception": false,
     "start_time": "2023-09-05T19:17:34.530220",
     "status": "completed"
    },
    "tags": []
   },
   "source": [
    "# STEP : Rarefaction Analysis\n",
    "\n",
    "Using QIIME2 to create rarefaction graphs.\n",
    "\n",
    "\n",
    "## Methods\n",
    "[qiime alpha_rarefaction](https://docs.qiime2.org/2023.2/plugins/available/diversity/alpha-rarefaction/)\n",
    "```\n",
    "Generate interactive alpha rarefaction curves by computing rarefactions\n",
    "between `min_depth` and `max_depth`. The number of intermediate depths to\n",
    "compute is controlled by the `steps` parameter, with n `iterations` being\n",
    "computed at each rarefaction depth. If sample metadata is provided, samples\n",
    "may be grouped based on distinct values within a metadata column.\n",
    "```\n"
   ]
  },
  {
   "cell_type": "markdown",
   "id": "51a14831",
   "metadata": {
    "papermill": {
     "duration": 0.035325,
     "end_time": "2023-09-05T19:17:34.601579",
     "exception": false,
     "start_time": "2023-09-05T19:17:34.566254",
     "status": "completed"
    },
    "tags": []
   },
   "source": [
    "## Setup and settings"
   ]
  },
  {
   "cell_type": "code",
   "execution_count": 1,
   "id": "79617e79",
   "metadata": {
    "ExecuteTime": {
     "end_time": "2022-09-22T21:43:54.326002Z",
     "start_time": "2022-09-22T21:43:47.911891Z"
    },
    "execution": {
     "iopub.execute_input": "2023-09-05T19:17:34.631142Z",
     "iopub.status.busy": "2023-09-05T19:17:34.630692Z",
     "iopub.status.idle": "2023-09-05T19:17:41.393973Z",
     "shell.execute_reply": "2023-09-05T19:17:41.393301Z"
    },
    "papermill": {
     "duration": 6.781474,
     "end_time": "2023-09-05T19:17:41.397079",
     "exception": false,
     "start_time": "2023-09-05T19:17:34.615605",
     "status": "completed"
    },
    "tags": []
   },
   "outputs": [],
   "source": [
    "# Importing packages\n",
    "import os\n",
    "import pandas as pd\n",
    "from qiime2 import Artifact\n",
    "from qiime2 import Visualization\n",
    "from qiime2 import Metadata\n",
    "from qiime2.plugins.diversity.visualizers import alpha_rarefaction\n",
    "from qiime2.plugins.diversity.visualizers import beta_rarefaction\n",
    "\n",
    "from qiime2.plugins.feature_table.methods import filter_samples\n",
    "from qiime2.plugins.feature_table.methods import filter_seqs\n",
    "\n",
    "import matplotlib.pyplot as plt\n",
    "\n",
    "%matplotlib inline"
   ]
  },
  {
   "cell_type": "code",
   "execution_count": 2,
   "id": "0467467e",
   "metadata": {
    "ExecuteTime": {
     "end_time": "2022-09-22T21:43:54.330790Z",
     "start_time": "2022-09-22T21:43:54.328358Z"
    },
    "execution": {
     "iopub.execute_input": "2023-09-05T19:17:41.436927Z",
     "iopub.status.busy": "2023-09-05T19:17:41.436330Z",
     "iopub.status.idle": "2023-09-05T19:17:41.440550Z",
     "shell.execute_reply": "2023-09-05T19:17:41.439785Z"
    },
    "papermill": {
     "duration": 0.025292,
     "end_time": "2023-09-05T19:17:41.442040",
     "exception": false,
     "start_time": "2023-09-05T19:17:41.416748",
     "status": "completed"
    },
    "tags": []
   },
   "outputs": [],
   "source": [
    "# from qiime2.plugins import demux, deblur, quality_filter, \\\n",
    "#                            metadata, feature_table, alignment, \\\n",
    "#                            phylogeny, diversity, emperor, feature_classifier, \\\n",
    "#                            taxa, composition"
   ]
  },
  {
   "cell_type": "markdown",
   "id": "046508d0",
   "metadata": {
    "papermill": {
     "duration": 0.012861,
     "end_time": "2023-09-05T19:17:41.467667",
     "exception": false,
     "start_time": "2023-09-05T19:17:41.454806",
     "status": "completed"
    },
    "tags": []
   },
   "source": [
    "### Receiving the parameters\n",
    "\n",
    "The following cell can receive parameters using the [papermill](https://papermill.readthedocs.io/en/latest/) tool."
   ]
  },
  {
   "cell_type": "code",
   "execution_count": 3,
   "id": "6c4717f9",
   "metadata": {
    "ExecuteTime": {
     "end_time": "2022-09-22T21:43:54.344271Z",
     "start_time": "2022-09-22T21:43:54.332262Z"
    },
    "execution": {
     "iopub.execute_input": "2023-09-05T19:17:41.494266Z",
     "iopub.status.busy": "2023-09-05T19:17:41.493889Z",
     "iopub.status.idle": "2023-09-05T19:17:41.499314Z",
     "shell.execute_reply": "2023-09-05T19:17:41.498404Z"
    },
    "papermill": {
     "duration": 0.020782,
     "end_time": "2023-09-05T19:17:41.501052",
     "exception": false,
     "start_time": "2023-09-05T19:17:41.480270",
     "status": "completed"
    },
    "tags": [
     "parameters"
    ]
   },
   "outputs": [],
   "source": [
    "metadata_file = '/home/lauro/nupeb/rede-micro/redemicro-miliane-nutri/data/raw/metadata/miliane-metadata-CxAC.tsv'\n",
    "base_dir = os.path.join('/', 'home', 'lauro', 'nupeb', 'rede-micro', 'redemicro-miliane-nutri')\n",
    "experiment_name = 'miliane-CxAC-trim'\n",
    "replace_files = False"
   ]
  },
  {
   "cell_type": "code",
   "execution_count": 4,
   "id": "c5adc893",
   "metadata": {
    "execution": {
     "iopub.execute_input": "2023-09-05T19:17:41.528188Z",
     "iopub.status.busy": "2023-09-05T19:17:41.527663Z",
     "iopub.status.idle": "2023-09-05T19:17:41.535214Z",
     "shell.execute_reply": "2023-09-05T19:17:41.534345Z"
    },
    "papermill": {
     "duration": 0.022798,
     "end_time": "2023-09-05T19:17:41.536811",
     "exception": false,
     "start_time": "2023-09-05T19:17:41.514013",
     "status": "completed"
    },
    "tags": [
     "injected-parameters"
    ]
   },
   "outputs": [],
   "source": [
    "# Parameters\n",
    "base_dir = \"/home/lauro/nupeb/rede-micro/redemicro-thayane\"\n",
    "class_col = \"above_10\"\n",
    "classifier_file = (\n",
    "    \"/home/lauro/nupeb/16S_classifiers_qiime2/silva-138-99-nb-classifier.qza\"\n",
    ")\n",
    "experiment_name = \"thayane-PM-paired-end-trim-overlap-04\"\n",
    "manifest_file = (\n",
    "    \"/home/lauro/nupeb/rede-micro/redemicro-thayane/data/manifest-paired.csv\"\n",
    ")\n",
    "metadata_file = (\n",
    "    \"/home/lauro/nupeb/rede-micro/redemicro-thayane/data/paired-end-metadata.tsv\"\n",
    ")\n",
    "overlap = 4\n",
    "phred = 20\n",
    "replace_files = False\n",
    "threads = 6\n",
    "trim = {\n",
    "    \"forward_primer\": \"CCTACGGGRSGCAGCAG\",\n",
    "    \"overlap\": 8,\n",
    "    \"reverse_primer\": \"GGACTACHVGGGTWTCTAAT\",\n",
    "}\n",
    "trunc_f = 0\n",
    "trunc_r = 0\n"
   ]
  },
  {
   "cell_type": "markdown",
   "id": "eb71c7db",
   "metadata": {
    "papermill": {
     "duration": 0.013129,
     "end_time": "2023-09-05T19:17:41.563916",
     "exception": false,
     "start_time": "2023-09-05T19:17:41.550787",
     "status": "completed"
    },
    "tags": []
   },
   "source": [
    "### Defining names, paths and flags"
   ]
  },
  {
   "cell_type": "code",
   "execution_count": 5,
   "id": "a7207fe9",
   "metadata": {
    "ExecuteTime": {
     "end_time": "2022-09-22T21:43:54.362004Z",
     "start_time": "2022-09-22T21:43:54.346365Z"
    },
    "execution": {
     "iopub.execute_input": "2023-09-05T19:17:41.591751Z",
     "iopub.status.busy": "2023-09-05T19:17:41.591325Z",
     "iopub.status.idle": "2023-09-05T19:17:42.051173Z",
     "shell.execute_reply": "2023-09-05T19:17:42.049267Z"
    },
    "papermill": {
     "duration": 0.477878,
     "end_time": "2023-09-05T19:17:42.054997",
     "exception": false,
     "start_time": "2023-09-05T19:17:41.577119",
     "status": "completed"
    },
    "tags": []
   },
   "outputs": [],
   "source": [
    "# Experiments\n",
    "experiment_folder = os.path.abspath(os.path.join(base_dir, 'experiments', experiment_name))\n",
    "!mkdir -p {experiment_folder}\n",
    "\n",
    "# Imgs folder\n",
    "img_folder = os.path.abspath(os.path.join(experiment_folder, 'imgs'))\n",
    "!mkdir -p {img_folder}\n",
    "\n",
    "# QIIME2 Artifacts folder\n",
    "qiime_folder = os.path.join(experiment_folder, 'qiime-artifacts')\n",
    "!mkdir -p {qiime_folder}"
   ]
  },
  {
   "cell_type": "code",
   "execution_count": 6,
   "id": "68ca2780",
   "metadata": {
    "ExecuteTime": {
     "end_time": "2022-09-22T21:43:54.373657Z",
     "start_time": "2022-09-22T21:43:54.363586Z"
    },
    "execution": {
     "iopub.execute_input": "2023-09-05T19:17:42.095351Z",
     "iopub.status.busy": "2023-09-05T19:17:42.094793Z",
     "iopub.status.idle": "2023-09-05T19:17:42.104269Z",
     "shell.execute_reply": "2023-09-05T19:17:42.103503Z"
    },
    "papermill": {
     "duration": 0.028466,
     "end_time": "2023-09-05T19:17:42.106376",
     "exception": false,
     "start_time": "2023-09-05T19:17:42.077910",
     "status": "completed"
    },
    "tags": []
   },
   "outputs": [],
   "source": [
    "# Input - DADA2 Artifacts\n",
    "dada2_tabs_path = os.path.join(qiime_folder, 'dada2-tabs.qza')\n",
    "dada2_reps_path = os.path.join(qiime_folder, 'dada2-reps.qza')\n",
    "dada2_stat_path = os.path.join(qiime_folder, 'dada2-stat.qza')\n",
    "\n",
    "# Output -Rarefaction Artifacts\n",
    "alpha_rarefaction_path = os.path.join(qiime_folder, 'alpha-rarefaction.qza')\n",
    "alpha_rarefaction_view_path = os.path.join(qiime_folder, 'alpha-rarefaction.qzv')\n",
    "\n",
    "# Flag - Load or create files\n",
    "need_tax = not (os.path.isfile(alpha_rarefaction_path)) or replace_files\n",
    "need_view = not (os.path.isfile(alpha_rarefaction_view_path)) or replace_files"
   ]
  },
  {
   "cell_type": "markdown",
   "id": "09631055",
   "metadata": {
    "papermill": {
     "duration": 0.014176,
     "end_time": "2023-09-05T19:17:42.137997",
     "exception": false,
     "start_time": "2023-09-05T19:17:42.123821",
     "status": "completed"
    },
    "tags": []
   },
   "source": [
    "## Step execution\n",
    "\n",
    "### Load input files\n",
    "\n",
    "This Step import the QIIME2 `SampleData[PairedEndSequencesWithQuality]` Artifact with all demultiplexed sequences and the `Metadata` file."
   ]
  },
  {
   "cell_type": "code",
   "execution_count": 7,
   "id": "947cddbc",
   "metadata": {
    "ExecuteTime": {
     "end_time": "2022-09-22T21:43:54.398034Z",
     "start_time": "2022-09-22T21:43:54.375240Z"
    },
    "execution": {
     "iopub.execute_input": "2023-09-05T19:17:42.167525Z",
     "iopub.status.busy": "2023-09-05T19:17:42.167057Z",
     "iopub.status.idle": "2023-09-05T19:17:42.192057Z",
     "shell.execute_reply": "2023-09-05T19:17:42.191498Z"
    },
    "papermill": {
     "duration": 0.042383,
     "end_time": "2023-09-05T19:17:42.194309",
     "exception": false,
     "start_time": "2023-09-05T19:17:42.151926",
     "status": "completed"
    },
    "tags": []
   },
   "outputs": [],
   "source": [
    "#Load Metadata\n",
    "metadata_qa = Metadata.load(metadata_file)"
   ]
  },
  {
   "cell_type": "code",
   "execution_count": 8,
   "id": "fcc0f448",
   "metadata": {
    "execution": {
     "iopub.execute_input": "2023-09-05T19:17:42.227008Z",
     "iopub.status.busy": "2023-09-05T19:17:42.226783Z",
     "iopub.status.idle": "2023-09-05T19:17:42.231089Z",
     "shell.execute_reply": "2023-09-05T19:17:42.230339Z"
    },
    "papermill": {
     "duration": 0.020916,
     "end_time": "2023-09-05T19:17:42.232700",
     "exception": false,
     "start_time": "2023-09-05T19:17:42.211784",
     "status": "completed"
    },
    "tags": []
   },
   "outputs": [],
   "source": [
    "alt_tab_path = os.path.join(base_dir, 'data', 'interim', 'dada2-tabs.qza')\n",
    "# Verify if table file exists and if it is shared\n",
    "if not os.path.isfile(dada2_tabs_path) and os.path.isfile(alt_tab_path):\n",
    "    # If it is shared, create a local symbolic link\n",
    "    os.symlink(alt_tab_path, dada2_tabs_path)"
   ]
  },
  {
   "cell_type": "code",
   "execution_count": 9,
   "id": "4bf15654",
   "metadata": {
    "ExecuteTime": {
     "end_time": "2022-09-22T21:43:54.827295Z",
     "start_time": "2022-09-22T21:43:54.399431Z"
    },
    "execution": {
     "iopub.execute_input": "2023-09-05T19:17:42.261237Z",
     "iopub.status.busy": "2023-09-05T19:17:42.260833Z",
     "iopub.status.idle": "2023-09-05T19:17:43.801308Z",
     "shell.execute_reply": "2023-09-05T19:17:43.800558Z"
    },
    "papermill": {
     "duration": 1.557459,
     "end_time": "2023-09-05T19:17:43.804152",
     "exception": false,
     "start_time": "2023-09-05T19:17:42.246693",
     "status": "completed"
    },
    "tags": []
   },
   "outputs": [
    {
     "name": "stdout",
     "output_type": "stream",
     "text": [
      "{'min_frequency': 0, 'max_frequency': None, 'min_features': 0, 'max_features': None, 'metadata': Metadata\n",
      "--------\n",
      "38 IDs x 8 columns\n",
      "class-straw:        ColumnProperties(type='categorical')\n",
      "local-coleta:       ColumnProperties(type='categorical')\n",
      "idade:              ColumnProperties(type='numeric')\n",
      "idade-menarca:      ColumnProperties(type='numeric')\n",
      "tempo-menopausa:    ColumnProperties(type='numeric')\n",
      "above_10:           ColumnProperties(type='categorical')\n",
      "menopausa-age-qcut: ColumnProperties(type='categorical')\n",
      "menopausa-age-bins: ColumnProperties(type='categorical')\n",
      "\n",
      "Call to_dataframe() for a tabular representation., 'where': None, 'exclude_ids': False, 'filter_empty_features': True, 'table': 2210 x 38 <class 'biom.table.Table'> with 6010 nonzero entries (7% dense)}\n",
      "{'min_frequency': 0, 'max_frequency': None, 'min_features': 0, 'max_features': None, 'metadata': Metadata\n",
      "--------\n",
      "38 IDs x 8 columns\n",
      "class-straw:        ColumnProperties(type='categorical')\n",
      "local-coleta:       ColumnProperties(type='categorical')\n",
      "idade:              ColumnProperties(type='numeric')\n",
      "idade-menarca:      ColumnProperties(type='numeric')\n",
      "tempo-menopausa:    ColumnProperties(type='numeric')\n",
      "above_10:           ColumnProperties(type='categorical')\n",
      "menopausa-age-qcut: ColumnProperties(type='categorical')\n",
      "menopausa-age-bins: ColumnProperties(type='categorical')\n",
      "\n",
      "Call to_dataframe() for a tabular representation., 'where': None, 'exclude_ids': False, 'filter_empty_features': True, 'table': 2210 x 38 <class 'biom.table.Table'> with 6010 nonzero entries (7% dense)}\n"
     ]
    }
   ],
   "source": [
    "# Load Table artifact\n",
    "tabs = Artifact.load(dada2_tabs_path)\n",
    "# Filter samples using Metadata IDs\n",
    "tabs = filter_samples(\n",
    "    table=tabs,\n",
    "    metadata=metadata_qa,\n",
    ").filtered_table\n",
    "tabs_df = tabs.view(Metadata).to_dataframe().T"
   ]
  },
  {
   "cell_type": "code",
   "execution_count": null,
   "id": "95f291ed",
   "metadata": {
    "papermill": {
     "duration": 0.014337,
     "end_time": "2023-09-05T19:17:43.838621",
     "exception": false,
     "start_time": "2023-09-05T19:17:43.824284",
     "status": "completed"
    },
    "tags": []
   },
   "outputs": [],
   "source": []
  },
  {
   "cell_type": "markdown",
   "id": "c0970c0e",
   "metadata": {
    "papermill": {
     "duration": 0.023919,
     "end_time": "2023-09-05T19:17:43.891151",
     "exception": false,
     "start_time": "2023-09-05T19:17:43.867232",
     "status": "completed"
    },
    "tags": []
   },
   "source": [
    "## Alpha Rarefaction"
   ]
  },
  {
   "cell_type": "code",
   "execution_count": 10,
   "id": "d6a3ff64",
   "metadata": {
    "ExecuteTime": {
     "end_time": "2022-09-22T21:55:53.328300Z",
     "start_time": "2022-09-22T21:55:53.318166Z"
    },
    "execution": {
     "iopub.execute_input": "2023-09-05T19:17:43.936889Z",
     "iopub.status.busy": "2023-09-05T19:17:43.936609Z",
     "iopub.status.idle": "2023-09-05T19:17:43.942758Z",
     "shell.execute_reply": "2023-09-05T19:17:43.942192Z"
    },
    "papermill": {
     "duration": 0.029221,
     "end_time": "2023-09-05T19:17:43.944335",
     "exception": false,
     "start_time": "2023-09-05T19:17:43.915114",
     "status": "completed"
    },
    "tags": []
   },
   "outputs": [],
   "source": [
    "# Get min and maximum feature counts to set sampling depth\n",
    "rank_df = tabs_df.sum().sort_values()\n",
    "min_feature_count = int(rank_df.min())\n",
    "max_feature_count = int(rank_df.max())"
   ]
  },
  {
   "cell_type": "code",
   "execution_count": 11,
   "id": "e127e2fe",
   "metadata": {
    "execution": {
     "iopub.execute_input": "2023-09-05T19:17:43.975593Z",
     "iopub.status.busy": "2023-09-05T19:17:43.975206Z",
     "iopub.status.idle": "2023-09-05T19:17:43.989189Z",
     "shell.execute_reply": "2023-09-05T19:17:43.988516Z"
    },
    "papermill": {
     "duration": 0.031461,
     "end_time": "2023-09-05T19:17:43.991183",
     "exception": false,
     "start_time": "2023-09-05T19:17:43.959722",
     "status": "completed"
    },
    "tags": []
   },
   "outputs": [],
   "source": [
    "# Add new columns with samples IDs to rarefaction\n",
    "meta_df = metadata_qa.to_dataframe()\n",
    "meta_df['samples'] = meta_df.index.to_list()\n",
    "metadata_qa = Metadata(meta_df)"
   ]
  },
  {
   "cell_type": "code",
   "execution_count": 12,
   "id": "c48bb501",
   "metadata": {
    "ExecuteTime": {
     "end_time": "2022-09-22T21:56:13.586159Z",
     "start_time": "2022-09-22T21:55:55.117935Z"
    },
    "execution": {
     "iopub.execute_input": "2023-09-05T19:17:44.025423Z",
     "iopub.status.busy": "2023-09-05T19:17:44.025179Z",
     "iopub.status.idle": "2023-09-05T19:18:06.837306Z",
     "shell.execute_reply": "2023-09-05T19:18:06.836730Z"
    },
    "papermill": {
     "duration": 22.829228,
     "end_time": "2023-09-05T19:18:06.838985",
     "exception": false,
     "start_time": "2023-09-05T19:17:44.009757",
     "status": "completed"
    },
    "tags": []
   },
   "outputs": [
    {
     "name": "stdout",
     "output_type": "stream",
     "text": [
      "{'max_depth': 246542, 'metrics': None, 'metadata': Metadata\n",
      "--------\n",
      "38 IDs x 9 columns\n",
      "class-straw:        ColumnProperties(type='categorical')\n",
      "local-coleta:       ColumnProperties(type='categorical')\n",
      "idade:              ColumnProperties(type='numeric')\n",
      "idade-menarca:      ColumnProperties(type='numeric')\n",
      "tempo-menopausa:    ColumnProperties(type='numeric')\n",
      "above_10:           ColumnProperties(type='categorical')\n",
      "menopausa-age-qcut: ColumnProperties(type='categorical')\n",
      "menopausa-age-bins: ColumnProperties(type='categorical')\n",
      "samples:            ColumnProperties(type='categorical')\n",
      "\n",
      "Call to_dataframe() for a tabular representation., 'min_depth': 1, 'steps': 10, 'iterations': 10, 'table': 2210 x 38 <class 'biom.table.Table'> with 6010 nonzero entries (7% dense), 'phylogeny': None}\n",
      "{'sampling_depth': 1, 'with_replacement': False, 'table': 2210 x 38 <class 'biom.table.Table'> with 6010 nonzero entries (7% dense)}\n",
      "{'sampling_depth': 1, 'with_replacement': False, 'table': 2210 x 38 <class 'biom.table.Table'> with 6010 nonzero entries (7% dense)}\n",
      "{'metric': 'observed_features', 'table': <artifact: FeatureTable[Frequency] uuid: 1b1d1c40-4131-4064-94d2-2a9b7562b03e>}\n"
     ]
    },
    {
     "name": "stdout",
     "output_type": "stream",
     "text": [
      "{'table': 28 x 38 <class 'biom.table.Table'> with 38 nonzero entries (3% dense)}\n",
      "{'table': 28 x 38 <class 'biom.table.Table'> with 38 nonzero entries (3% dense)}\n",
      "{'metric': 'shannon', 'table': <artifact: FeatureTable[Frequency] uuid: 1b1d1c40-4131-4064-94d2-2a9b7562b03e>}\n",
      "{'drop_undefined_samples': False, 'table': 28 x 38 <class 'biom.table.Table'> with 38 nonzero entries (3% dense)}\n",
      "{'drop_undefined_samples': False, 'table': 28 x 38 <class 'biom.table.Table'> with 38 nonzero entries (3% dense)}\n",
      "{'sampling_depth': 1, 'with_replacement': False, 'table': 2210 x 38 <class 'biom.table.Table'> with 6010 nonzero entries (7% dense)}\n",
      "{'sampling_depth': 1, 'with_replacement': False, 'table': 2210 x 38 <class 'biom.table.Table'> with 6010 nonzero entries (7% dense)}\n"
     ]
    },
    {
     "name": "stdout",
     "output_type": "stream",
     "text": [
      "{'metric': 'observed_features', 'table': <artifact: FeatureTable[Frequency] uuid: 06b67952-a63e-454b-94de-d0438190ae8a>}\n",
      "{'table': 36 x 38 <class 'biom.table.Table'> with 38 nonzero entries (2% dense)}\n",
      "{'table': 36 x 38 <class 'biom.table.Table'> with 38 nonzero entries (2% dense)}\n",
      "{'metric': 'shannon', 'table': <artifact: FeatureTable[Frequency] uuid: 06b67952-a63e-454b-94de-d0438190ae8a>}\n",
      "{'drop_undefined_samples': False, 'table': 36 x 38 <class 'biom.table.Table'> with 38 nonzero entries (2% dense)}\n",
      "{'drop_undefined_samples': False, 'table': 36 x 38 <class 'biom.table.Table'> with 38 nonzero entries (2% dense)}\n",
      "{'sampling_depth': 1, 'with_replacement': False, 'table': 2210 x 38 <class 'biom.table.Table'> with 6010 nonzero entries (7% dense)}\n",
      "{'sampling_depth': 1, 'with_replacement': False, 'table': 2210 x 38 <class 'biom.table.Table'> with 6010 nonzero entries (7% dense)}\n"
     ]
    },
    {
     "name": "stdout",
     "output_type": "stream",
     "text": [
      "{'metric': 'observed_features', 'table': <artifact: FeatureTable[Frequency] uuid: 95a1cd77-9a1a-4c47-91bf-aefb10e7baf2>}\n",
      "{'table': 35 x 38 <class 'biom.table.Table'> with 38 nonzero entries (2% dense)}\n",
      "{'table': 35 x 38 <class 'biom.table.Table'> with 38 nonzero entries (2% dense)}\n",
      "{'metric': 'shannon', 'table': <artifact: FeatureTable[Frequency] uuid: 95a1cd77-9a1a-4c47-91bf-aefb10e7baf2>}\n",
      "{'drop_undefined_samples': False, 'table': 35 x 38 <class 'biom.table.Table'> with 38 nonzero entries (2% dense)}\n",
      "{'drop_undefined_samples': False, 'table': 35 x 38 <class 'biom.table.Table'> with 38 nonzero entries (2% dense)}\n",
      "{'sampling_depth': 1, 'with_replacement': False, 'table': 2210 x 38 <class 'biom.table.Table'> with 6010 nonzero entries (7% dense)}\n",
      "{'sampling_depth': 1, 'with_replacement': False, 'table': 2210 x 38 <class 'biom.table.Table'> with 6010 nonzero entries (7% dense)}\n"
     ]
    },
    {
     "name": "stdout",
     "output_type": "stream",
     "text": [
      "{'metric': 'observed_features', 'table': <artifact: FeatureTable[Frequency] uuid: a1bf3d79-6913-47ee-867d-b4c6e930e2a8>}\n",
      "{'table': 31 x 38 <class 'biom.table.Table'> with 38 nonzero entries (3% dense)}\n",
      "{'table': 31 x 38 <class 'biom.table.Table'> with 38 nonzero entries (3% dense)}\n",
      "{'metric': 'shannon', 'table': <artifact: FeatureTable[Frequency] uuid: a1bf3d79-6913-47ee-867d-b4c6e930e2a8>}\n",
      "{'drop_undefined_samples': False, 'table': 31 x 38 <class 'biom.table.Table'> with 38 nonzero entries (3% dense)}\n",
      "{'drop_undefined_samples': False, 'table': 31 x 38 <class 'biom.table.Table'> with 38 nonzero entries (3% dense)}\n",
      "{'sampling_depth': 1, 'with_replacement': False, 'table': 2210 x 38 <class 'biom.table.Table'> with 6010 nonzero entries (7% dense)}\n",
      "{'sampling_depth': 1, 'with_replacement': False, 'table': 2210 x 38 <class 'biom.table.Table'> with 6010 nonzero entries (7% dense)}\n"
     ]
    },
    {
     "name": "stdout",
     "output_type": "stream",
     "text": [
      "{'metric': 'observed_features', 'table': <artifact: FeatureTable[Frequency] uuid: f6884447-80a6-479d-b45b-c0a7cfa0ed0c>}\n",
      "{'table': 33 x 38 <class 'biom.table.Table'> with 38 nonzero entries (3% dense)}\n",
      "{'table': 33 x 38 <class 'biom.table.Table'> with 38 nonzero entries (3% dense)}\n",
      "{'metric': 'shannon', 'table': <artifact: FeatureTable[Frequency] uuid: f6884447-80a6-479d-b45b-c0a7cfa0ed0c>}\n",
      "{'drop_undefined_samples': False, 'table': 33 x 38 <class 'biom.table.Table'> with 38 nonzero entries (3% dense)}\n",
      "{'drop_undefined_samples': False, 'table': 33 x 38 <class 'biom.table.Table'> with 38 nonzero entries (3% dense)}\n",
      "{'sampling_depth': 1, 'with_replacement': False, 'table': 2210 x 38 <class 'biom.table.Table'> with 6010 nonzero entries (7% dense)}\n",
      "{'sampling_depth': 1, 'with_replacement': False, 'table': 2210 x 38 <class 'biom.table.Table'> with 6010 nonzero entries (7% dense)}\n"
     ]
    },
    {
     "name": "stdout",
     "output_type": "stream",
     "text": [
      "{'metric': 'observed_features', 'table': <artifact: FeatureTable[Frequency] uuid: 1065eb65-c48b-4563-8334-793e2e5028aa>}\n",
      "{'table': 33 x 38 <class 'biom.table.Table'> with 38 nonzero entries (3% dense)}\n",
      "{'table': 33 x 38 <class 'biom.table.Table'> with 38 nonzero entries (3% dense)}\n",
      "{'metric': 'shannon', 'table': <artifact: FeatureTable[Frequency] uuid: 1065eb65-c48b-4563-8334-793e2e5028aa>}\n",
      "{'drop_undefined_samples': False, 'table': 33 x 38 <class 'biom.table.Table'> with 38 nonzero entries (3% dense)}\n",
      "{'drop_undefined_samples': False, 'table': 33 x 38 <class 'biom.table.Table'> with 38 nonzero entries (3% dense)}\n",
      "{'sampling_depth': 1, 'with_replacement': False, 'table': 2210 x 38 <class 'biom.table.Table'> with 6010 nonzero entries (7% dense)}\n",
      "{'sampling_depth': 1, 'with_replacement': False, 'table': 2210 x 38 <class 'biom.table.Table'> with 6010 nonzero entries (7% dense)}\n"
     ]
    },
    {
     "name": "stdout",
     "output_type": "stream",
     "text": [
      "{'metric': 'observed_features', 'table': <artifact: FeatureTable[Frequency] uuid: 1c9fd3d0-5dde-4a82-bbdc-394863f0f198>}\n",
      "{'table': 33 x 38 <class 'biom.table.Table'> with 38 nonzero entries (3% dense)}\n",
      "{'table': 33 x 38 <class 'biom.table.Table'> with 38 nonzero entries (3% dense)}\n",
      "{'metric': 'shannon', 'table': <artifact: FeatureTable[Frequency] uuid: 1c9fd3d0-5dde-4a82-bbdc-394863f0f198>}\n",
      "{'drop_undefined_samples': False, 'table': 33 x 38 <class 'biom.table.Table'> with 38 nonzero entries (3% dense)}\n",
      "{'drop_undefined_samples': False, 'table': 33 x 38 <class 'biom.table.Table'> with 38 nonzero entries (3% dense)}\n",
      "{'sampling_depth': 1, 'with_replacement': False, 'table': 2210 x 38 <class 'biom.table.Table'> with 6010 nonzero entries (7% dense)}\n",
      "{'sampling_depth': 1, 'with_replacement': False, 'table': 2210 x 38 <class 'biom.table.Table'> with 6010 nonzero entries (7% dense)}\n"
     ]
    },
    {
     "name": "stdout",
     "output_type": "stream",
     "text": [
      "{'metric': 'observed_features', 'table': <artifact: FeatureTable[Frequency] uuid: 4717e6f6-5f81-4efa-b808-385c168c07c8>}\n",
      "{'table': 35 x 38 <class 'biom.table.Table'> with 38 nonzero entries (2% dense)}\n",
      "{'table': 35 x 38 <class 'biom.table.Table'> with 38 nonzero entries (2% dense)}\n",
      "{'metric': 'shannon', 'table': <artifact: FeatureTable[Frequency] uuid: 4717e6f6-5f81-4efa-b808-385c168c07c8>}\n",
      "{'drop_undefined_samples': False, 'table': 35 x 38 <class 'biom.table.Table'> with 38 nonzero entries (2% dense)}\n",
      "{'drop_undefined_samples': False, 'table': 35 x 38 <class 'biom.table.Table'> with 38 nonzero entries (2% dense)}\n",
      "{'sampling_depth': 1, 'with_replacement': False, 'table': 2210 x 38 <class 'biom.table.Table'> with 6010 nonzero entries (7% dense)}\n",
      "{'sampling_depth': 1, 'with_replacement': False, 'table': 2210 x 38 <class 'biom.table.Table'> with 6010 nonzero entries (7% dense)}\n"
     ]
    },
    {
     "name": "stdout",
     "output_type": "stream",
     "text": [
      "{'metric': 'observed_features', 'table': <artifact: FeatureTable[Frequency] uuid: e3b37787-9602-44c0-920c-e60449581372>}\n",
      "{'table': 34 x 38 <class 'biom.table.Table'> with 38 nonzero entries (2% dense)}\n",
      "{'table': 34 x 38 <class 'biom.table.Table'> with 38 nonzero entries (2% dense)}\n",
      "{'metric': 'shannon', 'table': <artifact: FeatureTable[Frequency] uuid: e3b37787-9602-44c0-920c-e60449581372>}\n",
      "{'drop_undefined_samples': False, 'table': 34 x 38 <class 'biom.table.Table'> with 38 nonzero entries (2% dense)}\n",
      "{'drop_undefined_samples': False, 'table': 34 x 38 <class 'biom.table.Table'> with 38 nonzero entries (2% dense)}\n",
      "{'sampling_depth': 1, 'with_replacement': False, 'table': 2210 x 38 <class 'biom.table.Table'> with 6010 nonzero entries (7% dense)}\n",
      "{'sampling_depth': 1, 'with_replacement': False, 'table': 2210 x 38 <class 'biom.table.Table'> with 6010 nonzero entries (7% dense)}\n"
     ]
    },
    {
     "name": "stdout",
     "output_type": "stream",
     "text": [
      "{'metric': 'observed_features', 'table': <artifact: FeatureTable[Frequency] uuid: c6ef68d5-6538-4024-8035-d8166cff4b57>}\n",
      "{'table': 34 x 38 <class 'biom.table.Table'> with 38 nonzero entries (2% dense)}\n",
      "{'table': 34 x 38 <class 'biom.table.Table'> with 38 nonzero entries (2% dense)}\n",
      "{'metric': 'shannon', 'table': <artifact: FeatureTable[Frequency] uuid: c6ef68d5-6538-4024-8035-d8166cff4b57>}\n",
      "{'drop_undefined_samples': False, 'table': 34 x 38 <class 'biom.table.Table'> with 38 nonzero entries (2% dense)}\n",
      "{'drop_undefined_samples': False, 'table': 34 x 38 <class 'biom.table.Table'> with 38 nonzero entries (2% dense)}\n",
      "{'sampling_depth': 27394, 'with_replacement': False, 'table': 2210 x 38 <class 'biom.table.Table'> with 6010 nonzero entries (7% dense)}\n",
      "{'sampling_depth': 27394, 'with_replacement': False, 'table': 2210 x 38 <class 'biom.table.Table'> with 6010 nonzero entries (7% dense)}\n"
     ]
    },
    {
     "name": "stdout",
     "output_type": "stream",
     "text": [
      "{'metric': 'observed_features', 'table': <artifact: FeatureTable[Frequency] uuid: e299ddc0-2911-42ba-b461-ba58655d0555>}\n",
      "{'table': 1827 x 32 <class 'biom.table.Table'> with 5176 nonzero entries (8% dense)}\n",
      "{'table': 1827 x 32 <class 'biom.table.Table'> with 5176 nonzero entries (8% dense)}\n",
      "{'metric': 'shannon', 'table': <artifact: FeatureTable[Frequency] uuid: e299ddc0-2911-42ba-b461-ba58655d0555>}\n",
      "{'drop_undefined_samples': False, 'table': 1827 x 32 <class 'biom.table.Table'> with 5176 nonzero entries (8% dense)}\n",
      "{'drop_undefined_samples': False, 'table': 1827 x 32 <class 'biom.table.Table'> with 5176 nonzero entries (8% dense)}\n",
      "{'sampling_depth': 27394, 'with_replacement': False, 'table': 2210 x 38 <class 'biom.table.Table'> with 6010 nonzero entries (7% dense)}\n",
      "{'sampling_depth': 27394, 'with_replacement': False, 'table': 2210 x 38 <class 'biom.table.Table'> with 6010 nonzero entries (7% dense)}\n"
     ]
    },
    {
     "name": "stdout",
     "output_type": "stream",
     "text": [
      "{'metric': 'observed_features', 'table': <artifact: FeatureTable[Frequency] uuid: 7f55ba83-639b-4b14-8545-241427f0000b>}\n",
      "{'table': 1848 x 32 <class 'biom.table.Table'> with 5209 nonzero entries (8% dense)}\n",
      "{'table': 1848 x 32 <class 'biom.table.Table'> with 5209 nonzero entries (8% dense)}\n",
      "{'metric': 'shannon', 'table': <artifact: FeatureTable[Frequency] uuid: 7f55ba83-639b-4b14-8545-241427f0000b>}\n",
      "{'drop_undefined_samples': False, 'table': 1848 x 32 <class 'biom.table.Table'> with 5209 nonzero entries (8% dense)}\n",
      "{'drop_undefined_samples': False, 'table': 1848 x 32 <class 'biom.table.Table'> with 5209 nonzero entries (8% dense)}\n",
      "{'sampling_depth': 27394, 'with_replacement': False, 'table': 2210 x 38 <class 'biom.table.Table'> with 6010 nonzero entries (7% dense)}\n",
      "{'sampling_depth': 27394, 'with_replacement': False, 'table': 2210 x 38 <class 'biom.table.Table'> with 6010 nonzero entries (7% dense)}\n"
     ]
    },
    {
     "name": "stdout",
     "output_type": "stream",
     "text": [
      "{'metric': 'observed_features', 'table': <artifact: FeatureTable[Frequency] uuid: f19191bc-c521-4a64-ad9e-587a49c5bc34>}\n",
      "{'table': 1851 x 32 <class 'biom.table.Table'> with 5206 nonzero entries (8% dense)}\n",
      "{'table': 1851 x 32 <class 'biom.table.Table'> with 5206 nonzero entries (8% dense)}\n",
      "{'metric': 'shannon', 'table': <artifact: FeatureTable[Frequency] uuid: f19191bc-c521-4a64-ad9e-587a49c5bc34>}\n",
      "{'drop_undefined_samples': False, 'table': 1851 x 32 <class 'biom.table.Table'> with 5206 nonzero entries (8% dense)}\n",
      "{'drop_undefined_samples': False, 'table': 1851 x 32 <class 'biom.table.Table'> with 5206 nonzero entries (8% dense)}\n",
      "{'sampling_depth': 27394, 'with_replacement': False, 'table': 2210 x 38 <class 'biom.table.Table'> with 6010 nonzero entries (7% dense)}\n",
      "{'sampling_depth': 27394, 'with_replacement': False, 'table': 2210 x 38 <class 'biom.table.Table'> with 6010 nonzero entries (7% dense)}\n"
     ]
    },
    {
     "name": "stdout",
     "output_type": "stream",
     "text": [
      "{'metric': 'observed_features', 'table': <artifact: FeatureTable[Frequency] uuid: f2a63f4e-97ba-4b3a-a452-d3f63c1af1bc>}\n",
      "{'table': 1826 x 32 <class 'biom.table.Table'> with 5183 nonzero entries (8% dense)}\n",
      "{'table': 1826 x 32 <class 'biom.table.Table'> with 5183 nonzero entries (8% dense)}\n",
      "{'metric': 'shannon', 'table': <artifact: FeatureTable[Frequency] uuid: f2a63f4e-97ba-4b3a-a452-d3f63c1af1bc>}\n",
      "{'drop_undefined_samples': False, 'table': 1826 x 32 <class 'biom.table.Table'> with 5183 nonzero entries (8% dense)}\n",
      "{'drop_undefined_samples': False, 'table': 1826 x 32 <class 'biom.table.Table'> with 5183 nonzero entries (8% dense)}\n",
      "{'sampling_depth': 27394, 'with_replacement': False, 'table': 2210 x 38 <class 'biom.table.Table'> with 6010 nonzero entries (7% dense)}\n",
      "{'sampling_depth': 27394, 'with_replacement': False, 'table': 2210 x 38 <class 'biom.table.Table'> with 6010 nonzero entries (7% dense)}\n"
     ]
    },
    {
     "name": "stdout",
     "output_type": "stream",
     "text": [
      "{'metric': 'observed_features', 'table': <artifact: FeatureTable[Frequency] uuid: db126350-fa86-435d-b871-168b2316cec8>}\n",
      "{'table': 1829 x 32 <class 'biom.table.Table'> with 5181 nonzero entries (8% dense)}\n",
      "{'table': 1829 x 32 <class 'biom.table.Table'> with 5181 nonzero entries (8% dense)}\n",
      "{'metric': 'shannon', 'table': <artifact: FeatureTable[Frequency] uuid: db126350-fa86-435d-b871-168b2316cec8>}\n",
      "{'drop_undefined_samples': False, 'table': 1829 x 32 <class 'biom.table.Table'> with 5181 nonzero entries (8% dense)}\n",
      "{'drop_undefined_samples': False, 'table': 1829 x 32 <class 'biom.table.Table'> with 5181 nonzero entries (8% dense)}\n",
      "{'sampling_depth': 27394, 'with_replacement': False, 'table': 2210 x 38 <class 'biom.table.Table'> with 6010 nonzero entries (7% dense)}\n",
      "{'sampling_depth': 27394, 'with_replacement': False, 'table': 2210 x 38 <class 'biom.table.Table'> with 6010 nonzero entries (7% dense)}\n"
     ]
    },
    {
     "name": "stdout",
     "output_type": "stream",
     "text": [
      "{'metric': 'observed_features', 'table': <artifact: FeatureTable[Frequency] uuid: b8d5168b-eb10-4470-8792-ffa57fc12f47>}\n",
      "{'table': 1848 x 32 <class 'biom.table.Table'> with 5209 nonzero entries (8% dense)}\n",
      "{'table': 1848 x 32 <class 'biom.table.Table'> with 5209 nonzero entries (8% dense)}\n",
      "{'metric': 'shannon', 'table': <artifact: FeatureTable[Frequency] uuid: b8d5168b-eb10-4470-8792-ffa57fc12f47>}\n",
      "{'drop_undefined_samples': False, 'table': 1848 x 32 <class 'biom.table.Table'> with 5209 nonzero entries (8% dense)}\n",
      "{'drop_undefined_samples': False, 'table': 1848 x 32 <class 'biom.table.Table'> with 5209 nonzero entries (8% dense)}\n",
      "{'sampling_depth': 27394, 'with_replacement': False, 'table': 2210 x 38 <class 'biom.table.Table'> with 6010 nonzero entries (7% dense)}\n",
      "{'sampling_depth': 27394, 'with_replacement': False, 'table': 2210 x 38 <class 'biom.table.Table'> with 6010 nonzero entries (7% dense)}\n"
     ]
    },
    {
     "name": "stdout",
     "output_type": "stream",
     "text": [
      "{'metric': 'observed_features', 'table': <artifact: FeatureTable[Frequency] uuid: d539eb77-11ee-4243-85d3-a6fe7c7d3649>}\n",
      "{'table': 1855 x 32 <class 'biom.table.Table'> with 5211 nonzero entries (8% dense)}\n",
      "{'table': 1855 x 32 <class 'biom.table.Table'> with 5211 nonzero entries (8% dense)}\n",
      "{'metric': 'shannon', 'table': <artifact: FeatureTable[Frequency] uuid: d539eb77-11ee-4243-85d3-a6fe7c7d3649>}\n",
      "{'drop_undefined_samples': False, 'table': 1855 x 32 <class 'biom.table.Table'> with 5211 nonzero entries (8% dense)}\n",
      "{'drop_undefined_samples': False, 'table': 1855 x 32 <class 'biom.table.Table'> with 5211 nonzero entries (8% dense)}\n",
      "{'sampling_depth': 27394, 'with_replacement': False, 'table': 2210 x 38 <class 'biom.table.Table'> with 6010 nonzero entries (7% dense)}\n",
      "{'sampling_depth': 27394, 'with_replacement': False, 'table': 2210 x 38 <class 'biom.table.Table'> with 6010 nonzero entries (7% dense)}\n"
     ]
    },
    {
     "name": "stdout",
     "output_type": "stream",
     "text": [
      "{'metric': 'observed_features', 'table': <artifact: FeatureTable[Frequency] uuid: a1967f47-14bd-4cf3-b640-06299142e191>}\n",
      "{'table': 1834 x 32 <class 'biom.table.Table'> with 5191 nonzero entries (8% dense)}\n",
      "{'table': 1834 x 32 <class 'biom.table.Table'> with 5191 nonzero entries (8% dense)}\n",
      "{'metric': 'shannon', 'table': <artifact: FeatureTable[Frequency] uuid: a1967f47-14bd-4cf3-b640-06299142e191>}\n",
      "{'drop_undefined_samples': False, 'table': 1834 x 32 <class 'biom.table.Table'> with 5191 nonzero entries (8% dense)}\n",
      "{'drop_undefined_samples': False, 'table': 1834 x 32 <class 'biom.table.Table'> with 5191 nonzero entries (8% dense)}\n",
      "{'sampling_depth': 27394, 'with_replacement': False, 'table': 2210 x 38 <class 'biom.table.Table'> with 6010 nonzero entries (7% dense)}\n",
      "{'sampling_depth': 27394, 'with_replacement': False, 'table': 2210 x 38 <class 'biom.table.Table'> with 6010 nonzero entries (7% dense)}\n"
     ]
    },
    {
     "name": "stdout",
     "output_type": "stream",
     "text": [
      "{'metric': 'observed_features', 'table': <artifact: FeatureTable[Frequency] uuid: c929f7b8-c9e4-42a6-a864-5fbc0f8e114f>}\n",
      "{'table': 1841 x 32 <class 'biom.table.Table'> with 5197 nonzero entries (8% dense)}\n",
      "{'table': 1841 x 32 <class 'biom.table.Table'> with 5197 nonzero entries (8% dense)}\n",
      "{'metric': 'shannon', 'table': <artifact: FeatureTable[Frequency] uuid: c929f7b8-c9e4-42a6-a864-5fbc0f8e114f>}\n",
      "{'drop_undefined_samples': False, 'table': 1841 x 32 <class 'biom.table.Table'> with 5197 nonzero entries (8% dense)}\n",
      "{'drop_undefined_samples': False, 'table': 1841 x 32 <class 'biom.table.Table'> with 5197 nonzero entries (8% dense)}\n",
      "{'sampling_depth': 27394, 'with_replacement': False, 'table': 2210 x 38 <class 'biom.table.Table'> with 6010 nonzero entries (7% dense)}\n",
      "{'sampling_depth': 27394, 'with_replacement': False, 'table': 2210 x 38 <class 'biom.table.Table'> with 6010 nonzero entries (7% dense)}\n"
     ]
    },
    {
     "name": "stdout",
     "output_type": "stream",
     "text": [
      "{'metric': 'observed_features', 'table': <artifact: FeatureTable[Frequency] uuid: 4cf7b88f-df05-4267-8f7a-3d4dd9aefe9e>}\n",
      "{'table': 1825 x 32 <class 'biom.table.Table'> with 5172 nonzero entries (8% dense)}\n",
      "{'table': 1825 x 32 <class 'biom.table.Table'> with 5172 nonzero entries (8% dense)}\n",
      "{'metric': 'shannon', 'table': <artifact: FeatureTable[Frequency] uuid: 4cf7b88f-df05-4267-8f7a-3d4dd9aefe9e>}\n",
      "{'drop_undefined_samples': False, 'table': 1825 x 32 <class 'biom.table.Table'> with 5172 nonzero entries (8% dense)}\n",
      "{'drop_undefined_samples': False, 'table': 1825 x 32 <class 'biom.table.Table'> with 5172 nonzero entries (8% dense)}\n",
      "{'sampling_depth': 54787, 'with_replacement': False, 'table': 2210 x 38 <class 'biom.table.Table'> with 6010 nonzero entries (7% dense)}\n",
      "{'sampling_depth': 54787, 'with_replacement': False, 'table': 2210 x 38 <class 'biom.table.Table'> with 6010 nonzero entries (7% dense)}\n"
     ]
    },
    {
     "name": "stdout",
     "output_type": "stream",
     "text": [
      "{'metric': 'observed_features', 'table': <artifact: FeatureTable[Frequency] uuid: 3d8592e5-fcc6-4df9-9a9a-67e6ae3501e0>}\n",
      "{'table': 1749 x 24 <class 'biom.table.Table'> with 4303 nonzero entries (10% dense)}\n",
      "{'table': 1749 x 24 <class 'biom.table.Table'> with 4303 nonzero entries (10% dense)}\n",
      "{'metric': 'shannon', 'table': <artifact: FeatureTable[Frequency] uuid: 3d8592e5-fcc6-4df9-9a9a-67e6ae3501e0>}\n",
      "{'drop_undefined_samples': False, 'table': 1749 x 24 <class 'biom.table.Table'> with 4303 nonzero entries (10% dense)}\n",
      "{'drop_undefined_samples': False, 'table': 1749 x 24 <class 'biom.table.Table'> with 4303 nonzero entries (10% dense)}\n",
      "{'sampling_depth': 54787, 'with_replacement': False, 'table': 2210 x 38 <class 'biom.table.Table'> with 6010 nonzero entries (7% dense)}\n",
      "{'sampling_depth': 54787, 'with_replacement': False, 'table': 2210 x 38 <class 'biom.table.Table'> with 6010 nonzero entries (7% dense)}\n"
     ]
    },
    {
     "name": "stdout",
     "output_type": "stream",
     "text": [
      "{'metric': 'observed_features', 'table': <artifact: FeatureTable[Frequency] uuid: 5a61818b-15df-4ba3-b0c5-9fa9bf5e0f3e>}\n",
      "{'table': 1758 x 24 <class 'biom.table.Table'> with 4315 nonzero entries (10% dense)}\n",
      "{'table': 1758 x 24 <class 'biom.table.Table'> with 4315 nonzero entries (10% dense)}\n",
      "{'metric': 'shannon', 'table': <artifact: FeatureTable[Frequency] uuid: 5a61818b-15df-4ba3-b0c5-9fa9bf5e0f3e>}\n",
      "{'drop_undefined_samples': False, 'table': 1758 x 24 <class 'biom.table.Table'> with 4315 nonzero entries (10% dense)}\n",
      "{'drop_undefined_samples': False, 'table': 1758 x 24 <class 'biom.table.Table'> with 4315 nonzero entries (10% dense)}\n",
      "{'sampling_depth': 54787, 'with_replacement': False, 'table': 2210 x 38 <class 'biom.table.Table'> with 6010 nonzero entries (7% dense)}\n",
      "{'sampling_depth': 54787, 'with_replacement': False, 'table': 2210 x 38 <class 'biom.table.Table'> with 6010 nonzero entries (7% dense)}\n"
     ]
    },
    {
     "name": "stdout",
     "output_type": "stream",
     "text": [
      "{'metric': 'observed_features', 'table': <artifact: FeatureTable[Frequency] uuid: 6011276e-abe8-41aa-a7c0-537ead009202>}\n",
      "{'table': 1765 x 24 <class 'biom.table.Table'> with 4321 nonzero entries (10% dense)}\n",
      "{'table': 1765 x 24 <class 'biom.table.Table'> with 4321 nonzero entries (10% dense)}\n",
      "{'metric': 'shannon', 'table': <artifact: FeatureTable[Frequency] uuid: 6011276e-abe8-41aa-a7c0-537ead009202>}\n",
      "{'drop_undefined_samples': False, 'table': 1765 x 24 <class 'biom.table.Table'> with 4321 nonzero entries (10% dense)}\n",
      "{'drop_undefined_samples': False, 'table': 1765 x 24 <class 'biom.table.Table'> with 4321 nonzero entries (10% dense)}\n",
      "{'sampling_depth': 54787, 'with_replacement': False, 'table': 2210 x 38 <class 'biom.table.Table'> with 6010 nonzero entries (7% dense)}\n",
      "{'sampling_depth': 54787, 'with_replacement': False, 'table': 2210 x 38 <class 'biom.table.Table'> with 6010 nonzero entries (7% dense)}\n"
     ]
    },
    {
     "name": "stdout",
     "output_type": "stream",
     "text": [
      "{'metric': 'observed_features', 'table': <artifact: FeatureTable[Frequency] uuid: ac0ab2ed-cb02-459e-a259-46ee7f8f6558>}\n",
      "{'table': 1770 x 24 <class 'biom.table.Table'> with 4321 nonzero entries (10% dense)}\n",
      "{'table': 1770 x 24 <class 'biom.table.Table'> with 4321 nonzero entries (10% dense)}\n",
      "{'metric': 'shannon', 'table': <artifact: FeatureTable[Frequency] uuid: ac0ab2ed-cb02-459e-a259-46ee7f8f6558>}\n",
      "{'drop_undefined_samples': False, 'table': 1770 x 24 <class 'biom.table.Table'> with 4321 nonzero entries (10% dense)}\n",
      "{'drop_undefined_samples': False, 'table': 1770 x 24 <class 'biom.table.Table'> with 4321 nonzero entries (10% dense)}\n",
      "{'sampling_depth': 54787, 'with_replacement': False, 'table': 2210 x 38 <class 'biom.table.Table'> with 6010 nonzero entries (7% dense)}\n",
      "{'sampling_depth': 54787, 'with_replacement': False, 'table': 2210 x 38 <class 'biom.table.Table'> with 6010 nonzero entries (7% dense)}\n"
     ]
    },
    {
     "name": "stdout",
     "output_type": "stream",
     "text": [
      "{'metric': 'observed_features', 'table': <artifact: FeatureTable[Frequency] uuid: 4a194868-5237-4afc-a068-2b94718a61a8>}\n",
      "{'table': 1765 x 24 <class 'biom.table.Table'> with 4321 nonzero entries (10% dense)}\n",
      "{'table': 1765 x 24 <class 'biom.table.Table'> with 4321 nonzero entries (10% dense)}\n",
      "{'metric': 'shannon', 'table': <artifact: FeatureTable[Frequency] uuid: 4a194868-5237-4afc-a068-2b94718a61a8>}\n",
      "{'drop_undefined_samples': False, 'table': 1765 x 24 <class 'biom.table.Table'> with 4321 nonzero entries (10% dense)}\n",
      "{'drop_undefined_samples': False, 'table': 1765 x 24 <class 'biom.table.Table'> with 4321 nonzero entries (10% dense)}\n",
      "{'sampling_depth': 54787, 'with_replacement': False, 'table': 2210 x 38 <class 'biom.table.Table'> with 6010 nonzero entries (7% dense)}\n",
      "{'sampling_depth': 54787, 'with_replacement': False, 'table': 2210 x 38 <class 'biom.table.Table'> with 6010 nonzero entries (7% dense)}\n"
     ]
    },
    {
     "name": "stdout",
     "output_type": "stream",
     "text": [
      "{'metric': 'observed_features', 'table': <artifact: FeatureTable[Frequency] uuid: 8076efed-2829-4ec9-95e9-dbfb862e8955>}\n",
      "{'table': 1756 x 24 <class 'biom.table.Table'> with 4310 nonzero entries (10% dense)}\n",
      "{'table': 1756 x 24 <class 'biom.table.Table'> with 4310 nonzero entries (10% dense)}\n",
      "{'metric': 'shannon', 'table': <artifact: FeatureTable[Frequency] uuid: 8076efed-2829-4ec9-95e9-dbfb862e8955>}\n",
      "{'drop_undefined_samples': False, 'table': 1756 x 24 <class 'biom.table.Table'> with 4310 nonzero entries (10% dense)}\n",
      "{'drop_undefined_samples': False, 'table': 1756 x 24 <class 'biom.table.Table'> with 4310 nonzero entries (10% dense)}\n",
      "{'sampling_depth': 54787, 'with_replacement': False, 'table': 2210 x 38 <class 'biom.table.Table'> with 6010 nonzero entries (7% dense)}\n",
      "{'sampling_depth': 54787, 'with_replacement': False, 'table': 2210 x 38 <class 'biom.table.Table'> with 6010 nonzero entries (7% dense)}\n"
     ]
    },
    {
     "name": "stdout",
     "output_type": "stream",
     "text": [
      "{'metric': 'observed_features', 'table': <artifact: FeatureTable[Frequency] uuid: 9e47dfee-dda6-4cf5-ae14-417d50a18248>}\n",
      "{'table': 1754 x 24 <class 'biom.table.Table'> with 4309 nonzero entries (10% dense)}\n",
      "{'table': 1754 x 24 <class 'biom.table.Table'> with 4309 nonzero entries (10% dense)}\n",
      "{'metric': 'shannon', 'table': <artifact: FeatureTable[Frequency] uuid: 9e47dfee-dda6-4cf5-ae14-417d50a18248>}\n",
      "{'drop_undefined_samples': False, 'table': 1754 x 24 <class 'biom.table.Table'> with 4309 nonzero entries (10% dense)}\n",
      "{'drop_undefined_samples': False, 'table': 1754 x 24 <class 'biom.table.Table'> with 4309 nonzero entries (10% dense)}\n",
      "{'sampling_depth': 54787, 'with_replacement': False, 'table': 2210 x 38 <class 'biom.table.Table'> with 6010 nonzero entries (7% dense)}\n",
      "{'sampling_depth': 54787, 'with_replacement': False, 'table': 2210 x 38 <class 'biom.table.Table'> with 6010 nonzero entries (7% dense)}\n"
     ]
    },
    {
     "name": "stdout",
     "output_type": "stream",
     "text": [
      "{'metric': 'observed_features', 'table': <artifact: FeatureTable[Frequency] uuid: 1a2cab45-f18d-4f9b-900f-a1f3c5cfd289>}\n",
      "{'table': 1753 x 24 <class 'biom.table.Table'> with 4309 nonzero entries (10% dense)}\n",
      "{'table': 1753 x 24 <class 'biom.table.Table'> with 4309 nonzero entries (10% dense)}\n",
      "{'metric': 'shannon', 'table': <artifact: FeatureTable[Frequency] uuid: 1a2cab45-f18d-4f9b-900f-a1f3c5cfd289>}\n",
      "{'drop_undefined_samples': False, 'table': 1753 x 24 <class 'biom.table.Table'> with 4309 nonzero entries (10% dense)}\n",
      "{'drop_undefined_samples': False, 'table': 1753 x 24 <class 'biom.table.Table'> with 4309 nonzero entries (10% dense)}\n",
      "{'sampling_depth': 54787, 'with_replacement': False, 'table': 2210 x 38 <class 'biom.table.Table'> with 6010 nonzero entries (7% dense)}\n",
      "{'sampling_depth': 54787, 'with_replacement': False, 'table': 2210 x 38 <class 'biom.table.Table'> with 6010 nonzero entries (7% dense)}\n"
     ]
    },
    {
     "name": "stdout",
     "output_type": "stream",
     "text": [
      "{'metric': 'observed_features', 'table': <artifact: FeatureTable[Frequency] uuid: 354aac17-53a1-4fad-bf63-520bc2a42c9b>}\n",
      "{'table': 1758 x 24 <class 'biom.table.Table'> with 4311 nonzero entries (10% dense)}\n",
      "{'table': 1758 x 24 <class 'biom.table.Table'> with 4311 nonzero entries (10% dense)}\n",
      "{'metric': 'shannon', 'table': <artifact: FeatureTable[Frequency] uuid: 354aac17-53a1-4fad-bf63-520bc2a42c9b>}\n",
      "{'drop_undefined_samples': False, 'table': 1758 x 24 <class 'biom.table.Table'> with 4311 nonzero entries (10% dense)}\n",
      "{'drop_undefined_samples': False, 'table': 1758 x 24 <class 'biom.table.Table'> with 4311 nonzero entries (10% dense)}\n",
      "{'sampling_depth': 54787, 'with_replacement': False, 'table': 2210 x 38 <class 'biom.table.Table'> with 6010 nonzero entries (7% dense)}\n",
      "{'sampling_depth': 54787, 'with_replacement': False, 'table': 2210 x 38 <class 'biom.table.Table'> with 6010 nonzero entries (7% dense)}\n"
     ]
    },
    {
     "name": "stdout",
     "output_type": "stream",
     "text": [
      "{'metric': 'observed_features', 'table': <artifact: FeatureTable[Frequency] uuid: 875b55df-67cb-43a2-88a4-74f4a81359a0>}\n",
      "{'table': 1765 x 24 <class 'biom.table.Table'> with 4319 nonzero entries (10% dense)}\n",
      "{'table': 1765 x 24 <class 'biom.table.Table'> with 4319 nonzero entries (10% dense)}\n",
      "{'metric': 'shannon', 'table': <artifact: FeatureTable[Frequency] uuid: 875b55df-67cb-43a2-88a4-74f4a81359a0>}\n",
      "{'drop_undefined_samples': False, 'table': 1765 x 24 <class 'biom.table.Table'> with 4319 nonzero entries (10% dense)}\n",
      "{'drop_undefined_samples': False, 'table': 1765 x 24 <class 'biom.table.Table'> with 4319 nonzero entries (10% dense)}\n",
      "{'sampling_depth': 82181, 'with_replacement': False, 'table': 2210 x 38 <class 'biom.table.Table'> with 6010 nonzero entries (7% dense)}\n",
      "{'sampling_depth': 82181, 'with_replacement': False, 'table': 2210 x 38 <class 'biom.table.Table'> with 6010 nonzero entries (7% dense)}\n"
     ]
    },
    {
     "name": "stdout",
     "output_type": "stream",
     "text": [
      "{'metric': 'observed_features', 'table': <artifact: FeatureTable[Frequency] uuid: 08b75a6b-9092-4d97-8a99-1514cb42101a>}\n",
      "{'table': 1328 x 15 <class 'biom.table.Table'> with 2868 nonzero entries (14% dense)}\n",
      "{'table': 1328 x 15 <class 'biom.table.Table'> with 2868 nonzero entries (14% dense)}\n",
      "{'metric': 'shannon', 'table': <artifact: FeatureTable[Frequency] uuid: 08b75a6b-9092-4d97-8a99-1514cb42101a>}\n",
      "{'drop_undefined_samples': False, 'table': 1328 x 15 <class 'biom.table.Table'> with 2868 nonzero entries (14% dense)}\n",
      "{'drop_undefined_samples': False, 'table': 1328 x 15 <class 'biom.table.Table'> with 2868 nonzero entries (14% dense)}\n",
      "{'sampling_depth': 82181, 'with_replacement': False, 'table': 2210 x 38 <class 'biom.table.Table'> with 6010 nonzero entries (7% dense)}\n",
      "{'sampling_depth': 82181, 'with_replacement': False, 'table': 2210 x 38 <class 'biom.table.Table'> with 6010 nonzero entries (7% dense)}\n"
     ]
    },
    {
     "name": "stdout",
     "output_type": "stream",
     "text": [
      "{'metric': 'observed_features', 'table': <artifact: FeatureTable[Frequency] uuid: 94c97562-cf24-4463-ada2-98a6752ad2c8>}\n",
      "{'table': 1329 x 15 <class 'biom.table.Table'> with 2870 nonzero entries (14% dense)}\n",
      "{'table': 1329 x 15 <class 'biom.table.Table'> with 2870 nonzero entries (14% dense)}\n",
      "{'metric': 'shannon', 'table': <artifact: FeatureTable[Frequency] uuid: 94c97562-cf24-4463-ada2-98a6752ad2c8>}\n",
      "{'drop_undefined_samples': False, 'table': 1329 x 15 <class 'biom.table.Table'> with 2870 nonzero entries (14% dense)}\n",
      "{'drop_undefined_samples': False, 'table': 1329 x 15 <class 'biom.table.Table'> with 2870 nonzero entries (14% dense)}\n",
      "{'sampling_depth': 82181, 'with_replacement': False, 'table': 2210 x 38 <class 'biom.table.Table'> with 6010 nonzero entries (7% dense)}\n",
      "{'sampling_depth': 82181, 'with_replacement': False, 'table': 2210 x 38 <class 'biom.table.Table'> with 6010 nonzero entries (7% dense)}\n"
     ]
    },
    {
     "name": "stdout",
     "output_type": "stream",
     "text": [
      "{'metric': 'observed_features', 'table': <artifact: FeatureTable[Frequency] uuid: 8c1535d5-2a26-4202-b357-ec2aea3a1e59>}\n",
      "{'table': 1337 x 15 <class 'biom.table.Table'> with 2879 nonzero entries (14% dense)}\n",
      "{'table': 1337 x 15 <class 'biom.table.Table'> with 2879 nonzero entries (14% dense)}\n",
      "{'metric': 'shannon', 'table': <artifact: FeatureTable[Frequency] uuid: 8c1535d5-2a26-4202-b357-ec2aea3a1e59>}\n",
      "{'drop_undefined_samples': False, 'table': 1337 x 15 <class 'biom.table.Table'> with 2879 nonzero entries (14% dense)}\n",
      "{'drop_undefined_samples': False, 'table': 1337 x 15 <class 'biom.table.Table'> with 2879 nonzero entries (14% dense)}\n",
      "{'sampling_depth': 82181, 'with_replacement': False, 'table': 2210 x 38 <class 'biom.table.Table'> with 6010 nonzero entries (7% dense)}\n",
      "{'sampling_depth': 82181, 'with_replacement': False, 'table': 2210 x 38 <class 'biom.table.Table'> with 6010 nonzero entries (7% dense)}\n"
     ]
    },
    {
     "name": "stdout",
     "output_type": "stream",
     "text": [
      "{'metric': 'observed_features', 'table': <artifact: FeatureTable[Frequency] uuid: 0c9e6241-13cf-4e59-aeeb-c5b7de64ad88>}\n",
      "{'table': 1335 x 15 <class 'biom.table.Table'> with 2877 nonzero entries (14% dense)}\n",
      "{'table': 1335 x 15 <class 'biom.table.Table'> with 2877 nonzero entries (14% dense)}\n",
      "{'metric': 'shannon', 'table': <artifact: FeatureTable[Frequency] uuid: 0c9e6241-13cf-4e59-aeeb-c5b7de64ad88>}\n",
      "{'drop_undefined_samples': False, 'table': 1335 x 15 <class 'biom.table.Table'> with 2877 nonzero entries (14% dense)}\n",
      "{'drop_undefined_samples': False, 'table': 1335 x 15 <class 'biom.table.Table'> with 2877 nonzero entries (14% dense)}\n",
      "{'sampling_depth': 82181, 'with_replacement': False, 'table': 2210 x 38 <class 'biom.table.Table'> with 6010 nonzero entries (7% dense)}\n",
      "{'sampling_depth': 82181, 'with_replacement': False, 'table': 2210 x 38 <class 'biom.table.Table'> with 6010 nonzero entries (7% dense)}\n"
     ]
    },
    {
     "name": "stdout",
     "output_type": "stream",
     "text": [
      "{'metric': 'observed_features', 'table': <artifact: FeatureTable[Frequency] uuid: 05285966-acb0-40f5-9b2d-6fe403e2f620>}\n",
      "{'table': 1323 x 15 <class 'biom.table.Table'> with 2864 nonzero entries (14% dense)}\n",
      "{'table': 1323 x 15 <class 'biom.table.Table'> with 2864 nonzero entries (14% dense)}\n",
      "{'metric': 'shannon', 'table': <artifact: FeatureTable[Frequency] uuid: 05285966-acb0-40f5-9b2d-6fe403e2f620>}\n",
      "{'drop_undefined_samples': False, 'table': 1323 x 15 <class 'biom.table.Table'> with 2864 nonzero entries (14% dense)}\n",
      "{'drop_undefined_samples': False, 'table': 1323 x 15 <class 'biom.table.Table'> with 2864 nonzero entries (14% dense)}\n",
      "{'sampling_depth': 82181, 'with_replacement': False, 'table': 2210 x 38 <class 'biom.table.Table'> with 6010 nonzero entries (7% dense)}\n",
      "{'sampling_depth': 82181, 'with_replacement': False, 'table': 2210 x 38 <class 'biom.table.Table'> with 6010 nonzero entries (7% dense)}\n"
     ]
    },
    {
     "name": "stdout",
     "output_type": "stream",
     "text": [
      "{'metric': 'observed_features', 'table': <artifact: FeatureTable[Frequency] uuid: 2731bc69-3414-4c2a-bb90-3ffa3b3387fc>}\n",
      "{'table': 1331 x 15 <class 'biom.table.Table'> with 2873 nonzero entries (14% dense)}\n",
      "{'table': 1331 x 15 <class 'biom.table.Table'> with 2873 nonzero entries (14% dense)}\n",
      "{'metric': 'shannon', 'table': <artifact: FeatureTable[Frequency] uuid: 2731bc69-3414-4c2a-bb90-3ffa3b3387fc>}\n",
      "{'drop_undefined_samples': False, 'table': 1331 x 15 <class 'biom.table.Table'> with 2873 nonzero entries (14% dense)}\n",
      "{'drop_undefined_samples': False, 'table': 1331 x 15 <class 'biom.table.Table'> with 2873 nonzero entries (14% dense)}\n",
      "{'sampling_depth': 82181, 'with_replacement': False, 'table': 2210 x 38 <class 'biom.table.Table'> with 6010 nonzero entries (7% dense)}\n",
      "{'sampling_depth': 82181, 'with_replacement': False, 'table': 2210 x 38 <class 'biom.table.Table'> with 6010 nonzero entries (7% dense)}\n"
     ]
    },
    {
     "name": "stdout",
     "output_type": "stream",
     "text": [
      "{'metric': 'observed_features', 'table': <artifact: FeatureTable[Frequency] uuid: f2537ece-46a6-4831-8007-303f7e20fb90>}\n",
      "{'table': 1324 x 15 <class 'biom.table.Table'> with 2863 nonzero entries (14% dense)}\n",
      "{'table': 1324 x 15 <class 'biom.table.Table'> with 2863 nonzero entries (14% dense)}\n",
      "{'metric': 'shannon', 'table': <artifact: FeatureTable[Frequency] uuid: f2537ece-46a6-4831-8007-303f7e20fb90>}\n",
      "{'drop_undefined_samples': False, 'table': 1324 x 15 <class 'biom.table.Table'> with 2863 nonzero entries (14% dense)}\n",
      "{'drop_undefined_samples': False, 'table': 1324 x 15 <class 'biom.table.Table'> with 2863 nonzero entries (14% dense)}\n",
      "{'sampling_depth': 82181, 'with_replacement': False, 'table': 2210 x 38 <class 'biom.table.Table'> with 6010 nonzero entries (7% dense)}\n",
      "{'sampling_depth': 82181, 'with_replacement': False, 'table': 2210 x 38 <class 'biom.table.Table'> with 6010 nonzero entries (7% dense)}\n"
     ]
    },
    {
     "name": "stdout",
     "output_type": "stream",
     "text": [
      "{'metric': 'observed_features', 'table': <artifact: FeatureTable[Frequency] uuid: 51bcb356-ddf8-4016-930b-84fd4dc10aae>}\n",
      "{'table': 1325 x 15 <class 'biom.table.Table'> with 2867 nonzero entries (14% dense)}\n",
      "{'table': 1325 x 15 <class 'biom.table.Table'> with 2867 nonzero entries (14% dense)}\n",
      "{'metric': 'shannon', 'table': <artifact: FeatureTable[Frequency] uuid: 51bcb356-ddf8-4016-930b-84fd4dc10aae>}\n",
      "{'drop_undefined_samples': False, 'table': 1325 x 15 <class 'biom.table.Table'> with 2867 nonzero entries (14% dense)}\n",
      "{'drop_undefined_samples': False, 'table': 1325 x 15 <class 'biom.table.Table'> with 2867 nonzero entries (14% dense)}\n",
      "{'sampling_depth': 82181, 'with_replacement': False, 'table': 2210 x 38 <class 'biom.table.Table'> with 6010 nonzero entries (7% dense)}\n",
      "{'sampling_depth': 82181, 'with_replacement': False, 'table': 2210 x 38 <class 'biom.table.Table'> with 6010 nonzero entries (7% dense)}\n"
     ]
    },
    {
     "name": "stdout",
     "output_type": "stream",
     "text": [
      "{'metric': 'observed_features', 'table': <artifact: FeatureTable[Frequency] uuid: d9e76b4f-b5aa-443f-9fbd-9a61b975cb54>}\n",
      "{'table': 1324 x 15 <class 'biom.table.Table'> with 2864 nonzero entries (14% dense)}\n",
      "{'table': 1324 x 15 <class 'biom.table.Table'> with 2864 nonzero entries (14% dense)}\n",
      "{'metric': 'shannon', 'table': <artifact: FeatureTable[Frequency] uuid: d9e76b4f-b5aa-443f-9fbd-9a61b975cb54>}\n",
      "{'drop_undefined_samples': False, 'table': 1324 x 15 <class 'biom.table.Table'> with 2864 nonzero entries (14% dense)}\n",
      "{'drop_undefined_samples': False, 'table': 1324 x 15 <class 'biom.table.Table'> with 2864 nonzero entries (14% dense)}\n",
      "{'sampling_depth': 82181, 'with_replacement': False, 'table': 2210 x 38 <class 'biom.table.Table'> with 6010 nonzero entries (7% dense)}\n",
      "{'sampling_depth': 82181, 'with_replacement': False, 'table': 2210 x 38 <class 'biom.table.Table'> with 6010 nonzero entries (7% dense)}\n"
     ]
    },
    {
     "name": "stdout",
     "output_type": "stream",
     "text": [
      "{'metric': 'observed_features', 'table': <artifact: FeatureTable[Frequency] uuid: a3b0b6a6-e507-4a88-a6fa-88864e23c9a8>}\n",
      "{'table': 1316 x 15 <class 'biom.table.Table'> with 2856 nonzero entries (14% dense)}\n",
      "{'table': 1316 x 15 <class 'biom.table.Table'> with 2856 nonzero entries (14% dense)}\n",
      "{'metric': 'shannon', 'table': <artifact: FeatureTable[Frequency] uuid: a3b0b6a6-e507-4a88-a6fa-88864e23c9a8>}\n",
      "{'drop_undefined_samples': False, 'table': 1316 x 15 <class 'biom.table.Table'> with 2856 nonzero entries (14% dense)}\n",
      "{'drop_undefined_samples': False, 'table': 1316 x 15 <class 'biom.table.Table'> with 2856 nonzero entries (14% dense)}\n",
      "{'sampling_depth': 109574, 'with_replacement': False, 'table': 2210 x 38 <class 'biom.table.Table'> with 6010 nonzero entries (7% dense)}\n",
      "{'sampling_depth': 109574, 'with_replacement': False, 'table': 2210 x 38 <class 'biom.table.Table'> with 6010 nonzero entries (7% dense)}\n",
      "{'metric': 'observed_features', 'table': <artifact: FeatureTable[Frequency] uuid: 3847cc29-cdc2-4b00-a1e7-a82d217bdc8e>}\n"
     ]
    },
    {
     "name": "stdout",
     "output_type": "stream",
     "text": [
      "{'table': 1221 x 12 <class 'biom.table.Table'> with 2486 nonzero entries (16% dense)}\n",
      "{'table': 1221 x 12 <class 'biom.table.Table'> with 2486 nonzero entries (16% dense)}\n",
      "{'metric': 'shannon', 'table': <artifact: FeatureTable[Frequency] uuid: 3847cc29-cdc2-4b00-a1e7-a82d217bdc8e>}\n",
      "{'drop_undefined_samples': False, 'table': 1221 x 12 <class 'biom.table.Table'> with 2486 nonzero entries (16% dense)}\n",
      "{'drop_undefined_samples': False, 'table': 1221 x 12 <class 'biom.table.Table'> with 2486 nonzero entries (16% dense)}\n",
      "{'sampling_depth': 109574, 'with_replacement': False, 'table': 2210 x 38 <class 'biom.table.Table'> with 6010 nonzero entries (7% dense)}\n",
      "{'sampling_depth': 109574, 'with_replacement': False, 'table': 2210 x 38 <class 'biom.table.Table'> with 6010 nonzero entries (7% dense)}\n",
      "{'metric': 'observed_features', 'table': <artifact: FeatureTable[Frequency] uuid: 3aa87377-8433-483c-81dc-0d006be17909>}\n"
     ]
    },
    {
     "name": "stdout",
     "output_type": "stream",
     "text": [
      "{'table': 1216 x 12 <class 'biom.table.Table'> with 2481 nonzero entries (17% dense)}\n",
      "{'table': 1216 x 12 <class 'biom.table.Table'> with 2481 nonzero entries (17% dense)}\n",
      "{'metric': 'shannon', 'table': <artifact: FeatureTable[Frequency] uuid: 3aa87377-8433-483c-81dc-0d006be17909>}\n",
      "{'drop_undefined_samples': False, 'table': 1216 x 12 <class 'biom.table.Table'> with 2481 nonzero entries (17% dense)}\n",
      "{'drop_undefined_samples': False, 'table': 1216 x 12 <class 'biom.table.Table'> with 2481 nonzero entries (17% dense)}\n",
      "{'sampling_depth': 109574, 'with_replacement': False, 'table': 2210 x 38 <class 'biom.table.Table'> with 6010 nonzero entries (7% dense)}\n",
      "{'sampling_depth': 109574, 'with_replacement': False, 'table': 2210 x 38 <class 'biom.table.Table'> with 6010 nonzero entries (7% dense)}\n",
      "{'metric': 'observed_features', 'table': <artifact: FeatureTable[Frequency] uuid: 45d6741a-a7f4-47f6-9d60-7b3a8da6f1a5>}\n",
      "{'table': 1217 x 12 <class 'biom.table.Table'> with 2483 nonzero entries (17% dense)}\n",
      "{'table': 1217 x 12 <class 'biom.table.Table'> with 2483 nonzero entries (17% dense)}\n"
     ]
    },
    {
     "name": "stdout",
     "output_type": "stream",
     "text": [
      "{'metric': 'shannon', 'table': <artifact: FeatureTable[Frequency] uuid: 45d6741a-a7f4-47f6-9d60-7b3a8da6f1a5>}\n",
      "{'drop_undefined_samples': False, 'table': 1217 x 12 <class 'biom.table.Table'> with 2483 nonzero entries (17% dense)}\n",
      "{'drop_undefined_samples': False, 'table': 1217 x 12 <class 'biom.table.Table'> with 2483 nonzero entries (17% dense)}\n",
      "{'sampling_depth': 109574, 'with_replacement': False, 'table': 2210 x 38 <class 'biom.table.Table'> with 6010 nonzero entries (7% dense)}\n",
      "{'sampling_depth': 109574, 'with_replacement': False, 'table': 2210 x 38 <class 'biom.table.Table'> with 6010 nonzero entries (7% dense)}\n",
      "{'metric': 'observed_features', 'table': <artifact: FeatureTable[Frequency] uuid: f2b0f23b-3333-48b1-bc1c-a5588316f1e8>}\n",
      "{'table': 1220 x 12 <class 'biom.table.Table'> with 2486 nonzero entries (16% dense)}\n",
      "{'table': 1220 x 12 <class 'biom.table.Table'> with 2486 nonzero entries (16% dense)}\n",
      "{'metric': 'shannon', 'table': <artifact: FeatureTable[Frequency] uuid: f2b0f23b-3333-48b1-bc1c-a5588316f1e8>}\n"
     ]
    },
    {
     "name": "stdout",
     "output_type": "stream",
     "text": [
      "{'drop_undefined_samples': False, 'table': 1220 x 12 <class 'biom.table.Table'> with 2486 nonzero entries (16% dense)}\n",
      "{'drop_undefined_samples': False, 'table': 1220 x 12 <class 'biom.table.Table'> with 2486 nonzero entries (16% dense)}\n",
      "{'sampling_depth': 109574, 'with_replacement': False, 'table': 2210 x 38 <class 'biom.table.Table'> with 6010 nonzero entries (7% dense)}\n",
      "{'sampling_depth': 109574, 'with_replacement': False, 'table': 2210 x 38 <class 'biom.table.Table'> with 6010 nonzero entries (7% dense)}\n",
      "{'metric': 'observed_features', 'table': <artifact: FeatureTable[Frequency] uuid: e3c5b6ea-acc0-4ef7-9ebe-24166fb0ba9e>}\n",
      "{'table': 1219 x 12 <class 'biom.table.Table'> with 2485 nonzero entries (16% dense)}\n",
      "{'table': 1219 x 12 <class 'biom.table.Table'> with 2485 nonzero entries (16% dense)}\n",
      "{'metric': 'shannon', 'table': <artifact: FeatureTable[Frequency] uuid: e3c5b6ea-acc0-4ef7-9ebe-24166fb0ba9e>}\n"
     ]
    },
    {
     "name": "stdout",
     "output_type": "stream",
     "text": [
      "{'drop_undefined_samples': False, 'table': 1219 x 12 <class 'biom.table.Table'> with 2485 nonzero entries (16% dense)}\n",
      "{'drop_undefined_samples': False, 'table': 1219 x 12 <class 'biom.table.Table'> with 2485 nonzero entries (16% dense)}\n",
      "{'sampling_depth': 109574, 'with_replacement': False, 'table': 2210 x 38 <class 'biom.table.Table'> with 6010 nonzero entries (7% dense)}\n",
      "{'sampling_depth': 109574, 'with_replacement': False, 'table': 2210 x 38 <class 'biom.table.Table'> with 6010 nonzero entries (7% dense)}\n",
      "{'metric': 'observed_features', 'table': <artifact: FeatureTable[Frequency] uuid: da86b2a3-7274-400f-b9de-75b49032fb51>}\n",
      "{'table': 1214 x 12 <class 'biom.table.Table'> with 2481 nonzero entries (17% dense)}\n",
      "{'table': 1214 x 12 <class 'biom.table.Table'> with 2481 nonzero entries (17% dense)}\n",
      "{'metric': 'shannon', 'table': <artifact: FeatureTable[Frequency] uuid: da86b2a3-7274-400f-b9de-75b49032fb51>}\n",
      "{'drop_undefined_samples': False, 'table': 1214 x 12 <class 'biom.table.Table'> with 2481 nonzero entries (17% dense)}\n",
      "{'drop_undefined_samples': False, 'table': 1214 x 12 <class 'biom.table.Table'> with 2481 nonzero entries (17% dense)}\n"
     ]
    },
    {
     "name": "stdout",
     "output_type": "stream",
     "text": [
      "{'sampling_depth': 109574, 'with_replacement': False, 'table': 2210 x 38 <class 'biom.table.Table'> with 6010 nonzero entries (7% dense)}\n",
      "{'sampling_depth': 109574, 'with_replacement': False, 'table': 2210 x 38 <class 'biom.table.Table'> with 6010 nonzero entries (7% dense)}\n",
      "{'metric': 'observed_features', 'table': <artifact: FeatureTable[Frequency] uuid: 0450028d-1be9-4ce1-9b0a-01fd72b760cf>}\n",
      "{'table': 1208 x 12 <class 'biom.table.Table'> with 2474 nonzero entries (17% dense)}\n",
      "{'table': 1208 x 12 <class 'biom.table.Table'> with 2474 nonzero entries (17% dense)}\n",
      "{'metric': 'shannon', 'table': <artifact: FeatureTable[Frequency] uuid: 0450028d-1be9-4ce1-9b0a-01fd72b760cf>}\n",
      "{'drop_undefined_samples': False, 'table': 1208 x 12 <class 'biom.table.Table'> with 2474 nonzero entries (17% dense)}\n",
      "{'drop_undefined_samples': False, 'table': 1208 x 12 <class 'biom.table.Table'> with 2474 nonzero entries (17% dense)}\n",
      "{'sampling_depth': 109574, 'with_replacement': False, 'table': 2210 x 38 <class 'biom.table.Table'> with 6010 nonzero entries (7% dense)}\n",
      "{'sampling_depth': 109574, 'with_replacement': False, 'table': 2210 x 38 <class 'biom.table.Table'> with 6010 nonzero entries (7% dense)}\n"
     ]
    },
    {
     "name": "stdout",
     "output_type": "stream",
     "text": [
      "{'metric': 'observed_features', 'table': <artifact: FeatureTable[Frequency] uuid: d136a877-d899-4491-ace0-6e91400b9396>}\n",
      "{'table': 1214 x 12 <class 'biom.table.Table'> with 2479 nonzero entries (17% dense)}\n",
      "{'table': 1214 x 12 <class 'biom.table.Table'> with 2479 nonzero entries (17% dense)}\n",
      "{'metric': 'shannon', 'table': <artifact: FeatureTable[Frequency] uuid: d136a877-d899-4491-ace0-6e91400b9396>}\n",
      "{'drop_undefined_samples': False, 'table': 1214 x 12 <class 'biom.table.Table'> with 2479 nonzero entries (17% dense)}\n",
      "{'drop_undefined_samples': False, 'table': 1214 x 12 <class 'biom.table.Table'> with 2479 nonzero entries (17% dense)}\n",
      "{'sampling_depth': 109574, 'with_replacement': False, 'table': 2210 x 38 <class 'biom.table.Table'> with 6010 nonzero entries (7% dense)}\n",
      "{'sampling_depth': 109574, 'with_replacement': False, 'table': 2210 x 38 <class 'biom.table.Table'> with 6010 nonzero entries (7% dense)}\n",
      "{'metric': 'observed_features', 'table': <artifact: FeatureTable[Frequency] uuid: 3b6482bc-fb28-45cc-aff2-6c71ddc045b0>}\n"
     ]
    },
    {
     "name": "stdout",
     "output_type": "stream",
     "text": [
      "{'table': 1224 x 12 <class 'biom.table.Table'> with 2489 nonzero entries (16% dense)}\n",
      "{'table': 1224 x 12 <class 'biom.table.Table'> with 2489 nonzero entries (16% dense)}\n",
      "{'metric': 'shannon', 'table': <artifact: FeatureTable[Frequency] uuid: 3b6482bc-fb28-45cc-aff2-6c71ddc045b0>}\n",
      "{'drop_undefined_samples': False, 'table': 1224 x 12 <class 'biom.table.Table'> with 2489 nonzero entries (16% dense)}\n",
      "{'drop_undefined_samples': False, 'table': 1224 x 12 <class 'biom.table.Table'> with 2489 nonzero entries (16% dense)}\n",
      "{'sampling_depth': 109574, 'with_replacement': False, 'table': 2210 x 38 <class 'biom.table.Table'> with 6010 nonzero entries (7% dense)}\n",
      "{'sampling_depth': 109574, 'with_replacement': False, 'table': 2210 x 38 <class 'biom.table.Table'> with 6010 nonzero entries (7% dense)}\n",
      "{'metric': 'observed_features', 'table': <artifact: FeatureTable[Frequency] uuid: b08821cb-ad65-4a07-b87c-78eebd85bbc1>}\n",
      "{'table': 1217 x 12 <class 'biom.table.Table'> with 2483 nonzero entries (17% dense)}\n",
      "{'table': 1217 x 12 <class 'biom.table.Table'> with 2483 nonzero entries (17% dense)}\n"
     ]
    },
    {
     "name": "stdout",
     "output_type": "stream",
     "text": [
      "{'metric': 'shannon', 'table': <artifact: FeatureTable[Frequency] uuid: b08821cb-ad65-4a07-b87c-78eebd85bbc1>}\n",
      "{'drop_undefined_samples': False, 'table': 1217 x 12 <class 'biom.table.Table'> with 2483 nonzero entries (17% dense)}\n",
      "{'drop_undefined_samples': False, 'table': 1217 x 12 <class 'biom.table.Table'> with 2483 nonzero entries (17% dense)}\n",
      "{'sampling_depth': 136968, 'with_replacement': False, 'table': 2210 x 38 <class 'biom.table.Table'> with 6010 nonzero entries (7% dense)}\n",
      "{'sampling_depth': 136968, 'with_replacement': False, 'table': 2210 x 38 <class 'biom.table.Table'> with 6010 nonzero entries (7% dense)}\n",
      "{'metric': 'observed_features', 'table': <artifact: FeatureTable[Frequency] uuid: 0992ad37-e9ef-408d-afdc-60d9fb7f062b>}\n",
      "{'table': 1007 x 8 <class 'biom.table.Table'> with 1803 nonzero entries (22% dense)}\n",
      "{'table': 1007 x 8 <class 'biom.table.Table'> with 1803 nonzero entries (22% dense)}\n",
      "{'metric': 'shannon', 'table': <artifact: FeatureTable[Frequency] uuid: 0992ad37-e9ef-408d-afdc-60d9fb7f062b>}\n",
      "{'drop_undefined_samples': False, 'table': 1007 x 8 <class 'biom.table.Table'> with 1803 nonzero entries (22% dense)}\n",
      "{'drop_undefined_samples': False, 'table': 1007 x 8 <class 'biom.table.Table'> with 1803 nonzero entries (22% dense)}\n"
     ]
    },
    {
     "name": "stdout",
     "output_type": "stream",
     "text": [
      "{'sampling_depth': 136968, 'with_replacement': False, 'table': 2210 x 38 <class 'biom.table.Table'> with 6010 nonzero entries (7% dense)}\n",
      "{'sampling_depth': 136968, 'with_replacement': False, 'table': 2210 x 38 <class 'biom.table.Table'> with 6010 nonzero entries (7% dense)}\n",
      "{'metric': 'observed_features', 'table': <artifact: FeatureTable[Frequency] uuid: 9e79cb96-615d-453c-9239-86d6f6574586>}\n",
      "{'table': 995 x 8 <class 'biom.table.Table'> with 1790 nonzero entries (22% dense)}\n",
      "{'table': 995 x 8 <class 'biom.table.Table'> with 1790 nonzero entries (22% dense)}\n",
      "{'metric': 'shannon', 'table': <artifact: FeatureTable[Frequency] uuid: 9e79cb96-615d-453c-9239-86d6f6574586>}\n",
      "{'drop_undefined_samples': False, 'table': 995 x 8 <class 'biom.table.Table'> with 1790 nonzero entries (22% dense)}\n",
      "{'drop_undefined_samples': False, 'table': 995 x 8 <class 'biom.table.Table'> with 1790 nonzero entries (22% dense)}\n",
      "{'sampling_depth': 136968, 'with_replacement': False, 'table': 2210 x 38 <class 'biom.table.Table'> with 6010 nonzero entries (7% dense)}\n",
      "{'sampling_depth': 136968, 'with_replacement': False, 'table': 2210 x 38 <class 'biom.table.Table'> with 6010 nonzero entries (7% dense)}\n"
     ]
    },
    {
     "name": "stdout",
     "output_type": "stream",
     "text": [
      "{'metric': 'observed_features', 'table': <artifact: FeatureTable[Frequency] uuid: 8f11915a-9abc-41c1-b03e-037729f852be>}\n",
      "{'table': 1001 x 8 <class 'biom.table.Table'> with 1796 nonzero entries (22% dense)}\n",
      "{'table': 1001 x 8 <class 'biom.table.Table'> with 1796 nonzero entries (22% dense)}\n",
      "{'metric': 'shannon', 'table': <artifact: FeatureTable[Frequency] uuid: 8f11915a-9abc-41c1-b03e-037729f852be>}\n",
      "{'drop_undefined_samples': False, 'table': 1001 x 8 <class 'biom.table.Table'> with 1796 nonzero entries (22% dense)}\n",
      "{'drop_undefined_samples': False, 'table': 1001 x 8 <class 'biom.table.Table'> with 1796 nonzero entries (22% dense)}\n",
      "{'sampling_depth': 136968, 'with_replacement': False, 'table': 2210 x 38 <class 'biom.table.Table'> with 6010 nonzero entries (7% dense)}\n",
      "{'sampling_depth': 136968, 'with_replacement': False, 'table': 2210 x 38 <class 'biom.table.Table'> with 6010 nonzero entries (7% dense)}\n",
      "{'metric': 'observed_features', 'table': <artifact: FeatureTable[Frequency] uuid: 14a76de1-7a8c-4733-8423-2c3b2159d95c>}\n",
      "{'table': 1003 x 8 <class 'biom.table.Table'> with 1798 nonzero entries (22% dense)}\n",
      "{'table': 1003 x 8 <class 'biom.table.Table'> with 1798 nonzero entries (22% dense)}\n"
     ]
    },
    {
     "name": "stdout",
     "output_type": "stream",
     "text": [
      "{'metric': 'shannon', 'table': <artifact: FeatureTable[Frequency] uuid: 14a76de1-7a8c-4733-8423-2c3b2159d95c>}\n",
      "{'drop_undefined_samples': False, 'table': 1003 x 8 <class 'biom.table.Table'> with 1798 nonzero entries (22% dense)}\n",
      "{'drop_undefined_samples': False, 'table': 1003 x 8 <class 'biom.table.Table'> with 1798 nonzero entries (22% dense)}\n",
      "{'sampling_depth': 136968, 'with_replacement': False, 'table': 2210 x 38 <class 'biom.table.Table'> with 6010 nonzero entries (7% dense)}\n",
      "{'sampling_depth': 136968, 'with_replacement': False, 'table': 2210 x 38 <class 'biom.table.Table'> with 6010 nonzero entries (7% dense)}\n",
      "{'metric': 'observed_features', 'table': <artifact: FeatureTable[Frequency] uuid: dfaaf62d-e126-41b0-9430-506fcd276533>}\n",
      "{'table': 999 x 8 <class 'biom.table.Table'> with 1794 nonzero entries (22% dense)}\n",
      "{'table': 999 x 8 <class 'biom.table.Table'> with 1794 nonzero entries (22% dense)}\n",
      "{'metric': 'shannon', 'table': <artifact: FeatureTable[Frequency] uuid: dfaaf62d-e126-41b0-9430-506fcd276533>}\n",
      "{'drop_undefined_samples': False, 'table': 999 x 8 <class 'biom.table.Table'> with 1794 nonzero entries (22% dense)}\n",
      "{'drop_undefined_samples': False, 'table': 999 x 8 <class 'biom.table.Table'> with 1794 nonzero entries (22% dense)}\n"
     ]
    },
    {
     "name": "stdout",
     "output_type": "stream",
     "text": [
      "{'sampling_depth': 136968, 'with_replacement': False, 'table': 2210 x 38 <class 'biom.table.Table'> with 6010 nonzero entries (7% dense)}\n",
      "{'sampling_depth': 136968, 'with_replacement': False, 'table': 2210 x 38 <class 'biom.table.Table'> with 6010 nonzero entries (7% dense)}\n",
      "{'metric': 'observed_features', 'table': <artifact: FeatureTable[Frequency] uuid: c940cd80-1632-4877-b52f-f499262314e6>}\n",
      "{'table': 1002 x 8 <class 'biom.table.Table'> with 1798 nonzero entries (22% dense)}\n",
      "{'table': 1002 x 8 <class 'biom.table.Table'> with 1798 nonzero entries (22% dense)}\n",
      "{'metric': 'shannon', 'table': <artifact: FeatureTable[Frequency] uuid: c940cd80-1632-4877-b52f-f499262314e6>}\n",
      "{'drop_undefined_samples': False, 'table': 1002 x 8 <class 'biom.table.Table'> with 1798 nonzero entries (22% dense)}\n",
      "{'drop_undefined_samples': False, 'table': 1002 x 8 <class 'biom.table.Table'> with 1798 nonzero entries (22% dense)}\n",
      "{'sampling_depth': 136968, 'with_replacement': False, 'table': 2210 x 38 <class 'biom.table.Table'> with 6010 nonzero entries (7% dense)}\n",
      "{'sampling_depth': 136968, 'with_replacement': False, 'table': 2210 x 38 <class 'biom.table.Table'> with 6010 nonzero entries (7% dense)}\n"
     ]
    },
    {
     "name": "stdout",
     "output_type": "stream",
     "text": [
      "{'metric': 'observed_features', 'table': <artifact: FeatureTable[Frequency] uuid: 9f676443-6ff3-4c81-abc9-a34f4d326a78>}\n",
      "{'table': 1004 x 8 <class 'biom.table.Table'> with 1800 nonzero entries (22% dense)}\n",
      "{'table': 1004 x 8 <class 'biom.table.Table'> with 1800 nonzero entries (22% dense)}\n",
      "{'metric': 'shannon', 'table': <artifact: FeatureTable[Frequency] uuid: 9f676443-6ff3-4c81-abc9-a34f4d326a78>}\n",
      "{'drop_undefined_samples': False, 'table': 1004 x 8 <class 'biom.table.Table'> with 1800 nonzero entries (22% dense)}\n",
      "{'drop_undefined_samples': False, 'table': 1004 x 8 <class 'biom.table.Table'> with 1800 nonzero entries (22% dense)}\n",
      "{'sampling_depth': 136968, 'with_replacement': False, 'table': 2210 x 38 <class 'biom.table.Table'> with 6010 nonzero entries (7% dense)}\n",
      "{'sampling_depth': 136968, 'with_replacement': False, 'table': 2210 x 38 <class 'biom.table.Table'> with 6010 nonzero entries (7% dense)}\n",
      "{'metric': 'observed_features', 'table': <artifact: FeatureTable[Frequency] uuid: 463ea3d2-6919-42db-a091-115b8341870c>}\n",
      "{'table': 1007 x 8 <class 'biom.table.Table'> with 1803 nonzero entries (22% dense)}\n",
      "{'table': 1007 x 8 <class 'biom.table.Table'> with 1803 nonzero entries (22% dense)}\n"
     ]
    },
    {
     "name": "stdout",
     "output_type": "stream",
     "text": [
      "{'metric': 'shannon', 'table': <artifact: FeatureTable[Frequency] uuid: 463ea3d2-6919-42db-a091-115b8341870c>}\n",
      "{'drop_undefined_samples': False, 'table': 1007 x 8 <class 'biom.table.Table'> with 1803 nonzero entries (22% dense)}\n",
      "{'drop_undefined_samples': False, 'table': 1007 x 8 <class 'biom.table.Table'> with 1803 nonzero entries (22% dense)}\n",
      "{'sampling_depth': 136968, 'with_replacement': False, 'table': 2210 x 38 <class 'biom.table.Table'> with 6010 nonzero entries (7% dense)}\n",
      "{'sampling_depth': 136968, 'with_replacement': False, 'table': 2210 x 38 <class 'biom.table.Table'> with 6010 nonzero entries (7% dense)}\n",
      "{'metric': 'observed_features', 'table': <artifact: FeatureTable[Frequency] uuid: 6f0b1135-ac9e-4bdb-be71-968cd2496107>}\n",
      "{'table': 994 x 8 <class 'biom.table.Table'> with 1789 nonzero entries (22% dense)}\n",
      "{'table': 994 x 8 <class 'biom.table.Table'> with 1789 nonzero entries (22% dense)}\n",
      "{'metric': 'shannon', 'table': <artifact: FeatureTable[Frequency] uuid: 6f0b1135-ac9e-4bdb-be71-968cd2496107>}\n",
      "{'drop_undefined_samples': False, 'table': 994 x 8 <class 'biom.table.Table'> with 1789 nonzero entries (22% dense)}\n",
      "{'drop_undefined_samples': False, 'table': 994 x 8 <class 'biom.table.Table'> with 1789 nonzero entries (22% dense)}\n"
     ]
    },
    {
     "name": "stdout",
     "output_type": "stream",
     "text": [
      "{'sampling_depth': 136968, 'with_replacement': False, 'table': 2210 x 38 <class 'biom.table.Table'> with 6010 nonzero entries (7% dense)}\n",
      "{'sampling_depth': 136968, 'with_replacement': False, 'table': 2210 x 38 <class 'biom.table.Table'> with 6010 nonzero entries (7% dense)}\n",
      "{'metric': 'observed_features', 'table': <artifact: FeatureTable[Frequency] uuid: f49e884e-b582-41f0-9c9e-1d5081df77df>}\n",
      "{'table': 1004 x 8 <class 'biom.table.Table'> with 1799 nonzero entries (22% dense)}\n",
      "{'table': 1004 x 8 <class 'biom.table.Table'> with 1799 nonzero entries (22% dense)}\n",
      "{'metric': 'shannon', 'table': <artifact: FeatureTable[Frequency] uuid: f49e884e-b582-41f0-9c9e-1d5081df77df>}\n",
      "{'drop_undefined_samples': False, 'table': 1004 x 8 <class 'biom.table.Table'> with 1799 nonzero entries (22% dense)}\n",
      "{'drop_undefined_samples': False, 'table': 1004 x 8 <class 'biom.table.Table'> with 1799 nonzero entries (22% dense)}\n",
      "{'sampling_depth': 164361, 'with_replacement': False, 'table': 2210 x 38 <class 'biom.table.Table'> with 6010 nonzero entries (7% dense)}\n",
      "{'sampling_depth': 164361, 'with_replacement': False, 'table': 2210 x 38 <class 'biom.table.Table'> with 6010 nonzero entries (7% dense)}\n"
     ]
    },
    {
     "name": "stdout",
     "output_type": "stream",
     "text": [
      "{'metric': 'observed_features', 'table': <artifact: FeatureTable[Frequency] uuid: 2a7f66ce-af8e-49fe-8302-9d9071546778>}\n",
      "{'table': 874 x 6 <class 'biom.table.Table'> with 1456 nonzero entries (27% dense)}\n",
      "{'table': 874 x 6 <class 'biom.table.Table'> with 1456 nonzero entries (27% dense)}\n",
      "{'metric': 'shannon', 'table': <artifact: FeatureTable[Frequency] uuid: 2a7f66ce-af8e-49fe-8302-9d9071546778>}\n",
      "{'drop_undefined_samples': False, 'table': 874 x 6 <class 'biom.table.Table'> with 1456 nonzero entries (27% dense)}\n",
      "{'drop_undefined_samples': False, 'table': 874 x 6 <class 'biom.table.Table'> with 1456 nonzero entries (27% dense)}\n",
      "{'sampling_depth': 164361, 'with_replacement': False, 'table': 2210 x 38 <class 'biom.table.Table'> with 6010 nonzero entries (7% dense)}\n",
      "{'sampling_depth': 164361, 'with_replacement': False, 'table': 2210 x 38 <class 'biom.table.Table'> with 6010 nonzero entries (7% dense)}\n",
      "{'metric': 'observed_features', 'table': <artifact: FeatureTable[Frequency] uuid: 223dce67-34cb-414b-96f6-af25fe71f1bb>}\n",
      "{'table': 873 x 6 <class 'biom.table.Table'> with 1454 nonzero entries (27% dense)}\n",
      "{'table': 873 x 6 <class 'biom.table.Table'> with 1454 nonzero entries (27% dense)}\n"
     ]
    },
    {
     "name": "stdout",
     "output_type": "stream",
     "text": [
      "{'metric': 'shannon', 'table': <artifact: FeatureTable[Frequency] uuid: 223dce67-34cb-414b-96f6-af25fe71f1bb>}\n",
      "{'drop_undefined_samples': False, 'table': 873 x 6 <class 'biom.table.Table'> with 1454 nonzero entries (27% dense)}\n",
      "{'drop_undefined_samples': False, 'table': 873 x 6 <class 'biom.table.Table'> with 1454 nonzero entries (27% dense)}\n",
      "{'sampling_depth': 164361, 'with_replacement': False, 'table': 2210 x 38 <class 'biom.table.Table'> with 6010 nonzero entries (7% dense)}\n",
      "{'sampling_depth': 164361, 'with_replacement': False, 'table': 2210 x 38 <class 'biom.table.Table'> with 6010 nonzero entries (7% dense)}\n",
      "{'metric': 'observed_features', 'table': <artifact: FeatureTable[Frequency] uuid: 8a9e81c5-6ff0-4261-8f9b-580447b29617>}\n",
      "{'table': 877 x 6 <class 'biom.table.Table'> with 1458 nonzero entries (27% dense)}\n",
      "{'table': 877 x 6 <class 'biom.table.Table'> with 1458 nonzero entries (27% dense)}\n",
      "{'metric': 'shannon', 'table': <artifact: FeatureTable[Frequency] uuid: 8a9e81c5-6ff0-4261-8f9b-580447b29617>}\n",
      "{'drop_undefined_samples': False, 'table': 877 x 6 <class 'biom.table.Table'> with 1458 nonzero entries (27% dense)}\n",
      "{'drop_undefined_samples': False, 'table': 877 x 6 <class 'biom.table.Table'> with 1458 nonzero entries (27% dense)}\n"
     ]
    },
    {
     "name": "stdout",
     "output_type": "stream",
     "text": [
      "{'sampling_depth': 164361, 'with_replacement': False, 'table': 2210 x 38 <class 'biom.table.Table'> with 6010 nonzero entries (7% dense)}\n",
      "{'sampling_depth': 164361, 'with_replacement': False, 'table': 2210 x 38 <class 'biom.table.Table'> with 6010 nonzero entries (7% dense)}\n",
      "{'metric': 'observed_features', 'table': <artifact: FeatureTable[Frequency] uuid: 1a774c04-1e0b-47db-8f19-6a458499c2a8>}\n",
      "{'table': 874 x 6 <class 'biom.table.Table'> with 1456 nonzero entries (27% dense)}\n",
      "{'table': 874 x 6 <class 'biom.table.Table'> with 1456 nonzero entries (27% dense)}\n",
      "{'metric': 'shannon', 'table': <artifact: FeatureTable[Frequency] uuid: 1a774c04-1e0b-47db-8f19-6a458499c2a8>}\n",
      "{'drop_undefined_samples': False, 'table': 874 x 6 <class 'biom.table.Table'> with 1456 nonzero entries (27% dense)}\n",
      "{'drop_undefined_samples': False, 'table': 874 x 6 <class 'biom.table.Table'> with 1456 nonzero entries (27% dense)}\n",
      "{'sampling_depth': 164361, 'with_replacement': False, 'table': 2210 x 38 <class 'biom.table.Table'> with 6010 nonzero entries (7% dense)}\n",
      "{'sampling_depth': 164361, 'with_replacement': False, 'table': 2210 x 38 <class 'biom.table.Table'> with 6010 nonzero entries (7% dense)}\n"
     ]
    },
    {
     "name": "stdout",
     "output_type": "stream",
     "text": [
      "{'metric': 'observed_features', 'table': <artifact: FeatureTable[Frequency] uuid: ae996af2-2301-4f55-9bbc-4a69acaf6b64>}\n",
      "{'table': 872 x 6 <class 'biom.table.Table'> with 1454 nonzero entries (27% dense)}\n",
      "{'table': 872 x 6 <class 'biom.table.Table'> with 1454 nonzero entries (27% dense)}\n",
      "{'metric': 'shannon', 'table': <artifact: FeatureTable[Frequency] uuid: ae996af2-2301-4f55-9bbc-4a69acaf6b64>}\n",
      "{'drop_undefined_samples': False, 'table': 872 x 6 <class 'biom.table.Table'> with 1454 nonzero entries (27% dense)}\n",
      "{'drop_undefined_samples': False, 'table': 872 x 6 <class 'biom.table.Table'> with 1454 nonzero entries (27% dense)}\n",
      "{'sampling_depth': 164361, 'with_replacement': False, 'table': 2210 x 38 <class 'biom.table.Table'> with 6010 nonzero entries (7% dense)}\n",
      "{'sampling_depth': 164361, 'with_replacement': False, 'table': 2210 x 38 <class 'biom.table.Table'> with 6010 nonzero entries (7% dense)}\n",
      "{'metric': 'observed_features', 'table': <artifact: FeatureTable[Frequency] uuid: e82df11a-9fc0-4641-9b16-51f7b1c6934d>}\n",
      "{'table': 870 x 6 <class 'biom.table.Table'> with 1452 nonzero entries (27% dense)}\n",
      "{'table': 870 x 6 <class 'biom.table.Table'> with 1452 nonzero entries (27% dense)}\n"
     ]
    },
    {
     "name": "stdout",
     "output_type": "stream",
     "text": [
      "{'metric': 'shannon', 'table': <artifact: FeatureTable[Frequency] uuid: e82df11a-9fc0-4641-9b16-51f7b1c6934d>}\n",
      "{'drop_undefined_samples': False, 'table': 870 x 6 <class 'biom.table.Table'> with 1452 nonzero entries (27% dense)}\n",
      "{'drop_undefined_samples': False, 'table': 870 x 6 <class 'biom.table.Table'> with 1452 nonzero entries (27% dense)}\n",
      "{'sampling_depth': 164361, 'with_replacement': False, 'table': 2210 x 38 <class 'biom.table.Table'> with 6010 nonzero entries (7% dense)}\n",
      "{'sampling_depth': 164361, 'with_replacement': False, 'table': 2210 x 38 <class 'biom.table.Table'> with 6010 nonzero entries (7% dense)}\n",
      "{'metric': 'observed_features', 'table': <artifact: FeatureTable[Frequency] uuid: 5cc93cc8-0839-4133-9394-f83f7613b620>}\n",
      "{'table': 877 x 6 <class 'biom.table.Table'> with 1458 nonzero entries (27% dense)}\n",
      "{'table': 877 x 6 <class 'biom.table.Table'> with 1458 nonzero entries (27% dense)}\n",
      "{'metric': 'shannon', 'table': <artifact: FeatureTable[Frequency] uuid: 5cc93cc8-0839-4133-9394-f83f7613b620>}\n",
      "{'drop_undefined_samples': False, 'table': 877 x 6 <class 'biom.table.Table'> with 1458 nonzero entries (27% dense)}\n",
      "{'drop_undefined_samples': False, 'table': 877 x 6 <class 'biom.table.Table'> with 1458 nonzero entries (27% dense)}\n"
     ]
    },
    {
     "name": "stdout",
     "output_type": "stream",
     "text": [
      "{'sampling_depth': 164361, 'with_replacement': False, 'table': 2210 x 38 <class 'biom.table.Table'> with 6010 nonzero entries (7% dense)}\n",
      "{'sampling_depth': 164361, 'with_replacement': False, 'table': 2210 x 38 <class 'biom.table.Table'> with 6010 nonzero entries (7% dense)}\n",
      "{'metric': 'observed_features', 'table': <artifact: FeatureTable[Frequency] uuid: 170f6ba5-772f-440a-a6ec-0281ec50ad54>}\n",
      "{'table': 873 x 6 <class 'biom.table.Table'> with 1454 nonzero entries (27% dense)}\n",
      "{'table': 873 x 6 <class 'biom.table.Table'> with 1454 nonzero entries (27% dense)}\n",
      "{'metric': 'shannon', 'table': <artifact: FeatureTable[Frequency] uuid: 170f6ba5-772f-440a-a6ec-0281ec50ad54>}\n",
      "{'drop_undefined_samples': False, 'table': 873 x 6 <class 'biom.table.Table'> with 1454 nonzero entries (27% dense)}\n",
      "{'drop_undefined_samples': False, 'table': 873 x 6 <class 'biom.table.Table'> with 1454 nonzero entries (27% dense)}\n",
      "{'sampling_depth': 164361, 'with_replacement': False, 'table': 2210 x 38 <class 'biom.table.Table'> with 6010 nonzero entries (7% dense)}\n",
      "{'sampling_depth': 164361, 'with_replacement': False, 'table': 2210 x 38 <class 'biom.table.Table'> with 6010 nonzero entries (7% dense)}\n"
     ]
    },
    {
     "name": "stdout",
     "output_type": "stream",
     "text": [
      "{'metric': 'observed_features', 'table': <artifact: FeatureTable[Frequency] uuid: 15f64c98-7d49-4bdd-97c1-48a24ea28dbf>}\n",
      "{'table': 878 x 6 <class 'biom.table.Table'> with 1460 nonzero entries (27% dense)}\n",
      "{'table': 878 x 6 <class 'biom.table.Table'> with 1460 nonzero entries (27% dense)}\n",
      "{'metric': 'shannon', 'table': <artifact: FeatureTable[Frequency] uuid: 15f64c98-7d49-4bdd-97c1-48a24ea28dbf>}\n",
      "{'drop_undefined_samples': False, 'table': 878 x 6 <class 'biom.table.Table'> with 1460 nonzero entries (27% dense)}\n",
      "{'drop_undefined_samples': False, 'table': 878 x 6 <class 'biom.table.Table'> with 1460 nonzero entries (27% dense)}\n",
      "{'sampling_depth': 164361, 'with_replacement': False, 'table': 2210 x 38 <class 'biom.table.Table'> with 6010 nonzero entries (7% dense)}\n",
      "{'sampling_depth': 164361, 'with_replacement': False, 'table': 2210 x 38 <class 'biom.table.Table'> with 6010 nonzero entries (7% dense)}\n",
      "{'metric': 'observed_features', 'table': <artifact: FeatureTable[Frequency] uuid: e5e29d44-8d8d-444b-ad00-2938e49c7790>}\n",
      "{'table': 868 x 6 <class 'biom.table.Table'> with 1450 nonzero entries (27% dense)}\n",
      "{'table': 868 x 6 <class 'biom.table.Table'> with 1450 nonzero entries (27% dense)}\n"
     ]
    },
    {
     "name": "stdout",
     "output_type": "stream",
     "text": [
      "{'metric': 'shannon', 'table': <artifact: FeatureTable[Frequency] uuid: e5e29d44-8d8d-444b-ad00-2938e49c7790>}\n",
      "{'drop_undefined_samples': False, 'table': 868 x 6 <class 'biom.table.Table'> with 1450 nonzero entries (27% dense)}\n",
      "{'drop_undefined_samples': False, 'table': 868 x 6 <class 'biom.table.Table'> with 1450 nonzero entries (27% dense)}\n",
      "{'sampling_depth': 191755, 'with_replacement': False, 'table': 2210 x 38 <class 'biom.table.Table'> with 6010 nonzero entries (7% dense)}\n",
      "{'sampling_depth': 191755, 'with_replacement': False, 'table': 2210 x 38 <class 'biom.table.Table'> with 6010 nonzero entries (7% dense)}\n",
      "{'metric': 'observed_features', 'table': <artifact: FeatureTable[Frequency] uuid: 4d13f490-e9af-43dc-b1a1-9845180c96e6>}\n",
      "{'table': 881 x 6 <class 'biom.table.Table'> with 1462 nonzero entries (27% dense)}\n",
      "{'table': 881 x 6 <class 'biom.table.Table'> with 1462 nonzero entries (27% dense)}\n",
      "{'metric': 'shannon', 'table': <artifact: FeatureTable[Frequency] uuid: 4d13f490-e9af-43dc-b1a1-9845180c96e6>}\n",
      "{'drop_undefined_samples': False, 'table': 881 x 6 <class 'biom.table.Table'> with 1462 nonzero entries (27% dense)}\n",
      "{'drop_undefined_samples': False, 'table': 881 x 6 <class 'biom.table.Table'> with 1462 nonzero entries (27% dense)}\n"
     ]
    },
    {
     "name": "stdout",
     "output_type": "stream",
     "text": [
      "{'sampling_depth': 191755, 'with_replacement': False, 'table': 2210 x 38 <class 'biom.table.Table'> with 6010 nonzero entries (7% dense)}\n",
      "{'sampling_depth': 191755, 'with_replacement': False, 'table': 2210 x 38 <class 'biom.table.Table'> with 6010 nonzero entries (7% dense)}\n",
      "{'metric': 'observed_features', 'table': <artifact: FeatureTable[Frequency] uuid: aad0a40d-901e-4c45-856b-3690418e6916>}\n",
      "{'table': 879 x 6 <class 'biom.table.Table'> with 1461 nonzero entries (27% dense)}\n",
      "{'table': 879 x 6 <class 'biom.table.Table'> with 1461 nonzero entries (27% dense)}\n",
      "{'metric': 'shannon', 'table': <artifact: FeatureTable[Frequency] uuid: aad0a40d-901e-4c45-856b-3690418e6916>}\n",
      "{'drop_undefined_samples': False, 'table': 879 x 6 <class 'biom.table.Table'> with 1461 nonzero entries (27% dense)}\n",
      "{'drop_undefined_samples': False, 'table': 879 x 6 <class 'biom.table.Table'> with 1461 nonzero entries (27% dense)}\n",
      "{'sampling_depth': 191755, 'with_replacement': False, 'table': 2210 x 38 <class 'biom.table.Table'> with 6010 nonzero entries (7% dense)}\n",
      "{'sampling_depth': 191755, 'with_replacement': False, 'table': 2210 x 38 <class 'biom.table.Table'> with 6010 nonzero entries (7% dense)}\n"
     ]
    },
    {
     "name": "stdout",
     "output_type": "stream",
     "text": [
      "{'metric': 'observed_features', 'table': <artifact: FeatureTable[Frequency] uuid: efef26f0-24a3-4259-bc8c-573c2398014a>}\n",
      "{'table': 880 x 6 <class 'biom.table.Table'> with 1462 nonzero entries (27% dense)}\n",
      "{'table': 880 x 6 <class 'biom.table.Table'> with 1462 nonzero entries (27% dense)}\n",
      "{'metric': 'shannon', 'table': <artifact: FeatureTable[Frequency] uuid: efef26f0-24a3-4259-bc8c-573c2398014a>}\n",
      "{'drop_undefined_samples': False, 'table': 880 x 6 <class 'biom.table.Table'> with 1462 nonzero entries (27% dense)}\n",
      "{'drop_undefined_samples': False, 'table': 880 x 6 <class 'biom.table.Table'> with 1462 nonzero entries (27% dense)}\n",
      "{'sampling_depth': 191755, 'with_replacement': False, 'table': 2210 x 38 <class 'biom.table.Table'> with 6010 nonzero entries (7% dense)}\n",
      "{'sampling_depth': 191755, 'with_replacement': False, 'table': 2210 x 38 <class 'biom.table.Table'> with 6010 nonzero entries (7% dense)}\n",
      "{'metric': 'observed_features', 'table': <artifact: FeatureTable[Frequency] uuid: a2571286-be5a-4cf9-8f6f-be98cadde1b9>}\n",
      "{'table': 878 x 6 <class 'biom.table.Table'> with 1460 nonzero entries (27% dense)}\n",
      "{'table': 878 x 6 <class 'biom.table.Table'> with 1460 nonzero entries (27% dense)}\n"
     ]
    },
    {
     "name": "stdout",
     "output_type": "stream",
     "text": [
      "{'metric': 'shannon', 'table': <artifact: FeatureTable[Frequency] uuid: a2571286-be5a-4cf9-8f6f-be98cadde1b9>}\n",
      "{'drop_undefined_samples': False, 'table': 878 x 6 <class 'biom.table.Table'> with 1460 nonzero entries (27% dense)}\n",
      "{'drop_undefined_samples': False, 'table': 878 x 6 <class 'biom.table.Table'> with 1460 nonzero entries (27% dense)}\n",
      "{'sampling_depth': 191755, 'with_replacement': False, 'table': 2210 x 38 <class 'biom.table.Table'> with 6010 nonzero entries (7% dense)}\n",
      "{'sampling_depth': 191755, 'with_replacement': False, 'table': 2210 x 38 <class 'biom.table.Table'> with 6010 nonzero entries (7% dense)}\n",
      "{'metric': 'observed_features', 'table': <artifact: FeatureTable[Frequency] uuid: 9bf45479-3113-4d88-bd93-7d561bcf8dcc>}\n",
      "{'table': 880 x 6 <class 'biom.table.Table'> with 1462 nonzero entries (27% dense)}\n",
      "{'table': 880 x 6 <class 'biom.table.Table'> with 1462 nonzero entries (27% dense)}\n",
      "{'metric': 'shannon', 'table': <artifact: FeatureTable[Frequency] uuid: 9bf45479-3113-4d88-bd93-7d561bcf8dcc>}\n",
      "{'drop_undefined_samples': False, 'table': 880 x 6 <class 'biom.table.Table'> with 1462 nonzero entries (27% dense)}\n",
      "{'drop_undefined_samples': False, 'table': 880 x 6 <class 'biom.table.Table'> with 1462 nonzero entries (27% dense)}\n"
     ]
    },
    {
     "name": "stdout",
     "output_type": "stream",
     "text": [
      "{'sampling_depth': 191755, 'with_replacement': False, 'table': 2210 x 38 <class 'biom.table.Table'> with 6010 nonzero entries (7% dense)}\n",
      "{'sampling_depth': 191755, 'with_replacement': False, 'table': 2210 x 38 <class 'biom.table.Table'> with 6010 nonzero entries (7% dense)}\n",
      "{'metric': 'observed_features', 'table': <artifact: FeatureTable[Frequency] uuid: 1a7ffdce-2d07-4e9a-9a69-a33c4e01da53>}\n",
      "{'table': 878 x 6 <class 'biom.table.Table'> with 1460 nonzero entries (27% dense)}\n",
      "{'table': 878 x 6 <class 'biom.table.Table'> with 1460 nonzero entries (27% dense)}\n",
      "{'metric': 'shannon', 'table': <artifact: FeatureTable[Frequency] uuid: 1a7ffdce-2d07-4e9a-9a69-a33c4e01da53>}\n",
      "{'drop_undefined_samples': False, 'table': 878 x 6 <class 'biom.table.Table'> with 1460 nonzero entries (27% dense)}\n",
      "{'drop_undefined_samples': False, 'table': 878 x 6 <class 'biom.table.Table'> with 1460 nonzero entries (27% dense)}\n",
      "{'sampling_depth': 191755, 'with_replacement': False, 'table': 2210 x 38 <class 'biom.table.Table'> with 6010 nonzero entries (7% dense)}\n",
      "{'sampling_depth': 191755, 'with_replacement': False, 'table': 2210 x 38 <class 'biom.table.Table'> with 6010 nonzero entries (7% dense)}\n"
     ]
    },
    {
     "name": "stdout",
     "output_type": "stream",
     "text": [
      "{'metric': 'observed_features', 'table': <artifact: FeatureTable[Frequency] uuid: 318b7b3b-23a4-4adf-a957-b40d741736dc>}\n",
      "{'table': 878 x 6 <class 'biom.table.Table'> with 1460 nonzero entries (27% dense)}\n",
      "{'table': 878 x 6 <class 'biom.table.Table'> with 1460 nonzero entries (27% dense)}\n",
      "{'metric': 'shannon', 'table': <artifact: FeatureTable[Frequency] uuid: 318b7b3b-23a4-4adf-a957-b40d741736dc>}\n",
      "{'drop_undefined_samples': False, 'table': 878 x 6 <class 'biom.table.Table'> with 1460 nonzero entries (27% dense)}\n",
      "{'drop_undefined_samples': False, 'table': 878 x 6 <class 'biom.table.Table'> with 1460 nonzero entries (27% dense)}\n",
      "{'sampling_depth': 191755, 'with_replacement': False, 'table': 2210 x 38 <class 'biom.table.Table'> with 6010 nonzero entries (7% dense)}\n",
      "{'sampling_depth': 191755, 'with_replacement': False, 'table': 2210 x 38 <class 'biom.table.Table'> with 6010 nonzero entries (7% dense)}\n"
     ]
    },
    {
     "name": "stdout",
     "output_type": "stream",
     "text": [
      "{'metric': 'observed_features', 'table': <artifact: FeatureTable[Frequency] uuid: 892d51de-2423-401c-82fb-6b66f13a3050>}\n",
      "{'table': 881 x 6 <class 'biom.table.Table'> with 1463 nonzero entries (27% dense)}\n",
      "{'table': 881 x 6 <class 'biom.table.Table'> with 1463 nonzero entries (27% dense)}\n",
      "{'metric': 'shannon', 'table': <artifact: FeatureTable[Frequency] uuid: 892d51de-2423-401c-82fb-6b66f13a3050>}\n",
      "{'drop_undefined_samples': False, 'table': 881 x 6 <class 'biom.table.Table'> with 1463 nonzero entries (27% dense)}\n",
      "{'drop_undefined_samples': False, 'table': 881 x 6 <class 'biom.table.Table'> with 1463 nonzero entries (27% dense)}\n",
      "{'sampling_depth': 191755, 'with_replacement': False, 'table': 2210 x 38 <class 'biom.table.Table'> with 6010 nonzero entries (7% dense)}\n",
      "{'sampling_depth': 191755, 'with_replacement': False, 'table': 2210 x 38 <class 'biom.table.Table'> with 6010 nonzero entries (7% dense)}\n",
      "{'metric': 'observed_features', 'table': <artifact: FeatureTable[Frequency] uuid: abfc7ccc-35c4-4cd9-82a6-38b30c8381a7>}\n",
      "{'table': 876 x 6 <class 'biom.table.Table'> with 1458 nonzero entries (27% dense)}\n",
      "{'table': 876 x 6 <class 'biom.table.Table'> with 1458 nonzero entries (27% dense)}\n"
     ]
    },
    {
     "name": "stdout",
     "output_type": "stream",
     "text": [
      "{'metric': 'shannon', 'table': <artifact: FeatureTable[Frequency] uuid: abfc7ccc-35c4-4cd9-82a6-38b30c8381a7>}\n",
      "{'drop_undefined_samples': False, 'table': 876 x 6 <class 'biom.table.Table'> with 1458 nonzero entries (27% dense)}\n",
      "{'drop_undefined_samples': False, 'table': 876 x 6 <class 'biom.table.Table'> with 1458 nonzero entries (27% dense)}\n",
      "{'sampling_depth': 191755, 'with_replacement': False, 'table': 2210 x 38 <class 'biom.table.Table'> with 6010 nonzero entries (7% dense)}\n",
      "{'sampling_depth': 191755, 'with_replacement': False, 'table': 2210 x 38 <class 'biom.table.Table'> with 6010 nonzero entries (7% dense)}\n",
      "{'metric': 'observed_features', 'table': <artifact: FeatureTable[Frequency] uuid: 256eb81b-f8cf-486e-89b0-0cd862f66a1d>}\n",
      "{'table': 875 x 6 <class 'biom.table.Table'> with 1456 nonzero entries (27% dense)}\n",
      "{'table': 875 x 6 <class 'biom.table.Table'> with 1456 nonzero entries (27% dense)}\n"
     ]
    },
    {
     "name": "stdout",
     "output_type": "stream",
     "text": [
      "{'metric': 'shannon', 'table': <artifact: FeatureTable[Frequency] uuid: 256eb81b-f8cf-486e-89b0-0cd862f66a1d>}\n",
      "{'drop_undefined_samples': False, 'table': 875 x 6 <class 'biom.table.Table'> with 1456 nonzero entries (27% dense)}\n",
      "{'drop_undefined_samples': False, 'table': 875 x 6 <class 'biom.table.Table'> with 1456 nonzero entries (27% dense)}\n",
      "{'sampling_depth': 219148, 'with_replacement': False, 'table': 2210 x 38 <class 'biom.table.Table'> with 6010 nonzero entries (7% dense)}\n",
      "{'sampling_depth': 219148, 'with_replacement': False, 'table': 2210 x 38 <class 'biom.table.Table'> with 6010 nonzero entries (7% dense)}\n",
      "{'metric': 'observed_features', 'table': <artifact: FeatureTable[Frequency] uuid: 7dbd4ce3-c862-418e-b6b4-8b7b73a4e1ba>}\n",
      "{'table': 626 x 3 <class 'biom.table.Table'> with 810 nonzero entries (43% dense)}\n",
      "{'table': 626 x 3 <class 'biom.table.Table'> with 810 nonzero entries (43% dense)}\n",
      "{'metric': 'shannon', 'table': <artifact: FeatureTable[Frequency] uuid: 7dbd4ce3-c862-418e-b6b4-8b7b73a4e1ba>}\n"
     ]
    },
    {
     "name": "stdout",
     "output_type": "stream",
     "text": [
      "{'drop_undefined_samples': False, 'table': 626 x 3 <class 'biom.table.Table'> with 810 nonzero entries (43% dense)}\n",
      "{'drop_undefined_samples': False, 'table': 626 x 3 <class 'biom.table.Table'> with 810 nonzero entries (43% dense)}\n",
      "{'sampling_depth': 219148, 'with_replacement': False, 'table': 2210 x 38 <class 'biom.table.Table'> with 6010 nonzero entries (7% dense)}\n",
      "{'sampling_depth': 219148, 'with_replacement': False, 'table': 2210 x 38 <class 'biom.table.Table'> with 6010 nonzero entries (7% dense)}\n",
      "{'metric': 'observed_features', 'table': <artifact: FeatureTable[Frequency] uuid: 7096ea2d-3324-453c-9a7e-90e281ba9dd7>}\n",
      "{'table': 625 x 3 <class 'biom.table.Table'> with 809 nonzero entries (43% dense)}\n",
      "{'table': 625 x 3 <class 'biom.table.Table'> with 809 nonzero entries (43% dense)}\n",
      "{'metric': 'shannon', 'table': <artifact: FeatureTable[Frequency] uuid: 7096ea2d-3324-453c-9a7e-90e281ba9dd7>}\n",
      "{'drop_undefined_samples': False, 'table': 625 x 3 <class 'biom.table.Table'> with 809 nonzero entries (43% dense)}\n",
      "{'drop_undefined_samples': False, 'table': 625 x 3 <class 'biom.table.Table'> with 809 nonzero entries (43% dense)}\n"
     ]
    },
    {
     "name": "stdout",
     "output_type": "stream",
     "text": [
      "{'sampling_depth': 219148, 'with_replacement': False, 'table': 2210 x 38 <class 'biom.table.Table'> with 6010 nonzero entries (7% dense)}\n",
      "{'sampling_depth': 219148, 'with_replacement': False, 'table': 2210 x 38 <class 'biom.table.Table'> with 6010 nonzero entries (7% dense)}\n",
      "{'metric': 'observed_features', 'table': <artifact: FeatureTable[Frequency] uuid: 2e674352-bca3-4c8d-a139-d3f89db9e54e>}\n",
      "{'table': 623 x 3 <class 'biom.table.Table'> with 807 nonzero entries (43% dense)}\n",
      "{'table': 623 x 3 <class 'biom.table.Table'> with 807 nonzero entries (43% dense)}\n",
      "{'metric': 'shannon', 'table': <artifact: FeatureTable[Frequency] uuid: 2e674352-bca3-4c8d-a139-d3f89db9e54e>}\n",
      "{'drop_undefined_samples': False, 'table': 623 x 3 <class 'biom.table.Table'> with 807 nonzero entries (43% dense)}\n",
      "{'drop_undefined_samples': False, 'table': 623 x 3 <class 'biom.table.Table'> with 807 nonzero entries (43% dense)}\n",
      "{'sampling_depth': 219148, 'with_replacement': False, 'table': 2210 x 38 <class 'biom.table.Table'> with 6010 nonzero entries (7% dense)}\n",
      "{'sampling_depth': 219148, 'with_replacement': False, 'table': 2210 x 38 <class 'biom.table.Table'> with 6010 nonzero entries (7% dense)}\n"
     ]
    },
    {
     "name": "stdout",
     "output_type": "stream",
     "text": [
      "{'metric': 'observed_features', 'table': <artifact: FeatureTable[Frequency] uuid: d512fea2-4807-4aa8-a810-847186608ef5>}\n",
      "{'table': 625 x 3 <class 'biom.table.Table'> with 809 nonzero entries (43% dense)}\n",
      "{'table': 625 x 3 <class 'biom.table.Table'> with 809 nonzero entries (43% dense)}\n",
      "{'metric': 'shannon', 'table': <artifact: FeatureTable[Frequency] uuid: d512fea2-4807-4aa8-a810-847186608ef5>}\n",
      "{'drop_undefined_samples': False, 'table': 625 x 3 <class 'biom.table.Table'> with 809 nonzero entries (43% dense)}\n",
      "{'drop_undefined_samples': False, 'table': 625 x 3 <class 'biom.table.Table'> with 809 nonzero entries (43% dense)}\n",
      "{'sampling_depth': 219148, 'with_replacement': False, 'table': 2210 x 38 <class 'biom.table.Table'> with 6010 nonzero entries (7% dense)}\n",
      "{'sampling_depth': 219148, 'with_replacement': False, 'table': 2210 x 38 <class 'biom.table.Table'> with 6010 nonzero entries (7% dense)}\n"
     ]
    },
    {
     "name": "stdout",
     "output_type": "stream",
     "text": [
      "{'metric': 'observed_features', 'table': <artifact: FeatureTable[Frequency] uuid: a2557769-c57b-4843-b6ce-87fd1bf7bdbd>}\n",
      "{'table': 625 x 3 <class 'biom.table.Table'> with 809 nonzero entries (43% dense)}\n",
      "{'table': 625 x 3 <class 'biom.table.Table'> with 809 nonzero entries (43% dense)}\n",
      "{'metric': 'shannon', 'table': <artifact: FeatureTable[Frequency] uuid: a2557769-c57b-4843-b6ce-87fd1bf7bdbd>}\n",
      "{'drop_undefined_samples': False, 'table': 625 x 3 <class 'biom.table.Table'> with 809 nonzero entries (43% dense)}\n",
      "{'drop_undefined_samples': False, 'table': 625 x 3 <class 'biom.table.Table'> with 809 nonzero entries (43% dense)}\n",
      "{'sampling_depth': 219148, 'with_replacement': False, 'table': 2210 x 38 <class 'biom.table.Table'> with 6010 nonzero entries (7% dense)}\n",
      "{'sampling_depth': 219148, 'with_replacement': False, 'table': 2210 x 38 <class 'biom.table.Table'> with 6010 nonzero entries (7% dense)}\n",
      "{'metric': 'observed_features', 'table': <artifact: FeatureTable[Frequency] uuid: 0080c96c-0d50-4ae1-8d2c-8e065b21e3a6>}\n"
     ]
    },
    {
     "name": "stdout",
     "output_type": "stream",
     "text": [
      "{'table': 626 x 3 <class 'biom.table.Table'> with 810 nonzero entries (43% dense)}\n",
      "{'table': 626 x 3 <class 'biom.table.Table'> with 810 nonzero entries (43% dense)}\n",
      "{'metric': 'shannon', 'table': <artifact: FeatureTable[Frequency] uuid: 0080c96c-0d50-4ae1-8d2c-8e065b21e3a6>}\n",
      "{'drop_undefined_samples': False, 'table': 626 x 3 <class 'biom.table.Table'> with 810 nonzero entries (43% dense)}\n",
      "{'drop_undefined_samples': False, 'table': 626 x 3 <class 'biom.table.Table'> with 810 nonzero entries (43% dense)}\n",
      "{'sampling_depth': 219148, 'with_replacement': False, 'table': 2210 x 38 <class 'biom.table.Table'> with 6010 nonzero entries (7% dense)}\n",
      "{'sampling_depth': 219148, 'with_replacement': False, 'table': 2210 x 38 <class 'biom.table.Table'> with 6010 nonzero entries (7% dense)}\n",
      "{'metric': 'observed_features', 'table': <artifact: FeatureTable[Frequency] uuid: 6e634ae2-23d0-4334-baa9-8ad35c66c3dd>}\n",
      "{'table': 622 x 3 <class 'biom.table.Table'> with 806 nonzero entries (43% dense)}\n",
      "{'table': 622 x 3 <class 'biom.table.Table'> with 806 nonzero entries (43% dense)}\n"
     ]
    },
    {
     "name": "stdout",
     "output_type": "stream",
     "text": [
      "{'metric': 'shannon', 'table': <artifact: FeatureTable[Frequency] uuid: 6e634ae2-23d0-4334-baa9-8ad35c66c3dd>}\n",
      "{'drop_undefined_samples': False, 'table': 622 x 3 <class 'biom.table.Table'> with 806 nonzero entries (43% dense)}\n",
      "{'drop_undefined_samples': False, 'table': 622 x 3 <class 'biom.table.Table'> with 806 nonzero entries (43% dense)}\n",
      "{'sampling_depth': 219148, 'with_replacement': False, 'table': 2210 x 38 <class 'biom.table.Table'> with 6010 nonzero entries (7% dense)}\n",
      "{'sampling_depth': 219148, 'with_replacement': False, 'table': 2210 x 38 <class 'biom.table.Table'> with 6010 nonzero entries (7% dense)}\n",
      "{'metric': 'observed_features', 'table': <artifact: FeatureTable[Frequency] uuid: 79700c3a-f962-4149-a2d1-a652575a57ca>}\n",
      "{'table': 625 x 3 <class 'biom.table.Table'> with 809 nonzero entries (43% dense)}\n",
      "{'table': 625 x 3 <class 'biom.table.Table'> with 809 nonzero entries (43% dense)}\n"
     ]
    },
    {
     "name": "stdout",
     "output_type": "stream",
     "text": [
      "{'metric': 'shannon', 'table': <artifact: FeatureTable[Frequency] uuid: 79700c3a-f962-4149-a2d1-a652575a57ca>}\n",
      "{'drop_undefined_samples': False, 'table': 625 x 3 <class 'biom.table.Table'> with 809 nonzero entries (43% dense)}\n",
      "{'drop_undefined_samples': False, 'table': 625 x 3 <class 'biom.table.Table'> with 809 nonzero entries (43% dense)}\n",
      "{'sampling_depth': 219148, 'with_replacement': False, 'table': 2210 x 38 <class 'biom.table.Table'> with 6010 nonzero entries (7% dense)}\n",
      "{'sampling_depth': 219148, 'with_replacement': False, 'table': 2210 x 38 <class 'biom.table.Table'> with 6010 nonzero entries (7% dense)}\n",
      "{'metric': 'observed_features', 'table': <artifact: FeatureTable[Frequency] uuid: 42975a8a-5466-4a48-a3ca-a7c9955c751b>}\n",
      "{'table': 622 x 3 <class 'biom.table.Table'> with 806 nonzero entries (43% dense)}\n",
      "{'table': 622 x 3 <class 'biom.table.Table'> with 806 nonzero entries (43% dense)}\n",
      "{'metric': 'shannon', 'table': <artifact: FeatureTable[Frequency] uuid: 42975a8a-5466-4a48-a3ca-a7c9955c751b>}\n"
     ]
    },
    {
     "name": "stdout",
     "output_type": "stream",
     "text": [
      "{'drop_undefined_samples': False, 'table': 622 x 3 <class 'biom.table.Table'> with 806 nonzero entries (43% dense)}\n",
      "{'drop_undefined_samples': False, 'table': 622 x 3 <class 'biom.table.Table'> with 806 nonzero entries (43% dense)}\n",
      "{'sampling_depth': 219148, 'with_replacement': False, 'table': 2210 x 38 <class 'biom.table.Table'> with 6010 nonzero entries (7% dense)}\n",
      "{'sampling_depth': 219148, 'with_replacement': False, 'table': 2210 x 38 <class 'biom.table.Table'> with 6010 nonzero entries (7% dense)}\n",
      "{'metric': 'observed_features', 'table': <artifact: FeatureTable[Frequency] uuid: 996249f2-50b4-4d8e-af87-5308fe664d9f>}\n",
      "{'table': 622 x 3 <class 'biom.table.Table'> with 806 nonzero entries (43% dense)}\n",
      "{'table': 622 x 3 <class 'biom.table.Table'> with 806 nonzero entries (43% dense)}\n",
      "{'metric': 'shannon', 'table': <artifact: FeatureTable[Frequency] uuid: 996249f2-50b4-4d8e-af87-5308fe664d9f>}\n",
      "{'drop_undefined_samples': False, 'table': 622 x 3 <class 'biom.table.Table'> with 806 nonzero entries (43% dense)}\n",
      "{'drop_undefined_samples': False, 'table': 622 x 3 <class 'biom.table.Table'> with 806 nonzero entries (43% dense)}\n"
     ]
    },
    {
     "name": "stdout",
     "output_type": "stream",
     "text": [
      "{'sampling_depth': 246542, 'with_replacement': False, 'table': 2210 x 38 <class 'biom.table.Table'> with 6010 nonzero entries (7% dense)}\n",
      "{'sampling_depth': 246542, 'with_replacement': False, 'table': 2210 x 38 <class 'biom.table.Table'> with 6010 nonzero entries (7% dense)}\n",
      "{'metric': 'observed_features', 'table': <artifact: FeatureTable[Frequency] uuid: fc137b4d-fa4b-454e-b2da-7cd376eb1517>}\n",
      "{'table': 275 x 1 <class 'biom.table.Table'> with 275 nonzero entries (100% dense)}\n",
      "{'table': 275 x 1 <class 'biom.table.Table'> with 275 nonzero entries (100% dense)}\n",
      "{'metric': 'shannon', 'table': <artifact: FeatureTable[Frequency] uuid: fc137b4d-fa4b-454e-b2da-7cd376eb1517>}\n",
      "{'drop_undefined_samples': False, 'table': 275 x 1 <class 'biom.table.Table'> with 275 nonzero entries (100% dense)}\n",
      "{'drop_undefined_samples': False, 'table': 275 x 1 <class 'biom.table.Table'> with 275 nonzero entries (100% dense)}\n",
      "{'sampling_depth': 246542, 'with_replacement': False, 'table': 2210 x 38 <class 'biom.table.Table'> with 6010 nonzero entries (7% dense)}\n",
      "{'sampling_depth': 246542, 'with_replacement': False, 'table': 2210 x 38 <class 'biom.table.Table'> with 6010 nonzero entries (7% dense)}\n"
     ]
    },
    {
     "name": "stdout",
     "output_type": "stream",
     "text": [
      "{'metric': 'observed_features', 'table': <artifact: FeatureTable[Frequency] uuid: 0fd94598-e8df-4099-82e1-ee367a673cde>}\n",
      "{'table': 275 x 1 <class 'biom.table.Table'> with 275 nonzero entries (100% dense)}\n",
      "{'table': 275 x 1 <class 'biom.table.Table'> with 275 nonzero entries (100% dense)}\n",
      "{'metric': 'shannon', 'table': <artifact: FeatureTable[Frequency] uuid: 0fd94598-e8df-4099-82e1-ee367a673cde>}\n",
      "{'drop_undefined_samples': False, 'table': 275 x 1 <class 'biom.table.Table'> with 275 nonzero entries (100% dense)}\n",
      "{'drop_undefined_samples': False, 'table': 275 x 1 <class 'biom.table.Table'> with 275 nonzero entries (100% dense)}\n",
      "{'sampling_depth': 246542, 'with_replacement': False, 'table': 2210 x 38 <class 'biom.table.Table'> with 6010 nonzero entries (7% dense)}\n",
      "{'sampling_depth': 246542, 'with_replacement': False, 'table': 2210 x 38 <class 'biom.table.Table'> with 6010 nonzero entries (7% dense)}\n",
      "{'metric': 'observed_features', 'table': <artifact: FeatureTable[Frequency] uuid: 46bf1f54-f029-4509-8258-06c17275d69d>}\n",
      "{'table': 275 x 1 <class 'biom.table.Table'> with 275 nonzero entries (100% dense)}\n",
      "{'table': 275 x 1 <class 'biom.table.Table'> with 275 nonzero entries (100% dense)}\n"
     ]
    },
    {
     "name": "stdout",
     "output_type": "stream",
     "text": [
      "{'metric': 'shannon', 'table': <artifact: FeatureTable[Frequency] uuid: 46bf1f54-f029-4509-8258-06c17275d69d>}\n",
      "{'drop_undefined_samples': False, 'table': 275 x 1 <class 'biom.table.Table'> with 275 nonzero entries (100% dense)}\n",
      "{'drop_undefined_samples': False, 'table': 275 x 1 <class 'biom.table.Table'> with 275 nonzero entries (100% dense)}\n",
      "{'sampling_depth': 246542, 'with_replacement': False, 'table': 2210 x 38 <class 'biom.table.Table'> with 6010 nonzero entries (7% dense)}\n",
      "{'sampling_depth': 246542, 'with_replacement': False, 'table': 2210 x 38 <class 'biom.table.Table'> with 6010 nonzero entries (7% dense)}\n",
      "{'metric': 'observed_features', 'table': <artifact: FeatureTable[Frequency] uuid: 26b19c3e-17de-481f-a33c-f0cf365cc6bd>}\n",
      "{'table': 275 x 1 <class 'biom.table.Table'> with 275 nonzero entries (100% dense)}\n",
      "{'table': 275 x 1 <class 'biom.table.Table'> with 275 nonzero entries (100% dense)}\n",
      "{'metric': 'shannon', 'table': <artifact: FeatureTable[Frequency] uuid: 26b19c3e-17de-481f-a33c-f0cf365cc6bd>}\n",
      "{'drop_undefined_samples': False, 'table': 275 x 1 <class 'biom.table.Table'> with 275 nonzero entries (100% dense)}\n",
      "{'drop_undefined_samples': False, 'table': 275 x 1 <class 'biom.table.Table'> with 275 nonzero entries (100% dense)}\n"
     ]
    },
    {
     "name": "stdout",
     "output_type": "stream",
     "text": [
      "{'sampling_depth': 246542, 'with_replacement': False, 'table': 2210 x 38 <class 'biom.table.Table'> with 6010 nonzero entries (7% dense)}\n",
      "{'sampling_depth': 246542, 'with_replacement': False, 'table': 2210 x 38 <class 'biom.table.Table'> with 6010 nonzero entries (7% dense)}\n",
      "{'metric': 'observed_features', 'table': <artifact: FeatureTable[Frequency] uuid: f34c7cd8-6d90-47da-a83e-d363d99c2e0f>}\n",
      "{'table': 275 x 1 <class 'biom.table.Table'> with 275 nonzero entries (100% dense)}\n",
      "{'table': 275 x 1 <class 'biom.table.Table'> with 275 nonzero entries (100% dense)}\n",
      "{'metric': 'shannon', 'table': <artifact: FeatureTable[Frequency] uuid: f34c7cd8-6d90-47da-a83e-d363d99c2e0f>}\n",
      "{'drop_undefined_samples': False, 'table': 275 x 1 <class 'biom.table.Table'> with 275 nonzero entries (100% dense)}\n",
      "{'drop_undefined_samples': False, 'table': 275 x 1 <class 'biom.table.Table'> with 275 nonzero entries (100% dense)}\n",
      "{'sampling_depth': 246542, 'with_replacement': False, 'table': 2210 x 38 <class 'biom.table.Table'> with 6010 nonzero entries (7% dense)}\n",
      "{'sampling_depth': 246542, 'with_replacement': False, 'table': 2210 x 38 <class 'biom.table.Table'> with 6010 nonzero entries (7% dense)}\n"
     ]
    },
    {
     "name": "stdout",
     "output_type": "stream",
     "text": [
      "{'metric': 'observed_features', 'table': <artifact: FeatureTable[Frequency] uuid: 72c51ea4-ff22-4f9d-af21-535d5f2b3e65>}\n",
      "{'table': 275 x 1 <class 'biom.table.Table'> with 275 nonzero entries (100% dense)}\n",
      "{'table': 275 x 1 <class 'biom.table.Table'> with 275 nonzero entries (100% dense)}\n",
      "{'metric': 'shannon', 'table': <artifact: FeatureTable[Frequency] uuid: 72c51ea4-ff22-4f9d-af21-535d5f2b3e65>}\n",
      "{'drop_undefined_samples': False, 'table': 275 x 1 <class 'biom.table.Table'> with 275 nonzero entries (100% dense)}\n",
      "{'drop_undefined_samples': False, 'table': 275 x 1 <class 'biom.table.Table'> with 275 nonzero entries (100% dense)}\n",
      "{'sampling_depth': 246542, 'with_replacement': False, 'table': 2210 x 38 <class 'biom.table.Table'> with 6010 nonzero entries (7% dense)}\n",
      "{'sampling_depth': 246542, 'with_replacement': False, 'table': 2210 x 38 <class 'biom.table.Table'> with 6010 nonzero entries (7% dense)}\n",
      "{'metric': 'observed_features', 'table': <artifact: FeatureTable[Frequency] uuid: d8d70cc9-e055-4187-b14c-757a97b85f5e>}\n",
      "{'table': 275 x 1 <class 'biom.table.Table'> with 275 nonzero entries (100% dense)}\n",
      "{'table': 275 x 1 <class 'biom.table.Table'> with 275 nonzero entries (100% dense)}\n"
     ]
    },
    {
     "name": "stdout",
     "output_type": "stream",
     "text": [
      "{'metric': 'shannon', 'table': <artifact: FeatureTable[Frequency] uuid: d8d70cc9-e055-4187-b14c-757a97b85f5e>}\n",
      "{'drop_undefined_samples': False, 'table': 275 x 1 <class 'biom.table.Table'> with 275 nonzero entries (100% dense)}\n",
      "{'drop_undefined_samples': False, 'table': 275 x 1 <class 'biom.table.Table'> with 275 nonzero entries (100% dense)}\n",
      "{'sampling_depth': 246542, 'with_replacement': False, 'table': 2210 x 38 <class 'biom.table.Table'> with 6010 nonzero entries (7% dense)}\n",
      "{'sampling_depth': 246542, 'with_replacement': False, 'table': 2210 x 38 <class 'biom.table.Table'> with 6010 nonzero entries (7% dense)}\n",
      "{'metric': 'observed_features', 'table': <artifact: FeatureTable[Frequency] uuid: fe17f8f9-b542-4f58-98aa-188bb27c53ed>}\n",
      "{'table': 275 x 1 <class 'biom.table.Table'> with 275 nonzero entries (100% dense)}\n",
      "{'table': 275 x 1 <class 'biom.table.Table'> with 275 nonzero entries (100% dense)}\n",
      "{'metric': 'shannon', 'table': <artifact: FeatureTable[Frequency] uuid: fe17f8f9-b542-4f58-98aa-188bb27c53ed>}\n",
      "{'drop_undefined_samples': False, 'table': 275 x 1 <class 'biom.table.Table'> with 275 nonzero entries (100% dense)}\n",
      "{'drop_undefined_samples': False, 'table': 275 x 1 <class 'biom.table.Table'> with 275 nonzero entries (100% dense)}\n"
     ]
    },
    {
     "name": "stdout",
     "output_type": "stream",
     "text": [
      "{'sampling_depth': 246542, 'with_replacement': False, 'table': 2210 x 38 <class 'biom.table.Table'> with 6010 nonzero entries (7% dense)}\n",
      "{'sampling_depth': 246542, 'with_replacement': False, 'table': 2210 x 38 <class 'biom.table.Table'> with 6010 nonzero entries (7% dense)}\n",
      "{'metric': 'observed_features', 'table': <artifact: FeatureTable[Frequency] uuid: 1758718f-5a53-4853-8380-a230c725ce39>}\n",
      "{'table': 275 x 1 <class 'biom.table.Table'> with 275 nonzero entries (100% dense)}\n",
      "{'table': 275 x 1 <class 'biom.table.Table'> with 275 nonzero entries (100% dense)}\n",
      "{'metric': 'shannon', 'table': <artifact: FeatureTable[Frequency] uuid: 1758718f-5a53-4853-8380-a230c725ce39>}\n",
      "{'drop_undefined_samples': False, 'table': 275 x 1 <class 'biom.table.Table'> with 275 nonzero entries (100% dense)}\n",
      "{'drop_undefined_samples': False, 'table': 275 x 1 <class 'biom.table.Table'> with 275 nonzero entries (100% dense)}\n",
      "{'sampling_depth': 246542, 'with_replacement': False, 'table': 2210 x 38 <class 'biom.table.Table'> with 6010 nonzero entries (7% dense)}\n",
      "{'sampling_depth': 246542, 'with_replacement': False, 'table': 2210 x 38 <class 'biom.table.Table'> with 6010 nonzero entries (7% dense)}\n",
      "{'metric': 'observed_features', 'table': <artifact: FeatureTable[Frequency] uuid: 8a823f51-a483-4486-896c-55dbe0802273>}\n"
     ]
    },
    {
     "name": "stdout",
     "output_type": "stream",
     "text": [
      "{'table': 275 x 1 <class 'biom.table.Table'> with 275 nonzero entries (100% dense)}\n",
      "{'table': 275 x 1 <class 'biom.table.Table'> with 275 nonzero entries (100% dense)}\n",
      "{'metric': 'shannon', 'table': <artifact: FeatureTable[Frequency] uuid: 8a823f51-a483-4486-896c-55dbe0802273>}\n",
      "{'drop_undefined_samples': False, 'table': 275 x 1 <class 'biom.table.Table'> with 275 nonzero entries (100% dense)}\n",
      "{'drop_undefined_samples': False, 'table': 275 x 1 <class 'biom.table.Table'> with 275 nonzero entries (100% dense)}\n"
     ]
    }
   ],
   "source": [
    "alpha_rar = alpha_rarefaction(\n",
    "    table = tabs,\n",
    "    max_depth = max_feature_count,\n",
    "    min_depth = 1,\n",
    "    metadata = metadata_qa,\n",
    ")"
   ]
  },
  {
   "cell_type": "code",
   "execution_count": 13,
   "id": "fdf6ceb5",
   "metadata": {
    "ExecuteTime": {
     "end_time": "2022-09-22T21:56:13.632468Z",
     "start_time": "2022-09-22T21:56:13.589032Z"
    },
    "execution": {
     "iopub.execute_input": "2023-09-05T19:18:06.907814Z",
     "iopub.status.busy": "2023-09-05T19:18:06.907569Z",
     "iopub.status.idle": "2023-09-05T19:18:06.955452Z",
     "shell.execute_reply": "2023-09-05T19:18:06.954110Z"
    },
    "papermill": {
     "duration": 0.08521,
     "end_time": "2023-09-05T19:18:06.958870",
     "exception": false,
     "start_time": "2023-09-05T19:18:06.873660",
     "status": "completed"
    },
    "scrolled": true,
    "tags": []
   },
   "outputs": [
    {
     "data": {
      "text/html": [
       "<div><img onload=\"(function(div, url){\n",
       "if (typeof require !== 'undefined') {\n",
       "    var baseURL = require.toUrl('').split('/').slice(0, -2).join('/');\n",
       "} else {\n",
       "    var baseURL = JSON.parse(\n",
       "        document.getElementById('jupyter-config-data').innerHTML\n",
       "    ).baseUrl.slice(0, -1);\n",
       "}\n",
       "url = baseURL + url;\n",
       "fetch(url).then(function(res) {\n",
       "    if (res.status === 404) {\n",
       "        div.innerHTML = 'Install QIIME 2 Jupyter extension with:<br />' +\n",
       "                        '<code>jupyter serverextension enable --py qiime2' +\n",
       "                        ' --sys-prefix</code><br />then restart your server.' +\n",
       "                        '<br /><br />(Interactive output not available on ' +\n",
       "                        'static notebook viewer services like nbviewer.)';\n",
       "    } else if (res.status === 409) {\n",
       "        div.innerHTML = 'Visualization no longer in scope. Re-run this cell' +\n",
       "                        ' to see the visualization.';\n",
       "    } else if (res.ok) {\n",
       "        url = res.url;\n",
       "        div.innerHTML = '<iframe src=\\'' + url + '\\' style=\\'' +\n",
       "                        'width: 100%; height: 700px; border: 0;\\'>' +\n",
       "                        '</iframe><hr />Open in a: <a href=\\'' + url + '\\'' +\n",
       "                        ' target=\\'_blank\\'>new window</a>'\n",
       "    } else {\n",
       "        div.innerHTML = 'Something has gone wrong. Check notebook server for' +\n",
       "                        ' errors.';\n",
       "    }\n",
       "});\n",
       "})(this.parentElement, '/qiime2/redirect?location=/tmp/qiime2-archive-e3z4jfbo')\" src=\"data:image/gif;base64,R0lGODlhAQABAIAAAP///wAAACH5BAEAAAAALAAAAAABAAEAAAICRAEAOw==\" /></div>"
      ],
      "text/plain": [
       "<visualization: Visualization uuid: 44aab132-fa92-4f76-9bb9-eca3268c62ff>"
      ]
     },
     "execution_count": 13,
     "metadata": {},
     "output_type": "execute_result"
    }
   ],
   "source": [
    "alpha_rar.visualization.save(alpha_rarefaction_view_path)\n",
    "alpha_rar.visualization"
   ]
  },
  {
   "cell_type": "markdown",
   "id": "69d75aff",
   "metadata": {
    "papermill": {
     "duration": 0.039304,
     "end_time": "2023-09-05T19:18:07.039886",
     "exception": false,
     "start_time": "2023-09-05T19:18:07.000582",
     "status": "completed"
    },
    "tags": []
   },
   "source": [
    "## Beta Rarefaction"
   ]
  },
  {
   "cell_type": "code",
   "execution_count": 14,
   "id": "6082297b",
   "metadata": {
    "ExecuteTime": {
     "end_time": "2022-09-22T21:56:19.645438Z",
     "start_time": "2022-09-22T21:56:17.687848Z"
    },
    "execution": {
     "iopub.execute_input": "2023-09-05T19:18:07.116756Z",
     "iopub.status.busy": "2023-09-05T19:18:07.116493Z",
     "iopub.status.idle": "2023-09-05T19:18:09.876903Z",
     "shell.execute_reply": "2023-09-05T19:18:09.876258Z"
    },
    "papermill": {
     "duration": 2.802574,
     "end_time": "2023-09-05T19:18:09.881478",
     "exception": false,
     "start_time": "2023-09-05T19:18:07.078904",
     "status": "completed"
    },
    "tags": []
   },
   "outputs": [
    {
     "name": "stdout",
     "output_type": "stream",
     "text": [
      "{'metric': 'braycurtis', 'clustering_method': 'nj', 'metadata': Metadata\n",
      "--------\n",
      "38 IDs x 9 columns\n",
      "class-straw:        ColumnProperties(type='categorical')\n",
      "local-coleta:       ColumnProperties(type='categorical')\n",
      "idade:              ColumnProperties(type='numeric')\n",
      "idade-menarca:      ColumnProperties(type='numeric')\n",
      "tempo-menopausa:    ColumnProperties(type='numeric')\n",
      "above_10:           ColumnProperties(type='categorical')\n",
      "menopausa-age-qcut: ColumnProperties(type='categorical')\n",
      "menopausa-age-bins: ColumnProperties(type='categorical')\n",
      "samples:            ColumnProperties(type='categorical')\n",
      "\n",
      "Call to_dataframe() for a tabular representation., 'sampling_depth': 564, 'iterations': 10, 'correlation_method': 'spearman', 'color_scheme': 'BrBG', 'table': 2210 x 38 <class 'biom.table.Table'> with 6010 nonzero entries (7% dense), 'phylogeny': None}\n",
      "{'sampling_depth': 564, 'with_replacement': False, 'table': 2210 x 38 <class 'biom.table.Table'> with 6010 nonzero entries (7% dense)}\n",
      "{'sampling_depth': 564, 'with_replacement': False, 'table': 2210 x 38 <class 'biom.table.Table'> with 6010 nonzero entries (7% dense)}\n",
      "{'metric': 'braycurtis', 'pseudocount': 1, 'n_jobs': 1, 'table': <artifact: FeatureTable[Frequency] uuid: 5333d37d-1c24-4726-bc16-90ec3904d65c>}\n",
      "{'n_jobs': 1, 'table': 1082 x 38 <class 'biom.table.Table'> with 3320 nonzero entries (8% dense)}\n",
      "{'n_jobs': 1, 'table': 1082 x 38 <class 'biom.table.Table'> with 3320 nonzero entries (8% dense)}\n"
     ]
    },
    {
     "name": "stdout",
     "output_type": "stream",
     "text": [
      "{'sampling_depth': 564, 'with_replacement': False, 'table': 2210 x 38 <class 'biom.table.Table'> with 6010 nonzero entries (7% dense)}\n",
      "{'sampling_depth': 564, 'with_replacement': False, 'table': 2210 x 38 <class 'biom.table.Table'> with 6010 nonzero entries (7% dense)}\n",
      "{'metric': 'braycurtis', 'pseudocount': 1, 'n_jobs': 1, 'table': <artifact: FeatureTable[Frequency] uuid: ce3cdfb8-1981-4825-9d5f-8e7d42f21d71>}\n",
      "{'n_jobs': 1, 'table': 1073 x 38 <class 'biom.table.Table'> with 3293 nonzero entries (8% dense)}\n",
      "{'n_jobs': 1, 'table': 1073 x 38 <class 'biom.table.Table'> with 3293 nonzero entries (8% dense)}\n"
     ]
    },
    {
     "name": "stdout",
     "output_type": "stream",
     "text": [
      "{'sampling_depth': 564, 'with_replacement': False, 'table': 2210 x 38 <class 'biom.table.Table'> with 6010 nonzero entries (7% dense)}\n",
      "{'sampling_depth': 564, 'with_replacement': False, 'table': 2210 x 38 <class 'biom.table.Table'> with 6010 nonzero entries (7% dense)}\n",
      "{'metric': 'braycurtis', 'pseudocount': 1, 'n_jobs': 1, 'table': <artifact: FeatureTable[Frequency] uuid: 899c0ca5-2d25-426c-9690-1392562791e7>}\n",
      "{'n_jobs': 1, 'table': 1126 x 38 <class 'biom.table.Table'> with 3335 nonzero entries (7% dense)}\n",
      "{'n_jobs': 1, 'table': 1126 x 38 <class 'biom.table.Table'> with 3335 nonzero entries (7% dense)}\n"
     ]
    },
    {
     "name": "stdout",
     "output_type": "stream",
     "text": [
      "{'sampling_depth': 564, 'with_replacement': False, 'table': 2210 x 38 <class 'biom.table.Table'> with 6010 nonzero entries (7% dense)}\n",
      "{'sampling_depth': 564, 'with_replacement': False, 'table': 2210 x 38 <class 'biom.table.Table'> with 6010 nonzero entries (7% dense)}\n",
      "{'metric': 'braycurtis', 'pseudocount': 1, 'n_jobs': 1, 'table': <artifact: FeatureTable[Frequency] uuid: 7af81a8f-1c73-457f-b344-46d9440ddec1>}\n",
      "{'n_jobs': 1, 'table': 1098 x 38 <class 'biom.table.Table'> with 3327 nonzero entries (7% dense)}\n",
      "{'n_jobs': 1, 'table': 1098 x 38 <class 'biom.table.Table'> with 3327 nonzero entries (7% dense)}\n"
     ]
    },
    {
     "name": "stdout",
     "output_type": "stream",
     "text": [
      "{'sampling_depth': 564, 'with_replacement': False, 'table': 2210 x 38 <class 'biom.table.Table'> with 6010 nonzero entries (7% dense)}\n",
      "{'sampling_depth': 564, 'with_replacement': False, 'table': 2210 x 38 <class 'biom.table.Table'> with 6010 nonzero entries (7% dense)}\n",
      "{'metric': 'braycurtis', 'pseudocount': 1, 'n_jobs': 1, 'table': <artifact: FeatureTable[Frequency] uuid: 2fb4a32c-2219-465c-a285-adefde38dcad>}\n",
      "{'n_jobs': 1, 'table': 1091 x 38 <class 'biom.table.Table'> with 3297 nonzero entries (7% dense)}\n",
      "{'n_jobs': 1, 'table': 1091 x 38 <class 'biom.table.Table'> with 3297 nonzero entries (7% dense)}\n"
     ]
    },
    {
     "name": "stdout",
     "output_type": "stream",
     "text": [
      "{'sampling_depth': 564, 'with_replacement': False, 'table': 2210 x 38 <class 'biom.table.Table'> with 6010 nonzero entries (7% dense)}\n",
      "{'sampling_depth': 564, 'with_replacement': False, 'table': 2210 x 38 <class 'biom.table.Table'> with 6010 nonzero entries (7% dense)}\n",
      "{'metric': 'braycurtis', 'pseudocount': 1, 'n_jobs': 1, 'table': <artifact: FeatureTable[Frequency] uuid: d11a0958-0d8d-41a1-8c27-4af5511985b2>}\n",
      "{'n_jobs': 1, 'table': 1095 x 38 <class 'biom.table.Table'> with 3343 nonzero entries (8% dense)}\n",
      "{'n_jobs': 1, 'table': 1095 x 38 <class 'biom.table.Table'> with 3343 nonzero entries (8% dense)}\n",
      "{'sampling_depth': 564, 'with_replacement': False, 'table': 2210 x 38 <class 'biom.table.Table'> with 6010 nonzero entries (7% dense)}\n",
      "{'sampling_depth': 564, 'with_replacement': False, 'table': 2210 x 38 <class 'biom.table.Table'> with 6010 nonzero entries (7% dense)}\n"
     ]
    },
    {
     "name": "stdout",
     "output_type": "stream",
     "text": [
      "{'metric': 'braycurtis', 'pseudocount': 1, 'n_jobs': 1, 'table': <artifact: FeatureTable[Frequency] uuid: 2285e6a2-4620-417f-b468-0058e3ff3e84>}\n",
      "{'n_jobs': 1, 'table': 1087 x 38 <class 'biom.table.Table'> with 3295 nonzero entries (7% dense)}\n",
      "{'n_jobs': 1, 'table': 1087 x 38 <class 'biom.table.Table'> with 3295 nonzero entries (7% dense)}\n",
      "{'sampling_depth': 564, 'with_replacement': False, 'table': 2210 x 38 <class 'biom.table.Table'> with 6010 nonzero entries (7% dense)}\n",
      "{'sampling_depth': 564, 'with_replacement': False, 'table': 2210 x 38 <class 'biom.table.Table'> with 6010 nonzero entries (7% dense)}\n",
      "{'metric': 'braycurtis', 'pseudocount': 1, 'n_jobs': 1, 'table': <artifact: FeatureTable[Frequency] uuid: 0fbc74f4-2897-4893-9bc4-ab44db319d0f>}\n"
     ]
    },
    {
     "name": "stdout",
     "output_type": "stream",
     "text": [
      "{'n_jobs': 1, 'table': 1112 x 38 <class 'biom.table.Table'> with 3338 nonzero entries (7% dense)}\n",
      "{'n_jobs': 1, 'table': 1112 x 38 <class 'biom.table.Table'> with 3338 nonzero entries (7% dense)}\n",
      "{'sampling_depth': 564, 'with_replacement': False, 'table': 2210 x 38 <class 'biom.table.Table'> with 6010 nonzero entries (7% dense)}\n",
      "{'sampling_depth': 564, 'with_replacement': False, 'table': 2210 x 38 <class 'biom.table.Table'> with 6010 nonzero entries (7% dense)}\n",
      "{'metric': 'braycurtis', 'pseudocount': 1, 'n_jobs': 1, 'table': <artifact: FeatureTable[Frequency] uuid: dbb9f7e2-9375-473d-8ee7-42c60750e1f4>}\n",
      "{'n_jobs': 1, 'table': 1088 x 38 <class 'biom.table.Table'> with 3343 nonzero entries (8% dense)}\n",
      "{'n_jobs': 1, 'table': 1088 x 38 <class 'biom.table.Table'> with 3343 nonzero entries (8% dense)}\n"
     ]
    },
    {
     "name": "stdout",
     "output_type": "stream",
     "text": [
      "{'sampling_depth': 564, 'with_replacement': False, 'table': 2210 x 38 <class 'biom.table.Table'> with 6010 nonzero entries (7% dense)}\n",
      "{'sampling_depth': 564, 'with_replacement': False, 'table': 2210 x 38 <class 'biom.table.Table'> with 6010 nonzero entries (7% dense)}\n",
      "{'metric': 'braycurtis', 'pseudocount': 1, 'n_jobs': 1, 'table': <artifact: FeatureTable[Frequency] uuid: 03920163-bc3a-4ace-9642-55c7e5602ed9>}\n",
      "{'n_jobs': 1, 'table': 1109 x 38 <class 'biom.table.Table'> with 3347 nonzero entries (7% dense)}\n",
      "{'n_jobs': 1, 'table': 1109 x 38 <class 'biom.table.Table'> with 3347 nonzero entries (7% dense)}\n"
     ]
    },
    {
     "data": {
      "image/png": "[encoded data removed]",
      "text/plain": [
       "<Figure size 432x288 with 2 Axes>"
      ]
     },
     "metadata": {
      "needs_background": "light"
     },
     "output_type": "display_data"
    }
   ],
   "source": [
    "choices = ('matching', 'aitchison', 'euclidean', 'generalized_unifrac', 'canberra', 'russellrao', 'braycurtis', 'cosine', 'jensenshannon', 'yule', 'weighted_normalized_unifrac', 'unweighted_unifrac', 'hamming', 'weighted_unifrac', 'cityblock', 'sokalmichener', 'seuclidean', 'rogerstanimoto', 'correlation', 'minkowski', 'kulsinski', 'chebyshev', 'sqeuclidean', 'sokalsneath', 'jaccard', 'dice', 'canberra_adkins')\n",
    "clustering_methods = ('nj', 'upgma')\n",
    "correlation_methods = ('pearson', 'spearman')\n",
    "\n",
    "sampling_depth = max(min_feature_count, 1)\n",
    "metric = 'braycurtis'\n",
    "clustering_method = clustering_methods[0]\n",
    "correlation_method = correlation_methods[1]\n",
    "\n",
    "beta_rar = beta_rarefaction(\n",
    "    table = tabs,\n",
    "    sampling_depth  = sampling_depth,\n",
    "    metadata = metadata_qa,\n",
    "    metric = metric,\n",
    "    clustering_method = clustering_method,\n",
    "    correlation_method = correlation_method,\n",
    ")"
   ]
  },
  {
   "cell_type": "markdown",
   "id": "4805925a",
   "metadata": {
    "papermill": {
     "duration": 0.042849,
     "end_time": "2023-09-05T19:18:09.983569",
     "exception": false,
     "start_time": "2023-09-05T19:18:09.940720",
     "status": "completed"
    },
    "tags": []
   },
   "source": [
    " ## Beta diversity PCoA\n",
    " Ellipses represent 95% confidence intervals."
   ]
  },
  {
   "cell_type": "code",
   "execution_count": 15,
   "id": "ec7469b9",
   "metadata": {
    "ExecuteTime": {
     "end_time": "2022-09-22T21:56:22.170995Z",
     "start_time": "2022-09-22T21:56:22.048827Z"
    },
    "execution": {
     "iopub.execute_input": "2023-09-05T19:18:10.074312Z",
     "iopub.status.busy": "2023-09-05T19:18:10.073950Z",
     "iopub.status.idle": "2023-09-05T19:18:10.178977Z",
     "shell.execute_reply": "2023-09-05T19:18:10.178459Z"
    },
    "papermill": {
     "duration": 0.151708,
     "end_time": "2023-09-05T19:18:10.182040",
     "exception": false,
     "start_time": "2023-09-05T19:18:10.030332",
     "status": "completed"
    },
    "tags": []
   },
   "outputs": [
    {
     "data": {
      "text/html": [
       "<div><img onload=\"(function(div, url){\n",
       "if (typeof require !== 'undefined') {\n",
       "    var baseURL = require.toUrl('').split('/').slice(0, -2).join('/');\n",
       "} else {\n",
       "    var baseURL = JSON.parse(\n",
       "        document.getElementById('jupyter-config-data').innerHTML\n",
       "    ).baseUrl.slice(0, -1);\n",
       "}\n",
       "url = baseURL + url;\n",
       "fetch(url).then(function(res) {\n",
       "    if (res.status === 404) {\n",
       "        div.innerHTML = 'Install QIIME 2 Jupyter extension with:<br />' +\n",
       "                        '<code>jupyter serverextension enable --py qiime2' +\n",
       "                        ' --sys-prefix</code><br />then restart your server.' +\n",
       "                        '<br /><br />(Interactive output not available on ' +\n",
       "                        'static notebook viewer services like nbviewer.)';\n",
       "    } else if (res.status === 409) {\n",
       "        div.innerHTML = 'Visualization no longer in scope. Re-run this cell' +\n",
       "                        ' to see the visualization.';\n",
       "    } else if (res.ok) {\n",
       "        url = res.url;\n",
       "        div.innerHTML = '<iframe src=\\'' + url + '\\' style=\\'' +\n",
       "                        'width: 100%; height: 700px; border: 0;\\'>' +\n",
       "                        '</iframe><hr />Open in a: <a href=\\'' + url + '\\'' +\n",
       "                        ' target=\\'_blank\\'>new window</a>'\n",
       "    } else {\n",
       "        div.innerHTML = 'Something has gone wrong. Check notebook server for' +\n",
       "                        ' errors.';\n",
       "    }\n",
       "});\n",
       "})(this.parentElement, '/qiime2/redirect?location=/tmp/qiime2-archive-p3lxspqz')\" src=\"data:image/gif;base64,R0lGODlhAQABAIAAAP///wAAACH5BAEAAAAALAAAAAABAAEAAAICRAEAOw==\" /></div>"
      ],
      "text/plain": [
       "<visualization: Visualization uuid: 7ab2e8f5-8089-4135-aabf-53317b63bfbc>"
      ]
     },
     "execution_count": 15,
     "metadata": {},
     "output_type": "execute_result"
    }
   ],
   "source": [
    "plot_tmp = f'{metric}-{clustering_method}-{correlation_method}-{sampling_depth}'\n",
    "beta_rarefaction_view_path = os.path.join(qiime_folder, f'beta-rarefaction-{plot_tmp}.qzv')\n",
    "beta_rar.visualization.save(beta_rarefaction_view_path)\n",
    "\n",
    "beta_rar.visualization"
   ]
  }
 ],
 "metadata": {
  "celltoolbar": "Edit Metadata",
  "kernelspec": {
   "display_name": "Python 3 (ipykernel)",
   "language": "python",
   "name": "python3"
  },
  "language_info": {
   "codemirror_mode": {
    "name": "ipython",
    "version": 3
   },
   "file_extension": ".py",
   "mimetype": "text/x-python",
   "name": "python",
   "nbconvert_exporter": "python",
   "pygments_lexer": "ipython3",
   "version": "3.8.12"
  },
  "papermill": {
   "default_parameters": {},
   "duration": 38.409268,
   "end_time": "2023-09-05T19:18:11.049065",
   "environment_variables": {},
   "exception": null,
   "input_path": "nb-templates/step-rarefaction-analysis.ipynb",
   "output_path": "/home/lauro/nupeb/rede-micro/redemicro-thayane/experiments/thayane-PM-paired-end-trim-overlap-04/nb-executed-steps/step-rarefaction-analysis-thayane-PM-paired-end-trim-overlap-04.ipynb",
   "parameters": {
    "base_dir": "/home/lauro/nupeb/rede-micro/redemicro-thayane",
    "class_col": "above_10",
    "classifier_file": "/home/lauro/nupeb/16S_classifiers_qiime2/silva-138-99-nb-classifier.qza",
    "experiment_name": "thayane-PM-paired-end-trim-overlap-04",
    "manifest_file": "/home/lauro/nupeb/rede-micro/redemicro-thayane/data/manifest-paired.csv",
    "metadata_file": "/home/lauro/nupeb/rede-micro/redemicro-thayane/data/paired-end-metadata.tsv",
    "overlap": 4,
    "phred": 20,
    "replace_files": false,
    "threads": 6,
    "trim": {
     "forward_primer": "CCTACGGGRSGCAGCAG",
     "overlap": 8,
     "reverse_primer": "GGACTACHVGGGTWTCTAAT"
    },
    "trunc_f": 0,
    "trunc_r": 0
   },
   "start_time": "2023-09-05T19:17:32.639797",
   "version": "2.3.4"
  },
  "toc-autonumbering": false,
  "toc-showcode": false,
  "toc-showmarkdowntxt": false
 },
 "nbformat": 4,
 "nbformat_minor": 5
}