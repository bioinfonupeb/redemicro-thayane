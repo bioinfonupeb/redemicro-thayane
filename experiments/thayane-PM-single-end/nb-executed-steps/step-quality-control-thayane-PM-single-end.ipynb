{
 "cells": [
  {
   "cell_type": "markdown",
   "id": "94ab30d7",
   "metadata": {
    "papermill": {
     "duration": 0.00299,
     "end_time": "2024-02-19T22:52:16.610127",
     "exception": false,
     "start_time": "2024-02-19T22:52:16.607137",
     "status": "completed"
    },
    "tags": []
   },
   "source": [
    "# Quality Control and ASV table construction with DADA2"
   ]
  },
  {
   "cell_type": "markdown",
   "id": "1b8d6b27",
   "metadata": {
    "papermill": {
     "duration": 0.00212,
     "end_time": "2024-02-19T22:52:16.614529",
     "exception": false,
     "start_time": "2024-02-19T22:52:16.612409",
     "status": "completed"
    },
    "tags": []
   },
   "source": [
    "## Setup and settings"
   ]
  },
  {
   "cell_type": "code",
   "execution_count": 1,
   "id": "2c4f8d96",
   "metadata": {
    "ExecuteTime": {
     "end_time": "2022-06-29T18:49:49.974644Z",
     "start_time": "2022-06-29T18:49:30.876897Z"
    },
    "execution": {
     "iopub.execute_input": "2024-02-19T22:52:16.619726Z",
     "iopub.status.busy": "2024-02-19T22:52:16.619517Z",
     "iopub.status.idle": "2024-02-19T22:52:21.449333Z",
     "shell.execute_reply": "2024-02-19T22:52:21.448851Z"
    },
    "papermill": {
     "duration": 4.833906,
     "end_time": "2024-02-19T22:52:21.450579",
     "exception": false,
     "start_time": "2024-02-19T22:52:16.616673",
     "status": "completed"
    },
    "tags": []
   },
   "outputs": [],
   "source": [
    "# Importing packages\n",
    "import os\n",
    "import yaml\n",
    "import logging\n",
    "import pandas as pd\n",
    "from qiime2 import Artifact\n",
    "from qiime2 import Visualization\n",
    "from qiime2 import Metadata\n",
    "import qiime2.plugins.dada2.actions as dada2_actions\n",
    "import qiime2.plugins.metadata.actions as metadata_actions\n",
    "from qiime2.plugins.feature_table.visualizers import tabulate_seqs\n",
    "from qiime2.plugins.feature_table.visualizers import summarize\n",
    "from qiime2.plugins.feature_table.visualizers import core_features\n",
    "from qiime2.plugins.feature_table.methods import filter_samples\n",
    "from qiime2.plugins.feature_table.methods import filter_seqs\n",
    "\n",
    "import matplotlib.pyplot as plt\n",
    "\n",
    "%matplotlib inline"
   ]
  },
  {
   "cell_type": "markdown",
   "id": "f90fdcef",
   "metadata": {
    "papermill": {
     "duration": 0.002179,
     "end_time": "2024-02-19T22:52:21.455184",
     "exception": false,
     "start_time": "2024-02-19T22:52:21.453005",
     "status": "completed"
    },
    "tags": []
   },
   "source": [
    "### Receiving the parameters\n",
    "\n",
    "The following cell can receive parameters using the [papermill](https://papermill.readthedocs.io/en/latest/) tool."
   ]
  },
  {
   "cell_type": "code",
   "execution_count": 2,
   "id": "8725b6c9",
   "metadata": {
    "ExecuteTime": {
     "end_time": "2022-06-29T18:54:01.035034Z",
     "start_time": "2022-06-29T18:54:01.028724Z"
    },
    "execution": {
     "iopub.execute_input": "2024-02-19T22:52:21.460293Z",
     "iopub.status.busy": "2024-02-19T22:52:21.460037Z",
     "iopub.status.idle": "2024-02-19T22:52:21.463164Z",
     "shell.execute_reply": "2024-02-19T22:52:21.462779Z"
    },
    "papermill": {
     "duration": 0.006731,
     "end_time": "2024-02-19T22:52:21.464044",
     "exception": false,
     "start_time": "2024-02-19T22:52:21.457313",
     "status": "completed"
    },
    "tags": [
     "parameters"
    ]
   },
   "outputs": [],
   "source": [
    "experiment_name = 'ana-flavia-superlactacao'\n",
    "base_dir = os.path.join('/', 'home', 'lauro', 'nupeb', 'redemicro')\n",
    "metadata_file = os.path.join(base_dir, 'data', 'raw', 'metadata', 'sample-metadata.tsv')\n",
    "manifest_file = os.path.join(base_dir, 'data', 'raw', 'manifest', 'sample-manifest.csv')\n",
    "replace_files = False\n",
    "phred = 20\n",
    "trunc_f = 0\n",
    "trunc_r = 0\n",
    "overlap = 12\n",
    "threads = 6\n",
    "trim = None"
   ]
  },
  {
   "cell_type": "code",
   "execution_count": 3,
   "id": "73b4e549",
   "metadata": {
    "execution": {
     "iopub.execute_input": "2024-02-19T22:52:21.468966Z",
     "iopub.status.busy": "2024-02-19T22:52:21.468761Z",
     "iopub.status.idle": "2024-02-19T22:52:21.471274Z",
     "shell.execute_reply": "2024-02-19T22:52:21.470899Z"
    },
    "papermill": {
     "duration": 0.005949,
     "end_time": "2024-02-19T22:52:21.472165",
     "exception": false,
     "start_time": "2024-02-19T22:52:21.466216",
     "status": "completed"
    },
    "tags": [
     "injected-parameters"
    ]
   },
   "outputs": [],
   "source": [
    "# Parameters\n",
    "experiment_name = \"thayane-PM-single-end\"\n",
    "base_dir = \"/mnt/nupeb/rede-micro/redemicro-thayane\"\n",
    "manifest_file = \"/mnt/nupeb/rede-micro/redemicro-thayane/data/manifest-single.csv\"\n",
    "metadata_file = \"/mnt/nupeb/rede-micro/redemicro-thayane/data/single-end-metadata.tsv\"\n",
    "class_col = \"above_10\"\n",
    "classifier_file = \"/mnt/nupeb/rede-micro/datasets/16S_classifiers_qiime2/silva-138-99-nb-classifier.qza\"\n",
    "replace_files = False\n",
    "phred = 20\n",
    "trunc_f = 0\n",
    "trunc_r = 0\n",
    "overlap = 12\n",
    "threads = 6\n"
   ]
  },
  {
   "cell_type": "code",
   "execution_count": 4,
   "id": "4cd7f910",
   "metadata": {
    "execution": {
     "iopub.execute_input": "2024-02-19T22:52:21.477171Z",
     "iopub.status.busy": "2024-02-19T22:52:21.476967Z",
     "iopub.status.idle": "2024-02-19T22:52:21.480116Z",
     "shell.execute_reply": "2024-02-19T22:52:21.479731Z"
    },
    "papermill": {
     "duration": 0.006649,
     "end_time": "2024-02-19T22:52:21.480996",
     "exception": false,
     "start_time": "2024-02-19T22:52:21.474347",
     "status": "completed"
    },
    "tags": []
   },
   "outputs": [],
   "source": [
    "# Setting hardcoded parameters for development and debbuging\n",
    "production = True\n",
    "if not production:\n",
    "    params_path = os.path.join('..', 'params', 'ana-flavia-superlactacao.yaml')\n",
    "    with open(params_path, 'r') as stream:\n",
    "        params = yaml.safe_load(stream)\n",
    "        experiment_name = params['experiment_name']\n",
    "        base_dir = params['base_dir']\n",
    "        replace_files = params['replace_files']\n",
    "        experiment_folder = os.path.abspath(os.path.join(os.getcwd(), '..', 'experiments', 'thayane-feces-01'))\n",
    "        img_folder = os.path.abspath(os.path.join(experiment_folder, 'imgs'))\n",
    "        replace_files = False\n",
    "        phred = 20\n",
    "        trunc_f = 0\n",
    "        trunc_r = 0\n",
    "        overlap = 12\n",
    "        threads = 6"
   ]
  },
  {
   "cell_type": "code",
   "execution_count": 5,
   "id": "ded1cdc7",
   "metadata": {
    "ExecuteTime": {
     "end_time": "2022-06-29T18:51:02.089300Z",
     "start_time": "2022-06-29T18:51:02.084922Z"
    },
    "execution": {
     "iopub.execute_input": "2024-02-19T22:52:21.485943Z",
     "iopub.status.busy": "2024-02-19T22:52:21.485734Z",
     "iopub.status.idle": "2024-02-19T22:52:21.488543Z",
     "shell.execute_reply": "2024-02-19T22:52:21.488169Z"
    },
    "papermill": {
     "duration": 0.006205,
     "end_time": "2024-02-19T22:52:21.489371",
     "exception": false,
     "start_time": "2024-02-19T22:52:21.483166",
     "status": "completed"
    },
    "tags": []
   },
   "outputs": [],
   "source": [
    "experiment_folder = os.path.abspath(os.path.join(base_dir, 'experiments', experiment_name))\n",
    "img_folder = os.path.abspath(os.path.join(experiment_folder, 'imgs'))\n",
    "qiime_folder = os.path.join(experiment_folder, 'qiime-artifacts')\n",
    "data_dir =  os.path.abspath(os.path.join(base_dir, 'data'))\n",
    "raw_data_dir =  os.path.abspath(os.path.join(data_dir, 'raw'))\n",
    "interim_data_dir =  os.path.abspath(os.path.join(data_dir, 'interim'))"
   ]
  },
  {
   "cell_type": "markdown",
   "id": "bf2d57aa",
   "metadata": {
    "papermill": {
     "duration": 0.002164,
     "end_time": "2024-02-19T22:52:21.493759",
     "exception": false,
     "start_time": "2024-02-19T22:52:21.491595",
     "status": "completed"
    },
    "tags": []
   },
   "source": [
    "### Defining names and paths"
   ]
  },
  {
   "cell_type": "code",
   "execution_count": 6,
   "id": "3b0bfaff",
   "metadata": {
    "execution": {
     "iopub.execute_input": "2024-02-19T22:52:21.498757Z",
     "iopub.status.busy": "2024-02-19T22:52:21.498632Z",
     "iopub.status.idle": "2024-02-19T22:52:21.503428Z",
     "shell.execute_reply": "2024-02-19T22:52:21.503054Z"
    },
    "papermill": {
     "duration": 0.008319,
     "end_time": "2024-02-19T22:52:21.504267",
     "exception": false,
     "start_time": "2024-02-19T22:52:21.495948",
     "status": "completed"
    },
    "tags": []
   },
   "outputs": [],
   "source": [
    "# Determine if is SingleEnd or PairedEnd\n",
    "manifest_df = pd.read_csv(manifest_file)\n",
    "n_directions = len(manifest_df['direction'].unique())\n",
    "sufix = 'single' if n_directions == 1 else 'paired'"
   ]
  },
  {
   "cell_type": "code",
   "execution_count": 7,
   "id": "9d052736",
   "metadata": {
    "ExecuteTime": {
     "end_time": "2022-05-30T19:57:39.064490Z",
     "start_time": "2022-05-30T19:57:39.007809Z"
    },
    "execution": {
     "iopub.execute_input": "2024-02-19T22:52:21.509336Z",
     "iopub.status.busy": "2024-02-19T22:52:21.509132Z",
     "iopub.status.idle": "2024-02-19T22:52:21.512132Z",
     "shell.execute_reply": "2024-02-19T22:52:21.511758Z"
    },
    "papermill": {
     "duration": 0.006565,
     "end_time": "2024-02-19T22:52:21.513058",
     "exception": false,
     "start_time": "2024-02-19T22:52:21.506493",
     "status": "completed"
    },
    "tags": []
   },
   "outputs": [],
   "source": [
    "if trim:\n",
    "    demux_file = os.path.join(qiime_folder, f'demux-{sufix}-trim.qza')\n",
    "else:\n",
    "    demux_file = os.path.join(qiime_folder, f'demux-{sufix}.qza')\n",
    "\n",
    "dada2_tabs = os.path.join(qiime_folder, 'dada2-tabs.qza')\n",
    "dada2_reps = os.path.join(qiime_folder, 'dada2-reps.qza')\n",
    "dada2_stat = os.path.join(qiime_folder, 'dada2-stat.qza')\n",
    "\n",
    "\n",
    "dada2_tabs_view = dada2_tabs[:-1] + 'v'\n",
    "dada2_reps_view = dada2_reps[:-1] + 'v'\n",
    "dada2_stat_view = dada2_stat[:-1] + 'v'\n",
    "dada2_core_view = os.path.join(qiime_folder, 'dada2-core.qzv')"
   ]
  },
  {
   "cell_type": "markdown",
   "id": "c9b95568",
   "metadata": {
    "papermill": {
     "duration": 0.002264,
     "end_time": "2024-02-19T22:52:21.517561",
     "exception": false,
     "start_time": "2024-02-19T22:52:21.515297",
     "status": "completed"
    },
    "tags": []
   },
   "source": [
    "## Step execution\n",
    "\n",
    "### Load input files\n",
    "\n",
    "This Step import the QIIME2 `SampleData[PairedEndSequencesWithQuality]` Artifact with all demultiplexed sequences and the `Metadata` file."
   ]
  },
  {
   "cell_type": "code",
   "execution_count": 8,
   "id": "bcc9b28b",
   "metadata": {
    "ExecuteTime": {
     "end_time": "2022-05-30T19:57:39.077380Z",
     "start_time": "2022-05-30T19:57:39.066746Z"
    },
    "execution": {
     "iopub.execute_input": "2024-02-19T22:52:21.522609Z",
     "iopub.status.busy": "2024-02-19T22:52:21.522483Z",
     "iopub.status.idle": "2024-02-19T22:52:21.525022Z",
     "shell.execute_reply": "2024-02-19T22:52:21.524660Z"
    },
    "papermill": {
     "duration": 0.006059,
     "end_time": "2024-02-19T22:52:21.525851",
     "exception": false,
     "start_time": "2024-02-19T22:52:21.519792",
     "status": "completed"
    },
    "tags": []
   },
   "outputs": [],
   "source": [
    "need_dada2 = not (os.path.isfile(dada2_tabs) and os.path.isfile(dada2_reps) and os.path.isfile(dada2_stat)) or replace_files\n",
    "need_view = not (os.path.isfile(dada2_tabs_view) and os.path.isfile(dada2_reps_view) and os.path.isfile(dada2_stat_view)) or replace_files"
   ]
  },
  {
   "cell_type": "code",
   "execution_count": 9,
   "id": "d1b32871",
   "metadata": {
    "ExecuteTime": {
     "end_time": "2022-05-30T19:57:39.089632Z",
     "start_time": "2022-05-30T19:57:39.079347Z"
    },
    "execution": {
     "iopub.execute_input": "2024-02-19T22:52:21.531102Z",
     "iopub.status.busy": "2024-02-19T22:52:21.530795Z",
     "iopub.status.idle": "2024-02-19T22:52:21.587763Z",
     "shell.execute_reply": "2024-02-19T22:52:21.587411Z"
    },
    "papermill": {
     "duration": 0.060764,
     "end_time": "2024-02-19T22:52:21.588866",
     "exception": false,
     "start_time": "2024-02-19T22:52:21.528102",
     "status": "completed"
    },
    "tags": []
   },
   "outputs": [],
   "source": [
    "if need_dada2:\n",
    "    demux = Artifact.load(demux_file)"
   ]
  },
  {
   "cell_type": "code",
   "execution_count": 10,
   "id": "45c59f67",
   "metadata": {
    "ExecuteTime": {
     "end_time": "2022-05-30T19:57:39.145879Z",
     "start_time": "2022-05-30T19:57:39.091983Z"
    },
    "execution": {
     "iopub.execute_input": "2024-02-19T22:52:21.594388Z",
     "iopub.status.busy": "2024-02-19T22:52:21.594252Z",
     "iopub.status.idle": "2024-02-19T22:52:21.605504Z",
     "shell.execute_reply": "2024-02-19T22:52:21.605079Z"
    },
    "papermill": {
     "duration": 0.014955,
     "end_time": "2024-02-19T22:52:21.606431",
     "exception": false,
     "start_time": "2024-02-19T22:52:21.591476",
     "status": "completed"
    },
    "tags": []
   },
   "outputs": [],
   "source": [
    "metadata = Metadata.load(metadata_file)"
   ]
  },
  {
   "cell_type": "markdown",
   "id": "f2169c33",
   "metadata": {
    "papermill": {
     "duration": 0.002281,
     "end_time": "2024-02-19T22:52:21.611004",
     "exception": false,
     "start_time": "2024-02-19T22:52:21.608723",
     "status": "completed"
    },
    "tags": []
   },
   "source": [
    "### Execute DADA2 plugin and create Artifacts\n",
    "\n",
    "The DADA2 plugin perform tha quality control and create the ASV table. It will be produced three Artifacts:\n",
    "\n",
    "- tabs (`FeatureTable[Frequency]`) : \n",
    "    The resulting feature table.\n",
    "- reps (`FeatureData[Sequence]`) :\n",
    "    The resulting feature sequences. Each feature in the feature table will\n",
    "    be represented by exactly one sequence, and these sequences will be the\n",
    "    joined paired-end sequences.\n",
    "- denoising_stats (`SampleData[DADA2Stats]`) : the resulting stats. Shows the number and the proportion of filtered reads in each phase of the plugin execution."
   ]
  },
  {
   "cell_type": "code",
   "execution_count": 11,
   "id": "6a7ffbc3",
   "metadata": {
    "execution": {
     "iopub.execute_input": "2024-02-19T22:52:21.616267Z",
     "iopub.status.busy": "2024-02-19T22:52:21.616135Z",
     "iopub.status.idle": "2024-02-19T22:54:39.392674Z",
     "shell.execute_reply": "2024-02-19T22:54:39.392163Z"
    },
    "papermill": {
     "duration": 137.780837,
     "end_time": "2024-02-19T22:54:39.394127",
     "exception": false,
     "start_time": "2024-02-19T22:52:21.613290",
     "status": "completed"
    },
    "tags": []
   },
   "outputs": [
    {
     "name": "stdout",
     "output_type": "stream",
     "text": [
      "Create new local DADA2 data\n",
      "Running external command line application(s). This may print messages to stdout and/or stderr.\n",
      "The command(s) being run are below. These commands cannot be manually re-run as they will depend on temporary files that no longer exist.\n",
      "\n",
      "Command: run_dada.R --input_directory /tmp/qiime2/lauro/data/61463fac-6c28-4264-b5cf-9450ec8fb2c5/data --output_path /tmp/tmpbfti1hmp/output.tsv.biom --output_track /tmp/tmpbfti1hmp/track.tsv --filtered_directory /tmp/tmpbfti1hmp --truncation_length 0 --trim_left 0 --max_expected_errors 2.0 --truncation_quality_score 20 --max_length Inf --pooling_method independent --chimera_method consensus --min_parental_fold 1.0 --allow_one_off False --num_threads 6 --learn_min_reads 1000000 --homopolymer_gap_penalty NULL --band_size 16\n",
      "\n",
      "R version 4.2.3 (2023-03-15) \n"
     ]
    },
    {
     "name": "stderr",
     "output_type": "stream",
     "text": [
      "Loading required package: Rcpp\n"
     ]
    },
    {
     "name": "stdout",
     "output_type": "stream",
     "text": [
      "DADA2: 1.26.0 / Rcpp: 1.0.10 / RcppParallel: 5.1.6 \n",
      "2) Filtering "
     ]
    },
    {
     "name": "stdout",
     "output_type": "stream",
     "text": [
      "......\n",
      "3) Learning Error Rates\n"
     ]
    },
    {
     "name": "stdout",
     "output_type": "stream",
     "text": [
      "57016779 total bases in 402903 reads from 6 samples will be used for learning the error rates.\n"
     ]
    },
    {
     "name": "stdout",
     "output_type": "stream",
     "text": [
      "4) Denoise samples \n"
     ]
    },
    {
     "name": "stdout",
     "output_type": "stream",
     "text": [
      "."
     ]
    },
    {
     "name": "stdout",
     "output_type": "stream",
     "text": [
      "."
     ]
    },
    {
     "name": "stdout",
     "output_type": "stream",
     "text": [
      "."
     ]
    },
    {
     "name": "stdout",
     "output_type": "stream",
     "text": [
      "."
     ]
    },
    {
     "name": "stdout",
     "output_type": "stream",
     "text": [
      "."
     ]
    },
    {
     "name": "stdout",
     "output_type": "stream",
     "text": [
      ".\n",
      "5) Remove chimeras (method = consensus)\n",
      "6) Report read numbers through the pipeline\n",
      "7) Write output\n"
     ]
    }
   ],
   "source": [
    "if not os.path.isfile(dada2_tabs) or replace_files:\n",
    "    interim_tabs_path = os.path.join(interim_data_dir, \"dada2-tabs.qza\")\n",
    "    interim_reps_path = os.path.join(interim_data_dir, \"dada2-reps.qza\")\n",
    "    interim_stat_path = os.path.join(interim_data_dir, \"dada2-stat.qza\")\n",
    "    # Verify if has shared files\n",
    "    if os.path.isfile(interim_tabs_path) and os.path.isfile(interim_reps_path) and os.path.isfile(interim_stat_path):\n",
    "        print(\"Load DADA2 data from shared files\")\n",
    "        tabs = Artifact.load(interim_tabs_path)\n",
    "        reps = Artifact.load(interim_reps_path)\n",
    "        stat = Artifact.load(interim_stat_path)\n",
    "    # Create new DADA2 files\n",
    "    else:\n",
    "        print(\"Create new local DADA2 data\")\n",
    "        if n_directions == 1: # SingleEnd\n",
    "            tabs, reps, stat = dada2_actions.denoise_single(\n",
    "                demultiplexed_seqs=demux,\n",
    "                trunc_q = phred,\n",
    "                n_threads = threads,\n",
    "                trunc_len = trunc_f,\n",
    "            )\n",
    "        elif n_directions == 2: # PairedEnd\n",
    "            tabs, reps, stat = dada2_actions.denoise_paired(\n",
    "                demultiplexed_seqs=demux,\n",
    "                trunc_q = phred,\n",
    "                min_overlap = overlap,\n",
    "                n_threads = threads,\n",
    "                trunc_len_f = trunc_f,\n",
    "                trunc_len_r = trunc_r,\n",
    "            )\n",
    "        tabs.save(dada2_tabs)\n",
    "        reps.save(dada2_reps)\n",
    "        stat.save(dada2_stat)\n",
    "else:\n",
    "    print(\"Load DADA2 data from local files\")\n",
    "    tabs = Artifact.load(dada2_tabs)\n",
    "    reps = Artifact.load(dada2_reps)\n",
    "    stat = Artifact.load(dada2_stat)"
   ]
  },
  {
   "cell_type": "markdown",
   "id": "71a47970",
   "metadata": {
    "papermill": {
     "duration": 0.00445,
     "end_time": "2024-02-19T22:54:39.403468",
     "exception": false,
     "start_time": "2024-02-19T22:54:39.399018",
     "status": "completed"
    },
    "tags": []
   },
   "source": [
    "### Filter samples"
   ]
  },
  {
   "cell_type": "code",
   "execution_count": 12,
   "id": "784537ab",
   "metadata": {
    "execution": {
     "iopub.execute_input": "2024-02-19T22:54:39.413676Z",
     "iopub.status.busy": "2024-02-19T22:54:39.413504Z",
     "iopub.status.idle": "2024-02-19T22:54:39.529670Z",
     "shell.execute_reply": "2024-02-19T22:54:39.529262Z"
    },
    "papermill": {
     "duration": 0.122912,
     "end_time": "2024-02-19T22:54:39.530871",
     "exception": false,
     "start_time": "2024-02-19T22:54:39.407959",
     "status": "completed"
    },
    "tags": []
   },
   "outputs": [
    {
     "name": "stderr",
     "output_type": "stream",
     "text": [
      "/home/lauro/anaconda3/envs/qiime2-2023.5/lib/python3.8/site-packages/q2_types/feature_data/_transformer.py:258: FutureWarning: iteritems is deprecated and will be removed in a future version. Use .items instead.\n",
      "  for id_, seq in data.iteritems():\n"
     ]
    }
   ],
   "source": [
    "# Filter FeatureTable[Frequency | RelativeFrequency | PresenceAbsence | Composition] based on Metadata sample ID values\n",
    "tabs = filter_samples(\n",
    "    table=tabs,\n",
    "    metadata=metadata,\n",
    ").filtered_table\n",
    "# Filter SampleData[SequencesWithQuality | PairedEndSequencesWithQuality | JoinedSequencesWithQuality] based on Metadata sample ID values; returns FeatureData[Sequence | AlignedSequence]\n",
    "reps = filter_seqs(\n",
    "    data=reps,\n",
    "    table=tabs,\n",
    ").filtered_data"
   ]
  },
  {
   "cell_type": "markdown",
   "id": "e3a066c4",
   "metadata": {
    "papermill": {
     "duration": 0.004504,
     "end_time": "2024-02-19T22:54:39.540374",
     "exception": false,
     "start_time": "2024-02-19T22:54:39.535870",
     "status": "completed"
    },
    "tags": []
   },
   "source": [
    "### Define Visualizations Artifacts"
   ]
  },
  {
   "cell_type": "code",
   "execution_count": 13,
   "id": "fdcb8eb9",
   "metadata": {
    "ExecuteTime": {
     "end_time": "2022-05-30T19:57:39.249051Z",
     "start_time": "2022-05-30T19:57:39.173053Z"
    },
    "execution": {
     "iopub.execute_input": "2024-02-19T22:54:39.550235Z",
     "iopub.status.busy": "2024-02-19T22:54:39.550071Z",
     "iopub.status.idle": "2024-02-19T22:54:41.635827Z",
     "shell.execute_reply": "2024-02-19T22:54:41.635289Z"
    },
    "papermill": {
     "duration": 2.092161,
     "end_time": "2024-02-19T22:54:41.637055",
     "exception": false,
     "start_time": "2024-02-19T22:54:39.544894",
     "status": "completed"
    },
    "tags": []
   },
   "outputs": [
    {
     "data": {
      "image/png": "[encoded data removed]",
      "text/plain": [
       "<Figure size 640x480 with 1 Axes>"
      ]
     },
     "metadata": {},
     "output_type": "display_data"
    }
   ],
   "source": [
    "# If some of the DADA2 Visualization artifacts do not exist or if the old files will be replaced\n",
    "if need_view:\n",
    "    \n",
    "    tabs_view, = metadata_actions.tabulate(input=tabs.view(Metadata))\n",
    "    reps_view, = metadata_actions.tabulate(input=reps.view(Metadata))\n",
    "    stat_view, = metadata_actions.tabulate(input=stat.view(Metadata))\n",
    "    \n",
    "    tabs_view = summarize(table=tabs, sample_metadata=metadata).visualization\n",
    "    reps_view = tabulate_seqs(data=reps).visualization\n",
    "    core_view = core_features(table=tabs, min_fraction=.1, steps=10).visualization\n",
    "    \n",
    "    \n",
    "    # Save the artifacts objects\n",
    "    tabs_view.save(dada2_tabs_view)\n",
    "    reps_view.save(dada2_reps_view)\n",
    "    stat_view.save(dada2_stat_view)\n",
    "    core_view.save(dada2_core_view)\n",
    "\n",
    "else:\n",
    "    tabs_view = Visualization.load(dada2_tabs_view)\n",
    "    reps_view = Visualization.load(dada2_reps_view)\n",
    "    stat_view = Visualization.load(dada2_stat_view)\n",
    "    core_view = Visualization.load(dada2_core_view)"
   ]
  },
  {
   "cell_type": "code",
   "execution_count": 14,
   "id": "a9238911",
   "metadata": {
    "execution": {
     "iopub.execute_input": "2024-02-19T22:54:41.648240Z",
     "iopub.status.busy": "2024-02-19T22:54:41.648008Z",
     "iopub.status.idle": "2024-02-19T22:54:41.652757Z",
     "shell.execute_reply": "2024-02-19T22:54:41.652355Z"
    },
    "papermill": {
     "duration": 0.011721,
     "end_time": "2024-02-19T22:54:41.653985",
     "exception": false,
     "start_time": "2024-02-19T22:54:41.642264",
     "status": "completed"
    },
    "tags": []
   },
   "outputs": [],
   "source": [
    "def plot_stats_box(artifact, fname, total_reads_phases, percent_phases, cols):\n",
    "    import matplotlib.pyplot as plt\n",
    "    from qiime2 import Metadata\n",
    "    \n",
    "    df = artifact.view(Metadata).to_dataframe()\n",
    "    df_vals = df[total_reads_phases]\n",
    "    df_perc = df[percent_phases]\n",
    "    df_perc.columns = cols\n",
    "    \n",
    "    \n",
    "    plt.figure(figsize=(15,5))\n",
    "    plt.subplot(1, 2, 1)\n",
    "    df_vals.boxplot()\n",
    "    plt.xlabel('Fases')\n",
    "    plt.ylabel('# of reads')\n",
    "    \n",
    "    plt.subplot(1, 2, 2)\n",
    "    df_perc.boxplot()\n",
    "    plt.xlabel('Fases')\n",
    "    plt.ylabel('% of input')\n",
    "    \n",
    "    plt.savefig(fname, bbox_inches='tight')\n",
    "\n",
    "    plt.show()"
   ]
  },
  {
   "cell_type": "code",
   "execution_count": 15,
   "id": "67090e44",
   "metadata": {
    "execution": {
     "iopub.execute_input": "2024-02-19T22:54:41.664790Z",
     "iopub.status.busy": "2024-02-19T22:54:41.664574Z",
     "iopub.status.idle": "2024-02-19T22:54:41.668475Z",
     "shell.execute_reply": "2024-02-19T22:54:41.668014Z"
    },
    "papermill": {
     "duration": 0.010472,
     "end_time": "2024-02-19T22:54:41.669662",
     "exception": false,
     "start_time": "2024-02-19T22:54:41.659190",
     "status": "completed"
    },
    "tags": []
   },
   "outputs": [],
   "source": [
    "if n_directions == 1: # SingleEnd\n",
    "    total_reads_phases = ['input', 'filtered', 'denoised', 'non-chimeric']\n",
    "    percent_phases = ['percentage of input passed filter', 'percentage of input non-chimeric']\n",
    "    cols = ['filtered', 'non-chimeric']\n",
    "elif n_directions == 2: # PairedEnd\n",
    "    total_reads_phases = ['input', 'filtered', 'denoised', 'merged', 'non-chimeric']\n",
    "    percent_phases = ['percentage of input passed filter', 'percentage of input merged', 'percentage of input non-chimeric']\n",
    "    cols = ['filtered', 'merged', 'non-chimeric']"
   ]
  },
  {
   "cell_type": "code",
   "execution_count": 16,
   "id": "e610ea0b",
   "metadata": {
    "ExecuteTime": {
     "end_time": "2022-05-30T19:57:39.901491Z",
     "start_time": "2022-05-30T19:57:39.255220Z"
    },
    "execution": {
     "iopub.execute_input": "2024-02-19T22:54:41.680924Z",
     "iopub.status.busy": "2024-02-19T22:54:41.680687Z",
     "iopub.status.idle": "2024-02-19T22:54:41.968515Z",
     "shell.execute_reply": "2024-02-19T22:54:41.968052Z"
    },
    "papermill": {
     "duration": 0.29492,
     "end_time": "2024-02-19T22:54:41.969789",
     "exception": false,
     "start_time": "2024-02-19T22:54:41.674869",
     "status": "completed"
    },
    "scrolled": false,
    "tags": []
   },
   "outputs": [
    {
     "data": {
      "image/png": "[encoded data removed]",
      "text/plain": [
       "<Figure size 1500x500 with 2 Axes>"
      ]
     },
     "metadata": {},
     "output_type": "display_data"
    }
   ],
   "source": [
    "plot_stats_box(stat, os.path.join(img_folder, 'step02-stats-boxplot.pdf'), total_reads_phases, percent_phases, cols)"
   ]
  },
  {
   "cell_type": "code",
   "execution_count": 17,
   "id": "c14c91d2",
   "metadata": {
    "ExecuteTime": {
     "end_time": "2022-05-31T17:58:47.140114Z",
     "start_time": "2022-05-31T17:58:47.087808Z"
    },
    "execution": {
     "iopub.execute_input": "2024-02-19T22:54:41.982033Z",
     "iopub.status.busy": "2024-02-19T22:54:41.981851Z",
     "iopub.status.idle": "2024-02-19T22:54:42.002159Z",
     "shell.execute_reply": "2024-02-19T22:54:42.001805Z"
    },
    "papermill": {
     "duration": 0.027672,
     "end_time": "2024-02-19T22:54:42.003336",
     "exception": false,
     "start_time": "2024-02-19T22:54:41.975664",
     "status": "completed"
    },
    "tags": []
   },
   "outputs": [
    {
     "data": {
      "text/html": [
       "<div>\n",
       "<style scoped>\n",
       "    .dataframe tbody tr th:only-of-type {\n",
       "        vertical-align: middle;\n",
       "    }\n",
       "\n",
       "    .dataframe tbody tr th {\n",
       "        vertical-align: top;\n",
       "    }\n",
       "\n",
       "    .dataframe thead th {\n",
       "        text-align: right;\n",
       "    }\n",
       "</style>\n",
       "<table border=\"1\" class=\"dataframe\">\n",
       "  <thead>\n",
       "    <tr style=\"text-align: right;\">\n",
       "      <th></th>\n",
       "      <th>percentage of input passed filter</th>\n",
       "      <th>percentage of input non-chimeric</th>\n",
       "    </tr>\n",
       "  </thead>\n",
       "  <tbody>\n",
       "    <tr>\n",
       "      <th>count</th>\n",
       "      <td>6.000000</td>\n",
       "      <td>6.000000</td>\n",
       "    </tr>\n",
       "    <tr>\n",
       "      <th>mean</th>\n",
       "      <td>85.198333</td>\n",
       "      <td>84.525000</td>\n",
       "    </tr>\n",
       "    <tr>\n",
       "      <th>std</th>\n",
       "      <td>0.885899</td>\n",
       "      <td>1.067272</td>\n",
       "    </tr>\n",
       "    <tr>\n",
       "      <th>min</th>\n",
       "      <td>84.180000</td>\n",
       "      <td>83.090000</td>\n",
       "    </tr>\n",
       "    <tr>\n",
       "      <th>25%</th>\n",
       "      <td>84.480000</td>\n",
       "      <td>83.932500</td>\n",
       "    </tr>\n",
       "    <tr>\n",
       "      <th>50%</th>\n",
       "      <td>85.130000</td>\n",
       "      <td>84.495000</td>\n",
       "    </tr>\n",
       "    <tr>\n",
       "      <th>75%</th>\n",
       "      <td>85.930000</td>\n",
       "      <td>84.982500</td>\n",
       "    </tr>\n",
       "    <tr>\n",
       "      <th>max</th>\n",
       "      <td>86.290000</td>\n",
       "      <td>86.180000</td>\n",
       "    </tr>\n",
       "  </tbody>\n",
       "</table>\n",
       "</div>"
      ],
      "text/plain": [
       "       percentage of input passed filter  percentage of input non-chimeric\n",
       "count                           6.000000                          6.000000\n",
       "mean                           85.198333                         84.525000\n",
       "std                             0.885899                          1.067272\n",
       "min                            84.180000                         83.090000\n",
       "25%                            84.480000                         83.932500\n",
       "50%                            85.130000                         84.495000\n",
       "75%                            85.930000                         84.982500\n",
       "max                            86.290000                         86.180000"
      ]
     },
     "execution_count": 17,
     "metadata": {},
     "output_type": "execute_result"
    }
   ],
   "source": [
    "stat.view(Metadata).to_dataframe().describe()[percent_phases]"
   ]
  },
  {
   "cell_type": "code",
   "execution_count": 18,
   "id": "e74152e0",
   "metadata": {
    "ExecuteTime": {
     "end_time": "2022-05-30T19:57:39.957632Z",
     "start_time": "2022-05-30T19:57:39.953762Z"
    },
    "execution": {
     "iopub.execute_input": "2024-02-19T22:54:42.016257Z",
     "iopub.status.busy": "2024-02-19T22:54:42.015729Z",
     "iopub.status.idle": "2024-02-19T22:54:42.019024Z",
     "shell.execute_reply": "2024-02-19T22:54:42.018713Z"
    },
    "papermill": {
     "duration": 0.010782,
     "end_time": "2024-02-19T22:54:42.020173",
     "exception": false,
     "start_time": "2024-02-19T22:54:42.009391",
     "status": "completed"
    },
    "tags": []
   },
   "outputs": [
    {
     "data": {
      "text/html": [
       "<div><img onload=\"(function(div, url){\n",
       "if (typeof require !== 'undefined') {\n",
       "    var baseURL = require.toUrl('').split('/').slice(0, -2).join('/');\n",
       "} else {\n",
       "    var baseURL = JSON.parse(\n",
       "        document.getElementById('jupyter-config-data').innerHTML\n",
       "    ).baseUrl.slice(0, -1);\n",
       "}\n",
       "url = baseURL + url;\n",
       "fetch(url).then(function(res) {\n",
       "    if (res.status === 404) {\n",
       "        div.innerHTML = 'Install QIIME 2 Jupyter extension with:<br />' +\n",
       "                        '<code>jupyter serverextension enable --py qiime2' +\n",
       "                        ' --sys-prefix</code><br />then restart your server.' +\n",
       "                        '<br /><br />(Interactive output not available on ' +\n",
       "                        'static notebook viewer services like nbviewer.)';\n",
       "    } else if (res.status === 409) {\n",
       "        div.innerHTML = 'Visualization no longer in scope. Re-run this cell' +\n",
       "                        ' to see the visualization.';\n",
       "    } else if (res.ok) {\n",
       "        url = res.url;\n",
       "        div.innerHTML = '<iframe src=\\'' + url + '\\' style=\\'' +\n",
       "                        'width: 100%; height: 700px; border: 0;\\'>' +\n",
       "                        '</iframe><hr />Open in a: <a href=\\'' + url + '\\'' +\n",
       "                        ' target=\\'_blank\\'>new window</a>'\n",
       "    } else {\n",
       "        div.innerHTML = 'Something has gone wrong. Check notebook server for' +\n",
       "                        ' errors.';\n",
       "    }\n",
       "});\n",
       "})(this.parentElement, '/qiime2/redirect?location=/tmp/qiime2/lauro/data/ccf4355c-2cb8-441a-8eba-3a573e75759c')\" src=\"data:image/gif;base64,R0lGODlhAQABAIAAAP///wAAACH5BAEAAAAALAAAAAABAAEAAAICRAEAOw==\" /></div>"
      ],
      "text/plain": [
       "<visualization: Visualization uuid: ccf4355c-2cb8-441a-8eba-3a573e75759c>"
      ]
     },
     "execution_count": 18,
     "metadata": {},
     "output_type": "execute_result"
    }
   ],
   "source": [
    "stat_view"
   ]
  }
 ],
 "metadata": {
  "celltoolbar": "Edit Metadata",
  "kernelspec": {
   "display_name": "Python 3 (ipykernel)",
   "language": "python",
   "name": "python3"
  },
  "language_info": {
   "codemirror_mode": {
    "name": "ipython",
    "version": 3
   },
   "file_extension": ".py",
   "mimetype": "text/x-python",
   "name": "python",
   "nbconvert_exporter": "python",
   "pygments_lexer": "ipython3",
   "version": "3.8.16"
  },
  "papermill": {
   "default_parameters": {},
   "duration": 147.147169,
   "end_time": "2024-02-19T22:54:42.743107",
   "environment_variables": {},
   "exception": null,
   "input_path": "nb-templates/step-quality-control.ipynb",
   "output_path": "/home/lauro/rede-micro/redemicro-thayane/experiments/thayane-PM-single-end/nb-executed-steps/step-quality-control-thayane-PM-single-end.ipynb",
   "parameters": {
    "base_dir": "/mnt/nupeb/rede-micro/redemicro-thayane",
    "class_col": "above_10",
    "classifier_file": "/mnt/nupeb/rede-micro/datasets/16S_classifiers_qiime2/silva-138-99-nb-classifier.qza",
    "experiment_name": "thayane-PM-single-end",
    "manifest_file": "/mnt/nupeb/rede-micro/redemicro-thayane/data/manifest-single.csv",
    "metadata_file": "/mnt/nupeb/rede-micro/redemicro-thayane/data/single-end-metadata.tsv",
    "overlap": 12,
    "phred": 20,
    "replace_files": false,
    "threads": 6,
    "trunc_f": 0,
    "trunc_r": 0
   },
   "start_time": "2024-02-19T22:52:15.595938",
   "version": "2.4.0"
  },
  "toc-autonumbering": false,
  "toc-showcode": false,
  "toc-showmarkdowntxt": false
 },
 "nbformat": 4,
 "nbformat_minor": 5
}