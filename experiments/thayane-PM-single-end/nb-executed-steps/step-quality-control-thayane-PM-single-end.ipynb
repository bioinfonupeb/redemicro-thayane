{
 "cells": [
  {
   "cell_type": "markdown",
   "id": "0856c5a5",
   "metadata": {
    "papermill": {
     "duration": 0.023963,
     "end_time": "2023-06-02T13:41:33.330699",
     "exception": false,
     "start_time": "2023-06-02T13:41:33.306736",
     "status": "completed"
    },
    "tags": []
   },
   "source": [
    "# Quality Control and ASV table construction with DADA2"
   ]
  },
  {
   "cell_type": "markdown",
   "id": "ce9e0362",
   "metadata": {
    "papermill": {
     "duration": 0.046785,
     "end_time": "2023-06-02T13:41:33.453785",
     "exception": false,
     "start_time": "2023-06-02T13:41:33.407000",
     "status": "completed"
    },
    "tags": []
   },
   "source": [
    "## Setup and settings"
   ]
  },
  {
   "cell_type": "code",
   "execution_count": 1,
   "id": "e6a4146f",
   "metadata": {
    "ExecuteTime": {
     "end_time": "2023-06-02T15:06:47.127312Z",
     "start_time": "2023-06-02T15:06:37.725140Z"
    },
    "execution": {
     "iopub.execute_input": "2023-06-02T13:41:33.485017Z",
     "iopub.status.busy": "2023-06-02T13:41:33.484562Z",
     "iopub.status.idle": "2023-06-02T13:41:39.962071Z",
     "shell.execute_reply": "2023-06-02T13:41:39.961354Z"
    },
    "papermill": {
     "duration": 6.496608,
     "end_time": "2023-06-02T13:41:39.965322",
     "exception": false,
     "start_time": "2023-06-02T13:41:33.468714",
     "status": "completed"
    },
    "tags": []
   },
   "outputs": [],
   "source": [
    "# Importing packages\n",
    "import os\n",
    "import yaml\n",
    "import logging\n",
    "import pandas as pd\n",
    "from qiime2 import Artifact\n",
    "from qiime2 import Visualization\n",
    "from qiime2 import Metadata\n",
    "import qiime2.plugins.dada2.actions as dada2_actions\n",
    "import qiime2.plugins.metadata.actions as metadata_actions\n",
    "from qiime2.plugins.feature_table.visualizers import tabulate_seqs\n",
    "from qiime2.plugins.feature_table.visualizers import summarize\n",
    "from qiime2.plugins.feature_table.visualizers import core_features\n",
    "\n",
    "import matplotlib.pyplot as plt\n",
    "\n",
    "%matplotlib inline"
   ]
  },
  {
   "cell_type": "markdown",
   "id": "d85b55de",
   "metadata": {
    "papermill": {
     "duration": 0.096067,
     "end_time": "2023-06-02T13:41:40.081754",
     "exception": false,
     "start_time": "2023-06-02T13:41:39.985687",
     "status": "completed"
    },
    "tags": []
   },
   "source": [
    "### Receiving the parameters\n",
    "\n",
    "The following cell can receive parameters using the [papermill](https://papermill.readthedocs.io/en/latest/) tool."
   ]
  },
  {
   "cell_type": "code",
   "execution_count": 2,
   "id": "cfcacfe8",
   "metadata": {
    "ExecuteTime": {
     "end_time": "2023-06-02T15:06:47.135413Z",
     "start_time": "2023-06-02T15:06:47.130970Z"
    },
    "execution": {
     "iopub.execute_input": "2023-06-02T13:41:40.125768Z",
     "iopub.status.busy": "2023-06-02T13:41:40.125538Z",
     "iopub.status.idle": "2023-06-02T13:41:40.131488Z",
     "shell.execute_reply": "2023-06-02T13:41:40.130713Z"
    },
    "papermill": {
     "duration": 0.022148,
     "end_time": "2023-06-02T13:41:40.133073",
     "exception": false,
     "start_time": "2023-06-02T13:41:40.110925",
     "status": "completed"
    },
    "tags": [
     "parameters"
    ]
   },
   "outputs": [],
   "source": [
    "experiment_name = 'ana-flavia-superlactacao'\n",
    "base_dir = os.path.join('/', 'home', 'lauro', 'nupeb', 'redemicro')\n",
    "metadata_file = os.path.join(base_dir, 'data', 'raw', 'metadata', 'sample-metadata.tsv')\n",
    "manifest_file = os.path.join(base_dir, 'data', 'raw', 'manifest', 'sample-manifest.csv')\n",
    "replace_files = False\n",
    "phred = 20\n",
    "trunc_f = 0\n",
    "trunc_r = 0\n",
    "overlap = 12\n",
    "threads = 6\n",
    "trim = None"
   ]
  },
  {
   "cell_type": "code",
   "execution_count": 3,
   "id": "ad574d4b",
   "metadata": {
    "ExecuteTime": {
     "end_time": "2023-06-02T15:06:47.175178Z",
     "start_time": "2023-06-02T15:06:47.137333Z"
    },
    "execution": {
     "iopub.execute_input": "2023-06-02T13:41:40.180173Z",
     "iopub.status.busy": "2023-06-02T13:41:40.180017Z",
     "iopub.status.idle": "2023-06-02T13:41:40.183768Z",
     "shell.execute_reply": "2023-06-02T13:41:40.183295Z"
    },
    "papermill": {
     "duration": 0.036524,
     "end_time": "2023-06-02T13:41:40.185371",
     "exception": false,
     "start_time": "2023-06-02T13:41:40.148847",
     "status": "completed"
    },
    "tags": [
     "injected-parameters"
    ]
   },
   "outputs": [],
   "source": [
    "# Parameters\n",
    "experiment_name = \"thayane-PM-single-end\"\n",
    "base_dir = \"/home/lauro/nupeb/rede-micro/redemicro-thayane\"\n",
    "manifest_file = (\n",
    "    \"/home/lauro/nupeb/rede-micro/redemicro-thayane/data/manifest-single.csv\"\n",
    ")\n",
    "metadata_file = (\n",
    "    \"/home/lauro/nupeb/rede-micro/redemicro-thayane/data/single-end-metadata.tsv\"\n",
    ")\n",
    "class_col = \"above_10\"\n",
    "classifier_file = (\n",
    "    \"/home/lauro/nupeb/16S_classifiers_qiime2/silva-138-99-nb-classifier.qza\"\n",
    ")\n",
    "replace_files = False\n",
    "phred = 20\n",
    "trunc_f = 0\n",
    "trunc_r = 0\n",
    "overlap = 12\n",
    "threads = 6\n"
   ]
  },
  {
   "cell_type": "code",
   "execution_count": 4,
   "id": "8217c69a",
   "metadata": {
    "ExecuteTime": {
     "end_time": "2023-06-02T15:06:47.193852Z",
     "start_time": "2023-06-02T15:06:47.177742Z"
    },
    "execution": {
     "iopub.execute_input": "2023-06-02T13:41:40.213524Z",
     "iopub.status.busy": "2023-06-02T13:41:40.213372Z",
     "iopub.status.idle": "2023-06-02T13:41:40.217791Z",
     "shell.execute_reply": "2023-06-02T13:41:40.217357Z"
    },
    "papermill": {
     "duration": 0.020029,
     "end_time": "2023-06-02T13:41:40.219206",
     "exception": false,
     "start_time": "2023-06-02T13:41:40.199177",
     "status": "completed"
    },
    "tags": []
   },
   "outputs": [],
   "source": [
    "# Setting hardcoded parameters for development and debbuging\n",
    "production = True\n",
    "if not production:\n",
    "    params_path = os.path.join('..', 'params', 'ana-flavia-superlactacao.yaml')\n",
    "    with open(params_path, 'r') as stream:\n",
    "        params = yaml.safe_load(stream)\n",
    "        experiment_name = params['experiment_name']\n",
    "        base_dir = params['base_dir']\n",
    "        replace_files = params['replace_files']\n",
    "        experiment_folder = os.path.abspath(os.path.join(os.getcwd(), '..', 'experiments', 'thayane-feces-01'))\n",
    "        img_folder = os.path.abspath(os.path.join(experiment_folder, 'imgs'))\n",
    "        replace_files = False\n",
    "        phred = 20\n",
    "        trunc_f = 0\n",
    "        trunc_r = 0\n",
    "        overlap = 12\n",
    "        threads = 6"
   ]
  },
  {
   "cell_type": "code",
   "execution_count": 5,
   "id": "3688e05d",
   "metadata": {
    "ExecuteTime": {
     "end_time": "2023-06-02T15:06:47.205318Z",
     "start_time": "2023-06-02T15:06:47.195865Z"
    },
    "execution": {
     "iopub.execute_input": "2023-06-02T13:41:40.247748Z",
     "iopub.status.busy": "2023-06-02T13:41:40.247508Z",
     "iopub.status.idle": "2023-06-02T13:41:40.250558Z",
     "shell.execute_reply": "2023-06-02T13:41:40.250124Z"
    },
    "papermill": {
     "duration": 0.018552,
     "end_time": "2023-06-02T13:41:40.251867",
     "exception": false,
     "start_time": "2023-06-02T13:41:40.233315",
     "status": "completed"
    },
    "tags": []
   },
   "outputs": [],
   "source": [
    "experiment_folder = os.path.abspath(os.path.join(base_dir, 'experiments', experiment_name))\n",
    "img_folder = os.path.abspath(os.path.join(experiment_folder, 'imgs'))"
   ]
  },
  {
   "cell_type": "markdown",
   "id": "6beeb85b",
   "metadata": {
    "papermill": {
     "duration": 0.013517,
     "end_time": "2023-06-02T13:41:40.278934",
     "exception": false,
     "start_time": "2023-06-02T13:41:40.265417",
     "status": "completed"
    },
    "tags": []
   },
   "source": [
    "### Defining names and paths"
   ]
  },
  {
   "cell_type": "code",
   "execution_count": 6,
   "id": "c1cac017",
   "metadata": {
    "ExecuteTime": {
     "end_time": "2023-06-02T15:06:47.219243Z",
     "start_time": "2023-06-02T15:06:47.207230Z"
    },
    "execution": {
     "iopub.execute_input": "2023-06-02T13:41:40.307097Z",
     "iopub.status.busy": "2023-06-02T13:41:40.306892Z",
     "iopub.status.idle": "2023-06-02T13:41:40.312589Z",
     "shell.execute_reply": "2023-06-02T13:41:40.311960Z"
    },
    "papermill": {
     "duration": 0.021453,
     "end_time": "2023-06-02T13:41:40.313977",
     "exception": false,
     "start_time": "2023-06-02T13:41:40.292524",
     "status": "completed"
    },
    "tags": []
   },
   "outputs": [],
   "source": [
    "qiime_folder = os.path.join(experiment_folder, 'qiime-artifacts')\n",
    "\n",
    "if trim:\n",
    "    demux_file = os.path.join(qiime_folder, 'demux-paired-trim.qza')\n",
    "else:\n",
    "    demux_file = os.path.join(qiime_folder, 'demux-paired.qza')\n",
    "\n",
    "dada2_tabs = os.path.join(qiime_folder, 'dada2-tabs.qza')\n",
    "dada2_reps = os.path.join(qiime_folder, 'dada2-reps.qza')\n",
    "dada2_stat = os.path.join(qiime_folder, 'dada2-stat.qza')\n",
    "\n",
    "\n",
    "dada2_tabs_view = dada2_tabs[:-1] + 'v'\n",
    "dada2_reps_view = dada2_reps[:-1] + 'v'\n",
    "dada2_stat_view = dada2_stat[:-1] + 'v'\n",
    "dada2_core_view = os.path.join(qiime_folder, 'dada2-core.qzv')"
   ]
  },
  {
   "cell_type": "markdown",
   "id": "d8705a67",
   "metadata": {
    "papermill": {
     "duration": 0.013689,
     "end_time": "2023-06-02T13:41:40.342981",
     "exception": false,
     "start_time": "2023-06-02T13:41:40.329292",
     "status": "completed"
    },
    "tags": []
   },
   "source": [
    "## Step execution\n",
    "\n",
    "### Load input files\n",
    "\n",
    "This Step import the QIIME2 `SampleData[PairedEndSequencesWithQuality]` Artifact with all demultiplexed sequences and the `Metadata` file."
   ]
  },
  {
   "cell_type": "code",
   "execution_count": 7,
   "id": "2d23608a",
   "metadata": {
    "ExecuteTime": {
     "end_time": "2023-06-02T15:06:47.234339Z",
     "start_time": "2023-06-02T15:06:47.221254Z"
    },
    "execution": {
     "iopub.execute_input": "2023-06-02T13:41:40.372716Z",
     "iopub.status.busy": "2023-06-02T13:41:40.372492Z",
     "iopub.status.idle": "2023-06-02T13:41:40.377314Z",
     "shell.execute_reply": "2023-06-02T13:41:40.376583Z"
    },
    "papermill": {
     "duration": 0.020769,
     "end_time": "2023-06-02T13:41:40.378827",
     "exception": false,
     "start_time": "2023-06-02T13:41:40.358058",
     "status": "completed"
    },
    "tags": []
   },
   "outputs": [],
   "source": [
    "need_dada2 = not (os.path.isfile(dada2_tabs) and os.path.isfile(dada2_reps) and os.path.isfile(dada2_stat)) or replace_files\n",
    "need_view = not (os.path.isfile(dada2_tabs_view) and os.path.isfile(dada2_reps_view) and os.path.isfile(dada2_stat_view)) or replace_files"
   ]
  },
  {
   "cell_type": "code",
   "execution_count": 8,
   "id": "4dabfa69",
   "metadata": {
    "ExecuteTime": {
     "end_time": "2023-06-02T15:06:47.358867Z",
     "start_time": "2023-06-02T15:06:47.236246Z"
    },
    "execution": {
     "iopub.execute_input": "2023-06-02T13:41:40.407438Z",
     "iopub.status.busy": "2023-06-02T13:41:40.407110Z",
     "iopub.status.idle": "2023-06-02T13:41:40.488987Z",
     "shell.execute_reply": "2023-06-02T13:41:40.488505Z"
    },
    "papermill": {
     "duration": 0.098104,
     "end_time": "2023-06-02T13:41:40.490627",
     "exception": false,
     "start_time": "2023-06-02T13:41:40.392523",
     "status": "completed"
    },
    "tags": []
   },
   "outputs": [],
   "source": [
    "if need_dada2:\n",
    "    demux = Artifact.load(demux_file)"
   ]
  },
  {
   "cell_type": "code",
   "execution_count": 9,
   "id": "2ee06bb7",
   "metadata": {
    "ExecuteTime": {
     "end_time": "2023-06-02T15:06:47.381837Z",
     "start_time": "2023-06-02T15:06:47.360452Z"
    },
    "execution": {
     "iopub.execute_input": "2023-06-02T13:41:40.523690Z",
     "iopub.status.busy": "2023-06-02T13:41:40.523467Z",
     "iopub.status.idle": "2023-06-02T13:41:40.543195Z",
     "shell.execute_reply": "2023-06-02T13:41:40.542556Z"
    },
    "papermill": {
     "duration": 0.036409,
     "end_time": "2023-06-02T13:41:40.545112",
     "exception": false,
     "start_time": "2023-06-02T13:41:40.508703",
     "status": "completed"
    },
    "tags": []
   },
   "outputs": [],
   "source": [
    "metadata = Metadata.load(metadata_file)"
   ]
  },
  {
   "cell_type": "code",
   "execution_count": 10,
   "id": "65a0413b",
   "metadata": {
    "ExecuteTime": {
     "end_time": "2023-06-02T15:06:47.406828Z",
     "start_time": "2023-06-02T15:06:47.384159Z"
    },
    "execution": {
     "iopub.execute_input": "2023-06-02T13:41:40.577807Z",
     "iopub.status.busy": "2023-06-02T13:41:40.577546Z",
     "iopub.status.idle": "2023-06-02T13:41:40.584604Z",
     "shell.execute_reply": "2023-06-02T13:41:40.583982Z"
    },
    "papermill": {
     "duration": 0.023777,
     "end_time": "2023-06-02T13:41:40.586062",
     "exception": false,
     "start_time": "2023-06-02T13:41:40.562285",
     "status": "completed"
    },
    "tags": []
   },
   "outputs": [],
   "source": [
    "# Determine if is SingleEnd or PairedEnd\n",
    "manifest_df = pd.read_csv(manifest_file)\n",
    "n_directions = len(manifest_df['direction'].unique())"
   ]
  },
  {
   "cell_type": "markdown",
   "id": "eec8dd3b",
   "metadata": {
    "papermill": {
     "duration": 0.014506,
     "end_time": "2023-06-02T13:41:40.617488",
     "exception": false,
     "start_time": "2023-06-02T13:41:40.602982",
     "status": "completed"
    },
    "tags": []
   },
   "source": [
    "### Execute DADA2 plugin and create Artifacts\n",
    "\n",
    "The DADA2 plugin perform tha quality control and create the ASV table. It will be produced three Artifacts:\n",
    "\n",
    "- tabs (`FeatureTable[Frequency]`) : \n",
    "    The resulting feature table.\n",
    "- reps (`FeatureData[Sequence]`) :\n",
    "    The resulting feature sequences. Each feature in the feature table will\n",
    "    be represented by exactly one sequence, and these sequences will be the\n",
    "    joined paired-end sequences.\n",
    "- denoising_stats (`SampleData[DADA2Stats]`) : the resulting stats. Shows the number and the proportion of filtered reads in each phase of the plugin execution."
   ]
  },
  {
   "cell_type": "code",
   "execution_count": 11,
   "id": "8edc10fe",
   "metadata": {
    "ExecuteTime": {
     "end_time": "2023-06-02T15:13:18.854724Z",
     "start_time": "2023-06-02T15:06:47.408952Z"
    },
    "execution": {
     "iopub.execute_input": "2023-06-02T13:41:40.648489Z",
     "iopub.status.busy": "2023-06-02T13:41:40.647987Z",
     "iopub.status.idle": "2023-06-02T13:44:01.909006Z",
     "shell.execute_reply": "2023-06-02T13:44:01.908405Z"
    },
    "papermill": {
     "duration": 141.279521,
     "end_time": "2023-06-02T13:44:01.911920",
     "exception": false,
     "start_time": "2023-06-02T13:41:40.632399",
     "status": "completed"
    },
    "scrolled": true,
    "tags": []
   },
   "outputs": [
    {
     "name": "stdout",
     "output_type": "stream",
     "text": [
      "Running external command line application(s). This may print messages to stdout and/or stderr.\n",
      "The command(s) being run are below. These commands cannot be manually re-run as they will depend on temporary files that no longer exist.\n",
      "\n",
      "Command: run_dada_single.R /tmp/qiime2-archive-4sag1kmj/6501c84a-3e5d-4799-a2f7-a51dc6e1e1b7/data /tmp/tmpick4dx0o/output.tsv.biom /tmp/tmpick4dx0o/track.tsv /tmp/tmpick4dx0o 0 0 2.0 20 Inf independent consensus 1.0 6 1000000 NULL 16\n",
      "\n",
      "R version 4.1.2 (2021-11-01) \n"
     ]
    },
    {
     "name": "stderr",
     "output_type": "stream",
     "text": [
      "Loading required package: Rcpp\n"
     ]
    },
    {
     "name": "stdout",
     "output_type": "stream",
     "text": [
      "DADA2: 1.22.0 / Rcpp: 1.0.8.2 / RcppParallel: 5.1.5 \n",
      "1) Filtering ......\n",
      "2) Learning Error Rates\n",
      "57016779 total bases in 402903 reads from 6 samples will be used for learning the error rates.\n",
      "3) Denoise samples ......\n",
      "4) Remove chimeras (method = consensus)\n",
      "5) Report read numbers through the pipeline\n",
      "6) Write output\n"
     ]
    }
   ],
   "source": [
    "# If some of the DADA2 outputs artifacts do not exist or if the old files will be replaced\n",
    "if need_dada2:\n",
    "    \n",
    "    # Excute the DADA2 plugin\n",
    "    if n_directions == 1: # SingleEnd\n",
    "        tabs, reps, stat = dada2_actions.denoise_single(\n",
    "            demultiplexed_seqs=demux,\n",
    "            trunc_q = phred,\n",
    "            n_threads = threads,\n",
    "            trunc_len = trunc_f,\n",
    "        )\n",
    "    elif n_directions == 2: # PairedEnd\n",
    "        tabs, reps, stat = dada2_actions.denoise_paired(\n",
    "            demultiplexed_seqs=demux,\n",
    "            trunc_q = phred,\n",
    "            min_overlap = overlap,\n",
    "            n_threads = threads,\n",
    "            trunc_len_f = trunc_f,\n",
    "            trunc_len_r = trunc_r,\n",
    "        )\n",
    "    \n",
    "    # Save the artifacts objects\n",
    "    tabs.save(dada2_tabs)\n",
    "    reps.save(dada2_reps)\n",
    "    stat.save(dada2_stat)\n",
    "\n",
    "else:\n",
    "    tabs = Artifact.load(dada2_tabs)\n",
    "    reps = Artifact.load(dada2_reps)\n",
    "    stat = Artifact.load(dada2_stat)"
   ]
  },
  {
   "cell_type": "markdown",
   "id": "d529f676",
   "metadata": {
    "papermill": {
     "duration": 0.01517,
     "end_time": "2023-06-02T13:44:01.950009",
     "exception": false,
     "start_time": "2023-06-02T13:44:01.934839",
     "status": "completed"
    },
    "tags": []
   },
   "source": [
    "### Define Visualizations Artifacts"
   ]
  },
  {
   "cell_type": "code",
   "execution_count": 12,
   "id": "0921ab24",
   "metadata": {
    "ExecuteTime": {
     "end_time": "2023-06-02T15:13:23.071312Z",
     "start_time": "2023-06-02T15:13:18.856935Z"
    },
    "execution": {
     "iopub.execute_input": "2023-06-02T13:44:01.981650Z",
     "iopub.status.busy": "2023-06-02T13:44:01.981434Z",
     "iopub.status.idle": "2023-06-02T13:44:05.270514Z",
     "shell.execute_reply": "2023-06-02T13:44:05.270002Z"
    },
    "papermill": {
     "duration": 3.308794,
     "end_time": "2023-06-02T13:44:05.273925",
     "exception": false,
     "start_time": "2023-06-02T13:44:01.965131",
     "status": "completed"
    },
    "tags": []
   },
   "outputs": [
    {
     "data": {
      "image/png": "[encoded data removed]",
      "text/plain": [
       "<Figure size 432x288 with 1 Axes>"
      ]
     },
     "metadata": {
      "needs_background": "light"
     },
     "output_type": "display_data"
    }
   ],
   "source": [
    "# If some of the DADA2 Visualization artifacts do not exist or if the old files will be replaced\n",
    "if need_view:\n",
    "    \n",
    "    tabs_view, = metadata_actions.tabulate(input=tabs.view(Metadata))\n",
    "    reps_view, = metadata_actions.tabulate(input=reps.view(Metadata))\n",
    "    stat_view, = metadata_actions.tabulate(input=stat.view(Metadata))\n",
    "    \n",
    "    tabs_view = summarize(table=tabs, sample_metadata=metadata).visualization\n",
    "    reps_view = tabulate_seqs(data=reps).visualization\n",
    "    core_view = core_features(table=tabs, min_fraction=.1, steps=10).visualization\n",
    "    \n",
    "    \n",
    "    # Save the artifacts objects\n",
    "    tabs_view.save(dada2_tabs_view)\n",
    "    reps_view.save(dada2_reps_view)\n",
    "    stat_view.save(dada2_stat_view)\n",
    "    core_view.save(dada2_core_view)\n",
    "\n",
    "else:\n",
    "    tabs_view = Visualization.load(dada2_tabs_view)\n",
    "    reps_view = Visualization.load(dada2_reps_view)\n",
    "    stat_view = Visualization.load(dada2_stat_view)\n",
    "    core_view = Visualization.load(dada2_core_view)"
   ]
  },
  {
   "cell_type": "code",
   "execution_count": 13,
   "id": "1888780b",
   "metadata": {
    "ExecuteTime": {
     "end_time": "2023-06-02T15:13:23.081092Z",
     "start_time": "2023-06-02T15:13:23.073199Z"
    },
    "execution": {
     "iopub.execute_input": "2023-06-02T13:44:05.317836Z",
     "iopub.status.busy": "2023-06-02T13:44:05.317655Z",
     "iopub.status.idle": "2023-06-02T13:44:05.323434Z",
     "shell.execute_reply": "2023-06-02T13:44:05.322856Z"
    },
    "papermill": {
     "duration": 0.026751,
     "end_time": "2023-06-02T13:44:05.324810",
     "exception": false,
     "start_time": "2023-06-02T13:44:05.298059",
     "status": "completed"
    },
    "tags": []
   },
   "outputs": [],
   "source": [
    "def plot_stats_box(artifact, fname, total_reads_phases, percent_phases, cols):\n",
    "    import matplotlib.pyplot as plt\n",
    "    from qiime2 import Metadata\n",
    "    \n",
    "    df = artifact.view(Metadata).to_dataframe()\n",
    "    df_vals = df[total_reads_phases]\n",
    "    df_perc = df[percent_phases]\n",
    "    df_perc.columns = cols\n",
    "    \n",
    "    \n",
    "    plt.figure(figsize=(15,5))\n",
    "    plt.subplot(1, 2, 1)\n",
    "    df_vals.boxplot()\n",
    "    plt.xlabel('Fases')\n",
    "    plt.ylabel('# of reads')\n",
    "    \n",
    "    plt.subplot(1, 2, 2)\n",
    "    df_perc.boxplot()\n",
    "    plt.xlabel('Fases')\n",
    "    plt.ylabel('% of input')\n",
    "    \n",
    "    plt.savefig(fname, bbox_inches='tight')\n",
    "\n",
    "    plt.show()"
   ]
  },
  {
   "cell_type": "code",
   "execution_count": 14,
   "id": "3b48b0be",
   "metadata": {
    "ExecuteTime": {
     "end_time": "2023-06-02T15:13:23.137073Z",
     "start_time": "2023-06-02T15:13:23.082908Z"
    },
    "execution": {
     "iopub.execute_input": "2023-06-02T13:44:05.362663Z",
     "iopub.status.busy": "2023-06-02T13:44:05.362283Z",
     "iopub.status.idle": "2023-06-02T13:44:05.368240Z",
     "shell.execute_reply": "2023-06-02T13:44:05.367546Z"
    },
    "papermill": {
     "duration": 0.02672,
     "end_time": "2023-06-02T13:44:05.369858",
     "exception": false,
     "start_time": "2023-06-02T13:44:05.343138",
     "status": "completed"
    },
    "tags": []
   },
   "outputs": [],
   "source": [
    "if n_directions == 1: # SingleEnd\n",
    "    total_reads_phases = ['input', 'filtered', 'denoised', 'non-chimeric']\n",
    "    percent_phases = ['percentage of input passed filter', 'percentage of input non-chimeric']\n",
    "    cols = ['filtered', 'non-chimeric']\n",
    "elif n_directions == 2: # PairedEnd\n",
    "    total_reads_phases = ['input', 'filtered', 'denoised', 'merged', 'non-chimeric']\n",
    "    percent_phases = ['percentage of input passed filter', 'percentage of input merged', 'percentage of input non-chimeric']\n",
    "    cols = ['filtered', 'merged', 'non-chimeric']"
   ]
  },
  {
   "cell_type": "code",
   "execution_count": 15,
   "id": "16c38ba8",
   "metadata": {
    "ExecuteTime": {
     "end_time": "2023-06-02T15:13:23.923611Z",
     "start_time": "2023-06-02T15:13:23.139050Z"
    },
    "execution": {
     "iopub.execute_input": "2023-06-02T13:44:05.410412Z",
     "iopub.status.busy": "2023-06-02T13:44:05.410022Z",
     "iopub.status.idle": "2023-06-02T13:44:05.858494Z",
     "shell.execute_reply": "2023-06-02T13:44:05.857790Z"
    },
    "papermill": {
     "duration": 0.470984,
     "end_time": "2023-06-02T13:44:05.860626",
     "exception": false,
     "start_time": "2023-06-02T13:44:05.389642",
     "status": "completed"
    },
    "scrolled": true,
    "tags": []
   },
   "outputs": [
    {
     "data": {
      "image/png": "[encoded data removed]",
      "text/plain": [
       "<Figure size 1080x360 with 2 Axes>"
      ]
     },
     "metadata": {
      "needs_background": "light"
     },
     "output_type": "display_data"
    }
   ],
   "source": [
    "plot_stats_box(stat, os.path.join(img_folder, 'step02-stats-boxplot.pdf'), total_reads_phases, percent_phases, cols)"
   ]
  },
  {
   "cell_type": "code",
   "execution_count": 16,
   "id": "ad84d58c",
   "metadata": {
    "ExecuteTime": {
     "end_time": "2023-06-02T15:13:23.954852Z",
     "start_time": "2023-06-02T15:13:23.925158Z"
    },
    "execution": {
     "iopub.execute_input": "2023-06-02T13:44:05.909376Z",
     "iopub.status.busy": "2023-06-02T13:44:05.909113Z",
     "iopub.status.idle": "2023-06-02T13:44:05.944874Z",
     "shell.execute_reply": "2023-06-02T13:44:05.944309Z"
    },
    "papermill": {
     "duration": 0.060484,
     "end_time": "2023-06-02T13:44:05.946957",
     "exception": false,
     "start_time": "2023-06-02T13:44:05.886473",
     "status": "completed"
    },
    "tags": []
   },
   "outputs": [
    {
     "data": {
      "text/html": [
       "<div>\n",
       "<style scoped>\n",
       "    .dataframe tbody tr th:only-of-type {\n",
       "        vertical-align: middle;\n",
       "    }\n",
       "\n",
       "    .dataframe tbody tr th {\n",
       "        vertical-align: top;\n",
       "    }\n",
       "\n",
       "    .dataframe thead th {\n",
       "        text-align: right;\n",
       "    }\n",
       "</style>\n",
       "<table border=\"1\" class=\"dataframe\">\n",
       "  <thead>\n",
       "    <tr style=\"text-align: right;\">\n",
       "      <th></th>\n",
       "      <th>percentage of input passed filter</th>\n",
       "      <th>percentage of input non-chimeric</th>\n",
       "    </tr>\n",
       "  </thead>\n",
       "  <tbody>\n",
       "    <tr>\n",
       "      <th>count</th>\n",
       "      <td>6.000000</td>\n",
       "      <td>6.000000</td>\n",
       "    </tr>\n",
       "    <tr>\n",
       "      <th>mean</th>\n",
       "      <td>85.198333</td>\n",
       "      <td>84.525000</td>\n",
       "    </tr>\n",
       "    <tr>\n",
       "      <th>std</th>\n",
       "      <td>0.885899</td>\n",
       "      <td>1.067272</td>\n",
       "    </tr>\n",
       "    <tr>\n",
       "      <th>min</th>\n",
       "      <td>84.180000</td>\n",
       "      <td>83.090000</td>\n",
       "    </tr>\n",
       "    <tr>\n",
       "      <th>25%</th>\n",
       "      <td>84.480000</td>\n",
       "      <td>83.932500</td>\n",
       "    </tr>\n",
       "    <tr>\n",
       "      <th>50%</th>\n",
       "      <td>85.130000</td>\n",
       "      <td>84.495000</td>\n",
       "    </tr>\n",
       "    <tr>\n",
       "      <th>75%</th>\n",
       "      <td>85.930000</td>\n",
       "      <td>84.982500</td>\n",
       "    </tr>\n",
       "    <tr>\n",
       "      <th>max</th>\n",
       "      <td>86.290000</td>\n",
       "      <td>86.180000</td>\n",
       "    </tr>\n",
       "  </tbody>\n",
       "</table>\n",
       "</div>"
      ],
      "text/plain": [
       "       percentage of input passed filter  percentage of input non-chimeric\n",
       "count                           6.000000                          6.000000\n",
       "mean                           85.198333                         84.525000\n",
       "std                             0.885899                          1.067272\n",
       "min                            84.180000                         83.090000\n",
       "25%                            84.480000                         83.932500\n",
       "50%                            85.130000                         84.495000\n",
       "75%                            85.930000                         84.982500\n",
       "max                            86.290000                         86.180000"
      ]
     },
     "execution_count": 16,
     "metadata": {},
     "output_type": "execute_result"
    }
   ],
   "source": [
    "stat.view(Metadata).to_dataframe().describe()[percent_phases]"
   ]
  },
  {
   "cell_type": "code",
   "execution_count": 17,
   "id": "fb95db8a",
   "metadata": {
    "ExecuteTime": {
     "end_time": "2023-06-02T15:13:23.960552Z",
     "start_time": "2023-06-02T15:13:23.956429Z"
    },
    "execution": {
     "iopub.execute_input": "2023-06-02T13:44:05.994254Z",
     "iopub.status.busy": "2023-06-02T13:44:05.993964Z",
     "iopub.status.idle": "2023-06-02T13:44:05.999671Z",
     "shell.execute_reply": "2023-06-02T13:44:05.999030Z"
    },
    "papermill": {
     "duration": 0.028729,
     "end_time": "2023-06-02T13:44:06.001212",
     "exception": false,
     "start_time": "2023-06-02T13:44:05.972483",
     "status": "completed"
    },
    "tags": []
   },
   "outputs": [
    {
     "data": {
      "text/html": [
       "<div><img onload=\"(function(div, url){\n",
       "if (typeof require !== 'undefined') {\n",
       "    var baseURL = require.toUrl('').split('/').slice(0, -2).join('/');\n",
       "} else {\n",
       "    var baseURL = JSON.parse(\n",
       "        document.getElementById('jupyter-config-data').innerHTML\n",
       "    ).baseUrl.slice(0, -1);\n",
       "}\n",
       "url = baseURL + url;\n",
       "fetch(url).then(function(res) {\n",
       "    if (res.status === 404) {\n",
       "        div.innerHTML = 'Install QIIME 2 Jupyter extension with:<br />' +\n",
       "                        '<code>jupyter serverextension enable --py qiime2' +\n",
       "                        ' --sys-prefix</code><br />then restart your server.' +\n",
       "                        '<br /><br />(Interactive output not available on ' +\n",
       "                        'static notebook viewer services like nbviewer.)';\n",
       "    } else if (res.status === 409) {\n",
       "        div.innerHTML = 'Visualization no longer in scope. Re-run this cell' +\n",
       "                        ' to see the visualization.';\n",
       "    } else if (res.ok) {\n",
       "        url = res.url;\n",
       "        div.innerHTML = '<iframe src=\\'' + url + '\\' style=\\'' +\n",
       "                        'width: 100%; height: 700px; border: 0;\\'>' +\n",
       "                        '</iframe><hr />Open in a: <a href=\\'' + url + '\\'' +\n",
       "                        ' target=\\'_blank\\'>new window</a>'\n",
       "    } else {\n",
       "        div.innerHTML = 'Something has gone wrong. Check notebook server for' +\n",
       "                        ' errors.';\n",
       "    }\n",
       "});\n",
       "})(this.parentElement, '/qiime2/redirect?location=/tmp/qiime2-archive-g9bhrvqn')\" src=\"data:image/gif;base64,R0lGODlhAQABAIAAAP///wAAACH5BAEAAAAALAAAAAABAAEAAAICRAEAOw==\" /></div>"
      ],
      "text/plain": [
       "<visualization: Visualization uuid: 4abdb993-fc37-4588-b0a4-869afd6f28db>"
      ]
     },
     "execution_count": 17,
     "metadata": {},
     "output_type": "execute_result"
    }
   ],
   "source": [
    "stat_view"
   ]
  },
  {
   "cell_type": "code",
   "execution_count": 18,
   "id": "8e3c5d4f",
   "metadata": {
    "ExecuteTime": {
     "end_time": "2023-06-02T15:13:23.970891Z",
     "start_time": "2023-06-02T15:13:23.962028Z"
    },
    "execution": {
     "iopub.execute_input": "2023-06-02T13:44:06.047832Z",
     "iopub.status.busy": "2023-06-02T13:44:06.047438Z",
     "iopub.status.idle": "2023-06-02T13:44:06.051631Z",
     "shell.execute_reply": "2023-06-02T13:44:06.050896Z"
    },
    "papermill": {
     "duration": 0.029484,
     "end_time": "2023-06-02T13:44:06.053243",
     "exception": false,
     "start_time": "2023-06-02T13:44:06.023759",
     "status": "completed"
    },
    "tags": []
   },
   "outputs": [],
   "source": [
    "# new_stat = Artifact.load('/home/lauro/nupeb/redemicro/experiments/thayane-feces-01/qiime-artifacts/dada2-stat.qza')\n",
    "# # new_view, = metadata_actions.tabulate(input=new_stat.view(Metadata))\n",
    "# # plot_stats_box(old_stat)\n",
    "\n",
    "# old_stat = Artifact.load('/home/lauro/nupeb/dados_brutos_rede_genoma/experiments/fezes-phred_20-tf_0-tr_0-lap_4/fezes_dada2_stat.qza')\n",
    "# # old_view, = metadata_actions.tabulate(input=old_stat.view(Metadata))\n",
    "# # plot_stats_box(old_stat)\n",
    "\n",
    "# plot_stats_box_pairs(old_stat, new_stat)"
   ]
  }
 ],
 "metadata": {
  "celltoolbar": "Edit Metadata",
  "kernelspec": {
   "display_name": "Python 3 (ipykernel)",
   "language": "python",
   "name": "python3"
  },
  "language_info": {
   "codemirror_mode": {
    "name": "ipython",
    "version": 3
   },
   "file_extension": ".py",
   "mimetype": "text/x-python",
   "name": "python",
   "nbconvert_exporter": "python",
   "pygments_lexer": "ipython3",
   "version": "3.8.12"
  },
  "papermill": {
   "default_parameters": {},
   "duration": 155.425322,
   "end_time": "2023-06-02T13:44:06.996583",
   "environment_variables": {},
   "exception": null,
   "input_path": "nb-templates/step-quality-control.ipynb",
   "output_path": "/home/lauro/nupeb/rede-micro/redemicro-thayane/experiments/thayane-PM-single-end/nb-executed-steps/step-quality-control-thayane-PM-single-end.ipynb",
   "parameters": {
    "base_dir": "/home/lauro/nupeb/rede-micro/redemicro-thayane",
    "class_col": "above_10",
    "classifier_file": "/home/lauro/nupeb/16S_classifiers_qiime2/silva-138-99-nb-classifier.qza",
    "experiment_name": "thayane-PM-single-end",
    "manifest_file": "/home/lauro/nupeb/rede-micro/redemicro-thayane/data/manifest-single.csv",
    "metadata_file": "/home/lauro/nupeb/rede-micro/redemicro-thayane/data/single-end-metadata.tsv",
    "overlap": 12,
    "phred": 20,
    "replace_files": false,
    "threads": 6,
    "trunc_f": 0,
    "trunc_r": 0
   },
   "start_time": "2023-06-02T13:41:31.571261",
   "version": "2.3.4"
  },
  "toc-autonumbering": false,
  "toc-showcode": false,
  "toc-showmarkdowntxt": false
 },
 "nbformat": 4,
 "nbformat_minor": 5
}
