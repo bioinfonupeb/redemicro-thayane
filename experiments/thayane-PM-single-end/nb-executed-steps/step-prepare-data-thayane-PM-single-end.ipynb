{
 "cells": [
  {
   "cell_type": "markdown",
   "id": "09de1415",
   "metadata": {
    "papermill": {
     "duration": 0.002245,
     "end_time": "2024-02-19T22:51:51.848337",
     "exception": false,
     "start_time": "2024-02-19T22:51:51.846092",
     "status": "completed"
    },
    "tags": []
   },
   "source": [
    "# Prepare data for Pipeline"
   ]
  },
  {
   "cell_type": "markdown",
   "id": "c639767d",
   "metadata": {
    "papermill": {
     "duration": 0.001632,
     "end_time": "2024-02-19T22:51:51.853350",
     "exception": false,
     "start_time": "2024-02-19T22:51:51.851718",
     "status": "completed"
    },
    "tags": []
   },
   "source": [
    "## Setup and settings"
   ]
  },
  {
   "cell_type": "code",
   "execution_count": 1,
   "id": "8f89da1e",
   "metadata": {
    "ExecuteTime": {
     "end_time": "2022-10-14T14:33:37.863523Z",
     "start_time": "2022-10-14T14:33:14.145712Z"
    },
    "execution": {
     "iopub.execute_input": "2024-02-19T22:51:51.857445Z",
     "iopub.status.busy": "2024-02-19T22:51:51.857254Z",
     "iopub.status.idle": "2024-02-19T22:51:56.665459Z",
     "shell.execute_reply": "2024-02-19T22:51:56.664941Z"
    },
    "papermill": {
     "duration": 4.811873,
     "end_time": "2024-02-19T22:51:56.666832",
     "exception": false,
     "start_time": "2024-02-19T22:51:51.854959",
     "status": "completed"
    },
    "tags": []
   },
   "outputs": [],
   "source": [
    "# Importing packages\n",
    "import os\n",
    "import yaml\n",
    "import logging\n",
    "import pandas as pd\n",
    "from Bio.Seq import Seq\n",
    "from qiime2 import Artifact, Visualization, Metadata\n",
    "from qiime2.plugins import demux\n",
    "from qiime2.plugins.cutadapt.methods import trim_paired, trim_single\n",
    "from qiime2.plugins.demux.methods import filter_samples"
   ]
  },
  {
   "cell_type": "markdown",
   "id": "cf6d7854",
   "metadata": {
    "papermill": {
     "duration": 0.005017,
     "end_time": "2024-02-19T22:51:56.673788",
     "exception": false,
     "start_time": "2024-02-19T22:51:56.668771",
     "status": "completed"
    },
    "tags": []
   },
   "source": [
    "### Receiving the parameters\n",
    "\n",
    "The following cell can receive parameters using the [papermill](https://papermill.readthedocs.io/en/latest/) tool."
   ]
  },
  {
   "cell_type": "code",
   "execution_count": 2,
   "id": "0553bf11",
   "metadata": {
    "ExecuteTime": {
     "end_time": "2022-06-28T18:50:41.594341Z",
     "start_time": "2022-06-28T18:50:41.591544Z"
    },
    "execution": {
     "iopub.execute_input": "2024-02-19T22:51:56.681866Z",
     "iopub.status.busy": "2024-02-19T22:51:56.681549Z",
     "iopub.status.idle": "2024-02-19T22:51:56.685039Z",
     "shell.execute_reply": "2024-02-19T22:51:56.684583Z"
    },
    "papermill": {
     "duration": 0.01054,
     "end_time": "2024-02-19T22:51:56.685991",
     "exception": false,
     "start_time": "2024-02-19T22:51:56.675451",
     "status": "completed"
    },
    "tags": [
     "parameters"
    ]
   },
   "outputs": [],
   "source": [
    "params_path = os.path.join('..', 'params', 'parameter-set-01.yaml')\n",
    "experiment_name = 'exp-01'\n",
    "base_dir = os.path.join('/', 'home', 'username', 'pipeline-dir')\n",
    "manifest_file = os.path.join(base_dir, 'data', 'raw', 'manifest', 'manifest.csv')\n",
    "replace_files = False\n",
    "trim = None\n",
    "metadata_file = None\n",
    "threads = 1\n",
    "demux_file = None"
   ]
  },
  {
   "cell_type": "code",
   "execution_count": 3,
   "id": "a742609d",
   "metadata": {
    "execution": {
     "iopub.execute_input": "2024-02-19T22:51:56.690349Z",
     "iopub.status.busy": "2024-02-19T22:51:56.689763Z",
     "iopub.status.idle": "2024-02-19T22:51:56.692717Z",
     "shell.execute_reply": "2024-02-19T22:51:56.692303Z"
    },
    "papermill": {
     "duration": 0.006005,
     "end_time": "2024-02-19T22:51:56.693651",
     "exception": false,
     "start_time": "2024-02-19T22:51:56.687646",
     "status": "completed"
    },
    "tags": [
     "injected-parameters"
    ]
   },
   "outputs": [],
   "source": [
    "# Parameters\n",
    "experiment_name = \"thayane-PM-single-end\"\n",
    "base_dir = \"/mnt/nupeb/rede-micro/redemicro-thayane\"\n",
    "manifest_file = \"/mnt/nupeb/rede-micro/redemicro-thayane/data/manifest-single.csv\"\n",
    "metadata_file = \"/mnt/nupeb/rede-micro/redemicro-thayane/data/single-end-metadata.tsv\"\n",
    "class_col = \"above_10\"\n",
    "classifier_file = \"/mnt/nupeb/rede-micro/datasets/16S_classifiers_qiime2/silva-138-99-nb-classifier.qza\"\n",
    "replace_files = False\n",
    "phred = 20\n",
    "trunc_f = 0\n",
    "trunc_r = 0\n",
    "overlap = 12\n",
    "threads = 6\n"
   ]
  },
  {
   "cell_type": "code",
   "execution_count": 4,
   "id": "bf1f455a",
   "metadata": {
    "ExecuteTime": {
     "end_time": "2023-08-18T15:40:31.070885Z",
     "start_time": "2023-08-18T15:40:30.611671Z"
    },
    "execution": {
     "iopub.execute_input": "2024-02-19T22:51:56.697507Z",
     "iopub.status.busy": "2024-02-19T22:51:56.697344Z",
     "iopub.status.idle": "2024-02-19T22:51:56.700168Z",
     "shell.execute_reply": "2024-02-19T22:51:56.699862Z"
    },
    "papermill": {
     "duration": 0.005794,
     "end_time": "2024-02-19T22:51:56.701093",
     "exception": false,
     "start_time": "2024-02-19T22:51:56.695299",
     "status": "completed"
    },
    "tags": []
   },
   "outputs": [],
   "source": [
    "out_dir = os.path.join(base_dir, 'experiments', experiment_name, 'qiime-artifacts')\n",
    "img_folder = os.path.abspath(os.path.join(base_dir, 'experiments', experiment_name, 'imgs'))\n",
    "data_dir =  os.path.abspath(os.path.join(base_dir, 'data'))\n",
    "raw_data_dir =  os.path.abspath(os.path.join(data_dir, 'raw'))\n",
    "interim_data_dir =  os.path.abspath(os.path.join(data_dir, 'interim'))"
   ]
  },
  {
   "cell_type": "markdown",
   "id": "e20aad4f",
   "metadata": {
    "papermill": {
     "duration": 0.001613,
     "end_time": "2024-02-19T22:51:56.704357",
     "exception": false,
     "start_time": "2024-02-19T22:51:56.702744",
     "status": "completed"
    },
    "tags": []
   },
   "source": [
    "### Defining names and paths"
   ]
  },
  {
   "cell_type": "code",
   "execution_count": 5,
   "id": "298a9e74",
   "metadata": {
    "ExecuteTime": {
     "end_time": "2022-06-28T18:50:41.632125Z",
     "start_time": "2022-06-28T18:50:41.619710Z"
    },
    "execution": {
     "iopub.execute_input": "2024-02-19T22:51:56.708277Z",
     "iopub.status.busy": "2024-02-19T22:51:56.708117Z",
     "iopub.status.idle": "2024-02-19T22:51:56.711253Z",
     "shell.execute_reply": "2024-02-19T22:51:56.710931Z"
    },
    "papermill": {
     "duration": 0.00614,
     "end_time": "2024-02-19T22:51:56.712183",
     "exception": false,
     "start_time": "2024-02-19T22:51:56.706043",
     "status": "completed"
    },
    "tags": []
   },
   "outputs": [
    {
     "name": "stdout",
     "output_type": "stream",
     "text": [
      "New qiime-artifacts folder path created: /mnt/nupeb/rede-micro/redemicro-thayane/experiments/thayane-PM-single-end/qiime-artifacts\n",
      "New img folder path created: /mnt/nupeb/rede-micro/redemicro-thayane/experiments/thayane-PM-single-end/imgs\n"
     ]
    }
   ],
   "source": [
    "# Create path if it not exists\n",
    "if not os.path.isdir(out_dir):\n",
    "    os.makedirs(out_dir)\n",
    "    print(f'New qiime-artifacts folder path created: {out_dir}')\n",
    "\n",
    "# Create path if it not exists\n",
    "if not os.path.isdir(img_folder):\n",
    "    os.makedirs(img_folder)\n",
    "    print(f'New img folder path created: {img_folder}')"
   ]
  },
  {
   "cell_type": "code",
   "execution_count": 6,
   "id": "262a8551",
   "metadata": {
    "execution": {
     "iopub.execute_input": "2024-02-19T22:51:56.716370Z",
     "iopub.status.busy": "2024-02-19T22:51:56.716113Z",
     "iopub.status.idle": "2024-02-19T22:51:56.721335Z",
     "shell.execute_reply": "2024-02-19T22:51:56.720899Z"
    },
    "papermill": {
     "duration": 0.008411,
     "end_time": "2024-02-19T22:51:56.722321",
     "exception": false,
     "start_time": "2024-02-19T22:51:56.713910",
     "status": "completed"
    },
    "tags": []
   },
   "outputs": [],
   "source": [
    "manifest_df = pd.read_csv(manifest_file)\n",
    "n_directions = len(manifest_df['direction'].unique())\n",
    "if n_directions == 1:\n",
    "    d_type = 'SampleData[SequencesWithQuality]'\n",
    "    v_type = 'SingleEndFastqManifestPhred33'\n",
    "    direction = 'single'\n",
    "elif n_directions == 2:\n",
    "    d_type = 'SampleData[PairedEndSequencesWithQuality]'\n",
    "    v_type = 'PairedEndFastqManifestPhred33'\n",
    "    direction = 'paired'\n",
    "else:\n",
    "    print(f'ERROR: invalid number of directions {n_directions}')"
   ]
  },
  {
   "cell_type": "code",
   "execution_count": 7,
   "id": "bddc41e3",
   "metadata": {
    "execution": {
     "iopub.execute_input": "2024-02-19T22:51:56.726546Z",
     "iopub.status.busy": "2024-02-19T22:51:56.726261Z",
     "iopub.status.idle": "2024-02-19T22:51:56.729222Z",
     "shell.execute_reply": "2024-02-19T22:51:56.728792Z"
    },
    "papermill": {
     "duration": 0.006089,
     "end_time": "2024-02-19T22:51:56.730152",
     "exception": false,
     "start_time": "2024-02-19T22:51:56.724063",
     "status": "completed"
    },
    "tags": []
   },
   "outputs": [],
   "source": [
    "sufix = str(direction)\n",
    "if trim and len(trim.keys()) == 3:\n",
    "    sufix += f'-{trim}'\n",
    "    \n",
    "# Define the output artifact full path\n",
    "if demux_file is None:\n",
    "    demux_file = os.path.join(out_dir, f'demux-{direction}.qza')\n",
    "demux_view = os.path.join(out_dir, f'demux-{direction}.qzv')\n",
    "demux_file_trim = os.path.join(out_dir, f'demux-{direction}-trim.qza')\n",
    "demux_view_trim = os.path.join(out_dir, f'demux-{direction}-trim.qzv')"
   ]
  },
  {
   "cell_type": "markdown",
   "id": "5334fe90",
   "metadata": {
    "papermill": {
     "duration": 0.001706,
     "end_time": "2024-02-19T22:51:56.733584",
     "exception": false,
     "start_time": "2024-02-19T22:51:56.731878",
     "status": "completed"
    },
    "tags": []
   },
   "source": [
    "## Step execution\n",
    "\n",
    "This Step import all `fastq` files in a **QIIME2 Artifact** object and save it to a new `qza` file."
   ]
  },
  {
   "cell_type": "code",
   "execution_count": 8,
   "id": "0d540d75",
   "metadata": {
    "execution": {
     "iopub.execute_input": "2024-02-19T22:51:56.737661Z",
     "iopub.status.busy": "2024-02-19T22:51:56.737493Z",
     "iopub.status.idle": "2024-02-19T22:51:56.748497Z",
     "shell.execute_reply": "2024-02-19T22:51:56.748179Z"
    },
    "papermill": {
     "duration": 0.01408,
     "end_time": "2024-02-19T22:51:56.749398",
     "exception": false,
     "start_time": "2024-02-19T22:51:56.735318",
     "status": "completed"
    },
    "tags": []
   },
   "outputs": [],
   "source": [
    "# If the metadata file is not defined, use the default metadata file\n",
    "metadata_qa = Metadata.load(metadata_file)"
   ]
  },
  {
   "cell_type": "code",
   "execution_count": 9,
   "id": "3d58431c",
   "metadata": {
    "ExecuteTime": {
     "end_time": "2022-06-28T19:44:58.640338Z",
     "start_time": "2022-06-28T18:50:41.633657Z"
    },
    "execution": {
     "iopub.execute_input": "2024-02-19T22:51:56.753580Z",
     "iopub.status.busy": "2024-02-19T22:51:56.753454Z",
     "iopub.status.idle": "2024-02-19T22:52:14.405501Z",
     "shell.execute_reply": "2024-02-19T22:52:14.405037Z"
    },
    "papermill": {
     "duration": 17.655525,
     "end_time": "2024-02-19T22:52:14.406756",
     "exception": false,
     "start_time": "2024-02-19T22:51:56.751231",
     "status": "completed"
    },
    "tags": []
   },
   "outputs": [
    {
     "name": "stderr",
     "output_type": "stream",
     "text": [
      "/home/lauro/anaconda3/envs/qiime2-2023.5/lib/python3.8/site-packages/q2_demux/_summarize/_visualizer.py:191: FutureWarning: The frame.append method is deprecated and will be removed from pandas in a future version. Use pandas.concat instead.\n",
      "  context['result_data'] = context['result_data'].append(df)\n"
     ]
    }
   ],
   "source": [
    "# If the demux file does not exist or if the old file will be replaced\n",
    "if not os.path.isfile(demux_file) or replace_files:\n",
    "    \n",
    "    interim_demux_path = os.path.join(interim_data_dir, f'demux-{direction}.qza')\n",
    "    \n",
    "    # Create new file path for interim dir\n",
    "    if not os.path.isdir(interim_data_dir):\n",
    "        !mkdir -p {interim_data_dir}\n",
    "        \n",
    "    # Load Artifact from interim folder\n",
    "    if os.path.isfile(interim_demux_path):\n",
    "        artifact = Artifact.load(interim_demux_path)\n",
    "        \n",
    "    # Create new Artifact using Manifest\n",
    "    else:\n",
    "        artifact = Artifact.import_data(d_type, manifest_file, view_type=v_type)\n",
    "        if not os.path.isfile(interim_demux_path):\n",
    "            artifact.save(interim_demux_path)\n",
    "            \n",
    "    # Filter and Save Artifact\n",
    "    artifact = filter_samples(demux=artifact, metadata=metadata_qa).filtered_demux\n",
    "    artifact.save(demux_file)\n",
    "    \n",
    "    # Visualization\n",
    "    if os.path.isfile(demux_view):\n",
    "        demux_view_obj = Visualization.load(demux_view)\n",
    "    else:\n",
    "        demux_view_obj = demux.visualizers.summarize(artifact).visualization\n",
    "        Visualization.save(demux_view_obj, filepath=demux_view)\n",
    "        \n",
    "elif os.path.isfile(demux_file):\n",
    "    \n",
    "    # Load Artifact\n",
    "    artifact = Artifact.load(demux_file)\n",
    "    artifact = filter_samples(demux=artifact, metadata=metadata_qa).filtered_demux\n",
    "    \n",
    "    # Visualization\n",
    "    if os.path.isfile(demux_view):\n",
    "        demux_view_obj = Visualization.load(demux_view)\n",
    "    else:\n",
    "        demux_view_obj = demux.visualizers.summarize(artifact).visualization\n",
    "        Visualization.save(demux_view_obj, filepath=demux_view)"
   ]
  },
  {
   "cell_type": "markdown",
   "id": "90ae501a",
   "metadata": {
    "papermill": {
     "duration": 0.00193,
     "end_time": "2024-02-19T22:52:14.410826",
     "exception": false,
     "start_time": "2024-02-19T22:52:14.408896",
     "status": "completed"
    },
    "tags": []
   },
   "source": [
    "## Step report\n"
   ]
  },
  {
   "cell_type": "code",
   "execution_count": 10,
   "id": "6a76405b",
   "metadata": {
    "ExecuteTime": {
     "end_time": "2022-06-28T19:47:56.704841Z",
     "start_time": "2022-06-28T19:47:56.611846Z"
    },
    "execution": {
     "iopub.execute_input": "2024-02-19T22:52:14.415189Z",
     "iopub.status.busy": "2024-02-19T22:52:14.415008Z",
     "iopub.status.idle": "2024-02-19T22:52:14.419862Z",
     "shell.execute_reply": "2024-02-19T22:52:14.419564Z"
    },
    "papermill": {
     "duration": 0.00818,
     "end_time": "2024-02-19T22:52:14.420807",
     "exception": false,
     "start_time": "2024-02-19T22:52:14.412627",
     "status": "completed"
    },
    "tags": []
   },
   "outputs": [
    {
     "name": "stdout",
     "output_type": "stream",
     "text": [
      "<visualization: Visualization uuid: 69e64814-af4b-4323-8e5f-edc53d2e70e4>\n"
     ]
    },
    {
     "data": {
      "text/html": [
       "<div><img onload=\"(function(div, url){\n",
       "if (typeof require !== 'undefined') {\n",
       "    var baseURL = require.toUrl('').split('/').slice(0, -2).join('/');\n",
       "} else {\n",
       "    var baseURL = JSON.parse(\n",
       "        document.getElementById('jupyter-config-data').innerHTML\n",
       "    ).baseUrl.slice(0, -1);\n",
       "}\n",
       "url = baseURL + url;\n",
       "fetch(url).then(function(res) {\n",
       "    if (res.status === 404) {\n",
       "        div.innerHTML = 'Install QIIME 2 Jupyter extension with:<br />' +\n",
       "                        '<code>jupyter serverextension enable --py qiime2' +\n",
       "                        ' --sys-prefix</code><br />then restart your server.' +\n",
       "                        '<br /><br />(Interactive output not available on ' +\n",
       "                        'static notebook viewer services like nbviewer.)';\n",
       "    } else if (res.status === 409) {\n",
       "        div.innerHTML = 'Visualization no longer in scope. Re-run this cell' +\n",
       "                        ' to see the visualization.';\n",
       "    } else if (res.ok) {\n",
       "        url = res.url;\n",
       "        div.innerHTML = '<iframe src=\\'' + url + '\\' style=\\'' +\n",
       "                        'width: 100%; height: 700px; border: 0;\\'>' +\n",
       "                        '</iframe><hr />Open in a: <a href=\\'' + url + '\\'' +\n",
       "                        ' target=\\'_blank\\'>new window</a>'\n",
       "    } else {\n",
       "        div.innerHTML = 'Something has gone wrong. Check notebook server for' +\n",
       "                        ' errors.';\n",
       "    }\n",
       "});\n",
       "})(this.parentElement, '/qiime2/redirect?location=/tmp/qiime2/lauro/data/69e64814-af4b-4323-8e5f-edc53d2e70e4')\" src=\"data:image/gif;base64,R0lGODlhAQABAIAAAP///wAAACH5BAEAAAAALAAAAAABAAEAAAICRAEAOw==\" /></div>"
      ],
      "text/plain": [
       "<visualization: Visualization uuid: 69e64814-af4b-4323-8e5f-edc53d2e70e4>"
      ]
     },
     "execution_count": 10,
     "metadata": {},
     "output_type": "execute_result"
    }
   ],
   "source": [
    "print(demux_view_obj)\n",
    "\n",
    "# Render Visualization\n",
    "demux_view_obj"
   ]
  },
  {
   "cell_type": "markdown",
   "id": "54ea1b04",
   "metadata": {
    "papermill": {
     "duration": 0.002741,
     "end_time": "2024-02-19T22:52:14.425551",
     "exception": false,
     "start_time": "2024-02-19T22:52:14.422810",
     "status": "completed"
    },
    "tags": []
   },
   "source": [
    "[cutadapt](https://docs.qiime2.org/2022.2/plugins/available/cutadapt/trim-paired/)\n",
    "\n",
    "We trim the forward primer and the reverse complement of the reverse primer from the forward reads. We trim the reverse primer and reverse complement of the forward primer from the reverse reads."
   ]
  },
  {
   "cell_type": "code",
   "execution_count": 11,
   "id": "bf5e6d20",
   "metadata": {
    "execution": {
     "iopub.execute_input": "2024-02-19T22:52:14.430153Z",
     "iopub.status.busy": "2024-02-19T22:52:14.429984Z",
     "iopub.status.idle": "2024-02-19T22:52:14.434641Z",
     "shell.execute_reply": "2024-02-19T22:52:14.434178Z"
    },
    "papermill": {
     "duration": 0.008039,
     "end_time": "2024-02-19T22:52:14.435607",
     "exception": false,
     "start_time": "2024-02-19T22:52:14.427568",
     "status": "completed"
    },
    "tags": []
   },
   "outputs": [],
   "source": [
    "demux_file_trim = os.path.join(out_dir, f'demux-{direction}-trim.qza')\n",
    "demux_view_trim = os.path.join(out_dir, f'demux-{direction}-trim.qzv')\n",
    "\n",
    "if trim and (not os.path.isfile(demux_file_trim) or replace_files):\n",
    "    forward_primer = [trim['forward_primer']] # ['CCTACGGGRSGCAGCAG']\n",
    "    reverse_primer = [trim['reverse_primer']] # ['GGACTACHVGGGTWTCTAAT']\n",
    "    forward_reverse_complement = [str(Seq(forward_primer[0]).reverse_complement())]\n",
    "    reverse_reverse_complement = [str(Seq(reverse_primer[0]).reverse_complement())]\n",
    "\n",
    "    res = None\n",
    "    \n",
    "    if n_directions == 1:\n",
    "        res = trim_single(\n",
    "            demultiplexed_sequences=artifact,\n",
    "            front=forward_primer,\n",
    "            adapter=reverse_reverse_complement,\n",
    "            cores=threads,\n",
    "            indels=False,\n",
    "            match_read_wildcards=True,\n",
    "            match_adapter_wildcards=True,\n",
    "            error_rate=0.01,\n",
    "            discard_untrimmed=True,\n",
    "        ).trimmed_sequences\n",
    "    elif n_directions == 2:\n",
    "        res = trim_paired(\n",
    "            demultiplexed_sequences=artifact,\n",
    "            front_f=forward_primer,\n",
    "            front_r=reverse_primer,\n",
    "            # adapter_f=reverse_reverse_complement,\n",
    "            # adapter_r=forward_reverse_complement,\n",
    "            cores=threads,\n",
    "            overlap=trim['overlap'],\n",
    "            indels=False,\n",
    "            match_read_wildcards=True,\n",
    "            match_adapter_wildcards=True,\n",
    "            error_rate=0.01,\n",
    "            discard_untrimmed=True,\n",
    "        ).trimmed_sequences\n",
    "    else:\n",
    "        print(f'ERROR: invalid number of directions {n_directions}')\n",
    "\n",
    "    if res is not None:\n",
    "        res.save(demux_file_trim)\n",
    "        Visualization.save(demux.visualizers.summarize(res).visualization, filepath=demux_view_trim)"
   ]
  }
 ],
 "metadata": {
  "celltoolbar": "Edit Metadata",
  "kernelspec": {
   "display_name": "Python 3 (ipykernel)",
   "language": "python",
   "name": "python3"
  },
  "language_info": {
   "codemirror_mode": {
    "name": "ipython",
    "version": 3
   },
   "file_extension": ".py",
   "mimetype": "text/x-python",
   "name": "python",
   "nbconvert_exporter": "python",
   "pygments_lexer": "ipython3",
   "version": "3.8.16"
  },
  "papermill": {
   "default_parameters": {},
   "duration": 24.268405,
   "end_time": "2024-02-19T22:52:15.153477",
   "environment_variables": {},
   "exception": null,
   "input_path": "nb-templates/step-prepare-data.ipynb",
   "output_path": "/home/lauro/rede-micro/redemicro-thayane/experiments/thayane-PM-single-end/nb-executed-steps/step-prepare-data-thayane-PM-single-end.ipynb",
   "parameters": {
    "base_dir": "/mnt/nupeb/rede-micro/redemicro-thayane",
    "class_col": "above_10",
    "classifier_file": "/mnt/nupeb/rede-micro/datasets/16S_classifiers_qiime2/silva-138-99-nb-classifier.qza",
    "experiment_name": "thayane-PM-single-end",
    "manifest_file": "/mnt/nupeb/rede-micro/redemicro-thayane/data/manifest-single.csv",
    "metadata_file": "/mnt/nupeb/rede-micro/redemicro-thayane/data/single-end-metadata.tsv",
    "overlap": 12,
    "phred": 20,
    "replace_files": false,
    "threads": 6,
    "trunc_f": 0,
    "trunc_r": 0
   },
   "start_time": "2024-02-19T22:51:50.885072",
   "version": "2.4.0"
  },
  "toc-autonumbering": false,
  "toc-showcode": false,
  "toc-showmarkdowntxt": false
 },
 "nbformat": 4,
 "nbformat_minor": 5
}