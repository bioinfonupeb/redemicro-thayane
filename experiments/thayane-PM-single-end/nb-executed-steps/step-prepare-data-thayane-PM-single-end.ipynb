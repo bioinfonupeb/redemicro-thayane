{
 "cells": [
  {
   "cell_type": "markdown",
   "id": "e2cba95c",
   "metadata": {
    "tags": [
     "papermill-error-cell-tag"
    ]
   },
   "source": [
    "<span style=\"color:red; font-family:Helvetica Neue, Helvetica, Arial, sans-serif; font-size:2em;\">An Exception was encountered at '<a href=\"#papermill-error-cell\">In [9]</a>'.</span>"
   ]
  },
  {
   "cell_type": "markdown",
   "id": "609b5fd5",
   "metadata": {
    "papermill": {
     "duration": 0.018372,
     "end_time": "2023-06-02T13:39:50.695732",
     "exception": false,
     "start_time": "2023-06-02T13:39:50.677360",
     "status": "completed"
    },
    "tags": []
   },
   "source": [
    "# Prepare data for Pipeline"
   ]
  },
  {
   "cell_type": "markdown",
   "id": "a2ab15d3",
   "metadata": {
    "papermill": {
     "duration": 0.031254,
     "end_time": "2023-06-02T13:39:50.738950",
     "exception": false,
     "start_time": "2023-06-02T13:39:50.707696",
     "status": "completed"
    },
    "tags": []
   },
   "source": [
    "## Setup and settings"
   ]
  },
  {
   "cell_type": "code",
   "execution_count": 1,
   "id": "ede6e75d",
   "metadata": {
    "ExecuteTime": {
     "end_time": "2023-06-02T10:42:56.667732Z",
     "start_time": "2023-06-02T10:42:49.313337Z"
    },
    "execution": {
     "iopub.execute_input": "2023-06-02T13:39:50.796296Z",
     "iopub.status.busy": "2023-06-02T13:39:50.795999Z",
     "iopub.status.idle": "2023-06-02T13:39:57.346964Z",
     "shell.execute_reply": "2023-06-02T13:39:57.346322Z"
    },
    "papermill": {
     "duration": 6.600102,
     "end_time": "2023-06-02T13:39:57.350394",
     "exception": false,
     "start_time": "2023-06-02T13:39:50.750292",
     "status": "completed"
    },
    "tags": []
   },
   "outputs": [],
   "source": [
    "# Importing packages\n",
    "import os\n",
    "import yaml\n",
    "import logging\n",
    "import pandas as pd\n",
    "from Bio.Seq import Seq\n",
    "from qiime2 import Artifact, Visualization\n",
    "from qiime2.plugins import demux\n",
    "from qiime2.plugins.cutadapt.methods import trim_paired"
   ]
  },
  {
   "cell_type": "markdown",
   "id": "a5829894",
   "metadata": {
    "papermill": {
     "duration": 0.010152,
     "end_time": "2023-06-02T13:39:57.379149",
     "exception": false,
     "start_time": "2023-06-02T13:39:57.368997",
     "status": "completed"
    },
    "tags": []
   },
   "source": [
    "### Receiving the parameters\n",
    "\n",
    "The following cell can receive parameters using the [papermill](https://papermill.readthedocs.io/en/latest/) tool."
   ]
  },
  {
   "cell_type": "code",
   "execution_count": 2,
   "id": "faed3fb6",
   "metadata": {
    "ExecuteTime": {
     "end_time": "2023-06-02T10:42:56.671719Z",
     "start_time": "2023-06-02T10:42:56.667732Z"
    },
    "execution": {
     "iopub.execute_input": "2023-06-02T13:39:57.471560Z",
     "iopub.status.busy": "2023-06-02T13:39:57.471285Z",
     "iopub.status.idle": "2023-06-02T13:39:57.476988Z",
     "shell.execute_reply": "2023-06-02T13:39:57.476533Z"
    },
    "papermill": {
     "duration": 0.01911,
     "end_time": "2023-06-02T13:39:57.478429",
     "exception": false,
     "start_time": "2023-06-02T13:39:57.459319",
     "status": "completed"
    },
    "tags": [
     "parameters"
    ]
   },
   "outputs": [],
   "source": [
    "params_path = os.path.join('..', 'params', 'ana-flavia-superlactacao.yaml')\n",
    "experiment_name = 'jenneffer-vs-01'\n",
    "base_dir = os.path.join('/', 'home', 'lauro', 'nupeb', 'redemicro')\n",
    "manifest_file = os.path.join(base_dir, 'data', 'raw', 'manifest', 'not-hist-vs-manifest.csv')\n",
    "img_folder = os.path.abspath(os.path.join(base_dir, 'imgs'))\n",
    "replace_files = False\n",
    "trim = None"
   ]
  },
  {
   "cell_type": "code",
   "execution_count": 3,
   "id": "957c1a5f",
   "metadata": {
    "ExecuteTime": {
     "end_time": "2023-06-02T10:42:56.781832Z",
     "start_time": "2023-06-02T10:42:56.670728Z"
    },
    "execution": {
     "iopub.execute_input": "2023-06-02T13:39:57.501488Z",
     "iopub.status.busy": "2023-06-02T13:39:57.501307Z",
     "iopub.status.idle": "2023-06-02T13:39:57.505325Z",
     "shell.execute_reply": "2023-06-02T13:39:57.504843Z"
    },
    "papermill": {
     "duration": 0.017042,
     "end_time": "2023-06-02T13:39:57.506711",
     "exception": false,
     "start_time": "2023-06-02T13:39:57.489669",
     "status": "completed"
    },
    "tags": [
     "injected-parameters"
    ]
   },
   "outputs": [],
   "source": [
    "# Parameters\n",
    "experiment_name = \"thayane-PM-single-end\"\n",
    "base_dir = \"/home/lauro/nupeb/rede-micro/redemicro-thayane\"\n",
    "manifest_file = (\n",
    "    \"/home/lauro/nupeb/rede-micro/redemicro-thayane/data/manifest-single.csv\"\n",
    ")\n",
    "metadata_file = (\n",
    "    \"/home/lauro/nupeb/rede-micro/redemicro-thayane/data/single-end-metadata.tsv\"\n",
    ")\n",
    "class_col = \"above_10\"\n",
    "classifier_file = (\n",
    "    \"/home/lauro/nupeb/16S_classifiers_qiime2/silva-138-99-nb-classifier.qza\"\n",
    ")\n",
    "replace_files = False\n",
    "phred = 20\n",
    "trunc_f = 0\n",
    "trunc_r = 0\n",
    "overlap = 12\n",
    "threads = 6\n"
   ]
  },
  {
   "cell_type": "markdown",
   "id": "4160bd71",
   "metadata": {
    "papermill": {
     "duration": 0.025855,
     "end_time": "2023-06-02T13:39:57.657729",
     "exception": false,
     "start_time": "2023-06-02T13:39:57.631874",
     "status": "completed"
    },
    "tags": []
   },
   "source": [
    "### Defining names and paths"
   ]
  },
  {
   "cell_type": "code",
   "execution_count": 4,
   "id": "f48b79bc",
   "metadata": {
    "ExecuteTime": {
     "end_time": "2023-06-02T10:43:28.745325Z",
     "start_time": "2023-06-02T10:43:28.693547Z"
    },
    "execution": {
     "iopub.execute_input": "2023-06-02T13:39:57.775805Z",
     "iopub.status.busy": "2023-06-02T13:39:57.775590Z",
     "iopub.status.idle": "2023-06-02T13:39:57.782784Z",
     "shell.execute_reply": "2023-06-02T13:39:57.782137Z"
    },
    "papermill": {
     "duration": 0.037097,
     "end_time": "2023-06-02T13:39:57.786276",
     "exception": false,
     "start_time": "2023-06-02T13:39:57.749179",
     "status": "completed"
    },
    "tags": []
   },
   "outputs": [],
   "source": [
    "# Define the output folder path\n",
    "out_dir = os.path.join(base_dir, 'experiments', experiment_name, 'qiime-artifacts')\n",
    "img_folder = os.path.abspath(os.path.join(base_dir, 'experiments', experiment_name, 'imgs'))\n",
    "\n",
    "# Create path if it not exist\n",
    "if not os.path.isdir(out_dir):\n",
    "    os.makedirs(out_dir)\n",
    "    print(f'New qiime-artifacts folder path created: {out_dir}')\n",
    "\n",
    "# Create path if it not exist\n",
    "if not os.path.isdir(img_folder):\n",
    "    os.makedirs(img_folder)\n",
    "    print(f'New img folder path created: {img_folder}')\n",
    "\n",
    "# Define the output artifact full path\n",
    "demux_file = os.path.join(out_dir, 'demux-paired.qza')\n",
    "demux_view = os.path.join(out_dir, 'demux-paired.qzv')\n",
    "demux_file_trim = os.path.join(out_dir, 'demux-paired-trim.qza')\n",
    "demux_view_trim = os.path.join(out_dir, 'demux-paired-trim.qzv')"
   ]
  },
  {
   "cell_type": "markdown",
   "id": "b07fddc0",
   "metadata": {
    "papermill": {
     "duration": 0.011582,
     "end_time": "2023-06-02T13:39:57.811269",
     "exception": false,
     "start_time": "2023-06-02T13:39:57.799687",
     "status": "completed"
    },
    "tags": []
   },
   "source": [
    "## Step execution\n",
    "\n",
    "This Step import all `fastq` files in a **QIIME2 Artifact** object and save it to a new `qza` file of `SampleData[PairedEndSequencesWithQuality]`"
   ]
  },
  {
   "cell_type": "code",
   "execution_count": 29,
   "id": "c906e741",
   "metadata": {
    "ExecuteTime": {
     "end_time": "2023-06-02T10:56:09.667878Z",
     "start_time": "2023-06-02T10:56:09.664879Z"
    },
    "execution": {
     "iopub.execute_input": "2023-06-02T13:39:57.835381Z",
     "iopub.status.busy": "2023-06-02T13:39:57.835122Z",
     "iopub.status.idle": "2023-06-02T13:39:57.846436Z",
     "shell.execute_reply": "2023-06-02T13:39:57.846035Z"
    },
    "papermill": {
     "duration": 0.025314,
     "end_time": "2023-06-02T13:39:57.848119",
     "exception": false,
     "start_time": "2023-06-02T13:39:57.822805",
     "status": "completed"
    },
    "tags": []
   },
   "outputs": [
    {
     "name": "stdout",
     "output_type": "stream",
     "text": [
      "Artifact type: SampleData[SequencesWithQuality] - View type: SingleEndFastqManifestPhred33\n"
     ]
    }
   ],
   "source": [
    "manifest_df = pd.read_csv(manifest_file)\n",
    "n_directions = len(manifest_df['direction'].unique())\n",
    "if n_directions == 1:\n",
    "    d_type = 'SampleData[SequencesWithQuality]'\n",
    "    v_type = 'SingleEndFastqManifestPhred33'\n",
    "elif n_directions == 2:\n",
    "    d_type = 'SampleData[PairedEndSequencesWithQuality]'\n",
    "    v_type = 'PairedEndFastqManifestPhred33'\n",
    "else:\n",
    "    print(f'ERROR: invalid number of directions {n_directions}')\n",
    "print(f'Artifact type: {d_type} - View type: {v_type}')"
   ]
  },
  {
   "cell_type": "code",
   "execution_count": 56,
   "id": "9529527d",
   "metadata": {
    "ExecuteTime": {
     "end_time": "2023-06-02T15:03:01.469290Z",
     "start_time": "2023-06-02T15:00:47.026759Z"
    },
    "execution": {
     "iopub.execute_input": "2023-06-02T13:39:57.875702Z",
     "iopub.status.busy": "2023-06-02T13:39:57.875467Z",
     "iopub.status.idle": "2023-06-02T13:41:28.253245Z",
     "shell.execute_reply": "2023-06-02T13:41:28.252432Z"
    },
    "papermill": {
     "duration": 90.393263,
     "end_time": "2023-06-02T13:41:28.256396",
     "exception": false,
     "start_time": "2023-06-02T13:39:57.863133",
     "status": "completed"
    },
    "tags": []
   },
   "outputs": [
    {
     "name": "stdout",
     "output_type": "stream",
     "text": [
      "Creating new SampleData[SequencesWithQuality] Artifact file: /home/lauro/nupeb/rede-micro/redemicro-thayane/experiments/thayane-PM-single-end/qiime-artifacts/demux-paired.qza\n"
     ]
    }
   ],
   "source": [
    "# If the demux file does not exist or if the old file will be replaced\n",
    "if not os.path.isfile(demux_file) or replace_files:\n",
    "    print(f'Creating new SampleData[SequencesWithQuality] Artifact file: {demux_file}')\n",
    "    # Import data and create an artifact object\n",
    "    artifact = Artifact.import_data(\n",
    "        d_type, \n",
    "        manifest_file, \n",
    "        view_type=v_type)\n",
    "    \n",
    "    # Save the artifact object to a new qza file\n",
    "    artifact.save(demux_file)\n",
    "\n",
    "else:\n",
    "    print(f'SampleData[SequencesWithQuality] Artifact file already exists: {demux_file}')\n",
    "    artifact = Artifact.load(demux_file)"
   ]
  },
  {
   "cell_type": "markdown",
   "id": "870ffb0a",
   "metadata": {
    "tags": [
     "papermill-error-cell-tag"
    ]
   },
   "source": [
    "<span id=\"papermill-error-cell\" style=\"color:red; font-family:Helvetica Neue, Helvetica, Arial, sans-serif; font-size:2em;\">Execution using papermill encountered an exception here and stopped:</span>"
   ]
  },
  {
   "cell_type": "code",
   "execution_count": 57,
   "id": "237dcd64",
   "metadata": {
    "ExecuteTime": {
     "end_time": "2023-06-02T15:03:49.369917Z",
     "start_time": "2023-06-02T15:03:39.989344Z"
    },
    "execution": {
     "iopub.execute_input": "2023-06-02T13:41:28.286911Z",
     "iopub.status.busy": "2023-06-02T13:41:28.286692Z",
     "iopub.status.idle": "2023-06-02T13:41:29.364201Z",
     "shell.execute_reply": "2023-06-02T13:41:29.363387Z"
    },
    "papermill": {
     "duration": 1.092996,
     "end_time": "2023-06-02T13:41:29.367905",
     "exception": true,
     "start_time": "2023-06-02T13:41:28.274909",
     "status": "failed"
    },
    "tags": []
   },
   "outputs": [],
   "source": [
    "if not os.path.isfile(demux_view) or replace_files: \n",
    "    # Generate e visualization of the Artifact\n",
    "    demux_summary = demux.visualizers.summarize(artifact)\n",
    "\n",
    "    # Save a new visualization file based on the qza file\n",
    "    Visualization.save(demux_summary.visualization, filepath=demux_view)\n",
    "    \n",
    "    demux_view_obj = demux_summary.visualization\n",
    "else:\n",
    "    demux_view_obj = Visualization.load(demux_view)"
   ]
  },
  {
   "cell_type": "markdown",
   "id": "bbcb8e16",
   "metadata": {
    "papermill": {
     "duration": null,
     "end_time": null,
     "exception": null,
     "start_time": null,
     "status": "pending"
    },
    "tags": []
   },
   "source": [
    "## Step report\n"
   ]
  },
  {
   "cell_type": "code",
   "execution_count": 58,
   "id": "0d3a3e93",
   "metadata": {
    "ExecuteTime": {
     "end_time": "2023-06-02T15:03:55.143273Z",
     "start_time": "2023-06-02T15:03:55.139119Z"
    },
    "papermill": {
     "duration": null,
     "end_time": null,
     "exception": null,
     "start_time": null,
     "status": "pending"
    },
    "tags": []
   },
   "outputs": [
    {
     "name": "stdout",
     "output_type": "stream",
     "text": [
      "<visualization: Visualization uuid: 6e994315-3ecc-45ce-b700-14edd84c27ac>\n"
     ]
    }
   ],
   "source": [
    "print(demux_view_obj)"
   ]
  },
  {
   "cell_type": "code",
   "execution_count": 59,
   "id": "b49a6298",
   "metadata": {
    "ExecuteTime": {
     "end_time": "2023-06-02T15:03:55.976539Z",
     "start_time": "2023-06-02T15:03:55.971336Z"
    },
    "papermill": {
     "duration": null,
     "end_time": null,
     "exception": null,
     "start_time": null,
     "status": "pending"
    },
    "tags": []
   },
   "outputs": [
    {
     "data": {
      "text/html": [
       "<div><img onload=\"(function(div, url){\n",
       "if (typeof require !== 'undefined') {\n",
       "    var baseURL = require.toUrl('').split('/').slice(0, -2).join('/');\n",
       "} else {\n",
       "    var baseURL = JSON.parse(\n",
       "        document.getElementById('jupyter-config-data').innerHTML\n",
       "    ).baseUrl.slice(0, -1);\n",
       "}\n",
       "url = baseURL + url;\n",
       "fetch(url).then(function(res) {\n",
       "    if (res.status === 404) {\n",
       "        div.innerHTML = 'Install QIIME 2 Jupyter extension with:<br />' +\n",
       "                        '<code>jupyter serverextension enable --py qiime2' +\n",
       "                        ' --sys-prefix</code><br />then restart your server.' +\n",
       "                        '<br /><br />(Interactive output not available on ' +\n",
       "                        'static notebook viewer services like nbviewer.)';\n",
       "    } else if (res.status === 409) {\n",
       "        div.innerHTML = 'Visualization no longer in scope. Re-run this cell' +\n",
       "                        ' to see the visualization.';\n",
       "    } else if (res.ok) {\n",
       "        url = res.url;\n",
       "        div.innerHTML = '<iframe src=\\'' + url + '\\' style=\\'' +\n",
       "                        'width: 100%; height: 700px; border: 0;\\'>' +\n",
       "                        '</iframe><hr />Open in a: <a href=\\'' + url + '\\'' +\n",
       "                        ' target=\\'_blank\\'>new window</a>'\n",
       "    } else {\n",
       "        div.innerHTML = 'Something has gone wrong. Check notebook server for' +\n",
       "                        ' errors.';\n",
       "    }\n",
       "});\n",
       "})(this.parentElement, '/qiime2/redirect?location=/tmp/qiime2-archive-d32d25mh')\" src=\"data:image/gif;base64,R0lGODlhAQABAIAAAP///wAAACH5BAEAAAAALAAAAAABAAEAAAICRAEAOw==\" /></div>"
      ],
      "text/plain": [
       "<visualization: Visualization uuid: 6e994315-3ecc-45ce-b700-14edd84c27ac>"
      ]
     },
     "execution_count": 59,
     "metadata": {},
     "output_type": "execute_result"
    }
   ],
   "source": [
    "# Render Visualization\n",
    "demux_view_obj"
   ]
  },
  {
   "cell_type": "markdown",
   "id": "afb528d8",
   "metadata": {
    "papermill": {
     "duration": null,
     "end_time": null,
     "exception": null,
     "start_time": null,
     "status": "pending"
    },
    "tags": []
   },
   "source": [
    "[cutadapt](https://docs.qiime2.org/2022.2/plugins/available/cutadapt/trim-paired/)\n",
    "\n",
    "We trim the forward primer and the reverse complement of the reverse primer from the forward reads. We trim the reverse primer and reverse complement of the forward primer from the reverse reads."
   ]
  },
  {
   "cell_type": "code",
   "execution_count": 60,
   "id": "ad4b32b5",
   "metadata": {
    "ExecuteTime": {
     "end_time": "2023-06-02T15:03:59.508881Z",
     "start_time": "2023-06-02T15:03:59.499883Z"
    },
    "papermill": {
     "duration": null,
     "end_time": null,
     "exception": null,
     "start_time": null,
     "status": "pending"
    },
    "tags": []
   },
   "outputs": [],
   "source": [
    "demux_file_trim = os.path.join(out_dir, 'demux-paired-trim.qza')\n",
    "demux_view_trim = os.path.join(out_dir, 'demux-paired-trim.qzv')\n",
    "\n",
    "if trim and (not os.path.isfile(demux_file_trim) or replace_files):\n",
    "    forward_primer = [trim['forward_primer']] # ['CCTACGGGRSGCAGCAG']\n",
    "    reverse_primer = [trim['reverse_primer']] # ['GGACTACHVGGGTWTCTAAT']\n",
    "    forward_reverse_complement = [str(Seq(forward_primer[0]).reverse_complement())]\n",
    "    reverse_reverse_complement = [str(Seq(reverse_primer[0]).reverse_complement())]\n",
    "\n",
    "    res = trim_paired(\n",
    "        demultiplexed_sequences=artifact,\n",
    "        front_f=forward_primer,\n",
    "        front_r=reverse_primer,\n",
    "#         adapter_f=reverse_reverse_complement,\n",
    "#         adapter_r=forward_reverse_complement,\n",
    "        cores=threads,\n",
    "        overlap=trim['overlap'],\n",
    "        indels=False,\n",
    "        match_read_wildcards=True,\n",
    "        match_adapter_wildcards=True,\n",
    "        error_rate=0.01,\n",
    "        discard_untrimmed=True,\n",
    "    ).trimmed_sequences\n",
    "\n",
    "    demux.visualizers.summarize(res).visualization\n",
    "    res.save(demux_file_trim)\n",
    "    Visualization.save(demux.visualizers.summarize(res).visualization, filepath=demux_view_trim)"
   ]
  }
 ],
 "metadata": {
  "celltoolbar": "Edit Metadata",
  "kernelspec": {
   "display_name": "Python 3 (ipykernel)",
   "language": "python",
   "name": "python3"
  },
  "language_info": {
   "codemirror_mode": {
    "name": "ipython",
    "version": 3
   },
   "file_extension": ".py",
   "mimetype": "text/x-python",
   "name": "python",
   "nbconvert_exporter": "python",
   "pygments_lexer": "ipython3",
   "version": "3.8.12"
  },
  "papermill": {
   "default_parameters": {},
   "duration": 101.18409,
   "end_time": "2023-06-02T13:41:30.505099",
   "environment_variables": {},
   "exception": true,
   "input_path": "nb-templates/step-prepare-data.ipynb",
   "output_path": "/home/lauro/nupeb/rede-micro/redemicro-thayane/experiments/thayane-PM-single-end/nb-executed-steps/step-prepare-data-thayane-PM-single-end.ipynb",
   "parameters": {
    "base_dir": "/home/lauro/nupeb/rede-micro/redemicro-thayane",
    "class_col": "above_10",
    "classifier_file": "/home/lauro/nupeb/16S_classifiers_qiime2/silva-138-99-nb-classifier.qza",
    "experiment_name": "thayane-PM-single-end",
    "manifest_file": "/home/lauro/nupeb/rede-micro/redemicro-thayane/data/manifest-single.csv",
    "metadata_file": "/home/lauro/nupeb/rede-micro/redemicro-thayane/data/single-end-metadata.tsv",
    "overlap": 12,
    "phred": 20,
    "replace_files": false,
    "threads": 6,
    "trunc_f": 0,
    "trunc_r": 0
   },
   "start_time": "2023-06-02T13:39:49.321009",
   "version": "2.3.4"
  },
  "toc-autonumbering": false,
  "toc-showcode": false,
  "toc-showmarkdowntxt": false
 },
 "nbformat": 4,
 "nbformat_minor": 5
}
