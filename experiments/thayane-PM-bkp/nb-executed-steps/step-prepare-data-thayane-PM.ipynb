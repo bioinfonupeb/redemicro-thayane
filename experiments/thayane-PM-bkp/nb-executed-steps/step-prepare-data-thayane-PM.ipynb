{
 "cells": [
  {
   "cell_type": "markdown",
   "id": "15095fb3",
   "metadata": {
    "tags": [
     "papermill-error-cell-tag"
    ]
   },
   "source": [
    "<span style=\"color:red; font-family:Helvetica Neue, Helvetica, Arial, sans-serif; font-size:2em;\">An Exception was encountered at '<a href=\"#papermill-error-cell\">In [8]</a>'.</span>"
   ]
  },
  {
   "cell_type": "markdown",
   "id": "d95b80b9",
   "metadata": {
    "papermill": {
     "duration": 0.018969,
     "end_time": "2022-12-06T19:18:37.488619",
     "exception": false,
     "start_time": "2022-12-06T19:18:37.469650",
     "status": "completed"
    },
    "tags": []
   },
   "source": [
    "# Prepare data for Pipeline"
   ]
  },
  {
   "cell_type": "markdown",
   "id": "983a4871",
   "metadata": {
    "papermill": {
     "duration": 0.022935,
     "end_time": "2022-12-06T19:18:37.529229",
     "exception": false,
     "start_time": "2022-12-06T19:18:37.506294",
     "status": "completed"
    },
    "tags": []
   },
   "source": [
    "## Setup and settings"
   ]
  },
  {
   "cell_type": "code",
   "execution_count": 1,
   "id": "8a028b82",
   "metadata": {
    "ExecuteTime": {
     "end_time": "2022-10-14T14:33:37.863523Z",
     "start_time": "2022-10-14T14:33:14.145712Z"
    },
    "execution": {
     "iopub.execute_input": "2022-12-06T19:18:37.581124Z",
     "iopub.status.busy": "2022-12-06T19:18:37.580631Z",
     "iopub.status.idle": "2022-12-06T19:18:48.258803Z",
     "shell.execute_reply": "2022-12-06T19:18:48.258056Z"
    },
    "papermill": {
     "duration": 10.699618,
     "end_time": "2022-12-06T19:18:48.261188",
     "exception": false,
     "start_time": "2022-12-06T19:18:37.561570",
     "status": "completed"
    },
    "tags": []
   },
   "outputs": [],
   "source": [
    "# Importing packages\n",
    "import os\n",
    "import yaml\n",
    "import logging\n",
    "import pandas as pd\n",
    "from Bio.Seq import Seq\n",
    "from qiime2 import Artifact, Visualization\n",
    "from qiime2.plugins import demux\n",
    "from qiime2.plugins.cutadapt.methods import trim_paired"
   ]
  },
  {
   "cell_type": "markdown",
   "id": "e2253ffb",
   "metadata": {
    "papermill": {
     "duration": 0.105393,
     "end_time": "2022-12-06T19:18:48.385011",
     "exception": false,
     "start_time": "2022-12-06T19:18:48.279618",
     "status": "completed"
    },
    "tags": []
   },
   "source": [
    "### Receiving the parameters\n",
    "\n",
    "The following cell can receive parameters using the [papermill](https://papermill.readthedocs.io/en/latest/) tool."
   ]
  },
  {
   "cell_type": "code",
   "execution_count": 2,
   "id": "09c4a3fd",
   "metadata": {
    "ExecuteTime": {
     "end_time": "2022-06-28T18:50:41.594341Z",
     "start_time": "2022-06-28T18:50:41.591544Z"
    },
    "execution": {
     "iopub.execute_input": "2022-12-06T19:18:48.448601Z",
     "iopub.status.busy": "2022-12-06T19:18:48.448085Z",
     "iopub.status.idle": "2022-12-06T19:18:48.453515Z",
     "shell.execute_reply": "2022-12-06T19:18:48.452914Z"
    },
    "papermill": {
     "duration": 0.026126,
     "end_time": "2022-12-06T19:18:48.455272",
     "exception": false,
     "start_time": "2022-12-06T19:18:48.429146",
     "status": "completed"
    },
    "tags": [
     "parameters"
    ]
   },
   "outputs": [],
   "source": [
    "params_path = os.path.join('..', 'params', 'ana-flavia-superlactacao.yaml')\n",
    "experiment_name = 'jenneffer-vs-01'\n",
    "base_dir = os.path.join('/', 'home', 'lauro', 'nupeb', 'redemicro')\n",
    "manifest_file = os.path.join(base_dir, 'data', 'raw', 'manifest', 'not-hist-vs-manifest.csv')\n",
    "img_folder = os.path.abspath(os.path.join(base_dir, 'imgs'))\n",
    "replace_files = False\n",
    "trim = None"
   ]
  },
  {
   "cell_type": "code",
   "execution_count": 3,
   "id": "6d2ce9ab",
   "metadata": {
    "execution": {
     "iopub.execute_input": "2022-12-06T19:18:48.493036Z",
     "iopub.status.busy": "2022-12-06T19:18:48.492571Z",
     "iopub.status.idle": "2022-12-06T19:18:48.499461Z",
     "shell.execute_reply": "2022-12-06T19:18:48.498819Z"
    },
    "papermill": {
     "duration": 0.028271,
     "end_time": "2022-12-06T19:18:48.501556",
     "exception": false,
     "start_time": "2022-12-06T19:18:48.473285",
     "status": "completed"
    },
    "tags": [
     "injected-parameters"
    ]
   },
   "outputs": [],
   "source": [
    "# Parameters\n",
    "experiment_name = \"thayane-PM\"\n",
    "base_dir = \"/home/lauro/nupeb/rede-micro/redemicro-thayane\"\n",
    "manifest_file = \"/home/lauro/nupeb/rede-micro/redemicro-thayane/data/manifest.csv\"\n",
    "metadata_file = \"/home/lauro/nupeb/rede-micro/redemicro-thayane/data/metadata.tsv\"\n",
    "class_col = \"class-straw\"\n",
    "classifier_file = (\n",
    "    \"/home/lauro/nupeb/16S_classifiers_qiime2/silva-138-99-nb-classifier.qza\"\n",
    ")\n",
    "replace_files = False\n",
    "phred = 20\n",
    "trunc_f = 0\n",
    "trunc_r = 0\n",
    "overlap = 12\n",
    "threads = 6\n"
   ]
  },
  {
   "cell_type": "code",
   "execution_count": 4,
   "id": "ed6c1ece",
   "metadata": {
    "ExecuteTime": {
     "end_time": "2022-06-28T18:50:41.610682Z",
     "start_time": "2022-06-28T18:50:41.595886Z"
    },
    "execution": {
     "iopub.execute_input": "2022-12-06T19:18:48.540125Z",
     "iopub.status.busy": "2022-12-06T19:18:48.539808Z",
     "iopub.status.idle": "2022-12-06T19:18:48.545048Z",
     "shell.execute_reply": "2022-12-06T19:18:48.544375Z"
    },
    "papermill": {
     "duration": 0.026983,
     "end_time": "2022-12-06T19:18:48.546839",
     "exception": false,
     "start_time": "2022-12-06T19:18:48.519856",
     "status": "completed"
    },
    "tags": []
   },
   "outputs": [],
   "source": [
    "# Setting hardcoded parameters for development and debbuging\n",
    "production = True\n",
    "if not production:\n",
    "    params_path = os.path.join('..', 'params', 'ana-flavia-hipotese-01')\n",
    "    with open(params_path, 'r') as stream:\n",
    "        params = yaml.safe_load(stream)\n",
    "        experiment_name = params['experiment_name']\n",
    "        base_dir = params['base_dir']\n",
    "        manifest_file = params['manifest_file']\n",
    "        replace_files = params['replace_files']"
   ]
  },
  {
   "cell_type": "markdown",
   "id": "dae0fe5a",
   "metadata": {
    "papermill": {
     "duration": 0.018571,
     "end_time": "2022-12-06T19:18:48.584187",
     "exception": false,
     "start_time": "2022-12-06T19:18:48.565616",
     "status": "completed"
    },
    "tags": []
   },
   "source": [
    "### Defining names and paths"
   ]
  },
  {
   "cell_type": "code",
   "execution_count": 5,
   "id": "118745a9",
   "metadata": {
    "ExecuteTime": {
     "end_time": "2022-06-28T18:50:41.618098Z",
     "start_time": "2022-06-28T18:50:41.614152Z"
    },
    "execution": {
     "iopub.execute_input": "2022-12-06T19:18:48.619628Z",
     "iopub.status.busy": "2022-12-06T19:18:48.619295Z",
     "iopub.status.idle": "2022-12-06T19:18:48.622915Z",
     "shell.execute_reply": "2022-12-06T19:18:48.622293Z"
    },
    "papermill": {
     "duration": 0.022954,
     "end_time": "2022-12-06T19:18:48.624671",
     "exception": false,
     "start_time": "2022-12-06T19:18:48.601717",
     "status": "completed"
    },
    "tags": []
   },
   "outputs": [],
   "source": [
    "# new_manifest = '/home/lauro/nupeb/redemicro/data/raw/manifest/karina-manifest.csv'\n",
    "# with open(manifest_file, 'r') as oldm, open(new_manifest, 'w') as newm:\n",
    "#     header = 'sample-id,absolute-filepath,direction\\n'\n",
    "#     newm.write(header)\n",
    "#     for line in oldm.readlines()[1:]:\n",
    "#         sid, forward, reverse = line[:-1].split(',')\n",
    "#         fline = ','.join((sid, forward, 'forward')) + '\\n'\n",
    "#         rline = ','.join((sid, reverse, 'reverse')) + '\\n'\n",
    "#         newm.write(fline)\n",
    "#         newm.write(rline)"
   ]
  },
  {
   "cell_type": "code",
   "execution_count": 6,
   "id": "58062968",
   "metadata": {
    "ExecuteTime": {
     "end_time": "2022-06-28T18:50:41.632125Z",
     "start_time": "2022-06-28T18:50:41.619710Z"
    },
    "execution": {
     "iopub.execute_input": "2022-12-06T19:18:48.663205Z",
     "iopub.status.busy": "2022-12-06T19:18:48.662690Z",
     "iopub.status.idle": "2022-12-06T19:18:48.671369Z",
     "shell.execute_reply": "2022-12-06T19:18:48.670630Z"
    },
    "papermill": {
     "duration": 0.030404,
     "end_time": "2022-12-06T19:18:48.673402",
     "exception": false,
     "start_time": "2022-12-06T19:18:48.642998",
     "status": "completed"
    },
    "tags": []
   },
   "outputs": [
    {
     "name": "stdout",
     "output_type": "stream",
     "text": [
      "New img folder path created: /home/lauro/nupeb/rede-micro/redemicro-thayane/experiments/thayane-PM/imgs\n"
     ]
    }
   ],
   "source": [
    "# Define the output folder path\n",
    "out_dir = os.path.join(base_dir, 'experiments', experiment_name, 'qiime-artifacts')\n",
    "img_folder = os.path.abspath(os.path.join(base_dir, 'experiments', experiment_name, 'imgs'))\n",
    "\n",
    "# Create path if it not exist\n",
    "if not os.path.isdir(out_dir):\n",
    "    os.makedirs(out_dir)\n",
    "    print(f'New qiime-artifacts folder path created: {out_dir}')\n",
    "\n",
    "# Create path if it not exist\n",
    "if not os.path.isdir(img_folder):\n",
    "    os.makedirs(img_folder)\n",
    "    print(f'New img folder path created: {img_folder}')\n",
    "\n",
    "# Define the output artifact full path\n",
    "demux_file = os.path.join(out_dir, 'demux-paired.qza')\n",
    "demux_view = os.path.join(out_dir, 'demux-paired.qzv')\n",
    "demux_file_trim = os.path.join(out_dir, 'demux-paired-trim.qza')\n",
    "demux_view_trim = os.path.join(out_dir, 'demux-paired-trim.qzv')"
   ]
  },
  {
   "cell_type": "markdown",
   "id": "748d86c9",
   "metadata": {
    "papermill": {
     "duration": 0.019904,
     "end_time": "2022-12-06T19:18:48.713080",
     "exception": false,
     "start_time": "2022-12-06T19:18:48.693176",
     "status": "completed"
    },
    "tags": []
   },
   "source": [
    "## Step execution\n",
    "\n",
    "This Step import all `fastq` files in a **QIIME2 Artifact** object and save it to a new `qza` file of `SampleData[PairedEndSequencesWithQuality]`"
   ]
  },
  {
   "cell_type": "code",
   "execution_count": 7,
   "id": "fc31fe9c",
   "metadata": {
    "execution": {
     "iopub.execute_input": "2022-12-06T19:18:48.751845Z",
     "iopub.status.busy": "2022-12-06T19:18:48.751387Z",
     "iopub.status.idle": "2022-12-06T19:18:48.761500Z",
     "shell.execute_reply": "2022-12-06T19:18:48.760791Z"
    },
    "papermill": {
     "duration": 0.032234,
     "end_time": "2022-12-06T19:18:48.763860",
     "exception": false,
     "start_time": "2022-12-06T19:18:48.731626",
     "status": "completed"
    },
    "tags": []
   },
   "outputs": [],
   "source": [
    "manifest_df = pd.read_csv(manifest_file)\n",
    "n_directions = len(manifest_df['direction'].unique())\n",
    "if n_directions == 1:\n",
    "    d_type = 'SampleData[SequencesWithQuality]'\n",
    "    v_type = 'SingleEndFastqManifestPhred33'\n",
    "elif n_directions == 2:\n",
    "    d_type = 'SampleData[PairedEndSequencesWithQuality]'\n",
    "    v_type = 'PairedEndFastqManifestPhred33'\n",
    "else:\n",
    "    print(f'ERROR: invalid number of directions {n_directions}')"
   ]
  },
  {
   "cell_type": "markdown",
   "id": "71483646",
   "metadata": {
    "tags": [
     "papermill-error-cell-tag"
    ]
   },
   "source": [
    "<span id=\"papermill-error-cell\" style=\"color:red; font-family:Helvetica Neue, Helvetica, Arial, sans-serif; font-size:2em;\">Execution using papermill encountered an exception here and stopped:</span>"
   ]
  },
  {
   "cell_type": "code",
   "execution_count": 8,
   "id": "b296bb04",
   "metadata": {
    "ExecuteTime": {
     "end_time": "2022-06-28T19:44:58.640338Z",
     "start_time": "2022-06-28T18:50:41.633657Z"
    },
    "execution": {
     "iopub.execute_input": "2022-12-06T19:18:48.805683Z",
     "iopub.status.busy": "2022-12-06T19:18:48.805211Z",
     "iopub.status.idle": "2022-12-06T19:18:50.312768Z",
     "shell.execute_reply": "2022-12-06T19:18:50.311563Z"
    },
    "papermill": {
     "duration": 1.530392,
     "end_time": "2022-12-06T19:18:50.315173",
     "exception": true,
     "start_time": "2022-12-06T19:18:48.784781",
     "status": "failed"
    },
    "tags": []
   },
   "outputs": [
    {
     "ename": "ValidationError",
     "evalue": "/home/lauro/nupeb/rede-micro/redemicro-thayane/data/manifest.csv is not a(n) SingleEndFastqManifestPhred33 file:\n\nFile referenced on line 40 could not be found (/home/lauro/nupeb/microbiota_da_mulher_lbbm/menopausa_lbbm/filtered_fastqc_files/good/M01.extendedFrags.good.fastq).",
     "output_type": "error",
     "traceback": [
      "\u001b[0;31m---------------------------------------------------------------------------\u001b[0m",
      "\u001b[0;31mValidationError\u001b[0m                           Traceback (most recent call last)",
      "File \u001b[0;32m~/anaconda3/envs/qiime2-2022.2/lib/python3.8/site-packages/qiime2/plugin/model/file_format.py:26\u001b[0m, in \u001b[0;36m_FileFormat.validate\u001b[0;34m(self, level)\u001b[0m\n\u001b[1;32m     25\u001b[0m \u001b[38;5;28;01mtry\u001b[39;00m:\n\u001b[0;32m---> 26\u001b[0m     \u001b[38;5;28;43mself\u001b[39;49m\u001b[38;5;241;43m.\u001b[39;49m\u001b[43m_validate_\u001b[49m\u001b[43m(\u001b[49m\u001b[43mlevel\u001b[49m\u001b[43m)\u001b[49m\n\u001b[1;32m     27\u001b[0m \u001b[38;5;28;01mexcept\u001b[39;00m ValidationError \u001b[38;5;28;01mas\u001b[39;00m e:\n",
      "File \u001b[0;32m~/anaconda3/envs/qiime2-2022.2/lib/python3.8/site-packages/q2_types/per_sample_sequences/_format.py:198\u001b[0m, in \u001b[0;36mFastqAbsolutePathManifestFormat._validate_\u001b[0;34m(self, level)\u001b[0m\n\u001b[1;32m    195\u001b[0m \u001b[38;5;28;01mdef\u001b[39;00m \u001b[38;5;21m_validate_\u001b[39m(\u001b[38;5;28mself\u001b[39m, level):\n\u001b[1;32m    196\u001b[0m     \u001b[38;5;66;03m# This is effectively only invoked on import, so let's just\u001b[39;00m\n\u001b[1;32m    197\u001b[0m     \u001b[38;5;66;03m# validate the whole file!\u001b[39;00m\n\u001b[0;32m--> 198\u001b[0m     \u001b[38;5;28;43mself\u001b[39;49m\u001b[38;5;241;43m.\u001b[39;49m\u001b[43m_check_n_records\u001b[49m\u001b[43m(\u001b[49m\u001b[43mroot\u001b[49m\u001b[38;5;241;43m=\u001b[39;49m\u001b[38;5;124;43m'\u001b[39;49m\u001b[38;5;124;43m'\u001b[39;49m\u001b[43m,\u001b[49m\u001b[43m \u001b[49m\u001b[43mn\u001b[49m\u001b[38;5;241;43m=\u001b[39;49m\u001b[38;5;28;43;01mNone\u001b[39;49;00m\u001b[43m)\u001b[49m\n",
      "File \u001b[0;32m~/anaconda3/envs/qiime2-2022.2/lib/python3.8/site-packages/q2_types/per_sample_sequences/_format.py:151\u001b[0m, in \u001b[0;36m_FastqManifestBase._check_n_records\u001b[0;34m(self, root, n)\u001b[0m\n\u001b[1;32m    150\u001b[0m     \u001b[38;5;28;01mif\u001b[39;00m \u001b[38;5;129;01mnot\u001b[39;00m os\u001b[38;5;241m.\u001b[39mpath\u001b[38;5;241m.\u001b[39mexists(os\u001b[38;5;241m.\u001b[39mpath\u001b[38;5;241m.\u001b[39mexpandvars(fp)):\n\u001b[0;32m--> 151\u001b[0m         \u001b[38;5;28;01mraise\u001b[39;00m ValidationError(\n\u001b[1;32m    152\u001b[0m             \u001b[38;5;124m'\u001b[39m\u001b[38;5;124mFile referenced on line \u001b[39m\u001b[38;5;132;01m%d\u001b[39;00m\u001b[38;5;124m could not be \u001b[39m\u001b[38;5;124m'\u001b[39m\n\u001b[1;32m    153\u001b[0m             \u001b[38;5;124m'\u001b[39m\u001b[38;5;124mfound (\u001b[39m\u001b[38;5;132;01m%s\u001b[39;00m\u001b[38;5;124m).\u001b[39m\u001b[38;5;124m'\u001b[39m\n\u001b[1;32m    154\u001b[0m             \u001b[38;5;241m%\u001b[39m (i, fp))\n\u001b[1;32m    156\u001b[0m \u001b[38;5;28;01mif\u001b[39;00m cells[\u001b[38;5;124m'\u001b[39m\u001b[38;5;124mdirection\u001b[39m\u001b[38;5;124m'\u001b[39m] \u001b[38;5;129;01mnot\u001b[39;00m \u001b[38;5;129;01min\u001b[39;00m (\u001b[38;5;124m'\u001b[39m\u001b[38;5;124mforward\u001b[39m\u001b[38;5;124m'\u001b[39m, \u001b[38;5;124m'\u001b[39m\u001b[38;5;124mreverse\u001b[39m\u001b[38;5;124m'\u001b[39m):\n",
      "\u001b[0;31mValidationError\u001b[0m: File referenced on line 40 could not be found (/home/lauro/nupeb/microbiota_da_mulher_lbbm/menopausa_lbbm/filtered_fastqc_files/good/M01.extendedFrags.good.fastq).",
      "\nThe above exception was the direct cause of the following exception:\n",
      "\u001b[0;31mValidationError\u001b[0m                           Traceback (most recent call last)",
      "Input \u001b[0;32mIn [8]\u001b[0m, in \u001b[0;36m<module>\u001b[0;34m\u001b[0m\n\u001b[1;32m      1\u001b[0m \u001b[38;5;66;03m# If the demux file does not exist or if the old file will be replaced\u001b[39;00m\n\u001b[1;32m      2\u001b[0m \u001b[38;5;28;01mif\u001b[39;00m \u001b[38;5;129;01mnot\u001b[39;00m os\u001b[38;5;241m.\u001b[39mpath\u001b[38;5;241m.\u001b[39misfile(demux_file) \u001b[38;5;129;01mor\u001b[39;00m replace_files:\n\u001b[1;32m      3\u001b[0m     \n\u001b[1;32m      4\u001b[0m     \u001b[38;5;66;03m# Import data and create an artifact object\u001b[39;00m\n\u001b[0;32m----> 5\u001b[0m     artifact \u001b[38;5;241m=\u001b[39m \u001b[43mArtifact\u001b[49m\u001b[38;5;241;43m.\u001b[39;49m\u001b[43mimport_data\u001b[49m\u001b[43m(\u001b[49m\n\u001b[1;32m      6\u001b[0m \u001b[43m        \u001b[49m\u001b[43md_type\u001b[49m\u001b[43m,\u001b[49m\u001b[43m \u001b[49m\n\u001b[1;32m      7\u001b[0m \u001b[43m        \u001b[49m\u001b[43mmanifest_file\u001b[49m\u001b[43m,\u001b[49m\u001b[43m \u001b[49m\n\u001b[1;32m      8\u001b[0m \u001b[43m        \u001b[49m\u001b[43mview_type\u001b[49m\u001b[38;5;241;43m=\u001b[39;49m\u001b[43mv_type\u001b[49m\u001b[43m)\u001b[49m\n\u001b[1;32m     10\u001b[0m     \u001b[38;5;66;03m# Save the artifact object to a new qza file\u001b[39;00m\n\u001b[1;32m     11\u001b[0m     artifact\u001b[38;5;241m.\u001b[39msave(demux_file)\n",
      "File \u001b[0;32m~/anaconda3/envs/qiime2-2022.2/lib/python3.8/site-packages/qiime2/sdk/result.py:277\u001b[0m, in \u001b[0;36mArtifact.import_data\u001b[0;34m(cls, type, view, view_type)\u001b[0m\n\u001b[1;32m    274\u001b[0m     format_ \u001b[38;5;241m=\u001b[39m view_type\n\u001b[1;32m    276\u001b[0m provenance_capture \u001b[38;5;241m=\u001b[39m archive\u001b[38;5;241m.\u001b[39mImportProvenanceCapture(format_, md5sums)\n\u001b[0;32m--> 277\u001b[0m \u001b[38;5;28;01mreturn\u001b[39;00m \u001b[38;5;28;43mcls\u001b[39;49m\u001b[38;5;241;43m.\u001b[39;49m\u001b[43m_from_view\u001b[49m\u001b[43m(\u001b[49m\u001b[43mtype_\u001b[49m\u001b[43m,\u001b[49m\u001b[43m \u001b[49m\u001b[43mview\u001b[49m\u001b[43m,\u001b[49m\u001b[43m \u001b[49m\u001b[43mview_type\u001b[49m\u001b[43m,\u001b[49m\u001b[43m \u001b[49m\u001b[43mprovenance_capture\u001b[49m\u001b[43m,\u001b[49m\n\u001b[1;32m    278\u001b[0m \u001b[43m                      \u001b[49m\u001b[43mvalidate_level\u001b[49m\u001b[38;5;241;43m=\u001b[39;49m\u001b[38;5;124;43m'\u001b[39;49m\u001b[38;5;124;43mmax\u001b[39;49m\u001b[38;5;124;43m'\u001b[39;49m\u001b[43m)\u001b[49m\n",
      "File \u001b[0;32m~/anaconda3/envs/qiime2-2022.2/lib/python3.8/site-packages/qiime2/sdk/result.py:305\u001b[0m, in \u001b[0;36mArtifact._from_view\u001b[0;34m(cls, type, view, view_type, provenance_capture, validate_level)\u001b[0m\n\u001b[1;32m    302\u001b[0m recorder \u001b[38;5;241m=\u001b[39m provenance_capture\u001b[38;5;241m.\u001b[39mtransformation_recorder(\u001b[38;5;124m'\u001b[39m\u001b[38;5;124mreturn\u001b[39m\u001b[38;5;124m'\u001b[39m)\n\u001b[1;32m    303\u001b[0m transformation \u001b[38;5;241m=\u001b[39m from_type\u001b[38;5;241m.\u001b[39mmake_transformation(to_type,\n\u001b[1;32m    304\u001b[0m                                                recorder\u001b[38;5;241m=\u001b[39mrecorder)\n\u001b[0;32m--> 305\u001b[0m result \u001b[38;5;241m=\u001b[39m \u001b[43mtransformation\u001b[49m\u001b[43m(\u001b[49m\u001b[43mview\u001b[49m\u001b[43m,\u001b[49m\u001b[43m \u001b[49m\u001b[43mvalidate_level\u001b[49m\u001b[43m)\u001b[49m\n\u001b[1;32m    307\u001b[0m \u001b[38;5;28;01mif\u001b[39;00m type_raw \u001b[38;5;129;01min\u001b[39;00m pm\u001b[38;5;241m.\u001b[39mvalidators:\n\u001b[1;32m    308\u001b[0m     validation_object \u001b[38;5;241m=\u001b[39m pm\u001b[38;5;241m.\u001b[39mvalidators[\u001b[38;5;28mtype\u001b[39m]\n",
      "File \u001b[0;32m~/anaconda3/envs/qiime2-2022.2/lib/python3.8/site-packages/qiime2/core/transform.py:68\u001b[0m, in \u001b[0;36mModelType.make_transformation.<locals>.transformation\u001b[0;34m(view, validate_level)\u001b[0m\n\u001b[1;32m     66\u001b[0m \u001b[38;5;28;01mdef\u001b[39;00m \u001b[38;5;21mtransformation\u001b[39m(view, validate_level\u001b[38;5;241m=\u001b[39m\u001b[38;5;124m'\u001b[39m\u001b[38;5;124mmin\u001b[39m\u001b[38;5;124m'\u001b[39m):\n\u001b[1;32m     67\u001b[0m     view \u001b[38;5;241m=\u001b[39m \u001b[38;5;28mself\u001b[39m\u001b[38;5;241m.\u001b[39mcoerce_view(view)\n\u001b[0;32m---> 68\u001b[0m     \u001b[38;5;28;43mself\u001b[39;49m\u001b[38;5;241;43m.\u001b[39;49m\u001b[43mvalidate\u001b[49m\u001b[43m(\u001b[49m\u001b[43mview\u001b[49m\u001b[43m,\u001b[49m\u001b[43m \u001b[49m\u001b[43mlevel\u001b[49m\u001b[38;5;241;43m=\u001b[39;49m\u001b[43mvalidate_level\u001b[49m\u001b[43m)\u001b[49m\n\u001b[1;32m     70\u001b[0m     new_view \u001b[38;5;241m=\u001b[39m transformer(view)\n\u001b[1;32m     72\u001b[0m     new_view \u001b[38;5;241m=\u001b[39m other\u001b[38;5;241m.\u001b[39mcoerce_view(new_view)\n",
      "File \u001b[0;32m~/anaconda3/envs/qiime2-2022.2/lib/python3.8/site-packages/qiime2/core/transform.py:143\u001b[0m, in \u001b[0;36mFormatType.validate\u001b[0;34m(self, view, level)\u001b[0m\n\u001b[1;32m    140\u001b[0m     \u001b[38;5;28;01mraise\u001b[39;00m \u001b[38;5;167;01mTypeError\u001b[39;00m(\u001b[38;5;124m\"\u001b[39m\u001b[38;5;132;01m%r\u001b[39;00m\u001b[38;5;124m is not an instance of \u001b[39m\u001b[38;5;132;01m%r\u001b[39;00m\u001b[38;5;124m.\u001b[39m\u001b[38;5;124m\"\u001b[39m\n\u001b[1;32m    141\u001b[0m                     \u001b[38;5;241m%\u001b[39m (view, \u001b[38;5;28mself\u001b[39m\u001b[38;5;241m.\u001b[39m_view_type))\n\u001b[1;32m    142\u001b[0m \u001b[38;5;66;03m# Formats have a validate method, so defer to it\u001b[39;00m\n\u001b[0;32m--> 143\u001b[0m \u001b[43mview\u001b[49m\u001b[38;5;241;43m.\u001b[39;49m\u001b[43mvalidate\u001b[49m\u001b[43m(\u001b[49m\u001b[43mlevel\u001b[49m\u001b[43m)\u001b[49m\n",
      "File \u001b[0;32m~/anaconda3/envs/qiime2-2022.2/lib/python3.8/site-packages/qiime2/plugin/model/file_format.py:28\u001b[0m, in \u001b[0;36m_FileFormat.validate\u001b[0;34m(self, level)\u001b[0m\n\u001b[1;32m     26\u001b[0m         \u001b[38;5;28mself\u001b[39m\u001b[38;5;241m.\u001b[39m_validate_(level)\n\u001b[1;32m     27\u001b[0m     \u001b[38;5;28;01mexcept\u001b[39;00m ValidationError \u001b[38;5;28;01mas\u001b[39;00m e:\n\u001b[0;32m---> 28\u001b[0m         \u001b[38;5;28;01mraise\u001b[39;00m ValidationError(\n\u001b[1;32m     29\u001b[0m             \u001b[38;5;124m\"\u001b[39m\u001b[38;5;132;01m%s\u001b[39;00m\u001b[38;5;124m is not a(n) \u001b[39m\u001b[38;5;132;01m%s\u001b[39;00m\u001b[38;5;124m file:\u001b[39m\u001b[38;5;130;01m\\n\u001b[39;00m\u001b[38;5;130;01m\\n\u001b[39;00m\u001b[38;5;132;01m%s\u001b[39;00m\u001b[38;5;124m\"\u001b[39m\n\u001b[1;32m     30\u001b[0m             \u001b[38;5;241m%\u001b[39m (\u001b[38;5;28mself\u001b[39m\u001b[38;5;241m.\u001b[39mpath, \u001b[38;5;28mself\u001b[39m\u001b[38;5;241m.\u001b[39m\u001b[38;5;18m__class__\u001b[39m\u001b[38;5;241m.\u001b[39m\u001b[38;5;18m__name__\u001b[39m, \u001b[38;5;28mstr\u001b[39m(e))\n\u001b[1;32m     31\u001b[0m             ) \u001b[38;5;28;01mfrom\u001b[39;00m \u001b[38;5;21;01me\u001b[39;00m\n\u001b[1;32m     32\u001b[0m \u001b[38;5;66;03m# TODO: remove this branch\u001b[39;00m\n\u001b[1;32m     33\u001b[0m \u001b[38;5;28;01melif\u001b[39;00m \u001b[38;5;28mhasattr\u001b[39m(\u001b[38;5;28mself\u001b[39m, \u001b[38;5;124m'\u001b[39m\u001b[38;5;124msniff\u001b[39m\u001b[38;5;124m'\u001b[39m):\n",
      "\u001b[0;31mValidationError\u001b[0m: /home/lauro/nupeb/rede-micro/redemicro-thayane/data/manifest.csv is not a(n) SingleEndFastqManifestPhred33 file:\n\nFile referenced on line 40 could not be found (/home/lauro/nupeb/microbiota_da_mulher_lbbm/menopausa_lbbm/filtered_fastqc_files/good/M01.extendedFrags.good.fastq)."
     ]
    }
   ],
   "source": [
    "# If the demux file does not exist or if the old file will be replaced\n",
    "if not os.path.isfile(demux_file) or replace_files:\n",
    "    \n",
    "    # Import data and create an artifact object\n",
    "    artifact = Artifact.import_data(\n",
    "        d_type, \n",
    "        manifest_file, \n",
    "        view_type=v_type)\n",
    "    \n",
    "    # Save the artifact object to a new qza file\n",
    "    artifact.save(demux_file)\n",
    "\n",
    "else:\n",
    "    artifact = Artifact.load(demux_file)"
   ]
  },
  {
   "cell_type": "code",
   "execution_count": null,
   "id": "36a85663",
   "metadata": {
    "ExecuteTime": {
     "end_time": "2022-06-28T19:47:56.602855Z",
     "start_time": "2022-06-28T19:44:58.642520Z"
    },
    "papermill": {
     "duration": null,
     "end_time": null,
     "exception": null,
     "start_time": null,
     "status": "pending"
    },
    "tags": []
   },
   "outputs": [],
   "source": [
    "if not os.path.isfile(demux_view) or replace_files: \n",
    "    # Generate e visualization of the Artifact\n",
    "    demux_summary = demux.visualizers.summarize(artifact)\n",
    "\n",
    "    # Save a new visualization file based on the qza file\n",
    "    Visualization.save(demux_summary.visualization, filepath=demux_view)\n",
    "    \n",
    "    demux_view_obj = demux_summary.visualization\n",
    "else:\n",
    "    demux_view_obj = Visualization.load(demux_view)"
   ]
  },
  {
   "cell_type": "markdown",
   "id": "72587dc2",
   "metadata": {
    "papermill": {
     "duration": null,
     "end_time": null,
     "exception": null,
     "start_time": null,
     "status": "pending"
    },
    "tags": []
   },
   "source": [
    "## Step report\n"
   ]
  },
  {
   "cell_type": "code",
   "execution_count": null,
   "id": "c49ba227",
   "metadata": {
    "ExecuteTime": {
     "end_time": "2022-06-28T19:47:56.609737Z",
     "start_time": "2022-06-28T19:47:56.604820Z"
    },
    "papermill": {
     "duration": null,
     "end_time": null,
     "exception": null,
     "start_time": null,
     "status": "pending"
    },
    "tags": []
   },
   "outputs": [],
   "source": [
    "print(demux_view_obj)"
   ]
  },
  {
   "cell_type": "code",
   "execution_count": null,
   "id": "77718a1d",
   "metadata": {
    "ExecuteTime": {
     "end_time": "2022-06-28T19:47:56.704841Z",
     "start_time": "2022-06-28T19:47:56.611846Z"
    },
    "papermill": {
     "duration": null,
     "end_time": null,
     "exception": null,
     "start_time": null,
     "status": "pending"
    },
    "tags": []
   },
   "outputs": [],
   "source": [
    "# Render Visualization\n",
    "demux_view_obj"
   ]
  },
  {
   "cell_type": "markdown",
   "id": "ac2df0dd",
   "metadata": {
    "papermill": {
     "duration": null,
     "end_time": null,
     "exception": null,
     "start_time": null,
     "status": "pending"
    },
    "tags": []
   },
   "source": [
    "[cutadapt](https://docs.qiime2.org/2022.2/plugins/available/cutadapt/trim-paired/)\n",
    "\n",
    "We trim the forward primer and the reverse complement of the reverse primer from the forward reads. We trim the reverse primer and reverse complement of the forward primer from the reverse reads."
   ]
  },
  {
   "cell_type": "code",
   "execution_count": null,
   "id": "f0cdbb81",
   "metadata": {
    "papermill": {
     "duration": null,
     "end_time": null,
     "exception": null,
     "start_time": null,
     "status": "pending"
    },
    "tags": []
   },
   "outputs": [],
   "source": [
    "demux_file_trim = os.path.join(out_dir, 'demux-paired-trim.qza')\n",
    "demux_view_trim = os.path.join(out_dir, 'demux-paired-trim.qzv')\n",
    "\n",
    "if trim and (not os.path.isfile(demux_file_trim) or replace_files):\n",
    "    forward_primer = [trim['forward_primer']] # ['CCTACGGGRSGCAGCAG']\n",
    "    reverse_primer = [trim['reverse_primer']] # ['GGACTACHVGGGTWTCTAAT']\n",
    "    forward_reverse_complement = [str(Seq(forward_primer[0]).reverse_complement())]\n",
    "    reverse_reverse_complement = [str(Seq(reverse_primer[0]).reverse_complement())]\n",
    "\n",
    "    res = trim_paired(\n",
    "        demultiplexed_sequences=artifact,\n",
    "        front_f=forward_primer,\n",
    "        front_r=reverse_primer,\n",
    "        adapter_f=reverse_reverse_complement,\n",
    "        adapter_r=forward_reverse_complement,\n",
    "        cores=threads,\n",
    "        overlap=trim['overlap'],\n",
    "        indels=False,\n",
    "        match_read_wildcards=True,\n",
    "        match_adapter_wildcards=True,\n",
    "        error_rate=0.15,\n",
    "        discard_untrimmed=True,\n",
    "    ).trimmed_sequences\n",
    "\n",
    "    demux.visualizers.summarize(res).visualization\n",
    "    res.save(demux_file_trim)\n",
    "    Visualization.save(demux.visualizers.summarize(res).visualization, filepath=demux_view_trim)"
   ]
  }
 ],
 "metadata": {
  "celltoolbar": "Edit Metadata",
  "kernelspec": {
   "display_name": "Python 3 (ipykernel)",
   "language": "python",
   "name": "python3"
  },
  "language_info": {
   "codemirror_mode": {
    "name": "ipython",
    "version": 3
   },
   "file_extension": ".py",
   "mimetype": "text/x-python",
   "name": "python",
   "nbconvert_exporter": "python",
   "pygments_lexer": "ipython3",
   "version": "3.8.12"
  },
  "papermill": {
   "default_parameters": {},
   "duration": 16.396832,
   "end_time": "2022-12-06T19:18:51.858697",
   "environment_variables": {},
   "exception": true,
   "input_path": "nb-templates/step-prepare-data.ipynb",
   "output_path": "/home/lauro/nupeb/rede-micro/redemicro-thayane/experiments/thayane-PM/nb-executed-steps/step-prepare-data-thayane-PM.ipynb",
   "parameters": {
    "base_dir": "/home/lauro/nupeb/rede-micro/redemicro-thayane",
    "class_col": "class-straw",
    "classifier_file": "/home/lauro/nupeb/16S_classifiers_qiime2/silva-138-99-nb-classifier.qza",
    "experiment_name": "thayane-PM",
    "manifest_file": "/home/lauro/nupeb/rede-micro/redemicro-thayane/data/manifest.csv",
    "metadata_file": "/home/lauro/nupeb/rede-micro/redemicro-thayane/data/metadata.tsv",
    "overlap": 12,
    "phred": 20,
    "replace_files": false,
    "threads": 6,
    "trunc_f": 0,
    "trunc_r": 0
   },
   "start_time": "2022-12-06T19:18:35.461865",
   "version": "2.3.4"
  },
  "toc-autonumbering": false,
  "toc-showcode": false,
  "toc-showmarkdowntxt": false
 },
 "nbformat": 4,
 "nbformat_minor": 5
}