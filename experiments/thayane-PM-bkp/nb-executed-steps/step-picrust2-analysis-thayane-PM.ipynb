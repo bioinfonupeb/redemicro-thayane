{
 "cells": [
  {
   "cell_type": "markdown",
   "id": "0e7f2330",
   "metadata": {
    "ExecuteTime": {
     "end_time": "2022-09-22T19:36:33.828188Z",
     "start_time": "2022-09-22T19:36:33.817323Z"
    },
    "papermill": {
     "duration": 0.042045,
     "end_time": "2023-03-14T18:39:31.043661",
     "exception": false,
     "start_time": "2023-03-14T18:39:31.001616",
     "status": "completed"
    },
    "tags": []
   },
   "source": [
    "### STEP : PICRUST2 Analysis\n",
    "\n",
    "\n",
    "\n",
    "#### Example\n",
    "\n",
    "- [PICRUST2 tutorial](https://github.com/picrust/picrust2/wiki/q2-picrust2-Tutorial)\n",
    "- [Limitations](https://github.com/picrust/picrust2/wiki/Key-Limitations)\n",
    "\n",
    "\n",
    "#### Methods\n",
    "- [composition](https://docs.qiime2.org/2022.8/plugins/available/composition/)"
   ]
  },
  {
   "cell_type": "markdown",
   "id": "843debbf",
   "metadata": {
    "papermill": {
     "duration": 0.070793,
     "end_time": "2023-03-14T18:39:31.211999",
     "exception": false,
     "start_time": "2023-03-14T18:39:31.141206",
     "status": "completed"
    },
    "tags": []
   },
   "source": [
    "## Setup and settings"
   ]
  },
  {
   "cell_type": "code",
   "execution_count": 1,
   "id": "965e28e5",
   "metadata": {
    "ExecuteTime": {
     "end_time": "2022-11-09T19:20:47.478806Z",
     "start_time": "2022-11-09T19:20:40.457657Z"
    },
    "execution": {
     "iopub.execute_input": "2023-03-14T18:39:31.364998Z",
     "iopub.status.busy": "2023-03-14T18:39:31.363760Z",
     "iopub.status.idle": "2023-03-14T18:39:38.651381Z",
     "shell.execute_reply": "2023-03-14T18:39:38.650313Z"
    },
    "papermill": {
     "duration": 7.368761,
     "end_time": "2023-03-14T18:39:38.651665",
     "exception": false,
     "start_time": "2023-03-14T18:39:31.282904",
     "status": "completed"
    },
    "tags": []
   },
   "outputs": [],
   "source": [
    "# Importing packages\n",
    "import os\n",
    "import biom\n",
    "import pandas as pd\n",
    "from qiime2 import Artifact\n",
    "from qiime2 import Visualization\n",
    "from qiime2 import Metadata\n",
    "\n",
    "from qiime2.plugins.feature_table.visualizers import summarize\n",
    "\n",
    "from picrust2.pipeline import full_pipeline\n",
    "from picrust2.default import (default_ref_dir, default_tables, default_regroup_map, default_pathway_map)\n",
    "from qiime2.plugins import picrust2\n",
    "\n",
    "%matplotlib inline"
   ]
  },
  {
   "cell_type": "markdown",
   "id": "530ceb60",
   "metadata": {
    "papermill": {
     "duration": 0.027805,
     "end_time": "2023-03-14T18:39:38.715327",
     "exception": false,
     "start_time": "2023-03-14T18:39:38.687522",
     "status": "completed"
    },
    "tags": []
   },
   "source": [
    "### Receiving the parameters\n",
    "\n",
    "The following cell can receive parameters using the [papermill](https://papermill.readthedocs.io/en/latest/) tool."
   ]
  },
  {
   "cell_type": "code",
   "execution_count": 2,
   "id": "18d874ea",
   "metadata": {
    "ExecuteTime": {
     "end_time": "2022-11-09T19:20:47.483140Z",
     "start_time": "2022-11-09T19:20:47.480386Z"
    },
    "execution": {
     "iopub.execute_input": "2023-03-14T18:39:38.777515Z",
     "iopub.status.busy": "2023-03-14T18:39:38.776935Z",
     "iopub.status.idle": "2023-03-14T18:39:38.779032Z",
     "shell.execute_reply": "2023-03-14T18:39:38.779444Z"
    },
    "papermill": {
     "duration": 0.036238,
     "end_time": "2023-03-14T18:39:38.779581",
     "exception": false,
     "start_time": "2023-03-14T18:39:38.743343",
     "status": "completed"
    },
    "tags": [
     "parameters"
    ]
   },
   "outputs": [],
   "source": [
    "metadata_file = '/home/lauro/nupeb/rede-micro/redemicro-miliane-nutri/data/raw/metadata/miliane-metadata-CxAC.tsv'\n",
    "base_dir = os.path.join('/', 'home', 'lauro', 'nupeb', 'rede-micro', 'redemicro-miliane-nutri')\n",
    "experiment_name = 'miliane-CxAC-trim'\n",
    "class_col = 'group-id'\n",
    "replace_files = False"
   ]
  },
  {
   "cell_type": "code",
   "execution_count": 3,
   "id": "05715f3c",
   "metadata": {
    "execution": {
     "iopub.execute_input": "2023-03-14T18:39:38.843615Z",
     "iopub.status.busy": "2023-03-14T18:39:38.843103Z",
     "iopub.status.idle": "2023-03-14T18:39:38.845282Z",
     "shell.execute_reply": "2023-03-14T18:39:38.845710Z"
    },
    "papermill": {
     "duration": 0.036415,
     "end_time": "2023-03-14T18:39:38.845832",
     "exception": false,
     "start_time": "2023-03-14T18:39:38.809417",
     "status": "completed"
    },
    "tags": [
     "injected-parameters"
    ]
   },
   "outputs": [],
   "source": [
    "# Parameters\n",
    "experiment_name = \"thayane-PM\"\n",
    "base_dir = \"/home/lauro/nupeb/rede-micro/redemicro-thayane\"\n",
    "manifest_file = \"/home/lauro/nupeb/rede-micro/redemicro-thayane/data/manifest.csv\"\n",
    "metadata_file = \"/home/lauro/nupeb/rede-micro/redemicro-thayane/data/metadata.tsv\"\n",
    "class_col = \"menopausa-age-qcut\"\n",
    "classifier_file = (\n",
    "    \"/home/lauro/nupeb/16S_classifiers_qiime2/silva-138-99-nb-classifier.qza\"\n",
    ")\n",
    "replace_files = False\n",
    "phred = 20\n",
    "trunc_f = 0\n",
    "trunc_r = 0\n",
    "overlap = 12\n",
    "threads = 6\n"
   ]
  },
  {
   "cell_type": "code",
   "execution_count": 4,
   "id": "f38617d9",
   "metadata": {
    "ExecuteTime": {
     "end_time": "2022-11-09T19:20:47.515942Z",
     "start_time": "2022-11-09T19:20:47.498345Z"
    },
    "execution": {
     "iopub.execute_input": "2023-03-14T18:39:38.908736Z",
     "iopub.status.busy": "2023-03-14T18:39:38.908247Z",
     "iopub.status.idle": "2023-03-14T18:39:38.910384Z",
     "shell.execute_reply": "2023-03-14T18:39:38.910782Z"
    },
    "papermill": {
     "duration": 0.036276,
     "end_time": "2023-03-14T18:39:38.910899",
     "exception": false,
     "start_time": "2023-03-14T18:39:38.874623",
     "status": "completed"
    },
    "tags": []
   },
   "outputs": [],
   "source": [
    "experiment_folder = os.path.abspath(os.path.join(base_dir, 'experiments', experiment_name))\n",
    "img_folder = os.path.abspath(os.path.join(experiment_folder, 'imgs'))"
   ]
  },
  {
   "cell_type": "markdown",
   "id": "ea9b90fb",
   "metadata": {
    "papermill": {
     "duration": 0.028112,
     "end_time": "2023-03-14T18:39:38.968732",
     "exception": false,
     "start_time": "2023-03-14T18:39:38.940620",
     "status": "completed"
    },
    "tags": []
   },
   "source": [
    "### Defining names, paths and flags"
   ]
  },
  {
   "cell_type": "code",
   "execution_count": 5,
   "id": "45727eef",
   "metadata": {
    "ExecuteTime": {
     "end_time": "2022-11-09T19:20:47.527937Z",
     "start_time": "2022-11-09T19:20:47.517696Z"
    },
    "execution": {
     "iopub.execute_input": "2023-03-14T18:39:39.032372Z",
     "iopub.status.busy": "2023-03-14T18:39:39.031567Z",
     "iopub.status.idle": "2023-03-14T18:39:39.035180Z",
     "shell.execute_reply": "2023-03-14T18:39:39.035701Z"
    },
    "papermill": {
     "duration": 0.039325,
     "end_time": "2023-03-14T18:39:39.035855",
     "exception": false,
     "start_time": "2023-03-14T18:39:38.996530",
     "status": "completed"
    },
    "tags": []
   },
   "outputs": [
    {
     "name": "stdout",
     "output_type": "stream",
     "text": [
      "New picrust2-artifacts folder path created: /home/lauro/nupeb/rede-micro/redemicro-thayane/experiments/thayane-PM/picrust2\n"
     ]
    }
   ],
   "source": [
    "# QIIME2 Artifacts folder\n",
    "qiime_folder = os.path.join(experiment_folder, 'qiime-artifacts')\n",
    "\n",
    "# Input - DADA2 Artifacts\n",
    "dada2_tabs_path = os.path.join(qiime_folder, 'dada2-tabs.qza')\n",
    "dada2_reqs_path = os.path.join(qiime_folder, 'dada2-reps.qza')\n",
    "\n",
    "# PICRUST@ folder\n",
    "picrust2_folder = os.path.abspath(os.path.join(experiment_folder, 'picrust2'))\n",
    "\n",
    "# Create path if it not exist\n",
    "if not os.path.isdir(picrust2_folder):\n",
    "    os.makedirs(picrust2_folder)\n",
    "    print(f'New picrust2-artifacts folder path created: {picrust2_folder}')"
   ]
  },
  {
   "cell_type": "code",
   "execution_count": 6,
   "id": "4903e645",
   "metadata": {
    "ExecuteTime": {
     "end_time": "2022-11-09T19:20:47.539993Z",
     "start_time": "2022-11-09T19:20:47.529653Z"
    },
    "execution": {
     "iopub.execute_input": "2023-03-14T18:39:39.106725Z",
     "iopub.status.busy": "2023-03-14T18:39:39.105639Z",
     "iopub.status.idle": "2023-03-14T18:39:39.109113Z",
     "shell.execute_reply": "2023-03-14T18:39:39.109569Z"
    },
    "papermill": {
     "duration": 0.041101,
     "end_time": "2023-03-14T18:39:39.109700",
     "exception": false,
     "start_time": "2023-03-14T18:39:39.068599",
     "status": "completed"
    },
    "tags": []
   },
   "outputs": [],
   "source": [
    "# Define paths for metagenome function artifacts\n",
    "ec_path = os.path.join(picrust2_folder, 'ec-pred-metagen.qza')\n",
    "ko_path = os.path.join(picrust2_folder, 'ko-pred-metagen.qza')\n",
    "pathway_path = os.path.join(picrust2_folder, 'pathway-abundance.qza')\n",
    "\n",
    "# Define paths for metagenome function visualization artifacts\n",
    "ec_viz_path = ec_path[:-1]+'v'\n",
    "ko_viz_path = ko_path[:-1]+'v'\n",
    "pathway_viz_path = pathway_path[:-1]+'v'\n",
    "\n",
    "# Define paths for biom -> tsv files (function X sample)\n",
    "pathway_fpath = os.path.join(picrust2_folder, 'pathway.tsv')\n",
    "ec_fpath = os.path.join(picrust2_folder, 'ec.tsv')\n",
    "ko_fpath = os.path.join(picrust2_folder, 'ko.tsv')\n",
    "\n",
    "# Define paths for biom -> tsv files (function X sample) - with descriptions\n",
    "pathway_desc_fpath = os.path.join(picrust2_folder, 'pathway-desc.tsv')\n",
    "ec_desc_fpath = os.path.join(picrust2_folder, 'ec-desc.tsv')\n",
    "ko_desc_fpath = os.path.join(picrust2_folder, 'ko-desc.tsv')"
   ]
  },
  {
   "cell_type": "markdown",
   "id": "0999a1b2",
   "metadata": {
    "papermill": {
     "duration": 0.029032,
     "end_time": "2023-03-14T18:39:39.168657",
     "exception": false,
     "start_time": "2023-03-14T18:39:39.139625",
     "status": "completed"
    },
    "tags": []
   },
   "source": [
    "## Step execution\n",
    "\n",
    "### Load input files\n",
    "\n",
    "This Step import the QIIME2 `FeatureTable[Frequency]` Artifact and the `Metadata` file."
   ]
  },
  {
   "cell_type": "code",
   "execution_count": 7,
   "id": "8f299d1a",
   "metadata": {
    "ExecuteTime": {
     "end_time": "2022-11-09T19:20:47.610793Z",
     "start_time": "2022-11-09T19:20:47.541540Z"
    },
    "execution": {
     "iopub.execute_input": "2023-03-14T18:39:39.233053Z",
     "iopub.status.busy": "2023-03-14T18:39:39.232535Z",
     "iopub.status.idle": "2023-03-14T18:39:39.270585Z",
     "shell.execute_reply": "2023-03-14T18:39:39.271275Z"
    },
    "papermill": {
     "duration": 0.073461,
     "end_time": "2023-03-14T18:39:39.271484",
     "exception": false,
     "start_time": "2023-03-14T18:39:39.198023",
     "status": "completed"
    },
    "tags": []
   },
   "outputs": [],
   "source": [
    "#Load Metadata\n",
    "metadata_qa = Metadata.load(metadata_file)\n",
    "\n",
    "#Load FeatureTable[Frequency]\n",
    "tabs = Artifact.load(dada2_tabs_path)\n",
    "\n",
    "#Load FeatureTable[Sequence]\n",
    "seqs = Artifact.load(dada2_reqs_path)"
   ]
  },
  {
   "cell_type": "markdown",
   "id": "4f1b06d4",
   "metadata": {
    "papermill": {
     "duration": 0.029709,
     "end_time": "2023-03-14T18:39:39.335721",
     "exception": false,
     "start_time": "2023-03-14T18:39:39.306012",
     "status": "completed"
    },
    "tags": []
   },
   "source": [
    "### Execute full pipelie\n",
    "\n",
    "The entire PICRUSt2 pipeline will be run using a single method, called `picrust2.methods.full_pipeline`. This method will run each of the 4 key steps: \n",
    "\n",
    "1. sequence placement\n",
    "2. hidden-state prediction of genomes\n",
    "3. metagenome prediction\n",
    "4. pathway-level predictions.\n",
    "\n",
    "More information on [Documentation](https://github.com/picrust/picrust2/wiki/Full-pipeline-script)."
   ]
  },
  {
   "cell_type": "code",
   "execution_count": 8,
   "id": "2c4f3874",
   "metadata": {
    "ExecuteTime": {
     "end_time": "2022-11-09T19:20:47.642417Z",
     "start_time": "2022-11-09T19:20:47.612547Z"
    },
    "execution": {
     "iopub.execute_input": "2023-03-14T18:39:39.403986Z",
     "iopub.status.busy": "2023-03-14T18:39:39.403442Z",
     "iopub.status.idle": "2023-03-14T18:50:22.475050Z",
     "shell.execute_reply": "2023-03-14T18:50:22.476069Z"
    },
    "papermill": {
     "duration": 643.111289,
     "end_time": "2023-03-14T18:50:22.476376",
     "exception": false,
     "start_time": "2023-03-14T18:39:39.365087",
     "status": "completed"
    },
    "scrolled": true,
    "tags": []
   },
   "outputs": [
    {
     "name": "stderr",
     "output_type": "stream",
     "text": [
      "1651 of 1651 sequence ids overlap between input table and FASTA.\n",
      "\n",
      "Placing sequences onto reference tree\n",
      "place_seqs.py --study_fasta /tmp/tmp2gqdkud7/seqs.fna --ref_dir /home/lauro/anaconda3/envs/qiime2-2021.11/lib/python3.8/site-packages/picrust2/default_files/prokaryotic/pro_ref --out_tree /tmp/tmp2gqdkud7/picrust2_out/out.tre --processes 6 --intermediate /tmp/tmp2gqdkud7/picrust2_out/intermediate/place_seqs --min_align 0.8 --chunk_size 5000 --placement_tool sepp --verbose\n"
     ]
    },
    {
     "name": "stdout",
     "output_type": "stream",
     "text": [
      "\n",
      "['run_sepp.py', '--tree', '/home/lauro/anaconda3/envs/qiime2-2021.11/lib/python3.8/site-packages/picrust2/default_files/prokaryotic/pro_ref/pro_ref.tre', '--raxml', '/home/lauro/anaconda3/envs/qiime2-2021.11/lib/python3.8/site-packages/picrust2/default_files/prokaryotic/pro_ref/pro_ref.raxml_info', '--cpu', '6', '--molecule', 'dna', '--outdir', '/tmp/tmp2gqdkud7/picrust2_out/intermediate/place_seqs/sepp_out', '-seed', '297834', '--alignment', '/home/lauro/anaconda3/envs/qiime2-2021.11/lib/python3.8/site-packages/picrust2/default_files/prokaryotic/pro_ref/pro_ref.fna', '--fragment', '/tmp/tmp2gqdkud7/picrust2_out/intermediate/place_seqs/study_seqs_filtered.fasta']\n",
      "\n",
      "                                              ....      ....  \n",
      "                                             '' '||.   .||'   \n",
      "                                                  ||  ||      \n",
      "                                                  '|.|'       \n",
      "     ...'   ....   ... ...  ... ...   ....        .|'|.       \n",
      "    |  ||  '' .||   ||'  ||  ||'  || '' .||      .|'  ||      \n",
      "     |''   .|' ||   ||    |  ||    | .|' ||     .|'|.  ||     \n",
      "    '....  '|..'|'. ||...'   ||...'  '|..'|.    '||'    ||:.  \n",
      "    '....'          ||       ||                               \n",
      "                   ''''     ''''   v0.6.1 (c) 2017-2020\n",
      "                                   by Lucas Czech and Pierre Barbera\n",
      "\n",
      "Invocation:                        gappa examine graft --jplace-path /tmp/tmp2gqdkud7/picrust2_out/intermediate/place_seqs/sepp_out/output_placement.json --fully-resolve --out-dir /tmp/tmp2gqdkud7/picrust2_out/intermediate/place_seqs/sepp_out\n",
      "Command:                           gappa examine graft\n",
      "\n",
      "Input:\n",
      "  --jplace-path                    /tmp/tmp2gqdkud7/picrust2_out/intermediate/place_seqs/sepp_out/output_placement.json\n",
      "\n",
      "Settings:\n",
      "  --fully-resolve                  true\n",
      "  --name-prefix\n",
      "\n",
      "Output:\n",
      "  --out-dir                        /tmp/tmp2gqdkud7/picrust2_out/intermediate/place_seqs/sepp_out\n",
      "  --file-prefix                    \n",
      "  --file-suffix\n",
      "\n",
      "Global Options:\n",
      "  --allow-file-overwriting         false\n",
      "  --verbose                        false\n",
      "  --threads                        4\n",
      "  --log-file\n",
      "\n",
      "Run the following command to get the references that need to be cited:\n",
      "`gappa tools citation Czech2020-genesis-and-gappa`\n",
      "\n",
      "Started 2023-03-14 18:44:45\n",
      "\n",
      "Found 1 jplace file\n",
      "\n",
      "Finished 2023-03-14 18:44:45\n",
      "\n",
      "\n"
     ]
    },
    {
     "name": "stderr",
     "output_type": "stream",
     "text": [
      "hmmalign --trim --dna --mapali /home/lauro/anaconda3/envs/qiime2-2021.11/lib/python3.8/site-packages/picrust2/default_files/prokaryotic/pro_ref/pro_ref.fna --informat FASTA -o /tmp/tmp2gqdkud7/picrust2_out/intermediate/place_seqs/query_align.stockholm /home/lauro/anaconda3/envs/qiime2-2021.11/lib/python3.8/site-packages/picrust2/default_files/prokaryotic/pro_ref/pro_ref.hmm /tmp/tmp2gqdkud7/seqs.fna\n",
      "\n",
      "Warning - 1 input sequences aligned poorly to reference sequences (--min_align option specified a minimum proportion of 0.8 aligning to reference sequences). These input sequences will not be placed and will be excluded from downstream steps.\n",
      "\n",
      "This is the set of poorly aligned input sequences to be excluded: 26b3125f662556104e9d7acf2bed5345\n",
      "\n",
      "Raw input sequences ranged in length from 24 to 453\n",
      "\n",
      "run_sepp.py --tree /home/lauro/anaconda3/envs/qiime2-2021.11/lib/python3.8/site-packages/picrust2/default_files/prokaryotic/pro_ref/pro_ref.tre --raxml /home/lauro/anaconda3/envs/qiime2-2021.11/lib/python3.8/site-packages/picrust2/default_files/prokaryotic/pro_ref/pro_ref.raxml_info --cpu 6 --molecule dna --outdir /tmp/tmp2gqdkud7/picrust2_out/intermediate/place_seqs/sepp_out -seed 297834 --alignment /home/lauro/anaconda3/envs/qiime2-2021.11/lib/python3.8/site-packages/picrust2/default_files/prokaryotic/pro_ref/pro_ref.fna --fragment /tmp/tmp2gqdkud7/picrust2_out/intermediate/place_seqs/study_seqs_filtered.fasta\n",
      "[18:40:45] config.py (line 349):     INFO: Seed number: 297834\n",
      "[18:40:45] algorithm.py (line 258):     INFO: Reading input alignment: <_io.TextIOWrapper name='/home/lauro/anaconda3/envs/qiime2-2021.11/lib/python3.8/site-packages/picrust2/default_files/prokaryotic/pro_ref/pro_ref.fna' mode='r' encoding='UTF-8'>\n",
      "[18:40:45] algorithm.py (line 265):     INFO: Reading input tree: <_io.TextIOWrapper name='/home/lauro/anaconda3/envs/qiime2-2021.11/lib/python3.8/site-packages/picrust2/default_files/prokaryotic/pro_ref/pro_ref.tre' mode='r' encoding='UTF-8'>\n",
      "[18:40:47] algorithm.py (line 238):     INFO: Decomposition Sizes are set to alignment: 2000 placement: 2000\n",
      "[18:40:49] exhaustive.py (line 350):     INFO: Breaking into 16 placement subsets.\n",
      "[18:40:51] exhaustive.py (line 397):     INFO: Breaking into 16 alignment subsets.\n",
      "[18:40:51] filemgr.py (line 129):     INFO: Root temp directory built: /tmp/sepp/output.txlr34u0\n",
      "[18:40:51] exhaustive.py (line 412):     INFO: Breaking each alignment subset into 3 fragment chunks.\n",
      "[18:40:52] jobs.py (line 131):     INFO: Finished hmmbuild Job with input: /tmp/sepp/output.txlr34u0/root/P_4/A_4_0/hmmbuild.input.bvotpxd5.fasta\n",
      "[18:40:52] jobs.py (line 131):     INFO: Finished hmmbuild Job with input: /tmp/sepp/output.txlr34u0/root/P_5/A_5_0/hmmbuild.input.9u0ffue1.fasta\n",
      "[18:40:52] jobs.py (line 131):     INFO: Finished hmmbuild Job with input: /tmp/sepp/output.txlr34u0/root/P_1/A_1_0/hmmbuild.input.38w9pvcx.fasta\n",
      "[18:40:52] jobs.py (line 131):     INFO: Finished hmmbuild Job with input: /tmp/sepp/output.txlr34u0/root/P_0/A_0_0/hmmbuild.input.lpylbs5g.fasta\n",
      "[18:40:53] jobs.py (line 131):     INFO: Finished hmmbuild Job with input: /tmp/sepp/output.txlr34u0/root/P_3/A_3_0/hmmbuild.input.vcqq291g.fasta\n",
      "[18:40:53] jobs.py (line 131):     INFO: Finished hmmbuild Job with input: /tmp/sepp/output.txlr34u0/root/P_2/A_2_0/hmmbuild.input.5tyeaj_q.fasta\n",
      "[18:40:53] jobs.py (line 131):     INFO: Finished hmmbuild Job with input: /tmp/sepp/output.txlr34u0/root/P_6/A_6_0/hmmbuild.input.g36pn704.fasta\n",
      "[18:40:53] jobs.py (line 131):     INFO: Finished hmmbuild Job with input: /tmp/sepp/output.txlr34u0/root/P_8/A_8_0/hmmbuild.input.h7rqg1zd.fasta\n",
      "[18:40:53] jobs.py (line 131):     INFO: Finished hmmbuild Job with input: /tmp/sepp/output.txlr34u0/root/P_9/A_9_0/hmmbuild.input.not6mk3s.fasta\n",
      "[18:40:53] jobs.py (line 131):     INFO: Finished hmmbuild Job with input: /tmp/sepp/output.txlr34u0/root/P_7/A_7_0/hmmbuild.input.6ah78ojr.fasta\n",
      "[18:40:53] jobs.py (line 131):     INFO: Finished hmmbuild Job with input: /tmp/sepp/output.txlr34u0/root/P_11/A_11_0/hmmbuild.input.6r1g5zuz.fasta\n",
      "[18:40:53] jobs.py (line 131):     INFO: Finished hmmbuild Job with input: /tmp/sepp/output.txlr34u0/root/P_10/A_10_0/hmmbuild.input.vric1j_o.fasta\n",
      "[18:40:54] jobs.py (line 131):     INFO: Finished hmmbuild Job with input: /tmp/sepp/output.txlr34u0/root/P_12/A_12_0/hmmbuild.input.0_zw3u42.fasta\n",
      "[18:40:54] jobs.py (line 131):     INFO: Finished hmmbuild Job with input: /tmp/sepp/output.txlr34u0/root/P_13/A_13_0/hmmbuild.input.nn_mn20r.fasta\n",
      "[18:40:54] jobs.py (line 131):     INFO: Finished hmmbuild Job with input: /tmp/sepp/output.txlr34u0/root/P_15/A_15_0/hmmbuild.input.wc1dpdhh.fasta\n",
      "[18:40:54] jobs.py (line 131):     INFO: Finished hmmbuild Job with input: /tmp/sepp/output.txlr34u0/root/P_14/A_14_0/hmmbuild.input.uofujvhn.fasta\n",
      "[18:41:01] jobs.py (line 131):     INFO: Finished hmmsearch Job with input: model:/tmp/sepp/output.txlr34u0/root/P_4/A_4_0/hmmbuild.model.qkbojmsg, fragments:/tmp/sepp/output.txlr34u0/fragment_chunks/fragment_chunk_10ggqozv9.fasta, elim:99999999, filter:False, output:/tmp/sepp/output.txlr34u0/root/P_4/A_4_0/FC_4_0_1/hmmsearch.results.t44wny3l\n",
      "[18:41:01] jobs.py (line 131):     INFO: Finished hmmsearch Job with input: model:/tmp/sepp/output.txlr34u0/root/P_4/A_4_0/hmmbuild.model.qkbojmsg, fragments:/tmp/sepp/output.txlr34u0/fragment_chunks/fragment_chunk_2e2nb7_oc.fasta, elim:99999999, filter:False, output:/tmp/sepp/output.txlr34u0/root/P_4/A_4_0/FC_4_0_2/hmmsearch.results.m4ghtg30\n",
      "[18:41:06] jobs.py (line 131):     INFO: Finished hmmsearch Job with input: model:/tmp/sepp/output.txlr34u0/root/P_4/A_4_0/hmmbuild.model.qkbojmsg, fragments:/tmp/sepp/output.txlr34u0/fragment_chunks/fragment_chunk_07u5chbxs.fasta, elim:99999999, filter:False, output:/tmp/sepp/output.txlr34u0/root/P_4/A_4_0/FC_4_0_0/hmmsearch.results.pou_acni\n",
      "[18:41:06] jobs.py (line 131):     INFO: Finished hmmsearch Job with input: model:/tmp/sepp/output.txlr34u0/root/P_5/A_5_0/hmmbuild.model.9ag3u_q3, fragments:/tmp/sepp/output.txlr34u0/fragment_chunks/fragment_chunk_07u5chbxs.fasta, elim:99999999, filter:False, output:/tmp/sepp/output.txlr34u0/root/P_5/A_5_0/FC_5_0_0/hmmsearch.results.6r1a_5lt\n",
      "[18:41:06] jobs.py (line 131):     INFO: Finished hmmsearch Job with input: model:/tmp/sepp/output.txlr34u0/root/P_5/A_5_0/hmmbuild.model.9ag3u_q3, fragments:/tmp/sepp/output.txlr34u0/fragment_chunks/fragment_chunk_2e2nb7_oc.fasta, elim:99999999, filter:False, output:/tmp/sepp/output.txlr34u0/root/P_5/A_5_0/FC_5_0_2/hmmsearch.results.x_sfv4zz\n",
      "[18:41:07] jobs.py (line 131):     INFO: Finished hmmsearch Job with input: model:/tmp/sepp/output.txlr34u0/root/P_5/A_5_0/hmmbuild.model.9ag3u_q3, fragments:/tmp/sepp/output.txlr34u0/fragment_chunks/fragment_chunk_10ggqozv9.fasta, elim:99999999, filter:False, output:/tmp/sepp/output.txlr34u0/root/P_5/A_5_0/FC_5_0_1/hmmsearch.results.vc2ofd_j\n",
      "[18:41:09] jobs.py (line 131):     INFO: Finished hmmsearch Job with input: model:/tmp/sepp/output.txlr34u0/root/P_1/A_1_0/hmmbuild.model.7_paeecc, fragments:/tmp/sepp/output.txlr34u0/fragment_chunks/fragment_chunk_10ggqozv9.fasta, elim:99999999, filter:False, output:/tmp/sepp/output.txlr34u0/root/P_1/A_1_0/FC_1_0_1/hmmsearch.results.hce2v60o\n",
      "[18:41:11] jobs.py (line 131):     INFO: Finished hmmsearch Job with input: model:/tmp/sepp/output.txlr34u0/root/P_1/A_1_0/hmmbuild.model.7_paeecc, fragments:/tmp/sepp/output.txlr34u0/fragment_chunks/fragment_chunk_07u5chbxs.fasta, elim:99999999, filter:False, output:/tmp/sepp/output.txlr34u0/root/P_1/A_1_0/FC_1_0_0/hmmsearch.results.vfqig_l3\n",
      "[18:41:16] jobs.py (line 131):     INFO: Finished hmmsearch Job with input: model:/tmp/sepp/output.txlr34u0/root/P_0/A_0_0/hmmbuild.model.q59xea12, fragments:/tmp/sepp/output.txlr34u0/fragment_chunks/fragment_chunk_2e2nb7_oc.fasta, elim:99999999, filter:False, output:/tmp/sepp/output.txlr34u0/root/P_0/A_0_0/FC_0_0_2/hmmsearch.results.tbvvwwmh\n",
      "[18:41:16] jobs.py (line 131):     INFO: Finished hmmsearch Job with input: model:/tmp/sepp/output.txlr34u0/root/P_0/A_0_0/hmmbuild.model.q59xea12, fragments:/tmp/sepp/output.txlr34u0/fragment_chunks/fragment_chunk_07u5chbxs.fasta, elim:99999999, filter:False, output:/tmp/sepp/output.txlr34u0/root/P_0/A_0_0/FC_0_0_0/hmmsearch.results.a20n4vtr\n",
      "[18:41:16] jobs.py (line 131):     INFO: Finished hmmsearch Job with input: model:/tmp/sepp/output.txlr34u0/root/P_3/A_3_0/hmmbuild.model.0n3gdwov, fragments:/tmp/sepp/output.txlr34u0/fragment_chunks/fragment_chunk_07u5chbxs.fasta, elim:99999999, filter:False, output:/tmp/sepp/output.txlr34u0/root/P_3/A_3_0/FC_3_0_0/hmmsearch.results.07gfyskk\n",
      "[18:41:18] jobs.py (line 131):     INFO: Finished hmmsearch Job with input: model:/tmp/sepp/output.txlr34u0/root/P_1/A_1_0/hmmbuild.model.7_paeecc, fragments:/tmp/sepp/output.txlr34u0/fragment_chunks/fragment_chunk_2e2nb7_oc.fasta, elim:99999999, filter:False, output:/tmp/sepp/output.txlr34u0/root/P_1/A_1_0/FC_1_0_2/hmmsearch.results.7pubjr_k\n",
      "[18:41:19] jobs.py (line 131):     INFO: Finished hmmsearch Job with input: model:/tmp/sepp/output.txlr34u0/root/P_0/A_0_0/hmmbuild.model.q59xea12, fragments:/tmp/sepp/output.txlr34u0/fragment_chunks/fragment_chunk_10ggqozv9.fasta, elim:99999999, filter:False, output:/tmp/sepp/output.txlr34u0/root/P_0/A_0_0/FC_0_0_1/hmmsearch.results.32h_i94o\n",
      "[18:41:21] jobs.py (line 131):     INFO: Finished hmmsearch Job with input: model:/tmp/sepp/output.txlr34u0/root/P_3/A_3_0/hmmbuild.model.0n3gdwov, fragments:/tmp/sepp/output.txlr34u0/fragment_chunks/fragment_chunk_10ggqozv9.fasta, elim:99999999, filter:False, output:/tmp/sepp/output.txlr34u0/root/P_3/A_3_0/FC_3_0_1/hmmsearch.results.dnsmhs66\n",
      "[18:41:25] jobs.py (line 131):     INFO: Finished hmmsearch Job with input: model:/tmp/sepp/output.txlr34u0/root/P_2/A_2_0/hmmbuild.model.4hiz6sg3, fragments:/tmp/sepp/output.txlr34u0/fragment_chunks/fragment_chunk_10ggqozv9.fasta, elim:99999999, filter:False, output:/tmp/sepp/output.txlr34u0/root/P_2/A_2_0/FC_2_0_1/hmmsearch.results.v588hf47\n",
      "[18:41:27] jobs.py (line 131):     INFO: Finished hmmsearch Job with input: model:/tmp/sepp/output.txlr34u0/root/P_6/A_6_0/hmmbuild.model.iubuimx1, fragments:/tmp/sepp/output.txlr34u0/fragment_chunks/fragment_chunk_07u5chbxs.fasta, elim:99999999, filter:False, output:/tmp/sepp/output.txlr34u0/root/P_6/A_6_0/FC_6_0_0/hmmsearch.results.aa20x7fj\n",
      "[18:41:28] jobs.py (line 131):     INFO: Finished hmmsearch Job with input: model:/tmp/sepp/output.txlr34u0/root/P_3/A_3_0/hmmbuild.model.0n3gdwov, fragments:/tmp/sepp/output.txlr34u0/fragment_chunks/fragment_chunk_2e2nb7_oc.fasta, elim:99999999, filter:False, output:/tmp/sepp/output.txlr34u0/root/P_3/A_3_0/FC_3_0_2/hmmsearch.results.i6kq6q1u\n",
      "[18:41:28] jobs.py (line 131):     INFO: Finished hmmsearch Job with input: model:/tmp/sepp/output.txlr34u0/root/P_2/A_2_0/hmmbuild.model.4hiz6sg3, fragments:/tmp/sepp/output.txlr34u0/fragment_chunks/fragment_chunk_07u5chbxs.fasta, elim:99999999, filter:False, output:/tmp/sepp/output.txlr34u0/root/P_2/A_2_0/FC_2_0_0/hmmsearch.results.1jz5llql\n",
      "[18:41:30] jobs.py (line 131):     INFO: Finished hmmsearch Job with input: model:/tmp/sepp/output.txlr34u0/root/P_2/A_2_0/hmmbuild.model.4hiz6sg3, fragments:/tmp/sepp/output.txlr34u0/fragment_chunks/fragment_chunk_2e2nb7_oc.fasta, elim:99999999, filter:False, output:/tmp/sepp/output.txlr34u0/root/P_2/A_2_0/FC_2_0_2/hmmsearch.results.46ev3xmy\n",
      "[18:41:32] jobs.py (line 131):     INFO: Finished hmmsearch Job with input: model:/tmp/sepp/output.txlr34u0/root/P_6/A_6_0/hmmbuild.model.iubuimx1, fragments:/tmp/sepp/output.txlr34u0/fragment_chunks/fragment_chunk_10ggqozv9.fasta, elim:99999999, filter:False, output:/tmp/sepp/output.txlr34u0/root/P_6/A_6_0/FC_6_0_1/hmmsearch.results.0f8ua5do\n",
      "[18:41:34] jobs.py (line 131):     INFO: Finished hmmsearch Job with input: model:/tmp/sepp/output.txlr34u0/root/P_6/A_6_0/hmmbuild.model.iubuimx1, fragments:/tmp/sepp/output.txlr34u0/fragment_chunks/fragment_chunk_2e2nb7_oc.fasta, elim:99999999, filter:False, output:/tmp/sepp/output.txlr34u0/root/P_6/A_6_0/FC_6_0_2/hmmsearch.results.ympi19ak\n",
      "[18:41:36] jobs.py (line 131):     INFO: Finished hmmsearch Job with input: model:/tmp/sepp/output.txlr34u0/root/P_8/A_8_0/hmmbuild.model.ee_z6vxx, fragments:/tmp/sepp/output.txlr34u0/fragment_chunks/fragment_chunk_07u5chbxs.fasta, elim:99999999, filter:False, output:/tmp/sepp/output.txlr34u0/root/P_8/A_8_0/FC_8_0_0/hmmsearch.results.j6mduvtd\n",
      "[18:41:38] jobs.py (line 131):     INFO: Finished hmmsearch Job with input: model:/tmp/sepp/output.txlr34u0/root/P_8/A_8_0/hmmbuild.model.ee_z6vxx, fragments:/tmp/sepp/output.txlr34u0/fragment_chunks/fragment_chunk_10ggqozv9.fasta, elim:99999999, filter:False, output:/tmp/sepp/output.txlr34u0/root/P_8/A_8_0/FC_8_0_1/hmmsearch.results.idv3ipuv\n",
      "[18:41:38] jobs.py (line 131):     INFO: Finished hmmsearch Job with input: model:/tmp/sepp/output.txlr34u0/root/P_8/A_8_0/hmmbuild.model.ee_z6vxx, fragments:/tmp/sepp/output.txlr34u0/fragment_chunks/fragment_chunk_2e2nb7_oc.fasta, elim:99999999, filter:False, output:/tmp/sepp/output.txlr34u0/root/P_8/A_8_0/FC_8_0_2/hmmsearch.results.at9w9gn6\n",
      "[18:41:41] jobs.py (line 131):     INFO: Finished hmmsearch Job with input: model:/tmp/sepp/output.txlr34u0/root/P_9/A_9_0/hmmbuild.model.tx24a23o, fragments:/tmp/sepp/output.txlr34u0/fragment_chunks/fragment_chunk_07u5chbxs.fasta, elim:99999999, filter:False, output:/tmp/sepp/output.txlr34u0/root/P_9/A_9_0/FC_9_0_0/hmmsearch.results.7o4lr4_z\n",
      "[18:41:42] jobs.py (line 131):     INFO: Finished hmmsearch Job with input: model:/tmp/sepp/output.txlr34u0/root/P_9/A_9_0/hmmbuild.model.tx24a23o, fragments:/tmp/sepp/output.txlr34u0/fragment_chunks/fragment_chunk_10ggqozv9.fasta, elim:99999999, filter:False, output:/tmp/sepp/output.txlr34u0/root/P_9/A_9_0/FC_9_0_1/hmmsearch.results.hjbgs99i\n",
      "[18:41:45] jobs.py (line 131):     INFO: Finished hmmsearch Job with input: model:/tmp/sepp/output.txlr34u0/root/P_9/A_9_0/hmmbuild.model.tx24a23o, fragments:/tmp/sepp/output.txlr34u0/fragment_chunks/fragment_chunk_2e2nb7_oc.fasta, elim:99999999, filter:False, output:/tmp/sepp/output.txlr34u0/root/P_9/A_9_0/FC_9_0_2/hmmsearch.results.q3o8bh5z\n",
      "[18:41:46] jobs.py (line 131):     INFO: Finished hmmsearch Job with input: model:/tmp/sepp/output.txlr34u0/root/P_7/A_7_0/hmmbuild.model.yhdz38ji, fragments:/tmp/sepp/output.txlr34u0/fragment_chunks/fragment_chunk_07u5chbxs.fasta, elim:99999999, filter:False, output:/tmp/sepp/output.txlr34u0/root/P_7/A_7_0/FC_7_0_0/hmmsearch.results.vspfgr3y\n",
      "[18:41:49] jobs.py (line 131):     INFO: Finished hmmsearch Job with input: model:/tmp/sepp/output.txlr34u0/root/P_7/A_7_0/hmmbuild.model.yhdz38ji, fragments:/tmp/sepp/output.txlr34u0/fragment_chunks/fragment_chunk_2e2nb7_oc.fasta, elim:99999999, filter:False, output:/tmp/sepp/output.txlr34u0/root/P_7/A_7_0/FC_7_0_2/hmmsearch.results.l0zc3h_u\n",
      "[18:41:49] jobs.py (line 131):     INFO: Finished hmmsearch Job with input: model:/tmp/sepp/output.txlr34u0/root/P_7/A_7_0/hmmbuild.model.yhdz38ji, fragments:/tmp/sepp/output.txlr34u0/fragment_chunks/fragment_chunk_10ggqozv9.fasta, elim:99999999, filter:False, output:/tmp/sepp/output.txlr34u0/root/P_7/A_7_0/FC_7_0_1/hmmsearch.results.y577nlss\n",
      "[18:41:52] jobs.py (line 131):     INFO: Finished hmmsearch Job with input: model:/tmp/sepp/output.txlr34u0/root/P_11/A_11_0/hmmbuild.model.o1i6ldjg, fragments:/tmp/sepp/output.txlr34u0/fragment_chunks/fragment_chunk_07u5chbxs.fasta, elim:99999999, filter:False, output:/tmp/sepp/output.txlr34u0/root/P_11/A_11_0/FC_11_0_0/hmmsearch.results.n8k81u28\n",
      "[18:41:52] jobs.py (line 131):     INFO: Finished hmmsearch Job with input: model:/tmp/sepp/output.txlr34u0/root/P_11/A_11_0/hmmbuild.model.o1i6ldjg, fragments:/tmp/sepp/output.txlr34u0/fragment_chunks/fragment_chunk_10ggqozv9.fasta, elim:99999999, filter:False, output:/tmp/sepp/output.txlr34u0/root/P_11/A_11_0/FC_11_0_1/hmmsearch.results.23_4u9jf\n",
      "[18:41:55] jobs.py (line 131):     INFO: Finished hmmsearch Job with input: model:/tmp/sepp/output.txlr34u0/root/P_11/A_11_0/hmmbuild.model.o1i6ldjg, fragments:/tmp/sepp/output.txlr34u0/fragment_chunks/fragment_chunk_2e2nb7_oc.fasta, elim:99999999, filter:False, output:/tmp/sepp/output.txlr34u0/root/P_11/A_11_0/FC_11_0_2/hmmsearch.results.18y62c7m\n",
      "[18:41:56] jobs.py (line 131):     INFO: Finished hmmsearch Job with input: model:/tmp/sepp/output.txlr34u0/root/P_10/A_10_0/hmmbuild.model.dlieqluo, fragments:/tmp/sepp/output.txlr34u0/fragment_chunks/fragment_chunk_07u5chbxs.fasta, elim:99999999, filter:False, output:/tmp/sepp/output.txlr34u0/root/P_10/A_10_0/FC_10_0_0/hmmsearch.results.xzxmvk9f\n",
      "[18:41:58] jobs.py (line 131):     INFO: Finished hmmsearch Job with input: model:/tmp/sepp/output.txlr34u0/root/P_10/A_10_0/hmmbuild.model.dlieqluo, fragments:/tmp/sepp/output.txlr34u0/fragment_chunks/fragment_chunk_2e2nb7_oc.fasta, elim:99999999, filter:False, output:/tmp/sepp/output.txlr34u0/root/P_10/A_10_0/FC_10_0_2/hmmsearch.results.nxs6xsym\n",
      "[18:42:01] jobs.py (line 131):     INFO: Finished hmmsearch Job with input: model:/tmp/sepp/output.txlr34u0/root/P_12/A_12_0/hmmbuild.model.xmi7cets, fragments:/tmp/sepp/output.txlr34u0/fragment_chunks/fragment_chunk_10ggqozv9.fasta, elim:99999999, filter:False, output:/tmp/sepp/output.txlr34u0/root/P_12/A_12_0/FC_12_0_1/hmmsearch.results.7siffoow\n",
      "[18:42:01] jobs.py (line 131):     INFO: Finished hmmsearch Job with input: model:/tmp/sepp/output.txlr34u0/root/P_10/A_10_0/hmmbuild.model.dlieqluo, fragments:/tmp/sepp/output.txlr34u0/fragment_chunks/fragment_chunk_10ggqozv9.fasta, elim:99999999, filter:False, output:/tmp/sepp/output.txlr34u0/root/P_10/A_10_0/FC_10_0_1/hmmsearch.results.pfkxlugw\n",
      "[18:42:03] jobs.py (line 131):     INFO: Finished hmmsearch Job with input: model:/tmp/sepp/output.txlr34u0/root/P_12/A_12_0/hmmbuild.model.xmi7cets, fragments:/tmp/sepp/output.txlr34u0/fragment_chunks/fragment_chunk_07u5chbxs.fasta, elim:99999999, filter:False, output:/tmp/sepp/output.txlr34u0/root/P_12/A_12_0/FC_12_0_0/hmmsearch.results.3vxl10tp\n",
      "[18:42:06] jobs.py (line 131):     INFO: Finished hmmsearch Job with input: model:/tmp/sepp/output.txlr34u0/root/P_13/A_13_0/hmmbuild.model.5ujoeng6, fragments:/tmp/sepp/output.txlr34u0/fragment_chunks/fragment_chunk_07u5chbxs.fasta, elim:99999999, filter:False, output:/tmp/sepp/output.txlr34u0/root/P_13/A_13_0/FC_13_0_0/hmmsearch.results.s4vaczgb\n",
      "[18:42:06] jobs.py (line 131):     INFO: Finished hmmsearch Job with input: model:/tmp/sepp/output.txlr34u0/root/P_12/A_12_0/hmmbuild.model.xmi7cets, fragments:/tmp/sepp/output.txlr34u0/fragment_chunks/fragment_chunk_2e2nb7_oc.fasta, elim:99999999, filter:False, output:/tmp/sepp/output.txlr34u0/root/P_12/A_12_0/FC_12_0_2/hmmsearch.results.p2rcdn44\n",
      "[18:42:09] jobs.py (line 131):     INFO: Finished hmmsearch Job with input: model:/tmp/sepp/output.txlr34u0/root/P_13/A_13_0/hmmbuild.model.5ujoeng6, fragments:/tmp/sepp/output.txlr34u0/fragment_chunks/fragment_chunk_10ggqozv9.fasta, elim:99999999, filter:False, output:/tmp/sepp/output.txlr34u0/root/P_13/A_13_0/FC_13_0_1/hmmsearch.results.0r5vpv1c\n",
      "[18:42:12] jobs.py (line 131):     INFO: Finished hmmsearch Job with input: model:/tmp/sepp/output.txlr34u0/root/P_15/A_15_0/hmmbuild.model.j692plxr, fragments:/tmp/sepp/output.txlr34u0/fragment_chunks/fragment_chunk_07u5chbxs.fasta, elim:99999999, filter:False, output:/tmp/sepp/output.txlr34u0/root/P_15/A_15_0/FC_15_0_0/hmmsearch.results.pnwi0wde\n",
      "[18:42:13] jobs.py (line 131):     INFO: Finished hmmsearch Job with input: model:/tmp/sepp/output.txlr34u0/root/P_13/A_13_0/hmmbuild.model.5ujoeng6, fragments:/tmp/sepp/output.txlr34u0/fragment_chunks/fragment_chunk_2e2nb7_oc.fasta, elim:99999999, filter:False, output:/tmp/sepp/output.txlr34u0/root/P_13/A_13_0/FC_13_0_2/hmmsearch.results.j_rkuefb\n",
      "[18:42:13] jobs.py (line 131):     INFO: Finished hmmsearch Job with input: model:/tmp/sepp/output.txlr34u0/root/P_14/A_14_0/hmmbuild.model.ktj_slno, fragments:/tmp/sepp/output.txlr34u0/fragment_chunks/fragment_chunk_07u5chbxs.fasta, elim:99999999, filter:False, output:/tmp/sepp/output.txlr34u0/root/P_14/A_14_0/FC_14_0_0/hmmsearch.results.ipi75mhy\n",
      "[18:42:14] jobs.py (line 131):     INFO: Finished hmmsearch Job with input: model:/tmp/sepp/output.txlr34u0/root/P_15/A_15_0/hmmbuild.model.j692plxr, fragments:/tmp/sepp/output.txlr34u0/fragment_chunks/fragment_chunk_2e2nb7_oc.fasta, elim:99999999, filter:False, output:/tmp/sepp/output.txlr34u0/root/P_15/A_15_0/FC_15_0_2/hmmsearch.results.ewy5z5yk\n",
      "[18:42:14] jobs.py (line 131):     INFO: Finished hmmsearch Job with input: model:/tmp/sepp/output.txlr34u0/root/P_15/A_15_0/hmmbuild.model.j692plxr, fragments:/tmp/sepp/output.txlr34u0/fragment_chunks/fragment_chunk_10ggqozv9.fasta, elim:99999999, filter:False, output:/tmp/sepp/output.txlr34u0/root/P_15/A_15_0/FC_15_0_1/hmmsearch.results.ubiq2r46\n",
      "[18:42:18] jobs.py (line 131):     INFO: Finished hmmsearch Job with input: model:/tmp/sepp/output.txlr34u0/root/P_14/A_14_0/hmmbuild.model.ktj_slno, fragments:/tmp/sepp/output.txlr34u0/fragment_chunks/fragment_chunk_10ggqozv9.fasta, elim:99999999, filter:False, output:/tmp/sepp/output.txlr34u0/root/P_14/A_14_0/FC_14_0_1/hmmsearch.results.pp8i2oj2\n",
      "[18:42:19] jobs.py (line 131):     INFO: Finished hmmsearch Job with input: model:/tmp/sepp/output.txlr34u0/root/P_14/A_14_0/hmmbuild.model.ktj_slno, fragments:/tmp/sepp/output.txlr34u0/fragment_chunks/fragment_chunk_2e2nb7_oc.fasta, elim:99999999, filter:False, output:/tmp/sepp/output.txlr34u0/root/P_14/A_14_0/FC_14_0_2/hmmsearch.results.kpcfoawy\n",
      "[18:42:20] exhaustive.py (line 80):  WARNING: Fragments [] are not scored against any subset\n",
      "[18:42:20] jobs.py (line 131):     INFO: Finished hmmalign Job with input: model:/tmp/sepp/output.txlr34u0/root/P_1/A_1_0/hmmbuild.model.7_paeecc, fragments:/tmp/sepp/output.txlr34u0/root/P_1/A_1_0/FC_1_0_1/hmmalign.frag.qcw9x79q.fasta, trim:False, base_alignment:/tmp/sepp/output.txlr34u0/root/P_1/A_1_0/hmmbuild.input.38w9pvcx.fasta\n",
      "[18:42:20] jobs.py (line 131):     INFO: Finished hmmalign Job with input: model:/tmp/sepp/output.txlr34u0/root/P_2/A_2_0/hmmbuild.model.4hiz6sg3, fragments:/tmp/sepp/output.txlr34u0/root/P_2/A_2_0/FC_2_0_0/hmmalign.frag.s_5cajmj.fasta, trim:False, base_alignment:/tmp/sepp/output.txlr34u0/root/P_2/A_2_0/hmmbuild.input.5tyeaj_q.fasta\n",
      "[18:42:20] jobs.py (line 131):     INFO: Finished hmmalign Job with input: model:/tmp/sepp/output.txlr34u0/root/P_1/A_1_0/hmmbuild.model.7_paeecc, fragments:/tmp/sepp/output.txlr34u0/root/P_1/A_1_0/FC_1_0_0/hmmalign.frag.b7cymbak.fasta, trim:False, base_alignment:/tmp/sepp/output.txlr34u0/root/P_1/A_1_0/hmmbuild.input.38w9pvcx.fasta\n",
      "[18:42:20] exhaustive.py (line 151):     INFO: Merging sub-alignments for placement problem : P_1.\n",
      "[18:42:20] jobs.py (line 131):     INFO: Finished hmmalign Job with input: model:/tmp/sepp/output.txlr34u0/root/P_2/A_2_0/hmmbuild.model.4hiz6sg3, fragments:/tmp/sepp/output.txlr34u0/root/P_2/A_2_0/FC_2_0_1/hmmalign.frag.im_we14o.fasta, trim:False, base_alignment:/tmp/sepp/output.txlr34u0/root/P_2/A_2_0/hmmbuild.input.5tyeaj_q.fasta\n",
      "[18:42:20] jobs.py (line 131):     INFO: Finished hmmalign Job with input: model:/tmp/sepp/output.txlr34u0/root/P_2/A_2_0/hmmbuild.model.4hiz6sg3, fragments:/tmp/sepp/output.txlr34u0/root/P_2/A_2_0/FC_2_0_2/hmmalign.frag.ng90xlda.fasta, trim:False, base_alignment:/tmp/sepp/output.txlr34u0/root/P_2/A_2_0/hmmbuild.input.5tyeaj_q.fasta\n",
      "[18:42:20] alignment.py (line 556):     INFO: Merging extension sto file (/tmp/sepp/output.txlr34u0/root/P_1/A_1_0/FC_1_0_0/hmmalign.results.l5e9e28p) into base alignment (/tmp/sepp/output.txlr34u0/root/P_1/A_1_0/hmmbuild.input.38w9pvcx.fasta).\n",
      "[18:42:20] alignment.py (line 556):     INFO: Merging extension sto file (/tmp/sepp/output.txlr34u0/root/P_1/A_1_0/FC_1_0_1/hmmalign.results.xx79lzlh) into base alignment (/tmp/sepp/output.txlr34u0/root/P_1/A_1_0/hmmbuild.input.38w9pvcx.fasta).\n",
      "[18:42:20] jobs.py (line 131):     INFO: Finished hmmalign Job with input: model:/tmp/sepp/output.txlr34u0/root/P_3/A_3_0/hmmbuild.model.0n3gdwov, fragments:/tmp/sepp/output.txlr34u0/root/P_3/A_3_0/FC_3_0_0/hmmalign.frag.ljbt4__1.fasta, trim:False, base_alignment:/tmp/sepp/output.txlr34u0/root/P_3/A_3_0/hmmbuild.input.vcqq291g.fasta\n",
      "[18:42:20] jobs.py (line 131):     INFO: Finished hmmalign Job with input: model:/tmp/sepp/output.txlr34u0/root/P_3/A_3_0/hmmbuild.model.0n3gdwov, fragments:/tmp/sepp/output.txlr34u0/root/P_3/A_3_0/FC_3_0_1/hmmalign.frag.00cbkpf9.fasta, trim:False, base_alignment:/tmp/sepp/output.txlr34u0/root/P_3/A_3_0/hmmbuild.input.vcqq291g.fasta\n",
      "[18:42:20] jobs.py (line 131):     INFO: Finished hmmalign Job with input: model:/tmp/sepp/output.txlr34u0/root/P_0/A_0_0/hmmbuild.model.q59xea12, fragments:/tmp/sepp/output.txlr34u0/root/P_0/A_0_0/FC_0_0_1/hmmalign.frag.h337fxlj.fasta, trim:False, base_alignment:/tmp/sepp/output.txlr34u0/root/P_0/A_0_0/hmmbuild.input.lpylbs5g.fasta\n",
      "[18:42:20] jobs.py (line 131):     INFO: Finished hmmalign Job with input: model:/tmp/sepp/output.txlr34u0/root/P_3/A_3_0/hmmbuild.model.0n3gdwov, fragments:/tmp/sepp/output.txlr34u0/root/P_3/A_3_0/FC_3_0_2/hmmalign.frag.vjy5ynn_.fasta, trim:False, base_alignment:/tmp/sepp/output.txlr34u0/root/P_3/A_3_0/hmmbuild.input.vcqq291g.fasta\n",
      "[18:42:20] jobs.py (line 131):     INFO: Finished hmmalign Job with input: model:/tmp/sepp/output.txlr34u0/root/P_0/A_0_0/hmmbuild.model.q59xea12, fragments:/tmp/sepp/output.txlr34u0/root/P_0/A_0_0/FC_0_0_2/hmmalign.frag.epy9fank.fasta, trim:False, base_alignment:/tmp/sepp/output.txlr34u0/root/P_0/A_0_0/hmmbuild.input.lpylbs5g.fasta\n",
      "[18:42:20] jobs.py (line 131):     INFO: Finished hmmalign Job with input: model:/tmp/sepp/output.txlr34u0/root/P_0/A_0_0/hmmbuild.model.q59xea12, fragments:/tmp/sepp/output.txlr34u0/root/P_0/A_0_0/FC_0_0_0/hmmalign.frag.cfb9xfcw.fasta, trim:False, base_alignment:/tmp/sepp/output.txlr34u0/root/P_0/A_0_0/hmmbuild.input.lpylbs5g.fasta\n",
      "[18:42:20] jobs.py (line 131):     INFO: Finished hmmalign Job with input: model:/tmp/sepp/output.txlr34u0/root/P_5/A_5_0/hmmbuild.model.9ag3u_q3, fragments:/tmp/sepp/output.txlr34u0/root/P_5/A_5_0/FC_5_0_0/hmmalign.frag.6977bq8i.fasta, trim:False, base_alignment:/tmp/sepp/output.txlr34u0/root/P_5/A_5_0/hmmbuild.input.9u0ffue1.fasta\n",
      "[18:42:20] exhaustive.py (line 151):     INFO: Merging sub-alignments for placement problem : P_2.\n",
      "[18:42:20] alignment.py (line 556):     INFO: Merging extension sto file (/tmp/sepp/output.txlr34u0/root/P_2/A_2_0/FC_2_0_0/hmmalign.results.ei6vm7ej) into base alignment (/tmp/sepp/output.txlr34u0/root/P_2/A_2_0/hmmbuild.input.5tyeaj_q.fasta).\n",
      "[18:42:20] alignment.py (line 556):     INFO: Merging extension sto file (/tmp/sepp/output.txlr34u0/root/P_2/A_2_0/FC_2_0_1/hmmalign.results.uf69zu0w) into base alignment (/tmp/sepp/output.txlr34u0/root/P_2/A_2_0/hmmbuild.input.5tyeaj_q.fasta).\n",
      "[18:42:20] jobs.py (line 131):     INFO: Finished hmmalign Job with input: model:/tmp/sepp/output.txlr34u0/root/P_6/A_6_0/hmmbuild.model.iubuimx1, fragments:/tmp/sepp/output.txlr34u0/root/P_6/A_6_0/FC_6_0_0/hmmalign.frag.i0z35vfs.fasta, trim:False, base_alignment:/tmp/sepp/output.txlr34u0/root/P_6/A_6_0/hmmbuild.input.g36pn704.fasta\n",
      "[18:42:20] jobs.py (line 131):     INFO: Finished hmmalign Job with input: model:/tmp/sepp/output.txlr34u0/root/P_6/A_6_0/hmmbuild.model.iubuimx1, fragments:/tmp/sepp/output.txlr34u0/root/P_6/A_6_0/FC_6_0_1/hmmalign.frag.49fg_es9.fasta, trim:False, base_alignment:/tmp/sepp/output.txlr34u0/root/P_6/A_6_0/hmmbuild.input.g36pn704.fasta\n",
      "[18:42:20] jobs.py (line 131):     INFO: Finished hmmalign Job with input: model:/tmp/sepp/output.txlr34u0/root/P_6/A_6_0/hmmbuild.model.iubuimx1, fragments:/tmp/sepp/output.txlr34u0/root/P_6/A_6_0/FC_6_0_2/hmmalign.frag.og2xvc68.fasta, trim:False, base_alignment:/tmp/sepp/output.txlr34u0/root/P_6/A_6_0/hmmbuild.input.g36pn704.fasta\n",
      "[18:42:20] alignment.py (line 556):     INFO: Merging extension sto file (/tmp/sepp/output.txlr34u0/root/P_2/A_2_0/FC_2_0_2/hmmalign.results.l9r9oln8) into base alignment (/tmp/sepp/output.txlr34u0/root/P_2/A_2_0/hmmbuild.input.5tyeaj_q.fasta).\n",
      "[18:42:20] jobs.py (line 131):     INFO: Finished hmmalign Job with input: model:/tmp/sepp/output.txlr34u0/root/P_4/A_4_0/hmmbuild.model.qkbojmsg, fragments:/tmp/sepp/output.txlr34u0/root/P_4/A_4_0/FC_4_0_1/hmmalign.frag.r968y4z4.fasta, trim:False, base_alignment:/tmp/sepp/output.txlr34u0/root/P_4/A_4_0/hmmbuild.input.bvotpxd5.fasta\n",
      "[18:42:20] jobs.py (line 131):     INFO: Finished hmmalign Job with input: model:/tmp/sepp/output.txlr34u0/root/P_4/A_4_0/hmmbuild.model.qkbojmsg, fragments:/tmp/sepp/output.txlr34u0/root/P_4/A_4_0/FC_4_0_0/hmmalign.frag.na6bqpoj.fasta, trim:False, base_alignment:/tmp/sepp/output.txlr34u0/root/P_4/A_4_0/hmmbuild.input.bvotpxd5.fasta\n",
      "[18:42:20] exhaustive.py (line 151):     INFO: Merging sub-alignments for placement problem : P_3.\n",
      "[18:42:20] alignment.py (line 556):     INFO: Merging extension sto file (/tmp/sepp/output.txlr34u0/root/P_3/A_3_0/FC_3_0_0/hmmalign.results.1l1bcskt) into base alignment (/tmp/sepp/output.txlr34u0/root/P_3/A_3_0/hmmbuild.input.vcqq291g.fasta).\n",
      "[18:42:20] jobs.py (line 131):     INFO: Finished hmmalign Job with input: model:/tmp/sepp/output.txlr34u0/root/P_4/A_4_0/hmmbuild.model.qkbojmsg, fragments:/tmp/sepp/output.txlr34u0/root/P_4/A_4_0/FC_4_0_2/hmmalign.frag.flatzmix.fasta, trim:False, base_alignment:/tmp/sepp/output.txlr34u0/root/P_4/A_4_0/hmmbuild.input.bvotpxd5.fasta\n",
      "[18:42:20] alignment.py (line 556):     INFO: Merging extension sto file (/tmp/sepp/output.txlr34u0/root/P_3/A_3_0/FC_3_0_1/hmmalign.results._arso20d) into base alignment (/tmp/sepp/output.txlr34u0/root/P_3/A_3_0/hmmbuild.input.vcqq291g.fasta).\n",
      "[18:42:20] alignment.py (line 556):     INFO: Merging extension sto file (/tmp/sepp/output.txlr34u0/root/P_3/A_3_0/FC_3_0_2/hmmalign.results.a5o1hrfx) into base alignment (/tmp/sepp/output.txlr34u0/root/P_3/A_3_0/hmmbuild.input.vcqq291g.fasta).\n",
      "[18:42:20] jobs.py (line 131):     INFO: Finished hmmalign Job with input: model:/tmp/sepp/output.txlr34u0/root/P_8/A_8_0/hmmbuild.model.ee_z6vxx, fragments:/tmp/sepp/output.txlr34u0/root/P_8/A_8_0/FC_8_0_0/hmmalign.frag.pchkc3u6.fasta, trim:False, base_alignment:/tmp/sepp/output.txlr34u0/root/P_8/A_8_0/hmmbuild.input.h7rqg1zd.fasta\n",
      "[18:42:20] jobs.py (line 131):     INFO: Finished hmmalign Job with input: model:/tmp/sepp/output.txlr34u0/root/P_7/A_7_0/hmmbuild.model.yhdz38ji, fragments:/tmp/sepp/output.txlr34u0/root/P_7/A_7_0/FC_7_0_1/hmmalign.frag.luzstdih.fasta, trim:False, base_alignment:/tmp/sepp/output.txlr34u0/root/P_7/A_7_0/hmmbuild.input.6ah78ojr.fasta\n",
      "[18:42:20] jobs.py (line 131):     INFO: Finished hmmalign Job with input: model:/tmp/sepp/output.txlr34u0/root/P_7/A_7_0/hmmbuild.model.yhdz38ji, fragments:/tmp/sepp/output.txlr34u0/root/P_7/A_7_0/FC_7_0_0/hmmalign.frag.ddrq407e.fasta, trim:False, base_alignment:/tmp/sepp/output.txlr34u0/root/P_7/A_7_0/hmmbuild.input.6ah78ojr.fasta\n",
      "[18:42:20] jobs.py (line 131):     INFO: Finished hmmalign Job with input: model:/tmp/sepp/output.txlr34u0/root/P_7/A_7_0/hmmbuild.model.yhdz38ji, fragments:/tmp/sepp/output.txlr34u0/root/P_7/A_7_0/FC_7_0_2/hmmalign.frag.ewslwc3s.fasta, trim:False, base_alignment:/tmp/sepp/output.txlr34u0/root/P_7/A_7_0/hmmbuild.input.6ah78ojr.fasta\n",
      "[18:42:20] jobs.py (line 131):     INFO: Finished hmmalign Job with input: model:/tmp/sepp/output.txlr34u0/root/P_8/A_8_0/hmmbuild.model.ee_z6vxx, fragments:/tmp/sepp/output.txlr34u0/root/P_8/A_8_0/FC_8_0_1/hmmalign.frag.8xl0d_do.fasta, trim:False, base_alignment:/tmp/sepp/output.txlr34u0/root/P_8/A_8_0/hmmbuild.input.h7rqg1zd.fasta\n",
      "[18:42:20] exhaustive.py (line 151):     INFO: Merging sub-alignments for placement problem : P_0.\n",
      "[18:42:20] jobs.py (line 131):     INFO: Finished hmmalign Job with input: model:/tmp/sepp/output.txlr34u0/root/P_9/A_9_0/hmmbuild.model.tx24a23o, fragments:/tmp/sepp/output.txlr34u0/root/P_9/A_9_0/FC_9_0_1/hmmalign.frag.wj1d21o_.fasta, trim:False, base_alignment:/tmp/sepp/output.txlr34u0/root/P_9/A_9_0/hmmbuild.input.not6mk3s.fasta\n",
      "[18:42:20] jobs.py (line 131):     INFO: Finished hmmalign Job with input: model:/tmp/sepp/output.txlr34u0/root/P_9/A_9_0/hmmbuild.model.tx24a23o, fragments:/tmp/sepp/output.txlr34u0/root/P_9/A_9_0/FC_9_0_0/hmmalign.frag.2r0alfro.fasta, trim:False, base_alignment:/tmp/sepp/output.txlr34u0/root/P_9/A_9_0/hmmbuild.input.not6mk3s.fasta\n",
      "[18:42:20] alignment.py (line 556):     INFO: Merging extension sto file (/tmp/sepp/output.txlr34u0/root/P_0/A_0_0/FC_0_0_0/hmmalign.results.oocsdxap) into base alignment (/tmp/sepp/output.txlr34u0/root/P_0/A_0_0/hmmbuild.input.lpylbs5g.fasta).\n",
      "[18:42:20] jobs.py (line 131):     INFO: Finished hmmalign Job with input: model:/tmp/sepp/output.txlr34u0/root/P_9/A_9_0/hmmbuild.model.tx24a23o, fragments:/tmp/sepp/output.txlr34u0/root/P_9/A_9_0/FC_9_0_2/hmmalign.frag.le0lu0sd.fasta, trim:False, base_alignment:/tmp/sepp/output.txlr34u0/root/P_9/A_9_0/hmmbuild.input.not6mk3s.fasta\n",
      "[18:42:20] alignment.py (line 556):     INFO: Merging extension sto file (/tmp/sepp/output.txlr34u0/root/P_0/A_0_0/FC_0_0_1/hmmalign.results.w294abcr) into base alignment (/tmp/sepp/output.txlr34u0/root/P_0/A_0_0/hmmbuild.input.lpylbs5g.fasta).\n",
      "[18:42:20] jobs.py (line 131):     INFO: Finished hmmalign Job with input: model:/tmp/sepp/output.txlr34u0/root/P_8/A_8_0/hmmbuild.model.ee_z6vxx, fragments:/tmp/sepp/output.txlr34u0/root/P_8/A_8_0/FC_8_0_2/hmmalign.frag.3eea7jey.fasta, trim:False, base_alignment:/tmp/sepp/output.txlr34u0/root/P_8/A_8_0/hmmbuild.input.h7rqg1zd.fasta\n",
      "[18:42:20] jobs.py (line 131):     INFO: Finished hmmalign Job with input: model:/tmp/sepp/output.txlr34u0/root/P_10/A_10_0/hmmbuild.model.dlieqluo, fragments:/tmp/sepp/output.txlr34u0/root/P_10/A_10_0/FC_10_0_0/hmmalign.frag.53wylew6.fasta, trim:False, base_alignment:/tmp/sepp/output.txlr34u0/root/P_10/A_10_0/hmmbuild.input.vric1j_o.fasta\n",
      "[18:42:20] jobs.py (line 131):     INFO: Finished hmmalign Job with input: model:/tmp/sepp/output.txlr34u0/root/P_10/A_10_0/hmmbuild.model.dlieqluo, fragments:/tmp/sepp/output.txlr34u0/root/P_10/A_10_0/FC_10_0_2/hmmalign.frag.8vsrjtvk.fasta, trim:False, base_alignment:/tmp/sepp/output.txlr34u0/root/P_10/A_10_0/hmmbuild.input.vric1j_o.fasta\n",
      "[18:42:20] alignment.py (line 556):     INFO: Merging extension sto file (/tmp/sepp/output.txlr34u0/root/P_0/A_0_0/FC_0_0_2/hmmalign.results.10omhtf3) into base alignment (/tmp/sepp/output.txlr34u0/root/P_0/A_0_0/hmmbuild.input.lpylbs5g.fasta).\n",
      "[18:42:20] exhaustive.py (line 151):     INFO: Merging sub-alignments for placement problem : P_5.\n",
      "[18:42:21] alignment.py (line 556):     INFO: Merging extension sto file (/tmp/sepp/output.txlr34u0/root/P_5/A_5_0/FC_5_0_0/hmmalign.results.9dgvaezp) into base alignment (/tmp/sepp/output.txlr34u0/root/P_5/A_5_0/hmmbuild.input.9u0ffue1.fasta).\n",
      "[18:42:21] jobs.py (line 131):     INFO: Finished hmmalign Job with input: model:/tmp/sepp/output.txlr34u0/root/P_10/A_10_0/hmmbuild.model.dlieqluo, fragments:/tmp/sepp/output.txlr34u0/root/P_10/A_10_0/FC_10_0_1/hmmalign.frag.rs1mdc9b.fasta, trim:False, base_alignment:/tmp/sepp/output.txlr34u0/root/P_10/A_10_0/hmmbuild.input.vric1j_o.fasta\n",
      "[18:42:21] exhaustive.py (line 151):     INFO: Merging sub-alignments for placement problem : P_6.\n",
      "[18:42:21] alignment.py (line 556):     INFO: Merging extension sto file (/tmp/sepp/output.txlr34u0/root/P_6/A_6_0/FC_6_0_0/hmmalign.results.e0dbpkfg) into base alignment (/tmp/sepp/output.txlr34u0/root/P_6/A_6_0/hmmbuild.input.g36pn704.fasta).\n",
      "[18:42:21] alignment.py (line 556):     INFO: Merging extension sto file (/tmp/sepp/output.txlr34u0/root/P_6/A_6_0/FC_6_0_1/hmmalign.results.0y38v95p) into base alignment (/tmp/sepp/output.txlr34u0/root/P_6/A_6_0/hmmbuild.input.g36pn704.fasta).\n",
      "[18:42:21] alignment.py (line 556):     INFO: Merging extension sto file (/tmp/sepp/output.txlr34u0/root/P_6/A_6_0/FC_6_0_2/hmmalign.results.7jdogpcc) into base alignment (/tmp/sepp/output.txlr34u0/root/P_6/A_6_0/hmmbuild.input.g36pn704.fasta).\n",
      "[18:42:21] exhaustive.py (line 151):     INFO: Merging sub-alignments for placement problem : P_4.\n",
      "[18:42:21] alignment.py (line 556):     INFO: Merging extension sto file (/tmp/sepp/output.txlr34u0/root/P_4/A_4_0/FC_4_0_0/hmmalign.results.z_ph9lb6) into base alignment (/tmp/sepp/output.txlr34u0/root/P_4/A_4_0/hmmbuild.input.bvotpxd5.fasta).\n",
      "[18:42:21] alignment.py (line 556):     INFO: Merging extension sto file (/tmp/sepp/output.txlr34u0/root/P_4/A_4_0/FC_4_0_1/hmmalign.results.mf9fsjad) into base alignment (/tmp/sepp/output.txlr34u0/root/P_4/A_4_0/hmmbuild.input.bvotpxd5.fasta).\n",
      "[18:42:21] alignment.py (line 556):     INFO: Merging extension sto file (/tmp/sepp/output.txlr34u0/root/P_4/A_4_0/FC_4_0_2/hmmalign.results.lbfqr2p2) into base alignment (/tmp/sepp/output.txlr34u0/root/P_4/A_4_0/hmmbuild.input.bvotpxd5.fasta).\n",
      "[18:42:21] exhaustive.py (line 151):     INFO: Merging sub-alignments for placement problem : P_7.\n",
      "[18:42:21] alignment.py (line 556):     INFO: Merging extension sto file (/tmp/sepp/output.txlr34u0/root/P_7/A_7_0/FC_7_0_0/hmmalign.results.w6uatd7p) into base alignment (/tmp/sepp/output.txlr34u0/root/P_7/A_7_0/hmmbuild.input.6ah78ojr.fasta).\n",
      "[18:42:21] alignment.py (line 556):     INFO: Merging extension sto file (/tmp/sepp/output.txlr34u0/root/P_7/A_7_0/FC_7_0_1/hmmalign.results.nlvghx7h) into base alignment (/tmp/sepp/output.txlr34u0/root/P_7/A_7_0/hmmbuild.input.6ah78ojr.fasta).\n",
      "[18:42:21] alignment.py (line 556):     INFO: Merging extension sto file (/tmp/sepp/output.txlr34u0/root/P_7/A_7_0/FC_7_0_2/hmmalign.results.9b3bx7h2) into base alignment (/tmp/sepp/output.txlr34u0/root/P_7/A_7_0/hmmbuild.input.6ah78ojr.fasta).\n",
      "[18:42:21] exhaustive.py (line 151):     INFO: Merging sub-alignments for placement problem : P_9.\n",
      "[18:42:21] alignment.py (line 556):     INFO: Merging extension sto file (/tmp/sepp/output.txlr34u0/root/P_9/A_9_0/FC_9_0_0/hmmalign.results.xs2h52fo) into base alignment (/tmp/sepp/output.txlr34u0/root/P_9/A_9_0/hmmbuild.input.not6mk3s.fasta).\n",
      "[18:42:21] alignment.py (line 556):     INFO: Merging extension sto file (/tmp/sepp/output.txlr34u0/root/P_9/A_9_0/FC_9_0_1/hmmalign.results.1z79arae) into base alignment (/tmp/sepp/output.txlr34u0/root/P_9/A_9_0/hmmbuild.input.not6mk3s.fasta).\n",
      "[18:42:21] alignment.py (line 556):     INFO: Merging extension sto file (/tmp/sepp/output.txlr34u0/root/P_9/A_9_0/FC_9_0_2/hmmalign.results.0ifaqllj) into base alignment (/tmp/sepp/output.txlr34u0/root/P_9/A_9_0/hmmbuild.input.not6mk3s.fasta).\n",
      "[18:42:21] exhaustive.py (line 151):     INFO: Merging sub-alignments for placement problem : P_8.\n",
      "[18:42:21] alignment.py (line 556):     INFO: Merging extension sto file (/tmp/sepp/output.txlr34u0/root/P_8/A_8_0/FC_8_0_0/hmmalign.results.3ttdxlq4) into base alignment (/tmp/sepp/output.txlr34u0/root/P_8/A_8_0/hmmbuild.input.h7rqg1zd.fasta).\n",
      "[18:42:21] alignment.py (line 556):     INFO: Merging extension sto file (/tmp/sepp/output.txlr34u0/root/P_8/A_8_0/FC_8_0_1/hmmalign.results.sk7uciqp) into base alignment (/tmp/sepp/output.txlr34u0/root/P_8/A_8_0/hmmbuild.input.h7rqg1zd.fasta).\n",
      "[18:42:21] alignment.py (line 556):     INFO: Merging extension sto file (/tmp/sepp/output.txlr34u0/root/P_8/A_8_0/FC_8_0_2/hmmalign.results.kd9rv_e9) into base alignment (/tmp/sepp/output.txlr34u0/root/P_8/A_8_0/hmmbuild.input.h7rqg1zd.fasta).\n",
      "[18:42:21] exhaustive.py (line 151):     INFO: Merging sub-alignments for placement problem : P_10.\n",
      "[18:42:21] alignment.py (line 556):     INFO: Merging extension sto file (/tmp/sepp/output.txlr34u0/root/P_10/A_10_0/FC_10_0_0/hmmalign.results.9htr9d_m) into base alignment (/tmp/sepp/output.txlr34u0/root/P_10/A_10_0/hmmbuild.input.vric1j_o.fasta).\n",
      "[18:42:21] alignment.py (line 556):     INFO: Merging extension sto file (/tmp/sepp/output.txlr34u0/root/P_10/A_10_0/FC_10_0_1/hmmalign.results.dq3kki_m) into base alignment (/tmp/sepp/output.txlr34u0/root/P_10/A_10_0/hmmbuild.input.vric1j_o.fasta).\n",
      "[18:42:21] alignment.py (line 556):     INFO: Merging extension sto file (/tmp/sepp/output.txlr34u0/root/P_10/A_10_0/FC_10_0_2/hmmalign.results.nrkfc504) into base alignment (/tmp/sepp/output.txlr34u0/root/P_10/A_10_0/hmmbuild.input.vric1j_o.fasta).\n",
      "[18:42:22] jobs.py (line 131):     INFO: Finished hmmalign Job with input: model:/tmp/sepp/output.txlr34u0/root/P_12/A_12_0/hmmbuild.model.xmi7cets, fragments:/tmp/sepp/output.txlr34u0/root/P_12/A_12_0/FC_12_0_0/hmmalign.frag.zu35o19j.fasta, trim:False, base_alignment:/tmp/sepp/output.txlr34u0/root/P_12/A_12_0/hmmbuild.input.0_zw3u42.fasta\n",
      "[18:42:22] jobs.py (line 131):     INFO: Finished hmmalign Job with input: model:/tmp/sepp/output.txlr34u0/root/P_12/A_12_0/hmmbuild.model.xmi7cets, fragments:/tmp/sepp/output.txlr34u0/root/P_12/A_12_0/FC_12_0_1/hmmalign.frag.di8vj_yi.fasta, trim:False, base_alignment:/tmp/sepp/output.txlr34u0/root/P_12/A_12_0/hmmbuild.input.0_zw3u42.fasta\n",
      "[18:42:22] jobs.py (line 131):     INFO: Finished hmmalign Job with input: model:/tmp/sepp/output.txlr34u0/root/P_12/A_12_0/hmmbuild.model.xmi7cets, fragments:/tmp/sepp/output.txlr34u0/root/P_12/A_12_0/FC_12_0_2/hmmalign.frag.5udxqo8d.fasta, trim:False, base_alignment:/tmp/sepp/output.txlr34u0/root/P_12/A_12_0/hmmbuild.input.0_zw3u42.fasta\n",
      "[18:42:22] exhaustive.py (line 151):     INFO: Merging sub-alignments for placement problem : P_12.\n",
      "[18:42:22] alignment.py (line 556):     INFO: Merging extension sto file (/tmp/sepp/output.txlr34u0/root/P_12/A_12_0/FC_12_0_0/hmmalign.results.sg9lw242) into base alignment (/tmp/sepp/output.txlr34u0/root/P_12/A_12_0/hmmbuild.input.0_zw3u42.fasta).\n",
      "[18:42:22] alignment.py (line 556):     INFO: Merging extension sto file (/tmp/sepp/output.txlr34u0/root/P_12/A_12_0/FC_12_0_1/hmmalign.results.94kl7kho) into base alignment (/tmp/sepp/output.txlr34u0/root/P_12/A_12_0/hmmbuild.input.0_zw3u42.fasta).\n",
      "[18:42:22] alignment.py (line 556):     INFO: Merging extension sto file (/tmp/sepp/output.txlr34u0/root/P_12/A_12_0/FC_12_0_2/hmmalign.results.u805bhyh) into base alignment (/tmp/sepp/output.txlr34u0/root/P_12/A_12_0/hmmbuild.input.0_zw3u42.fasta).\n",
      "[18:42:22] jobs.py (line 131):     INFO: Finished hmmalign Job with input: model:/tmp/sepp/output.txlr34u0/root/P_13/A_13_0/hmmbuild.model.5ujoeng6, fragments:/tmp/sepp/output.txlr34u0/root/P_13/A_13_0/FC_13_0_2/hmmalign.frag.es25mp2_.fasta, trim:False, base_alignment:/tmp/sepp/output.txlr34u0/root/P_13/A_13_0/hmmbuild.input.nn_mn20r.fasta\n",
      "[18:42:22] jobs.py (line 131):     INFO: Finished hmmalign Job with input: model:/tmp/sepp/output.txlr34u0/root/P_13/A_13_0/hmmbuild.model.5ujoeng6, fragments:/tmp/sepp/output.txlr34u0/root/P_13/A_13_0/FC_13_0_0/hmmalign.frag.v3zjsvso.fasta, trim:False, base_alignment:/tmp/sepp/output.txlr34u0/root/P_13/A_13_0/hmmbuild.input.nn_mn20r.fasta\n",
      "[18:42:22] jobs.py (line 131):     INFO: Finished hmmalign Job with input: model:/tmp/sepp/output.txlr34u0/root/P_13/A_13_0/hmmbuild.model.5ujoeng6, fragments:/tmp/sepp/output.txlr34u0/root/P_13/A_13_0/FC_13_0_1/hmmalign.frag.flpupf9g.fasta, trim:False, base_alignment:/tmp/sepp/output.txlr34u0/root/P_13/A_13_0/hmmbuild.input.nn_mn20r.fasta\n",
      "[18:42:22] exhaustive.py (line 151):     INFO: Merging sub-alignments for placement problem : P_13.\n",
      "[18:42:22] alignment.py (line 556):     INFO: Merging extension sto file (/tmp/sepp/output.txlr34u0/root/P_13/A_13_0/FC_13_0_0/hmmalign.results.bexo73v4) into base alignment (/tmp/sepp/output.txlr34u0/root/P_13/A_13_0/hmmbuild.input.nn_mn20r.fasta).\n",
      "[18:42:22] alignment.py (line 556):     INFO: Merging extension sto file (/tmp/sepp/output.txlr34u0/root/P_13/A_13_0/FC_13_0_1/hmmalign.results.794fgyd5) into base alignment (/tmp/sepp/output.txlr34u0/root/P_13/A_13_0/hmmbuild.input.nn_mn20r.fasta).\n",
      "[18:42:22] alignment.py (line 556):     INFO: Merging extension sto file (/tmp/sepp/output.txlr34u0/root/P_13/A_13_0/FC_13_0_2/hmmalign.results.h90_lxlm) into base alignment (/tmp/sepp/output.txlr34u0/root/P_13/A_13_0/hmmbuild.input.nn_mn20r.fasta).\n",
      "[18:42:22] jobs.py (line 131):     INFO: Finished hmmalign Job with input: model:/tmp/sepp/output.txlr34u0/root/P_14/A_14_0/hmmbuild.model.ktj_slno, fragments:/tmp/sepp/output.txlr34u0/root/P_14/A_14_0/FC_14_0_0/hmmalign.frag.7w9eie8k.fasta, trim:False, base_alignment:/tmp/sepp/output.txlr34u0/root/P_14/A_14_0/hmmbuild.input.uofujvhn.fasta\n",
      "[18:42:23] jobs.py (line 131):     INFO: Finished hmmalign Job with input: model:/tmp/sepp/output.txlr34u0/root/P_14/A_14_0/hmmbuild.model.ktj_slno, fragments:/tmp/sepp/output.txlr34u0/root/P_14/A_14_0/FC_14_0_2/hmmalign.frag.cnvjg3ch.fasta, trim:False, base_alignment:/tmp/sepp/output.txlr34u0/root/P_14/A_14_0/hmmbuild.input.uofujvhn.fasta\n",
      "[18:42:23] jobs.py (line 131):     INFO: Finished hmmalign Job with input: model:/tmp/sepp/output.txlr34u0/root/P_14/A_14_0/hmmbuild.model.ktj_slno, fragments:/tmp/sepp/output.txlr34u0/root/P_14/A_14_0/FC_14_0_1/hmmalign.frag.xlzdqoei.fasta, trim:False, base_alignment:/tmp/sepp/output.txlr34u0/root/P_14/A_14_0/hmmbuild.input.uofujvhn.fasta\n",
      "[18:42:23] exhaustive.py (line 151):     INFO: Merging sub-alignments for placement problem : P_14.\n",
      "[18:42:23] alignment.py (line 556):     INFO: Merging extension sto file (/tmp/sepp/output.txlr34u0/root/P_14/A_14_0/FC_14_0_0/hmmalign.results.25qqonr3) into base alignment (/tmp/sepp/output.txlr34u0/root/P_14/A_14_0/hmmbuild.input.uofujvhn.fasta).\n",
      "[18:42:23] alignment.py (line 556):     INFO: Merging extension sto file (/tmp/sepp/output.txlr34u0/root/P_14/A_14_0/FC_14_0_1/hmmalign.results.bu_1fla_) into base alignment (/tmp/sepp/output.txlr34u0/root/P_14/A_14_0/hmmbuild.input.uofujvhn.fasta).\n",
      "[18:42:23] alignment.py (line 556):     INFO: Merging extension sto file (/tmp/sepp/output.txlr34u0/root/P_14/A_14_0/FC_14_0_2/hmmalign.results.87n1hbak) into base alignment (/tmp/sepp/output.txlr34u0/root/P_14/A_14_0/hmmbuild.input.uofujvhn.fasta).\n",
      "[18:42:23] jobs.py (line 131):     INFO: Finished hmmalign Job with input: model:/tmp/sepp/output.txlr34u0/root/P_15/A_15_0/hmmbuild.model.j692plxr, fragments:/tmp/sepp/output.txlr34u0/root/P_15/A_15_0/FC_15_0_2/hmmalign.frag.s6if5yxh.fasta, trim:False, base_alignment:/tmp/sepp/output.txlr34u0/root/P_15/A_15_0/hmmbuild.input.wc1dpdhh.fasta\n",
      "[18:42:23] jobs.py (line 131):     INFO: Finished hmmalign Job with input: model:/tmp/sepp/output.txlr34u0/root/P_15/A_15_0/hmmbuild.model.j692plxr, fragments:/tmp/sepp/output.txlr34u0/root/P_15/A_15_0/FC_15_0_1/hmmalign.frag.18ujtdvi.fasta, trim:False, base_alignment:/tmp/sepp/output.txlr34u0/root/P_15/A_15_0/hmmbuild.input.wc1dpdhh.fasta\n",
      "[18:42:23] jobs.py (line 131):     INFO: Finished hmmalign Job with input: model:/tmp/sepp/output.txlr34u0/root/P_15/A_15_0/hmmbuild.model.j692plxr, fragments:/tmp/sepp/output.txlr34u0/root/P_15/A_15_0/FC_15_0_0/hmmalign.frag.mbssrtms.fasta, trim:False, base_alignment:/tmp/sepp/output.txlr34u0/root/P_15/A_15_0/hmmbuild.input.wc1dpdhh.fasta\n",
      "[18:42:23] exhaustive.py (line 151):     INFO: Merging sub-alignments for placement problem : P_15.\n",
      "[18:42:23] alignment.py (line 556):     INFO: Merging extension sto file (/tmp/sepp/output.txlr34u0/root/P_15/A_15_0/FC_15_0_0/hmmalign.results.a02r5u5_) into base alignment (/tmp/sepp/output.txlr34u0/root/P_15/A_15_0/hmmbuild.input.wc1dpdhh.fasta).\n",
      "[18:42:23] alignment.py (line 556):     INFO: Merging extension sto file (/tmp/sepp/output.txlr34u0/root/P_15/A_15_0/FC_15_0_1/hmmalign.results.qhrqdeba) into base alignment (/tmp/sepp/output.txlr34u0/root/P_15/A_15_0/hmmbuild.input.wc1dpdhh.fasta).\n",
      "[18:42:23] alignment.py (line 556):     INFO: Merging extension sto file (/tmp/sepp/output.txlr34u0/root/P_15/A_15_0/FC_15_0_2/hmmalign.results.qlonagr0) into base alignment (/tmp/sepp/output.txlr34u0/root/P_15/A_15_0/hmmbuild.input.wc1dpdhh.fasta).\n",
      "[18:42:24] jobs.py (line 131):     INFO: Finished pplacer Job with input: backbone_alignment_file:/tmp/sepp/output.txlr34u0/root/P_1/pplacer.backbone.ukv4goky.fasta, tree_file:/tmp/sepp/output.txlr34u0/root/P_1/pplacer.tree.511tfg5i.tre, info_file:/home/lauro/anaconda3/envs/qiime2-2021.11/lib/python3.8/site-packages/picrust2/default_files/prokaryotic/pro_ref/pro_ref.raxml_info, extended alignment:/tmp/sepp/output.txlr34u0/root/P_1/pplacer.extended.1.yhkzyuek.fasta, output:/tmp/sepp/output.txlr34u0/root/P_1/pplacer.extended.1.yhkzyuek.jplace\n",
      "[18:42:26] jobs.py (line 131):     INFO: Finished pplacer Job with input: backbone_alignment_file:/tmp/sepp/output.txlr34u0/root/P_2/pplacer.backbone.q72p9ykb.fasta, tree_file:/tmp/sepp/output.txlr34u0/root/P_2/pplacer.tree.uhz6nfwm.tre, info_file:/home/lauro/anaconda3/envs/qiime2-2021.11/lib/python3.8/site-packages/picrust2/default_files/prokaryotic/pro_ref/pro_ref.raxml_info, extended alignment:/tmp/sepp/output.txlr34u0/root/P_2/pplacer.extended.0.0e89o142.fasta, output:/tmp/sepp/output.txlr34u0/root/P_2/pplacer.extended.0.0e89o142.jplace\n",
      "[18:42:26] jobs.py (line 131):     INFO: Finished pplacer Job with input: backbone_alignment_file:/tmp/sepp/output.txlr34u0/root/P_1/pplacer.backbone.se6uh5jr.fasta, tree_file:/tmp/sepp/output.txlr34u0/root/P_1/pplacer.tree.8bh98r2f.tre, info_file:/home/lauro/anaconda3/envs/qiime2-2021.11/lib/python3.8/site-packages/picrust2/default_files/prokaryotic/pro_ref/pro_ref.raxml_info, extended alignment:/tmp/sepp/output.txlr34u0/root/P_1/pplacer.extended.0.4okm_pyw.fasta, output:/tmp/sepp/output.txlr34u0/root/P_1/pplacer.extended.0.4okm_pyw.jplace\n",
      "[18:42:30] jobs.py (line 131):     INFO: Finished pplacer Job with input: backbone_alignment_file:/tmp/sepp/output.txlr34u0/root/P_3/pplacer.backbone.fwaz31uq.fasta, tree_file:/tmp/sepp/output.txlr34u0/root/P_3/pplacer.tree.whd4yxs1.tre, info_file:/home/lauro/anaconda3/envs/qiime2-2021.11/lib/python3.8/site-packages/picrust2/default_files/prokaryotic/pro_ref/pro_ref.raxml_info, extended alignment:/tmp/sepp/output.txlr34u0/root/P_3/pplacer.extended.0.zd16az7c.fasta, output:/tmp/sepp/output.txlr34u0/root/P_3/pplacer.extended.0.zd16az7c.jplace\n",
      "[18:42:31] jobs.py (line 131):     INFO: Finished pplacer Job with input: backbone_alignment_file:/tmp/sepp/output.txlr34u0/root/P_2/pplacer.backbone.92s1ednc.fasta, tree_file:/tmp/sepp/output.txlr34u0/root/P_2/pplacer.tree.quwvvf0u.tre, info_file:/home/lauro/anaconda3/envs/qiime2-2021.11/lib/python3.8/site-packages/picrust2/default_files/prokaryotic/pro_ref/pro_ref.raxml_info, extended alignment:/tmp/sepp/output.txlr34u0/root/P_2/pplacer.extended.1.ptjxi7om.fasta, output:/tmp/sepp/output.txlr34u0/root/P_2/pplacer.extended.1.ptjxi7om.jplace\n",
      "[18:42:33] jobs.py (line 131):     INFO: Finished pplacer Job with input: backbone_alignment_file:/tmp/sepp/output.txlr34u0/root/P_2/pplacer.backbone.dbn20a1w.fasta, tree_file:/tmp/sepp/output.txlr34u0/root/P_2/pplacer.tree.oceaxjxp.tre, info_file:/home/lauro/anaconda3/envs/qiime2-2021.11/lib/python3.8/site-packages/picrust2/default_files/prokaryotic/pro_ref/pro_ref.raxml_info, extended alignment:/tmp/sepp/output.txlr34u0/root/P_2/pplacer.extended.2.24a7e327.fasta, output:/tmp/sepp/output.txlr34u0/root/P_2/pplacer.extended.2.24a7e327.jplace\n",
      "[18:42:34] jobs.py (line 131):     INFO: Finished pplacer Job with input: backbone_alignment_file:/tmp/sepp/output.txlr34u0/root/P_3/pplacer.backbone.mw0d2vii.fasta, tree_file:/tmp/sepp/output.txlr34u0/root/P_3/pplacer.tree.6i6o6dge.tre, info_file:/home/lauro/anaconda3/envs/qiime2-2021.11/lib/python3.8/site-packages/picrust2/default_files/prokaryotic/pro_ref/pro_ref.raxml_info, extended alignment:/tmp/sepp/output.txlr34u0/root/P_3/pplacer.extended.1.kzgfq7v0.fasta, output:/tmp/sepp/output.txlr34u0/root/P_3/pplacer.extended.1.kzgfq7v0.jplace\n",
      "[18:42:38] jobs.py (line 131):     INFO: Finished pplacer Job with input: backbone_alignment_file:/tmp/sepp/output.txlr34u0/root/P_3/pplacer.backbone.f676hocr.fasta, tree_file:/tmp/sepp/output.txlr34u0/root/P_3/pplacer.tree.t_66exqq.tre, info_file:/home/lauro/anaconda3/envs/qiime2-2021.11/lib/python3.8/site-packages/picrust2/default_files/prokaryotic/pro_ref/pro_ref.raxml_info, extended alignment:/tmp/sepp/output.txlr34u0/root/P_3/pplacer.extended.2.5278q88z.fasta, output:/tmp/sepp/output.txlr34u0/root/P_3/pplacer.extended.2.5278q88z.jplace\n",
      "[18:42:38] jobs.py (line 131):     INFO: Finished pplacer Job with input: backbone_alignment_file:/tmp/sepp/output.txlr34u0/root/P_0/pplacer.backbone.z6hdtge0.fasta, tree_file:/tmp/sepp/output.txlr34u0/root/P_0/pplacer.tree.obo1n0yn.tre, info_file:/home/lauro/anaconda3/envs/qiime2-2021.11/lib/python3.8/site-packages/picrust2/default_files/prokaryotic/pro_ref/pro_ref.raxml_info, extended alignment:/tmp/sepp/output.txlr34u0/root/P_0/pplacer.extended.0.ar2u886p.fasta, output:/tmp/sepp/output.txlr34u0/root/P_0/pplacer.extended.0.ar2u886p.jplace\n",
      "[18:42:40] jobs.py (line 131):     INFO: Finished pplacer Job with input: backbone_alignment_file:/tmp/sepp/output.txlr34u0/root/P_5/pplacer.backbone.tlr4sno1.fasta, tree_file:/tmp/sepp/output.txlr34u0/root/P_5/pplacer.tree.obuyx8w2.tre, info_file:/home/lauro/anaconda3/envs/qiime2-2021.11/lib/python3.8/site-packages/picrust2/default_files/prokaryotic/pro_ref/pro_ref.raxml_info, extended alignment:/tmp/sepp/output.txlr34u0/root/P_5/pplacer.extended.0.b6ye8ow3.fasta, output:/tmp/sepp/output.txlr34u0/root/P_5/pplacer.extended.0.b6ye8ow3.jplace\n",
      "[18:42:41] jobs.py (line 131):     INFO: Finished hmmalign Job with input: model:/tmp/sepp/output.txlr34u0/root/P_11/A_11_0/hmmbuild.model.o1i6ldjg, fragments:/tmp/sepp/output.txlr34u0/root/P_11/A_11_0/FC_11_0_0/hmmalign.frag.bra0688v.fasta, trim:False, base_alignment:/tmp/sepp/output.txlr34u0/root/P_11/A_11_0/hmmbuild.input.6r1g5zuz.fasta\n",
      "[18:42:43] jobs.py (line 131):     INFO: Finished pplacer Job with input: backbone_alignment_file:/tmp/sepp/output.txlr34u0/root/P_0/pplacer.backbone.m_epl6ya.fasta, tree_file:/tmp/sepp/output.txlr34u0/root/P_0/pplacer.tree.nx96bo6j.tre, info_file:/home/lauro/anaconda3/envs/qiime2-2021.11/lib/python3.8/site-packages/picrust2/default_files/prokaryotic/pro_ref/pro_ref.raxml_info, extended alignment:/tmp/sepp/output.txlr34u0/root/P_0/pplacer.extended.1.093fifd1.fasta, output:/tmp/sepp/output.txlr34u0/root/P_0/pplacer.extended.1.093fifd1.jplace\n",
      "[18:42:44] jobs.py (line 131):     INFO: Finished hmmalign Job with input: model:/tmp/sepp/output.txlr34u0/root/P_11/A_11_0/hmmbuild.model.o1i6ldjg, fragments:/tmp/sepp/output.txlr34u0/root/P_11/A_11_0/FC_11_0_1/hmmalign.frag.89247xck.fasta, trim:False, base_alignment:/tmp/sepp/output.txlr34u0/root/P_11/A_11_0/hmmbuild.input.6r1g5zuz.fasta\n",
      "[18:42:44] jobs.py (line 131):     INFO: Finished hmmalign Job with input: model:/tmp/sepp/output.txlr34u0/root/P_11/A_11_0/hmmbuild.model.o1i6ldjg, fragments:/tmp/sepp/output.txlr34u0/root/P_11/A_11_0/FC_11_0_2/hmmalign.frag.2lgf9wnx.fasta, trim:False, base_alignment:/tmp/sepp/output.txlr34u0/root/P_11/A_11_0/hmmbuild.input.6r1g5zuz.fasta\n",
      "[18:42:44] exhaustive.py (line 151):     INFO: Merging sub-alignments for placement problem : P_11.\n",
      "[18:42:44] alignment.py (line 556):     INFO: Merging extension sto file (/tmp/sepp/output.txlr34u0/root/P_11/A_11_0/FC_11_0_0/hmmalign.results.vn0q0t09) into base alignment (/tmp/sepp/output.txlr34u0/root/P_11/A_11_0/hmmbuild.input.6r1g5zuz.fasta).\n",
      "[18:42:44] alignment.py (line 556):     INFO: Merging extension sto file (/tmp/sepp/output.txlr34u0/root/P_11/A_11_0/FC_11_0_1/hmmalign.results.kcr3znty) into base alignment (/tmp/sepp/output.txlr34u0/root/P_11/A_11_0/hmmbuild.input.6r1g5zuz.fasta).\n",
      "[18:42:45] alignment.py (line 556):     INFO: Merging extension sto file (/tmp/sepp/output.txlr34u0/root/P_11/A_11_0/FC_11_0_2/hmmalign.results.0wykg36w) into base alignment (/tmp/sepp/output.txlr34u0/root/P_11/A_11_0/hmmbuild.input.6r1g5zuz.fasta).\n",
      "[18:42:45] jobs.py (line 131):     INFO: Finished pplacer Job with input: backbone_alignment_file:/tmp/sepp/output.txlr34u0/root/P_6/pplacer.backbone.md02czz3.fasta, tree_file:/tmp/sepp/output.txlr34u0/root/P_6/pplacer.tree.wrhro_sw.tre, info_file:/home/lauro/anaconda3/envs/qiime2-2021.11/lib/python3.8/site-packages/picrust2/default_files/prokaryotic/pro_ref/pro_ref.raxml_info, extended alignment:/tmp/sepp/output.txlr34u0/root/P_6/pplacer.extended.0.thynl_r3.fasta, output:/tmp/sepp/output.txlr34u0/root/P_6/pplacer.extended.0.thynl_r3.jplace\n",
      "[18:42:46] jobs.py (line 131):     INFO: Finished pplacer Job with input: backbone_alignment_file:/tmp/sepp/output.txlr34u0/root/P_0/pplacer.backbone.6148w1w9.fasta, tree_file:/tmp/sepp/output.txlr34u0/root/P_0/pplacer.tree.ttekw1pa.tre, info_file:/home/lauro/anaconda3/envs/qiime2-2021.11/lib/python3.8/site-packages/picrust2/default_files/prokaryotic/pro_ref/pro_ref.raxml_info, extended alignment:/tmp/sepp/output.txlr34u0/root/P_0/pplacer.extended.2.60xab871.fasta, output:/tmp/sepp/output.txlr34u0/root/P_0/pplacer.extended.2.60xab871.jplace\n",
      "[18:42:47] jobs.py (line 131):     INFO: Finished pplacer Job with input: backbone_alignment_file:/tmp/sepp/output.txlr34u0/root/P_4/pplacer.backbone.xkg2cj8r.fasta, tree_file:/tmp/sepp/output.txlr34u0/root/P_4/pplacer.tree.z9gw9nj3.tre, info_file:/home/lauro/anaconda3/envs/qiime2-2021.11/lib/python3.8/site-packages/picrust2/default_files/prokaryotic/pro_ref/pro_ref.raxml_info, extended alignment:/tmp/sepp/output.txlr34u0/root/P_4/pplacer.extended.0.n7hkzjoq.fasta, output:/tmp/sepp/output.txlr34u0/root/P_4/pplacer.extended.0.n7hkzjoq.jplace\n",
      "[18:42:48] jobs.py (line 131):     INFO: Finished pplacer Job with input: backbone_alignment_file:/tmp/sepp/output.txlr34u0/root/P_4/pplacer.backbone.r5vvjwiz.fasta, tree_file:/tmp/sepp/output.txlr34u0/root/P_4/pplacer.tree.sq5l3lnx.tre, info_file:/home/lauro/anaconda3/envs/qiime2-2021.11/lib/python3.8/site-packages/picrust2/default_files/prokaryotic/pro_ref/pro_ref.raxml_info, extended alignment:/tmp/sepp/output.txlr34u0/root/P_4/pplacer.extended.1.fz5pql6r.fasta, output:/tmp/sepp/output.txlr34u0/root/P_4/pplacer.extended.1.fz5pql6r.jplace\n",
      "[18:42:53] jobs.py (line 131):     INFO: Finished pplacer Job with input: backbone_alignment_file:/tmp/sepp/output.txlr34u0/root/P_4/pplacer.backbone.wdcocdja.fasta, tree_file:/tmp/sepp/output.txlr34u0/root/P_4/pplacer.tree.e5i8i__x.tre, info_file:/home/lauro/anaconda3/envs/qiime2-2021.11/lib/python3.8/site-packages/picrust2/default_files/prokaryotic/pro_ref/pro_ref.raxml_info, extended alignment:/tmp/sepp/output.txlr34u0/root/P_4/pplacer.extended.2.munuroa6.fasta, output:/tmp/sepp/output.txlr34u0/root/P_4/pplacer.extended.2.munuroa6.jplace\n",
      "[18:42:53] jobs.py (line 131):     INFO: Finished pplacer Job with input: backbone_alignment_file:/tmp/sepp/output.txlr34u0/root/P_6/pplacer.backbone.j9wy1t8g.fasta, tree_file:/tmp/sepp/output.txlr34u0/root/P_6/pplacer.tree.skokv28o.tre, info_file:/home/lauro/anaconda3/envs/qiime2-2021.11/lib/python3.8/site-packages/picrust2/default_files/prokaryotic/pro_ref/pro_ref.raxml_info, extended alignment:/tmp/sepp/output.txlr34u0/root/P_6/pplacer.extended.2.nd2vnan8.fasta, output:/tmp/sepp/output.txlr34u0/root/P_6/pplacer.extended.2.nd2vnan8.jplace\n",
      "[18:42:54] jobs.py (line 131):     INFO: Finished pplacer Job with input: backbone_alignment_file:/tmp/sepp/output.txlr34u0/root/P_6/pplacer.backbone.wlv5vxp_.fasta, tree_file:/tmp/sepp/output.txlr34u0/root/P_6/pplacer.tree.7m9hudif.tre, info_file:/home/lauro/anaconda3/envs/qiime2-2021.11/lib/python3.8/site-packages/picrust2/default_files/prokaryotic/pro_ref/pro_ref.raxml_info, extended alignment:/tmp/sepp/output.txlr34u0/root/P_6/pplacer.extended.1.zojsbshi.fasta, output:/tmp/sepp/output.txlr34u0/root/P_6/pplacer.extended.1.zojsbshi.jplace\n",
      "[18:42:55] jobs.py (line 131):     INFO: Finished pplacer Job with input: backbone_alignment_file:/tmp/sepp/output.txlr34u0/root/P_7/pplacer.backbone.rg0kos7e.fasta, tree_file:/tmp/sepp/output.txlr34u0/root/P_7/pplacer.tree.mkysf15u.tre, info_file:/home/lauro/anaconda3/envs/qiime2-2021.11/lib/python3.8/site-packages/picrust2/default_files/prokaryotic/pro_ref/pro_ref.raxml_info, extended alignment:/tmp/sepp/output.txlr34u0/root/P_7/pplacer.extended.0.3ofq3_xp.fasta, output:/tmp/sepp/output.txlr34u0/root/P_7/pplacer.extended.0.3ofq3_xp.jplace\n",
      "[18:42:56] jobs.py (line 131):     INFO: Finished pplacer Job with input: backbone_alignment_file:/tmp/sepp/output.txlr34u0/root/P_7/pplacer.backbone.ulaslq0l.fasta, tree_file:/tmp/sepp/output.txlr34u0/root/P_7/pplacer.tree.1inluc29.tre, info_file:/home/lauro/anaconda3/envs/qiime2-2021.11/lib/python3.8/site-packages/picrust2/default_files/prokaryotic/pro_ref/pro_ref.raxml_info, extended alignment:/tmp/sepp/output.txlr34u0/root/P_7/pplacer.extended.1.pfol5lcj.fasta, output:/tmp/sepp/output.txlr34u0/root/P_7/pplacer.extended.1.pfol5lcj.jplace\n",
      "[18:42:57] jobs.py (line 131):     INFO: Finished pplacer Job with input: backbone_alignment_file:/tmp/sepp/output.txlr34u0/root/P_9/pplacer.backbone.keh2j1xf.fasta, tree_file:/tmp/sepp/output.txlr34u0/root/P_9/pplacer.tree.y619zl8k.tre, info_file:/home/lauro/anaconda3/envs/qiime2-2021.11/lib/python3.8/site-packages/picrust2/default_files/prokaryotic/pro_ref/pro_ref.raxml_info, extended alignment:/tmp/sepp/output.txlr34u0/root/P_9/pplacer.extended.0.zqftjea7.fasta, output:/tmp/sepp/output.txlr34u0/root/P_9/pplacer.extended.0.zqftjea7.jplace\n",
      "[18:42:58] jobs.py (line 131):     INFO: Finished pplacer Job with input: backbone_alignment_file:/tmp/sepp/output.txlr34u0/root/P_7/pplacer.backbone.f_8g1s24.fasta, tree_file:/tmp/sepp/output.txlr34u0/root/P_7/pplacer.tree.8ieuwry4.tre, info_file:/home/lauro/anaconda3/envs/qiime2-2021.11/lib/python3.8/site-packages/picrust2/default_files/prokaryotic/pro_ref/pro_ref.raxml_info, extended alignment:/tmp/sepp/output.txlr34u0/root/P_7/pplacer.extended.2.wldn92nl.fasta, output:/tmp/sepp/output.txlr34u0/root/P_7/pplacer.extended.2.wldn92nl.jplace\n",
      "[18:42:59] jobs.py (line 131):     INFO: Finished pplacer Job with input: backbone_alignment_file:/tmp/sepp/output.txlr34u0/root/P_8/pplacer.backbone.x2gtq18f.fasta, tree_file:/tmp/sepp/output.txlr34u0/root/P_8/pplacer.tree.19j0ix09.tre, info_file:/home/lauro/anaconda3/envs/qiime2-2021.11/lib/python3.8/site-packages/picrust2/default_files/prokaryotic/pro_ref/pro_ref.raxml_info, extended alignment:/tmp/sepp/output.txlr34u0/root/P_8/pplacer.extended.0.1u9e5oxb.fasta, output:/tmp/sepp/output.txlr34u0/root/P_8/pplacer.extended.0.1u9e5oxb.jplace\n",
      "[18:42:59] jobs.py (line 131):     INFO: Finished pplacer Job with input: backbone_alignment_file:/tmp/sepp/output.txlr34u0/root/P_9/pplacer.backbone.9ml8o6e9.fasta, tree_file:/tmp/sepp/output.txlr34u0/root/P_9/pplacer.tree.n8ha2h7z.tre, info_file:/home/lauro/anaconda3/envs/qiime2-2021.11/lib/python3.8/site-packages/picrust2/default_files/prokaryotic/pro_ref/pro_ref.raxml_info, extended alignment:/tmp/sepp/output.txlr34u0/root/P_9/pplacer.extended.2.pmg2hx5z.fasta, output:/tmp/sepp/output.txlr34u0/root/P_9/pplacer.extended.2.pmg2hx5z.jplace\n",
      "[18:43:00] jobs.py (line 131):     INFO: Finished pplacer Job with input: backbone_alignment_file:/tmp/sepp/output.txlr34u0/root/P_9/pplacer.backbone.aficejce.fasta, tree_file:/tmp/sepp/output.txlr34u0/root/P_9/pplacer.tree.fhn1tpmj.tre, info_file:/home/lauro/anaconda3/envs/qiime2-2021.11/lib/python3.8/site-packages/picrust2/default_files/prokaryotic/pro_ref/pro_ref.raxml_info, extended alignment:/tmp/sepp/output.txlr34u0/root/P_9/pplacer.extended.1.gulbn77j.fasta, output:/tmp/sepp/output.txlr34u0/root/P_9/pplacer.extended.1.gulbn77j.jplace\n",
      "[18:43:01] jobs.py (line 131):     INFO: Finished pplacer Job with input: backbone_alignment_file:/tmp/sepp/output.txlr34u0/root/P_10/pplacer.backbone.1vghz9ys.fasta, tree_file:/tmp/sepp/output.txlr34u0/root/P_10/pplacer.tree.vk5yhrxr.tre, info_file:/home/lauro/anaconda3/envs/qiime2-2021.11/lib/python3.8/site-packages/picrust2/default_files/prokaryotic/pro_ref/pro_ref.raxml_info, extended alignment:/tmp/sepp/output.txlr34u0/root/P_10/pplacer.extended.0.iebq4yy1.fasta, output:/tmp/sepp/output.txlr34u0/root/P_10/pplacer.extended.0.iebq4yy1.jplace\n",
      "[18:43:02] jobs.py (line 131):     INFO: Finished pplacer Job with input: backbone_alignment_file:/tmp/sepp/output.txlr34u0/root/P_10/pplacer.backbone.nj1vqgvp.fasta, tree_file:/tmp/sepp/output.txlr34u0/root/P_10/pplacer.tree.0r8z16m2.tre, info_file:/home/lauro/anaconda3/envs/qiime2-2021.11/lib/python3.8/site-packages/picrust2/default_files/prokaryotic/pro_ref/pro_ref.raxml_info, extended alignment:/tmp/sepp/output.txlr34u0/root/P_10/pplacer.extended.2.ezmsx24q.fasta, output:/tmp/sepp/output.txlr34u0/root/P_10/pplacer.extended.2.ezmsx24q.jplace\n",
      "[18:43:04] jobs.py (line 131):     INFO: Finished pplacer Job with input: backbone_alignment_file:/tmp/sepp/output.txlr34u0/root/P_8/pplacer.backbone.26q2vt0w.fasta, tree_file:/tmp/sepp/output.txlr34u0/root/P_8/pplacer.tree.j5xf6khq.tre, info_file:/home/lauro/anaconda3/envs/qiime2-2021.11/lib/python3.8/site-packages/picrust2/default_files/prokaryotic/pro_ref/pro_ref.raxml_info, extended alignment:/tmp/sepp/output.txlr34u0/root/P_8/pplacer.extended.2.prm6rl1x.fasta, output:/tmp/sepp/output.txlr34u0/root/P_8/pplacer.extended.2.prm6rl1x.jplace\n",
      "[18:43:06] jobs.py (line 131):     INFO: Finished pplacer Job with input: backbone_alignment_file:/tmp/sepp/output.txlr34u0/root/P_10/pplacer.backbone.ykjey1dx.fasta, tree_file:/tmp/sepp/output.txlr34u0/root/P_10/pplacer.tree.z_2skdkn.tre, info_file:/home/lauro/anaconda3/envs/qiime2-2021.11/lib/python3.8/site-packages/picrust2/default_files/prokaryotic/pro_ref/pro_ref.raxml_info, extended alignment:/tmp/sepp/output.txlr34u0/root/P_10/pplacer.extended.1.4j50jt5l.fasta, output:/tmp/sepp/output.txlr34u0/root/P_10/pplacer.extended.1.4j50jt5l.jplace\n",
      "[18:43:08] jobs.py (line 131):     INFO: Finished pplacer Job with input: backbone_alignment_file:/tmp/sepp/output.txlr34u0/root/P_8/pplacer.backbone.khh4139w.fasta, tree_file:/tmp/sepp/output.txlr34u0/root/P_8/pplacer.tree.fxf2pkhw.tre, info_file:/home/lauro/anaconda3/envs/qiime2-2021.11/lib/python3.8/site-packages/picrust2/default_files/prokaryotic/pro_ref/pro_ref.raxml_info, extended alignment:/tmp/sepp/output.txlr34u0/root/P_8/pplacer.extended.1.huxxiha0.fasta, output:/tmp/sepp/output.txlr34u0/root/P_8/pplacer.extended.1.huxxiha0.jplace\n",
      "[18:43:14] jobs.py (line 131):     INFO: Finished pplacer Job with input: backbone_alignment_file:/tmp/sepp/output.txlr34u0/root/P_12/pplacer.backbone.eyrywfsk.fasta, tree_file:/tmp/sepp/output.txlr34u0/root/P_12/pplacer.tree.zpo7zlpf.tre, info_file:/home/lauro/anaconda3/envs/qiime2-2021.11/lib/python3.8/site-packages/picrust2/default_files/prokaryotic/pro_ref/pro_ref.raxml_info, extended alignment:/tmp/sepp/output.txlr34u0/root/P_12/pplacer.extended.0.wluxb_l8.fasta, output:/tmp/sepp/output.txlr34u0/root/P_12/pplacer.extended.0.wluxb_l8.jplace\n",
      "[18:43:16] jobs.py (line 131):     INFO: Finished pplacer Job with input: backbone_alignment_file:/tmp/sepp/output.txlr34u0/root/P_13/pplacer.backbone.iewrktqt.fasta, tree_file:/tmp/sepp/output.txlr34u0/root/P_13/pplacer.tree.4mknk167.tre, info_file:/home/lauro/anaconda3/envs/qiime2-2021.11/lib/python3.8/site-packages/picrust2/default_files/prokaryotic/pro_ref/pro_ref.raxml_info, extended alignment:/tmp/sepp/output.txlr34u0/root/P_13/pplacer.extended.2.bsj_pug0.fasta, output:/tmp/sepp/output.txlr34u0/root/P_13/pplacer.extended.2.bsj_pug0.jplace\n",
      "[18:43:16] jobs.py (line 131):     INFO: Finished pplacer Job with input: backbone_alignment_file:/tmp/sepp/output.txlr34u0/root/P_12/pplacer.backbone.5tzyqyaj.fasta, tree_file:/tmp/sepp/output.txlr34u0/root/P_12/pplacer.tree.vqqatdid.tre, info_file:/home/lauro/anaconda3/envs/qiime2-2021.11/lib/python3.8/site-packages/picrust2/default_files/prokaryotic/pro_ref/pro_ref.raxml_info, extended alignment:/tmp/sepp/output.txlr34u0/root/P_12/pplacer.extended.1.ub3rznju.fasta, output:/tmp/sepp/output.txlr34u0/root/P_12/pplacer.extended.1.ub3rznju.jplace\n",
      "[18:43:18] jobs.py (line 131):     INFO: Finished pplacer Job with input: backbone_alignment_file:/tmp/sepp/output.txlr34u0/root/P_12/pplacer.backbone.xr52vvfv.fasta, tree_file:/tmp/sepp/output.txlr34u0/root/P_12/pplacer.tree.1m_3x7bs.tre, info_file:/home/lauro/anaconda3/envs/qiime2-2021.11/lib/python3.8/site-packages/picrust2/default_files/prokaryotic/pro_ref/pro_ref.raxml_info, extended alignment:/tmp/sepp/output.txlr34u0/root/P_12/pplacer.extended.2.qfihgvdl.fasta, output:/tmp/sepp/output.txlr34u0/root/P_12/pplacer.extended.2.qfihgvdl.jplace\n",
      "[18:43:18] jobs.py (line 131):     INFO: Finished pplacer Job with input: backbone_alignment_file:/tmp/sepp/output.txlr34u0/root/P_13/pplacer.backbone.5km1b0_2.fasta, tree_file:/tmp/sepp/output.txlr34u0/root/P_13/pplacer.tree.26w05pzj.tre, info_file:/home/lauro/anaconda3/envs/qiime2-2021.11/lib/python3.8/site-packages/picrust2/default_files/prokaryotic/pro_ref/pro_ref.raxml_info, extended alignment:/tmp/sepp/output.txlr34u0/root/P_13/pplacer.extended.1.k11yb6nt.fasta, output:/tmp/sepp/output.txlr34u0/root/P_13/pplacer.extended.1.k11yb6nt.jplace\n",
      "[18:43:18] jobs.py (line 131):     INFO: Finished pplacer Job with input: backbone_alignment_file:/tmp/sepp/output.txlr34u0/root/P_13/pplacer.backbone.yfstz_1j.fasta, tree_file:/tmp/sepp/output.txlr34u0/root/P_13/pplacer.tree.xwwlzcm9.tre, info_file:/home/lauro/anaconda3/envs/qiime2-2021.11/lib/python3.8/site-packages/picrust2/default_files/prokaryotic/pro_ref/pro_ref.raxml_info, extended alignment:/tmp/sepp/output.txlr34u0/root/P_13/pplacer.extended.0.vc342l60.fasta, output:/tmp/sepp/output.txlr34u0/root/P_13/pplacer.extended.0.vc342l60.jplace\n",
      "[18:43:23] jobs.py (line 131):     INFO: Finished pplacer Job with input: backbone_alignment_file:/tmp/sepp/output.txlr34u0/root/P_14/pplacer.backbone.64rov906.fasta, tree_file:/tmp/sepp/output.txlr34u0/root/P_14/pplacer.tree.sjotohmt.tre, info_file:/home/lauro/anaconda3/envs/qiime2-2021.11/lib/python3.8/site-packages/picrust2/default_files/prokaryotic/pro_ref/pro_ref.raxml_info, extended alignment:/tmp/sepp/output.txlr34u0/root/P_14/pplacer.extended.1.q_aad23f.fasta, output:/tmp/sepp/output.txlr34u0/root/P_14/pplacer.extended.1.q_aad23f.jplace\n",
      "[18:43:25] jobs.py (line 131):     INFO: Finished pplacer Job with input: backbone_alignment_file:/tmp/sepp/output.txlr34u0/root/P_15/pplacer.backbone.q2mug1qf.fasta, tree_file:/tmp/sepp/output.txlr34u0/root/P_15/pplacer.tree.c_1pzwn2.tre, info_file:/home/lauro/anaconda3/envs/qiime2-2021.11/lib/python3.8/site-packages/picrust2/default_files/prokaryotic/pro_ref/pro_ref.raxml_info, extended alignment:/tmp/sepp/output.txlr34u0/root/P_15/pplacer.extended.0.ha5zgney.fasta, output:/tmp/sepp/output.txlr34u0/root/P_15/pplacer.extended.0.ha5zgney.jplace\n",
      "[18:43:26] jobs.py (line 131):     INFO: Finished pplacer Job with input: backbone_alignment_file:/tmp/sepp/output.txlr34u0/root/P_15/pplacer.backbone.t12qenwz.fasta, tree_file:/tmp/sepp/output.txlr34u0/root/P_15/pplacer.tree.ftzu7eyy.tre, info_file:/home/lauro/anaconda3/envs/qiime2-2021.11/lib/python3.8/site-packages/picrust2/default_files/prokaryotic/pro_ref/pro_ref.raxml_info, extended alignment:/tmp/sepp/output.txlr34u0/root/P_15/pplacer.extended.2.di9eww97.fasta, output:/tmp/sepp/output.txlr34u0/root/P_15/pplacer.extended.2.di9eww97.jplace\n",
      "[18:43:27] jobs.py (line 131):     INFO: Finished pplacer Job with input: backbone_alignment_file:/tmp/sepp/output.txlr34u0/root/P_15/pplacer.backbone.pqpb0ttx.fasta, tree_file:/tmp/sepp/output.txlr34u0/root/P_15/pplacer.tree.ka6igwsj.tre, info_file:/home/lauro/anaconda3/envs/qiime2-2021.11/lib/python3.8/site-packages/picrust2/default_files/prokaryotic/pro_ref/pro_ref.raxml_info, extended alignment:/tmp/sepp/output.txlr34u0/root/P_15/pplacer.extended.1.h2jahdr_.fasta, output:/tmp/sepp/output.txlr34u0/root/P_15/pplacer.extended.1.h2jahdr_.jplace\n",
      "[18:43:27] jobs.py (line 131):     INFO: Finished pplacer Job with input: backbone_alignment_file:/tmp/sepp/output.txlr34u0/root/P_14/pplacer.backbone.mspknyyu.fasta, tree_file:/tmp/sepp/output.txlr34u0/root/P_14/pplacer.tree.3mq1s3fa.tre, info_file:/home/lauro/anaconda3/envs/qiime2-2021.11/lib/python3.8/site-packages/picrust2/default_files/prokaryotic/pro_ref/pro_ref.raxml_info, extended alignment:/tmp/sepp/output.txlr34u0/root/P_14/pplacer.extended.2.z75fpk1u.fasta, output:/tmp/sepp/output.txlr34u0/root/P_14/pplacer.extended.2.z75fpk1u.jplace\n",
      "[18:43:30] jobs.py (line 131):     INFO: Finished pplacer Job with input: backbone_alignment_file:/tmp/sepp/output.txlr34u0/root/P_14/pplacer.backbone.mwwokc4n.fasta, tree_file:/tmp/sepp/output.txlr34u0/root/P_14/pplacer.tree.tgi6616p.tre, info_file:/home/lauro/anaconda3/envs/qiime2-2021.11/lib/python3.8/site-packages/picrust2/default_files/prokaryotic/pro_ref/pro_ref.raxml_info, extended alignment:/tmp/sepp/output.txlr34u0/root/P_14/pplacer.extended.0.y6ds2wbg.fasta, output:/tmp/sepp/output.txlr34u0/root/P_14/pplacer.extended.0.y6ds2wbg.jplace\n",
      "[18:44:23] jobs.py (line 131):     INFO: Finished pplacer Job with input: backbone_alignment_file:/tmp/sepp/output.txlr34u0/root/P_11/pplacer.backbone.qj6p61j2.fasta, tree_file:/tmp/sepp/output.txlr34u0/root/P_11/pplacer.tree._90gmdvb.tre, info_file:/home/lauro/anaconda3/envs/qiime2-2021.11/lib/python3.8/site-packages/picrust2/default_files/prokaryotic/pro_ref/pro_ref.raxml_info, extended alignment:/tmp/sepp/output.txlr34u0/root/P_11/pplacer.extended.0.rntayzoe.fasta, output:/tmp/sepp/output.txlr34u0/root/P_11/pplacer.extended.0.rntayzoe.jplace\n",
      "[18:44:24] jobs.py (line 131):     INFO: Finished pplacer Job with input: backbone_alignment_file:/tmp/sepp/output.txlr34u0/root/P_11/pplacer.backbone.bceix1d8.fasta, tree_file:/tmp/sepp/output.txlr34u0/root/P_11/pplacer.tree.q3oxktub.tre, info_file:/home/lauro/anaconda3/envs/qiime2-2021.11/lib/python3.8/site-packages/picrust2/default_files/prokaryotic/pro_ref/pro_ref.raxml_info, extended alignment:/tmp/sepp/output.txlr34u0/root/P_11/pplacer.extended.1.gn9sn8l2.fasta, output:/tmp/sepp/output.txlr34u0/root/P_11/pplacer.extended.1.gn9sn8l2.jplace\n",
      "[18:44:29] jobs.py (line 131):     INFO: Finished pplacer Job with input: backbone_alignment_file:/tmp/sepp/output.txlr34u0/root/P_11/pplacer.backbone.26zi5qrz.fasta, tree_file:/tmp/sepp/output.txlr34u0/root/P_11/pplacer.tree.h_ufattx.tre, info_file:/home/lauro/anaconda3/envs/qiime2-2021.11/lib/python3.8/site-packages/picrust2/default_files/prokaryotic/pro_ref/pro_ref.raxml_info, extended alignment:/tmp/sepp/output.txlr34u0/root/P_11/pplacer.extended.2.y4kql7p9.fasta, output:/tmp/sepp/output.txlr34u0/root/P_11/pplacer.extended.2.y4kql7p9.jplace\n",
      "[18:44:43] jobs.py (line 131):     INFO: Finished jsonmerger Job with input: input:pipe output:/tmp/tmp2gqdkud7/picrust2_out/intermediate/place_seqs/sepp_out/output_placement.json\n",
      "[18:44:43] algorithm.py (line 195):     INFO: Current execution Finished in 237 seconds\n",
      "[18:44:43] algorithm.py (line 197):     INFO: All checkpointed executions Finished in 237 cumulative time\n",
      "\n",
      "gappa examine graft --jplace-path /tmp/tmp2gqdkud7/picrust2_out/intermediate/place_seqs/sepp_out/output_placement.json --fully-resolve --out-dir /tmp/tmp2gqdkud7/picrust2_out/intermediate/place_seqs/sepp_out\n",
      "\n",
      "mv /tmp/tmp2gqdkud7/picrust2_out/intermediate/place_seqs/sepp_out/output_placement.newick /tmp/tmp2gqdkud7/picrust2_out/out.tre\n",
      "\n",
      "Finished placing sequences on output tree: /tmp/tmp2gqdkud7/picrust2_out/out.tre\n",
      "hsp.py --tree /tmp/tmp2gqdkud7/picrust2_out/out.tre --output /tmp/tmp2gqdkud7/picrust2_out/marker_predicted_and_nsti.tsv.gz --observed_trait_table /home/lauro/anaconda3/envs/qiime2-2021.11/lib/python3.8/site-packages/picrust2/default_files/prokaryotic/16S.txt.gz --hsp_method pic --edge_exponent 0.5 --seed 100 --calculate_NSTI --processes 1 --verbose\n"
     ]
    },
    {
     "name": "stdout",
     "output_type": "stream",
     "text": [
      "\n",
      "\n",
      "\n"
     ]
    },
    {
     "name": "stderr",
     "output_type": "stream",
     "text": [
      "Rscript /home/lauro/anaconda3/envs/qiime2-2021.11/lib/python3.8/site-packages/picrust2/Rscripts/castor_nsti.R /tmp/tmp2gqdkud7/picrust2_out/out.tre /tmp/tmprfxd9_xd/known_tips.txt /tmp/tmprfxd9_xd/nsti_out.txt\n",
      "\n",
      "Rscript /home/lauro/anaconda3/envs/qiime2-2021.11/lib/python3.8/site-packages/picrust2/Rscripts/castor_hsp.R /tmp/tmp2gqdkud7/picrust2_out/out.tre /tmp/tmpt5ps5nek/subset_tab_0 pic 0.5 FALSE FALSE /tmp/tmpi9kr9a3o/predicted_counts.txt /tmp/tmpi9kr9a3o/predicted_ci.txt 100\n",
      "\n",
      "\n",
      "hsp.py --tree /tmp/tmp2gqdkud7/picrust2_out/out.tre --output /tmp/tmp2gqdkud7/picrust2_out/EC_predicted.tsv.gz --observed_trait_table /home/lauro/anaconda3/envs/qiime2-2021.11/lib/python3.8/site-packages/picrust2/default_files/prokaryotic/ec.txt.gz --hsp_method pic --edge_exponent 0.5 --seed 100 --processes 6 --verbose\n"
     ]
    },
    {
     "name": "stdout",
     "output_type": "stream",
     "text": [
      "\n",
      "\n",
      "\n",
      "\n",
      "\n",
      "\n",
      "\n"
     ]
    },
    {
     "name": "stderr",
     "output_type": "stream",
     "text": [
      "Rscript /home/lauro/anaconda3/envs/qiime2-2021.11/lib/python3.8/site-packages/picrust2/Rscripts/castor_hsp.R /tmp/tmp2gqdkud7/picrust2_out/out.tre /tmp/tmp8kzj1pg2/subset_tab_1 pic 0.5 FALSE FALSE /tmp/tmp9ia7wkcn/predicted_counts.txt /tmp/tmp9ia7wkcn/predicted_ci.txt 100\n",
      "\n",
      "Rscript /home/lauro/anaconda3/envs/qiime2-2021.11/lib/python3.8/site-packages/picrust2/Rscripts/castor_hsp.R /tmp/tmp2gqdkud7/picrust2_out/out.tre /tmp/tmp8kzj1pg2/subset_tab_2 pic 0.5 FALSE FALSE /tmp/tmpqb4m4sxy/predicted_counts.txt /tmp/tmpqb4m4sxy/predicted_ci.txt 100\n",
      "\n",
      "Rscript /home/lauro/anaconda3/envs/qiime2-2021.11/lib/python3.8/site-packages/picrust2/Rscripts/castor_hsp.R /tmp/tmp2gqdkud7/picrust2_out/out.tre /tmp/tmp8kzj1pg2/subset_tab_5 pic 0.5 FALSE FALSE /tmp/tmpi3f78u56/predicted_counts.txt /tmp/tmpi3f78u56/predicted_ci.txt 100\n",
      "\n",
      "Rscript /home/lauro/anaconda3/envs/qiime2-2021.11/lib/python3.8/site-packages/picrust2/Rscripts/castor_hsp.R /tmp/tmp2gqdkud7/picrust2_out/out.tre /tmp/tmp8kzj1pg2/subset_tab_0 pic 0.5 FALSE FALSE /tmp/tmp4mhg67pl/predicted_counts.txt /tmp/tmp4mhg67pl/predicted_ci.txt 100\n",
      "\n",
      "Rscript /home/lauro/anaconda3/envs/qiime2-2021.11/lib/python3.8/site-packages/picrust2/Rscripts/castor_hsp.R /tmp/tmp2gqdkud7/picrust2_out/out.tre /tmp/tmp8kzj1pg2/subset_tab_4 pic 0.5 FALSE FALSE /tmp/tmp_j5c0wqk/predicted_counts.txt /tmp/tmp_j5c0wqk/predicted_ci.txt 100\n",
      "\n",
      "Rscript /home/lauro/anaconda3/envs/qiime2-2021.11/lib/python3.8/site-packages/picrust2/Rscripts/castor_hsp.R /tmp/tmp2gqdkud7/picrust2_out/out.tre /tmp/tmp8kzj1pg2/subset_tab_3 pic 0.5 FALSE FALSE /tmp/tmpvvj0e5xb/predicted_counts.txt /tmp/tmpvvj0e5xb/predicted_ci.txt 100\n",
      "\n",
      "\n",
      "hsp.py --tree /tmp/tmp2gqdkud7/picrust2_out/out.tre --output /tmp/tmp2gqdkud7/picrust2_out/KO_predicted.tsv.gz --observed_trait_table /home/lauro/anaconda3/envs/qiime2-2021.11/lib/python3.8/site-packages/picrust2/default_files/prokaryotic/ko.txt.gz --hsp_method pic --edge_exponent 0.5 --seed 100 --processes 6 --verbose\n"
     ]
    },
    {
     "name": "stdout",
     "output_type": "stream",
     "text": [
      "\n",
      "\n",
      "\n",
      "\n",
      "\n",
      "\n",
      "\n",
      "\n",
      "\n",
      "\n",
      "\n",
      "\n",
      "\n",
      "\n",
      "\n",
      "\n",
      "\n",
      "\n",
      "\n",
      "\n",
      "\n",
      "\n",
      "\n"
     ]
    },
    {
     "name": "stderr",
     "output_type": "stream",
     "text": [
      "Rscript /home/lauro/anaconda3/envs/qiime2-2021.11/lib/python3.8/site-packages/picrust2/Rscripts/castor_hsp.R /tmp/tmp2gqdkud7/picrust2_out/out.tre /tmp/tmpdbyr_zbw/subset_tab_1 pic 0.5 FALSE FALSE /tmp/tmp33hfoopl/predicted_counts.txt /tmp/tmp33hfoopl/predicted_ci.txt 100\n",
      "\n",
      "Rscript /home/lauro/anaconda3/envs/qiime2-2021.11/lib/python3.8/site-packages/picrust2/Rscripts/castor_hsp.R /tmp/tmp2gqdkud7/picrust2_out/out.tre /tmp/tmpdbyr_zbw/subset_tab_9 pic 0.5 FALSE FALSE /tmp/tmp2_oddpyv/predicted_counts.txt /tmp/tmp2_oddpyv/predicted_ci.txt 100\n",
      "\n",
      "Rscript /home/lauro/anaconda3/envs/qiime2-2021.11/lib/python3.8/site-packages/picrust2/Rscripts/castor_hsp.R /tmp/tmp2gqdkud7/picrust2_out/out.tre /tmp/tmpdbyr_zbw/subset_tab_17 pic 0.5 FALSE FALSE /tmp/tmpyk7wzk_h/predicted_counts.txt /tmp/tmpyk7wzk_h/predicted_ci.txt 100\n",
      "\n",
      "Rscript /home/lauro/anaconda3/envs/qiime2-2021.11/lib/python3.8/site-packages/picrust2/Rscripts/castor_hsp.R /tmp/tmp2gqdkud7/picrust2_out/out.tre /tmp/tmpdbyr_zbw/subset_tab_2 pic 0.5 FALSE FALSE /tmp/tmp6xc1ddoh/predicted_counts.txt /tmp/tmp6xc1ddoh/predicted_ci.txt 100\n",
      "\n",
      "Rscript /home/lauro/anaconda3/envs/qiime2-2021.11/lib/python3.8/site-packages/picrust2/Rscripts/castor_hsp.R /tmp/tmp2gqdkud7/picrust2_out/out.tre /tmp/tmpdbyr_zbw/subset_tab_10 pic 0.5 FALSE FALSE /tmp/tmpqh092qxl/predicted_counts.txt /tmp/tmpqh092qxl/predicted_ci.txt 100\n",
      "\n",
      "Rscript /home/lauro/anaconda3/envs/qiime2-2021.11/lib/python3.8/site-packages/picrust2/Rscripts/castor_hsp.R /tmp/tmp2gqdkud7/picrust2_out/out.tre /tmp/tmpdbyr_zbw/subset_tab_15 pic 0.5 FALSE FALSE /tmp/tmpwsx7l9dh/predicted_counts.txt /tmp/tmpwsx7l9dh/predicted_ci.txt 100\n",
      "\n",
      "Rscript /home/lauro/anaconda3/envs/qiime2-2021.11/lib/python3.8/site-packages/picrust2/Rscripts/castor_hsp.R /tmp/tmp2gqdkud7/picrust2_out/out.tre /tmp/tmpdbyr_zbw/subset_tab_21 pic 0.5 FALSE FALSE /tmp/tmpdlaff2dp/predicted_counts.txt /tmp/tmpdlaff2dp/predicted_ci.txt 100\n",
      "\n",
      "Rscript /home/lauro/anaconda3/envs/qiime2-2021.11/lib/python3.8/site-packages/picrust2/Rscripts/castor_hsp.R /tmp/tmp2gqdkud7/picrust2_out/out.tre /tmp/tmpdbyr_zbw/subset_tab_0 pic 0.5 FALSE FALSE /tmp/tmp2189emlf/predicted_counts.txt /tmp/tmp2189emlf/predicted_ci.txt 100\n",
      "\n",
      "Rscript /home/lauro/anaconda3/envs/qiime2-2021.11/lib/python3.8/site-packages/picrust2/Rscripts/castor_hsp.R /tmp/tmp2gqdkud7/picrust2_out/out.tre /tmp/tmpdbyr_zbw/subset_tab_8 pic 0.5 FALSE FALSE /tmp/tmpnqwfmxvy/predicted_counts.txt /tmp/tmpnqwfmxvy/predicted_ci.txt 100\n",
      "\n",
      "Rscript /home/lauro/anaconda3/envs/qiime2-2021.11/lib/python3.8/site-packages/picrust2/Rscripts/castor_hsp.R /tmp/tmp2gqdkud7/picrust2_out/out.tre /tmp/tmpdbyr_zbw/subset_tab_16 pic 0.5 FALSE FALSE /tmp/tmp7xbbg153/predicted_counts.txt /tmp/tmp7xbbg153/predicted_ci.txt 100\n",
      "\n",
      "Rscript /home/lauro/anaconda3/envs/qiime2-2021.11/lib/python3.8/site-packages/picrust2/Rscripts/castor_hsp.R /tmp/tmp2gqdkud7/picrust2_out/out.tre /tmp/tmpdbyr_zbw/subset_tab_3 pic 0.5 FALSE FALSE /tmp/tmprsmyqwmc/predicted_counts.txt /tmp/tmprsmyqwmc/predicted_ci.txt 100\n",
      "\n",
      "Rscript /home/lauro/anaconda3/envs/qiime2-2021.11/lib/python3.8/site-packages/picrust2/Rscripts/castor_hsp.R /tmp/tmp2gqdkud7/picrust2_out/out.tre /tmp/tmpdbyr_zbw/subset_tab_7 pic 0.5 FALSE FALSE /tmp/tmp6l8d80q4/predicted_counts.txt /tmp/tmp6l8d80q4/predicted_ci.txt 100\n",
      "\n",
      "Rscript /home/lauro/anaconda3/envs/qiime2-2021.11/lib/python3.8/site-packages/picrust2/Rscripts/castor_hsp.R /tmp/tmp2gqdkud7/picrust2_out/out.tre /tmp/tmpdbyr_zbw/subset_tab_13 pic 0.5 FALSE FALSE /tmp/tmpf9e0oyph/predicted_counts.txt /tmp/tmpf9e0oyph/predicted_ci.txt 100\n",
      "\n",
      "Rscript /home/lauro/anaconda3/envs/qiime2-2021.11/lib/python3.8/site-packages/picrust2/Rscripts/castor_hsp.R /tmp/tmp2gqdkud7/picrust2_out/out.tre /tmp/tmpdbyr_zbw/subset_tab_18 pic 0.5 FALSE FALSE /tmp/tmpeq08xkin/predicted_counts.txt /tmp/tmpeq08xkin/predicted_ci.txt 100\n",
      "\n",
      "Rscript /home/lauro/anaconda3/envs/qiime2-2021.11/lib/python3.8/site-packages/picrust2/Rscripts/castor_hsp.R /tmp/tmp2gqdkud7/picrust2_out/out.tre /tmp/tmpdbyr_zbw/subset_tab_4 pic 0.5 FALSE FALSE /tmp/tmpt6_g5q6f/predicted_counts.txt /tmp/tmpt6_g5q6f/predicted_ci.txt 100\n",
      "\n",
      "Rscript /home/lauro/anaconda3/envs/qiime2-2021.11/lib/python3.8/site-packages/picrust2/Rscripts/castor_hsp.R /tmp/tmp2gqdkud7/picrust2_out/out.tre /tmp/tmpdbyr_zbw/subset_tab_6 pic 0.5 FALSE FALSE /tmp/tmp_rm8om6x/predicted_counts.txt /tmp/tmp_rm8om6x/predicted_ci.txt 100\n",
      "\n",
      "Rscript /home/lauro/anaconda3/envs/qiime2-2021.11/lib/python3.8/site-packages/picrust2/Rscripts/castor_hsp.R /tmp/tmp2gqdkud7/picrust2_out/out.tre /tmp/tmpdbyr_zbw/subset_tab_12 pic 0.5 FALSE FALSE /tmp/tmp07rka_b9/predicted_counts.txt /tmp/tmp07rka_b9/predicted_ci.txt 100\n",
      "\n",
      "Rscript /home/lauro/anaconda3/envs/qiime2-2021.11/lib/python3.8/site-packages/picrust2/Rscripts/castor_hsp.R /tmp/tmp2gqdkud7/picrust2_out/out.tre /tmp/tmpdbyr_zbw/subset_tab_19 pic 0.5 FALSE FALSE /tmp/tmptxghq688/predicted_counts.txt /tmp/tmptxghq688/predicted_ci.txt 100\n",
      "\n",
      "Rscript /home/lauro/anaconda3/envs/qiime2-2021.11/lib/python3.8/site-packages/picrust2/Rscripts/castor_hsp.R /tmp/tmp2gqdkud7/picrust2_out/out.tre /tmp/tmpdbyr_zbw/subset_tab_5 pic 0.5 FALSE FALSE /tmp/tmpjclu9srv/predicted_counts.txt /tmp/tmpjclu9srv/predicted_ci.txt 100\n",
      "\n",
      "Rscript /home/lauro/anaconda3/envs/qiime2-2021.11/lib/python3.8/site-packages/picrust2/Rscripts/castor_hsp.R /tmp/tmp2gqdkud7/picrust2_out/out.tre /tmp/tmpdbyr_zbw/subset_tab_11 pic 0.5 FALSE FALSE /tmp/tmpjiy_xhhk/predicted_counts.txt /tmp/tmpjiy_xhhk/predicted_ci.txt 100\n",
      "\n",
      "Rscript /home/lauro/anaconda3/envs/qiime2-2021.11/lib/python3.8/site-packages/picrust2/Rscripts/castor_hsp.R /tmp/tmp2gqdkud7/picrust2_out/out.tre /tmp/tmpdbyr_zbw/subset_tab_14 pic 0.5 FALSE FALSE /tmp/tmp3tx8788h/predicted_counts.txt /tmp/tmp3tx8788h/predicted_ci.txt 100\n",
      "\n",
      "Rscript /home/lauro/anaconda3/envs/qiime2-2021.11/lib/python3.8/site-packages/picrust2/Rscripts/castor_hsp.R /tmp/tmp2gqdkud7/picrust2_out/out.tre /tmp/tmpdbyr_zbw/subset_tab_20 pic 0.5 FALSE FALSE /tmp/tmp927tciuk/predicted_counts.txt /tmp/tmp927tciuk/predicted_ci.txt 100\n",
      "\n",
      "\n",
      "Running metagenome pipeline for EC\n",
      "metagenome_pipeline.py --input /tmp/tmp2gqdkud7/intable.biom --function /tmp/tmp2gqdkud7/picrust2_out/EC_predicted.tsv.gz --min_reads 1 --min_samples 1 --out_dir /tmp/tmp2gqdkud7/picrust2_out/EC_metagenome_out --max_nsti 2 --marker /tmp/tmp2gqdkud7/picrust2_out/marker_predicted_and_nsti.tsv.gz\n"
     ]
    },
    {
     "name": "stdout",
     "output_type": "stream",
     "text": [
      "\n"
     ]
    },
    {
     "name": "stderr",
     "output_type": "stream",
     "text": [
      "All ASVs were below the max NSTI cut-off of 2.0 and so all were retained for downstream analyses.\n",
      "\n",
      "Running metagenome pipeline for KO\n",
      "metagenome_pipeline.py --input /tmp/tmp2gqdkud7/intable.biom --function /tmp/tmp2gqdkud7/picrust2_out/KO_predicted.tsv.gz --min_reads 1 --min_samples 1 --out_dir /tmp/tmp2gqdkud7/picrust2_out/KO_metagenome_out --max_nsti 2 --marker /tmp/tmp2gqdkud7/picrust2_out/marker_predicted_and_nsti.tsv.gz\n"
     ]
    },
    {
     "name": "stdout",
     "output_type": "stream",
     "text": [
      "\n",
      "Inferring pathways from predicted EC\n"
     ]
    },
    {
     "name": "stderr",
     "output_type": "stream",
     "text": [
      "All ASVs were below the max NSTI cut-off of 2.0 and so all were retained for downstream analyses.\n",
      "\n",
      "pathway_pipeline.py --input /tmp/tmp2gqdkud7/picrust2_out/EC_metagenome_out/pred_metagenome_unstrat.tsv.gz --out_dir /tmp/tmp2gqdkud7/picrust2_out/pathways_out --map /home/lauro/anaconda3/envs/qiime2-2021.11/lib/python3.8/site-packages/picrust2/default_files/pathway_mapfiles/metacyc_path2rxn_struc_filt_pro.txt --intermediate /tmp/tmp2gqdkud7/picrust2_out/intermediate/pathways --proc 6 --regroup_map /home/lauro/anaconda3/envs/qiime2-2021.11/lib/python3.8/site-packages/picrust2/default_files/pathway_mapfiles/ec_level4_to_metacyc_rxn.tsv --verbose\n"
     ]
    },
    {
     "name": "stderr",
     "output_type": "stream",
     "text": [
      "\n",
      "Wrote predicted pathway abundances and coverages to /tmp/tmp2gqdkud7/picrust2_out/pathways_out\n"
     ]
    }
   ],
   "source": [
    "need_pipeline = replace_files\n",
    "need_pipeline |= not (os.path.isfile(ec_path) and os.path.isfile(ko_path) and os.path.isfile(pathway_path))\n",
    "if need_pipeline:\n",
    "    results = picrust2.methods.full_pipeline(\n",
    "        table=tabs, \n",
    "        seq=seqs, \n",
    "        threads=6, \n",
    "        placement_tool='sepp',\n",
    "        hsp_method='pic', \n",
    "        max_nsti=2,\n",
    "        highly_verbose=True\n",
    "    )\n",
    "    ec_metagenome = results.ec_metagenome\n",
    "    ko_metagenome = results.ko_metagenome\n",
    "    pathway_abundance = results.pathway_abundance\n",
    "else:\n",
    "    ec_metagenome = Artifact.load(ec_path)\n",
    "    ko_metagenome = Artifact.load(ko_path)\n",
    "    pathway_abundance = Artifact.load(pathway_path)"
   ]
  },
  {
   "cell_type": "markdown",
   "id": "771308c4",
   "metadata": {
    "papermill": {
     "duration": 0.041503,
     "end_time": "2023-03-14T18:50:22.567221",
     "exception": false,
     "start_time": "2023-03-14T18:50:22.525718",
     "status": "completed"
    },
    "tags": []
   },
   "source": [
    "### Persist created artifacts\n",
    "\n",
    "We will define file paths and persist all artifacts. We start with `.qza` files. We will save the visualization files in sequence as `qzv` files. Finally, we save a `biom`-like file as `tsv` with brief descriptions of all functions."
   ]
  },
  {
   "cell_type": "code",
   "execution_count": 9,
   "id": "c680ab46",
   "metadata": {
    "ExecuteTime": {
     "end_time": "2022-11-09T19:20:47.646444Z",
     "start_time": "2022-11-09T19:20:47.643806Z"
    },
    "execution": {
     "iopub.execute_input": "2023-03-14T18:50:22.747228Z",
     "iopub.status.busy": "2023-03-14T18:50:22.746012Z",
     "iopub.status.idle": "2023-03-14T18:50:22.974700Z",
     "shell.execute_reply": "2023-03-14T18:50:22.975684Z"
    },
    "papermill": {
     "duration": 0.333557,
     "end_time": "2023-03-14T18:50:22.975966",
     "exception": false,
     "start_time": "2023-03-14T18:50:22.642409",
     "status": "completed"
    },
    "tags": []
   },
   "outputs": [],
   "source": [
    "if need_pipeline:\n",
    "    # Export artifact folder\n",
    "    ec_metagenome.export_data(output_dir=ec_path.split('.')[0])\n",
    "    ko_metagenome.export_data(output_dir=ko_path.split('.')[0])\n",
    "    pathway_abundance.export_data(output_dir=pathway_path.split('.')[0])\n",
    "    \n",
    "    # Save artifacts as .qza files\n",
    "    ec_metagenome.save(ec_path)\n",
    "    ko_metagenome.save(ko_path)\n",
    "    pathway_abundance.save(pathway_path)"
   ]
  },
  {
   "cell_type": "code",
   "execution_count": 10,
   "id": "d61ebec3",
   "metadata": {
    "ExecuteTime": {
     "end_time": "2022-11-09T19:20:47.687022Z",
     "start_time": "2022-11-09T19:20:47.647637Z"
    },
    "execution": {
     "iopub.execute_input": "2023-03-14T18:50:23.068802Z",
     "iopub.status.busy": "2023-03-14T18:50:23.068288Z",
     "iopub.status.idle": "2023-03-14T18:50:28.117674Z",
     "shell.execute_reply": "2023-03-14T18:50:28.118611Z"
    },
    "papermill": {
     "duration": 5.095908,
     "end_time": "2023-03-14T18:50:28.118888",
     "exception": false,
     "start_time": "2023-03-14T18:50:23.022980",
     "status": "completed"
    },
    "tags": []
   },
   "outputs": [],
   "source": [
    "need_viz = replace_files\n",
    "need_viz |= not (os.path.isfile(ec_viz_path) and os.path.isfile(ko_viz_path) and os.path.isfile(pathway_viz_path))\n",
    "if need_viz:\n",
    "    # Create visualization artifacts\n",
    "    ec_viz = summarize(table=ec_metagenome, sample_metadata=metadata_qa).visualization\n",
    "    ko_viz = summarize(table=ko_metagenome, sample_metadata=metadata_qa).visualization\n",
    "    path_viz = summarize(table=pathway_abundance, sample_metadata=metadata_qa).visualization\n",
    "\n",
    "    # Save visualization artifacts as .qzv files\n",
    "    ec_viz.save(ec_viz_path)\n",
    "    ko_viz.save(ko_viz_path)\n",
    "    path_viz.save(pathway_viz_path)"
   ]
  },
  {
   "cell_type": "code",
   "execution_count": 11,
   "id": "57f1f4d8",
   "metadata": {
    "ExecuteTime": {
     "end_time": "2022-11-09T19:20:47.704885Z",
     "start_time": "2022-11-09T19:20:47.689312Z"
    },
    "execution": {
     "iopub.execute_input": "2023-03-14T18:50:28.220260Z",
     "iopub.status.busy": "2023-03-14T18:50:28.219597Z",
     "iopub.status.idle": "2023-03-14T18:50:32.530041Z",
     "shell.execute_reply": "2023-03-14T18:50:32.530997Z"
    },
    "papermill": {
     "duration": 4.364546,
     "end_time": "2023-03-14T18:50:32.531284",
     "exception": false,
     "start_time": "2023-03-14T18:50:28.166738",
     "status": "completed"
    },
    "tags": []
   },
   "outputs": [],
   "source": [
    "need_biom = replace_files\n",
    "need_biom |= not (os.path.isfile(ec_fpath) and os.path.isfile(ko_fpath) and os.path.isfile(pathway_fpath))\n",
    "if need_biom:\n",
    "    # Convert artifact to dataframe - transposed\n",
    "    df_pathway = pathway_abundance.view(pd.DataFrame).T\n",
    "    df_ec = ec_metagenome.view(pd.DataFrame).T\n",
    "    df_ko = ko_metagenome.view(pd.DataFrame).T\n",
    "\n",
    "    # Write dataframe to a tsv file\n",
    "    df_pathway.to_csv(pathway_fpath, sep='\\t', index=True)\n",
    "    df_ec.to_csv(ec_fpath, sep='\\t', index=True)\n",
    "    df_ko.to_csv(ko_fpath, sep='\\t', index=True)\n",
    "    \n",
    "    # Put a new column with descriptions of each function's ID\n",
    "    !add_descriptions.py -i {ec_fpath} -m EC -o {ec_desc_fpath}\n",
    "    !add_descriptions.py -i {ko_fpath} -m KO -o {ko_desc_fpath}\n",
    "    !add_descriptions.py -i {pathway_fpath} -m METACYC -o {pathway_desc_fpath}"
   ]
  }
 ],
 "metadata": {
  "celltoolbar": "Edit Metadata",
  "kernelspec": {
   "display_name": "Python 3 (ipykernel)",
   "language": "python",
   "name": "python3"
  },
  "language_info": {
   "codemirror_mode": {
    "name": "ipython",
    "version": 3
   },
   "file_extension": ".py",
   "mimetype": "text/x-python",
   "name": "python",
   "nbconvert_exporter": "python",
   "pygments_lexer": "ipython3",
   "version": "3.8.12"
  },
  "papermill": {
   "default_parameters": {},
   "duration": 663.958635,
   "end_time": "2023-03-14T18:50:33.692650",
   "environment_variables": {},
   "exception": null,
   "input_path": "nb-templates/step-picrust2-analysis.ipynb",
   "output_path": "/home/lauro/nupeb/rede-micro/redemicro-thayane/experiments/thayane-PM/nb-executed-steps/step-picrust2-analysis-thayane-PM.ipynb",
   "parameters": {
    "base_dir": "/home/lauro/nupeb/rede-micro/redemicro-thayane",
    "class_col": "menopausa-age-qcut",
    "classifier_file": "/home/lauro/nupeb/16S_classifiers_qiime2/silva-138-99-nb-classifier.qza",
    "experiment_name": "thayane-PM",
    "manifest_file": "/home/lauro/nupeb/rede-micro/redemicro-thayane/data/manifest.csv",
    "metadata_file": "/home/lauro/nupeb/rede-micro/redemicro-thayane/data/metadata.tsv",
    "overlap": 12,
    "phred": 20,
    "replace_files": false,
    "threads": 6,
    "trunc_f": 0,
    "trunc_r": 0
   },
   "start_time": "2023-03-14T18:39:29.734015",
   "version": "2.3.4"
  }
 },
 "nbformat": 4,
 "nbformat_minor": 5
}