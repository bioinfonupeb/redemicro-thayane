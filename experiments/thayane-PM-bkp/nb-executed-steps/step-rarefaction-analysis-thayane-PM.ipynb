{
 "cells": [
  {
   "cell_type": "markdown",
   "id": "de7fbc41",
   "metadata": {
    "papermill": {
     "duration": 0.018807,
     "end_time": "2023-03-10T12:06:05.245035",
     "exception": false,
     "start_time": "2023-03-10T12:06:05.226228",
     "status": "completed"
    },
    "tags": []
   },
   "source": [
    "# STEP : Rarefaction Analysis\n",
    "\n",
    "Using QIIME2 to create rarefaction graphs. List with all [classifiers](https://docs.qiime2.org/2020.6/data-resources/). \n",
    "\n",
    "\n",
    "## Methods\n",
    "- [qiime alpha_rarefaction](https://docs.qiime2.org/2023.2/plugins/available/diversity/alpha-rarefaction/)"
   ]
  },
  {
   "cell_type": "markdown",
   "id": "8fb344da",
   "metadata": {
    "papermill": {
     "duration": 0.102475,
     "end_time": "2023-03-10T12:06:05.423198",
     "exception": false,
     "start_time": "2023-03-10T12:06:05.320723",
     "status": "completed"
    },
    "tags": []
   },
   "source": [
    "## Setup and settings"
   ]
  },
  {
   "cell_type": "code",
   "execution_count": 1,
   "id": "25597367",
   "metadata": {
    "ExecuteTime": {
     "end_time": "2023-03-17T14:12:08.291517Z",
     "start_time": "2023-03-17T14:12:01.641628Z"
    },
    "execution": {
     "iopub.execute_input": "2023-03-10T12:06:05.449172Z",
     "iopub.status.busy": "2023-03-10T12:06:05.448582Z",
     "iopub.status.idle": "2023-03-10T12:06:11.986926Z",
     "shell.execute_reply": "2023-03-10T12:06:11.986132Z"
    },
    "papermill": {
     "duration": 6.555145,
     "end_time": "2023-03-10T12:06:11.990327",
     "exception": false,
     "start_time": "2023-03-10T12:06:05.435182",
     "status": "completed"
    },
    "tags": []
   },
   "outputs": [],
   "source": [
    "# Importing packages\n",
    "import os\n",
    "import pandas as pd\n",
    "from qiime2 import Artifact\n",
    "from qiime2 import Visualization\n",
    "from qiime2 import Metadata\n",
    "from qiime2.plugins.diversity.visualizers import alpha_rarefaction\n",
    "from qiime2.plugins.diversity.visualizers import beta_rarefaction\n",
    "\n",
    "import matplotlib.pyplot as plt\n",
    "\n",
    "%matplotlib inline"
   ]
  },
  {
   "cell_type": "code",
   "execution_count": 2,
   "id": "18aa5a36",
   "metadata": {
    "ExecuteTime": {
     "end_time": "2023-03-17T14:12:08.295847Z",
     "start_time": "2023-03-17T14:12:08.293389Z"
    },
    "execution": {
     "iopub.execute_input": "2023-03-10T12:06:12.021091Z",
     "iopub.status.busy": "2023-03-10T12:06:12.020801Z",
     "iopub.status.idle": "2023-03-10T12:06:12.024126Z",
     "shell.execute_reply": "2023-03-10T12:06:12.023491Z"
    },
    "papermill": {
     "duration": 0.016357,
     "end_time": "2023-03-10T12:06:12.025574",
     "exception": false,
     "start_time": "2023-03-10T12:06:12.009217",
     "status": "completed"
    },
    "tags": []
   },
   "outputs": [],
   "source": [
    "# from qiime2.plugins import demux, deblur, quality_filter, \\\n",
    "#                            metadata, feature_table, alignment, \\\n",
    "#                            phylogeny, diversity, emperor, feature_classifier, \\\n",
    "#                            taxa, composition"
   ]
  },
  {
   "cell_type": "markdown",
   "id": "cac6fc16",
   "metadata": {
    "papermill": {
     "duration": 0.010537,
     "end_time": "2023-03-10T12:06:12.059791",
     "exception": false,
     "start_time": "2023-03-10T12:06:12.049254",
     "status": "completed"
    },
    "tags": []
   },
   "source": [
    "### Receiving the parameters\n",
    "\n",
    "The following cell can receive parameters using the [papermill](https://papermill.readthedocs.io/en/latest/) tool."
   ]
  },
  {
   "cell_type": "code",
   "execution_count": 3,
   "id": "da39eceb",
   "metadata": {
    "ExecuteTime": {
     "end_time": "2023-03-17T14:12:08.308189Z",
     "start_time": "2023-03-17T14:12:08.297332Z"
    },
    "execution": {
     "iopub.execute_input": "2023-03-10T12:06:12.082195Z",
     "iopub.status.busy": "2023-03-10T12:06:12.081861Z",
     "iopub.status.idle": "2023-03-10T12:06:12.086805Z",
     "shell.execute_reply": "2023-03-10T12:06:12.086144Z"
    },
    "papermill": {
     "duration": 0.017883,
     "end_time": "2023-03-10T12:06:12.088250",
     "exception": false,
     "start_time": "2023-03-10T12:06:12.070367",
     "status": "completed"
    },
    "tags": [
     "parameters"
    ]
   },
   "outputs": [],
   "source": [
    "metadata_file = '/home/lauro/nupeb/rede-micro/redemicro-miliane-nutri/data/raw/metadata/miliane-metadata-CxAC.tsv'\n",
    "base_dir = os.path.join('/', 'home', 'lauro', 'nupeb', 'rede-micro', 'redemicro-miliane-nutri')\n",
    "experiment_name = 'miliane-CxAC-trim'\n",
    "replace_files = False"
   ]
  },
  {
   "cell_type": "code",
   "execution_count": 4,
   "id": "895e58da",
   "metadata": {
    "ExecuteTime": {
     "end_time": "2023-03-17T14:12:08.320070Z",
     "start_time": "2023-03-17T14:12:08.310377Z"
    },
    "execution": {
     "iopub.execute_input": "2023-03-10T12:06:12.112971Z",
     "iopub.status.busy": "2023-03-10T12:06:12.112579Z",
     "iopub.status.idle": "2023-03-10T12:06:12.118548Z",
     "shell.execute_reply": "2023-03-10T12:06:12.117786Z"
    },
    "papermill": {
     "duration": 0.020206,
     "end_time": "2023-03-10T12:06:12.120328",
     "exception": false,
     "start_time": "2023-03-10T12:06:12.100122",
     "status": "completed"
    },
    "tags": [
     "injected-parameters"
    ]
   },
   "outputs": [],
   "source": [
    "# Parameters\n",
    "experiment_name = \"thayane-PM\"\n",
    "base_dir = \"/home/lauro/nupeb/rede-micro/redemicro-thayane\"\n",
    "manifest_file = \"/home/lauro/nupeb/rede-micro/redemicro-thayane/data/manifest.csv\"\n",
    "metadata_file = \"/home/lauro/nupeb/rede-micro/redemicro-thayane/data/metadata.tsv\"\n",
    "class_col = \"menopausa-age-qcut\"\n",
    "classifier_file = (\n",
    "    \"/home/lauro/nupeb/16S_classifiers_qiime2/silva-138-99-nb-classifier.qza\"\n",
    ")\n",
    "replace_files = False\n",
    "phred = 20\n",
    "trunc_f = 0\n",
    "trunc_r = 0\n",
    "overlap = 12\n",
    "threads = 6\n"
   ]
  },
  {
   "cell_type": "code",
   "execution_count": 5,
   "id": "7ead3012",
   "metadata": {
    "ExecuteTime": {
     "end_time": "2023-03-17T14:12:08.332974Z",
     "start_time": "2023-03-17T14:12:08.321687Z"
    },
    "execution": {
     "iopub.execute_input": "2023-03-10T12:06:12.144285Z",
     "iopub.status.busy": "2023-03-10T12:06:12.143840Z",
     "iopub.status.idle": "2023-03-10T12:06:12.149089Z",
     "shell.execute_reply": "2023-03-10T12:06:12.148397Z"
    },
    "papermill": {
     "duration": 0.019088,
     "end_time": "2023-03-10T12:06:12.150531",
     "exception": false,
     "start_time": "2023-03-10T12:06:12.131443",
     "status": "completed"
    },
    "tags": []
   },
   "outputs": [],
   "source": [
    "experiment_folder = os.path.abspath(os.path.join(base_dir, 'experiments', experiment_name))\n",
    "img_folder = os.path.abspath(os.path.join(experiment_folder, 'imgs'))"
   ]
  },
  {
   "cell_type": "markdown",
   "id": "48e0763d",
   "metadata": {
    "papermill": {
     "duration": 0.011698,
     "end_time": "2023-03-10T12:06:12.174467",
     "exception": false,
     "start_time": "2023-03-10T12:06:12.162769",
     "status": "completed"
    },
    "tags": []
   },
   "source": [
    "### Defining names, paths and flags"
   ]
  },
  {
   "cell_type": "code",
   "execution_count": 6,
   "id": "b34cb486",
   "metadata": {
    "ExecuteTime": {
     "end_time": "2023-03-17T14:12:08.346101Z",
     "start_time": "2023-03-17T14:12:08.334828Z"
    },
    "execution": {
     "iopub.execute_input": "2023-03-10T12:06:12.197657Z",
     "iopub.status.busy": "2023-03-10T12:06:12.197239Z",
     "iopub.status.idle": "2023-03-10T12:06:12.205342Z",
     "shell.execute_reply": "2023-03-10T12:06:12.204618Z"
    },
    "papermill": {
     "duration": 0.021626,
     "end_time": "2023-03-10T12:06:12.206958",
     "exception": false,
     "start_time": "2023-03-10T12:06:12.185332",
     "status": "completed"
    },
    "tags": []
   },
   "outputs": [],
   "source": [
    "# QIIME2 Artifacts folder\n",
    "qiime_folder = os.path.join(experiment_folder, 'qiime-artifacts')\n",
    "\n",
    "# Input - DADA2 Artifacts\n",
    "dada2_tabs_path = os.path.join(qiime_folder, 'dada2-tabs.qza')\n",
    "dada2_reps_path = os.path.join(qiime_folder, 'dada2-reps.qza')\n",
    "dada2_stat_path = os.path.join(qiime_folder, 'dada2-stat.qza')\n",
    "\n",
    "# Output -Rarefaction Artifacts\n",
    "alpha_rarefaction_path = os.path.join(qiime_folder, 'alpha-rarefaction.qza')\n",
    "alpha_rarefaction_view_path = os.path.join(qiime_folder, 'alpha-rarefaction.qzv')\n",
    "\n",
    "# Flag - Load or create files\n",
    "need_tax = not (os.path.isfile(alpha_rarefaction_path)) or replace_files\n",
    "need_view = not (os.path.isfile(alpha_rarefaction_view_path)) or replace_files"
   ]
  },
  {
   "cell_type": "markdown",
   "id": "5dc24e05",
   "metadata": {
    "papermill": {
     "duration": 0.01089,
     "end_time": "2023-03-10T12:06:12.232175",
     "exception": false,
     "start_time": "2023-03-10T12:06:12.221285",
     "status": "completed"
    },
    "tags": []
   },
   "source": [
    "## Step execution\n",
    "\n",
    "### Load input files\n",
    "\n",
    "This Step import the QIIME2 `SampleData[PairedEndSequencesWithQuality]` Artifact with all demultiplexed sequences and the `Metadata` file."
   ]
  },
  {
   "cell_type": "code",
   "execution_count": 7,
   "id": "70ba4056",
   "metadata": {
    "ExecuteTime": {
     "end_time": "2023-03-17T14:12:08.372853Z",
     "start_time": "2023-03-17T14:12:08.347730Z"
    },
    "execution": {
     "iopub.execute_input": "2023-03-10T12:06:12.255776Z",
     "iopub.status.busy": "2023-03-10T12:06:12.255319Z",
     "iopub.status.idle": "2023-03-10T12:06:12.275980Z",
     "shell.execute_reply": "2023-03-10T12:06:12.275535Z"
    },
    "papermill": {
     "duration": 0.034655,
     "end_time": "2023-03-10T12:06:12.277781",
     "exception": false,
     "start_time": "2023-03-10T12:06:12.243126",
     "status": "completed"
    },
    "tags": []
   },
   "outputs": [],
   "source": [
    "#Load Metadata\n",
    "metadata_qa = Metadata.load(metadata_file)"
   ]
  },
  {
   "cell_type": "code",
   "execution_count": 8,
   "id": "de93168c",
   "metadata": {
    "ExecuteTime": {
     "end_time": "2023-03-17T14:12:09.123285Z",
     "start_time": "2023-03-17T14:12:08.374257Z"
    },
    "execution": {
     "iopub.execute_input": "2023-03-10T12:06:12.304521Z",
     "iopub.status.busy": "2023-03-10T12:06:12.304318Z",
     "iopub.status.idle": "2023-03-10T12:06:13.183586Z",
     "shell.execute_reply": "2023-03-10T12:06:13.182906Z"
    },
    "papermill": {
     "duration": 0.894002,
     "end_time": "2023-03-10T12:06:13.186722",
     "exception": false,
     "start_time": "2023-03-10T12:06:12.292720",
     "status": "completed"
    },
    "tags": []
   },
   "outputs": [],
   "source": [
    "tabs = Artifact.load(dada2_tabs_path)\n",
    "tabs_df = tabs.view(Metadata).to_dataframe().T"
   ]
  },
  {
   "cell_type": "markdown",
   "id": "f96b7d9f",
   "metadata": {
    "papermill": {
     "duration": 0.011619,
     "end_time": "2023-03-10T12:06:13.217524",
     "exception": false,
     "start_time": "2023-03-10T12:06:13.205905",
     "status": "completed"
    },
    "tags": []
   },
   "source": [
    "## Alpha Rarefaction"
   ]
  },
  {
   "cell_type": "code",
   "execution_count": 9,
   "id": "3814ef38",
   "metadata": {
    "ExecuteTime": {
     "end_time": "2023-03-17T14:12:09.129962Z",
     "start_time": "2023-03-17T14:12:09.125375Z"
    },
    "execution": {
     "iopub.execute_input": "2023-03-10T12:06:13.242206Z",
     "iopub.status.busy": "2023-03-10T12:06:13.241844Z",
     "iopub.status.idle": "2023-03-10T12:06:13.248670Z",
     "shell.execute_reply": "2023-03-10T12:06:13.248052Z"
    },
    "papermill": {
     "duration": 0.021149,
     "end_time": "2023-03-10T12:06:13.250310",
     "exception": false,
     "start_time": "2023-03-10T12:06:13.229161",
     "status": "completed"
    },
    "tags": []
   },
   "outputs": [],
   "source": [
    "# Get min and maximum feature counts to set sampling depth\n",
    "rank_df = tabs_df.sum().sort_values()\n",
    "min_feature_count = int(rank_df.min())\n",
    "max_feature_count = int(rank_df.max())"
   ]
  },
  {
   "cell_type": "code",
   "execution_count": 10,
   "id": "8f573c97",
   "metadata": {
    "ExecuteTime": {
     "end_time": "2023-03-17T14:12:11.251502Z",
     "start_time": "2023-03-17T14:12:11.236218Z"
    }
   },
   "outputs": [],
   "source": [
    "# Add new columns with samples IDs to rarefaction\n",
    "meta_df = metadata_qa.to_dataframe()\n",
    "meta_df['samples'] = meta_df.index.to_list()\n",
    "metadata_qa = Metadata(meta_df)"
   ]
  },
  {
   "cell_type": "code",
   "execution_count": 17,
   "id": "444215a6",
   "metadata": {
    "ExecuteTime": {
     "end_time": "2023-03-17T14:18:20.917349Z",
     "start_time": "2023-03-17T14:17:24.542431Z"
    },
    "execution": {
     "iopub.execute_input": "2023-03-10T12:06:13.275682Z",
     "iopub.status.busy": "2023-03-10T12:06:13.275320Z",
     "iopub.status.idle": "2023-03-10T12:06:32.143755Z",
     "shell.execute_reply": "2023-03-10T12:06:32.143182Z"
    },
    "papermill": {
     "duration": 18.884194,
     "end_time": "2023-03-10T12:06:32.146778",
     "exception": false,
     "start_time": "2023-03-10T12:06:13.262584",
     "status": "completed"
    },
    "tags": []
   },
   "outputs": [],
   "source": [
    "alpha_rar = alpha_rarefaction(\n",
    "    table = tabs,\n",
    "    max_depth = max_feature_count,\n",
    "    min_depth = max(1, min_feature_count),\n",
    "    metadata = metadata_qa,\n",
    "    steps=30,\n",
    ")"
   ]
  },
  {
   "cell_type": "code",
   "execution_count": 18,
   "id": "97340200",
   "metadata": {
    "ExecuteTime": {
     "end_time": "2023-03-17T14:18:20.967336Z",
     "start_time": "2023-03-17T14:18:20.919423Z"
    },
    "execution": {
     "iopub.execute_input": "2023-03-10T12:06:32.179679Z",
     "iopub.status.busy": "2023-03-10T12:06:32.179357Z",
     "iopub.status.idle": "2023-03-10T12:06:32.223590Z",
     "shell.execute_reply": "2023-03-10T12:06:32.223154Z"
    },
    "papermill": {
     "duration": 0.060088,
     "end_time": "2023-03-10T12:06:32.226097",
     "exception": false,
     "start_time": "2023-03-10T12:06:32.166009",
     "status": "completed"
    },
    "scrolled": true,
    "tags": []
   },
   "outputs": [
    {
     "data": {
      "text/html": [
       "<div><img onload=\"(function(div, url){\n",
       "if (typeof require !== 'undefined') {\n",
       "    var baseURL = require.toUrl('').split('/').slice(0, -2).join('/');\n",
       "} else {\n",
       "    var baseURL = JSON.parse(\n",
       "        document.getElementById('jupyter-config-data').innerHTML\n",
       "    ).baseUrl.slice(0, -1);\n",
       "}\n",
       "url = baseURL + url;\n",
       "fetch(url).then(function(res) {\n",
       "    if (res.status === 404) {\n",
       "        div.innerHTML = 'Install QIIME 2 Jupyter extension with:<br />' +\n",
       "                        '<code>jupyter serverextension enable --py qiime2' +\n",
       "                        ' --sys-prefix</code><br />then restart your server.' +\n",
       "                        '<br /><br />(Interactive output not available on ' +\n",
       "                        'static notebook viewer services like nbviewer.)';\n",
       "    } else if (res.status === 409) {\n",
       "        div.innerHTML = 'Visualization no longer in scope. Re-run this cell' +\n",
       "                        ' to see the visualization.';\n",
       "    } else if (res.ok) {\n",
       "        url = res.url;\n",
       "        div.innerHTML = '<iframe src=\\'' + url + '\\' style=\\'' +\n",
       "                        'width: 100%; height: 700px; border: 0;\\'>' +\n",
       "                        '</iframe><hr />Open in a: <a href=\\'' + url + '\\'' +\n",
       "                        ' target=\\'_blank\\'>new window</a>'\n",
       "    } else {\n",
       "        div.innerHTML = 'Something has gone wrong. Check notebook server for' +\n",
       "                        ' errors.';\n",
       "    }\n",
       "});\n",
       "})(this.parentElement, '/qiime2/redirect?location=/tmp/qiime2-archive-uvx5_zst')\" src=\"data:image/gif;base64,R0lGODlhAQABAIAAAP///wAAACH5BAEAAAAALAAAAAABAAEAAAICRAEAOw==\" /></div>"
      ],
      "text/plain": [
       "<visualization: Visualization uuid: 68a9d8be-83e7-4e7c-84ed-3729731c4d44>"
      ]
     },
     "execution_count": 18,
     "metadata": {},
     "output_type": "execute_result"
    }
   ],
   "source": [
    "alpha_rar.visualization.save(alpha_rarefaction_view_path)\n",
    "alpha_rar.visualization"
   ]
  },
  {
   "cell_type": "markdown",
   "id": "42e4d7ff",
   "metadata": {
    "papermill": {
     "duration": 0.011682,
     "end_time": "2023-03-10T12:06:32.253783",
     "exception": false,
     "start_time": "2023-03-10T12:06:32.242101",
     "status": "completed"
    },
    "tags": []
   },
   "source": [
    "## Beta Rarefaction"
   ]
  },
  {
   "cell_type": "code",
   "execution_count": 19,
   "id": "6a724176",
   "metadata": {
    "ExecuteTime": {
     "end_time": "2023-03-17T14:20:58.159777Z",
     "start_time": "2023-03-17T14:20:55.815072Z"
    },
    "execution": {
     "iopub.execute_input": "2023-03-10T12:06:32.290211Z",
     "iopub.status.busy": "2023-03-10T12:06:32.289998Z",
     "iopub.status.idle": "2023-03-10T12:06:34.312989Z",
     "shell.execute_reply": "2023-03-10T12:06:34.312518Z"
    },
    "papermill": {
     "duration": 2.038616,
     "end_time": "2023-03-10T12:06:34.315940",
     "exception": false,
     "start_time": "2023-03-10T12:06:32.277324",
     "status": "completed"
    },
    "tags": []
   },
   "outputs": [
    {
     "name": "stderr",
     "output_type": "stream",
     "text": [
      "/home/lauro/anaconda3/envs/qiime2-2022.2/lib/python3.8/site-packages/scipy/stats/_stats_py.py:4529: SpearmanRConstantInputWarning: An input array is constant; the correlation coefficient is not defined.\n",
      "  warnings.warn(SpearmanRConstantInputWarning())\n"
     ]
    },
    {
     "data": {
      "image/png": "[encoded data removed]",
      "text/plain": [
       "<Figure size 432x288 with 2 Axes>"
      ]
     },
     "metadata": {
      "needs_background": "light"
     },
     "output_type": "display_data"
    }
   ],
   "source": [
    "choices = ('matching', 'aitchison', 'euclidean', 'generalized_unifrac', 'canberra', 'russellrao', 'braycurtis', 'cosine', 'jensenshannon', 'yule', 'weighted_normalized_unifrac', 'unweighted_unifrac', 'hamming', 'weighted_unifrac', 'cityblock', 'sokalmichener', 'seuclidean', 'rogerstanimoto', 'correlation', 'minkowski', 'kulsinski', 'chebyshev', 'sqeuclidean', 'sokalsneath', 'jaccard', 'dice', 'canberra_adkins')\n",
    "clustering_methods = ('nj', 'upgma')\n",
    "correlation_methods = ('pearson', 'spearman')\n",
    "\n",
    "sampling_depth = max(min_feature_count, 1)\n",
    "metric = 'braycurtis'\n",
    "clustering_method = clustering_methods[0]\n",
    "correlation_method = correlation_methods[1]\n",
    "\n",
    "beta_rar = beta_rarefaction(\n",
    "    table = tabs,\n",
    "    sampling_depth  = sampling_depth,\n",
    "    metadata = metadata_qa,\n",
    "    metric = metric,\n",
    "    clustering_method = clustering_method,\n",
    "    correlation_method = correlation_method,\n",
    ")"
   ]
  },
  {
   "cell_type": "code",
   "execution_count": 20,
   "id": "f441c148",
   "metadata": {
    "ExecuteTime": {
     "end_time": "2023-03-17T14:20:58.288407Z",
     "start_time": "2023-03-17T14:20:58.161648Z"
    },
    "execution": {
     "iopub.execute_input": "2023-03-10T12:06:34.363002Z",
     "iopub.status.busy": "2023-03-10T12:06:34.362808Z",
     "iopub.status.idle": "2023-03-10T12:06:34.461777Z",
     "shell.execute_reply": "2023-03-10T12:06:34.461415Z"
    },
    "papermill": {
     "duration": 0.119558,
     "end_time": "2023-03-10T12:06:34.465055",
     "exception": false,
     "start_time": "2023-03-10T12:06:34.345497",
     "status": "completed"
    },
    "tags": []
   },
   "outputs": [
    {
     "data": {
      "text/html": [
       "<div><img onload=\"(function(div, url){\n",
       "if (typeof require !== 'undefined') {\n",
       "    var baseURL = require.toUrl('').split('/').slice(0, -2).join('/');\n",
       "} else {\n",
       "    var baseURL = JSON.parse(\n",
       "        document.getElementById('jupyter-config-data').innerHTML\n",
       "    ).baseUrl.slice(0, -1);\n",
       "}\n",
       "url = baseURL + url;\n",
       "fetch(url).then(function(res) {\n",
       "    if (res.status === 404) {\n",
       "        div.innerHTML = 'Install QIIME 2 Jupyter extension with:<br />' +\n",
       "                        '<code>jupyter serverextension enable --py qiime2' +\n",
       "                        ' --sys-prefix</code><br />then restart your server.' +\n",
       "                        '<br /><br />(Interactive output not available on ' +\n",
       "                        'static notebook viewer services like nbviewer.)';\n",
       "    } else if (res.status === 409) {\n",
       "        div.innerHTML = 'Visualization no longer in scope. Re-run this cell' +\n",
       "                        ' to see the visualization.';\n",
       "    } else if (res.ok) {\n",
       "        url = res.url;\n",
       "        div.innerHTML = '<iframe src=\\'' + url + '\\' style=\\'' +\n",
       "                        'width: 100%; height: 700px; border: 0;\\'>' +\n",
       "                        '</iframe><hr />Open in a: <a href=\\'' + url + '\\'' +\n",
       "                        ' target=\\'_blank\\'>new window</a>'\n",
       "    } else {\n",
       "        div.innerHTML = 'Something has gone wrong. Check notebook server for' +\n",
       "                        ' errors.';\n",
       "    }\n",
       "});\n",
       "})(this.parentElement, '/qiime2/redirect?location=/tmp/qiime2-archive-_5g2kka5')\" src=\"data:image/gif;base64,R0lGODlhAQABAIAAAP///wAAACH5BAEAAAAALAAAAAABAAEAAAICRAEAOw==\" /></div>"
      ],
      "text/plain": [
       "<visualization: Visualization uuid: e016511c-c556-42d4-a837-e7311eaaa2d4>"
      ]
     },
     "execution_count": 20,
     "metadata": {},
     "output_type": "execute_result"
    }
   ],
   "source": [
    "plot_tmp = f'{metric}-{clustering_method}-{correlation_method}-{sampling_depth}'\n",
    "beta_rarefaction_view_path = os.path.join(qiime_folder, f'beta-rarefaction-{plot_tmp}.qzv')\n",
    "beta_rar.visualization.save(beta_rarefaction_view_path)\n",
    "\n",
    "beta_rar.visualization"
   ]
  }
 ],
 "metadata": {
  "celltoolbar": "Edit Metadata",
  "kernelspec": {
   "display_name": "Python 3 (ipykernel)",
   "language": "python",
   "name": "python3"
  },
  "language_info": {
   "codemirror_mode": {
    "name": "ipython",
    "version": 3
   },
   "file_extension": ".py",
   "mimetype": "text/x-python",
   "name": "python",
   "nbconvert_exporter": "python",
   "pygments_lexer": "ipython3",
   "version": "3.8.12"
  },
  "papermill": {
   "default_parameters": {},
   "duration": 31.540404,
   "end_time": "2023-03-10T12:06:35.204612",
   "environment_variables": {},
   "exception": null,
   "input_path": "nb-templates/step-rarefaction-analysis.ipynb",
   "output_path": "/home/lauro/nupeb/rede-micro/redemicro-thayane/experiments/thayane-PM/nb-executed-steps/step-rarefaction-analysis-thayane-PM.ipynb",
   "parameters": {
    "base_dir": "/home/lauro/nupeb/rede-micro/redemicro-thayane",
    "class_col": "menopausa-age-qcut",
    "classifier_file": "/home/lauro/nupeb/16S_classifiers_qiime2/silva-138-99-nb-classifier.qza",
    "experiment_name": "thayane-PM",
    "manifest_file": "/home/lauro/nupeb/rede-micro/redemicro-thayane/data/manifest.csv",
    "metadata_file": "/home/lauro/nupeb/rede-micro/redemicro-thayane/data/metadata.tsv",
    "overlap": 12,
    "phred": 20,
    "replace_files": false,
    "threads": 6,
    "trunc_f": 0,
    "trunc_r": 0
   },
   "start_time": "2023-03-10T12:06:03.664208",
   "version": "2.3.4"
  },
  "toc-autonumbering": false,
  "toc-showcode": false,
  "toc-showmarkdowntxt": false
 },
 "nbformat": 4,
 "nbformat_minor": 5
}
