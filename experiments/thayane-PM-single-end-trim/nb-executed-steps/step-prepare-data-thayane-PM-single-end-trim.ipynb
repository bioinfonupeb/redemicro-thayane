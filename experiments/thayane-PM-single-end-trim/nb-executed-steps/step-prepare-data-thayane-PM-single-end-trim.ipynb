{
 "cells": [
  {
   "cell_type": "markdown",
   "id": "7004ab2f",
   "metadata": {
    "papermill": {
     "duration": 0.00235,
     "end_time": "2024-02-19T22:56:10.270715",
     "exception": false,
     "start_time": "2024-02-19T22:56:10.268365",
     "status": "completed"
    },
    "tags": []
   },
   "source": [
    "# Prepare data for Pipeline"
   ]
  },
  {
   "cell_type": "markdown",
   "id": "c0497e63",
   "metadata": {
    "papermill": {
     "duration": 0.001582,
     "end_time": "2024-02-19T22:56:10.275992",
     "exception": false,
     "start_time": "2024-02-19T22:56:10.274410",
     "status": "completed"
    },
    "tags": []
   },
   "source": [
    "## Setup and settings"
   ]
  },
  {
   "cell_type": "code",
   "execution_count": 1,
   "id": "3ccda4ea",
   "metadata": {
    "ExecuteTime": {
     "end_time": "2022-10-14T14:33:37.863523Z",
     "start_time": "2022-10-14T14:33:14.145712Z"
    },
    "execution": {
     "iopub.execute_input": "2024-02-19T22:56:10.283854Z",
     "iopub.status.busy": "2024-02-19T22:56:10.283680Z",
     "iopub.status.idle": "2024-02-19T22:56:15.178459Z",
     "shell.execute_reply": "2024-02-19T22:56:15.177954Z"
    },
    "papermill": {
     "duration": 4.898349,
     "end_time": "2024-02-19T22:56:15.179671",
     "exception": false,
     "start_time": "2024-02-19T22:56:10.281322",
     "status": "completed"
    },
    "tags": []
   },
   "outputs": [],
   "source": [
    "# Importing packages\n",
    "import os\n",
    "import yaml\n",
    "import logging\n",
    "import pandas as pd\n",
    "from Bio.Seq import Seq\n",
    "from qiime2 import Artifact, Visualization, Metadata\n",
    "from qiime2.plugins import demux\n",
    "from qiime2.plugins.cutadapt.methods import trim_paired, trim_single\n",
    "from qiime2.plugins.demux.methods import filter_samples"
   ]
  },
  {
   "cell_type": "markdown",
   "id": "05a3fd29",
   "metadata": {
    "papermill": {
     "duration": 0.001645,
     "end_time": "2024-02-19T22:56:15.183176",
     "exception": false,
     "start_time": "2024-02-19T22:56:15.181531",
     "status": "completed"
    },
    "tags": []
   },
   "source": [
    "### Receiving the parameters\n",
    "\n",
    "The following cell can receive parameters using the [papermill](https://papermill.readthedocs.io/en/latest/) tool."
   ]
  },
  {
   "cell_type": "code",
   "execution_count": 2,
   "id": "3c37d8e2",
   "metadata": {
    "ExecuteTime": {
     "end_time": "2022-06-28T18:50:41.594341Z",
     "start_time": "2022-06-28T18:50:41.591544Z"
    },
    "execution": {
     "iopub.execute_input": "2024-02-19T22:56:15.187347Z",
     "iopub.status.busy": "2024-02-19T22:56:15.187057Z",
     "iopub.status.idle": "2024-02-19T22:56:15.190285Z",
     "shell.execute_reply": "2024-02-19T22:56:15.189835Z"
    },
    "papermill": {
     "duration": 0.006414,
     "end_time": "2024-02-19T22:56:15.191193",
     "exception": false,
     "start_time": "2024-02-19T22:56:15.184779",
     "status": "completed"
    },
    "tags": [
     "parameters"
    ]
   },
   "outputs": [],
   "source": [
    "params_path = os.path.join('..', 'params', 'parameter-set-01.yaml')\n",
    "experiment_name = 'exp-01'\n",
    "base_dir = os.path.join('/', 'home', 'username', 'pipeline-dir')\n",
    "manifest_file = os.path.join(base_dir, 'data', 'raw', 'manifest', 'manifest.csv')\n",
    "replace_files = False\n",
    "trim = None\n",
    "metadata_file = None\n",
    "threads = 1\n",
    "demux_file = None"
   ]
  },
  {
   "cell_type": "code",
   "execution_count": 3,
   "id": "96694139",
   "metadata": {
    "execution": {
     "iopub.execute_input": "2024-02-19T22:56:15.195203Z",
     "iopub.status.busy": "2024-02-19T22:56:15.195046Z",
     "iopub.status.idle": "2024-02-19T22:56:15.198082Z",
     "shell.execute_reply": "2024-02-19T22:56:15.197605Z"
    },
    "papermill": {
     "duration": 0.006163,
     "end_time": "2024-02-19T22:56:15.198976",
     "exception": false,
     "start_time": "2024-02-19T22:56:15.192813",
     "status": "completed"
    },
    "tags": [
     "injected-parameters"
    ]
   },
   "outputs": [],
   "source": [
    "# Parameters\n",
    "experiment_name = \"thayane-PM-single-end-trim\"\n",
    "base_dir = \"/mnt/nupeb/rede-micro/redemicro-thayane\"\n",
    "manifest_file = \"/mnt/nupeb/rede-micro/redemicro-thayane/data/manifest-single.csv\"\n",
    "metadata_file = \"/mnt/nupeb/rede-micro/redemicro-thayane/data/single-end-metadata.tsv\"\n",
    "class_col = \"above_10\"\n",
    "classifier_file = \"/mnt/nupeb/rede-micro/datasets/16S_classifiers_qiime2/silva-138-99-nb-classifier.qza\"\n",
    "replace_files = False\n",
    "phred = 20\n",
    "trunc_f = 0\n",
    "trunc_r = 0\n",
    "overlap = 12\n",
    "threads = 6\n",
    "trim = {\n",
    "    \"overlap\": 8,\n",
    "    \"forward_primer\": \"CCTACGGGRSGCAGCAG\",\n",
    "    \"reverse_primer\": \"GGACTACHVGGGTWTCTAAT\",\n",
    "}\n"
   ]
  },
  {
   "cell_type": "code",
   "execution_count": 4,
   "id": "aed966e3",
   "metadata": {
    "ExecuteTime": {
     "end_time": "2023-08-18T15:40:31.070885Z",
     "start_time": "2023-08-18T15:40:30.611671Z"
    },
    "execution": {
     "iopub.execute_input": "2024-02-19T22:56:15.203097Z",
     "iopub.status.busy": "2024-02-19T22:56:15.202942Z",
     "iopub.status.idle": "2024-02-19T22:56:15.205739Z",
     "shell.execute_reply": "2024-02-19T22:56:15.205312Z"
    },
    "papermill": {
     "duration": 0.005996,
     "end_time": "2024-02-19T22:56:15.206676",
     "exception": false,
     "start_time": "2024-02-19T22:56:15.200680",
     "status": "completed"
    },
    "tags": []
   },
   "outputs": [],
   "source": [
    "out_dir = os.path.join(base_dir, 'experiments', experiment_name, 'qiime-artifacts')\n",
    "img_folder = os.path.abspath(os.path.join(base_dir, 'experiments', experiment_name, 'imgs'))\n",
    "data_dir =  os.path.abspath(os.path.join(base_dir, 'data'))\n",
    "raw_data_dir =  os.path.abspath(os.path.join(data_dir, 'raw'))\n",
    "interim_data_dir =  os.path.abspath(os.path.join(data_dir, 'interim'))"
   ]
  },
  {
   "cell_type": "markdown",
   "id": "0fcd3387",
   "metadata": {
    "papermill": {
     "duration": 0.001676,
     "end_time": "2024-02-19T22:56:15.210003",
     "exception": false,
     "start_time": "2024-02-19T22:56:15.208327",
     "status": "completed"
    },
    "tags": []
   },
   "source": [
    "### Defining names and paths"
   ]
  },
  {
   "cell_type": "code",
   "execution_count": 5,
   "id": "ca95248f",
   "metadata": {
    "ExecuteTime": {
     "end_time": "2022-06-28T18:50:41.632125Z",
     "start_time": "2022-06-28T18:50:41.619710Z"
    },
    "execution": {
     "iopub.execute_input": "2024-02-19T22:56:15.214092Z",
     "iopub.status.busy": "2024-02-19T22:56:15.213921Z",
     "iopub.status.idle": "2024-02-19T22:56:15.216499Z",
     "shell.execute_reply": "2024-02-19T22:56:15.216195Z"
    },
    "papermill": {
     "duration": 0.005694,
     "end_time": "2024-02-19T22:56:15.217382",
     "exception": false,
     "start_time": "2024-02-19T22:56:15.211688",
     "status": "completed"
    },
    "tags": []
   },
   "outputs": [],
   "source": [
    "# Create path if it not exists\n",
    "if not os.path.isdir(out_dir):\n",
    "    os.makedirs(out_dir)\n",
    "    print(f'New qiime-artifacts folder path created: {out_dir}')\n",
    "\n",
    "# Create path if it not exists\n",
    "if not os.path.isdir(img_folder):\n",
    "    os.makedirs(img_folder)\n",
    "    print(f'New img folder path created: {img_folder}')"
   ]
  },
  {
   "cell_type": "code",
   "execution_count": 6,
   "id": "2cd7b435",
   "metadata": {
    "execution": {
     "iopub.execute_input": "2024-02-19T22:56:15.221516Z",
     "iopub.status.busy": "2024-02-19T22:56:15.221284Z",
     "iopub.status.idle": "2024-02-19T22:56:15.226905Z",
     "shell.execute_reply": "2024-02-19T22:56:15.226474Z"
    },
    "papermill": {
     "duration": 0.008768,
     "end_time": "2024-02-19T22:56:15.227860",
     "exception": false,
     "start_time": "2024-02-19T22:56:15.219092",
     "status": "completed"
    },
    "tags": []
   },
   "outputs": [],
   "source": [
    "manifest_df = pd.read_csv(manifest_file)\n",
    "n_directions = len(manifest_df['direction'].unique())\n",
    "if n_directions == 1:\n",
    "    d_type = 'SampleData[SequencesWithQuality]'\n",
    "    v_type = 'SingleEndFastqManifestPhred33'\n",
    "    direction = 'single'\n",
    "elif n_directions == 2:\n",
    "    d_type = 'SampleData[PairedEndSequencesWithQuality]'\n",
    "    v_type = 'PairedEndFastqManifestPhred33'\n",
    "    direction = 'paired'\n",
    "else:\n",
    "    print(f'ERROR: invalid number of directions {n_directions}')"
   ]
  },
  {
   "cell_type": "code",
   "execution_count": 7,
   "id": "9a8ff806",
   "metadata": {
    "execution": {
     "iopub.execute_input": "2024-02-19T22:56:15.231986Z",
     "iopub.status.busy": "2024-02-19T22:56:15.231857Z",
     "iopub.status.idle": "2024-02-19T22:56:15.234671Z",
     "shell.execute_reply": "2024-02-19T22:56:15.234263Z"
    },
    "papermill": {
     "duration": 0.006053,
     "end_time": "2024-02-19T22:56:15.235622",
     "exception": false,
     "start_time": "2024-02-19T22:56:15.229569",
     "status": "completed"
    },
    "tags": []
   },
   "outputs": [],
   "source": [
    "sufix = str(direction)\n",
    "if trim and len(trim.keys()) == 3:\n",
    "    sufix += f'-{trim}'\n",
    "    \n",
    "# Define the output artifact full path\n",
    "if demux_file is None:\n",
    "    demux_file = os.path.join(out_dir, f'demux-{direction}.qza')\n",
    "demux_view = os.path.join(out_dir, f'demux-{direction}.qzv')\n",
    "demux_file_trim = os.path.join(out_dir, f'demux-{direction}-trim.qza')\n",
    "demux_view_trim = os.path.join(out_dir, f'demux-{direction}-trim.qzv')"
   ]
  },
  {
   "cell_type": "markdown",
   "id": "5ff8d65f",
   "metadata": {
    "papermill": {
     "duration": 0.001762,
     "end_time": "2024-02-19T22:56:15.239075",
     "exception": false,
     "start_time": "2024-02-19T22:56:15.237313",
     "status": "completed"
    },
    "tags": []
   },
   "source": [
    "## Step execution\n",
    "\n",
    "This Step import all `fastq` files in a **QIIME2 Artifact** object and save it to a new `qza` file."
   ]
  },
  {
   "cell_type": "code",
   "execution_count": 8,
   "id": "49029efc",
   "metadata": {
    "execution": {
     "iopub.execute_input": "2024-02-19T22:56:15.243471Z",
     "iopub.status.busy": "2024-02-19T22:56:15.242975Z",
     "iopub.status.idle": "2024-02-19T22:56:15.254107Z",
     "shell.execute_reply": "2024-02-19T22:56:15.253693Z"
    },
    "papermill": {
     "duration": 0.014225,
     "end_time": "2024-02-19T22:56:15.255008",
     "exception": false,
     "start_time": "2024-02-19T22:56:15.240783",
     "status": "completed"
    },
    "tags": []
   },
   "outputs": [],
   "source": [
    "# If the metadata file is not defined, use the default metadata file\n",
    "metadata_qa = Metadata.load(metadata_file)"
   ]
  },
  {
   "cell_type": "code",
   "execution_count": 9,
   "id": "9422fb04",
   "metadata": {
    "ExecuteTime": {
     "end_time": "2022-06-28T19:44:58.640338Z",
     "start_time": "2022-06-28T18:50:41.633657Z"
    },
    "execution": {
     "iopub.execute_input": "2024-02-19T22:56:15.259244Z",
     "iopub.status.busy": "2024-02-19T22:56:15.258974Z",
     "iopub.status.idle": "2024-02-19T22:56:15.428055Z",
     "shell.execute_reply": "2024-02-19T22:56:15.427591Z"
    },
    "papermill": {
     "duration": 0.172442,
     "end_time": "2024-02-19T22:56:15.429198",
     "exception": false,
     "start_time": "2024-02-19T22:56:15.256756",
     "status": "completed"
    },
    "tags": []
   },
   "outputs": [],
   "source": [
    "# If the demux file does not exist or if the old file will be replaced\n",
    "if not os.path.isfile(demux_file) or replace_files:\n",
    "    \n",
    "    interim_demux_path = os.path.join(interim_data_dir, f'demux-{direction}.qza')\n",
    "    \n",
    "    # Create new file path for interim dir\n",
    "    if not os.path.isdir(interim_data_dir):\n",
    "        !mkdir -p {interim_data_dir}\n",
    "        \n",
    "    # Load Artifact from interim folder\n",
    "    if os.path.isfile(interim_demux_path):\n",
    "        artifact = Artifact.load(interim_demux_path)\n",
    "        \n",
    "    # Create new Artifact using Manifest\n",
    "    else:\n",
    "        artifact = Artifact.import_data(d_type, manifest_file, view_type=v_type)\n",
    "        if not os.path.isfile(interim_demux_path):\n",
    "            artifact.save(interim_demux_path)\n",
    "            \n",
    "    # Filter and Save Artifact\n",
    "    artifact = filter_samples(demux=artifact, metadata=metadata_qa).filtered_demux\n",
    "    artifact.save(demux_file)\n",
    "    \n",
    "    # Visualization\n",
    "    if os.path.isfile(demux_view):\n",
    "        demux_view_obj = Visualization.load(demux_view)\n",
    "    else:\n",
    "        demux_view_obj = demux.visualizers.summarize(artifact).visualization\n",
    "        Visualization.save(demux_view_obj, filepath=demux_view)\n",
    "        \n",
    "elif os.path.isfile(demux_file):\n",
    "    \n",
    "    # Load Artifact\n",
    "    artifact = Artifact.load(demux_file)\n",
    "    artifact = filter_samples(demux=artifact, metadata=metadata_qa).filtered_demux\n",
    "    \n",
    "    # Visualization\n",
    "    if os.path.isfile(demux_view):\n",
    "        demux_view_obj = Visualization.load(demux_view)\n",
    "    else:\n",
    "        demux_view_obj = demux.visualizers.summarize(artifact).visualization\n",
    "        Visualization.save(demux_view_obj, filepath=demux_view)"
   ]
  },
  {
   "cell_type": "markdown",
   "id": "f059705a",
   "metadata": {
    "papermill": {
     "duration": 0.001787,
     "end_time": "2024-02-19T22:56:15.432977",
     "exception": false,
     "start_time": "2024-02-19T22:56:15.431190",
     "status": "completed"
    },
    "tags": []
   },
   "source": [
    "## Step report\n"
   ]
  },
  {
   "cell_type": "code",
   "execution_count": 10,
   "id": "7f2eba07",
   "metadata": {
    "ExecuteTime": {
     "end_time": "2022-06-28T19:47:56.704841Z",
     "start_time": "2022-06-28T19:47:56.611846Z"
    },
    "execution": {
     "iopub.execute_input": "2024-02-19T22:56:15.437296Z",
     "iopub.status.busy": "2024-02-19T22:56:15.437117Z",
     "iopub.status.idle": "2024-02-19T22:56:15.442549Z",
     "shell.execute_reply": "2024-02-19T22:56:15.442164Z"
    },
    "papermill": {
     "duration": 0.008693,
     "end_time": "2024-02-19T22:56:15.443511",
     "exception": false,
     "start_time": "2024-02-19T22:56:15.434818",
     "status": "completed"
    },
    "tags": []
   },
   "outputs": [
    {
     "name": "stdout",
     "output_type": "stream",
     "text": [
      "<visualization: Visualization uuid: e6a49c54-3c12-43b7-9056-0db2c08bb18f>\n"
     ]
    },
    {
     "data": {
      "text/html": [
       "<div><img onload=\"(function(div, url){\n",
       "if (typeof require !== 'undefined') {\n",
       "    var baseURL = require.toUrl('').split('/').slice(0, -2).join('/');\n",
       "} else {\n",
       "    var baseURL = JSON.parse(\n",
       "        document.getElementById('jupyter-config-data').innerHTML\n",
       "    ).baseUrl.slice(0, -1);\n",
       "}\n",
       "url = baseURL + url;\n",
       "fetch(url).then(function(res) {\n",
       "    if (res.status === 404) {\n",
       "        div.innerHTML = 'Install QIIME 2 Jupyter extension with:<br />' +\n",
       "                        '<code>jupyter serverextension enable --py qiime2' +\n",
       "                        ' --sys-prefix</code><br />then restart your server.' +\n",
       "                        '<br /><br />(Interactive output not available on ' +\n",
       "                        'static notebook viewer services like nbviewer.)';\n",
       "    } else if (res.status === 409) {\n",
       "        div.innerHTML = 'Visualization no longer in scope. Re-run this cell' +\n",
       "                        ' to see the visualization.';\n",
       "    } else if (res.ok) {\n",
       "        url = res.url;\n",
       "        div.innerHTML = '<iframe src=\\'' + url + '\\' style=\\'' +\n",
       "                        'width: 100%; height: 700px; border: 0;\\'>' +\n",
       "                        '</iframe><hr />Open in a: <a href=\\'' + url + '\\'' +\n",
       "                        ' target=\\'_blank\\'>new window</a>'\n",
       "    } else {\n",
       "        div.innerHTML = 'Something has gone wrong. Check notebook server for' +\n",
       "                        ' errors.';\n",
       "    }\n",
       "});\n",
       "})(this.parentElement, '/qiime2/redirect?location=/tmp/qiime2/lauro/data/e6a49c54-3c12-43b7-9056-0db2c08bb18f')\" src=\"data:image/gif;base64,R0lGODlhAQABAIAAAP///wAAACH5BAEAAAAALAAAAAABAAEAAAICRAEAOw==\" /></div>"
      ],
      "text/plain": [
       "<visualization: Visualization uuid: e6a49c54-3c12-43b7-9056-0db2c08bb18f>"
      ]
     },
     "execution_count": 10,
     "metadata": {},
     "output_type": "execute_result"
    }
   ],
   "source": [
    "print(demux_view_obj)\n",
    "\n",
    "# Render Visualization\n",
    "demux_view_obj"
   ]
  },
  {
   "cell_type": "markdown",
   "id": "145991a3",
   "metadata": {
    "papermill": {
     "duration": 0.001924,
     "end_time": "2024-02-19T22:56:15.447354",
     "exception": false,
     "start_time": "2024-02-19T22:56:15.445430",
     "status": "completed"
    },
    "tags": []
   },
   "source": [
    "[cutadapt](https://docs.qiime2.org/2022.2/plugins/available/cutadapt/trim-paired/)\n",
    "\n",
    "We trim the forward primer and the reverse complement of the reverse primer from the forward reads. We trim the reverse primer and reverse complement of the forward primer from the reverse reads."
   ]
  },
  {
   "cell_type": "code",
   "execution_count": 11,
   "id": "5fef2e03",
   "metadata": {
    "execution": {
     "iopub.execute_input": "2024-02-19T22:56:15.452051Z",
     "iopub.status.busy": "2024-02-19T22:56:15.451647Z",
     "iopub.status.idle": "2024-02-19T22:56:17.904601Z",
     "shell.execute_reply": "2024-02-19T22:56:17.904116Z"
    },
    "papermill": {
     "duration": 2.456576,
     "end_time": "2024-02-19T22:56:17.905801",
     "exception": false,
     "start_time": "2024-02-19T22:56:15.449225",
     "status": "completed"
    },
    "tags": []
   },
   "outputs": [
    {
     "name": "stdout",
     "output_type": "stream",
     "text": [
      "Running external command line application. This may print messages to stdout and/or stderr.\n",
      "The commands to be run are below. These commands cannot be manually re-run as they will depend on temporary files that no longer exist.\n",
      "\n",
      "Command: cutadapt --cores 6 --error-rate 0.01 --times 1 --overlap 3 --minimum-length 1 -q 0,0 --quality-base 33 -o /tmp/q2-CasavaOneEightSingleLanePerSampleDirFmt-ydo0t00k/M01_0_L001_R1_001.fastq.gz --adapter ATTAGAWACCCBDGTAGTCC --front CCTACGGGRSGCAGCAG --no-indels --match-read-wildcards --discard-untrimmed /tmp/qiime2/lauro/data/eb996efa-66bc-4362-9227-c8b55e8fda78/data/M01_0_L001_R1_001.fastq.gz\n",
      "\n",
      "This is cutadapt 4.4 with Python 3.8.16\n",
      "Command line parameters: --cores 6 --error-rate 0.01 --times 1 --overlap 3 --minimum-length 1 -q 0,0 --quality-base 33 -o /tmp/q2-CasavaOneEightSingleLanePerSampleDirFmt-ydo0t00k/M01_0_L001_R1_001.fastq.gz --adapter ATTAGAWACCCBDGTAGTCC --front CCTACGGGRSGCAGCAG --no-indels --match-read-wildcards --discard-untrimmed /tmp/qiime2/lauro/data/eb996efa-66bc-4362-9227-c8b55e8fda78/data/M01_0_L001_R1_001.fastq.gz\n",
      "Processing single-end reads on 6 cores ...\n"
     ]
    },
    {
     "name": "stdout",
     "output_type": "stream",
     "text": [
      "Finished in 0.193 s (2.337 µs/read; 25.68 M reads/minute).\n",
      "\n",
      "=== Summary ===\n",
      "\n",
      "Total reads processed:                  82,485\n",
      "Reads with adapters:                         1 (0.0%)\n",
      "\n",
      "== Read fate breakdown ==\n",
      "Reads that were too short:                   0 (0.0%)\n",
      "Reads discarded as untrimmed:           82,484 (100.0%)\n",
      "Reads written (passing filters):             1 (0.0%)\n",
      "\n",
      "Total basepairs processed:    33,734,965 bp\n",
      "Quality-trimmed:                       0 bp (0.0%)\n",
      "Total written (filtered):            396 bp (0.0%)\n",
      "\n",
      "=== Adapter 1 ===\n",
      "\n",
      "Sequence: ATTAGAWACCCBDGTAGTCC; Type: regular 3'; Length: 20; Trimmed: 0 times\n",
      "\n",
      "=== Adapter 2 ===\n",
      "\n",
      "Sequence: CCTACGGGRSGCAGCAG; Type: regular 5'; Length: 17; Trimmed: 1 times\n",
      "\n",
      "Minimum overlap: 3\n",
      "No. of allowed errors:\n",
      "1-17 bp: 0\n",
      "\n",
      "Overview of removed sequences\n",
      "length\tcount\texpect\tmax.err\terror counts\n",
      "3\t1\t1288.8\t0\t1\n",
      "\n",
      "Command: cutadapt --cores 6 --error-rate 0.01 --times 1 --overlap 3 --minimum-length 1 -q 0,0 --quality-base 33 -o /tmp/q2-CasavaOneEightSingleLanePerSampleDirFmt-ydo0t00k/M03_1_L001_R1_001.fastq.gz --adapter ATTAGAWACCCBDGTAGTCC --front CCTACGGGRSGCAGCAG --no-indels --match-read-wildcards --discard-untrimmed /tmp/qiime2/lauro/data/eb996efa-66bc-4362-9227-c8b55e8fda78/data/M03_1_L001_R1_001.fastq.gz\n",
      "\n",
      "This is cutadapt 4.4 with Python 3.8.16\n",
      "Command line parameters: --cores 6 --error-rate 0.01 --times 1 --overlap 3 --minimum-length 1 -q 0,0 --quality-base 33 -o /tmp/q2-CasavaOneEightSingleLanePerSampleDirFmt-ydo0t00k/M03_1_L001_R1_001.fastq.gz --adapter ATTAGAWACCCBDGTAGTCC --front CCTACGGGRSGCAGCAG --no-indels --match-read-wildcards --discard-untrimmed /tmp/qiime2/lauro/data/eb996efa-66bc-4362-9227-c8b55e8fda78/data/M03_1_L001_R1_001.fastq.gz\n",
      "Processing single-end reads on 6 cores ...\n"
     ]
    },
    {
     "name": "stdout",
     "output_type": "stream",
     "text": [
      "Finished in 0.158 s (2.407 µs/read; 24.93 M reads/minute).\n",
      "\n",
      "=== Summary ===\n",
      "\n",
      "Total reads processed:                  65,820\n",
      "Reads with adapters:                         0 (0.0%)\n",
      "\n",
      "== Read fate breakdown ==\n",
      "Reads that were too short:                   0 (0.0%)\n",
      "Reads discarded as untrimmed:           65,820 (100.0%)\n",
      "Reads written (passing filters):             0 (0.0%)\n",
      "\n",
      "Total basepairs processed:    27,269,491 bp\n",
      "Quality-trimmed:                       0 bp (0.0%)\n",
      "Total written (filtered):              0 bp (0.0%)\n",
      "\n",
      "=== Adapter 1 ===\n",
      "\n",
      "Sequence: ATTAGAWACCCBDGTAGTCC; Type: regular 3'; Length: 20; Trimmed: 0 times\n",
      "\n",
      "=== Adapter 2 ===\n",
      "\n",
      "Sequence: CCTACGGGRSGCAGCAG; Type: regular 5'; Length: 17; Trimmed: 0 times\n",
      "\n",
      "Command: cutadapt --cores 6 --error-rate 0.01 --times 1 --overlap 3 --minimum-length 1 -q 0,0 --quality-base 33 -o /tmp/q2-CasavaOneEightSingleLanePerSampleDirFmt-ydo0t00k/M06_2_L001_R1_001.fastq.gz --adapter ATTAGAWACCCBDGTAGTCC --front CCTACGGGRSGCAGCAG --no-indels --match-read-wildcards --discard-untrimmed /tmp/qiime2/lauro/data/eb996efa-66bc-4362-9227-c8b55e8fda78/data/M06_2_L001_R1_001.fastq.gz\n",
      "\n",
      "This is cutadapt 4.4 with Python 3.8.16\n",
      "Command line parameters: --cores 6 --error-rate 0.01 --times 1 --overlap 3 --minimum-length 1 -q 0,0 --quality-base 33 -o /tmp/q2-CasavaOneEightSingleLanePerSampleDirFmt-ydo0t00k/M06_2_L001_R1_001.fastq.gz --adapter ATTAGAWACCCBDGTAGTCC --front CCTACGGGRSGCAGCAG --no-indels --match-read-wildcards --discard-untrimmed /tmp/qiime2/lauro/data/eb996efa-66bc-4362-9227-c8b55e8fda78/data/M06_2_L001_R1_001.fastq.gz\n",
      "Processing single-end reads on 6 cores ...\n"
     ]
    },
    {
     "name": "stdout",
     "output_type": "stream",
     "text": [
      "Finished in 0.180 s (2.005 µs/read; 29.93 M reads/minute).\n",
      "\n",
      "=== Summary ===\n",
      "\n",
      "Total reads processed:                  89,788\n",
      "Reads with adapters:                         2 (0.0%)\n",
      "\n",
      "== Read fate breakdown ==\n",
      "Reads that were too short:                   0 (0.0%)\n",
      "Reads discarded as untrimmed:           89,786 (100.0%)\n",
      "Reads written (passing filters):             2 (0.0%)\n",
      "\n",
      "Total basepairs processed:    36,861,392 bp\n",
      "Quality-trimmed:                       0 bp (0.0%)\n",
      "Total written (filtered):            742 bp (0.0%)\n",
      "\n",
      "=== Adapter 1 ===\n",
      "\n",
      "Sequence: ATTAGAWACCCBDGTAGTCC; Type: regular 3'; Length: 20; Trimmed: 0 times\n",
      "\n",
      "=== Adapter 2 ===\n",
      "\n",
      "Sequence: CCTACGGGRSGCAGCAG; Type: regular 5'; Length: 17; Trimmed: 2 times\n",
      "\n",
      "Minimum overlap: 3\n",
      "No. of allowed errors:\n",
      "1-17 bp: 0\n",
      "\n",
      "Overview of removed sequences\n",
      "length\tcount\texpect\tmax.err\terror counts\n",
      "3\t2\t1402.9\t0\t2\n",
      "\n",
      "Command: cutadapt --cores 6 --error-rate 0.01 --times 1 --overlap 3 --minimum-length 1 -q 0,0 --quality-base 33 -o /tmp/q2-CasavaOneEightSingleLanePerSampleDirFmt-ydo0t00k/M09_3_L001_R1_001.fastq.gz --adapter ATTAGAWACCCBDGTAGTCC --front CCTACGGGRSGCAGCAG --no-indels --match-read-wildcards --discard-untrimmed /tmp/qiime2/lauro/data/eb996efa-66bc-4362-9227-c8b55e8fda78/data/M09_3_L001_R1_001.fastq.gz\n",
      "\n",
      "This is cutadapt 4.4 with Python 3.8.16\n",
      "Command line parameters: --cores 6 --error-rate 0.01 --times 1 --overlap 3 --minimum-length 1 -q 0,0 --quality-base 33 -o /tmp/q2-CasavaOneEightSingleLanePerSampleDirFmt-ydo0t00k/M09_3_L001_R1_001.fastq.gz --adapter ATTAGAWACCCBDGTAGTCC --front CCTACGGGRSGCAGCAG --no-indels --match-read-wildcards --discard-untrimmed /tmp/qiime2/lauro/data/eb996efa-66bc-4362-9227-c8b55e8fda78/data/M09_3_L001_R1_001.fastq.gz\n",
      "Processing single-end reads on 6 cores ...\n"
     ]
    },
    {
     "name": "stdout",
     "output_type": "stream",
     "text": [
      "Finished in 0.191 s (2.288 µs/read; 26.23 M reads/minute).\n",
      "\n",
      "=== Summary ===\n",
      "\n",
      "Total reads processed:                  83,685\n",
      "Reads with adapters:                         2 (0.0%)\n",
      "\n",
      "== Read fate breakdown ==\n",
      "Reads that were too short:                   0 (0.0%)\n",
      "Reads discarded as untrimmed:           83,683 (100.0%)\n",
      "Reads written (passing filters):             2 (0.0%)\n",
      "\n",
      "Total basepairs processed:    34,329,999 bp\n",
      "Quality-trimmed:                       0 bp (0.0%)\n",
      "Total written (filtered):            807 bp (0.0%)\n",
      "\n",
      "=== Adapter 1 ===\n",
      "\n",
      "Sequence: ATTAGAWACCCBDGTAGTCC; Type: regular 3'; Length: 20; Trimmed: 1 times\n",
      "\n",
      "Minimum overlap: 3\n",
      "No. of allowed errors:\n",
      "1-20 bp: 0\n",
      "\n",
      "Bases preceding removed adapters:\n",
      "  A: 0.0%\n",
      "  C: 0.0%\n",
      "  G: 100.0%\n",
      "  T: 0.0%\n",
      "  none/other: 0.0%\n",
      "\n",
      "Overview of removed sequences\n",
      "length\tcount\texpect\tmax.err\terror counts\n",
      "3\t1\t1307.6\t0\t1\n",
      "\n",
      "\n",
      "=== Adapter 2 ===\n",
      "\n",
      "Sequence: CCTACGGGRSGCAGCAG; Type: regular 5'; Length: 17; Trimmed: 1 times\n",
      "\n",
      "Minimum overlap: 3\n",
      "No. of allowed errors:\n",
      "1-17 bp: 0\n",
      "\n",
      "Overview of removed sequences\n",
      "length\tcount\texpect\tmax.err\terror counts\n",
      "3\t1\t1307.6\t0\t1\n",
      "\n",
      "Command: cutadapt --cores 6 --error-rate 0.01 --times 1 --overlap 3 --minimum-length 1 -q 0,0 --quality-base 33 -o /tmp/q2-CasavaOneEightSingleLanePerSampleDirFmt-ydo0t00k/M12_4_L001_R1_001.fastq.gz --adapter ATTAGAWACCCBDGTAGTCC --front CCTACGGGRSGCAGCAG --no-indels --match-read-wildcards --discard-untrimmed /tmp/qiime2/lauro/data/eb996efa-66bc-4362-9227-c8b55e8fda78/data/M12_4_L001_R1_001.fastq.gz\n",
      "\n",
      "This is cutadapt 4.4 with Python 3.8.16\n",
      "Command line parameters: --cores 6 --error-rate 0.01 --times 1 --overlap 3 --minimum-length 1 -q 0,0 --quality-base 33 -o /tmp/q2-CasavaOneEightSingleLanePerSampleDirFmt-ydo0t00k/M12_4_L001_R1_001.fastq.gz --adapter ATTAGAWACCCBDGTAGTCC --front CCTACGGGRSGCAGCAG --no-indels --match-read-wildcards --discard-untrimmed /tmp/qiime2/lauro/data/eb996efa-66bc-4362-9227-c8b55e8fda78/data/M12_4_L001_R1_001.fastq.gz\n",
      "Processing single-end reads on 6 cores ...\n"
     ]
    },
    {
     "name": "stdout",
     "output_type": "stream",
     "text": [
      "Finished in 0.156 s (2.320 µs/read; 25.86 M reads/minute).\n",
      "\n",
      "=== Summary ===\n",
      "\n",
      "Total reads processed:                  67,446\n",
      "Reads with adapters:                         1 (0.0%)\n",
      "\n",
      "== Read fate breakdown ==\n",
      "Reads that were too short:                   0 (0.0%)\n",
      "Reads discarded as untrimmed:           67,445 (100.0%)\n",
      "Reads written (passing filters):             1 (0.0%)\n",
      "\n",
      "Total basepairs processed:    27,525,749 bp\n",
      "Quality-trimmed:                       0 bp (0.0%)\n",
      "Total written (filtered):            404 bp (0.0%)\n",
      "\n",
      "=== Adapter 1 ===\n",
      "\n",
      "Sequence: ATTAGAWACCCBDGTAGTCC; Type: regular 3'; Length: 20; Trimmed: 0 times\n",
      "\n",
      "=== Adapter 2 ===\n",
      "\n",
      "Sequence: CCTACGGGRSGCAGCAG; Type: regular 5'; Length: 17; Trimmed: 1 times\n",
      "\n",
      "Minimum overlap: 3\n",
      "No. of allowed errors:\n",
      "1-17 bp: 0\n",
      "\n",
      "Overview of removed sequences\n",
      "length\tcount\texpect\tmax.err\terror counts\n",
      "3\t1\t1053.8\t0\t1\n",
      "\n",
      "Command: cutadapt --cores 6 --error-rate 0.01 --times 1 --overlap 3 --minimum-length 1 -q 0,0 --quality-base 33 -o /tmp/q2-CasavaOneEightSingleLanePerSampleDirFmt-ydo0t00k/M19_5_L001_R1_001.fastq.gz --adapter ATTAGAWACCCBDGTAGTCC --front CCTACGGGRSGCAGCAG --no-indels --match-read-wildcards --discard-untrimmed /tmp/qiime2/lauro/data/eb996efa-66bc-4362-9227-c8b55e8fda78/data/M19_5_L001_R1_001.fastq.gz\n",
      "\n",
      "This is cutadapt 4.4 with Python 3.8.16\n",
      "Command line parameters: --cores 6 --error-rate 0.01 --times 1 --overlap 3 --minimum-length 1 -q 0,0 --quality-base 33 -o /tmp/q2-CasavaOneEightSingleLanePerSampleDirFmt-ydo0t00k/M19_5_L001_R1_001.fastq.gz --adapter ATTAGAWACCCBDGTAGTCC --front CCTACGGGRSGCAGCAG --no-indels --match-read-wildcards --discard-untrimmed /tmp/qiime2/lauro/data/eb996efa-66bc-4362-9227-c8b55e8fda78/data/M19_5_L001_R1_001.fastq.gz\n",
      "Processing single-end reads on 6 cores ...\n"
     ]
    },
    {
     "name": "stdout",
     "output_type": "stream",
     "text": [
      "Finished in 0.196 s (2.331 µs/read; 25.74 M reads/minute).\n",
      "\n",
      "=== Summary ===\n",
      "\n",
      "Total reads processed:                  83,879\n",
      "Reads with adapters:                         4 (0.0%)\n",
      "\n",
      "== Read fate breakdown ==\n",
      "Reads that were too short:                   0 (0.0%)\n",
      "Reads discarded as untrimmed:           83,875 (100.0%)\n",
      "Reads written (passing filters):             4 (0.0%)\n",
      "\n",
      "Total basepairs processed:    34,967,580 bp\n",
      "Quality-trimmed:                       0 bp (0.0%)\n",
      "Total written (filtered):          1,352 bp (0.0%)\n",
      "\n",
      "=== Adapter 1 ===\n",
      "\n",
      "Sequence: ATTAGAWACCCBDGTAGTCC; Type: regular 3'; Length: 20; Trimmed: 0 times\n",
      "\n",
      "=== Adapter 2 ===\n",
      "\n",
      "Sequence: CCTACGGGRSGCAGCAG; Type: regular 5'; Length: 17; Trimmed: 4 times\n",
      "\n",
      "Minimum overlap: 3\n",
      "No. of allowed errors:\n",
      "1-17 bp: 0\n",
      "\n",
      "Overview of removed sequences\n",
      "length\tcount\texpect\tmax.err\terror counts\n",
      "3\t4\t1310.6\t0\t4\n"
     ]
    },
    {
     "name": "stderr",
     "output_type": "stream",
     "text": [
      "/home/lauro/anaconda3/envs/qiime2-2023.5/lib/python3.8/site-packages/q2_demux/_summarize/_visualizer.py:191: FutureWarning: The frame.append method is deprecated and will be removed from pandas in a future version. Use pandas.concat instead.\n",
      "  context['result_data'] = context['result_data'].append(df)\n"
     ]
    }
   ],
   "source": [
    "demux_file_trim = os.path.join(out_dir, f'demux-{direction}-trim.qza')\n",
    "demux_view_trim = os.path.join(out_dir, f'demux-{direction}-trim.qzv')\n",
    "\n",
    "if trim and (not os.path.isfile(demux_file_trim) or replace_files):\n",
    "    forward_primer = [trim['forward_primer']] # ['CCTACGGGRSGCAGCAG']\n",
    "    reverse_primer = [trim['reverse_primer']] # ['GGACTACHVGGGTWTCTAAT']\n",
    "    forward_reverse_complement = [str(Seq(forward_primer[0]).reverse_complement())]\n",
    "    reverse_reverse_complement = [str(Seq(reverse_primer[0]).reverse_complement())]\n",
    "\n",
    "    res = None\n",
    "    \n",
    "    if n_directions == 1:\n",
    "        res = trim_single(\n",
    "            demultiplexed_sequences=artifact,\n",
    "            front=forward_primer,\n",
    "            adapter=reverse_reverse_complement,\n",
    "            cores=threads,\n",
    "            indels=False,\n",
    "            match_read_wildcards=True,\n",
    "            match_adapter_wildcards=True,\n",
    "            error_rate=0.01,\n",
    "            discard_untrimmed=True,\n",
    "        ).trimmed_sequences\n",
    "    elif n_directions == 2:\n",
    "        res = trim_paired(\n",
    "            demultiplexed_sequences=artifact,\n",
    "            front_f=forward_primer,\n",
    "            front_r=reverse_primer,\n",
    "            # adapter_f=reverse_reverse_complement,\n",
    "            # adapter_r=forward_reverse_complement,\n",
    "            cores=threads,\n",
    "            overlap=trim['overlap'],\n",
    "            indels=False,\n",
    "            match_read_wildcards=True,\n",
    "            match_adapter_wildcards=True,\n",
    "            error_rate=0.01,\n",
    "            discard_untrimmed=True,\n",
    "        ).trimmed_sequences\n",
    "    else:\n",
    "        print(f'ERROR: invalid number of directions {n_directions}')\n",
    "\n",
    "    if res is not None:\n",
    "        res.save(demux_file_trim)\n",
    "        Visualization.save(demux.visualizers.summarize(res).visualization, filepath=demux_view_trim)"
   ]
  }
 ],
 "metadata": {
  "celltoolbar": "Edit Metadata",
  "kernelspec": {
   "display_name": "Python 3 (ipykernel)",
   "language": "python",
   "name": "python3"
  },
  "language_info": {
   "codemirror_mode": {
    "name": "ipython",
    "version": 3
   },
   "file_extension": ".py",
   "mimetype": "text/x-python",
   "name": "python",
   "nbconvert_exporter": "python",
   "pygments_lexer": "ipython3",
   "version": "3.8.16"
  },
  "papermill": {
   "default_parameters": {},
   "duration": 9.346946,
   "end_time": "2024-02-19T22:56:18.626105",
   "environment_variables": {},
   "exception": null,
   "input_path": "nb-templates/step-prepare-data.ipynb",
   "output_path": "/home/lauro/rede-micro/redemicro-thayane/experiments/thayane-PM-single-end-trim/nb-executed-steps/step-prepare-data-thayane-PM-single-end-trim.ipynb",
   "parameters": {
    "base_dir": "/mnt/nupeb/rede-micro/redemicro-thayane",
    "class_col": "above_10",
    "classifier_file": "/mnt/nupeb/rede-micro/datasets/16S_classifiers_qiime2/silva-138-99-nb-classifier.qza",
    "experiment_name": "thayane-PM-single-end-trim",
    "manifest_file": "/mnt/nupeb/rede-micro/redemicro-thayane/data/manifest-single.csv",
    "metadata_file": "/mnt/nupeb/rede-micro/redemicro-thayane/data/single-end-metadata.tsv",
    "overlap": 12,
    "phred": 20,
    "replace_files": false,
    "threads": 6,
    "trim": {
     "forward_primer": "CCTACGGGRSGCAGCAG",
     "overlap": 8,
     "reverse_primer": "GGACTACHVGGGTWTCTAAT"
    },
    "trunc_f": 0,
    "trunc_r": 0
   },
   "start_time": "2024-02-19T22:56:09.279159",
   "version": "2.4.0"
  },
  "toc-autonumbering": false,
  "toc-showcode": false,
  "toc-showmarkdowntxt": false
 },
 "nbformat": 4,
 "nbformat_minor": 5
}