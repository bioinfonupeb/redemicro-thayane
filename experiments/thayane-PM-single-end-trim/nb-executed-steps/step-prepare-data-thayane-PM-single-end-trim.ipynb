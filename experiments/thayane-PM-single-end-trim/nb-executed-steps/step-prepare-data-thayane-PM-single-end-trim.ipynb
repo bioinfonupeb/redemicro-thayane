{
 "cells": [
  {
   "cell_type": "markdown",
   "id": "073c06cb",
   "metadata": {
    "papermill": {
     "duration": 0.018837,
     "end_time": "2023-08-01T18:24:39.234961",
     "exception": false,
     "start_time": "2023-08-01T18:24:39.216124",
     "status": "completed"
    },
    "tags": []
   },
   "source": [
    "# Prepare data for Pipeline"
   ]
  },
  {
   "cell_type": "markdown",
   "id": "15201fe3",
   "metadata": {
    "papermill": {
     "duration": 0.025997,
     "end_time": "2023-08-01T18:24:39.272732",
     "exception": false,
     "start_time": "2023-08-01T18:24:39.246735",
     "status": "completed"
    },
    "tags": []
   },
   "source": [
    "## Setup and settings"
   ]
  },
  {
   "cell_type": "code",
   "execution_count": 1,
   "id": "b01f62cc",
   "metadata": {
    "ExecuteTime": {
     "end_time": "2023-08-03T17:19:03.368580Z",
     "start_time": "2023-08-03T17:18:56.483847Z"
    },
    "execution": {
     "iopub.execute_input": "2023-08-01T18:24:39.327930Z",
     "iopub.status.busy": "2023-08-01T18:24:39.327285Z",
     "iopub.status.idle": "2023-08-01T18:24:45.908735Z",
     "shell.execute_reply": "2023-08-01T18:24:45.908037Z"
    },
    "papermill": {
     "duration": 6.6114,
     "end_time": "2023-08-01T18:24:45.912055",
     "exception": false,
     "start_time": "2023-08-01T18:24:39.300655",
     "status": "completed"
    },
    "tags": []
   },
   "outputs": [],
   "source": [
    "# Importing packages\n",
    "import os\n",
    "import yaml\n",
    "import logging\n",
    "import pandas as pd\n",
    "from Bio.Seq import Seq\n",
    "from qiime2 import Artifact, Visualization, Metadata\n",
    "from qiime2.plugins import demux\n",
    "from qiime2.plugins.cutadapt.methods import trim_paired, trim_single\n",
    "from qiime2.plugins.demux.methods import filter_samples"
   ]
  },
  {
   "cell_type": "markdown",
   "id": "89522ecf",
   "metadata": {
    "papermill": {
     "duration": 0.010145,
     "end_time": "2023-08-01T18:24:45.939450",
     "exception": false,
     "start_time": "2023-08-01T18:24:45.929305",
     "status": "completed"
    },
    "tags": []
   },
   "source": [
    "### Receiving the parameters\n",
    "\n",
    "The following cell can receive parameters using the [papermill](https://papermill.readthedocs.io/en/latest/) tool."
   ]
  },
  {
   "cell_type": "code",
   "execution_count": 2,
   "id": "3ef463a8",
   "metadata": {
    "ExecuteTime": {
     "end_time": "2023-08-03T17:19:03.374811Z",
     "start_time": "2023-08-03T17:19:03.371150Z"
    },
    "execution": {
     "iopub.execute_input": "2023-08-01T18:24:45.988004Z",
     "iopub.status.busy": "2023-08-01T18:24:45.987548Z",
     "iopub.status.idle": "2023-08-01T18:24:45.992937Z",
     "shell.execute_reply": "2023-08-01T18:24:45.992129Z"
    },
    "papermill": {
     "duration": 0.018357,
     "end_time": "2023-08-01T18:24:45.994437",
     "exception": false,
     "start_time": "2023-08-01T18:24:45.976080",
     "status": "completed"
    },
    "tags": [
     "parameters"
    ]
   },
   "outputs": [],
   "source": [
    "params_path = os.path.join('..', 'params', 'parameter-set-01.yaml')\n",
    "experiment_name = 'exp-01'\n",
    "base_dir = os.path.join('/', 'home', 'username', 'pipeline-dir')\n",
    "manifest_file = os.path.join(base_dir, 'data', 'raw', 'manifest', 'manifest.csv')\n",
    "replace_files = False\n",
    "trim = None\n",
    "metadata_file = None\n",
    "threads = 1"
   ]
  },
  {
   "cell_type": "code",
   "execution_count": 3,
   "id": "c8511c94",
   "metadata": {
    "ExecuteTime": {
     "end_time": "2023-08-03T17:19:03.444079Z",
     "start_time": "2023-08-03T17:19:03.377113Z"
    },
    "execution": {
     "iopub.execute_input": "2023-08-01T18:24:46.017769Z",
     "iopub.status.busy": "2023-08-01T18:24:46.017427Z",
     "iopub.status.idle": "2023-08-01T18:24:46.024003Z",
     "shell.execute_reply": "2023-08-01T18:24:46.023198Z"
    },
    "papermill": {
     "duration": 0.020065,
     "end_time": "2023-08-01T18:24:46.025621",
     "exception": false,
     "start_time": "2023-08-01T18:24:46.005556",
     "status": "completed"
    },
    "tags": [
     "injected-parameters"
    ]
   },
   "outputs": [],
   "source": [
    "# Parameters\n",
    "experiment_name = \"thayane-PM-single-end-trim\"\n",
    "base_dir = \"/home/lauro/nupeb/rede-micro/redemicro-thayane\"\n",
    "manifest_file = (\n",
    "    \"/home/lauro/nupeb/rede-micro/redemicro-thayane/data/manifest-single.csv\"\n",
    ")\n",
    "metadata_file = (\n",
    "    \"/home/lauro/nupeb/rede-micro/redemicro-thayane/data/single-end-metadata.tsv\"\n",
    ")\n",
    "class_col = \"above_10\"\n",
    "classifier_file = (\n",
    "    \"/home/lauro/nupeb/16S_classifiers_qiime2/silva-138-99-nb-classifier.qza\"\n",
    ")\n",
    "replace_files = False\n",
    "phred = 20\n",
    "trunc_f = 0\n",
    "trunc_r = 0\n",
    "overlap = 12\n",
    "threads = 6\n",
    "trim = {\n",
    "    \"overlap\": 8,\n",
    "    \"forward_primer\": \"CCTACGGGNGGCWGCAG\",\n",
    "    \"reverse_primer\": \"GACTACHVGGGTATCTAATCC\",\n",
    "}\n"
   ]
  },
  {
   "cell_type": "markdown",
   "id": "bf094709",
   "metadata": {
    "papermill": {
     "duration": 0.011076,
     "end_time": "2023-08-01T18:24:46.059178",
     "exception": false,
     "start_time": "2023-08-01T18:24:46.048102",
     "status": "completed"
    },
    "tags": []
   },
   "source": [
    "### Defining names and paths"
   ]
  },
  {
   "cell_type": "code",
   "execution_count": 4,
   "id": "27aac7b7",
   "metadata": {
    "ExecuteTime": {
     "end_time": "2023-08-03T17:19:03.509829Z",
     "start_time": "2023-08-03T17:19:03.446838Z"
    },
    "execution": {
     "iopub.execute_input": "2023-08-01T18:24:46.109620Z",
     "iopub.status.busy": "2023-08-01T18:24:46.109213Z",
     "iopub.status.idle": "2023-08-01T18:24:46.118844Z",
     "shell.execute_reply": "2023-08-01T18:24:46.118070Z"
    },
    "papermill": {
     "duration": 0.050616,
     "end_time": "2023-08-01T18:24:46.120296",
     "exception": false,
     "start_time": "2023-08-01T18:24:46.069680",
     "status": "completed"
    },
    "tags": []
   },
   "outputs": [],
   "source": [
    "# Define the output folder path\n",
    "out_dir = os.path.join(base_dir, 'experiments', experiment_name, 'qiime-artifacts')\n",
    "img_folder = os.path.abspath(os.path.join(base_dir, 'experiments', experiment_name, 'imgs'))\n",
    "\n",
    "# Create path if it not exists\n",
    "if not os.path.isdir(out_dir):\n",
    "    os.makedirs(out_dir)\n",
    "    print(f'New qiime-artifacts folder path created: {out_dir}')\n",
    "\n",
    "# Create path if it not exists\n",
    "if not os.path.isdir(img_folder):\n",
    "    os.makedirs(img_folder)\n",
    "    print(f'New img folder path created: {img_folder}')\n",
    "\n",
    "# Define the output artifact full path\n",
    "demux_file = os.path.join(out_dir, 'demux-paired.qza')\n",
    "demux_view = os.path.join(out_dir, 'demux-paired.qzv')\n",
    "demux_file_trim = os.path.join(out_dir, 'demux-paired-trim.qza')\n",
    "demux_view_trim = os.path.join(out_dir, 'demux-paired-trim.qzv')"
   ]
  },
  {
   "cell_type": "markdown",
   "id": "340d480b",
   "metadata": {
    "papermill": {
     "duration": 0.01086,
     "end_time": "2023-08-01T18:24:46.144263",
     "exception": false,
     "start_time": "2023-08-01T18:24:46.133403",
     "status": "completed"
    },
    "tags": []
   },
   "source": [
    "## Step execution\n",
    "\n",
    "This Step import all `fastq` files in a **QIIME2 Artifact** object and save it to a new `qza` file of `SampleData[PairedEndSequencesWithQuality]`"
   ]
  },
  {
   "cell_type": "code",
   "execution_count": 5,
   "id": "77df3274",
   "metadata": {
    "ExecuteTime": {
     "end_time": "2023-08-03T17:19:03.554075Z",
     "start_time": "2023-08-03T17:19:03.512229Z"
    },
    "execution": {
     "iopub.execute_input": "2023-08-01T18:24:46.167471Z",
     "iopub.status.busy": "2023-08-01T18:24:46.167015Z",
     "iopub.status.idle": "2023-08-01T18:24:46.181090Z",
     "shell.execute_reply": "2023-08-01T18:24:46.180605Z"
    },
    "papermill": {
     "duration": 0.027658,
     "end_time": "2023-08-01T18:24:46.182863",
     "exception": false,
     "start_time": "2023-08-01T18:24:46.155205",
     "status": "completed"
    },
    "tags": []
   },
   "outputs": [],
   "source": [
    "manifest_df = pd.read_csv(manifest_file)\n",
    "n_directions = len(manifest_df['direction'].unique())\n",
    "if n_directions == 1:\n",
    "    d_type = 'SampleData[SequencesWithQuality]'\n",
    "    v_type = 'SingleEndFastqManifestPhred33'\n",
    "elif n_directions == 2:\n",
    "    d_type = 'SampleData[PairedEndSequencesWithQuality]'\n",
    "    v_type = 'PairedEndFastqManifestPhred33'\n",
    "else:\n",
    "    print(f'ERROR: invalid number of directions {n_directions}')"
   ]
  },
  {
   "cell_type": "code",
   "execution_count": 6,
   "id": "041b33b7",
   "metadata": {
    "ExecuteTime": {
     "end_time": "2023-08-03T17:19:03.585348Z",
     "start_time": "2023-08-03T17:19:03.556353Z"
    },
    "execution": {
     "iopub.execute_input": "2023-08-01T18:24:46.208174Z",
     "iopub.status.busy": "2023-08-01T18:24:46.207876Z",
     "iopub.status.idle": "2023-08-01T18:24:46.226818Z",
     "shell.execute_reply": "2023-08-01T18:24:46.226280Z"
    },
    "papermill": {
     "duration": 0.032297,
     "end_time": "2023-08-01T18:24:46.228575",
     "exception": false,
     "start_time": "2023-08-01T18:24:46.196278",
     "status": "completed"
    },
    "tags": []
   },
   "outputs": [],
   "source": [
    "# If the metadata file is not defined, use the default metadata file\n",
    "metadata_qa = Metadata.load(metadata_file)"
   ]
  },
  {
   "cell_type": "code",
   "execution_count": 7,
   "id": "cfdbd526",
   "metadata": {
    "ExecuteTime": {
     "end_time": "2023-08-03T17:19:03.711829Z",
     "start_time": "2023-08-03T17:19:03.587362Z"
    },
    "execution": {
     "iopub.execute_input": "2023-08-01T18:24:46.256279Z",
     "iopub.status.busy": "2023-08-01T18:24:46.256034Z",
     "iopub.status.idle": "2023-08-01T18:26:35.840593Z",
     "shell.execute_reply": "2023-08-01T18:26:35.839720Z"
    },
    "papermill": {
     "duration": 109.599387,
     "end_time": "2023-08-01T18:26:35.843777",
     "exception": false,
     "start_time": "2023-08-01T18:24:46.244390",
     "status": "completed"
    },
    "tags": []
   },
   "outputs": [],
   "source": [
    "# If the demux file does not exist or if the old file will be replaced\n",
    "if not os.path.isfile(demux_file) or replace_files:\n",
    "    \n",
    "    # Import data and create an artifact object\n",
    "    artifact = Artifact.import_data(\n",
    "        d_type, \n",
    "        manifest_file, \n",
    "        view_type=v_type)\n",
    "\n",
    "    artifact = filter_samples(demux=artifact, metadata=metadata_qa).filtered_demux\n",
    "    # Save the artifact object to a new qza file\n",
    "    artifact.save(demux_file)\n",
    "\n",
    "else:\n",
    "    artifact = Artifact.load(demux_file)"
   ]
  },
  {
   "cell_type": "code",
   "execution_count": 8,
   "id": "09d06683",
   "metadata": {
    "ExecuteTime": {
     "end_time": "2023-08-03T17:19:03.758221Z",
     "start_time": "2023-08-03T17:19:03.713959Z"
    },
    "execution": {
     "iopub.execute_input": "2023-08-01T18:26:35.903451Z",
     "iopub.status.busy": "2023-08-01T18:26:35.903135Z",
     "iopub.status.idle": "2023-08-01T18:26:42.567689Z",
     "shell.execute_reply": "2023-08-01T18:26:42.566795Z"
    },
    "papermill": {
     "duration": 6.711169,
     "end_time": "2023-08-01T18:26:42.570866",
     "exception": false,
     "start_time": "2023-08-01T18:26:35.859697",
     "status": "completed"
    },
    "tags": []
   },
   "outputs": [],
   "source": [
    "if not os.path.isfile(demux_view) or replace_files: \n",
    "    # Generate e visualization of the Artifact\n",
    "    demux_summary = demux.visualizers.summarize(artifact)\n",
    "\n",
    "    # Save a new visualization file based on the qza file\n",
    "    Visualization.save(demux_summary.visualization, filepath=demux_view)\n",
    "    \n",
    "    demux_view_obj = demux_summary.visualization\n",
    "else:\n",
    "    demux_view_obj = Visualization.load(demux_view)"
   ]
  },
  {
   "cell_type": "markdown",
   "id": "36372353",
   "metadata": {
    "papermill": {
     "duration": 0.011042,
     "end_time": "2023-08-01T18:26:42.600764",
     "exception": false,
     "start_time": "2023-08-01T18:26:42.589722",
     "status": "completed"
    },
    "tags": []
   },
   "source": [
    "## Step report\n"
   ]
  },
  {
   "cell_type": "code",
   "execution_count": 9,
   "id": "8289b954",
   "metadata": {
    "ExecuteTime": {
     "end_time": "2023-08-03T17:19:03.762539Z",
     "start_time": "2023-08-03T17:19:03.759897Z"
    },
    "execution": {
     "iopub.execute_input": "2023-08-01T18:26:42.665133Z",
     "iopub.status.busy": "2023-08-01T18:26:42.664758Z",
     "iopub.status.idle": "2023-08-01T18:26:42.669683Z",
     "shell.execute_reply": "2023-08-01T18:26:42.668894Z"
    },
    "papermill": {
     "duration": 0.054756,
     "end_time": "2023-08-01T18:26:42.671276",
     "exception": false,
     "start_time": "2023-08-01T18:26:42.616520",
     "status": "completed"
    },
    "tags": []
   },
   "outputs": [
    {
     "name": "stdout",
     "output_type": "stream",
     "text": [
      "<visualization: Visualization uuid: 10b08647-88c1-4f65-b898-21d63066fef8>\n"
     ]
    }
   ],
   "source": [
    "print(demux_view_obj)"
   ]
  },
  {
   "cell_type": "code",
   "execution_count": 10,
   "id": "130034e5",
   "metadata": {
    "ExecuteTime": {
     "end_time": "2023-08-03T17:19:03.783882Z",
     "start_time": "2023-08-03T17:19:03.764545Z"
    },
    "execution": {
     "iopub.execute_input": "2023-08-01T18:26:42.701610Z",
     "iopub.status.busy": "2023-08-01T18:26:42.701140Z",
     "iopub.status.idle": "2023-08-01T18:26:42.712812Z",
     "shell.execute_reply": "2023-08-01T18:26:42.711777Z"
    },
    "papermill": {
     "duration": 0.02681,
     "end_time": "2023-08-01T18:26:42.714882",
     "exception": false,
     "start_time": "2023-08-01T18:26:42.688072",
     "status": "completed"
    },
    "tags": []
   },
   "outputs": [
    {
     "data": {
      "text/html": [
       "<div><img onload=\"(function(div, url){\n",
       "if (typeof require !== 'undefined') {\n",
       "    var baseURL = require.toUrl('').split('/').slice(0, -2).join('/');\n",
       "} else {\n",
       "    var baseURL = JSON.parse(\n",
       "        document.getElementById('jupyter-config-data').innerHTML\n",
       "    ).baseUrl.slice(0, -1);\n",
       "}\n",
       "url = baseURL + url;\n",
       "fetch(url).then(function(res) {\n",
       "    if (res.status === 404) {\n",
       "        div.innerHTML = 'Install QIIME 2 Jupyter extension with:<br />' +\n",
       "                        '<code>jupyter serverextension enable --py qiime2' +\n",
       "                        ' --sys-prefix</code><br />then restart your server.' +\n",
       "                        '<br /><br />(Interactive output not available on ' +\n",
       "                        'static notebook viewer services like nbviewer.)';\n",
       "    } else if (res.status === 409) {\n",
       "        div.innerHTML = 'Visualization no longer in scope. Re-run this cell' +\n",
       "                        ' to see the visualization.';\n",
       "    } else if (res.ok) {\n",
       "        url = res.url;\n",
       "        div.innerHTML = '<iframe src=\\'' + url + '\\' style=\\'' +\n",
       "                        'width: 100%; height: 700px; border: 0;\\'>' +\n",
       "                        '</iframe><hr />Open in a: <a href=\\'' + url + '\\'' +\n",
       "                        ' target=\\'_blank\\'>new window</a>'\n",
       "    } else {\n",
       "        div.innerHTML = 'Something has gone wrong. Check notebook server for' +\n",
       "                        ' errors.';\n",
       "    }\n",
       "});\n",
       "})(this.parentElement, '/qiime2/redirect?location=/tmp/qiime2-archive-18bp7t7g')\" src=\"data:image/gif;base64,R0lGODlhAQABAIAAAP///wAAACH5BAEAAAAALAAAAAABAAEAAAICRAEAOw==\" /></div>"
      ],
      "text/plain": [
       "<visualization: Visualization uuid: 10b08647-88c1-4f65-b898-21d63066fef8>"
      ]
     },
     "execution_count": 10,
     "metadata": {},
     "output_type": "execute_result"
    }
   ],
   "source": [
    "# Render Visualization\n",
    "demux_view_obj"
   ]
  },
  {
   "cell_type": "markdown",
   "id": "9d71b1f8",
   "metadata": {
    "papermill": {
     "duration": 0.012233,
     "end_time": "2023-08-01T18:26:42.742540",
     "exception": false,
     "start_time": "2023-08-01T18:26:42.730307",
     "status": "completed"
    },
    "tags": []
   },
   "source": [
    "[cutadapt](https://docs.qiime2.org/2022.2/plugins/available/cutadapt/trim-paired/)\n",
    "\n",
    "We trim the forward primer and the reverse complement of the reverse primer from the forward reads. We trim the reverse primer and reverse complement of the forward primer from the reverse reads."
   ]
  },
  {
   "cell_type": "code",
   "execution_count": 11,
   "id": "a8e73abd",
   "metadata": {
    "ExecuteTime": {
     "end_time": "2023-08-03T17:19:10.132072Z",
     "start_time": "2023-08-03T17:19:03.787837Z"
    },
    "execution": {
     "iopub.execute_input": "2023-08-01T18:26:42.768739Z",
     "iopub.status.busy": "2023-08-01T18:26:42.768321Z",
     "iopub.status.idle": "2023-08-01T18:26:47.407689Z",
     "shell.execute_reply": "2023-08-01T18:26:47.406480Z"
    },
    "papermill": {
     "duration": 4.656199,
     "end_time": "2023-08-01T18:26:47.411027",
     "exception": false,
     "start_time": "2023-08-01T18:26:42.754828",
     "status": "completed"
    },
    "tags": []
   },
   "outputs": [
    {
     "name": "stdout",
     "output_type": "stream",
     "text": [
      "Running external command line application. This may print messages to stdout and/or stderr.\n",
      "The commands to be run are below. These commands cannot be manually re-run as they will depend on temporary files that no longer exist.\n",
      "\n",
      "Command: cutadapt --cores 6 --error-rate 0.01 --times 1 --overlap 3 --minimum-length 1 -o /tmp/q2-CasavaOneEightSingleLanePerSampleDirFmt-qybbjsz1/M01_0_L001_R1_001.fastq.gz --front CCTACGGGRSGCAGCAG --no-indels --match-read-wildcards --discard-untrimmed /tmp/qiime2-archive-dl3fdvmk/6fe076a3-a29e-4906-8dc6-70456bfd053c/data/M01_0_L001_R1_001.fastq.gz\n",
      "\n",
      "This is cutadapt 3.5 with Python 3.8.12\n",
      "Command line parameters: --cores 6 --error-rate 0.01 --times 1 --overlap 3 --minimum-length 1 -o /tmp/q2-CasavaOneEightSingleLanePerSampleDirFmt-qybbjsz1/M01_0_L001_R1_001.fastq.gz --front CCTACGGGRSGCAGCAG --no-indels --match-read-wildcards --discard-untrimmed /tmp/qiime2-archive-dl3fdvmk/6fe076a3-a29e-4906-8dc6-70456bfd053c/data/M01_0_L001_R1_001.fastq.gz\n",
      "Processing reads on 6 cores in single-end mode ...\n",
      "Finished in 0.53 s (6 µs/read; 9.42 M reads/minute).\n",
      "\n",
      "=== Summary ===\n",
      "\n",
      "Total reads processed:                  82,485\n",
      "Reads with adapters:                         1 (0.0%)\n",
      "\n",
      "== Read fate breakdown ==\n",
      "Reads that were too short:                   0 (0.0%)\n",
      "Reads discarded as untrimmed:           82,484 (100.0%)\n",
      "Reads written (passing filters):             1 (0.0%)\n",
      "\n",
      "Total basepairs processed:    33,734,965 bp\n",
      "Total written (filtered):            396 bp (0.0%)\n",
      "\n",
      "=== Adapter 1 ===\n",
      "\n",
      "Sequence: CCTACGGGRSGCAGCAG; Type: regular 5'; Length: 17; Trimmed: 1 times\n",
      "\n",
      "Minimum overlap: 3\n",
      "No. of allowed errors:\n",
      "1-17 bp: 0\n",
      "\n",
      "Overview of removed sequences\n",
      "length\tcount\texpect\tmax.err\terror counts\n",
      "3\t1\t1288.8\t0\t1\n",
      "\n",
      "Command: cutadapt --cores 6 --error-rate 0.01 --times 1 --overlap 3 --minimum-length 1 -o /tmp/q2-CasavaOneEightSingleLanePerSampleDirFmt-qybbjsz1/M03_1_L001_R1_001.fastq.gz --front CCTACGGGRSGCAGCAG --no-indels --match-read-wildcards --discard-untrimmed /tmp/qiime2-archive-dl3fdvmk/6fe076a3-a29e-4906-8dc6-70456bfd053c/data/M03_1_L001_R1_001.fastq.gz\n",
      "\n",
      "This is cutadapt 3.5 with Python 3.8.12\n",
      "Command line parameters: --cores 6 --error-rate 0.01 --times 1 --overlap 3 --minimum-length 1 -o /tmp/q2-CasavaOneEightSingleLanePerSampleDirFmt-qybbjsz1/M03_1_L001_R1_001.fastq.gz --front CCTACGGGRSGCAGCAG --no-indels --match-read-wildcards --discard-untrimmed /tmp/qiime2-archive-dl3fdvmk/6fe076a3-a29e-4906-8dc6-70456bfd053c/data/M03_1_L001_R1_001.fastq.gz\n",
      "Processing reads on 6 cores in single-end mode ...\n",
      "Finished in 0.46 s (7 µs/read; 8.52 M reads/minute).\n",
      "\n",
      "=== Summary ===\n",
      "\n",
      "Total reads processed:                  65,820\n",
      "Reads with adapters:                         0 (0.0%)\n",
      "\n",
      "== Read fate breakdown ==\n",
      "Reads that were too short:                   0 (0.0%)\n",
      "Reads discarded as untrimmed:           65,820 (100.0%)\n",
      "Reads written (passing filters):             0 (0.0%)\n",
      "\n",
      "Total basepairs processed:    27,269,491 bp\n",
      "Total written (filtered):              0 bp (0.0%)\n",
      "\n",
      "=== Adapter 1 ===\n",
      "\n",
      "Sequence: CCTACGGGRSGCAGCAG; Type: regular 5'; Length: 17; Trimmed: 0 times\n",
      "\n",
      "Command: cutadapt --cores 6 --error-rate 0.01 --times 1 --overlap 3 --minimum-length 1 -o /tmp/q2-CasavaOneEightSingleLanePerSampleDirFmt-qybbjsz1/M06_2_L001_R1_001.fastq.gz --front CCTACGGGRSGCAGCAG --no-indels --match-read-wildcards --discard-untrimmed /tmp/qiime2-archive-dl3fdvmk/6fe076a3-a29e-4906-8dc6-70456bfd053c/data/M06_2_L001_R1_001.fastq.gz\n",
      "\n",
      "This is cutadapt 3.5 with Python 3.8.12\n",
      "Command line parameters: --cores 6 --error-rate 0.01 --times 1 --overlap 3 --minimum-length 1 -o /tmp/q2-CasavaOneEightSingleLanePerSampleDirFmt-qybbjsz1/M06_2_L001_R1_001.fastq.gz --front CCTACGGGRSGCAGCAG --no-indels --match-read-wildcards --discard-untrimmed /tmp/qiime2-archive-dl3fdvmk/6fe076a3-a29e-4906-8dc6-70456bfd053c/data/M06_2_L001_R1_001.fastq.gz\n",
      "Processing reads on 6 cores in single-end mode ...\n",
      "Finished in 0.65 s (7 µs/read; 8.23 M reads/minute).\n",
      "\n",
      "=== Summary ===\n",
      "\n",
      "Total reads processed:                  89,788\n",
      "Reads with adapters:                         2 (0.0%)\n",
      "\n",
      "== Read fate breakdown ==\n",
      "Reads that were too short:                   0 (0.0%)\n",
      "Reads discarded as untrimmed:           89,786 (100.0%)\n",
      "Reads written (passing filters):             2 (0.0%)\n",
      "\n",
      "Total basepairs processed:    36,861,392 bp\n",
      "Total written (filtered):            742 bp (0.0%)\n",
      "\n",
      "=== Adapter 1 ===\n",
      "\n",
      "Sequence: CCTACGGGRSGCAGCAG; Type: regular 5'; Length: 17; Trimmed: 2 times\n",
      "\n",
      "Minimum overlap: 3\n",
      "No. of allowed errors:\n",
      "1-17 bp: 0\n",
      "\n",
      "Overview of removed sequences\n",
      "length\tcount\texpect\tmax.err\terror counts\n",
      "3\t2\t1402.9\t0\t2\n",
      "\n",
      "Command: cutadapt --cores 6 --error-rate 0.01 --times 1 --overlap 3 --minimum-length 1 -o /tmp/q2-CasavaOneEightSingleLanePerSampleDirFmt-qybbjsz1/M09_3_L001_R1_001.fastq.gz --front CCTACGGGRSGCAGCAG --no-indels --match-read-wildcards --discard-untrimmed /tmp/qiime2-archive-dl3fdvmk/6fe076a3-a29e-4906-8dc6-70456bfd053c/data/M09_3_L001_R1_001.fastq.gz\n",
      "\n",
      "This is cutadapt 3.5 with Python 3.8.12\n",
      "Command line parameters: --cores 6 --error-rate 0.01 --times 1 --overlap 3 --minimum-length 1 -o /tmp/q2-CasavaOneEightSingleLanePerSampleDirFmt-qybbjsz1/M09_3_L001_R1_001.fastq.gz --front CCTACGGGRSGCAGCAG --no-indels --match-read-wildcards --discard-untrimmed /tmp/qiime2-archive-dl3fdvmk/6fe076a3-a29e-4906-8dc6-70456bfd053c/data/M09_3_L001_R1_001.fastq.gz\n",
      "Processing reads on 6 cores in single-end mode ...\n",
      "Finished in 0.56 s (7 µs/read; 8.92 M reads/minute).\n",
      "\n",
      "=== Summary ===\n",
      "\n",
      "Total reads processed:                  83,685\n",
      "Reads with adapters:                         1 (0.0%)\n",
      "\n",
      "== Read fate breakdown ==\n",
      "Reads that were too short:                   0 (0.0%)\n",
      "Reads discarded as untrimmed:           83,684 (100.0%)\n",
      "Reads written (passing filters):             1 (0.0%)\n",
      "\n",
      "Total basepairs processed:    34,329,999 bp\n",
      "Total written (filtered):            380 bp (0.0%)\n",
      "\n",
      "=== Adapter 1 ===\n",
      "\n",
      "Sequence: CCTACGGGRSGCAGCAG; Type: regular 5'; Length: 17; Trimmed: 1 times\n",
      "\n",
      "Minimum overlap: 3\n",
      "No. of allowed errors:\n",
      "1-17 bp: 0\n",
      "\n",
      "Overview of removed sequences\n",
      "length\tcount\texpect\tmax.err\terror counts\n",
      "3\t1\t1307.6\t0\t1\n",
      "\n",
      "Command: cutadapt --cores 6 --error-rate 0.01 --times 1 --overlap 3 --minimum-length 1 -o /tmp/q2-CasavaOneEightSingleLanePerSampleDirFmt-qybbjsz1/M12_4_L001_R1_001.fastq.gz --front CCTACGGGRSGCAGCAG --no-indels --match-read-wildcards --discard-untrimmed /tmp/qiime2-archive-dl3fdvmk/6fe076a3-a29e-4906-8dc6-70456bfd053c/data/M12_4_L001_R1_001.fastq.gz\n",
      "\n",
      "This is cutadapt 3.5 with Python 3.8.12\n",
      "Command line parameters: --cores 6 --error-rate 0.01 --times 1 --overlap 3 --minimum-length 1 -o /tmp/q2-CasavaOneEightSingleLanePerSampleDirFmt-qybbjsz1/M12_4_L001_R1_001.fastq.gz --front CCTACGGGRSGCAGCAG --no-indels --match-read-wildcards --discard-untrimmed /tmp/qiime2-archive-dl3fdvmk/6fe076a3-a29e-4906-8dc6-70456bfd053c/data/M12_4_L001_R1_001.fastq.gz\n",
      "Processing reads on 6 cores in single-end mode ...\n",
      "Finished in 0.50 s (7 µs/read; 8.02 M reads/minute).\n",
      "\n",
      "=== Summary ===\n",
      "\n",
      "Total reads processed:                  67,446\n",
      "Reads with adapters:                         1 (0.0%)\n",
      "\n",
      "== Read fate breakdown ==\n",
      "Reads that were too short:                   0 (0.0%)\n",
      "Reads discarded as untrimmed:           67,445 (100.0%)\n",
      "Reads written (passing filters):             1 (0.0%)\n",
      "\n",
      "Total basepairs processed:    27,525,749 bp\n",
      "Total written (filtered):            404 bp (0.0%)\n",
      "\n",
      "=== Adapter 1 ===\n",
      "\n",
      "Sequence: CCTACGGGRSGCAGCAG; Type: regular 5'; Length: 17; Trimmed: 1 times\n",
      "\n",
      "Minimum overlap: 3\n",
      "No. of allowed errors:\n",
      "1-17 bp: 0\n",
      "\n",
      "Overview of removed sequences\n",
      "length\tcount\texpect\tmax.err\terror counts\n",
      "3\t1\t1053.8\t0\t1\n",
      "\n",
      "Command: cutadapt --cores 6 --error-rate 0.01 --times 1 --overlap 3 --minimum-length 1 -o /tmp/q2-CasavaOneEightSingleLanePerSampleDirFmt-qybbjsz1/M19_5_L001_R1_001.fastq.gz --front CCTACGGGRSGCAGCAG --no-indels --match-read-wildcards --discard-untrimmed /tmp/qiime2-archive-dl3fdvmk/6fe076a3-a29e-4906-8dc6-70456bfd053c/data/M19_5_L001_R1_001.fastq.gz\n",
      "\n",
      "This is cutadapt 3.5 with Python 3.8.12\n",
      "Command line parameters: --cores 6 --error-rate 0.01 --times 1 --overlap 3 --minimum-length 1 -o /tmp/q2-CasavaOneEightSingleLanePerSampleDirFmt-qybbjsz1/M19_5_L001_R1_001.fastq.gz --front CCTACGGGRSGCAGCAG --no-indels --match-read-wildcards --discard-untrimmed /tmp/qiime2-archive-dl3fdvmk/6fe076a3-a29e-4906-8dc6-70456bfd053c/data/M19_5_L001_R1_001.fastq.gz\n",
      "Processing reads on 6 cores in single-end mode ...\n"
     ]
    },
    {
     "name": "stdout",
     "output_type": "stream",
     "text": [
      "Finished in 0.54 s (6 µs/read; 9.36 M reads/minute).\n",
      "\n",
      "=== Summary ===\n",
      "\n",
      "Total reads processed:                  83,879\n",
      "Reads with adapters:                         4 (0.0%)\n",
      "\n",
      "== Read fate breakdown ==\n",
      "Reads that were too short:                   0 (0.0%)\n",
      "Reads discarded as untrimmed:           83,875 (100.0%)\n",
      "Reads written (passing filters):             4 (0.0%)\n",
      "\n",
      "Total basepairs processed:    34,967,580 bp\n",
      "Total written (filtered):          1,352 bp (0.0%)\n",
      "\n",
      "=== Adapter 1 ===\n",
      "\n",
      "Sequence: CCTACGGGRSGCAGCAG; Type: regular 5'; Length: 17; Trimmed: 4 times\n",
      "\n",
      "Minimum overlap: 3\n",
      "No. of allowed errors:\n",
      "1-17 bp: 0\n",
      "\n",
      "Overview of removed sequences\n",
      "length\tcount\texpect\tmax.err\terror counts\n",
      "3\t4\t1310.6\t0\t4\n"
     ]
    }
   ],
   "source": [
    "demux_file_trim = os.path.join(out_dir, 'demux-paired-trim.qza')\n",
    "demux_view_trim = os.path.join(out_dir, 'demux-paired-trim.qzv')\n",
    "\n",
    "if trim and (not os.path.isfile(demux_file_trim) or replace_files):\n",
    "    forward_primer = [trim['forward_primer']] # ['CCTACGGGRSGCAGCAG']\n",
    "    reverse_primer = [trim['reverse_primer']] # ['GGACTACHVGGGTWTCTAAT']\n",
    "    forward_reverse_complement = [str(Seq(forward_primer[0]).reverse_complement())]\n",
    "    reverse_reverse_complement = [str(Seq(reverse_primer[0]).reverse_complement())]\n",
    "\n",
    "    res = None\n",
    "    \n",
    "    if n_directions == 1:\n",
    "        res = trim_single(\n",
    "            demultiplexed_sequences=artifact,\n",
    "            front=forward_primer,\n",
    "#             adapter=reverse_reverse_complement,\n",
    "            cores=threads,\n",
    "            indels=False,\n",
    "            match_read_wildcards=True,\n",
    "            match_adapter_wildcards=True,\n",
    "            error_rate=0.01,\n",
    "            discard_untrimmed=True,\n",
    "        ).trimmed_sequences\n",
    "    elif n_directions == 2:\n",
    "        res = trim_paired(\n",
    "            demultiplexed_sequences=artifact,\n",
    "            front_f=forward_primer,\n",
    "            front_r=reverse_primer,\n",
    "            # adapter_f=reverse_reverse_complement,\n",
    "            # adapter_r=forward_reverse_complement,\n",
    "            cores=threads,\n",
    "            overlap=trim['overlap'],\n",
    "            indels=False,\n",
    "            match_read_wildcards=True,\n",
    "            match_adapter_wildcards=True,\n",
    "            error_rate=0.01,\n",
    "            discard_untrimmed=True,\n",
    "        ).trimmed_sequences\n",
    "    else:\n",
    "        print(f'ERROR: invalid number of directions {n_directions}')\n",
    "\n",
    "    if res is not None:\n",
    "        res.save(demux_file_trim)\n",
    "        Visualization.save(demux.visualizers.summarize(res).visualization, filepath=demux_view_trim)"
   ]
  },
  {
   "cell_type": "code",
   "execution_count": 12,
   "id": "2fe077fe",
   "metadata": {
    "ExecuteTime": {
     "end_time": "2023-08-03T17:19:11.577791Z",
     "start_time": "2023-08-03T17:19:10.134454Z"
    },
    "execution": {
     "iopub.execute_input": "2023-08-01T18:26:47.451047Z",
     "iopub.status.busy": "2023-08-01T18:26:47.450584Z",
     "iopub.status.idle": "2023-08-01T18:26:48.503996Z",
     "shell.execute_reply": "2023-08-01T18:26:48.503325Z"
    },
    "papermill": {
     "duration": 1.073247,
     "end_time": "2023-08-01T18:26:48.507144",
     "exception": false,
     "start_time": "2023-08-01T18:26:47.433897",
     "status": "completed"
    },
    "tags": []
   },
   "outputs": [
    {
     "data": {
      "text/html": [
       "<div><img onload=\"(function(div, url){\n",
       "if (typeof require !== 'undefined') {\n",
       "    var baseURL = require.toUrl('').split('/').slice(0, -2).join('/');\n",
       "} else {\n",
       "    var baseURL = JSON.parse(\n",
       "        document.getElementById('jupyter-config-data').innerHTML\n",
       "    ).baseUrl.slice(0, -1);\n",
       "}\n",
       "url = baseURL + url;\n",
       "fetch(url).then(function(res) {\n",
       "    if (res.status === 404) {\n",
       "        div.innerHTML = 'Install QIIME 2 Jupyter extension with:<br />' +\n",
       "                        '<code>jupyter serverextension enable --py qiime2' +\n",
       "                        ' --sys-prefix</code><br />then restart your server.' +\n",
       "                        '<br /><br />(Interactive output not available on ' +\n",
       "                        'static notebook viewer services like nbviewer.)';\n",
       "    } else if (res.status === 409) {\n",
       "        div.innerHTML = 'Visualization no longer in scope. Re-run this cell' +\n",
       "                        ' to see the visualization.';\n",
       "    } else if (res.ok) {\n",
       "        url = res.url;\n",
       "        div.innerHTML = '<iframe src=\\'' + url + '\\' style=\\'' +\n",
       "                        'width: 100%; height: 700px; border: 0;\\'>' +\n",
       "                        '</iframe><hr />Open in a: <a href=\\'' + url + '\\'' +\n",
       "                        ' target=\\'_blank\\'>new window</a>'\n",
       "    } else {\n",
       "        div.innerHTML = 'Something has gone wrong. Check notebook server for' +\n",
       "                        ' errors.';\n",
       "    }\n",
       "});\n",
       "})(this.parentElement, '/qiime2/redirect?location=/tmp/qiime2-archive-gjpqk047')\" src=\"data:image/gif;base64,R0lGODlhAQABAIAAAP///wAAACH5BAEAAAAALAAAAAABAAEAAAICRAEAOw==\" /></div>"
      ],
      "text/plain": [
       "<visualization: Visualization uuid: d1b946f9-bcf5-4fff-a7e3-87b714aa3bcc>"
      ]
     },
     "execution_count": 12,
     "metadata": {},
     "output_type": "execute_result"
    }
   ],
   "source": [
    "demux.visualizers.summarize(res).visualization"
   ]
  }
 ],
 "metadata": {
  "celltoolbar": "Edit Metadata",
  "kernelspec": {
   "display_name": "Python 3 (ipykernel)",
   "language": "python",
   "name": "python3"
  },
  "language_info": {
   "codemirror_mode": {
    "name": "ipython",
    "version": 3
   },
   "file_extension": ".py",
   "mimetype": "text/x-python",
   "name": "python",
   "nbconvert_exporter": "python",
   "pygments_lexer": "ipython3",
   "version": "3.8.12"
  },
  "papermill": {
   "default_parameters": {},
   "duration": 132.169742,
   "end_time": "2023-08-01T18:26:49.450524",
   "environment_variables": {},
   "exception": null,
   "input_path": "nb-templates/step-prepare-data.ipynb",
   "output_path": "/home/lauro/nupeb/rede-micro/redemicro-thayane/experiments/thayane-PM-single-end-trim/nb-executed-steps/step-prepare-data-thayane-PM-single-end-trim.ipynb",
   "parameters": {
    "base_dir": "/home/lauro/nupeb/rede-micro/redemicro-thayane",
    "class_col": "above_10",
    "classifier_file": "/home/lauro/nupeb/16S_classifiers_qiime2/silva-138-99-nb-classifier.qza",
    "experiment_name": "thayane-PM-single-end-trim",
    "manifest_file": "/home/lauro/nupeb/rede-micro/redemicro-thayane/data/manifest-single.csv",
    "metadata_file": "/home/lauro/nupeb/rede-micro/redemicro-thayane/data/single-end-metadata.tsv",
    "overlap": 12,
    "phred": 20,
    "replace_files": false,
    "threads": 6,
    "trim": {
     "forward_primer": "CCTACGGGNGGCWGCAG",
     "overlap": 8,
     "reverse_primer": "GACTACHVGGGTATCTAATCC"
    },
    "trunc_f": 0,
    "trunc_r": 0
   },
   "start_time": "2023-08-01T18:24:37.280782",
   "version": "2.3.4"
  },
  "toc-autonumbering": false,
  "toc-showcode": false,
  "toc-showmarkdowntxt": false
 },
 "nbformat": 4,
 "nbformat_minor": 5
}
