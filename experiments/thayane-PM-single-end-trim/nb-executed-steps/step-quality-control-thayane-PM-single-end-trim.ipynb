{
 "cells": [
  {
   "cell_type": "markdown",
   "id": "14682ff5",
   "metadata": {
    "tags": [
     "papermill-error-cell-tag"
    ]
   },
   "source": [
    "<span style=\"color:red; font-family:Helvetica Neue, Helvetica, Arial, sans-serif; font-size:2em;\">An Exception was encountered at '<a href=\"#papermill-error-cell\">In [11]</a>'.</span>"
   ]
  },
  {
   "cell_type": "markdown",
   "id": "d48ac2f7",
   "metadata": {
    "papermill": {
     "duration": 0.024235,
     "end_time": "2023-08-01T21:39:09.562371",
     "exception": false,
     "start_time": "2023-08-01T21:39:09.538136",
     "status": "completed"
    },
    "tags": []
   },
   "source": [
    "# Quality Control and ASV table construction with DADA2"
   ]
  },
  {
   "cell_type": "markdown",
   "id": "a2dc6ef8",
   "metadata": {
    "papermill": {
     "duration": 0.025929,
     "end_time": "2023-08-01T21:39:09.603755",
     "exception": false,
     "start_time": "2023-08-01T21:39:09.577826",
     "status": "completed"
    },
    "tags": []
   },
   "source": [
    "## Setup and settings"
   ]
  },
  {
   "cell_type": "code",
   "execution_count": 1,
   "id": "915c4f5b",
   "metadata": {
    "ExecuteTime": {
     "end_time": "2023-08-03T17:03:24.171835Z",
     "start_time": "2023-08-03T17:03:16.733904Z"
    },
    "execution": {
     "iopub.execute_input": "2023-08-01T21:39:09.633008Z",
     "iopub.status.busy": "2023-08-01T21:39:09.632600Z",
     "iopub.status.idle": "2023-08-01T21:39:16.167444Z",
     "shell.execute_reply": "2023-08-01T21:39:16.166749Z"
    },
    "papermill": {
     "duration": 6.552688,
     "end_time": "2023-08-01T21:39:16.170580",
     "exception": false,
     "start_time": "2023-08-01T21:39:09.617892",
     "status": "completed"
    },
    "tags": []
   },
   "outputs": [],
   "source": [
    "# Importing packages\n",
    "import os\n",
    "import yaml\n",
    "import logging\n",
    "import pandas as pd\n",
    "from qiime2 import Artifact\n",
    "from qiime2 import Visualization\n",
    "from qiime2 import Metadata\n",
    "import qiime2.plugins.dada2.actions as dada2_actions\n",
    "import qiime2.plugins.metadata.actions as metadata_actions\n",
    "from qiime2.plugins.feature_table.visualizers import tabulate_seqs\n",
    "from qiime2.plugins.feature_table.visualizers import summarize\n",
    "from qiime2.plugins.feature_table.visualizers import core_features\n",
    "from qiime2.plugins.feature_table.methods import filter_samples\n",
    "from qiime2.plugins.feature_table.methods import filter_seqs\n",
    "\n",
    "import matplotlib.pyplot as plt\n",
    "\n",
    "%matplotlib inline"
   ]
  },
  {
   "cell_type": "markdown",
   "id": "418d4338",
   "metadata": {
    "papermill": {
     "duration": 0.014362,
     "end_time": "2023-08-01T21:39:16.203980",
     "exception": false,
     "start_time": "2023-08-01T21:39:16.189618",
     "status": "completed"
    },
    "tags": []
   },
   "source": [
    "### Receiving the parameters\n",
    "\n",
    "The following cell can receive parameters using the [papermill](https://papermill.readthedocs.io/en/latest/) tool."
   ]
  },
  {
   "cell_type": "code",
   "execution_count": 2,
   "id": "df0a948a",
   "metadata": {
    "ExecuteTime": {
     "end_time": "2023-08-03T17:03:24.178748Z",
     "start_time": "2023-08-03T17:03:24.174330Z"
    },
    "execution": {
     "iopub.execute_input": "2023-08-01T21:39:16.277477Z",
     "iopub.status.busy": "2023-08-01T21:39:16.277005Z",
     "iopub.status.idle": "2023-08-01T21:39:16.282824Z",
     "shell.execute_reply": "2023-08-01T21:39:16.282085Z"
    },
    "papermill": {
     "duration": 0.023785,
     "end_time": "2023-08-01T21:39:16.284586",
     "exception": false,
     "start_time": "2023-08-01T21:39:16.260801",
     "status": "completed"
    },
    "tags": [
     "parameters"
    ]
   },
   "outputs": [],
   "source": [
    "experiment_name = 'ana-flavia-superlactacao'\n",
    "base_dir = os.path.join('/', 'home', 'lauro', 'nupeb', 'redemicro')\n",
    "metadata_file = os.path.join(base_dir, 'data', 'raw', 'metadata', 'sample-metadata.tsv')\n",
    "manifest_file = os.path.join(base_dir, 'data', 'raw', 'manifest', 'sample-manifest.csv')\n",
    "replace_files = False\n",
    "phred = 20\n",
    "trunc_f = 0\n",
    "trunc_r = 0\n",
    "overlap = 12\n",
    "threads = 6\n",
    "trim = None"
   ]
  },
  {
   "cell_type": "code",
   "execution_count": 3,
   "id": "4d1c27a1",
   "metadata": {
    "ExecuteTime": {
     "end_time": "2023-08-03T17:03:24.234690Z",
     "start_time": "2023-08-03T17:03:24.180918Z"
    },
    "execution": {
     "iopub.execute_input": "2023-08-01T21:39:16.317630Z",
     "iopub.status.busy": "2023-08-01T21:39:16.317282Z",
     "iopub.status.idle": "2023-08-01T21:39:16.323758Z",
     "shell.execute_reply": "2023-08-01T21:39:16.322908Z"
    },
    "papermill": {
     "duration": 0.024152,
     "end_time": "2023-08-01T21:39:16.325358",
     "exception": false,
     "start_time": "2023-08-01T21:39:16.301206",
     "status": "completed"
    },
    "tags": [
     "injected-parameters"
    ]
   },
   "outputs": [],
   "source": [
    "# Parameters\n",
    "experiment_name = \"thayane-PM-single-end-trim\"\n",
    "base_dir = \"/home/lauro/nupeb/rede-micro/redemicro-thayane\"\n",
    "manifest_file = (\n",
    "    \"/home/lauro/nupeb/rede-micro/redemicro-thayane/data/manifest-single.csv\"\n",
    ")\n",
    "metadata_file = (\n",
    "    \"/home/lauro/nupeb/rede-micro/redemicro-thayane/data/single-end-metadata.tsv\"\n",
    ")\n",
    "class_col = \"above_10\"\n",
    "classifier_file = (\n",
    "    \"/home/lauro/nupeb/16S_classifiers_qiime2/silva-138-99-nb-classifier.qza\"\n",
    ")\n",
    "replace_files = False\n",
    "phred = 20\n",
    "trunc_f = 0\n",
    "trunc_r = 0\n",
    "overlap = 12\n",
    "threads = 6\n",
    "trim = {\n",
    "    \"overlap\": 8,\n",
    "    \"forward_primer\": \"CCTACGGGNGGCWGCAG\",\n",
    "    \"reverse_primer\": \"GACTACHVGGGTATCTAATCC\",\n",
    "}\n"
   ]
  },
  {
   "cell_type": "code",
   "execution_count": 4,
   "id": "44350e58",
   "metadata": {
    "ExecuteTime": {
     "end_time": "2023-08-03T17:03:24.284517Z",
     "start_time": "2023-08-03T17:03:24.237533Z"
    },
    "execution": {
     "iopub.execute_input": "2023-08-01T21:39:16.361628Z",
     "iopub.status.busy": "2023-08-01T21:39:16.361415Z",
     "iopub.status.idle": "2023-08-01T21:39:16.366376Z",
     "shell.execute_reply": "2023-08-01T21:39:16.365692Z"
    },
    "papermill": {
     "duration": 0.025543,
     "end_time": "2023-08-01T21:39:16.367989",
     "exception": false,
     "start_time": "2023-08-01T21:39:16.342446",
     "status": "completed"
    },
    "tags": []
   },
   "outputs": [],
   "source": [
    "# Setting hardcoded parameters for development and debbuging\n",
    "production = True\n",
    "if not production:\n",
    "    params_path = os.path.join('..', 'params', 'ana-flavia-superlactacao.yaml')\n",
    "    with open(params_path, 'r') as stream:\n",
    "        params = yaml.safe_load(stream)\n",
    "        experiment_name = params['experiment_name']\n",
    "        base_dir = params['base_dir']\n",
    "        replace_files = params['replace_files']\n",
    "        experiment_folder = os.path.abspath(os.path.join(os.getcwd(), '..', 'experiments', 'thayane-feces-01'))\n",
    "        img_folder = os.path.abspath(os.path.join(experiment_folder, 'imgs'))\n",
    "        replace_files = False\n",
    "        phred = 20\n",
    "        trunc_f = 0\n",
    "        trunc_r = 0\n",
    "        overlap = 12\n",
    "        threads = 6"
   ]
  },
  {
   "cell_type": "code",
   "execution_count": 5,
   "id": "cda3ecb0",
   "metadata": {
    "ExecuteTime": {
     "end_time": "2023-08-03T17:03:24.297647Z",
     "start_time": "2023-08-03T17:03:24.286157Z"
    },
    "execution": {
     "iopub.execute_input": "2023-08-01T21:39:16.400054Z",
     "iopub.status.busy": "2023-08-01T21:39:16.399692Z",
     "iopub.status.idle": "2023-08-01T21:39:16.404528Z",
     "shell.execute_reply": "2023-08-01T21:39:16.403723Z"
    },
    "papermill": {
     "duration": 0.022277,
     "end_time": "2023-08-01T21:39:16.406230",
     "exception": false,
     "start_time": "2023-08-01T21:39:16.383953",
     "status": "completed"
    },
    "tags": []
   },
   "outputs": [],
   "source": [
    "experiment_folder = os.path.abspath(os.path.join(base_dir, 'experiments', experiment_name))\n",
    "img_folder = os.path.abspath(os.path.join(experiment_folder, 'imgs'))"
   ]
  },
  {
   "cell_type": "markdown",
   "id": "4f0d3662",
   "metadata": {
    "papermill": {
     "duration": 0.015068,
     "end_time": "2023-08-01T21:39:16.437457",
     "exception": false,
     "start_time": "2023-08-01T21:39:16.422389",
     "status": "completed"
    },
    "tags": []
   },
   "source": [
    "### Defining names and paths"
   ]
  },
  {
   "cell_type": "code",
   "execution_count": 6,
   "id": "88d263a1",
   "metadata": {
    "ExecuteTime": {
     "end_time": "2023-08-03T17:03:24.330686Z",
     "start_time": "2023-08-03T17:03:24.299681Z"
    },
    "execution": {
     "iopub.execute_input": "2023-08-01T21:39:16.468106Z",
     "iopub.status.busy": "2023-08-01T21:39:16.467765Z",
     "iopub.status.idle": "2023-08-01T21:39:16.474923Z",
     "shell.execute_reply": "2023-08-01T21:39:16.474084Z"
    },
    "papermill": {
     "duration": 0.024125,
     "end_time": "2023-08-01T21:39:16.476471",
     "exception": false,
     "start_time": "2023-08-01T21:39:16.452346",
     "status": "completed"
    },
    "tags": []
   },
   "outputs": [],
   "source": [
    "qiime_folder = os.path.join(experiment_folder, 'qiime-artifacts')\n",
    "\n",
    "if trim:\n",
    "    demux_file = os.path.join(qiime_folder, 'demux-paired-trim.qza')\n",
    "else:\n",
    "    demux_file = os.path.join(qiime_folder, 'demux-paired.qza')\n",
    "\n",
    "dada2_tabs = os.path.join(qiime_folder, 'dada2-tabs.qza')\n",
    "dada2_reps = os.path.join(qiime_folder, 'dada2-reps.qza')\n",
    "dada2_stat = os.path.join(qiime_folder, 'dada2-stat.qza')\n",
    "\n",
    "\n",
    "dada2_tabs_view = dada2_tabs[:-1] + 'v'\n",
    "dada2_reps_view = dada2_reps[:-1] + 'v'\n",
    "dada2_stat_view = dada2_stat[:-1] + 'v'\n",
    "dada2_core_view = os.path.join(qiime_folder, 'dada2-core.qzv')"
   ]
  },
  {
   "cell_type": "markdown",
   "id": "5b64ce16",
   "metadata": {
    "papermill": {
     "duration": 0.014793,
     "end_time": "2023-08-01T21:39:16.508704",
     "exception": false,
     "start_time": "2023-08-01T21:39:16.493911",
     "status": "completed"
    },
    "tags": []
   },
   "source": [
    "## Step execution\n",
    "\n",
    "### Load input files\n",
    "\n",
    "This Step import the QIIME2 `SampleData[PairedEndSequencesWithQuality]` Artifact with all demultiplexed sequences and the `Metadata` file."
   ]
  },
  {
   "cell_type": "code",
   "execution_count": 7,
   "id": "9d6bb37f",
   "metadata": {
    "ExecuteTime": {
     "end_time": "2023-08-03T17:03:24.361107Z",
     "start_time": "2023-08-03T17:03:24.332491Z"
    },
    "execution": {
     "iopub.execute_input": "2023-08-01T21:39:16.539812Z",
     "iopub.status.busy": "2023-08-01T21:39:16.539427Z",
     "iopub.status.idle": "2023-08-01T21:39:16.545527Z",
     "shell.execute_reply": "2023-08-01T21:39:16.544536Z"
    },
    "papermill": {
     "duration": 0.023469,
     "end_time": "2023-08-01T21:39:16.547122",
     "exception": false,
     "start_time": "2023-08-01T21:39:16.523653",
     "status": "completed"
    },
    "tags": []
   },
   "outputs": [],
   "source": [
    "need_dada2 = not (os.path.isfile(dada2_tabs) and os.path.isfile(dada2_reps) and os.path.isfile(dada2_stat)) or replace_files\n",
    "need_view = not (os.path.isfile(dada2_tabs_view) and os.path.isfile(dada2_reps_view) and os.path.isfile(dada2_stat_view)) or replace_files"
   ]
  },
  {
   "cell_type": "code",
   "execution_count": 8,
   "id": "1e6d783b",
   "metadata": {
    "ExecuteTime": {
     "end_time": "2023-08-03T17:03:24.384349Z",
     "start_time": "2023-08-03T17:03:24.363176Z"
    },
    "execution": {
     "iopub.execute_input": "2023-08-01T21:39:16.580590Z",
     "iopub.status.busy": "2023-08-01T21:39:16.580115Z",
     "iopub.status.idle": "2023-08-01T21:39:16.598336Z",
     "shell.execute_reply": "2023-08-01T21:39:16.597827Z"
    },
    "papermill": {
     "duration": 0.036066,
     "end_time": "2023-08-01T21:39:16.600110",
     "exception": false,
     "start_time": "2023-08-01T21:39:16.564044",
     "status": "completed"
    },
    "tags": []
   },
   "outputs": [],
   "source": [
    "if need_dada2:\n",
    "    demux = Artifact.load(demux_file)"
   ]
  },
  {
   "cell_type": "code",
   "execution_count": 12,
   "id": "518ce07a",
   "metadata": {
    "ExecuteTime": {
     "end_time": "2023-08-03T17:03:46.999843Z",
     "start_time": "2023-08-03T17:03:46.995918Z"
    }
   },
   "outputs": [
    {
     "data": {
      "text/plain": [
       "<bound method Artifact.view of <artifact: SampleData[SequencesWithQuality] uuid: 2339b63d-45ef-44ef-9d3e-dd37d1f31782>>"
      ]
     },
     "execution_count": 12,
     "metadata": {},
     "output_type": "execute_result"
    }
   ],
   "source": [
    "demux.view"
   ]
  },
  {
   "cell_type": "code",
   "execution_count": 9,
   "id": "77807eeb",
   "metadata": {
    "ExecuteTime": {
     "end_time": "2023-08-03T17:03:24.402981Z",
     "start_time": "2023-08-03T17:03:24.386552Z"
    },
    "execution": {
     "iopub.execute_input": "2023-08-01T21:39:16.635995Z",
     "iopub.status.busy": "2023-08-01T21:39:16.635532Z",
     "iopub.status.idle": "2023-08-01T21:39:16.657357Z",
     "shell.execute_reply": "2023-08-01T21:39:16.656815Z"
    },
    "papermill": {
     "duration": 0.040036,
     "end_time": "2023-08-01T21:39:16.659321",
     "exception": false,
     "start_time": "2023-08-01T21:39:16.619285",
     "status": "completed"
    },
    "tags": []
   },
   "outputs": [],
   "source": [
    "metadata = Metadata.load(metadata_file)"
   ]
  },
  {
   "cell_type": "code",
   "execution_count": 10,
   "id": "26615ff1",
   "metadata": {
    "ExecuteTime": {
     "end_time": "2023-08-03T17:03:24.410629Z",
     "start_time": "2023-08-03T17:03:24.405336Z"
    },
    "execution": {
     "iopub.execute_input": "2023-08-01T21:39:16.697153Z",
     "iopub.status.busy": "2023-08-01T21:39:16.696768Z",
     "iopub.status.idle": "2023-08-01T21:39:16.705895Z",
     "shell.execute_reply": "2023-08-01T21:39:16.704839Z"
    },
    "papermill": {
     "duration": 0.027683,
     "end_time": "2023-08-01T21:39:16.707739",
     "exception": false,
     "start_time": "2023-08-01T21:39:16.680056",
     "status": "completed"
    },
    "tags": []
   },
   "outputs": [],
   "source": [
    "# Determine if is SingleEnd or PairedEnd\n",
    "manifest_df = pd.read_csv(manifest_file)\n",
    "n_directions = len(manifest_df['direction'].unique())"
   ]
  },
  {
   "cell_type": "markdown",
   "id": "69904ebe",
   "metadata": {
    "papermill": {
     "duration": 0.015769,
     "end_time": "2023-08-01T21:39:16.741638",
     "exception": false,
     "start_time": "2023-08-01T21:39:16.725869",
     "status": "completed"
    },
    "tags": []
   },
   "source": [
    "### Execute DADA2 plugin and create Artifacts\n",
    "\n",
    "The DADA2 plugin perform tha quality control and create the ASV table. It will be produced three Artifacts:\n",
    "\n",
    "- tabs (`FeatureTable[Frequency]`) : \n",
    "    The resulting feature table.\n",
    "- reps (`FeatureData[Sequence]`) :\n",
    "    The resulting feature sequences. Each feature in the feature table will\n",
    "    be represented by exactly one sequence, and these sequences will be the\n",
    "    joined paired-end sequences.\n",
    "- denoising_stats (`SampleData[DADA2Stats]`) : the resulting stats. Shows the number and the proportion of filtered reads in each phase of the plugin execution."
   ]
  },
  {
   "cell_type": "markdown",
   "id": "6266ee51",
   "metadata": {
    "tags": [
     "papermill-error-cell-tag"
    ]
   },
   "source": [
    "<span id=\"papermill-error-cell\" style=\"color:red; font-family:Helvetica Neue, Helvetica, Arial, sans-serif; font-size:2em;\">Execution using papermill encountered an exception here and stopped:</span>"
   ]
  },
  {
   "cell_type": "code",
   "execution_count": 11,
   "id": "8a2b5f38",
   "metadata": {
    "ExecuteTime": {
     "end_time": "2022-05-30T19:57:39.171629Z",
     "start_time": "2022-05-30T19:57:39.147370Z"
    },
    "execution": {
     "iopub.execute_input": "2023-08-01T21:39:16.774816Z",
     "iopub.status.busy": "2023-08-01T21:39:16.774329Z",
     "iopub.status.idle": "2023-08-01T21:39:29.274300Z",
     "shell.execute_reply": "2023-08-01T21:39:29.273348Z"
    },
    "papermill": {
     "duration": 12.520802,
     "end_time": "2023-08-01T21:39:29.278222",
     "exception": true,
     "start_time": "2023-08-01T21:39:16.757420",
     "status": "failed"
    },
    "scrolled": true,
    "tags": []
   },
   "outputs": [
    {
     "name": "stdout",
     "output_type": "stream",
     "text": [
      "Running external command line application(s). This may print messages to stdout and/or stderr.\n",
      "The command(s) being run are below. These commands cannot be manually re-run as they will depend on temporary files that no longer exist.\n",
      "\n",
      "Command: run_dada_single.R /tmp/qiime2-archive-9c4pth_t/2339b63d-45ef-44ef-9d3e-dd37d1f31782/data /tmp/tmp6m6ulsjj/output.tsv.biom /tmp/tmp6m6ulsjj/track.tsv /tmp/tmp6m6ulsjj 0 0 2.0 20 Inf independent consensus 1.0 6 1000000 NULL 16\n",
      "\n",
      "R version 4.1.2 (2021-11-01) \n"
     ]
    },
    {
     "name": "stderr",
     "output_type": "stream",
     "text": [
      "Loading required package: Rcpp\n"
     ]
    },
    {
     "name": "stdout",
     "output_type": "stream",
     "text": [
      "DADA2: 1.22.0 / Rcpp: 1.0.8.2 / RcppParallel: 5.1.5 \n",
      "1) Filtering "
     ]
    },
    {
     "name": "stderr",
     "output_type": "stream",
     "text": [
      "The filter removed all reads: /tmp/tmp6m6ulsjj/M09_3_L001_R1_001.fastq.gz not written.\n",
      "The filter removed all reads: /tmp/tmp6m6ulsjj/M12_4_L001_R1_001.fastq.gz not written.\n",
      "Some input samples had no reads pass the filter.\n"
     ]
    },
    {
     "name": "stdout",
     "output_type": "stream",
     "text": [
      "...xx.\n",
      "2) Learning Error Rates\n",
      "587 total bases in 6 reads from 4 samples will be used for learning the error rates.\n"
     ]
    },
    {
     "name": "stderr",
     "output_type": "stream",
     "text": [
      "Error rates could not be estimated (this is usually because of very few reads).\n",
      "Error in getErrors(err, enforce = TRUE) : Error matrix is NULL.\n",
      "Execution halted\n"
     ]
    },
    {
     "ename": "Exception",
     "evalue": "An error was encountered while running DADA2 in R (return code 1), please inspect stdout and stderr to learn more.",
     "output_type": "error",
     "traceback": [
      "\u001b[0;31m---------------------------------------------------------------------------\u001b[0m",
      "\u001b[0;31mCalledProcessError\u001b[0m                        Traceback (most recent call last)",
      "File \u001b[0;32m~/anaconda3/envs/qiime2-2022.2/lib/python3.8/site-packages/q2_dada2/_denoise.py:195\u001b[0m, in \u001b[0;36m_denoise_single\u001b[0;34m(demultiplexed_seqs, trunc_len, trim_left, max_ee, trunc_q, max_len, pooling_method, chimera_method, min_fold_parent_over_abundance, n_threads, n_reads_learn, hashed_feature_ids, homopolymer_gap_penalty, band_size)\u001b[0m\n\u001b[1;32m    194\u001b[0m \u001b[38;5;28;01mtry\u001b[39;00m:\n\u001b[0;32m--> 195\u001b[0m     \u001b[43mrun_commands\u001b[49m\u001b[43m(\u001b[49m\u001b[43m[\u001b[49m\u001b[43mcmd\u001b[49m\u001b[43m]\u001b[49m\u001b[43m)\u001b[49m\n\u001b[1;32m    196\u001b[0m \u001b[38;5;28;01mexcept\u001b[39;00m subprocess\u001b[38;5;241m.\u001b[39mCalledProcessError \u001b[38;5;28;01mas\u001b[39;00m e:\n",
      "File \u001b[0;32m~/anaconda3/envs/qiime2-2022.2/lib/python3.8/site-packages/q2_dada2/_denoise.py:36\u001b[0m, in \u001b[0;36mrun_commands\u001b[0;34m(cmds, verbose)\u001b[0m\n\u001b[1;32m     35\u001b[0m     \u001b[38;5;28mprint\u001b[39m(\u001b[38;5;124m\"\u001b[39m\u001b[38;5;124m \u001b[39m\u001b[38;5;124m\"\u001b[39m\u001b[38;5;241m.\u001b[39mjoin(cmd), end\u001b[38;5;241m=\u001b[39m\u001b[38;5;124m'\u001b[39m\u001b[38;5;130;01m\\n\u001b[39;00m\u001b[38;5;130;01m\\n\u001b[39;00m\u001b[38;5;124m'\u001b[39m)\n\u001b[0;32m---> 36\u001b[0m \u001b[43msubprocess\u001b[49m\u001b[38;5;241;43m.\u001b[39;49m\u001b[43mrun\u001b[49m\u001b[43m(\u001b[49m\u001b[43mcmd\u001b[49m\u001b[43m,\u001b[49m\u001b[43m \u001b[49m\u001b[43mcheck\u001b[49m\u001b[38;5;241;43m=\u001b[39;49m\u001b[38;5;28;43;01mTrue\u001b[39;49;00m\u001b[43m)\u001b[49m\n",
      "File \u001b[0;32m~/anaconda3/envs/qiime2-2022.2/lib/python3.8/subprocess.py:516\u001b[0m, in \u001b[0;36mrun\u001b[0;34m(input, capture_output, timeout, check, *popenargs, **kwargs)\u001b[0m\n\u001b[1;32m    515\u001b[0m     \u001b[38;5;28;01mif\u001b[39;00m check \u001b[38;5;129;01mand\u001b[39;00m retcode:\n\u001b[0;32m--> 516\u001b[0m         \u001b[38;5;28;01mraise\u001b[39;00m CalledProcessError(retcode, process\u001b[38;5;241m.\u001b[39margs,\n\u001b[1;32m    517\u001b[0m                                  output\u001b[38;5;241m=\u001b[39mstdout, stderr\u001b[38;5;241m=\u001b[39mstderr)\n\u001b[1;32m    518\u001b[0m \u001b[38;5;28;01mreturn\u001b[39;00m CompletedProcess(process\u001b[38;5;241m.\u001b[39margs, retcode, stdout, stderr)\n",
      "\u001b[0;31mCalledProcessError\u001b[0m: Command '['run_dada_single.R', '/tmp/qiime2-archive-9c4pth_t/2339b63d-45ef-44ef-9d3e-dd37d1f31782/data', '/tmp/tmp6m6ulsjj/output.tsv.biom', '/tmp/tmp6m6ulsjj/track.tsv', '/tmp/tmp6m6ulsjj', '0', '0', '2.0', '20', 'Inf', 'independent', 'consensus', '1.0', '6', '1000000', 'NULL', '16']' returned non-zero exit status 1.",
      "\nDuring handling of the above exception, another exception occurred:\n",
      "\u001b[0;31mException\u001b[0m                                 Traceback (most recent call last)",
      "Input \u001b[0;32mIn [11]\u001b[0m, in \u001b[0;36m<module>\u001b[0;34m\u001b[0m\n\u001b[1;32m      2\u001b[0m \u001b[38;5;28;01mif\u001b[39;00m need_dada2:\n\u001b[1;32m      3\u001b[0m     \n\u001b[1;32m      4\u001b[0m     \u001b[38;5;66;03m# Excute the DADA2 plugin\u001b[39;00m\n\u001b[1;32m      5\u001b[0m     \u001b[38;5;28;01mif\u001b[39;00m n_directions \u001b[38;5;241m==\u001b[39m \u001b[38;5;241m1\u001b[39m: \u001b[38;5;66;03m# SingleEnd\u001b[39;00m\n\u001b[0;32m----> 6\u001b[0m         tabs, reps, stat \u001b[38;5;241m=\u001b[39m \u001b[43mdada2_actions\u001b[49m\u001b[38;5;241;43m.\u001b[39;49m\u001b[43mdenoise_single\u001b[49m\u001b[43m(\u001b[49m\n\u001b[1;32m      7\u001b[0m \u001b[43m            \u001b[49m\u001b[43mdemultiplexed_seqs\u001b[49m\u001b[38;5;241;43m=\u001b[39;49m\u001b[43mdemux\u001b[49m\u001b[43m,\u001b[49m\n\u001b[1;32m      8\u001b[0m \u001b[43m            \u001b[49m\u001b[43mtrunc_q\u001b[49m\u001b[43m \u001b[49m\u001b[38;5;241;43m=\u001b[39;49m\u001b[43m \u001b[49m\u001b[43mphred\u001b[49m\u001b[43m,\u001b[49m\n\u001b[1;32m      9\u001b[0m \u001b[43m            \u001b[49m\u001b[43mn_threads\u001b[49m\u001b[43m \u001b[49m\u001b[38;5;241;43m=\u001b[39;49m\u001b[43m \u001b[49m\u001b[43mthreads\u001b[49m\u001b[43m,\u001b[49m\n\u001b[1;32m     10\u001b[0m \u001b[43m            \u001b[49m\u001b[43mtrunc_len\u001b[49m\u001b[43m \u001b[49m\u001b[38;5;241;43m=\u001b[39;49m\u001b[43m \u001b[49m\u001b[43mtrunc_f\u001b[49m\u001b[43m,\u001b[49m\n\u001b[1;32m     11\u001b[0m \u001b[43m        \u001b[49m\u001b[43m)\u001b[49m\n\u001b[1;32m     12\u001b[0m     \u001b[38;5;28;01melif\u001b[39;00m n_directions \u001b[38;5;241m==\u001b[39m \u001b[38;5;241m2\u001b[39m: \u001b[38;5;66;03m# PairedEnd\u001b[39;00m\n\u001b[1;32m     13\u001b[0m         tabs, reps, stat \u001b[38;5;241m=\u001b[39m dada2_actions\u001b[38;5;241m.\u001b[39mdenoise_paired(\n\u001b[1;32m     14\u001b[0m             demultiplexed_seqs\u001b[38;5;241m=\u001b[39mdemux,\n\u001b[1;32m     15\u001b[0m             trunc_q \u001b[38;5;241m=\u001b[39m phred,\n\u001b[0;32m   (...)\u001b[0m\n\u001b[1;32m     19\u001b[0m             trunc_len_r \u001b[38;5;241m=\u001b[39m trunc_r,\n\u001b[1;32m     20\u001b[0m         )\n",
      "File \u001b[0;32m<decorator-gen-448>:2\u001b[0m, in \u001b[0;36mdenoise_single\u001b[0;34m(demultiplexed_seqs, trunc_len, trim_left, max_ee, trunc_q, pooling_method, chimera_method, min_fold_parent_over_abundance, n_threads, n_reads_learn, hashed_feature_ids)\u001b[0m\n",
      "File \u001b[0;32m~/anaconda3/envs/qiime2-2022.2/lib/python3.8/site-packages/qiime2/sdk/action.py:245\u001b[0m, in \u001b[0;36mAction._bind.<locals>.bound_callable\u001b[0;34m(*args, **kwargs)\u001b[0m\n\u001b[1;32m    241\u001b[0m         warn(\u001b[38;5;28mself\u001b[39m\u001b[38;5;241m.\u001b[39m_build_deprecation_message(),\n\u001b[1;32m    242\u001b[0m              \u001b[38;5;167;01mFutureWarning\u001b[39;00m)\n\u001b[1;32m    244\u001b[0m \u001b[38;5;66;03m# Execute\u001b[39;00m\n\u001b[0;32m--> 245\u001b[0m outputs \u001b[38;5;241m=\u001b[39m \u001b[38;5;28;43mself\u001b[39;49m\u001b[38;5;241;43m.\u001b[39;49m\u001b[43m_callable_executor_\u001b[49m\u001b[43m(\u001b[49m\u001b[43mscope\u001b[49m\u001b[43m,\u001b[49m\u001b[43m \u001b[49m\u001b[43mcallable_args\u001b[49m\u001b[43m,\u001b[49m\n\u001b[1;32m    246\u001b[0m \u001b[43m                                   \u001b[49m\u001b[43moutput_types\u001b[49m\u001b[43m,\u001b[49m\u001b[43m \u001b[49m\u001b[43mprovenance\u001b[49m\u001b[43m)\u001b[49m\n\u001b[1;32m    248\u001b[0m \u001b[38;5;28;01mif\u001b[39;00m \u001b[38;5;28mlen\u001b[39m(outputs) \u001b[38;5;241m!=\u001b[39m \u001b[38;5;28mlen\u001b[39m(\u001b[38;5;28mself\u001b[39m\u001b[38;5;241m.\u001b[39msignature\u001b[38;5;241m.\u001b[39moutputs):\n\u001b[1;32m    249\u001b[0m     \u001b[38;5;28;01mraise\u001b[39;00m \u001b[38;5;167;01mValueError\u001b[39;00m(\n\u001b[1;32m    250\u001b[0m         \u001b[38;5;124m\"\u001b[39m\u001b[38;5;124mNumber of callable outputs must match number of \u001b[39m\u001b[38;5;124m\"\u001b[39m\n\u001b[1;32m    251\u001b[0m         \u001b[38;5;124m\"\u001b[39m\u001b[38;5;124moutputs defined in signature: \u001b[39m\u001b[38;5;132;01m%d\u001b[39;00m\u001b[38;5;124m != \u001b[39m\u001b[38;5;132;01m%d\u001b[39;00m\u001b[38;5;124m\"\u001b[39m \u001b[38;5;241m%\u001b[39m\n\u001b[1;32m    252\u001b[0m         (\u001b[38;5;28mlen\u001b[39m(outputs), \u001b[38;5;28mlen\u001b[39m(\u001b[38;5;28mself\u001b[39m\u001b[38;5;241m.\u001b[39msignature\u001b[38;5;241m.\u001b[39moutputs)))\n",
      "File \u001b[0;32m~/anaconda3/envs/qiime2-2022.2/lib/python3.8/site-packages/qiime2/sdk/action.py:391\u001b[0m, in \u001b[0;36mMethod._callable_executor_\u001b[0;34m(self, scope, view_args, output_types, provenance)\u001b[0m\n\u001b[1;32m    390\u001b[0m \u001b[38;5;28;01mdef\u001b[39;00m \u001b[38;5;21m_callable_executor_\u001b[39m(\u001b[38;5;28mself\u001b[39m, scope, view_args, output_types, provenance):\n\u001b[0;32m--> 391\u001b[0m     output_views \u001b[38;5;241m=\u001b[39m \u001b[38;5;28;43mself\u001b[39;49m\u001b[38;5;241;43m.\u001b[39;49m\u001b[43m_callable\u001b[49m\u001b[43m(\u001b[49m\u001b[38;5;241;43m*\u001b[39;49m\u001b[38;5;241;43m*\u001b[39;49m\u001b[43mview_args\u001b[49m\u001b[43m)\u001b[49m\n\u001b[1;32m    392\u001b[0m     output_views \u001b[38;5;241m=\u001b[39m tuplize(output_views)\n\u001b[1;32m    394\u001b[0m     \u001b[38;5;66;03m# TODO this won't work if the user has annotated their \"view API\" to\u001b[39;00m\n\u001b[1;32m    395\u001b[0m     \u001b[38;5;66;03m# return a `typing.Tuple` with some number of components. Python will\u001b[39;00m\n\u001b[1;32m    396\u001b[0m     \u001b[38;5;66;03m# return a tuple when there are multiple return values, and this length\u001b[39;00m\n\u001b[0;32m   (...)\u001b[0m\n\u001b[1;32m    399\u001b[0m     \u001b[38;5;66;03m# due to how Python handles multiple returns, and can be worked around\u001b[39;00m\n\u001b[1;32m    400\u001b[0m     \u001b[38;5;66;03m# by using something like `typing.List` instead.\u001b[39;00m\n",
      "File \u001b[0;32m~/anaconda3/envs/qiime2-2022.2/lib/python3.8/site-packages/q2_dada2/_denoise.py:218\u001b[0m, in \u001b[0;36mdenoise_single\u001b[0;34m(demultiplexed_seqs, trunc_len, trim_left, max_ee, trunc_q, pooling_method, chimera_method, min_fold_parent_over_abundance, n_threads, n_reads_learn, hashed_feature_ids)\u001b[0m\n\u001b[1;32m    210\u001b[0m \u001b[38;5;28;01mdef\u001b[39;00m \u001b[38;5;21mdenoise_single\u001b[39m(demultiplexed_seqs: SingleLanePerSampleSingleEndFastqDirFmt,\n\u001b[1;32m    211\u001b[0m                    trunc_len: \u001b[38;5;28mint\u001b[39m, trim_left: \u001b[38;5;28mint\u001b[39m \u001b[38;5;241m=\u001b[39m \u001b[38;5;241m0\u001b[39m, max_ee: \u001b[38;5;28mfloat\u001b[39m \u001b[38;5;241m=\u001b[39m \u001b[38;5;241m2.0\u001b[39m,\n\u001b[1;32m    212\u001b[0m                    trunc_q: \u001b[38;5;28mint\u001b[39m \u001b[38;5;241m=\u001b[39m \u001b[38;5;241m2\u001b[39m, pooling_method: \u001b[38;5;28mstr\u001b[39m \u001b[38;5;241m=\u001b[39m \u001b[38;5;124m'\u001b[39m\u001b[38;5;124mindependent\u001b[39m\u001b[38;5;124m'\u001b[39m,\n\u001b[0;32m   (...)\u001b[0m\n\u001b[1;32m    216\u001b[0m                    hashed_feature_ids: \u001b[38;5;28mbool\u001b[39m \u001b[38;5;241m=\u001b[39m \u001b[38;5;28;01mTrue\u001b[39;00m\n\u001b[1;32m    217\u001b[0m                    ) \u001b[38;5;241m-\u001b[39m\u001b[38;5;241m>\u001b[39m (biom\u001b[38;5;241m.\u001b[39mTable, DNAIterator, qiime2\u001b[38;5;241m.\u001b[39mMetadata):\n\u001b[0;32m--> 218\u001b[0m     \u001b[38;5;28;01mreturn\u001b[39;00m \u001b[43m_denoise_single\u001b[49m\u001b[43m(\u001b[49m\n\u001b[1;32m    219\u001b[0m \u001b[43m        \u001b[49m\u001b[43mdemultiplexed_seqs\u001b[49m\u001b[38;5;241;43m=\u001b[39;49m\u001b[43mdemultiplexed_seqs\u001b[49m\u001b[43m,\u001b[49m\n\u001b[1;32m    220\u001b[0m \u001b[43m        \u001b[49m\u001b[43mtrunc_len\u001b[49m\u001b[38;5;241;43m=\u001b[39;49m\u001b[43mtrunc_len\u001b[49m\u001b[43m,\u001b[49m\n\u001b[1;32m    221\u001b[0m \u001b[43m        \u001b[49m\u001b[43mtrim_left\u001b[49m\u001b[38;5;241;43m=\u001b[39;49m\u001b[43mtrim_left\u001b[49m\u001b[43m,\u001b[49m\n\u001b[1;32m    222\u001b[0m \u001b[43m        \u001b[49m\u001b[43mmax_ee\u001b[49m\u001b[38;5;241;43m=\u001b[39;49m\u001b[43mmax_ee\u001b[49m\u001b[43m,\u001b[49m\n\u001b[1;32m    223\u001b[0m \u001b[43m        \u001b[49m\u001b[43mtrunc_q\u001b[49m\u001b[38;5;241;43m=\u001b[39;49m\u001b[43mtrunc_q\u001b[49m\u001b[43m,\u001b[49m\n\u001b[1;32m    224\u001b[0m \u001b[43m        \u001b[49m\u001b[43mmax_len\u001b[49m\u001b[38;5;241;43m=\u001b[39;49m\u001b[38;5;241;43m0\u001b[39;49m\u001b[43m,\u001b[49m\n\u001b[1;32m    225\u001b[0m \u001b[43m        \u001b[49m\u001b[43mpooling_method\u001b[49m\u001b[38;5;241;43m=\u001b[39;49m\u001b[43mpooling_method\u001b[49m\u001b[43m,\u001b[49m\n\u001b[1;32m    226\u001b[0m \u001b[43m        \u001b[49m\u001b[43mchimera_method\u001b[49m\u001b[38;5;241;43m=\u001b[39;49m\u001b[43mchimera_method\u001b[49m\u001b[43m,\u001b[49m\n\u001b[1;32m    227\u001b[0m \u001b[43m        \u001b[49m\u001b[43mmin_fold_parent_over_abundance\u001b[49m\u001b[38;5;241;43m=\u001b[39;49m\u001b[43mmin_fold_parent_over_abundance\u001b[49m\u001b[43m,\u001b[49m\n\u001b[1;32m    228\u001b[0m \u001b[43m        \u001b[49m\u001b[43mn_threads\u001b[49m\u001b[38;5;241;43m=\u001b[39;49m\u001b[43mn_threads\u001b[49m\u001b[43m,\u001b[49m\n\u001b[1;32m    229\u001b[0m \u001b[43m        \u001b[49m\u001b[43mn_reads_learn\u001b[49m\u001b[38;5;241;43m=\u001b[39;49m\u001b[43mn_reads_learn\u001b[49m\u001b[43m,\u001b[49m\n\u001b[1;32m    230\u001b[0m \u001b[43m        \u001b[49m\u001b[43mhashed_feature_ids\u001b[49m\u001b[38;5;241;43m=\u001b[39;49m\u001b[43mhashed_feature_ids\u001b[49m\u001b[43m,\u001b[49m\n\u001b[1;32m    231\u001b[0m \u001b[43m        \u001b[49m\u001b[43mhomopolymer_gap_penalty\u001b[49m\u001b[38;5;241;43m=\u001b[39;49m\u001b[38;5;124;43m'\u001b[39;49m\u001b[38;5;124;43mNULL\u001b[39;49m\u001b[38;5;124;43m'\u001b[39;49m\u001b[43m,\u001b[49m\n\u001b[1;32m    232\u001b[0m \u001b[43m        \u001b[49m\u001b[43mband_size\u001b[49m\u001b[38;5;241;43m=\u001b[39;49m\u001b[38;5;124;43m'\u001b[39;49m\u001b[38;5;124;43m16\u001b[39;49m\u001b[38;5;124;43m'\u001b[39;49m\u001b[43m)\u001b[49m\n",
      "File \u001b[0;32m~/anaconda3/envs/qiime2-2022.2/lib/python3.8/site-packages/q2_dada2/_denoise.py:204\u001b[0m, in \u001b[0;36m_denoise_single\u001b[0;34m(demultiplexed_seqs, trunc_len, trim_left, max_ee, trunc_q, max_len, pooling_method, chimera_method, min_fold_parent_over_abundance, n_threads, n_reads_learn, hashed_feature_ids, homopolymer_gap_penalty, band_size)\u001b[0m\n\u001b[1;32m    198\u001b[0m         \u001b[38;5;28;01mraise\u001b[39;00m \u001b[38;5;167;01mValueError\u001b[39;00m(\n\u001b[1;32m    199\u001b[0m             \u001b[38;5;124m\"\u001b[39m\u001b[38;5;124mNo reads passed the filter. trunc_len (\u001b[39m\u001b[38;5;132;01m%r\u001b[39;00m\u001b[38;5;124m) may be longer\u001b[39m\u001b[38;5;124m\"\u001b[39m\n\u001b[1;32m    200\u001b[0m             \u001b[38;5;124m\"\u001b[39m\u001b[38;5;124m than read lengths, or other arguments (such as max_ee\u001b[39m\u001b[38;5;124m\"\u001b[39m\n\u001b[1;32m    201\u001b[0m             \u001b[38;5;124m\"\u001b[39m\u001b[38;5;124m or trunc_q) may be preventing reads from passing the\u001b[39m\u001b[38;5;124m\"\u001b[39m\n\u001b[1;32m    202\u001b[0m             \u001b[38;5;124m\"\u001b[39m\u001b[38;5;124m filter.\u001b[39m\u001b[38;5;124m\"\u001b[39m \u001b[38;5;241m%\u001b[39m trunc_len)\n\u001b[1;32m    203\u001b[0m     \u001b[38;5;28;01melse\u001b[39;00m:\n\u001b[0;32m--> 204\u001b[0m         \u001b[38;5;28;01mraise\u001b[39;00m \u001b[38;5;167;01mException\u001b[39;00m(\u001b[38;5;124m\"\u001b[39m\u001b[38;5;124mAn error was encountered while running DADA2\u001b[39m\u001b[38;5;124m\"\u001b[39m\n\u001b[1;32m    205\u001b[0m                         \u001b[38;5;124m\"\u001b[39m\u001b[38;5;124m in R (return code \u001b[39m\u001b[38;5;132;01m%d\u001b[39;00m\u001b[38;5;124m), please inspect stdout\u001b[39m\u001b[38;5;124m\"\u001b[39m\n\u001b[1;32m    206\u001b[0m                         \u001b[38;5;124m\"\u001b[39m\u001b[38;5;124m and stderr to learn more.\u001b[39m\u001b[38;5;124m\"\u001b[39m \u001b[38;5;241m%\u001b[39m e\u001b[38;5;241m.\u001b[39mreturncode)\n\u001b[1;32m    207\u001b[0m \u001b[38;5;28;01mreturn\u001b[39;00m _denoise_helper(biom_fp, track_fp, hashed_feature_ids)\n",
      "\u001b[0;31mException\u001b[0m: An error was encountered while running DADA2 in R (return code 1), please inspect stdout and stderr to learn more."
     ]
    }
   ],
   "source": [
    "# If some of the DADA2 outputs artifacts do not exist or if the old files will be replaced\n",
    "if need_dada2:\n",
    "    \n",
    "    # Excute the DADA2 plugin\n",
    "    if n_directions == 1: # SingleEnd\n",
    "        tabs, reps, stat = dada2_actions.denoise_single(\n",
    "            demultiplexed_seqs=demux,\n",
    "            trunc_q = phred,\n",
    "            n_threads = threads,\n",
    "            trunc_len = trunc_f,\n",
    "        )\n",
    "    elif n_directions == 2: # PairedEnd\n",
    "        tabs, reps, stat = dada2_actions.denoise_paired(\n",
    "            demultiplexed_seqs=demux,\n",
    "            trunc_q = phred,\n",
    "            min_overlap = overlap,\n",
    "            n_threads = threads,\n",
    "            trunc_len_f = trunc_f,\n",
    "            trunc_len_r = trunc_r,\n",
    "        )\n",
    "    \n",
    "    # Save the artifacts objects\n",
    "    tabs.save(dada2_tabs)\n",
    "    reps.save(dada2_reps)\n",
    "    stat.save(dada2_stat)\n",
    "\n",
    "else:\n",
    "    tabs = Artifact.load(dada2_tabs)\n",
    "    reps = Artifact.load(dada2_reps)\n",
    "    stat = Artifact.load(dada2_stat)"
   ]
  },
  {
   "cell_type": "markdown",
   "id": "783c2dc0",
   "metadata": {
    "papermill": {
     "duration": null,
     "end_time": null,
     "exception": null,
     "start_time": null,
     "status": "pending"
    },
    "tags": []
   },
   "source": [
    "### Filter samples"
   ]
  },
  {
   "cell_type": "code",
   "execution_count": null,
   "id": "1d4d1638",
   "metadata": {
    "papermill": {
     "duration": null,
     "end_time": null,
     "exception": null,
     "start_time": null,
     "status": "pending"
    },
    "tags": []
   },
   "outputs": [],
   "source": [
    "# Filter FeatureTable[Frequency | RelativeFrequency | PresenceAbsence | Composition] based on Metadata sample ID values\n",
    "tabs = filter_samples(\n",
    "    table=tabs,\n",
    "    metadata=metadata,\n",
    ").filtered_table\n",
    "# Filter SampleData[SequencesWithQuality | PairedEndSequencesWithQuality | JoinedSequencesWithQuality] based on Metadata sample ID values; returns FeatureData[Sequence | AlignedSequence]\n",
    "reps = filter_seqs(\n",
    "    data=reps,\n",
    "    table=tabs,\n",
    ").filtered_data"
   ]
  },
  {
   "cell_type": "markdown",
   "id": "a0e8b680",
   "metadata": {
    "papermill": {
     "duration": null,
     "end_time": null,
     "exception": null,
     "start_time": null,
     "status": "pending"
    },
    "tags": []
   },
   "source": [
    "### Define Visualizations Artifacts"
   ]
  },
  {
   "cell_type": "code",
   "execution_count": null,
   "id": "50492e94",
   "metadata": {
    "ExecuteTime": {
     "end_time": "2022-05-30T19:57:39.249051Z",
     "start_time": "2022-05-30T19:57:39.173053Z"
    },
    "papermill": {
     "duration": null,
     "end_time": null,
     "exception": null,
     "start_time": null,
     "status": "pending"
    },
    "tags": []
   },
   "outputs": [],
   "source": [
    "# If some of the DADA2 Visualization artifacts do not exist or if the old files will be replaced\n",
    "if need_view:\n",
    "    \n",
    "    tabs_view, = metadata_actions.tabulate(input=tabs.view(Metadata))\n",
    "    reps_view, = metadata_actions.tabulate(input=reps.view(Metadata))\n",
    "    stat_view, = metadata_actions.tabulate(input=stat.view(Metadata))\n",
    "    \n",
    "    tabs_view = summarize(table=tabs, sample_metadata=metadata).visualization\n",
    "    reps_view = tabulate_seqs(data=reps).visualization\n",
    "    core_view = core_features(table=tabs, min_fraction=.1, steps=10).visualization\n",
    "    \n",
    "    \n",
    "    # Save the artifacts objects\n",
    "    tabs_view.save(dada2_tabs_view)\n",
    "    reps_view.save(dada2_reps_view)\n",
    "    stat_view.save(dada2_stat_view)\n",
    "    core_view.save(dada2_core_view)\n",
    "\n",
    "else:\n",
    "    tabs_view = Visualization.load(dada2_tabs_view)\n",
    "    reps_view = Visualization.load(dada2_reps_view)\n",
    "    stat_view = Visualization.load(dada2_stat_view)\n",
    "    core_view = Visualization.load(dada2_core_view)"
   ]
  },
  {
   "cell_type": "code",
   "execution_count": null,
   "id": "9cd38a94",
   "metadata": {
    "papermill": {
     "duration": null,
     "end_time": null,
     "exception": null,
     "start_time": null,
     "status": "pending"
    },
    "tags": []
   },
   "outputs": [],
   "source": [
    "def plot_stats_box(artifact, fname, total_reads_phases, percent_phases, cols):\n",
    "    import matplotlib.pyplot as plt\n",
    "    from qiime2 import Metadata\n",
    "    \n",
    "    df = artifact.view(Metadata).to_dataframe()\n",
    "    df_vals = df[total_reads_phases]\n",
    "    df_perc = df[percent_phases]\n",
    "    df_perc.columns = cols\n",
    "    \n",
    "    \n",
    "    plt.figure(figsize=(15,5))\n",
    "    plt.subplot(1, 2, 1)\n",
    "    df_vals.boxplot()\n",
    "    plt.xlabel('Fases')\n",
    "    plt.ylabel('# of reads')\n",
    "    \n",
    "    plt.subplot(1, 2, 2)\n",
    "    df_perc.boxplot()\n",
    "    plt.xlabel('Fases')\n",
    "    plt.ylabel('% of input')\n",
    "    \n",
    "    plt.savefig(fname, bbox_inches='tight')\n",
    "\n",
    "    plt.show()"
   ]
  },
  {
   "cell_type": "code",
   "execution_count": null,
   "id": "9234e15b",
   "metadata": {
    "papermill": {
     "duration": null,
     "end_time": null,
     "exception": null,
     "start_time": null,
     "status": "pending"
    },
    "tags": []
   },
   "outputs": [],
   "source": [
    "if n_directions == 1: # SingleEnd\n",
    "    total_reads_phases = ['input', 'filtered', 'denoised', 'non-chimeric']\n",
    "    percent_phases = ['percentage of input passed filter', 'percentage of input non-chimeric']\n",
    "    cols = ['filtered', 'non-chimeric']\n",
    "elif n_directions == 2: # PairedEnd\n",
    "    total_reads_phases = ['input', 'filtered', 'denoised', 'merged', 'non-chimeric']\n",
    "    percent_phases = ['percentage of input passed filter', 'percentage of input merged', 'percentage of input non-chimeric']\n",
    "    cols = ['filtered', 'merged', 'non-chimeric']"
   ]
  },
  {
   "cell_type": "code",
   "execution_count": null,
   "id": "64408735",
   "metadata": {
    "ExecuteTime": {
     "end_time": "2022-05-30T19:57:39.901491Z",
     "start_time": "2022-05-30T19:57:39.255220Z"
    },
    "papermill": {
     "duration": null,
     "end_time": null,
     "exception": null,
     "start_time": null,
     "status": "pending"
    },
    "scrolled": true,
    "tags": []
   },
   "outputs": [],
   "source": [
    "plot_stats_box(stat, os.path.join(img_folder, 'step02-stats-boxplot.pdf'), total_reads_phases, percent_phases, cols)"
   ]
  },
  {
   "cell_type": "code",
   "execution_count": null,
   "id": "8aaf00c7",
   "metadata": {
    "ExecuteTime": {
     "end_time": "2022-05-31T17:58:47.140114Z",
     "start_time": "2022-05-31T17:58:47.087808Z"
    },
    "papermill": {
     "duration": null,
     "end_time": null,
     "exception": null,
     "start_time": null,
     "status": "pending"
    },
    "tags": []
   },
   "outputs": [],
   "source": [
    "stat.view(Metadata).to_dataframe().describe()[percent_phases]"
   ]
  },
  {
   "cell_type": "code",
   "execution_count": null,
   "id": "3b6515c9",
   "metadata": {
    "ExecuteTime": {
     "end_time": "2022-05-30T19:57:39.957632Z",
     "start_time": "2022-05-30T19:57:39.953762Z"
    },
    "papermill": {
     "duration": null,
     "end_time": null,
     "exception": null,
     "start_time": null,
     "status": "pending"
    },
    "tags": []
   },
   "outputs": [],
   "source": [
    "stat_view"
   ]
  },
  {
   "cell_type": "code",
   "execution_count": null,
   "id": "ab82282e",
   "metadata": {
    "ExecuteTime": {
     "end_time": "2022-05-30T19:57:39.967918Z",
     "start_time": "2022-05-30T19:57:39.958955Z"
    },
    "papermill": {
     "duration": null,
     "end_time": null,
     "exception": null,
     "start_time": null,
     "status": "pending"
    },
    "tags": []
   },
   "outputs": [],
   "source": [
    "# new_stat = Artifact.load('/home/lauro/nupeb/redemicro/experiments/thayane-feces-01/qiime-artifacts/dada2-stat.qza')\n",
    "# # new_view, = metadata_actions.tabulate(input=new_stat.view(Metadata))\n",
    "# # plot_stats_box(old_stat)\n",
    "\n",
    "# old_stat = Artifact.load('/home/lauro/nupeb/dados_brutos_rede_genoma/experiments/fezes-phred_20-tf_0-tr_0-lap_4/fezes_dada2_stat.qza')\n",
    "# # old_view, = metadata_actions.tabulate(input=old_stat.view(Metadata))\n",
    "# # plot_stats_box(old_stat)\n",
    "\n",
    "# plot_stats_box_pairs(old_stat, new_stat)"
   ]
  }
 ],
 "metadata": {
  "celltoolbar": "Edit Metadata",
  "kernelspec": {
   "display_name": "Python 3 (ipykernel)",
   "language": "python",
   "name": "python3"
  },
  "language_info": {
   "codemirror_mode": {
    "name": "ipython",
    "version": 3
   },
   "file_extension": ".py",
   "mimetype": "text/x-python",
   "name": "python",
   "nbconvert_exporter": "python",
   "pygments_lexer": "ipython3",
   "version": "3.8.12"
  },
  "papermill": {
   "default_parameters": {},
   "duration": 22.804843,
   "end_time": "2023-08-01T21:39:30.593488",
   "environment_variables": {},
   "exception": true,
   "input_path": "nb-templates/step-quality-control.ipynb",
   "output_path": "/home/lauro/nupeb/rede-micro/redemicro-thayane/experiments/thayane-PM-single-end-trim/nb-executed-steps/step-quality-control-thayane-PM-single-end-trim.ipynb",
   "parameters": {
    "base_dir": "/home/lauro/nupeb/rede-micro/redemicro-thayane",
    "class_col": "above_10",
    "classifier_file": "/home/lauro/nupeb/16S_classifiers_qiime2/silva-138-99-nb-classifier.qza",
    "experiment_name": "thayane-PM-single-end-trim",
    "manifest_file": "/home/lauro/nupeb/rede-micro/redemicro-thayane/data/manifest-single.csv",
    "metadata_file": "/home/lauro/nupeb/rede-micro/redemicro-thayane/data/single-end-metadata.tsv",
    "overlap": 12,
    "phred": 20,
    "replace_files": false,
    "threads": 6,
    "trim": {
     "forward_primer": "CCTACGGGNGGCWGCAG",
     "overlap": 8,
     "reverse_primer": "GACTACHVGGGTATCTAATCC"
    },
    "trunc_f": 0,
    "trunc_r": 0
   },
   "start_time": "2023-08-01T21:39:07.788645",
   "version": "2.3.4"
  },
  "toc-autonumbering": false,
  "toc-showcode": false,
  "toc-showmarkdowntxt": false
 },
 "nbformat": 4,
 "nbformat_minor": 5
}
