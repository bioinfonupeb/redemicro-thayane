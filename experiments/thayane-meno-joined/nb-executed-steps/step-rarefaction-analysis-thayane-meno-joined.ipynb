{
 "cells": [
  {
   "cell_type": "markdown",
   "id": "ca12fc8c",
   "metadata": {
    "papermill": {
     "duration": 0.014395,
     "end_time": "2024-02-23T18:20:00.368599",
     "exception": false,
     "start_time": "2024-02-23T18:20:00.354204",
     "status": "completed"
    },
    "tags": []
   },
   "source": [
    "# STEP : Rarefaction Analysis\n",
    "\n",
    "Using QIIME2 to create rarefaction graphs.\n",
    "\n",
    "\n",
    "## Methods\n",
    "[qiime alpha_rarefaction](https://docs.qiime2.org/2023.2/plugins/available/diversity/alpha-rarefaction/)\n",
    "```\n",
    "Generate interactive alpha rarefaction curves by computing rarefactions\n",
    "between `min_depth` and `max_depth`. The number of intermediate depths to\n",
    "compute is controlled by the `steps` parameter, with n `iterations` being\n",
    "computed at each rarefaction depth. If sample metadata is provided, samples\n",
    "may be grouped based on distinct values within a metadata column.\n",
    "```\n"
   ]
  },
  {
   "cell_type": "markdown",
   "id": "9460b9ea",
   "metadata": {
    "papermill": {
     "duration": 0.009575,
     "end_time": "2024-02-23T18:20:00.391395",
     "exception": false,
     "start_time": "2024-02-23T18:20:00.381820",
     "status": "completed"
    },
    "tags": []
   },
   "source": [
    "## Setup and settings"
   ]
  },
  {
   "cell_type": "code",
   "execution_count": 1,
   "id": "a990e029",
   "metadata": {
    "ExecuteTime": {
     "end_time": "2022-09-22T21:43:54.326002Z",
     "start_time": "2022-09-22T21:43:47.911891Z"
    },
    "execution": {
     "iopub.execute_input": "2024-02-23T18:20:00.403277Z",
     "iopub.status.busy": "2024-02-23T18:20:00.403035Z",
     "iopub.status.idle": "2024-02-23T18:20:04.830137Z",
     "shell.execute_reply": "2024-02-23T18:20:04.829623Z"
    },
    "papermill": {
     "duration": 4.433899,
     "end_time": "2024-02-23T18:20:04.831403",
     "exception": false,
     "start_time": "2024-02-23T18:20:00.397504",
     "status": "completed"
    },
    "tags": []
   },
   "outputs": [],
   "source": [
    "# Importing packages\n",
    "import os\n",
    "import pandas as pd\n",
    "from qiime2 import Artifact\n",
    "from qiime2 import Visualization\n",
    "from qiime2 import Metadata\n",
    "from qiime2.plugins.diversity.visualizers import alpha_rarefaction\n",
    "from qiime2.plugins.diversity.visualizers import beta_rarefaction\n",
    "\n",
    "from qiime2.plugins.feature_table.methods import filter_samples\n",
    "from qiime2.plugins.feature_table.methods import filter_seqs\n",
    "\n",
    "import matplotlib.pyplot as plt\n",
    "\n",
    "%matplotlib inline"
   ]
  },
  {
   "cell_type": "code",
   "execution_count": 2,
   "id": "8801cfeb",
   "metadata": {
    "ExecuteTime": {
     "end_time": "2022-09-22T21:43:54.330790Z",
     "start_time": "2022-09-22T21:43:54.328358Z"
    },
    "execution": {
     "iopub.execute_input": "2024-02-23T18:20:04.836574Z",
     "iopub.status.busy": "2024-02-23T18:20:04.836328Z",
     "iopub.status.idle": "2024-02-23T18:20:04.838553Z",
     "shell.execute_reply": "2024-02-23T18:20:04.838154Z"
    },
    "papermill": {
     "duration": 0.005802,
     "end_time": "2024-02-23T18:20:04.839455",
     "exception": false,
     "start_time": "2024-02-23T18:20:04.833653",
     "status": "completed"
    },
    "tags": []
   },
   "outputs": [],
   "source": [
    "# from qiime2.plugins import demux, deblur, quality_filter, \\\n",
    "#                            metadata, feature_table, alignment, \\\n",
    "#                            phylogeny, diversity, emperor, feature_classifier, \\\n",
    "#                            taxa, composition"
   ]
  },
  {
   "cell_type": "markdown",
   "id": "a0dfb108",
   "metadata": {
    "papermill": {
     "duration": 0.002017,
     "end_time": "2024-02-23T18:20:04.843427",
     "exception": false,
     "start_time": "2024-02-23T18:20:04.841410",
     "status": "completed"
    },
    "tags": []
   },
   "source": [
    "### Receiving the parameters\n",
    "\n",
    "The following cell can receive parameters using the [papermill](https://papermill.readthedocs.io/en/latest/) tool."
   ]
  },
  {
   "cell_type": "code",
   "execution_count": 3,
   "id": "b6375478",
   "metadata": {
    "ExecuteTime": {
     "end_time": "2022-09-22T21:43:54.344271Z",
     "start_time": "2022-09-22T21:43:54.332262Z"
    },
    "execution": {
     "iopub.execute_input": "2024-02-23T18:20:04.851290Z",
     "iopub.status.busy": "2024-02-23T18:20:04.851170Z",
     "iopub.status.idle": "2024-02-23T18:20:04.853605Z",
     "shell.execute_reply": "2024-02-23T18:20:04.853205Z"
    },
    "papermill": {
     "duration": 0.009054,
     "end_time": "2024-02-23T18:20:04.854459",
     "exception": false,
     "start_time": "2024-02-23T18:20:04.845405",
     "status": "completed"
    },
    "tags": [
     "parameters"
    ]
   },
   "outputs": [],
   "source": [
    "metadata_file = '/home/lauro/nupeb/rede-micro/redemicro-miliane-nutri/data/raw/metadata/miliane-metadata-CxAC.tsv'\n",
    "base_dir = os.path.join('/', 'home', 'lauro', 'nupeb', 'rede-micro', 'redemicro-miliane-nutri')\n",
    "experiment_name = 'miliane-CxAC-trim'\n",
    "replace_files = False"
   ]
  },
  {
   "cell_type": "code",
   "execution_count": 4,
   "id": "3a69057c",
   "metadata": {
    "execution": {
     "iopub.execute_input": "2024-02-23T18:20:04.859041Z",
     "iopub.status.busy": "2024-02-23T18:20:04.858922Z",
     "iopub.status.idle": "2024-02-23T18:20:04.861629Z",
     "shell.execute_reply": "2024-02-23T18:20:04.861234Z"
    },
    "papermill": {
     "duration": 0.005973,
     "end_time": "2024-02-23T18:20:04.862428",
     "exception": false,
     "start_time": "2024-02-23T18:20:04.856455",
     "status": "completed"
    },
    "tags": [
     "injected-parameters"
    ]
   },
   "outputs": [],
   "source": [
    "# Parameters\n",
    "experiment_name = \"thayane-meno-joined\"\n",
    "base_dir = \"/mnt/nupeb/rede-micro/redemicro-thayane\"\n",
    "manifest_file = \"/mnt/nupeb/rede-micro/redemicro-thayane/data/manifest-paired.csv\"\n",
    "metadata_file = \"/mnt/nupeb/rede-micro/redemicro-thayane/data/metadata-meno-joined.tsv\"\n",
    "class_col = \"class\"\n",
    "classifier_file = \"/mnt/nupeb/rede-micro/datasets/16S_classifiers_qiime2/silva-138-99-nb-classifier.qza\"\n",
    "replace_files = False\n",
    "phred = 20\n",
    "trunc_f = 0\n",
    "trunc_r = 0\n",
    "overlap = 12\n",
    "threads = 6\n",
    "trim = {\n",
    "    \"overlap\": 8,\n",
    "    \"forward_primer\": \"CCTACGGGRSGCAGCAG\",\n",
    "    \"reverse_primer\": \"GGACTACHVGGGTWTCTAAT\",\n",
    "}\n"
   ]
  },
  {
   "cell_type": "markdown",
   "id": "6c7fc3a8",
   "metadata": {
    "papermill": {
     "duration": 0.002022,
     "end_time": "2024-02-23T18:20:04.866429",
     "exception": false,
     "start_time": "2024-02-23T18:20:04.864407",
     "status": "completed"
    },
    "tags": []
   },
   "source": [
    "### Defining names, paths and flags"
   ]
  },
  {
   "cell_type": "code",
   "execution_count": 5,
   "id": "6cfc8e1f",
   "metadata": {
    "ExecuteTime": {
     "end_time": "2022-09-22T21:43:54.362004Z",
     "start_time": "2022-09-22T21:43:54.346365Z"
    },
    "execution": {
     "iopub.execute_input": "2024-02-23T18:20:04.871031Z",
     "iopub.status.busy": "2024-02-23T18:20:04.870914Z",
     "iopub.status.idle": "2024-02-23T18:20:05.264096Z",
     "shell.execute_reply": "2024-02-23T18:20:05.261120Z"
    },
    "papermill": {
     "duration": 0.401099,
     "end_time": "2024-02-23T18:20:05.269571",
     "exception": false,
     "start_time": "2024-02-23T18:20:04.868472",
     "status": "completed"
    },
    "tags": []
   },
   "outputs": [],
   "source": [
    "# Experiments\n",
    "experiment_folder = os.path.abspath(os.path.join(base_dir, 'experiments', experiment_name))\n",
    "!mkdir -p {experiment_folder}\n",
    "\n",
    "# Imgs folder\n",
    "img_folder = os.path.abspath(os.path.join(experiment_folder, 'imgs'))\n",
    "!mkdir -p {img_folder}\n",
    "\n",
    "# QIIME2 Artifacts folder\n",
    "qiime_folder = os.path.join(experiment_folder, 'qiime-artifacts')\n",
    "!mkdir -p {qiime_folder}"
   ]
  },
  {
   "cell_type": "code",
   "execution_count": 6,
   "id": "224899b8",
   "metadata": {
    "ExecuteTime": {
     "end_time": "2022-09-22T21:43:54.373657Z",
     "start_time": "2022-09-22T21:43:54.363586Z"
    },
    "execution": {
     "iopub.execute_input": "2024-02-23T18:20:05.275774Z",
     "iopub.status.busy": "2024-02-23T18:20:05.275625Z",
     "iopub.status.idle": "2024-02-23T18:20:05.278741Z",
     "shell.execute_reply": "2024-02-23T18:20:05.278431Z"
    },
    "papermill": {
     "duration": 0.006802,
     "end_time": "2024-02-23T18:20:05.279637",
     "exception": false,
     "start_time": "2024-02-23T18:20:05.272835",
     "status": "completed"
    },
    "tags": []
   },
   "outputs": [],
   "source": [
    "# Input - DADA2 Artifacts\n",
    "dada2_tabs_path = os.path.join(qiime_folder, 'dada2-tabs.qza')\n",
    "dada2_reps_path = os.path.join(qiime_folder, 'dada2-reps.qza')\n",
    "dada2_stat_path = os.path.join(qiime_folder, 'dada2-stat.qza')\n",
    "\n",
    "# Output -Rarefaction Artifacts\n",
    "alpha_rarefaction_path = os.path.join(qiime_folder, 'alpha-rarefaction.qza')\n",
    "alpha_rarefaction_view_path = os.path.join(qiime_folder, 'alpha-rarefaction.qzv')\n",
    "\n",
    "# Flag - Load or create files\n",
    "need_tax = not (os.path.isfile(alpha_rarefaction_path)) or replace_files\n",
    "need_view = not (os.path.isfile(alpha_rarefaction_view_path)) or replace_files"
   ]
  },
  {
   "cell_type": "markdown",
   "id": "04599e26",
   "metadata": {
    "papermill": {
     "duration": 0.004893,
     "end_time": "2024-02-23T18:20:05.286679",
     "exception": false,
     "start_time": "2024-02-23T18:20:05.281786",
     "status": "completed"
    },
    "tags": []
   },
   "source": [
    "## Step execution\n",
    "\n",
    "### Load input files\n",
    "\n",
    "This Step import the QIIME2 `SampleData[PairedEndSequencesWithQuality]` Artifact with all demultiplexed sequences and the `Metadata` file."
   ]
  },
  {
   "cell_type": "code",
   "execution_count": 7,
   "id": "835b577a",
   "metadata": {
    "ExecuteTime": {
     "end_time": "2022-09-22T21:43:54.398034Z",
     "start_time": "2022-09-22T21:43:54.375240Z"
    },
    "execution": {
     "iopub.execute_input": "2024-02-23T18:20:05.291591Z",
     "iopub.status.busy": "2024-02-23T18:20:05.291468Z",
     "iopub.status.idle": "2024-02-23T18:20:05.298411Z",
     "shell.execute_reply": "2024-02-23T18:20:05.297997Z"
    },
    "papermill": {
     "duration": 0.010493,
     "end_time": "2024-02-23T18:20:05.299344",
     "exception": false,
     "start_time": "2024-02-23T18:20:05.288851",
     "status": "completed"
    },
    "tags": []
   },
   "outputs": [],
   "source": [
    "#Load Metadata\n",
    "metadata_qa = Metadata.load(metadata_file)"
   ]
  },
  {
   "cell_type": "code",
   "execution_count": 8,
   "id": "e7bdedfd",
   "metadata": {
    "execution": {
     "iopub.execute_input": "2024-02-23T18:20:05.304295Z",
     "iopub.status.busy": "2024-02-23T18:20:05.304066Z",
     "iopub.status.idle": "2024-02-23T18:20:05.306456Z",
     "shell.execute_reply": "2024-02-23T18:20:05.306037Z"
    },
    "papermill": {
     "duration": 0.005926,
     "end_time": "2024-02-23T18:20:05.307365",
     "exception": false,
     "start_time": "2024-02-23T18:20:05.301439",
     "status": "completed"
    },
    "tags": []
   },
   "outputs": [],
   "source": [
    "alt_tab_path = os.path.join(base_dir, 'data', 'interim', 'dada2-tabs.qza')\n",
    "# Verify if table file exists and if it is shared\n",
    "if not os.path.isfile(dada2_tabs_path) and os.path.isfile(alt_tab_path):\n",
    "    # If it is shared, create a local symbolic link\n",
    "    os.symlink(alt_tab_path, dada2_tabs_path)"
   ]
  },
  {
   "cell_type": "code",
   "execution_count": 9,
   "id": "64e749f6",
   "metadata": {
    "ExecuteTime": {
     "end_time": "2022-09-22T21:43:54.827295Z",
     "start_time": "2022-09-22T21:43:54.399431Z"
    },
    "execution": {
     "iopub.execute_input": "2024-02-23T18:20:05.312287Z",
     "iopub.status.busy": "2024-02-23T18:20:05.312110Z",
     "iopub.status.idle": "2024-02-23T18:20:07.104088Z",
     "shell.execute_reply": "2024-02-23T18:20:07.103596Z"
    },
    "papermill": {
     "duration": 1.795813,
     "end_time": "2024-02-23T18:20:07.105282",
     "exception": false,
     "start_time": "2024-02-23T18:20:05.309469",
     "status": "completed"
    },
    "tags": []
   },
   "outputs": [],
   "source": [
    "# Load Table artifact\n",
    "tabs = Artifact.load(dada2_tabs_path)\n",
    "# Filter samples using Metadata IDs\n",
    "tabs = filter_samples(\n",
    "    table=tabs,\n",
    "    metadata=metadata_qa,\n",
    ").filtered_table\n",
    "tabs_df = tabs.view(Metadata).to_dataframe().T"
   ]
  },
  {
   "cell_type": "code",
   "execution_count": null,
   "id": "9bc10404",
   "metadata": {
    "papermill": {
     "duration": 0.004583,
     "end_time": "2024-02-23T18:20:07.112371",
     "exception": false,
     "start_time": "2024-02-23T18:20:07.107788",
     "status": "completed"
    },
    "tags": []
   },
   "outputs": [],
   "source": []
  },
  {
   "cell_type": "markdown",
   "id": "4f6fe456",
   "metadata": {
    "papermill": {
     "duration": 0.002122,
     "end_time": "2024-02-23T18:20:07.116694",
     "exception": false,
     "start_time": "2024-02-23T18:20:07.114572",
     "status": "completed"
    },
    "tags": []
   },
   "source": [
    "## Alpha Rarefaction"
   ]
  },
  {
   "cell_type": "code",
   "execution_count": 10,
   "id": "f9a750cb",
   "metadata": {
    "ExecuteTime": {
     "end_time": "2022-09-22T21:55:53.328300Z",
     "start_time": "2022-09-22T21:55:53.318166Z"
    },
    "execution": {
     "iopub.execute_input": "2024-02-23T18:20:07.122075Z",
     "iopub.status.busy": "2024-02-23T18:20:07.121898Z",
     "iopub.status.idle": "2024-02-23T18:20:07.125263Z",
     "shell.execute_reply": "2024-02-23T18:20:07.124956Z"
    },
    "papermill": {
     "duration": 0.00719,
     "end_time": "2024-02-23T18:20:07.126134",
     "exception": false,
     "start_time": "2024-02-23T18:20:07.118944",
     "status": "completed"
    },
    "tags": []
   },
   "outputs": [],
   "source": [
    "# Get min and maximum feature counts to set sampling depth\n",
    "rank_df = tabs_df.sum().sort_values()\n",
    "min_feature_count = int(rank_df.min())\n",
    "max_feature_count = int(rank_df.max())"
   ]
  },
  {
   "cell_type": "code",
   "execution_count": 11,
   "id": "819adca6",
   "metadata": {
    "execution": {
     "iopub.execute_input": "2024-02-23T18:20:07.130998Z",
     "iopub.status.busy": "2024-02-23T18:20:07.130879Z",
     "iopub.status.idle": "2024-02-23T18:20:07.136293Z",
     "shell.execute_reply": "2024-02-23T18:20:07.135944Z"
    },
    "papermill": {
     "duration": 0.008939,
     "end_time": "2024-02-23T18:20:07.137202",
     "exception": false,
     "start_time": "2024-02-23T18:20:07.128263",
     "status": "completed"
    },
    "tags": []
   },
   "outputs": [],
   "source": [
    "# Add new columns with samples IDs to rarefaction\n",
    "meta_df = metadata_qa.to_dataframe()\n",
    "meta_df['samples'] = meta_df.index.to_list()\n",
    "metadata_qa = Metadata(meta_df)"
   ]
  },
  {
   "cell_type": "code",
   "execution_count": 12,
   "id": "2c00866b",
   "metadata": {
    "ExecuteTime": {
     "end_time": "2022-09-22T21:56:13.586159Z",
     "start_time": "2022-09-22T21:55:55.117935Z"
    },
    "execution": {
     "iopub.execute_input": "2024-02-23T18:20:07.142075Z",
     "iopub.status.busy": "2024-02-23T18:20:07.141954Z",
     "iopub.status.idle": "2024-02-23T18:20:26.464969Z",
     "shell.execute_reply": "2024-02-23T18:20:26.464490Z"
    },
    "papermill": {
     "duration": 19.326795,
     "end_time": "2024-02-23T18:20:26.466167",
     "exception": false,
     "start_time": "2024-02-23T18:20:07.139372",
     "status": "completed"
    },
    "tags": []
   },
   "outputs": [
    {
     "name": "stderr",
     "output_type": "stream",
     "text": [
      "/home/lauro/anaconda3/envs/qiime2-2023.5/lib/python3.8/site-packages/q2_diversity/_alpha/_visualizer.py:245: FutureWarning: The default value of numeric_only in DataFrameGroupBy.median is deprecated. In a future version, numeric_only will default to False. Either specify numeric_only or select only columns which should be valid for the function.\n",
      "  median_ = grouped.median()\n",
      "/home/lauro/anaconda3/envs/qiime2-2023.5/lib/python3.8/site-packages/q2_diversity/_alpha/_visualizer.py:245: FutureWarning: The default value of numeric_only in DataFrameGroupBy.median is deprecated. In a future version, numeric_only will default to False. Either specify numeric_only or select only columns which should be valid for the function.\n",
      "  median_ = grouped.median()\n"
     ]
    },
    {
     "name": "stderr",
     "output_type": "stream",
     "text": [
      "/home/lauro/anaconda3/envs/qiime2-2023.5/lib/python3.8/site-packages/q2_diversity/_alpha/_visualizer.py:245: FutureWarning: The default value of numeric_only in DataFrameGroupBy.median is deprecated. In a future version, numeric_only will default to False. Either specify numeric_only or select only columns which should be valid for the function.\n",
      "  median_ = grouped.median()\n",
      "/home/lauro/anaconda3/envs/qiime2-2023.5/lib/python3.8/site-packages/q2_diversity/_alpha/_visualizer.py:245: FutureWarning: The default value of numeric_only in DataFrameGroupBy.median is deprecated. In a future version, numeric_only will default to False. Either specify numeric_only or select only columns which should be valid for the function.\n",
      "  median_ = grouped.median()\n"
     ]
    }
   ],
   "source": [
    "alpha_rar = alpha_rarefaction(\n",
    "    table = tabs,\n",
    "    max_depth = max_feature_count,\n",
    "    min_depth = 1,\n",
    "    metadata = metadata_qa,\n",
    ")"
   ]
  },
  {
   "cell_type": "code",
   "execution_count": 13,
   "id": "a9f333a6",
   "metadata": {
    "ExecuteTime": {
     "end_time": "2022-09-22T21:56:13.632468Z",
     "start_time": "2022-09-22T21:56:13.589032Z"
    },
    "execution": {
     "iopub.execute_input": "2024-02-23T18:20:26.471926Z",
     "iopub.status.busy": "2024-02-23T18:20:26.471795Z",
     "iopub.status.idle": "2024-02-23T18:20:26.502892Z",
     "shell.execute_reply": "2024-02-23T18:20:26.502450Z"
    },
    "papermill": {
     "duration": 0.034974,
     "end_time": "2024-02-23T18:20:26.503751",
     "exception": false,
     "start_time": "2024-02-23T18:20:26.468777",
     "status": "completed"
    },
    "scrolled": true,
    "tags": []
   },
   "outputs": [
    {
     "data": {
      "text/html": [
       "<div><img onload=\"(function(div, url){\n",
       "if (typeof require !== 'undefined') {\n",
       "    var baseURL = require.toUrl('').split('/').slice(0, -2).join('/');\n",
       "} else {\n",
       "    var baseURL = JSON.parse(\n",
       "        document.getElementById('jupyter-config-data').innerHTML\n",
       "    ).baseUrl.slice(0, -1);\n",
       "}\n",
       "url = baseURL + url;\n",
       "fetch(url).then(function(res) {\n",
       "    if (res.status === 404) {\n",
       "        div.innerHTML = 'Install QIIME 2 Jupyter extension with:<br />' +\n",
       "                        '<code>jupyter serverextension enable --py qiime2' +\n",
       "                        ' --sys-prefix</code><br />then restart your server.' +\n",
       "                        '<br /><br />(Interactive output not available on ' +\n",
       "                        'static notebook viewer services like nbviewer.)';\n",
       "    } else if (res.status === 409) {\n",
       "        div.innerHTML = 'Visualization no longer in scope. Re-run this cell' +\n",
       "                        ' to see the visualization.';\n",
       "    } else if (res.ok) {\n",
       "        url = res.url;\n",
       "        div.innerHTML = '<iframe src=\\'' + url + '\\' style=\\'' +\n",
       "                        'width: 100%; height: 700px; border: 0;\\'>' +\n",
       "                        '</iframe><hr />Open in a: <a href=\\'' + url + '\\'' +\n",
       "                        ' target=\\'_blank\\'>new window</a>'\n",
       "    } else {\n",
       "        div.innerHTML = 'Something has gone wrong. Check notebook server for' +\n",
       "                        ' errors.';\n",
       "    }\n",
       "});\n",
       "})(this.parentElement, '/qiime2/redirect?location=/tmp/qiime2/lauro/data/145abc59-55ff-49d5-9b32-3f11c57ff747')\" src=\"data:image/gif;base64,R0lGODlhAQABAIAAAP///wAAACH5BAEAAAAALAAAAAABAAEAAAICRAEAOw==\" /></div>"
      ],
      "text/plain": [
       "<visualization: Visualization uuid: 145abc59-55ff-49d5-9b32-3f11c57ff747>"
      ]
     },
     "execution_count": 13,
     "metadata": {},
     "output_type": "execute_result"
    }
   ],
   "source": [
    "alpha_rar.visualization.save(alpha_rarefaction_view_path)\n",
    "alpha_rar.visualization"
   ]
  },
  {
   "cell_type": "markdown",
   "id": "8715d446",
   "metadata": {
    "papermill": {
     "duration": 0.002357,
     "end_time": "2024-02-23T18:20:26.508505",
     "exception": false,
     "start_time": "2024-02-23T18:20:26.506148",
     "status": "completed"
    },
    "tags": []
   },
   "source": [
    "## Beta Rarefaction"
   ]
  },
  {
   "cell_type": "code",
   "execution_count": 14,
   "id": "3f46fde7",
   "metadata": {
    "ExecuteTime": {
     "end_time": "2022-09-22T21:56:19.645438Z",
     "start_time": "2022-09-22T21:56:17.687848Z"
    },
    "execution": {
     "iopub.execute_input": "2024-02-23T18:20:26.514144Z",
     "iopub.status.busy": "2024-02-23T18:20:26.513809Z",
     "iopub.status.idle": "2024-02-23T18:20:29.138348Z",
     "shell.execute_reply": "2024-02-23T18:20:29.137914Z"
    },
    "papermill": {
     "duration": 2.628326,
     "end_time": "2024-02-23T18:20:29.139262",
     "exception": false,
     "start_time": "2024-02-23T18:20:26.510936",
     "status": "completed"
    },
    "tags": []
   },
   "outputs": [
    {
     "name": "stderr",
     "output_type": "stream",
     "text": [
      "/home/lauro/anaconda3/envs/qiime2-2023.5/lib/python3.8/site-packages/skbio/stats/ordination/_principal_coordinate_analysis.py:143: RuntimeWarning: The result contains negative eigenvalues. Please compare their magnitude with the magnitude of some of the largest positive eigenvalues. If the negative ones are smaller, it's probably safe to ignore them, but if they are large in magnitude, the results won't be useful. See the Notes section for more details. The smallest eigenvalue is -0.0021507713978338857 and the largest is 2.3650515029916135.\n",
      "  warn(\n"
     ]
    },
    {
     "data": {
      "image/png": "[encoded data removed]",
      "text/plain": [
       "<Figure size 640x480 with 2 Axes>"
      ]
     },
     "metadata": {},
     "output_type": "display_data"
    }
   ],
   "source": [
    "choices = ('matching', 'aitchison', 'euclidean', 'generalized_unifrac', 'canberra', 'russellrao', 'braycurtis', 'cosine', 'jensenshannon', 'yule', 'weighted_normalized_unifrac', 'unweighted_unifrac', 'hamming', 'weighted_unifrac', 'cityblock', 'sokalmichener', 'seuclidean', 'rogerstanimoto', 'correlation', 'minkowski', 'kulsinski', 'chebyshev', 'sqeuclidean', 'sokalsneath', 'jaccard', 'dice', 'canberra_adkins')\n",
    "clustering_methods = ('nj', 'upgma')\n",
    "correlation_methods = ('pearson', 'spearman')\n",
    "\n",
    "sampling_depth = max(min_feature_count, 1)\n",
    "metric = 'braycurtis'\n",
    "clustering_method = clustering_methods[0]\n",
    "correlation_method = correlation_methods[1]\n",
    "\n",
    "beta_rar = beta_rarefaction(\n",
    "    table = tabs,\n",
    "    sampling_depth  = sampling_depth,\n",
    "    metadata = metadata_qa,\n",
    "    metric = metric,\n",
    "    clustering_method = clustering_method,\n",
    "    correlation_method = correlation_method,\n",
    ")"
   ]
  },
  {
   "cell_type": "markdown",
   "id": "9daee26c",
   "metadata": {
    "papermill": {
     "duration": 0.004919,
     "end_time": "2024-02-23T18:20:29.147129",
     "exception": false,
     "start_time": "2024-02-23T18:20:29.142210",
     "status": "completed"
    },
    "tags": []
   },
   "source": [
    " ## Beta diversity PCoA\n",
    " Ellipses represent 95% confidence intervals."
   ]
  },
  {
   "cell_type": "code",
   "execution_count": 15,
   "id": "d61b985c",
   "metadata": {
    "ExecuteTime": {
     "end_time": "2022-09-22T21:56:22.170995Z",
     "start_time": "2022-09-22T21:56:22.048827Z"
    },
    "execution": {
     "iopub.execute_input": "2024-02-23T18:20:29.153181Z",
     "iopub.status.busy": "2024-02-23T18:20:29.153030Z",
     "iopub.status.idle": "2024-02-23T18:20:29.222771Z",
     "shell.execute_reply": "2024-02-23T18:20:29.222344Z"
    },
    "papermill": {
     "duration": 0.073859,
     "end_time": "2024-02-23T18:20:29.223622",
     "exception": false,
     "start_time": "2024-02-23T18:20:29.149763",
     "status": "completed"
    },
    "tags": []
   },
   "outputs": [
    {
     "data": {
      "text/html": [
       "<div><img onload=\"(function(div, url){\n",
       "if (typeof require !== 'undefined') {\n",
       "    var baseURL = require.toUrl('').split('/').slice(0, -2).join('/');\n",
       "} else {\n",
       "    var baseURL = JSON.parse(\n",
       "        document.getElementById('jupyter-config-data').innerHTML\n",
       "    ).baseUrl.slice(0, -1);\n",
       "}\n",
       "url = baseURL + url;\n",
       "fetch(url).then(function(res) {\n",
       "    if (res.status === 404) {\n",
       "        div.innerHTML = 'Install QIIME 2 Jupyter extension with:<br />' +\n",
       "                        '<code>jupyter serverextension enable --py qiime2' +\n",
       "                        ' --sys-prefix</code><br />then restart your server.' +\n",
       "                        '<br /><br />(Interactive output not available on ' +\n",
       "                        'static notebook viewer services like nbviewer.)';\n",
       "    } else if (res.status === 409) {\n",
       "        div.innerHTML = 'Visualization no longer in scope. Re-run this cell' +\n",
       "                        ' to see the visualization.';\n",
       "    } else if (res.ok) {\n",
       "        url = res.url;\n",
       "        div.innerHTML = '<iframe src=\\'' + url + '\\' style=\\'' +\n",
       "                        'width: 100%; height: 700px; border: 0;\\'>' +\n",
       "                        '</iframe><hr />Open in a: <a href=\\'' + url + '\\'' +\n",
       "                        ' target=\\'_blank\\'>new window</a>'\n",
       "    } else {\n",
       "        div.innerHTML = 'Something has gone wrong. Check notebook server for' +\n",
       "                        ' errors.';\n",
       "    }\n",
       "});\n",
       "})(this.parentElement, '/qiime2/redirect?location=/tmp/qiime2/lauro/data/b5dce4a6-9a4f-4834-b877-70f459ea59d0')\" src=\"data:image/gif;base64,R0lGODlhAQABAIAAAP///wAAACH5BAEAAAAALAAAAAABAAEAAAICRAEAOw==\" /></div>"
      ],
      "text/plain": [
       "<visualization: Visualization uuid: b5dce4a6-9a4f-4834-b877-70f459ea59d0>"
      ]
     },
     "execution_count": 15,
     "metadata": {},
     "output_type": "execute_result"
    }
   ],
   "source": [
    "plot_tmp = f'{metric}-{clustering_method}-{correlation_method}-{sampling_depth}'\n",
    "beta_rarefaction_view_path = os.path.join(qiime_folder, f'beta-rarefaction-{plot_tmp}.qzv')\n",
    "beta_rar.visualization.save(beta_rarefaction_view_path)\n",
    "\n",
    "beta_rar.visualization"
   ]
  }
 ],
 "metadata": {
  "celltoolbar": "Edit Metadata",
  "kernelspec": {
   "display_name": "Python 3 (ipykernel)",
   "language": "python",
   "name": "python3"
  },
  "language_info": {
   "codemirror_mode": {
    "name": "ipython",
    "version": 3
   },
   "file_extension": ".py",
   "mimetype": "text/x-python",
   "name": "python",
   "nbconvert_exporter": "python",
   "pygments_lexer": "ipython3",
   "version": "3.8.16"
  },
  "papermill": {
   "default_parameters": {},
   "duration": 30.805563,
   "end_time": "2024-02-23T18:20:30.143595",
   "environment_variables": {},
   "exception": null,
   "input_path": "nb-templates/step-rarefaction-analysis.ipynb",
   "output_path": "/mnt/nupeb/rede-micro/redemicro-thayane/experiments/thayane-meno-joined/nb-executed-steps/step-rarefaction-analysis-thayane-meno-joined.ipynb",
   "parameters": {
    "base_dir": "/mnt/nupeb/rede-micro/redemicro-thayane",
    "class_col": "class",
    "classifier_file": "/mnt/nupeb/rede-micro/datasets/16S_classifiers_qiime2/silva-138-99-nb-classifier.qza",
    "experiment_name": "thayane-meno-joined",
    "manifest_file": "/mnt/nupeb/rede-micro/redemicro-thayane/data/manifest-paired.csv",
    "metadata_file": "/mnt/nupeb/rede-micro/redemicro-thayane/data/metadata-meno-joined.tsv",
    "overlap": 12,
    "phred": 20,
    "replace_files": false,
    "threads": 6,
    "trim": {
     "forward_primer": "CCTACGGGRSGCAGCAG",
     "overlap": 8,
     "reverse_primer": "GGACTACHVGGGTWTCTAAT"
    },
    "trunc_f": 0,
    "trunc_r": 0
   },
   "start_time": "2024-02-23T18:19:59.338032",
   "version": "2.4.0"
  },
  "toc-autonumbering": false,
  "toc-showcode": false,
  "toc-showmarkdowntxt": false
 },
 "nbformat": 4,
 "nbformat_minor": 5
}