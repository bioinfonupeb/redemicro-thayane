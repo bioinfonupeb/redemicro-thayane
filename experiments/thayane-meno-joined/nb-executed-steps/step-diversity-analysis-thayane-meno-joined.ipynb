{
 "cells": [
  {
   "cell_type": "markdown",
   "id": "15bcfa06",
   "metadata": {
    "papermill": {
     "duration": 0.007988,
     "end_time": "2024-02-23T18:33:21.033360",
     "exception": false,
     "start_time": "2024-02-23T18:33:21.025372",
     "status": "completed"
    },
    "tags": []
   },
   "source": [
    " \n",
    "# Alpha and Beta Diversity\n",
    "\n",
    "Different higher-level measures are often used to describe the microbiome in a sample. These do not provide information on changes in the abundance of specific taxa but allow us to access a broader change or difference in the composition of microorganisms. Alpha and beta diversity are examples of such measures.\n",
    "\n",
    "Different measures exist to estimate diversity within a single sample, jointly called alpha diversity. The different measures reflect the richness (number) or distribution (evenness) of a microbial sample or aim to reflect a combination of both properties.\n",
    "\n",
    "Rarefaction curves are often used when calculating alpha diversity indices because increasing numbers of sequenced taxa allow increasingly accurate estimates of total population diversity. Rarefaction curves can therefore be used to estimate the full sample richness, as compared to the observed sample richness.\n",
    "\n",
    "While alpha diversity is a measure of microbiome diversity applicable to a single sample, beta diversity is a measure of the similarity or dissimilarity of two communities. As for alpha diversity, many indices exist, each reflecting different aspects of community heterogeneity. Key differences relate to how the indices value variation in rare species if they consider presence/absence only or incorporate abundance, and how they interpret shared absence. Bray-Curtis dissimilarity is a popular measure that considers both size (overall abundance per sample) and shape (abundance of each taxon) of the communities (Bray, 1957). Beta diversity is an essential measure for many popular statistical methods in ecology, such as ordination-based methods, and is widely used for studying the association between environmental variables and microbial composition.\n",
    "\n",
    "In summary, alpha diversity measures can be seen as a summary statistic of a single population (within-sample diversity), while beta diversity measures are estimates of similarity or dissimilarity between populations (between samples).\n",
    "\n",
    "**Source**: (https://biomcare.com/info/key-terms-in-microbiome-projects/)"
   ]
  },
  {
   "cell_type": "markdown",
   "id": "0e7f2330",
   "metadata": {
    "ExecuteTime": {
     "end_time": "2022-09-22T19:36:33.828188Z",
     "start_time": "2022-09-22T19:36:33.817323Z"
    },
    "papermill": {
     "duration": 0.003878,
     "end_time": "2024-02-23T18:33:21.058298",
     "exception": false,
     "start_time": "2024-02-23T18:33:21.054420",
     "status": "completed"
    },
    "tags": []
   },
   "source": [
    "### STEP : Diversity Analysis\n",
    "\n",
    "Using QIIME2 to create diversity analisys graphs and calculations.\n",
    "\n",
    "- [QIIME2 Workflow Overview](https://docs.qiime2.org/2022.8/tutorials/overview/)\n",
    "\n",
    "\n",
    "#### Methods\n",
    "- [diversity](https://docs.qiime2.org/2022.8/plugins/available/diversity/)\n",
    "- [diversity alpha](https://docs.qiime2.org/2022.8/plugins/available/diversity/alpha/)\n",
    "- [diversity alpha_phylogenetic](https://docs.qiime2.org/2022.8/plugins/available/diversity/alpha-phylogenetic/)\n",
    "- [diversity beta](https://docs.qiime2.org/2022.8/plugins/available/diversity/beta/)\n",
    "- [diversity core_metrics](https://docs.qiime2.org/2022.8/plugins/available/diversity/core-metrics/)\n",
    "- [diversity alpha_group_significance](https://docs.qiime2.org/2022.8/plugins/available/diversity/alpha-group-significance/)\n",
    "- [diversity beta_group_significance](https://docs.qiime2.org/2022.8/plugins/available/diversity/beta-group-significance/)\n",
    "- [feature_table core_features](https://docs.qiime2.org/2022.8/plugins/available/feature-table/core-features/)\n",
    "- [feature_table summarize](https://docs.qiime2.org/2022.8/plugins/available/feature-table/summarize/)\n",
    "- [taxa filter-table](https://docs.qiime2.org/2022.8/plugins/available/taxa/filter-table/)\n",
    "- [taxa collapse](https://docs.qiime2.org/2022.8/plugins/available/taxa/collapse/)"
   ]
  },
  {
   "cell_type": "markdown",
   "id": "843debbf",
   "metadata": {
    "papermill": {
     "duration": 0.004214,
     "end_time": "2024-02-23T18:33:21.066665",
     "exception": false,
     "start_time": "2024-02-23T18:33:21.062451",
     "status": "completed"
    },
    "tags": []
   },
   "source": [
    "## Setup and settings"
   ]
  },
  {
   "cell_type": "code",
   "execution_count": 1,
   "id": "965e28e5",
   "metadata": {
    "ExecuteTime": {
     "end_time": "2022-11-03T20:35:26.198671Z",
     "start_time": "2022-11-03T20:35:06.473173Z"
    },
    "execution": {
     "iopub.execute_input": "2024-02-23T18:33:21.075958Z",
     "iopub.status.busy": "2024-02-23T18:33:21.075773Z",
     "iopub.status.idle": "2024-02-23T18:33:25.717737Z",
     "shell.execute_reply": "2024-02-23T18:33:25.717252Z"
    },
    "papermill": {
     "duration": 4.648135,
     "end_time": "2024-02-23T18:33:25.718991",
     "exception": false,
     "start_time": "2024-02-23T18:33:21.070856",
     "status": "completed"
    },
    "tags": []
   },
   "outputs": [],
   "source": [
    "# Importing packages\n",
    "import os\n",
    "import pandas as pd\n",
    "from qiime2 import Artifact\n",
    "from qiime2 import Visualization\n",
    "from qiime2 import Metadata\n",
    "\n",
    "from qiime2.plugins.phylogeny.pipelines import align_to_tree_mafft_fasttree\n",
    "\n",
    "from qiime2.plugins.diversity.pipelines import alpha\n",
    "from qiime2.plugins.diversity.pipelines import beta\n",
    "from qiime2.plugins.diversity.pipelines import core_metrics\n",
    "from qiime2.plugins.diversity.pipelines import alpha_phylogenetic\n",
    "\n",
    "from qiime2.plugins.diversity.visualizers import alpha_group_significance\n",
    "from qiime2.plugins.diversity.visualizers import beta_group_significance\n",
    "from qiime2.plugins.diversity.visualizers import alpha_correlation\n",
    "from qiime2.plugins.diversity.visualizers import beta_rarefaction\n",
    "\n",
    "from qiime2.plugins.taxa.methods import filter_table\n",
    "from qiime2.plugins.taxa.methods import collapse\n",
    "\n",
    "from qiime2.plugins.feature_table.visualizers import tabulate_seqs\n",
    "from qiime2.plugins.feature_table.visualizers import summarize\n",
    "from qiime2.plugins.feature_table.visualizers import core_features\n",
    "from qiime2.plugins.diversity.pipelines import core_metrics_phylogenetic\n",
    "\n",
    "from qiime2.plugins.feature_table.methods import filter_samples\n",
    "from qiime2.plugins.feature_table.methods import filter_seqs\n",
    "\n",
    "from qiime2.plugins.alignment.methods import mafft\n",
    "\n",
    "\n",
    "import matplotlib.pyplot as plt\n",
    "\n",
    "%matplotlib inline"
   ]
  },
  {
   "cell_type": "markdown",
   "id": "530ceb60",
   "metadata": {
    "papermill": {
     "duration": 0.005621,
     "end_time": "2024-02-23T18:33:25.727689",
     "exception": false,
     "start_time": "2024-02-23T18:33:25.722068",
     "status": "completed"
    },
    "tags": []
   },
   "source": [
    "### Receiving the parameters\n",
    "\n",
    "The following cell can receive parameters using the [papermill](https://papermill.readthedocs.io/en/latest/) tool."
   ]
  },
  {
   "cell_type": "code",
   "execution_count": 2,
   "id": "18d874ea",
   "metadata": {
    "ExecuteTime": {
     "end_time": "2022-09-29T20:54:14.793270Z",
     "start_time": "2022-09-29T20:54:14.789367Z"
    },
    "execution": {
     "iopub.execute_input": "2024-02-23T18:33:25.735785Z",
     "iopub.status.busy": "2024-02-23T18:33:25.735546Z",
     "iopub.status.idle": "2024-02-23T18:33:25.738239Z",
     "shell.execute_reply": "2024-02-23T18:33:25.737916Z"
    },
    "papermill": {
     "duration": 0.00873,
     "end_time": "2024-02-23T18:33:25.739154",
     "exception": false,
     "start_time": "2024-02-23T18:33:25.730424",
     "status": "completed"
    },
    "tags": [
     "parameters"
    ]
   },
   "outputs": [],
   "source": [
    "base_dir = os.path.join('/', 'home')\n",
    "metadata_file = os.path.abspath(os.path.join(base_dir, 'data', 'metadatada.tsv'))\n",
    "experiment_name = ''\n",
    "class_col = ''\n",
    "replace_files = False"
   ]
  },
  {
   "cell_type": "code",
   "execution_count": 3,
   "id": "b4ae159d",
   "metadata": {
    "execution": {
     "iopub.execute_input": "2024-02-23T18:33:25.745417Z",
     "iopub.status.busy": "2024-02-23T18:33:25.745297Z",
     "iopub.status.idle": "2024-02-23T18:33:25.748207Z",
     "shell.execute_reply": "2024-02-23T18:33:25.747908Z"
    },
    "papermill": {
     "duration": 0.00706,
     "end_time": "2024-02-23T18:33:25.749054",
     "exception": false,
     "start_time": "2024-02-23T18:33:25.741994",
     "status": "completed"
    },
    "tags": [
     "injected-parameters"
    ]
   },
   "outputs": [],
   "source": [
    "# Parameters\n",
    "experiment_name = \"thayane-meno-joined\"\n",
    "base_dir = \"/mnt/nupeb/rede-micro/redemicro-thayane\"\n",
    "manifest_file = \"/mnt/nupeb/rede-micro/redemicro-thayane/data/manifest-paired.csv\"\n",
    "metadata_file = \"/mnt/nupeb/rede-micro/redemicro-thayane/data/metadata-meno-joined.tsv\"\n",
    "class_col = \"class\"\n",
    "classifier_file = \"/mnt/nupeb/rede-micro/datasets/16S_classifiers_qiime2/silva-138-99-nb-classifier.qza\"\n",
    "replace_files = False\n",
    "phred = 20\n",
    "trunc_f = 0\n",
    "trunc_r = 0\n",
    "overlap = 12\n",
    "threads = 6\n",
    "trim = {\n",
    "    \"overlap\": 8,\n",
    "    \"forward_primer\": \"CCTACGGGRSGCAGCAG\",\n",
    "    \"reverse_primer\": \"GGACTACHVGGGTWTCTAAT\",\n",
    "}\n"
   ]
  },
  {
   "cell_type": "code",
   "execution_count": 4,
   "id": "f38617d9",
   "metadata": {
    "ExecuteTime": {
     "end_time": "2022-09-29T20:54:14.804575Z",
     "start_time": "2022-09-29T20:54:14.794927Z"
    },
    "execution": {
     "iopub.execute_input": "2024-02-23T18:33:25.755397Z",
     "iopub.status.busy": "2024-02-23T18:33:25.755279Z",
     "iopub.status.idle": "2024-02-23T18:33:25.757692Z",
     "shell.execute_reply": "2024-02-23T18:33:25.757290Z"
    },
    "papermill": {
     "duration": 0.006624,
     "end_time": "2024-02-23T18:33:25.758541",
     "exception": false,
     "start_time": "2024-02-23T18:33:25.751917",
     "status": "completed"
    },
    "tags": []
   },
   "outputs": [],
   "source": [
    "experiment_folder = os.path.abspath(os.path.join(base_dir, 'experiments', experiment_name))\n",
    "img_folder = os.path.abspath(os.path.join(experiment_folder, 'imgs'))"
   ]
  },
  {
   "cell_type": "markdown",
   "id": "ea9b90fb",
   "metadata": {
    "papermill": {
     "duration": 0.002852,
     "end_time": "2024-02-23T18:33:25.764262",
     "exception": false,
     "start_time": "2024-02-23T18:33:25.761410",
     "status": "completed"
    },
    "tags": []
   },
   "source": [
    "### Defining names, paths and flags"
   ]
  },
  {
   "cell_type": "code",
   "execution_count": 5,
   "id": "45727eef",
   "metadata": {
    "ExecuteTime": {
     "end_time": "2022-09-29T20:54:14.816686Z",
     "start_time": "2022-09-29T20:54:14.806238Z"
    },
    "execution": {
     "iopub.execute_input": "2024-02-23T18:33:25.770657Z",
     "iopub.status.busy": "2024-02-23T18:33:25.770489Z",
     "iopub.status.idle": "2024-02-23T18:33:25.774491Z",
     "shell.execute_reply": "2024-02-23T18:33:25.774088Z"
    },
    "papermill": {
     "duration": 0.008211,
     "end_time": "2024-02-23T18:33:25.775399",
     "exception": false,
     "start_time": "2024-02-23T18:33:25.767188",
     "status": "completed"
    },
    "tags": []
   },
   "outputs": [
    {
     "name": "stdout",
     "output_type": "stream",
     "text": [
      "The new directory is created in /mnt/nupeb/rede-micro/redemicro-thayane/experiments/thayane-meno-joined/qiime-artifacts/alpha-analysis\n",
      "The new directory is created in /mnt/nupeb/rede-micro/redemicro-thayane/experiments/thayane-meno-joined/qiime-artifacts/beta-analysis\n"
     ]
    }
   ],
   "source": [
    "# QIIME2 Artifacts folder\n",
    "qiime_folder = os.path.join(experiment_folder, 'qiime-artifacts')\n",
    "\n",
    "# Input - DADA2 Artifacts\n",
    "dada2_tabs_path = os.path.join(qiime_folder, 'dada2-tabs.qza')\n",
    "dada2_reps_path = os.path.join(qiime_folder, 'dada2-reps.qza')\n",
    "dada2_stat_path = os.path.join(qiime_folder, 'dada2-stat.qza')\n",
    "\n",
    "# Input - Taxonaomic Artifacts\n",
    "taxonomy_path = os.path.join(qiime_folder, 'metatax.qza')\n",
    "\n",
    "# Create folder to store Alpha files\n",
    "alpha_path = os.path.join(qiime_folder, 'alpha-analysis')\n",
    "if not os.path.exists(alpha_path):\n",
    "    os.makedirs(alpha_path)\n",
    "    print(f'The new directory is created in {alpha_path}')\n",
    "    \n",
    "# Create folder to store Beta files\n",
    "beta_path = os.path.join(qiime_folder, 'beta-analysis')\n",
    "if not os.path.exists(beta_path):\n",
    "    os.makedirs(beta_path)\n",
    "    print(f'The new directory is created in {beta_path}')\n",
    "\n",
    "# Output -Diversity Artifacts\n",
    "alpha_diversity_path = os.path.join(alpha_path, 'alpha-diversity.qza')\n",
    "alpha_diversity_view_path = os.path.join(alpha_path, 'alpha-diversity.qzv')\n",
    "beta_diversity_path = os.path.join(beta_path, 'beta-diversity.qza')\n",
    "beta_diversity_view_path = os.path.join(beta_path, 'beta-diversity.qzv')"
   ]
  },
  {
   "cell_type": "code",
   "execution_count": 6,
   "id": "601ae263",
   "metadata": {
    "ExecuteTime": {
     "end_time": "2022-09-29T20:54:14.829117Z",
     "start_time": "2022-09-29T20:54:14.818272Z"
    },
    "execution": {
     "iopub.execute_input": "2024-02-23T18:33:25.782030Z",
     "iopub.status.busy": "2024-02-23T18:33:25.781884Z",
     "iopub.status.idle": "2024-02-23T18:33:25.785209Z",
     "shell.execute_reply": "2024-02-23T18:33:25.784921Z"
    },
    "papermill": {
     "duration": 0.007727,
     "end_time": "2024-02-23T18:33:25.786061",
     "exception": false,
     "start_time": "2024-02-23T18:33:25.778334",
     "status": "completed"
    },
    "tags": []
   },
   "outputs": [],
   "source": [
    "def filter_and_collapse(tab, seqs, tax, meta, lvl, exclude=True, exclude_list='uncultured,unidentified,metagenome'):\n",
    "    from qiime2.plugins.taxa.methods import collapse\n",
    "    from qiime2.plugins.taxa.methods import filter_table\n",
    "    from qiime2.plugins.feature_table.methods import filter_seqs\n",
    "    from qiime2.plugins.feature_table.visualizers import summarize\n",
    "    \n",
    "    to_include = ('d', 'p', 'c', 'o', 'f', 'g', 's')[lvl-1]\n",
    "    to_include += '__'\n",
    "    to_exclude = exclude_list if exclude else None\n",
    "    \n",
    "    filtered_tabs = filter_table(\n",
    "        table=tab, \n",
    "        taxonomy=tax,\n",
    "        include=to_include,\n",
    "        exclude=to_exclude,\n",
    "        mode='contains').filtered_table\n",
    "    \n",
    "    filtered_seqs = filter_seqs(\n",
    "        data = seqs,\n",
    "        table = filtered_tabs,\n",
    "    ).filtered_data\n",
    "    \n",
    "    collapsed_table = collapse(table=filtered_tabs, taxonomy=tax, level=lvl).collapsed_table\n",
    "    collapsed_table_view = summarize(table=collapsed_table, sample_metadata=meta).visualization\n",
    "    \n",
    "    return collapsed_table, collapsed_table_view, filtered_seqs"
   ]
  },
  {
   "cell_type": "markdown",
   "id": "0999a1b2",
   "metadata": {
    "papermill": {
     "duration": 0.002918,
     "end_time": "2024-02-23T18:33:25.791862",
     "exception": false,
     "start_time": "2024-02-23T18:33:25.788944",
     "status": "completed"
    },
    "tags": []
   },
   "source": [
    "## Step execution\n",
    "\n",
    "### Load input files\n",
    "\n",
    "This Step import the QIIME2 `FeatureTable[Frequency]` Artifact and the `Metadata` file."
   ]
  },
  {
   "cell_type": "code",
   "execution_count": 7,
   "id": "8f299d1a",
   "metadata": {
    "ExecuteTime": {
     "end_time": "2022-09-29T20:54:15.559837Z",
     "start_time": "2022-09-29T20:54:14.830405Z"
    },
    "execution": {
     "iopub.execute_input": "2024-02-23T18:33:25.798575Z",
     "iopub.status.busy": "2024-02-23T18:33:25.798456Z",
     "iopub.status.idle": "2024-02-23T18:33:27.525541Z",
     "shell.execute_reply": "2024-02-23T18:33:27.525082Z"
    },
    "papermill": {
     "duration": 1.73161,
     "end_time": "2024-02-23T18:33:27.526700",
     "exception": false,
     "start_time": "2024-02-23T18:33:25.795090",
     "status": "completed"
    },
    "tags": []
   },
   "outputs": [],
   "source": [
    "#Load Metadata\n",
    "metadata_qa = Metadata.load(metadata_file)\n",
    "\n",
    "#Load FeatureTable[Frequency]\n",
    "tabs = Artifact.load(dada2_tabs_path)\n",
    "tabs_df = tabs.view(Metadata).to_dataframe().T\n",
    "\n",
    "# FeatureData[Sequence]\n",
    "reps = Artifact.load(dada2_reps_path)\n",
    "\n",
    "# FeatureData[Taxonomy]\n",
    "tax = Artifact.load(taxonomy_path)"
   ]
  },
  {
   "cell_type": "code",
   "execution_count": 8,
   "id": "c8dfe530",
   "metadata": {
    "ExecuteTime": {
     "end_time": "2022-09-29T20:54:15.564968Z",
     "start_time": "2022-09-29T20:54:15.561875Z"
    },
    "execution": {
     "iopub.execute_input": "2024-02-23T18:33:27.533815Z",
     "iopub.status.busy": "2024-02-23T18:33:27.533664Z",
     "iopub.status.idle": "2024-02-23T18:33:28.323216Z",
     "shell.execute_reply": "2024-02-23T18:33:28.322770Z"
    },
    "papermill": {
     "duration": 0.794264,
     "end_time": "2024-02-23T18:33:28.324237",
     "exception": false,
     "start_time": "2024-02-23T18:33:27.529973",
     "status": "completed"
    },
    "tags": []
   },
   "outputs": [
    {
     "name": "stderr",
     "output_type": "stream",
     "text": [
      "/home/lauro/anaconda3/envs/qiime2-2023.5/lib/python3.8/site-packages/q2_types/feature_data/_transformer.py:258: FutureWarning: iteritems is deprecated and will be removed in a future version. Use .items instead.\n",
      "  for id_, seq in data.iteritems():\n"
     ]
    }
   ],
   "source": [
    "# Filter FeatureTable[Frequency | RelativeFrequency | PresenceAbsence | Composition] based on Metadata sample ID values\n",
    "tabs = filter_samples(\n",
    "    table=tabs,\n",
    "    metadata=metadata_qa,\n",
    ").filtered_table\n",
    "# Filter SampleData[SequencesWithQuality | PairedEndSequencesWithQuality | JoinedSequencesWithQuality] based on Metadata sample ID values; returns FeatureData[Sequence | AlignedSequence]\n",
    "reps = filter_seqs(\n",
    "    data=reps,\n",
    "    table=tabs,\n",
    ").filtered_data"
   ]
  },
  {
   "cell_type": "markdown",
   "id": "9f43843a",
   "metadata": {
    "ExecuteTime": {
     "end_time": "2022-09-22T22:48:07.523952Z",
     "start_time": "2022-09-22T22:48:07.517565Z"
    },
    "papermill": {
     "duration": 0.003154,
     "end_time": "2024-02-23T18:33:28.330733",
     "exception": false,
     "start_time": "2024-02-23T18:33:28.327579",
     "status": "completed"
    },
    "tags": []
   },
   "source": [
    "## Alpha diversity analysis\n",
    "\n",
    "#### Reference\n",
    "- [The Use and Types of Alpha-Diversity Metrics in Microbial NGS](https://www.cd-genomics.com/microbioseq/the-use-and-types-of-alpha-diversity-metrics-in-microbial-ngs.html)\n",
    "- [Alpha diversity metrics](http://scikit-bio.org/docs/0.2.0/generated/skbio.diversity.alpha.html)\n",
    "\n",
    "#### Methods\n",
    "- [diversity alpha](https://docs.qiime2.org/2022.8/plugins/available/diversity/alpha/): Computes a user-specified alpha diversity metric for all samples in a\n",
    "feature table.\n",
    "- [diversity alpha_phylogenetic](https://docs.qiime2.org/2022.8/plugins/available/diversity/alpha-phylogenetic/): Computes a user-specified phylogenetic alpha diversity metric for all\n",
    "samples in a feature table.\n",
    "- [diversity alpha_correlation](https://docs.qiime2.org/2022.8/plugins/available/diversity/alpha-correlation/): Determine whether numeric sample metadata columns are correlated with alpha diversity.\n",
    "- [diversity alpha_group_significance](https://docs.qiime2.org/2022.8/plugins/available/diversity/alpha-group-significance/): Visually and statistically compare groups of alpha diversity values."
   ]
  },
  {
   "cell_type": "markdown",
   "id": "606b9c75",
   "metadata": {
    "papermill": {
     "duration": 0.002944,
     "end_time": "2024-02-23T18:33:28.336736",
     "exception": false,
     "start_time": "2024-02-23T18:33:28.333792",
     "status": "completed"
    },
    "tags": []
   },
   "source": [
    "### Compute Alpha Diversity vectors\n",
    "- [diversity alpha](https://docs.qiime2.org/2022.8/plugins/available/diversity/alpha/): Computes a user-specified alpha diversity metric for all samples in a feature table.\n",
    "- [Alpha diversity metrics](http://scikit-bio.org/docs/0.2.0/generated/skbio.diversity.alpha.html)\n",
    " - Choices: ('ace', 'berger_parker_d', 'brillouin_d', 'chao1', 'chao1_ci', 'dominance', 'doubles', 'enspie', 'esty_ci', 'fisher_alpha', 'gini_index', 'goods_coverage', 'heip_e', 'kempton_taylor_q', 'lladser_pe', 'margalef', 'mcintosh_d', 'mcintosh_e', 'menhinick', 'michaelis_menten_fit', 'observed_features', 'osd', 'pielou_e', 'robbins', 'shannon', 'simpson', 'simpson_e', 'singles', 'strong')"
   ]
  },
  {
   "cell_type": "code",
   "execution_count": 9,
   "id": "556e5264",
   "metadata": {
    "ExecuteTime": {
     "end_time": "2022-09-29T20:54:20.790166Z",
     "start_time": "2022-09-29T20:54:20.451134Z"
    },
    "execution": {
     "iopub.execute_input": "2024-02-23T18:33:28.343714Z",
     "iopub.status.busy": "2024-02-23T18:33:28.343442Z",
     "iopub.status.idle": "2024-02-23T18:33:28.818308Z",
     "shell.execute_reply": "2024-02-23T18:33:28.817924Z"
    },
    "papermill": {
     "duration": 0.479491,
     "end_time": "2024-02-23T18:33:28.819259",
     "exception": false,
     "start_time": "2024-02-23T18:33:28.339768",
     "status": "completed"
    },
    "tags": []
   },
   "outputs": [
    {
     "name": "stdout",
     "output_type": "stream",
     "text": [
      "Calculating alpha diversity: chao1\n",
      "DONE: Calculating alpha diversity: chao1\n",
      "Calculating alpha diversity: chao1_ci\n",
      "DONE: Calculating alpha diversity: chao1_ci\n",
      "Calculating alpha diversity: observed_features\n"
     ]
    },
    {
     "name": "stdout",
     "output_type": "stream",
     "text": [
      "DONE: Calculating alpha diversity: observed_features\n",
      "Calculating alpha diversity: shannon\n",
      "DONE: Calculating alpha diversity: shannon\n",
      "Calculating alpha diversity: simpson\n",
      "DONE: Calculating alpha diversity: simpson\n",
      "Calculating alpha diversity: simpson_e\n"
     ]
    },
    {
     "name": "stdout",
     "output_type": "stream",
     "text": [
      "DONE: Calculating alpha diversity: simpson_e\n"
     ]
    }
   ],
   "source": [
    "metrics = ('ace', 'berger_parker_d', 'brillouin_d', 'chao1', 'chao1_ci', 'dominance', 'doubles', 'enspie', 'esty_ci', 'fisher_alpha', 'gini_index', 'goods_coverage', 'heip_e', 'kempton_taylor_q', 'lladser_pe', 'margalef', 'mcintosh_d', 'mcintosh_e', 'menhinick', 'michaelis_menten_fit', 'observed_features', 'osd', 'pielou_e', 'robbins', 'shannon', 'simpson', 'simpson_e', 'singles', 'strong')\n",
    "\n",
    "# Sugestão de valores para Alpha diversity\n",
    "# chao1 e observed_features (riqueza); shannon e simpson (diversidade - que levam em consideração riqueza e equitabilidade).\n",
    "metrics = ('chao1', 'chao1_ci', 'observed_features', 'shannon', 'simpson', 'simpson_e')\n",
    "alpha_diversities = dict()\n",
    "for metric in metrics:\n",
    "    print(f\"Calculating alpha diversity: {metric}\")\n",
    "    try:\n",
    "        alpha_diversity = alpha(table=tabs, metric=metric).alpha_diversity\n",
    "        alpha_diversities[metric] = alpha_diversity\n",
    "        # Save SampleData[AlphaDiversity] Artifact\n",
    "        file_path = os.path.join(alpha_path, f'alpha-values-{metric}.qza')\n",
    "        alpha_diversity.save(file_path)\n",
    "        print(f\"DONE: Calculating alpha diversity: {metric}\")\n",
    "    except Exception as e:\n",
    "        print(f\"ERROR: Calculating alpha diversity: {metric}\")\n",
    "        print(e)"
   ]
  },
  {
   "cell_type": "markdown",
   "id": "184bcb7b",
   "metadata": {
    "papermill": {
     "duration": 0.003191,
     "end_time": "2024-02-23T18:33:28.825795",
     "exception": false,
     "start_time": "2024-02-23T18:33:28.822604",
     "status": "completed"
    },
    "tags": []
   },
   "source": [
    "### Create Phylogenetic inference\n",
    "\n",
    "- [alignment align_to_tree_mafft_fasttree](https://docs.qiime2.org/2022.8/plugins/available/phylogeny/align-to-tree-mafft-fasttree/): Build a phylogenetic tree using fasttree and mafft alignment\n",
    "\n",
    "This pipeline will start by creating a sequence alignment using MAFFT,\n",
    "after which any alignment columns that are phylogenetically uninformative\n",
    "or ambiguously aligned will be removed (masked). The resulting masked\n",
    "alignment will be used to infer a phylogenetic tree and then subsequently\n",
    "rooted at its midpoint. Output files from each step of the pipeline will be\n",
    "saved. This includes both the unmasked and masked MAFFT alignment from\n",
    "q2-alignment methods, and both the rooted and unrooted phylogenies from\n",
    "q2-phylogeny methods.\n",
    "\n",
    "\n",
    "Returns\n",
    "- alignment : FeatureData[AlignedSequence] : The aligned sequences.\n",
    "- masked_alignment : FeatureData[AlignedSequence] : The masked alignment.\n",
    "- tree : Phylogeny[Unrooted] : The unrooted phylogenetic tree.\n",
    "- rooted_tree : Phylogeny[Rooted] : The rooted phylogenetic tree."
   ]
  },
  {
   "cell_type": "code",
   "execution_count": 10,
   "id": "9c8cfe47",
   "metadata": {
    "ExecuteTime": {
     "end_time": "2022-09-29T20:54:35.139531Z",
     "start_time": "2022-09-29T20:54:20.792130Z"
    },
    "execution": {
     "iopub.execute_input": "2024-02-23T18:33:28.833704Z",
     "iopub.status.busy": "2024-02-23T18:33:28.833528Z",
     "iopub.status.idle": "2024-02-23T18:33:53.346359Z",
     "shell.execute_reply": "2024-02-23T18:33:53.345944Z"
    },
    "papermill": {
     "duration": 24.518488,
     "end_time": "2024-02-23T18:33:53.347425",
     "exception": false,
     "start_time": "2024-02-23T18:33:28.828937",
     "status": "completed"
    },
    "tags": []
   },
   "outputs": [
    {
     "name": "stdout",
     "output_type": "stream",
     "text": [
      "Running external command line application. This may print messages to stdout and/or stderr.\n",
      "The command being run is below. This command cannot be manually re-run as it will depend on temporary files that no longer exist.\n",
      "\n",
      "Command: mafft --preservecase --inputorder --thread 6 /tmp/qiime2/lauro/data/7c483718-b44e-4ced-82d7-9049e330a66a/data/dna-sequences.fasta\n",
      "\n"
     ]
    },
    {
     "name": "stderr",
     "output_type": "stream",
     "text": [
      "inputfile = orig\n",
      "2963 x 430 - 24 d\n",
      "nthread = 6\n",
      "nthreadpair = 6\n",
      "nthreadtb = 6\n",
      "ppenalty_ex = 0\n",
      "stacksize: 8192 kb\n",
      "generating a scoring matrix for nucleotide (dist=200) ... done\n",
      "Gap Penalty = -1.53, +0.00, +0.00\n",
      "\n",
      "\n",
      "\n",
      "Making a distance matrix ..\n",
      "\r",
      "    1 / 2963 (thread    0)\r",
      "  101 / 2963 (thread    1)\r",
      "  201 / 2963 (thread    0)\r",
      "  301 / 2963 (thread    2)\r",
      "  401 / 2963 (thread    0)"
     ]
    },
    {
     "name": "stderr",
     "output_type": "stream",
     "text": [
      "\r",
      "  501 / 2963 (thread    3)\r",
      "  601 / 2963 (thread    1)\r",
      "  701 / 2963 (thread    4)\r",
      "  801 / 2963 (thread    0)\r",
      "  901 / 2963 (thread    0)\r",
      " 1001 / 2963 (thread    0)\r",
      " 1101 / 2963 (thread    2)\r",
      " 1201 / 2963 (thread    3)\r",
      " 1301 / 2963 (thread    0)\r",
      " 1401 / 2963 (thread    3)"
     ]
    },
    {
     "name": "stderr",
     "output_type": "stream",
     "text": [
      "\r",
      " 1501 / 2963 (thread    3)\r",
      " 1601 / 2963 (thread    3)\r",
      " 1701 / 2963 (thread    3)\r",
      " 1801 / 2963 (thread    3)\r",
      " 1901 / 2963 (thread    3)\r",
      " 2001 / 2963 (thread    5)\r",
      " 2101 / 2963 (thread    3)\r",
      " 2201 / 2963 (thread    3)\r",
      " 2301 / 2963 (thread    4)\r",
      " 2401 / 2963 (thread    4)\r",
      " 2501 / 2963 (thread    1)\r",
      " 2601 / 2963 (thread    1)\r",
      " 2701 / 2963 (thread    0)\r",
      " 2801 / 2963 (thread    0)\r",
      " 2901 / 2963 (thread    5)\n",
      "done.\n",
      "\n",
      "Constructing a UPGMA tree (efffree=0) ... \n",
      "\r",
      "    0 / 2963\r",
      "   10 / 2963\r",
      "   20 / 2963\r",
      "   30 / 2963\r",
      "   40 / 2963\r",
      "   50 / 2963\r",
      "   60 / 2963\r",
      "   70 / 2963\r",
      "   80 / 2963\r",
      "   90 / 2963\r",
      "  100 / 2963\r",
      "  110 / 2963\r",
      "  120 / 2963\r",
      "  130 / 2963\r",
      "  140 / 2963\r",
      "  150 / 2963\r",
      "  160 / 2963\r",
      "  170 / 2963\r",
      "  180 / 2963\r",
      "  190 / 2963"
     ]
    },
    {
     "name": "stderr",
     "output_type": "stream",
     "text": [
      "\r",
      "  200 / 2963\r",
      "  210 / 2963\r",
      "  220 / 2963\r",
      "  230 / 2963\r",
      "  240 / 2963\r",
      "  250 / 2963\r",
      "  260 / 2963\r",
      "  270 / 2963\r",
      "  280 / 2963\r",
      "  290 / 2963\r",
      "  300 / 2963\r",
      "  310 / 2963\r",
      "  320 / 2963\r",
      "  330 / 2963\r",
      "  340 / 2963\r",
      "  350 / 2963\r",
      "  360 / 2963\r",
      "  370 / 2963\r",
      "  380 / 2963\r",
      "  390 / 2963\r",
      "  400 / 2963\r",
      "  410 / 2963\r",
      "  420 / 2963\r",
      "  430 / 2963\r",
      "  440 / 2963\r",
      "  450 / 2963\r",
      "  460 / 2963\r",
      "  470 / 2963\r",
      "  480 / 2963\r",
      "  490 / 2963\r",
      "  500 / 2963\r",
      "  510 / 2963\r",
      "  520 / 2963\r",
      "  530 / 2963\r",
      "  540 / 2963\r",
      "  550 / 2963\r",
      "  560 / 2963\r",
      "  570 / 2963\r",
      "  580 / 2963\r",
      "  590 / 2963\r",
      "  600 / 2963\r",
      "  610 / 2963\r",
      "  620 / 2963\r",
      "  630 / 2963\r",
      "  640 / 2963\r",
      "  650 / 2963\r",
      "  660 / 2963\r",
      "  670 / 2963\r",
      "  680 / 2963\r",
      "  690 / 2963\r",
      "  700 / 2963\r",
      "  710 / 2963\r",
      "  720 / 2963\r",
      "  730 / 2963\r",
      "  740 / 2963\r",
      "  750 / 2963\r",
      "  760 / 2963\r",
      "  770 / 2963\r",
      "  780 / 2963\r",
      "  790 / 2963\r",
      "  800 / 2963\r",
      "  810 / 2963\r",
      "  820 / 2963\r",
      "  830 / 2963\r",
      "  840 / 2963\r",
      "  850 / 2963\r",
      "  860 / 2963\r",
      "  870 / 2963\r",
      "  880 / 2963\r",
      "  890 / 2963\r",
      "  900 / 2963\r",
      "  910 / 2963\r",
      "  920 / 2963\r",
      "  930 / 2963\r",
      "  940 / 2963\r",
      "  950 / 2963\r",
      "  960 / 2963\r",
      "  970 / 2963\r",
      "  980 / 2963\r",
      "  990 / 2963\r",
      " 1000 / 2963\r",
      " 1010 / 2963\r",
      " 1020 / 2963\r",
      " 1030 / 2963\r",
      " 1040 / 2963\r",
      " 1050 / 2963\r",
      " 1060 / 2963\r",
      " 1070 / 2963\r",
      " 1080 / 2963\r",
      " 1090 / 2963\r",
      " 1100 / 2963\r",
      " 1110 / 2963\r",
      " 1120 / 2963\r",
      " 1130 / 2963\r",
      " 1140 / 2963\r",
      " 1150 / 2963\r",
      " 1160 / 2963\r",
      " 1170 / 2963\r",
      " 1180 / 2963\r",
      " 1190 / 2963\r",
      " 1200 / 2963\r",
      " 1210 / 2963\r",
      " 1220 / 2963\r",
      " 1230 / 2963\r",
      " 1240 / 2963\r",
      " 1250 / 2963\r",
      " 1260 / 2963\r",
      " 1270 / 2963\r",
      " 1280 / 2963\r",
      " 1290 / 2963\r",
      " 1300 / 2963\r",
      " 1310 / 2963\r",
      " 1320 / 2963\r",
      " 1330 / 2963\r",
      " 1340 / 2963\r",
      " 1350 / 2963\r",
      " 1360 / 2963\r",
      " 1370 / 2963\r",
      " 1380 / 2963\r",
      " 1390 / 2963\r",
      " 1400 / 2963\r",
      " 1410 / 2963\r",
      " 1420 / 2963\r",
      " 1430 / 2963\r",
      " 1440 / 2963\r",
      " 1450 / 2963\r",
      " 1460 / 2963\r",
      " 1470 / 2963\r",
      " 1480 / 2963\r",
      " 1490 / 2963\r",
      " 1500 / 2963\r",
      " 1510 / 2963\r",
      " 1520 / 2963\r",
      " 1530 / 2963\r",
      " 1540 / 2963\r",
      " 1550 / 2963\r",
      " 1560 / 2963\r",
      " 1570 / 2963\r",
      " 1580 / 2963\r",
      " 1590 / 2963\r",
      " 1600 / 2963\r",
      " 1610 / 2963\r",
      " 1620 / 2963\r",
      " 1630 / 2963\r",
      " 1640 / 2963\r",
      " 1650 / 2963\r",
      " 1660 / 2963\r",
      " 1670 / 2963\r",
      " 1680 / 2963\r",
      " 1690 / 2963\r",
      " 1700 / 2963\r",
      " 1710 / 2963\r",
      " 1720 / 2963\r",
      " 1730 / 2963\r",
      " 1740 / 2963\r",
      " 1750 / 2963\r",
      " 1760 / 2963\r",
      " 1770 / 2963\r",
      " 1780 / 2963\r",
      " 1790 / 2963\r",
      " 1800 / 2963\r",
      " 1810 / 2963\r",
      " 1820 / 2963\r",
      " 1830 / 2963\r",
      " 1840 / 2963\r",
      " 1850 / 2963\r",
      " 1860 / 2963\r",
      " 1870 / 2963\r",
      " 1880 / 2963\r",
      " 1890 / 2963\r",
      " 1900 / 2963\r",
      " 1910 / 2963\r",
      " 1920 / 2963\r",
      " 1930 / 2963\r",
      " 1940 / 2963\r",
      " 1950 / 2963\r",
      " 1960 / 2963\r",
      " 1970 / 2963\r",
      " 1980 / 2963\r",
      " 1990 / 2963\r",
      " 2000 / 2963\r",
      " 2010 / 2963\r",
      " 2020 / 2963\r",
      " 2030 / 2963\r",
      " 2040 / 2963\r",
      " 2050 / 2963\r",
      " 2060 / 2963\r",
      " 2070 / 2963\r",
      " 2080 / 2963\r",
      " 2090 / 2963\r",
      " 2100 / 2963\r",
      " 2110 / 2963\r",
      " 2120 / 2963\r",
      " 2130 / 2963\r",
      " 2140 / 2963\r",
      " 2150 / 2963\r",
      " 2160 / 2963\r",
      " 2170 / 2963\r",
      " 2180 / 2963\r",
      " 2190 / 2963\r",
      " 2200 / 2963\r",
      " 2210 / 2963\r",
      " 2220 / 2963\r",
      " 2230 / 2963\r",
      " 2240 / 2963\r",
      " 2250 / 2963\r",
      " 2260 / 2963\r",
      " 2270 / 2963\r",
      " 2280 / 2963\r",
      " 2290 / 2963\r",
      " 2300 / 2963\r",
      " 2310 / 2963\r",
      " 2320 / 2963\r",
      " 2330 / 2963\r",
      " 2340 / 2963\r",
      " 2350 / 2963\r",
      " 2360 / 2963\r",
      " 2370 / 2963\r",
      " 2380 / 2963\r",
      " 2390 / 2963\r",
      " 2400 / 2963\r",
      " 2410 / 2963\r",
      " 2420 / 2963\r",
      " 2430 / 2963\r",
      " 2440 / 2963\r",
      " 2450 / 2963\r",
      " 2460 / 2963\r",
      " 2470 / 2963\r",
      " 2480 / 2963\r",
      " 2490 / 2963\r",
      " 2500 / 2963\r",
      " 2510 / 2963\r",
      " 2520 / 2963\r",
      " 2530 / 2963\r",
      " 2540 / 2963\r",
      " 2550 / 2963\r",
      " 2560 / 2963\r",
      " 2570 / 2963\r",
      " 2580 / 2963\r",
      " 2590 / 2963\r",
      " 2600 / 2963\r",
      " 2610 / 2963\r",
      " 2620 / 2963\r",
      " 2630 / 2963\r",
      " 2640 / 2963\r",
      " 2650 / 2963\r",
      " 2660 / 2963\r",
      " 2670 / 2963\r",
      " 2680 / 2963\r",
      " 2690 / 2963\r",
      " 2700 / 2963\r",
      " 2710 / 2963\r",
      " 2720 / 2963\r",
      " 2730 / 2963\r",
      " 2740 / 2963\r",
      " 2750 / 2963\r",
      " 2760 / 2963\r",
      " 2770 / 2963\r",
      " 2780 / 2963\r",
      " 2790 / 2963\r",
      " 2800 / 2963\r",
      " 2810 / 2963\r",
      " 2820 / 2963\r",
      " 2830 / 2963\r",
      " 2840 / 2963\r",
      " 2850 / 2963\r",
      " 2860 / 2963\r",
      " 2870 / 2963\r",
      " 2880 / 2963\r",
      " 2890 / 2963\r",
      " 2900 / 2963\r",
      " 2910 / 2963\r",
      " 2920 / 2963\r",
      " 2930 / 2963\r",
      " 2940 / 2963\r",
      " 2950 / 2963\r",
      " 2960 / 2963\n",
      "done.\n",
      "\n",
      "Progressive alignment 1/2... \n",
      "\r",
      "STEP     1 / 2962 (thread    1) f\b\b\r",
      "STEP     4 / 2962 (thread    3) f\b\b\r",
      "STEP     5 / 2962 (thread    5) f\b\b\r",
      "STEP     7 / 2962 (thread    5) f\b\b\r",
      "STEP     6 / 2962 (thread    4) f\b\b\r",
      "STEP     8 / 2962 (thread    1) f\b\b\r",
      "STEP     2 / 2962 (thread    0) f\b\b\r",
      "STEP    10 / 2962 (thread    5) f\b\b\r",
      "STEP    11 / 2962 (thread    5) f\b\b\r",
      "STEP     9 / 2962 (thread    3) f\b\b\r",
      "STEP    13 / 2962 (thread    0) f\b\b\r",
      "STEP     3 / 2962 (thread    2) f\b\b\r",
      "STEP    14 / 2962 (thread    5) f\b\b\r",
      "STEP    12 / 2962 (thread    1) f\b\b\r",
      "STEP    15 / 2962 (thread    5) f\b\b\r",
      "STEP    16 / 2962 (thread    4) f\b\b\r",
      "STEP    17 / 2962 (thread    5) f\b\b\r",
      "STEP    18 / 2962 (thread    3) f\b\b\r",
      "STEP    19 / 2962 (thread    0) f\b\b\r",
      "STEP    20 / 2962 (thread    0) f\b\b\r",
      "STEP    22 / 2962 (thread    4) f\b\b\r",
      "STEP    23 / 2962 (thread    2) f\b\b\r",
      "STEP    21 / 2962 (thread    3) f\b\b\r",
      "STEP    25 / 2962 (thread    4) f\b\b\r",
      "STEP    26 / 2962 (thread    1) f\b\b\r",
      "STEP    27 / 2962 (thread    5) f\b\b\r",
      "STEP    24 / 2962 (thread    0) f\b\b\r",
      "STEP    29 / 2962 (thread    1) f\b\b\r",
      "STEP    28 / 2962 (thread    2) f\b\b\r",
      "STEP    31 / 2962 (thread    1) f\b\b\r",
      "STEP    30 / 2962 (thread    5) f\b\b\r",
      "STEP    33 / 2962 (thread    1) f\b\b\r",
      "STEP    34 / 2962 (thread    3) f\b\b\r",
      "STEP    32 / 2962 (thread    4) f\b\b\r",
      "STEP    35 / 2962 (thread    1) f\b\b\r",
      "STEP    36 / 2962 (thread    0) f\b\b\r",
      "STEP    37 / 2962 (thread    1) f\b\b\r",
      "STEP    38 / 2962 (thread    5) f\b\b\r",
      "STEP    40 / 2962 (thread    1) f\b\b\r",
      "STEP    42 / 2962 (thread    2) f\b\b\r",
      "STEP    43 / 2962 (thread    5) f\b\b\r",
      "STEP    39 / 2962 (thread    3) f\b\b\r",
      "STEP    44 / 2962 (thread    1) f\b\b\r",
      "STEP    41 / 2962 (thread    0) f\b\b\r",
      "STEP    46 / 2962 (thread    2) f\b\b\r",
      "STEP    47 / 2962 (thread    5) f\b\b\r",
      "STEP    45 / 2962 (thread    4) f\b\b\r",
      "STEP    49 / 2962 (thread    2) f\b\b\r",
      "STEP    50 / 2962 (thread    2) f\b\b\r",
      "STEP    51 / 2962 (thread    5) f\b\b\r",
      "STEP    48 / 2962 (thread    1) f\b\b\r",
      "STEP    52 / 2962 (thread    3) f\b\b\r",
      "STEP    54 / 2962 (thread    5) f\b\b\r",
      "STEP    55 / 2962 (thread    0) f\b\b\r",
      "STEP    56 / 2962 (thread    4) f\b\b\r",
      "STEP    57 / 2962 (thread    3) f\b\b\r",
      "STEP    53 / 2962 (thread    2) f\b\b\r",
      "STEP    61 / 2962 (thread    0) f\b\b\r",
      "STEP    58 / 2962 (thread    5) f\b\b\r",
      "STEP    62 / 2962 (thread    3) f\b\b\r",
      "STEP    64 / 2962 (thread    2) f\b\b\r",
      "STEP    65 / 2962 (thread    3) f\b\b\r",
      "STEP    63 / 2962 (thread    0) f\b\b\r",
      "STEP    67 / 2962 (thread    5) f\b\b\r",
      "STEP    59 / 2962 (thread    4) f\b\b\r",
      "STEP    68 / 2962 (thread    3) f\b\b\r",
      "STEP    66 / 2962 (thread    2) f\b\b\r",
      "STEP    69 / 2962 (thread    5) f\b\b\r",
      "STEP    70 / 2962 (thread    3) f\b\b\r",
      "STEP    71 / 2962 (thread    2) f\b\b\r",
      "STEP    72 / 2962 (thread    5) f\b\b\r",
      "STEP    73 / 2962 (thread    4) f\b\b\r",
      "STEP    60 / 2962 (thread    1) f\b\b\r",
      "STEP    74 / 2962 (thread    3) f\b\b\r",
      "STEP    76 / 2962 (thread    4) f\b\b\r",
      "STEP    78 / 2962 (thread    0) f\b\b\r",
      "STEP    79 / 2962 (thread    4) f\b\b\r",
      "STEP    77 / 2962 (thread    1) f\b\b\r",
      "STEP    81 / 2962 (thread    3) f\b\b\r",
      "STEP    75 / 2962 (thread    5) f\b\b\r",
      "STEP    82 / 2962 (thread    4) f\b\b\r",
      "STEP    80 / 2962 (thread    2) f\b\b\r",
      "STEP    83 / 2962 (thread    4) f\b\b\r",
      "STEP    86 / 2962 (thread    4) f\b\b\r",
      "STEP    87 / 2962 (thread    2) f\b\b\r",
      "STEP    84 / 2962 (thread    0) f\b\b\r",
      "STEP    88 / 2962 (thread    2) f\b\b\r",
      "STEP    89 / 2962 (thread    4) f\b\b\r",
      "STEP    90 / 2962 (thread    5) f\b\b\r",
      "STEP    91 / 2962 (thread    5) f\b\b\r",
      "STEP    92 / 2962 (thread    1) f\b\b\r",
      "STEP    94 / 2962 (thread    2) f\b\b\r",
      "STEP    95 / 2962 (thread    5) f\b\b\r",
      "STEP    93 / 2962 (thread    4) f\b\b\r",
      "STEP    97 / 2962 (thread    0) f\b\b\r",
      "STEP    85 / 2962 (thread    3) f\b\b\r",
      "STEP    98 / 2962 (thread    0) f\b\b\r",
      "STEP   100 / 2962 (thread    2) f\b\b\r",
      "STEP   101 / 2962 (thread    5) f\b\b\r",
      "STEP    96 / 2962 (thread    1) f\b\b\r",
      "STEP    99 / 2962 (thread    4) f\b\b\r",
      "STEP   102 / 2962 (thread    0) f\b\b\r",
      "STEP   104 / 2962 (thread    2) f\b\b\r",
      "STEP   105 / 2962 (thread    2) f\b\b\r",
      "STEP   106 / 2962 (thread    3) f\b\b\r",
      "STEP   107 / 2962 (thread    3) f\b\b\r",
      "STEP   108 / 2962 (thread    1) f\b\b\r",
      "STEP   109 / 2962 (thread    0) f\b\b\r",
      "STEP   103 / 2962 (thread    5) f\b\b\r",
      "STEP   110 / 2962 (thread    2) f\b\b\r",
      "STEP   111 / 2962 (thread    3) f\b\b\r",
      "STEP   112 / 2962 (thread    4) f\b\b\r",
      "STEP   113 / 2962 (thread    0) f\b\b\r",
      "STEP   114 / 2962 (thread    2) f\b\b\r",
      "STEP   115 / 2962 (thread    3) f\b\b\r",
      "STEP   116 / 2962 (thread    1) f\b\b\r",
      "STEP   119 / 2962 (thread    1) f\b\b\r",
      "STEP   117 / 2962 (thread    0) f\b\b\r",
      "STEP   120 / 2962 (thread    2) f\b\b\r",
      "STEP   122 / 2962 (thread    1) f\b\b\r",
      "STEP   121 / 2962 (thread    3) f\b\b\r",
      "STEP   124 / 2962 (thread    5) f\b\b\r",
      "STEP   125 / 2962 (thread    5) f\b\b\r",
      "STEP   126 / 2962 (thread    1) f\b\b\r",
      "STEP   123 / 2962 (thread    2) f\b\b\r",
      "STEP   127 / 2962 (thread    5) f\b\b\r",
      "STEP   130 / 2962 (thread    0) f\b\b\r",
      "STEP   118 / 2962 (thread    4) f\b\b\r",
      "STEP   131 / 2962 (thread    2) f\b\b\r",
      "STEP   132 / 2962 (thread    5) f\b\b\r",
      "STEP   128 / 2962 (thread    3) f\b\b\r",
      "STEP   133 / 2962 (thread    2) f\b\b\r",
      "STEP   134 / 2962 (thread    0) f\b\b\r",
      "STEP   135 / 2962 (thread    2) f\b\b\r",
      "STEP   136 / 2962 (thread    5) f\b\b\r",
      "STEP   137 / 2962 (thread    0) f\b\b\r",
      "STEP   138 / 2962 (thread    4) f\b\b\r",
      "STEP   139 / 2962 (thread    5) f\b\b\r",
      "STEP   140 / 2962 (thread    3) f\b\b\r",
      "STEP   129 / 2962 (thread    1) f\b\b\r",
      "STEP   142 / 2962 (thread    2) f\b\b\r",
      "STEP   143 / 2962 (thread    4) f\b\b\r",
      "STEP   144 / 2962 (thread    5) f\b\b\r",
      "STEP   145 / 2962 (thread    4) f\b\b\r",
      "STEP   146 / 2962 (thread    2) f\b\b\r",
      "STEP   147 / 2962 (thread    2) f\b\b\r",
      "STEP   148 / 2962 (thread    3) f\b\b\r",
      "STEP   141 / 2962 (thread    0) f\b\b\r",
      "STEP   149 / 2962 (thread    4) f\b\b\r",
      "STEP   150 / 2962 (thread    5) f\b\b\r",
      "STEP   151 / 2962 (thread    1) f\b\b\r",
      "STEP   152 / 2962 (thread    3) f\b\b\r",
      "STEP   153 / 2962 (thread    2) f\b\b\r",
      "STEP   154 / 2962 (thread    4) f\b\b\r",
      "STEP   155 / 2962 (thread    1) f\b\b\r",
      "STEP   156 / 2962 (thread    3) f\b\b\r",
      "STEP   157 / 2962 (thread    5) f\b\b\r",
      "STEP   158 / 2962 (thread    4) f\b\b\r",
      "STEP   159 / 2962 (thread    5) f\b\b\r",
      "STEP   160 / 2962 (thread    2) f\b\b\r",
      "STEP   162 / 2962 (thread    2) f\b\b\r",
      "STEP   161 / 2962 (thread    3) f\b\b\r",
      "STEP   163 / 2962 (thread    0) f\b\b\r",
      "STEP   164 / 2962 (thread    1) f\b\b\r",
      "STEP   165 / 2962 (thread    4) f\b\b\r",
      "STEP   166 / 2962 (thread    2) f\b\b\r",
      "STEP   167 / 2962 (thread    5) f\b\b\r",
      "STEP   168 / 2962 (thread    0) f\b\b\r",
      "STEP   169 / 2962 (thread    1) f\b\b\r",
      "STEP   170 / 2962 (thread    2) f\b\b\r",
      "STEP   171 / 2962 (thread    4) f\b\b\r",
      "STEP   172 / 2962 (thread    3) f\b\b\r",
      "STEP   173 / 2962 (thread    0) f\b\b\r",
      "STEP   174 / 2962 (thread    5) f\b\b\r",
      "STEP   175 / 2962 (thread    1) f\b\b\r",
      "STEP   176 / 2962 (thread    4) f\b\b\r",
      "STEP   177 / 2962 (thread    2) f\b\b\r",
      "STEP   178 / 2962 (thread    3) f\b\b\r",
      "STEP   179 / 2962 (thread    1) f\b\b\r",
      "STEP   180 / 2962 (thread    0) f\b\b\r",
      "STEP   181 / 2962 (thread    5) f\b\b\r",
      "STEP   182 / 2962 (thread    2) f\b\b\r",
      "STEP   183 / 2962 (thread    4) f\b\b\r",
      "STEP   184 / 2962 (thread    0) f\b\b\r",
      "STEP   185 / 2962 (thread    3) f\b\b\r",
      "STEP   186 / 2962 (thread    1) f\b\b\r",
      "STEP   187 / 2962 (thread    5) f\b\b\r",
      "STEP   188 / 2962 (thread    2) f\b\b\r",
      "STEP   189 / 2962 (thread    2) f\b\b\r",
      "STEP   190 / 2962 (thread    4) f\b\b\r",
      "STEP   191 / 2962 (thread    1) f\b\b\r",
      "STEP   192 / 2962 (thread    0) f\b\b\r",
      "STEP   193 / 2962 (thread    3) f\b\b\r",
      "STEP   194 / 2962 (thread    5) f\b\b\r",
      "STEP   195 / 2962 (thread    2) f\b\b\r",
      "STEP   196 / 2962 (thread    4) f\b\b\r",
      "STEP   197 / 2962 (thread    0) f\b\b\r",
      "STEP   198 / 2962 (thread    1) f\b\b\r",
      "STEP   199 / 2962 (thread    3) f\b\b\r",
      "STEP   200 / 2962 (thread    5) f\b\b\r",
      "STEP   201 / 2962 (thread    2) f\b\b\r",
      "STEP   202 / 2962 (thread    0) f\b\b\r",
      "STEP   203 / 2962 (thread    4) f\b\b\r",
      "STEP   204 / 2962 (thread    1) f\b\b\r",
      "STEP   205 / 2962 (thread    3) f\b\b\r",
      "STEP   206 / 2962 (thread    5) f\b\b\r",
      "STEP   207 / 2962 (thread    2) f\b\b\r",
      "STEP   208 / 2962 (thread    4) f\b\b\r",
      "STEP   209 / 2962 (thread    1) f\b\b\r",
      "STEP   210 / 2962 (thread    0) f\b\b\r",
      "STEP   211 / 2962 (thread    3) f\b\b\r",
      "STEP   212 / 2962 (thread    5) f\b\b\r",
      "STEP   213 / 2962 (thread    2) f\b\b\r",
      "STEP   214 / 2962 (thread    4) f\b\b\r",
      "STEP   215 / 2962 (thread    0) f\b\b\r",
      "STEP   216 / 2962 (thread    1) f\b\b\r",
      "STEP   217 / 2962 (thread    3) f\b\b\r",
      "STEP   218 / 2962 (thread    5) f\b\b\r",
      "STEP   219 / 2962 (thread    2) f\b\b\r",
      "STEP   220 / 2962 (thread    0) f\b\b\r",
      "STEP   221 / 2962 (thread    4) f\b\b\r",
      "STEP   222 / 2962 (thread    1) f\b\b\r",
      "STEP   223 / 2962 (thread    3) f\b\b\r",
      "STEP   224 / 2962 (thread    5) f\b\b\r",
      "STEP   225 / 2962 (thread    2) f\b\b\r",
      "STEP   226 / 2962 (thread    1) f\b\b\r",
      "STEP   227 / 2962 (thread    0) f\b\b\r",
      "STEP   228 / 2962 (thread    4) f\b\b\r",
      "STEP   229 / 2962 (thread    3) f\b\b\r",
      "STEP   230 / 2962 (thread    5) f\b\b\r",
      "STEP   231 / 2962 (thread    2) f\b\b\r",
      "STEP   232 / 2962 (thread    1) f\b\b\r",
      "STEP   233 / 2962 (thread    0) f\b\b\r",
      "STEP   234 / 2962 (thread    4) f\b\b\r",
      "STEP   235 / 2962 (thread    3) f\b\b\r",
      "STEP   236 / 2962 (thread    5) f\b\b\r",
      "STEP   237 / 2962 (thread    2) f\b\b\r",
      "STEP   238 / 2962 (thread    1) f\b\b\r",
      "STEP   239 / 2962 (thread    0) f\b\b\r",
      "STEP   240 / 2962 (thread    4) f\b\b\r",
      "STEP   241 / 2962 (thread    3) f\b\b\r",
      "STEP   242 / 2962 (thread    5) f\b\b\r",
      "STEP   243 / 2962 (thread    4) f\b\b\r",
      "STEP   244 / 2962 (thread    2) f\b\b\r",
      "STEP   245 / 2962 (thread    1) f\b\b\r",
      "STEP   246 / 2962 (thread    0) f\b\b\r",
      "STEP   247 / 2962 (thread    3) f\b\b\r",
      "STEP   248 / 2962 (thread    4) f\b\b\r",
      "STEP   249 / 2962 (thread    5) f\b\b\r",
      "STEP   250 / 2962 (thread    2) f\b\b\r",
      "STEP   251 / 2962 (thread    1) f\b\b\r",
      "STEP   252 / 2962 (thread    0) f\b\b\r",
      "STEP   253 / 2962 (thread    3) f\b\b\r",
      "STEP   254 / 2962 (thread    4) f\b\b\r",
      "STEP   255 / 2962 (thread    5) f\b\b\r",
      "STEP   256 / 2962 (thread    2) f\b\b\r",
      "STEP   257 / 2962 (thread    1) f\b\b\r",
      "STEP   258 / 2962 (thread    0) f\b\b\r",
      "STEP   259 / 2962 (thread    3) f\b\b\r",
      "STEP   260 / 2962 (thread    4) f\b\b\r",
      "STEP   262 / 2962 (thread    1) f\b\b\r",
      "STEP   263 / 2962 (thread    0) f\b\b\r",
      "STEP   261 / 2962 (thread    5) f\b\b\r",
      "STEP   264 / 2962 (thread    2) f\b\b\r",
      "STEP   265 / 2962 (thread    3) f\b\b\r",
      "STEP   266 / 2962 (thread    4) f\b\b\r",
      "STEP   267 / 2962 (thread    1) f\b\b\r",
      "STEP   268 / 2962 (thread    0) f\b\b\r",
      "STEP   269 / 2962 (thread    2) f\b\b\r",
      "STEP   270 / 2962 (thread    5) f\b\b\r",
      "STEP   271 / 2962 (thread    3) f\b\b\r",
      "STEP   272 / 2962 (thread    4) f\b\b\r",
      "STEP   273 / 2962 (thread    0) f\b\b\r",
      "STEP   274 / 2962 (thread    1) f\b\b\r",
      "STEP   275 / 2962 (thread    2) f\b\b\r",
      "STEP   276 / 2962 (thread    3) f\b\b\r",
      "STEP   277 / 2962 (thread    5) f\b\b\r",
      "STEP   278 / 2962 (thread    4) f\b\b\r",
      "STEP   279 / 2962 (thread    1) f\b\b\r",
      "STEP   280 / 2962 (thread    2) f\b\b\r",
      "STEP   281 / 2962 (thread    0) f\b\b\r",
      "STEP   282 / 2962 (thread    3) f\b\b\r",
      "STEP   283 / 2962 (thread    5) f\b\b\r",
      "STEP   284 / 2962 (thread    4) f\b\b\r",
      "STEP   285 / 2962 (thread    1) f\b\b\r",
      "STEP   286 / 2962 (thread    2) f\b\b\r",
      "STEP   287 / 2962 (thread    0) f\b\b\r",
      "STEP   288 / 2962 (thread    3) f\b\b\r",
      "STEP   289 / 2962 (thread    5) f\b\b\r",
      "STEP   290 / 2962 (thread    4) f\b\b\r",
      "STEP   291 / 2962 (thread    1) f\b\b\r",
      "STEP   292 / 2962 (thread    2) f\b\b\r",
      "STEP   293 / 2962 (thread    0) f\b\b\r",
      "STEP   294 / 2962 (thread    3) f\b\b\r",
      "STEP   295 / 2962 (thread    5) f\b\b\r",
      "STEP   296 / 2962 (thread    4) f\b\b\r",
      "STEP   297 / 2962 (thread    2) f\b\b\r",
      "STEP   298 / 2962 (thread    1) f\b\b\r",
      "STEP   299 / 2962 (thread    0) f\b\b\r",
      "STEP   300 / 2962 (thread    3) f\b\b\r",
      "STEP   301 / 2962 (thread    5) f\b\b\r",
      "STEP   302 / 2962 (thread    4) f\b\b\r",
      "STEP   303 / 2962 (thread    1) f\b\b\r",
      "STEP   304 / 2962 (thread    0) f\b\b\r",
      "STEP   305 / 2962 (thread    2) f\b\b\r",
      "STEP   306 / 2962 (thread    3) f\b\b\r",
      "STEP   307 / 2962 (thread    4) f\b\b\r",
      "STEP   308 / 2962 (thread    5) f\b\b\r",
      "STEP   309 / 2962 (thread    1) f\b\b\r",
      "STEP   310 / 2962 (thread    0) f\b\b\r",
      "STEP   311 / 2962 (thread    3) f\b\b\r",
      "STEP   312 / 2962 (thread    2) f\b\b\r",
      "STEP   313 / 2962 (thread    0) f\b\b\r",
      "STEP   314 / 2962 (thread    4) f\b\b\r",
      "STEP   315 / 2962 (thread    5) f\b\b\r",
      "STEP   316 / 2962 (thread    1) f\b\b\r",
      "STEP   317 / 2962 (thread    3) f\b\b\r",
      "STEP   318 / 2962 (thread    4) f\b\b\r",
      "STEP   319 / 2962 (thread    5) f\b\b\r",
      "STEP   320 / 2962 (thread    0) f\b\b\r",
      "STEP   321 / 2962 (thread    2) f\b\b\r",
      "STEP   322 / 2962 (thread    4) f\b\b\r",
      "STEP   323 / 2962 (thread    5) f\b\b\r",
      "STEP   324 / 2962 (thread    1) f\b\b\r",
      "STEP   325 / 2962 (thread    0) f\b\b\r",
      "STEP   326 / 2962 (thread    3) f\b\b\r",
      "STEP   327 / 2962 (thread    4) f\b\b\r",
      "STEP   328 / 2962 (thread    2) f\b\b\r",
      "STEP   329 / 2962 (thread    4) f\b\b\r",
      "STEP   330 / 2962 (thread    2) f\b\b\r",
      "STEP   331 / 2962 (thread    5) f\b\b\r",
      "STEP   332 / 2962 (thread    1) f\b\b\r",
      "STEP   333 / 2962 (thread    0) f\b\b\r",
      "STEP   334 / 2962 (thread    4) f\b\b\r",
      "STEP   335 / 2962 (thread    3) f\b\b\r",
      "STEP   336 / 2962 (thread    0) f\b\b\r",
      "STEP   337 / 2962 (thread    5) f\b\b\r",
      "STEP   338 / 2962 (thread    0) f\b\b\r",
      "STEP   339 / 2962 (thread    2) f\b\b\r",
      "STEP   340 / 2962 (thread    1) f\b\b\r",
      "STEP   341 / 2962 (thread    0) f\b\b\r",
      "STEP   342 / 2962 (thread    4) f\b\b\r",
      "STEP   343 / 2962 (thread    3) f\b\b\r",
      "STEP   344 / 2962 (thread    1) f\b\b\r",
      "STEP   345 / 2962 (thread    5) f\b\b\r",
      "STEP   346 / 2962 (thread    2) f\b\b\r",
      "STEP   347 / 2962 (thread    3) f\b\b\r",
      "STEP   348 / 2962 (thread    1) f\b\b\r",
      "STEP   349 / 2962 (thread    5) f\b\b\r",
      "STEP   350 / 2962 (thread    0) f\b\b\r",
      "STEP   351 / 2962 (thread    4) f\b\b\r",
      "STEP   352 / 2962 (thread    3) f\b\b\r",
      "STEP   353 / 2962 (thread    2) f\b\b\r",
      "STEP   354 / 2962 (thread    5) f\b\b\r",
      "STEP   355 / 2962 (thread    0) f\b\b\r",
      "STEP   356 / 2962 (thread    4) f\b\b\r",
      "STEP   357 / 2962 (thread    5) f\b\b\r",
      "STEP   358 / 2962 (thread    2) f\b\b\r",
      "STEP   359 / 2962 (thread    1) f\b\b\r",
      "STEP   360 / 2962 (thread    3) f\b\b\r",
      "STEP   361 / 2962 (thread    0) f\b\b\r",
      "STEP   362 / 2962 (thread    4) f\b\b\r",
      "STEP   363 / 2962 (thread    2) f\b\b\r",
      "STEP   364 / 2962 (thread    1) f\b\b\r",
      "STEP   365 / 2962 (thread    3) f\b\b\r",
      "STEP   366 / 2962 (thread    0) f\b\b\r",
      "STEP   367 / 2962 (thread    5) f\b\b\r",
      "STEP   368 / 2962 (thread    4) f\b\b\r",
      "STEP   369 / 2962 (thread    2) f\b\b\r",
      "STEP   370 / 2962 (thread    0) f\b\b\r",
      "STEP   371 / 2962 (thread    1) f\b\b\r",
      "STEP   372 / 2962 (thread    5) f\b\b\r",
      "STEP   373 / 2962 (thread    4) f\b\b\r",
      "STEP   374 / 2962 (thread    3) f\b\b\r",
      "STEP   375 / 2962 (thread    1) f\b\b\r",
      "STEP   376 / 2962 (thread    5) f\b\b\r",
      "STEP   377 / 2962 (thread    3) f\b\b\r",
      "STEP   378 / 2962 (thread    2) f\b\b\r",
      "STEP   379 / 2962 (thread    0) f\b\b\r",
      "STEP   380 / 2962 (thread    1) f\b\b\r",
      "STEP   381 / 2962 (thread    3) f\b\b\r",
      "STEP   382 / 2962 (thread    5) f\b\b\r",
      "STEP   383 / 2962 (thread    0) f\b\b\r",
      "STEP   384 / 2962 (thread    2) f\b\b\r",
      "STEP   386 / 2962 (thread    1) f\b\b\r",
      "STEP   387 / 2962 (thread    3) f\b\b\r",
      "STEP   388 / 2962 (thread    0) f\b\b\r",
      "STEP   389 / 2962 (thread    1) f\b\b\r",
      "STEP   390 / 2962 (thread    5) f\b\b\r",
      "STEP   385 / 2962 (thread    4) f\b\b\r",
      "STEP   391 / 2962 (thread    2) f\b\b\r",
      "STEP   392 / 2962 (thread    0) f\b\b\r",
      "STEP   393 / 2962 (thread    3) f\b\b\r",
      "STEP   394 / 2962 (thread    1) f\b\b\r",
      "STEP   395 / 2962 (thread    5) f\b\b\r",
      "STEP   396 / 2962 (thread    2) f\b\b\r",
      "STEP   397 / 2962 (thread    4) f\b\b\r",
      "STEP   398 / 2962 (thread    0) f\b\b\r",
      "STEP   399 / 2962 (thread    3) f\b\b\r",
      "STEP   400 / 2962 (thread    1) f\b\b\r",
      "STEP   401 / 2962 (thread    2) f\b\b\r",
      "STEP   402 / 2962 (thread    0) f\b\b\r",
      "STEP   403 / 2962 (thread    3) f\b\b\r",
      "STEP   404 / 2962 (thread    1) f\b\b\r",
      "STEP   405 / 2962 (thread    2) f\b\b\r",
      "STEP   406 / 2962 (thread    5) f\b\b\r",
      "STEP   407 / 2962 (thread    4) f\b\b\r",
      "STEP   408 / 2962 (thread    3) f\b\b\r",
      "STEP   409 / 2962 (thread    2) f\b\b\r",
      "STEP   410 / 2962 (thread    5) f\b\b\r",
      "STEP   411 / 2962 (thread    4) f\b\b\r",
      "STEP   412 / 2962 (thread    0) f\b\b\r",
      "STEP   413 / 2962 (thread    3) f\b\b\r",
      "STEP   414 / 2962 (thread    1) f\b\b\r",
      "STEP   415 / 2962 (thread    2) f\b\b\r",
      "STEP   416 / 2962 (thread    4) f\b\b\r",
      "STEP   417 / 2962 (thread    3) f\b\b\r",
      "STEP   418 / 2962 (thread    1) f\b\b\r",
      "STEP   419 / 2962 (thread    4) f\b\b\r",
      "STEP   420 / 2962 (thread    5) f\b\b\r",
      "STEP   421 / 2962 (thread    3) f\b\b\r",
      "STEP   422 / 2962 (thread    0) f\b\b\r",
      "STEP   423 / 2962 (thread    4) f\b\b\r",
      "STEP   424 / 2962 (thread    2) f\b\b\r",
      "STEP   425 / 2962 (thread    3) f\b\b\r",
      "STEP   426 / 2962 (thread    4) f\b\b\r",
      "STEP   427 / 2962 (thread    2) f\b\b\r",
      "STEP   428 / 2962 (thread    3) f\b\b\r",
      "STEP   429 / 2962 (thread    1) f\b\b\r",
      "STEP   430 / 2962 (thread    2) f\b\b\r",
      "STEP   431 / 2962 (thread    4) f\b\b\r",
      "STEP   432 / 2962 (thread    3) f\b\b\r",
      "STEP   433 / 2962 (thread    0) f\b\b\r",
      "STEP   434 / 2962 (thread    1) f\b\b\r",
      "STEP   435 / 2962 (thread    4) f\b\b\r",
      "STEP   436 / 2962 (thread    5) f\b\b\r",
      "STEP   437 / 2962 (thread    3) f\b\b\r",
      "STEP   438 / 2962 (thread    0) f\b\b"
     ]
    },
    {
     "name": "stderr",
     "output_type": "stream",
     "text": [
      "\r",
      "STEP   439 / 2962 (thread    1) f\b\b\r",
      "STEP   440 / 2962 (thread    5) f\b\b\r",
      "STEP   441 / 2962 (thread    2) f\b\b\r",
      "STEP   442 / 2962 (thread    4) f\b\b\r",
      "STEP   443 / 2962 (thread    3) f\b\b\r",
      "STEP   444 / 2962 (thread    0) f\b\b\r",
      "STEP   445 / 2962 (thread    1) f\b\b\r",
      "STEP   446 / 2962 (thread    5) f\b\b\r",
      "STEP   447 / 2962 (thread    2) f\b\b\r",
      "STEP   448 / 2962 (thread    4) f\b\b\r",
      "STEP   449 / 2962 (thread    3) f\b\b\r",
      "STEP   450 / 2962 (thread    1) f\b\b\r",
      "STEP   451 / 2962 (thread    2) f\b\b\r",
      "STEP   452 / 2962 (thread    0) f\b\b\r",
      "STEP   453 / 2962 (thread    4) f\b\b\r",
      "STEP   454 / 2962 (thread    2) f\b\b\r",
      "STEP   455 / 2962 (thread    3) f\b\b\r",
      "STEP   456 / 2962 (thread    0) f\b\b\r",
      "STEP   457 / 2962 (thread    5) f\b\b\r",
      "STEP   458 / 2962 (thread    4) f\b\b\r",
      "STEP   460 / 2962 (thread    1) f\b\b\r",
      "STEP   461 / 2962 (thread    0) f\b\b\r",
      "STEP   462 / 2962 (thread    3) f\b\b\r",
      "STEP   459 / 2962 (thread    2) f\b\b\r",
      "STEP   463 / 2962 (thread    3) f\b\b\r",
      "STEP   464 / 2962 (thread    5) f\b\b\r",
      "STEP   465 / 2962 (thread    2) f\b\b\r",
      "STEP   466 / 2962 (thread    4) f\b\b\r",
      "STEP   467 / 2962 (thread    1) f\b\b\r",
      "STEP   468 / 2962 (thread    0) f\b\b\r",
      "STEP   469 / 2962 (thread    5) f\b\b\r",
      "STEP   470 / 2962 (thread    3) f\b\b\r",
      "STEP   471 / 2962 (thread    2) f\b\b\r",
      "STEP   472 / 2962 (thread    4) f\b\b\r",
      "STEP   474 / 2962 (thread    0) f\b\b\r",
      "STEP   475 / 2962 (thread    5) f\b\b\r",
      "STEP   476 / 2962 (thread    2) f\b\b\r",
      "STEP   473 / 2962 (thread    1) f\b\b\r",
      "STEP   477 / 2962 (thread    5) f\b\b\r",
      "STEP   478 / 2962 (thread    1) f\b\b\r",
      "STEP   479 / 2962 (thread    5) f\b\b\r",
      "STEP   480 / 2962 (thread    3) f\b\b\r",
      "STEP   481 / 2962 (thread    4) f\b\b\r",
      "STEP   482 / 2962 (thread    1) f\b\b\r",
      "STEP   483 / 2962 (thread    5) f\b\b\r",
      "STEP   484 / 2962 (thread    3) f\b\b\r",
      "STEP   485 / 2962 (thread    0) f\b\b\r",
      "STEP   487 / 2962 (thread    4) f\b\b\r",
      "STEP   486 / 2962 (thread    2) f\b\b\r",
      "STEP   488 / 2962 (thread    1) f\b\b\r",
      "STEP   489 / 2962 (thread    3) f\b\b\r",
      "STEP   490 / 2962 (thread    2) f\b\b\r",
      "STEP   491 / 2962 (thread    4) f\b\b\r",
      "STEP   492 / 2962 (thread    1) f\b\b\r",
      "STEP   493 / 2962 (thread    3) f\b\b\r",
      "STEP   494 / 2962 (thread    0) f\b\b\r",
      "STEP   495 / 2962 (thread    4) f\b\b\r",
      "STEP   497 / 2962 (thread    1) f\b\b\r",
      "STEP   498 / 2962 (thread    3) f\b\b\r",
      "STEP   499 / 2962 (thread    1) f\b\b\r",
      "STEP   500 / 2962 (thread    2) f\b\b\r",
      "STEP   496 / 2962 (thread    5) f\b\b\r",
      "STEP   501 / 2962 (thread    0) f\b\b\r",
      "STEP   601 / 2962 (thread    3) f\b\b\r",
      "STEP   701 / 2962 (thread    4) f\b\b\r",
      "STEP   801 / 2962 (thread    4) f\b\b\r",
      "STEP   901 / 2962 (thread    0) f\b\b\r",
      "STEP  1001 / 2962 (thread    0) f\b\b\r",
      "STEP  1101 / 2962 (thread    4) f\b\b\r",
      "STEP  1201 / 2962 (thread    3) f\b\b\r",
      "STEP  1301 / 2962 (thread    0) f\b\b\r",
      "STEP  1401 / 2962 (thread    4) f\b\b\r",
      "STEP  1501 / 2962 (thread    3) f\b\b\r",
      "STEP  1601 / 2962 (thread    4) f\b\b\r",
      "STEP  1701 / 2962 (thread    4) f\b\b\r",
      "STEP  1801 / 2962 (thread    3) f\b\b\r",
      "STEP  1901 / 2962 (thread    0) f\b\b\r",
      "STEP  2001 / 2962 (thread    0) f\b\b"
     ]
    },
    {
     "name": "stderr",
     "output_type": "stream",
     "text": [
      "\r",
      "STEP  2101 / 2962 (thread    4) f\b\b\r",
      "STEP  2201 / 2962 (thread    0) f\b\b\r",
      "STEP  2301 / 2962 (thread    0) f\b\b\r",
      "STEP  2401 / 2962 (thread    0) f\b\b\n",
      "Reallocating..done. *alloclen = 1861\n",
      "\r",
      "STEP  2501 / 2962 (thread    5) f\b\b\r",
      "STEP  2601 / 2962 (thread    0) d\b\b\r",
      "STEP  2701 / 2962 (thread    5) f\b\b\r",
      "STEP  2801 / 2962 (thread    3) f\b\b"
     ]
    },
    {
     "name": "stderr",
     "output_type": "stream",
     "text": [
      "\r",
      "STEP  2901 / 2962 (thread    1) d\b\b h"
     ]
    },
    {
     "name": "stderr",
     "output_type": "stream",
     "text": [
      "\n",
      "done.\n",
      "\n",
      "Making a distance matrix from msa.. \n",
      "\r",
      "    0 / 2963 (thread    0)\r",
      "  100 / 2963 (thread    1)\r",
      "  200 / 2963 (thread    5)\r",
      "  300 / 2963 (thread    1)"
     ]
    },
    {
     "name": "stderr",
     "output_type": "stream",
     "text": [
      "\r",
      "  400 / 2963 (thread    2)\r",
      "  500 / 2963 (thread    2)\r",
      "  600 / 2963 (thread    4)\r",
      "  700 / 2963 (thread    3)\r",
      "  800 / 2963 (thread    4)"
     ]
    },
    {
     "name": "stderr",
     "output_type": "stream",
     "text": [
      "\r",
      "  900 / 2963 (thread    5)\r",
      " 1000 / 2963 (thread    2)\r",
      " 1100 / 2963 (thread    0)\r",
      " 1200 / 2963 (thread    2)\r",
      " 1300 / 2963 (thread    4)\r",
      " 1400 / 2963 (thread    4)\r",
      " 1500 / 2963 (thread    2)"
     ]
    },
    {
     "name": "stderr",
     "output_type": "stream",
     "text": [
      "\r",
      " 1600 / 2963 (thread    1)\r",
      " 1700 / 2963 (thread    4)\r",
      " 1800 / 2963 (thread    5)\r",
      " 1900 / 2963 (thread    5)\r",
      " 2000 / 2963 (thread    5)\r",
      " 2100 / 2963 (thread    1)\r",
      " 2200 / 2963 (thread    1)\r",
      " 2300 / 2963 (thread    2)\r",
      " 2400 / 2963 (thread    0)\r",
      " 2500 / 2963 (thread    4)\r",
      " 2600 / 2963 (thread    4)\r",
      " 2700 / 2963 (thread    0)\r",
      " 2800 / 2963 (thread    0)\r",
      " 2900 / 2963 (thread    5)\n",
      "done.\n",
      "\n",
      "Constructing a UPGMA tree (efffree=1) ... \n",
      "\r",
      "    0 / 2963\r",
      "   10 / 2963\r",
      "   20 / 2963\r",
      "   30 / 2963\r",
      "   40 / 2963\r",
      "   50 / 2963\r",
      "   60 / 2963\r",
      "   70 / 2963\r",
      "   80 / 2963\r",
      "   90 / 2963\r",
      "  100 / 2963\r",
      "  110 / 2963\r",
      "  120 / 2963\r",
      "  130 / 2963\r",
      "  140 / 2963"
     ]
    },
    {
     "name": "stderr",
     "output_type": "stream",
     "text": [
      "\r",
      "  150 / 2963\r",
      "  160 / 2963\r",
      "  170 / 2963\r",
      "  180 / 2963\r",
      "  190 / 2963\r",
      "  200 / 2963\r",
      "  210 / 2963\r",
      "  220 / 2963\r",
      "  230 / 2963\r",
      "  240 / 2963\r",
      "  250 / 2963\r",
      "  260 / 2963\r",
      "  270 / 2963\r",
      "  280 / 2963\r",
      "  290 / 2963\r",
      "  300 / 2963\r",
      "  310 / 2963\r",
      "  320 / 2963\r",
      "  330 / 2963\r",
      "  340 / 2963\r",
      "  350 / 2963\r",
      "  360 / 2963\r",
      "  370 / 2963\r",
      "  380 / 2963\r",
      "  390 / 2963\r",
      "  400 / 2963\r",
      "  410 / 2963\r",
      "  420 / 2963\r",
      "  430 / 2963\r",
      "  440 / 2963\r",
      "  450 / 2963\r",
      "  460 / 2963\r",
      "  470 / 2963\r",
      "  480 / 2963\r",
      "  490 / 2963\r",
      "  500 / 2963\r",
      "  510 / 2963\r",
      "  520 / 2963\r",
      "  530 / 2963\r",
      "  540 / 2963\r",
      "  550 / 2963\r",
      "  560 / 2963\r",
      "  570 / 2963\r",
      "  580 / 2963\r",
      "  590 / 2963\r",
      "  600 / 2963\r",
      "  610 / 2963\r",
      "  620 / 2963\r",
      "  630 / 2963\r",
      "  640 / 2963\r",
      "  650 / 2963\r",
      "  660 / 2963\r",
      "  670 / 2963\r",
      "  680 / 2963\r",
      "  690 / 2963\r",
      "  700 / 2963\r",
      "  710 / 2963\r",
      "  720 / 2963\r",
      "  730 / 2963\r",
      "  740 / 2963\r",
      "  750 / 2963\r",
      "  760 / 2963\r",
      "  770 / 2963\r",
      "  780 / 2963\r",
      "  790 / 2963\r",
      "  800 / 2963\r",
      "  810 / 2963\r",
      "  820 / 2963\r",
      "  830 / 2963\r",
      "  840 / 2963\r",
      "  850 / 2963\r",
      "  860 / 2963\r",
      "  870 / 2963\r",
      "  880 / 2963\r",
      "  890 / 2963\r",
      "  900 / 2963\r",
      "  910 / 2963\r",
      "  920 / 2963\r",
      "  930 / 2963\r",
      "  940 / 2963\r",
      "  950 / 2963\r",
      "  960 / 2963\r",
      "  970 / 2963\r",
      "  980 / 2963\r",
      "  990 / 2963\r",
      " 1000 / 2963\r",
      " 1010 / 2963\r",
      " 1020 / 2963\r",
      " 1030 / 2963\r",
      " 1040 / 2963\r",
      " 1050 / 2963\r",
      " 1060 / 2963\r",
      " 1070 / 2963\r",
      " 1080 / 2963\r",
      " 1090 / 2963\r",
      " 1100 / 2963\r",
      " 1110 / 2963\r",
      " 1120 / 2963\r",
      " 1130 / 2963\r",
      " 1140 / 2963\r",
      " 1150 / 2963\r",
      " 1160 / 2963\r",
      " 1170 / 2963\r",
      " 1180 / 2963\r",
      " 1190 / 2963\r",
      " 1200 / 2963\r",
      " 1210 / 2963\r",
      " 1220 / 2963\r",
      " 1230 / 2963\r",
      " 1240 / 2963\r",
      " 1250 / 2963\r",
      " 1260 / 2963\r",
      " 1270 / 2963\r",
      " 1280 / 2963\r",
      " 1290 / 2963\r",
      " 1300 / 2963\r",
      " 1310 / 2963\r",
      " 1320 / 2963\r",
      " 1330 / 2963\r",
      " 1340 / 2963\r",
      " 1350 / 2963\r",
      " 1360 / 2963\r",
      " 1370 / 2963\r",
      " 1380 / 2963\r",
      " 1390 / 2963\r",
      " 1400 / 2963\r",
      " 1410 / 2963\r",
      " 1420 / 2963\r",
      " 1430 / 2963\r",
      " 1440 / 2963\r",
      " 1450 / 2963\r",
      " 1460 / 2963\r",
      " 1470 / 2963\r",
      " 1480 / 2963\r",
      " 1490 / 2963\r",
      " 1500 / 2963\r",
      " 1510 / 2963\r",
      " 1520 / 2963\r",
      " 1530 / 2963\r",
      " 1540 / 2963\r",
      " 1550 / 2963\r",
      " 1560 / 2963\r",
      " 1570 / 2963\r",
      " 1580 / 2963\r",
      " 1590 / 2963\r",
      " 1600 / 2963\r",
      " 1610 / 2963\r",
      " 1620 / 2963\r",
      " 1630 / 2963\r",
      " 1640 / 2963\r",
      " 1650 / 2963\r",
      " 1660 / 2963\r",
      " 1670 / 2963\r",
      " 1680 / 2963\r",
      " 1690 / 2963\r",
      " 1700 / 2963\r",
      " 1710 / 2963\r",
      " 1720 / 2963\r",
      " 1730 / 2963\r",
      " 1740 / 2963\r",
      " 1750 / 2963\r",
      " 1760 / 2963\r",
      " 1770 / 2963\r",
      " 1780 / 2963\r",
      " 1790 / 2963\r",
      " 1800 / 2963\r",
      " 1810 / 2963\r",
      " 1820 / 2963\r",
      " 1830 / 2963\r",
      " 1840 / 2963\r",
      " 1850 / 2963\r",
      " 1860 / 2963\r",
      " 1870 / 2963\r",
      " 1880 / 2963\r",
      " 1890 / 2963\r",
      " 1900 / 2963\r",
      " 1910 / 2963\r",
      " 1920 / 2963\r",
      " 1930 / 2963\r",
      " 1940 / 2963\r",
      " 1950 / 2963\r",
      " 1960 / 2963\r",
      " 1970 / 2963\r",
      " 1980 / 2963\r",
      " 1990 / 2963\r",
      " 2000 / 2963\r",
      " 2010 / 2963\r",
      " 2020 / 2963\r",
      " 2030 / 2963\r",
      " 2040 / 2963\r",
      " 2050 / 2963\r",
      " 2060 / 2963\r",
      " 2070 / 2963\r",
      " 2080 / 2963\r",
      " 2090 / 2963\r",
      " 2100 / 2963\r",
      " 2110 / 2963\r",
      " 2120 / 2963\r",
      " 2130 / 2963\r",
      " 2140 / 2963\r",
      " 2150 / 2963\r",
      " 2160 / 2963\r",
      " 2170 / 2963\r",
      " 2180 / 2963\r",
      " 2190 / 2963\r",
      " 2200 / 2963\r",
      " 2210 / 2963\r",
      " 2220 / 2963\r",
      " 2230 / 2963\r",
      " 2240 / 2963\r",
      " 2250 / 2963\r",
      " 2260 / 2963\r",
      " 2270 / 2963\r",
      " 2280 / 2963\r",
      " 2290 / 2963\r",
      " 2300 / 2963\r",
      " 2310 / 2963\r",
      " 2320 / 2963\r",
      " 2330 / 2963\r",
      " 2340 / 2963\r",
      " 2350 / 2963\r",
      " 2360 / 2963\r",
      " 2370 / 2963\r",
      " 2380 / 2963\r",
      " 2390 / 2963\r",
      " 2400 / 2963\r",
      " 2410 / 2963\r",
      " 2420 / 2963\r",
      " 2430 / 2963\r",
      " 2440 / 2963\r",
      " 2450 / 2963\r",
      " 2460 / 2963\r",
      " 2470 / 2963\r",
      " 2480 / 2963\r",
      " 2490 / 2963\r",
      " 2500 / 2963\r",
      " 2510 / 2963\r",
      " 2520 / 2963\r",
      " 2530 / 2963\r",
      " 2540 / 2963\r",
      " 2550 / 2963\r",
      " 2560 / 2963\r",
      " 2570 / 2963\r",
      " 2580 / 2963\r",
      " 2590 / 2963\r",
      " 2600 / 2963\r",
      " 2610 / 2963\r",
      " 2620 / 2963\r",
      " 2630 / 2963\r",
      " 2640 / 2963\r",
      " 2650 / 2963\r",
      " 2660 / 2963\r",
      " 2670 / 2963\r",
      " 2680 / 2963\r",
      " 2690 / 2963\r",
      " 2700 / 2963\r",
      " 2710 / 2963\r",
      " 2720 / 2963\r",
      " 2730 / 2963\r",
      " 2740 / 2963\r",
      " 2750 / 2963\r",
      " 2760 / 2963\r",
      " 2770 / 2963\r",
      " 2780 / 2963\r",
      " 2790 / 2963\r",
      " 2800 / 2963\r",
      " 2810 / 2963\r",
      " 2820 / 2963\r",
      " 2830 / 2963\r",
      " 2840 / 2963\r",
      " 2850 / 2963\r",
      " 2860 / 2963\r",
      " 2870 / 2963\r",
      " 2880 / 2963\r",
      " 2890 / 2963\r",
      " 2900 / 2963\r",
      " 2910 / 2963\r",
      " 2920 / 2963\r",
      " 2930 / 2963\r",
      " 2940 / 2963\r",
      " 2950 / 2963\r",
      " 2960 / 2963\n",
      "done.\n",
      "\n",
      "Progressive alignment 2/2... \n",
      "\r",
      "STEP     1 / 2962 (thread    1) f\b\b\r",
      "STEP     2 / 2962 (thread    0) f\b\b\r",
      "STEP     3 / 2962 (thread    4)\r",
      "STEP     5 / 2962 (thread    3) f\b\b\r",
      "STEP     4 / 2962 (thread    2) f\b\b f\b\b\r",
      "STEP     6 / 2962 (thread    5) f\b\b\r",
      "STEP     7 / 2962 (thread    5) f\b\b\r",
      "STEP     8 / 2962 (thread    4) f\b\b\r",
      "STEP     9 / 2962 (thread    3) f\b\b\r",
      "STEP    10 / 2962 (thread    1) f\b\b\r",
      "STEP    11 / 2962 (thread    0) f\b\b\r",
      "STEP    12 / 2962 (thread    2) f\b\b\r",
      "STEP    13 / 2962 (thread    3)\r",
      "STEP    14 / 2962 (thread    1)\r",
      "STEP    15 / 2962 (thread    4) f\b\b f\b\b f\b\b\r",
      "STEP    16 / 2962 (thread    5) f\b\b\r",
      "STEP    17 / 2962 (thread    0) f\b\b\r",
      "STEP    18 / 2962 (thread    2) f\b\b\r",
      "STEP    19 / 2962 (thread    4) f\b\b\r",
      "STEP    20 / 2962 (thread    1) f\b\b\r",
      "STEP    21 / 2962 (thread    3) f\b\b\r",
      "STEP    22 / 2962 (thread    0) f\b\b\r",
      "STEP    23 / 2962 (thread    5) f\b\b\r",
      "STEP    24 / 2962 (thread    2) f\b\b\r",
      "STEP    25 / 2962 (thread    4) f\b\b\r",
      "STEP    26 / 2962 (thread    3) f\b\b\r",
      "STEP    27 / 2962 (thread    1) f\b\b\r",
      "STEP    28 / 2962 (thread    0) f\b\b\r",
      "STEP    29 / 2962 (thread    2) f\b\b\r",
      "STEP    30 / 2962 (thread    5) f\b\b\r",
      "STEP    31 / 2962 (thread    4) f\b\b\r",
      "STEP    32 / 2962 (thread    3) f\b\b\r",
      "STEP    33 / 2962 (thread    1) f\b\b\r",
      "STEP    34 / 2962 (thread    0) f\b\b\r",
      "STEP    35 / 2962 (thread    2) f\b\b\r",
      "STEP    36 / 2962 (thread    5) f\b\b\r",
      "STEP    37 / 2962 (thread    4) f\b\b\r",
      "STEP    38 / 2962 (thread    3) f\b\b\r",
      "STEP    39 / 2962 (thread    1) f\b\b\r",
      "STEP    40 / 2962 (thread    0) f\b\b\r",
      "STEP    41 / 2962 (thread    2) f\b\b\r",
      "STEP    42 / 2962 (thread    5) f\b\b\r",
      "STEP    43 / 2962 (thread    4) f\b\b\r",
      "STEP    44 / 2962 (thread    1) f\b\b\r",
      "STEP    45 / 2962 (thread    3) f\b\b\r",
      "STEP    46 / 2962 (thread    0) f\b\b\r",
      "STEP    47 / 2962 (thread    2) f\b\b\r",
      "STEP    48 / 2962 (thread    5) f\b\b\r",
      "STEP    49 / 2962 (thread    4) f\b\b\r",
      "STEP    50 / 2962 (thread    1) f\b\b\r",
      "STEP    51 / 2962 (thread    3) f\b\b\r",
      "STEP    52 / 2962 (thread    0) f\b\b\r",
      "STEP    53 / 2962 (thread    2) f\b\b\r",
      "STEP    54 / 2962 (thread    5) f\b\b\r",
      "STEP    55 / 2962 (thread    4) f\b\b\r",
      "STEP    56 / 2962 (thread    1) f\b\b\r",
      "STEP    57 / 2962 (thread    3) f\b\b\r",
      "STEP    58 / 2962 (thread    0) f\b\b\r",
      "STEP    59 / 2962 (thread    2) f\b\b\r",
      "STEP    60 / 2962 (thread    5) f\b\b\r",
      "STEP    61 / 2962 (thread    4) f\b\b\r",
      "STEP    62 / 2962 (thread    1) f\b\b\r",
      "STEP    63 / 2962 (thread    3) f\b\b\r",
      "STEP    64 / 2962 (thread    0) f\b\b\r",
      "STEP    65 / 2962 (thread    2) f\b\b\r",
      "STEP    66 / 2962 (thread    5) f\b\b\r",
      "STEP    67 / 2962 (thread    4) f\b\b\r",
      "STEP    68 / 2962 (thread    1) f\b\b\r",
      "STEP    69 / 2962 (thread    3) f\b\b\r",
      "STEP    70 / 2962 (thread    0) f\b\b\r",
      "STEP    71 / 2962 (thread    2) f\b\b\r",
      "STEP    72 / 2962 (thread    5) f\b\b\r",
      "STEP    73 / 2962 (thread    4) f\b\b\r",
      "STEP    74 / 2962 (thread    1) f\b\b\r",
      "STEP    75 / 2962 (thread    3) f\b\b\r",
      "STEP    76 / 2962 (thread    0) f\b\b\r",
      "STEP    77 / 2962 (thread    2) f\b\b\r",
      "STEP    78 / 2962 (thread    5) f\b\b\r",
      "STEP    79 / 2962 (thread    4) f\b\b\r",
      "STEP    80 / 2962 (thread    1) f\b\b\r",
      "STEP    81 / 2962 (thread    3) f\b\b\r",
      "STEP    82 / 2962 (thread    0) f\b\b\r",
      "STEP    83 / 2962 (thread    2) f\b\b\r",
      "STEP    84 / 2962 (thread    5) f\b\b\r",
      "STEP    85 / 2962 (thread    4) f\b\b\r",
      "STEP    86 / 2962 (thread    1) f\b\b\r",
      "STEP    87 / 2962 (thread    3) f\b\b\r",
      "STEP    88 / 2962 (thread    0) f\b\b\r",
      "STEP    89 / 2962 (thread    2) f\b\b\r",
      "STEP    90 / 2962 (thread    5) f\b\b\r",
      "STEP    91 / 2962 (thread    4) f\b\b\r",
      "STEP    92 / 2962 (thread    1) f\b\b\r",
      "STEP    93 / 2962 (thread    3) f\b\b\r",
      "STEP    94 / 2962 (thread    0) f\b\b\r",
      "STEP    95 / 2962 (thread    2) f\b\b\r",
      "STEP    96 / 2962 (thread    5) f\b\b\r",
      "STEP    97 / 2962 (thread    4) f\b\b\r",
      "STEP    98 / 2962 (thread    1) f\b\b\r",
      "STEP    99 / 2962 (thread    3) f\b\b\r",
      "STEP   100 / 2962 (thread    0) f\b\b\r",
      "STEP   101 / 2962 (thread    2) f\b\b\r",
      "STEP   102 / 2962 (thread    5) f\b\b\r",
      "STEP   103 / 2962 (thread    4) f\b\b\r",
      "STEP   104 / 2962 (thread    1) f\b\b\r",
      "STEP   105 / 2962 (thread    3) f\b\b\r",
      "STEP   106 / 2962 (thread    0) f\b\b\r",
      "STEP   107 / 2962 (thread    2) f\b\b\r",
      "STEP   108 / 2962 (thread    4) f\b\b\r",
      "STEP   109 / 2962 (thread    5) f\b\b\r",
      "STEP   110 / 2962 (thread    1) f\b\b\r",
      "STEP   111 / 2962 (thread    3) f\b\b\r",
      "STEP   112 / 2962 (thread    0) f\b\b\r",
      "STEP   113 / 2962 (thread    2) f\b\b\r",
      "STEP   114 / 2962 (thread    4) f\b\b\r",
      "STEP   115 / 2962 (thread    1) f\b\b\r",
      "STEP   116 / 2962 (thread    5) f\b\b\r",
      "STEP   117 / 2962 (thread    3) f\b\b\r",
      "STEP   118 / 2962 (thread    0) f\b\b\r",
      "STEP   119 / 2962 (thread    2) f\b\b\r",
      "STEP   120 / 2962 (thread    4) f\b\b\r",
      "STEP   121 / 2962 (thread    1) f\b\b\r",
      "STEP   122 / 2962 (thread    3) f\b\b\r",
      "STEP   123 / 2962 (thread    0) f\b\b\r",
      "STEP   124 / 2962 (thread    2) f\b\b\r",
      "STEP   125 / 2962 (thread    5) f\b\b\r",
      "STEP   126 / 2962 (thread    4) f\b\b\r",
      "STEP   127 / 2962 (thread    1) f\b\b\r",
      "STEP   128 / 2962 (thread    3) f\b\b\r",
      "STEP   129 / 2962 (thread    0) f\b\b\r",
      "STEP   130 / 2962 (thread    2) f\b\b\r",
      "STEP   131 / 2962 (thread    5) f\b\b\r",
      "STEP   132 / 2962 (thread    4) f\b\b\r",
      "STEP   133 / 2962 (thread    1) f\b\b\r",
      "STEP   134 / 2962 (thread    3) f\b\b\r",
      "STEP   135 / 2962 (thread    0) f\b\b\r",
      "STEP   136 / 2962 (thread    2) f\b\b\r",
      "STEP   137 / 2962 (thread    5) f\b\b\r",
      "STEP   138 / 2962 (thread    4) f\b\b\r",
      "STEP   139 / 2962 (thread    1) f\b\b\r",
      "STEP   140 / 2962 (thread    3) f\b\b\r",
      "STEP   141 / 2962 (thread    0) f\b\b\r",
      "STEP   142 / 2962 (thread    2) f\b\b\r",
      "STEP   143 / 2962 (thread    5) f\b\b\r",
      "STEP   144 / 2962 (thread    4) f\b\b\r",
      "STEP   145 / 2962 (thread    1) f\b\b\r",
      "STEP   146 / 2962 (thread    3) f\b\b\r",
      "STEP   147 / 2962 (thread    0) f\b\b\r",
      "STEP   148 / 2962 (thread    2) f\b\b\r",
      "STEP   149 / 2962 (thread    5) f\b\b\r",
      "STEP   150 / 2962 (thread    4) f\b\b\r",
      "STEP   151 / 2962 (thread    1) f\b\b\r",
      "STEP   152 / 2962 (thread    0) f\b\b\r",
      "STEP   153 / 2962 (thread    2) f\b\b\r",
      "STEP   154 / 2962 (thread    3) f\b\b\r",
      "STEP   155 / 2962 (thread    5) f\b\b\r",
      "STEP   156 / 2962 (thread    4) f\b\b\r",
      "STEP   157 / 2962 (thread    1) f\b\b\r",
      "STEP   158 / 2962 (thread    2) f\b\b\r",
      "STEP   159 / 2962 (thread    3) f\b\b\r",
      "STEP   160 / 2962 (thread    0) f\b\b\r",
      "STEP   161 / 2962 (thread    5) f\b\b\r",
      "STEP   162 / 2962 (thread    4) f\b\b\r",
      "STEP   163 / 2962 (thread    1) f\b\b\r",
      "STEP   164 / 2962 (thread    2) f\b\b\r",
      "STEP   165 / 2962 (thread    3) f\b\b\r",
      "STEP   166 / 2962 (thread    0) f\b\b\r",
      "STEP   167 / 2962 (thread    5) f\b\b\r",
      "STEP   168 / 2962 (thread    4) f\b\b\r",
      "STEP   169 / 2962 (thread    1) f\b\b\r",
      "STEP   170 / 2962 (thread    2) f\b\b\r",
      "STEP   171 / 2962 (thread    3) f\b\b\r",
      "STEP   172 / 2962 (thread    0) f\b\b\r",
      "STEP   173 / 2962 (thread    5) f\b\b\r",
      "STEP   174 / 2962 (thread    4) f\b\b\r",
      "STEP   175 / 2962 (thread    1) f\b\b\r",
      "STEP   176 / 2962 (thread    2) f\b\b\r",
      "STEP   177 / 2962 (thread    3) f\b\b\r",
      "STEP   178 / 2962 (thread    0) f\b\b\r",
      "STEP   179 / 2962 (thread    5) f\b\b\r",
      "STEP   180 / 2962 (thread    4) f\b\b\r",
      "STEP   181 / 2962 (thread    1) f\b\b\r",
      "STEP   182 / 2962 (thread    2) f\b\b\r",
      "STEP   183 / 2962 (thread    3) f\b\b\r",
      "STEP   184 / 2962 (thread    0) f\b\b\r",
      "STEP   185 / 2962 (thread    5) f\b\b\r",
      "STEP   186 / 2962 (thread    4) f\b\b\r",
      "STEP   187 / 2962 (thread    1) f\b\b\r",
      "STEP   188 / 2962 (thread    2) f\b\b\r",
      "STEP   189 / 2962 (thread    3) f\b\b\r",
      "STEP   190 / 2962 (thread    0) f\b\b\r",
      "STEP   191 / 2962 (thread    5) f\b\b\r",
      "STEP   192 / 2962 (thread    4) f\b\b\r",
      "STEP   193 / 2962 (thread    1) f\b\b\r",
      "STEP   194 / 2962 (thread    2) f\b\b\r",
      "STEP   195 / 2962 (thread    3) f\b\b\r",
      "STEP   196 / 2962 (thread    0) f\b\b\r",
      "STEP   197 / 2962 (thread    5) f\b\b\r",
      "STEP   198 / 2962 (thread    4) f\b\b\r",
      "STEP   199 / 2962 (thread    1) f\b\b\r",
      "STEP   200 / 2962 (thread    2) f\b\b\r",
      "STEP   201 / 2962 (thread    3) f\b\b\r",
      "STEP   202 / 2962 (thread    0) f\b\b\r",
      "STEP   203 / 2962 (thread    5) f\b\b\r",
      "STEP   204 / 2962 (thread    4) f\b\b\r",
      "STEP   205 / 2962 (thread    1) f\b\b\r",
      "STEP   206 / 2962 (thread    2) f\b\b\r",
      "STEP   207 / 2962 (thread    3) f\b\b\r",
      "STEP   208 / 2962 (thread    0) f\b\b\r",
      "STEP   209 / 2962 (thread    4) f\b\b\r",
      "STEP   210 / 2962 (thread    5) f\b\b\r",
      "STEP   211 / 2962 (thread    1) f\b\b\r",
      "STEP   212 / 2962 (thread    2) f\b\b\r",
      "STEP   213 / 2962 (thread    3) f\b\b\r",
      "STEP   214 / 2962 (thread    0) f\b\b\r",
      "STEP   215 / 2962 (thread    4) f\b\b\r",
      "STEP   216 / 2962 (thread    1) f\b\b\r",
      "STEP   217 / 2962 (thread    5) f\b\b\r",
      "STEP   218 / 2962 (thread    3) f\b\b\r",
      "STEP   219 / 2962 (thread    2) f\b\b\r",
      "STEP   220 / 2962 (thread    0) f\b\b\r",
      "STEP   221 / 2962 (thread    1) f\b\b\r",
      "STEP   222 / 2962 (thread    4) f\b\b\r",
      "STEP   223 / 2962 (thread    5) f\b\b\r",
      "STEP   224 / 2962 (thread    3) f\b\b\r",
      "STEP   225 / 2962 (thread    2) f\b\b\r",
      "STEP   226 / 2962 (thread    0) f\b\b\r",
      "STEP   227 / 2962 (thread    1) f\b\b\r",
      "STEP   228 / 2962 (thread    4) f\b\b\r",
      "STEP   229 / 2962 (thread    3) f\b\b\r",
      "STEP   230 / 2962 (thread    2) f\b\b\r",
      "STEP   231 / 2962 (thread    5) f\b\b\r",
      "STEP   232 / 2962 (thread    0) f\b\b\r",
      "STEP   233 / 2962 (thread    1) f\b\b\r",
      "STEP   234 / 2962 (thread    4) f\b\b\r",
      "STEP   235 / 2962 (thread    3) f\b\b\r",
      "STEP   236 / 2962 (thread    2) f\b\b\r",
      "STEP   237 / 2962 (thread    5)\r",
      "STEP   238 / 2962 (thread    0) f\b\b f\b\b\r",
      "STEP   239 / 2962 (thread    1) f\b\b\r",
      "STEP   240 / 2962 (thread    4) f\b\b\r",
      "STEP   241 / 2962 (thread    3) f\b\b\r",
      "STEP   242 / 2962 (thread    2) f\b\b\r",
      "STEP   243 / 2962 (thread    1) f\b\b\r",
      "STEP   244 / 2962 (thread    0) f\b\b\r",
      "STEP   245 / 2962 (thread    5) f\b\b\r",
      "STEP   246 / 2962 (thread    4) f\b\b\r",
      "STEP   247 / 2962 (thread    3) f\b\b\r",
      "STEP   248 / 2962 (thread    2) f\b\b\r",
      "STEP   249 / 2962 (thread    1) f\b\b\r",
      "STEP   250 / 2962 (thread    0) f\b\b\r",
      "STEP   251 / 2962 (thread    5) f\b\b\r",
      "STEP   252 / 2962 (thread    4) f\b\b\r",
      "STEP   253 / 2962 (thread    3) f\b\b\r",
      "STEP   254 / 2962 (thread    2) f\b\b\r",
      "STEP   255 / 2962 (thread    1) f\b\b\r",
      "STEP   256 / 2962 (thread    0) f\b\b\r",
      "STEP   257 / 2962 (thread    5) f\b\b\r",
      "STEP   258 / 2962 (thread    4) f\b\b\r",
      "STEP   259 / 2962 (thread    2) f\b\b\r",
      "STEP   260 / 2962 (thread    3) f\b\b\r",
      "STEP   261 / 2962 (thread    1) f\b\b\r",
      "STEP   262 / 2962 (thread    0) f\b\b\r",
      "STEP   263 / 2962 (thread    5) f\b\b\r",
      "STEP   264 / 2962 (thread    4) f\b\b\r",
      "STEP   265 / 2962 (thread    2) f\b\b\r",
      "STEP   266 / 2962 (thread    3) f\b\b\r",
      "STEP   267 / 2962 (thread    1) f\b\b\r",
      "STEP   268 / 2962 (thread    0) f\b\b\r",
      "STEP   269 / 2962 (thread    5) f\b\b\r",
      "STEP   270 / 2962 (thread    2) f\b\b\r",
      "STEP   271 / 2962 (thread    4) f\b\b\r",
      "STEP   272 / 2962 (thread    3) f\b\b\r",
      "STEP   273 / 2962 (thread    1) f\b\b\r",
      "STEP   274 / 2962 (thread    4) f\b\b\r",
      "STEP   275 / 2962 (thread    3) f\b\b\r",
      "STEP   276 / 2962 (thread    0) f\b\b\r",
      "STEP   277 / 2962 (thread    5) f\b\b\r",
      "STEP   278 / 2962 (thread    1) f\b\b\r",
      "STEP   279 / 2962 (thread    4) f\b\b\r",
      "STEP   280 / 2962 (thread    2) f\b\b\r",
      "STEP   281 / 2962 (thread    5) f\b\b\r",
      "STEP   282 / 2962 (thread    1) f\b\b\r",
      "STEP   283 / 2962 (thread    4) f\b\b\r",
      "STEP   284 / 2962 (thread    2) f\b\b\r",
      "STEP   285 / 2962 (thread    3) f\b\b\r",
      "STEP   286 / 2962 (thread    0) f\b\b\r",
      "STEP   287 / 2962 (thread    1) f\b\b\r",
      "STEP   288 / 2962 (thread    5) f\b\b\r",
      "STEP   289 / 2962 (thread    4) f\b\b\r",
      "STEP   290 / 2962 (thread    2) f\b\b\r",
      "STEP   291 / 2962 (thread    3) f\b\b\r",
      "STEP   292 / 2962 (thread    0) f\b\b\r",
      "STEP   293 / 2962 (thread    1) f\b\b\r",
      "STEP   294 / 2962 (thread    4) f\b\b\r",
      "STEP   295 / 2962 (thread    5) f\b\b\r",
      "STEP   296 / 2962 (thread    2) f\b\b\r",
      "STEP   297 / 2962 (thread    3) f\b\b\r",
      "STEP   298 / 2962 (thread    0) f\b\b\r",
      "STEP   299 / 2962 (thread    1) f\b\b\r",
      "STEP   300 / 2962 (thread    4) f\b\b\r",
      "STEP   301 / 2962 (thread    5) f\b\b\r",
      "STEP   302 / 2962 (thread    2) f\b\b\r",
      "STEP   303 / 2962 (thread    3) f\b\b\r",
      "STEP   304 / 2962 (thread    0) f\b\b\r",
      "STEP   305 / 2962 (thread    1) f\b\b\r",
      "STEP   306 / 2962 (thread    4) f\b\b\r",
      "STEP   307 / 2962 (thread    2) f\b\b\r",
      "STEP   308 / 2962 (thread    5) f\b\b\r",
      "STEP   309 / 2962 (thread    3) f\b\b\r",
      "STEP   310 / 2962 (thread    0) f\b\b\r",
      "STEP   311 / 2962 (thread    1) f\b\b\r",
      "STEP   312 / 2962 (thread    4) f\b\b\r",
      "STEP   313 / 2962 (thread    2) f\b\b\r",
      "STEP   314 / 2962 (thread    5) f\b\b\r",
      "STEP   315 / 2962 (thread    3) f\b\b\r",
      "STEP   316 / 2962 (thread    0) f\b\b\r",
      "STEP   317 / 2962 (thread    1) f\b\b\r",
      "STEP   318 / 2962 (thread    4) f\b\b\r",
      "STEP   319 / 2962 (thread    2) f\b\b\r",
      "STEP   320 / 2962 (thread    5) f\b\b\r",
      "STEP   321 / 2962 (thread    3) f\b\b\r",
      "STEP   322 / 2962 (thread    0) f\b\b\r",
      "STEP   323 / 2962 (thread    1) f\b\b\r",
      "STEP   324 / 2962 (thread    4) f\b\b\r",
      "STEP   325 / 2962 (thread    2) f\b\b\r",
      "STEP   326 / 2962 (thread    3) f\b\b\r",
      "STEP   327 / 2962 (thread    5) f\b\b\r",
      "STEP   328 / 2962 (thread    0) f\b\b\r",
      "STEP   329 / 2962 (thread    1) f\b\b\r",
      "STEP   330 / 2962 (thread    4) f\b\b\r",
      "STEP   331 / 2962 (thread    2) f\b\b\r",
      "STEP   332 / 2962 (thread    3) f\b\b\r",
      "STEP   333 / 2962 (thread    5) f\b\b\r",
      "STEP   334 / 2962 (thread    0) f\b\b\r",
      "STEP   335 / 2962 (thread    1) f\b\b\r",
      "STEP   336 / 2962 (thread    4) f\b\b\r",
      "STEP   337 / 2962 (thread    2) f\b\b\r",
      "STEP   338 / 2962 (thread    3) f\b\b\r",
      "STEP   339 / 2962 (thread    5) f\b\b\r",
      "STEP   340 / 2962 (thread    0) f\b\b\r",
      "STEP   341 / 2962 (thread    1) f\b\b\r",
      "STEP   342 / 2962 (thread    4) f\b\b\r",
      "STEP   343 / 2962 (thread    2) f\b\b\r",
      "STEP   344 / 2962 (thread    3) f\b\b\r",
      "STEP   345 / 2962 (thread    0) f\b\b\r",
      "STEP   346 / 2962 (thread    5) f\b\b\r",
      "STEP   347 / 2962 (thread    1) f\b\b\r",
      "STEP   348 / 2962 (thread    4) f\b\b\r",
      "STEP   349 / 2962 (thread    2) f\b\b\r",
      "STEP   350 / 2962 (thread    3) f\b\b\r",
      "STEP   351 / 2962 (thread    0) f\b\b\r",
      "STEP   352 / 2962 (thread    5) f\b\b\r",
      "STEP   353 / 2962 (thread    1) f\b\b\r",
      "STEP   354 / 2962 (thread    4) f\b\b\r",
      "STEP   355 / 2962 (thread    2) f\b\b\r",
      "STEP   356 / 2962 (thread    3) f\b\b\r",
      "STEP   357 / 2962 (thread    0) f\b\b\r",
      "STEP   358 / 2962 (thread    5) f\b\b\r",
      "STEP   359 / 2962 (thread    1) f\b\b\r",
      "STEP   360 / 2962 (thread    4) f\b\b\r",
      "STEP   361 / 2962 (thread    2) f\b\b\r",
      "STEP   362 / 2962 (thread    3) f\b\b\r",
      "STEP   363 / 2962 (thread    0) f\b\b\r",
      "STEP   364 / 2962 (thread    5) f\b\b\r",
      "STEP   365 / 2962 (thread    1) f\b\b\r",
      "STEP   366 / 2962 (thread    4) f\b\b\r",
      "STEP   367 / 2962 (thread    2) f\b\b\r",
      "STEP   368 / 2962 (thread    3) f\b\b\r",
      "STEP   369 / 2962 (thread    0) f\b\b\r",
      "STEP   370 / 2962 (thread    5) f\b\b\r",
      "STEP   371 / 2962 (thread    4) f\b\b\r",
      "STEP   372 / 2962 (thread    2) f\b\b\r",
      "STEP   373 / 2962 (thread    3) f\b\b\r",
      "STEP   374 / 2962 (thread    0) f\b\b\r",
      "STEP   375 / 2962 (thread    5) f\b\b\r",
      "STEP   376 / 2962 (thread    4) f\b\b\r",
      "STEP   377 / 2962 (thread    2) f\b\b\r",
      "STEP   378 / 2962 (thread    1) f\b\b\r",
      "STEP   379 / 2962 (thread    3) f\b\b\r",
      "STEP   380 / 2962 (thread    0) f\b\b\r",
      "STEP   381 / 2962 (thread    5) f\b\b\r",
      "STEP   382 / 2962 (thread    4) f\b\b\r",
      "STEP   383 / 2962 (thread    2) f\b\b\r",
      "STEP   384 / 2962 (thread    1) f\b\b\r",
      "STEP   385 / 2962 (thread    3) f\b\b\r",
      "STEP   386 / 2962 (thread    0) f\b\b\r",
      "STEP   387 / 2962 (thread    4) f\b\b\r",
      "STEP   388 / 2962 (thread    5) f\b\b\r",
      "STEP   389 / 2962 (thread    2) f\b\b\r",
      "STEP   390 / 2962 (thread    1) f\b\b\r",
      "STEP   391 / 2962 (thread    3) f\b\b\r",
      "STEP   392 / 2962 (thread    0) f\b\b\r",
      "STEP   393 / 2962 (thread    4) f\b\b\r",
      "STEP   394 / 2962 (thread    5) f\b\b\r",
      "STEP   395 / 2962 (thread    2) f\b\b\r",
      "STEP   396 / 2962 (thread    1) f\b\b\r",
      "STEP   397 / 2962 (thread    3) f\b\b\r",
      "STEP   398 / 2962 (thread    0) f\b\b\r",
      "STEP   399 / 2962 (thread    4) f\b\b\r",
      "STEP   400 / 2962 (thread    2) f\b\b\r",
      "STEP   401 / 2962 (thread    5) f\b\b\r",
      "STEP   402 / 2962 (thread    1) f\b\b\r",
      "STEP   403 / 2962 (thread    3) f\b\b\r",
      "STEP   404 / 2962 (thread    0) f\b\b\r",
      "STEP   405 / 2962 (thread    4) f\b\b\r",
      "STEP   406 / 2962 (thread    2) f\b\b\r",
      "STEP   407 / 2962 (thread    1) f\b\b\r",
      "STEP   408 / 2962 (thread    5) f\b\b\r",
      "STEP   409 / 2962 (thread    3) f\b\b\r",
      "STEP   410 / 2962 (thread    0) f\b\b\r",
      "STEP   411 / 2962 (thread    4) f\b\b\r",
      "STEP   412 / 2962 (thread    2) f\b\b\r",
      "STEP   413 / 2962 (thread    1) f\b\b\r",
      "STEP   414 / 2962 (thread    5) f\b\b\r",
      "STEP   415 / 2962 (thread    4) f\b\b\r",
      "STEP   416 / 2962 (thread    2) f\b\b\r",
      "STEP   417 / 2962 (thread    1) f\b\b\r",
      "STEP   418 / 2962 (thread    5) f\b\b\r",
      "STEP   419 / 2962 (thread    3) f\b\b\r",
      "STEP   420 / 2962 (thread    0) f\b\b\r",
      "STEP   421 / 2962 (thread    4) f\b\b\r",
      "STEP   422 / 2962 (thread    2) f\b\b\r",
      "STEP   423 / 2962 (thread    1) f\b\b\r",
      "STEP   424 / 2962 (thread    5) f\b\b\r",
      "STEP   425 / 2962 (thread    3) f\b\b\r",
      "STEP   426 / 2962 (thread    0) f\b\b\r",
      "STEP   427 / 2962 (thread    4) f\b\b\r",
      "STEP   428 / 2962 (thread    2) f\b\b\r",
      "STEP   429 / 2962 (thread    1) f\b\b\r",
      "STEP   430 / 2962 (thread    5) f\b\b\r",
      "STEP   431 / 2962 (thread    3) f\b\b\r",
      "STEP   432 / 2962 (thread    0) f\b\b\r",
      "STEP   433 / 2962 (thread    4) f\b\b\r",
      "STEP   434 / 2962 (thread    2) f\b\b\r",
      "STEP   435 / 2962 (thread    1) f\b\b\r",
      "STEP   436 / 2962 (thread    3) f\b\b\r",
      "STEP   437 / 2962 (thread    5) f\b\b\r",
      "STEP   438 / 2962 (thread    0) f\b\b\r",
      "STEP   439 / 2962 (thread    4) f\b\b\r",
      "STEP   440 / 2962 (thread    2) f\b\b\r",
      "STEP   441 / 2962 (thread    1) f\b\b\r",
      "STEP   442 / 2962 (thread    3) f\b\b\r",
      "STEP   443 / 2962 (thread    5) f\b\b\r",
      "STEP   444 / 2962 (thread    0) f\b\b\r",
      "STEP   445 / 2962 (thread    4) f\b\b\r",
      "STEP   446 / 2962 (thread    2) f\b\b\r",
      "STEP   447 / 2962 (thread    1) f\b\b\r",
      "STEP   448 / 2962 (thread    3) f\b\b\r",
      "STEP   449 / 2962 (thread    5) f\b\b\r",
      "STEP   450 / 2962 (thread    0) f\b\b\r",
      "STEP   451 / 2962 (thread    4) f\b\b\r",
      "STEP   452 / 2962 (thread    2) f\b\b\r",
      "STEP   453 / 2962 (thread    1) f\b\b\r",
      "STEP   454 / 2962 (thread    3) f\b\b\r",
      "STEP   455 / 2962 (thread    0) f\b\b\r",
      "STEP   456 / 2962 (thread    5) f\b\b\r",
      "STEP   457 / 2962 (thread    4) f\b\b\r",
      "STEP   458 / 2962 (thread    2) f\b\b\r",
      "STEP   459 / 2962 (thread    1) f\b\b\r",
      "STEP   460 / 2962 (thread    3) f\b\b\r",
      "STEP   461 / 2962 (thread    0) f\b\b\r",
      "STEP   462 / 2962 (thread    5) f\b\b\r",
      "STEP   463 / 2962 (thread    4) f\b\b\r",
      "STEP   464 / 2962 (thread    2) f\b\b\r",
      "STEP   465 / 2962 (thread    1) f\b\b\r",
      "STEP   466 / 2962 (thread    3) f\b\b\r",
      "STEP   467 / 2962 (thread    0) f\b\b\r",
      "STEP   468 / 2962 (thread    4) f\b\b\r",
      "STEP   469 / 2962 (thread    5) f\b\b\r",
      "STEP   470 / 2962 (thread    2) f\b\b\r",
      "STEP   471 / 2962 (thread    1) f\b\b\r",
      "STEP   472 / 2962 (thread    3) f\b\b\r",
      "STEP   473 / 2962 (thread    0) f\b\b\r",
      "STEP   474 / 2962 (thread    4) f\b\b\r",
      "STEP   475 / 2962 (thread    5) f\b\b\r",
      "STEP   476 / 2962 (thread    2) f\b\b\r",
      "STEP   477 / 2962 (thread    1) f\b\b\r",
      "STEP   478 / 2962 (thread    3) f\b\b\r",
      "STEP   479 / 2962 (thread    0) f\b\b\r",
      "STEP   480 / 2962 (thread    4) f\b\b\r",
      "STEP   481 / 2962 (thread    2) f\b\b\r",
      "STEP   482 / 2962 (thread    5) f\b\b\r",
      "STEP   483 / 2962 (thread    1) f\b\b\r",
      "STEP   484 / 2962 (thread    3) f\b\b\r",
      "STEP   485 / 2962 (thread    0) f\b\b\r",
      "STEP   486 / 2962 (thread    4) f\b\b\r",
      "STEP   487 / 2962 (thread    2) f\b\b\r",
      "STEP   488 / 2962 (thread    5) f\b\b\r",
      "STEP   489 / 2962 (thread    1) f\b\b\r",
      "STEP   490 / 2962 (thread    3) f\b\b\r",
      "STEP   491 / 2962 (thread    0) f\b\b\r",
      "STEP   492 / 2962 (thread    4) f\b\b\r",
      "STEP   493 / 2962 (thread    2) f\b\b\r",
      "STEP   494 / 2962 (thread    1) f\b\b\r",
      "STEP   495 / 2962 (thread    5) f\b\b\r",
      "STEP   496 / 2962 (thread    3) f\b\b\r",
      "STEP   497 / 2962 (thread    0) f\b\b\r",
      "STEP   498 / 2962 (thread    4) f\b\b\r",
      "STEP   499 / 2962 (thread    2) f\b\b\r",
      "STEP   500 / 2962 (thread    1) f\b\b\r",
      "STEP   501 / 2962 (thread    5) f\b\b\r",
      "STEP   601 / 2962 (thread    1) f\b\b\r",
      "STEP   701 / 2962 (thread    5) f\b\b\r",
      "STEP   801 / 2962 (thread    3) f\b\b\r",
      "STEP   901 / 2962 (thread    4) f\b\b\r",
      "STEP  1001 / 2962 (thread    5) f\b\b"
     ]
    },
    {
     "name": "stderr",
     "output_type": "stream",
     "text": [
      "\r",
      "STEP  1101 / 2962 (thread    3) f\b\b\r",
      "STEP  1201 / 2962 (thread    3) f\b\b\r",
      "STEP  1301 / 2962 (thread    1) f\b\b\r",
      "STEP  1401 / 2962 (thread    0) f\b\b\r",
      "STEP  1501 / 2962 (thread    3) f\b\b\r",
      "STEP  1601 / 2962 (thread    1) f\b\b\r",
      "STEP  1701 / 2962 (thread    1) f\b\b\r",
      "STEP  1801 / 2962 (thread    3) f\b\b\n",
      "Reallocating..done. *alloclen = 1863\n",
      "\r",
      "STEP  1901 / 2962 (thread    3) f\b\b\r",
      "STEP  2001 / 2962 (thread    2) f\b\b\r",
      "STEP  2101 / 2962 (thread    1) f\b\b\r",
      "STEP  2201 / 2962 (thread    0) f\b\b\r",
      "STEP  2301 / 2962 (thread    4) f\b\b\r",
      "STEP  2401 / 2962 (thread    2) f\b\b"
     ]
    },
    {
     "name": "stderr",
     "output_type": "stream",
     "text": [
      "\r",
      "STEP  2501 / 2962 (thread    2) f\b\b\r",
      "STEP  2601 / 2962 (thread    0) f\b\b\r",
      "STEP  2701 / 2962 (thread    3) f\b\b\r",
      "STEP  2801 / 2962 (thread    0) d\b\b h\r",
      "STEP  2901 / 2962 (thread    0) f\b\b"
     ]
    },
    {
     "name": "stderr",
     "output_type": "stream",
     "text": [
      "\n",
      "done.\n",
      "\n",
      "disttbfast (nuc) Version 7.520\n",
      "alg=A, model=DNA200 (2), 1.53 (4.59), -0.00 (-0.00), noshift, amax=0.0\n",
      "6 thread(s)\n",
      "\n",
      "\n",
      "Strategy:\n",
      " FFT-NS-2 (Fast but rough)\n",
      " Progressive method (guide trees were built 2 times.)\n",
      "\n",
      "If unsure which option to use, try 'mafft --auto input > output'.\n",
      "For more information, see 'mafft --help', 'mafft --man' and the mafft page.\n",
      "\n",
      "The default gap scoring scheme has been changed in version 7.110 (2013 Oct).\n",
      "It tends to insert more gaps into gap-rich regions than previous versions.\n",
      "To disable this change, add the --leavegappyregion option.\n",
      "\n"
     ]
    },
    {
     "name": "stdout",
     "output_type": "stream",
     "text": [
      "Running external command line application. This may print messages to stdout and/or stderr.\n",
      "The command being run is below. This command cannot be manually re-run as it will depend on temporary files that no longer exist.\n",
      "\n",
      "Command: FastTreeMP -quote -nt /tmp/qiime2/lauro/data/3d6f0bdd-fd2b-47bf-b2ea-182add6f2995/data/aligned-dna-sequences.fasta\n",
      "\n"
     ]
    },
    {
     "name": "stderr",
     "output_type": "stream",
     "text": [
      "FastTree Version 2.1.11 Double precision (No SSE3), OpenMP (6 threads)\n",
      "Alignment: /tmp/qiime2/lauro/data/3d6f0bdd-fd2b-47bf-b2ea-182add6f2995/data/aligned-dna-sequences.fasta\n",
      "Nucleotide distances: Jukes-Cantor Joins: balanced Support: SH-like 1000\n",
      "Search: Normal +NNI +SPR (2 rounds range 10) +ML-NNI opt-each=1\n",
      "TopHits: 1.00*sqrtN close=default refresh=0.80\n",
      "ML Model: Jukes-Cantor, CAT approximation with 20 rate categories\n",
      "      0.11 seconds: Joined    100 of   2782\n"
     ]
    },
    {
     "name": "stderr",
     "output_type": "stream",
     "text": [
      "      0.22 seconds: Joined    300 of   2782\n",
      "      0.32 seconds: Joined    500 of   2782\n"
     ]
    },
    {
     "name": "stderr",
     "output_type": "stream",
     "text": [
      "      0.48 seconds: Joined    700 of   2782\n",
      "      0.60 seconds: Joined    900 of   2782\n"
     ]
    },
    {
     "name": "stderr",
     "output_type": "stream",
     "text": [
      "      0.74 seconds: Joined   1100 of   2782\n",
      "      0.87 seconds: Joined   1300 of   2782\n"
     ]
    },
    {
     "name": "stderr",
     "output_type": "stream",
     "text": [
      "      0.98 seconds: Joined   1500 of   2782\n",
      "      1.09 seconds: Joined   1700 of   2782\n"
     ]
    },
    {
     "name": "stderr",
     "output_type": "stream",
     "text": [
      "      1.21 seconds: Joined   1900 of   2782\n",
      "      1.32 seconds: Joined   2100 of   2782\n"
     ]
    },
    {
     "name": "stderr",
     "output_type": "stream",
     "text": [
      "      1.46 seconds: Joined   2300 of   2782\n",
      "      1.59 seconds: Joined   2500 of   2782\n"
     ]
    },
    {
     "name": "stderr",
     "output_type": "stream",
     "text": [
      "Initial topology in 1.71 seconds\n",
      "Refining topology: 46 rounds ME-NNIs, 2 rounds ME-SPRs, 23 rounds ML-NNIs\n",
      "      1.71 seconds: ME NNI round 1 of 46, 1 of 2783 splits\n",
      "      1.81 seconds: ME NNI round 2 of 46, 2001 of 2783 splits, 218 changes (max delta 0.075)\n"
     ]
    },
    {
     "name": "stderr",
     "output_type": "stream",
     "text": [
      "      1.91 seconds: ME NNI round 5 of 46, 501 of 2783 splits, 22 changes (max delta 0.015)\n",
      "      2.02 seconds: SPR round   1 of   2, 201 of 5568 nodes\n"
     ]
    },
    {
     "name": "stderr",
     "output_type": "stream",
     "text": [
      "      2.13 seconds: SPR round   1 of   2, 501 of 5568 nodes\n",
      "      2.27 seconds: SPR round   1 of   2, 901 of 5568 nodes\n"
     ]
    },
    {
     "name": "stderr",
     "output_type": "stream",
     "text": [
      "      2.40 seconds: SPR round   1 of   2, 1201 of 5568 nodes\n",
      "      2.51 seconds: SPR round   1 of   2, 1501 of 5568 nodes\n"
     ]
    },
    {
     "name": "stderr",
     "output_type": "stream",
     "text": [
      "      2.63 seconds: SPR round   1 of   2, 1801 of 5568 nodes\n",
      "      2.75 seconds: SPR round   1 of   2, 2101 of 5568 nodes\n"
     ]
    },
    {
     "name": "stderr",
     "output_type": "stream",
     "text": [
      "      2.86 seconds: SPR round   1 of   2, 2401 of 5568 nodes\n",
      "      2.97 seconds: SPR round   1 of   2, 2701 of 5568 nodes\n"
     ]
    },
    {
     "name": "stderr",
     "output_type": "stream",
     "text": [
      "      3.08 seconds: SPR round   1 of   2, 3001 of 5568 nodes\n",
      "      3.21 seconds: SPR round   1 of   2, 3301 of 5568 nodes\n"
     ]
    },
    {
     "name": "stderr",
     "output_type": "stream",
     "text": [
      "      3.33 seconds: SPR round   1 of   2, 3601 of 5568 nodes\n",
      "      3.44 seconds: SPR round   1 of   2, 3901 of 5568 nodes\n"
     ]
    },
    {
     "name": "stderr",
     "output_type": "stream",
     "text": [
      "      3.55 seconds: SPR round   1 of   2, 4201 of 5568 nodes\n",
      "      3.67 seconds: SPR round   1 of   2, 4501 of 5568 nodes\n"
     ]
    },
    {
     "name": "stderr",
     "output_type": "stream",
     "text": [
      "      3.78 seconds: SPR round   1 of   2, 4801 of 5568 nodes\n",
      "      3.91 seconds: SPR round   1 of   2, 5101 of 5568 nodes\n"
     ]
    },
    {
     "name": "stderr",
     "output_type": "stream",
     "text": [
      "      4.03 seconds: SPR round   1 of   2, 5401 of 5568 nodes\n",
      "      4.13 seconds: ME NNI round 16 of 46, 2201 of 2783 splits, 38 changes (max delta 0.021)\n"
     ]
    },
    {
     "name": "stderr",
     "output_type": "stream",
     "text": [
      "      4.24 seconds: SPR round   2 of   2, 101 of 5568 nodes\n",
      "      4.34 seconds: SPR round   2 of   2, 401 of 5568 nodes\n"
     ]
    },
    {
     "name": "stderr",
     "output_type": "stream",
     "text": [
      "      4.45 seconds: SPR round   2 of   2, 701 of 5568 nodes\n",
      "      4.56 seconds: SPR round   2 of   2, 1001 of 5568 nodes\n"
     ]
    },
    {
     "name": "stderr",
     "output_type": "stream",
     "text": [
      "      4.69 seconds: SPR round   2 of   2, 1301 of 5568 nodes\n",
      "      4.81 seconds: SPR round   2 of   2, 1601 of 5568 nodes\n"
     ]
    },
    {
     "name": "stderr",
     "output_type": "stream",
     "text": [
      "      4.91 seconds: SPR round   2 of   2, 1901 of 5568 nodes\n",
      "      5.03 seconds: SPR round   2 of   2, 2201 of 5568 nodes\n"
     ]
    },
    {
     "name": "stderr",
     "output_type": "stream",
     "text": [
      "      5.15 seconds: SPR round   2 of   2, 2501 of 5568 nodes\n",
      "      5.26 seconds: SPR round   2 of   2, 2801 of 5568 nodes\n"
     ]
    },
    {
     "name": "stderr",
     "output_type": "stream",
     "text": [
      "      5.36 seconds: SPR round   2 of   2, 3101 of 5568 nodes\n",
      "      5.47 seconds: SPR round   2 of   2, 3401 of 5568 nodes\n"
     ]
    },
    {
     "name": "stderr",
     "output_type": "stream",
     "text": [
      "      5.58 seconds: SPR round   2 of   2, 3701 of 5568 nodes\n",
      "      5.68 seconds: SPR round   2 of   2, 4001 of 5568 nodes\n"
     ]
    },
    {
     "name": "stderr",
     "output_type": "stream",
     "text": [
      "      5.80 seconds: SPR round   2 of   2, 4301 of 5568 nodes\n",
      "      5.91 seconds: SPR round   2 of   2, 4601 of 5568 nodes\n"
     ]
    },
    {
     "name": "stderr",
     "output_type": "stream",
     "text": [
      "      6.03 seconds: SPR round   2 of   2, 4901 of 5568 nodes\n",
      "      6.13 seconds: SPR round   2 of   2, 5201 of 5568 nodes\n"
     ]
    },
    {
     "name": "stderr",
     "output_type": "stream",
     "text": [
      "      6.23 seconds: SPR round   2 of   2, 5501 of 5568 nodes\n",
      "      6.34 seconds: ME NNI round 32 of 46, 1301 of 2783 splits, 6 changes (max delta 0.005)\n"
     ]
    },
    {
     "name": "stderr",
     "output_type": "stream",
     "text": [
      "Total branch-length 52.838 after 6.45 sec\n",
      "      6.45 seconds: ML Lengths 1 of 2783 splits\n",
      "      6.56 seconds: ML Lengths 701 of 2783 splits\n"
     ]
    },
    {
     "name": "stderr",
     "output_type": "stream",
     "text": [
      "      6.66 seconds: ML Lengths 1301 of 2783 splits\n",
      "      6.78 seconds: ML Lengths 2001 of 2783 splits\n"
     ]
    },
    {
     "name": "stderr",
     "output_type": "stream",
     "text": [
      "      6.89 seconds: ML Lengths 2701 of 2783 splits\n",
      "      7.02 seconds: ML NNI round 1 of 23, 401 of 2783 splits, 86 changes (max delta 11.976)\n"
     ]
    },
    {
     "name": "stderr",
     "output_type": "stream",
     "text": [
      "      7.13 seconds: ML NNI round 1 of 23, 801 of 2783 splits, 184 changes (max delta 13.191)\n",
      "      7.25 seconds: ML NNI round 1 of 23, 1201 of 2783 splits, 256 changes (max delta 13.191)\n"
     ]
    },
    {
     "name": "stderr",
     "output_type": "stream",
     "text": [
      "      7.35 seconds: ML NNI round 1 of 23, 1601 of 2783 splits, 337 changes (max delta 13.191)\n",
      "      7.46 seconds: ML NNI round 1 of 23, 2001 of 2783 splits, 412 changes (max delta 13.191)\n"
     ]
    },
    {
     "name": "stderr",
     "output_type": "stream",
     "text": [
      "      7.57 seconds: ML NNI round 1 of 23, 2401 of 2783 splits, 481 changes (max delta 13.191)\n",
      "ML-NNI round 1: LogLk = -125538.730 NNIs 572 max delta 13.19 Time 7.68\n",
      "      7.70 seconds: Site likelihoods with rate category 1 of 20\n"
     ]
    },
    {
     "name": "stderr",
     "output_type": "stream",
     "text": [
      "      7.80 seconds: Site likelihoods with rate category 6 of 20\n",
      "      7.91 seconds: Site likelihoods with rate category 11 of 20\n"
     ]
    },
    {
     "name": "stderr",
     "output_type": "stream",
     "text": [
      "      8.01 seconds: Site likelihoods with rate category 16 of 20\n",
      "Switched to using 20 rate categories (CAT approximation)\n",
      "Rate categories were divided by 1.222 so that average rate = 1.0\n",
      "CAT-based log-likelihoods may not be comparable across runs\n",
      "Use -gamma for approximate but comparable Gamma(20) log-likelihoods\n",
      "      8.12 seconds: ML NNI round 2 of 23, 1 of 2783 splits\n"
     ]
    },
    {
     "name": "stderr",
     "output_type": "stream",
     "text": [
      "      8.23 seconds: ML NNI round 2 of 23, 401 of 2783 splits, 52 changes (max delta 4.997)\n",
      "      8.34 seconds: ML NNI round 2 of 23, 801 of 2783 splits, 108 changes (max delta 5.706)\n"
     ]
    },
    {
     "name": "stderr",
     "output_type": "stream",
     "text": [
      "      8.47 seconds: ML NNI round 2 of 23, 1201 of 2783 splits, 164 changes (max delta 12.054)\n",
      "      8.59 seconds: ML NNI round 2 of 23, 1601 of 2783 splits, 213 changes (max delta 12.054)\n"
     ]
    },
    {
     "name": "stderr",
     "output_type": "stream",
     "text": [
      "      8.70 seconds: ML NNI round 2 of 23, 2001 of 2783 splits, 269 changes (max delta 12.054)\n",
      "      8.82 seconds: ML NNI round 2 of 23, 2401 of 2783 splits, 322 changes (max delta 12.054)\n"
     ]
    },
    {
     "name": "stderr",
     "output_type": "stream",
     "text": [
      "ML-NNI round 2: LogLk = -104925.195 NNIs 380 max delta 12.05 Time 8.94\n",
      "      8.94 seconds: ML NNI round 3 of 23, 1 of 2783 splits\n",
      "      9.04 seconds: ML NNI round 3 of 23, 401 of 2783 splits, 24 changes (max delta 7.378)\n"
     ]
    },
    {
     "name": "stderr",
     "output_type": "stream",
     "text": [
      "      9.16 seconds: ML NNI round 3 of 23, 801 of 2783 splits, 45 changes (max delta 7.378)\n",
      "      9.27 seconds: ML NNI round 3 of 23, 1201 of 2783 splits, 70 changes (max delta 8.869)\n"
     ]
    },
    {
     "name": "stderr",
     "output_type": "stream",
     "text": [
      "      9.39 seconds: ML NNI round 3 of 23, 1601 of 2783 splits, 103 changes (max delta 8.869)\n",
      "ML-NNI round 3: LogLk = -104754.486 NNIs 150 max delta 8.87 Time 9.51\n",
      "      9.51 seconds: ML NNI round 4 of 23, 1 of 2783 splits\n"
     ]
    },
    {
     "name": "stderr",
     "output_type": "stream",
     "text": [
      "      9.62 seconds: ML NNI round 4 of 23, 401 of 2783 splits, 17 changes (max delta 7.319)\n",
      "      9.74 seconds: ML NNI round 4 of 23, 801 of 2783 splits, 33 changes (max delta 7.319)\n"
     ]
    },
    {
     "name": "stderr",
     "output_type": "stream",
     "text": [
      "      9.86 seconds: ML NNI round 4 of 23, 1201 of 2783 splits, 55 changes (max delta 7.319)\n",
      "ML-NNI round 4: LogLk = -104705.898 NNIs 56 max delta 7.32 Time 9.88\n",
      "      9.97 seconds: ML NNI round 5 of 23, 301 of 2783 splits, 10 changes (max delta 0.657)\n",
      "ML-NNI round 5: LogLk = -104688.254 NNIs 18 max delta 2.79 Time 10.06\n"
     ]
    },
    {
     "name": "stderr",
     "output_type": "stream",
     "text": [
      "     10.08 seconds: ML NNI round 6 of 23, 101 of 2783 splits, 3 changes (max delta 0.000)\n",
      "ML-NNI round 6: LogLk = -104667.518 NNIs 10 max delta 8.25 Time 10.17\n",
      "     10.19 seconds: ML NNI round 7 of 23, 101 of 2783 splits, 2 changes (max delta 1.591)\n",
      "ML-NNI round 7: LogLk = -104665.527 NNIs 2 max delta 1.59 Time 10.21\n",
      "ML-NNI round 8: LogLk = -104665.317 NNIs 1 max delta 0.00 Time 10.24\n",
      "Turning off heuristics for final round of ML NNIs (converged)\n"
     ]
    },
    {
     "name": "stderr",
     "output_type": "stream",
     "text": [
      "     10.31 seconds: ML NNI round 9 of 23, 301 of 2783 splits, 2 changes (max delta 0.000)\n",
      "     10.42 seconds: ML NNI round 9 of 23, 701 of 2783 splits, 6 changes (max delta 0.089)\n"
     ]
    },
    {
     "name": "stderr",
     "output_type": "stream",
     "text": [
      "     10.53 seconds: ML NNI round 9 of 23, 1101 of 2783 splits, 15 changes (max delta 0.669)\n",
      "     10.64 seconds: ML NNI round 9 of 23, 1501 of 2783 splits, 24 changes (max delta 5.343)\n"
     ]
    },
    {
     "name": "stderr",
     "output_type": "stream",
     "text": [
      "     10.76 seconds: ML NNI round 9 of 23, 1901 of 2783 splits, 30 changes (max delta 5.343)\n",
      "     10.86 seconds: ML NNI round 9 of 23, 2301 of 2783 splits, 34 changes (max delta 5.343)\n"
     ]
    },
    {
     "name": "stderr",
     "output_type": "stream",
     "text": [
      "     10.98 seconds: ML NNI round 9 of 23, 2701 of 2783 splits, 46 changes (max delta 5.343)\n",
      "ML-NNI round 9: LogLk = -104643.849 NNIs 46 max delta 5.34 Time 11.01 (final)\n",
      "     11.08 seconds: ML Lengths 601 of 2783 splits\n"
     ]
    },
    {
     "name": "stderr",
     "output_type": "stream",
     "text": [
      "     11.19 seconds: ML Lengths 1501 of 2783 splits\n",
      "     11.30 seconds: ML Lengths 2401 of 2783 splits\n",
      "Optimize all lengths: LogLk = -104642.066 Time 11.37\n"
     ]
    },
    {
     "name": "stderr",
     "output_type": "stream",
     "text": [
      "     11.43 seconds: ML split tests for    100 of   2782 internal splits\n",
      "     11.58 seconds: ML split tests for    300 of   2782 internal splits\n"
     ]
    },
    {
     "name": "stderr",
     "output_type": "stream",
     "text": [
      "     11.72 seconds: ML split tests for    500 of   2782 internal splits\n",
      "     11.87 seconds: ML split tests for    700 of   2782 internal splits\n"
     ]
    },
    {
     "name": "stderr",
     "output_type": "stream",
     "text": [
      "     12.02 seconds: ML split tests for    900 of   2782 internal splits\n",
      "     12.16 seconds: ML split tests for   1100 of   2782 internal splits\n"
     ]
    },
    {
     "name": "stderr",
     "output_type": "stream",
     "text": [
      "     12.31 seconds: ML split tests for   1300 of   2782 internal splits\n",
      "     12.45 seconds: ML split tests for   1500 of   2782 internal splits\n"
     ]
    },
    {
     "name": "stderr",
     "output_type": "stream",
     "text": [
      "     12.60 seconds: ML split tests for   1700 of   2782 internal splits\n",
      "     12.75 seconds: ML split tests for   1900 of   2782 internal splits\n"
     ]
    },
    {
     "name": "stderr",
     "output_type": "stream",
     "text": [
      "     12.89 seconds: ML split tests for   2100 of   2782 internal splits\n",
      "     13.03 seconds: ML split tests for   2300 of   2782 internal splits\n"
     ]
    },
    {
     "name": "stderr",
     "output_type": "stream",
     "text": [
      "     13.18 seconds: ML split tests for   2500 of   2782 internal splits\n",
      "     13.33 seconds: ML split tests for   2700 of   2782 internal splits\n"
     ]
    },
    {
     "name": "stderr",
     "output_type": "stream",
     "text": [
      "Total time: 13.39 seconds Unique: 2785/2963 Bad splits: 3/2782 Worst delta-LogLk 5.128\n"
     ]
    }
   ],
   "source": [
    "mafft_alignment, mafft_masked_alignment, mafft_tree, mafft_rooted_tree = align_to_tree_mafft_fasttree(\n",
    "    sequences=reps, n_threads=6, )"
   ]
  },
  {
   "cell_type": "markdown",
   "id": "0768d598",
   "metadata": {
    "papermill": {
     "duration": 0.005829,
     "end_time": "2024-02-23T18:33:53.359466",
     "exception": false,
     "start_time": "2024-02-23T18:33:53.353637",
     "status": "completed"
    },
    "tags": []
   },
   "source": [
    "### Compute Alpha Diversity (Phylogeny)\n",
    "- [diversity alpha_phylogenetic](https://docs.qiime2.org/2022.8/plugins/available/diversity/alpha-phylogenetic/): Computes a user-specified phylogenetic alpha diversity metric for all samples in a feature table.\n",
    "- Metrics: Choices ('faith_pd')"
   ]
  },
  {
   "cell_type": "code",
   "execution_count": 11,
   "id": "0383aa19",
   "metadata": {
    "ExecuteTime": {
     "end_time": "2022-09-29T20:54:35.310009Z",
     "start_time": "2022-09-29T20:54:35.141333Z"
    },
    "execution": {
     "iopub.execute_input": "2024-02-23T18:33:53.371672Z",
     "iopub.status.busy": "2024-02-23T18:33:53.371534Z",
     "iopub.status.idle": "2024-02-23T18:33:53.509344Z",
     "shell.execute_reply": "2024-02-23T18:33:53.508830Z"
    },
    "papermill": {
     "duration": 0.145143,
     "end_time": "2024-02-23T18:33:53.510372",
     "exception": false,
     "start_time": "2024-02-23T18:33:53.365229",
     "status": "completed"
    },
    "tags": []
   },
   "outputs": [
    {
     "name": "stdout",
     "output_type": "stream",
     "text": [
      "Calculating alpha diversity: faith_pd\n",
      "Running external command line application. This may print messages to stdout and/or stderr.\n",
      "The command being run is below. This command cannot be manually re-run as it will depend on temporary files that no longer exist.\n",
      "\n",
      "Command:\n",
      "\n",
      "faithpd -i /tmp/qiime2/lauro/data/159fd046-2311-41cb-bad3-59f6ed0e86d5/data/feature-table.biom -t /tmp/qiime2/lauro/data/d28a970b-0c5f-4235-9d63-e76796721fad/data/tree.nwk -o /tmp/q2-AlphaDiversityFormat-4uvhs06o\n",
      "\n",
      "DONE: Calculating alpha phylogeny: faith_pd\n"
     ]
    }
   ],
   "source": [
    "metrics = ('faith_pd', )\n",
    "alpha_diversities_phylogenetic = dict()\n",
    "for metric in metrics:\n",
    "    print(f\"Calculating alpha diversity: {metric}\")\n",
    "    try:\n",
    "        alpha_diversity = alpha_phylogenetic(table=tabs, phylogeny=mafft_rooted_tree, metric=metric).alpha_diversity\n",
    "        alpha_diversities_phylogenetic[metric] = alpha_diversity\n",
    "        # Save Artifact\n",
    "        file_path = os.path.join(alpha_path, f'alpha-phylogeny-{metric}.qza')\n",
    "        alpha_diversity.save(file_path)\n",
    "        print(f\"DONE: Calculating alpha phylogeny: {metric}\")\n",
    "    except Exception as e:\n",
    "        print(f\"ERROR: Calculating alpha phylogeny: {metric}\")"
   ]
  },
  {
   "cell_type": "markdown",
   "id": "42db1ead",
   "metadata": {
    "papermill": {
     "duration": 0.00591,
     "end_time": "2024-02-23T18:33:53.522389",
     "exception": false,
     "start_time": "2024-02-23T18:33:53.516479",
     "status": "completed"
    },
    "tags": []
   },
   "source": [
    "- [core-metrics-phylogenetic](https://docs.qiime2.org/2023.7/plugins/available/diversity/core-metrics-phylogenetic/)"
   ]
  },
  {
   "cell_type": "code",
   "execution_count": 12,
   "id": "ef726ab7",
   "metadata": {
    "execution": {
     "iopub.execute_input": "2024-02-23T18:33:53.534767Z",
     "iopub.status.busy": "2024-02-23T18:33:53.534628Z",
     "iopub.status.idle": "2024-02-23T18:33:55.660239Z",
     "shell.execute_reply": "2024-02-23T18:33:55.659747Z"
    },
    "papermill": {
     "duration": 2.133194,
     "end_time": "2024-02-23T18:33:55.661396",
     "exception": false,
     "start_time": "2024-02-23T18:33:53.528202",
     "status": "completed"
    },
    "tags": []
   },
   "outputs": [
    {
     "name": "stderr",
     "output_type": "stream",
     "text": [
      "/home/lauro/anaconda3/envs/qiime2-2023.5/lib/python3.8/site-packages/sklearn/metrics/pairwise.py:1761: DataConversionWarning: Data was converted to boolean for metric jaccard\n",
      "  warnings.warn(msg, DataConversionWarning)\n"
     ]
    },
    {
     "name": "stdout",
     "output_type": "stream",
     "text": [
      "Running external command line application. This may print messages to stdout and/or stderr.\n",
      "The command being run is below. This command cannot be manually re-run as it will depend on temporary files that no longer exist.\n",
      "\n",
      "Command:\n",
      "\n",
      "faithpd -i /tmp/qiime2/lauro/data/17c5a2e1-3105-4cc9-8d37-6f8b67526d06/data/feature-table.biom -t /tmp/qiime2/lauro/data/d28a970b-0c5f-4235-9d63-e76796721fad/data/tree.nwk -o /tmp/q2-AlphaDiversityFormat-7ihqe9v2\n",
      "\n",
      "Running external command line application. This may print messages to stdout and/or stderr.\n",
      "The command being run is below. This command cannot be manually re-run as it will depend on temporary files that no longer exist.\n",
      "\n",
      "Command:\n",
      "\n",
      "ssu -i /tmp/qiime2/lauro/data/17c5a2e1-3105-4cc9-8d37-6f8b67526d06/data/feature-table.biom -t /tmp/qiime2/lauro/data/d28a970b-0c5f-4235-9d63-e76796721fad/data/tree.nwk -m unweighted -o /tmp/q2-LSMatFormat-n7bt_pre\n",
      "\n"
     ]
    },
    {
     "name": "stdout",
     "output_type": "stream",
     "text": [
      "Running external command line application. This may print messages to stdout and/or stderr.\n",
      "The command being run is below. This command cannot be manually re-run as it will depend on temporary files that no longer exist.\n",
      "\n",
      "Command:\n",
      "\n",
      "ssu -i /tmp/qiime2/lauro/data/17c5a2e1-3105-4cc9-8d37-6f8b67526d06/data/feature-table.biom -t /tmp/qiime2/lauro/data/d28a970b-0c5f-4235-9d63-e76796721fad/data/tree.nwk -m weighted_unnormalized -o /tmp/q2-LSMatFormat-l7bid7df\n",
      "\n"
     ]
    },
    {
     "name": "stderr",
     "output_type": "stream",
     "text": [
      "/home/lauro/anaconda3/envs/qiime2-2023.5/lib/python3.8/site-packages/skbio/stats/ordination/_principal_coordinate_analysis.py:143: RuntimeWarning: The result contains negative eigenvalues. Please compare their magnitude with the magnitude of some of the largest positive eigenvalues. If the negative ones are smaller, it's probably safe to ignore them, but if they are large in magnitude, the results won't be useful. See the Notes section for more details. The smallest eigenvalue is -0.01920266867647235 and the largest is 1.5628434670763587.\n",
      "  warn(\n",
      "/home/lauro/anaconda3/envs/qiime2-2023.5/lib/python3.8/site-packages/skbio/stats/ordination/_principal_coordinate_analysis.py:143: RuntimeWarning: The result contains negative eigenvalues. Please compare their magnitude with the magnitude of some of the largest positive eigenvalues. If the negative ones are smaller, it's probably safe to ignore them, but if they are large in magnitude, the results won't be useful. See the Notes section for more details. The smallest eigenvalue is -0.07362544036799255 and the largest is 2.174044661313355.\n",
      "  warn(\n"
     ]
    }
   ],
   "source": [
    "s_depth = int(tabs.view(pd.DataFrame).sum(axis=1).min())\n",
    "results = core_metrics_phylogenetic(\n",
    "    table = tabs,\n",
    "    phylogeny = mafft_rooted_tree,\n",
    "    sampling_depth = s_depth,\n",
    "    metadata = metadata_qa,\n",
    "    n_jobs_or_threads = 6,\n",
    ")"
   ]
  },
  {
   "cell_type": "code",
   "execution_count": 13,
   "id": "19311218",
   "metadata": {
    "execution": {
     "iopub.execute_input": "2024-02-23T18:33:55.674531Z",
     "iopub.status.busy": "2024-02-23T18:33:55.674389Z",
     "iopub.status.idle": "2024-02-23T18:33:55.678188Z",
     "shell.execute_reply": "2024-02-23T18:33:55.677672Z"
    },
    "papermill": {
     "duration": 0.011354,
     "end_time": "2024-02-23T18:33:55.679066",
     "exception": false,
     "start_time": "2024-02-23T18:33:55.667712",
     "status": "completed"
    },
    "tags": []
   },
   "outputs": [],
   "source": [
    "results_info = [(\"rarefied_table\", \"FeatureTable[Frequency]\", \"The resulting rarefied feature table.\"),\n",
    "(\"faith_pd_vector\", \"SampleData[AlphaDiversity]\", \"Vector of Faith PD values by sample.\"),\n",
    "(\"observed_features_vector\", \"SampleData[AlphaDiversity]\", \"Vector of Observed Features values by sample.\"),\n",
    "(\"shannon_vector\", \"SampleData[AlphaDiversity]\", \"Vector of Shannon diversity values by sample.\"),\n",
    "(\"evenness_vector\", \"SampleData[AlphaDiversity]\", \"Vector of Pielou's evenness values by sample.\"),\n",
    "(\"unweighted_unifrac_distance_matrix\", \"DistanceMatrix\", \"Matrix of unweighted UniFrac distances between pairs of samples.\"),\n",
    "(\"weighted_unifrac_distance_matrix\", \"DistanceMatrix\", \"Matrix of weighted UniFrac distances between pairs of samples.\"),\n",
    "(\"jaccard_distance_matrix\", \"DistanceMatrix\", \"Matrix of Jaccard distances between pairs of samples.\"),\n",
    "(\"bray_curtis_distance_matrix\", \"DistanceMatrix\", \"Matrix of Bray-Curtis distances between pairs of samples.\"),\n",
    "(\"unweighted_unifrac_pcoa_results\", \"PCoAResults\", \"PCoA matrix computed from unweighted UniFrac distances between samples.\"),\n",
    "(\"weighted_unifrac_pcoa_results\", \"PCoAResults\", \"PCoA matrix computed from weighted UniFrac distances between samples.\"),\n",
    "(\"jaccard_pcoa_results\", \"PCoAResults\", \"PCoA matrix computed from Jaccard distances between samples.\"),\n",
    "(\"bray_curtis_pcoa_results\", \"PCoAResults\", \"PCoA matrix computed from Bray-Curtis distances between samples.\"),\n",
    "(\"unweighted_unifrac_emperor\", \"Visualization\", \"Emperor plot of the PCoA matrix computed from unweighted UniFrac.\"),\n",
    "(\"weighted_unifrac_emperor\", \"Visualization\", \"Emperor plot of the PCoA matrix computed from weighted UniFrac.\"),\n",
    "(\"jaccard_emperor\", \"Visualization\", \"Emperor plot of the PCoA matrix computed from Jaccard.\"),\n",
    "(\"bray_curtis_emperor\", \"Visualization\", \"Emperor plot of the PCoA matrix computed from Bray-Curtis.\")]"
   ]
  },
  {
   "cell_type": "code",
   "execution_count": 14,
   "id": "2264925a",
   "metadata": {
    "execution": {
     "iopub.execute_input": "2024-02-23T18:33:55.691618Z",
     "iopub.status.busy": "2024-02-23T18:33:55.691491Z",
     "iopub.status.idle": "2024-02-23T18:33:55.997002Z",
     "shell.execute_reply": "2024-02-23T18:33:55.996566Z"
    },
    "papermill": {
     "duration": 0.312946,
     "end_time": "2024-02-23T18:33:55.997917",
     "exception": false,
     "start_time": "2024-02-23T18:33:55.684971",
     "status": "completed"
    },
    "tags": []
   },
   "outputs": [
    {
     "name": "stdout",
     "output_type": "stream",
     "text": [
      "13 unweighted_unifrac_emperor Visualization\n",
      "--- Emperor plot of the PCoA matrix computed from unweighted UniFrac. ---\n",
      "Saving emperor file at: /mnt/nupeb/rede-micro/redemicro-thayane/experiments/thayane-meno-joined/qiime-artifacts/beta-analysis/unweighted_unifrac_emperor.qzv\n",
      "\n",
      "14 weighted_unifrac_emperor Visualization\n",
      "--- Emperor plot of the PCoA matrix computed from weighted UniFrac. ---\n",
      "Saving emperor file at: /mnt/nupeb/rede-micro/redemicro-thayane/experiments/thayane-meno-joined/qiime-artifacts/beta-analysis/weighted_unifrac_emperor.qzv\n",
      "\n",
      "15 jaccard_emperor Visualization\n",
      "--- Emperor plot of the PCoA matrix computed from Jaccard. ---\n",
      "Saving emperor file at: /mnt/nupeb/rede-micro/redemicro-thayane/experiments/thayane-meno-joined/qiime-artifacts/beta-analysis/jaccard_emperor.qzv\n",
      "\n"
     ]
    },
    {
     "name": "stdout",
     "output_type": "stream",
     "text": [
      "16 bray_curtis_emperor Visualization\n",
      "--- Emperor plot of the PCoA matrix computed from Bray-Curtis. ---\n",
      "Saving emperor file at: /mnt/nupeb/rede-micro/redemicro-thayane/experiments/thayane-meno-joined/qiime-artifacts/beta-analysis/bray_curtis_emperor.qzv\n",
      "\n"
     ]
    }
   ],
   "source": [
    "distance_matrix = dict()\n",
    "for i, info in enumerate(results_info):\n",
    "    r_id, r_type, r_desc = info\n",
    "    #print(i, r_id, r_type)\n",
    "    file_name = f\"{r_id}.qzv\"\n",
    "    if r_type == \"FeatureTable[Frequency]\":\n",
    "        pass\n",
    "    elif r_type == \"DistanceMatrix\":\n",
    "        distance_matrix[r_id] = results[i]\n",
    "    elif r_id.endswith('emperor'):\n",
    "        print(i, r_id, r_type)\n",
    "        print(f\"--- {r_desc} ---\")\n",
    "        file_name = os.path.join(beta_path, file_name)\n",
    "        print(f'Saving emperor file at: {file_name}\\n')\n",
    "        results[i].save(filepath=file_name)"
   ]
  },
  {
   "cell_type": "markdown",
   "id": "c7752cfd",
   "metadata": {
    "papermill": {
     "duration": 0.005893,
     "end_time": "2024-02-23T18:33:56.009861",
     "exception": false,
     "start_time": "2024-02-23T18:33:56.003968",
     "status": "completed"
    },
    "tags": []
   },
   "source": [
    "### Alpha diversity correlation\n",
    "\n",
    "This method only process `numeric` columns.\n"
   ]
  },
  {
   "cell_type": "code",
   "execution_count": 15,
   "id": "2814f613",
   "metadata": {
    "ExecuteTime": {
     "end_time": "2022-09-29T20:54:35.317618Z",
     "start_time": "2022-09-29T20:54:35.312094Z"
    },
    "execution": {
     "iopub.execute_input": "2024-02-23T18:33:56.022168Z",
     "iopub.status.busy": "2024-02-23T18:33:56.022036Z",
     "iopub.status.idle": "2024-02-23T18:33:56.794471Z",
     "shell.execute_reply": "2024-02-23T18:33:56.794137Z"
    },
    "papermill": {
     "duration": 0.779652,
     "end_time": "2024-02-23T18:33:56.795407",
     "exception": false,
     "start_time": "2024-02-23T18:33:56.015755",
     "status": "completed"
    },
    "tags": []
   },
   "outputs": [
    {
     "name": "stdout",
     "output_type": "stream",
     "text": [
      "DONE: Calculating alpha correlation: chao1 spearman\n"
     ]
    },
    {
     "name": "stderr",
     "output_type": "stream",
     "text": [
      "/home/lauro/anaconda3/envs/qiime2-2023.5/lib/python3.8/site-packages/q2_diversity/_alpha/_visualizer.py:168: FutureWarning: Passing a set as an indexer is deprecated and will raise in a future version. Use a list instead.\n",
      "  alpha_diversity = alpha_diversity[matched_ids]\n",
      "/home/lauro/anaconda3/envs/qiime2-2023.5/lib/python3.8/site-packages/q2_diversity/_alpha/_visualizer.py:168: FutureWarning: Passing a set as an indexer is deprecated and will raise in a future version. Use a list instead.\n",
      "  alpha_diversity = alpha_diversity[matched_ids]\n",
      "/home/lauro/anaconda3/envs/qiime2-2023.5/lib/python3.8/site-packages/q2_diversity/_alpha/_visualizer.py:168: FutureWarning: Passing a set as an indexer is deprecated and will raise in a future version. Use a list instead.\n",
      "  alpha_diversity = alpha_diversity[matched_ids]\n"
     ]
    },
    {
     "name": "stdout",
     "output_type": "stream",
     "text": [
      "DONE: Calculating alpha correlation: chao1 pearson\n",
      "ERROR: Calculating alpha correlation: chao1_ci spearman\n",
      "ERROR: Calculating alpha correlation: chao1_ci pearson\n",
      "DONE: Calculating alpha correlation: observed_features spearman\n"
     ]
    },
    {
     "name": "stdout",
     "output_type": "stream",
     "text": [
      "DONE: Calculating alpha correlation: observed_features pearson\n"
     ]
    },
    {
     "name": "stderr",
     "output_type": "stream",
     "text": [
      "/home/lauro/anaconda3/envs/qiime2-2023.5/lib/python3.8/site-packages/q2_diversity/_alpha/_visualizer.py:168: FutureWarning: Passing a set as an indexer is deprecated and will raise in a future version. Use a list instead.\n",
      "  alpha_diversity = alpha_diversity[matched_ids]\n",
      "/home/lauro/anaconda3/envs/qiime2-2023.5/lib/python3.8/site-packages/q2_diversity/_alpha/_visualizer.py:168: FutureWarning: Passing a set as an indexer is deprecated and will raise in a future version. Use a list instead.\n",
      "  alpha_diversity = alpha_diversity[matched_ids]\n",
      "/home/lauro/anaconda3/envs/qiime2-2023.5/lib/python3.8/site-packages/q2_diversity/_alpha/_visualizer.py:168: FutureWarning: Passing a set as an indexer is deprecated and will raise in a future version. Use a list instead.\n",
      "  alpha_diversity = alpha_diversity[matched_ids]\n"
     ]
    },
    {
     "name": "stdout",
     "output_type": "stream",
     "text": [
      "DONE: Calculating alpha correlation: shannon spearman\n",
      "DONE: Calculating alpha correlation: shannon pearson\n"
     ]
    },
    {
     "name": "stdout",
     "output_type": "stream",
     "text": [
      "DONE: Calculating alpha correlation: simpson spearman\n"
     ]
    },
    {
     "name": "stderr",
     "output_type": "stream",
     "text": [
      "/home/lauro/anaconda3/envs/qiime2-2023.5/lib/python3.8/site-packages/q2_diversity/_alpha/_visualizer.py:168: FutureWarning: Passing a set as an indexer is deprecated and will raise in a future version. Use a list instead.\n",
      "  alpha_diversity = alpha_diversity[matched_ids]\n",
      "/home/lauro/anaconda3/envs/qiime2-2023.5/lib/python3.8/site-packages/q2_diversity/_alpha/_visualizer.py:168: FutureWarning: Passing a set as an indexer is deprecated and will raise in a future version. Use a list instead.\n",
      "  alpha_diversity = alpha_diversity[matched_ids]\n",
      "/home/lauro/anaconda3/envs/qiime2-2023.5/lib/python3.8/site-packages/q2_diversity/_alpha/_visualizer.py:168: FutureWarning: Passing a set as an indexer is deprecated and will raise in a future version. Use a list instead.\n",
      "  alpha_diversity = alpha_diversity[matched_ids]\n"
     ]
    },
    {
     "name": "stdout",
     "output_type": "stream",
     "text": [
      "DONE: Calculating alpha correlation: simpson pearson\n",
      "DONE: Calculating alpha correlation: simpson_e spearman\n"
     ]
    },
    {
     "name": "stdout",
     "output_type": "stream",
     "text": [
      "DONE: Calculating alpha correlation: simpson_e pearson\n"
     ]
    },
    {
     "name": "stderr",
     "output_type": "stream",
     "text": [
      "/home/lauro/anaconda3/envs/qiime2-2023.5/lib/python3.8/site-packages/q2_diversity/_alpha/_visualizer.py:168: FutureWarning: Passing a set as an indexer is deprecated and will raise in a future version. Use a list instead.\n",
      "  alpha_diversity = alpha_diversity[matched_ids]\n"
     ]
    }
   ],
   "source": [
    "methods = ('spearman', 'pearson')\n",
    "numerics_cols = metadata_qa.filter_columns(column_type='numeric')\n",
    "if numerics_cols.column_count > 0:\n",
    "    for metric, alpha_values in alpha_diversities.items():\n",
    "        for method in methods:\n",
    "            try:\n",
    "                corr_view = alpha_correlation(alpha_diversity=alpha_values, metadata=numerics_cols, \n",
    "                                          method=method, intersect_ids=True).visualization\n",
    "                view_path = os.path.join(alpha_path, f'alpha-correlation-{metric}-{method}.qzv')\n",
    "                corr_view.save(view_path)\n",
    "                corr_view\n",
    "                print(f\"DONE: Calculating alpha correlation: {metric} {method}\")\n",
    "            except Exception as e:\n",
    "                print(f\"ERROR: Calculating alpha correlation: {metric} {method}\")"
   ]
  },
  {
   "cell_type": "markdown",
   "id": "8ea83c8a",
   "metadata": {
    "papermill": {
     "duration": 0.006238,
     "end_time": "2024-02-23T18:33:56.808169",
     "exception": false,
     "start_time": "2024-02-23T18:33:56.801931",
     "status": "completed"
    },
    "tags": []
   },
   "source": [
    "## Alpha diversity comparisons\n",
    "\n",
    "Visually and statistically compare groups of alpha diversity values.\n",
    "\n",
    "[diversity alpha_group_significance](https://docs.qiime2.org/2022.8/plugins/available/diversity/alpha-group-significance/)"
   ]
  },
  {
   "cell_type": "code",
   "execution_count": 16,
   "id": "276d1c18",
   "metadata": {
    "ExecuteTime": {
     "end_time": "2022-09-29T20:54:36.089290Z",
     "start_time": "2022-09-29T20:54:35.318963Z"
    },
    "execution": {
     "iopub.execute_input": "2024-02-23T18:33:56.821048Z",
     "iopub.status.busy": "2024-02-23T18:33:56.820908Z",
     "iopub.status.idle": "2024-02-23T18:33:57.259500Z",
     "shell.execute_reply": "2024-02-23T18:33:57.259054Z"
    },
    "papermill": {
     "duration": 0.446175,
     "end_time": "2024-02-23T18:33:57.260445",
     "exception": false,
     "start_time": "2024-02-23T18:33:56.814270",
     "status": "completed"
    },
    "tags": []
   },
   "outputs": [
    {
     "name": "stdout",
     "output_type": "stream",
     "text": [
      "Processing alpha_group_significance: chao1\n"
     ]
    },
    {
     "name": "stdout",
     "output_type": "stream",
     "text": [
      "DONE: Calculating alpha group significance: chao1\n",
      "Processing alpha_group_significance: chao1_ci\n",
      "ERROR: Calculating alpha group significance: chao1_ci\n",
      "Processing alpha_group_significance: observed_features\n"
     ]
    },
    {
     "name": "stdout",
     "output_type": "stream",
     "text": [
      "DONE: Calculating alpha group significance: observed_features\n",
      "Processing alpha_group_significance: shannon\n"
     ]
    },
    {
     "name": "stdout",
     "output_type": "stream",
     "text": [
      "DONE: Calculating alpha group significance: shannon\n",
      "Processing alpha_group_significance: simpson\n"
     ]
    },
    {
     "name": "stdout",
     "output_type": "stream",
     "text": [
      "DONE: Calculating alpha group significance: simpson\n",
      "Processing alpha_group_significance: simpson_e\n"
     ]
    },
    {
     "name": "stdout",
     "output_type": "stream",
     "text": [
      "DONE: Calculating alpha group significance: simpson_e\n"
     ]
    }
   ],
   "source": [
    "for metric, alpha_values in alpha_diversities.items():\n",
    "    print(f\"Processing alpha_group_significance: {metric}\")\n",
    "    try:\n",
    "        significance_view = alpha_group_significance(alpha_diversity=alpha_values, metadata=metadata_qa).visualization\n",
    "        view_path = os.path.join(alpha_path, f'alpha-group-significance-{metric}.qzv')\n",
    "        significance_view.save(view_path)\n",
    "        significance_view\n",
    "        print(f\"DONE: Calculating alpha group significance: {metric}\")\n",
    "    except Exception as e:\n",
    "        print(f\"ERROR: Calculating alpha group significance: {metric}\")"
   ]
  },
  {
   "cell_type": "markdown",
   "id": "4349d357",
   "metadata": {
    "papermill": {
     "duration": 0.006283,
     "end_time": "2024-02-23T18:33:57.273476",
     "exception": false,
     "start_time": "2024-02-23T18:33:57.267193",
     "status": "completed"
    },
    "tags": []
   },
   "source": [
    "## Beta diversity analysis\n",
    "\n",
    "#### Reference\n",
    "- [diversity beta](https://docs.qiime2.org/2022.8/plugins/available/diversity/beta/): Computes a user-specified beta diversity metric for all pairs of samples in a feature table.\n",
    "- [Beta diversity metrics](http://scikit-bio.org/docs/0.2.0/generated/skbio.diversity.beta.html)\n",
    "\n",
    "- Metric Choices('aitchison', 'braycurtis', 'canberra', 'canberra_adkins', 'chebyshev', 'cityblock', 'correlation', 'cosine', 'dice', 'euclidean', 'hamming', 'jaccard', 'jensenshannon', 'kulsinski', 'matching', 'minkowski', 'rogerstanimoto', 'russellrao', 'seuclidean', 'sokalmichener', 'sokalsneath', 'sqeuclidean', 'yule')"
   ]
  },
  {
   "cell_type": "code",
   "execution_count": 17,
   "id": "f6f358dd",
   "metadata": {
    "ExecuteTime": {
     "end_time": "2022-09-29T20:54:36.335038Z",
     "start_time": "2022-09-29T20:54:36.091288Z"
    },
    "execution": {
     "iopub.execute_input": "2024-02-23T18:33:57.286725Z",
     "iopub.status.busy": "2024-02-23T18:33:57.286590Z",
     "iopub.status.idle": "2024-02-23T18:33:57.850351Z",
     "shell.execute_reply": "2024-02-23T18:33:57.849936Z"
    },
    "papermill": {
     "duration": 0.571533,
     "end_time": "2024-02-23T18:33:57.851308",
     "exception": false,
     "start_time": "2024-02-23T18:33:57.279775",
     "status": "completed"
    },
    "tags": []
   },
   "outputs": [
    {
     "name": "stdout",
     "output_type": "stream",
     "text": [
      "Calculating beta diversity: euclidean\n"
     ]
    },
    {
     "name": "stdout",
     "output_type": "stream",
     "text": [
      "DONE: Calculating beta diversity: euclidean\n",
      "Calculating beta diversity: dice\n"
     ]
    },
    {
     "name": "stdout",
     "output_type": "stream",
     "text": [
      "DONE: Calculating beta diversity: dice\n",
      "Calculating beta diversity: braycurtis\n"
     ]
    },
    {
     "name": "stderr",
     "output_type": "stream",
     "text": [
      "/home/lauro/anaconda3/envs/qiime2-2023.5/lib/python3.8/site-packages/sklearn/metrics/pairwise.py:1761: DataConversionWarning: Data was converted to boolean for metric dice\n",
      "  warnings.warn(msg, DataConversionWarning)\n"
     ]
    },
    {
     "name": "stdout",
     "output_type": "stream",
     "text": [
      "DONE: Calculating beta diversity: braycurtis\n",
      "Calculating beta diversity: correlation\n",
      "ERROR: Calculating beta diversity: correlation\n",
      "Calculating beta diversity: cosine\n",
      "ERROR: Calculating beta diversity: cosine\n",
      "Calculating beta diversity: matching\n"
     ]
    },
    {
     "name": "stdout",
     "output_type": "stream",
     "text": [
      "DONE: Calculating beta diversity: matching\n",
      "Calculating beta diversity: jaccard\n"
     ]
    },
    {
     "name": "stdout",
     "output_type": "stream",
     "text": [
      "DONE: Calculating beta diversity: jaccard\n"
     ]
    },
    {
     "name": "stderr",
     "output_type": "stream",
     "text": [
      "/home/lauro/anaconda3/envs/qiime2-2023.5/lib/python3.8/site-packages/sklearn/metrics/pairwise.py:1761: DataConversionWarning: Data was converted to boolean for metric matching\n",
      "  warnings.warn(msg, DataConversionWarning)\n",
      "/home/lauro/anaconda3/envs/qiime2-2023.5/lib/python3.8/site-packages/sklearn/metrics/pairwise.py:1761: DataConversionWarning: Data was converted to boolean for metric jaccard\n",
      "  warnings.warn(msg, DataConversionWarning)\n"
     ]
    }
   ],
   "source": [
    "metrics = ('aitchison', 'braycurtis', 'canberra', 'canberra_adkins', 'chebyshev', 'cityblock', 'correlation', 'cosine', 'dice', 'euclidean', 'hamming', 'jaccard', 'jensenshannon', 'kulsinski', 'matching', 'minkowski', 'rogerstanimoto', 'russellrao', 'seuclidean', 'sokalmichener', 'sokalsneath', 'sqeuclidean', 'yule')\n",
    "metrics = ('euclidean', 'dice', 'braycurtis', 'correlation', 'cosine', 'matching', 'jaccard')\n",
    "beta_diversities = dict()\n",
    "for metric in metrics:\n",
    "    print(f\"Calculating beta diversity: {metric}\")\n",
    "    try:\n",
    "        beta_diversity = beta(table=tabs, metric=metric, n_jobs=6, pseudocount=1).distance_matrix\n",
    "        beta_diversities[metric] = beta_diversity\n",
    "        # Save SampleData[BetaDiversity] Artifact\n",
    "        file_path = os.path.join(beta_path, f'beta-values-{metric}.qza')\n",
    "        beta_diversity.save(file_path)\n",
    "        print(f\"DONE: Calculating beta diversity: {metric}\")\n",
    "    except Exception as e:\n",
    "        print(f\"ERROR: Calculating beta diversity: {metric}\")"
   ]
  },
  {
   "cell_type": "markdown",
   "id": "200a2fa7",
   "metadata": {
    "papermill": {
     "duration": 0.006554,
     "end_time": "2024-02-23T18:33:57.864788",
     "exception": false,
     "start_time": "2024-02-23T18:33:57.858234",
     "status": "completed"
    },
    "tags": []
   },
   "source": [
    "### Beta group significance\n",
    "\n",
    "- [diversity beta_group_significance](https://docs.qiime2.org/2022.8/plugins/available/diversity/beta-group-significance/): Determine whether groups of samples are significantly different from one another using a permutation-based statistical test.\n",
    "- Marti J Anderson. A new method for non-parametric multivariate analysis of variance. Austral ecology, 26(1):32–46, 2001. doi:https://doi.org/10.1111/j.1442-9993.2001.01070.pp.x."
   ]
  },
  {
   "cell_type": "code",
   "execution_count": 18,
   "id": "b8dd42b6",
   "metadata": {
    "ExecuteTime": {
     "end_time": "2022-09-29T20:55:08.313860Z",
     "start_time": "2022-09-29T20:54:36.336993Z"
    },
    "execution": {
     "iopub.execute_input": "2024-02-23T18:33:57.878637Z",
     "iopub.status.busy": "2024-02-23T18:33:57.878498Z",
     "iopub.status.idle": "2024-02-23T18:34:36.111069Z",
     "shell.execute_reply": "2024-02-23T18:34:36.110751Z"
    },
    "papermill": {
     "duration": 38.240635,
     "end_time": "2024-02-23T18:34:36.112010",
     "exception": false,
     "start_time": "2024-02-23T18:33:57.871375",
     "status": "completed"
    },
    "tags": []
   },
   "outputs": [
    {
     "name": "stdout",
     "output_type": "stream",
     "text": [
      "Calculating beta group significance with method permanova and metric euclidean\n"
     ]
    },
    {
     "name": "stdout",
     "output_type": "stream",
     "text": [
      "DONE: Calculating beta group significance: permanova euclidean\n",
      "Calculating beta group significance with method permanova and metric dice\n"
     ]
    },
    {
     "name": "stdout",
     "output_type": "stream",
     "text": [
      "DONE: Calculating beta group significance: permanova dice\n",
      "Calculating beta group significance with method permanova and metric braycurtis\n"
     ]
    },
    {
     "name": "stdout",
     "output_type": "stream",
     "text": [
      "DONE: Calculating beta group significance: permanova braycurtis\n",
      "Calculating beta group significance with method permanova and metric matching\n"
     ]
    },
    {
     "name": "stdout",
     "output_type": "stream",
     "text": [
      "DONE: Calculating beta group significance: permanova matching\n",
      "Calculating beta group significance with method permanova and metric jaccard\n"
     ]
    },
    {
     "name": "stdout",
     "output_type": "stream",
     "text": [
      "DONE: Calculating beta group significance: permanova jaccard\n",
      "Calculating beta group significance with method anosim and metric euclidean\n"
     ]
    },
    {
     "name": "stdout",
     "output_type": "stream",
     "text": [
      "DONE: Calculating beta group significance: anosim euclidean\n",
      "Calculating beta group significance with method anosim and metric dice\n"
     ]
    },
    {
     "name": "stdout",
     "output_type": "stream",
     "text": [
      "DONE: Calculating beta group significance: anosim dice\n",
      "Calculating beta group significance with method anosim and metric braycurtis\n"
     ]
    },
    {
     "name": "stdout",
     "output_type": "stream",
     "text": [
      "DONE: Calculating beta group significance: anosim braycurtis\n",
      "Calculating beta group significance with method anosim and metric matching\n"
     ]
    },
    {
     "name": "stdout",
     "output_type": "stream",
     "text": [
      "DONE: Calculating beta group significance: anosim matching\n",
      "Calculating beta group significance with method anosim and metric jaccard\n"
     ]
    },
    {
     "name": "stdout",
     "output_type": "stream",
     "text": [
      "DONE: Calculating beta group significance: anosim jaccard\n",
      "Calculating beta group significance with method permdisp and metric euclidean\n"
     ]
    },
    {
     "name": "stderr",
     "output_type": "stream",
     "text": [
      "/home/lauro/anaconda3/envs/qiime2-2023.5/lib/python3.8/site-packages/skbio/stats/ordination/_principal_coordinate_analysis.py:143: RuntimeWarning: The result contains negative eigenvalues. Please compare their magnitude with the magnitude of some of the largest positive eigenvalues. If the negative ones are smaller, it's probably safe to ignore them, but if they are large in magnitude, the results won't be useful. See the Notes section for more details. The smallest eigenvalue is -9.99044438467861e-07 and the largest is 11536823374.382273.\n",
      "  warn(\n"
     ]
    },
    {
     "name": "stdout",
     "output_type": "stream",
     "text": [
      "DONE: Calculating beta group significance: permdisp euclidean\n",
      "Calculating beta group significance with method permdisp and metric dice\n"
     ]
    },
    {
     "name": "stdout",
     "output_type": "stream",
     "text": [
      "DONE: Calculating beta group significance: permdisp dice\n",
      "Calculating beta group significance with method permdisp and metric braycurtis\n"
     ]
    },
    {
     "name": "stdout",
     "output_type": "stream",
     "text": [
      "DONE: Calculating beta group significance: permdisp braycurtis\n",
      "Calculating beta group significance with method permdisp and metric matching\n"
     ]
    },
    {
     "name": "stderr",
     "output_type": "stream",
     "text": [
      "/home/lauro/anaconda3/envs/qiime2-2023.5/lib/python3.8/site-packages/skbio/stats/ordination/_principal_coordinate_analysis.py:143: RuntimeWarning: The result contains negative eigenvalues. Please compare their magnitude with the magnitude of some of the largest positive eigenvalues. If the negative ones are smaller, it's probably safe to ignore them, but if they are large in magnitude, the results won't be useful. See the Notes section for more details. The smallest eigenvalue is -0.003372422412257485 and the largest is 0.023227607212277006.\n",
      "  warn(\n"
     ]
    },
    {
     "name": "stderr",
     "output_type": "stream",
     "text": [
      "/home/lauro/anaconda3/envs/qiime2-2023.5/lib/python3.8/site-packages/skbio/stats/ordination/_principal_coordinate_analysis.py:143: RuntimeWarning: The result contains negative eigenvalues. Please compare their magnitude with the magnitude of some of the largest positive eigenvalues. If the negative ones are smaller, it's probably safe to ignore them, but if they are large in magnitude, the results won't be useful. See the Notes section for more details. The smallest eigenvalue is -0.0027310511466533665 and the largest is 0.021550001936490197.\n",
      "  warn(\n"
     ]
    },
    {
     "name": "stderr",
     "output_type": "stream",
     "text": [
      "/home/lauro/anaconda3/envs/qiime2-2023.5/lib/python3.8/site-packages/skbio/stats/ordination/_principal_coordinate_analysis.py:143: RuntimeWarning: The result contains negative eigenvalues. Please compare their magnitude with the magnitude of some of the largest positive eigenvalues. If the negative ones are smaller, it's probably safe to ignore them, but if they are large in magnitude, the results won't be useful. See the Notes section for more details. The smallest eigenvalue is -0.002625029547973049 and the largest is 0.02063557042739464.\n",
      "  warn(\n"
     ]
    },
    {
     "name": "stdout",
     "output_type": "stream",
     "text": [
      "DONE: Calculating beta group significance: permdisp matching\n",
      "Calculating beta group significance with method permdisp and metric jaccard\n"
     ]
    },
    {
     "name": "stdout",
     "output_type": "stream",
     "text": [
      "DONE: Calculating beta group significance: permdisp jaccard\n"
     ]
    },
    {
     "data": {
      "text/plain": [
       "<Figure size 640x480 with 0 Axes>"
      ]
     },
     "metadata": {},
     "output_type": "display_data"
    }
   ],
   "source": [
    "methods = ('permanova', 'anosim', 'permdisp')\n",
    "for method in methods:\n",
    "    for metric, beta_diversity in beta_diversities.items():\n",
    "        print(f'Calculating beta group significance with method {method} and metric {metric}')\n",
    "        try:\n",
    "            beta_view = beta_group_significance(distance_matrix=beta_diversity, \n",
    "                                                metadata=metadata_qa.get_column(class_col), \n",
    "                                                pairwise=True, method=method).visualization\n",
    "            view_name = os.path.join(beta_path, f'beta-group-significance-{metric}-{method}.qzv')\n",
    "            beta_view.save(view_name)\n",
    "            print(f\"DONE: Calculating beta group significance: {method} {metric}\")\n",
    "        except Exception as e:\n",
    "            print(f\"ERROR: Calculating beta group significance: {method} {metric}\")"
   ]
  },
  {
   "cell_type": "code",
   "execution_count": 19,
   "id": "6366725e",
   "metadata": {
    "execution": {
     "iopub.execute_input": "2024-02-23T18:34:36.127457Z",
     "iopub.status.busy": "2024-02-23T18:34:36.127279Z",
     "iopub.status.idle": "2024-02-23T18:35:06.500795Z",
     "shell.execute_reply": "2024-02-23T18:35:06.500469Z"
    },
    "papermill": {
     "duration": 30.389707,
     "end_time": "2024-02-23T18:35:06.509175",
     "exception": false,
     "start_time": "2024-02-23T18:34:36.119468",
     "status": "completed"
    },
    "tags": []
   },
   "outputs": [
    {
     "name": "stdout",
     "output_type": "stream",
     "text": [
      "Calculating beta group significance with method permanova and metric unweighted_unifrac_distance_matrix\n"
     ]
    },
    {
     "name": "stdout",
     "output_type": "stream",
     "text": [
      "DONE: Calculating beta group significance: permanova unweighted_unifrac_distance_matrix\n",
      "Calculating beta group significance with method permanova and metric weighted_unifrac_distance_matrix\n"
     ]
    },
    {
     "name": "stdout",
     "output_type": "stream",
     "text": [
      "DONE: Calculating beta group significance: permanova weighted_unifrac_distance_matrix\n",
      "Calculating beta group significance with method permanova and metric jaccard_distance_matrix\n"
     ]
    },
    {
     "name": "stdout",
     "output_type": "stream",
     "text": [
      "DONE: Calculating beta group significance: permanova jaccard_distance_matrix\n",
      "Calculating beta group significance with method permanova and metric bray_curtis_distance_matrix\n"
     ]
    },
    {
     "name": "stdout",
     "output_type": "stream",
     "text": [
      "DONE: Calculating beta group significance: permanova bray_curtis_distance_matrix\n",
      "Calculating beta group significance with method anosim and metric unweighted_unifrac_distance_matrix\n"
     ]
    },
    {
     "name": "stdout",
     "output_type": "stream",
     "text": [
      "DONE: Calculating beta group significance: anosim unweighted_unifrac_distance_matrix\n",
      "Calculating beta group significance with method anosim and metric weighted_unifrac_distance_matrix\n"
     ]
    },
    {
     "name": "stdout",
     "output_type": "stream",
     "text": [
      "DONE: Calculating beta group significance: anosim weighted_unifrac_distance_matrix\n",
      "Calculating beta group significance with method anosim and metric jaccard_distance_matrix\n"
     ]
    },
    {
     "name": "stdout",
     "output_type": "stream",
     "text": [
      "DONE: Calculating beta group significance: anosim jaccard_distance_matrix\n",
      "Calculating beta group significance with method anosim and metric bray_curtis_distance_matrix\n"
     ]
    },
    {
     "name": "stdout",
     "output_type": "stream",
     "text": [
      "DONE: Calculating beta group significance: anosim bray_curtis_distance_matrix\n",
      "Calculating beta group significance with method permdisp and metric unweighted_unifrac_distance_matrix\n"
     ]
    },
    {
     "name": "stderr",
     "output_type": "stream",
     "text": [
      "/home/lauro/anaconda3/envs/qiime2-2023.5/lib/python3.8/site-packages/skbio/stats/ordination/_principal_coordinate_analysis.py:143: RuntimeWarning: The result contains negative eigenvalues. Please compare their magnitude with the magnitude of some of the largest positive eigenvalues. If the negative ones are smaller, it's probably safe to ignore them, but if they are large in magnitude, the results won't be useful. See the Notes section for more details. The smallest eigenvalue is -0.019202668676472353 and the largest is 1.56284346707636.\n",
      "  warn(\n"
     ]
    },
    {
     "name": "stderr",
     "output_type": "stream",
     "text": [
      "/home/lauro/anaconda3/envs/qiime2-2023.5/lib/python3.8/site-packages/skbio/stats/ordination/_principal_coordinate_analysis.py:143: RuntimeWarning: The result contains negative eigenvalues. Please compare their magnitude with the magnitude of some of the largest positive eigenvalues. If the negative ones are smaller, it's probably safe to ignore them, but if they are large in magnitude, the results won't be useful. See the Notes section for more details. The smallest eigenvalue is -0.011502537631627004 and the largest is 1.3312366969837148.\n",
      "  warn(\n"
     ]
    },
    {
     "name": "stderr",
     "output_type": "stream",
     "text": [
      "/home/lauro/anaconda3/envs/qiime2-2023.5/lib/python3.8/site-packages/skbio/stats/ordination/_principal_coordinate_analysis.py:143: RuntimeWarning: The result contains negative eigenvalues. Please compare their magnitude with the magnitude of some of the largest positive eigenvalues. If the negative ones are smaller, it's probably safe to ignore them, but if they are large in magnitude, the results won't be useful. See the Notes section for more details. The smallest eigenvalue is -0.014378941205071823 and the largest is 1.389453010046319.\n",
      "  warn(\n"
     ]
    },
    {
     "name": "stdout",
     "output_type": "stream",
     "text": [
      "DONE: Calculating beta group significance: permdisp unweighted_unifrac_distance_matrix\n",
      "Calculating beta group significance with method permdisp and metric weighted_unifrac_distance_matrix\n"
     ]
    },
    {
     "name": "stderr",
     "output_type": "stream",
     "text": [
      "/home/lauro/anaconda3/envs/qiime2-2023.5/lib/python3.8/site-packages/skbio/stats/ordination/_principal_coordinate_analysis.py:143: RuntimeWarning: The result contains negative eigenvalues. Please compare their magnitude with the magnitude of some of the largest positive eigenvalues. If the negative ones are smaller, it's probably safe to ignore them, but if they are large in magnitude, the results won't be useful. See the Notes section for more details. The smallest eigenvalue is -0.07362544036799257 and the largest is 2.174044661313353.\n",
      "  warn(\n"
     ]
    },
    {
     "name": "stderr",
     "output_type": "stream",
     "text": [
      "/home/lauro/anaconda3/envs/qiime2-2023.5/lib/python3.8/site-packages/skbio/stats/ordination/_principal_coordinate_analysis.py:143: RuntimeWarning: The result contains negative eigenvalues. Please compare their magnitude with the magnitude of some of the largest positive eigenvalues. If the negative ones are smaller, it's probably safe to ignore them, but if they are large in magnitude, the results won't be useful. See the Notes section for more details. The smallest eigenvalue is -0.030710505162608377 and the largest is 1.0624735957390294.\n",
      "  warn(\n"
     ]
    },
    {
     "name": "stderr",
     "output_type": "stream",
     "text": [
      "/home/lauro/anaconda3/envs/qiime2-2023.5/lib/python3.8/site-packages/skbio/stats/ordination/_principal_coordinate_analysis.py:143: RuntimeWarning: The result contains negative eigenvalues. Please compare their magnitude with the magnitude of some of the largest positive eigenvalues. If the negative ones are smaller, it's probably safe to ignore them, but if they are large in magnitude, the results won't be useful. See the Notes section for more details. The smallest eigenvalue is -0.0592774137154556 and the largest is 1.6659888407947.\n",
      "  warn(\n"
     ]
    },
    {
     "name": "stderr",
     "output_type": "stream",
     "text": [
      "/home/lauro/anaconda3/envs/qiime2-2023.5/lib/python3.8/site-packages/skbio/stats/ordination/_principal_coordinate_analysis.py:143: RuntimeWarning: The result contains negative eigenvalues. Please compare their magnitude with the magnitude of some of the largest positive eigenvalues. If the negative ones are smaller, it's probably safe to ignore them, but if they are large in magnitude, the results won't be useful. See the Notes section for more details. The smallest eigenvalue is -0.05803063444446342 and the largest is 1.7627339790653584.\n",
      "  warn(\n"
     ]
    },
    {
     "name": "stdout",
     "output_type": "stream",
     "text": [
      "DONE: Calculating beta group significance: permdisp weighted_unifrac_distance_matrix\n",
      "Calculating beta group significance with method permdisp and metric jaccard_distance_matrix\n"
     ]
    },
    {
     "name": "stdout",
     "output_type": "stream",
     "text": [
      "DONE: Calculating beta group significance: permdisp jaccard_distance_matrix\n",
      "Calculating beta group significance with method permdisp and metric bray_curtis_distance_matrix\n"
     ]
    },
    {
     "name": "stdout",
     "output_type": "stream",
     "text": [
      "DONE: Calculating beta group significance: permdisp bray_curtis_distance_matrix\n"
     ]
    },
    {
     "data": {
      "text/plain": [
       "<Figure size 640x480 with 0 Axes>"
      ]
     },
     "metadata": {},
     "output_type": "display_data"
    }
   ],
   "source": [
    "# Expand tests using UNIFRAC metrics\n",
    "methods = ('permanova', 'anosim', 'permdisp')\n",
    "for method in methods:\n",
    "    for metric, beta_diversity in distance_matrix.items():\n",
    "        print(f'Calculating beta group significance with method {method} and metric {metric}')\n",
    "        try:\n",
    "            beta_view = beta_group_significance(distance_matrix=beta_diversity, \n",
    "                                                metadata=metadata_qa.get_column(class_col), \n",
    "                                                pairwise=True, method=method).visualization\n",
    "            view_name = os.path.join(beta_path, f'beta-group-significance-{metric}-{method}.qzv')\n",
    "            beta_view.save(view_name)\n",
    "            print(f\"DONE: Calculating beta group significance: {method} {metric}\")\n",
    "        except Exception as e:\n",
    "            print(f\"ERROR: Calculating beta group significance: {method} {metric}\")"
   ]
  },
  {
   "cell_type": "markdown",
   "id": "c0de85cf",
   "metadata": {
    "papermill": {
     "duration": 0.00779,
     "end_time": "2024-02-23T18:35:06.525585",
     "exception": false,
     "start_time": "2024-02-23T18:35:06.517795",
     "status": "completed"
    },
    "tags": []
   },
   "source": [
    "### Beta group Rarefaction\n",
    "\n",
    "- [diversity beta_rarefaction](https://docs.qiime2.org/2022.8/plugins/available/diversity/beta-rarefaction/): Repeatedly rarefy a feature table to compare beta diversity results within a given rarefaction depth.  For a given beta diversity metric, this visualizer will provide: an Emperor jackknifed PCoA plot, samples clustered by UPGMA or neighbor joining with support calculation, and a heatmap showing the correlation between rarefaction trials of that beta diversity metric."
   ]
  }
 ],
 "metadata": {
  "celltoolbar": "Edit Metadata",
  "kernelspec": {
   "display_name": "Python 3 (ipykernel)",
   "language": "python",
   "name": "python3"
  },
  "language_info": {
   "codemirror_mode": {
    "name": "ipython",
    "version": 3
   },
   "file_extension": ".py",
   "mimetype": "text/x-python",
   "name": "python",
   "nbconvert_exporter": "python",
   "pygments_lexer": "ipython3",
   "version": "3.8.16"
  },
  "papermill": {
   "default_parameters": {},
   "duration": 107.478523,
   "end_time": "2024-02-23T18:35:07.451727",
   "environment_variables": {},
   "exception": null,
   "input_path": "nb-templates/step-diversity-analysis.ipynb",
   "output_path": "/mnt/nupeb/rede-micro/redemicro-thayane/experiments/thayane-meno-joined/nb-executed-steps/step-diversity-analysis-thayane-meno-joined.ipynb",
   "parameters": {
    "base_dir": "/mnt/nupeb/rede-micro/redemicro-thayane",
    "class_col": "class",
    "classifier_file": "/mnt/nupeb/rede-micro/datasets/16S_classifiers_qiime2/silva-138-99-nb-classifier.qza",
    "experiment_name": "thayane-meno-joined",
    "manifest_file": "/mnt/nupeb/rede-micro/redemicro-thayane/data/manifest-paired.csv",
    "metadata_file": "/mnt/nupeb/rede-micro/redemicro-thayane/data/metadata-meno-joined.tsv",
    "overlap": 12,
    "phred": 20,
    "replace_files": false,
    "threads": 6,
    "trim": {
     "forward_primer": "CCTACGGGRSGCAGCAG",
     "overlap": 8,
     "reverse_primer": "GGACTACHVGGGTWTCTAAT"
    },
    "trunc_f": 0,
    "trunc_r": 0
   },
   "start_time": "2024-02-23T18:33:19.973204",
   "version": "2.4.0"
  }
 },
 "nbformat": 4,
 "nbformat_minor": 5
}