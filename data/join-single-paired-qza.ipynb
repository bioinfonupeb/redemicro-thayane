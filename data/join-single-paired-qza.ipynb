{
 "cells": [
  {
   "cell_type": "code",
   "execution_count": 1,
   "id": "4117b9dd",
   "metadata": {},
   "outputs": [],
   "source": [
    "# Importing packages\n",
    "import os\n",
    "import yaml\n",
    "import logging\n",
    "import pandas as pd\n",
    "from qiime2 import Artifact\n",
    "from qiime2 import Visualization\n",
    "from qiime2 import Metadata\n",
    "import qiime2.plugins.dada2.actions as dada2_actions\n",
    "import qiime2.plugins.metadata.actions as metadata_actions\n",
    "from qiime2.plugins.feature_table.visualizers import tabulate_seqs\n",
    "from qiime2.plugins.feature_table.visualizers import summarize\n",
    "from qiime2.plugins.feature_table.visualizers import core_features\n",
    "\n",
    "from qiime2.plugins.feature_table.methods import merge\n",
    "from qiime2.plugins.feature_table.methods import merge_seqs\n",
    "from qiime2.plugins.feature_table.methods import merge_taxa\n",
    "\n",
    "from qiime2.plugins.feature_table.methods import filter_samples\n",
    "from qiime2.plugins.feature_table.methods import filter_seqs\n",
    "\n",
    "import matplotlib.pyplot as plt\n",
    "\n",
    "%matplotlib inline"
   ]
  },
  {
   "cell_type": "code",
   "execution_count": 3,
   "id": "226344c6",
   "metadata": {},
   "outputs": [],
   "source": [
    "experiment_name = \"thayane-PM-joined\"\n",
    "base_dir = \"/mnt/nupeb/rede-micro/redemicro-thayane\"\n",
    "interim_dir = f\"{base_dir}/data/interim\"\n",
    "\n",
    "metadata_path = f'{base_dir}/data/metadata-meno-joined-hist.tsv'\n",
    "\n",
    "single_end_path = f\"{base_dir}/experiments/thayane-PM-single-end-trim/qiime-artifacts/\"\n",
    "paired_end_path = f\"{base_dir}/experiments/thayane-meno-joined/qiime-artifacts/bkp-paired-meno\""
   ]
  },
  {
   "cell_type": "code",
   "execution_count": 4,
   "id": "833ca920",
   "metadata": {},
   "outputs": [
    {
     "data": {
      "text/html": [
       "<div>\n",
       "<style scoped>\n",
       "    .dataframe tbody tr th:only-of-type {\n",
       "        vertical-align: middle;\n",
       "    }\n",
       "\n",
       "    .dataframe tbody tr th {\n",
       "        vertical-align: top;\n",
       "    }\n",
       "\n",
       "    .dataframe thead th {\n",
       "        text-align: right;\n",
       "    }\n",
       "</style>\n",
       "<table border=\"1\" class=\"dataframe\">\n",
       "  <thead>\n",
       "    <tr style=\"text-align: right;\">\n",
       "      <th></th>\n",
       "      <th>age</th>\n",
       "      <th>class</th>\n",
       "    </tr>\n",
       "    <tr>\n",
       "      <th>sample-id</th>\n",
       "      <th></th>\n",
       "      <th></th>\n",
       "    </tr>\n",
       "  </thead>\n",
       "  <tbody>\n",
       "    <tr>\n",
       "      <th>M05</th>\n",
       "      <td>56.0</td>\n",
       "      <td>3</td>\n",
       "    </tr>\n",
       "    <tr>\n",
       "      <th>M33</th>\n",
       "      <td>52.0</td>\n",
       "      <td>3</td>\n",
       "    </tr>\n",
       "    <tr>\n",
       "      <th>M34</th>\n",
       "      <td>58.0</td>\n",
       "      <td>3</td>\n",
       "    </tr>\n",
       "    <tr>\n",
       "      <th>M35</th>\n",
       "      <td>58.0</td>\n",
       "      <td>3</td>\n",
       "    </tr>\n",
       "    <tr>\n",
       "      <th>M36</th>\n",
       "      <td>46.0</td>\n",
       "      <td>1</td>\n",
       "    </tr>\n",
       "    <tr>\n",
       "      <th>...</th>\n",
       "      <td>...</td>\n",
       "      <td>...</td>\n",
       "    </tr>\n",
       "    <tr>\n",
       "      <th>M03</th>\n",
       "      <td>59.0</td>\n",
       "      <td>3</td>\n",
       "    </tr>\n",
       "    <tr>\n",
       "      <th>M06</th>\n",
       "      <td>62.0</td>\n",
       "      <td>3</td>\n",
       "    </tr>\n",
       "    <tr>\n",
       "      <th>M09</th>\n",
       "      <td>53.0</td>\n",
       "      <td>3</td>\n",
       "    </tr>\n",
       "    <tr>\n",
       "      <th>M12</th>\n",
       "      <td>56.0</td>\n",
       "      <td>3</td>\n",
       "    </tr>\n",
       "    <tr>\n",
       "      <th>M19</th>\n",
       "      <td>58.0</td>\n",
       "      <td>3</td>\n",
       "    </tr>\n",
       "  </tbody>\n",
       "</table>\n",
       "<p>82 rows × 2 columns</p>\n",
       "</div>"
      ],
      "text/plain": [
       "            age class\n",
       "sample-id            \n",
       "M05        56.0     3\n",
       "M33        52.0     3\n",
       "M34        58.0     3\n",
       "M35        58.0     3\n",
       "M36        46.0     1\n",
       "...         ...   ...\n",
       "M03        59.0     3\n",
       "M06        62.0     3\n",
       "M09        53.0     3\n",
       "M12        56.0     3\n",
       "M19        58.0     3\n",
       "\n",
       "[82 rows x 2 columns]"
      ]
     },
     "execution_count": 4,
     "metadata": {},
     "output_type": "execute_result"
    }
   ],
   "source": [
    "metadata_artifact = Metadata.load(metadata_path)\n",
    "metadata_artifact.to_dataframe()"
   ]
  },
  {
   "cell_type": "code",
   "execution_count": 5,
   "id": "ab312d37",
   "metadata": {},
   "outputs": [],
   "source": [
    "single_tabs = Artifact.load(f\"{single_end_path}/dada2-tabs.qza\")\n",
    "single_reps = Artifact.load(f\"{single_end_path}/dada2-reps.qza\")\n",
    "\n",
    "paired_tabs = Artifact.load(f\"{paired_end_path}/dada2-tabs.qza\")\n",
    "paired_reps = Artifact.load(f\"{paired_end_path}/dada2-reps.qza\")"
   ]
  },
  {
   "cell_type": "code",
   "execution_count": 6,
   "id": "ffe557b2",
   "metadata": {},
   "outputs": [
    {
     "data": {
      "text/plain": [
       "(82, 2963)"
      ]
     },
     "execution_count": 6,
     "metadata": {},
     "output_type": "execute_result"
    }
   ],
   "source": [
    "# Merge feature tables\n",
    "merged_feature_table = merge(\n",
    "    tables = [single_tabs, paired_tabs],\n",
    ").merged_table\n",
    "merged_feature_table.view(pd.DataFrame).shape"
   ]
  },
  {
   "cell_type": "code",
   "execution_count": 7,
   "id": "4b32b1c2",
   "metadata": {},
   "outputs": [
    {
     "name": "stderr",
     "output_type": "stream",
     "text": [
      "/home/lauro/anaconda3/envs/qiime2-2023.5/lib/python3.8/site-packages/q2_types/feature_data/_transformer.py:258: FutureWarning: iteritems is deprecated and will be removed in a future version. Use .items instead.\n",
      "  for id_, seq in data.iteritems():\n"
     ]
    },
    {
     "data": {
      "text/plain": [
       "(2963,)"
      ]
     },
     "execution_count": 7,
     "metadata": {},
     "output_type": "execute_result"
    }
   ],
   "source": [
    "# Merge sequences\n",
    "merged_sequences = merge_seqs(\n",
    "    data = [single_reps, paired_reps]\n",
    ").merged_data\n",
    "merged_sequences.view(pd.Series).shape"
   ]
  },
  {
   "cell_type": "code",
   "execution_count": 9,
   "id": "1954187c",
   "metadata": {},
   "outputs": [
    {
     "data": {
      "text/plain": [
       "Index(['M01', 'M03', 'M06', 'M09', 'M12', 'M19', 'M05', 'M07', 'M100', 'M102',\n",
       "       'M103', 'M105', 'M106', 'M107', 'M109', 'M111', 'M112', 'M113', 'M116',\n",
       "       'M117', 'M120', 'M121', 'M122', 'M124', 'M125', 'M126', 'M129', 'M130',\n",
       "       'M133', 'M134', 'M135', 'M138', 'M140', 'M141', 'M143', 'M144', 'M148',\n",
       "       'M150', 'M151', 'M155', 'M156', 'M160', 'M162', 'M164', 'M33', 'M34',\n",
       "       'M35', 'M36', 'M37', 'M38', 'M39', 'M40', 'M44', 'M45', 'M46', 'M47',\n",
       "       'M49', 'M52', 'M55', 'M56', 'M57', 'M58', 'M60', 'M64', 'M67', 'M69',\n",
       "       'M72', 'M73', 'M75', 'M76', 'M77', 'M78', 'M79', 'M80', 'M86', 'M88',\n",
       "       'M91', 'M93', 'M95', 'M97', 'M98', 'M99'],\n",
       "      dtype='object')"
      ]
     },
     "execution_count": 9,
     "metadata": {},
     "output_type": "execute_result"
    }
   ],
   "source": [
    "merged_feature_table.view(pd.DataFrame).index"
   ]
  },
  {
   "cell_type": "code",
   "execution_count": 10,
   "id": "c53ee7dc",
   "metadata": {},
   "outputs": [
    {
     "data": {
      "text/plain": [
       "'/mnt/nupeb/rede-micro/redemicro-thayane/data/interim/joined-meno-tabs.qzv'"
      ]
     },
     "execution_count": 10,
     "metadata": {},
     "output_type": "execute_result"
    }
   ],
   "source": [
    "# Create view and save frequency table\n",
    "merged_feature_table.save(os.path.join(interim_dir, 'joined-meno-tabs.qza'))\n",
    "tabs_view = summarize(table=merged_feature_table, sample_metadata=metadata_artifact).visualization\n",
    "tabs_view.save(os.path.join(interim_dir, 'joined-meno-tabs.qzv'))"
   ]
  },
  {
   "cell_type": "code",
   "execution_count": 11,
   "id": "54345633",
   "metadata": {},
   "outputs": [
    {
     "data": {
      "text/plain": [
       "'/mnt/nupeb/rede-micro/redemicro-thayane/data/interim/joined-meno-reps.qzv'"
      ]
     },
     "execution_count": 11,
     "metadata": {},
     "output_type": "execute_result"
    }
   ],
   "source": [
    "# Create view and save representative sequences\n",
    "merged_sequences.save(os.path.join(interim_dir, 'joined-meno-reps.qza'))\n",
    "reps_view = tabulate_seqs(data=merged_sequences).visualization\n",
    "reps_view.save(os.path.join(interim_dir, 'joined-meno-reps.qzv'))"
   ]
  },
  {
   "cell_type": "code",
   "execution_count": 9,
   "id": "45e344a6",
   "metadata": {},
   "outputs": [
    {
     "data": {
      "text/plain": [
       "'/mnt/nupeb/rede-micro/redemicro-thayane/experiments/thayane-meno-joined/qiime-artifacts/dada2-reps.qzv'"
      ]
     },
     "execution_count": 9,
     "metadata": {},
     "output_type": "execute_result"
    }
   ],
   "source": [
    "qiime_path = f\"{base_dir}/experiments/thayane-meno-joined/qiime-artifacts\"\n",
    "\n",
    "merged_feature_table.save(os.path.join(qiime_path, 'dada2-tabs.qza'))\n",
    "tabs_view.save(os.path.join(qiime_path, 'dada2-tabs.qzv'))\n",
    "\n",
    "merged_sequences.save(os.path.join(qiime_path, 'dada2-reps.qza'))\n",
    "reps_view.save(os.path.join(qiime_path, 'dada2-reps.qzv'))"
   ]
  },
  {
   "cell_type": "code",
   "execution_count": 15,
   "id": "c182f7fc",
   "metadata": {},
   "outputs": [
    {
     "name": "stdout",
     "output_type": "stream",
     "text": [
      "total 8.2M\r\n",
      "drwxrwxr-x+ 6 lauro redeminas 4.0K Feb 23 20:02 .\r\n",
      "drwxrwxr-x+ 6 lauro redeminas 4.0K Feb 23 18:21 ..\r\n",
      "drwxrwxr-x+ 2 lauro lauro     4.0K Feb 23 18:33 alpha-analysis\r\n",
      "-rw-rw-r--+ 1 lauro lauro     352K Feb 23 18:20 alpha-rarefaction.qzv\r\n",
      "-rw-rw-r--+ 1 lauro lauro     722K Feb 23 20:02 ancom-clr-f_statistic.qzv\r\n",
      "-rw-rw-r--+ 1 lauro lauro     697K Feb 23 19:33 ancom-log-f_statistic.qzv\r\n",
      "-rw-rw-r--+ 1 lauro lauro     697K Feb 23 19:04 ancom-sqrt-f_statistic.qzv\r\n",
      "drwxrwxr-x+ 2 lauro lauro     4.0K Feb 23 18:35 beta-analysis\r\n",
      "-rw-rw-r--+ 1 lauro lauro     854K Feb 23 18:20 beta-rarefaction-braycurtis-nj-spearman-564.qzv\r\n",
      "drwxrwxr-x+ 2 lauro lauro     4.0K Feb 23 18:05 bkp-paired-meno\r\n",
      "drwxrwxr-x+ 2 lauro lauro     4.0K Feb 23 18:06 bkp-single-meno\r\n",
      "-rw-rw-r--+ 1 lauro lauro     289K Feb 23 18:19 dada2-reps.qza\r\n",
      "-rw-rw-r--+ 1 lauro lauro     789K Feb 23 18:19 dada2-reps.qzv\r\n",
      "-rw-rw-r--+ 1 lauro lauro     210K Feb 23 18:19 dada2-tabs.qza\r\n",
      "-rw-rw-r--+ 1 lauro lauro     577K Feb 23 18:19 dada2-tabs.qzv\r\n",
      "-rw-rw-r--+ 1 lauro lauro     1.2M Feb 23 18:27 metatax-bar.qzv\r\n",
      "-rw-rw-r--+ 1 lauro lauro     254K Feb 23 18:27 metatax.qza\r\n",
      "-rw-rw-r--+ 1 lauro lauro     1.7M Feb 23 18:27 metatax.qzv\r\n"
     ]
    }
   ],
   "source": [
    "!ls -lah {qiime_path}"
   ]
  }
 ],
 "metadata": {
  "kernelspec": {
   "display_name": "Python 3 (ipykernel)",
   "language": "python",
   "name": "python3"
  },
  "language_info": {
   "codemirror_mode": {
    "name": "ipython",
    "version": 3
   },
   "file_extension": ".py",
   "mimetype": "text/x-python",
   "name": "python",
   "nbconvert_exporter": "python",
   "pygments_lexer": "ipython3",
   "version": "3.8.16"
  }
 },
 "nbformat": 4,
 "nbformat_minor": 5
}
