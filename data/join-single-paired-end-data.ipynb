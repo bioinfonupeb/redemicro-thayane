{
 "cells": [
  {
   "cell_type": "code",
   "execution_count": 1,
   "id": "c679d1ea",
   "metadata": {
    "ExecuteTime": {
     "end_time": "2023-03-13T15:43:27.262892Z",
     "start_time": "2023-03-13T15:43:19.921549Z"
    }
   },
   "outputs": [],
   "source": [
    "# Importing packages\n",
    "import os\n",
    "import yaml\n",
    "import logging\n",
    "import pandas as pd\n",
    "from qiime2 import Artifact\n",
    "from qiime2 import Visualization\n",
    "from qiime2 import Metadata\n",
    "import qiime2.plugins.dada2.actions as dada2_actions\n",
    "import qiime2.plugins.metadata.actions as metadata_actions\n",
    "from qiime2.plugins.feature_table.visualizers import tabulate_seqs\n",
    "from qiime2.plugins.feature_table.visualizers import summarize\n",
    "from qiime2.plugins.feature_table.visualizers import core_features\n",
    "\n",
    "from qiime2.plugins.feature_table.methods import merge\n",
    "from qiime2.plugins.feature_table.methods import merge_seqs\n",
    "from qiime2.plugins.feature_table.methods import merge_taxa\n",
    "\n",
    "from qiime2.plugins.feature_table.methods import filter_samples\n",
    "from qiime2.plugins.feature_table.methods import filter_seqs\n",
    "\n",
    "import matplotlib.pyplot as plt\n",
    "\n",
    "%matplotlib inline"
   ]
  },
  {
   "cell_type": "code",
   "execution_count": 2,
   "id": "f5a968de",
   "metadata": {
    "ExecuteTime": {
     "end_time": "2023-03-13T15:43:28.943855Z",
     "start_time": "2023-03-13T15:43:28.936993Z"
    }
   },
   "outputs": [],
   "source": [
    "# Parameters\n",
    "experiment_name = \"thayane-PM\"\n",
    "base_dir = \"/home/lauro/nupeb/rede-micro/redemicro-thayane\"\n",
    "manifest_file = \"/home/lauro/nupeb/rede-micro/redemicro-thayane/data/manifest.csv\"\n",
    "metadata_file = \"/home/lauro/nupeb/rede-micro/redemicro-thayane/data/metadata.tsv\"\n",
    "class_col = \"sample-id\"\n",
    "classifier_file = \"/home/lauro/nupeb/dados_brutos_rede_genoma/16S_classifiers_qiime2/silva-138-99-nb-classifier.qza\"\n",
    "replace_files = False\n",
    "phred = 20\n",
    "trunc_f = 0\n",
    "trunc_r = 0\n",
    "overlap = 12\n",
    "threads = 6"
   ]
  },
  {
   "cell_type": "code",
   "execution_count": 3,
   "id": "d0826d07",
   "metadata": {
    "ExecuteTime": {
     "end_time": "2023-03-13T15:43:30.546913Z",
     "start_time": "2023-03-13T15:43:30.537120Z"
    }
   },
   "outputs": [],
   "source": [
    "# Define paths\n",
    "\n",
    "experiment_folder = os.path.abspath(os.path.join(base_dir, 'experiments', experiment_name))\n",
    "img_folder = os.path.abspath(os.path.join(experiment_folder, 'imgs'))\n",
    "qiime_folder = os.path.join(experiment_folder, 'qiime-artifacts')\n",
    "\n",
    "input_path = {'single-end': {}, 'paired-end': {}}\n",
    "\n",
    "# Original Single-End files\n",
    "se_metadata_path = \"/home/lauro/nupeb/rede-micro/redemicro-thayane/data/metadata.tsv\"\n",
    "input_path['single-end']['tab'] = os.path.join(qiime_folder, 'dada2-tabs.qza')\n",
    "input_path['single-end']['seq'] = os.path.join(qiime_folder, 'dada2-reps.qza')\n",
    "\n",
    "# Original Paired-End files\n",
    "pe_metadata_path = \"/home/lauro/nupeb/dados_brutos_rede_genoma/metadata/metadata-feces.tsv\"\n",
    "pe_path = '/home/lauro/nupeb/dados_brutos_rede_genoma/qiime_analisys'\n",
    "input_path['paired-end']['tab'] = os.path.join(pe_path, 'fezes_demux_paired_dada2_tabs.qza')\n",
    "input_path['paired-end']['seq'] = os.path.join(pe_path, 'fezes_demux_paired_dada2_reps.qza')"
   ]
  },
  {
   "cell_type": "code",
   "execution_count": 4,
   "id": "f7004266",
   "metadata": {
    "ExecuteTime": {
     "end_time": "2023-03-13T15:43:32.773520Z",
     "start_time": "2023-03-13T15:43:32.553150Z"
    }
   },
   "outputs": [],
   "source": [
    "# Load artifacts\n",
    "se_metadata_artifact = Metadata.load(se_metadata_path)\n",
    "pe_metadata_artifact = Metadata.load(pe_metadata_path)\n",
    "\n",
    "\n",
    "input_artifact = {'single-end': {}, 'paired-end': {}}\n",
    "\n",
    "# Original Single-End files\n",
    "input_artifact['single-end']['tab'] = Artifact.load(input_path['single-end']['tab'])\n",
    "input_artifact['single-end']['seq'] = Artifact.load(input_path['single-end']['seq'])\n",
    "\n",
    "# Original Paired-End files\n",
    "input_artifact['paired-end']['tab'] = Artifact.load(input_path['paired-end']['tab'])\n",
    "input_artifact['paired-end']['seq'] = Artifact.load(input_path['paired-end']['seq'])\n"
   ]
  },
  {
   "cell_type": "code",
   "execution_count": 5,
   "id": "87aef871",
   "metadata": {
    "ExecuteTime": {
     "end_time": "2023-03-13T15:43:34.387321Z",
     "start_time": "2023-03-13T15:43:34.360690Z"
    }
   },
   "outputs": [],
   "source": [
    "all_ids = set(input_artifact['single-end']['tab'].view(pd.DataFrame).index)"
   ]
  },
  {
   "cell_type": "markdown",
   "id": "d4214976",
   "metadata": {},
   "source": [
    "## Filter exclusively Single-End samples"
   ]
  },
  {
   "cell_type": "code",
   "execution_count": 6,
   "id": "8fbfff80",
   "metadata": {
    "ExecuteTime": {
     "end_time": "2023-03-13T15:43:36.741269Z",
     "start_time": "2023-03-13T15:43:36.721062Z"
    }
   },
   "outputs": [
    {
     "data": {
      "text/plain": [
       "Index(['M01', 'M03', 'M06', 'M09', 'M12', 'M19'], dtype='object', name='sample-id')"
      ]
     },
     "execution_count": 6,
     "metadata": {},
     "output_type": "execute_result"
    }
   ],
   "source": [
    "# Select metadata rows\n",
    "se_to_keep = ['M01', 'M03', 'M06', 'M09', 'M12', 'M19']\n",
    "se_metadata = se_metadata_artifact.filter_ids(ids_to_keep=se_to_keep)\n",
    "se_metadata.to_dataframe().index"
   ]
  },
  {
   "cell_type": "code",
   "execution_count": 7,
   "id": "9b567bb5",
   "metadata": {
    "ExecuteTime": {
     "end_time": "2023-03-13T15:43:40.501471Z",
     "start_time": "2023-03-13T15:43:40.368927Z"
    }
   },
   "outputs": [
    {
     "data": {
      "text/plain": [
       "(6, 231)"
      ]
     },
     "execution_count": 7,
     "metadata": {},
     "output_type": "execute_result"
    }
   ],
   "source": [
    "# Create filtered table\n",
    "se_filtered_table = filter_samples(\n",
    "    table = input_artifact['single-end']['tab'],\n",
    "    metadata = se_metadata,\n",
    ").filtered_table\n",
    "se_filtered_table.view(pd.DataFrame).shape"
   ]
  },
  {
   "cell_type": "code",
   "execution_count": 8,
   "id": "78a374dc",
   "metadata": {
    "ExecuteTime": {
     "end_time": "2023-03-13T15:43:44.650608Z",
     "start_time": "2023-03-13T15:43:44.312451Z"
    }
   },
   "outputs": [
    {
     "data": {
      "text/plain": [
       "(231,)"
      ]
     },
     "execution_count": 8,
     "metadata": {},
     "output_type": "execute_result"
    }
   ],
   "source": [
    "# Filter sequences for selected samples\n",
    "se_filtered_seqs = filter_seqs(\n",
    "    data = input_artifact['single-end']['seq'],\n",
    "    table = se_filtered_table,\n",
    ").filtered_bdata\n",
    "se_filtered_seqs.view(pd.Series).shape"
   ]
  },
  {
   "cell_type": "code",
   "execution_count": null,
   "id": "71c4f192",
   "metadata": {},
   "outputs": [],
   "source": []
  },
  {
   "cell_type": "markdown",
   "id": "cfa7bfb8",
   "metadata": {},
   "source": [
    "## Filter post-menopause Paired-End sample"
   ]
  },
  {
   "cell_type": "code",
   "execution_count": 8,
   "id": "6f7ecbef",
   "metadata": {
    "ExecuteTime": {
     "end_time": "2022-11-16T19:03:57.936888Z",
     "start_time": "2022-11-16T19:03:57.906688Z"
    }
   },
   "outputs": [
    {
     "data": {
      "text/plain": [
       "(38, 8)"
      ]
     },
     "execution_count": 8,
     "metadata": {},
     "output_type": "execute_result"
    }
   ],
   "source": [
    "# Select metadata rows\n",
    "pe_to_keep = all_ids - set(se_to_keep)\n",
    "ind_pe = input_artifact['paired-end']['tab'].view(pd.DataFrame).index\n",
    "pe_to_keep = [i for i in ind_pe if i.split('-')[1] in  pe_to_keep]\n",
    "pe_metadata = pe_metadata_artifact.filter_ids(ids_to_keep=pe_to_keep)\n",
    "pe_metadata.to_dataframe().shape"
   ]
  },
  {
   "cell_type": "code",
   "execution_count": 16,
   "id": "6aee71e8",
   "metadata": {
    "ExecuteTime": {
     "end_time": "2022-11-16T19:07:56.401385Z",
     "start_time": "2022-11-16T19:07:56.297086Z"
    }
   },
   "outputs": [
    {
     "data": {
      "text/plain": [
       "(38, 1420)"
      ]
     },
     "execution_count": 16,
     "metadata": {},
     "output_type": "execute_result"
    }
   ],
   "source": [
    "# Filter feature table for selected samples\n",
    "pe_filtered_table = filter_samples(\n",
    "    table = input_artifact['paired-end']['tab'],\n",
    "    metadata = pe_metadata,\n",
    ").filtered_table\n",
    "pe_filtered_table.view(pd.DataFrame).shape\n",
    "# pe_filtered_table.view(pd.DataFrame).columns"
   ]
  },
  {
   "cell_type": "code",
   "execution_count": 41,
   "id": "f6c80a91",
   "metadata": {
    "ExecuteTime": {
     "end_time": "2022-11-16T19:22:34.222490Z",
     "start_time": "2022-11-16T19:22:33.529573Z"
    }
   },
   "outputs": [
    {
     "data": {
      "text/plain": [
       "(1420,)"
      ]
     },
     "execution_count": 41,
     "metadata": {},
     "output_type": "execute_result"
    }
   ],
   "source": [
    "# Filter sequences for selected samples\n",
    "pe_filtered_seqs = filter_seqs(\n",
    "    data = input_artifact['paired-end']['seq'],\n",
    "    table = pe_filtered_table,\n",
    ").filtered_data\n",
    "pe_filtered_seqs.view(pd.Series).shape"
   ]
  },
  {
   "cell_type": "markdown",
   "id": "aafc0ee5",
   "metadata": {},
   "source": [
    "## Merging Single-End and Paired-End tables"
   ]
  },
  {
   "cell_type": "code",
   "execution_count": 15,
   "id": "467d7e15",
   "metadata": {
    "ExecuteTime": {
     "end_time": "2022-11-16T19:07:51.963789Z",
     "start_time": "2022-11-16T19:07:51.854930Z"
    }
   },
   "outputs": [
    {
     "data": {
      "text/plain": [
       "(44, 1651)"
      ]
     },
     "execution_count": 15,
     "metadata": {},
     "output_type": "execute_result"
    }
   ],
   "source": [
    "# Merge feature tables\n",
    "merged_feature_table = merge(\n",
    "    tables = [se_filtered_table, pe_filtered_table],\n",
    ").merged_table\n",
    "merged_feature_table.view(pd.DataFrame).shape"
   ]
  },
  {
   "cell_type": "code",
   "execution_count": 45,
   "id": "8a934c58",
   "metadata": {
    "ExecuteTime": {
     "end_time": "2022-11-16T19:27:20.641851Z",
     "start_time": "2022-11-16T19:27:19.906013Z"
    }
   },
   "outputs": [
    {
     "data": {
      "text/plain": [
       "(1651,)"
      ]
     },
     "execution_count": 45,
     "metadata": {},
     "output_type": "execute_result"
    }
   ],
   "source": [
    "# Merge sequences\n",
    "merged_sequences = merge_seqs(\n",
    "    data = [se_filtered_seqs, pe_filtered_seqs]\n",
    ").merged_data\n",
    "merged_sequences.view(pd.Series).shape"
   ]
  },
  {
   "cell_type": "code",
   "execution_count": 57,
   "id": "70a92a98",
   "metadata": {
    "ExecuteTime": {
     "end_time": "2022-11-16T20:22:40.651890Z",
     "start_time": "2022-11-16T20:22:40.596629Z"
    }
   },
   "outputs": [],
   "source": [
    "df = merged_feature_table.view(pd.DataFrame)\n",
    "new_idx = [i.split('-')[1] if i.startswith('I') else i for i in df.index]\n",
    "df.index = new_idx\n",
    "merged_feature_table = Artifact.import_data(\"FeatureTable[Frequency]\", df)"
   ]
  },
  {
   "cell_type": "markdown",
   "id": "79cab04d",
   "metadata": {},
   "source": [
    "## Persist merged data"
   ]
  },
  {
   "cell_type": "code",
   "execution_count": 58,
   "id": "b0a46481",
   "metadata": {
    "ExecuteTime": {
     "end_time": "2022-11-16T20:22:43.483953Z",
     "start_time": "2022-11-16T20:22:43.415792Z"
    }
   },
   "outputs": [
    {
     "data": {
      "text/plain": [
       "'/home/lauro/nupeb/rede-micro/redemicro-thayane/experiments/thayane-PM/qiime-artifacts/dada2-reps.qza'"
      ]
     },
     "execution_count": 58,
     "metadata": {},
     "output_type": "execute_result"
    }
   ],
   "source": [
    "# Replace table and sequences\n",
    "merged_feature_table.save(input_path['single-end']['tab'])\n",
    "merged_sequences.save(input_path['single-end']['seq'])"
   ]
  }
 ],
 "metadata": {
  "kernelspec": {
   "display_name": "Python 3 (ipykernel)",
   "language": "python",
   "name": "python3"
  },
  "language_info": {
   "codemirror_mode": {
    "name": "ipython",
    "version": 3
   },
   "file_extension": ".py",
   "mimetype": "text/x-python",
   "name": "python",
   "nbconvert_exporter": "python",
   "pygments_lexer": "ipython3",
   "version": "3.8.12"
  }
 },
 "nbformat": 4,
 "nbformat_minor": 5
}
