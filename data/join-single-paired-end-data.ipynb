{
 "cells": [
  {
   "cell_type": "code",
   "execution_count": 1,
   "id": "c679d1ea",
   "metadata": {
    "ExecuteTime": {
     "end_time": "2023-06-05T11:20:44.769959Z",
     "start_time": "2023-06-05T11:20:38.171946Z"
    }
   },
   "outputs": [],
   "source": [
    "# Importing packages\n",
    "import os\n",
    "import yaml\n",
    "import logging\n",
    "import pandas as pd\n",
    "from qiime2 import Artifact\n",
    "from qiime2 import Visualization\n",
    "from qiime2 import Metadata\n",
    "import qiime2.plugins.dada2.actions as dada2_actions\n",
    "import qiime2.plugins.metadata.actions as metadata_actions\n",
    "from qiime2.plugins.feature_table.visualizers import tabulate_seqs\n",
    "from qiime2.plugins.feature_table.visualizers import summarize\n",
    "from qiime2.plugins.feature_table.visualizers import core_features\n",
    "\n",
    "from qiime2.plugins.feature_table.methods import merge\n",
    "from qiime2.plugins.feature_table.methods import merge_seqs\n",
    "from qiime2.plugins.feature_table.methods import merge_taxa\n",
    "\n",
    "from qiime2.plugins.feature_table.methods import filter_samples\n",
    "from qiime2.plugins.feature_table.methods import filter_seqs\n",
    "\n",
    "import matplotlib.pyplot as plt\n",
    "\n",
    "%matplotlib inline"
   ]
  },
  {
   "cell_type": "code",
   "execution_count": 3,
   "id": "f5a968de",
   "metadata": {
    "ExecuteTime": {
     "end_time": "2023-06-05T11:20:45.444506Z",
     "start_time": "2023-06-05T11:20:45.370878Z"
    }
   },
   "outputs": [],
   "source": [
    "# Parameters\n",
    "experiment_name = \"thayane-PM-joined\"\n",
    "base_dir = \"/mnt/nupeb/rede-micro/redemicro-thayane\"\n",
    "manifest_file = f\"{base_dir}/data/manifest.csv\"\n",
    "metadata_file = f\"{base_dir}/data/metadata.tsv\"\n",
    "class_col = \"sample-id\"\n",
    "classifier_file = \"/mnt/nupeb/rede-micro/datasets/16S_classifiers_qiime2/silva-138-99-nb-classifier.qza\"\n",
    "replace_files = False\n",
    "phred = 20\n",
    "trunc_f = 0\n",
    "trunc_r = 0\n",
    "overlap = 12\n",
    "threads = 6"
   ]
  },
  {
   "cell_type": "code",
   "execution_count": null,
   "id": "d0826d07",
   "metadata": {
    "ExecuteTime": {
     "end_time": "2023-06-05T13:48:25.842952Z",
     "start_time": "2023-06-05T13:48:25.839949Z"
    }
   },
   "outputs": [],
   "source": [
    "# Define paths\n",
    "experiment_folder = os.path.abspath(os.path.join(base_dir, 'experiments', experiment_name))\n",
    "data_folder = f'{base_dir}/data/'\n",
    "img_folder = os.path.abspath(os.path.join(experiment_folder, 'imgs'))\n",
    "qiime_folder = os.path.join(experiment_folder, 'qiime-artifacts')\n",
    "\n",
    "input_path = {'single-end': {}, 'paired-end': {}}\n",
    "\n",
    "for k in input_path.keys():\n",
    "    input_path[k]['metadata'] = f\"{base_dir}/data/{k}-metadata.tsv\"\n",
    "    qiime_folder = os.path.join(base_dir, 'experiments', f'thayane-PM-{k}', 'qiime-artifacts')\n",
    "    input_path[k]['tab'] = os.path.join(qiime_folder, 'dada2-tabs.qza')\n",
    "    input_path[k]['seq'] = os.path.join(qiime_folder, 'dada2-reps.qza')\n",
    "\n",
    "print(input_path)\n",
    "\n",
    "# # Original Single-End files\n",
    "# se_metadata_path = \"/home/lauro/nupeb/rede-micro/redemicro-thayane/data/single-end-metadata.tsv\"\n",
    "# input_path['single-end']['tab'] = os.path.join(qiime_folder, 'dada2-tabs.qza')\n",
    "# input_path['single-end']['seq'] = os.path.join(qiime_folder, 'dada2-reps.qza')\n",
    "#\n",
    "# # Original Paired-End files\n",
    "# pe_metadata_path = \"/home/lauro/nupeb/rede-micro/redemicro-thayane/data/paired-end-metadata.tsv\"\n",
    "# pe_path = '/home/lauro/nupeb/rede-micro/redemicro-thayane/experiments/thayane-PM-single-end/'\n",
    "# input_path['paired-end']['tab'] = os.path.join(pe_path, 'fezes_demux_paired_dada2_tabs.qza')\n",
    "# input_path['paired-end']['seq'] = os.path.join(pe_path, 'fezes_demux_paired_dada2_reps.qza')"
   ]
  },
  {
   "cell_type": "code",
   "execution_count": null,
   "id": "f7004266",
   "metadata": {
    "ExecuteTime": {
     "end_time": "2023-06-05T11:34:26.213820Z",
     "start_time": "2023-06-05T11:34:26.130247Z"
    }
   },
   "outputs": [],
   "source": [
    "# Load artifacts\n",
    "se_metadata_artifact = Metadata.load(input_path['single-end']['metadata'])\n",
    "pe_metadata_artifact = Metadata.load(input_path['paired-end']['metadata'])\n",
    "print('number of samples in single-end metadata:', se_metadata_artifact.to_dataframe().shape)\n",
    "print('number of samples in paired-end metadata:', pe_metadata_artifact.to_dataframe().shape)\n",
    "\n",
    "\n",
    "input_artifact = {'single-end': {}, 'paired-end': {}}\n",
    "\n",
    "# Original Single-End files\n",
    "input_artifact['single-end']['tab'] = Artifact.load(input_path['single-end']['tab'])\n",
    "input_artifact['single-end']['seq'] = Artifact.load(input_path['single-end']['seq'])\n",
    "\n",
    "# Original Paired-End files\n",
    "input_artifact['paired-end']['tab'] = Artifact.load(input_path['paired-end']['tab'])\n",
    "input_artifact['paired-end']['seq'] = Artifact.load(input_path['paired-end']['seq'])"
   ]
  },
  {
   "cell_type": "code",
   "execution_count": null,
   "id": "87aef871",
   "metadata": {
    "ExecuteTime": {
     "end_time": "2023-06-05T11:23:26.049195Z",
     "start_time": "2023-06-05T11:23:26.003154Z"
    }
   },
   "outputs": [],
   "source": [
    "all_ids = set(input_artifact['single-end']['tab'].view(pd.DataFrame).index)\n",
    "all_ids |= set(input_artifact['paired-end']['tab'].view(pd.DataFrame).index)\n",
    "print(f'lenght of all_ids: {len(all_ids)}')"
   ]
  },
  {
   "cell_type": "markdown",
   "id": "d4214976",
   "metadata": {},
   "source": [
    "## Filter exclusively Single-End samples"
   ]
  },
  {
   "cell_type": "code",
   "execution_count": null,
   "id": "8fbfff80",
   "metadata": {
    "ExecuteTime": {
     "end_time": "2023-06-05T11:23:39.914949Z",
     "start_time": "2023-06-05T11:23:39.844235Z"
    }
   },
   "outputs": [],
   "source": [
    "# Select metadata rows\n",
    "se_to_keep = ['M01', 'M03', 'M06', 'M09', 'M12', 'M19']\n",
    "se_metadata = se_metadata_artifact.filter_ids(ids_to_keep=se_to_keep)\n",
    "se_metadata.to_dataframe().index"
   ]
  },
  {
   "cell_type": "code",
   "execution_count": null,
   "id": "9b567bb5",
   "metadata": {
    "ExecuteTime": {
     "end_time": "2023-06-05T11:23:43.470602Z",
     "start_time": "2023-06-05T11:23:43.278491Z"
    }
   },
   "outputs": [],
   "source": [
    "# Create filtered table\n",
    "se_filtered_table = filter_samples(\n",
    "    table = input_artifact['single-end']['tab'],\n",
    "    metadata = se_metadata,\n",
    ").filtered_table\n",
    "se_filtered_table.view(pd.DataFrame).shape"
   ]
  },
  {
   "cell_type": "code",
   "execution_count": null,
   "id": "78a374dc",
   "metadata": {
    "ExecuteTime": {
     "end_time": "2023-06-05T11:25:12.782232Z",
     "start_time": "2023-06-05T11:25:12.544510Z"
    }
   },
   "outputs": [],
   "source": [
    "# Filter sequences for selected samples\n",
    "se_filtered_seqs = filter_seqs(\n",
    "    data = input_artifact['single-end']['seq'],\n",
    "    table = se_filtered_table,\n",
    ").filtered_data\n",
    "print(f'Number of sequences: {se_filtered_seqs.view(pd.Series).shape}')\n",
    "print(f'{se_filtered_seqs.view(pd.Series).shape[0] / input_artifact[\"single-end\"][\"seq\"].view(pd.Series).shape[0] * 100:.2f}% of sequences were kept')"
   ]
  },
  {
   "cell_type": "markdown",
   "id": "cfa7bfb8",
   "metadata": {},
   "source": [
    "## Filter post-menopause Paired-End sample"
   ]
  },
  {
   "cell_type": "code",
   "execution_count": null,
   "id": "118f0666",
   "metadata": {
    "ExecuteTime": {
     "end_time": "2023-06-05T11:30:34.106269Z",
     "start_time": "2023-06-05T11:30:34.055313Z"
    }
   },
   "outputs": [],
   "source": [
    "\n",
    "print(pe_metadata_artifact.to_dataframe().index)"
   ]
  },
  {
   "cell_type": "code",
   "execution_count": null,
   "id": "6f7ecbef",
   "metadata": {
    "ExecuteTime": {
     "end_time": "2023-06-05T11:39:36.776930Z",
     "start_time": "2023-06-05T11:39:36.760342Z"
    }
   },
   "outputs": [],
   "source": [
    "# Select metadata rows\n",
    "pe_to_keep = pe_metadata_artifact.to_dataframe().index\n",
    "print(f'Number of samples: {len(pe_to_keep)}')\n",
    "print(f'pe_to_keep: {pe_to_keep}')\n",
    "pe_metadata = pe_metadata_artifact.filter_ids(ids_to_keep=pe_to_keep)\n",
    "pe_metadata.to_dataframe().shape"
   ]
  },
  {
   "cell_type": "code",
   "execution_count": null,
   "id": "6aee71e8",
   "metadata": {
    "ExecuteTime": {
     "end_time": "2023-06-05T11:39:40.195269Z",
     "start_time": "2023-06-05T11:39:39.926346Z"
    }
   },
   "outputs": [],
   "source": [
    "# Filter feature table for selected samples\n",
    "pe_filtered_table = filter_samples(\n",
    "    table = input_artifact['paired-end']['tab'],\n",
    "    metadata = pe_metadata,\n",
    ").filtered_table\n",
    "pe_filtered_table.view(pd.DataFrame).shape\n",
    "# pe_filtered_table.view(pd.DataFrame).columns"
   ]
  },
  {
   "cell_type": "code",
   "execution_count": null,
   "id": "f6c80a91",
   "metadata": {
    "ExecuteTime": {
     "end_time": "2023-06-05T11:39:42.621802Z",
     "start_time": "2023-06-05T11:39:41.724975Z"
    }
   },
   "outputs": [],
   "source": [
    "# Filter sequences for selected samples\n",
    "pe_filtered_seqs = filter_seqs(\n",
    "    data = input_artifact['paired-end']['seq'],\n",
    "    table = pe_filtered_table,\n",
    ").filtered_data\n",
    "pe_filtered_seqs.view(pd.Series).shape"
   ]
  },
  {
   "cell_type": "markdown",
   "id": "aafc0ee5",
   "metadata": {},
   "source": [
    "## Merging Single-End and Paired-End tables"
   ]
  },
  {
   "cell_type": "code",
   "execution_count": null,
   "id": "467d7e15",
   "metadata": {
    "ExecuteTime": {
     "end_time": "2023-06-05T11:39:48.674293Z",
     "start_time": "2023-06-05T11:39:48.525849Z"
    }
   },
   "outputs": [],
   "source": [
    "# Merge feature tables\n",
    "merged_feature_table = merge(\n",
    "    tables = [se_filtered_table, pe_filtered_table],\n",
    ").merged_table\n",
    "merged_feature_table.view(pd.DataFrame).shape"
   ]
  },
  {
   "cell_type": "code",
   "execution_count": null,
   "id": "8a934c58",
   "metadata": {
    "ExecuteTime": {
     "end_time": "2023-06-05T11:39:52.281606Z",
     "start_time": "2023-06-05T11:39:51.469384Z"
    }
   },
   "outputs": [],
   "source": [
    "# Merge sequences\n",
    "merged_sequences = merge_seqs(\n",
    "    data = [se_filtered_seqs, pe_filtered_seqs]\n",
    ").merged_data\n",
    "merged_sequences.view(pd.Series).shape"
   ]
  },
  {
   "cell_type": "code",
   "execution_count": null,
   "id": "70a92a98",
   "metadata": {
    "ExecuteTime": {
     "end_time": "2023-06-05T11:40:00.783620Z",
     "start_time": "2023-06-05T11:40:00.686331Z"
    }
   },
   "outputs": [],
   "source": [
    "df = merged_feature_table.view(pd.DataFrame)\n",
    "new_idx = [i.split('-')[1] if i.startswith('I') else i for i in df.index]\n",
    "df.index = new_idx\n",
    "merged_feature_table = Artifact.import_data(\"FeatureTable[Frequency]\", df)"
   ]
  },
  {
   "cell_type": "markdown",
   "id": "147173a2",
   "metadata": {},
   "source": [
    "## Merging Single-End and Paired-End metadata"
   ]
  },
  {
   "cell_type": "code",
   "execution_count": null,
   "id": "c98fb424",
   "metadata": {
    "ExecuteTime": {
     "end_time": "2023-06-05T13:48:39.515974Z",
     "start_time": "2023-06-05T13:48:39.450681Z"
    }
   },
   "outputs": [],
   "source": [
    "# Get metadata rows\n",
    "se_metadata = se_metadata_artifact.to_dataframe()\n",
    "pe_metadata = pe_metadata_artifact.to_dataframe()\n",
    "# Merge two dataframes by rows\n",
    "metadata_df = pd.concat([se_metadata, pe_metadata])\n",
    "# Convert metadtata to qiime2 artifact\n",
    "metadata_qa = Metadata(metadata_df)\n",
    "metadata_path = os.path.join(data_folder, 'merged-metadata.tsv')\n",
    "metadata_qa.save(metadata_path)"
   ]
  },
  {
   "cell_type": "markdown",
   "id": "79cab04d",
   "metadata": {},
   "source": [
    "## Persist merged data"
   ]
  },
  {
   "cell_type": "code",
   "execution_count": null,
   "id": "b0a46481",
   "metadata": {
    "ExecuteTime": {
     "end_time": "2023-06-05T11:40:04.125468Z",
     "start_time": "2023-06-05T11:40:03.909752Z"
    }
   },
   "outputs": [],
   "source": [
    "# TODO: save merged data into a new location\n",
    "\n",
    "# # Replace table and sequences\n",
    "# merged_feature_table.save(input_path['single-end']['tab'])\n",
    "# merged_sequences.save(input_path['single-end']['seq'])"
   ]
  },
  {
   "cell_type": "code",
   "execution_count": null,
   "id": "ae43b2b2",
   "metadata": {
    "ExecuteTime": {
     "end_time": "2023-06-05T13:52:56.402102Z",
     "start_time": "2023-06-05T13:52:55.196347Z"
    }
   },
   "outputs": [],
   "source": [
    "# Create view and save frequency table\n",
    "tabs_view = summarize(table=merged_feature_table, sample_metadata=metadata_qa).visualization\n",
    "tabs_view.save(os.path.join(qiime_folder, 'abs-freq-tabs.qzv'))"
   ]
  },
  {
   "cell_type": "code",
   "execution_count": null,
   "id": "2727c3bf",
   "metadata": {
    "ExecuteTime": {
     "end_time": "2023-06-05T13:52:58.995146Z",
     "start_time": "2023-06-05T13:52:57.657936Z"
    }
   },
   "outputs": [],
   "source": [
    "# Create view and save representative sequences\n",
    "reps_view = tabulate_seqs(data=merged_sequences).visualization\n",
    "reps_view.save(os.path.join(qiime_folder, 'repr-seqs.qzv'))"
   ]
  }
 ],
 "metadata": {
  "kernelspec": {
   "display_name": "Python 3 (ipykernel)",
   "language": "python",
   "name": "python3"
  },
  "language_info": {
   "codemirror_mode": {
    "name": "ipython",
    "version": 3
   },
   "file_extension": ".py",
   "mimetype": "text/x-python",
   "name": "python",
   "nbconvert_exporter": "python",
   "pygments_lexer": "ipython3",
   "version": "3.8.16"
  }
 },
 "nbformat": 4,
 "nbformat_minor": 5
}
