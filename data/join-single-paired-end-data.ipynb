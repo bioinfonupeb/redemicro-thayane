{
 "cells": [
  {
   "cell_type": "code",
   "execution_count": 1,
   "id": "c679d1ea",
   "metadata": {
    "ExecuteTime": {
     "end_time": "2023-09-06T11:30:59.501831Z",
     "start_time": "2023-09-06T11:30:52.268308Z"
    }
   },
   "outputs": [],
   "source": [
    "# Importing packages\n",
    "import os\n",
    "import yaml\n",
    "import logging\n",
    "import pandas as pd\n",
    "from qiime2 import Artifact\n",
    "from qiime2 import Visualization\n",
    "from qiime2 import Metadata\n",
    "import qiime2.plugins.dada2.actions as dada2_actions\n",
    "import qiime2.plugins.metadata.actions as metadata_actions\n",
    "from qiime2.plugins.feature_table.visualizers import tabulate_seqs\n",
    "from qiime2.plugins.feature_table.visualizers import summarize\n",
    "from qiime2.plugins.feature_table.visualizers import core_features\n",
    "\n",
    "from qiime2.plugins.feature_table.methods import merge\n",
    "from qiime2.plugins.feature_table.methods import merge_seqs\n",
    "from qiime2.plugins.feature_table.methods import merge_taxa\n",
    "\n",
    "from qiime2.plugins.feature_table.methods import filter_samples\n",
    "from qiime2.plugins.feature_table.methods import filter_seqs\n",
    "\n",
    "import matplotlib.pyplot as plt\n",
    "\n",
    "%matplotlib inline"
   ]
  },
  {
   "cell_type": "code",
   "execution_count": 2,
   "id": "f5a968de",
   "metadata": {
    "ExecuteTime": {
     "end_time": "2023-09-06T11:30:59.509504Z",
     "start_time": "2023-09-06T11:30:59.505005Z"
    }
   },
   "outputs": [],
   "source": [
    "# Parameters\n",
    "experiment_name = \"thayane-PM-joined-trim\"\n",
    "base_dir = \"/home/lauro/nupeb/rede-micro/redemicro-thayane\"\n",
    "manifest_file = \"/home/lauro/nupeb/rede-micro/redemicro-thayane/data/manifest.csv\"\n",
    "metadata_file = \"/home/lauro/nupeb/rede-micro/redemicro-thayane/data/metadata.tsv\"\n",
    "class_col = \"sample-id\"\n",
    "classifier_file = \"/home/lauro/nupeb/rede-micro/models/silva-138-99-nb-classifier.qza\"\n",
    "replace_files = False\n",
    "phred = 20\n",
    "trunc_f = 0\n",
    "trunc_r = 0\n",
    "overlap = 12\n",
    "threads = 6"
   ]
  },
  {
   "cell_type": "code",
   "execution_count": 24,
   "id": "d0826d07",
   "metadata": {
    "ExecuteTime": {
     "end_time": "2023-09-06T11:51:42.342031Z",
     "start_time": "2023-09-06T11:51:42.328209Z"
    }
   },
   "outputs": [
    {
     "name": "stdout",
     "output_type": "stream",
     "text": [
      "{'single-end': {'metadata': '/home/lauro/nupeb/rede-micro/redemicro-thayane/data/single-end-metadata.tsv', 'tab': '/home/lauro/nupeb/rede-micro/redemicro-thayane/experiments/thayane-PM-joined-trim/qiime-artifacts/dada2-single-end-tabs.qza', 'seq': '/home/lauro/nupeb/rede-micro/redemicro-thayane/experiments/thayane-PM-joined-trim/qiime-artifacts/dada2-single-end-reps.qza'}, 'paired-end': {'metadata': '/home/lauro/nupeb/rede-micro/redemicro-thayane/data/paired-end-metadata.tsv', 'tab': '/home/lauro/nupeb/rede-micro/redemicro-thayane/experiments/thayane-PM-paired-end-trim-overlap-04/qiime-artifacts/dada2-tabs.qza', 'seq': '/home/lauro/nupeb/rede-micro/redemicro-thayane/experiments/thayane-PM-paired-end-trim-overlap-04/qiime-artifacts/dada2-reps.qza'}}\n"
     ]
    }
   ],
   "source": [
    "# Define paths\n",
    "experiment_folder = os.path.abspath(os.path.join(base_dir, 'experiments', experiment_name))\n",
    "data_folder = '/home/lauro/nupeb/rede-micro/redemicro-thayane/data/'\n",
    "img_folder = os.path.abspath(os.path.join(experiment_folder, 'imgs'))\n",
    "qiime_folder = os.path.join(experiment_folder, 'qiime-artifacts')\n",
    "\n",
    "input_path = {'single-end': {}, 'paired-end': {}}\n",
    "\n",
    "for k in input_path.keys():\n",
    "    input_path[k]['metadata'] = f\"/home/lauro/nupeb/rede-micro/redemicro-thayane/data/{k}-metadata.tsv\"\n",
    "    if k == 'single-end':\n",
    "        qiime_folder = os.path.join(base_dir, 'experiments', f'thayane-PM-joined-trim', 'qiime-artifacts')\n",
    "        input_path[k]['tab'] = os.path.join(qiime_folder, f'dada2-{k}-tabs.qza')\n",
    "        input_path[k]['seq'] = os.path.join(qiime_folder, f'dada2-{k}-reps.qza')\n",
    "    else:\n",
    "        qiime_folder = os.path.join(base_dir, 'experiments', f'thayane-PM-paired-end-trim-overlap-04', 'qiime-artifacts')\n",
    "        input_path[k]['tab'] = os.path.join(qiime_folder, 'dada2-tabs.qza')\n",
    "        input_path[k]['seq'] = os.path.join(qiime_folder, 'dada2-reps.qza')\n",
    "\n",
    "print(input_path)\n",
    "\n",
    "# # Original Single-End files\n",
    "# se_metadata_path = \"/home/lauro/nupeb/rede-micro/redemicro-thayane/data/single-end-metadata.tsv\"\n",
    "# input_path['single-end']['tab'] = os.path.join(qiime_folder, 'dada2-tabs.qza')\n",
    "# input_path['single-end']['seq'] = os.path.join(qiime_folder, 'dada2-reps.qza')\n",
    "#\n",
    "# # Original Paired-End files\n",
    "# pe_metadata_path = \"/home/lauro/nupeb/rede-micro/redemicro-thayane/data/paired-end-metadata.tsv\"\n",
    "# pe_path = '/home/lauro/nupeb/rede-micro/redemicro-thayane/experiments/thayane-PM-single-end/'\n",
    "# input_path['paired-end']['tab'] = os.path.join(pe_path, 'fezes_demux_paired_dada2_tabs.qza')\n",
    "# input_path['paired-end']['seq'] = os.path.join(pe_path, 'fezes_demux_paired_dada2_reps.qza')"
   ]
  },
  {
   "cell_type": "code",
   "execution_count": 25,
   "id": "f7004266",
   "metadata": {
    "ExecuteTime": {
     "end_time": "2023-09-06T11:51:45.048936Z",
     "start_time": "2023-09-06T11:51:44.965610Z"
    }
   },
   "outputs": [
    {
     "name": "stdout",
     "output_type": "stream",
     "text": [
      "number of samples in single-end metadata: (6, 8)\n",
      "number of samples in paired-end metadata: (38, 8)\n"
     ]
    }
   ],
   "source": [
    "# Load artifacts\n",
    "se_metadata_artifact = Metadata.load(input_path['single-end']['metadata'])\n",
    "pe_metadata_artifact = Metadata.load(input_path['paired-end']['metadata'])\n",
    "print('number of samples in single-end metadata:', se_metadata_artifact.to_dataframe().shape)\n",
    "print('number of samples in paired-end metadata:', pe_metadata_artifact.to_dataframe().shape)\n",
    "\n",
    "\n",
    "input_artifact = {'single-end': {}, 'paired-end': {}}\n",
    "\n",
    "# Original Single-End files\n",
    "input_artifact['single-end']['tab'] = Artifact.load(input_path['single-end']['tab'])\n",
    "input_artifact['single-end']['seq'] = Artifact.load(input_path['single-end']['seq'])\n",
    "\n",
    "# Original Paired-End files\n",
    "input_artifact['paired-end']['tab'] = Artifact.load(input_path['paired-end']['tab'])\n",
    "input_artifact['paired-end']['seq'] = Artifact.load(input_path['paired-end']['seq'])"
   ]
  },
  {
   "cell_type": "code",
   "execution_count": 26,
   "id": "87aef871",
   "metadata": {
    "ExecuteTime": {
     "end_time": "2023-09-06T11:51:47.638202Z",
     "start_time": "2023-09-06T11:51:47.596324Z"
    }
   },
   "outputs": [
    {
     "name": "stdout",
     "output_type": "stream",
     "text": [
      "lenght of all_ids: 44\n"
     ]
    }
   ],
   "source": [
    "all_ids = set(input_artifact['single-end']['tab'].view(pd.DataFrame).index)\n",
    "all_ids |= set(input_artifact['paired-end']['tab'].view(pd.DataFrame).index)\n",
    "print(f'lenght of all_ids: {len(all_ids)}')"
   ]
  },
  {
   "cell_type": "markdown",
   "id": "d4214976",
   "metadata": {},
   "source": [
    "## Filter exclusively Single-End samples"
   ]
  },
  {
   "cell_type": "code",
   "execution_count": 27,
   "id": "8fbfff80",
   "metadata": {
    "ExecuteTime": {
     "end_time": "2023-09-06T11:51:49.232362Z",
     "start_time": "2023-09-06T11:51:49.212576Z"
    }
   },
   "outputs": [
    {
     "data": {
      "text/plain": [
       "Index(['M01', 'M03', 'M06', 'M09', 'M12', 'M19'], dtype='object', name='sample-id')"
      ]
     },
     "execution_count": 27,
     "metadata": {},
     "output_type": "execute_result"
    }
   ],
   "source": [
    "# Select metadata rows\n",
    "se_to_keep = ['M01', 'M03', 'M06', 'M09', 'M12', 'M19']\n",
    "se_metadata = se_metadata_artifact.filter_ids(ids_to_keep=se_to_keep)\n",
    "se_metadata.to_dataframe().index"
   ]
  },
  {
   "cell_type": "code",
   "execution_count": 28,
   "id": "9b567bb5",
   "metadata": {
    "ExecuteTime": {
     "end_time": "2023-09-06T11:51:51.768225Z",
     "start_time": "2023-09-06T11:51:51.651141Z"
    }
   },
   "outputs": [
    {
     "name": "stdout",
     "output_type": "stream",
     "text": [
      "{'min_frequency': 0, 'max_frequency': None, 'min_features': 0, 'max_features': None, 'metadata': Metadata\n",
      "--------\n",
      "6 IDs x 8 columns\n",
      "class-straw:        ColumnProperties(type='categorical')\n",
      "local-coleta:       ColumnProperties(type='categorical')\n",
      "idade:              ColumnProperties(type='numeric')\n",
      "idade-menarca:      ColumnProperties(type='numeric')\n",
      "tempo-menopausa:    ColumnProperties(type='numeric')\n",
      "above_10:           ColumnProperties(type='categorical')\n",
      "menopausa-age-qcut: ColumnProperties(type='categorical')\n",
      "menopausa-age-bins: ColumnProperties(type='categorical')\n",
      "\n",
      "Call to_dataframe() for a tabular representation., 'where': None, 'exclude_ids': False, 'filter_empty_features': True, 'table': 1736 x 44 <class 'biom.table.Table'> with 2090 nonzero entries (2% dense)}\n",
      "{'min_frequency': 0, 'max_frequency': None, 'min_features': 0, 'max_features': None, 'metadata': Metadata\n",
      "--------\n",
      "6 IDs x 8 columns\n",
      "class-straw:        ColumnProperties(type='categorical')\n",
      "local-coleta:       ColumnProperties(type='categorical')\n",
      "idade:              ColumnProperties(type='numeric')\n",
      "idade-menarca:      ColumnProperties(type='numeric')\n",
      "tempo-menopausa:    ColumnProperties(type='numeric')\n",
      "above_10:           ColumnProperties(type='categorical')\n",
      "menopausa-age-qcut: ColumnProperties(type='categorical')\n",
      "menopausa-age-bins: ColumnProperties(type='categorical')\n",
      "\n",
      "Call to_dataframe() for a tabular representation., 'where': None, 'exclude_ids': False, 'filter_empty_features': True, 'table': 1736 x 44 <class 'biom.table.Table'> with 2090 nonzero entries (2% dense)}\n"
     ]
    },
    {
     "data": {
      "text/plain": [
       "(6, 228)"
      ]
     },
     "execution_count": 28,
     "metadata": {},
     "output_type": "execute_result"
    }
   ],
   "source": [
    "# Create filtered table\n",
    "se_filtered_table = filter_samples(\n",
    "    table = input_artifact['single-end']['tab'],\n",
    "    metadata = se_metadata,\n",
    ").filtered_table\n",
    "se_filtered_table.view(pd.DataFrame).shape"
   ]
  },
  {
   "cell_type": "code",
   "execution_count": 29,
   "id": "78a374dc",
   "metadata": {
    "ExecuteTime": {
     "end_time": "2023-09-06T11:51:55.075281Z",
     "start_time": "2023-09-06T11:51:53.837463Z"
    }
   },
   "outputs": [
    {
     "name": "stdout",
     "output_type": "stream",
     "text": [
      "{'metadata': None, 'where': None, 'exclude_ids': False, 'data': 00051a78b3e1ecd27314247dff25a208    (((G)), ((C)), ((C)), ((T)), ((A)), ((C)), ((G...\n",
      "000f8bfd8a4b2441d868821eef660ecc    (((A)), ((C)), ((C)), ((T)), ((A)), ((C)), ((G...\n",
      "0053504a75cbad644658d68e0d32aa7e    (((T)), ((G)), ((G)), ((G)), ((G)), ((A)), ((A...\n",
      "00d94a1863ec0f2c06c4ad049604e60e    (((G)), ((C)), ((C)), ((C)), ((T)), ((A)), ((C...\n",
      "010045ee9c16bba62338fd5d55530b6a    (((G)), ((C)), ((C)), ((T)), ((A)), ((C)), ((G...\n",
      "                                                          ...                        \n",
      "ffc62661b58a6f59ad20e7ad34405896    (((T)), ((C)), ((C)), ((T)), ((A)), ((C)), ((G...\n",
      "ffc9b5e055dca60dab5f464147875e3a    (((C)), ((G)), ((C)), ((C)), ((T)), ((A)), ((C...\n",
      "ffca45f65366280127b61f681a7b9d7f    (((G)), ((C)), ((C)), ((T)), ((A)), ((C)), ((G...\n",
      "ffcebd381e84cfe83cdacd5f6a6c25b4    (((G)), ((C)), ((G)), ((C)), ((G)), ((A)), ((A...\n",
      "fff0ea2bfed7ded0d6e2d0b6db49329e    (((T)), ((G)), ((G)), ((G)), ((G)), ((A)), ((A...\n",
      "Length: 1736, dtype: object, 'table': 228 x 6 <class 'biom.table.Table'> with 321 nonzero entries (23% dense)}\n",
      "{'metadata': None, 'where': None, 'exclude_ids': False, 'data': 00051a78b3e1ecd27314247dff25a208    (((G)), ((C)), ((C)), ((T)), ((A)), ((C)), ((G...\n",
      "000f8bfd8a4b2441d868821eef660ecc    (((A)), ((C)), ((C)), ((T)), ((A)), ((C)), ((G...\n",
      "0053504a75cbad644658d68e0d32aa7e    (((T)), ((G)), ((G)), ((G)), ((G)), ((A)), ((A...\n",
      "00d94a1863ec0f2c06c4ad049604e60e    (((G)), ((C)), ((C)), ((C)), ((T)), ((A)), ((C...\n",
      "010045ee9c16bba62338fd5d55530b6a    (((G)), ((C)), ((C)), ((T)), ((A)), ((C)), ((G...\n",
      "                                                          ...                        \n",
      "ffc62661b58a6f59ad20e7ad34405896    (((T)), ((C)), ((C)), ((T)), ((A)), ((C)), ((G...\n",
      "ffc9b5e055dca60dab5f464147875e3a    (((C)), ((G)), ((C)), ((C)), ((T)), ((A)), ((C...\n",
      "ffca45f65366280127b61f681a7b9d7f    (((G)), ((C)), ((C)), ((T)), ((A)), ((C)), ((G...\n",
      "ffcebd381e84cfe83cdacd5f6a6c25b4    (((G)), ((C)), ((G)), ((C)), ((G)), ((A)), ((A...\n",
      "fff0ea2bfed7ded0d6e2d0b6db49329e    (((T)), ((G)), ((G)), ((G)), ((G)), ((A)), ((A...\n",
      "Length: 1736, dtype: object, 'table': 228 x 6 <class 'biom.table.Table'> with 321 nonzero entries (23% dense)}\n",
      "Number of sequences: (228,)\n",
      "13.13% of sequences were kept\n"
     ]
    }
   ],
   "source": [
    "# Filter sequences for selected samples\n",
    "se_filtered_seqs = filter_seqs(\n",
    "    data = input_artifact['single-end']['seq'],\n",
    "    table = se_filtered_table,\n",
    ").filtered_data\n",
    "print(f'Number of sequences: {se_filtered_seqs.view(pd.Series).shape}')\n",
    "print(f'{se_filtered_seqs.view(pd.Series).shape[0] / input_artifact[\"single-end\"][\"seq\"].view(pd.Series).shape[0] * 100:.2f}% of sequences were kept')"
   ]
  },
  {
   "cell_type": "markdown",
   "id": "cfa7bfb8",
   "metadata": {},
   "source": [
    "## Filter post-menopause Paired-End sample"
   ]
  },
  {
   "cell_type": "code",
   "execution_count": 30,
   "id": "118f0666",
   "metadata": {
    "ExecuteTime": {
     "end_time": "2023-09-06T11:51:58.698735Z",
     "start_time": "2023-09-06T11:51:58.691468Z"
    }
   },
   "outputs": [
    {
     "name": "stdout",
     "output_type": "stream",
     "text": [
      "Index(['M05', 'M33', 'M34', 'M35', 'M38', 'M39', 'M44', 'M46', 'M47', 'M52',\n",
      "       'M55', 'M07', 'M64', 'M72', 'M73', 'M77', 'M78', 'M79', 'M88', 'M93',\n",
      "       'M95', 'M99', 'M102', 'M107', 'M112', 'M120', 'M121', 'M126', 'M125',\n",
      "       'M133', 'M134', 'M141', 'M144', 'M148', 'M150', 'M151', 'M155', 'M156'],\n",
      "      dtype='object', name='sample-id')\n"
     ]
    }
   ],
   "source": [
    "\n",
    "print(pe_metadata_artifact.to_dataframe().index)"
   ]
  },
  {
   "cell_type": "code",
   "execution_count": 31,
   "id": "6f7ecbef",
   "metadata": {
    "ExecuteTime": {
     "end_time": "2023-09-06T11:51:59.826458Z",
     "start_time": "2023-09-06T11:51:59.806055Z"
    }
   },
   "outputs": [
    {
     "name": "stdout",
     "output_type": "stream",
     "text": [
      "Number of samples: 38\n",
      "pe_to_keep: Index(['M05', 'M33', 'M34', 'M35', 'M38', 'M39', 'M44', 'M46', 'M47', 'M52',\n",
      "       'M55', 'M07', 'M64', 'M72', 'M73', 'M77', 'M78', 'M79', 'M88', 'M93',\n",
      "       'M95', 'M99', 'M102', 'M107', 'M112', 'M120', 'M121', 'M126', 'M125',\n",
      "       'M133', 'M134', 'M141', 'M144', 'M148', 'M150', 'M151', 'M155', 'M156'],\n",
      "      dtype='object', name='sample-id')\n"
     ]
    },
    {
     "data": {
      "text/plain": [
       "(38, 8)"
      ]
     },
     "execution_count": 31,
     "metadata": {},
     "output_type": "execute_result"
    }
   ],
   "source": [
    "# Select metadata rows\n",
    "pe_to_keep = pe_metadata_artifact.to_dataframe().index\n",
    "print(f'Number of samples: {len(pe_to_keep)}')\n",
    "print(f'pe_to_keep: {pe_to_keep}')\n",
    "pe_metadata = pe_metadata_artifact.filter_ids(ids_to_keep=pe_to_keep)\n",
    "pe_metadata.to_dataframe().shape"
   ]
  },
  {
   "cell_type": "code",
   "execution_count": 32,
   "id": "6aee71e8",
   "metadata": {
    "ExecuteTime": {
     "end_time": "2023-09-06T11:52:03.477425Z",
     "start_time": "2023-09-06T11:52:03.331801Z"
    }
   },
   "outputs": [
    {
     "name": "stdout",
     "output_type": "stream",
     "text": [
      "{'min_frequency': 0, 'max_frequency': None, 'min_features': 0, 'max_features': None, 'metadata': Metadata\n",
      "--------\n",
      "38 IDs x 8 columns\n",
      "class-straw:        ColumnProperties(type='categorical')\n",
      "local-coleta:       ColumnProperties(type='categorical')\n",
      "idade:              ColumnProperties(type='numeric')\n",
      "idade-menarca:      ColumnProperties(type='numeric')\n",
      "tempo-menopausa:    ColumnProperties(type='numeric')\n",
      "above_10:           ColumnProperties(type='categorical')\n",
      "menopausa-age-qcut: ColumnProperties(type='categorical')\n",
      "menopausa-age-bins: ColumnProperties(type='categorical')\n",
      "\n",
      "Call to_dataframe() for a tabular representation., 'where': None, 'exclude_ids': False, 'filter_empty_features': True, 'table': 2210 x 38 <class 'biom.table.Table'> with 6010 nonzero entries (7% dense)}\n",
      "{'min_frequency': 0, 'max_frequency': None, 'min_features': 0, 'max_features': None, 'metadata': Metadata\n",
      "--------\n",
      "38 IDs x 8 columns\n",
      "class-straw:        ColumnProperties(type='categorical')\n",
      "local-coleta:       ColumnProperties(type='categorical')\n",
      "idade:              ColumnProperties(type='numeric')\n",
      "idade-menarca:      ColumnProperties(type='numeric')\n",
      "tempo-menopausa:    ColumnProperties(type='numeric')\n",
      "above_10:           ColumnProperties(type='categorical')\n",
      "menopausa-age-qcut: ColumnProperties(type='categorical')\n",
      "menopausa-age-bins: ColumnProperties(type='categorical')\n",
      "\n",
      "Call to_dataframe() for a tabular representation., 'where': None, 'exclude_ids': False, 'filter_empty_features': True, 'table': 2210 x 38 <class 'biom.table.Table'> with 6010 nonzero entries (7% dense)}\n"
     ]
    },
    {
     "data": {
      "text/plain": [
       "(38, 2210)"
      ]
     },
     "execution_count": 32,
     "metadata": {},
     "output_type": "execute_result"
    }
   ],
   "source": [
    "# Filter feature table for selected samples\n",
    "pe_filtered_table = filter_samples(\n",
    "    table = input_artifact['paired-end']['tab'],\n",
    "    metadata = pe_metadata,\n",
    ").filtered_table\n",
    "pe_filtered_table.view(pd.DataFrame).shape\n",
    "# pe_filtered_table.view(pd.DataFrame).columns"
   ]
  },
  {
   "cell_type": "code",
   "execution_count": 33,
   "id": "f6c80a91",
   "metadata": {
    "ExecuteTime": {
     "end_time": "2023-09-06T11:52:13.597506Z",
     "start_time": "2023-09-06T11:52:11.452287Z"
    }
   },
   "outputs": [
    {
     "name": "stdout",
     "output_type": "stream",
     "text": [
      "{'metadata': None, 'where': None, 'exclude_ids': False, 'data': ec39293a8db6cdfc99fecc1decfa59d7    (((T)), ((G)), ((G)), ((G)), ((G)), ((A)), ((A...\n",
      "f7a1c2a7dc74eb24446faaa79f519ee6    (((T)), ((G)), ((G)), ((G)), ((G)), ((A)), ((A...\n",
      "fd204f7a88e546b2288fb9b86489ba32    (((T)), ((G)), ((A)), ((G)), ((G)), ((A)), ((A...\n",
      "ddbf23c8c5653d14479d9bf997ef7e1b    (((T)), ((G)), ((A)), ((G)), ((G)), ((A)), ((A...\n",
      "2e9f1c3013022ced2c0c9567d59fc064    (((T)), ((G)), ((G)), ((G)), ((G)), ((G)), ((A...\n",
      "                                                          ...                        \n",
      "0d7e4a5afc9198a77975163fef8762bf    (((A)), ((A)), ((A)), ((T)), ((C)), ((T)), ((T...\n",
      "42775e607d1331feeed46556a21008af    (((A)), ((A)), ((A)), ((T)), ((C)), ((T)), ((T...\n",
      "dae7ea67a9476f6f7215b45b4afbb130    (((A)), ((A)), ((T)), ((A)), ((A)), ((A)), ((A...\n",
      "4dc5a0950c566176a78fdf0fd19b2dc9    (((T)), ((T)), ((A)), ((G)), ((G)), ((A)), ((A...\n",
      "961fde1c25c0da71e2b45ef4cf5c5188    (((T)), ((T)), ((T)), ((A)), ((A)), ((T)), ((T...\n",
      "Length: 2210, dtype: object, 'table': 2210 x 38 <class 'biom.table.Table'> with 6010 nonzero entries (7% dense)}\n",
      "{'metadata': None, 'where': None, 'exclude_ids': False, 'data': ec39293a8db6cdfc99fecc1decfa59d7    (((T)), ((G)), ((G)), ((G)), ((G)), ((A)), ((A...\n",
      "f7a1c2a7dc74eb24446faaa79f519ee6    (((T)), ((G)), ((G)), ((G)), ((G)), ((A)), ((A...\n",
      "fd204f7a88e546b2288fb9b86489ba32    (((T)), ((G)), ((A)), ((G)), ((G)), ((A)), ((A...\n",
      "ddbf23c8c5653d14479d9bf997ef7e1b    (((T)), ((G)), ((A)), ((G)), ((G)), ((A)), ((A...\n",
      "2e9f1c3013022ced2c0c9567d59fc064    (((T)), ((G)), ((G)), ((G)), ((G)), ((G)), ((A...\n",
      "                                                          ...                        \n",
      "0d7e4a5afc9198a77975163fef8762bf    (((A)), ((A)), ((A)), ((T)), ((C)), ((T)), ((T...\n",
      "42775e607d1331feeed46556a21008af    (((A)), ((A)), ((A)), ((T)), ((C)), ((T)), ((T...\n",
      "dae7ea67a9476f6f7215b45b4afbb130    (((A)), ((A)), ((T)), ((A)), ((A)), ((A)), ((A...\n",
      "4dc5a0950c566176a78fdf0fd19b2dc9    (((T)), ((T)), ((A)), ((G)), ((G)), ((A)), ((A...\n",
      "961fde1c25c0da71e2b45ef4cf5c5188    (((T)), ((T)), ((T)), ((A)), ((A)), ((T)), ((T...\n",
      "Length: 2210, dtype: object, 'table': 2210 x 38 <class 'biom.table.Table'> with 6010 nonzero entries (7% dense)}\n"
     ]
    },
    {
     "data": {
      "text/plain": [
       "(2210,)"
      ]
     },
     "execution_count": 33,
     "metadata": {},
     "output_type": "execute_result"
    }
   ],
   "source": [
    "# Filter sequences for selected samples\n",
    "pe_filtered_seqs = filter_seqs(\n",
    "    data = input_artifact['paired-end']['seq'],\n",
    "    table = pe_filtered_table,\n",
    ").filtered_data\n",
    "pe_filtered_seqs.view(pd.Series).shape"
   ]
  },
  {
   "cell_type": "markdown",
   "id": "aafc0ee5",
   "metadata": {},
   "source": [
    "## Merging Single-End and Paired-End tables"
   ]
  },
  {
   "cell_type": "code",
   "execution_count": 34,
   "id": "467d7e15",
   "metadata": {
    "ExecuteTime": {
     "end_time": "2023-09-06T11:52:16.296168Z",
     "start_time": "2023-09-06T11:52:16.097117Z"
    }
   },
   "outputs": [
    {
     "name": "stdout",
     "output_type": "stream",
     "text": [
      "{'overlap_method': 'error_on_overlapping_sample', 'tables': [228 x 6 <class 'biom.table.Table'> with 321 nonzero entries (23% dense), 2210 x 38 <class 'biom.table.Table'> with 6010 nonzero entries (7% dense)]}\n",
      "{'overlap_method': 'error_on_overlapping_sample', 'tables': [228 x 6 <class 'biom.table.Table'> with 321 nonzero entries (23% dense), 2210 x 38 <class 'biom.table.Table'> with 6010 nonzero entries (7% dense)]}\n"
     ]
    },
    {
     "data": {
      "text/plain": [
       "(44, 2403)"
      ]
     },
     "execution_count": 34,
     "metadata": {},
     "output_type": "execute_result"
    }
   ],
   "source": [
    "# Merge feature tables\n",
    "merged_feature_table = merge(\n",
    "    tables = [se_filtered_table, pe_filtered_table],\n",
    ").merged_table\n",
    "merged_feature_table.view(pd.DataFrame).shape"
   ]
  },
  {
   "cell_type": "code",
   "execution_count": 35,
   "id": "8a934c58",
   "metadata": {
    "ExecuteTime": {
     "end_time": "2023-09-06T11:52:21.949378Z",
     "start_time": "2023-09-06T11:52:19.524095Z"
    }
   },
   "outputs": [
    {
     "name": "stdout",
     "output_type": "stream",
     "text": [
      "{'data': [0053504a75cbad644658d68e0d32aa7e    (((T)), ((G)), ((G)), ((G)), ((G)), ((A)), ((A...\n",
      "024d64ec6ca834ca7a0889e9b43cce4b    (((T)), ((G)), ((G)), ((G)), ((G)), ((A)), ((A...\n",
      "0260fb0fc51b3a1bfaa4672627095949    (((T)), ((G)), ((G)), ((G)), ((G)), ((A)), ((A...\n",
      "0469e2beaf339563f954212ae6813c0c    (((T)), ((G)), ((A)), ((G)), ((G)), ((A)), ((A...\n",
      "04b25905ce00d0d22ca493f890e5bb1d    (((T)), ((G)), ((G)), ((G)), ((G)), ((G)), ((A...\n",
      "                                                          ...                        \n",
      "fd725ca2a934257e02b106b0a660f7f3    (((T)), ((G)), ((A)), ((G)), ((G)), ((G)), ((A...\n",
      "fdb7d9ffd28af0bdf79a5704b703377b    (((T)), ((G)), ((G)), ((G)), ((G)), ((A)), ((A...\n",
      "ffa2d3d4e030a8f45850c379c0d196f5    (((T)), ((G)), ((G)), ((G)), ((G)), ((A)), ((A...\n",
      "ffcebd381e84cfe83cdacd5f6a6c25b4    (((G)), ((C)), ((G)), ((C)), ((G)), ((A)), ((A...\n",
      "fff0ea2bfed7ded0d6e2d0b6db49329e    (((T)), ((G)), ((G)), ((G)), ((G)), ((A)), ((A...\n",
      "Length: 228, dtype: object, ec39293a8db6cdfc99fecc1decfa59d7    (((T)), ((G)), ((G)), ((G)), ((G)), ((A)), ((A...\n",
      "f7a1c2a7dc74eb24446faaa79f519ee6    (((T)), ((G)), ((G)), ((G)), ((G)), ((A)), ((A...\n",
      "fd204f7a88e546b2288fb9b86489ba32    (((T)), ((G)), ((A)), ((G)), ((G)), ((A)), ((A...\n",
      "ddbf23c8c5653d14479d9bf997ef7e1b    (((T)), ((G)), ((A)), ((G)), ((G)), ((A)), ((A...\n",
      "2e9f1c3013022ced2c0c9567d59fc064    (((T)), ((G)), ((G)), ((G)), ((G)), ((G)), ((A...\n",
      "                                                          ...                        \n",
      "0d7e4a5afc9198a77975163fef8762bf    (((A)), ((A)), ((A)), ((T)), ((C)), ((T)), ((T...\n",
      "42775e607d1331feeed46556a21008af    (((A)), ((A)), ((A)), ((T)), ((C)), ((T)), ((T...\n",
      "dae7ea67a9476f6f7215b45b4afbb130    (((A)), ((A)), ((T)), ((A)), ((A)), ((A)), ((A...\n",
      "4dc5a0950c566176a78fdf0fd19b2dc9    (((T)), ((T)), ((A)), ((G)), ((G)), ((A)), ((A...\n",
      "961fde1c25c0da71e2b45ef4cf5c5188    (((T)), ((T)), ((T)), ((A)), ((A)), ((T)), ((T...\n",
      "Length: 2210, dtype: object]}\n",
      "{'data': [0053504a75cbad644658d68e0d32aa7e    (((T)), ((G)), ((G)), ((G)), ((G)), ((A)), ((A...\n",
      "024d64ec6ca834ca7a0889e9b43cce4b    (((T)), ((G)), ((G)), ((G)), ((G)), ((A)), ((A...\n",
      "0260fb0fc51b3a1bfaa4672627095949    (((T)), ((G)), ((G)), ((G)), ((G)), ((A)), ((A...\n",
      "0469e2beaf339563f954212ae6813c0c    (((T)), ((G)), ((A)), ((G)), ((G)), ((A)), ((A...\n",
      "04b25905ce00d0d22ca493f890e5bb1d    (((T)), ((G)), ((G)), ((G)), ((G)), ((G)), ((A...\n",
      "                                                          ...                        \n",
      "fd725ca2a934257e02b106b0a660f7f3    (((T)), ((G)), ((A)), ((G)), ((G)), ((G)), ((A...\n",
      "fdb7d9ffd28af0bdf79a5704b703377b    (((T)), ((G)), ((G)), ((G)), ((G)), ((A)), ((A...\n",
      "ffa2d3d4e030a8f45850c379c0d196f5    (((T)), ((G)), ((G)), ((G)), ((G)), ((A)), ((A...\n",
      "ffcebd381e84cfe83cdacd5f6a6c25b4    (((G)), ((C)), ((G)), ((C)), ((G)), ((A)), ((A...\n",
      "fff0ea2bfed7ded0d6e2d0b6db49329e    (((T)), ((G)), ((G)), ((G)), ((G)), ((A)), ((A...\n",
      "Length: 228, dtype: object, ec39293a8db6cdfc99fecc1decfa59d7    (((T)), ((G)), ((G)), ((G)), ((G)), ((A)), ((A...\n",
      "f7a1c2a7dc74eb24446faaa79f519ee6    (((T)), ((G)), ((G)), ((G)), ((G)), ((A)), ((A...\n",
      "fd204f7a88e546b2288fb9b86489ba32    (((T)), ((G)), ((A)), ((G)), ((G)), ((A)), ((A...\n",
      "ddbf23c8c5653d14479d9bf997ef7e1b    (((T)), ((G)), ((A)), ((G)), ((G)), ((A)), ((A...\n",
      "2e9f1c3013022ced2c0c9567d59fc064    (((T)), ((G)), ((G)), ((G)), ((G)), ((G)), ((A...\n",
      "                                                          ...                        \n",
      "0d7e4a5afc9198a77975163fef8762bf    (((A)), ((A)), ((A)), ((T)), ((C)), ((T)), ((T...\n",
      "42775e607d1331feeed46556a21008af    (((A)), ((A)), ((A)), ((T)), ((C)), ((T)), ((T...\n",
      "dae7ea67a9476f6f7215b45b4afbb130    (((A)), ((A)), ((T)), ((A)), ((A)), ((A)), ((A...\n",
      "4dc5a0950c566176a78fdf0fd19b2dc9    (((T)), ((T)), ((A)), ((G)), ((G)), ((A)), ((A...\n",
      "961fde1c25c0da71e2b45ef4cf5c5188    (((T)), ((T)), ((T)), ((A)), ((A)), ((T)), ((T...\n",
      "Length: 2210, dtype: object]}\n"
     ]
    },
    {
     "data": {
      "text/plain": [
       "(2403,)"
      ]
     },
     "execution_count": 35,
     "metadata": {},
     "output_type": "execute_result"
    }
   ],
   "source": [
    "# Merge sequences\n",
    "merged_sequences = merge_seqs(\n",
    "    data = [se_filtered_seqs, pe_filtered_seqs]\n",
    ").merged_data\n",
    "merged_sequences.view(pd.Series).shape"
   ]
  },
  {
   "cell_type": "code",
   "execution_count": 36,
   "id": "70a92a98",
   "metadata": {
    "ExecuteTime": {
     "end_time": "2023-09-06T11:52:24.569556Z",
     "start_time": "2023-09-06T11:52:24.499018Z"
    }
   },
   "outputs": [],
   "source": [
    "df = merged_feature_table.view(pd.DataFrame)\n",
    "new_idx = [i.split('-')[1] if i.startswith('I') else i for i in df.index]\n",
    "df.index = new_idx\n",
    "merged_feature_table = Artifact.import_data(\"FeatureTable[Frequency]\", df)"
   ]
  },
  {
   "cell_type": "markdown",
   "id": "147173a2",
   "metadata": {},
   "source": [
    "## Merging Single-End and Paired-End metadata"
   ]
  },
  {
   "cell_type": "code",
   "execution_count": 37,
   "id": "c98fb424",
   "metadata": {
    "ExecuteTime": {
     "end_time": "2023-09-06T11:52:36.166851Z",
     "start_time": "2023-09-06T11:52:36.139871Z"
    }
   },
   "outputs": [
    {
     "data": {
      "text/plain": [
       "'/home/lauro/nupeb/rede-micro/redemicro-thayane/data/merged-trim-metadata.tsv'"
      ]
     },
     "execution_count": 37,
     "metadata": {},
     "output_type": "execute_result"
    }
   ],
   "source": [
    "# Get metadata rows\n",
    "se_metadata = se_metadata_artifact.to_dataframe()\n",
    "pe_metadata = pe_metadata_artifact.to_dataframe()\n",
    "# Merge two dataframes by rows\n",
    "metadata_df = pd.concat([se_metadata, pe_metadata])\n",
    "# Convert metadtata to qiime2 artifact\n",
    "metadata_qa = Metadata(metadata_df)\n",
    "metadata_path = os.path.join(data_folder, 'merged-trim-metadata.tsv')\n",
    "metadata_qa.save(metadata_path)"
   ]
  },
  {
   "cell_type": "code",
   "execution_count": 38,
   "id": "5909f433",
   "metadata": {
    "ExecuteTime": {
     "end_time": "2023-09-06T11:52:54.738000Z",
     "start_time": "2023-09-06T11:52:54.733320Z"
    }
   },
   "outputs": [],
   "source": [
    "new_tab_path = '/home/lauro/nupeb/rede-micro/redemicro-thayane/experiments/thayane-PM-joined-trim/qiime-artifacts/dada2-tabs.qza'\n",
    "new_seq_path = '/home/lauro/nupeb/rede-micro/redemicro-thayane/experiments/thayane-PM-joined-trim/qiime-artifacts/dada2-reps.qza'"
   ]
  },
  {
   "cell_type": "markdown",
   "id": "79cab04d",
   "metadata": {},
   "source": [
    "## Persist merged data"
   ]
  },
  {
   "cell_type": "code",
   "execution_count": 39,
   "id": "b0a46481",
   "metadata": {
    "ExecuteTime": {
     "end_time": "2023-09-06T11:54:46.779812Z",
     "start_time": "2023-09-06T11:54:46.613035Z"
    }
   },
   "outputs": [
    {
     "data": {
      "text/plain": [
       "'/home/lauro/nupeb/rede-micro/redemicro-thayane/experiments/thayane-PM-joined-trim/qiime-artifacts/dada2-reps.qza'"
      ]
     },
     "execution_count": 39,
     "metadata": {},
     "output_type": "execute_result"
    }
   ],
   "source": [
    "# TODO: save merged data into a new location\n",
    "\n",
    "# Replace table and sequences\n",
    "merged_feature_table.save(new_tab_path)\n",
    "merged_sequences.save(new_seq_path)"
   ]
  },
  {
   "cell_type": "code",
   "execution_count": 40,
   "id": "ae43b2b2",
   "metadata": {
    "ExecuteTime": {
     "end_time": "2023-09-06T11:54:51.486935Z",
     "start_time": "2023-09-06T11:54:49.555772Z"
    }
   },
   "outputs": [
    {
     "name": "stdout",
     "output_type": "stream",
     "text": [
      "{'sample_metadata': Metadata\n",
      "--------\n",
      "44 IDs x 8 columns\n",
      "class-straw:        ColumnProperties(type='categorical')\n",
      "local-coleta:       ColumnProperties(type='categorical')\n",
      "idade:              ColumnProperties(type='numeric')\n",
      "idade-menarca:      ColumnProperties(type='numeric')\n",
      "tempo-menopausa:    ColumnProperties(type='numeric')\n",
      "above_10:           ColumnProperties(type='categorical')\n",
      "menopausa-age-qcut: ColumnProperties(type='categorical')\n",
      "menopausa-age-bins: ColumnProperties(type='categorical')\n",
      "\n",
      "Call to_dataframe() for a tabular representation., 'table': 2403 x 44 <class 'biom.table.Table'> with 6331 nonzero entries (5% dense)}\n"
     ]
    },
    {
     "data": {
      "text/plain": [
       "'/home/lauro/nupeb/rede-micro/redemicro-thayane/experiments/thayane-PM-joined-trim/qiime-artifacts/dada2-tabs.qzv'"
      ]
     },
     "execution_count": 40,
     "metadata": {},
     "output_type": "execute_result"
    }
   ],
   "source": [
    "# Create view and save frequency table\n",
    "tabs_view = summarize(table=merged_feature_table, sample_metadata=metadata_qa).visualization\n",
    "tabs_view.save(new_tab_path[:-1] + 'v')"
   ]
  },
  {
   "cell_type": "code",
   "execution_count": 41,
   "id": "2727c3bf",
   "metadata": {
    "ExecuteTime": {
     "end_time": "2023-09-06T11:54:53.353210Z",
     "start_time": "2023-09-06T11:54:52.123797Z"
    }
   },
   "outputs": [
    {
     "name": "stdout",
     "output_type": "stream",
     "text": [
      "{'data': <q2_types.feature_data._transformer.DNAIterator object at 0x7f7907d83af0>}\n"
     ]
    },
    {
     "data": {
      "text/plain": [
       "'/home/lauro/nupeb/rede-micro/redemicro-thayane/experiments/thayane-PM-joined-trim/qiime-artifacts/dada2-reps.qzv'"
      ]
     },
     "execution_count": 41,
     "metadata": {},
     "output_type": "execute_result"
    }
   ],
   "source": [
    "# Create view and save representative sequences\n",
    "reps_view = tabulate_seqs(data=merged_sequences).visualization\n",
    "reps_view.save(new_seq_path[:-1] + 'v')"
   ]
  },
  {
   "cell_type": "code",
   "execution_count": 150,
   "id": "91e24acd",
   "metadata": {
    "ExecuteTime": {
     "end_time": "2023-09-06T21:19:29.296126Z",
     "start_time": "2023-09-06T21:19:28.565498Z"
    }
   },
   "outputs": [],
   "source": [
    "merged_tab_df = merged_feature_table.view(pd.DataFrame).astype(int)\n",
    "freqs = merged_tab_df.sum(axis=0)\n",
    "ocorr = merged_tab_df.apply(lambda x : sum(x > 0))\n",
    "abundance_diversity_df = pd.concat([freqs, ocorr], axis=1)"
   ]
  },
  {
   "cell_type": "code",
   "execution_count": 160,
   "id": "9e0f67d9",
   "metadata": {
    "ExecuteTime": {
     "end_time": "2023-09-06T22:15:21.297296Z",
     "start_time": "2023-09-06T22:15:20.598518Z"
    }
   },
   "outputs": [
    {
     "data": {
      "text/plain": [
       "Text(0.5, 0, 'log10(Abundance)')"
      ]
     },
     "execution_count": 160,
     "metadata": {},
     "output_type": "execute_result"
    },
    {
     "data": {
      "image/png": "[encoded data removed]",
      "text/plain": [
       "<Figure size 432x288 with 1 Axes>"
      ]
     },
     "metadata": {
      "needs_background": "light"
     },
     "output_type": "display_data"
    }
   ],
   "source": [
    "abundance_diversity_df.plot.scatter(x=0, y=1, logx=True)\n",
    "plt.ylabel('Diversity')\n",
    "plt.xlabel('log10(Abundance)')"
   ]
  }
 ],
 "metadata": {
  "kernelspec": {
   "display_name": "Python 3 (ipykernel)",
   "language": "python",
   "name": "python3"
  },
  "language_info": {
   "codemirror_mode": {
    "name": "ipython",
    "version": 3
   },
   "file_extension": ".py",
   "mimetype": "text/x-python",
   "name": "python",
   "nbconvert_exporter": "python",
   "pygments_lexer": "ipython3",
   "version": "3.8.12"
  }
 },
 "nbformat": 4,
 "nbformat_minor": 5
}
