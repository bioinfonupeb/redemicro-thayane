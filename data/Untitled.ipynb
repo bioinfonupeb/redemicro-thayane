{
 "cells": [
  {
   "cell_type": "code",
   "execution_count": 15,
   "id": "bbda7719",
   "metadata": {
    "ExecuteTime": {
     "end_time": "2023-03-13T16:28:34.696582Z",
     "start_time": "2023-03-13T16:28:34.681692Z"
    }
   },
   "outputs": [],
   "source": [
    "# Importing packages\n",
    "import os\n",
    "import yaml\n",
    "import logging\n",
    "import pandas as pd\n",
    "from qiime2 import Artifact\n",
    "from qiime2 import Visualization\n",
    "from qiime2 import Metadata\n",
    "import qiime2.plugins.dada2.actions as dada2_actions\n",
    "import qiime2.plugins.metadata.actions as metadata_actions\n",
    "from qiime2.plugins.feature_table.visualizers import tabulate_seqs\n",
    "from qiime2.plugins.feature_table.visualizers import summarize\n",
    "from qiime2.plugins.feature_table.visualizers import core_features\n",
    "\n",
    "from qiime2.plugins.feature_table.methods import merge\n",
    "from qiime2.plugins.feature_table.methods import merge_seqs\n",
    "from qiime2.plugins.feature_table.methods import merge_taxa\n",
    "\n",
    "from qiime2.plugins.feature_table.methods import filter_samples\n",
    "from qiime2.plugins.feature_table.methods import filter_seqs\n",
    "\n",
    "from qiime2 import Artifact, Visualization\n",
    "from qiime2.plugins import demux\n",
    "from qiime2.plugins.cutadapt.methods import trim_paired\n",
    "\n",
    "import matplotlib.pyplot as plt\n",
    "\n",
    "%matplotlib inline"
   ]
  },
  {
   "cell_type": "code",
   "execution_count": 7,
   "id": "af39c6cb",
   "metadata": {
    "ExecuteTime": {
     "end_time": "2023-03-13T16:16:01.035218Z",
     "start_time": "2023-03-13T16:16:01.030715Z"
    }
   },
   "outputs": [],
   "source": [
    "# Parameters\n",
    "experiment_name = \"thayane-PM\"\n",
    "base_dir = \"/home/lauro/nupeb/rede-micro/redemicro-thayane\"\n",
    "metadata_file = \"/home/lauro/nupeb/rede-micro/redemicro-thayane/data/metadata.tsv\""
   ]
  },
  {
   "cell_type": "code",
   "execution_count": 12,
   "id": "3faab71d",
   "metadata": {
    "ExecuteTime": {
     "end_time": "2023-03-13T16:24:07.158363Z",
     "start_time": "2023-03-13T16:24:07.151645Z"
    }
   },
   "outputs": [],
   "source": [
    "# Define paths\n",
    "experiment_folder = os.path.abspath(os.path.join(base_dir, 'experiments', experiment_name))\n",
    "data_folder = os.path.join(base_dir, 'data')\n",
    "qiime_folder = os.path.join(experiment_folder, 'qiime-artifacts')\n",
    "\n",
    "demux_single_path = os.path.join(data_folder, 'manifest-single.csv')\n",
    "demux_paired_path = os.path.join(data_folder, 'manifest-paired.csv')"
   ]
  },
  {
   "cell_type": "code",
   "execution_count": 17,
   "id": "818efe8a",
   "metadata": {
    "ExecuteTime": {
     "end_time": "2023-03-13T17:03:39.689803Z",
     "start_time": "2023-03-13T16:32:12.642808Z"
    }
   },
   "outputs": [
    {
     "data": {
      "text/plain": [
       "'/home/lauro/nupeb/rede-micro/redemicro-thayane/experiments/thayane-PM/qiime-artifacts/demux-paired.qza'"
      ]
     },
     "execution_count": 17,
     "metadata": {},
     "output_type": "execute_result"
    }
   ],
   "source": [
    "# demux_single = artifact = Artifact.import_data(\n",
    "#         'SampleData[SequencesWithQuality]', \n",
    "#         demux_single_path, \n",
    "#         view_type='SingleEndFastqManifestPhred33')\n",
    "# demux_single.save(os.path.join(qiime_folder, 'demux-single.qza'))\n",
    "\n",
    "\n",
    "demux_paired = artifact = Artifact.import_data(\n",
    "        'SampleData[PairedEndSequencesWithQuality]', \n",
    "        demux_paired_path, \n",
    "        view_type='PairedEndFastqManifestPhred33')\n",
    "demux_paired.save(os.path.join(qiime_folder, 'demux-paired.qza'))"
   ]
  },
  {
   "cell_type": "code",
   "execution_count": null,
   "id": "f34dc837",
   "metadata": {},
   "outputs": [],
   "source": [
    "Visualization.save(demux.visualizers.summarize(demux_single).visualization, filepath = os.path.join(\n",
    "    qiime_folder, \n",
    "    'demux-single.qzv'))\n",
    "\n",
    "Visualization.save(demux.visualizers.summarize(demux_paired).visualization, filepath = os.path.join(\n",
    "    qiime_folder, \n",
    "    'demux-paired.qzv'))"
   ]
  },
  {
   "cell_type": "code",
   "execution_count": null,
   "id": "6108dd01",
   "metadata": {},
   "outputs": [],
   "source": [
    "forward_primer = 'CCTACGGGRSGCAGCAG'\n",
    "reverse_primer = 'GGACTACHVGGGTWTCTAAT'\n",
    "forward_reverse_complement = [str(Seq(forward_primer[0]).reverse_complement())]\n",
    "reverse_reverse_complement = [str(Seq(reverse_primer[0]).reverse_complement())]\n",
    "\n",
    "trim_paired_seqs = trim_paired(\n",
    "    demultiplexed_sequences=artifact,\n",
    "    front_f=forward_primer,\n",
    "    front_r=reverse_primer,\n",
    "#     adapter_f=reverse_reverse_complement,\n",
    "#     adapter_r=forward_reverse_complement,\n",
    "    cores=6,\n",
    "    overlap=12,\n",
    "    indels=False,\n",
    "    match_read_wildcards=True,\n",
    "    match_adapter_wildcards=True,\n",
    "    error_rate=0.15,\n",
    "    discard_untrimmed=True,\n",
    ").trimmed_sequences"
   ]
  }
 ],
 "metadata": {
  "kernelspec": {
   "display_name": "Python 3 (ipykernel)",
   "language": "python",
   "name": "python3"
  },
  "language_info": {
   "codemirror_mode": {
    "name": "ipython",
    "version": 3
   },
   "file_extension": ".py",
   "mimetype": "text/x-python",
   "name": "python",
   "nbconvert_exporter": "python",
   "pygments_lexer": "ipython3",
   "version": "3.8.12"
  }
 },
 "nbformat": 4,
 "nbformat_minor": 5
}
