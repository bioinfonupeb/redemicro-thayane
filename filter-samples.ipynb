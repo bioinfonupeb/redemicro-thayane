{
 "cells": [
  {
   "cell_type": "code",
   "execution_count": 3,
   "metadata": {
    "ExecuteTime": {
     "end_time": "2023-07-31T22:52:53.926680600Z",
     "start_time": "2023-07-31T22:52:53.878683800Z"
    },
    "collapsed": true
   },
   "outputs": [],
   "source": [
    "import os\n",
    "from qiime2 import Artifact\n",
    "from qiime2 import Visualization\n",
    "from qiime2 import Metadata\n",
    "import pandas as pd\n",
    "\n",
    "from qiime2.plugins.feature_table.methods import filter_samples\n"
   ]
  },
  {
   "cell_type": "code",
   "execution_count": null,
   "metadata": {
    "collapsed": false
   },
   "outputs": [],
   "source": [
    "metadata_path = os.path.join('.', 'data', 'paired-end-metadata.tsv')\n",
    "artifacts_path = os.path.join('.', 'experiments', 'thayane-PM-paired-end-trim', 'qiime-artifacts')\n",
    "tabs_path = os.path.join(artifacts_path, 'dada2-tabs.qza')\n",
    "seqs_path = os.path.join(artifacts_path, 'dada2-reps.qza')"
   ]
  },
  {
   "cell_type": "code",
   "execution_count": null,
   "metadata": {
    "collapsed": false
   },
   "outputs": [],
   "source": [
    "tabs = Artifact.load(tabs_path)\n",
    "seqs = Artifact.load(seqs_path)\n",
    "metadata = Metadata.load(metadata_path)"
   ]
  },
  {
   "cell_type": "code",
   "execution_count": null,
   "metadata": {
    "collapsed": false
   },
   "outputs": [],
   "source": [
    "samples_ids = metadata.index.tolist()\n",
    "samples_ids"
   ]
  },
  {
   "cell_type": "code",
   "execution_count": null,
   "metadata": {
    "collapsed": false
   },
   "outputs": [],
   "source": [
    "filtered_tabs, filtered_seqs = filter_samples(table=tabs, metadata=metadata)"
   ]
  }
 ],
 "metadata": {
  "kernelspec": {
   "display_name": "Python 3",
   "language": "python",
   "name": "python3"
  },
  "language_info": {
   "codemirror_mode": {
    "name": "ipython",
    "version": 2
   },
   "file_extension": ".py",
   "mimetype": "text/x-python",
   "name": "python",
   "nbconvert_exporter": "python",
   "pygments_lexer": "ipython2",
   "version": "2.7.6"
  }
 },
 "nbformat": 4,
 "nbformat_minor": 0
}
